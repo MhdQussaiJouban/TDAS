{
  "cells": [
    {
      "cell_type": "code",
      "execution_count": null,
      "metadata": {
        "colab": {
          "base_uri": "https://localhost:8080/"
        },
        "id": "aVfPXdU-bMLn",
        "outputId": "9bd85a6f-f6aa-4861-940f-17d353018cc5"
      },
      "outputs": [
        {
          "output_type": "stream",
          "name": "stderr",
          "text": [
            "[nltk_data] Downloading package stopwords to /root/nltk_data...\n",
            "[nltk_data]   Unzipping corpora/stopwords.zip.\n",
            "[nltk_data] Downloading package punkt to /root/nltk_data...\n",
            "[nltk_data]   Unzipping tokenizers/punkt.zip.\n",
            "[nltk_data] Downloading package averaged_perceptron_tagger to\n",
            "[nltk_data]     /root/nltk_data...\n",
            "[nltk_data]   Unzipping taggers/averaged_perceptron_tagger.zip.\n"
          ]
        },
        {
          "output_type": "stream",
          "name": "stdout",
          "text": [
            "Mounted at /content/gdrive\n"
          ]
        }
      ],
      "source": [
        "from datetime import datetime\n",
        "import numpy as np\n",
        "import pandas as pd\n",
        "from sklearn.preprocessing import LabelEncoder\n",
        "from sklearn.model_selection import train_test_split\n",
        "from sklearn.ensemble import RandomForestClassifier, ExtraTreesClassifier\n",
        "from sklearn.linear_model import SGDClassifier, LogisticRegression\n",
        "from sklearn.naive_bayes import GaussianNB\n",
        "from sklearn.neural_network import MLPClassifier\n",
        "from sklearn.svm import SVC\n",
        "from sklearn.neighbors import KNeighborsClassifier\n",
        "from sklearn.model_selection import GridSearchCV\n",
        "from sklearn.ensemble import StackingClassifier\n",
        "from sklearn.metrics import confusion_matrix\n",
        "from sklearn.metrics import ConfusionMatrixDisplay\n",
        "from sklearn.metrics import accuracy_score, recall_score, precision_score, f1_score, fbeta_score, classification_report, matthews_corrcoef\n",
        "from sklearn.metrics import make_scorer \n",
        "import matplotlib.pyplot as plt\n",
        "import gensim.downloader as api\n",
        "\n",
        "import nltk\n",
        "from nltk.tokenize import word_tokenize\n",
        "from nltk import pos_tag\n",
        "nltk.download('stopwords')\n",
        "nltk.download('punkt')\n",
        "nltk.download('averaged_perceptron_tagger')\n",
        "\n",
        "from google.colab import drive\n",
        "drive.mount('/content/gdrive')\n",
        "dir_name = \"/content/gdrive/MyDrive/Thesis/\""
      ]
    },
    {
      "cell_type": "code",
      "execution_count": null,
      "metadata": {
        "colab": {
          "base_uri": "https://localhost:8080/",
          "height": 423
        },
        "id": "vxr47BS1rsLu",
        "outputId": "22de957f-c3cb-4799-8513-881b8152fcbb"
      },
      "outputs": [
        {
          "output_type": "execute_result",
          "data": {
            "text/plain": [
              "                                                  text  label\n",
              "0                           Rofl. Its true to its name      0\n",
              "1    The guy did some bitching but I acted like i'd...      0\n",
              "2    Pity, * was in mood for that. So...any other s...      0\n",
              "3                 Will ü b going to esplanade fr home?      0\n",
              "4    This is the 2nd time we have tried 2 contact u...      1\n",
              "..                                                 ...    ...\n",
              "952  hows my favourite person today? r u workin har...      0\n",
              "953                      How much you got for cleaning      0\n",
              "954  Sorry da. I gone mad so many pending works wha...      0\n",
              "955                                 Wat time ü finish?      0\n",
              "956                    Just glad to be talking to you.      0\n",
              "\n",
              "[957 rows x 2 columns]"
            ],
            "text/html": [
              "\n",
              "  <div id=\"df-4be8abc4-1361-4932-8a4f-4517b4f5bef1\">\n",
              "    <div class=\"colab-df-container\">\n",
              "      <div>\n",
              "<style scoped>\n",
              "    .dataframe tbody tr th:only-of-type {\n",
              "        vertical-align: middle;\n",
              "    }\n",
              "\n",
              "    .dataframe tbody tr th {\n",
              "        vertical-align: top;\n",
              "    }\n",
              "\n",
              "    .dataframe thead th {\n",
              "        text-align: right;\n",
              "    }\n",
              "</style>\n",
              "<table border=\"1\" class=\"dataframe\">\n",
              "  <thead>\n",
              "    <tr style=\"text-align: right;\">\n",
              "      <th></th>\n",
              "      <th>text</th>\n",
              "      <th>label</th>\n",
              "    </tr>\n",
              "  </thead>\n",
              "  <tbody>\n",
              "    <tr>\n",
              "      <th>0</th>\n",
              "      <td>Rofl. Its true to its name</td>\n",
              "      <td>0</td>\n",
              "    </tr>\n",
              "    <tr>\n",
              "      <th>1</th>\n",
              "      <td>The guy did some bitching but I acted like i'd...</td>\n",
              "      <td>0</td>\n",
              "    </tr>\n",
              "    <tr>\n",
              "      <th>2</th>\n",
              "      <td>Pity, * was in mood for that. So...any other s...</td>\n",
              "      <td>0</td>\n",
              "    </tr>\n",
              "    <tr>\n",
              "      <th>3</th>\n",
              "      <td>Will ü b going to esplanade fr home?</td>\n",
              "      <td>0</td>\n",
              "    </tr>\n",
              "    <tr>\n",
              "      <th>4</th>\n",
              "      <td>This is the 2nd time we have tried 2 contact u...</td>\n",
              "      <td>1</td>\n",
              "    </tr>\n",
              "    <tr>\n",
              "      <th>...</th>\n",
              "      <td>...</td>\n",
              "      <td>...</td>\n",
              "    </tr>\n",
              "    <tr>\n",
              "      <th>952</th>\n",
              "      <td>hows my favourite person today? r u workin har...</td>\n",
              "      <td>0</td>\n",
              "    </tr>\n",
              "    <tr>\n",
              "      <th>953</th>\n",
              "      <td>How much you got for cleaning</td>\n",
              "      <td>0</td>\n",
              "    </tr>\n",
              "    <tr>\n",
              "      <th>954</th>\n",
              "      <td>Sorry da. I gone mad so many pending works wha...</td>\n",
              "      <td>0</td>\n",
              "    </tr>\n",
              "    <tr>\n",
              "      <th>955</th>\n",
              "      <td>Wat time ü finish?</td>\n",
              "      <td>0</td>\n",
              "    </tr>\n",
              "    <tr>\n",
              "      <th>956</th>\n",
              "      <td>Just glad to be talking to you.</td>\n",
              "      <td>0</td>\n",
              "    </tr>\n",
              "  </tbody>\n",
              "</table>\n",
              "<p>957 rows × 2 columns</p>\n",
              "</div>\n",
              "      <button class=\"colab-df-convert\" onclick=\"convertToInteractive('df-4be8abc4-1361-4932-8a4f-4517b4f5bef1')\"\n",
              "              title=\"Convert this dataframe to an interactive table.\"\n",
              "              style=\"display:none;\">\n",
              "        \n",
              "  <svg xmlns=\"http://www.w3.org/2000/svg\" height=\"24px\"viewBox=\"0 0 24 24\"\n",
              "       width=\"24px\">\n",
              "    <path d=\"M0 0h24v24H0V0z\" fill=\"none\"/>\n",
              "    <path d=\"M18.56 5.44l.94 2.06.94-2.06 2.06-.94-2.06-.94-.94-2.06-.94 2.06-2.06.94zm-11 1L8.5 8.5l.94-2.06 2.06-.94-2.06-.94L8.5 2.5l-.94 2.06-2.06.94zm10 10l.94 2.06.94-2.06 2.06-.94-2.06-.94-.94-2.06-.94 2.06-2.06.94z\"/><path d=\"M17.41 7.96l-1.37-1.37c-.4-.4-.92-.59-1.43-.59-.52 0-1.04.2-1.43.59L10.3 9.45l-7.72 7.72c-.78.78-.78 2.05 0 2.83L4 21.41c.39.39.9.59 1.41.59.51 0 1.02-.2 1.41-.59l7.78-7.78 2.81-2.81c.8-.78.8-2.07 0-2.86zM5.41 20L4 18.59l7.72-7.72 1.47 1.35L5.41 20z\"/>\n",
              "  </svg>\n",
              "      </button>\n",
              "      \n",
              "  <style>\n",
              "    .colab-df-container {\n",
              "      display:flex;\n",
              "      flex-wrap:wrap;\n",
              "      gap: 12px;\n",
              "    }\n",
              "\n",
              "    .colab-df-convert {\n",
              "      background-color: #E8F0FE;\n",
              "      border: none;\n",
              "      border-radius: 50%;\n",
              "      cursor: pointer;\n",
              "      display: none;\n",
              "      fill: #1967D2;\n",
              "      height: 32px;\n",
              "      padding: 0 0 0 0;\n",
              "      width: 32px;\n",
              "    }\n",
              "\n",
              "    .colab-df-convert:hover {\n",
              "      background-color: #E2EBFA;\n",
              "      box-shadow: 0px 1px 2px rgba(60, 64, 67, 0.3), 0px 1px 3px 1px rgba(60, 64, 67, 0.15);\n",
              "      fill: #174EA6;\n",
              "    }\n",
              "\n",
              "    [theme=dark] .colab-df-convert {\n",
              "      background-color: #3B4455;\n",
              "      fill: #D2E3FC;\n",
              "    }\n",
              "\n",
              "    [theme=dark] .colab-df-convert:hover {\n",
              "      background-color: #434B5C;\n",
              "      box-shadow: 0px 1px 3px 1px rgba(0, 0, 0, 0.15);\n",
              "      filter: drop-shadow(0px 1px 2px rgba(0, 0, 0, 0.3));\n",
              "      fill: #FFFFFF;\n",
              "    }\n",
              "  </style>\n",
              "\n",
              "      <script>\n",
              "        const buttonEl =\n",
              "          document.querySelector('#df-4be8abc4-1361-4932-8a4f-4517b4f5bef1 button.colab-df-convert');\n",
              "        buttonEl.style.display =\n",
              "          google.colab.kernel.accessAllowed ? 'block' : 'none';\n",
              "\n",
              "        async function convertToInteractive(key) {\n",
              "          const element = document.querySelector('#df-4be8abc4-1361-4932-8a4f-4517b4f5bef1');\n",
              "          const dataTable =\n",
              "            await google.colab.kernel.invokeFunction('convertToInteractive',\n",
              "                                                     [key], {});\n",
              "          if (!dataTable) return;\n",
              "\n",
              "          const docLinkHtml = 'Like what you see? Visit the ' +\n",
              "            '<a target=\"_blank\" href=https://colab.research.google.com/notebooks/data_table.ipynb>data table notebook</a>'\n",
              "            + ' to learn more about interactive tables.';\n",
              "          element.innerHTML = '';\n",
              "          dataTable['output_type'] = 'display_data';\n",
              "          await google.colab.output.renderOutput(dataTable, element);\n",
              "          const docLink = document.createElement('div');\n",
              "          docLink.innerHTML = docLinkHtml;\n",
              "          element.appendChild(docLink);\n",
              "        }\n",
              "      </script>\n",
              "    </div>\n",
              "  </div>\n",
              "  "
            ]
          },
          "metadata": {},
          "execution_count": 2
        }
      ],
      "source": [
        "def get_raw_data(dir_name, file_name):\n",
        "    #  load data\n",
        "    data = pd.read_csv('{}{}.csv'.format(dir_name,file_name), encoding = 'latin-1', usecols=['Message_body', 'Label'])\n",
        "    data = data.rename(columns={'Label': 'label', 'Message_body': 'text'})\n",
        "    le = LabelEncoder()\n",
        "    data['label'] = le.fit_transform( data['label'])\n",
        "    return data\n",
        "\n",
        "raw_train_data = get_raw_data(dir_name + 'datasets/email_spam/', 'train')\n",
        "raw_train_data"
      ]
    },
    {
      "cell_type": "code",
      "execution_count": null,
      "metadata": {
        "colab": {
          "base_uri": "https://localhost:8080/"
        },
        "id": "ZAqtugl1bzir",
        "outputId": "cd0c80be-2173-4a09-eb47-33f67e876a66"
      },
      "outputs": [
        {
          "output_type": "execute_result",
          "data": {
            "text/plain": [
              "False"
            ]
          },
          "metadata": {},
          "execution_count": 3
        }
      ],
      "source": [
        "raw_train_data['text'].is_unique"
      ]
    },
    {
      "cell_type": "code",
      "execution_count": null,
      "metadata": {
        "colab": {
          "base_uri": "https://localhost:8080/"
        },
        "id": "5Xhz2Qrub2GA",
        "outputId": "2f786528-b6b4-4be4-e4d3-6a427a7fd9c5"
      },
      "outputs": [
        {
          "output_type": "execute_result",
          "data": {
            "text/plain": [
              "True"
            ]
          },
          "metadata": {},
          "execution_count": 4
        }
      ],
      "source": [
        "raw_train_data.drop_duplicates(subset=['text'], inplace=True)\n",
        "raw_train_data['text'].is_unique"
      ]
    },
    {
      "cell_type": "code",
      "execution_count": null,
      "metadata": {
        "colab": {
          "base_uri": "https://localhost:8080/",
          "height": 423
        },
        "id": "BwKJ9D7qb6Fb",
        "outputId": "d8fa31db-3c90-4a12-ab5a-39048102b360"
      },
      "outputs": [
        {
          "output_type": "execute_result",
          "data": {
            "text/plain": [
              "                                                  text  label\n",
              "0                           Rofl. Its true to its name      0\n",
              "1    The guy did some bitching but I acted like i'd...      0\n",
              "2    Pity, * was in mood for that. So...any other s...      0\n",
              "3                 Will ü b going to esplanade fr home?      0\n",
              "4    This is the 2nd time we have tried 2 contact u...      1\n",
              "..                                                 ...    ...\n",
              "952  hows my favourite person today? r u workin har...      0\n",
              "953                      How much you got for cleaning      0\n",
              "954  Sorry da. I gone mad so many pending works wha...      0\n",
              "955                                 Wat time ü finish?      0\n",
              "956                    Just glad to be talking to you.      0\n",
              "\n",
              "[945 rows x 2 columns]"
            ],
            "text/html": [
              "\n",
              "  <div id=\"df-ee4783ac-7621-4f7a-8fc9-215bc10ecd6a\">\n",
              "    <div class=\"colab-df-container\">\n",
              "      <div>\n",
              "<style scoped>\n",
              "    .dataframe tbody tr th:only-of-type {\n",
              "        vertical-align: middle;\n",
              "    }\n",
              "\n",
              "    .dataframe tbody tr th {\n",
              "        vertical-align: top;\n",
              "    }\n",
              "\n",
              "    .dataframe thead th {\n",
              "        text-align: right;\n",
              "    }\n",
              "</style>\n",
              "<table border=\"1\" class=\"dataframe\">\n",
              "  <thead>\n",
              "    <tr style=\"text-align: right;\">\n",
              "      <th></th>\n",
              "      <th>text</th>\n",
              "      <th>label</th>\n",
              "    </tr>\n",
              "  </thead>\n",
              "  <tbody>\n",
              "    <tr>\n",
              "      <th>0</th>\n",
              "      <td>Rofl. Its true to its name</td>\n",
              "      <td>0</td>\n",
              "    </tr>\n",
              "    <tr>\n",
              "      <th>1</th>\n",
              "      <td>The guy did some bitching but I acted like i'd...</td>\n",
              "      <td>0</td>\n",
              "    </tr>\n",
              "    <tr>\n",
              "      <th>2</th>\n",
              "      <td>Pity, * was in mood for that. So...any other s...</td>\n",
              "      <td>0</td>\n",
              "    </tr>\n",
              "    <tr>\n",
              "      <th>3</th>\n",
              "      <td>Will ü b going to esplanade fr home?</td>\n",
              "      <td>0</td>\n",
              "    </tr>\n",
              "    <tr>\n",
              "      <th>4</th>\n",
              "      <td>This is the 2nd time we have tried 2 contact u...</td>\n",
              "      <td>1</td>\n",
              "    </tr>\n",
              "    <tr>\n",
              "      <th>...</th>\n",
              "      <td>...</td>\n",
              "      <td>...</td>\n",
              "    </tr>\n",
              "    <tr>\n",
              "      <th>952</th>\n",
              "      <td>hows my favourite person today? r u workin har...</td>\n",
              "      <td>0</td>\n",
              "    </tr>\n",
              "    <tr>\n",
              "      <th>953</th>\n",
              "      <td>How much you got for cleaning</td>\n",
              "      <td>0</td>\n",
              "    </tr>\n",
              "    <tr>\n",
              "      <th>954</th>\n",
              "      <td>Sorry da. I gone mad so many pending works wha...</td>\n",
              "      <td>0</td>\n",
              "    </tr>\n",
              "    <tr>\n",
              "      <th>955</th>\n",
              "      <td>Wat time ü finish?</td>\n",
              "      <td>0</td>\n",
              "    </tr>\n",
              "    <tr>\n",
              "      <th>956</th>\n",
              "      <td>Just glad to be talking to you.</td>\n",
              "      <td>0</td>\n",
              "    </tr>\n",
              "  </tbody>\n",
              "</table>\n",
              "<p>945 rows × 2 columns</p>\n",
              "</div>\n",
              "      <button class=\"colab-df-convert\" onclick=\"convertToInteractive('df-ee4783ac-7621-4f7a-8fc9-215bc10ecd6a')\"\n",
              "              title=\"Convert this dataframe to an interactive table.\"\n",
              "              style=\"display:none;\">\n",
              "        \n",
              "  <svg xmlns=\"http://www.w3.org/2000/svg\" height=\"24px\"viewBox=\"0 0 24 24\"\n",
              "       width=\"24px\">\n",
              "    <path d=\"M0 0h24v24H0V0z\" fill=\"none\"/>\n",
              "    <path d=\"M18.56 5.44l.94 2.06.94-2.06 2.06-.94-2.06-.94-.94-2.06-.94 2.06-2.06.94zm-11 1L8.5 8.5l.94-2.06 2.06-.94-2.06-.94L8.5 2.5l-.94 2.06-2.06.94zm10 10l.94 2.06.94-2.06 2.06-.94-2.06-.94-.94-2.06-.94 2.06-2.06.94z\"/><path d=\"M17.41 7.96l-1.37-1.37c-.4-.4-.92-.59-1.43-.59-.52 0-1.04.2-1.43.59L10.3 9.45l-7.72 7.72c-.78.78-.78 2.05 0 2.83L4 21.41c.39.39.9.59 1.41.59.51 0 1.02-.2 1.41-.59l7.78-7.78 2.81-2.81c.8-.78.8-2.07 0-2.86zM5.41 20L4 18.59l7.72-7.72 1.47 1.35L5.41 20z\"/>\n",
              "  </svg>\n",
              "      </button>\n",
              "      \n",
              "  <style>\n",
              "    .colab-df-container {\n",
              "      display:flex;\n",
              "      flex-wrap:wrap;\n",
              "      gap: 12px;\n",
              "    }\n",
              "\n",
              "    .colab-df-convert {\n",
              "      background-color: #E8F0FE;\n",
              "      border: none;\n",
              "      border-radius: 50%;\n",
              "      cursor: pointer;\n",
              "      display: none;\n",
              "      fill: #1967D2;\n",
              "      height: 32px;\n",
              "      padding: 0 0 0 0;\n",
              "      width: 32px;\n",
              "    }\n",
              "\n",
              "    .colab-df-convert:hover {\n",
              "      background-color: #E2EBFA;\n",
              "      box-shadow: 0px 1px 2px rgba(60, 64, 67, 0.3), 0px 1px 3px 1px rgba(60, 64, 67, 0.15);\n",
              "      fill: #174EA6;\n",
              "    }\n",
              "\n",
              "    [theme=dark] .colab-df-convert {\n",
              "      background-color: #3B4455;\n",
              "      fill: #D2E3FC;\n",
              "    }\n",
              "\n",
              "    [theme=dark] .colab-df-convert:hover {\n",
              "      background-color: #434B5C;\n",
              "      box-shadow: 0px 1px 3px 1px rgba(0, 0, 0, 0.15);\n",
              "      filter: drop-shadow(0px 1px 2px rgba(0, 0, 0, 0.3));\n",
              "      fill: #FFFFFF;\n",
              "    }\n",
              "  </style>\n",
              "\n",
              "      <script>\n",
              "        const buttonEl =\n",
              "          document.querySelector('#df-ee4783ac-7621-4f7a-8fc9-215bc10ecd6a button.colab-df-convert');\n",
              "        buttonEl.style.display =\n",
              "          google.colab.kernel.accessAllowed ? 'block' : 'none';\n",
              "\n",
              "        async function convertToInteractive(key) {\n",
              "          const element = document.querySelector('#df-ee4783ac-7621-4f7a-8fc9-215bc10ecd6a');\n",
              "          const dataTable =\n",
              "            await google.colab.kernel.invokeFunction('convertToInteractive',\n",
              "                                                     [key], {});\n",
              "          if (!dataTable) return;\n",
              "\n",
              "          const docLinkHtml = 'Like what you see? Visit the ' +\n",
              "            '<a target=\"_blank\" href=https://colab.research.google.com/notebooks/data_table.ipynb>data table notebook</a>'\n",
              "            + ' to learn more about interactive tables.';\n",
              "          element.innerHTML = '';\n",
              "          dataTable['output_type'] = 'display_data';\n",
              "          await google.colab.output.renderOutput(dataTable, element);\n",
              "          const docLink = document.createElement('div');\n",
              "          docLink.innerHTML = docLinkHtml;\n",
              "          element.appendChild(docLink);\n",
              "        }\n",
              "      </script>\n",
              "    </div>\n",
              "  </div>\n",
              "  "
            ]
          },
          "metadata": {},
          "execution_count": 5
        }
      ],
      "source": [
        "raw_train_data"
      ]
    },
    {
      "cell_type": "code",
      "execution_count": null,
      "metadata": {
        "colab": {
          "base_uri": "https://localhost:8080/",
          "height": 499
        },
        "id": "s2Uyx7xqy4BU",
        "outputId": "b0f94556-6ecc-4ac3-8719-656e7d8b36a7"
      },
      "outputs": [
        {
          "output_type": "display_data",
          "data": {
            "text/plain": [
              "<Figure size 600x600 with 1 Axes>"
            ],
            "image/png": "[encoded data removed]"
          },
          "metadata": {}
        }
      ],
      "source": [
        "def get_dataset_statistics(data):\n",
        "    dataset_statistics = {'Number of emails': [data['label'].value_counts()[0], data['label'].value_counts()[1]]}\n",
        "    df = pd.DataFrame(dataset_statistics, index=['Non-Spam', 'Spam'])\n",
        "    df.plot(kind='pie', y='Number of emails', figsize=(6, 6), fontsize=14,\n",
        "            autopct=lambda v: '{:.0f} ({:.1f}%)'.format(v / 100 * data['label'].count(), v))\n",
        "    \n",
        "# Raw data statistics\n",
        "get_dataset_statistics(raw_train_data)"
      ]
    },
    {
      "cell_type": "code",
      "execution_count": null,
      "metadata": {
        "colab": {
          "base_uri": "https://localhost:8080/",
          "height": 423
        },
        "id": "oyXq2yIytdHV",
        "outputId": "ca587f76-e003-42ab-cd7f-d01e2d8dc6b3"
      },
      "outputs": [
        {
          "output_type": "execute_result",
          "data": {
            "text/plain": [
              "                                                  text  label\n",
              "0    UpgrdCentre Orange customer, you may now claim...      1\n",
              "1    Loan for any purpose £500 - £75,000. Homeowner...      1\n",
              "2    Congrats! Nokia 3650 video camera phone is you...      1\n",
              "3    URGENT! Your Mobile number has been awarded wi...      1\n",
              "4    Someone has contacted our dating service and e...      1\n",
              "..                                                 ...    ...\n",
              "120  7 wonders in My WORLD 7th You 6th Ur style 5th...      0\n",
              "121  Try to do something dear. You read something f...      0\n",
              "122  Sun ah... Thk mayb can if dun have anythin on....      0\n",
              "123  SYMPTOMS when U are in love: \"1.U like listeni...      0\n",
              "124  Great. Have a safe trip. Dont panic surrender ...      0\n",
              "\n",
              "[125 rows x 2 columns]"
            ],
            "text/html": [
              "\n",
              "  <div id=\"df-14a02215-3e63-415c-b2b6-2986887c3e12\">\n",
              "    <div class=\"colab-df-container\">\n",
              "      <div>\n",
              "<style scoped>\n",
              "    .dataframe tbody tr th:only-of-type {\n",
              "        vertical-align: middle;\n",
              "    }\n",
              "\n",
              "    .dataframe tbody tr th {\n",
              "        vertical-align: top;\n",
              "    }\n",
              "\n",
              "    .dataframe thead th {\n",
              "        text-align: right;\n",
              "    }\n",
              "</style>\n",
              "<table border=\"1\" class=\"dataframe\">\n",
              "  <thead>\n",
              "    <tr style=\"text-align: right;\">\n",
              "      <th></th>\n",
              "      <th>text</th>\n",
              "      <th>label</th>\n",
              "    </tr>\n",
              "  </thead>\n",
              "  <tbody>\n",
              "    <tr>\n",
              "      <th>0</th>\n",
              "      <td>UpgrdCentre Orange customer, you may now claim...</td>\n",
              "      <td>1</td>\n",
              "    </tr>\n",
              "    <tr>\n",
              "      <th>1</th>\n",
              "      <td>Loan for any purpose £500 - £75,000. Homeowner...</td>\n",
              "      <td>1</td>\n",
              "    </tr>\n",
              "    <tr>\n",
              "      <th>2</th>\n",
              "      <td>Congrats! Nokia 3650 video camera phone is you...</td>\n",
              "      <td>1</td>\n",
              "    </tr>\n",
              "    <tr>\n",
              "      <th>3</th>\n",
              "      <td>URGENT! Your Mobile number has been awarded wi...</td>\n",
              "      <td>1</td>\n",
              "    </tr>\n",
              "    <tr>\n",
              "      <th>4</th>\n",
              "      <td>Someone has contacted our dating service and e...</td>\n",
              "      <td>1</td>\n",
              "    </tr>\n",
              "    <tr>\n",
              "      <th>...</th>\n",
              "      <td>...</td>\n",
              "      <td>...</td>\n",
              "    </tr>\n",
              "    <tr>\n",
              "      <th>120</th>\n",
              "      <td>7 wonders in My WORLD 7th You 6th Ur style 5th...</td>\n",
              "      <td>0</td>\n",
              "    </tr>\n",
              "    <tr>\n",
              "      <th>121</th>\n",
              "      <td>Try to do something dear. You read something f...</td>\n",
              "      <td>0</td>\n",
              "    </tr>\n",
              "    <tr>\n",
              "      <th>122</th>\n",
              "      <td>Sun ah... Thk mayb can if dun have anythin on....</td>\n",
              "      <td>0</td>\n",
              "    </tr>\n",
              "    <tr>\n",
              "      <th>123</th>\n",
              "      <td>SYMPTOMS when U are in love: \"1.U like listeni...</td>\n",
              "      <td>0</td>\n",
              "    </tr>\n",
              "    <tr>\n",
              "      <th>124</th>\n",
              "      <td>Great. Have a safe trip. Dont panic surrender ...</td>\n",
              "      <td>0</td>\n",
              "    </tr>\n",
              "  </tbody>\n",
              "</table>\n",
              "<p>125 rows × 2 columns</p>\n",
              "</div>\n",
              "      <button class=\"colab-df-convert\" onclick=\"convertToInteractive('df-14a02215-3e63-415c-b2b6-2986887c3e12')\"\n",
              "              title=\"Convert this dataframe to an interactive table.\"\n",
              "              style=\"display:none;\">\n",
              "        \n",
              "  <svg xmlns=\"http://www.w3.org/2000/svg\" height=\"24px\"viewBox=\"0 0 24 24\"\n",
              "       width=\"24px\">\n",
              "    <path d=\"M0 0h24v24H0V0z\" fill=\"none\"/>\n",
              "    <path d=\"M18.56 5.44l.94 2.06.94-2.06 2.06-.94-2.06-.94-.94-2.06-.94 2.06-2.06.94zm-11 1L8.5 8.5l.94-2.06 2.06-.94-2.06-.94L8.5 2.5l-.94 2.06-2.06.94zm10 10l.94 2.06.94-2.06 2.06-.94-2.06-.94-.94-2.06-.94 2.06-2.06.94z\"/><path d=\"M17.41 7.96l-1.37-1.37c-.4-.4-.92-.59-1.43-.59-.52 0-1.04.2-1.43.59L10.3 9.45l-7.72 7.72c-.78.78-.78 2.05 0 2.83L4 21.41c.39.39.9.59 1.41.59.51 0 1.02-.2 1.41-.59l7.78-7.78 2.81-2.81c.8-.78.8-2.07 0-2.86zM5.41 20L4 18.59l7.72-7.72 1.47 1.35L5.41 20z\"/>\n",
              "  </svg>\n",
              "      </button>\n",
              "      \n",
              "  <style>\n",
              "    .colab-df-container {\n",
              "      display:flex;\n",
              "      flex-wrap:wrap;\n",
              "      gap: 12px;\n",
              "    }\n",
              "\n",
              "    .colab-df-convert {\n",
              "      background-color: #E8F0FE;\n",
              "      border: none;\n",
              "      border-radius: 50%;\n",
              "      cursor: pointer;\n",
              "      display: none;\n",
              "      fill: #1967D2;\n",
              "      height: 32px;\n",
              "      padding: 0 0 0 0;\n",
              "      width: 32px;\n",
              "    }\n",
              "\n",
              "    .colab-df-convert:hover {\n",
              "      background-color: #E2EBFA;\n",
              "      box-shadow: 0px 1px 2px rgba(60, 64, 67, 0.3), 0px 1px 3px 1px rgba(60, 64, 67, 0.15);\n",
              "      fill: #174EA6;\n",
              "    }\n",
              "\n",
              "    [theme=dark] .colab-df-convert {\n",
              "      background-color: #3B4455;\n",
              "      fill: #D2E3FC;\n",
              "    }\n",
              "\n",
              "    [theme=dark] .colab-df-convert:hover {\n",
              "      background-color: #434B5C;\n",
              "      box-shadow: 0px 1px 3px 1px rgba(0, 0, 0, 0.15);\n",
              "      filter: drop-shadow(0px 1px 2px rgba(0, 0, 0, 0.3));\n",
              "      fill: #FFFFFF;\n",
              "    }\n",
              "  </style>\n",
              "\n",
              "      <script>\n",
              "        const buttonEl =\n",
              "          document.querySelector('#df-14a02215-3e63-415c-b2b6-2986887c3e12 button.colab-df-convert');\n",
              "        buttonEl.style.display =\n",
              "          google.colab.kernel.accessAllowed ? 'block' : 'none';\n",
              "\n",
              "        async function convertToInteractive(key) {\n",
              "          const element = document.querySelector('#df-14a02215-3e63-415c-b2b6-2986887c3e12');\n",
              "          const dataTable =\n",
              "            await google.colab.kernel.invokeFunction('convertToInteractive',\n",
              "                                                     [key], {});\n",
              "          if (!dataTable) return;\n",
              "\n",
              "          const docLinkHtml = 'Like what you see? Visit the ' +\n",
              "            '<a target=\"_blank\" href=https://colab.research.google.com/notebooks/data_table.ipynb>data table notebook</a>'\n",
              "            + ' to learn more about interactive tables.';\n",
              "          element.innerHTML = '';\n",
              "          dataTable['output_type'] = 'display_data';\n",
              "          await google.colab.output.renderOutput(dataTable, element);\n",
              "          const docLink = document.createElement('div');\n",
              "          docLink.innerHTML = docLinkHtml;\n",
              "          element.appendChild(docLink);\n",
              "        }\n",
              "      </script>\n",
              "    </div>\n",
              "  </div>\n",
              "  "
            ]
          },
          "metadata": {},
          "execution_count": 13
        }
      ],
      "source": [
        "raw_test_data = get_raw_data(dir_name + 'datasets/email_spam/', 'test')\n",
        "raw_test_data"
      ]
    },
    {
      "cell_type": "code",
      "execution_count": null,
      "metadata": {
        "colab": {
          "base_uri": "https://localhost:8080/"
        },
        "id": "ypoapMEa3Dyb",
        "outputId": "13c2b669-5a55-4480-c4f4-aa317f3af2df"
      },
      "outputs": [
        {
          "output_type": "execute_result",
          "data": {
            "text/plain": [
              "1    76\n",
              "0    49\n",
              "Name: label, dtype: int64"
            ]
          },
          "metadata": {},
          "execution_count": 14
        }
      ],
      "source": [
        "raw_test_data['label'].value_counts()"
      ]
    },
    {
      "cell_type": "code",
      "execution_count": null,
      "metadata": {
        "colab": {
          "base_uri": "https://localhost:8080/",
          "height": 499
        },
        "id": "VQcnABAwtxge",
        "outputId": "7262a42a-2fd7-4608-b50d-90308df383cf"
      },
      "outputs": [
        {
          "output_type": "display_data",
          "data": {
            "text/plain": [
              "<Figure size 600x600 with 1 Axes>"
            ],
            "image/png": "[encoded data removed]"
          },
          "metadata": {}
        }
      ],
      "source": [
        "get_dataset_statistics(raw_test_data)"
      ]
    },
    {
      "cell_type": "markdown",
      "metadata": {
        "id": "qhzAeC1dMd1e"
      },
      "source": [
        "# Text Preprocessing "
      ]
    },
    {
      "cell_type": "code",
      "execution_count": null,
      "metadata": {
        "id": "LEz_7waOnKUr"
      },
      "outputs": [],
      "source": [
        "import requests\n",
        "stopwords_list = requests.get(\"https://github.com/stopwords-iso/stopwords-en/blob/master/stopwords-en.txt\").content\n",
        "stopwords = set(stopwords_list.decode().splitlines())"
      ]
    },
    {
      "cell_type": "code",
      "execution_count": null,
      "metadata": {
        "id": "224Sj8WG5Ivx"
      },
      "outputs": [],
      "source": [
        "import string\n",
        "from nltk.corpus import stopwords\n",
        "from sklearn.feature_extraction.text import ENGLISH_STOP_WORDS\n",
        "sklearn_stopwords = ENGLISH_STOP_WORDS\n",
        "\n",
        "stop_words = set(stopwords.words('english'))\n",
        "stop_words.update(sklearn_stopwords)\n",
        "\n",
        "def message_preprocessing(raw_message):\n",
        "  message_words = raw_message.translate(str.maketrans('', '', string.punctuation))\n",
        "  msg_tokens = word_tokenize(message_words.lower())\n",
        "  filtered_message = [token for token in msg_tokens if not token in stop_words]\n",
        "  return \" \".join(filtered_message)"
      ]
    },
    {
      "cell_type": "code",
      "execution_count": null,
      "metadata": {
        "colab": {
          "base_uri": "https://localhost:8080/",
          "height": 423
        },
        "id": "hjAjuuYv_5ul",
        "outputId": "6ffadf84-5add-401f-dc62-86cfc8b808c9"
      },
      "outputs": [
        {
          "output_type": "execute_result",
          "data": {
            "text/plain": [
              "                                                  text  label\n",
              "0                                            rofl true      0\n",
              "1    guy bitching acted like id interested buying w...      0\n",
              "2                          pity mood soany suggestions      0\n",
              "3                          ü b going esplanade fr home      0\n",
              "4    2nd time tried 2 contact u u £750 pound prize ...      1\n",
              "..                                                 ...    ...\n",
              "952  hows favourite person today r u workin hard sl...      0\n",
              "953                                       got cleaning      0\n",
              "954                    sorry da gone mad pending works      0\n",
              "955                                  wat time ü finish      0\n",
              "956                                       glad talking      0\n",
              "\n",
              "[940 rows x 2 columns]"
            ],
            "text/html": [
              "\n",
              "  <div id=\"df-a8fa60b6-89a1-4296-8be4-e5ae08de761c\">\n",
              "    <div class=\"colab-df-container\">\n",
              "      <div>\n",
              "<style scoped>\n",
              "    .dataframe tbody tr th:only-of-type {\n",
              "        vertical-align: middle;\n",
              "    }\n",
              "\n",
              "    .dataframe tbody tr th {\n",
              "        vertical-align: top;\n",
              "    }\n",
              "\n",
              "    .dataframe thead th {\n",
              "        text-align: right;\n",
              "    }\n",
              "</style>\n",
              "<table border=\"1\" class=\"dataframe\">\n",
              "  <thead>\n",
              "    <tr style=\"text-align: right;\">\n",
              "      <th></th>\n",
              "      <th>text</th>\n",
              "      <th>label</th>\n",
              "    </tr>\n",
              "  </thead>\n",
              "  <tbody>\n",
              "    <tr>\n",
              "      <th>0</th>\n",
              "      <td>rofl true</td>\n",
              "      <td>0</td>\n",
              "    </tr>\n",
              "    <tr>\n",
              "      <th>1</th>\n",
              "      <td>guy bitching acted like id interested buying w...</td>\n",
              "      <td>0</td>\n",
              "    </tr>\n",
              "    <tr>\n",
              "      <th>2</th>\n",
              "      <td>pity mood soany suggestions</td>\n",
              "      <td>0</td>\n",
              "    </tr>\n",
              "    <tr>\n",
              "      <th>3</th>\n",
              "      <td>ü b going esplanade fr home</td>\n",
              "      <td>0</td>\n",
              "    </tr>\n",
              "    <tr>\n",
              "      <th>4</th>\n",
              "      <td>2nd time tried 2 contact u u £750 pound prize ...</td>\n",
              "      <td>1</td>\n",
              "    </tr>\n",
              "    <tr>\n",
              "      <th>...</th>\n",
              "      <td>...</td>\n",
              "      <td>...</td>\n",
              "    </tr>\n",
              "    <tr>\n",
              "      <th>952</th>\n",
              "      <td>hows favourite person today r u workin hard sl...</td>\n",
              "      <td>0</td>\n",
              "    </tr>\n",
              "    <tr>\n",
              "      <th>953</th>\n",
              "      <td>got cleaning</td>\n",
              "      <td>0</td>\n",
              "    </tr>\n",
              "    <tr>\n",
              "      <th>954</th>\n",
              "      <td>sorry da gone mad pending works</td>\n",
              "      <td>0</td>\n",
              "    </tr>\n",
              "    <tr>\n",
              "      <th>955</th>\n",
              "      <td>wat time ü finish</td>\n",
              "      <td>0</td>\n",
              "    </tr>\n",
              "    <tr>\n",
              "      <th>956</th>\n",
              "      <td>glad talking</td>\n",
              "      <td>0</td>\n",
              "    </tr>\n",
              "  </tbody>\n",
              "</table>\n",
              "<p>940 rows × 2 columns</p>\n",
              "</div>\n",
              "      <button class=\"colab-df-convert\" onclick=\"convertToInteractive('df-a8fa60b6-89a1-4296-8be4-e5ae08de761c')\"\n",
              "              title=\"Convert this dataframe to an interactive table.\"\n",
              "              style=\"display:none;\">\n",
              "        \n",
              "  <svg xmlns=\"http://www.w3.org/2000/svg\" height=\"24px\"viewBox=\"0 0 24 24\"\n",
              "       width=\"24px\">\n",
              "    <path d=\"M0 0h24v24H0V0z\" fill=\"none\"/>\n",
              "    <path d=\"M18.56 5.44l.94 2.06.94-2.06 2.06-.94-2.06-.94-.94-2.06-.94 2.06-2.06.94zm-11 1L8.5 8.5l.94-2.06 2.06-.94-2.06-.94L8.5 2.5l-.94 2.06-2.06.94zm10 10l.94 2.06.94-2.06 2.06-.94-2.06-.94-.94-2.06-.94 2.06-2.06.94z\"/><path d=\"M17.41 7.96l-1.37-1.37c-.4-.4-.92-.59-1.43-.59-.52 0-1.04.2-1.43.59L10.3 9.45l-7.72 7.72c-.78.78-.78 2.05 0 2.83L4 21.41c.39.39.9.59 1.41.59.51 0 1.02-.2 1.41-.59l7.78-7.78 2.81-2.81c.8-.78.8-2.07 0-2.86zM5.41 20L4 18.59l7.72-7.72 1.47 1.35L5.41 20z\"/>\n",
              "  </svg>\n",
              "      </button>\n",
              "      \n",
              "  <style>\n",
              "    .colab-df-container {\n",
              "      display:flex;\n",
              "      flex-wrap:wrap;\n",
              "      gap: 12px;\n",
              "    }\n",
              "\n",
              "    .colab-df-convert {\n",
              "      background-color: #E8F0FE;\n",
              "      border: none;\n",
              "      border-radius: 50%;\n",
              "      cursor: pointer;\n",
              "      display: none;\n",
              "      fill: #1967D2;\n",
              "      height: 32px;\n",
              "      padding: 0 0 0 0;\n",
              "      width: 32px;\n",
              "    }\n",
              "\n",
              "    .colab-df-convert:hover {\n",
              "      background-color: #E2EBFA;\n",
              "      box-shadow: 0px 1px 2px rgba(60, 64, 67, 0.3), 0px 1px 3px 1px rgba(60, 64, 67, 0.15);\n",
              "      fill: #174EA6;\n",
              "    }\n",
              "\n",
              "    [theme=dark] .colab-df-convert {\n",
              "      background-color: #3B4455;\n",
              "      fill: #D2E3FC;\n",
              "    }\n",
              "\n",
              "    [theme=dark] .colab-df-convert:hover {\n",
              "      background-color: #434B5C;\n",
              "      box-shadow: 0px 1px 3px 1px rgba(0, 0, 0, 0.15);\n",
              "      filter: drop-shadow(0px 1px 2px rgba(0, 0, 0, 0.3));\n",
              "      fill: #FFFFFF;\n",
              "    }\n",
              "  </style>\n",
              "\n",
              "      <script>\n",
              "        const buttonEl =\n",
              "          document.querySelector('#df-a8fa60b6-89a1-4296-8be4-e5ae08de761c button.colab-df-convert');\n",
              "        buttonEl.style.display =\n",
              "          google.colab.kernel.accessAllowed ? 'block' : 'none';\n",
              "\n",
              "        async function convertToInteractive(key) {\n",
              "          const element = document.querySelector('#df-a8fa60b6-89a1-4296-8be4-e5ae08de761c');\n",
              "          const dataTable =\n",
              "            await google.colab.kernel.invokeFunction('convertToInteractive',\n",
              "                                                     [key], {});\n",
              "          if (!dataTable) return;\n",
              "\n",
              "          const docLinkHtml = 'Like what you see? Visit the ' +\n",
              "            '<a target=\"_blank\" href=https://colab.research.google.com/notebooks/data_table.ipynb>data table notebook</a>'\n",
              "            + ' to learn more about interactive tables.';\n",
              "          element.innerHTML = '';\n",
              "          dataTable['output_type'] = 'display_data';\n",
              "          await google.colab.output.renderOutput(dataTable, element);\n",
              "          const docLink = document.createElement('div');\n",
              "          docLink.innerHTML = docLinkHtml;\n",
              "          element.appendChild(docLink);\n",
              "        }\n",
              "      </script>\n",
              "    </div>\n",
              "  </div>\n",
              "  "
            ]
          },
          "metadata": {},
          "execution_count": 18
        }
      ],
      "source": [
        "train_data = raw_train_data[['text', 'label']].copy()\n",
        "\n",
        "train_data['text'] = raw_train_data['text'].apply(message_preprocessing)\n",
        "\n",
        "train_data.drop_duplicates(inplace=True)\n",
        "\n",
        "train_data"
      ]
    },
    {
      "cell_type": "code",
      "execution_count": null,
      "metadata": {
        "colab": {
          "base_uri": "https://localhost:8080/",
          "height": 499
        },
        "id": "SYDRKiLfSnt7",
        "outputId": "c32e83fc-6a60-4611-b51d-8e2a9e28bf73"
      },
      "outputs": [
        {
          "output_type": "display_data",
          "data": {
            "text/plain": [
              "<Figure size 600x600 with 1 Axes>"
            ],
            "image/png": "[encoded data removed]"
          },
          "metadata": {}
        }
      ],
      "source": [
        "get_dataset_statistics(train_data)"
      ]
    },
    {
      "cell_type": "code",
      "execution_count": null,
      "metadata": {
        "colab": {
          "base_uri": "https://localhost:8080/",
          "height": 423
        },
        "id": "oTXpvJGZuEpV",
        "outputId": "ff673a62-75f6-4705-c61c-fc40ff8b6505"
      },
      "outputs": [
        {
          "output_type": "execute_result",
          "data": {
            "text/plain": [
              "                                                  text  label\n",
              "0    upgrdcentre orange customer claim free camera ...      1\n",
              "1    loan purpose £500 £75000 homeowners tenants we...      1\n",
              "2    congrats nokia 3650 video camera phone 0906638...      1\n",
              "3    urgent mobile number awarded £2000 prize guara...      1\n",
              "4    contacted dating service entered phone fancy l...      1\n",
              "..                                                 ...    ...\n",
              "120  7 wonders world 7th 6th ur style 5th ur smile ...      0\n",
              "121                                try dear read exams      0\n",
              "122  sun ah thk mayb dun anythin thk book e lesson ...      0\n",
              "123  symptoms u love 1u like listening songs 2u sto...      0\n",
              "124               great safe trip dont panic surrender      0\n",
              "\n",
              "[124 rows x 2 columns]"
            ],
            "text/html": [
              "\n",
              "  <div id=\"df-247be21e-f62b-4763-95ca-7b25e372890c\">\n",
              "    <div class=\"colab-df-container\">\n",
              "      <div>\n",
              "<style scoped>\n",
              "    .dataframe tbody tr th:only-of-type {\n",
              "        vertical-align: middle;\n",
              "    }\n",
              "\n",
              "    .dataframe tbody tr th {\n",
              "        vertical-align: top;\n",
              "    }\n",
              "\n",
              "    .dataframe thead th {\n",
              "        text-align: right;\n",
              "    }\n",
              "</style>\n",
              "<table border=\"1\" class=\"dataframe\">\n",
              "  <thead>\n",
              "    <tr style=\"text-align: right;\">\n",
              "      <th></th>\n",
              "      <th>text</th>\n",
              "      <th>label</th>\n",
              "    </tr>\n",
              "  </thead>\n",
              "  <tbody>\n",
              "    <tr>\n",
              "      <th>0</th>\n",
              "      <td>upgrdcentre orange customer claim free camera ...</td>\n",
              "      <td>1</td>\n",
              "    </tr>\n",
              "    <tr>\n",
              "      <th>1</th>\n",
              "      <td>loan purpose £500 £75000 homeowners tenants we...</td>\n",
              "      <td>1</td>\n",
              "    </tr>\n",
              "    <tr>\n",
              "      <th>2</th>\n",
              "      <td>congrats nokia 3650 video camera phone 0906638...</td>\n",
              "      <td>1</td>\n",
              "    </tr>\n",
              "    <tr>\n",
              "      <th>3</th>\n",
              "      <td>urgent mobile number awarded £2000 prize guara...</td>\n",
              "      <td>1</td>\n",
              "    </tr>\n",
              "    <tr>\n",
              "      <th>4</th>\n",
              "      <td>contacted dating service entered phone fancy l...</td>\n",
              "      <td>1</td>\n",
              "    </tr>\n",
              "    <tr>\n",
              "      <th>...</th>\n",
              "      <td>...</td>\n",
              "      <td>...</td>\n",
              "    </tr>\n",
              "    <tr>\n",
              "      <th>120</th>\n",
              "      <td>7 wonders world 7th 6th ur style 5th ur smile ...</td>\n",
              "      <td>0</td>\n",
              "    </tr>\n",
              "    <tr>\n",
              "      <th>121</th>\n",
              "      <td>try dear read exams</td>\n",
              "      <td>0</td>\n",
              "    </tr>\n",
              "    <tr>\n",
              "      <th>122</th>\n",
              "      <td>sun ah thk mayb dun anythin thk book e lesson ...</td>\n",
              "      <td>0</td>\n",
              "    </tr>\n",
              "    <tr>\n",
              "      <th>123</th>\n",
              "      <td>symptoms u love 1u like listening songs 2u sto...</td>\n",
              "      <td>0</td>\n",
              "    </tr>\n",
              "    <tr>\n",
              "      <th>124</th>\n",
              "      <td>great safe trip dont panic surrender</td>\n",
              "      <td>0</td>\n",
              "    </tr>\n",
              "  </tbody>\n",
              "</table>\n",
              "<p>124 rows × 2 columns</p>\n",
              "</div>\n",
              "      <button class=\"colab-df-convert\" onclick=\"convertToInteractive('df-247be21e-f62b-4763-95ca-7b25e372890c')\"\n",
              "              title=\"Convert this dataframe to an interactive table.\"\n",
              "              style=\"display:none;\">\n",
              "        \n",
              "  <svg xmlns=\"http://www.w3.org/2000/svg\" height=\"24px\"viewBox=\"0 0 24 24\"\n",
              "       width=\"24px\">\n",
              "    <path d=\"M0 0h24v24H0V0z\" fill=\"none\"/>\n",
              "    <path d=\"M18.56 5.44l.94 2.06.94-2.06 2.06-.94-2.06-.94-.94-2.06-.94 2.06-2.06.94zm-11 1L8.5 8.5l.94-2.06 2.06-.94-2.06-.94L8.5 2.5l-.94 2.06-2.06.94zm10 10l.94 2.06.94-2.06 2.06-.94-2.06-.94-.94-2.06-.94 2.06-2.06.94z\"/><path d=\"M17.41 7.96l-1.37-1.37c-.4-.4-.92-.59-1.43-.59-.52 0-1.04.2-1.43.59L10.3 9.45l-7.72 7.72c-.78.78-.78 2.05 0 2.83L4 21.41c.39.39.9.59 1.41.59.51 0 1.02-.2 1.41-.59l7.78-7.78 2.81-2.81c.8-.78.8-2.07 0-2.86zM5.41 20L4 18.59l7.72-7.72 1.47 1.35L5.41 20z\"/>\n",
              "  </svg>\n",
              "      </button>\n",
              "      \n",
              "  <style>\n",
              "    .colab-df-container {\n",
              "      display:flex;\n",
              "      flex-wrap:wrap;\n",
              "      gap: 12px;\n",
              "    }\n",
              "\n",
              "    .colab-df-convert {\n",
              "      background-color: #E8F0FE;\n",
              "      border: none;\n",
              "      border-radius: 50%;\n",
              "      cursor: pointer;\n",
              "      display: none;\n",
              "      fill: #1967D2;\n",
              "      height: 32px;\n",
              "      padding: 0 0 0 0;\n",
              "      width: 32px;\n",
              "    }\n",
              "\n",
              "    .colab-df-convert:hover {\n",
              "      background-color: #E2EBFA;\n",
              "      box-shadow: 0px 1px 2px rgba(60, 64, 67, 0.3), 0px 1px 3px 1px rgba(60, 64, 67, 0.15);\n",
              "      fill: #174EA6;\n",
              "    }\n",
              "\n",
              "    [theme=dark] .colab-df-convert {\n",
              "      background-color: #3B4455;\n",
              "      fill: #D2E3FC;\n",
              "    }\n",
              "\n",
              "    [theme=dark] .colab-df-convert:hover {\n",
              "      background-color: #434B5C;\n",
              "      box-shadow: 0px 1px 3px 1px rgba(0, 0, 0, 0.15);\n",
              "      filter: drop-shadow(0px 1px 2px rgba(0, 0, 0, 0.3));\n",
              "      fill: #FFFFFF;\n",
              "    }\n",
              "  </style>\n",
              "\n",
              "      <script>\n",
              "        const buttonEl =\n",
              "          document.querySelector('#df-247be21e-f62b-4763-95ca-7b25e372890c button.colab-df-convert');\n",
              "        buttonEl.style.display =\n",
              "          google.colab.kernel.accessAllowed ? 'block' : 'none';\n",
              "\n",
              "        async function convertToInteractive(key) {\n",
              "          const element = document.querySelector('#df-247be21e-f62b-4763-95ca-7b25e372890c');\n",
              "          const dataTable =\n",
              "            await google.colab.kernel.invokeFunction('convertToInteractive',\n",
              "                                                     [key], {});\n",
              "          if (!dataTable) return;\n",
              "\n",
              "          const docLinkHtml = 'Like what you see? Visit the ' +\n",
              "            '<a target=\"_blank\" href=https://colab.research.google.com/notebooks/data_table.ipynb>data table notebook</a>'\n",
              "            + ' to learn more about interactive tables.';\n",
              "          element.innerHTML = '';\n",
              "          dataTable['output_type'] = 'display_data';\n",
              "          await google.colab.output.renderOutput(dataTable, element);\n",
              "          const docLink = document.createElement('div');\n",
              "          docLink.innerHTML = docLinkHtml;\n",
              "          element.appendChild(docLink);\n",
              "        }\n",
              "      </script>\n",
              "    </div>\n",
              "  </div>\n",
              "  "
            ]
          },
          "metadata": {},
          "execution_count": 20
        }
      ],
      "source": [
        "test_data = raw_test_data[['text', 'label']].copy()\n",
        "\n",
        "test_data['text'] = raw_test_data['text'].apply(message_preprocessing)\n",
        "\n",
        "test_data.drop_duplicates(inplace=True)\n",
        "\n",
        "test_data"
      ]
    },
    {
      "cell_type": "markdown",
      "metadata": {
        "id": "zHYTa5KbGtKG"
      },
      "source": [
        "# Text Representation"
      ]
    },
    {
      "cell_type": "code",
      "execution_count": null,
      "metadata": {
        "colab": {
          "base_uri": "https://localhost:8080/"
        },
        "id": "dme4_hzGcr_m",
        "outputId": "2e8ca5a3-2de5-4982-d3f9-ab7bf691bfe0"
      },
      "outputs": [
        {
          "output_type": "stream",
          "name": "stdout",
          "text": [
            "[==================================================] 100.0% 1662.8/1662.8MB downloaded\n"
          ]
        }
      ],
      "source": [
        "word2vec_model = api.load(\"word2vec-google-news-300\")"
      ]
    },
    {
      "cell_type": "code",
      "execution_count": null,
      "metadata": {
        "id": "m8c3qnuue6BF"
      },
      "outputs": [],
      "source": [
        "def get_text_vec(sent):\n",
        "  vector = np.mean(np.array([word2vec_model[token] for token in word_tokenize(sent) if token in word2vec_model.key_to_index]), axis=0)\n",
        "  if np.all(np.isnan(vector)) :\n",
        "    return np.zeros(300)\n",
        "  return vector"
      ]
    },
    {
      "cell_type": "code",
      "execution_count": null,
      "metadata": {
        "colab": {
          "base_uri": "https://localhost:8080/"
        },
        "id": "ZOAiyUu8e8WY",
        "outputId": "1a7a0af5-dca7-4b0d-f6fd-dad3083e4c7f"
      },
      "outputs": [
        {
          "output_type": "stream",
          "name": "stderr",
          "text": [
            "/usr/local/lib/python3.10/dist-packages/numpy/core/fromnumeric.py:3474: RuntimeWarning: Mean of empty slice.\n",
            "  return _methods._mean(a, axis=axis, dtype=dtype,\n",
            "/usr/local/lib/python3.10/dist-packages/numpy/core/_methods.py:189: RuntimeWarning: invalid value encountered in double_scalars\n",
            "  ret = ret.dtype.type(ret / rcount)\n"
          ]
        }
      ],
      "source": [
        "ori_X_train = np.stack(np.array([get_text_vec(sms_text) for sms_text in train_data['text'].values]))"
      ]
    },
    {
      "cell_type": "code",
      "execution_count": null,
      "metadata": {
        "colab": {
          "base_uri": "https://localhost:8080/"
        },
        "id": "HJZl4TR8e-D0",
        "outputId": "63f37b1d-a0f5-4fcb-e956-250bf93f4735"
      },
      "outputs": [
        {
          "output_type": "execute_result",
          "data": {
            "text/plain": [
              "(940, 300)"
            ]
          },
          "metadata": {},
          "execution_count": 18
        }
      ],
      "source": [
        "ori_X_train.shape"
      ]
    },
    {
      "cell_type": "code",
      "execution_count": null,
      "metadata": {
        "id": "hKK5MtdMfKqM"
      },
      "outputs": [],
      "source": [
        "X_test = np.stack(np.array([get_text_vec(sms_text) for sms_text in test_data['text'].values]))"
      ]
    },
    {
      "cell_type": "code",
      "execution_count": null,
      "metadata": {
        "colab": {
          "base_uri": "https://localhost:8080/"
        },
        "id": "HkjCbbcWfMgN",
        "outputId": "79d06188-92d4-462d-a4a8-570786458588"
      },
      "outputs": [
        {
          "output_type": "execute_result",
          "data": {
            "text/plain": [
              "(124, 300)"
            ]
          },
          "metadata": {},
          "execution_count": 20
        }
      ],
      "source": [
        "X_test.shape"
      ]
    },
    {
      "cell_type": "code",
      "execution_count": null,
      "metadata": {
        "id": "IzOrEsS9wJeB"
      },
      "outputs": [],
      "source": [
        "ori_y_train = train_data['label'].values"
      ]
    },
    {
      "cell_type": "code",
      "execution_count": null,
      "metadata": {
        "colab": {
          "base_uri": "https://localhost:8080/"
        },
        "id": "6vV2iRJIwYUG",
        "outputId": "e3db1f1e-3e91-4089-cf25-020a0f4ff317"
      },
      "outputs": [
        {
          "output_type": "execute_result",
          "data": {
            "text/plain": [
              "(940,)"
            ]
          },
          "metadata": {},
          "execution_count": 22
        }
      ],
      "source": [
        "ori_y_train.shape"
      ]
    },
    {
      "cell_type": "code",
      "execution_count": null,
      "metadata": {
        "id": "HscfxWqQwQ8V"
      },
      "outputs": [],
      "source": [
        "y_test = test_data['label'].values"
      ]
    },
    {
      "cell_type": "code",
      "execution_count": null,
      "metadata": {
        "colab": {
          "base_uri": "https://localhost:8080/"
        },
        "id": "tGwMwutWwbV5",
        "outputId": "0e56d1ec-dc70-4349-f67f-a917b84cfdbf"
      },
      "outputs": [
        {
          "output_type": "execute_result",
          "data": {
            "text/plain": [
              "(124,)"
            ]
          },
          "metadata": {},
          "execution_count": 24
        }
      ],
      "source": [
        "y_test.shape"
      ]
    },
    {
      "cell_type": "markdown",
      "metadata": {
        "id": "XeWGJ8LZ5M4G"
      },
      "source": [
        "# Model selection, training and evaluation"
      ]
    },
    {
      "cell_type": "code",
      "execution_count": null,
      "metadata": {
        "id": "UaMtvJpA_8gY"
      },
      "outputs": [],
      "source": [
        "def f_beta_score(y_true, y_pred):\n",
        "  return fbeta_score(y_true, y_pred, beta=2, average='binary')\n",
        "\n",
        "f2_score = make_scorer(f_beta_score, greater_is_better=True)"
      ]
    },
    {
      "cell_type": "code",
      "execution_count": null,
      "metadata": {
        "id": "xUL40hl7rGqT"
      },
      "outputs": [],
      "source": [
        "from datetime import datetime\n",
        "\n",
        "def save_cross_validation(results, file_name):\n",
        "  results_to_save = pd.DataFrame(columns=['Accuracy', 'Recall', 'Precision', 'F1 Score', 'F2 Score', 'MCC'])\n",
        "  for i in range(0, 10):\n",
        "    results_to_save.loc[i] = [\n",
        "      results['split{}_test_Accuracy'.format(i)][0],\n",
        "      results['split{}_test_Recall'.format(i)][0],\n",
        "      results['split{}_test_Precision'.format(i)][0],\n",
        "      results['split{}_test_F1'.format(i)][0],\n",
        "      results['split{}_test_F2'.format(i)][0],\n",
        "      results['split{}_test_MCC'.format(i)][0]\n",
        "    ]\n",
        "  results_to_save.to_csv('{}Results/{}_{}.csv'.format(dir_name+'experiments/Email Spam/', file_name, datetime.now().strftime(\"%m%d%H%M\")))"
      ]
    },
    {
      "cell_type": "code",
      "execution_count": null,
      "metadata": {
        "id": "3j6W7V5NJ6dT"
      },
      "outputs": [],
      "source": [
        "def train_model(classifier, param_grid, model_name, train_texts, train_labels, test_texts, test_labels, evaluation_metrics, to_print=True, to_save=False, file_name=None):\n",
        "    \"\"\"\n",
        "    train email classification model.\n",
        "    \"\"\"\n",
        "\n",
        "    # apply grid search to find best model hyper parameters\n",
        "    grid_search = GridSearchCV(classifier, param_grid, cv=10, scoring={'Accuracy': make_scorer(accuracy_score),\n",
        "                                                                       'F1': make_scorer(f1_score),\n",
        "                                                                       'F2': f2_score,\n",
        "                                                                       'Recall': make_scorer(recall_score),\n",
        "                                                                       'Precision': make_scorer(precision_score),\n",
        "                                                                       'MCC' : make_scorer(matthews_corrcoef)\n",
        "                                                                       }, refit='F1', n_jobs=-1)\n",
        "    grid_search.fit(train_texts, train_labels)\n",
        "    model = grid_search.best_estimator_\n",
        "\n",
        "    if to_save:\n",
        "      ConfusionMatrixDisplay(save_cross_validation(grid_search.cv_results_, file_name))\n",
        "      plt.show()\n",
        "\n",
        "    # train and test accuracy.\n",
        "    test_accuracy = model.score(test_texts, test_labels)\n",
        "    train_accuracy = model.score(train_texts, train_labels)\n",
        "\n",
        "    # compute F1 score for model evaluation.\n",
        "    y_pred = model.predict(test_texts)\n",
        "\n",
        "    recall = recall_score(test_labels, y_pred)\n",
        "    precision = precision_score(test_labels, y_pred)\n",
        "    f1score = f1_score(test_labels, y_pred)\n",
        "    f2score = fbeta_score(y_test, y_pred, beta=2, average='binary')\n",
        "    mcc = matthews_corrcoef(y_test, y_pred)\n",
        "\n",
        "    if to_print:\n",
        "        print(\"train accuracy = \" + str(train_accuracy))\n",
        "        print(\"test accuracy = \" + str(test_accuracy))\n",
        "        print(\"Recall = {}\".format(recall))\n",
        "        print(\"Precision = {}\".format(precision))\n",
        "        print(\"F1 score = {}\".format(f1score))\n",
        "        print(\"F2 score = {}\".format(f2score))\n",
        "        print(\"MCC = {}\".format(mcc))\n",
        "        print(classification_report(test_labels, y_pred))\n",
        "\n",
        "\n",
        "        # plot confusion matrix\n",
        "        cm = confusion_matrix(test_labels, y_pred)\n",
        "        disp = ConfusionMatrixDisplay(confusion_matrix=cm, display_labels=[0,1])\n",
        "\n",
        "        disp.plot(cmap=plt.cm.Blues)\n",
        "        plt.show()\n",
        "\n",
        "        # print best model hyper parameters.\n",
        "        print(grid_search.best_params_)\n",
        "\n",
        "    evaluation_metrics.loc[model_name, 'Recall'] = recall\n",
        "    evaluation_metrics.loc[model_name, 'Precision'] = precision\n",
        "    evaluation_metrics.loc[model_name, 'F1 score'] = f1score\n",
        "    evaluation_metrics.loc[model_name, 'F2 score'] = f2score\n",
        "    evaluation_metrics.loc[model_name, 'MCC'] = mcc\n",
        "\n",
        "    return f1score, f2score\n",
        "\n",
        "\n",
        "def train(model_id, train_texts, train_labels, test_texts, test_labels, evaluation_metrics, to_print=True, to_save=False, file_name=None):\n",
        "    \n",
        "    if model_id == 1:\n",
        "        # Random forest Classification model.\n",
        "        forest_clf = RandomForestClassifier(random_state=42, n_jobs=-1)\n",
        "        forest_param_grid = [{'n_estimators': [5,10,15,20,25], 'max_features': [10, 15, 20], 'min_samples_split': [15, 20, 25], 'criterion': ['gini','entropy'], 'max_depth': [5,6,7]}]\n",
        "        return train_model(forest_clf, forest_param_grid, 'RandomForest', train_texts, train_labels, test_texts, test_labels, evaluation_metrics, to_print, to_save, file_name)\n",
        "\n",
        "    if model_id == 2:\n",
        "        # Support Vector Machine Model.\n",
        "        svc_clf = SVC(random_state=42)\n",
        "        svc_param_grid = [{'kernel': ['rbf', 'poly'], 'degree': [2, 3 ,4, 5] }]\n",
        "\n",
        "        return train_model(svc_clf, svc_param_grid, 'SVM', train_texts, train_labels, test_texts, test_labels, evaluation_metrics, to_print, to_save, file_name)"
      ]
    },
    {
      "cell_type": "markdown",
      "metadata": {
        "id": "s3_2Wm7JoooJ"
      },
      "source": [
        "## Random forest"
      ]
    },
    {
      "cell_type": "code",
      "execution_count": null,
      "metadata": {
        "id": "kXCN7CxDfyok"
      },
      "outputs": [],
      "source": [
        "evaluation_metrics_orginal = pd.DataFrame(columns = ['Recall', 'Precision', 'F1 score', 'F2 score', 'MCC'])"
      ]
    },
    {
      "cell_type": "code",
      "execution_count": null,
      "metadata": {
        "colab": {
          "base_uri": "https://localhost:8080/",
          "height": 624
        },
        "id": "QQkc-Be3uY8l",
        "outputId": "7a3ce5be-7119-45d8-eaeb-9188f48cf60f"
      },
      "outputs": [
        {
          "name": "stdout",
          "output_type": "stream",
          "text": [
            "train accuracy = 0.9829787234042553\n",
            "test accuracy = 0.75\n",
            "Recall = 0.5866666666666667\n",
            "Precision = 1.0\n",
            "F1 score = 0.7394957983193278\n",
            "F2 score = 0.6395348837209303\n",
            "MCC = 0.5994441870043727\n",
            "              precision    recall  f1-score   support\n",
            "\n",
            "           0       0.61      1.00      0.76        49\n",
            "           1       1.00      0.59      0.74        75\n",
            "\n",
            "    accuracy                           0.75       124\n",
            "   macro avg       0.81      0.79      0.75       124\n",
            "weighted avg       0.85      0.75      0.75       124\n",
            "\n"
          ]
        },
        {
          "data": {
            "image/png": "[encoded data removed]",
            "text/plain": [
              "<Figure size 640x480 with 2 Axes>"
            ]
          },
          "metadata": {},
          "output_type": "display_data"
        },
        {
          "name": "stdout",
          "output_type": "stream",
          "text": [
            "{'criterion': 'entropy', 'max_depth': 7, 'max_features': 15, 'min_samples_split': 15, 'n_estimators': 10}\n"
          ]
        },
        {
          "data": {
            "text/plain": [
              "(0.7394957983193278, 0.6395348837209303)"
            ]
          },
          "execution_count": 38,
          "metadata": {},
          "output_type": "execute_result"
        }
      ],
      "source": [
        "train(1, ori_X_train, ori_y_train, X_test, y_test, evaluation_metrics_orginal, to_save=True, file_name='OD_RF')"
      ]
    },
    {
      "cell_type": "markdown",
      "metadata": {
        "id": "3H3ENdyba7B2"
      },
      "source": [
        "# SVM"
      ]
    },
    {
      "cell_type": "code",
      "execution_count": null,
      "metadata": {
        "colab": {
          "base_uri": "https://localhost:8080/",
          "height": 624
        },
        "id": "DxOREAENa8BM",
        "outputId": "e3bd0924-3467-4d1d-acbf-d305a4d53bce"
      },
      "outputs": [
        {
          "name": "stdout",
          "output_type": "stream",
          "text": [
            "train accuracy = 0.9861702127659574\n",
            "test accuracy = 0.8709677419354839\n",
            "Recall = 0.7866666666666666\n",
            "Precision = 1.0\n",
            "F1 score = 0.8805970149253731\n",
            "F2 score = 0.8217270194986072\n",
            "MCC = 0.7700815807598835\n",
            "              precision    recall  f1-score   support\n",
            "\n",
            "           0       0.75      1.00      0.86        49\n",
            "           1       1.00      0.79      0.88        75\n",
            "\n",
            "    accuracy                           0.87       124\n",
            "   macro avg       0.88      0.89      0.87       124\n",
            "weighted avg       0.90      0.87      0.87       124\n",
            "\n"
          ]
        },
        {
          "data": {
            "image/png": "[encoded data removed]",
            "text/plain": [
              "<Figure size 640x480 with 2 Axes>"
            ]
          },
          "metadata": {},
          "output_type": "display_data"
        },
        {
          "name": "stdout",
          "output_type": "stream",
          "text": [
            "{'degree': 2, 'kernel': 'rbf'}\n"
          ]
        },
        {
          "data": {
            "text/plain": [
              "(0.8805970149253731, 0.8217270194986072)"
            ]
          },
          "execution_count": 52,
          "metadata": {},
          "output_type": "execute_result"
        }
      ],
      "source": [
        "train(2, ori_X_train, ori_y_train, X_test, y_test, evaluation_metrics_orginal, to_save=True, file_name='OD_SVM')"
      ]
    },
    {
      "cell_type": "markdown",
      "metadata": {
        "id": "VDIYepVzkSIp"
      },
      "source": [
        "#BiLSTM"
      ]
    },
    {
      "cell_type": "code",
      "execution_count": null,
      "metadata": {
        "id": "_8rvD_Vb0WNg"
      },
      "outputs": [],
      "source": [
        "import random\n",
        "import tensorflow as tf \n",
        "from tensorflow import keras \n",
        "from tensorflow.keras import layers\n",
        "from sklearn.metrics import ConfusionMatrixDisplay\n",
        "from tensorflow.keras.regularizers import L1L2\n",
        "from sklearn.model_selection import StratifiedKFold\n",
        "seed = 221\n",
        "random.seed(seed)\n",
        "np.random.seed(seed)\n",
        "tf.random.set_seed(seed)"
      ]
    },
    {
      "cell_type": "code",
      "execution_count": null,
      "metadata": {
        "id": "Bxz8aaMf-NO_"
      },
      "outputs": [],
      "source": [
        "text_words_lengths = [len(raw_train_data.loc[i]['text'].split()) for i in raw_train_data.index ]\n",
        "total_length = np.sum(text_words_lengths)\n",
        "text_words_mean = int(np.mean(text_words_lengths))"
      ]
    },
    {
      "cell_type": "code",
      "execution_count": null,
      "metadata": {
        "colab": {
          "base_uri": "https://localhost:8080/"
        },
        "id": "I87C3pqv-Z1F",
        "outputId": "86a538cc-54ca-40b0-9872-160738935794"
      },
      "outputs": [
        {
          "output_type": "execute_result",
          "data": {
            "text/plain": [
              "15"
            ]
          },
          "metadata": {},
          "execution_count": 23
        }
      ],
      "source": [
        "text_words_mean"
      ]
    },
    {
      "cell_type": "code",
      "execution_count": null,
      "metadata": {
        "id": "iy9xcyum0aJM"
      },
      "outputs": [],
      "source": [
        "def create_blstm_model(sent_length, words_mean, train_texts):\n",
        "\n",
        "  text_vec = layers.TextVectorization( \n",
        "    max_tokens=sent_length,\n",
        "    standardize='lower_and_strip_punctuation',\n",
        "    output_mode='int',\n",
        "    output_sequence_length=words_mean\n",
        "  )\n",
        "\n",
        "  text_vec.adapt(train_texts)\n",
        "\n",
        "  embedding_layer = layers.Embedding(\n",
        "    input_dim=sent_length,\n",
        "    output_dim=128,\n",
        "    embeddings_initializer='uniform',\n",
        "    input_length=words_mean\n",
        "  )\n",
        "\n",
        "  input_layer = layers.Input(shape=(1,), dtype=tf.string) \n",
        "\n",
        "  vec_layer = text_vec(input_layer)\n",
        "  embedding_layer_model = embedding_layer(vec_layer) \n",
        "\n",
        "  bi_lstm = layers.Bidirectional(layers.LSTM(64, activation='tanh', return_sequences=True, kernel_regularizer = L1L2(l1=0.01, l2=0.0)))(embedding_layer_model) \n",
        "\n",
        "  flatten = layers.Flatten()(bi_lstm) \n",
        "  dropout = layers.Dropout(.1)(flatten) \n",
        "\n",
        "  x = layers.Dense(32, activation='relu')(dropout) \n",
        "\n",
        "  output_layer = layers.Dense(1, activation='sigmoid')(x) \n",
        "\n",
        "  blstm_model = keras.Model(input_layer, output_layer) \n",
        "\n",
        "  blstm_model.compile(optimizer=keras.optimizers.Adam(),\n",
        "                loss=keras.losses.BinaryCrossentropy(),\n",
        "                metrics=['accuracy'])  \n",
        "  \n",
        "  return blstm_model"
      ]
    },
    {
      "cell_type": "markdown",
      "source": [
        "# Cross Validation"
      ],
      "metadata": {
        "id": "L6_Sa1uW0xLN"
      }
    },
    {
      "cell_type": "code",
      "source": [
        "def cv_blstm(sent_length, words_mean):\n",
        "\n",
        "  kf = StratifiedKFold(10, shuffle=True, random_state=42) \n",
        "  cv_metrics = pd.DataFrame(columns = ['Recall', 'Precision', 'F1 score', 'F2 score'])\n",
        "\n",
        "  fold = 0\n",
        "\n",
        "  X = train_data['text'].values\n",
        "  Y = train_data['label'].values\n",
        "\n",
        "  for train, val in kf.split(X, Y):  \n",
        "  \n",
        "    print(f\"Fold {fold}\")\n",
        "\n",
        "    train_texts = X[train]\n",
        "    train_labels = Y[train]\n",
        "    test_texts = X[val]\n",
        "    test_labels = Y[val]\n",
        "\n",
        "    blstm_model = create_blstm_model(sent_length, words_mean, train_texts)\n",
        "\n",
        "    history = blstm_model.fit(train_texts,\n",
        "                              train_labels,\n",
        "                              epochs=10,\n",
        "                              batch_size=16,\n",
        "                              validation_data=(test_texts, test_labels))\n",
        "\n",
        "    blstm_model.evaluate(test_texts, test_labels)\n",
        "    y_pred = np.round(blstm_model.predict(test_texts))\n",
        "\n",
        "    f1_sc = f1_score(test_labels, y_pred)\n",
        "    f2score = fbeta_score(test_labels, y_pred, beta=2, average='binary')\n",
        "\n",
        "    cv_metrics.loc[fold, 'Recall'] = recall_score(test_labels, y_pred)\n",
        "    cv_metrics.loc[fold, 'Precision'] = precision_score(test_labels, y_pred)\n",
        "    cv_metrics.loc[fold, 'F1 score'] = f1_sc\n",
        "    cv_metrics.loc[fold, 'F2 score'] = f2score\n",
        "    \n",
        "    fold += 1\n",
        "\n",
        "  return cv_metrics"
      ],
      "metadata": {
        "id": "GYahiDl_0w7I"
      },
      "execution_count": null,
      "outputs": []
    },
    {
      "cell_type": "code",
      "source": [
        "cv_results = cv_blstm(total_length, text_words_mean)"
      ],
      "metadata": {
        "colab": {
          "base_uri": "https://localhost:8080/"
        },
        "id": "jQWz04XB0wxH",
        "outputId": "9afe3f6f-03ce-4368-d46a-d601bad03b2a"
      },
      "execution_count": null,
      "outputs": [
        {
          "output_type": "stream",
          "name": "stdout",
          "text": [
            "Fold 0\n",
            "Epoch 1/10\n",
            "53/53 [==============================] - 19s 176ms/step - loss: 26.8970 - accuracy: 0.8806 - val_loss: 14.1451 - val_accuracy: 0.8936\n",
            "Epoch 2/10\n",
            "53/53 [==============================] - 4s 71ms/step - loss: 6.6189 - accuracy: 0.9728 - val_loss: 1.5234 - val_accuracy: 0.9574\n",
            "Epoch 3/10\n",
            "53/53 [==============================] - 2s 37ms/step - loss: 0.4707 - accuracy: 0.9905 - val_loss: 0.5191 - val_accuracy: 0.9574\n",
            "Epoch 4/10\n",
            "53/53 [==============================] - 1s 27ms/step - loss: 0.2831 - accuracy: 0.9953 - val_loss: 0.2422 - val_accuracy: 0.9574\n",
            "Epoch 5/10\n",
            "53/53 [==============================] - 1s 23ms/step - loss: 0.1487 - accuracy: 0.9965 - val_loss: 0.3546 - val_accuracy: 0.9468\n",
            "Epoch 6/10\n",
            "53/53 [==============================] - 1s 11ms/step - loss: 0.1173 - accuracy: 1.0000 - val_loss: 0.1978 - val_accuracy: 0.9681\n",
            "Epoch 7/10\n",
            "53/53 [==============================] - 1s 15ms/step - loss: 0.0884 - accuracy: 1.0000 - val_loss: 0.1938 - val_accuracy: 0.9574\n",
            "Epoch 8/10\n",
            "53/53 [==============================] - 1s 16ms/step - loss: 0.3366 - accuracy: 0.9941 - val_loss: 0.6908 - val_accuracy: 0.8830\n",
            "Epoch 9/10\n",
            "53/53 [==============================] - 0s 8ms/step - loss: 0.2104 - accuracy: 0.9965 - val_loss: 0.3963 - val_accuracy: 0.8830\n",
            "Epoch 10/10\n",
            "53/53 [==============================] - 0s 7ms/step - loss: 0.1119 - accuracy: 1.0000 - val_loss: 0.3495 - val_accuracy: 0.8830\n",
            "3/3 [==============================] - 0s 6ms/step - loss: 0.3495 - accuracy: 0.8830\n",
            "3/3 [==============================] - 1s 5ms/step\n",
            "Fold 1\n",
            "Epoch 1/10\n",
            "53/53 [==============================] - 10s 122ms/step - loss: 26.8181 - accuracy: 0.8700 - val_loss: 14.0898 - val_accuracy: 0.9149\n",
            "Epoch 2/10\n",
            "53/53 [==============================] - 3s 56ms/step - loss: 6.5784 - accuracy: 0.9752 - val_loss: 1.4516 - val_accuracy: 0.9574\n",
            "Epoch 3/10\n",
            "53/53 [==============================] - 1s 27ms/step - loss: 0.4489 - accuracy: 0.9894 - val_loss: 0.2824 - val_accuracy: 0.9255\n",
            "Epoch 4/10\n",
            "53/53 [==============================] - 1s 26ms/step - loss: 0.1656 - accuracy: 0.9941 - val_loss: 0.3399 - val_accuracy: 0.9255\n",
            "Epoch 5/10\n",
            "53/53 [==============================] - 2s 34ms/step - loss: 0.1317 - accuracy: 0.9988 - val_loss: 0.3723 - val_accuracy: 0.8723\n",
            "Epoch 6/10\n",
            "53/53 [==============================] - 1s 15ms/step - loss: 0.1333 - accuracy: 0.9976 - val_loss: 0.5108 - val_accuracy: 0.9255\n",
            "Epoch 7/10\n",
            "53/53 [==============================] - 1s 11ms/step - loss: 0.1033 - accuracy: 1.0000 - val_loss: 0.1999 - val_accuracy: 0.9468\n",
            "Epoch 8/10\n",
            "53/53 [==============================] - 1s 16ms/step - loss: 0.1008 - accuracy: 1.0000 - val_loss: 0.9708 - val_accuracy: 0.9255\n",
            "Epoch 9/10\n",
            "53/53 [==============================] - 1s 11ms/step - loss: 0.2689 - accuracy: 0.9976 - val_loss: 1.9587 - val_accuracy: 0.7447\n",
            "Epoch 10/10\n",
            "53/53 [==============================] - 0s 8ms/step - loss: 0.1888 - accuracy: 0.9976 - val_loss: 0.2282 - val_accuracy: 0.9681\n",
            "3/3 [==============================] - 0s 6ms/step - loss: 0.2282 - accuracy: 0.9681\n",
            "3/3 [==============================] - 1s 4ms/step\n",
            "Fold 2\n",
            "Epoch 1/10\n",
            "53/53 [==============================] - 11s 118ms/step - loss: 26.7774 - accuracy: 0.8924 - val_loss: 14.1453 - val_accuracy: 0.8936\n",
            "Epoch 2/10\n",
            "53/53 [==============================] - 2s 44ms/step - loss: 6.5874 - accuracy: 0.9704 - val_loss: 1.5325 - val_accuracy: 0.9574\n",
            "Epoch 3/10\n",
            "53/53 [==============================] - 2s 40ms/step - loss: 0.4636 - accuracy: 0.9929 - val_loss: 0.3670 - val_accuracy: 0.9574\n",
            "Epoch 4/10\n",
            "53/53 [==============================] - 2s 35ms/step - loss: 0.1579 - accuracy: 0.9965 - val_loss: 0.4658 - val_accuracy: 0.9255\n",
            "Epoch 5/10\n",
            "53/53 [==============================] - 1s 20ms/step - loss: 0.1791 - accuracy: 0.9953 - val_loss: 0.2335 - val_accuracy: 0.9362\n",
            "Epoch 6/10\n",
            "53/53 [==============================] - 1s 13ms/step - loss: 0.0994 - accuracy: 1.0000 - val_loss: 0.2081 - val_accuracy: 0.9574\n",
            "Epoch 7/10\n",
            "53/53 [==============================] - 1s 20ms/step - loss: 0.0864 - accuracy: 1.0000 - val_loss: 0.2476 - val_accuracy: 0.9255\n",
            "Epoch 8/10\n",
            "53/53 [==============================] - 1s 13ms/step - loss: 0.0824 - accuracy: 1.0000 - val_loss: 0.2437 - val_accuracy: 0.9255\n",
            "Epoch 9/10\n",
            "53/53 [==============================] - 1s 10ms/step - loss: 0.0830 - accuracy: 1.0000 - val_loss: 1.8562 - val_accuracy: 0.6915\n",
            "Epoch 10/10\n",
            "53/53 [==============================] - 1s 10ms/step - loss: 0.1195 - accuracy: 0.9988 - val_loss: 1.8051 - val_accuracy: 0.9149\n",
            "3/3 [==============================] - 0s 5ms/step - loss: 1.8051 - accuracy: 0.9149\n",
            "3/3 [==============================] - 1s 5ms/step\n",
            "Fold 3\n",
            "Epoch 1/10\n",
            "53/53 [==============================] - 10s 115ms/step - loss: 26.7132 - accuracy: 0.8759 - val_loss: 13.9781 - val_accuracy: 0.9362\n",
            "Epoch 2/10\n",
            "53/53 [==============================] - 2s 48ms/step - loss: 6.5680 - accuracy: 0.9740 - val_loss: 1.4655 - val_accuracy: 0.9681\n",
            "Epoch 3/10\n",
            "53/53 [==============================] - 2s 30ms/step - loss: 0.4730 - accuracy: 0.9929 - val_loss: 1.2134 - val_accuracy: 0.9362\n",
            "Epoch 4/10\n",
            "53/53 [==============================] - 1s 23ms/step - loss: 0.2949 - accuracy: 0.9953 - val_loss: 0.2809 - val_accuracy: 0.9468\n",
            "Epoch 5/10\n",
            "53/53 [==============================] - 1s 15ms/step - loss: 0.1226 - accuracy: 0.9988 - val_loss: 0.2860 - val_accuracy: 0.9362\n",
            "Epoch 6/10\n",
            "53/53 [==============================] - 1s 16ms/step - loss: 0.0924 - accuracy: 0.9988 - val_loss: 0.9496 - val_accuracy: 0.9149\n",
            "Epoch 7/10\n",
            "53/53 [==============================] - 0s 7ms/step - loss: 0.1873 - accuracy: 0.9988 - val_loss: 0.5086 - val_accuracy: 0.8936\n",
            "Epoch 8/10\n",
            "53/53 [==============================] - 1s 18ms/step - loss: 0.1272 - accuracy: 0.9988 - val_loss: 0.2205 - val_accuracy: 0.9362\n",
            "Epoch 9/10\n",
            "53/53 [==============================] - 0s 7ms/step - loss: 0.0845 - accuracy: 1.0000 - val_loss: 0.2590 - val_accuracy: 0.9362\n",
            "Epoch 10/10\n",
            "53/53 [==============================] - 1s 10ms/step - loss: 0.0803 - accuracy: 1.0000 - val_loss: 0.3082 - val_accuracy: 0.9362\n",
            "3/3 [==============================] - 0s 6ms/step - loss: 0.3082 - accuracy: 0.9362\n",
            "3/3 [==============================] - 1s 5ms/step\n",
            "Fold 4\n",
            "Epoch 1/10\n",
            "53/53 [==============================] - 11s 118ms/step - loss: 26.6641 - accuracy: 0.8688 - val_loss: 13.8907 - val_accuracy: 0.9255\n",
            "Epoch 2/10\n",
            "53/53 [==============================] - 3s 50ms/step - loss: 6.5222 - accuracy: 0.9752 - val_loss: 1.3830 - val_accuracy: 0.9787\n",
            "Epoch 3/10\n",
            "53/53 [==============================] - 1s 28ms/step - loss: 0.4700 - accuracy: 0.9929 - val_loss: 0.2668 - val_accuracy: 0.9681\n",
            "Epoch 4/10\n",
            "53/53 [==============================] - 1s 27ms/step - loss: 0.1412 - accuracy: 0.9988 - val_loss: 0.1865 - val_accuracy: 0.9787\n",
            "Epoch 5/10\n",
            "53/53 [==============================] - 1s 19ms/step - loss: 0.1262 - accuracy: 0.9965 - val_loss: 0.4679 - val_accuracy: 0.9681\n",
            "Epoch 6/10\n",
            "53/53 [==============================] - 1s 16ms/step - loss: 0.2888 - accuracy: 0.9941 - val_loss: 0.2357 - val_accuracy: 0.9787\n",
            "Epoch 7/10\n",
            "53/53 [==============================] - 1s 19ms/step - loss: 0.1079 - accuracy: 1.0000 - val_loss: 0.2030 - val_accuracy: 0.9468\n",
            "Epoch 8/10\n",
            "53/53 [==============================] - 1s 10ms/step - loss: 0.0866 - accuracy: 1.0000 - val_loss: 0.2000 - val_accuracy: 0.9468\n",
            "Epoch 9/10\n",
            "53/53 [==============================] - 1s 13ms/step - loss: 0.0821 - accuracy: 1.0000 - val_loss: 0.1819 - val_accuracy: 0.9787\n",
            "Epoch 10/10\n",
            "53/53 [==============================] - 1s 17ms/step - loss: 0.0781 - accuracy: 1.0000 - val_loss: 0.1710 - val_accuracy: 0.9787\n",
            "3/3 [==============================] - 0s 7ms/step - loss: 0.1710 - accuracy: 0.9787\n"
          ]
        },
        {
          "output_type": "stream",
          "name": "stderr",
          "text": [
            "WARNING:tensorflow:5 out of the last 13 calls to <function Model.make_predict_function.<locals>.predict_function at 0x7f3c505a5bd0> triggered tf.function retracing. Tracing is expensive and the excessive number of tracings could be due to (1) creating @tf.function repeatedly in a loop, (2) passing tensors with different shapes, (3) passing Python objects instead of tensors. For (1), please define your @tf.function outside of the loop. For (2), @tf.function has reduce_retracing=True option that can avoid unnecessary retracing. For (3), please refer to https://www.tensorflow.org/guide/function#controlling_retracing and https://www.tensorflow.org/api_docs/python/tf/function for  more details.\n"
          ]
        },
        {
          "output_type": "stream",
          "name": "stdout",
          "text": [
            "3/3 [==============================] - 1s 7ms/step\n",
            "Fold 5\n",
            "Epoch 1/10\n",
            "53/53 [==============================] - 10s 120ms/step - loss: 26.7937 - accuracy: 0.9019 - val_loss: 14.1316 - val_accuracy: 0.9468\n",
            "Epoch 2/10\n",
            "53/53 [==============================] - 3s 51ms/step - loss: 6.6223 - accuracy: 0.9799 - val_loss: 1.7478 - val_accuracy: 0.9149\n",
            "Epoch 3/10\n",
            "53/53 [==============================] - 2s 26ms/step - loss: 0.4709 - accuracy: 0.9917 - val_loss: 0.5198 - val_accuracy: 0.8936\n",
            "Epoch 4/10\n",
            "53/53 [==============================] - 1s 13ms/step - loss: 0.1522 - accuracy: 0.9965 - val_loss: 1.1834 - val_accuracy: 0.9149\n",
            "Epoch 5/10\n",
            "53/53 [==============================] - 1s 19ms/step - loss: 0.2338 - accuracy: 0.9976 - val_loss: 0.3389 - val_accuracy: 0.9255\n",
            "Epoch 6/10\n",
            "53/53 [==============================] - 1s 21ms/step - loss: 0.1067 - accuracy: 1.0000 - val_loss: 0.3190 - val_accuracy: 0.9468\n",
            "Epoch 7/10\n",
            "53/53 [==============================] - 1s 13ms/step - loss: 0.0874 - accuracy: 1.0000 - val_loss: 0.3697 - val_accuracy: 0.9255\n",
            "Epoch 8/10\n",
            "53/53 [==============================] - 1s 10ms/step - loss: 0.1273 - accuracy: 1.0000 - val_loss: 1.3749 - val_accuracy: 0.9043\n",
            "Epoch 9/10\n",
            "53/53 [==============================] - 1s 13ms/step - loss: 0.1080 - accuracy: 1.0000 - val_loss: 0.5209 - val_accuracy: 0.9149\n",
            "Epoch 10/10\n",
            "53/53 [==============================] - 1s 13ms/step - loss: 0.1414 - accuracy: 0.9976 - val_loss: 1.0000 - val_accuracy: 0.9362\n",
            "3/3 [==============================] - 0s 7ms/step - loss: 1.0000 - accuracy: 0.9362\n"
          ]
        },
        {
          "output_type": "stream",
          "name": "stderr",
          "text": [
            "WARNING:tensorflow:5 out of the last 13 calls to <function Model.make_predict_function.<locals>.predict_function at 0x7f3c46e075b0> triggered tf.function retracing. Tracing is expensive and the excessive number of tracings could be due to (1) creating @tf.function repeatedly in a loop, (2) passing tensors with different shapes, (3) passing Python objects instead of tensors. For (1), please define your @tf.function outside of the loop. For (2), @tf.function has reduce_retracing=True option that can avoid unnecessary retracing. For (3), please refer to https://www.tensorflow.org/guide/function#controlling_retracing and https://www.tensorflow.org/api_docs/python/tf/function for  more details.\n"
          ]
        },
        {
          "output_type": "stream",
          "name": "stdout",
          "text": [
            "3/3 [==============================] - 1s 5ms/step\n",
            "Fold 6\n",
            "Epoch 1/10\n",
            "53/53 [==============================] - 10s 118ms/step - loss: 26.7031 - accuracy: 0.8771 - val_loss: 13.9479 - val_accuracy: 0.9255\n",
            "Epoch 2/10\n",
            "53/53 [==============================] - 3s 47ms/step - loss: 6.5608 - accuracy: 0.9740 - val_loss: 1.4692 - val_accuracy: 0.9787\n",
            "Epoch 3/10\n",
            "53/53 [==============================] - 1s 27ms/step - loss: 0.4523 - accuracy: 0.9941 - val_loss: 0.4163 - val_accuracy: 0.9894\n",
            "Epoch 4/10\n",
            "53/53 [==============================] - 1s 13ms/step - loss: 0.1749 - accuracy: 0.9965 - val_loss: 0.1956 - val_accuracy: 0.9787\n",
            "Epoch 5/10\n",
            "53/53 [==============================] - 1s 18ms/step - loss: 0.1074 - accuracy: 1.0000 - val_loss: 0.1260 - val_accuracy: 0.9894\n",
            "Epoch 6/10\n",
            "53/53 [==============================] - 1s 13ms/step - loss: 0.0909 - accuracy: 1.0000 - val_loss: 0.8007 - val_accuracy: 0.8191\n",
            "Epoch 7/10\n",
            "53/53 [==============================] - 1s 14ms/step - loss: 0.2347 - accuracy: 0.9965 - val_loss: 0.1623 - val_accuracy: 0.9894\n",
            "Epoch 8/10\n",
            "53/53 [==============================] - 1s 10ms/step - loss: 0.1012 - accuracy: 1.0000 - val_loss: 0.1178 - val_accuracy: 1.0000\n",
            "Epoch 9/10\n",
            "53/53 [==============================] - 1s 13ms/step - loss: 0.0858 - accuracy: 1.0000 - val_loss: 0.1087 - val_accuracy: 1.0000\n",
            "Epoch 10/10\n",
            "53/53 [==============================] - 1s 13ms/step - loss: 0.0813 - accuracy: 1.0000 - val_loss: 0.1040 - val_accuracy: 1.0000\n",
            "3/3 [==============================] - 0s 6ms/step - loss: 0.1040 - accuracy: 1.0000\n",
            "3/3 [==============================] - 1s 4ms/step\n",
            "Fold 7\n",
            "Epoch 1/10\n",
            "53/53 [==============================] - 11s 131ms/step - loss: 26.8562 - accuracy: 0.8794 - val_loss: 14.0669 - val_accuracy: 0.9255\n",
            "Epoch 2/10\n",
            "53/53 [==============================] - 2s 44ms/step - loss: 6.6495 - accuracy: 0.9704 - val_loss: 1.5397 - val_accuracy: 0.9681\n",
            "Epoch 3/10\n",
            "53/53 [==============================] - 2s 33ms/step - loss: 0.4476 - accuracy: 0.9988 - val_loss: 0.3675 - val_accuracy: 0.9574\n",
            "Epoch 4/10\n",
            "53/53 [==============================] - 1s 24ms/step - loss: 0.2370 - accuracy: 0.9941 - val_loss: 0.3004 - val_accuracy: 0.9681\n",
            "Epoch 5/10\n",
            "53/53 [==============================] - 1s 14ms/step - loss: 0.1243 - accuracy: 1.0000 - val_loss: 0.2081 - val_accuracy: 0.9681\n",
            "Epoch 6/10\n",
            "53/53 [==============================] - 1s 14ms/step - loss: 0.0947 - accuracy: 1.0000 - val_loss: 0.2350 - val_accuracy: 0.9574\n",
            "Epoch 7/10\n",
            "53/53 [==============================] - 1s 20ms/step - loss: 0.2823 - accuracy: 0.9953 - val_loss: 1.4009 - val_accuracy: 0.9255\n",
            "Epoch 8/10\n",
            "53/53 [==============================] - 1s 14ms/step - loss: 0.2600 - accuracy: 0.9988 - val_loss: 0.5617 - val_accuracy: 0.9574\n",
            "Epoch 9/10\n",
            "53/53 [==============================] - 0s 8ms/step - loss: 0.1111 - accuracy: 1.0000 - val_loss: 0.2345 - val_accuracy: 0.9468\n",
            "Epoch 10/10\n",
            "53/53 [==============================] - 1s 11ms/step - loss: 0.0865 - accuracy: 1.0000 - val_loss: 0.2191 - val_accuracy: 0.9681\n",
            "3/3 [==============================] - 0s 6ms/step - loss: 0.2191 - accuracy: 0.9681\n",
            "3/3 [==============================] - 1s 6ms/step\n",
            "Fold 8\n",
            "Epoch 1/10\n",
            "53/53 [==============================] - 10s 111ms/step - loss: 26.8085 - accuracy: 0.8794 - val_loss: 14.0376 - val_accuracy: 0.9681\n",
            "Epoch 2/10\n",
            "53/53 [==============================] - 3s 51ms/step - loss: 6.6296 - accuracy: 0.9775 - val_loss: 1.5111 - val_accuracy: 0.9681\n",
            "Epoch 3/10\n",
            "53/53 [==============================] - 1s 24ms/step - loss: 0.4428 - accuracy: 0.9965 - val_loss: 0.3065 - val_accuracy: 0.9681\n",
            "Epoch 4/10\n",
            "53/53 [==============================] - 1s 16ms/step - loss: 0.2044 - accuracy: 0.9953 - val_loss: 1.2104 - val_accuracy: 0.7660\n",
            "Epoch 5/10\n",
            "53/53 [==============================] - 1s 25ms/step - loss: 0.2511 - accuracy: 0.9965 - val_loss: 0.2546 - val_accuracy: 0.9681\n",
            "Epoch 6/10\n",
            "53/53 [==============================] - 1s 17ms/step - loss: 0.1060 - accuracy: 1.0000 - val_loss: 0.1878 - val_accuracy: 0.9681\n",
            "Epoch 7/10\n",
            "53/53 [==============================] - 1s 11ms/step - loss: 0.0870 - accuracy: 1.0000 - val_loss: 0.2008 - val_accuracy: 0.9681\n",
            "Epoch 8/10\n",
            "53/53 [==============================] - 0s 7ms/step - loss: 0.1088 - accuracy: 0.9965 - val_loss: 0.8246 - val_accuracy: 0.9681\n",
            "Epoch 9/10\n",
            "53/53 [==============================] - 1s 10ms/step - loss: 0.3427 - accuracy: 1.0000 - val_loss: 0.3177 - val_accuracy: 0.9787\n",
            "Epoch 10/10\n",
            "53/53 [==============================] - 1s 10ms/step - loss: 0.1256 - accuracy: 1.0000 - val_loss: 0.1897 - val_accuracy: 0.9787\n",
            "3/3 [==============================] - 0s 6ms/step - loss: 0.1897 - accuracy: 0.9787\n",
            "3/3 [==============================] - 1s 5ms/step\n",
            "Fold 9\n",
            "Epoch 1/10\n",
            "53/53 [==============================] - 10s 120ms/step - loss: 26.9188 - accuracy: 0.8546 - val_loss: 14.0779 - val_accuracy: 0.9574\n",
            "Epoch 2/10\n",
            "53/53 [==============================] - 3s 49ms/step - loss: 6.7457 - accuracy: 0.9610 - val_loss: 1.6593 - val_accuracy: 0.9362\n",
            "Epoch 3/10\n",
            "53/53 [==============================] - 1s 27ms/step - loss: 0.5392 - accuracy: 0.9941 - val_loss: 0.2341 - val_accuracy: 0.9681\n",
            "Epoch 4/10\n",
            "53/53 [==============================] - 1s 21ms/step - loss: 0.1369 - accuracy: 0.9988 - val_loss: 0.4097 - val_accuracy: 0.9149\n",
            "Epoch 5/10\n",
            "53/53 [==============================] - 1s 21ms/step - loss: 0.2285 - accuracy: 0.9965 - val_loss: 0.2640 - val_accuracy: 0.9574\n",
            "Epoch 6/10\n",
            "53/53 [==============================] - 1s 19ms/step - loss: 0.1396 - accuracy: 0.9988 - val_loss: 0.3243 - val_accuracy: 0.9574\n",
            "Epoch 7/10\n",
            "53/53 [==============================] - 1s 18ms/step - loss: 0.2333 - accuracy: 0.9929 - val_loss: 0.2770 - val_accuracy: 0.9574\n",
            "Epoch 8/10\n",
            "53/53 [==============================] - 1s 13ms/step - loss: 0.1376 - accuracy: 0.9988 - val_loss: 0.1741 - val_accuracy: 0.9681\n",
            "Epoch 9/10\n",
            "53/53 [==============================] - 1s 11ms/step - loss: 0.0937 - accuracy: 0.9988 - val_loss: 0.2130 - val_accuracy: 0.9574\n",
            "Epoch 10/10\n",
            "53/53 [==============================] - 1s 18ms/step - loss: 0.2184 - accuracy: 0.9941 - val_loss: 0.3313 - val_accuracy: 0.9681\n",
            "3/3 [==============================] - 0s 7ms/step - loss: 0.3313 - accuracy: 0.9681\n",
            "3/3 [==============================] - 1s 6ms/step\n"
          ]
        }
      ]
    },
    {
      "cell_type": "code",
      "source": [
        "cv_results"
      ],
      "metadata": {
        "colab": {
          "base_uri": "https://localhost:8080/",
          "height": 363
        },
        "id": "ESQiIgSp0wnw",
        "outputId": "b738fa31-63d2-45f9-aa14-cb9a63d0fd21"
      },
      "execution_count": null,
      "outputs": [
        {
          "output_type": "execute_result",
          "data": {
            "text/plain": [
              "     Recall Precision  F1 score  F2 score\n",
              "0  0.909091       0.5  0.645161   0.78125\n",
              "1       1.0       0.8  0.888889  0.952381\n",
              "2  0.333333       1.0       0.5  0.384615\n",
              "3  0.666667       0.8  0.727273  0.689655\n",
              "4  0.916667  0.916667  0.916667  0.916667\n",
              "5  0.583333     0.875       0.7     0.625\n",
              "6       1.0       1.0       1.0       1.0\n",
              "7  0.833333  0.909091  0.869565  0.847458\n",
              "8  0.916667  0.916667  0.916667  0.916667\n",
              "9  0.833333  0.909091  0.869565  0.847458"
            ],
            "text/html": [
              "\n",
              "  <div id=\"df-2593e233-79de-4c18-a679-8ae7ee2328bf\">\n",
              "    <div class=\"colab-df-container\">\n",
              "      <div>\n",
              "<style scoped>\n",
              "    .dataframe tbody tr th:only-of-type {\n",
              "        vertical-align: middle;\n",
              "    }\n",
              "\n",
              "    .dataframe tbody tr th {\n",
              "        vertical-align: top;\n",
              "    }\n",
              "\n",
              "    .dataframe thead th {\n",
              "        text-align: right;\n",
              "    }\n",
              "</style>\n",
              "<table border=\"1\" class=\"dataframe\">\n",
              "  <thead>\n",
              "    <tr style=\"text-align: right;\">\n",
              "      <th></th>\n",
              "      <th>Recall</th>\n",
              "      <th>Precision</th>\n",
              "      <th>F1 score</th>\n",
              "      <th>F2 score</th>\n",
              "    </tr>\n",
              "  </thead>\n",
              "  <tbody>\n",
              "    <tr>\n",
              "      <th>0</th>\n",
              "      <td>0.909091</td>\n",
              "      <td>0.5</td>\n",
              "      <td>0.645161</td>\n",
              "      <td>0.78125</td>\n",
              "    </tr>\n",
              "    <tr>\n",
              "      <th>1</th>\n",
              "      <td>1.0</td>\n",
              "      <td>0.8</td>\n",
              "      <td>0.888889</td>\n",
              "      <td>0.952381</td>\n",
              "    </tr>\n",
              "    <tr>\n",
              "      <th>2</th>\n",
              "      <td>0.333333</td>\n",
              "      <td>1.0</td>\n",
              "      <td>0.5</td>\n",
              "      <td>0.384615</td>\n",
              "    </tr>\n",
              "    <tr>\n",
              "      <th>3</th>\n",
              "      <td>0.666667</td>\n",
              "      <td>0.8</td>\n",
              "      <td>0.727273</td>\n",
              "      <td>0.689655</td>\n",
              "    </tr>\n",
              "    <tr>\n",
              "      <th>4</th>\n",
              "      <td>0.916667</td>\n",
              "      <td>0.916667</td>\n",
              "      <td>0.916667</td>\n",
              "      <td>0.916667</td>\n",
              "    </tr>\n",
              "    <tr>\n",
              "      <th>5</th>\n",
              "      <td>0.583333</td>\n",
              "      <td>0.875</td>\n",
              "      <td>0.7</td>\n",
              "      <td>0.625</td>\n",
              "    </tr>\n",
              "    <tr>\n",
              "      <th>6</th>\n",
              "      <td>1.0</td>\n",
              "      <td>1.0</td>\n",
              "      <td>1.0</td>\n",
              "      <td>1.0</td>\n",
              "    </tr>\n",
              "    <tr>\n",
              "      <th>7</th>\n",
              "      <td>0.833333</td>\n",
              "      <td>0.909091</td>\n",
              "      <td>0.869565</td>\n",
              "      <td>0.847458</td>\n",
              "    </tr>\n",
              "    <tr>\n",
              "      <th>8</th>\n",
              "      <td>0.916667</td>\n",
              "      <td>0.916667</td>\n",
              "      <td>0.916667</td>\n",
              "      <td>0.916667</td>\n",
              "    </tr>\n",
              "    <tr>\n",
              "      <th>9</th>\n",
              "      <td>0.833333</td>\n",
              "      <td>0.909091</td>\n",
              "      <td>0.869565</td>\n",
              "      <td>0.847458</td>\n",
              "    </tr>\n",
              "  </tbody>\n",
              "</table>\n",
              "</div>\n",
              "      <button class=\"colab-df-convert\" onclick=\"convertToInteractive('df-2593e233-79de-4c18-a679-8ae7ee2328bf')\"\n",
              "              title=\"Convert this dataframe to an interactive table.\"\n",
              "              style=\"display:none;\">\n",
              "        \n",
              "  <svg xmlns=\"http://www.w3.org/2000/svg\" height=\"24px\"viewBox=\"0 0 24 24\"\n",
              "       width=\"24px\">\n",
              "    <path d=\"M0 0h24v24H0V0z\" fill=\"none\"/>\n",
              "    <path d=\"M18.56 5.44l.94 2.06.94-2.06 2.06-.94-2.06-.94-.94-2.06-.94 2.06-2.06.94zm-11 1L8.5 8.5l.94-2.06 2.06-.94-2.06-.94L8.5 2.5l-.94 2.06-2.06.94zm10 10l.94 2.06.94-2.06 2.06-.94-2.06-.94-.94-2.06-.94 2.06-2.06.94z\"/><path d=\"M17.41 7.96l-1.37-1.37c-.4-.4-.92-.59-1.43-.59-.52 0-1.04.2-1.43.59L10.3 9.45l-7.72 7.72c-.78.78-.78 2.05 0 2.83L4 21.41c.39.39.9.59 1.41.59.51 0 1.02-.2 1.41-.59l7.78-7.78 2.81-2.81c.8-.78.8-2.07 0-2.86zM5.41 20L4 18.59l7.72-7.72 1.47 1.35L5.41 20z\"/>\n",
              "  </svg>\n",
              "      </button>\n",
              "      \n",
              "  <style>\n",
              "    .colab-df-container {\n",
              "      display:flex;\n",
              "      flex-wrap:wrap;\n",
              "      gap: 12px;\n",
              "    }\n",
              "\n",
              "    .colab-df-convert {\n",
              "      background-color: #E8F0FE;\n",
              "      border: none;\n",
              "      border-radius: 50%;\n",
              "      cursor: pointer;\n",
              "      display: none;\n",
              "      fill: #1967D2;\n",
              "      height: 32px;\n",
              "      padding: 0 0 0 0;\n",
              "      width: 32px;\n",
              "    }\n",
              "\n",
              "    .colab-df-convert:hover {\n",
              "      background-color: #E2EBFA;\n",
              "      box-shadow: 0px 1px 2px rgba(60, 64, 67, 0.3), 0px 1px 3px 1px rgba(60, 64, 67, 0.15);\n",
              "      fill: #174EA6;\n",
              "    }\n",
              "\n",
              "    [theme=dark] .colab-df-convert {\n",
              "      background-color: #3B4455;\n",
              "      fill: #D2E3FC;\n",
              "    }\n",
              "\n",
              "    [theme=dark] .colab-df-convert:hover {\n",
              "      background-color: #434B5C;\n",
              "      box-shadow: 0px 1px 3px 1px rgba(0, 0, 0, 0.15);\n",
              "      filter: drop-shadow(0px 1px 2px rgba(0, 0, 0, 0.3));\n",
              "      fill: #FFFFFF;\n",
              "    }\n",
              "  </style>\n",
              "\n",
              "      <script>\n",
              "        const buttonEl =\n",
              "          document.querySelector('#df-2593e233-79de-4c18-a679-8ae7ee2328bf button.colab-df-convert');\n",
              "        buttonEl.style.display =\n",
              "          google.colab.kernel.accessAllowed ? 'block' : 'none';\n",
              "\n",
              "        async function convertToInteractive(key) {\n",
              "          const element = document.querySelector('#df-2593e233-79de-4c18-a679-8ae7ee2328bf');\n",
              "          const dataTable =\n",
              "            await google.colab.kernel.invokeFunction('convertToInteractive',\n",
              "                                                     [key], {});\n",
              "          if (!dataTable) return;\n",
              "\n",
              "          const docLinkHtml = 'Like what you see? Visit the ' +\n",
              "            '<a target=\"_blank\" href=https://colab.research.google.com/notebooks/data_table.ipynb>data table notebook</a>'\n",
              "            + ' to learn more about interactive tables.';\n",
              "          element.innerHTML = '';\n",
              "          dataTable['output_type'] = 'display_data';\n",
              "          await google.colab.output.renderOutput(dataTable, element);\n",
              "          const docLink = document.createElement('div');\n",
              "          docLink.innerHTML = docLinkHtml;\n",
              "          element.appendChild(docLink);\n",
              "        }\n",
              "      </script>\n",
              "    </div>\n",
              "  </div>\n",
              "  "
            ]
          },
          "metadata": {},
          "execution_count": 27
        }
      ]
    },
    {
      "cell_type": "code",
      "source": [
        "cv_results.mean()"
      ],
      "metadata": {
        "colab": {
          "base_uri": "https://localhost:8080/"
        },
        "id": "vHT9mI0y0wWP",
        "outputId": "71ae9c87-079a-416d-e2a7-42f258400441"
      },
      "execution_count": null,
      "outputs": [
        {
          "output_type": "execute_result",
          "data": {
            "text/plain": [
              "Recall       0.799242\n",
              "Precision    0.862652\n",
              "F1 score     0.803379\n",
              "F2 score     0.796115\n",
              "dtype: float64"
            ]
          },
          "metadata": {},
          "execution_count": 28
        }
      ]
    },
    {
      "cell_type": "code",
      "execution_count": null,
      "metadata": {
        "id": "6zXQht_90cw6"
      },
      "outputs": [],
      "source": [
        "def train_blstm(sent_length, words_mean, train_texts, train_labels):\n",
        "\n",
        "  blstm_model = create_blstm_model(sent_length, words_mean, train_texts)\n",
        "  \n",
        "  history = blstm_model.fit(train_texts,\n",
        "                            train_labels,\n",
        "                            epochs=10,\n",
        "                            batch_size=16,\n",
        "                            validation_data=(X_test, y_test))\n",
        "  \n",
        "  blstm_model.evaluate(X_test, y_test)\n",
        "  y_pred = np.round(blstm_model.predict(X_test))\n",
        "\n",
        "  f1_sc = f1_score(y_test, y_pred)\n",
        "  f2score = fbeta_score(y_test, y_pred, beta=2, average='binary')\n",
        "  mcc = matthews_corrcoef(y_test, y_pred)\n",
        "\n",
        "\n",
        "  print(\"test accuracy = \" + str(accuracy_score(y_test, y_pred)))\n",
        "  print(\"Recall = {}\".format(recall_score(y_test, y_pred)))\n",
        "  print(\"Precision = {}\".format(precision_score(y_test, y_pred)))\n",
        "  print(\"F1 score = {}\".format(f1_sc))\n",
        "  print(\"F2 score = {}\".format(f2score))\n",
        "  print(\"MCC = {}\".format(mcc))\n",
        "  print(classification_report(y_test, y_pred))\n",
        "  \n",
        "  cm = confusion_matrix(y_test, y_pred)\n",
        "\n",
        "  disp = ConfusionMatrixDisplay(confusion_matrix=cm, display_labels=[0,1])\n",
        "\n",
        "  disp.plot(cmap=plt.cm.Blues)\n",
        "  plt.show()\n",
        "\n",
        "  return f1_sc\n"
      ]
    },
    {
      "cell_type": "code",
      "execution_count": null,
      "metadata": {
        "id": "_U_v7I5sClng"
      },
      "outputs": [],
      "source": [
        "X_train = train_data['text'].values"
      ]
    },
    {
      "cell_type": "code",
      "execution_count": null,
      "metadata": {
        "colab": {
          "base_uri": "https://localhost:8080/"
        },
        "id": "zaCUyFfQCtFC",
        "outputId": "6ef98251-e59e-4588-aaed-933584b1dc97"
      },
      "outputs": [
        {
          "data": {
            "text/plain": [
              "(940,)"
            ]
          },
          "execution_count": 39,
          "metadata": {},
          "output_type": "execute_result"
        }
      ],
      "source": [
        "X_train.shape"
      ]
    },
    {
      "cell_type": "code",
      "execution_count": null,
      "metadata": {
        "id": "8YhryH1ACndd"
      },
      "outputs": [],
      "source": [
        "y_train = train_data['label'].values.reshape(-1, 1)"
      ]
    },
    {
      "cell_type": "code",
      "execution_count": null,
      "metadata": {
        "colab": {
          "base_uri": "https://localhost:8080/"
        },
        "id": "wyCDgBEDC2KZ",
        "outputId": "7e8590b7-9917-4e04-ef8f-5d2ce1642a7e"
      },
      "outputs": [
        {
          "data": {
            "text/plain": [
              "(940, 1)"
            ]
          },
          "execution_count": 41,
          "metadata": {},
          "output_type": "execute_result"
        }
      ],
      "source": [
        "y_train.shape"
      ]
    },
    {
      "cell_type": "code",
      "execution_count": null,
      "metadata": {
        "id": "k6j7buOqDqOQ"
      },
      "outputs": [],
      "source": [
        "X_test = test_data['text'].values.reshape(-1, 1)"
      ]
    },
    {
      "cell_type": "code",
      "execution_count": null,
      "metadata": {
        "colab": {
          "base_uri": "https://localhost:8080/",
          "height": 1000
        },
        "id": "PmgBYhPBnx8X",
        "outputId": "50e7ecdf-bfc2-4fdf-b125-df982c977949"
      },
      "outputs": [
        {
          "name": "stdout",
          "output_type": "stream",
          "text": [
            "Epoch 1/10\n",
            "59/59 [==============================] - 10s 104ms/step - loss: 31.0245 - accuracy: 0.8936 - val_loss: 11.7669 - val_accuracy: 0.8790\n",
            "Epoch 2/10\n",
            "59/59 [==============================] - 2s 41ms/step - loss: 3.6894 - accuracy: 0.9766 - val_loss: 0.7720 - val_accuracy: 0.8548\n",
            "Epoch 3/10\n",
            "59/59 [==============================] - 1s 22ms/step - loss: 0.3081 - accuracy: 0.9926 - val_loss: 0.4842 - val_accuracy: 0.8710\n",
            "Epoch 4/10\n",
            "59/59 [==============================] - 1s 15ms/step - loss: 0.2134 - accuracy: 0.9957 - val_loss: 1.4391 - val_accuracy: 0.7742\n",
            "Epoch 5/10\n",
            "59/59 [==============================] - 1s 26ms/step - loss: 0.1785 - accuracy: 0.9989 - val_loss: 3.6133 - val_accuracy: 0.6694\n",
            "Epoch 6/10\n",
            "59/59 [==============================] - 1s 14ms/step - loss: 0.1951 - accuracy: 0.9947 - val_loss: 1.9707 - val_accuracy: 0.7742\n",
            "Epoch 7/10\n",
            "59/59 [==============================] - 1s 16ms/step - loss: 0.1607 - accuracy: 1.0000 - val_loss: 0.5598 - val_accuracy: 0.8710\n",
            "Epoch 8/10\n",
            "59/59 [==============================] - 1s 13ms/step - loss: 0.1382 - accuracy: 1.0000 - val_loss: 4.5915 - val_accuracy: 0.6935\n",
            "Epoch 9/10\n",
            "59/59 [==============================] - 1s 13ms/step - loss: 0.1523 - accuracy: 1.0000 - val_loss: 0.7163 - val_accuracy: 0.8548\n",
            "Epoch 10/10\n",
            "59/59 [==============================] - 1s 11ms/step - loss: 0.1255 - accuracy: 1.0000 - val_loss: 0.8169 - val_accuracy: 0.8790\n",
            "4/4 [==============================] - 0s 5ms/step - loss: 0.8169 - accuracy: 0.8790\n",
            "4/4 [==============================] - 1s 4ms/step\n",
            "test accuracy = 0.8790322580645161\n",
            "Recall = 0.84\n",
            "Precision = 0.9545454545454546\n",
            "F1 score = 0.8936170212765958\n",
            "F2 score = 0.8606557377049182\n",
            "MCC = 0.7630535077884072\n",
            "              precision    recall  f1-score   support\n",
            "\n",
            "           0       0.79      0.94      0.86        49\n",
            "           1       0.95      0.84      0.89        75\n",
            "\n",
            "    accuracy                           0.88       124\n",
            "   macro avg       0.87      0.89      0.88       124\n",
            "weighted avg       0.89      0.88      0.88       124\n",
            "\n"
          ]
        },
        {
          "data": {
            "image/png": "[encoded data removed]",
            "text/plain": [
              "<Figure size 640x480 with 2 Axes>"
            ]
          },
          "metadata": {},
          "output_type": "display_data"
        },
        {
          "data": {
            "text/plain": [
              "0.8936170212765958"
            ]
          },
          "execution_count": 73,
          "metadata": {},
          "output_type": "execute_result"
        }
      ],
      "source": [
        "train_blstm(total_length, text_words_mean, X_train, y_train)"
      ]
    }
  ],
  "metadata": {
    "accelerator": "GPU",
    "colab": {
      "machine_shape": "hm",
      "provenance": []
    },
    "gpuClass": "standard",
    "kernelspec": {
      "display_name": "Python 3",
      "name": "python3"
    },
    "language_info": {
      "name": "python"
    }
  },
  "nbformat": 4,
  "nbformat_minor": 0
}