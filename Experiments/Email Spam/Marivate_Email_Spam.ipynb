{
  "cells": [
    {
      "cell_type": "code",
      "source": [
        "from datetime import datetime\n",
        "import numpy as np\n",
        "import pandas as pd\n",
        "from sklearn.preprocessing import LabelEncoder\n",
        "from sklearn.model_selection import train_test_split\n",
        "from sklearn.ensemble import RandomForestClassifier, ExtraTreesClassifier\n",
        "from sklearn.linear_model import SGDClassifier, LogisticRegression\n",
        "from sklearn.naive_bayes import GaussianNB\n",
        "from sklearn.neural_network import MLPClassifier\n",
        "from sklearn.svm import SVC\n",
        "from sklearn.neighbors import KNeighborsClassifier\n",
        "from sklearn.model_selection import GridSearchCV\n",
        "from sklearn.ensemble import StackingClassifier\n",
        "from sklearn.metrics import confusion_matrix\n",
        "from sklearn.metrics import ConfusionMatrixDisplay\n",
        "from sklearn.metrics import accuracy_score, recall_score, precision_score, f1_score, fbeta_score, classification_report, matthews_corrcoef\n",
        "from sklearn.metrics import make_scorer \n",
        "import matplotlib.pyplot as plt\n",
        "import gensim.downloader as api"
      ],
      "metadata": {
        "id": "aVfPXdU-bMLn"
      },
      "execution_count": null,
      "outputs": []
    },
    {
      "cell_type": "code",
      "source": [
        "import nltk\n",
        "from nltk.tokenize import word_tokenize\n",
        "from nltk import pos_tag\n",
        "nltk.download('stopwords')\n",
        "nltk.download('punkt')\n",
        "nltk.download('averaged_perceptron_tagger')"
      ],
      "metadata": {
        "colab": {
          "base_uri": "https://localhost:8080/"
        },
        "id": "5VnZXUcjbN4k",
        "outputId": "89b9f0da-77df-4d2c-bbf6-2d028ec0544c"
      },
      "execution_count": null,
      "outputs": [
        {
          "output_type": "stream",
          "name": "stderr",
          "text": [
            "[nltk_data] Downloading package stopwords to /root/nltk_data...\n",
            "[nltk_data]   Unzipping corpora/stopwords.zip.\n",
            "[nltk_data] Downloading package punkt to /root/nltk_data...\n",
            "[nltk_data]   Unzipping tokenizers/punkt.zip.\n",
            "[nltk_data] Downloading package averaged_perceptron_tagger to\n",
            "[nltk_data]     /root/nltk_data...\n",
            "[nltk_data]   Unzipping taggers/averaged_perceptron_tagger.zip.\n"
          ]
        },
        {
          "output_type": "execute_result",
          "data": {
            "text/plain": [
              "True"
            ]
          },
          "metadata": {},
          "execution_count": 2
        }
      ]
    },
    {
      "cell_type": "code",
      "execution_count": null,
      "metadata": {
        "colab": {
          "base_uri": "https://localhost:8080/"
        },
        "id": "kK47QdlrrAw0",
        "outputId": "762e5492-e830-4fd4-828b-29b10195dcde"
      },
      "outputs": [
        {
          "output_type": "stream",
          "name": "stdout",
          "text": [
            "Mounted at /content/gdrive\n"
          ]
        }
      ],
      "source": [
        "from google.colab import drive\n",
        "drive.mount('/content/gdrive')\n",
        "dir_name = \"/content/gdrive/MyDrive/Thesis/\""
      ]
    },
    {
      "cell_type": "code",
      "execution_count": null,
      "metadata": {
        "id": "vxr47BS1rsLu"
      },
      "outputs": [],
      "source": [
        "def get_raw_data(dir_name, file_name):\n",
        "    #  load data\n",
        "    data = pd.read_csv('{}{}.csv'.format(dir_name,file_name), encoding = 'latin-1', usecols=['Message_body', 'Label'])\n",
        "    data = data.rename(columns={'Label': 'label', 'Message_body': 'text'})\n",
        "    le = LabelEncoder()\n",
        "    data['label'] = le.fit_transform( data['label'])\n",
        "    return data"
      ]
    },
    {
      "cell_type": "code",
      "execution_count": null,
      "metadata": {
        "id": "Vi_KpcsBvFju"
      },
      "outputs": [],
      "source": [
        "raw_train_data = get_raw_data(dir_name + 'datasets/email_spam/', 'train')"
      ]
    },
    {
      "cell_type": "code",
      "execution_count": null,
      "metadata": {
        "colab": {
          "base_uri": "https://localhost:8080/",
          "height": 424
        },
        "id": "ALdow6ABz3HA",
        "outputId": "bfc47606-a936-465f-80df-1df0f7da2dd9"
      },
      "outputs": [
        {
          "output_type": "execute_result",
          "data": {
            "text/plain": [
              "                                                  text  label\n",
              "0                           Rofl. Its true to its name      0\n",
              "1    The guy did some bitching but I acted like i'd...      0\n",
              "2    Pity, * was in mood for that. So...any other s...      0\n",
              "3                 Will ü b going to esplanade fr home?      0\n",
              "4    This is the 2nd time we have tried 2 contact u...      1\n",
              "..                                                 ...    ...\n",
              "952  hows my favourite person today? r u workin har...      0\n",
              "953                      How much you got for cleaning      0\n",
              "954  Sorry da. I gone mad so many pending works wha...      0\n",
              "955                                 Wat time ü finish?      0\n",
              "956                    Just glad to be talking to you.      0\n",
              "\n",
              "[957 rows x 2 columns]"
            ],
            "text/html": [
              "\n",
              "  <div id=\"df-b67e7453-8503-49e0-b463-3052e37bd483\">\n",
              "    <div class=\"colab-df-container\">\n",
              "      <div>\n",
              "<style scoped>\n",
              "    .dataframe tbody tr th:only-of-type {\n",
              "        vertical-align: middle;\n",
              "    }\n",
              "\n",
              "    .dataframe tbody tr th {\n",
              "        vertical-align: top;\n",
              "    }\n",
              "\n",
              "    .dataframe thead th {\n",
              "        text-align: right;\n",
              "    }\n",
              "</style>\n",
              "<table border=\"1\" class=\"dataframe\">\n",
              "  <thead>\n",
              "    <tr style=\"text-align: right;\">\n",
              "      <th></th>\n",
              "      <th>text</th>\n",
              "      <th>label</th>\n",
              "    </tr>\n",
              "  </thead>\n",
              "  <tbody>\n",
              "    <tr>\n",
              "      <th>0</th>\n",
              "      <td>Rofl. Its true to its name</td>\n",
              "      <td>0</td>\n",
              "    </tr>\n",
              "    <tr>\n",
              "      <th>1</th>\n",
              "      <td>The guy did some bitching but I acted like i'd...</td>\n",
              "      <td>0</td>\n",
              "    </tr>\n",
              "    <tr>\n",
              "      <th>2</th>\n",
              "      <td>Pity, * was in mood for that. So...any other s...</td>\n",
              "      <td>0</td>\n",
              "    </tr>\n",
              "    <tr>\n",
              "      <th>3</th>\n",
              "      <td>Will ü b going to esplanade fr home?</td>\n",
              "      <td>0</td>\n",
              "    </tr>\n",
              "    <tr>\n",
              "      <th>4</th>\n",
              "      <td>This is the 2nd time we have tried 2 contact u...</td>\n",
              "      <td>1</td>\n",
              "    </tr>\n",
              "    <tr>\n",
              "      <th>...</th>\n",
              "      <td>...</td>\n",
              "      <td>...</td>\n",
              "    </tr>\n",
              "    <tr>\n",
              "      <th>952</th>\n",
              "      <td>hows my favourite person today? r u workin har...</td>\n",
              "      <td>0</td>\n",
              "    </tr>\n",
              "    <tr>\n",
              "      <th>953</th>\n",
              "      <td>How much you got for cleaning</td>\n",
              "      <td>0</td>\n",
              "    </tr>\n",
              "    <tr>\n",
              "      <th>954</th>\n",
              "      <td>Sorry da. I gone mad so many pending works wha...</td>\n",
              "      <td>0</td>\n",
              "    </tr>\n",
              "    <tr>\n",
              "      <th>955</th>\n",
              "      <td>Wat time ü finish?</td>\n",
              "      <td>0</td>\n",
              "    </tr>\n",
              "    <tr>\n",
              "      <th>956</th>\n",
              "      <td>Just glad to be talking to you.</td>\n",
              "      <td>0</td>\n",
              "    </tr>\n",
              "  </tbody>\n",
              "</table>\n",
              "<p>957 rows × 2 columns</p>\n",
              "</div>\n",
              "      <button class=\"colab-df-convert\" onclick=\"convertToInteractive('df-b67e7453-8503-49e0-b463-3052e37bd483')\"\n",
              "              title=\"Convert this dataframe to an interactive table.\"\n",
              "              style=\"display:none;\">\n",
              "        \n",
              "  <svg xmlns=\"http://www.w3.org/2000/svg\" height=\"24px\"viewBox=\"0 0 24 24\"\n",
              "       width=\"24px\">\n",
              "    <path d=\"M0 0h24v24H0V0z\" fill=\"none\"/>\n",
              "    <path d=\"M18.56 5.44l.94 2.06.94-2.06 2.06-.94-2.06-.94-.94-2.06-.94 2.06-2.06.94zm-11 1L8.5 8.5l.94-2.06 2.06-.94-2.06-.94L8.5 2.5l-.94 2.06-2.06.94zm10 10l.94 2.06.94-2.06 2.06-.94-2.06-.94-.94-2.06-.94 2.06-2.06.94z\"/><path d=\"M17.41 7.96l-1.37-1.37c-.4-.4-.92-.59-1.43-.59-.52 0-1.04.2-1.43.59L10.3 9.45l-7.72 7.72c-.78.78-.78 2.05 0 2.83L4 21.41c.39.39.9.59 1.41.59.51 0 1.02-.2 1.41-.59l7.78-7.78 2.81-2.81c.8-.78.8-2.07 0-2.86zM5.41 20L4 18.59l7.72-7.72 1.47 1.35L5.41 20z\"/>\n",
              "  </svg>\n",
              "      </button>\n",
              "      \n",
              "  <style>\n",
              "    .colab-df-container {\n",
              "      display:flex;\n",
              "      flex-wrap:wrap;\n",
              "      gap: 12px;\n",
              "    }\n",
              "\n",
              "    .colab-df-convert {\n",
              "      background-color: #E8F0FE;\n",
              "      border: none;\n",
              "      border-radius: 50%;\n",
              "      cursor: pointer;\n",
              "      display: none;\n",
              "      fill: #1967D2;\n",
              "      height: 32px;\n",
              "      padding: 0 0 0 0;\n",
              "      width: 32px;\n",
              "    }\n",
              "\n",
              "    .colab-df-convert:hover {\n",
              "      background-color: #E2EBFA;\n",
              "      box-shadow: 0px 1px 2px rgba(60, 64, 67, 0.3), 0px 1px 3px 1px rgba(60, 64, 67, 0.15);\n",
              "      fill: #174EA6;\n",
              "    }\n",
              "\n",
              "    [theme=dark] .colab-df-convert {\n",
              "      background-color: #3B4455;\n",
              "      fill: #D2E3FC;\n",
              "    }\n",
              "\n",
              "    [theme=dark] .colab-df-convert:hover {\n",
              "      background-color: #434B5C;\n",
              "      box-shadow: 0px 1px 3px 1px rgba(0, 0, 0, 0.15);\n",
              "      filter: drop-shadow(0px 1px 2px rgba(0, 0, 0, 0.3));\n",
              "      fill: #FFFFFF;\n",
              "    }\n",
              "  </style>\n",
              "\n",
              "      <script>\n",
              "        const buttonEl =\n",
              "          document.querySelector('#df-b67e7453-8503-49e0-b463-3052e37bd483 button.colab-df-convert');\n",
              "        buttonEl.style.display =\n",
              "          google.colab.kernel.accessAllowed ? 'block' : 'none';\n",
              "\n",
              "        async function convertToInteractive(key) {\n",
              "          const element = document.querySelector('#df-b67e7453-8503-49e0-b463-3052e37bd483');\n",
              "          const dataTable =\n",
              "            await google.colab.kernel.invokeFunction('convertToInteractive',\n",
              "                                                     [key], {});\n",
              "          if (!dataTable) return;\n",
              "\n",
              "          const docLinkHtml = 'Like what you see? Visit the ' +\n",
              "            '<a target=\"_blank\" href=https://colab.research.google.com/notebooks/data_table.ipynb>data table notebook</a>'\n",
              "            + ' to learn more about interactive tables.';\n",
              "          element.innerHTML = '';\n",
              "          dataTable['output_type'] = 'display_data';\n",
              "          await google.colab.output.renderOutput(dataTable, element);\n",
              "          const docLink = document.createElement('div');\n",
              "          docLink.innerHTML = docLinkHtml;\n",
              "          element.appendChild(docLink);\n",
              "        }\n",
              "      </script>\n",
              "    </div>\n",
              "  </div>\n",
              "  "
            ]
          },
          "metadata": {},
          "execution_count": 6
        }
      ],
      "source": [
        "raw_train_data"
      ]
    },
    {
      "cell_type": "code",
      "source": [
        "raw_train_data['text'].is_unique"
      ],
      "metadata": {
        "colab": {
          "base_uri": "https://localhost:8080/"
        },
        "id": "ZAqtugl1bzir",
        "outputId": "4097f85d-d825-4fa3-b3cd-f88c73a409e2"
      },
      "execution_count": null,
      "outputs": [
        {
          "output_type": "execute_result",
          "data": {
            "text/plain": [
              "False"
            ]
          },
          "metadata": {},
          "execution_count": 7
        }
      ]
    },
    {
      "cell_type": "code",
      "source": [
        "raw_train_data.drop_duplicates(subset=['text'], inplace=True)"
      ],
      "metadata": {
        "id": "5Xhz2Qrub2GA"
      },
      "execution_count": null,
      "outputs": []
    },
    {
      "cell_type": "code",
      "source": [
        "raw_train_data['text'].is_unique"
      ],
      "metadata": {
        "colab": {
          "base_uri": "https://localhost:8080/"
        },
        "id": "bz4_IBLPb4E1",
        "outputId": "377d21bb-23d9-4d04-e119-91040b7755c6"
      },
      "execution_count": null,
      "outputs": [
        {
          "output_type": "execute_result",
          "data": {
            "text/plain": [
              "True"
            ]
          },
          "metadata": {},
          "execution_count": 9
        }
      ]
    },
    {
      "cell_type": "code",
      "source": [
        "raw_train_data"
      ],
      "metadata": {
        "colab": {
          "base_uri": "https://localhost:8080/",
          "height": 424
        },
        "id": "BwKJ9D7qb6Fb",
        "outputId": "bf5071ad-9f4b-4957-b68c-fe059e86cb63"
      },
      "execution_count": null,
      "outputs": [
        {
          "output_type": "execute_result",
          "data": {
            "text/plain": [
              "                                                  text  label\n",
              "0                           Rofl. Its true to its name      0\n",
              "1    The guy did some bitching but I acted like i'd...      0\n",
              "2    Pity, * was in mood for that. So...any other s...      0\n",
              "3                 Will ü b going to esplanade fr home?      0\n",
              "4    This is the 2nd time we have tried 2 contact u...      1\n",
              "..                                                 ...    ...\n",
              "952  hows my favourite person today? r u workin har...      0\n",
              "953                      How much you got for cleaning      0\n",
              "954  Sorry da. I gone mad so many pending works wha...      0\n",
              "955                                 Wat time ü finish?      0\n",
              "956                    Just glad to be talking to you.      0\n",
              "\n",
              "[945 rows x 2 columns]"
            ],
            "text/html": [
              "\n",
              "  <div id=\"df-78a6495e-30c7-49c8-a6ed-1aa07fc3ba36\">\n",
              "    <div class=\"colab-df-container\">\n",
              "      <div>\n",
              "<style scoped>\n",
              "    .dataframe tbody tr th:only-of-type {\n",
              "        vertical-align: middle;\n",
              "    }\n",
              "\n",
              "    .dataframe tbody tr th {\n",
              "        vertical-align: top;\n",
              "    }\n",
              "\n",
              "    .dataframe thead th {\n",
              "        text-align: right;\n",
              "    }\n",
              "</style>\n",
              "<table border=\"1\" class=\"dataframe\">\n",
              "  <thead>\n",
              "    <tr style=\"text-align: right;\">\n",
              "      <th></th>\n",
              "      <th>text</th>\n",
              "      <th>label</th>\n",
              "    </tr>\n",
              "  </thead>\n",
              "  <tbody>\n",
              "    <tr>\n",
              "      <th>0</th>\n",
              "      <td>Rofl. Its true to its name</td>\n",
              "      <td>0</td>\n",
              "    </tr>\n",
              "    <tr>\n",
              "      <th>1</th>\n",
              "      <td>The guy did some bitching but I acted like i'd...</td>\n",
              "      <td>0</td>\n",
              "    </tr>\n",
              "    <tr>\n",
              "      <th>2</th>\n",
              "      <td>Pity, * was in mood for that. So...any other s...</td>\n",
              "      <td>0</td>\n",
              "    </tr>\n",
              "    <tr>\n",
              "      <th>3</th>\n",
              "      <td>Will ü b going to esplanade fr home?</td>\n",
              "      <td>0</td>\n",
              "    </tr>\n",
              "    <tr>\n",
              "      <th>4</th>\n",
              "      <td>This is the 2nd time we have tried 2 contact u...</td>\n",
              "      <td>1</td>\n",
              "    </tr>\n",
              "    <tr>\n",
              "      <th>...</th>\n",
              "      <td>...</td>\n",
              "      <td>...</td>\n",
              "    </tr>\n",
              "    <tr>\n",
              "      <th>952</th>\n",
              "      <td>hows my favourite person today? r u workin har...</td>\n",
              "      <td>0</td>\n",
              "    </tr>\n",
              "    <tr>\n",
              "      <th>953</th>\n",
              "      <td>How much you got for cleaning</td>\n",
              "      <td>0</td>\n",
              "    </tr>\n",
              "    <tr>\n",
              "      <th>954</th>\n",
              "      <td>Sorry da. I gone mad so many pending works wha...</td>\n",
              "      <td>0</td>\n",
              "    </tr>\n",
              "    <tr>\n",
              "      <th>955</th>\n",
              "      <td>Wat time ü finish?</td>\n",
              "      <td>0</td>\n",
              "    </tr>\n",
              "    <tr>\n",
              "      <th>956</th>\n",
              "      <td>Just glad to be talking to you.</td>\n",
              "      <td>0</td>\n",
              "    </tr>\n",
              "  </tbody>\n",
              "</table>\n",
              "<p>945 rows × 2 columns</p>\n",
              "</div>\n",
              "      <button class=\"colab-df-convert\" onclick=\"convertToInteractive('df-78a6495e-30c7-49c8-a6ed-1aa07fc3ba36')\"\n",
              "              title=\"Convert this dataframe to an interactive table.\"\n",
              "              style=\"display:none;\">\n",
              "        \n",
              "  <svg xmlns=\"http://www.w3.org/2000/svg\" height=\"24px\"viewBox=\"0 0 24 24\"\n",
              "       width=\"24px\">\n",
              "    <path d=\"M0 0h24v24H0V0z\" fill=\"none\"/>\n",
              "    <path d=\"M18.56 5.44l.94 2.06.94-2.06 2.06-.94-2.06-.94-.94-2.06-.94 2.06-2.06.94zm-11 1L8.5 8.5l.94-2.06 2.06-.94-2.06-.94L8.5 2.5l-.94 2.06-2.06.94zm10 10l.94 2.06.94-2.06 2.06-.94-2.06-.94-.94-2.06-.94 2.06-2.06.94z\"/><path d=\"M17.41 7.96l-1.37-1.37c-.4-.4-.92-.59-1.43-.59-.52 0-1.04.2-1.43.59L10.3 9.45l-7.72 7.72c-.78.78-.78 2.05 0 2.83L4 21.41c.39.39.9.59 1.41.59.51 0 1.02-.2 1.41-.59l7.78-7.78 2.81-2.81c.8-.78.8-2.07 0-2.86zM5.41 20L4 18.59l7.72-7.72 1.47 1.35L5.41 20z\"/>\n",
              "  </svg>\n",
              "      </button>\n",
              "      \n",
              "  <style>\n",
              "    .colab-df-container {\n",
              "      display:flex;\n",
              "      flex-wrap:wrap;\n",
              "      gap: 12px;\n",
              "    }\n",
              "\n",
              "    .colab-df-convert {\n",
              "      background-color: #E8F0FE;\n",
              "      border: none;\n",
              "      border-radius: 50%;\n",
              "      cursor: pointer;\n",
              "      display: none;\n",
              "      fill: #1967D2;\n",
              "      height: 32px;\n",
              "      padding: 0 0 0 0;\n",
              "      width: 32px;\n",
              "    }\n",
              "\n",
              "    .colab-df-convert:hover {\n",
              "      background-color: #E2EBFA;\n",
              "      box-shadow: 0px 1px 2px rgba(60, 64, 67, 0.3), 0px 1px 3px 1px rgba(60, 64, 67, 0.15);\n",
              "      fill: #174EA6;\n",
              "    }\n",
              "\n",
              "    [theme=dark] .colab-df-convert {\n",
              "      background-color: #3B4455;\n",
              "      fill: #D2E3FC;\n",
              "    }\n",
              "\n",
              "    [theme=dark] .colab-df-convert:hover {\n",
              "      background-color: #434B5C;\n",
              "      box-shadow: 0px 1px 3px 1px rgba(0, 0, 0, 0.15);\n",
              "      filter: drop-shadow(0px 1px 2px rgba(0, 0, 0, 0.3));\n",
              "      fill: #FFFFFF;\n",
              "    }\n",
              "  </style>\n",
              "\n",
              "      <script>\n",
              "        const buttonEl =\n",
              "          document.querySelector('#df-78a6495e-30c7-49c8-a6ed-1aa07fc3ba36 button.colab-df-convert');\n",
              "        buttonEl.style.display =\n",
              "          google.colab.kernel.accessAllowed ? 'block' : 'none';\n",
              "\n",
              "        async function convertToInteractive(key) {\n",
              "          const element = document.querySelector('#df-78a6495e-30c7-49c8-a6ed-1aa07fc3ba36');\n",
              "          const dataTable =\n",
              "            await google.colab.kernel.invokeFunction('convertToInteractive',\n",
              "                                                     [key], {});\n",
              "          if (!dataTable) return;\n",
              "\n",
              "          const docLinkHtml = 'Like what you see? Visit the ' +\n",
              "            '<a target=\"_blank\" href=https://colab.research.google.com/notebooks/data_table.ipynb>data table notebook</a>'\n",
              "            + ' to learn more about interactive tables.';\n",
              "          element.innerHTML = '';\n",
              "          dataTable['output_type'] = 'display_data';\n",
              "          await google.colab.output.renderOutput(dataTable, element);\n",
              "          const docLink = document.createElement('div');\n",
              "          docLink.innerHTML = docLinkHtml;\n",
              "          element.appendChild(docLink);\n",
              "        }\n",
              "      </script>\n",
              "    </div>\n",
              "  </div>\n",
              "  "
            ]
          },
          "metadata": {},
          "execution_count": 10
        }
      ]
    },
    {
      "cell_type": "code",
      "execution_count": null,
      "metadata": {
        "id": "s2Uyx7xqy4BU"
      },
      "outputs": [],
      "source": [
        "def get_dataset_statistics(data):\n",
        "    dataset_statistics = {'Number of emails': [data['label'].value_counts()[0], data['label'].value_counts()[1]]}\n",
        "    df = pd.DataFrame(dataset_statistics, index=['Non-Spam', 'Spam'])\n",
        "    df.plot(kind='pie', y='Number of emails', figsize=(6, 6), fontsize=14,\n",
        "            autopct=lambda v: '{:.0f} ({:.1f}%)'.format(v / 100 * data['label'].count(), v))"
      ]
    },
    {
      "cell_type": "code",
      "execution_count": null,
      "metadata": {
        "id": "etrZLrZi1YQu",
        "colab": {
          "base_uri": "https://localhost:8080/",
          "height": 499
        },
        "outputId": "2667cd30-cae1-469e-cb7f-bd4b7fc5f9ff"
      },
      "outputs": [
        {
          "output_type": "display_data",
          "data": {
            "text/plain": [
              "<Figure size 600x600 with 1 Axes>"
            ],
            "image/png": "[encoded data removed]"
          },
          "metadata": {}
        }
      ],
      "source": [
        "# Raw data statistics\n",
        "get_dataset_statistics(raw_train_data)"
      ]
    },
    {
      "cell_type": "code",
      "source": [
        "raw_test_data = get_raw_data(dir_name + 'datasets/email_spam/', 'test')"
      ],
      "metadata": {
        "id": "oyXq2yIytdHV"
      },
      "execution_count": null,
      "outputs": []
    },
    {
      "cell_type": "code",
      "source": [
        "raw_test_data"
      ],
      "metadata": {
        "colab": {
          "base_uri": "https://localhost:8080/",
          "height": 424
        },
        "id": "qvkWRkkLtvEF",
        "outputId": "68a4d5cd-4e1c-4feb-c235-738d8314a46f"
      },
      "execution_count": null,
      "outputs": [
        {
          "output_type": "execute_result",
          "data": {
            "text/plain": [
              "                                                  text  label\n",
              "0    UpgrdCentre Orange customer, you may now claim...      1\n",
              "1    Loan for any purpose £500 - £75,000. Homeowner...      1\n",
              "2    Congrats! Nokia 3650 video camera phone is you...      1\n",
              "3    URGENT! Your Mobile number has been awarded wi...      1\n",
              "4    Someone has contacted our dating service and e...      1\n",
              "..                                                 ...    ...\n",
              "120  7 wonders in My WORLD 7th You 6th Ur style 5th...      0\n",
              "121  Try to do something dear. You read something f...      0\n",
              "122  Sun ah... Thk mayb can if dun have anythin on....      0\n",
              "123  SYMPTOMS when U are in love: \"1.U like listeni...      0\n",
              "124  Great. Have a safe trip. Dont panic surrender ...      0\n",
              "\n",
              "[125 rows x 2 columns]"
            ],
            "text/html": [
              "\n",
              "  <div id=\"df-d17031b4-91ce-4b2c-9513-4ebb8bd79f77\">\n",
              "    <div class=\"colab-df-container\">\n",
              "      <div>\n",
              "<style scoped>\n",
              "    .dataframe tbody tr th:only-of-type {\n",
              "        vertical-align: middle;\n",
              "    }\n",
              "\n",
              "    .dataframe tbody tr th {\n",
              "        vertical-align: top;\n",
              "    }\n",
              "\n",
              "    .dataframe thead th {\n",
              "        text-align: right;\n",
              "    }\n",
              "</style>\n",
              "<table border=\"1\" class=\"dataframe\">\n",
              "  <thead>\n",
              "    <tr style=\"text-align: right;\">\n",
              "      <th></th>\n",
              "      <th>text</th>\n",
              "      <th>label</th>\n",
              "    </tr>\n",
              "  </thead>\n",
              "  <tbody>\n",
              "    <tr>\n",
              "      <th>0</th>\n",
              "      <td>UpgrdCentre Orange customer, you may now claim...</td>\n",
              "      <td>1</td>\n",
              "    </tr>\n",
              "    <tr>\n",
              "      <th>1</th>\n",
              "      <td>Loan for any purpose £500 - £75,000. Homeowner...</td>\n",
              "      <td>1</td>\n",
              "    </tr>\n",
              "    <tr>\n",
              "      <th>2</th>\n",
              "      <td>Congrats! Nokia 3650 video camera phone is you...</td>\n",
              "      <td>1</td>\n",
              "    </tr>\n",
              "    <tr>\n",
              "      <th>3</th>\n",
              "      <td>URGENT! Your Mobile number has been awarded wi...</td>\n",
              "      <td>1</td>\n",
              "    </tr>\n",
              "    <tr>\n",
              "      <th>4</th>\n",
              "      <td>Someone has contacted our dating service and e...</td>\n",
              "      <td>1</td>\n",
              "    </tr>\n",
              "    <tr>\n",
              "      <th>...</th>\n",
              "      <td>...</td>\n",
              "      <td>...</td>\n",
              "    </tr>\n",
              "    <tr>\n",
              "      <th>120</th>\n",
              "      <td>7 wonders in My WORLD 7th You 6th Ur style 5th...</td>\n",
              "      <td>0</td>\n",
              "    </tr>\n",
              "    <tr>\n",
              "      <th>121</th>\n",
              "      <td>Try to do something dear. You read something f...</td>\n",
              "      <td>0</td>\n",
              "    </tr>\n",
              "    <tr>\n",
              "      <th>122</th>\n",
              "      <td>Sun ah... Thk mayb can if dun have anythin on....</td>\n",
              "      <td>0</td>\n",
              "    </tr>\n",
              "    <tr>\n",
              "      <th>123</th>\n",
              "      <td>SYMPTOMS when U are in love: \"1.U like listeni...</td>\n",
              "      <td>0</td>\n",
              "    </tr>\n",
              "    <tr>\n",
              "      <th>124</th>\n",
              "      <td>Great. Have a safe trip. Dont panic surrender ...</td>\n",
              "      <td>0</td>\n",
              "    </tr>\n",
              "  </tbody>\n",
              "</table>\n",
              "<p>125 rows × 2 columns</p>\n",
              "</div>\n",
              "      <button class=\"colab-df-convert\" onclick=\"convertToInteractive('df-d17031b4-91ce-4b2c-9513-4ebb8bd79f77')\"\n",
              "              title=\"Convert this dataframe to an interactive table.\"\n",
              "              style=\"display:none;\">\n",
              "        \n",
              "  <svg xmlns=\"http://www.w3.org/2000/svg\" height=\"24px\"viewBox=\"0 0 24 24\"\n",
              "       width=\"24px\">\n",
              "    <path d=\"M0 0h24v24H0V0z\" fill=\"none\"/>\n",
              "    <path d=\"M18.56 5.44l.94 2.06.94-2.06 2.06-.94-2.06-.94-.94-2.06-.94 2.06-2.06.94zm-11 1L8.5 8.5l.94-2.06 2.06-.94-2.06-.94L8.5 2.5l-.94 2.06-2.06.94zm10 10l.94 2.06.94-2.06 2.06-.94-2.06-.94-.94-2.06-.94 2.06-2.06.94z\"/><path d=\"M17.41 7.96l-1.37-1.37c-.4-.4-.92-.59-1.43-.59-.52 0-1.04.2-1.43.59L10.3 9.45l-7.72 7.72c-.78.78-.78 2.05 0 2.83L4 21.41c.39.39.9.59 1.41.59.51 0 1.02-.2 1.41-.59l7.78-7.78 2.81-2.81c.8-.78.8-2.07 0-2.86zM5.41 20L4 18.59l7.72-7.72 1.47 1.35L5.41 20z\"/>\n",
              "  </svg>\n",
              "      </button>\n",
              "      \n",
              "  <style>\n",
              "    .colab-df-container {\n",
              "      display:flex;\n",
              "      flex-wrap:wrap;\n",
              "      gap: 12px;\n",
              "    }\n",
              "\n",
              "    .colab-df-convert {\n",
              "      background-color: #E8F0FE;\n",
              "      border: none;\n",
              "      border-radius: 50%;\n",
              "      cursor: pointer;\n",
              "      display: none;\n",
              "      fill: #1967D2;\n",
              "      height: 32px;\n",
              "      padding: 0 0 0 0;\n",
              "      width: 32px;\n",
              "    }\n",
              "\n",
              "    .colab-df-convert:hover {\n",
              "      background-color: #E2EBFA;\n",
              "      box-shadow: 0px 1px 2px rgba(60, 64, 67, 0.3), 0px 1px 3px 1px rgba(60, 64, 67, 0.15);\n",
              "      fill: #174EA6;\n",
              "    }\n",
              "\n",
              "    [theme=dark] .colab-df-convert {\n",
              "      background-color: #3B4455;\n",
              "      fill: #D2E3FC;\n",
              "    }\n",
              "\n",
              "    [theme=dark] .colab-df-convert:hover {\n",
              "      background-color: #434B5C;\n",
              "      box-shadow: 0px 1px 3px 1px rgba(0, 0, 0, 0.15);\n",
              "      filter: drop-shadow(0px 1px 2px rgba(0, 0, 0, 0.3));\n",
              "      fill: #FFFFFF;\n",
              "    }\n",
              "  </style>\n",
              "\n",
              "      <script>\n",
              "        const buttonEl =\n",
              "          document.querySelector('#df-d17031b4-91ce-4b2c-9513-4ebb8bd79f77 button.colab-df-convert');\n",
              "        buttonEl.style.display =\n",
              "          google.colab.kernel.accessAllowed ? 'block' : 'none';\n",
              "\n",
              "        async function convertToInteractive(key) {\n",
              "          const element = document.querySelector('#df-d17031b4-91ce-4b2c-9513-4ebb8bd79f77');\n",
              "          const dataTable =\n",
              "            await google.colab.kernel.invokeFunction('convertToInteractive',\n",
              "                                                     [key], {});\n",
              "          if (!dataTable) return;\n",
              "\n",
              "          const docLinkHtml = 'Like what you see? Visit the ' +\n",
              "            '<a target=\"_blank\" href=https://colab.research.google.com/notebooks/data_table.ipynb>data table notebook</a>'\n",
              "            + ' to learn more about interactive tables.';\n",
              "          element.innerHTML = '';\n",
              "          dataTable['output_type'] = 'display_data';\n",
              "          await google.colab.output.renderOutput(dataTable, element);\n",
              "          const docLink = document.createElement('div');\n",
              "          docLink.innerHTML = docLinkHtml;\n",
              "          element.appendChild(docLink);\n",
              "        }\n",
              "      </script>\n",
              "    </div>\n",
              "  </div>\n",
              "  "
            ]
          },
          "metadata": {},
          "execution_count": 14
        }
      ]
    },
    {
      "cell_type": "code",
      "source": [
        "raw_test_data['label'].value_counts()"
      ],
      "metadata": {
        "colab": {
          "base_uri": "https://localhost:8080/"
        },
        "id": "ypoapMEa3Dyb",
        "outputId": "6ad22542-3574-4a35-87ed-30bcb1ec77ff"
      },
      "execution_count": null,
      "outputs": [
        {
          "output_type": "execute_result",
          "data": {
            "text/plain": [
              "1    76\n",
              "0    49\n",
              "Name: label, dtype: int64"
            ]
          },
          "metadata": {},
          "execution_count": 15
        }
      ]
    },
    {
      "cell_type": "code",
      "source": [
        "get_dataset_statistics(raw_test_data)"
      ],
      "metadata": {
        "colab": {
          "base_uri": "https://localhost:8080/",
          "height": 499
        },
        "id": "VQcnABAwtxge",
        "outputId": "046f6513-5cfb-428a-c29d-bf7646093b69"
      },
      "execution_count": null,
      "outputs": [
        {
          "output_type": "display_data",
          "data": {
            "text/plain": [
              "<Figure size 600x600 with 1 Axes>"
            ],
            "image/png": "[encoded data removed]"
          },
          "metadata": {}
        }
      ]
    },
    {
      "cell_type": "markdown",
      "metadata": {
        "id": "qhzAeC1dMd1e"
      },
      "source": [
        "# Text Preprocessing "
      ]
    },
    {
      "cell_type": "code",
      "execution_count": null,
      "metadata": {
        "id": "LEz_7waOnKUr"
      },
      "outputs": [],
      "source": [
        "import requests\n",
        "stopwords_list = requests.get(\"https://github.com/stopwords-iso/stopwords-en/blob/master/stopwords-en.txt\").content\n",
        "stopwords = set(stopwords_list.decode().splitlines())"
      ]
    },
    {
      "cell_type": "code",
      "execution_count": null,
      "metadata": {
        "id": "224Sj8WG5Ivx"
      },
      "outputs": [],
      "source": [
        "import string\n",
        "from nltk.corpus import stopwords\n",
        "from sklearn.feature_extraction.text import ENGLISH_STOP_WORDS\n",
        "sklearn_stopwords = ENGLISH_STOP_WORDS\n",
        "\n",
        "stop_words = set(stopwords.words('english'))\n",
        "stop_words.update(sklearn_stopwords)\n",
        "\n",
        "def message_preprocessing(raw_message):\n",
        "  message_words = raw_message.translate(str.maketrans('', '', string.punctuation))\n",
        "  msg_tokens = word_tokenize(message_words.lower())\n",
        "  filtered_message = [token for token in msg_tokens if not token in stop_words]\n",
        "  return \" \".join(filtered_message)"
      ]
    },
    {
      "cell_type": "code",
      "execution_count": null,
      "metadata": {
        "colab": {
          "base_uri": "https://localhost:8080/",
          "height": 424
        },
        "id": "hjAjuuYv_5ul",
        "outputId": "2552e8eb-8d4e-4b2d-86fb-5d989da1d783"
      },
      "outputs": [
        {
          "output_type": "execute_result",
          "data": {
            "text/plain": [
              "                                                  text  label\n",
              "0                                            rofl true      0\n",
              "1    guy bitching acted like id interested buying w...      0\n",
              "2                          pity mood soany suggestions      0\n",
              "3                          ü b going esplanade fr home      0\n",
              "4    2nd time tried 2 contact u u £750 pound prize ...      1\n",
              "..                                                 ...    ...\n",
              "952  hows favourite person today r u workin hard sl...      0\n",
              "953                                       got cleaning      0\n",
              "954                    sorry da gone mad pending works      0\n",
              "955                                  wat time ü finish      0\n",
              "956                                       glad talking      0\n",
              "\n",
              "[940 rows x 2 columns]"
            ],
            "text/html": [
              "\n",
              "  <div id=\"df-e07e4830-7d97-472d-9fa9-667c0ca94ace\">\n",
              "    <div class=\"colab-df-container\">\n",
              "      <div>\n",
              "<style scoped>\n",
              "    .dataframe tbody tr th:only-of-type {\n",
              "        vertical-align: middle;\n",
              "    }\n",
              "\n",
              "    .dataframe tbody tr th {\n",
              "        vertical-align: top;\n",
              "    }\n",
              "\n",
              "    .dataframe thead th {\n",
              "        text-align: right;\n",
              "    }\n",
              "</style>\n",
              "<table border=\"1\" class=\"dataframe\">\n",
              "  <thead>\n",
              "    <tr style=\"text-align: right;\">\n",
              "      <th></th>\n",
              "      <th>text</th>\n",
              "      <th>label</th>\n",
              "    </tr>\n",
              "  </thead>\n",
              "  <tbody>\n",
              "    <tr>\n",
              "      <th>0</th>\n",
              "      <td>rofl true</td>\n",
              "      <td>0</td>\n",
              "    </tr>\n",
              "    <tr>\n",
              "      <th>1</th>\n",
              "      <td>guy bitching acted like id interested buying w...</td>\n",
              "      <td>0</td>\n",
              "    </tr>\n",
              "    <tr>\n",
              "      <th>2</th>\n",
              "      <td>pity mood soany suggestions</td>\n",
              "      <td>0</td>\n",
              "    </tr>\n",
              "    <tr>\n",
              "      <th>3</th>\n",
              "      <td>ü b going esplanade fr home</td>\n",
              "      <td>0</td>\n",
              "    </tr>\n",
              "    <tr>\n",
              "      <th>4</th>\n",
              "      <td>2nd time tried 2 contact u u £750 pound prize ...</td>\n",
              "      <td>1</td>\n",
              "    </tr>\n",
              "    <tr>\n",
              "      <th>...</th>\n",
              "      <td>...</td>\n",
              "      <td>...</td>\n",
              "    </tr>\n",
              "    <tr>\n",
              "      <th>952</th>\n",
              "      <td>hows favourite person today r u workin hard sl...</td>\n",
              "      <td>0</td>\n",
              "    </tr>\n",
              "    <tr>\n",
              "      <th>953</th>\n",
              "      <td>got cleaning</td>\n",
              "      <td>0</td>\n",
              "    </tr>\n",
              "    <tr>\n",
              "      <th>954</th>\n",
              "      <td>sorry da gone mad pending works</td>\n",
              "      <td>0</td>\n",
              "    </tr>\n",
              "    <tr>\n",
              "      <th>955</th>\n",
              "      <td>wat time ü finish</td>\n",
              "      <td>0</td>\n",
              "    </tr>\n",
              "    <tr>\n",
              "      <th>956</th>\n",
              "      <td>glad talking</td>\n",
              "      <td>0</td>\n",
              "    </tr>\n",
              "  </tbody>\n",
              "</table>\n",
              "<p>940 rows × 2 columns</p>\n",
              "</div>\n",
              "      <button class=\"colab-df-convert\" onclick=\"convertToInteractive('df-e07e4830-7d97-472d-9fa9-667c0ca94ace')\"\n",
              "              title=\"Convert this dataframe to an interactive table.\"\n",
              "              style=\"display:none;\">\n",
              "        \n",
              "  <svg xmlns=\"http://www.w3.org/2000/svg\" height=\"24px\"viewBox=\"0 0 24 24\"\n",
              "       width=\"24px\">\n",
              "    <path d=\"M0 0h24v24H0V0z\" fill=\"none\"/>\n",
              "    <path d=\"M18.56 5.44l.94 2.06.94-2.06 2.06-.94-2.06-.94-.94-2.06-.94 2.06-2.06.94zm-11 1L8.5 8.5l.94-2.06 2.06-.94-2.06-.94L8.5 2.5l-.94 2.06-2.06.94zm10 10l.94 2.06.94-2.06 2.06-.94-2.06-.94-.94-2.06-.94 2.06-2.06.94z\"/><path d=\"M17.41 7.96l-1.37-1.37c-.4-.4-.92-.59-1.43-.59-.52 0-1.04.2-1.43.59L10.3 9.45l-7.72 7.72c-.78.78-.78 2.05 0 2.83L4 21.41c.39.39.9.59 1.41.59.51 0 1.02-.2 1.41-.59l7.78-7.78 2.81-2.81c.8-.78.8-2.07 0-2.86zM5.41 20L4 18.59l7.72-7.72 1.47 1.35L5.41 20z\"/>\n",
              "  </svg>\n",
              "      </button>\n",
              "      \n",
              "  <style>\n",
              "    .colab-df-container {\n",
              "      display:flex;\n",
              "      flex-wrap:wrap;\n",
              "      gap: 12px;\n",
              "    }\n",
              "\n",
              "    .colab-df-convert {\n",
              "      background-color: #E8F0FE;\n",
              "      border: none;\n",
              "      border-radius: 50%;\n",
              "      cursor: pointer;\n",
              "      display: none;\n",
              "      fill: #1967D2;\n",
              "      height: 32px;\n",
              "      padding: 0 0 0 0;\n",
              "      width: 32px;\n",
              "    }\n",
              "\n",
              "    .colab-df-convert:hover {\n",
              "      background-color: #E2EBFA;\n",
              "      box-shadow: 0px 1px 2px rgba(60, 64, 67, 0.3), 0px 1px 3px 1px rgba(60, 64, 67, 0.15);\n",
              "      fill: #174EA6;\n",
              "    }\n",
              "\n",
              "    [theme=dark] .colab-df-convert {\n",
              "      background-color: #3B4455;\n",
              "      fill: #D2E3FC;\n",
              "    }\n",
              "\n",
              "    [theme=dark] .colab-df-convert:hover {\n",
              "      background-color: #434B5C;\n",
              "      box-shadow: 0px 1px 3px 1px rgba(0, 0, 0, 0.15);\n",
              "      filter: drop-shadow(0px 1px 2px rgba(0, 0, 0, 0.3));\n",
              "      fill: #FFFFFF;\n",
              "    }\n",
              "  </style>\n",
              "\n",
              "      <script>\n",
              "        const buttonEl =\n",
              "          document.querySelector('#df-e07e4830-7d97-472d-9fa9-667c0ca94ace button.colab-df-convert');\n",
              "        buttonEl.style.display =\n",
              "          google.colab.kernel.accessAllowed ? 'block' : 'none';\n",
              "\n",
              "        async function convertToInteractive(key) {\n",
              "          const element = document.querySelector('#df-e07e4830-7d97-472d-9fa9-667c0ca94ace');\n",
              "          const dataTable =\n",
              "            await google.colab.kernel.invokeFunction('convertToInteractive',\n",
              "                                                     [key], {});\n",
              "          if (!dataTable) return;\n",
              "\n",
              "          const docLinkHtml = 'Like what you see? Visit the ' +\n",
              "            '<a target=\"_blank\" href=https://colab.research.google.com/notebooks/data_table.ipynb>data table notebook</a>'\n",
              "            + ' to learn more about interactive tables.';\n",
              "          element.innerHTML = '';\n",
              "          dataTable['output_type'] = 'display_data';\n",
              "          await google.colab.output.renderOutput(dataTable, element);\n",
              "          const docLink = document.createElement('div');\n",
              "          docLink.innerHTML = docLinkHtml;\n",
              "          element.appendChild(docLink);\n",
              "        }\n",
              "      </script>\n",
              "    </div>\n",
              "  </div>\n",
              "  "
            ]
          },
          "metadata": {},
          "execution_count": 20
        }
      ],
      "source": [
        "train_data = raw_train_data[['text', 'label']].copy()\n",
        "\n",
        "train_data['text'] = raw_train_data['text'].apply(message_preprocessing)\n",
        "\n",
        "train_data.drop_duplicates(inplace=True)\n",
        "\n",
        "train_data"
      ]
    },
    {
      "cell_type": "code",
      "source": [
        "get_dataset_statistics(train_data)"
      ],
      "metadata": {
        "colab": {
          "base_uri": "https://localhost:8080/",
          "height": 499
        },
        "id": "SYDRKiLfSnt7",
        "outputId": "cfef0cfc-0025-4632-855f-031efbb57a0f"
      },
      "execution_count": null,
      "outputs": [
        {
          "output_type": "display_data",
          "data": {
            "text/plain": [
              "<Figure size 600x600 with 1 Axes>"
            ],
            "image/png": "[encoded data removed]"
          },
          "metadata": {}
        }
      ]
    },
    {
      "cell_type": "code",
      "source": [
        "test_data = raw_test_data[['text', 'label']].copy()\n",
        "\n",
        "test_data['text'] = raw_test_data['text'].apply(message_preprocessing)\n",
        "\n",
        "test_data.drop_duplicates(inplace=True)\n",
        "\n",
        "test_data"
      ],
      "metadata": {
        "colab": {
          "base_uri": "https://localhost:8080/",
          "height": 424
        },
        "id": "oTXpvJGZuEpV",
        "outputId": "9819a854-f116-4716-cc21-61307fff0060"
      },
      "execution_count": null,
      "outputs": [
        {
          "output_type": "execute_result",
          "data": {
            "text/plain": [
              "                                                  text  label\n",
              "0    upgrdcentre orange customer claim free camera ...      1\n",
              "1    loan purpose £500 £75000 homeowners tenants we...      1\n",
              "2    congrats nokia 3650 video camera phone 0906638...      1\n",
              "3    urgent mobile number awarded £2000 prize guara...      1\n",
              "4    contacted dating service entered phone fancy l...      1\n",
              "..                                                 ...    ...\n",
              "120  7 wonders world 7th 6th ur style 5th ur smile ...      0\n",
              "121                                try dear read exams      0\n",
              "122  sun ah thk mayb dun anythin thk book e lesson ...      0\n",
              "123  symptoms u love 1u like listening songs 2u sto...      0\n",
              "124               great safe trip dont panic surrender      0\n",
              "\n",
              "[124 rows x 2 columns]"
            ],
            "text/html": [
              "\n",
              "  <div id=\"df-16d275a9-82a7-4644-9f5d-a1389e16f294\">\n",
              "    <div class=\"colab-df-container\">\n",
              "      <div>\n",
              "<style scoped>\n",
              "    .dataframe tbody tr th:only-of-type {\n",
              "        vertical-align: middle;\n",
              "    }\n",
              "\n",
              "    .dataframe tbody tr th {\n",
              "        vertical-align: top;\n",
              "    }\n",
              "\n",
              "    .dataframe thead th {\n",
              "        text-align: right;\n",
              "    }\n",
              "</style>\n",
              "<table border=\"1\" class=\"dataframe\">\n",
              "  <thead>\n",
              "    <tr style=\"text-align: right;\">\n",
              "      <th></th>\n",
              "      <th>text</th>\n",
              "      <th>label</th>\n",
              "    </tr>\n",
              "  </thead>\n",
              "  <tbody>\n",
              "    <tr>\n",
              "      <th>0</th>\n",
              "      <td>upgrdcentre orange customer claim free camera ...</td>\n",
              "      <td>1</td>\n",
              "    </tr>\n",
              "    <tr>\n",
              "      <th>1</th>\n",
              "      <td>loan purpose £500 £75000 homeowners tenants we...</td>\n",
              "      <td>1</td>\n",
              "    </tr>\n",
              "    <tr>\n",
              "      <th>2</th>\n",
              "      <td>congrats nokia 3650 video camera phone 0906638...</td>\n",
              "      <td>1</td>\n",
              "    </tr>\n",
              "    <tr>\n",
              "      <th>3</th>\n",
              "      <td>urgent mobile number awarded £2000 prize guara...</td>\n",
              "      <td>1</td>\n",
              "    </tr>\n",
              "    <tr>\n",
              "      <th>4</th>\n",
              "      <td>contacted dating service entered phone fancy l...</td>\n",
              "      <td>1</td>\n",
              "    </tr>\n",
              "    <tr>\n",
              "      <th>...</th>\n",
              "      <td>...</td>\n",
              "      <td>...</td>\n",
              "    </tr>\n",
              "    <tr>\n",
              "      <th>120</th>\n",
              "      <td>7 wonders world 7th 6th ur style 5th ur smile ...</td>\n",
              "      <td>0</td>\n",
              "    </tr>\n",
              "    <tr>\n",
              "      <th>121</th>\n",
              "      <td>try dear read exams</td>\n",
              "      <td>0</td>\n",
              "    </tr>\n",
              "    <tr>\n",
              "      <th>122</th>\n",
              "      <td>sun ah thk mayb dun anythin thk book e lesson ...</td>\n",
              "      <td>0</td>\n",
              "    </tr>\n",
              "    <tr>\n",
              "      <th>123</th>\n",
              "      <td>symptoms u love 1u like listening songs 2u sto...</td>\n",
              "      <td>0</td>\n",
              "    </tr>\n",
              "    <tr>\n",
              "      <th>124</th>\n",
              "      <td>great safe trip dont panic surrender</td>\n",
              "      <td>0</td>\n",
              "    </tr>\n",
              "  </tbody>\n",
              "</table>\n",
              "<p>124 rows × 2 columns</p>\n",
              "</div>\n",
              "      <button class=\"colab-df-convert\" onclick=\"convertToInteractive('df-16d275a9-82a7-4644-9f5d-a1389e16f294')\"\n",
              "              title=\"Convert this dataframe to an interactive table.\"\n",
              "              style=\"display:none;\">\n",
              "        \n",
              "  <svg xmlns=\"http://www.w3.org/2000/svg\" height=\"24px\"viewBox=\"0 0 24 24\"\n",
              "       width=\"24px\">\n",
              "    <path d=\"M0 0h24v24H0V0z\" fill=\"none\"/>\n",
              "    <path d=\"M18.56 5.44l.94 2.06.94-2.06 2.06-.94-2.06-.94-.94-2.06-.94 2.06-2.06.94zm-11 1L8.5 8.5l.94-2.06 2.06-.94-2.06-.94L8.5 2.5l-.94 2.06-2.06.94zm10 10l.94 2.06.94-2.06 2.06-.94-2.06-.94-.94-2.06-.94 2.06-2.06.94z\"/><path d=\"M17.41 7.96l-1.37-1.37c-.4-.4-.92-.59-1.43-.59-.52 0-1.04.2-1.43.59L10.3 9.45l-7.72 7.72c-.78.78-.78 2.05 0 2.83L4 21.41c.39.39.9.59 1.41.59.51 0 1.02-.2 1.41-.59l7.78-7.78 2.81-2.81c.8-.78.8-2.07 0-2.86zM5.41 20L4 18.59l7.72-7.72 1.47 1.35L5.41 20z\"/>\n",
              "  </svg>\n",
              "      </button>\n",
              "      \n",
              "  <style>\n",
              "    .colab-df-container {\n",
              "      display:flex;\n",
              "      flex-wrap:wrap;\n",
              "      gap: 12px;\n",
              "    }\n",
              "\n",
              "    .colab-df-convert {\n",
              "      background-color: #E8F0FE;\n",
              "      border: none;\n",
              "      border-radius: 50%;\n",
              "      cursor: pointer;\n",
              "      display: none;\n",
              "      fill: #1967D2;\n",
              "      height: 32px;\n",
              "      padding: 0 0 0 0;\n",
              "      width: 32px;\n",
              "    }\n",
              "\n",
              "    .colab-df-convert:hover {\n",
              "      background-color: #E2EBFA;\n",
              "      box-shadow: 0px 1px 2px rgba(60, 64, 67, 0.3), 0px 1px 3px 1px rgba(60, 64, 67, 0.15);\n",
              "      fill: #174EA6;\n",
              "    }\n",
              "\n",
              "    [theme=dark] .colab-df-convert {\n",
              "      background-color: #3B4455;\n",
              "      fill: #D2E3FC;\n",
              "    }\n",
              "\n",
              "    [theme=dark] .colab-df-convert:hover {\n",
              "      background-color: #434B5C;\n",
              "      box-shadow: 0px 1px 3px 1px rgba(0, 0, 0, 0.15);\n",
              "      filter: drop-shadow(0px 1px 2px rgba(0, 0, 0, 0.3));\n",
              "      fill: #FFFFFF;\n",
              "    }\n",
              "  </style>\n",
              "\n",
              "      <script>\n",
              "        const buttonEl =\n",
              "          document.querySelector('#df-16d275a9-82a7-4644-9f5d-a1389e16f294 button.colab-df-convert');\n",
              "        buttonEl.style.display =\n",
              "          google.colab.kernel.accessAllowed ? 'block' : 'none';\n",
              "\n",
              "        async function convertToInteractive(key) {\n",
              "          const element = document.querySelector('#df-16d275a9-82a7-4644-9f5d-a1389e16f294');\n",
              "          const dataTable =\n",
              "            await google.colab.kernel.invokeFunction('convertToInteractive',\n",
              "                                                     [key], {});\n",
              "          if (!dataTable) return;\n",
              "\n",
              "          const docLinkHtml = 'Like what you see? Visit the ' +\n",
              "            '<a target=\"_blank\" href=https://colab.research.google.com/notebooks/data_table.ipynb>data table notebook</a>'\n",
              "            + ' to learn more about interactive tables.';\n",
              "          element.innerHTML = '';\n",
              "          dataTable['output_type'] = 'display_data';\n",
              "          await google.colab.output.renderOutput(dataTable, element);\n",
              "          const docLink = document.createElement('div');\n",
              "          docLink.innerHTML = docLinkHtml;\n",
              "          element.appendChild(docLink);\n",
              "        }\n",
              "      </script>\n",
              "    </div>\n",
              "  </div>\n",
              "  "
            ]
          },
          "metadata": {},
          "execution_count": 22
        }
      ]
    },
    {
      "cell_type": "code",
      "source": [
        "word2vec_model = api.load(\"word2vec-google-news-300\")"
      ],
      "metadata": {
        "colab": {
          "base_uri": "https://localhost:8080/"
        },
        "id": "dme4_hzGcr_m",
        "outputId": "a27f7a4d-db7a-4f75-f09e-631157c66390"
      },
      "execution_count": null,
      "outputs": [
        {
          "output_type": "stream",
          "name": "stdout",
          "text": [
            "[==================================================] 100.0% 1662.8/1662.8MB downloaded\n"
          ]
        }
      ]
    },
    {
      "cell_type": "code",
      "source": [
        "def get_text_vec(sent):\n",
        "  vector = np.mean(np.array([word2vec_model[token] for token in word_tokenize(sent) if token in word2vec_model.key_to_index]), axis=0)\n",
        "  if np.all(np.isnan(vector)) :\n",
        "    return np.zeros(300)\n",
        "  return vector"
      ],
      "metadata": {
        "id": "m8c3qnuue6BF"
      },
      "execution_count": null,
      "outputs": []
    },
    {
      "cell_type": "code",
      "source": [
        "X_test = np.stack(np.array([get_text_vec(sms_text) for sms_text in test_data['text'].values]))"
      ],
      "metadata": {
        "id": "hKK5MtdMfKqM",
        "colab": {
          "base_uri": "https://localhost:8080/"
        },
        "outputId": "17308eef-45e2-4b64-e6e3-f1a9424532d1"
      },
      "execution_count": null,
      "outputs": [
        {
          "output_type": "stream",
          "name": "stderr",
          "text": [
            "/usr/local/lib/python3.9/dist-packages/numpy/core/fromnumeric.py:3474: RuntimeWarning: Mean of empty slice.\n",
            "  return _methods._mean(a, axis=axis, dtype=dtype,\n",
            "/usr/local/lib/python3.9/dist-packages/numpy/core/_methods.py:189: RuntimeWarning: invalid value encountered in double_scalars\n",
            "  ret = ret.dtype.type(ret / rcount)\n"
          ]
        }
      ]
    },
    {
      "cell_type": "code",
      "source": [
        "X_test.shape"
      ],
      "metadata": {
        "colab": {
          "base_uri": "https://localhost:8080/"
        },
        "id": "HkjCbbcWfMgN",
        "outputId": "20a4ed17-dacd-47ad-daeb-15f59bc23069"
      },
      "execution_count": null,
      "outputs": [
        {
          "output_type": "execute_result",
          "data": {
            "text/plain": [
              "(124, 300)"
            ]
          },
          "metadata": {},
          "execution_count": 25
        }
      ]
    },
    {
      "cell_type": "code",
      "source": [
        "y_test = test_data['label'].values"
      ],
      "metadata": {
        "id": "HscfxWqQwQ8V"
      },
      "execution_count": null,
      "outputs": []
    },
    {
      "cell_type": "code",
      "source": [
        "y_test.shape"
      ],
      "metadata": {
        "colab": {
          "base_uri": "https://localhost:8080/"
        },
        "id": "tGwMwutWwbV5",
        "outputId": "9d4e8218-32e4-49e6-a68e-93c51815aa11"
      },
      "execution_count": null,
      "outputs": [
        {
          "output_type": "execute_result",
          "data": {
            "text/plain": [
              "(124,)"
            ]
          },
          "metadata": {},
          "execution_count": 24
        }
      ]
    },
    {
      "cell_type": "markdown",
      "metadata": {
        "id": "XeWGJ8LZ5M4G"
      },
      "source": [
        "# Model selection, training and evaluation"
      ]
    },
    {
      "cell_type": "code",
      "source": [
        "def f_beta_score(y_true, y_pred):\n",
        "  return fbeta_score(y_true, y_pred, beta=2, average='binary')\n",
        "\n",
        "f2_score = make_scorer(f_beta_score, greater_is_better=True)"
      ],
      "metadata": {
        "id": "gAJywwuK9qB9"
      },
      "execution_count": null,
      "outputs": []
    },
    {
      "cell_type": "code",
      "source": [
        "from datetime import datetime\n",
        "\n",
        "def save_cross_validation(results, file_name):\n",
        "  results_to_save = pd.DataFrame(columns=['Accuracy', 'Recall', 'Precision', 'F1 Score', 'F2 Score', 'MCC'])\n",
        "  for i in range(0, 10):\n",
        "    results_to_save.loc[i] = [\n",
        "      results['split{}_test_Accuracy'.format(i)][0],\n",
        "      results['split{}_test_Recall'.format(i)][0],\n",
        "      results['split{}_test_Precision'.format(i)][0],\n",
        "      results['split{}_test_F1'.format(i)][0],\n",
        "      results['split{}_test_F2'.format(i)][0],\n",
        "      results['split{}_test_MCC'.format(i)][0]\n",
        "    ]\n",
        "  results_to_save.to_csv('{}Results/{}_{}.csv'.format(dir_name+'experiments/Email Spam/', file_name, datetime.now().strftime(\"%m%d%H%M\")))"
      ],
      "metadata": {
        "id": "uftnN5ts9p0e"
      },
      "execution_count": null,
      "outputs": []
    },
    {
      "cell_type": "code",
      "source": [
        "def train_model(classifier, param_grid, model_name, train_texts, train_labels, test_texts, test_labels, evaluation_metrics, to_print=True, to_save=False, file_name=None):\n",
        "    \"\"\"\n",
        "    train email classification model.\n",
        "    \"\"\"\n",
        "\n",
        "    # apply grid search to find best model hyper parameters\n",
        "    grid_search = GridSearchCV(classifier, param_grid, cv=10, scoring={'Accuracy': make_scorer(accuracy_score),\n",
        "                                                                       'F1': make_scorer(f1_score),\n",
        "                                                                       'F2': f2_score,\n",
        "                                                                       'Recall': make_scorer(recall_score),\n",
        "                                                                       'Precision': make_scorer(precision_score),\n",
        "                                                                       'MCC' : make_scorer(matthews_corrcoef)\n",
        "                                                                       }, refit='F1', n_jobs=-1)\n",
        "    grid_search.fit(train_texts, train_labels)\n",
        "    model = grid_search.best_estimator_\n",
        "\n",
        "    if to_save:\n",
        "      ConfusionMatrixDisplay(save_cross_validation(grid_search.cv_results_, file_name))\n",
        "      plt.show()\n",
        "\n",
        "    # train and test accuracy.\n",
        "    test_accuracy = model.score(test_texts, test_labels)\n",
        "    train_accuracy = model.score(train_texts, train_labels)\n",
        "\n",
        "    # compute F1 score for model evaluation.\n",
        "    y_pred = model.predict(test_texts)\n",
        "\n",
        "    recall = recall_score(test_labels, y_pred)\n",
        "    precision = precision_score(test_labels, y_pred)\n",
        "    f1score = f1_score(test_labels, y_pred)\n",
        "    f2score = fbeta_score(y_test, y_pred, beta=2, average='binary')\n",
        "    mcc = matthews_corrcoef(y_test, y_pred)\n",
        "\n",
        "    if to_print:\n",
        "        print(\"train accuracy = \" + str(train_accuracy))\n",
        "        print(\"test accuracy = \" + str(test_accuracy))\n",
        "        print(\"Recall = {}\".format(recall))\n",
        "        print(\"Precision = {}\".format(precision))\n",
        "        print(\"F1 score = {}\".format(f1score))\n",
        "        print(\"F2 score = {}\".format(f2score))\n",
        "        print(\"MCC = {}\".format(mcc))\n",
        "        print(classification_report(test_labels, y_pred))\n",
        "\n",
        "\n",
        "        # plot confusion matrix\n",
        "        cm = confusion_matrix(test_labels, y_pred)\n",
        "        disp = ConfusionMatrixDisplay(confusion_matrix=cm, display_labels=[0,1])\n",
        "\n",
        "        disp.plot(cmap=plt.cm.Blues)\n",
        "        plt.show()\n",
        "\n",
        "        # print best model hyper parameters.\n",
        "        print(grid_search.best_params_)\n",
        "\n",
        "    evaluation_metrics.loc[model_name, 'Recall'] = recall\n",
        "    evaluation_metrics.loc[model_name, 'Precision'] = precision\n",
        "    evaluation_metrics.loc[model_name, 'F1 score'] = f1score\n",
        "    evaluation_metrics.loc[model_name, 'F2 score'] = f2score\n",
        "    evaluation_metrics.loc[model_name, 'MCC'] = mcc\n",
        "\n",
        "    return f1score, f2score\n",
        "\n",
        "\n",
        "def train(model_id, train_texts, train_labels, test_texts, test_labels, evaluation_metrics, to_print=True, to_save=False, file_name=None):\n",
        "    \n",
        "    if model_id == 1:\n",
        "        # Random forest Classification model.\n",
        "        forest_clf = RandomForestClassifier(random_state=42, n_jobs=-1)\n",
        "        forest_param_grid = [{'n_estimators': [5,10,15,20,25], 'max_features': [10, 15, 20], 'min_samples_split': [15, 20, 25], 'criterion': ['gini','entropy'], 'max_depth': [5,6,7]}]\n",
        "\n",
        "        return train_model(forest_clf, forest_param_grid, 'RandomForest', train_texts, train_labels, test_texts, test_labels, evaluation_metrics, to_print, to_save, file_name)\n",
        "\n",
        "    if model_id == 2:\n",
        "        # Support Vector Machine Model.\n",
        "        svc_clf = SVC(random_state=42)\n",
        "        svc_param_grid = [{'kernel': ['rbf'], 'degree': [2, 3 ,4, 5]}]\n",
        "\n",
        "        return train_model(svc_clf, svc_param_grid, 'SVM', train_texts, train_labels, test_texts, test_labels, evaluation_metrics, to_print, to_save, file_name)"
      ],
      "metadata": {
        "id": "era6r7Y79qc1"
      },
      "execution_count": null,
      "outputs": []
    },
    {
      "cell_type": "markdown",
      "source": [
        "# Text Augmentation"
      ],
      "metadata": {
        "id": "u_PJgyxnRgyr"
      }
    },
    {
      "cell_type": "code",
      "source": [
        "import gensim\n",
        "import random \n",
        "\n",
        "class Word2vec:\n",
        "    \"\"\"\n",
        "    A set of functions used to augment data.\n",
        "    Typical usage: :: \n",
        "        >>> from textaugment import Word2vec\n",
        "        >>> t = Word2vec('path/to/gensim/model'or 'gensim model itself')\n",
        "        >>> t.augment('I love school')\n",
        "        i adore school\n",
        "    \"\"\"\n",
        "    \n",
        "    def __init__(self, **kwargs):\n",
        "        \"\"\"\n",
        "        A method to initialize a model on a given path.\n",
        "        :type random_state: int, float, str, bytes, bytearray\n",
        "        :param random_state: seed\n",
        "        :type model: str or gensim.models.word2vec.Word2Vec\n",
        "        :param model: The path to the model or the model itself.\n",
        "        :type runs: int, optional\n",
        "        :param runs: The number of times to augment a sentence. By default is 1.\n",
        "        :type v: bool or optional\n",
        "        :param v: Replace all the words if true. If false randomly replace words.\n",
        "                Used in a Paper (https://www.cs.cmu.edu/~diyiy/docs/emnlp_wang_2015.pdf)\n",
        "        :type p: float, optional\n",
        "        :param p: The probability of success of an individual trial. (0.1<p<1.0), default is 0.5\n",
        "        \"\"\"\n",
        "\n",
        "        # Set random state\n",
        "        if 'random_state' in kwargs:\n",
        "            self.random_state = kwargs['random_state']\n",
        "            if isinstance(self.random_state, int):\n",
        "                random.seed(self.random_state)\n",
        "                np.random.seed(self.random_state)\n",
        "            else:\n",
        "                raise TypeError(\"random_state must have type int\")\n",
        "\n",
        "        # Set verbose to false if does not exists\n",
        "        try:\n",
        "            if kwargs['v']: \n",
        "                self.v = True\n",
        "            else:\n",
        "                self.v = False\n",
        "        except KeyError:\n",
        "            self.v = False\n",
        "\n",
        "        try:\n",
        "            if \"p\" in kwargs:\n",
        "                if type(kwargs['p']) is not float:\n",
        "                    raise TypeError(\"p represent probability of success and must be a float from 0.1 to 0.9. E.g p=0.5\")\n",
        "                elif type(kwargs['p']) is float:\n",
        "                    self.p = kwargs['p']\n",
        "            else:\n",
        "                kwargs['p'] = 0.5  # Set default value\n",
        "        except KeyError:\n",
        "            raise\n",
        "\n",
        "        # Error handling of given parameters\n",
        "        try:\n",
        "            if \"runs\" not in kwargs:\n",
        "                kwargs[\"runs\"] = 1  # Default value for runs\n",
        "            elif type(kwargs[\"runs\"]) is not int:\n",
        "                raise TypeError(\"DataType for 'runs' must be an integer\")\n",
        "            if \"model\" not in kwargs:\n",
        "                raise ValueError(\"Set the value of model. e.g model='path/to/model' or model itself\")\n",
        "            if type(kwargs['model']) not in [str,\n",
        "                                             gensim.models.word2vec.Word2Vec,\n",
        "                                             gensim.models.keyedvectors.Word2VecKeyedVectors,\n",
        "                                            gensim.models.keyedvectors.FastTextKeyedVectors]:\n",
        "                raise TypeError(\"Model path must be a string. \"\n",
        "                                \"Or type of model must be a gensim.models.word2vec.Word2Vec or \"\n",
        "                                \"gensim.models.keyedvectors.Word2VecKeyedVectors or \"\n",
        "                                \"gensim.models.keyedvectors.FastTextKeyedVectors type. \"\n",
        "                                \"To load a model use gensim.models.Word2Vec.load('path')\")\n",
        "        except (ValueError, TypeError):\n",
        "            raise\n",
        "        else:\n",
        "            self.runs = kwargs[\"runs\"] \n",
        "            self.model = kwargs[\"model\"]\n",
        "            self.p = kwargs[\"p\"]\n",
        "            try:\n",
        "                if type(self.model) is str:\n",
        "                    self.model = gensim.models.Word2Vec.load(self.model)\n",
        "            except FileNotFoundError:\n",
        "                print(\"Error: Model not found. Verify the path.\\n\")\n",
        "                raise\n",
        "\n",
        "    def geometric(self, data):\n",
        "        \"\"\"\n",
        "        Used to generate Geometric distribution.\n",
        "        :type data: list\n",
        "        :param data: Input data\n",
        "        :rtype:   ndarray or scalar\n",
        "        :return:  Drawn samples from the parameterized Geometric distribution.\n",
        "        \"\"\"\n",
        "\n",
        "        data = np.array(data)\n",
        "        first_trial = np.random.geometric(p=self.p, size=data.shape[0]) == 1  # Capture success after first trial\n",
        "        return data[first_trial]\n",
        "\n",
        "    def augment(self, data):\n",
        "        \"\"\"\n",
        "        The method to replace words with similar words.\n",
        "        \n",
        "        :type data: str\n",
        "        :param data: Input data\n",
        "        :rtype:   str\n",
        "        :return:  The augmented data\n",
        "        \"\"\"\n",
        "        \n",
        "        # Avoid nulls and other unsupported types\n",
        "        if type(data) is not str: \n",
        "            raise TypeError(\"Only strings are supported\")\n",
        "        # Lower case and split\n",
        "        data_tokens = data.lower().split()\n",
        "\n",
        "        # Verbose = True then replace all the words.\n",
        "        if self.v:\n",
        "            for _ in range(self.runs):\n",
        "                for index in range(len(data_tokens)):  # Index from 0 to length of data_tokens\n",
        "                    try:\n",
        "                        similar_words = [syn for syn, t in self.model.most_similar(data_tokens[index])]\n",
        "                        r = random.randrange(len(similar_words))\n",
        "                        data_tokens[index] = similar_words[r].lower()  # Replace with random synonym from 10 synonyms\n",
        "                    except KeyError:\n",
        "                        pass  # For words not in the word2vec model\n",
        "        else:  # Randomly replace some words\n",
        "            for _ in range(self.runs):\n",
        "                data_tokens_idx = [[x, y] for (x, y) in enumerate(data_tokens)]  # Enumerate data\n",
        "                words = self.geometric(data=data_tokens_idx).tolist()  # List of words indexed\n",
        "                for w in words:\n",
        "                    try:\n",
        "                        similar_words_and_weights = [(syn, t) for syn, t in self.model.most_similar(w[1])]\n",
        "                        similar_words = [word for word, t in similar_words_and_weights]\n",
        "                        similar_words_weights = [t for word, t in similar_words_and_weights]\n",
        "                        word = random.choices(similar_words, similar_words_weights, k=1)\n",
        "                        data_tokens[int(w[0])] = word[0].lower()  # Replace with random synonym from 10 synonyms\n",
        "                    except KeyError:\n",
        "                        pass\n",
        "            return \" \".join(data_tokens)\n",
        "        return \" \".join(data_tokens)"
      ],
      "metadata": {
        "id": "4-KIrydUzp4M"
      },
      "execution_count": null,
      "outputs": []
    },
    {
      "cell_type": "code",
      "source": [
        "marivate_augmener = Word2vec(model=word2vec_model, runs=1, v=False, p=0.5)"
      ],
      "metadata": {
        "id": "J0-riYlju-Zu"
      },
      "execution_count": null,
      "outputs": []
    },
    {
      "cell_type": "code",
      "source": [
        "def marivate_augmentation(prepro_dataset, lable, sent_num=5):\n",
        "  texts = prepro_dataset.loc[prepro_dataset['label'] == lable]['text'].values\n",
        "  texts_num = len(texts)\n",
        "  new_texts = []\n",
        "  i = 0\n",
        "  \n",
        "  for text in texts:\n",
        "    if i % 20 == 0:\n",
        "      print(f\" {int(100*i/texts_num)} %\")\n",
        "    for j in range(sent_num):\n",
        "      new_texts.append(marivate_augmener.augment(text))\n",
        "    i += 1\n",
        "  augmentations = prepro_dataset[['text', 'label']].copy().append(pd.DataFrame({'label':[lable] * len(new_texts), 'text':new_texts}), ignore_index = True)\n",
        "  augmentations.drop_duplicates(inplace=True)\n",
        "  return augmentations.sample(frac=1)"
      ],
      "metadata": {
        "id": "Y9oxohKa2hrJ"
      },
      "execution_count": null,
      "outputs": []
    },
    {
      "cell_type": "code",
      "source": [
        "augmented_dataset =  marivate_augmentation(train_data, lable=1, sent_num=5)"
      ],
      "metadata": {
        "colab": {
          "base_uri": "https://localhost:8080/"
        },
        "id": "CDw9cIFagdZr",
        "outputId": "b26af4f1-f573-4a69-a919-f01192b269b4"
      },
      "execution_count": null,
      "outputs": [
        {
          "output_type": "stream",
          "name": "stdout",
          "text": [
            " 0 %\n",
            " 16 %\n",
            " 33 %\n",
            " 50 %\n",
            " 67 %\n",
            " 84 %\n"
          ]
        },
        {
          "output_type": "stream",
          "name": "stderr",
          "text": [
            "<ipython-input-26-27a6d5a3b793>:13: FutureWarning: The frame.append method is deprecated and will be removed from pandas in a future version. Use pandas.concat instead.\n",
            "  augmentations = prepro_dataset[['text', 'label']].copy().append(pd.DataFrame({'label':[lable] * len(new_texts), 'text':new_texts}), ignore_index = True)\n"
          ]
        }
      ]
    },
    {
      "cell_type": "code",
      "source": [
        "augmented_dataset"
      ],
      "metadata": {
        "id": "Y6h_fXcZgi4W",
        "colab": {
          "base_uri": "https://localhost:8080/",
          "height": 423
        },
        "outputId": "3a33b87c-6b0e-42a8-a179-6f0fd1762fba"
      },
      "execution_count": null,
      "outputs": [
        {
          "output_type": "execute_result",
          "data": {
            "text/plain": [
              "                                                   text  label\n",
              "399                                   ok leave need ask      0\n",
              "1124  selected receiving £350 lifetime_achievement_a...      1\n",
              "1381  lyricalladie21f inviting friend curt_reply yes...      1\n",
              "265                                        make tonight      0\n",
              "1096  urgent 1 morning free membership_dues £100000 ...      1\n",
              "...                                                 ...    ...\n",
              "112   sparkling shopping breaks 45 person 0121 20250...      1\n",
              "1196      9 revamped congratulatory_message 08715205273      1\n",
              "119       latest news police station toilet stolen cops      1\n",
              "1342  5th day attempted 1 gene.wojciechowski_@_espn3...      1\n",
              "1053  normalized_ffo_guidance leading bid 151 skimpy...      1\n",
              "\n",
              "[1527 rows x 2 columns]"
            ],
            "text/html": [
              "\n",
              "  <div id=\"df-89659653-b38f-4fd7-a29a-a23196c88aed\">\n",
              "    <div class=\"colab-df-container\">\n",
              "      <div>\n",
              "<style scoped>\n",
              "    .dataframe tbody tr th:only-of-type {\n",
              "        vertical-align: middle;\n",
              "    }\n",
              "\n",
              "    .dataframe tbody tr th {\n",
              "        vertical-align: top;\n",
              "    }\n",
              "\n",
              "    .dataframe thead th {\n",
              "        text-align: right;\n",
              "    }\n",
              "</style>\n",
              "<table border=\"1\" class=\"dataframe\">\n",
              "  <thead>\n",
              "    <tr style=\"text-align: right;\">\n",
              "      <th></th>\n",
              "      <th>text</th>\n",
              "      <th>label</th>\n",
              "    </tr>\n",
              "  </thead>\n",
              "  <tbody>\n",
              "    <tr>\n",
              "      <th>399</th>\n",
              "      <td>ok leave need ask</td>\n",
              "      <td>0</td>\n",
              "    </tr>\n",
              "    <tr>\n",
              "      <th>1124</th>\n",
              "      <td>selected receiving £350 lifetime_achievement_a...</td>\n",
              "      <td>1</td>\n",
              "    </tr>\n",
              "    <tr>\n",
              "      <th>1381</th>\n",
              "      <td>lyricalladie21f inviting friend curt_reply yes...</td>\n",
              "      <td>1</td>\n",
              "    </tr>\n",
              "    <tr>\n",
              "      <th>265</th>\n",
              "      <td>make tonight</td>\n",
              "      <td>0</td>\n",
              "    </tr>\n",
              "    <tr>\n",
              "      <th>1096</th>\n",
              "      <td>urgent 1 morning free membership_dues £100000 ...</td>\n",
              "      <td>1</td>\n",
              "    </tr>\n",
              "    <tr>\n",
              "      <th>...</th>\n",
              "      <td>...</td>\n",
              "      <td>...</td>\n",
              "    </tr>\n",
              "    <tr>\n",
              "      <th>112</th>\n",
              "      <td>sparkling shopping breaks 45 person 0121 20250...</td>\n",
              "      <td>1</td>\n",
              "    </tr>\n",
              "    <tr>\n",
              "      <th>1196</th>\n",
              "      <td>9 revamped congratulatory_message 08715205273</td>\n",
              "      <td>1</td>\n",
              "    </tr>\n",
              "    <tr>\n",
              "      <th>119</th>\n",
              "      <td>latest news police station toilet stolen cops</td>\n",
              "      <td>1</td>\n",
              "    </tr>\n",
              "    <tr>\n",
              "      <th>1342</th>\n",
              "      <td>5th day attempted 1 gene.wojciechowski_@_espn3...</td>\n",
              "      <td>1</td>\n",
              "    </tr>\n",
              "    <tr>\n",
              "      <th>1053</th>\n",
              "      <td>normalized_ffo_guidance leading bid 151 skimpy...</td>\n",
              "      <td>1</td>\n",
              "    </tr>\n",
              "  </tbody>\n",
              "</table>\n",
              "<p>1527 rows × 2 columns</p>\n",
              "</div>\n",
              "      <button class=\"colab-df-convert\" onclick=\"convertToInteractive('df-89659653-b38f-4fd7-a29a-a23196c88aed')\"\n",
              "              title=\"Convert this dataframe to an interactive table.\"\n",
              "              style=\"display:none;\">\n",
              "        \n",
              "  <svg xmlns=\"http://www.w3.org/2000/svg\" height=\"24px\"viewBox=\"0 0 24 24\"\n",
              "       width=\"24px\">\n",
              "    <path d=\"M0 0h24v24H0V0z\" fill=\"none\"/>\n",
              "    <path d=\"M18.56 5.44l.94 2.06.94-2.06 2.06-.94-2.06-.94-.94-2.06-.94 2.06-2.06.94zm-11 1L8.5 8.5l.94-2.06 2.06-.94-2.06-.94L8.5 2.5l-.94 2.06-2.06.94zm10 10l.94 2.06.94-2.06 2.06-.94-2.06-.94-.94-2.06-.94 2.06-2.06.94z\"/><path d=\"M17.41 7.96l-1.37-1.37c-.4-.4-.92-.59-1.43-.59-.52 0-1.04.2-1.43.59L10.3 9.45l-7.72 7.72c-.78.78-.78 2.05 0 2.83L4 21.41c.39.39.9.59 1.41.59.51 0 1.02-.2 1.41-.59l7.78-7.78 2.81-2.81c.8-.78.8-2.07 0-2.86zM5.41 20L4 18.59l7.72-7.72 1.47 1.35L5.41 20z\"/>\n",
              "  </svg>\n",
              "      </button>\n",
              "      \n",
              "  <style>\n",
              "    .colab-df-container {\n",
              "      display:flex;\n",
              "      flex-wrap:wrap;\n",
              "      gap: 12px;\n",
              "    }\n",
              "\n",
              "    .colab-df-convert {\n",
              "      background-color: #E8F0FE;\n",
              "      border: none;\n",
              "      border-radius: 50%;\n",
              "      cursor: pointer;\n",
              "      display: none;\n",
              "      fill: #1967D2;\n",
              "      height: 32px;\n",
              "      padding: 0 0 0 0;\n",
              "      width: 32px;\n",
              "    }\n",
              "\n",
              "    .colab-df-convert:hover {\n",
              "      background-color: #E2EBFA;\n",
              "      box-shadow: 0px 1px 2px rgba(60, 64, 67, 0.3), 0px 1px 3px 1px rgba(60, 64, 67, 0.15);\n",
              "      fill: #174EA6;\n",
              "    }\n",
              "\n",
              "    [theme=dark] .colab-df-convert {\n",
              "      background-color: #3B4455;\n",
              "      fill: #D2E3FC;\n",
              "    }\n",
              "\n",
              "    [theme=dark] .colab-df-convert:hover {\n",
              "      background-color: #434B5C;\n",
              "      box-shadow: 0px 1px 3px 1px rgba(0, 0, 0, 0.15);\n",
              "      filter: drop-shadow(0px 1px 2px rgba(0, 0, 0, 0.3));\n",
              "      fill: #FFFFFF;\n",
              "    }\n",
              "  </style>\n",
              "\n",
              "      <script>\n",
              "        const buttonEl =\n",
              "          document.querySelector('#df-89659653-b38f-4fd7-a29a-a23196c88aed button.colab-df-convert');\n",
              "        buttonEl.style.display =\n",
              "          google.colab.kernel.accessAllowed ? 'block' : 'none';\n",
              "\n",
              "        async function convertToInteractive(key) {\n",
              "          const element = document.querySelector('#df-89659653-b38f-4fd7-a29a-a23196c88aed');\n",
              "          const dataTable =\n",
              "            await google.colab.kernel.invokeFunction('convertToInteractive',\n",
              "                                                     [key], {});\n",
              "          if (!dataTable) return;\n",
              "\n",
              "          const docLinkHtml = 'Like what you see? Visit the ' +\n",
              "            '<a target=\"_blank\" href=https://colab.research.google.com/notebooks/data_table.ipynb>data table notebook</a>'\n",
              "            + ' to learn more about interactive tables.';\n",
              "          element.innerHTML = '';\n",
              "          dataTable['output_type'] = 'display_data';\n",
              "          await google.colab.output.renderOutput(dataTable, element);\n",
              "          const docLink = document.createElement('div');\n",
              "          docLink.innerHTML = docLinkHtml;\n",
              "          element.appendChild(docLink);\n",
              "        }\n",
              "      </script>\n",
              "    </div>\n",
              "  </div>\n",
              "  "
            ]
          },
          "metadata": {},
          "execution_count": 31
        }
      ]
    },
    {
      "cell_type": "code",
      "source": [
        "get_dataset_statistics(augmented_dataset)"
      ],
      "metadata": {
        "id": "tswB4HG6gkGw",
        "colab": {
          "base_uri": "https://localhost:8080/",
          "height": 499
        },
        "outputId": "05ef4bde-5860-41d3-c21b-e4a7b2ee2481"
      },
      "execution_count": null,
      "outputs": [
        {
          "output_type": "display_data",
          "data": {
            "text/plain": [
              "<Figure size 600x600 with 1 Axes>"
            ],
            "image/png": "[encoded data removed]"
          },
          "metadata": {}
        }
      ]
    },
    {
      "cell_type": "code",
      "source": [
        "aug_X_train = np.stack(np.array([get_text_vec(sms_text) for sms_text in augmented_dataset['text'].values]))"
      ],
      "metadata": {
        "id": "z6OjdLOWq6Z0",
        "colab": {
          "base_uri": "https://localhost:8080/"
        },
        "outputId": "2777504f-217f-4824-d903-249bc5fc13b7"
      },
      "execution_count": null,
      "outputs": [
        {
          "output_type": "stream",
          "name": "stderr",
          "text": [
            "/usr/local/lib/python3.9/dist-packages/numpy/core/fromnumeric.py:3474: RuntimeWarning: Mean of empty slice.\n",
            "  return _methods._mean(a, axis=axis, dtype=dtype,\n",
            "/usr/local/lib/python3.9/dist-packages/numpy/core/_methods.py:189: RuntimeWarning: invalid value encountered in double_scalars\n",
            "  ret = ret.dtype.type(ret / rcount)\n"
          ]
        }
      ]
    },
    {
      "cell_type": "code",
      "source": [
        "aug_X_train.shape"
      ],
      "metadata": {
        "id": "usZBu8u-rE9n",
        "colab": {
          "base_uri": "https://localhost:8080/"
        },
        "outputId": "0af8522a-3047-4214-e034-f401f4d9eaee"
      },
      "execution_count": null,
      "outputs": [
        {
          "output_type": "execute_result",
          "data": {
            "text/plain": [
              "(1529, 300)"
            ]
          },
          "metadata": {},
          "execution_count": 38
        }
      ]
    },
    {
      "cell_type": "code",
      "source": [
        "aug_y_train = augmented_dataset['label'].values"
      ],
      "metadata": {
        "id": "PHcQ7GrirHP_"
      },
      "execution_count": null,
      "outputs": []
    },
    {
      "cell_type": "code",
      "source": [
        "aug_y_train.shape"
      ],
      "metadata": {
        "id": "vZmx6w2Prn41",
        "colab": {
          "base_uri": "https://localhost:8080/"
        },
        "outputId": "6aa80656-903c-4e88-dd5a-e6332b21df77"
      },
      "execution_count": null,
      "outputs": [
        {
          "output_type": "execute_result",
          "data": {
            "text/plain": [
              "(1529,)"
            ]
          },
          "metadata": {},
          "execution_count": 40
        }
      ]
    },
    {
      "cell_type": "markdown",
      "metadata": {
        "id": "s3_2Wm7JoooJ"
      },
      "source": [
        "## Random forest"
      ]
    },
    {
      "cell_type": "code",
      "source": [
        "evaluation_metrics_aug = pd.DataFrame(columns = ['Recall', 'Precision', 'F1 score', 'F2 score', 'MCC'])"
      ],
      "metadata": {
        "id": "919LGjl_rYRr"
      },
      "execution_count": null,
      "outputs": []
    },
    {
      "cell_type": "code",
      "source": [
        "train(1, aug_X_train, aug_y_train, X_test, y_test, evaluation_metrics_aug, to_save=True, file_name='Mari_RF')"
      ],
      "metadata": {
        "colab": {
          "base_uri": "https://localhost:8080/",
          "height": 781
        },
        "id": "j6q4BYzDtEgB",
        "outputId": "911dbc04-b9e0-4a4e-d1c9-4fe73cf129f0"
      },
      "execution_count": null,
      "outputs": [
        {
          "output_type": "stream",
          "name": "stdout",
          "text": [
            "train accuracy = 0.9810333551340745\n",
            "test accuracy = 0.8870967741935484\n",
            "Recall = 0.8666666666666667\n",
            "Precision = 0.9420289855072463\n",
            "F1 score = 0.9027777777777778\n",
            "F2 score = 0.8807588075880759\n",
            "MCC = 0.7725227106087207\n",
            "              precision    recall  f1-score   support\n",
            "\n",
            "           0       0.82      0.92      0.87        49\n",
            "           1       0.94      0.87      0.90        75\n",
            "\n",
            "    accuracy                           0.89       124\n",
            "   macro avg       0.88      0.89      0.88       124\n",
            "weighted avg       0.89      0.89      0.89       124\n",
            "\n"
          ]
        },
        {
          "output_type": "display_data",
          "data": {
            "text/plain": [
              "<Figure size 640x480 with 2 Axes>"
            ],
            "image/png": "[encoded data removed]"
          },
          "metadata": {}
        },
        {
          "output_type": "stream",
          "name": "stdout",
          "text": [
            "{'criterion': 'entropy', 'max_depth': 6, 'max_features': 20, 'min_samples_split': 25, 'n_estimators': 20}\n"
          ]
        },
        {
          "output_type": "execute_result",
          "data": {
            "text/plain": [
              "(0.9027777777777778, 0.8807588075880759)"
            ]
          },
          "metadata": {},
          "execution_count": 42
        }
      ]
    },
    {
      "cell_type": "markdown",
      "source": [
        "# SVM"
      ],
      "metadata": {
        "id": "3H3ENdyba7B2"
      }
    },
    {
      "cell_type": "code",
      "source": [
        "train(2, aug_X_train, aug_y_train, X_test, y_test, evaluation_metrics_aug, to_save=True, file_name='Mari_SVM')"
      ],
      "metadata": {
        "colab": {
          "base_uri": "https://localhost:8080/",
          "height": 781
        },
        "id": "u9olDA2UtHv3",
        "outputId": "008d5099-409a-4cd0-9e41-f947dd929c25"
      },
      "execution_count": null,
      "outputs": [
        {
          "output_type": "stream",
          "name": "stdout",
          "text": [
            "train accuracy = 0.9947678221059516\n",
            "test accuracy = 0.9112903225806451\n",
            "Recall = 0.8666666666666667\n",
            "Precision = 0.9848484848484849\n",
            "F1 score = 0.9219858156028369\n",
            "F2 score = 0.8879781420765026\n",
            "MCC = 0.8291741471774795\n",
            "              precision    recall  f1-score   support\n",
            "\n",
            "           0       0.83      0.98      0.90        49\n",
            "           1       0.98      0.87      0.92        75\n",
            "\n",
            "    accuracy                           0.91       124\n",
            "   macro avg       0.91      0.92      0.91       124\n",
            "weighted avg       0.92      0.91      0.91       124\n",
            "\n"
          ]
        },
        {
          "output_type": "display_data",
          "data": {
            "text/plain": [
              "<Figure size 640x480 with 2 Axes>"
            ],
            "image/png": "[encoded data removed]"
          },
          "metadata": {}
        },
        {
          "output_type": "stream",
          "name": "stdout",
          "text": [
            "{'degree': 2, 'kernel': 'rbf'}\n"
          ]
        },
        {
          "output_type": "execute_result",
          "data": {
            "text/plain": [
              "(0.9219858156028369, 0.8879781420765026)"
            ]
          },
          "metadata": {},
          "execution_count": 43
        }
      ]
    },
    {
      "cell_type": "markdown",
      "source": [
        "#BiLSTM"
      ],
      "metadata": {
        "id": "VDIYepVzkSIp"
      }
    },
    {
      "cell_type": "code",
      "source": [
        "import random\n",
        "import tensorflow as tf \n",
        "from tensorflow import keras \n",
        "from tensorflow.keras import layers\n",
        "from sklearn.metrics import ConfusionMatrixDisplay\n",
        "from sklearn.model_selection import StratifiedKFold\n",
        "seed = 221\n",
        "random.seed(seed)\n",
        "np.random.seed(seed)\n",
        "tf.random.set_seed(seed)"
      ],
      "metadata": {
        "id": "_8rvD_Vb0WNg"
      },
      "execution_count": null,
      "outputs": []
    },
    {
      "cell_type": "code",
      "source": [
        "text_words_lengths = [len(raw_train_data.loc[i]['text'].split()) for i in raw_train_data.index ]\n",
        "total_length = np.sum(text_words_lengths)\n",
        "text_words_mean = int(np.mean(text_words_lengths))"
      ],
      "metadata": {
        "id": "Bxz8aaMf-NO_"
      },
      "execution_count": null,
      "outputs": []
    },
    {
      "cell_type": "code",
      "source": [
        "def create_blstm_model(sent_length, words_mean, train_texts):\n",
        "\n",
        "  text_vec = layers.TextVectorization( \n",
        "    max_tokens=sent_length,\n",
        "    standardize='lower_and_strip_punctuation',\n",
        "    output_mode='int',\n",
        "    output_sequence_length=words_mean\n",
        "  )\n",
        "\n",
        "  text_vec.adapt(train_texts)\n",
        "\n",
        "  embedding_layer = layers.Embedding(\n",
        "    input_dim=sent_length,\n",
        "    output_dim=128,\n",
        "    embeddings_initializer='uniform',\n",
        "    input_length=words_mean\n",
        "  )\n",
        "\n",
        "  input_layer = layers.Input(shape=(1,), dtype=tf.string) \n",
        "\n",
        "  vec_layer = text_vec(input_layer)\n",
        "  embedding_layer_model = embedding_layer(vec_layer) \n",
        "\n",
        "  bi_lstm = layers.Bidirectional(layers.LSTM(64, activation='tanh', return_sequences=True))(embedding_layer_model) \n",
        "\n",
        "  flatten = layers.Flatten()(bi_lstm) \n",
        "  dropout = layers.Dropout(.1)(flatten) \n",
        "\n",
        "  x = layers.Dense(32, activation='relu')(dropout) \n",
        "\n",
        "  output_layer = layers.Dense(1, activation='sigmoid')(x) \n",
        "\n",
        "  blstm_model = keras.Model(input_layer, output_layer) \n",
        "\n",
        "  blstm_model.compile(optimizer=keras.optimizers.Adam(),\n",
        "                loss=keras.losses.BinaryCrossentropy(),\n",
        "                metrics=['accuracy'])  \n",
        "  \n",
        "  return blstm_model"
      ],
      "metadata": {
        "id": "iy9xcyum0aJM"
      },
      "execution_count": null,
      "outputs": []
    },
    {
      "cell_type": "markdown",
      "source": [
        "# Cross Validation"
      ],
      "metadata": {
        "id": "K8qhydvg2qhx"
      }
    },
    {
      "cell_type": "code",
      "source": [
        "def cv_blstm(sent_length, words_mean):\n",
        "\n",
        "  kf = StratifiedKFold(10, shuffle=True, random_state=42) \n",
        "  cv_metrics = pd.DataFrame(columns = ['Recall', 'Precision', 'F1 score', 'F2 score'])\n",
        "\n",
        "  fold = 0\n",
        "\n",
        "  X = augmented_dataset['text'].values\n",
        "  Y = augmented_dataset['label'].values\n",
        "\n",
        "  for train, val in kf.split(X, Y):  \n",
        "  \n",
        "    print(f\"Fold {fold}\")\n",
        "\n",
        "    train_texts = X[train]\n",
        "    train_labels = Y[train]\n",
        "    test_texts = X[val]\n",
        "    test_labels = Y[val]\n",
        "\n",
        "    blstm_model = create_blstm_model(sent_length, words_mean, train_texts)\n",
        "\n",
        "    history = blstm_model.fit(train_texts,\n",
        "                              train_labels,\n",
        "                              epochs=10,\n",
        "                              batch_size=16,\n",
        "                              validation_data=(test_texts, test_labels))\n",
        "\n",
        "    blstm_model.evaluate(test_texts, test_labels)\n",
        "    y_pred = np.round(blstm_model.predict(test_texts))\n",
        "\n",
        "    f1_sc = f1_score(test_labels, y_pred)\n",
        "    f2score = fbeta_score(test_labels, y_pred, beta=2, average='binary')\n",
        "\n",
        "    cv_metrics.loc[fold, 'Recall'] = recall_score(test_labels, y_pred)\n",
        "    cv_metrics.loc[fold, 'Precision'] = precision_score(test_labels, y_pred)\n",
        "    cv_metrics.loc[fold, 'F1 score'] = f1_sc\n",
        "    cv_metrics.loc[fold, 'F2 score'] = f2score\n",
        "    \n",
        "    fold += 1\n",
        "\n",
        "  return cv_metrics"
      ],
      "metadata": {
        "id": "FVWl7X3y2ruW"
      },
      "execution_count": null,
      "outputs": []
    },
    {
      "cell_type": "code",
      "source": [
        "cv_results = cv_blstm(total_length, text_words_mean)"
      ],
      "metadata": {
        "colab": {
          "base_uri": "https://localhost:8080/"
        },
        "id": "NVTmR9uX2riX",
        "outputId": "f41e43c1-2f89-4b70-feb3-8e2cc0c0c953"
      },
      "execution_count": null,
      "outputs": [
        {
          "output_type": "stream",
          "name": "stdout",
          "text": [
            "Fold 0\n",
            "Epoch 1/10\n",
            "86/86 [==============================] - 21s 131ms/step - loss: 0.2408 - accuracy: 0.9127 - val_loss: 0.0075 - val_accuracy: 1.0000\n",
            "Epoch 2/10\n",
            "86/86 [==============================] - 3s 38ms/step - loss: 0.0107 - accuracy: 0.9942 - val_loss: 0.0154 - val_accuracy: 0.9935\n",
            "Epoch 3/10\n",
            "86/86 [==============================] - 3s 34ms/step - loss: 0.0029 - accuracy: 0.9993 - val_loss: 0.0297 - val_accuracy: 0.9935\n",
            "Epoch 4/10\n",
            "86/86 [==============================] - 1s 17ms/step - loss: 1.0472e-04 - accuracy: 1.0000 - val_loss: 0.0228 - val_accuracy: 0.9935\n",
            "Epoch 5/10\n",
            "86/86 [==============================] - 1s 9ms/step - loss: 1.7874e-05 - accuracy: 1.0000 - val_loss: 0.0230 - val_accuracy: 0.9935\n",
            "Epoch 6/10\n",
            "86/86 [==============================] - 1s 12ms/step - loss: 1.3395e-05 - accuracy: 1.0000 - val_loss: 0.0233 - val_accuracy: 0.9935\n",
            "Epoch 7/10\n",
            "86/86 [==============================] - 1s 12ms/step - loss: 1.0172e-05 - accuracy: 1.0000 - val_loss: 0.0235 - val_accuracy: 0.9935\n",
            "Epoch 8/10\n",
            "86/86 [==============================] - 1s 9ms/step - loss: 8.3445e-06 - accuracy: 1.0000 - val_loss: 0.0238 - val_accuracy: 0.9935\n",
            "Epoch 9/10\n",
            "86/86 [==============================] - 1s 13ms/step - loss: 6.8640e-06 - accuracy: 1.0000 - val_loss: 0.0241 - val_accuracy: 0.9935\n",
            "Epoch 10/10\n",
            "86/86 [==============================] - 1s 11ms/step - loss: 5.6141e-06 - accuracy: 1.0000 - val_loss: 0.0244 - val_accuracy: 0.9935\n",
            "5/5 [==============================] - 0s 5ms/step - loss: 0.0244 - accuracy: 0.9935\n",
            "5/5 [==============================] - 1s 3ms/step\n",
            "Fold 1\n",
            "Epoch 1/10\n",
            "86/86 [==============================] - 12s 98ms/step - loss: 0.2539 - accuracy: 0.9105 - val_loss: 0.0458 - val_accuracy: 0.9935\n",
            "Epoch 2/10\n",
            "86/86 [==============================] - 3s 33ms/step - loss: 0.0081 - accuracy: 0.9978 - val_loss: 0.0264 - val_accuracy: 0.9935\n",
            "Epoch 3/10\n",
            "86/86 [==============================] - 1s 17ms/step - loss: 7.3228e-04 - accuracy: 1.0000 - val_loss: 0.0291 - val_accuracy: 0.9935\n",
            "Epoch 4/10\n",
            "86/86 [==============================] - 2s 20ms/step - loss: 1.2445e-04 - accuracy: 1.0000 - val_loss: 0.0328 - val_accuracy: 0.9935\n",
            "Epoch 5/10\n",
            "86/86 [==============================] - 1s 12ms/step - loss: 3.7715e-05 - accuracy: 1.0000 - val_loss: 0.0346 - val_accuracy: 0.9935\n",
            "Epoch 6/10\n",
            "86/86 [==============================] - 1s 16ms/step - loss: 2.7508e-05 - accuracy: 1.0000 - val_loss: 0.0362 - val_accuracy: 0.9935\n",
            "Epoch 7/10\n",
            "86/86 [==============================] - 1s 12ms/step - loss: 2.0290e-05 - accuracy: 1.0000 - val_loss: 0.0378 - val_accuracy: 0.9935\n",
            "Epoch 8/10\n",
            "86/86 [==============================] - 1s 11ms/step - loss: 1.5819e-05 - accuracy: 1.0000 - val_loss: 0.0393 - val_accuracy: 0.9935\n",
            "Epoch 9/10\n",
            "86/86 [==============================] - 1s 15ms/step - loss: 1.2874e-05 - accuracy: 1.0000 - val_loss: 0.0406 - val_accuracy: 0.9935\n",
            "Epoch 10/10\n",
            "86/86 [==============================] - 1s 11ms/step - loss: 1.0328e-05 - accuracy: 1.0000 - val_loss: 0.0420 - val_accuracy: 0.9935\n",
            "5/5 [==============================] - 0s 5ms/step - loss: 0.0420 - accuracy: 0.9935\n",
            "5/5 [==============================] - 1s 4ms/step\n",
            "Fold 2\n",
            "Epoch 1/10\n",
            "86/86 [==============================] - 13s 103ms/step - loss: 0.2426 - accuracy: 0.9047 - val_loss: 0.0244 - val_accuracy: 0.9869\n",
            "Epoch 2/10\n",
            "86/86 [==============================] - 3s 29ms/step - loss: 0.0078 - accuracy: 0.9971 - val_loss: 0.0147 - val_accuracy: 0.9935\n",
            "Epoch 3/10\n",
            "86/86 [==============================] - 2s 18ms/step - loss: 2.5526e-04 - accuracy: 1.0000 - val_loss: 0.0104 - val_accuracy: 1.0000\n",
            "Epoch 4/10\n",
            "86/86 [==============================] - 2s 18ms/step - loss: 9.0966e-05 - accuracy: 1.0000 - val_loss: 0.0079 - val_accuracy: 1.0000\n",
            "Epoch 5/10\n",
            "86/86 [==============================] - 1s 15ms/step - loss: 5.2739e-05 - accuracy: 1.0000 - val_loss: 0.0068 - val_accuracy: 1.0000\n",
            "Epoch 6/10\n",
            "86/86 [==============================] - 1s 17ms/step - loss: 3.4513e-05 - accuracy: 1.0000 - val_loss: 0.0061 - val_accuracy: 1.0000\n",
            "Epoch 7/10\n",
            "86/86 [==============================] - 1s 14ms/step - loss: 2.5627e-05 - accuracy: 1.0000 - val_loss: 0.0055 - val_accuracy: 1.0000\n",
            "Epoch 8/10\n",
            "86/86 [==============================] - 1s 9ms/step - loss: 1.9207e-05 - accuracy: 1.0000 - val_loss: 0.0052 - val_accuracy: 1.0000\n",
            "Epoch 9/10\n",
            "86/86 [==============================] - 1s 14ms/step - loss: 1.4772e-05 - accuracy: 1.0000 - val_loss: 0.0048 - val_accuracy: 1.0000\n",
            "Epoch 10/10\n",
            "86/86 [==============================] - 1s 7ms/step - loss: 1.2090e-05 - accuracy: 1.0000 - val_loss: 0.0046 - val_accuracy: 1.0000\n",
            "5/5 [==============================] - 0s 6ms/step - loss: 0.0046 - accuracy: 1.0000\n",
            "5/5 [==============================] - 1s 4ms/step\n",
            "Fold 3\n",
            "Epoch 1/10\n",
            "86/86 [==============================] - 12s 100ms/step - loss: 0.2369 - accuracy: 0.9061 - val_loss: 0.0636 - val_accuracy: 0.9673\n",
            "Epoch 2/10\n",
            "86/86 [==============================] - 5s 53ms/step - loss: 0.0108 - accuracy: 0.9964 - val_loss: 0.0199 - val_accuracy: 0.9935\n",
            "Epoch 3/10\n",
            "86/86 [==============================] - 1s 16ms/step - loss: 0.0015 - accuracy: 0.9993 - val_loss: 0.0257 - val_accuracy: 0.9935\n",
            "Epoch 4/10\n",
            "86/86 [==============================] - 1s 13ms/step - loss: 1.0121e-04 - accuracy: 1.0000 - val_loss: 0.0290 - val_accuracy: 0.9935\n",
            "Epoch 5/10\n",
            "86/86 [==============================] - 1s 9ms/step - loss: 5.1969e-05 - accuracy: 1.0000 - val_loss: 0.0308 - val_accuracy: 0.9935\n",
            "Epoch 6/10\n",
            "86/86 [==============================] - 1s 11ms/step - loss: 3.3173e-05 - accuracy: 1.0000 - val_loss: 0.0322 - val_accuracy: 0.9935\n",
            "Epoch 7/10\n",
            "86/86 [==============================] - 1s 11ms/step - loss: 2.3971e-05 - accuracy: 1.0000 - val_loss: 0.0335 - val_accuracy: 0.9935\n",
            "Epoch 8/10\n",
            "86/86 [==============================] - 1s 9ms/step - loss: 1.8352e-05 - accuracy: 1.0000 - val_loss: 0.0346 - val_accuracy: 0.9935\n",
            "Epoch 9/10\n",
            "86/86 [==============================] - 1s 12ms/step - loss: 1.4706e-05 - accuracy: 1.0000 - val_loss: 0.0361 - val_accuracy: 0.9935\n",
            "Epoch 10/10\n",
            "86/86 [==============================] - 1s 8ms/step - loss: 1.1564e-05 - accuracy: 1.0000 - val_loss: 0.0371 - val_accuracy: 0.9935\n",
            "5/5 [==============================] - 0s 5ms/step - loss: 0.0371 - accuracy: 0.9935\n",
            "5/5 [==============================] - 1s 4ms/step\n",
            "Fold 4\n",
            "Epoch 1/10\n",
            "86/86 [==============================] - 13s 102ms/step - loss: 0.2429 - accuracy: 0.8996 - val_loss: 0.0360 - val_accuracy: 0.9935\n",
            "Epoch 2/10\n",
            "86/86 [==============================] - 2s 24ms/step - loss: 0.0055 - accuracy: 0.9993 - val_loss: 0.0281 - val_accuracy: 0.9869\n",
            "Epoch 3/10\n",
            "86/86 [==============================] - 1s 16ms/step - loss: 8.9170e-05 - accuracy: 1.0000 - val_loss: 0.0356 - val_accuracy: 0.9869\n",
            "Epoch 4/10\n",
            "86/86 [==============================] - 2s 18ms/step - loss: 5.0586e-05 - accuracy: 1.0000 - val_loss: 0.0404 - val_accuracy: 0.9869\n",
            "Epoch 5/10\n",
            "86/86 [==============================] - 1s 7ms/step - loss: 3.2896e-05 - accuracy: 1.0000 - val_loss: 0.0441 - val_accuracy: 0.9869\n",
            "Epoch 6/10\n",
            "86/86 [==============================] - 1s 12ms/step - loss: 2.3382e-05 - accuracy: 1.0000 - val_loss: 0.0468 - val_accuracy: 0.9869\n",
            "Epoch 7/10\n",
            "86/86 [==============================] - 1s 11ms/step - loss: 1.7206e-05 - accuracy: 1.0000 - val_loss: 0.0492 - val_accuracy: 0.9869\n",
            "Epoch 8/10\n",
            "86/86 [==============================] - 1s 15ms/step - loss: 1.3510e-05 - accuracy: 1.0000 - val_loss: 0.0514 - val_accuracy: 0.9869\n",
            "Epoch 9/10\n",
            "86/86 [==============================] - 1s 11ms/step - loss: 1.1178e-05 - accuracy: 1.0000 - val_loss: 0.0530 - val_accuracy: 0.9869\n",
            "Epoch 10/10\n",
            "86/86 [==============================] - 1s 8ms/step - loss: 9.2933e-06 - accuracy: 1.0000 - val_loss: 0.0553 - val_accuracy: 0.9869\n",
            "5/5 [==============================] - 0s 5ms/step - loss: 0.0553 - accuracy: 0.9869\n",
            "5/5 [==============================] - 1s 4ms/step\n",
            "Fold 5\n",
            "Epoch 1/10\n",
            "86/86 [==============================] - 12s 98ms/step - loss: 0.2249 - accuracy: 0.8952 - val_loss: 0.0571 - val_accuracy: 0.9804\n",
            "Epoch 2/10\n",
            "86/86 [==============================] - 3s 30ms/step - loss: 0.0082 - accuracy: 0.9971 - val_loss: 0.0164 - val_accuracy: 0.9935\n",
            "Epoch 3/10\n",
            "86/86 [==============================] - 1s 16ms/step - loss: 8.3852e-04 - accuracy: 0.9993 - val_loss: 0.0165 - val_accuracy: 0.9935\n",
            "Epoch 4/10\n",
            "86/86 [==============================] - 1s 15ms/step - loss: 4.4549e-05 - accuracy: 1.0000 - val_loss: 0.0135 - val_accuracy: 0.9935\n",
            "Epoch 5/10\n",
            "86/86 [==============================] - 1s 14ms/step - loss: 2.8987e-05 - accuracy: 1.0000 - val_loss: 0.0147 - val_accuracy: 0.9935\n",
            "Epoch 6/10\n",
            "86/86 [==============================] - 2s 19ms/step - loss: 2.0383e-05 - accuracy: 1.0000 - val_loss: 0.0152 - val_accuracy: 0.9935\n",
            "Epoch 7/10\n",
            "86/86 [==============================] - 1s 14ms/step - loss: 1.6022e-05 - accuracy: 1.0000 - val_loss: 0.0157 - val_accuracy: 0.9935\n",
            "Epoch 8/10\n",
            "86/86 [==============================] - 1s 8ms/step - loss: 1.2707e-05 - accuracy: 1.0000 - val_loss: 0.0160 - val_accuracy: 0.9935\n",
            "Epoch 9/10\n",
            "86/86 [==============================] - 1s 12ms/step - loss: 1.0529e-05 - accuracy: 1.0000 - val_loss: 0.0165 - val_accuracy: 0.9935\n",
            "Epoch 10/10\n",
            "86/86 [==============================] - 1s 9ms/step - loss: 8.4922e-06 - accuracy: 1.0000 - val_loss: 0.0168 - val_accuracy: 0.9935\n",
            "5/5 [==============================] - 0s 5ms/step - loss: 0.0168 - accuracy: 0.9935\n",
            "5/5 [==============================] - 1s 4ms/step\n",
            "Fold 6\n",
            "Epoch 1/10\n",
            "86/86 [==============================] - 12s 90ms/step - loss: 0.2334 - accuracy: 0.9098 - val_loss: 0.0322 - val_accuracy: 0.9804\n",
            "Epoch 2/10\n",
            "86/86 [==============================] - 3s 33ms/step - loss: 0.0044 - accuracy: 0.9993 - val_loss: 0.0085 - val_accuracy: 1.0000\n",
            "Epoch 3/10\n",
            "86/86 [==============================] - 2s 28ms/step - loss: 6.6587e-04 - accuracy: 1.0000 - val_loss: 0.0040 - val_accuracy: 1.0000\n",
            "Epoch 4/10\n",
            "86/86 [==============================] - 1s 12ms/step - loss: 5.3305e-05 - accuracy: 1.0000 - val_loss: 0.0034 - val_accuracy: 1.0000\n",
            "Epoch 5/10\n",
            "86/86 [==============================] - 1s 14ms/step - loss: 3.3453e-05 - accuracy: 1.0000 - val_loss: 0.0033 - val_accuracy: 1.0000\n",
            "Epoch 6/10\n",
            "86/86 [==============================] - 1s 11ms/step - loss: 2.3084e-05 - accuracy: 1.0000 - val_loss: 0.0032 - val_accuracy: 1.0000\n",
            "Epoch 7/10\n",
            "86/86 [==============================] - 1s 11ms/step - loss: 1.8291e-05 - accuracy: 1.0000 - val_loss: 0.0032 - val_accuracy: 1.0000\n",
            "Epoch 8/10\n",
            "86/86 [==============================] - 1s 9ms/step - loss: 1.3207e-05 - accuracy: 1.0000 - val_loss: 0.0033 - val_accuracy: 1.0000\n",
            "Epoch 9/10\n",
            "86/86 [==============================] - 1s 9ms/step - loss: 1.1124e-05 - accuracy: 1.0000 - val_loss: 0.0033 - val_accuracy: 1.0000\n",
            "Epoch 10/10\n",
            "86/86 [==============================] - 1s 10ms/step - loss: 8.7201e-06 - accuracy: 1.0000 - val_loss: 0.0033 - val_accuracy: 1.0000\n",
            "5/5 [==============================] - 0s 5ms/step - loss: 0.0033 - accuracy: 1.0000\n",
            "5/5 [==============================] - 1s 4ms/step\n",
            "Fold 7\n",
            "Epoch 1/10\n",
            "86/86 [==============================] - 12s 98ms/step - loss: 0.2266 - accuracy: 0.9222 - val_loss: 0.0335 - val_accuracy: 0.9868\n",
            "Epoch 2/10\n",
            "86/86 [==============================] - 3s 30ms/step - loss: 0.0121 - accuracy: 0.9949 - val_loss: 0.0107 - val_accuracy: 1.0000\n",
            "Epoch 3/10\n",
            "86/86 [==============================] - 2s 25ms/step - loss: 0.0019 - accuracy: 0.9993 - val_loss: 0.0033 - val_accuracy: 1.0000\n",
            "Epoch 4/10\n",
            "86/86 [==============================] - 1s 14ms/step - loss: 6.8819e-05 - accuracy: 1.0000 - val_loss: 0.0029 - val_accuracy: 1.0000\n",
            "Epoch 5/10\n",
            "86/86 [==============================] - 1s 11ms/step - loss: 3.7542e-05 - accuracy: 1.0000 - val_loss: 0.0026 - val_accuracy: 1.0000\n",
            "Epoch 6/10\n",
            "86/86 [==============================] - 1s 9ms/step - loss: 2.5605e-05 - accuracy: 1.0000 - val_loss: 0.0025 - val_accuracy: 1.0000\n",
            "Epoch 7/10\n",
            "86/86 [==============================] - 1s 11ms/step - loss: 1.7426e-05 - accuracy: 1.0000 - val_loss: 0.0024 - val_accuracy: 1.0000\n",
            "Epoch 8/10\n",
            "86/86 [==============================] - 1s 12ms/step - loss: 1.3737e-05 - accuracy: 1.0000 - val_loss: 0.0023 - val_accuracy: 1.0000\n",
            "Epoch 9/10\n",
            "86/86 [==============================] - 1s 12ms/step - loss: 1.0436e-05 - accuracy: 1.0000 - val_loss: 0.0022 - val_accuracy: 1.0000\n",
            "Epoch 10/10\n",
            "86/86 [==============================] - 1s 9ms/step - loss: 8.5127e-06 - accuracy: 1.0000 - val_loss: 0.0021 - val_accuracy: 1.0000\n",
            "5/5 [==============================] - 0s 5ms/step - loss: 0.0021 - accuracy: 1.0000\n",
            "5/5 [==============================] - 1s 4ms/step\n",
            "Fold 8\n",
            "Epoch 1/10\n",
            "86/86 [==============================] - 13s 100ms/step - loss: 0.2391 - accuracy: 0.8931 - val_loss: 0.0219 - val_accuracy: 0.9934\n",
            "Epoch 2/10\n",
            "86/86 [==============================] - 3s 38ms/step - loss: 0.0059 - accuracy: 0.9978 - val_loss: 0.0352 - val_accuracy: 0.9934\n",
            "Epoch 3/10\n",
            "86/86 [==============================] - 2s 19ms/step - loss: 3.7243e-04 - accuracy: 1.0000 - val_loss: 0.0235 - val_accuracy: 0.9934\n",
            "Epoch 4/10\n",
            "86/86 [==============================] - 1s 9ms/step - loss: 3.8259e-05 - accuracy: 1.0000 - val_loss: 0.0280 - val_accuracy: 0.9934\n",
            "Epoch 5/10\n",
            "86/86 [==============================] - 1s 13ms/step - loss: 1.5077e-05 - accuracy: 1.0000 - val_loss: 0.0293 - val_accuracy: 0.9934\n",
            "Epoch 6/10\n",
            "86/86 [==============================] - 1s 11ms/step - loss: 1.1552e-05 - accuracy: 1.0000 - val_loss: 0.0303 - val_accuracy: 0.9934\n",
            "Epoch 7/10\n",
            "86/86 [==============================] - 1s 12ms/step - loss: 9.4504e-06 - accuracy: 1.0000 - val_loss: 0.0313 - val_accuracy: 0.9934\n",
            "Epoch 8/10\n",
            "86/86 [==============================] - 1s 14ms/step - loss: 7.6214e-06 - accuracy: 1.0000 - val_loss: 0.0320 - val_accuracy: 0.9934\n",
            "Epoch 9/10\n",
            "86/86 [==============================] - 1s 11ms/step - loss: 6.6570e-06 - accuracy: 1.0000 - val_loss: 0.0327 - val_accuracy: 0.9934\n",
            "Epoch 10/10\n",
            "86/86 [==============================] - 1s 9ms/step - loss: 5.5747e-06 - accuracy: 1.0000 - val_loss: 0.0334 - val_accuracy: 0.9934\n",
            "5/5 [==============================] - 0s 5ms/step - loss: 0.0334 - accuracy: 0.9934\n",
            "5/5 [==============================] - 1s 4ms/step\n",
            "Fold 9\n",
            "Epoch 1/10\n",
            "86/86 [==============================] - 12s 95ms/step - loss: 0.2217 - accuracy: 0.9222 - val_loss: 0.1037 - val_accuracy: 0.9605\n",
            "Epoch 2/10\n",
            "86/86 [==============================] - 4s 44ms/step - loss: 0.0095 - accuracy: 0.9964 - val_loss: 0.0603 - val_accuracy: 0.9737\n",
            "Epoch 3/10\n",
            "86/86 [==============================] - 2s 16ms/step - loss: 5.8557e-04 - accuracy: 1.0000 - val_loss: 0.0679 - val_accuracy: 0.9868\n",
            "Epoch 4/10\n",
            "86/86 [==============================] - 2s 25ms/step - loss: 5.6539e-05 - accuracy: 1.0000 - val_loss: 0.0703 - val_accuracy: 0.9868\n",
            "Epoch 5/10\n",
            "86/86 [==============================] - 1s 16ms/step - loss: 3.5164e-05 - accuracy: 1.0000 - val_loss: 0.0727 - val_accuracy: 0.9868\n",
            "Epoch 6/10\n",
            "86/86 [==============================] - 1s 12ms/step - loss: 2.5044e-05 - accuracy: 1.0000 - val_loss: 0.0745 - val_accuracy: 0.9868\n",
            "Epoch 7/10\n",
            "86/86 [==============================] - 1s 8ms/step - loss: 1.8378e-05 - accuracy: 1.0000 - val_loss: 0.0761 - val_accuracy: 0.9868\n",
            "Epoch 8/10\n",
            "86/86 [==============================] - 1s 11ms/step - loss: 1.3690e-05 - accuracy: 1.0000 - val_loss: 0.0776 - val_accuracy: 0.9868\n",
            "Epoch 9/10\n",
            "86/86 [==============================] - 1s 7ms/step - loss: 1.0782e-05 - accuracy: 1.0000 - val_loss: 0.0791 - val_accuracy: 0.9868\n",
            "Epoch 10/10\n",
            "86/86 [==============================] - 1s 9ms/step - loss: 9.1736e-06 - accuracy: 1.0000 - val_loss: 0.0805 - val_accuracy: 0.9868\n",
            "5/5 [==============================] - 0s 5ms/step - loss: 0.0805 - accuracy: 0.9868\n",
            "5/5 [==============================] - 1s 4ms/step\n"
          ]
        }
      ]
    },
    {
      "cell_type": "code",
      "source": [
        "cv_results"
      ],
      "metadata": {
        "colab": {
          "base_uri": "https://localhost:8080/",
          "height": 363
        },
        "id": "vbesxepL2q98",
        "outputId": "a8ef0301-d9b5-44f1-d8a1-658f11476c8d"
      },
      "execution_count": null,
      "outputs": [
        {
          "output_type": "execute_result",
          "data": {
            "text/plain": [
              "     Recall Precision  F1 score  F2 score\n",
              "0  0.985714       1.0  0.992806  0.988539\n",
              "1  0.985915       1.0  0.992908  0.988701\n",
              "2       1.0       1.0       1.0       1.0\n",
              "3  0.985915       1.0  0.992908  0.988701\n",
              "4       1.0  0.972603  0.986111  0.994398\n",
              "5       1.0  0.986111  0.993007  0.997191\n",
              "6       1.0       1.0       1.0       1.0\n",
              "7       1.0       1.0       1.0       1.0\n",
              "8       1.0  0.985915  0.992908  0.997151\n",
              "9       1.0  0.972222  0.985915  0.994318"
            ],
            "text/html": [
              "\n",
              "  <div id=\"df-9f8df43b-f500-4cbb-8c01-3d3a69f1aedf\">\n",
              "    <div class=\"colab-df-container\">\n",
              "      <div>\n",
              "<style scoped>\n",
              "    .dataframe tbody tr th:only-of-type {\n",
              "        vertical-align: middle;\n",
              "    }\n",
              "\n",
              "    .dataframe tbody tr th {\n",
              "        vertical-align: top;\n",
              "    }\n",
              "\n",
              "    .dataframe thead th {\n",
              "        text-align: right;\n",
              "    }\n",
              "</style>\n",
              "<table border=\"1\" class=\"dataframe\">\n",
              "  <thead>\n",
              "    <tr style=\"text-align: right;\">\n",
              "      <th></th>\n",
              "      <th>Recall</th>\n",
              "      <th>Precision</th>\n",
              "      <th>F1 score</th>\n",
              "      <th>F2 score</th>\n",
              "    </tr>\n",
              "  </thead>\n",
              "  <tbody>\n",
              "    <tr>\n",
              "      <th>0</th>\n",
              "      <td>0.985714</td>\n",
              "      <td>1.0</td>\n",
              "      <td>0.992806</td>\n",
              "      <td>0.988539</td>\n",
              "    </tr>\n",
              "    <tr>\n",
              "      <th>1</th>\n",
              "      <td>0.985915</td>\n",
              "      <td>1.0</td>\n",
              "      <td>0.992908</td>\n",
              "      <td>0.988701</td>\n",
              "    </tr>\n",
              "    <tr>\n",
              "      <th>2</th>\n",
              "      <td>1.0</td>\n",
              "      <td>1.0</td>\n",
              "      <td>1.0</td>\n",
              "      <td>1.0</td>\n",
              "    </tr>\n",
              "    <tr>\n",
              "      <th>3</th>\n",
              "      <td>0.985915</td>\n",
              "      <td>1.0</td>\n",
              "      <td>0.992908</td>\n",
              "      <td>0.988701</td>\n",
              "    </tr>\n",
              "    <tr>\n",
              "      <th>4</th>\n",
              "      <td>1.0</td>\n",
              "      <td>0.972603</td>\n",
              "      <td>0.986111</td>\n",
              "      <td>0.994398</td>\n",
              "    </tr>\n",
              "    <tr>\n",
              "      <th>5</th>\n",
              "      <td>1.0</td>\n",
              "      <td>0.986111</td>\n",
              "      <td>0.993007</td>\n",
              "      <td>0.997191</td>\n",
              "    </tr>\n",
              "    <tr>\n",
              "      <th>6</th>\n",
              "      <td>1.0</td>\n",
              "      <td>1.0</td>\n",
              "      <td>1.0</td>\n",
              "      <td>1.0</td>\n",
              "    </tr>\n",
              "    <tr>\n",
              "      <th>7</th>\n",
              "      <td>1.0</td>\n",
              "      <td>1.0</td>\n",
              "      <td>1.0</td>\n",
              "      <td>1.0</td>\n",
              "    </tr>\n",
              "    <tr>\n",
              "      <th>8</th>\n",
              "      <td>1.0</td>\n",
              "      <td>0.985915</td>\n",
              "      <td>0.992908</td>\n",
              "      <td>0.997151</td>\n",
              "    </tr>\n",
              "    <tr>\n",
              "      <th>9</th>\n",
              "      <td>1.0</td>\n",
              "      <td>0.972222</td>\n",
              "      <td>0.985915</td>\n",
              "      <td>0.994318</td>\n",
              "    </tr>\n",
              "  </tbody>\n",
              "</table>\n",
              "</div>\n",
              "      <button class=\"colab-df-convert\" onclick=\"convertToInteractive('df-9f8df43b-f500-4cbb-8c01-3d3a69f1aedf')\"\n",
              "              title=\"Convert this dataframe to an interactive table.\"\n",
              "              style=\"display:none;\">\n",
              "        \n",
              "  <svg xmlns=\"http://www.w3.org/2000/svg\" height=\"24px\"viewBox=\"0 0 24 24\"\n",
              "       width=\"24px\">\n",
              "    <path d=\"M0 0h24v24H0V0z\" fill=\"none\"/>\n",
              "    <path d=\"M18.56 5.44l.94 2.06.94-2.06 2.06-.94-2.06-.94-.94-2.06-.94 2.06-2.06.94zm-11 1L8.5 8.5l.94-2.06 2.06-.94-2.06-.94L8.5 2.5l-.94 2.06-2.06.94zm10 10l.94 2.06.94-2.06 2.06-.94-2.06-.94-.94-2.06-.94 2.06-2.06.94z\"/><path d=\"M17.41 7.96l-1.37-1.37c-.4-.4-.92-.59-1.43-.59-.52 0-1.04.2-1.43.59L10.3 9.45l-7.72 7.72c-.78.78-.78 2.05 0 2.83L4 21.41c.39.39.9.59 1.41.59.51 0 1.02-.2 1.41-.59l7.78-7.78 2.81-2.81c.8-.78.8-2.07 0-2.86zM5.41 20L4 18.59l7.72-7.72 1.47 1.35L5.41 20z\"/>\n",
              "  </svg>\n",
              "      </button>\n",
              "      \n",
              "  <style>\n",
              "    .colab-df-container {\n",
              "      display:flex;\n",
              "      flex-wrap:wrap;\n",
              "      gap: 12px;\n",
              "    }\n",
              "\n",
              "    .colab-df-convert {\n",
              "      background-color: #E8F0FE;\n",
              "      border: none;\n",
              "      border-radius: 50%;\n",
              "      cursor: pointer;\n",
              "      display: none;\n",
              "      fill: #1967D2;\n",
              "      height: 32px;\n",
              "      padding: 0 0 0 0;\n",
              "      width: 32px;\n",
              "    }\n",
              "\n",
              "    .colab-df-convert:hover {\n",
              "      background-color: #E2EBFA;\n",
              "      box-shadow: 0px 1px 2px rgba(60, 64, 67, 0.3), 0px 1px 3px 1px rgba(60, 64, 67, 0.15);\n",
              "      fill: #174EA6;\n",
              "    }\n",
              "\n",
              "    [theme=dark] .colab-df-convert {\n",
              "      background-color: #3B4455;\n",
              "      fill: #D2E3FC;\n",
              "    }\n",
              "\n",
              "    [theme=dark] .colab-df-convert:hover {\n",
              "      background-color: #434B5C;\n",
              "      box-shadow: 0px 1px 3px 1px rgba(0, 0, 0, 0.15);\n",
              "      filter: drop-shadow(0px 1px 2px rgba(0, 0, 0, 0.3));\n",
              "      fill: #FFFFFF;\n",
              "    }\n",
              "  </style>\n",
              "\n",
              "      <script>\n",
              "        const buttonEl =\n",
              "          document.querySelector('#df-9f8df43b-f500-4cbb-8c01-3d3a69f1aedf button.colab-df-convert');\n",
              "        buttonEl.style.display =\n",
              "          google.colab.kernel.accessAllowed ? 'block' : 'none';\n",
              "\n",
              "        async function convertToInteractive(key) {\n",
              "          const element = document.querySelector('#df-9f8df43b-f500-4cbb-8c01-3d3a69f1aedf');\n",
              "          const dataTable =\n",
              "            await google.colab.kernel.invokeFunction('convertToInteractive',\n",
              "                                                     [key], {});\n",
              "          if (!dataTable) return;\n",
              "\n",
              "          const docLinkHtml = 'Like what you see? Visit the ' +\n",
              "            '<a target=\"_blank\" href=https://colab.research.google.com/notebooks/data_table.ipynb>data table notebook</a>'\n",
              "            + ' to learn more about interactive tables.';\n",
              "          element.innerHTML = '';\n",
              "          dataTable['output_type'] = 'display_data';\n",
              "          await google.colab.output.renderOutput(dataTable, element);\n",
              "          const docLink = document.createElement('div');\n",
              "          docLink.innerHTML = docLinkHtml;\n",
              "          element.appendChild(docLink);\n",
              "        }\n",
              "      </script>\n",
              "    </div>\n",
              "  </div>\n",
              "  "
            ]
          },
          "metadata": {},
          "execution_count": 34
        }
      ]
    },
    {
      "cell_type": "code",
      "source": [
        "cv_results.mean()"
      ],
      "metadata": {
        "colab": {
          "base_uri": "https://localhost:8080/"
        },
        "id": "k-j2lAIV2rRi",
        "outputId": "5115f1f5-0eb1-429f-d21f-0b3b050fbc77"
      },
      "execution_count": null,
      "outputs": [
        {
          "output_type": "execute_result",
          "data": {
            "text/plain": [
              "Recall       0.995755\n",
              "Precision    0.991685\n",
              "F1 score     0.993656\n",
              "F2 score     0.994900\n",
              "dtype: float64"
            ]
          },
          "metadata": {},
          "execution_count": 35
        }
      ]
    },
    {
      "cell_type": "code",
      "source": [
        "def train_blstm(sent_length, words_mean, train_texts, train_labels):\n",
        "\n",
        "  blstm_model = create_blstm_model(sent_length, words_mean, train_texts)\n",
        "  \n",
        "  history = blstm_model.fit(train_texts,\n",
        "                            train_labels,\n",
        "                            epochs=10,\n",
        "                            batch_size=10,\n",
        "                            steps_per_epoch = len(train_texts)//5,\n",
        "                            validation_data=(X_test, y_test),\n",
        "                            validation_steps=int(0.2*len(X_test)))\n",
        "  \n",
        "  blstm_model.evaluate(X_test, y_test)\n",
        "  y_pred = np.round(blstm_model.predict(X_test))\n",
        "\n",
        "  f1_sc = f1_score(y_test, y_pred)\n",
        "  f2score = fbeta_score(y_test, y_pred, beta=2, average='binary')\n",
        "  mcc = matthews_corrcoef(y_test, y_pred)\n",
        "\n",
        "\n",
        "  print(\"test accuracy = \" + str(accuracy_score(y_test, y_pred)))\n",
        "  print(\"Recall = {}\".format(recall_score(y_test, y_pred)))\n",
        "  print(\"Precision = {}\".format(precision_score(y_test, y_pred)))\n",
        "  print(\"F1 score = {}\".format(f1_sc))\n",
        "  print(\"F2 score = {}\".format(f2score))\n",
        "  print(\"MCC = {}\".format(mcc))\n",
        "  print(classification_report(y_test, y_pred))\n",
        "  \n",
        "  cm = confusion_matrix(y_test, y_pred)\n",
        "\n",
        "  disp = ConfusionMatrixDisplay(confusion_matrix=cm, display_labels=[0,1])\n",
        "\n",
        "  disp.plot(cmap=plt.cm.Blues)\n",
        "  plt.show()\n",
        "\n",
        "  return f1_sc, f2score\n"
      ],
      "metadata": {
        "id": "6zXQht_90cw6"
      },
      "execution_count": null,
      "outputs": []
    },
    {
      "cell_type": "code",
      "source": [
        "X_test = test_data['text'].values.reshape(-1, 1)"
      ],
      "metadata": {
        "id": "k6j7buOqDqOQ"
      },
      "execution_count": null,
      "outputs": []
    },
    {
      "cell_type": "code",
      "source": [
        "train_blstm(total_length, text_words_mean, X_train, y_train)"
      ],
      "metadata": {
        "id": "tFbOQNSp-mu6"
      },
      "execution_count": null,
      "outputs": []
    },
    {
      "cell_type": "code",
      "source": [
        "aug_X_train = augmented_dataset['text'].values.reshape(-1, 1)"
      ],
      "metadata": {
        "id": "FDYeTAp7CZp1"
      },
      "execution_count": null,
      "outputs": []
    },
    {
      "cell_type": "code",
      "source": [
        "aug_X_train.shape"
      ],
      "metadata": {
        "id": "D0B5csN3GDKd",
        "colab": {
          "base_uri": "https://localhost:8080/"
        },
        "outputId": "6e4df8d4-869b-4500-f5c9-c1683ff7a353"
      },
      "execution_count": null,
      "outputs": [
        {
          "output_type": "execute_result",
          "data": {
            "text/plain": [
              "(1527, 1)"
            ]
          },
          "metadata": {},
          "execution_count": 42
        }
      ]
    },
    {
      "cell_type": "code",
      "source": [
        "aug_y_train = augmented_dataset['label'].values.reshape(-1, 1)"
      ],
      "metadata": {
        "id": "c4fJafgyGGox"
      },
      "execution_count": null,
      "outputs": []
    },
    {
      "cell_type": "code",
      "source": [
        "aug_y_train.shape"
      ],
      "metadata": {
        "id": "LPE1lvG1GJbJ",
        "colab": {
          "base_uri": "https://localhost:8080/"
        },
        "outputId": "d1010859-8cd2-4187-f85c-39fb31a5e527"
      },
      "execution_count": null,
      "outputs": [
        {
          "output_type": "execute_result",
          "data": {
            "text/plain": [
              "(1527, 1)"
            ]
          },
          "metadata": {},
          "execution_count": 44
        }
      ]
    },
    {
      "cell_type": "code",
      "source": [
        "train_blstm(total_length, text_words_mean, aug_X_train, aug_y_train)"
      ],
      "metadata": {
        "id": "b2z30WEtazj5",
        "colab": {
          "base_uri": "https://localhost:8080/",
          "height": 1000
        },
        "outputId": "297b0f34-b234-4419-9f14-15653bea0456"
      },
      "execution_count": null,
      "outputs": [
        {
          "output_type": "stream",
          "name": "stdout",
          "text": [
            "Epoch 1/10\n",
            "303/305 [============================>.] - ETA: 0s - loss: 0.1028 - accuracy: 0.9577"
          ]
        },
        {
          "output_type": "stream",
          "name": "stderr",
          "text": [
            "WARNING:tensorflow:Your input ran out of data; interrupting training. Make sure that your dataset or generator can generate at least `steps_per_epoch * epochs` batches (in this case, 24 batches). You may need to use the repeat() function when building your dataset.\n"
          ]
        },
        {
          "output_type": "stream",
          "name": "stdout",
          "text": [
            "\b\b\b\b\b\b\b\b\b\b\b\b\b\b\b\b\b\b\b\b\b\b\b\b\b\b\b\b\b\b\b\b\b\b\b\b\b\b\b\b\b\b\b\b\b\b\b\b\b\b\b\b\b\b\b\b\b\b\b\b\b\b\b\b\b\b\b\b\b\b\b\b\b\b\b\b\b\b\b\b\b\b\b\b\r305/305 [==============================] - 30s 59ms/step - loss: 0.1022 - accuracy: 0.9580 - val_loss: 0.7590 - val_accuracy: 0.8710\n",
            "Epoch 2/10\n",
            "305/305 [==============================] - 5s 15ms/step - loss: 1.1916e-04 - accuracy: 1.0000\n",
            "Epoch 3/10\n",
            "305/305 [==============================] - 4s 13ms/step - loss: 4.3733e-05 - accuracy: 1.0000\n",
            "Epoch 4/10\n",
            "305/305 [==============================] - 3s 10ms/step - loss: 2.2972e-05 - accuracy: 1.0000\n",
            "Epoch 5/10\n",
            "305/305 [==============================] - 3s 10ms/step - loss: 1.3876e-05 - accuracy: 1.0000\n",
            "Epoch 6/10\n",
            "  1/305 [..............................] - ETA: 3s - loss: 1.8941e-05 - accuracy: 1.0000"
          ]
        },
        {
          "output_type": "stream",
          "name": "stderr",
          "text": [
            "WARNING:tensorflow:Your input ran out of data; interrupting training. Make sure that your dataset or generator can generate at least `steps_per_epoch * epochs` batches (in this case, 3050 batches). You may need to use the repeat() function when building your dataset.\n"
          ]
        },
        {
          "output_type": "stream",
          "name": "stdout",
          "text": [
            "305/305 [==============================] - 0s 322us/step - loss: 1.3634e-05 - accuracy: 1.0000\n",
            "4/4 [==============================] - 0s 6ms/step - loss: 1.0299 - accuracy: 0.8790\n",
            "4/4 [==============================] - 1s 6ms/step\n",
            "test accuracy = 0.8790322580645161\n",
            "Recall = 0.8133333333333334\n",
            "Precision = 0.9838709677419355\n",
            "F1 score = 0.8905109489051095\n",
            "F2 score = 0.8425414364640885\n",
            "MCC = 0.7752989329117831\n",
            "              precision    recall  f1-score   support\n",
            "\n",
            "           0       0.77      0.98      0.86        49\n",
            "           1       0.98      0.81      0.89        75\n",
            "\n",
            "    accuracy                           0.88       124\n",
            "   macro avg       0.88      0.90      0.88       124\n",
            "weighted avg       0.90      0.88      0.88       124\n",
            "\n"
          ]
        },
        {
          "output_type": "display_data",
          "data": {
            "text/plain": [
              "<Figure size 640x480 with 2 Axes>"
            ],
            "image/png": "[encoded data removed]"
          },
          "metadata": {}
        },
        {
          "output_type": "execute_result",
          "data": {
            "text/plain": [
              "(0.8905109489051095, 0.8425414364640885)"
            ]
          },
          "metadata": {},
          "execution_count": 45
        }
      ]
    }
  ],
  "metadata": {
    "colab": {
      "provenance": [],
      "machine_shape": "hm"
    },
    "kernelspec": {
      "display_name": "Python 3",
      "name": "python3"
    },
    "language_info": {
      "name": "python"
    },
    "gpuClass": "standard",
    "accelerator": "GPU"
  },
  "nbformat": 4,
  "nbformat_minor": 0
}