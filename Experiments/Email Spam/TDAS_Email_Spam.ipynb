{
  "cells": [
    {
      "cell_type": "code",
      "execution_count": null,
      "metadata": {
        "colab": {
          "base_uri": "https://localhost:8080/"
        },
        "id": "aVfPXdU-bMLn",
        "outputId": "32300bd9-2c13-4112-c614-c2ee17bb5746"
      },
      "outputs": [
        {
          "output_type": "stream",
          "name": "stderr",
          "text": [
            "[nltk_data] Downloading package stopwords to /root/nltk_data...\n",
            "[nltk_data]   Unzipping corpora/stopwords.zip.\n",
            "[nltk_data] Downloading package punkt to /root/nltk_data...\n",
            "[nltk_data]   Unzipping tokenizers/punkt.zip.\n",
            "[nltk_data] Downloading package averaged_perceptron_tagger to\n",
            "[nltk_data]     /root/nltk_data...\n",
            "[nltk_data]   Unzipping taggers/averaged_perceptron_tagger.zip.\n"
          ]
        },
        {
          "output_type": "stream",
          "name": "stdout",
          "text": [
            "Mounted at /content/gdrive\n"
          ]
        }
      ],
      "source": [
        "from datetime import datetime\n",
        "import numpy as np\n",
        "import pandas as pd\n",
        "from sklearn.preprocessing import LabelEncoder\n",
        "from sklearn.model_selection import train_test_split\n",
        "from sklearn.ensemble import RandomForestClassifier, ExtraTreesClassifier\n",
        "from sklearn.linear_model import SGDClassifier, LogisticRegression\n",
        "from sklearn.naive_bayes import GaussianNB\n",
        "from sklearn.neural_network import MLPClassifier\n",
        "from sklearn.svm import SVC\n",
        "from sklearn.neighbors import KNeighborsClassifier\n",
        "from sklearn.model_selection import GridSearchCV\n",
        "from sklearn.ensemble import StackingClassifier\n",
        "from sklearn.metrics import confusion_matrix\n",
        "from sklearn.metrics import ConfusionMatrixDisplay\n",
        "from sklearn.metrics import accuracy_score, recall_score, precision_score, f1_score, fbeta_score, classification_report, matthews_corrcoef\n",
        "from sklearn.metrics import make_scorer \n",
        "import matplotlib.pyplot as plt\n",
        "import gensim.downloader as api\n",
        "\n",
        "import nltk\n",
        "from nltk.tokenize import word_tokenize\n",
        "from nltk import pos_tag\n",
        "nltk.download('stopwords')\n",
        "nltk.download('punkt')\n",
        "nltk.download('averaged_perceptron_tagger')\n",
        "\n",
        "from google.colab import drive\n",
        "drive.mount('/content/gdrive')\n",
        "dir_name = \"/content/gdrive/MyDrive/Thesis/\""
      ]
    },
    {
      "cell_type": "code",
      "execution_count": null,
      "metadata": {
        "colab": {
          "base_uri": "https://localhost:8080/",
          "height": 424
        },
        "id": "vxr47BS1rsLu",
        "outputId": "d96c0e12-aa08-4c96-c0ed-a74c0a171420"
      },
      "outputs": [
        {
          "output_type": "execute_result",
          "data": {
            "text/plain": [
              "                                                  text  label\n",
              "0                           Rofl. Its true to its name      0\n",
              "1    The guy did some bitching but I acted like i'd...      0\n",
              "2    Pity, * was in mood for that. So...any other s...      0\n",
              "3                 Will ü b going to esplanade fr home?      0\n",
              "4    This is the 2nd time we have tried 2 contact u...      1\n",
              "..                                                 ...    ...\n",
              "952  hows my favourite person today? r u workin har...      0\n",
              "953                      How much you got for cleaning      0\n",
              "954  Sorry da. I gone mad so many pending works wha...      0\n",
              "955                                 Wat time ü finish?      0\n",
              "956                    Just glad to be talking to you.      0\n",
              "\n",
              "[957 rows x 2 columns]"
            ],
            "text/html": [
              "\n",
              "  <div id=\"df-ea623a36-3a5a-4d3a-aa19-4c788ff2ce97\">\n",
              "    <div class=\"colab-df-container\">\n",
              "      <div>\n",
              "<style scoped>\n",
              "    .dataframe tbody tr th:only-of-type {\n",
              "        vertical-align: middle;\n",
              "    }\n",
              "\n",
              "    .dataframe tbody tr th {\n",
              "        vertical-align: top;\n",
              "    }\n",
              "\n",
              "    .dataframe thead th {\n",
              "        text-align: right;\n",
              "    }\n",
              "</style>\n",
              "<table border=\"1\" class=\"dataframe\">\n",
              "  <thead>\n",
              "    <tr style=\"text-align: right;\">\n",
              "      <th></th>\n",
              "      <th>text</th>\n",
              "      <th>label</th>\n",
              "    </tr>\n",
              "  </thead>\n",
              "  <tbody>\n",
              "    <tr>\n",
              "      <th>0</th>\n",
              "      <td>Rofl. Its true to its name</td>\n",
              "      <td>0</td>\n",
              "    </tr>\n",
              "    <tr>\n",
              "      <th>1</th>\n",
              "      <td>The guy did some bitching but I acted like i'd...</td>\n",
              "      <td>0</td>\n",
              "    </tr>\n",
              "    <tr>\n",
              "      <th>2</th>\n",
              "      <td>Pity, * was in mood for that. So...any other s...</td>\n",
              "      <td>0</td>\n",
              "    </tr>\n",
              "    <tr>\n",
              "      <th>3</th>\n",
              "      <td>Will ü b going to esplanade fr home?</td>\n",
              "      <td>0</td>\n",
              "    </tr>\n",
              "    <tr>\n",
              "      <th>4</th>\n",
              "      <td>This is the 2nd time we have tried 2 contact u...</td>\n",
              "      <td>1</td>\n",
              "    </tr>\n",
              "    <tr>\n",
              "      <th>...</th>\n",
              "      <td>...</td>\n",
              "      <td>...</td>\n",
              "    </tr>\n",
              "    <tr>\n",
              "      <th>952</th>\n",
              "      <td>hows my favourite person today? r u workin har...</td>\n",
              "      <td>0</td>\n",
              "    </tr>\n",
              "    <tr>\n",
              "      <th>953</th>\n",
              "      <td>How much you got for cleaning</td>\n",
              "      <td>0</td>\n",
              "    </tr>\n",
              "    <tr>\n",
              "      <th>954</th>\n",
              "      <td>Sorry da. I gone mad so many pending works wha...</td>\n",
              "      <td>0</td>\n",
              "    </tr>\n",
              "    <tr>\n",
              "      <th>955</th>\n",
              "      <td>Wat time ü finish?</td>\n",
              "      <td>0</td>\n",
              "    </tr>\n",
              "    <tr>\n",
              "      <th>956</th>\n",
              "      <td>Just glad to be talking to you.</td>\n",
              "      <td>0</td>\n",
              "    </tr>\n",
              "  </tbody>\n",
              "</table>\n",
              "<p>957 rows × 2 columns</p>\n",
              "</div>\n",
              "      <button class=\"colab-df-convert\" onclick=\"convertToInteractive('df-ea623a36-3a5a-4d3a-aa19-4c788ff2ce97')\"\n",
              "              title=\"Convert this dataframe to an interactive table.\"\n",
              "              style=\"display:none;\">\n",
              "        \n",
              "  <svg xmlns=\"http://www.w3.org/2000/svg\" height=\"24px\"viewBox=\"0 0 24 24\"\n",
              "       width=\"24px\">\n",
              "    <path d=\"M0 0h24v24H0V0z\" fill=\"none\"/>\n",
              "    <path d=\"M18.56 5.44l.94 2.06.94-2.06 2.06-.94-2.06-.94-.94-2.06-.94 2.06-2.06.94zm-11 1L8.5 8.5l.94-2.06 2.06-.94-2.06-.94L8.5 2.5l-.94 2.06-2.06.94zm10 10l.94 2.06.94-2.06 2.06-.94-2.06-.94-.94-2.06-.94 2.06-2.06.94z\"/><path d=\"M17.41 7.96l-1.37-1.37c-.4-.4-.92-.59-1.43-.59-.52 0-1.04.2-1.43.59L10.3 9.45l-7.72 7.72c-.78.78-.78 2.05 0 2.83L4 21.41c.39.39.9.59 1.41.59.51 0 1.02-.2 1.41-.59l7.78-7.78 2.81-2.81c.8-.78.8-2.07 0-2.86zM5.41 20L4 18.59l7.72-7.72 1.47 1.35L5.41 20z\"/>\n",
              "  </svg>\n",
              "      </button>\n",
              "      \n",
              "  <style>\n",
              "    .colab-df-container {\n",
              "      display:flex;\n",
              "      flex-wrap:wrap;\n",
              "      gap: 12px;\n",
              "    }\n",
              "\n",
              "    .colab-df-convert {\n",
              "      background-color: #E8F0FE;\n",
              "      border: none;\n",
              "      border-radius: 50%;\n",
              "      cursor: pointer;\n",
              "      display: none;\n",
              "      fill: #1967D2;\n",
              "      height: 32px;\n",
              "      padding: 0 0 0 0;\n",
              "      width: 32px;\n",
              "    }\n",
              "\n",
              "    .colab-df-convert:hover {\n",
              "      background-color: #E2EBFA;\n",
              "      box-shadow: 0px 1px 2px rgba(60, 64, 67, 0.3), 0px 1px 3px 1px rgba(60, 64, 67, 0.15);\n",
              "      fill: #174EA6;\n",
              "    }\n",
              "\n",
              "    [theme=dark] .colab-df-convert {\n",
              "      background-color: #3B4455;\n",
              "      fill: #D2E3FC;\n",
              "    }\n",
              "\n",
              "    [theme=dark] .colab-df-convert:hover {\n",
              "      background-color: #434B5C;\n",
              "      box-shadow: 0px 1px 3px 1px rgba(0, 0, 0, 0.15);\n",
              "      filter: drop-shadow(0px 1px 2px rgba(0, 0, 0, 0.3));\n",
              "      fill: #FFFFFF;\n",
              "    }\n",
              "  </style>\n",
              "\n",
              "      <script>\n",
              "        const buttonEl =\n",
              "          document.querySelector('#df-ea623a36-3a5a-4d3a-aa19-4c788ff2ce97 button.colab-df-convert');\n",
              "        buttonEl.style.display =\n",
              "          google.colab.kernel.accessAllowed ? 'block' : 'none';\n",
              "\n",
              "        async function convertToInteractive(key) {\n",
              "          const element = document.querySelector('#df-ea623a36-3a5a-4d3a-aa19-4c788ff2ce97');\n",
              "          const dataTable =\n",
              "            await google.colab.kernel.invokeFunction('convertToInteractive',\n",
              "                                                     [key], {});\n",
              "          if (!dataTable) return;\n",
              "\n",
              "          const docLinkHtml = 'Like what you see? Visit the ' +\n",
              "            '<a target=\"_blank\" href=https://colab.research.google.com/notebooks/data_table.ipynb>data table notebook</a>'\n",
              "            + ' to learn more about interactive tables.';\n",
              "          element.innerHTML = '';\n",
              "          dataTable['output_type'] = 'display_data';\n",
              "          await google.colab.output.renderOutput(dataTable, element);\n",
              "          const docLink = document.createElement('div');\n",
              "          docLink.innerHTML = docLinkHtml;\n",
              "          element.appendChild(docLink);\n",
              "        }\n",
              "      </script>\n",
              "    </div>\n",
              "  </div>\n",
              "  "
            ]
          },
          "metadata": {},
          "execution_count": 2
        }
      ],
      "source": [
        "def get_raw_data(dir_name, file_name):\n",
        "    #  load data\n",
        "    data = pd.read_csv('{}{}.csv'.format(dir_name,file_name), encoding = 'latin-1', usecols=['Message_body', 'Label'])\n",
        "    data = data.rename(columns={'Label': 'label', 'Message_body': 'text'})\n",
        "    le = LabelEncoder()\n",
        "    data['label'] = le.fit_transform( data['label'])\n",
        "    return data\n",
        "\n",
        "raw_train_data = get_raw_data(dir_name + 'datasets/email_spam/', 'train')\n",
        "raw_train_data"
      ]
    },
    {
      "cell_type": "code",
      "execution_count": null,
      "metadata": {
        "colab": {
          "base_uri": "https://localhost:8080/"
        },
        "id": "ZAqtugl1bzir",
        "outputId": "aec1813e-33ec-4414-d271-ef88c2ecbbd9"
      },
      "outputs": [
        {
          "output_type": "execute_result",
          "data": {
            "text/plain": [
              "False"
            ]
          },
          "metadata": {},
          "execution_count": 3
        }
      ],
      "source": [
        "raw_train_data['text'].is_unique"
      ]
    },
    {
      "cell_type": "code",
      "execution_count": null,
      "metadata": {
        "colab": {
          "base_uri": "https://localhost:8080/"
        },
        "id": "5Xhz2Qrub2GA",
        "outputId": "d2aff557-35de-46cb-f928-60fd6292cddf"
      },
      "outputs": [
        {
          "output_type": "execute_result",
          "data": {
            "text/plain": [
              "True"
            ]
          },
          "metadata": {},
          "execution_count": 4
        }
      ],
      "source": [
        "raw_train_data.drop_duplicates(subset=['text'], inplace=True)\n",
        "raw_train_data['text'].is_unique"
      ]
    },
    {
      "cell_type": "code",
      "execution_count": null,
      "metadata": {
        "colab": {
          "base_uri": "https://localhost:8080/",
          "height": 424
        },
        "id": "BwKJ9D7qb6Fb",
        "outputId": "c1d8871d-4f01-4620-cd4f-143b51875cfd"
      },
      "outputs": [
        {
          "output_type": "execute_result",
          "data": {
            "text/plain": [
              "                                                  text  label\n",
              "0                           Rofl. Its true to its name      0\n",
              "1    The guy did some bitching but I acted like i'd...      0\n",
              "2    Pity, * was in mood for that. So...any other s...      0\n",
              "3                 Will ü b going to esplanade fr home?      0\n",
              "4    This is the 2nd time we have tried 2 contact u...      1\n",
              "..                                                 ...    ...\n",
              "952  hows my favourite person today? r u workin har...      0\n",
              "953                      How much you got for cleaning      0\n",
              "954  Sorry da. I gone mad so many pending works wha...      0\n",
              "955                                 Wat time ü finish?      0\n",
              "956                    Just glad to be talking to you.      0\n",
              "\n",
              "[945 rows x 2 columns]"
            ],
            "text/html": [
              "\n",
              "  <div id=\"df-872520fd-0015-423d-a5fe-2266c3c21a86\">\n",
              "    <div class=\"colab-df-container\">\n",
              "      <div>\n",
              "<style scoped>\n",
              "    .dataframe tbody tr th:only-of-type {\n",
              "        vertical-align: middle;\n",
              "    }\n",
              "\n",
              "    .dataframe tbody tr th {\n",
              "        vertical-align: top;\n",
              "    }\n",
              "\n",
              "    .dataframe thead th {\n",
              "        text-align: right;\n",
              "    }\n",
              "</style>\n",
              "<table border=\"1\" class=\"dataframe\">\n",
              "  <thead>\n",
              "    <tr style=\"text-align: right;\">\n",
              "      <th></th>\n",
              "      <th>text</th>\n",
              "      <th>label</th>\n",
              "    </tr>\n",
              "  </thead>\n",
              "  <tbody>\n",
              "    <tr>\n",
              "      <th>0</th>\n",
              "      <td>Rofl. Its true to its name</td>\n",
              "      <td>0</td>\n",
              "    </tr>\n",
              "    <tr>\n",
              "      <th>1</th>\n",
              "      <td>The guy did some bitching but I acted like i'd...</td>\n",
              "      <td>0</td>\n",
              "    </tr>\n",
              "    <tr>\n",
              "      <th>2</th>\n",
              "      <td>Pity, * was in mood for that. So...any other s...</td>\n",
              "      <td>0</td>\n",
              "    </tr>\n",
              "    <tr>\n",
              "      <th>3</th>\n",
              "      <td>Will ü b going to esplanade fr home?</td>\n",
              "      <td>0</td>\n",
              "    </tr>\n",
              "    <tr>\n",
              "      <th>4</th>\n",
              "      <td>This is the 2nd time we have tried 2 contact u...</td>\n",
              "      <td>1</td>\n",
              "    </tr>\n",
              "    <tr>\n",
              "      <th>...</th>\n",
              "      <td>...</td>\n",
              "      <td>...</td>\n",
              "    </tr>\n",
              "    <tr>\n",
              "      <th>952</th>\n",
              "      <td>hows my favourite person today? r u workin har...</td>\n",
              "      <td>0</td>\n",
              "    </tr>\n",
              "    <tr>\n",
              "      <th>953</th>\n",
              "      <td>How much you got for cleaning</td>\n",
              "      <td>0</td>\n",
              "    </tr>\n",
              "    <tr>\n",
              "      <th>954</th>\n",
              "      <td>Sorry da. I gone mad so many pending works wha...</td>\n",
              "      <td>0</td>\n",
              "    </tr>\n",
              "    <tr>\n",
              "      <th>955</th>\n",
              "      <td>Wat time ü finish?</td>\n",
              "      <td>0</td>\n",
              "    </tr>\n",
              "    <tr>\n",
              "      <th>956</th>\n",
              "      <td>Just glad to be talking to you.</td>\n",
              "      <td>0</td>\n",
              "    </tr>\n",
              "  </tbody>\n",
              "</table>\n",
              "<p>945 rows × 2 columns</p>\n",
              "</div>\n",
              "      <button class=\"colab-df-convert\" onclick=\"convertToInteractive('df-872520fd-0015-423d-a5fe-2266c3c21a86')\"\n",
              "              title=\"Convert this dataframe to an interactive table.\"\n",
              "              style=\"display:none;\">\n",
              "        \n",
              "  <svg xmlns=\"http://www.w3.org/2000/svg\" height=\"24px\"viewBox=\"0 0 24 24\"\n",
              "       width=\"24px\">\n",
              "    <path d=\"M0 0h24v24H0V0z\" fill=\"none\"/>\n",
              "    <path d=\"M18.56 5.44l.94 2.06.94-2.06 2.06-.94-2.06-.94-.94-2.06-.94 2.06-2.06.94zm-11 1L8.5 8.5l.94-2.06 2.06-.94-2.06-.94L8.5 2.5l-.94 2.06-2.06.94zm10 10l.94 2.06.94-2.06 2.06-.94-2.06-.94-.94-2.06-.94 2.06-2.06.94z\"/><path d=\"M17.41 7.96l-1.37-1.37c-.4-.4-.92-.59-1.43-.59-.52 0-1.04.2-1.43.59L10.3 9.45l-7.72 7.72c-.78.78-.78 2.05 0 2.83L4 21.41c.39.39.9.59 1.41.59.51 0 1.02-.2 1.41-.59l7.78-7.78 2.81-2.81c.8-.78.8-2.07 0-2.86zM5.41 20L4 18.59l7.72-7.72 1.47 1.35L5.41 20z\"/>\n",
              "  </svg>\n",
              "      </button>\n",
              "      \n",
              "  <style>\n",
              "    .colab-df-container {\n",
              "      display:flex;\n",
              "      flex-wrap:wrap;\n",
              "      gap: 12px;\n",
              "    }\n",
              "\n",
              "    .colab-df-convert {\n",
              "      background-color: #E8F0FE;\n",
              "      border: none;\n",
              "      border-radius: 50%;\n",
              "      cursor: pointer;\n",
              "      display: none;\n",
              "      fill: #1967D2;\n",
              "      height: 32px;\n",
              "      padding: 0 0 0 0;\n",
              "      width: 32px;\n",
              "    }\n",
              "\n",
              "    .colab-df-convert:hover {\n",
              "      background-color: #E2EBFA;\n",
              "      box-shadow: 0px 1px 2px rgba(60, 64, 67, 0.3), 0px 1px 3px 1px rgba(60, 64, 67, 0.15);\n",
              "      fill: #174EA6;\n",
              "    }\n",
              "\n",
              "    [theme=dark] .colab-df-convert {\n",
              "      background-color: #3B4455;\n",
              "      fill: #D2E3FC;\n",
              "    }\n",
              "\n",
              "    [theme=dark] .colab-df-convert:hover {\n",
              "      background-color: #434B5C;\n",
              "      box-shadow: 0px 1px 3px 1px rgba(0, 0, 0, 0.15);\n",
              "      filter: drop-shadow(0px 1px 2px rgba(0, 0, 0, 0.3));\n",
              "      fill: #FFFFFF;\n",
              "    }\n",
              "  </style>\n",
              "\n",
              "      <script>\n",
              "        const buttonEl =\n",
              "          document.querySelector('#df-872520fd-0015-423d-a5fe-2266c3c21a86 button.colab-df-convert');\n",
              "        buttonEl.style.display =\n",
              "          google.colab.kernel.accessAllowed ? 'block' : 'none';\n",
              "\n",
              "        async function convertToInteractive(key) {\n",
              "          const element = document.querySelector('#df-872520fd-0015-423d-a5fe-2266c3c21a86');\n",
              "          const dataTable =\n",
              "            await google.colab.kernel.invokeFunction('convertToInteractive',\n",
              "                                                     [key], {});\n",
              "          if (!dataTable) return;\n",
              "\n",
              "          const docLinkHtml = 'Like what you see? Visit the ' +\n",
              "            '<a target=\"_blank\" href=https://colab.research.google.com/notebooks/data_table.ipynb>data table notebook</a>'\n",
              "            + ' to learn more about interactive tables.';\n",
              "          element.innerHTML = '';\n",
              "          dataTable['output_type'] = 'display_data';\n",
              "          await google.colab.output.renderOutput(dataTable, element);\n",
              "          const docLink = document.createElement('div');\n",
              "          docLink.innerHTML = docLinkHtml;\n",
              "          element.appendChild(docLink);\n",
              "        }\n",
              "      </script>\n",
              "    </div>\n",
              "  </div>\n",
              "  "
            ]
          },
          "metadata": {},
          "execution_count": 5
        }
      ],
      "source": [
        "raw_train_data"
      ]
    },
    {
      "cell_type": "code",
      "execution_count": null,
      "metadata": {
        "colab": {
          "base_uri": "https://localhost:8080/",
          "height": 499
        },
        "id": "s2Uyx7xqy4BU",
        "outputId": "b077d58a-1d90-4669-911e-2171d662833c"
      },
      "outputs": [
        {
          "output_type": "display_data",
          "data": {
            "text/plain": [
              "<Figure size 600x600 with 1 Axes>"
            ],
            "image/png": "[encoded data removed]"
          },
          "metadata": {}
        }
      ],
      "source": [
        "def get_dataset_statistics(data):\n",
        "    dataset_statistics = {'Number of emails': [data['label'].value_counts()[0], data['label'].value_counts()[1]]}\n",
        "    df = pd.DataFrame(dataset_statistics, index=['Non-Spam', 'Spam'])\n",
        "    df.plot(kind='pie', y='Number of emails', figsize=(6, 6), fontsize=14,\n",
        "            autopct=lambda v: '{:.0f} ({:.1f}%)'.format(v / 100 * data['label'].count(), v))\n",
        "    \n",
        "# Raw data statistics\n",
        "get_dataset_statistics(raw_train_data)"
      ]
    },
    {
      "cell_type": "code",
      "execution_count": null,
      "metadata": {
        "colab": {
          "base_uri": "https://localhost:8080/",
          "height": 424
        },
        "id": "oyXq2yIytdHV",
        "outputId": "50def515-aae2-44bd-da26-2a0ee4e4a9f5"
      },
      "outputs": [
        {
          "output_type": "execute_result",
          "data": {
            "text/plain": [
              "                                                  text  label\n",
              "0    UpgrdCentre Orange customer, you may now claim...      1\n",
              "1    Loan for any purpose £500 - £75,000. Homeowner...      1\n",
              "2    Congrats! Nokia 3650 video camera phone is you...      1\n",
              "3    URGENT! Your Mobile number has been awarded wi...      1\n",
              "4    Someone has contacted our dating service and e...      1\n",
              "..                                                 ...    ...\n",
              "120  7 wonders in My WORLD 7th You 6th Ur style 5th...      0\n",
              "121  Try to do something dear. You read something f...      0\n",
              "122  Sun ah... Thk mayb can if dun have anythin on....      0\n",
              "123  SYMPTOMS when U are in love: \"1.U like listeni...      0\n",
              "124  Great. Have a safe trip. Dont panic surrender ...      0\n",
              "\n",
              "[125 rows x 2 columns]"
            ],
            "text/html": [
              "\n",
              "  <div id=\"df-4b8b6be6-4c7d-42ea-a23d-19764937e19c\">\n",
              "    <div class=\"colab-df-container\">\n",
              "      <div>\n",
              "<style scoped>\n",
              "    .dataframe tbody tr th:only-of-type {\n",
              "        vertical-align: middle;\n",
              "    }\n",
              "\n",
              "    .dataframe tbody tr th {\n",
              "        vertical-align: top;\n",
              "    }\n",
              "\n",
              "    .dataframe thead th {\n",
              "        text-align: right;\n",
              "    }\n",
              "</style>\n",
              "<table border=\"1\" class=\"dataframe\">\n",
              "  <thead>\n",
              "    <tr style=\"text-align: right;\">\n",
              "      <th></th>\n",
              "      <th>text</th>\n",
              "      <th>label</th>\n",
              "    </tr>\n",
              "  </thead>\n",
              "  <tbody>\n",
              "    <tr>\n",
              "      <th>0</th>\n",
              "      <td>UpgrdCentre Orange customer, you may now claim...</td>\n",
              "      <td>1</td>\n",
              "    </tr>\n",
              "    <tr>\n",
              "      <th>1</th>\n",
              "      <td>Loan for any purpose £500 - £75,000. Homeowner...</td>\n",
              "      <td>1</td>\n",
              "    </tr>\n",
              "    <tr>\n",
              "      <th>2</th>\n",
              "      <td>Congrats! Nokia 3650 video camera phone is you...</td>\n",
              "      <td>1</td>\n",
              "    </tr>\n",
              "    <tr>\n",
              "      <th>3</th>\n",
              "      <td>URGENT! Your Mobile number has been awarded wi...</td>\n",
              "      <td>1</td>\n",
              "    </tr>\n",
              "    <tr>\n",
              "      <th>4</th>\n",
              "      <td>Someone has contacted our dating service and e...</td>\n",
              "      <td>1</td>\n",
              "    </tr>\n",
              "    <tr>\n",
              "      <th>...</th>\n",
              "      <td>...</td>\n",
              "      <td>...</td>\n",
              "    </tr>\n",
              "    <tr>\n",
              "      <th>120</th>\n",
              "      <td>7 wonders in My WORLD 7th You 6th Ur style 5th...</td>\n",
              "      <td>0</td>\n",
              "    </tr>\n",
              "    <tr>\n",
              "      <th>121</th>\n",
              "      <td>Try to do something dear. You read something f...</td>\n",
              "      <td>0</td>\n",
              "    </tr>\n",
              "    <tr>\n",
              "      <th>122</th>\n",
              "      <td>Sun ah... Thk mayb can if dun have anythin on....</td>\n",
              "      <td>0</td>\n",
              "    </tr>\n",
              "    <tr>\n",
              "      <th>123</th>\n",
              "      <td>SYMPTOMS when U are in love: \"1.U like listeni...</td>\n",
              "      <td>0</td>\n",
              "    </tr>\n",
              "    <tr>\n",
              "      <th>124</th>\n",
              "      <td>Great. Have a safe trip. Dont panic surrender ...</td>\n",
              "      <td>0</td>\n",
              "    </tr>\n",
              "  </tbody>\n",
              "</table>\n",
              "<p>125 rows × 2 columns</p>\n",
              "</div>\n",
              "      <button class=\"colab-df-convert\" onclick=\"convertToInteractive('df-4b8b6be6-4c7d-42ea-a23d-19764937e19c')\"\n",
              "              title=\"Convert this dataframe to an interactive table.\"\n",
              "              style=\"display:none;\">\n",
              "        \n",
              "  <svg xmlns=\"http://www.w3.org/2000/svg\" height=\"24px\"viewBox=\"0 0 24 24\"\n",
              "       width=\"24px\">\n",
              "    <path d=\"M0 0h24v24H0V0z\" fill=\"none\"/>\n",
              "    <path d=\"M18.56 5.44l.94 2.06.94-2.06 2.06-.94-2.06-.94-.94-2.06-.94 2.06-2.06.94zm-11 1L8.5 8.5l.94-2.06 2.06-.94-2.06-.94L8.5 2.5l-.94 2.06-2.06.94zm10 10l.94 2.06.94-2.06 2.06-.94-2.06-.94-.94-2.06-.94 2.06-2.06.94z\"/><path d=\"M17.41 7.96l-1.37-1.37c-.4-.4-.92-.59-1.43-.59-.52 0-1.04.2-1.43.59L10.3 9.45l-7.72 7.72c-.78.78-.78 2.05 0 2.83L4 21.41c.39.39.9.59 1.41.59.51 0 1.02-.2 1.41-.59l7.78-7.78 2.81-2.81c.8-.78.8-2.07 0-2.86zM5.41 20L4 18.59l7.72-7.72 1.47 1.35L5.41 20z\"/>\n",
              "  </svg>\n",
              "      </button>\n",
              "      \n",
              "  <style>\n",
              "    .colab-df-container {\n",
              "      display:flex;\n",
              "      flex-wrap:wrap;\n",
              "      gap: 12px;\n",
              "    }\n",
              "\n",
              "    .colab-df-convert {\n",
              "      background-color: #E8F0FE;\n",
              "      border: none;\n",
              "      border-radius: 50%;\n",
              "      cursor: pointer;\n",
              "      display: none;\n",
              "      fill: #1967D2;\n",
              "      height: 32px;\n",
              "      padding: 0 0 0 0;\n",
              "      width: 32px;\n",
              "    }\n",
              "\n",
              "    .colab-df-convert:hover {\n",
              "      background-color: #E2EBFA;\n",
              "      box-shadow: 0px 1px 2px rgba(60, 64, 67, 0.3), 0px 1px 3px 1px rgba(60, 64, 67, 0.15);\n",
              "      fill: #174EA6;\n",
              "    }\n",
              "\n",
              "    [theme=dark] .colab-df-convert {\n",
              "      background-color: #3B4455;\n",
              "      fill: #D2E3FC;\n",
              "    }\n",
              "\n",
              "    [theme=dark] .colab-df-convert:hover {\n",
              "      background-color: #434B5C;\n",
              "      box-shadow: 0px 1px 3px 1px rgba(0, 0, 0, 0.15);\n",
              "      filter: drop-shadow(0px 1px 2px rgba(0, 0, 0, 0.3));\n",
              "      fill: #FFFFFF;\n",
              "    }\n",
              "  </style>\n",
              "\n",
              "      <script>\n",
              "        const buttonEl =\n",
              "          document.querySelector('#df-4b8b6be6-4c7d-42ea-a23d-19764937e19c button.colab-df-convert');\n",
              "        buttonEl.style.display =\n",
              "          google.colab.kernel.accessAllowed ? 'block' : 'none';\n",
              "\n",
              "        async function convertToInteractive(key) {\n",
              "          const element = document.querySelector('#df-4b8b6be6-4c7d-42ea-a23d-19764937e19c');\n",
              "          const dataTable =\n",
              "            await google.colab.kernel.invokeFunction('convertToInteractive',\n",
              "                                                     [key], {});\n",
              "          if (!dataTable) return;\n",
              "\n",
              "          const docLinkHtml = 'Like what you see? Visit the ' +\n",
              "            '<a target=\"_blank\" href=https://colab.research.google.com/notebooks/data_table.ipynb>data table notebook</a>'\n",
              "            + ' to learn more about interactive tables.';\n",
              "          element.innerHTML = '';\n",
              "          dataTable['output_type'] = 'display_data';\n",
              "          await google.colab.output.renderOutput(dataTable, element);\n",
              "          const docLink = document.createElement('div');\n",
              "          docLink.innerHTML = docLinkHtml;\n",
              "          element.appendChild(docLink);\n",
              "        }\n",
              "      </script>\n",
              "    </div>\n",
              "  </div>\n",
              "  "
            ]
          },
          "metadata": {},
          "execution_count": 7
        }
      ],
      "source": [
        "raw_test_data = get_raw_data(dir_name + 'datasets/email_spam/', 'test')\n",
        "raw_test_data"
      ]
    },
    {
      "cell_type": "code",
      "execution_count": null,
      "metadata": {
        "colab": {
          "base_uri": "https://localhost:8080/"
        },
        "id": "ypoapMEa3Dyb",
        "outputId": "c75341c0-1d1d-474c-bf5d-7584a05f5a3f"
      },
      "outputs": [
        {
          "output_type": "execute_result",
          "data": {
            "text/plain": [
              "1    76\n",
              "0    49\n",
              "Name: label, dtype: int64"
            ]
          },
          "metadata": {},
          "execution_count": 8
        }
      ],
      "source": [
        "raw_test_data['label'].value_counts()"
      ]
    },
    {
      "cell_type": "code",
      "execution_count": null,
      "metadata": {
        "colab": {
          "base_uri": "https://localhost:8080/",
          "height": 499
        },
        "id": "VQcnABAwtxge",
        "outputId": "a7ac1ced-2065-48de-8635-cbea15cdeb8d"
      },
      "outputs": [
        {
          "output_type": "display_data",
          "data": {
            "text/plain": [
              "<Figure size 600x600 with 1 Axes>"
            ],
            "image/png": "[encoded data removed]"
          },
          "metadata": {}
        }
      ],
      "source": [
        "get_dataset_statistics(raw_test_data)"
      ]
    },
    {
      "cell_type": "markdown",
      "metadata": {
        "id": "qhzAeC1dMd1e"
      },
      "source": [
        "# Text Preprocessing "
      ]
    },
    {
      "cell_type": "code",
      "execution_count": null,
      "metadata": {
        "id": "LEz_7waOnKUr"
      },
      "outputs": [],
      "source": [
        "import requests\n",
        "stopwords_list = requests.get(\"https://github.com/stopwords-iso/stopwords-en/blob/master/stopwords-en.txt\").content\n",
        "stopwords = set(stopwords_list.decode().splitlines())"
      ]
    },
    {
      "cell_type": "code",
      "execution_count": null,
      "metadata": {
        "id": "224Sj8WG5Ivx"
      },
      "outputs": [],
      "source": [
        "import string\n",
        "from nltk.corpus import stopwords\n",
        "from sklearn.feature_extraction.text import ENGLISH_STOP_WORDS\n",
        "sklearn_stopwords = ENGLISH_STOP_WORDS\n",
        "\n",
        "stop_words = set(stopwords.words('english'))\n",
        "stop_words.update(sklearn_stopwords)\n",
        "\n",
        "def message_preprocessing(raw_message):\n",
        "  message_words = raw_message.translate(str.maketrans('', '', string.punctuation))\n",
        "  msg_tokens = word_tokenize(message_words.lower())\n",
        "  filtered_message = [token for token in msg_tokens if not token in stop_words]\n",
        "  return \" \".join(filtered_message)"
      ]
    },
    {
      "cell_type": "code",
      "execution_count": null,
      "metadata": {
        "colab": {
          "base_uri": "https://localhost:8080/",
          "height": 424
        },
        "id": "hjAjuuYv_5ul",
        "outputId": "314246c1-f986-447e-b5fc-c41729d1acf8"
      },
      "outputs": [
        {
          "output_type": "execute_result",
          "data": {
            "text/plain": [
              "                                                  text  label\n",
              "0                                            rofl true      0\n",
              "1    guy bitching acted like id interested buying w...      0\n",
              "2                          pity mood soany suggestions      0\n",
              "3                          ü b going esplanade fr home      0\n",
              "4    2nd time tried 2 contact u u £750 pound prize ...      1\n",
              "..                                                 ...    ...\n",
              "952  hows favourite person today r u workin hard sl...      0\n",
              "953                                       got cleaning      0\n",
              "954                    sorry da gone mad pending works      0\n",
              "955                                  wat time ü finish      0\n",
              "956                                       glad talking      0\n",
              "\n",
              "[940 rows x 2 columns]"
            ],
            "text/html": [
              "\n",
              "  <div id=\"df-178868c1-a47a-468f-a888-97a4c9742161\">\n",
              "    <div class=\"colab-df-container\">\n",
              "      <div>\n",
              "<style scoped>\n",
              "    .dataframe tbody tr th:only-of-type {\n",
              "        vertical-align: middle;\n",
              "    }\n",
              "\n",
              "    .dataframe tbody tr th {\n",
              "        vertical-align: top;\n",
              "    }\n",
              "\n",
              "    .dataframe thead th {\n",
              "        text-align: right;\n",
              "    }\n",
              "</style>\n",
              "<table border=\"1\" class=\"dataframe\">\n",
              "  <thead>\n",
              "    <tr style=\"text-align: right;\">\n",
              "      <th></th>\n",
              "      <th>text</th>\n",
              "      <th>label</th>\n",
              "    </tr>\n",
              "  </thead>\n",
              "  <tbody>\n",
              "    <tr>\n",
              "      <th>0</th>\n",
              "      <td>rofl true</td>\n",
              "      <td>0</td>\n",
              "    </tr>\n",
              "    <tr>\n",
              "      <th>1</th>\n",
              "      <td>guy bitching acted like id interested buying w...</td>\n",
              "      <td>0</td>\n",
              "    </tr>\n",
              "    <tr>\n",
              "      <th>2</th>\n",
              "      <td>pity mood soany suggestions</td>\n",
              "      <td>0</td>\n",
              "    </tr>\n",
              "    <tr>\n",
              "      <th>3</th>\n",
              "      <td>ü b going esplanade fr home</td>\n",
              "      <td>0</td>\n",
              "    </tr>\n",
              "    <tr>\n",
              "      <th>4</th>\n",
              "      <td>2nd time tried 2 contact u u £750 pound prize ...</td>\n",
              "      <td>1</td>\n",
              "    </tr>\n",
              "    <tr>\n",
              "      <th>...</th>\n",
              "      <td>...</td>\n",
              "      <td>...</td>\n",
              "    </tr>\n",
              "    <tr>\n",
              "      <th>952</th>\n",
              "      <td>hows favourite person today r u workin hard sl...</td>\n",
              "      <td>0</td>\n",
              "    </tr>\n",
              "    <tr>\n",
              "      <th>953</th>\n",
              "      <td>got cleaning</td>\n",
              "      <td>0</td>\n",
              "    </tr>\n",
              "    <tr>\n",
              "      <th>954</th>\n",
              "      <td>sorry da gone mad pending works</td>\n",
              "      <td>0</td>\n",
              "    </tr>\n",
              "    <tr>\n",
              "      <th>955</th>\n",
              "      <td>wat time ü finish</td>\n",
              "      <td>0</td>\n",
              "    </tr>\n",
              "    <tr>\n",
              "      <th>956</th>\n",
              "      <td>glad talking</td>\n",
              "      <td>0</td>\n",
              "    </tr>\n",
              "  </tbody>\n",
              "</table>\n",
              "<p>940 rows × 2 columns</p>\n",
              "</div>\n",
              "      <button class=\"colab-df-convert\" onclick=\"convertToInteractive('df-178868c1-a47a-468f-a888-97a4c9742161')\"\n",
              "              title=\"Convert this dataframe to an interactive table.\"\n",
              "              style=\"display:none;\">\n",
              "        \n",
              "  <svg xmlns=\"http://www.w3.org/2000/svg\" height=\"24px\"viewBox=\"0 0 24 24\"\n",
              "       width=\"24px\">\n",
              "    <path d=\"M0 0h24v24H0V0z\" fill=\"none\"/>\n",
              "    <path d=\"M18.56 5.44l.94 2.06.94-2.06 2.06-.94-2.06-.94-.94-2.06-.94 2.06-2.06.94zm-11 1L8.5 8.5l.94-2.06 2.06-.94-2.06-.94L8.5 2.5l-.94 2.06-2.06.94zm10 10l.94 2.06.94-2.06 2.06-.94-2.06-.94-.94-2.06-.94 2.06-2.06.94z\"/><path d=\"M17.41 7.96l-1.37-1.37c-.4-.4-.92-.59-1.43-.59-.52 0-1.04.2-1.43.59L10.3 9.45l-7.72 7.72c-.78.78-.78 2.05 0 2.83L4 21.41c.39.39.9.59 1.41.59.51 0 1.02-.2 1.41-.59l7.78-7.78 2.81-2.81c.8-.78.8-2.07 0-2.86zM5.41 20L4 18.59l7.72-7.72 1.47 1.35L5.41 20z\"/>\n",
              "  </svg>\n",
              "      </button>\n",
              "      \n",
              "  <style>\n",
              "    .colab-df-container {\n",
              "      display:flex;\n",
              "      flex-wrap:wrap;\n",
              "      gap: 12px;\n",
              "    }\n",
              "\n",
              "    .colab-df-convert {\n",
              "      background-color: #E8F0FE;\n",
              "      border: none;\n",
              "      border-radius: 50%;\n",
              "      cursor: pointer;\n",
              "      display: none;\n",
              "      fill: #1967D2;\n",
              "      height: 32px;\n",
              "      padding: 0 0 0 0;\n",
              "      width: 32px;\n",
              "    }\n",
              "\n",
              "    .colab-df-convert:hover {\n",
              "      background-color: #E2EBFA;\n",
              "      box-shadow: 0px 1px 2px rgba(60, 64, 67, 0.3), 0px 1px 3px 1px rgba(60, 64, 67, 0.15);\n",
              "      fill: #174EA6;\n",
              "    }\n",
              "\n",
              "    [theme=dark] .colab-df-convert {\n",
              "      background-color: #3B4455;\n",
              "      fill: #D2E3FC;\n",
              "    }\n",
              "\n",
              "    [theme=dark] .colab-df-convert:hover {\n",
              "      background-color: #434B5C;\n",
              "      box-shadow: 0px 1px 3px 1px rgba(0, 0, 0, 0.15);\n",
              "      filter: drop-shadow(0px 1px 2px rgba(0, 0, 0, 0.3));\n",
              "      fill: #FFFFFF;\n",
              "    }\n",
              "  </style>\n",
              "\n",
              "      <script>\n",
              "        const buttonEl =\n",
              "          document.querySelector('#df-178868c1-a47a-468f-a888-97a4c9742161 button.colab-df-convert');\n",
              "        buttonEl.style.display =\n",
              "          google.colab.kernel.accessAllowed ? 'block' : 'none';\n",
              "\n",
              "        async function convertToInteractive(key) {\n",
              "          const element = document.querySelector('#df-178868c1-a47a-468f-a888-97a4c9742161');\n",
              "          const dataTable =\n",
              "            await google.colab.kernel.invokeFunction('convertToInteractive',\n",
              "                                                     [key], {});\n",
              "          if (!dataTable) return;\n",
              "\n",
              "          const docLinkHtml = 'Like what you see? Visit the ' +\n",
              "            '<a target=\"_blank\" href=https://colab.research.google.com/notebooks/data_table.ipynb>data table notebook</a>'\n",
              "            + ' to learn more about interactive tables.';\n",
              "          element.innerHTML = '';\n",
              "          dataTable['output_type'] = 'display_data';\n",
              "          await google.colab.output.renderOutput(dataTable, element);\n",
              "          const docLink = document.createElement('div');\n",
              "          docLink.innerHTML = docLinkHtml;\n",
              "          element.appendChild(docLink);\n",
              "        }\n",
              "      </script>\n",
              "    </div>\n",
              "  </div>\n",
              "  "
            ]
          },
          "metadata": {},
          "execution_count": 12
        }
      ],
      "source": [
        "train_data = raw_train_data[['text', 'label']].copy()\n",
        "\n",
        "train_data['text'] = raw_train_data['text'].apply(message_preprocessing)\n",
        "\n",
        "train_data.drop_duplicates(inplace=True)\n",
        "\n",
        "train_data"
      ]
    },
    {
      "cell_type": "code",
      "execution_count": null,
      "metadata": {
        "colab": {
          "base_uri": "https://localhost:8080/",
          "height": 499
        },
        "id": "SYDRKiLfSnt7",
        "outputId": "37dc5527-e974-45fc-c2fd-1b048d4defaf"
      },
      "outputs": [
        {
          "output_type": "display_data",
          "data": {
            "text/plain": [
              "<Figure size 600x600 with 1 Axes>"
            ],
            "image/png": "[encoded data removed]"
          },
          "metadata": {}
        }
      ],
      "source": [
        "get_dataset_statistics(train_data)"
      ]
    },
    {
      "cell_type": "code",
      "execution_count": null,
      "metadata": {
        "colab": {
          "base_uri": "https://localhost:8080/",
          "height": 424
        },
        "id": "oTXpvJGZuEpV",
        "outputId": "2086e2ed-34eb-4d8b-f39d-8d122b9a8b7c"
      },
      "outputs": [
        {
          "output_type": "execute_result",
          "data": {
            "text/plain": [
              "                                                  text  label\n",
              "0    upgrdcentre orange customer claim free camera ...      1\n",
              "1    loan purpose £500 £75000 homeowners tenants we...      1\n",
              "2    congrats nokia 3650 video camera phone 0906638...      1\n",
              "3    urgent mobile number awarded £2000 prize guara...      1\n",
              "4    contacted dating service entered phone fancy l...      1\n",
              "..                                                 ...    ...\n",
              "120  7 wonders world 7th 6th ur style 5th ur smile ...      0\n",
              "121                                try dear read exams      0\n",
              "122  sun ah thk mayb dun anythin thk book e lesson ...      0\n",
              "123  symptoms u love 1u like listening songs 2u sto...      0\n",
              "124               great safe trip dont panic surrender      0\n",
              "\n",
              "[124 rows x 2 columns]"
            ],
            "text/html": [
              "\n",
              "  <div id=\"df-915b6755-7593-4b17-a073-e681618a5f2b\">\n",
              "    <div class=\"colab-df-container\">\n",
              "      <div>\n",
              "<style scoped>\n",
              "    .dataframe tbody tr th:only-of-type {\n",
              "        vertical-align: middle;\n",
              "    }\n",
              "\n",
              "    .dataframe tbody tr th {\n",
              "        vertical-align: top;\n",
              "    }\n",
              "\n",
              "    .dataframe thead th {\n",
              "        text-align: right;\n",
              "    }\n",
              "</style>\n",
              "<table border=\"1\" class=\"dataframe\">\n",
              "  <thead>\n",
              "    <tr style=\"text-align: right;\">\n",
              "      <th></th>\n",
              "      <th>text</th>\n",
              "      <th>label</th>\n",
              "    </tr>\n",
              "  </thead>\n",
              "  <tbody>\n",
              "    <tr>\n",
              "      <th>0</th>\n",
              "      <td>upgrdcentre orange customer claim free camera ...</td>\n",
              "      <td>1</td>\n",
              "    </tr>\n",
              "    <tr>\n",
              "      <th>1</th>\n",
              "      <td>loan purpose £500 £75000 homeowners tenants we...</td>\n",
              "      <td>1</td>\n",
              "    </tr>\n",
              "    <tr>\n",
              "      <th>2</th>\n",
              "      <td>congrats nokia 3650 video camera phone 0906638...</td>\n",
              "      <td>1</td>\n",
              "    </tr>\n",
              "    <tr>\n",
              "      <th>3</th>\n",
              "      <td>urgent mobile number awarded £2000 prize guara...</td>\n",
              "      <td>1</td>\n",
              "    </tr>\n",
              "    <tr>\n",
              "      <th>4</th>\n",
              "      <td>contacted dating service entered phone fancy l...</td>\n",
              "      <td>1</td>\n",
              "    </tr>\n",
              "    <tr>\n",
              "      <th>...</th>\n",
              "      <td>...</td>\n",
              "      <td>...</td>\n",
              "    </tr>\n",
              "    <tr>\n",
              "      <th>120</th>\n",
              "      <td>7 wonders world 7th 6th ur style 5th ur smile ...</td>\n",
              "      <td>0</td>\n",
              "    </tr>\n",
              "    <tr>\n",
              "      <th>121</th>\n",
              "      <td>try dear read exams</td>\n",
              "      <td>0</td>\n",
              "    </tr>\n",
              "    <tr>\n",
              "      <th>122</th>\n",
              "      <td>sun ah thk mayb dun anythin thk book e lesson ...</td>\n",
              "      <td>0</td>\n",
              "    </tr>\n",
              "    <tr>\n",
              "      <th>123</th>\n",
              "      <td>symptoms u love 1u like listening songs 2u sto...</td>\n",
              "      <td>0</td>\n",
              "    </tr>\n",
              "    <tr>\n",
              "      <th>124</th>\n",
              "      <td>great safe trip dont panic surrender</td>\n",
              "      <td>0</td>\n",
              "    </tr>\n",
              "  </tbody>\n",
              "</table>\n",
              "<p>124 rows × 2 columns</p>\n",
              "</div>\n",
              "      <button class=\"colab-df-convert\" onclick=\"convertToInteractive('df-915b6755-7593-4b17-a073-e681618a5f2b')\"\n",
              "              title=\"Convert this dataframe to an interactive table.\"\n",
              "              style=\"display:none;\">\n",
              "        \n",
              "  <svg xmlns=\"http://www.w3.org/2000/svg\" height=\"24px\"viewBox=\"0 0 24 24\"\n",
              "       width=\"24px\">\n",
              "    <path d=\"M0 0h24v24H0V0z\" fill=\"none\"/>\n",
              "    <path d=\"M18.56 5.44l.94 2.06.94-2.06 2.06-.94-2.06-.94-.94-2.06-.94 2.06-2.06.94zm-11 1L8.5 8.5l.94-2.06 2.06-.94-2.06-.94L8.5 2.5l-.94 2.06-2.06.94zm10 10l.94 2.06.94-2.06 2.06-.94-2.06-.94-.94-2.06-.94 2.06-2.06.94z\"/><path d=\"M17.41 7.96l-1.37-1.37c-.4-.4-.92-.59-1.43-.59-.52 0-1.04.2-1.43.59L10.3 9.45l-7.72 7.72c-.78.78-.78 2.05 0 2.83L4 21.41c.39.39.9.59 1.41.59.51 0 1.02-.2 1.41-.59l7.78-7.78 2.81-2.81c.8-.78.8-2.07 0-2.86zM5.41 20L4 18.59l7.72-7.72 1.47 1.35L5.41 20z\"/>\n",
              "  </svg>\n",
              "      </button>\n",
              "      \n",
              "  <style>\n",
              "    .colab-df-container {\n",
              "      display:flex;\n",
              "      flex-wrap:wrap;\n",
              "      gap: 12px;\n",
              "    }\n",
              "\n",
              "    .colab-df-convert {\n",
              "      background-color: #E8F0FE;\n",
              "      border: none;\n",
              "      border-radius: 50%;\n",
              "      cursor: pointer;\n",
              "      display: none;\n",
              "      fill: #1967D2;\n",
              "      height: 32px;\n",
              "      padding: 0 0 0 0;\n",
              "      width: 32px;\n",
              "    }\n",
              "\n",
              "    .colab-df-convert:hover {\n",
              "      background-color: #E2EBFA;\n",
              "      box-shadow: 0px 1px 2px rgba(60, 64, 67, 0.3), 0px 1px 3px 1px rgba(60, 64, 67, 0.15);\n",
              "      fill: #174EA6;\n",
              "    }\n",
              "\n",
              "    [theme=dark] .colab-df-convert {\n",
              "      background-color: #3B4455;\n",
              "      fill: #D2E3FC;\n",
              "    }\n",
              "\n",
              "    [theme=dark] .colab-df-convert:hover {\n",
              "      background-color: #434B5C;\n",
              "      box-shadow: 0px 1px 3px 1px rgba(0, 0, 0, 0.15);\n",
              "      filter: drop-shadow(0px 1px 2px rgba(0, 0, 0, 0.3));\n",
              "      fill: #FFFFFF;\n",
              "    }\n",
              "  </style>\n",
              "\n",
              "      <script>\n",
              "        const buttonEl =\n",
              "          document.querySelector('#df-915b6755-7593-4b17-a073-e681618a5f2b button.colab-df-convert');\n",
              "        buttonEl.style.display =\n",
              "          google.colab.kernel.accessAllowed ? 'block' : 'none';\n",
              "\n",
              "        async function convertToInteractive(key) {\n",
              "          const element = document.querySelector('#df-915b6755-7593-4b17-a073-e681618a5f2b');\n",
              "          const dataTable =\n",
              "            await google.colab.kernel.invokeFunction('convertToInteractive',\n",
              "                                                     [key], {});\n",
              "          if (!dataTable) return;\n",
              "\n",
              "          const docLinkHtml = 'Like what you see? Visit the ' +\n",
              "            '<a target=\"_blank\" href=https://colab.research.google.com/notebooks/data_table.ipynb>data table notebook</a>'\n",
              "            + ' to learn more about interactive tables.';\n",
              "          element.innerHTML = '';\n",
              "          dataTable['output_type'] = 'display_data';\n",
              "          await google.colab.output.renderOutput(dataTable, element);\n",
              "          const docLink = document.createElement('div');\n",
              "          docLink.innerHTML = docLinkHtml;\n",
              "          element.appendChild(docLink);\n",
              "        }\n",
              "      </script>\n",
              "    </div>\n",
              "  </div>\n",
              "  "
            ]
          },
          "metadata": {},
          "execution_count": 14
        }
      ],
      "source": [
        "test_data = raw_test_data[['text', 'label']].copy()\n",
        "\n",
        "test_data['text'] = raw_test_data['text'].apply(message_preprocessing)\n",
        "\n",
        "test_data.drop_duplicates(inplace=True)\n",
        "\n",
        "test_data"
      ]
    },
    {
      "cell_type": "markdown",
      "metadata": {
        "id": "zHYTa5KbGtKG"
      },
      "source": [
        "# Text Representation"
      ]
    },
    {
      "cell_type": "code",
      "execution_count": null,
      "metadata": {
        "colab": {
          "base_uri": "https://localhost:8080/"
        },
        "id": "dme4_hzGcr_m",
        "outputId": "be6d4733-0515-467b-a3a6-7152c9579e1c"
      },
      "outputs": [
        {
          "output_type": "stream",
          "name": "stdout",
          "text": [
            "[==================================================] 100.0% 1662.8/1662.8MB downloaded\n"
          ]
        }
      ],
      "source": [
        "word2vec_model = api.load(\"word2vec-google-news-300\")"
      ]
    },
    {
      "cell_type": "code",
      "execution_count": null,
      "metadata": {
        "id": "m8c3qnuue6BF"
      },
      "outputs": [],
      "source": [
        "def get_text_vec(sent):\n",
        "  vector = np.mean(np.array([word2vec_model[token] for token in word_tokenize(sent) if token in word2vec_model.key_to_index]), axis=0)\n",
        "  if np.all(np.isnan(vector)) :\n",
        "    return np.zeros(300)\n",
        "  return vector"
      ]
    },
    {
      "cell_type": "code",
      "execution_count": null,
      "metadata": {
        "id": "hKK5MtdMfKqM"
      },
      "outputs": [],
      "source": [
        "X_test = np.stack(np.array([get_text_vec(sms_text) for sms_text in test_data['text'].values]))"
      ]
    },
    {
      "cell_type": "code",
      "execution_count": null,
      "metadata": {
        "colab": {
          "base_uri": "https://localhost:8080/"
        },
        "id": "HkjCbbcWfMgN",
        "outputId": "79d06188-92d4-462d-a4a8-570786458588"
      },
      "outputs": [
        {
          "output_type": "execute_result",
          "data": {
            "text/plain": [
              "(124, 300)"
            ]
          },
          "metadata": {},
          "execution_count": 20
        }
      ],
      "source": [
        "X_test.shape"
      ]
    },
    {
      "cell_type": "code",
      "execution_count": null,
      "metadata": {
        "id": "HscfxWqQwQ8V"
      },
      "outputs": [],
      "source": [
        "y_test = test_data['label'].values"
      ]
    },
    {
      "cell_type": "code",
      "execution_count": null,
      "metadata": {
        "colab": {
          "base_uri": "https://localhost:8080/"
        },
        "id": "tGwMwutWwbV5",
        "outputId": "0e56d1ec-dc70-4349-f67f-a917b84cfdbf"
      },
      "outputs": [
        {
          "output_type": "execute_result",
          "data": {
            "text/plain": [
              "(124,)"
            ]
          },
          "metadata": {},
          "execution_count": 24
        }
      ],
      "source": [
        "y_test.shape"
      ]
    },
    {
      "cell_type": "markdown",
      "metadata": {
        "id": "XeWGJ8LZ5M4G"
      },
      "source": [
        "# Model selection, training and evaluation"
      ]
    },
    {
      "cell_type": "code",
      "execution_count": null,
      "metadata": {
        "id": "UaMtvJpA_8gY"
      },
      "outputs": [],
      "source": [
        "def f_beta_score(y_true, y_pred):\n",
        "  return fbeta_score(y_true, y_pred, beta=2, average='binary')\n",
        "\n",
        "f2_score = make_scorer(f_beta_score, greater_is_better=True)"
      ]
    },
    {
      "cell_type": "code",
      "execution_count": null,
      "metadata": {
        "id": "xUL40hl7rGqT"
      },
      "outputs": [],
      "source": [
        "from datetime import datetime\n",
        "\n",
        "def save_cross_validation(results, file_name):\n",
        "  results_to_save = pd.DataFrame(columns=['Accuracy', 'Recall', 'Precision', 'F1 Score', 'F2 Score', 'MCC'])\n",
        "  for i in range(0, 10):\n",
        "    results_to_save.loc[i] = [\n",
        "      results['split{}_test_Accuracy'.format(i)][0],\n",
        "      results['split{}_test_Recall'.format(i)][0],\n",
        "      results['split{}_test_Precision'.format(i)][0],\n",
        "      results['split{}_test_F1'.format(i)][0],\n",
        "      results['split{}_test_F2'.format(i)][0],\n",
        "      results['split{}_test_MCC'.format(i)][0]\n",
        "    ]\n",
        "  results_to_save.to_csv('{}Results/{}_{}.csv'.format(dir_name+'experiments/Email Spam/', file_name, datetime.now().strftime(\"%m%d%H%M\")))"
      ]
    },
    {
      "cell_type": "code",
      "execution_count": null,
      "metadata": {
        "id": "3j6W7V5NJ6dT"
      },
      "outputs": [],
      "source": [
        "def train_model(classifier, param_grid, model_name, train_texts, train_labels, test_texts, test_labels, evaluation_metrics, to_print=True, to_save=False, file_name=None):\n",
        "    \"\"\"\n",
        "    train email classification model.\n",
        "    \"\"\"\n",
        "\n",
        "    # apply grid search to find best model hyper parameters\n",
        "    grid_search = GridSearchCV(classifier, param_grid, cv=10, scoring={'Accuracy': make_scorer(accuracy_score),\n",
        "                                                                       'F1': make_scorer(f1_score),\n",
        "                                                                       'F2': f2_score,\n",
        "                                                                       'Recall': make_scorer(recall_score),\n",
        "                                                                       'Precision': make_scorer(precision_score),\n",
        "                                                                       'MCC' : make_scorer(matthews_corrcoef)\n",
        "                                                                       }, refit='F1', n_jobs=-1)\n",
        "    grid_search.fit(train_texts, train_labels)\n",
        "    model = grid_search.best_estimator_\n",
        "\n",
        "    if to_save:\n",
        "      ConfusionMatrixDisplay(save_cross_validation(grid_search.cv_results_, file_name))\n",
        "      plt.show()\n",
        "\n",
        "    # train and test accuracy.\n",
        "    test_accuracy = model.score(test_texts, test_labels)\n",
        "    train_accuracy = model.score(train_texts, train_labels)\n",
        "\n",
        "    # compute F1 score for model evaluation.\n",
        "    y_pred = model.predict(test_texts)\n",
        "\n",
        "    recall = recall_score(test_labels, y_pred)\n",
        "    precision = precision_score(test_labels, y_pred)\n",
        "    f1score = f1_score(test_labels, y_pred)\n",
        "    f2score = fbeta_score(y_test, y_pred, beta=2, average='binary')\n",
        "    mcc = matthews_corrcoef(y_test, y_pred)\n",
        "\n",
        "    if to_print:\n",
        "        print(\"train accuracy = \" + str(train_accuracy))\n",
        "        print(\"test accuracy = \" + str(test_accuracy))\n",
        "        print(\"Recall = {}\".format(recall))\n",
        "        print(\"Precision = {}\".format(precision))\n",
        "        print(\"F1 score = {}\".format(f1score))\n",
        "        print(\"F2 score = {}\".format(f2score))\n",
        "        print(\"MCC = {}\".format(mcc))\n",
        "        print(classification_report(test_labels, y_pred))\n",
        "\n",
        "\n",
        "        # plot confusion matrix\n",
        "        cm = confusion_matrix(test_labels, y_pred)\n",
        "        disp = ConfusionMatrixDisplay(confusion_matrix=cm, display_labels=[0,1])\n",
        "\n",
        "        disp.plot(cmap=plt.cm.Blues)\n",
        "        plt.show()\n",
        "\n",
        "        # print best model hyper parameters.\n",
        "        print(grid_search.best_params_)\n",
        "\n",
        "    evaluation_metrics.loc[model_name, 'Recall'] = recall\n",
        "    evaluation_metrics.loc[model_name, 'Precision'] = precision\n",
        "    evaluation_metrics.loc[model_name, 'F1 score'] = f1score\n",
        "    evaluation_metrics.loc[model_name, 'F2 score'] = f2score\n",
        "    evaluation_metrics.loc[model_name, 'MCC'] = mcc\n",
        "\n",
        "    return f1score, f2score\n",
        "\n",
        "\n",
        "def train(model_id, train_texts, train_labels, test_texts, test_labels, evaluation_metrics, to_print=True, to_save=False, file_name=None):\n",
        "    \n",
        "    if model_id == 1:\n",
        "        # Random forest Classification model.\n",
        "        forest_clf = RandomForestClassifier(random_state=42, n_jobs=-1)\n",
        "        forest_param_grid = [{'n_estimators': [5,10,15,20,25], 'max_features': [10, 15, 20], 'min_samples_split': [15, 20, 25], 'criterion': ['gini','entropy'], 'max_depth': [5,6,7]}]\n",
        "        return train_model(forest_clf, forest_param_grid, 'RandomForest', train_texts, train_labels, test_texts, test_labels, evaluation_metrics, to_print, to_save, file_name)\n",
        "\n",
        "    if model_id == 2:\n",
        "        # Support Vector Machine Model.\n",
        "        svc_clf = SVC(random_state=42)\n",
        "        svc_param_grid = [{'kernel': ['rbf', 'poly'], 'degree': [2, 3 ,4, 5] }]\n",
        "\n",
        "        return train_model(svc_clf, svc_param_grid, 'SVM', train_texts, train_labels, test_texts, test_labels, evaluation_metrics, to_print, to_save, file_name)"
      ]
    },
    {
      "cell_type": "code",
      "execution_count": null,
      "metadata": {
        "id": "7cKeq1IQUYpH"
      },
      "outputs": [],
      "source": [
        "evaluation_metrics_aug = pd.DataFrame(columns = ['Recall', 'Precision', 'F1 score', 'F2 score', 'MCC'])"
      ]
    },
    {
      "cell_type": "markdown",
      "metadata": {
        "id": "u_PJgyxnRgyr"
      },
      "source": [
        "# Text Augmentation"
      ]
    },
    {
      "cell_type": "code",
      "execution_count": null,
      "metadata": {
        "id": "FyuRpjX_5k3z"
      },
      "outputs": [],
      "source": [
        "all_similar_words = {}"
      ]
    },
    {
      "cell_type": "code",
      "execution_count": null,
      "metadata": {
        "id": "gstnlHyJgORl"
      },
      "outputs": [],
      "source": [
        "def get_similar_words(word, similarity_threshold = 0.6):\n",
        "  if word not in all_similar_words:\n",
        "    similar_words = []\n",
        "    for w, sim in word2vec_model.most_similar(positive=[word]):\n",
        "      if sim >= similarity_threshold:\n",
        "        similar_words.append(w)\n",
        "    all_similar_words[word] = list(set(similar_words))\n",
        "  return all_similar_words[word]"
      ]
    },
    {
      "cell_type": "code",
      "execution_count": null,
      "metadata": {
        "id": "HC01zo1BgP4S"
      },
      "outputs": [],
      "source": [
        "from numpy.linalg import norm\n",
        " \n",
        "def cos_sim(v1, v2):\n",
        "  return np.dot(v1, v2)/(norm(v1)*norm(v2))"
      ]
    },
    {
      "cell_type": "code",
      "execution_count": null,
      "metadata": {
        "id": "luFgNmm2gTqN"
      },
      "outputs": [],
      "source": [
        "def get_sentence_augmentations(sentence, word_sim_threshold=.6, sent_sim_threshold=.65):\n",
        "  sent_vec = get_text_vec(sentence)\n",
        "  sentence_tokens = word_tokenize(sentence.lower())\n",
        "  pos_tags = dict(pos_tag(sentence_tokens))\n",
        "  new_sentences = []\n",
        "  for word in sentence_tokens:\n",
        "    if word in word2vec_model.key_to_index and pos_tags[word] in ['NN', 'NNS', 'JJ', 'JJR', 'JJS', 'RB', 'RBR', 'RBS', 'VB', 'VBG', 'VBD', 'VBN', 'VBP', 'VBZ']:\n",
        "      similar_words = get_similar_words(word, word_sim_threshold)\n",
        "      if len(similar_words) > 0:\n",
        "        for similar_word in similar_words:\n",
        "          new_sentence = sentence.replace(word, similar_word)\n",
        "          new_sent_vec = get_text_vec(new_sentence)\n",
        "          if cos_sim(sent_vec, new_sent_vec) >= sent_sim_threshold:\n",
        "            new_sentences.append(new_sentence.lower())\n",
        "\n",
        "  return new_sentences"
      ]
    },
    {
      "cell_type": "code",
      "execution_count": null,
      "metadata": {
        "id": "M0tIAhB-gaK2"
      },
      "outputs": [],
      "source": [
        "def my_augmentation(prepro_dataset, lable, word_sim_threshold=.6, sent_sim_threshold=.65):\n",
        "  texts = prepro_dataset.loc[prepro_dataset['label'] == lable]['text'].values\n",
        "  texts_num = len(texts)\n",
        "  new_texts = []\n",
        "  i = 0\n",
        "  \n",
        "  for text in texts:\n",
        "    if i % 20 == 0:\n",
        "      print(f\" {int(100*i/texts_num)} %\")\n",
        "    new_texts.extend(get_sentence_augmentations(text, word_sim_threshold, sent_sim_threshold))\n",
        "    i += 1\n",
        "  augmentations = prepro_dataset[['text', 'label']].copy().append(pd.DataFrame({'label':[lable] * len(new_texts), 'text':new_texts}), ignore_index = True)\n",
        "  augmentations.drop_duplicates(inplace=True)\n",
        "  return augmentations.sample(frac=1)"
      ]
    },
    {
      "cell_type": "code",
      "execution_count": null,
      "metadata": {
        "colab": {
          "base_uri": "https://localhost:8080/",
          "height": 1000
        },
        "id": "DaVuyUMeTeBO",
        "outputId": "732de4b5-db2f-44c2-b6e0-2e27c19db519"
      },
      "outputs": [
        {
          "name": "stdout",
          "output_type": "stream",
          "text": [
            " 0 %\n",
            " 16 %\n",
            " 33 %\n",
            " 50 %\n",
            " 67 %\n",
            " 84 %\n"
          ]
        },
        {
          "name": "stderr",
          "output_type": "stream",
          "text": [
            "<ipython-input-36-3324af94901a>:12: FutureWarning: The frame.append method is deprecated and will be removed from pandas in a future version. Use pandas.concat instead.\n",
            "  augmentations = prepro_dataset[['text', 'label']].copy().append(pd.DataFrame({'label':[lable] * len(new_texts), 'text':new_texts}), ignore_index = True)\n",
            "/usr/local/lib/python3.9/dist-packages/numpy/core/fromnumeric.py:3474: RuntimeWarning: Mean of empty slice.\n",
            "  return _methods._mean(a, axis=axis, dtype=dtype,\n",
            "/usr/local/lib/python3.9/dist-packages/numpy/core/_methods.py:189: RuntimeWarning: invalid value encountered in double_scalars\n",
            "  ret = ret.dtype.type(ret / rcount)\n"
          ]
        },
        {
          "name": "stdout",
          "output_type": "stream",
          "text": [
            "Spam percentage = 0.7682754727631951\n",
            "train accuracy = 0.9915325994919559\n",
            "test accuracy = 0.9354838709677419\n",
            "Recall = 0.9466666666666667\n",
            "Precision = 0.9466666666666667\n",
            "F1 score = 0.9466666666666667\n",
            "F2 score = 0.9466666666666667\n",
            "MCC = 0.8650340136054422\n",
            "              precision    recall  f1-score   support\n",
            "\n",
            "           0       0.92      0.92      0.92        49\n",
            "           1       0.95      0.95      0.95        75\n",
            "\n",
            "    accuracy                           0.94       124\n",
            "   macro avg       0.93      0.93      0.93       124\n",
            "weighted avg       0.94      0.94      0.94       124\n",
            "\n"
          ]
        },
        {
          "data": {
            "image/png": "[encoded data removed]",
            "text/plain": [
              "<Figure size 640x480 with 2 Axes>"
            ]
          },
          "metadata": {},
          "output_type": "display_data"
        },
        {
          "name": "stdout",
          "output_type": "stream",
          "text": [
            "{'criterion': 'entropy', 'max_depth': 7, 'max_features': 20, 'min_samples_split': 15, 'n_estimators': 25}\n",
            " 0 %\n",
            " 16 %\n",
            " 33 %\n",
            " 50 %\n",
            " 67 %\n",
            " 84 %\n"
          ]
        },
        {
          "name": "stderr",
          "output_type": "stream",
          "text": [
            "<ipython-input-36-3324af94901a>:12: FutureWarning: The frame.append method is deprecated and will be removed from pandas in a future version. Use pandas.concat instead.\n",
            "  augmentations = prepro_dataset[['text', 'label']].copy().append(pd.DataFrame({'label':[lable] * len(new_texts), 'text':new_texts}), ignore_index = True)\n",
            "/usr/local/lib/python3.9/dist-packages/numpy/core/fromnumeric.py:3474: RuntimeWarning: Mean of empty slice.\n",
            "  return _methods._mean(a, axis=axis, dtype=dtype,\n",
            "/usr/local/lib/python3.9/dist-packages/numpy/core/_methods.py:189: RuntimeWarning: invalid value encountered in double_scalars\n",
            "  ret = ret.dtype.type(ret / rcount)\n"
          ]
        },
        {
          "name": "stdout",
          "output_type": "stream",
          "text": [
            "Spam percentage = 0.7080369843527738\n",
            "train accuracy = 0.9914651493598862\n",
            "test accuracy = 0.8870967741935484\n",
            "Recall = 0.88\n",
            "Precision = 0.9295774647887324\n",
            "F1 score = 0.9041095890410958\n",
            "F2 score = 0.889487870619946\n",
            "MCC = 0.768808850882612\n",
            "              precision    recall  f1-score   support\n",
            "\n",
            "           0       0.83      0.90      0.86        49\n",
            "           1       0.93      0.88      0.90        75\n",
            "\n",
            "    accuracy                           0.89       124\n",
            "   macro avg       0.88      0.89      0.88       124\n",
            "weighted avg       0.89      0.89      0.89       124\n",
            "\n"
          ]
        },
        {
          "data": {
            "image/png": "[encoded data removed]",
            "text/plain": [
              "<Figure size 640x480 with 2 Axes>"
            ]
          },
          "metadata": {},
          "output_type": "display_data"
        },
        {
          "name": "stdout",
          "output_type": "stream",
          "text": [
            "{'criterion': 'entropy', 'max_depth': 7, 'max_features': 15, 'min_samples_split': 15, 'n_estimators': 25}\n",
            " 0 %\n",
            " 16 %\n",
            " 33 %\n",
            " 50 %\n",
            " 67 %\n",
            " 84 %\n"
          ]
        },
        {
          "name": "stderr",
          "output_type": "stream",
          "text": [
            "<ipython-input-36-3324af94901a>:12: FutureWarning: The frame.append method is deprecated and will be removed from pandas in a future version. Use pandas.concat instead.\n",
            "  augmentations = prepro_dataset[['text', 'label']].copy().append(pd.DataFrame({'label':[lable] * len(new_texts), 'text':new_texts}), ignore_index = True)\n",
            "/usr/local/lib/python3.9/dist-packages/numpy/core/fromnumeric.py:3474: RuntimeWarning: Mean of empty slice.\n",
            "  return _methods._mean(a, axis=axis, dtype=dtype,\n",
            "/usr/local/lib/python3.9/dist-packages/numpy/core/_methods.py:189: RuntimeWarning: invalid value encountered in double_scalars\n",
            "  ret = ret.dtype.type(ret / rcount)\n"
          ]
        },
        {
          "name": "stdout",
          "output_type": "stream",
          "text": [
            "Spam percentage = 0.6362428001772265\n",
            "train accuracy = 0.9911386796632699\n",
            "test accuracy = 0.8951612903225806\n",
            "Recall = 0.8933333333333333\n",
            "Precision = 0.9305555555555556\n",
            "F1 score = 0.9115646258503401\n",
            "F2 score = 0.9005376344086021\n",
            "MCC = 0.7839670512601153\n",
            "              precision    recall  f1-score   support\n",
            "\n",
            "           0       0.85      0.90      0.87        49\n",
            "           1       0.93      0.89      0.91        75\n",
            "\n",
            "    accuracy                           0.90       124\n",
            "   macro avg       0.89      0.90      0.89       124\n",
            "weighted avg       0.90      0.90      0.90       124\n",
            "\n"
          ]
        },
        {
          "data": {
            "image/png": "[encoded data removed]",
            "text/plain": [
              "<Figure size 640x480 with 2 Axes>"
            ]
          },
          "metadata": {},
          "output_type": "display_data"
        },
        {
          "name": "stdout",
          "output_type": "stream",
          "text": [
            "{'criterion': 'entropy', 'max_depth': 7, 'max_features': 15, 'min_samples_split': 15, 'n_estimators': 25}\n",
            " 0 %\n",
            " 16 %\n",
            " 33 %\n",
            " 50 %\n",
            " 67 %\n",
            " 84 %\n"
          ]
        },
        {
          "name": "stderr",
          "output_type": "stream",
          "text": [
            "<ipython-input-36-3324af94901a>:12: FutureWarning: The frame.append method is deprecated and will be removed from pandas in a future version. Use pandas.concat instead.\n",
            "  augmentations = prepro_dataset[['text', 'label']].copy().append(pd.DataFrame({'label':[lable] * len(new_texts), 'text':new_texts}), ignore_index = True)\n",
            "/usr/local/lib/python3.9/dist-packages/numpy/core/fromnumeric.py:3474: RuntimeWarning: Mean of empty slice.\n",
            "  return _methods._mean(a, axis=axis, dtype=dtype,\n",
            "/usr/local/lib/python3.9/dist-packages/numpy/core/_methods.py:189: RuntimeWarning: invalid value encountered in double_scalars\n",
            "  ret = ret.dtype.type(ret / rcount)\n"
          ]
        },
        {
          "name": "stdout",
          "output_type": "stream",
          "text": [
            "Spam percentage = 0.5476584022038568\n",
            "train accuracy = 0.9928374655647383\n",
            "test accuracy = 0.8870967741935484\n",
            "Recall = 0.84\n",
            "Precision = 0.9692307692307692\n",
            "F1 score = 0.9\n",
            "F2 score = 0.8630136986301369\n",
            "MCC = 0.7823346948086399\n",
            "              precision    recall  f1-score   support\n",
            "\n",
            "           0       0.80      0.96      0.87        49\n",
            "           1       0.97      0.84      0.90        75\n",
            "\n",
            "    accuracy                           0.89       124\n",
            "   macro avg       0.88      0.90      0.89       124\n",
            "weighted avg       0.90      0.89      0.89       124\n",
            "\n"
          ]
        },
        {
          "data": {
            "image/png": "[encoded data removed]",
            "text/plain": [
              "<Figure size 640x480 with 2 Axes>"
            ]
          },
          "metadata": {},
          "output_type": "display_data"
        },
        {
          "name": "stdout",
          "output_type": "stream",
          "text": [
            "{'criterion': 'gini', 'max_depth': 7, 'max_features': 15, 'min_samples_split': 20, 'n_estimators': 25}\n",
            " 0 %\n",
            " 16 %\n",
            " 33 %\n",
            " 50 %\n",
            " 67 %\n",
            " 84 %\n"
          ]
        },
        {
          "name": "stderr",
          "output_type": "stream",
          "text": [
            "<ipython-input-36-3324af94901a>:12: FutureWarning: The frame.append method is deprecated and will be removed from pandas in a future version. Use pandas.concat instead.\n",
            "  augmentations = prepro_dataset[['text', 'label']].copy().append(pd.DataFrame({'label':[lable] * len(new_texts), 'text':new_texts}), ignore_index = True)\n",
            "/usr/local/lib/python3.9/dist-packages/numpy/core/fromnumeric.py:3474: RuntimeWarning: Mean of empty slice.\n",
            "  return _methods._mean(a, axis=axis, dtype=dtype,\n",
            "/usr/local/lib/python3.9/dist-packages/numpy/core/_methods.py:189: RuntimeWarning: invalid value encountered in double_scalars\n",
            "  ret = ret.dtype.type(ret / rcount)\n"
          ]
        },
        {
          "name": "stdout",
          "output_type": "stream",
          "text": [
            "Spam percentage = 0.43767123287671234\n",
            "train accuracy = 0.9972602739726028\n",
            "test accuracy = 0.8709677419354839\n",
            "Recall = 0.8\n",
            "Precision = 0.9836065573770492\n",
            "F1 score = 0.8823529411764706\n",
            "F2 score = 0.8310249307479226\n",
            "MCC = 0.762361160281275\n",
            "              precision    recall  f1-score   support\n",
            "\n",
            "           0       0.76      0.98      0.86        49\n",
            "           1       0.98      0.80      0.88        75\n",
            "\n",
            "    accuracy                           0.87       124\n",
            "   macro avg       0.87      0.89      0.87       124\n",
            "weighted avg       0.90      0.87      0.87       124\n",
            "\n"
          ]
        },
        {
          "data": {
            "image/png": "[encoded data removed]",
            "text/plain": [
              "<Figure size 640x480 with 2 Axes>"
            ]
          },
          "metadata": {},
          "output_type": "display_data"
        },
        {
          "name": "stdout",
          "output_type": "stream",
          "text": [
            "{'criterion': 'entropy', 'max_depth': 7, 'max_features': 15, 'min_samples_split': 15, 'n_estimators': 25}\n",
            " 0 %\n",
            " 16 %\n",
            " 33 %\n",
            " 50 %\n",
            " 67 %\n",
            " 84 %\n"
          ]
        },
        {
          "name": "stderr",
          "output_type": "stream",
          "text": [
            "<ipython-input-36-3324af94901a>:12: FutureWarning: The frame.append method is deprecated and will be removed from pandas in a future version. Use pandas.concat instead.\n",
            "  augmentations = prepro_dataset[['text', 'label']].copy().append(pd.DataFrame({'label':[lable] * len(new_texts), 'text':new_texts}), ignore_index = True)\n",
            "/usr/local/lib/python3.9/dist-packages/numpy/core/fromnumeric.py:3474: RuntimeWarning: Mean of empty slice.\n",
            "  return _methods._mean(a, axis=axis, dtype=dtype,\n",
            "/usr/local/lib/python3.9/dist-packages/numpy/core/_methods.py:189: RuntimeWarning: invalid value encountered in double_scalars\n",
            "  ret = ret.dtype.type(ret / rcount)\n"
          ]
        },
        {
          "name": "stdout",
          "output_type": "stream",
          "text": [
            "Spam percentage = 0.35252365930599366\n",
            "train accuracy = 0.9968454258675079\n",
            "test accuracy = 0.7983870967741935\n",
            "Recall = 0.6666666666666666\n",
            "Precision = 1.0\n",
            "F1 score = 0.8\n",
            "F2 score = 0.7142857142857142\n",
            "MCC = 0.6644105970267493\n",
            "              precision    recall  f1-score   support\n",
            "\n",
            "           0       0.66      1.00      0.80        49\n",
            "           1       1.00      0.67      0.80        75\n",
            "\n",
            "    accuracy                           0.80       124\n",
            "   macro avg       0.83      0.83      0.80       124\n",
            "weighted avg       0.87      0.80      0.80       124\n",
            "\n"
          ]
        },
        {
          "data": {
            "image/png": "[encoded data removed]",
            "text/plain": [
              "<Figure size 640x480 with 2 Axes>"
            ]
          },
          "metadata": {},
          "output_type": "display_data"
        },
        {
          "name": "stdout",
          "output_type": "stream",
          "text": [
            "{'criterion': 'entropy', 'max_depth': 7, 'max_features': 15, 'min_samples_split': 25, 'n_estimators': 20}\n"
          ]
        }
      ],
      "source": [
        "word_sim_range = [.65, .675, .7, .725, .75, .775]\n",
        "\n",
        "RF_sim_percentage_f1score = {}\n",
        "RF_sim_percentage_f2score = {}\n",
        "\n",
        "for value in word_sim_range:\n",
        "  all_similar_words = {}\n",
        "  my_augmented_dataset =  my_augmentation(train_data, lable=1, word_sim_threshold=value, sent_sim_threshold=.8)\n",
        "  my_aug_X =  np.stack(np.array([get_text_vec(text) for text in my_augmented_dataset['text'].to_numpy()]))\n",
        "  my_aug_y = my_augmented_dataset['label'].to_numpy()\n",
        "  print('Spam percentage = {}'.format(np.count_nonzero(my_aug_y) / len(my_aug_y)))\n",
        "  RF_sim_percentage_f1score[value], RF_sim_percentage_f2score[value] = train(1, my_aug_X, my_aug_y, X_test, y_test, evaluation_metrics_aug)"
      ]
    },
    {
      "cell_type": "code",
      "execution_count": null,
      "metadata": {
        "colab": {
          "base_uri": "https://localhost:8080/"
        },
        "id": "CDw9cIFagdZr",
        "outputId": "02efd9d1-26c6-4663-8fc7-048245863384"
      },
      "outputs": [
        {
          "output_type": "stream",
          "name": "stdout",
          "text": [
            " 0 %\n",
            " 16 %\n",
            " 33 %\n",
            " 50 %\n",
            " 67 %\n",
            " 84 %\n"
          ]
        },
        {
          "output_type": "stream",
          "name": "stderr",
          "text": [
            "<ipython-input-21-3324af94901a>:12: FutureWarning: The frame.append method is deprecated and will be removed from pandas in a future version. Use pandas.concat instead.\n",
            "  augmentations = prepro_dataset[['text', 'label']].copy().append(pd.DataFrame({'label':[lable] * len(new_texts), 'text':new_texts}), ignore_index = True)\n"
          ]
        }
      ],
      "source": [
        "all_similar_words = {}\n",
        "augmented_dataset = my_augmentation(train_data, lable=1, word_sim_threshold=.65, sent_sim_threshold=.8)"
      ]
    },
    {
      "cell_type": "code",
      "execution_count": null,
      "metadata": {
        "colab": {
          "base_uri": "https://localhost:8080/",
          "height": 423
        },
        "id": "Y6h_fXcZgi4W",
        "outputId": "a21ecdeb-634b-40bc-f747-4ef28253d3a2"
      },
      "outputs": [
        {
          "output_type": "execute_result",
          "data": {
            "text/plain": [
              "                                                   text  label\n",
              "2049  records indicate u maybe entitled 5000 pounds ...      1\n",
              "99                                        thought slide      0\n",
              "1761  urgent mobile number awarded £2000 prize guara...      1\n",
              "2776  phony £350 accolade todays voda numbers ending...      1\n",
              "2595  i_wouldnt believe true incredible txts reply g...      1\n",
              "...                                                 ...    ...\n",
              "270                                 alex says hes ok ok      0\n",
              "924                                         im bus love      0\n",
              "1300  garden ready summer free selection summer cfl_...      1\n",
              "599                                im viveki got number      0\n",
              "1598  09095350301 send teenage_girls erotic ecstacy ...      1\n",
              "\n",
              "[3543 rows x 2 columns]"
            ],
            "text/html": [
              "\n",
              "  <div id=\"df-5829d0b4-19dd-4535-b413-ced779beaa9d\">\n",
              "    <div class=\"colab-df-container\">\n",
              "      <div>\n",
              "<style scoped>\n",
              "    .dataframe tbody tr th:only-of-type {\n",
              "        vertical-align: middle;\n",
              "    }\n",
              "\n",
              "    .dataframe tbody tr th {\n",
              "        vertical-align: top;\n",
              "    }\n",
              "\n",
              "    .dataframe thead th {\n",
              "        text-align: right;\n",
              "    }\n",
              "</style>\n",
              "<table border=\"1\" class=\"dataframe\">\n",
              "  <thead>\n",
              "    <tr style=\"text-align: right;\">\n",
              "      <th></th>\n",
              "      <th>text</th>\n",
              "      <th>label</th>\n",
              "    </tr>\n",
              "  </thead>\n",
              "  <tbody>\n",
              "    <tr>\n",
              "      <th>2049</th>\n",
              "      <td>records indicate u maybe entitled 5000 pounds ...</td>\n",
              "      <td>1</td>\n",
              "    </tr>\n",
              "    <tr>\n",
              "      <th>99</th>\n",
              "      <td>thought slide</td>\n",
              "      <td>0</td>\n",
              "    </tr>\n",
              "    <tr>\n",
              "      <th>1761</th>\n",
              "      <td>urgent mobile number awarded £2000 prize guara...</td>\n",
              "      <td>1</td>\n",
              "    </tr>\n",
              "    <tr>\n",
              "      <th>2776</th>\n",
              "      <td>phony £350 accolade todays voda numbers ending...</td>\n",
              "      <td>1</td>\n",
              "    </tr>\n",
              "    <tr>\n",
              "      <th>2595</th>\n",
              "      <td>i_wouldnt believe true incredible txts reply g...</td>\n",
              "      <td>1</td>\n",
              "    </tr>\n",
              "    <tr>\n",
              "      <th>...</th>\n",
              "      <td>...</td>\n",
              "      <td>...</td>\n",
              "    </tr>\n",
              "    <tr>\n",
              "      <th>270</th>\n",
              "      <td>alex says hes ok ok</td>\n",
              "      <td>0</td>\n",
              "    </tr>\n",
              "    <tr>\n",
              "      <th>924</th>\n",
              "      <td>im bus love</td>\n",
              "      <td>0</td>\n",
              "    </tr>\n",
              "    <tr>\n",
              "      <th>1300</th>\n",
              "      <td>garden ready summer free selection summer cfl_...</td>\n",
              "      <td>1</td>\n",
              "    </tr>\n",
              "    <tr>\n",
              "      <th>599</th>\n",
              "      <td>im viveki got number</td>\n",
              "      <td>0</td>\n",
              "    </tr>\n",
              "    <tr>\n",
              "      <th>1598</th>\n",
              "      <td>09095350301 send teenage_girls erotic ecstacy ...</td>\n",
              "      <td>1</td>\n",
              "    </tr>\n",
              "  </tbody>\n",
              "</table>\n",
              "<p>3543 rows × 2 columns</p>\n",
              "</div>\n",
              "      <button class=\"colab-df-convert\" onclick=\"convertToInteractive('df-5829d0b4-19dd-4535-b413-ced779beaa9d')\"\n",
              "              title=\"Convert this dataframe to an interactive table.\"\n",
              "              style=\"display:none;\">\n",
              "        \n",
              "  <svg xmlns=\"http://www.w3.org/2000/svg\" height=\"24px\"viewBox=\"0 0 24 24\"\n",
              "       width=\"24px\">\n",
              "    <path d=\"M0 0h24v24H0V0z\" fill=\"none\"/>\n",
              "    <path d=\"M18.56 5.44l.94 2.06.94-2.06 2.06-.94-2.06-.94-.94-2.06-.94 2.06-2.06.94zm-11 1L8.5 8.5l.94-2.06 2.06-.94-2.06-.94L8.5 2.5l-.94 2.06-2.06.94zm10 10l.94 2.06.94-2.06 2.06-.94-2.06-.94-.94-2.06-.94 2.06-2.06.94z\"/><path d=\"M17.41 7.96l-1.37-1.37c-.4-.4-.92-.59-1.43-.59-.52 0-1.04.2-1.43.59L10.3 9.45l-7.72 7.72c-.78.78-.78 2.05 0 2.83L4 21.41c.39.39.9.59 1.41.59.51 0 1.02-.2 1.41-.59l7.78-7.78 2.81-2.81c.8-.78.8-2.07 0-2.86zM5.41 20L4 18.59l7.72-7.72 1.47 1.35L5.41 20z\"/>\n",
              "  </svg>\n",
              "      </button>\n",
              "      \n",
              "  <style>\n",
              "    .colab-df-container {\n",
              "      display:flex;\n",
              "      flex-wrap:wrap;\n",
              "      gap: 12px;\n",
              "    }\n",
              "\n",
              "    .colab-df-convert {\n",
              "      background-color: #E8F0FE;\n",
              "      border: none;\n",
              "      border-radius: 50%;\n",
              "      cursor: pointer;\n",
              "      display: none;\n",
              "      fill: #1967D2;\n",
              "      height: 32px;\n",
              "      padding: 0 0 0 0;\n",
              "      width: 32px;\n",
              "    }\n",
              "\n",
              "    .colab-df-convert:hover {\n",
              "      background-color: #E2EBFA;\n",
              "      box-shadow: 0px 1px 2px rgba(60, 64, 67, 0.3), 0px 1px 3px 1px rgba(60, 64, 67, 0.15);\n",
              "      fill: #174EA6;\n",
              "    }\n",
              "\n",
              "    [theme=dark] .colab-df-convert {\n",
              "      background-color: #3B4455;\n",
              "      fill: #D2E3FC;\n",
              "    }\n",
              "\n",
              "    [theme=dark] .colab-df-convert:hover {\n",
              "      background-color: #434B5C;\n",
              "      box-shadow: 0px 1px 3px 1px rgba(0, 0, 0, 0.15);\n",
              "      filter: drop-shadow(0px 1px 2px rgba(0, 0, 0, 0.3));\n",
              "      fill: #FFFFFF;\n",
              "    }\n",
              "  </style>\n",
              "\n",
              "      <script>\n",
              "        const buttonEl =\n",
              "          document.querySelector('#df-5829d0b4-19dd-4535-b413-ced779beaa9d button.colab-df-convert');\n",
              "        buttonEl.style.display =\n",
              "          google.colab.kernel.accessAllowed ? 'block' : 'none';\n",
              "\n",
              "        async function convertToInteractive(key) {\n",
              "          const element = document.querySelector('#df-5829d0b4-19dd-4535-b413-ced779beaa9d');\n",
              "          const dataTable =\n",
              "            await google.colab.kernel.invokeFunction('convertToInteractive',\n",
              "                                                     [key], {});\n",
              "          if (!dataTable) return;\n",
              "\n",
              "          const docLinkHtml = 'Like what you see? Visit the ' +\n",
              "            '<a target=\"_blank\" href=https://colab.research.google.com/notebooks/data_table.ipynb>data table notebook</a>'\n",
              "            + ' to learn more about interactive tables.';\n",
              "          element.innerHTML = '';\n",
              "          dataTable['output_type'] = 'display_data';\n",
              "          await google.colab.output.renderOutput(dataTable, element);\n",
              "          const docLink = document.createElement('div');\n",
              "          docLink.innerHTML = docLinkHtml;\n",
              "          element.appendChild(docLink);\n",
              "        }\n",
              "      </script>\n",
              "    </div>\n",
              "  </div>\n",
              "  "
            ]
          },
          "metadata": {},
          "execution_count": 40
        }
      ],
      "source": [
        "augmented_dataset"
      ]
    },
    {
      "cell_type": "code",
      "execution_count": null,
      "metadata": {
        "colab": {
          "base_uri": "https://localhost:8080/",
          "height": 499
        },
        "id": "tswB4HG6gkGw",
        "outputId": "00c26d5d-02c5-4e42-c205-183a905da45f"
      },
      "outputs": [
        {
          "output_type": "display_data",
          "data": {
            "text/plain": [
              "<Figure size 600x600 with 1 Axes>"
            ],
            "image/png": "[encoded data removed]"
          },
          "metadata": {}
        }
      ],
      "source": [
        "get_dataset_statistics(augmented_dataset)"
      ]
    },
    {
      "cell_type": "code",
      "execution_count": null,
      "metadata": {
        "colab": {
          "base_uri": "https://localhost:8080/"
        },
        "id": "z6OjdLOWq6Z0",
        "outputId": "f59ae0ad-418f-402d-a12d-baa4198b2886"
      },
      "outputs": [
        {
          "output_type": "stream",
          "name": "stderr",
          "text": [
            "/usr/local/lib/python3.10/dist-packages/numpy/core/fromnumeric.py:3474: RuntimeWarning: Mean of empty slice.\n",
            "  return _methods._mean(a, axis=axis, dtype=dtype,\n",
            "/usr/local/lib/python3.10/dist-packages/numpy/core/_methods.py:189: RuntimeWarning: invalid value encountered in double_scalars\n",
            "  ret = ret.dtype.type(ret / rcount)\n"
          ]
        }
      ],
      "source": [
        "aug_X_train = np.stack(np.array([get_text_vec(text) for text in augmented_dataset['text'].to_numpy()]))"
      ]
    },
    {
      "cell_type": "code",
      "execution_count": null,
      "metadata": {
        "colab": {
          "base_uri": "https://localhost:8080/"
        },
        "id": "usZBu8u-rE9n",
        "outputId": "ba0d0e76-b92c-4b6f-e647-efabb202e0f2"
      },
      "outputs": [
        {
          "output_type": "execute_result",
          "data": {
            "text/plain": [
              "(3543, 300)"
            ]
          },
          "metadata": {},
          "execution_count": 43
        }
      ],
      "source": [
        "aug_X_train.shape"
      ]
    },
    {
      "cell_type": "code",
      "execution_count": null,
      "metadata": {
        "id": "PHcQ7GrirHP_"
      },
      "outputs": [],
      "source": [
        "aug_y_train = augmented_dataset['label'].values"
      ]
    },
    {
      "cell_type": "code",
      "execution_count": null,
      "metadata": {
        "colab": {
          "base_uri": "https://localhost:8080/"
        },
        "id": "vZmx6w2Prn41",
        "outputId": "d9fed33d-9912-4152-addd-821167a4686a"
      },
      "outputs": [
        {
          "output_type": "execute_result",
          "data": {
            "text/plain": [
              "(3543,)"
            ]
          },
          "metadata": {},
          "execution_count": 45
        }
      ],
      "source": [
        "aug_y_train.shape"
      ]
    },
    {
      "cell_type": "markdown",
      "metadata": {
        "id": "s3_2Wm7JoooJ"
      },
      "source": [
        "## Random forest"
      ]
    },
    {
      "cell_type": "code",
      "execution_count": null,
      "metadata": {
        "colab": {
          "base_uri": "https://localhost:8080/"
        },
        "id": "ZeLaZ2EpgNkO",
        "outputId": "98d6b781-6b97-4172-82a9-82cacda0dd6f"
      },
      "outputs": [
        {
          "name": "stdout",
          "output_type": "stream",
          "text": [
            "train accuracy = 0.9895568727067457\n",
            "test accuracy = 0.9112903225806451\n",
            "Recall = 0.9466666666666667\n",
            "Precision = 0.9102564102564102\n",
            "F1 score = 0.9281045751633987\n",
            "F2 score = 0.9391534391534391\n",
            "MCC = 0.8134963376325113\n",
            "              precision    recall  f1-score   support\n",
            "\n",
            "           0       0.91      0.86      0.88        49\n",
            "           1       0.91      0.95      0.93        75\n",
            "\n",
            "    accuracy                           0.91       124\n",
            "   macro avg       0.91      0.90      0.91       124\n",
            "weighted avg       0.91      0.91      0.91       124\n",
            "\n"
          ]
        },
        {
          "data": {
            "image/png": "[encoded data removed]",
            "text/plain": [
              "<Figure size 640x480 with 2 Axes>"
            ]
          },
          "metadata": {},
          "output_type": "display_data"
        },
        {
          "name": "stdout",
          "output_type": "stream",
          "text": [
            "{'criterion': 'entropy', 'max_depth': 7, 'max_features': 20, 'min_samples_split': 20, 'n_estimators': 25}\n"
          ]
        },
        {
          "data": {
            "text/plain": [
              "(0.9281045751633987, 0.9391534391534391)"
            ]
          },
          "execution_count": 65,
          "metadata": {},
          "output_type": "execute_result"
        }
      ],
      "source": [
        "train(1, aug_X_train, aug_y_train, X_test, y_test, evaluation_metrics_aug, to_save=True, file_name='TDAS_RF')"
      ]
    },
    {
      "cell_type": "markdown",
      "metadata": {
        "id": "3H3ENdyba7B2"
      },
      "source": [
        "# SVM"
      ]
    },
    {
      "cell_type": "code",
      "execution_count": null,
      "metadata": {
        "colab": {
          "base_uri": "https://localhost:8080/",
          "height": 624
        },
        "id": "8otRRYUia_gw",
        "outputId": "38695539-08e6-4a07-ee56-c39d3e0e7b79"
      },
      "outputs": [
        {
          "name": "stdout",
          "output_type": "stream",
          "text": [
            "train accuracy = 0.9985887665819927\n",
            "test accuracy = 0.9112903225806451\n",
            "Recall = 0.88\n",
            "Precision = 0.9705882352941176\n",
            "F1 score = 0.9230769230769231\n",
            "F2 score = 0.8967391304347825\n",
            "MCC = 0.824398566262439\n",
            "              precision    recall  f1-score   support\n",
            "\n",
            "           0       0.84      0.96      0.90        49\n",
            "           1       0.97      0.88      0.92        75\n",
            "\n",
            "    accuracy                           0.91       124\n",
            "   macro avg       0.90      0.92      0.91       124\n",
            "weighted avg       0.92      0.91      0.91       124\n",
            "\n"
          ]
        },
        {
          "data": {
            "image/png": "[encoded data removed]",
            "text/plain": [
              "<Figure size 640x480 with 2 Axes>"
            ]
          },
          "metadata": {},
          "output_type": "display_data"
        },
        {
          "name": "stdout",
          "output_type": "stream",
          "text": [
            "{'degree': 2, 'kernel': 'rbf'}\n"
          ]
        },
        {
          "data": {
            "text/plain": [
              "(0.9230769230769231, 0.8967391304347825)"
            ]
          },
          "execution_count": 53,
          "metadata": {},
          "output_type": "execute_result"
        }
      ],
      "source": [
        "train(2, aug_X_train, aug_y_train, X_test, y_test, evaluation_metrics_aug, to_save=True, file_name='TDAS_SVM')"
      ]
    },
    {
      "cell_type": "markdown",
      "metadata": {
        "id": "VDIYepVzkSIp"
      },
      "source": [
        "#BiLSTM"
      ]
    },
    {
      "cell_type": "code",
      "execution_count": null,
      "metadata": {
        "id": "_8rvD_Vb0WNg"
      },
      "outputs": [],
      "source": [
        "import random\n",
        "import tensorflow as tf \n",
        "from tensorflow import keras \n",
        "from tensorflow.keras import layers\n",
        "from sklearn.metrics import ConfusionMatrixDisplay\n",
        "from tensorflow.keras.regularizers import L1L2\n",
        "from sklearn.model_selection import StratifiedKFold\n",
        "seed = 221\n",
        "random.seed(seed)\n",
        "np.random.seed(seed)\n",
        "tf.random.set_seed(seed)"
      ]
    },
    {
      "cell_type": "code",
      "execution_count": null,
      "metadata": {
        "id": "Bxz8aaMf-NO_"
      },
      "outputs": [],
      "source": [
        "text_words_lengths = [len(raw_train_data.loc[i]['text'].split()) for i in raw_train_data.index ]\n",
        "total_length = np.sum(text_words_lengths)\n",
        "text_words_mean = int(np.mean(text_words_lengths))"
      ]
    },
    {
      "cell_type": "code",
      "execution_count": null,
      "metadata": {
        "id": "iy9xcyum0aJM"
      },
      "outputs": [],
      "source": [
        "def create_blstm_model(sent_length, words_mean, train_texts):\n",
        "\n",
        "  text_vec = layers.TextVectorization( \n",
        "    max_tokens=sent_length,\n",
        "    standardize='lower_and_strip_punctuation',\n",
        "    output_mode='int',\n",
        "    output_sequence_length=words_mean\n",
        "  )\n",
        "\n",
        "  text_vec.adapt(train_texts)\n",
        "\n",
        "  embedding_layer = layers.Embedding(\n",
        "    input_dim=sent_length,\n",
        "    output_dim=128,\n",
        "    embeddings_initializer='uniform',\n",
        "    input_length=words_mean\n",
        "  )\n",
        "\n",
        "  input_layer = layers.Input(shape=(1,), dtype=tf.string) \n",
        "\n",
        "  vec_layer = text_vec(input_layer)\n",
        "  embedding_layer_model = embedding_layer(vec_layer) \n",
        "\n",
        "  bi_lstm = layers.Bidirectional(layers.LSTM(64, activation='tanh', return_sequences=True, kernel_regularizer = L1L2(l1=0.01, l2=0.0)))(embedding_layer_model) \n",
        "\n",
        "  flatten = layers.Flatten()(bi_lstm) \n",
        "  dropout = layers.Dropout(.1)(flatten) \n",
        "\n",
        "  x = layers.Dense(32, activation='relu')(dropout) \n",
        "\n",
        "  output_layer = layers.Dense(1, activation='sigmoid')(x) \n",
        "\n",
        "  blstm_model = keras.Model(input_layer, output_layer) \n",
        "\n",
        "  blstm_model.compile(optimizer=keras.optimizers.Adam(),\n",
        "                loss=keras.losses.BinaryCrossentropy(),\n",
        "                metrics=['accuracy'])  \n",
        "  \n",
        "  return blstm_model"
      ]
    },
    {
      "cell_type": "markdown",
      "source": [
        "# Cross Validation"
      ],
      "metadata": {
        "id": "_iFniM6l4nvM"
      }
    },
    {
      "cell_type": "code",
      "source": [
        "def cv_blstm(sent_length, words_mean):\n",
        "\n",
        "  kf = StratifiedKFold(10, shuffle=True, random_state=42) \n",
        "  cv_metrics = pd.DataFrame(columns = ['Recall', 'Precision', 'F1 score', 'F2 score'])\n",
        "\n",
        "  fold = 0\n",
        "\n",
        "  X = augmented_dataset['text'].values\n",
        "  Y = augmented_dataset['label'].values\n",
        "\n",
        "  for train, val in kf.split(X, Y):  \n",
        "  \n",
        "    print(f\"Fold {fold}\")\n",
        "\n",
        "    train_texts = X[train]\n",
        "    train_labels = Y[train]\n",
        "    test_texts = X[val]\n",
        "    test_labels = Y[val]\n",
        "\n",
        "    blstm_model = create_blstm_model(sent_length, words_mean, train_texts)\n",
        "\n",
        "    history = blstm_model.fit(train_texts,\n",
        "                              train_labels,\n",
        "                              epochs=10,\n",
        "                              batch_size=16,\n",
        "                              validation_data=(test_texts, test_labels))\n",
        "\n",
        "    blstm_model.evaluate(test_texts, test_labels)\n",
        "    y_pred = np.round(blstm_model.predict(test_texts))\n",
        "\n",
        "    f1_sc = f1_score(test_labels, y_pred)\n",
        "    f2score = fbeta_score(test_labels, y_pred, beta=2, average='binary')\n",
        "\n",
        "    cv_metrics.loc[fold, 'Recall'] = recall_score(test_labels, y_pred)\n",
        "    cv_metrics.loc[fold, 'Precision'] = precision_score(test_labels, y_pred)\n",
        "    cv_metrics.loc[fold, 'F1 score'] = f1_sc\n",
        "    cv_metrics.loc[fold, 'F2 score'] = f2score\n",
        "    \n",
        "    fold += 1\n",
        "\n",
        "  return cv_metrics"
      ],
      "metadata": {
        "id": "YzIwXVeV4oCZ"
      },
      "execution_count": null,
      "outputs": []
    },
    {
      "cell_type": "code",
      "source": [
        "cv_results = cv_blstm(total_length, text_words_mean)"
      ],
      "metadata": {
        "colab": {
          "base_uri": "https://localhost:8080/"
        },
        "id": "7HHIwyOf4omf",
        "outputId": "aa9d96a1-ca3a-4474-eddc-48494b6f35c9"
      },
      "execution_count": null,
      "outputs": [
        {
          "output_type": "stream",
          "name": "stdout",
          "text": [
            "Fold 0\n",
            "Epoch 1/10\n",
            "200/200 [==============================] - 23s 63ms/step - loss: 9.0655 - accuracy: 0.9620 - val_loss: 0.2500 - val_accuracy: 0.9915\n",
            "Epoch 2/10\n",
            "200/200 [==============================] - 3s 17ms/step - loss: 0.1365 - accuracy: 0.9969 - val_loss: 0.1740 - val_accuracy: 0.9831\n",
            "Epoch 3/10\n",
            "200/200 [==============================] - 2s 12ms/step - loss: 0.1037 - accuracy: 0.9984 - val_loss: 0.0933 - val_accuracy: 0.9972\n",
            "Epoch 4/10\n",
            "200/200 [==============================] - 2s 8ms/step - loss: 0.1284 - accuracy: 0.9984 - val_loss: 0.1269 - val_accuracy: 0.9972\n",
            "Epoch 5/10\n",
            "200/200 [==============================] - 2s 9ms/step - loss: 0.0929 - accuracy: 1.0000 - val_loss: 0.0880 - val_accuracy: 0.9972\n",
            "Epoch 6/10\n",
            "200/200 [==============================] - 2s 10ms/step - loss: 0.0778 - accuracy: 1.0000 - val_loss: 0.0852 - val_accuracy: 0.9944\n",
            "Epoch 7/10\n",
            "200/200 [==============================] - 2s 9ms/step - loss: 0.1360 - accuracy: 0.9994 - val_loss: 0.2422 - val_accuracy: 0.9915\n",
            "Epoch 8/10\n",
            "200/200 [==============================] - 2s 9ms/step - loss: 0.1158 - accuracy: 0.9997 - val_loss: 0.0909 - val_accuracy: 0.9972\n",
            "Epoch 9/10\n",
            "200/200 [==============================] - 1s 6ms/step - loss: 0.0798 - accuracy: 1.0000 - val_loss: 0.0821 - val_accuracy: 0.9972\n",
            "Epoch 10/10\n",
            "200/200 [==============================] - 2s 8ms/step - loss: 0.0746 - accuracy: 1.0000 - val_loss: 0.0787 - val_accuracy: 0.9972\n",
            "12/12 [==============================] - 0s 4ms/step - loss: 0.0787 - accuracy: 0.9972\n",
            "12/12 [==============================] - 1s 4ms/step\n",
            "Fold 1\n",
            "Epoch 1/10\n",
            "200/200 [==============================] - 13s 46ms/step - loss: 9.0530 - accuracy: 0.9611 - val_loss: 0.1684 - val_accuracy: 0.9915\n",
            "Epoch 2/10\n",
            "200/200 [==============================] - 3s 13ms/step - loss: 0.1269 - accuracy: 0.9972 - val_loss: 0.1748 - val_accuracy: 0.9915\n",
            "Epoch 3/10\n",
            "200/200 [==============================] - 2s 10ms/step - loss: 0.1070 - accuracy: 0.9991 - val_loss: 0.1082 - val_accuracy: 0.9915\n",
            "Epoch 4/10\n",
            "200/200 [==============================] - 2s 11ms/step - loss: 0.0824 - accuracy: 1.0000 - val_loss: 0.1434 - val_accuracy: 0.9915\n",
            "Epoch 5/10\n",
            "200/200 [==============================] - 2s 10ms/step - loss: 0.1188 - accuracy: 0.9994 - val_loss: 0.1010 - val_accuracy: 0.9915\n",
            "Epoch 6/10\n",
            "200/200 [==============================] - 2s 8ms/step - loss: 0.0767 - accuracy: 1.0000 - val_loss: 0.1199 - val_accuracy: 0.9887\n",
            "Epoch 7/10\n",
            "200/200 [==============================] - 2s 10ms/step - loss: 0.3429 - accuracy: 0.9981 - val_loss: 0.3917 - val_accuracy: 0.9859\n",
            "Epoch 8/10\n",
            "200/200 [==============================] - 2s 10ms/step - loss: 0.1539 - accuracy: 1.0000 - val_loss: 0.1591 - val_accuracy: 0.9859\n",
            "Epoch 9/10\n",
            "200/200 [==============================] - 2s 8ms/step - loss: 0.0966 - accuracy: 1.0000 - val_loss: 0.1401 - val_accuracy: 0.9831\n",
            "Epoch 10/10\n",
            "200/200 [==============================] - 1s 6ms/step - loss: 0.0819 - accuracy: 1.0000 - val_loss: 0.1219 - val_accuracy: 0.9831\n",
            "12/12 [==============================] - 0s 3ms/step - loss: 0.1219 - accuracy: 0.9831\n",
            "12/12 [==============================] - 1s 3ms/step\n",
            "Fold 2\n",
            "Epoch 1/10\n",
            "200/200 [==============================] - 14s 50ms/step - loss: 9.0497 - accuracy: 0.9611 - val_loss: 0.1347 - val_accuracy: 0.9972\n",
            "Epoch 2/10\n",
            "200/200 [==============================] - 2s 12ms/step - loss: 0.1608 - accuracy: 0.9959 - val_loss: 0.1488 - val_accuracy: 0.9972\n",
            "Epoch 3/10\n",
            "200/200 [==============================] - 2s 9ms/step - loss: 0.0988 - accuracy: 0.9987 - val_loss: 0.0889 - val_accuracy: 0.9972\n",
            "Epoch 4/10\n",
            "200/200 [==============================] - 2s 10ms/step - loss: 0.1044 - accuracy: 0.9994 - val_loss: 0.1332 - val_accuracy: 0.9972\n",
            "Epoch 5/10\n",
            "200/200 [==============================] - 2s 9ms/step - loss: 0.0979 - accuracy: 0.9991 - val_loss: 0.1746 - val_accuracy: 0.9831\n",
            "Epoch 6/10\n",
            "200/200 [==============================] - 2s 9ms/step - loss: 0.0783 - accuracy: 1.0000 - val_loss: 0.0881 - val_accuracy: 0.9944\n",
            "Epoch 7/10\n",
            "200/200 [==============================] - 1s 7ms/step - loss: 0.0746 - accuracy: 1.0000 - val_loss: 0.0841 - val_accuracy: 0.9944\n",
            "Epoch 8/10\n",
            "200/200 [==============================] - 2s 8ms/step - loss: 0.1404 - accuracy: 0.9994 - val_loss: 0.1044 - val_accuracy: 0.9915\n",
            "Epoch 9/10\n",
            "200/200 [==============================] - 1s 6ms/step - loss: 0.0819 - accuracy: 1.0000 - val_loss: 0.0849 - val_accuracy: 0.9972\n",
            "Epoch 10/10\n",
            "200/200 [==============================] - 1s 7ms/step - loss: 0.0754 - accuracy: 1.0000 - val_loss: 0.0822 - val_accuracy: 0.9972\n",
            "12/12 [==============================] - 0s 4ms/step - loss: 0.0822 - accuracy: 0.9972\n",
            "12/12 [==============================] - 1s 3ms/step\n",
            "Fold 3\n",
            "Epoch 1/10\n",
            "200/200 [==============================] - 14s 50ms/step - loss: 9.0037 - accuracy: 0.9718 - val_loss: 0.1532 - val_accuracy: 0.9944\n",
            "Epoch 2/10\n",
            "200/200 [==============================] - 2s 12ms/step - loss: 0.1425 - accuracy: 0.9969 - val_loss: 0.0985 - val_accuracy: 0.9944\n",
            "Epoch 3/10\n",
            "200/200 [==============================] - 2s 11ms/step - loss: 0.1197 - accuracy: 0.9987 - val_loss: 0.0979 - val_accuracy: 1.0000\n",
            "Epoch 4/10\n",
            "200/200 [==============================] - 2s 11ms/step - loss: 0.0904 - accuracy: 0.9997 - val_loss: 0.2586 - val_accuracy: 0.9661\n",
            "Epoch 5/10\n",
            "200/200 [==============================] - 2s 8ms/step - loss: 0.1214 - accuracy: 0.9987 - val_loss: 0.0954 - val_accuracy: 0.9972\n",
            "Epoch 6/10\n",
            "200/200 [==============================] - 2s 10ms/step - loss: 0.0821 - accuracy: 1.0000 - val_loss: 0.0905 - val_accuracy: 0.9944\n",
            "Epoch 7/10\n",
            "200/200 [==============================] - 2s 9ms/step - loss: 0.0750 - accuracy: 1.0000 - val_loss: 0.0988 - val_accuracy: 0.9944\n",
            "Epoch 8/10\n",
            "200/200 [==============================] - 2s 8ms/step - loss: 0.1172 - accuracy: 0.9994 - val_loss: 0.4469 - val_accuracy: 0.9915\n",
            "Epoch 9/10\n",
            "200/200 [==============================] - 2s 8ms/step - loss: 0.1058 - accuracy: 0.9997 - val_loss: 0.0962 - val_accuracy: 0.9944\n",
            "Epoch 10/10\n",
            "200/200 [==============================] - 2s 8ms/step - loss: 0.0785 - accuracy: 1.0000 - val_loss: 0.0816 - val_accuracy: 0.9972\n",
            "12/12 [==============================] - 0s 4ms/step - loss: 0.0816 - accuracy: 0.9972\n",
            "12/12 [==============================] - 1s 3ms/step\n",
            "Fold 4\n",
            "Epoch 1/10\n",
            "200/200 [==============================] - 13s 47ms/step - loss: 8.9918 - accuracy: 0.9708 - val_loss: 0.1460 - val_accuracy: 0.9915\n",
            "Epoch 2/10\n",
            "200/200 [==============================] - 3s 13ms/step - loss: 0.1612 - accuracy: 0.9962 - val_loss: 0.1102 - val_accuracy: 0.9972\n",
            "Epoch 3/10\n",
            "200/200 [==============================] - 2s 11ms/step - loss: 0.0867 - accuracy: 1.0000 - val_loss: 0.1109 - val_accuracy: 0.9944\n",
            "Epoch 4/10\n",
            "200/200 [==============================] - 2s 8ms/step - loss: 0.1112 - accuracy: 0.9991 - val_loss: 0.1169 - val_accuracy: 0.9972\n",
            "Epoch 5/10\n",
            "200/200 [==============================] - 2s 10ms/step - loss: 0.0891 - accuracy: 0.9997 - val_loss: 0.0901 - val_accuracy: 0.9972\n",
            "Epoch 6/10\n",
            "200/200 [==============================] - 2s 8ms/step - loss: 0.0792 - accuracy: 1.0000 - val_loss: 0.0846 - val_accuracy: 0.9972\n",
            "Epoch 7/10\n",
            "200/200 [==============================] - 2s 9ms/step - loss: 0.1066 - accuracy: 0.9991 - val_loss: 0.2456 - val_accuracy: 0.9972\n",
            "Epoch 8/10\n",
            "200/200 [==============================] - 3s 15ms/step - loss: 0.1023 - accuracy: 1.0000 - val_loss: 0.0924 - val_accuracy: 0.9972\n",
            "Epoch 9/10\n",
            "200/200 [==============================] - 2s 11ms/step - loss: 0.0781 - accuracy: 1.0000 - val_loss: 0.0868 - val_accuracy: 0.9972\n",
            "Epoch 10/10\n",
            "200/200 [==============================] - 2s 8ms/step - loss: 0.0742 - accuracy: 1.0000 - val_loss: 0.0934 - val_accuracy: 0.9972\n",
            "12/12 [==============================] - 0s 4ms/step - loss: 0.0934 - accuracy: 0.9972\n",
            "12/12 [==============================] - 1s 3ms/step\n",
            "Fold 5\n",
            "Epoch 1/10\n",
            "200/200 [==============================] - 13s 49ms/step - loss: 9.0534 - accuracy: 0.9611 - val_loss: 0.1470 - val_accuracy: 0.9915\n",
            "Epoch 2/10\n",
            "200/200 [==============================] - 3s 15ms/step - loss: 0.1312 - accuracy: 0.9978 - val_loss: 0.1210 - val_accuracy: 0.9915\n",
            "Epoch 3/10\n",
            "200/200 [==============================] - 2s 12ms/step - loss: 0.0837 - accuracy: 1.0000 - val_loss: 0.1092 - val_accuracy: 0.9944\n",
            "Epoch 4/10\n",
            "200/200 [==============================] - 2s 10ms/step - loss: 0.1436 - accuracy: 0.9991 - val_loss: 0.1430 - val_accuracy: 0.9887\n",
            "Epoch 5/10\n",
            "200/200 [==============================] - 2s 9ms/step - loss: 0.0836 - accuracy: 1.0000 - val_loss: 0.1020 - val_accuracy: 0.9944\n",
            "Epoch 6/10\n",
            "200/200 [==============================] - 2s 8ms/step - loss: 0.0759 - accuracy: 1.0000 - val_loss: 0.1021 - val_accuracy: 0.9972\n",
            "Epoch 7/10\n",
            "200/200 [==============================] - 2s 9ms/step - loss: 0.1800 - accuracy: 0.9994 - val_loss: 0.1776 - val_accuracy: 0.9915\n",
            "Epoch 8/10\n",
            "200/200 [==============================] - 2s 9ms/step - loss: 0.0943 - accuracy: 1.0000 - val_loss: 0.1025 - val_accuracy: 0.9972\n",
            "Epoch 9/10\n",
            "200/200 [==============================] - 2s 8ms/step - loss: 0.0765 - accuracy: 1.0000 - val_loss: 0.0966 - val_accuracy: 0.9944\n",
            "Epoch 10/10\n",
            "200/200 [==============================] - 2s 8ms/step - loss: 0.1686 - accuracy: 0.9991 - val_loss: 0.1314 - val_accuracy: 0.9972\n",
            "12/12 [==============================] - 0s 4ms/step - loss: 0.1314 - accuracy: 0.9972\n",
            "12/12 [==============================] - 1s 3ms/step\n",
            "Fold 6\n",
            "Epoch 1/10\n",
            "200/200 [==============================] - 14s 50ms/step - loss: 8.9971 - accuracy: 0.9658 - val_loss: 0.5273 - val_accuracy: 0.8333\n",
            "Epoch 2/10\n",
            "200/200 [==============================] - 2s 12ms/step - loss: 0.1594 - accuracy: 0.9953 - val_loss: 0.1040 - val_accuracy: 1.0000\n",
            "Epoch 3/10\n",
            "200/200 [==============================] - 2s 10ms/step - loss: 0.1306 - accuracy: 0.9984 - val_loss: 0.6479 - val_accuracy: 0.9746\n",
            "Epoch 4/10\n",
            "200/200 [==============================] - 2s 10ms/step - loss: 0.1361 - accuracy: 0.9984 - val_loss: 0.0966 - val_accuracy: 1.0000\n",
            "Epoch 5/10\n",
            "200/200 [==============================] - 2s 9ms/step - loss: 0.0797 - accuracy: 1.0000 - val_loss: 0.0786 - val_accuracy: 1.0000\n",
            "Epoch 6/10\n",
            "200/200 [==============================] - 2s 10ms/step - loss: 0.0808 - accuracy: 1.0000 - val_loss: 0.0769 - val_accuracy: 0.9972\n",
            "Epoch 7/10\n",
            "200/200 [==============================] - 2s 8ms/step - loss: 0.0739 - accuracy: 1.0000 - val_loss: 0.0766 - val_accuracy: 0.9972\n",
            "Epoch 8/10\n",
            "200/200 [==============================] - 1s 7ms/step - loss: 0.1831 - accuracy: 0.9991 - val_loss: 0.1470 - val_accuracy: 1.0000\n",
            "Epoch 9/10\n",
            "200/200 [==============================] - 1s 7ms/step - loss: 0.0991 - accuracy: 1.0000 - val_loss: 0.0838 - val_accuracy: 1.0000\n",
            "Epoch 10/10\n",
            "200/200 [==============================] - 2s 10ms/step - loss: 0.0783 - accuracy: 1.0000 - val_loss: 0.0791 - val_accuracy: 0.9972\n",
            "12/12 [==============================] - 0s 4ms/step - loss: 0.0791 - accuracy: 0.9972\n",
            "12/12 [==============================] - 1s 3ms/step\n",
            "Fold 7\n",
            "Epoch 1/10\n",
            "200/200 [==============================] - 14s 48ms/step - loss: 9.0355 - accuracy: 0.9708 - val_loss: 0.2197 - val_accuracy: 1.0000\n",
            "Epoch 2/10\n",
            "200/200 [==============================] - 3s 13ms/step - loss: 0.1393 - accuracy: 0.9969 - val_loss: 0.1482 - val_accuracy: 0.9831\n",
            "Epoch 3/10\n",
            "200/200 [==============================] - 2s 10ms/step - loss: 0.1047 - accuracy: 0.9984 - val_loss: 0.2142 - val_accuracy: 1.0000\n",
            "Epoch 4/10\n",
            "200/200 [==============================] - 2s 8ms/step - loss: 0.1540 - accuracy: 0.9984 - val_loss: 0.0992 - val_accuracy: 1.0000\n",
            "Epoch 5/10\n",
            "200/200 [==============================] - 2s 8ms/step - loss: 0.0890 - accuracy: 0.9997 - val_loss: 0.0784 - val_accuracy: 1.0000\n",
            "Epoch 6/10\n",
            "200/200 [==============================] - 2s 8ms/step - loss: 0.1037 - accuracy: 0.9991 - val_loss: 0.1734 - val_accuracy: 0.9859\n",
            "Epoch 7/10\n",
            "200/200 [==============================] - 2s 9ms/step - loss: 0.0892 - accuracy: 0.9997 - val_loss: 0.0788 - val_accuracy: 1.0000\n",
            "Epoch 8/10\n",
            "200/200 [==============================] - 2s 8ms/step - loss: 0.0754 - accuracy: 1.0000 - val_loss: 0.0767 - val_accuracy: 1.0000\n",
            "Epoch 9/10\n",
            "200/200 [==============================] - 2s 9ms/step - loss: 0.1044 - accuracy: 0.9994 - val_loss: 0.1259 - val_accuracy: 1.0000\n",
            "Epoch 10/10\n",
            "200/200 [==============================] - 1s 7ms/step - loss: 0.0855 - accuracy: 1.0000 - val_loss: 0.0936 - val_accuracy: 0.9915\n",
            "12/12 [==============================] - 0s 4ms/step - loss: 0.0936 - accuracy: 0.9915\n",
            "12/12 [==============================] - 1s 3ms/step\n",
            "Fold 8\n",
            "Epoch 1/10\n",
            "200/200 [==============================] - 13s 48ms/step - loss: 9.0460 - accuracy: 0.9712 - val_loss: 0.1436 - val_accuracy: 1.0000\n",
            "Epoch 2/10\n",
            "200/200 [==============================] - 3s 14ms/step - loss: 0.1274 - accuracy: 0.9987 - val_loss: 0.1321 - val_accuracy: 1.0000\n",
            "Epoch 3/10\n",
            "200/200 [==============================] - 2s 9ms/step - loss: 0.1374 - accuracy: 0.9966 - val_loss: 0.0916 - val_accuracy: 1.0000\n",
            "Epoch 4/10\n",
            "200/200 [==============================] - 2s 8ms/step - loss: 0.0820 - accuracy: 1.0000 - val_loss: 0.0823 - val_accuracy: 1.0000\n",
            "Epoch 5/10\n",
            "200/200 [==============================] - 2s 9ms/step - loss: 0.1370 - accuracy: 0.9997 - val_loss: 0.1207 - val_accuracy: 0.9972\n",
            "Epoch 6/10\n",
            "200/200 [==============================] - 2s 8ms/step - loss: 0.1697 - accuracy: 0.9969 - val_loss: 0.1089 - val_accuracy: 0.9944\n",
            "Epoch 7/10\n",
            "200/200 [==============================] - 1s 7ms/step - loss: 0.0920 - accuracy: 1.0000 - val_loss: 0.0938 - val_accuracy: 0.9944\n",
            "Epoch 8/10\n",
            "200/200 [==============================] - 2s 8ms/step - loss: 0.0824 - accuracy: 1.0000 - val_loss: 0.0894 - val_accuracy: 0.9944\n",
            "Epoch 9/10\n",
            "200/200 [==============================] - 2s 9ms/step - loss: 0.0777 - accuracy: 1.0000 - val_loss: 0.0891 - val_accuracy: 0.9915\n",
            "Epoch 10/10\n",
            "200/200 [==============================] - 2s 9ms/step - loss: 0.0754 - accuracy: 1.0000 - val_loss: 0.1042 - val_accuracy: 0.9859\n",
            "12/12 [==============================] - 0s 3ms/step - loss: 0.1042 - accuracy: 0.9859\n",
            "12/12 [==============================] - 1s 3ms/step\n",
            "Fold 9\n",
            "Epoch 1/10\n",
            "200/200 [==============================] - 13s 44ms/step - loss: 9.0679 - accuracy: 0.9643 - val_loss: 0.1806 - val_accuracy: 1.0000\n",
            "Epoch 2/10\n",
            "200/200 [==============================] - 4s 19ms/step - loss: 0.1299 - accuracy: 0.9981 - val_loss: 0.2315 - val_accuracy: 0.9859\n",
            "Epoch 3/10\n",
            "200/200 [==============================] - 2s 11ms/step - loss: 0.1174 - accuracy: 0.9981 - val_loss: 0.1596 - val_accuracy: 0.9831\n",
            "Epoch 4/10\n",
            "200/200 [==============================] - 2s 9ms/step - loss: 0.0878 - accuracy: 0.9997 - val_loss: 0.0787 - val_accuracy: 1.0000\n",
            "Epoch 5/10\n",
            "200/200 [==============================] - 2s 8ms/step - loss: 0.2294 - accuracy: 0.9975 - val_loss: 0.1479 - val_accuracy: 0.9944\n",
            "Epoch 6/10\n",
            "200/200 [==============================] - 1s 7ms/step - loss: 0.0966 - accuracy: 1.0000 - val_loss: 0.0879 - val_accuracy: 0.9972\n",
            "Epoch 7/10\n",
            "200/200 [==============================] - 1s 7ms/step - loss: 0.0800 - accuracy: 1.0000 - val_loss: 0.0818 - val_accuracy: 0.9972\n",
            "Epoch 8/10\n",
            "200/200 [==============================] - 2s 9ms/step - loss: 0.0749 - accuracy: 1.0000 - val_loss: 0.0811 - val_accuracy: 0.9944\n",
            "Epoch 9/10\n",
            "200/200 [==============================] - 2s 9ms/step - loss: 0.0739 - accuracy: 1.0000 - val_loss: 0.0861 - val_accuracy: 0.9944\n",
            "Epoch 10/10\n",
            "200/200 [==============================] - 1s 7ms/step - loss: 0.0729 - accuracy: 1.0000 - val_loss: 0.0787 - val_accuracy: 0.9944\n",
            "12/12 [==============================] - 0s 4ms/step - loss: 0.0787 - accuracy: 0.9944\n",
            "12/12 [==============================] - 1s 3ms/step\n"
          ]
        }
      ]
    },
    {
      "cell_type": "code",
      "source": [
        "cv_results"
      ],
      "metadata": {
        "colab": {
          "base_uri": "https://localhost:8080/",
          "height": 363
        },
        "id": "p5znoPmF4oeE",
        "outputId": "d50e23eb-4275-4a16-ea16-b7b60f86088e"
      },
      "execution_count": null,
      "outputs": [
        {
          "output_type": "execute_result",
          "data": {
            "text/plain": [
              "     Recall Precision  F1 score  F2 score\n",
              "0       1.0   0.99635  0.998172  0.999268\n",
              "1       1.0  0.978495   0.98913  0.995624\n",
              "2       1.0  0.996337  0.998165  0.999265\n",
              "3       1.0  0.996337  0.998165  0.999265\n",
              "4       1.0  0.996337  0.998165  0.999265\n",
              "5  0.996324       1.0  0.998158  0.997057\n",
              "6       1.0  0.996337  0.998165  0.999265\n",
              "7       1.0  0.989091  0.994516  0.997799\n",
              "8       1.0  0.981949  0.990893  0.996337\n",
              "9       1.0  0.992701  0.996337  0.998532"
            ],
            "text/html": [
              "\n",
              "  <div id=\"df-d8c3b99d-8b3a-453e-b7c5-05d45134a30f\">\n",
              "    <div class=\"colab-df-container\">\n",
              "      <div>\n",
              "<style scoped>\n",
              "    .dataframe tbody tr th:only-of-type {\n",
              "        vertical-align: middle;\n",
              "    }\n",
              "\n",
              "    .dataframe tbody tr th {\n",
              "        vertical-align: top;\n",
              "    }\n",
              "\n",
              "    .dataframe thead th {\n",
              "        text-align: right;\n",
              "    }\n",
              "</style>\n",
              "<table border=\"1\" class=\"dataframe\">\n",
              "  <thead>\n",
              "    <tr style=\"text-align: right;\">\n",
              "      <th></th>\n",
              "      <th>Recall</th>\n",
              "      <th>Precision</th>\n",
              "      <th>F1 score</th>\n",
              "      <th>F2 score</th>\n",
              "    </tr>\n",
              "  </thead>\n",
              "  <tbody>\n",
              "    <tr>\n",
              "      <th>0</th>\n",
              "      <td>1.0</td>\n",
              "      <td>0.99635</td>\n",
              "      <td>0.998172</td>\n",
              "      <td>0.999268</td>\n",
              "    </tr>\n",
              "    <tr>\n",
              "      <th>1</th>\n",
              "      <td>1.0</td>\n",
              "      <td>0.978495</td>\n",
              "      <td>0.98913</td>\n",
              "      <td>0.995624</td>\n",
              "    </tr>\n",
              "    <tr>\n",
              "      <th>2</th>\n",
              "      <td>1.0</td>\n",
              "      <td>0.996337</td>\n",
              "      <td>0.998165</td>\n",
              "      <td>0.999265</td>\n",
              "    </tr>\n",
              "    <tr>\n",
              "      <th>3</th>\n",
              "      <td>1.0</td>\n",
              "      <td>0.996337</td>\n",
              "      <td>0.998165</td>\n",
              "      <td>0.999265</td>\n",
              "    </tr>\n",
              "    <tr>\n",
              "      <th>4</th>\n",
              "      <td>1.0</td>\n",
              "      <td>0.996337</td>\n",
              "      <td>0.998165</td>\n",
              "      <td>0.999265</td>\n",
              "    </tr>\n",
              "    <tr>\n",
              "      <th>5</th>\n",
              "      <td>0.996324</td>\n",
              "      <td>1.0</td>\n",
              "      <td>0.998158</td>\n",
              "      <td>0.997057</td>\n",
              "    </tr>\n",
              "    <tr>\n",
              "      <th>6</th>\n",
              "      <td>1.0</td>\n",
              "      <td>0.996337</td>\n",
              "      <td>0.998165</td>\n",
              "      <td>0.999265</td>\n",
              "    </tr>\n",
              "    <tr>\n",
              "      <th>7</th>\n",
              "      <td>1.0</td>\n",
              "      <td>0.989091</td>\n",
              "      <td>0.994516</td>\n",
              "      <td>0.997799</td>\n",
              "    </tr>\n",
              "    <tr>\n",
              "      <th>8</th>\n",
              "      <td>1.0</td>\n",
              "      <td>0.981949</td>\n",
              "      <td>0.990893</td>\n",
              "      <td>0.996337</td>\n",
              "    </tr>\n",
              "    <tr>\n",
              "      <th>9</th>\n",
              "      <td>1.0</td>\n",
              "      <td>0.992701</td>\n",
              "      <td>0.996337</td>\n",
              "      <td>0.998532</td>\n",
              "    </tr>\n",
              "  </tbody>\n",
              "</table>\n",
              "</div>\n",
              "      <button class=\"colab-df-convert\" onclick=\"convertToInteractive('df-d8c3b99d-8b3a-453e-b7c5-05d45134a30f')\"\n",
              "              title=\"Convert this dataframe to an interactive table.\"\n",
              "              style=\"display:none;\">\n",
              "        \n",
              "  <svg xmlns=\"http://www.w3.org/2000/svg\" height=\"24px\"viewBox=\"0 0 24 24\"\n",
              "       width=\"24px\">\n",
              "    <path d=\"M0 0h24v24H0V0z\" fill=\"none\"/>\n",
              "    <path d=\"M18.56 5.44l.94 2.06.94-2.06 2.06-.94-2.06-.94-.94-2.06-.94 2.06-2.06.94zm-11 1L8.5 8.5l.94-2.06 2.06-.94-2.06-.94L8.5 2.5l-.94 2.06-2.06.94zm10 10l.94 2.06.94-2.06 2.06-.94-2.06-.94-.94-2.06-.94 2.06-2.06.94z\"/><path d=\"M17.41 7.96l-1.37-1.37c-.4-.4-.92-.59-1.43-.59-.52 0-1.04.2-1.43.59L10.3 9.45l-7.72 7.72c-.78.78-.78 2.05 0 2.83L4 21.41c.39.39.9.59 1.41.59.51 0 1.02-.2 1.41-.59l7.78-7.78 2.81-2.81c.8-.78.8-2.07 0-2.86zM5.41 20L4 18.59l7.72-7.72 1.47 1.35L5.41 20z\"/>\n",
              "  </svg>\n",
              "      </button>\n",
              "      \n",
              "  <style>\n",
              "    .colab-df-container {\n",
              "      display:flex;\n",
              "      flex-wrap:wrap;\n",
              "      gap: 12px;\n",
              "    }\n",
              "\n",
              "    .colab-df-convert {\n",
              "      background-color: #E8F0FE;\n",
              "      border: none;\n",
              "      border-radius: 50%;\n",
              "      cursor: pointer;\n",
              "      display: none;\n",
              "      fill: #1967D2;\n",
              "      height: 32px;\n",
              "      padding: 0 0 0 0;\n",
              "      width: 32px;\n",
              "    }\n",
              "\n",
              "    .colab-df-convert:hover {\n",
              "      background-color: #E2EBFA;\n",
              "      box-shadow: 0px 1px 2px rgba(60, 64, 67, 0.3), 0px 1px 3px 1px rgba(60, 64, 67, 0.15);\n",
              "      fill: #174EA6;\n",
              "    }\n",
              "\n",
              "    [theme=dark] .colab-df-convert {\n",
              "      background-color: #3B4455;\n",
              "      fill: #D2E3FC;\n",
              "    }\n",
              "\n",
              "    [theme=dark] .colab-df-convert:hover {\n",
              "      background-color: #434B5C;\n",
              "      box-shadow: 0px 1px 3px 1px rgba(0, 0, 0, 0.15);\n",
              "      filter: drop-shadow(0px 1px 2px rgba(0, 0, 0, 0.3));\n",
              "      fill: #FFFFFF;\n",
              "    }\n",
              "  </style>\n",
              "\n",
              "      <script>\n",
              "        const buttonEl =\n",
              "          document.querySelector('#df-d8c3b99d-8b3a-453e-b7c5-05d45134a30f button.colab-df-convert');\n",
              "        buttonEl.style.display =\n",
              "          google.colab.kernel.accessAllowed ? 'block' : 'none';\n",
              "\n",
              "        async function convertToInteractive(key) {\n",
              "          const element = document.querySelector('#df-d8c3b99d-8b3a-453e-b7c5-05d45134a30f');\n",
              "          const dataTable =\n",
              "            await google.colab.kernel.invokeFunction('convertToInteractive',\n",
              "                                                     [key], {});\n",
              "          if (!dataTable) return;\n",
              "\n",
              "          const docLinkHtml = 'Like what you see? Visit the ' +\n",
              "            '<a target=\"_blank\" href=https://colab.research.google.com/notebooks/data_table.ipynb>data table notebook</a>'\n",
              "            + ' to learn more about interactive tables.';\n",
              "          element.innerHTML = '';\n",
              "          dataTable['output_type'] = 'display_data';\n",
              "          await google.colab.output.renderOutput(dataTable, element);\n",
              "          const docLink = document.createElement('div');\n",
              "          docLink.innerHTML = docLinkHtml;\n",
              "          element.appendChild(docLink);\n",
              "        }\n",
              "      </script>\n",
              "    </div>\n",
              "  </div>\n",
              "  "
            ]
          },
          "metadata": {},
          "execution_count": 28
        }
      ]
    },
    {
      "cell_type": "code",
      "source": [
        "cv_results.mean()"
      ],
      "metadata": {
        "colab": {
          "base_uri": "https://localhost:8080/"
        },
        "id": "hAlRJpwv4oUY",
        "outputId": "93430898-cff2-40a9-b343-434539750935"
      },
      "execution_count": null,
      "outputs": [
        {
          "output_type": "execute_result",
          "data": {
            "text/plain": [
              "Recall       0.999632\n",
              "Precision    0.992393\n",
              "F1 score     0.995987\n",
              "F2 score     0.998168\n",
              "dtype: float64"
            ]
          },
          "metadata": {},
          "execution_count": 29
        }
      ]
    },
    {
      "cell_type": "code",
      "execution_count": null,
      "metadata": {
        "id": "6zXQht_90cw6"
      },
      "outputs": [],
      "source": [
        "def train_blstm(sent_length, words_mean, train_texts, train_labels):\n",
        "\n",
        "  blstm_model = create_blstm_model(sent_length, words_mean, train_texts)\n",
        "  \n",
        "  history = blstm_model.fit(train_texts,\n",
        "                            train_labels,\n",
        "                            epochs=10,\n",
        "                            batch_size=16,\n",
        "                            validation_data=(X_test, y_test))\n",
        "  \n",
        "  blstm_model.evaluate(X_test, y_test)\n",
        "  y_pred = np.round(blstm_model.predict(X_test))\n",
        "\n",
        "  f1_sc = f1_score(y_test, y_pred)\n",
        "  f2score = fbeta_score(y_test, y_pred, beta=2, average='binary')\n",
        "  mcc = matthews_corrcoef(y_test, y_pred)\n",
        "\n",
        "\n",
        "  print(\"test accuracy = \" + str(accuracy_score(y_test, y_pred)))\n",
        "  print(\"Recall = {}\".format(recall_score(y_test, y_pred)))\n",
        "  print(\"Precision = {}\".format(precision_score(y_test, y_pred)))\n",
        "  print(\"F1 score = {}\".format(f1_sc))\n",
        "  print(\"F2 score = {}\".format(f2score))\n",
        "  print(\"MCC = {}\".format(mcc))\n",
        "  print(classification_report(y_test, y_pred))\n",
        "  \n",
        "  cm = confusion_matrix(y_test, y_pred)\n",
        "\n",
        "  disp = ConfusionMatrixDisplay(confusion_matrix=cm, display_labels=[0,1])\n",
        "\n",
        "  disp.plot(cmap=plt.cm.Blues)\n",
        "  plt.show()\n",
        "\n",
        "  return f1_sc\n"
      ]
    },
    {
      "cell_type": "code",
      "execution_count": null,
      "metadata": {
        "id": "k6j7buOqDqOQ"
      },
      "outputs": [],
      "source": [
        "X_test = test_data['text'].values.reshape(-1, 1)"
      ]
    },
    {
      "cell_type": "code",
      "execution_count": null,
      "metadata": {
        "id": "FDYeTAp7CZp1"
      },
      "outputs": [],
      "source": [
        "aug_X_train = augmented_dataset['text'].values.reshape(-1, 1)"
      ]
    },
    {
      "cell_type": "code",
      "execution_count": null,
      "metadata": {
        "colab": {
          "base_uri": "https://localhost:8080/"
        },
        "id": "D0B5csN3GDKd",
        "outputId": "f3bbee5a-3425-4738-e685-73c6abfd092d"
      },
      "outputs": [
        {
          "data": {
            "text/plain": [
              "(2376, 1)"
            ]
          },
          "execution_count": 79,
          "metadata": {},
          "output_type": "execute_result"
        }
      ],
      "source": [
        "aug_X_train.shape"
      ]
    },
    {
      "cell_type": "code",
      "execution_count": null,
      "metadata": {
        "id": "c4fJafgyGGox"
      },
      "outputs": [],
      "source": [
        "aug_y_train = augmented_dataset['label'].values.reshape(-1, 1)"
      ]
    },
    {
      "cell_type": "code",
      "execution_count": null,
      "metadata": {
        "colab": {
          "base_uri": "https://localhost:8080/"
        },
        "id": "LPE1lvG1GJbJ",
        "outputId": "06605e96-c5fb-4ac7-ce65-6d154ecdbb05"
      },
      "outputs": [
        {
          "data": {
            "text/plain": [
              "(2376, 1)"
            ]
          },
          "execution_count": 81,
          "metadata": {},
          "output_type": "execute_result"
        }
      ],
      "source": [
        "aug_y_train.shape"
      ]
    },
    {
      "cell_type": "code",
      "execution_count": null,
      "metadata": {
        "id": "T4E4B5kUUqdT"
      },
      "outputs": [],
      "source": [
        "train_blstm(total_length, text_words_mean, aug_X_train, aug_y_train)"
      ]
    },
    {
      "cell_type": "code",
      "execution_count": null,
      "metadata": {
        "colab": {
          "base_uri": "https://localhost:8080/",
          "height": 1000
        },
        "id": "XOy8xUuB2XjT",
        "outputId": "a6438262-0cb2-47d9-880c-e020a1e2277d"
      },
      "outputs": [
        {
          "name": "stdout",
          "output_type": "stream",
          "text": [
            " 0 %\n",
            " 16 %\n",
            " 33 %\n",
            " 50 %\n",
            " 67 %\n",
            " 84 %\n",
            "Spam percentage = 0.7080369843527738\n"
          ]
        },
        {
          "name": "stderr",
          "output_type": "stream",
          "text": [
            "<ipython-input-44-3324af94901a>:12: FutureWarning: The frame.append method is deprecated and will be removed from pandas in a future version. Use pandas.concat instead.\n",
            "  augmentations = prepro_dataset[['text', 'label']].copy().append(pd.DataFrame({'label':[lable] * len(new_texts), 'text':new_texts}), ignore_index = True)\n",
            "WARNING:tensorflow:Layer lstm_64 will not use cuDNN kernels since it doesn't meet the criteria. It will use a generic GPU kernel as fallback when running on GPU.\n",
            "WARNING:tensorflow:Layer lstm_64 will not use cuDNN kernels since it doesn't meet the criteria. It will use a generic GPU kernel as fallback when running on GPU.\n",
            "WARNING:tensorflow:Layer lstm_64 will not use cuDNN kernels since it doesn't meet the criteria. It will use a generic GPU kernel as fallback when running on GPU.\n"
          ]
        },
        {
          "name": "stdout",
          "output_type": "stream",
          "text": [
            "Epoch 1/10\n",
            "561/562 [============================>.] - ETA: 0s - loss: 3.3609 - accuracy: 0.9647"
          ]
        },
        {
          "name": "stderr",
          "output_type": "stream",
          "text": [
            "WARNING:tensorflow:Your input ran out of data; interrupting training. Make sure that your dataset or generator can generate at least `steps_per_epoch * epochs` batches (in this case, 24 batches). You may need to use the repeat() function when building your dataset.\n"
          ]
        },
        {
          "name": "stdout",
          "output_type": "stream",
          "text": [
            "\b\b\b\b\b\b\b\b\b\b\b\b\b\b\b\b\b\b\b\b\b\b\b\b\b\b\b\b\b\b\b\b\b\b\b\b\b\b\b\b\b\b\b\b\b\b\b\b\b\b\b\b\b\b\b\b\b\b\b\b\b\b\b\b\b\b\b\b\b\b\b\b\b\b\b\b\b\b\b\b\b\b\b\b\r562/562 [==============================] - 44s 67ms/step - loss: 3.3551 - accuracy: 0.9647 - val_loss: 0.6002 - val_accuracy: 0.8629\n",
            "Epoch 2/10\n",
            "562/562 [==============================] - 29s 51ms/step - loss: 0.1771 - accuracy: 0.9934\n",
            "Epoch 3/10\n",
            "562/562 [==============================] - 28s 50ms/step - loss: 0.1136 - accuracy: 0.9975\n",
            "Epoch 4/10\n",
            "562/562 [==============================] - 29s 52ms/step - loss: 0.0982 - accuracy: 0.9988\n",
            "Epoch 5/10\n",
            "562/562 [==============================] - 29s 51ms/step - loss: 0.1780 - accuracy: 0.9970\n",
            "Epoch 6/10\n",
            "  9/562 [..............................] - ETA: 26s - loss: 0.1165 - accuracy: 1.0000"
          ]
        },
        {
          "name": "stderr",
          "output_type": "stream",
          "text": [
            "WARNING:tensorflow:Your input ran out of data; interrupting training. Make sure that your dataset or generator can generate at least `steps_per_epoch * epochs` batches (in this case, 5620 batches). You may need to use the repeat() function when building your dataset.\n"
          ]
        },
        {
          "name": "stdout",
          "output_type": "stream",
          "text": [
            "562/562 [==============================] - 1s 848us/step - loss: 0.1164 - accuracy: 1.0000\n",
            "4/4 [==============================] - 0s 8ms/step - loss: 0.5608 - accuracy: 0.9194\n",
            "4/4 [==============================] - 1s 7ms/step\n",
            "test accuracy = 0.9193548387096774\n",
            "Recall = 0.9066666666666666\n",
            "Precision = 0.9577464788732394\n",
            "F1 score = 0.9315068493150686\n",
            "F2 score = 0.9164420485175201\n",
            "MCC = 0.8354981111200683\n",
            "              precision    recall  f1-score   support\n",
            "\n",
            "           0       0.87      0.94      0.90        49\n",
            "           1       0.96      0.91      0.93        75\n",
            "\n",
            "    accuracy                           0.92       124\n",
            "   macro avg       0.91      0.92      0.92       124\n",
            "weighted avg       0.92      0.92      0.92       124\n",
            "\n"
          ]
        },
        {
          "data": {
            "image/png": "[encoded data removed]",
            "text/plain": [
              "<Figure size 640x480 with 2 Axes>"
            ]
          },
          "metadata": {},
          "output_type": "display_data"
        },
        {
          "data": {
            "text/plain": [
              "0.9315068493150686"
            ]
          },
          "execution_count": 84,
          "metadata": {},
          "output_type": "execute_result"
        }
      ],
      "source": [
        "all_similar_words = {}\n",
        "my_augmented_dataset =  my_augmentation(train_data, lable=1, word_sim_threshold=.675, sent_sim_threshold=.8)\n",
        "my_aug_X = my_augmented_dataset['text'].to_numpy()\n",
        "my_aug_y = my_augmented_dataset['label'].to_numpy()\n",
        "print('Spam percentage = {}'.format(np.count_nonzero(my_aug_y) / len(my_aug_y)))\n",
        "train_blstm(total_length, text_words_mean, my_aug_X, my_aug_y)"
      ]
    }
  ],
  "metadata": {
    "accelerator": "GPU",
    "colab": {
      "machine_shape": "hm",
      "provenance": []
    },
    "gpuClass": "standard",
    "kernelspec": {
      "display_name": "Python 3",
      "name": "python3"
    },
    "language_info": {
      "name": "python"
    }
  },
  "nbformat": 4,
  "nbformat_minor": 0
}