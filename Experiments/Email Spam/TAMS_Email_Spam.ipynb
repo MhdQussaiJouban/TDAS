{
  "cells": [
    {
      "cell_type": "code",
      "source": [
        "from datetime import datetime\n",
        "import numpy as np\n",
        "import pandas as pd\n",
        "from sklearn.preprocessing import LabelEncoder\n",
        "from sklearn.model_selection import train_test_split\n",
        "from sklearn.ensemble import RandomForestClassifier, ExtraTreesClassifier\n",
        "from sklearn.linear_model import SGDClassifier, LogisticRegression\n",
        "from sklearn.naive_bayes import GaussianNB\n",
        "from sklearn.neural_network import MLPClassifier\n",
        "from sklearn.svm import SVC\n",
        "from sklearn.neighbors import KNeighborsClassifier\n",
        "from sklearn.model_selection import GridSearchCV\n",
        "from sklearn.ensemble import StackingClassifier\n",
        "from sklearn.metrics import confusion_matrix\n",
        "from sklearn.metrics import ConfusionMatrixDisplay\n",
        "from sklearn.metrics import accuracy_score, recall_score, precision_score, f1_score, fbeta_score, classification_report, matthews_corrcoef\n",
        "from sklearn.metrics import make_scorer \n",
        "import matplotlib.pyplot as plt\n",
        "import gensim.downloader as api"
      ],
      "metadata": {
        "id": "aVfPXdU-bMLn"
      },
      "execution_count": null,
      "outputs": []
    },
    {
      "cell_type": "code",
      "source": [
        "import nltk\n",
        "from nltk.tokenize import word_tokenize\n",
        "from nltk import pos_tag\n",
        "nltk.download('stopwords')\n",
        "nltk.download('punkt')\n",
        "nltk.download('averaged_perceptron_tagger')\n",
        "nltk.download('wordnet')"
      ],
      "metadata": {
        "colab": {
          "base_uri": "https://localhost:8080/"
        },
        "id": "5VnZXUcjbN4k",
        "outputId": "037a348b-8f11-49b9-bbd5-6ce89aef3a33"
      },
      "execution_count": null,
      "outputs": [
        {
          "output_type": "stream",
          "name": "stderr",
          "text": [
            "[nltk_data] Downloading package stopwords to /root/nltk_data...\n",
            "[nltk_data]   Unzipping corpora/stopwords.zip.\n",
            "[nltk_data] Downloading package punkt to /root/nltk_data...\n",
            "[nltk_data]   Unzipping tokenizers/punkt.zip.\n",
            "[nltk_data] Downloading package averaged_perceptron_tagger to\n",
            "[nltk_data]     /root/nltk_data...\n",
            "[nltk_data]   Unzipping taggers/averaged_perceptron_tagger.zip.\n",
            "[nltk_data] Downloading package wordnet to /root/nltk_data...\n"
          ]
        },
        {
          "output_type": "execute_result",
          "data": {
            "text/plain": [
              "True"
            ]
          },
          "metadata": {},
          "execution_count": 2
        }
      ]
    },
    {
      "cell_type": "code",
      "execution_count": null,
      "metadata": {
        "colab": {
          "base_uri": "https://localhost:8080/"
        },
        "id": "kK47QdlrrAw0",
        "outputId": "ae220569-04f8-48b0-bfea-858cf9d1d080"
      },
      "outputs": [
        {
          "output_type": "stream",
          "name": "stdout",
          "text": [
            "Mounted at /content/gdrive\n"
          ]
        }
      ],
      "source": [
        "from google.colab import drive\n",
        "drive.mount('/content/gdrive')\n",
        "dir_name = \"/content/gdrive/MyDrive/Thesis/\""
      ]
    },
    {
      "cell_type": "code",
      "execution_count": null,
      "metadata": {
        "id": "vxr47BS1rsLu"
      },
      "outputs": [],
      "source": [
        "def get_raw_data(dir_name, file_name):\n",
        "    #  load data\n",
        "    data = pd.read_csv('{}{}.csv'.format(dir_name,file_name), encoding = 'latin-1', usecols=['Message_body', 'Label'])\n",
        "    data = data.rename(columns={'Label': 'label', 'Message_body': 'text'})\n",
        "    le = LabelEncoder()\n",
        "    data['label'] = le.fit_transform( data['label'])\n",
        "    return data"
      ]
    },
    {
      "cell_type": "code",
      "execution_count": null,
      "metadata": {
        "id": "Vi_KpcsBvFju"
      },
      "outputs": [],
      "source": [
        "raw_train_data = get_raw_data(dir_name + 'datasets/email_spam/', 'train')"
      ]
    },
    {
      "cell_type": "code",
      "execution_count": null,
      "metadata": {
        "colab": {
          "base_uri": "https://localhost:8080/",
          "height": 424
        },
        "id": "ALdow6ABz3HA",
        "outputId": "5b6346be-4885-4f72-cf36-198cc5498200"
      },
      "outputs": [
        {
          "output_type": "execute_result",
          "data": {
            "text/plain": [
              "                                                  text  label\n",
              "0                           Rofl. Its true to its name      0\n",
              "1    The guy did some bitching but I acted like i'd...      0\n",
              "2    Pity, * was in mood for that. So...any other s...      0\n",
              "3                 Will ü b going to esplanade fr home?      0\n",
              "4    This is the 2nd time we have tried 2 contact u...      1\n",
              "..                                                 ...    ...\n",
              "952  hows my favourite person today? r u workin har...      0\n",
              "953                      How much you got for cleaning      0\n",
              "954  Sorry da. I gone mad so many pending works wha...      0\n",
              "955                                 Wat time ü finish?      0\n",
              "956                    Just glad to be talking to you.      0\n",
              "\n",
              "[957 rows x 2 columns]"
            ],
            "text/html": [
              "\n",
              "  <div id=\"df-61dbff3e-465f-4ef2-a1c8-345f528c280a\">\n",
              "    <div class=\"colab-df-container\">\n",
              "      <div>\n",
              "<style scoped>\n",
              "    .dataframe tbody tr th:only-of-type {\n",
              "        vertical-align: middle;\n",
              "    }\n",
              "\n",
              "    .dataframe tbody tr th {\n",
              "        vertical-align: top;\n",
              "    }\n",
              "\n",
              "    .dataframe thead th {\n",
              "        text-align: right;\n",
              "    }\n",
              "</style>\n",
              "<table border=\"1\" class=\"dataframe\">\n",
              "  <thead>\n",
              "    <tr style=\"text-align: right;\">\n",
              "      <th></th>\n",
              "      <th>text</th>\n",
              "      <th>label</th>\n",
              "    </tr>\n",
              "  </thead>\n",
              "  <tbody>\n",
              "    <tr>\n",
              "      <th>0</th>\n",
              "      <td>Rofl. Its true to its name</td>\n",
              "      <td>0</td>\n",
              "    </tr>\n",
              "    <tr>\n",
              "      <th>1</th>\n",
              "      <td>The guy did some bitching but I acted like i'd...</td>\n",
              "      <td>0</td>\n",
              "    </tr>\n",
              "    <tr>\n",
              "      <th>2</th>\n",
              "      <td>Pity, * was in mood for that. So...any other s...</td>\n",
              "      <td>0</td>\n",
              "    </tr>\n",
              "    <tr>\n",
              "      <th>3</th>\n",
              "      <td>Will ü b going to esplanade fr home?</td>\n",
              "      <td>0</td>\n",
              "    </tr>\n",
              "    <tr>\n",
              "      <th>4</th>\n",
              "      <td>This is the 2nd time we have tried 2 contact u...</td>\n",
              "      <td>1</td>\n",
              "    </tr>\n",
              "    <tr>\n",
              "      <th>...</th>\n",
              "      <td>...</td>\n",
              "      <td>...</td>\n",
              "    </tr>\n",
              "    <tr>\n",
              "      <th>952</th>\n",
              "      <td>hows my favourite person today? r u workin har...</td>\n",
              "      <td>0</td>\n",
              "    </tr>\n",
              "    <tr>\n",
              "      <th>953</th>\n",
              "      <td>How much you got for cleaning</td>\n",
              "      <td>0</td>\n",
              "    </tr>\n",
              "    <tr>\n",
              "      <th>954</th>\n",
              "      <td>Sorry da. I gone mad so many pending works wha...</td>\n",
              "      <td>0</td>\n",
              "    </tr>\n",
              "    <tr>\n",
              "      <th>955</th>\n",
              "      <td>Wat time ü finish?</td>\n",
              "      <td>0</td>\n",
              "    </tr>\n",
              "    <tr>\n",
              "      <th>956</th>\n",
              "      <td>Just glad to be talking to you.</td>\n",
              "      <td>0</td>\n",
              "    </tr>\n",
              "  </tbody>\n",
              "</table>\n",
              "<p>957 rows × 2 columns</p>\n",
              "</div>\n",
              "      <button class=\"colab-df-convert\" onclick=\"convertToInteractive('df-61dbff3e-465f-4ef2-a1c8-345f528c280a')\"\n",
              "              title=\"Convert this dataframe to an interactive table.\"\n",
              "              style=\"display:none;\">\n",
              "        \n",
              "  <svg xmlns=\"http://www.w3.org/2000/svg\" height=\"24px\"viewBox=\"0 0 24 24\"\n",
              "       width=\"24px\">\n",
              "    <path d=\"M0 0h24v24H0V0z\" fill=\"none\"/>\n",
              "    <path d=\"M18.56 5.44l.94 2.06.94-2.06 2.06-.94-2.06-.94-.94-2.06-.94 2.06-2.06.94zm-11 1L8.5 8.5l.94-2.06 2.06-.94-2.06-.94L8.5 2.5l-.94 2.06-2.06.94zm10 10l.94 2.06.94-2.06 2.06-.94-2.06-.94-.94-2.06-.94 2.06-2.06.94z\"/><path d=\"M17.41 7.96l-1.37-1.37c-.4-.4-.92-.59-1.43-.59-.52 0-1.04.2-1.43.59L10.3 9.45l-7.72 7.72c-.78.78-.78 2.05 0 2.83L4 21.41c.39.39.9.59 1.41.59.51 0 1.02-.2 1.41-.59l7.78-7.78 2.81-2.81c.8-.78.8-2.07 0-2.86zM5.41 20L4 18.59l7.72-7.72 1.47 1.35L5.41 20z\"/>\n",
              "  </svg>\n",
              "      </button>\n",
              "      \n",
              "  <style>\n",
              "    .colab-df-container {\n",
              "      display:flex;\n",
              "      flex-wrap:wrap;\n",
              "      gap: 12px;\n",
              "    }\n",
              "\n",
              "    .colab-df-convert {\n",
              "      background-color: #E8F0FE;\n",
              "      border: none;\n",
              "      border-radius: 50%;\n",
              "      cursor: pointer;\n",
              "      display: none;\n",
              "      fill: #1967D2;\n",
              "      height: 32px;\n",
              "      padding: 0 0 0 0;\n",
              "      width: 32px;\n",
              "    }\n",
              "\n",
              "    .colab-df-convert:hover {\n",
              "      background-color: #E2EBFA;\n",
              "      box-shadow: 0px 1px 2px rgba(60, 64, 67, 0.3), 0px 1px 3px 1px rgba(60, 64, 67, 0.15);\n",
              "      fill: #174EA6;\n",
              "    }\n",
              "\n",
              "    [theme=dark] .colab-df-convert {\n",
              "      background-color: #3B4455;\n",
              "      fill: #D2E3FC;\n",
              "    }\n",
              "\n",
              "    [theme=dark] .colab-df-convert:hover {\n",
              "      background-color: #434B5C;\n",
              "      box-shadow: 0px 1px 3px 1px rgba(0, 0, 0, 0.15);\n",
              "      filter: drop-shadow(0px 1px 2px rgba(0, 0, 0, 0.3));\n",
              "      fill: #FFFFFF;\n",
              "    }\n",
              "  </style>\n",
              "\n",
              "      <script>\n",
              "        const buttonEl =\n",
              "          document.querySelector('#df-61dbff3e-465f-4ef2-a1c8-345f528c280a button.colab-df-convert');\n",
              "        buttonEl.style.display =\n",
              "          google.colab.kernel.accessAllowed ? 'block' : 'none';\n",
              "\n",
              "        async function convertToInteractive(key) {\n",
              "          const element = document.querySelector('#df-61dbff3e-465f-4ef2-a1c8-345f528c280a');\n",
              "          const dataTable =\n",
              "            await google.colab.kernel.invokeFunction('convertToInteractive',\n",
              "                                                     [key], {});\n",
              "          if (!dataTable) return;\n",
              "\n",
              "          const docLinkHtml = 'Like what you see? Visit the ' +\n",
              "            '<a target=\"_blank\" href=https://colab.research.google.com/notebooks/data_table.ipynb>data table notebook</a>'\n",
              "            + ' to learn more about interactive tables.';\n",
              "          element.innerHTML = '';\n",
              "          dataTable['output_type'] = 'display_data';\n",
              "          await google.colab.output.renderOutput(dataTable, element);\n",
              "          const docLink = document.createElement('div');\n",
              "          docLink.innerHTML = docLinkHtml;\n",
              "          element.appendChild(docLink);\n",
              "        }\n",
              "      </script>\n",
              "    </div>\n",
              "  </div>\n",
              "  "
            ]
          },
          "metadata": {},
          "execution_count": 6
        }
      ],
      "source": [
        "raw_train_data"
      ]
    },
    {
      "cell_type": "code",
      "source": [
        "raw_train_data['text'].is_unique"
      ],
      "metadata": {
        "colab": {
          "base_uri": "https://localhost:8080/"
        },
        "id": "ZAqtugl1bzir",
        "outputId": "81b6720f-9cf3-434b-a7eb-2cb0f4b81172"
      },
      "execution_count": null,
      "outputs": [
        {
          "output_type": "execute_result",
          "data": {
            "text/plain": [
              "False"
            ]
          },
          "metadata": {},
          "execution_count": 7
        }
      ]
    },
    {
      "cell_type": "code",
      "source": [
        "raw_train_data.drop_duplicates(subset=['text'], inplace=True)"
      ],
      "metadata": {
        "id": "5Xhz2Qrub2GA"
      },
      "execution_count": null,
      "outputs": []
    },
    {
      "cell_type": "code",
      "source": [
        "raw_train_data['text'].is_unique"
      ],
      "metadata": {
        "colab": {
          "base_uri": "https://localhost:8080/"
        },
        "id": "bz4_IBLPb4E1",
        "outputId": "d63e382e-644d-45b5-8c76-6c005863dc55"
      },
      "execution_count": null,
      "outputs": [
        {
          "output_type": "execute_result",
          "data": {
            "text/plain": [
              "True"
            ]
          },
          "metadata": {},
          "execution_count": 9
        }
      ]
    },
    {
      "cell_type": "code",
      "source": [
        "raw_train_data"
      ],
      "metadata": {
        "colab": {
          "base_uri": "https://localhost:8080/",
          "height": 424
        },
        "id": "BwKJ9D7qb6Fb",
        "outputId": "4feb0546-a130-41d5-adc8-2686d66ac278"
      },
      "execution_count": null,
      "outputs": [
        {
          "output_type": "execute_result",
          "data": {
            "text/plain": [
              "                                                  text  label\n",
              "0                           Rofl. Its true to its name      0\n",
              "1    The guy did some bitching but I acted like i'd...      0\n",
              "2    Pity, * was in mood for that. So...any other s...      0\n",
              "3                 Will ü b going to esplanade fr home?      0\n",
              "4    This is the 2nd time we have tried 2 contact u...      1\n",
              "..                                                 ...    ...\n",
              "952  hows my favourite person today? r u workin har...      0\n",
              "953                      How much you got for cleaning      0\n",
              "954  Sorry da. I gone mad so many pending works wha...      0\n",
              "955                                 Wat time ü finish?      0\n",
              "956                    Just glad to be talking to you.      0\n",
              "\n",
              "[945 rows x 2 columns]"
            ],
            "text/html": [
              "\n",
              "  <div id=\"df-55c4806b-ee76-442b-9ecb-f81e58027f03\">\n",
              "    <div class=\"colab-df-container\">\n",
              "      <div>\n",
              "<style scoped>\n",
              "    .dataframe tbody tr th:only-of-type {\n",
              "        vertical-align: middle;\n",
              "    }\n",
              "\n",
              "    .dataframe tbody tr th {\n",
              "        vertical-align: top;\n",
              "    }\n",
              "\n",
              "    .dataframe thead th {\n",
              "        text-align: right;\n",
              "    }\n",
              "</style>\n",
              "<table border=\"1\" class=\"dataframe\">\n",
              "  <thead>\n",
              "    <tr style=\"text-align: right;\">\n",
              "      <th></th>\n",
              "      <th>text</th>\n",
              "      <th>label</th>\n",
              "    </tr>\n",
              "  </thead>\n",
              "  <tbody>\n",
              "    <tr>\n",
              "      <th>0</th>\n",
              "      <td>Rofl. Its true to its name</td>\n",
              "      <td>0</td>\n",
              "    </tr>\n",
              "    <tr>\n",
              "      <th>1</th>\n",
              "      <td>The guy did some bitching but I acted like i'd...</td>\n",
              "      <td>0</td>\n",
              "    </tr>\n",
              "    <tr>\n",
              "      <th>2</th>\n",
              "      <td>Pity, * was in mood for that. So...any other s...</td>\n",
              "      <td>0</td>\n",
              "    </tr>\n",
              "    <tr>\n",
              "      <th>3</th>\n",
              "      <td>Will ü b going to esplanade fr home?</td>\n",
              "      <td>0</td>\n",
              "    </tr>\n",
              "    <tr>\n",
              "      <th>4</th>\n",
              "      <td>This is the 2nd time we have tried 2 contact u...</td>\n",
              "      <td>1</td>\n",
              "    </tr>\n",
              "    <tr>\n",
              "      <th>...</th>\n",
              "      <td>...</td>\n",
              "      <td>...</td>\n",
              "    </tr>\n",
              "    <tr>\n",
              "      <th>952</th>\n",
              "      <td>hows my favourite person today? r u workin har...</td>\n",
              "      <td>0</td>\n",
              "    </tr>\n",
              "    <tr>\n",
              "      <th>953</th>\n",
              "      <td>How much you got for cleaning</td>\n",
              "      <td>0</td>\n",
              "    </tr>\n",
              "    <tr>\n",
              "      <th>954</th>\n",
              "      <td>Sorry da. I gone mad so many pending works wha...</td>\n",
              "      <td>0</td>\n",
              "    </tr>\n",
              "    <tr>\n",
              "      <th>955</th>\n",
              "      <td>Wat time ü finish?</td>\n",
              "      <td>0</td>\n",
              "    </tr>\n",
              "    <tr>\n",
              "      <th>956</th>\n",
              "      <td>Just glad to be talking to you.</td>\n",
              "      <td>0</td>\n",
              "    </tr>\n",
              "  </tbody>\n",
              "</table>\n",
              "<p>945 rows × 2 columns</p>\n",
              "</div>\n",
              "      <button class=\"colab-df-convert\" onclick=\"convertToInteractive('df-55c4806b-ee76-442b-9ecb-f81e58027f03')\"\n",
              "              title=\"Convert this dataframe to an interactive table.\"\n",
              "              style=\"display:none;\">\n",
              "        \n",
              "  <svg xmlns=\"http://www.w3.org/2000/svg\" height=\"24px\"viewBox=\"0 0 24 24\"\n",
              "       width=\"24px\">\n",
              "    <path d=\"M0 0h24v24H0V0z\" fill=\"none\"/>\n",
              "    <path d=\"M18.56 5.44l.94 2.06.94-2.06 2.06-.94-2.06-.94-.94-2.06-.94 2.06-2.06.94zm-11 1L8.5 8.5l.94-2.06 2.06-.94-2.06-.94L8.5 2.5l-.94 2.06-2.06.94zm10 10l.94 2.06.94-2.06 2.06-.94-2.06-.94-.94-2.06-.94 2.06-2.06.94z\"/><path d=\"M17.41 7.96l-1.37-1.37c-.4-.4-.92-.59-1.43-.59-.52 0-1.04.2-1.43.59L10.3 9.45l-7.72 7.72c-.78.78-.78 2.05 0 2.83L4 21.41c.39.39.9.59 1.41.59.51 0 1.02-.2 1.41-.59l7.78-7.78 2.81-2.81c.8-.78.8-2.07 0-2.86zM5.41 20L4 18.59l7.72-7.72 1.47 1.35L5.41 20z\"/>\n",
              "  </svg>\n",
              "      </button>\n",
              "      \n",
              "  <style>\n",
              "    .colab-df-container {\n",
              "      display:flex;\n",
              "      flex-wrap:wrap;\n",
              "      gap: 12px;\n",
              "    }\n",
              "\n",
              "    .colab-df-convert {\n",
              "      background-color: #E8F0FE;\n",
              "      border: none;\n",
              "      border-radius: 50%;\n",
              "      cursor: pointer;\n",
              "      display: none;\n",
              "      fill: #1967D2;\n",
              "      height: 32px;\n",
              "      padding: 0 0 0 0;\n",
              "      width: 32px;\n",
              "    }\n",
              "\n",
              "    .colab-df-convert:hover {\n",
              "      background-color: #E2EBFA;\n",
              "      box-shadow: 0px 1px 2px rgba(60, 64, 67, 0.3), 0px 1px 3px 1px rgba(60, 64, 67, 0.15);\n",
              "      fill: #174EA6;\n",
              "    }\n",
              "\n",
              "    [theme=dark] .colab-df-convert {\n",
              "      background-color: #3B4455;\n",
              "      fill: #D2E3FC;\n",
              "    }\n",
              "\n",
              "    [theme=dark] .colab-df-convert:hover {\n",
              "      background-color: #434B5C;\n",
              "      box-shadow: 0px 1px 3px 1px rgba(0, 0, 0, 0.15);\n",
              "      filter: drop-shadow(0px 1px 2px rgba(0, 0, 0, 0.3));\n",
              "      fill: #FFFFFF;\n",
              "    }\n",
              "  </style>\n",
              "\n",
              "      <script>\n",
              "        const buttonEl =\n",
              "          document.querySelector('#df-55c4806b-ee76-442b-9ecb-f81e58027f03 button.colab-df-convert');\n",
              "        buttonEl.style.display =\n",
              "          google.colab.kernel.accessAllowed ? 'block' : 'none';\n",
              "\n",
              "        async function convertToInteractive(key) {\n",
              "          const element = document.querySelector('#df-55c4806b-ee76-442b-9ecb-f81e58027f03');\n",
              "          const dataTable =\n",
              "            await google.colab.kernel.invokeFunction('convertToInteractive',\n",
              "                                                     [key], {});\n",
              "          if (!dataTable) return;\n",
              "\n",
              "          const docLinkHtml = 'Like what you see? Visit the ' +\n",
              "            '<a target=\"_blank\" href=https://colab.research.google.com/notebooks/data_table.ipynb>data table notebook</a>'\n",
              "            + ' to learn more about interactive tables.';\n",
              "          element.innerHTML = '';\n",
              "          dataTable['output_type'] = 'display_data';\n",
              "          await google.colab.output.renderOutput(dataTable, element);\n",
              "          const docLink = document.createElement('div');\n",
              "          docLink.innerHTML = docLinkHtml;\n",
              "          element.appendChild(docLink);\n",
              "        }\n",
              "      </script>\n",
              "    </div>\n",
              "  </div>\n",
              "  "
            ]
          },
          "metadata": {},
          "execution_count": 10
        }
      ]
    },
    {
      "cell_type": "code",
      "execution_count": null,
      "metadata": {
        "id": "s2Uyx7xqy4BU"
      },
      "outputs": [],
      "source": [
        "def get_dataset_statistics(data):\n",
        "    dataset_statistics = {'Number of emails': [data['label'].value_counts()[0], data['label'].value_counts()[1]]}\n",
        "    df = pd.DataFrame(dataset_statistics, index=['Non-Spam', 'Spam'])\n",
        "    df.plot(kind='pie', y='Number of emails', figsize=(6, 6), fontsize=14,\n",
        "            autopct=lambda v: '{:.0f} ({:.1f}%)'.format(v / 100 * data['label'].count(), v))"
      ]
    },
    {
      "cell_type": "code",
      "execution_count": null,
      "metadata": {
        "id": "etrZLrZi1YQu",
        "colab": {
          "base_uri": "https://localhost:8080/",
          "height": 499
        },
        "outputId": "88cb3ec7-9330-4e68-91f7-1c1eb111856f"
      },
      "outputs": [
        {
          "output_type": "display_data",
          "data": {
            "text/plain": [
              "<Figure size 600x600 with 1 Axes>"
            ],
            "image/png": "[encoded data removed]"
          },
          "metadata": {}
        }
      ],
      "source": [
        "# Raw data statistics\n",
        "get_dataset_statistics(raw_train_data)"
      ]
    },
    {
      "cell_type": "code",
      "source": [
        "raw_test_data = get_raw_data(dir_name + 'datasets/email_spam/', 'test')"
      ],
      "metadata": {
        "id": "oyXq2yIytdHV"
      },
      "execution_count": null,
      "outputs": []
    },
    {
      "cell_type": "code",
      "source": [
        "raw_test_data"
      ],
      "metadata": {
        "colab": {
          "base_uri": "https://localhost:8080/",
          "height": 424
        },
        "id": "qvkWRkkLtvEF",
        "outputId": "d1db766a-8e44-4ee3-a651-6b9a7e7de2af"
      },
      "execution_count": null,
      "outputs": [
        {
          "output_type": "execute_result",
          "data": {
            "text/plain": [
              "                                                  text  label\n",
              "0    UpgrdCentre Orange customer, you may now claim...      1\n",
              "1    Loan for any purpose £500 - £75,000. Homeowner...      1\n",
              "2    Congrats! Nokia 3650 video camera phone is you...      1\n",
              "3    URGENT! Your Mobile number has been awarded wi...      1\n",
              "4    Someone has contacted our dating service and e...      1\n",
              "..                                                 ...    ...\n",
              "120  7 wonders in My WORLD 7th You 6th Ur style 5th...      0\n",
              "121  Try to do something dear. You read something f...      0\n",
              "122  Sun ah... Thk mayb can if dun have anythin on....      0\n",
              "123  SYMPTOMS when U are in love: \"1.U like listeni...      0\n",
              "124  Great. Have a safe trip. Dont panic surrender ...      0\n",
              "\n",
              "[125 rows x 2 columns]"
            ],
            "text/html": [
              "\n",
              "  <div id=\"df-80fb3033-dda7-4e7e-ac83-6e16a445a18d\">\n",
              "    <div class=\"colab-df-container\">\n",
              "      <div>\n",
              "<style scoped>\n",
              "    .dataframe tbody tr th:only-of-type {\n",
              "        vertical-align: middle;\n",
              "    }\n",
              "\n",
              "    .dataframe tbody tr th {\n",
              "        vertical-align: top;\n",
              "    }\n",
              "\n",
              "    .dataframe thead th {\n",
              "        text-align: right;\n",
              "    }\n",
              "</style>\n",
              "<table border=\"1\" class=\"dataframe\">\n",
              "  <thead>\n",
              "    <tr style=\"text-align: right;\">\n",
              "      <th></th>\n",
              "      <th>text</th>\n",
              "      <th>label</th>\n",
              "    </tr>\n",
              "  </thead>\n",
              "  <tbody>\n",
              "    <tr>\n",
              "      <th>0</th>\n",
              "      <td>UpgrdCentre Orange customer, you may now claim...</td>\n",
              "      <td>1</td>\n",
              "    </tr>\n",
              "    <tr>\n",
              "      <th>1</th>\n",
              "      <td>Loan for any purpose £500 - £75,000. Homeowner...</td>\n",
              "      <td>1</td>\n",
              "    </tr>\n",
              "    <tr>\n",
              "      <th>2</th>\n",
              "      <td>Congrats! Nokia 3650 video camera phone is you...</td>\n",
              "      <td>1</td>\n",
              "    </tr>\n",
              "    <tr>\n",
              "      <th>3</th>\n",
              "      <td>URGENT! Your Mobile number has been awarded wi...</td>\n",
              "      <td>1</td>\n",
              "    </tr>\n",
              "    <tr>\n",
              "      <th>4</th>\n",
              "      <td>Someone has contacted our dating service and e...</td>\n",
              "      <td>1</td>\n",
              "    </tr>\n",
              "    <tr>\n",
              "      <th>...</th>\n",
              "      <td>...</td>\n",
              "      <td>...</td>\n",
              "    </tr>\n",
              "    <tr>\n",
              "      <th>120</th>\n",
              "      <td>7 wonders in My WORLD 7th You 6th Ur style 5th...</td>\n",
              "      <td>0</td>\n",
              "    </tr>\n",
              "    <tr>\n",
              "      <th>121</th>\n",
              "      <td>Try to do something dear. You read something f...</td>\n",
              "      <td>0</td>\n",
              "    </tr>\n",
              "    <tr>\n",
              "      <th>122</th>\n",
              "      <td>Sun ah... Thk mayb can if dun have anythin on....</td>\n",
              "      <td>0</td>\n",
              "    </tr>\n",
              "    <tr>\n",
              "      <th>123</th>\n",
              "      <td>SYMPTOMS when U are in love: \"1.U like listeni...</td>\n",
              "      <td>0</td>\n",
              "    </tr>\n",
              "    <tr>\n",
              "      <th>124</th>\n",
              "      <td>Great. Have a safe trip. Dont panic surrender ...</td>\n",
              "      <td>0</td>\n",
              "    </tr>\n",
              "  </tbody>\n",
              "</table>\n",
              "<p>125 rows × 2 columns</p>\n",
              "</div>\n",
              "      <button class=\"colab-df-convert\" onclick=\"convertToInteractive('df-80fb3033-dda7-4e7e-ac83-6e16a445a18d')\"\n",
              "              title=\"Convert this dataframe to an interactive table.\"\n",
              "              style=\"display:none;\">\n",
              "        \n",
              "  <svg xmlns=\"http://www.w3.org/2000/svg\" height=\"24px\"viewBox=\"0 0 24 24\"\n",
              "       width=\"24px\">\n",
              "    <path d=\"M0 0h24v24H0V0z\" fill=\"none\"/>\n",
              "    <path d=\"M18.56 5.44l.94 2.06.94-2.06 2.06-.94-2.06-.94-.94-2.06-.94 2.06-2.06.94zm-11 1L8.5 8.5l.94-2.06 2.06-.94-2.06-.94L8.5 2.5l-.94 2.06-2.06.94zm10 10l.94 2.06.94-2.06 2.06-.94-2.06-.94-.94-2.06-.94 2.06-2.06.94z\"/><path d=\"M17.41 7.96l-1.37-1.37c-.4-.4-.92-.59-1.43-.59-.52 0-1.04.2-1.43.59L10.3 9.45l-7.72 7.72c-.78.78-.78 2.05 0 2.83L4 21.41c.39.39.9.59 1.41.59.51 0 1.02-.2 1.41-.59l7.78-7.78 2.81-2.81c.8-.78.8-2.07 0-2.86zM5.41 20L4 18.59l7.72-7.72 1.47 1.35L5.41 20z\"/>\n",
              "  </svg>\n",
              "      </button>\n",
              "      \n",
              "  <style>\n",
              "    .colab-df-container {\n",
              "      display:flex;\n",
              "      flex-wrap:wrap;\n",
              "      gap: 12px;\n",
              "    }\n",
              "\n",
              "    .colab-df-convert {\n",
              "      background-color: #E8F0FE;\n",
              "      border: none;\n",
              "      border-radius: 50%;\n",
              "      cursor: pointer;\n",
              "      display: none;\n",
              "      fill: #1967D2;\n",
              "      height: 32px;\n",
              "      padding: 0 0 0 0;\n",
              "      width: 32px;\n",
              "    }\n",
              "\n",
              "    .colab-df-convert:hover {\n",
              "      background-color: #E2EBFA;\n",
              "      box-shadow: 0px 1px 2px rgba(60, 64, 67, 0.3), 0px 1px 3px 1px rgba(60, 64, 67, 0.15);\n",
              "      fill: #174EA6;\n",
              "    }\n",
              "\n",
              "    [theme=dark] .colab-df-convert {\n",
              "      background-color: #3B4455;\n",
              "      fill: #D2E3FC;\n",
              "    }\n",
              "\n",
              "    [theme=dark] .colab-df-convert:hover {\n",
              "      background-color: #434B5C;\n",
              "      box-shadow: 0px 1px 3px 1px rgba(0, 0, 0, 0.15);\n",
              "      filter: drop-shadow(0px 1px 2px rgba(0, 0, 0, 0.3));\n",
              "      fill: #FFFFFF;\n",
              "    }\n",
              "  </style>\n",
              "\n",
              "      <script>\n",
              "        const buttonEl =\n",
              "          document.querySelector('#df-80fb3033-dda7-4e7e-ac83-6e16a445a18d button.colab-df-convert');\n",
              "        buttonEl.style.display =\n",
              "          google.colab.kernel.accessAllowed ? 'block' : 'none';\n",
              "\n",
              "        async function convertToInteractive(key) {\n",
              "          const element = document.querySelector('#df-80fb3033-dda7-4e7e-ac83-6e16a445a18d');\n",
              "          const dataTable =\n",
              "            await google.colab.kernel.invokeFunction('convertToInteractive',\n",
              "                                                     [key], {});\n",
              "          if (!dataTable) return;\n",
              "\n",
              "          const docLinkHtml = 'Like what you see? Visit the ' +\n",
              "            '<a target=\"_blank\" href=https://colab.research.google.com/notebooks/data_table.ipynb>data table notebook</a>'\n",
              "            + ' to learn more about interactive tables.';\n",
              "          element.innerHTML = '';\n",
              "          dataTable['output_type'] = 'display_data';\n",
              "          await google.colab.output.renderOutput(dataTable, element);\n",
              "          const docLink = document.createElement('div');\n",
              "          docLink.innerHTML = docLinkHtml;\n",
              "          element.appendChild(docLink);\n",
              "        }\n",
              "      </script>\n",
              "    </div>\n",
              "  </div>\n",
              "  "
            ]
          },
          "metadata": {},
          "execution_count": 14
        }
      ]
    },
    {
      "cell_type": "code",
      "source": [
        "raw_test_data['label'].value_counts()"
      ],
      "metadata": {
        "colab": {
          "base_uri": "https://localhost:8080/"
        },
        "id": "ypoapMEa3Dyb",
        "outputId": "7402eb9d-f9ab-4977-e78d-852a9c67d3bd"
      },
      "execution_count": null,
      "outputs": [
        {
          "output_type": "execute_result",
          "data": {
            "text/plain": [
              "1    76\n",
              "0    49\n",
              "Name: label, dtype: int64"
            ]
          },
          "metadata": {},
          "execution_count": 15
        }
      ]
    },
    {
      "cell_type": "code",
      "source": [
        "get_dataset_statistics(raw_test_data)"
      ],
      "metadata": {
        "colab": {
          "base_uri": "https://localhost:8080/",
          "height": 499
        },
        "id": "VQcnABAwtxge",
        "outputId": "2966a22d-c35d-403d-dbf8-bdd749bfe34a"
      },
      "execution_count": null,
      "outputs": [
        {
          "output_type": "display_data",
          "data": {
            "text/plain": [
              "<Figure size 600x600 with 1 Axes>"
            ],
            "image/png": "[encoded data removed]"
          },
          "metadata": {}
        }
      ]
    },
    {
      "cell_type": "markdown",
      "metadata": {
        "id": "qhzAeC1dMd1e"
      },
      "source": [
        "# Text Preprocessing "
      ]
    },
    {
      "cell_type": "code",
      "execution_count": null,
      "metadata": {
        "id": "LEz_7waOnKUr"
      },
      "outputs": [],
      "source": [
        "import requests\n",
        "stopwords_list = requests.get(\"https://github.com/stopwords-iso/stopwords-en/blob/master/stopwords-en.txt\").content\n",
        "stopwords = set(stopwords_list.decode().splitlines())"
      ]
    },
    {
      "cell_type": "code",
      "execution_count": null,
      "metadata": {
        "id": "224Sj8WG5Ivx"
      },
      "outputs": [],
      "source": [
        "import string\n",
        "from nltk.corpus import stopwords\n",
        "from sklearn.feature_extraction.text import ENGLISH_STOP_WORDS\n",
        "sklearn_stopwords = ENGLISH_STOP_WORDS\n",
        "\n",
        "stop_words = set(stopwords.words('english'))\n",
        "stop_words.update(sklearn_stopwords)\n",
        "\n",
        "def message_preprocessing(raw_message):\n",
        "  message_words = raw_message.translate(str.maketrans('', '', string.punctuation))\n",
        "  msg_tokens = word_tokenize(message_words.lower())\n",
        "  filtered_message = [token for token in msg_tokens if not token in stop_words]\n",
        "  return \" \".join(filtered_message)"
      ]
    },
    {
      "cell_type": "code",
      "execution_count": null,
      "metadata": {
        "colab": {
          "base_uri": "https://localhost:8080/",
          "height": 424
        },
        "id": "hjAjuuYv_5ul",
        "outputId": "3faa5230-456a-42da-9bd7-7e8a55c91f17"
      },
      "outputs": [
        {
          "output_type": "execute_result",
          "data": {
            "text/plain": [
              "                                                  text  label\n",
              "0                                            rofl true      0\n",
              "1    guy bitching acted like id interested buying w...      0\n",
              "2                          pity mood soany suggestions      0\n",
              "3                          ü b going esplanade fr home      0\n",
              "4    2nd time tried 2 contact u u £750 pound prize ...      1\n",
              "..                                                 ...    ...\n",
              "952  hows favourite person today r u workin hard sl...      0\n",
              "953                                       got cleaning      0\n",
              "954                    sorry da gone mad pending works      0\n",
              "955                                  wat time ü finish      0\n",
              "956                                       glad talking      0\n",
              "\n",
              "[940 rows x 2 columns]"
            ],
            "text/html": [
              "\n",
              "  <div id=\"df-6732aafc-91d4-4ff4-9691-c87a159757c5\">\n",
              "    <div class=\"colab-df-container\">\n",
              "      <div>\n",
              "<style scoped>\n",
              "    .dataframe tbody tr th:only-of-type {\n",
              "        vertical-align: middle;\n",
              "    }\n",
              "\n",
              "    .dataframe tbody tr th {\n",
              "        vertical-align: top;\n",
              "    }\n",
              "\n",
              "    .dataframe thead th {\n",
              "        text-align: right;\n",
              "    }\n",
              "</style>\n",
              "<table border=\"1\" class=\"dataframe\">\n",
              "  <thead>\n",
              "    <tr style=\"text-align: right;\">\n",
              "      <th></th>\n",
              "      <th>text</th>\n",
              "      <th>label</th>\n",
              "    </tr>\n",
              "  </thead>\n",
              "  <tbody>\n",
              "    <tr>\n",
              "      <th>0</th>\n",
              "      <td>rofl true</td>\n",
              "      <td>0</td>\n",
              "    </tr>\n",
              "    <tr>\n",
              "      <th>1</th>\n",
              "      <td>guy bitching acted like id interested buying w...</td>\n",
              "      <td>0</td>\n",
              "    </tr>\n",
              "    <tr>\n",
              "      <th>2</th>\n",
              "      <td>pity mood soany suggestions</td>\n",
              "      <td>0</td>\n",
              "    </tr>\n",
              "    <tr>\n",
              "      <th>3</th>\n",
              "      <td>ü b going esplanade fr home</td>\n",
              "      <td>0</td>\n",
              "    </tr>\n",
              "    <tr>\n",
              "      <th>4</th>\n",
              "      <td>2nd time tried 2 contact u u £750 pound prize ...</td>\n",
              "      <td>1</td>\n",
              "    </tr>\n",
              "    <tr>\n",
              "      <th>...</th>\n",
              "      <td>...</td>\n",
              "      <td>...</td>\n",
              "    </tr>\n",
              "    <tr>\n",
              "      <th>952</th>\n",
              "      <td>hows favourite person today r u workin hard sl...</td>\n",
              "      <td>0</td>\n",
              "    </tr>\n",
              "    <tr>\n",
              "      <th>953</th>\n",
              "      <td>got cleaning</td>\n",
              "      <td>0</td>\n",
              "    </tr>\n",
              "    <tr>\n",
              "      <th>954</th>\n",
              "      <td>sorry da gone mad pending works</td>\n",
              "      <td>0</td>\n",
              "    </tr>\n",
              "    <tr>\n",
              "      <th>955</th>\n",
              "      <td>wat time ü finish</td>\n",
              "      <td>0</td>\n",
              "    </tr>\n",
              "    <tr>\n",
              "      <th>956</th>\n",
              "      <td>glad talking</td>\n",
              "      <td>0</td>\n",
              "    </tr>\n",
              "  </tbody>\n",
              "</table>\n",
              "<p>940 rows × 2 columns</p>\n",
              "</div>\n",
              "      <button class=\"colab-df-convert\" onclick=\"convertToInteractive('df-6732aafc-91d4-4ff4-9691-c87a159757c5')\"\n",
              "              title=\"Convert this dataframe to an interactive table.\"\n",
              "              style=\"display:none;\">\n",
              "        \n",
              "  <svg xmlns=\"http://www.w3.org/2000/svg\" height=\"24px\"viewBox=\"0 0 24 24\"\n",
              "       width=\"24px\">\n",
              "    <path d=\"M0 0h24v24H0V0z\" fill=\"none\"/>\n",
              "    <path d=\"M18.56 5.44l.94 2.06.94-2.06 2.06-.94-2.06-.94-.94-2.06-.94 2.06-2.06.94zm-11 1L8.5 8.5l.94-2.06 2.06-.94-2.06-.94L8.5 2.5l-.94 2.06-2.06.94zm10 10l.94 2.06.94-2.06 2.06-.94-2.06-.94-.94-2.06-.94 2.06-2.06.94z\"/><path d=\"M17.41 7.96l-1.37-1.37c-.4-.4-.92-.59-1.43-.59-.52 0-1.04.2-1.43.59L10.3 9.45l-7.72 7.72c-.78.78-.78 2.05 0 2.83L4 21.41c.39.39.9.59 1.41.59.51 0 1.02-.2 1.41-.59l7.78-7.78 2.81-2.81c.8-.78.8-2.07 0-2.86zM5.41 20L4 18.59l7.72-7.72 1.47 1.35L5.41 20z\"/>\n",
              "  </svg>\n",
              "      </button>\n",
              "      \n",
              "  <style>\n",
              "    .colab-df-container {\n",
              "      display:flex;\n",
              "      flex-wrap:wrap;\n",
              "      gap: 12px;\n",
              "    }\n",
              "\n",
              "    .colab-df-convert {\n",
              "      background-color: #E8F0FE;\n",
              "      border: none;\n",
              "      border-radius: 50%;\n",
              "      cursor: pointer;\n",
              "      display: none;\n",
              "      fill: #1967D2;\n",
              "      height: 32px;\n",
              "      padding: 0 0 0 0;\n",
              "      width: 32px;\n",
              "    }\n",
              "\n",
              "    .colab-df-convert:hover {\n",
              "      background-color: #E2EBFA;\n",
              "      box-shadow: 0px 1px 2px rgba(60, 64, 67, 0.3), 0px 1px 3px 1px rgba(60, 64, 67, 0.15);\n",
              "      fill: #174EA6;\n",
              "    }\n",
              "\n",
              "    [theme=dark] .colab-df-convert {\n",
              "      background-color: #3B4455;\n",
              "      fill: #D2E3FC;\n",
              "    }\n",
              "\n",
              "    [theme=dark] .colab-df-convert:hover {\n",
              "      background-color: #434B5C;\n",
              "      box-shadow: 0px 1px 3px 1px rgba(0, 0, 0, 0.15);\n",
              "      filter: drop-shadow(0px 1px 2px rgba(0, 0, 0, 0.3));\n",
              "      fill: #FFFFFF;\n",
              "    }\n",
              "  </style>\n",
              "\n",
              "      <script>\n",
              "        const buttonEl =\n",
              "          document.querySelector('#df-6732aafc-91d4-4ff4-9691-c87a159757c5 button.colab-df-convert');\n",
              "        buttonEl.style.display =\n",
              "          google.colab.kernel.accessAllowed ? 'block' : 'none';\n",
              "\n",
              "        async function convertToInteractive(key) {\n",
              "          const element = document.querySelector('#df-6732aafc-91d4-4ff4-9691-c87a159757c5');\n",
              "          const dataTable =\n",
              "            await google.colab.kernel.invokeFunction('convertToInteractive',\n",
              "                                                     [key], {});\n",
              "          if (!dataTable) return;\n",
              "\n",
              "          const docLinkHtml = 'Like what you see? Visit the ' +\n",
              "            '<a target=\"_blank\" href=https://colab.research.google.com/notebooks/data_table.ipynb>data table notebook</a>'\n",
              "            + ' to learn more about interactive tables.';\n",
              "          element.innerHTML = '';\n",
              "          dataTable['output_type'] = 'display_data';\n",
              "          await google.colab.output.renderOutput(dataTable, element);\n",
              "          const docLink = document.createElement('div');\n",
              "          docLink.innerHTML = docLinkHtml;\n",
              "          element.appendChild(docLink);\n",
              "        }\n",
              "      </script>\n",
              "    </div>\n",
              "  </div>\n",
              "  "
            ]
          },
          "metadata": {},
          "execution_count": 19
        }
      ],
      "source": [
        "train_data = raw_train_data[['text', 'label']].copy()\n",
        "\n",
        "train_data['text'] = raw_train_data['text'].apply(message_preprocessing)\n",
        "\n",
        "train_data.drop_duplicates(inplace=True)\n",
        "\n",
        "train_data"
      ]
    },
    {
      "cell_type": "code",
      "source": [
        "get_dataset_statistics(train_data)"
      ],
      "metadata": {
        "colab": {
          "base_uri": "https://localhost:8080/",
          "height": 499
        },
        "id": "SYDRKiLfSnt7",
        "outputId": "fe492f6e-7534-4a09-a4e0-7e06e33b10d1"
      },
      "execution_count": null,
      "outputs": [
        {
          "output_type": "display_data",
          "data": {
            "text/plain": [
              "<Figure size 600x600 with 1 Axes>"
            ],
            "image/png": "[encoded data removed]"
          },
          "metadata": {}
        }
      ]
    },
    {
      "cell_type": "code",
      "source": [
        "test_data = raw_test_data[['text', 'label']].copy()\n",
        "\n",
        "test_data['text'] = raw_test_data['text'].apply(message_preprocessing)\n",
        "\n",
        "test_data.drop_duplicates(inplace=True)\n",
        "\n",
        "test_data"
      ],
      "metadata": {
        "colab": {
          "base_uri": "https://localhost:8080/",
          "height": 424
        },
        "id": "oTXpvJGZuEpV",
        "outputId": "84d63b5c-a4e4-4ae1-af5d-461e6eccd5b4"
      },
      "execution_count": null,
      "outputs": [
        {
          "output_type": "execute_result",
          "data": {
            "text/plain": [
              "                                                  text  label\n",
              "0    upgrdcentre orange customer claim free camera ...      1\n",
              "1    loan purpose £500 £75000 homeowners tenants we...      1\n",
              "2    congrats nokia 3650 video camera phone 0906638...      1\n",
              "3    urgent mobile number awarded £2000 prize guara...      1\n",
              "4    contacted dating service entered phone fancy l...      1\n",
              "..                                                 ...    ...\n",
              "120  7 wonders world 7th 6th ur style 5th ur smile ...      0\n",
              "121                                try dear read exams      0\n",
              "122  sun ah thk mayb dun anythin thk book e lesson ...      0\n",
              "123  symptoms u love 1u like listening songs 2u sto...      0\n",
              "124               great safe trip dont panic surrender      0\n",
              "\n",
              "[124 rows x 2 columns]"
            ],
            "text/html": [
              "\n",
              "  <div id=\"df-d80366c8-dd70-42ba-9489-6f450bdce343\">\n",
              "    <div class=\"colab-df-container\">\n",
              "      <div>\n",
              "<style scoped>\n",
              "    .dataframe tbody tr th:only-of-type {\n",
              "        vertical-align: middle;\n",
              "    }\n",
              "\n",
              "    .dataframe tbody tr th {\n",
              "        vertical-align: top;\n",
              "    }\n",
              "\n",
              "    .dataframe thead th {\n",
              "        text-align: right;\n",
              "    }\n",
              "</style>\n",
              "<table border=\"1\" class=\"dataframe\">\n",
              "  <thead>\n",
              "    <tr style=\"text-align: right;\">\n",
              "      <th></th>\n",
              "      <th>text</th>\n",
              "      <th>label</th>\n",
              "    </tr>\n",
              "  </thead>\n",
              "  <tbody>\n",
              "    <tr>\n",
              "      <th>0</th>\n",
              "      <td>upgrdcentre orange customer claim free camera ...</td>\n",
              "      <td>1</td>\n",
              "    </tr>\n",
              "    <tr>\n",
              "      <th>1</th>\n",
              "      <td>loan purpose £500 £75000 homeowners tenants we...</td>\n",
              "      <td>1</td>\n",
              "    </tr>\n",
              "    <tr>\n",
              "      <th>2</th>\n",
              "      <td>congrats nokia 3650 video camera phone 0906638...</td>\n",
              "      <td>1</td>\n",
              "    </tr>\n",
              "    <tr>\n",
              "      <th>3</th>\n",
              "      <td>urgent mobile number awarded £2000 prize guara...</td>\n",
              "      <td>1</td>\n",
              "    </tr>\n",
              "    <tr>\n",
              "      <th>4</th>\n",
              "      <td>contacted dating service entered phone fancy l...</td>\n",
              "      <td>1</td>\n",
              "    </tr>\n",
              "    <tr>\n",
              "      <th>...</th>\n",
              "      <td>...</td>\n",
              "      <td>...</td>\n",
              "    </tr>\n",
              "    <tr>\n",
              "      <th>120</th>\n",
              "      <td>7 wonders world 7th 6th ur style 5th ur smile ...</td>\n",
              "      <td>0</td>\n",
              "    </tr>\n",
              "    <tr>\n",
              "      <th>121</th>\n",
              "      <td>try dear read exams</td>\n",
              "      <td>0</td>\n",
              "    </tr>\n",
              "    <tr>\n",
              "      <th>122</th>\n",
              "      <td>sun ah thk mayb dun anythin thk book e lesson ...</td>\n",
              "      <td>0</td>\n",
              "    </tr>\n",
              "    <tr>\n",
              "      <th>123</th>\n",
              "      <td>symptoms u love 1u like listening songs 2u sto...</td>\n",
              "      <td>0</td>\n",
              "    </tr>\n",
              "    <tr>\n",
              "      <th>124</th>\n",
              "      <td>great safe trip dont panic surrender</td>\n",
              "      <td>0</td>\n",
              "    </tr>\n",
              "  </tbody>\n",
              "</table>\n",
              "<p>124 rows × 2 columns</p>\n",
              "</div>\n",
              "      <button class=\"colab-df-convert\" onclick=\"convertToInteractive('df-d80366c8-dd70-42ba-9489-6f450bdce343')\"\n",
              "              title=\"Convert this dataframe to an interactive table.\"\n",
              "              style=\"display:none;\">\n",
              "        \n",
              "  <svg xmlns=\"http://www.w3.org/2000/svg\" height=\"24px\"viewBox=\"0 0 24 24\"\n",
              "       width=\"24px\">\n",
              "    <path d=\"M0 0h24v24H0V0z\" fill=\"none\"/>\n",
              "    <path d=\"M18.56 5.44l.94 2.06.94-2.06 2.06-.94-2.06-.94-.94-2.06-.94 2.06-2.06.94zm-11 1L8.5 8.5l.94-2.06 2.06-.94-2.06-.94L8.5 2.5l-.94 2.06-2.06.94zm10 10l.94 2.06.94-2.06 2.06-.94-2.06-.94-.94-2.06-.94 2.06-2.06.94z\"/><path d=\"M17.41 7.96l-1.37-1.37c-.4-.4-.92-.59-1.43-.59-.52 0-1.04.2-1.43.59L10.3 9.45l-7.72 7.72c-.78.78-.78 2.05 0 2.83L4 21.41c.39.39.9.59 1.41.59.51 0 1.02-.2 1.41-.59l7.78-7.78 2.81-2.81c.8-.78.8-2.07 0-2.86zM5.41 20L4 18.59l7.72-7.72 1.47 1.35L5.41 20z\"/>\n",
              "  </svg>\n",
              "      </button>\n",
              "      \n",
              "  <style>\n",
              "    .colab-df-container {\n",
              "      display:flex;\n",
              "      flex-wrap:wrap;\n",
              "      gap: 12px;\n",
              "    }\n",
              "\n",
              "    .colab-df-convert {\n",
              "      background-color: #E8F0FE;\n",
              "      border: none;\n",
              "      border-radius: 50%;\n",
              "      cursor: pointer;\n",
              "      display: none;\n",
              "      fill: #1967D2;\n",
              "      height: 32px;\n",
              "      padding: 0 0 0 0;\n",
              "      width: 32px;\n",
              "    }\n",
              "\n",
              "    .colab-df-convert:hover {\n",
              "      background-color: #E2EBFA;\n",
              "      box-shadow: 0px 1px 2px rgba(60, 64, 67, 0.3), 0px 1px 3px 1px rgba(60, 64, 67, 0.15);\n",
              "      fill: #174EA6;\n",
              "    }\n",
              "\n",
              "    [theme=dark] .colab-df-convert {\n",
              "      background-color: #3B4455;\n",
              "      fill: #D2E3FC;\n",
              "    }\n",
              "\n",
              "    [theme=dark] .colab-df-convert:hover {\n",
              "      background-color: #434B5C;\n",
              "      box-shadow: 0px 1px 3px 1px rgba(0, 0, 0, 0.15);\n",
              "      filter: drop-shadow(0px 1px 2px rgba(0, 0, 0, 0.3));\n",
              "      fill: #FFFFFF;\n",
              "    }\n",
              "  </style>\n",
              "\n",
              "      <script>\n",
              "        const buttonEl =\n",
              "          document.querySelector('#df-d80366c8-dd70-42ba-9489-6f450bdce343 button.colab-df-convert');\n",
              "        buttonEl.style.display =\n",
              "          google.colab.kernel.accessAllowed ? 'block' : 'none';\n",
              "\n",
              "        async function convertToInteractive(key) {\n",
              "          const element = document.querySelector('#df-d80366c8-dd70-42ba-9489-6f450bdce343');\n",
              "          const dataTable =\n",
              "            await google.colab.kernel.invokeFunction('convertToInteractive',\n",
              "                                                     [key], {});\n",
              "          if (!dataTable) return;\n",
              "\n",
              "          const docLinkHtml = 'Like what you see? Visit the ' +\n",
              "            '<a target=\"_blank\" href=https://colab.research.google.com/notebooks/data_table.ipynb>data table notebook</a>'\n",
              "            + ' to learn more about interactive tables.';\n",
              "          element.innerHTML = '';\n",
              "          dataTable['output_type'] = 'display_data';\n",
              "          await google.colab.output.renderOutput(dataTable, element);\n",
              "          const docLink = document.createElement('div');\n",
              "          docLink.innerHTML = docLinkHtml;\n",
              "          element.appendChild(docLink);\n",
              "        }\n",
              "      </script>\n",
              "    </div>\n",
              "  </div>\n",
              "  "
            ]
          },
          "metadata": {},
          "execution_count": 21
        }
      ]
    },
    {
      "cell_type": "code",
      "source": [
        "word2vec_model = api.load(\"word2vec-google-news-300\")"
      ],
      "metadata": {
        "colab": {
          "base_uri": "https://localhost:8080/"
        },
        "id": "dme4_hzGcr_m",
        "outputId": "3bc975b1-eaf7-4161-d02c-ce93cf5f59b7"
      },
      "execution_count": null,
      "outputs": [
        {
          "output_type": "stream",
          "name": "stdout",
          "text": [
            "[==================================================] 100.0% 1662.8/1662.8MB downloaded\n"
          ]
        }
      ]
    },
    {
      "cell_type": "code",
      "source": [
        "def get_text_vec(sent):\n",
        "  vector = np.mean(np.array([word2vec_model[token] for token in word_tokenize(sent) if token in word2vec_model.key_to_index]), axis=0)\n",
        "  if np.all(np.isnan(vector)) :\n",
        "    return np.zeros(300)\n",
        "  return vector"
      ],
      "metadata": {
        "id": "m8c3qnuue6BF"
      },
      "execution_count": null,
      "outputs": []
    },
    {
      "cell_type": "code",
      "source": [
        "X_test = np.stack(np.array([get_text_vec(sms_text) for sms_text in test_data['text'].values]))"
      ],
      "metadata": {
        "id": "hKK5MtdMfKqM"
      },
      "execution_count": null,
      "outputs": []
    },
    {
      "cell_type": "code",
      "source": [
        "X_test.shape"
      ],
      "metadata": {
        "colab": {
          "base_uri": "https://localhost:8080/"
        },
        "id": "HkjCbbcWfMgN",
        "outputId": "e5516a4b-4f67-483e-c3e8-97f0019056de"
      },
      "execution_count": null,
      "outputs": [
        {
          "output_type": "execute_result",
          "data": {
            "text/plain": [
              "(124, 300)"
            ]
          },
          "metadata": {},
          "execution_count": 27
        }
      ]
    },
    {
      "cell_type": "code",
      "source": [
        "y_test = test_data['label'].values"
      ],
      "metadata": {
        "id": "HscfxWqQwQ8V"
      },
      "execution_count": null,
      "outputs": []
    },
    {
      "cell_type": "code",
      "source": [
        "y_test.shape"
      ],
      "metadata": {
        "colab": {
          "base_uri": "https://localhost:8080/"
        },
        "id": "tGwMwutWwbV5",
        "outputId": "e980d576-cb05-4ddd-8912-3da3fe087665"
      },
      "execution_count": null,
      "outputs": [
        {
          "output_type": "execute_result",
          "data": {
            "text/plain": [
              "(124,)"
            ]
          },
          "metadata": {},
          "execution_count": 25
        }
      ]
    },
    {
      "cell_type": "markdown",
      "metadata": {
        "id": "XeWGJ8LZ5M4G"
      },
      "source": [
        "# Model selection, training and evaluation"
      ]
    },
    {
      "cell_type": "code",
      "source": [
        "def f_beta_score(y_true, y_pred):\n",
        "  return fbeta_score(y_true, y_pred, beta=2, average='binary')\n",
        "\n",
        "f2_score = make_scorer(f_beta_score, greater_is_better=True)"
      ],
      "metadata": {
        "id": "b-qnkwNq6wW5"
      },
      "execution_count": null,
      "outputs": []
    },
    {
      "cell_type": "code",
      "source": [
        "from datetime import datetime\n",
        "\n",
        "def save_cross_validation(results, file_name):\n",
        "  results_to_save = pd.DataFrame(columns=['Accuracy', 'Recall', 'Precision', 'F1 Score', 'F2 Score', 'MCC'])\n",
        "  for i in range(0, 10):\n",
        "    results_to_save.loc[i] = [\n",
        "      results['split{}_test_Accuracy'.format(i)][0],\n",
        "      results['split{}_test_Recall'.format(i)][0],\n",
        "      results['split{}_test_Precision'.format(i)][0],\n",
        "      results['split{}_test_F1'.format(i)][0],\n",
        "      results['split{}_test_F2'.format(i)][0],\n",
        "      results['split{}_test_MCC'.format(i)][0]\n",
        "    ]\n",
        "  results_to_save.to_csv('{}Results/{}_{}.csv'.format(dir_name+'experiments/Email Spam/', file_name, datetime.now().strftime(\"%m%d%H%M\")))"
      ],
      "metadata": {
        "id": "DA-_moLi6xED"
      },
      "execution_count": null,
      "outputs": []
    },
    {
      "cell_type": "code",
      "source": [
        "def train_model(classifier, param_grid, model_name, train_texts, train_labels, test_texts, test_labels, evaluation_metrics, to_print=True, to_save=False, file_name=None):\n",
        "    \"\"\"\n",
        "    train email classification model.\n",
        "    \"\"\"\n",
        "\n",
        "    # apply grid search to find best model hyper parameters\n",
        "    grid_search = GridSearchCV(classifier, param_grid, cv=10, scoring={'Accuracy': make_scorer(accuracy_score),\n",
        "                                                                       'F1': make_scorer(f1_score),\n",
        "                                                                       'F2': f2_score,\n",
        "                                                                       'Recall': make_scorer(recall_score),\n",
        "                                                                       'Precision': make_scorer(precision_score),\n",
        "                                                                       'MCC' : make_scorer(matthews_corrcoef)\n",
        "                                                                       }, refit='F1', n_jobs=-1)\n",
        "    grid_search.fit(train_texts, train_labels)\n",
        "    model = grid_search.best_estimator_\n",
        "\n",
        "    if to_save:\n",
        "      ConfusionMatrixDisplay(save_cross_validation(grid_search.cv_results_, file_name))\n",
        "      plt.show()\n",
        "\n",
        "    # train and test accuracy.\n",
        "    test_accuracy = model.score(test_texts, test_labels)\n",
        "    train_accuracy = model.score(train_texts, train_labels)\n",
        "\n",
        "    # compute F1 score for model evaluation.\n",
        "    y_pred = model.predict(test_texts)\n",
        "\n",
        "    recall = recall_score(test_labels, y_pred)\n",
        "    precision = precision_score(test_labels, y_pred)\n",
        "    f1score = f1_score(test_labels, y_pred)\n",
        "    f2score = fbeta_score(y_test, y_pred, beta=2, average='binary')\n",
        "    mcc = matthews_corrcoef(y_test, y_pred)\n",
        "\n",
        "    if to_print:\n",
        "        print(\"train accuracy = \" + str(train_accuracy))\n",
        "        print(\"test accuracy = \" + str(test_accuracy))\n",
        "        print(\"Recall = {}\".format(recall))\n",
        "        print(\"Precision = {}\".format(precision))\n",
        "        print(\"F1 score = {}\".format(f1score))\n",
        "        print(\"F2 score = {}\".format(f2score))\n",
        "        print(\"MCC = {}\".format(mcc))\n",
        "        print(classification_report(test_labels, y_pred))\n",
        "\n",
        "\n",
        "        # plot confusion matrix\n",
        "        cm = confusion_matrix(test_labels, y_pred)\n",
        "        disp = ConfusionMatrixDisplay(confusion_matrix=cm, display_labels=[0,1])\n",
        "\n",
        "        disp.plot(cmap=plt.cm.Blues)\n",
        "        plt.show()\n",
        "\n",
        "        # print best model hyper parameters.\n",
        "        print(grid_search.best_params_)\n",
        "\n",
        "    evaluation_metrics.loc[model_name, 'Recall'] = recall\n",
        "    evaluation_metrics.loc[model_name, 'Precision'] = precision\n",
        "    evaluation_metrics.loc[model_name, 'F1 score'] = f1score\n",
        "    evaluation_metrics.loc[model_name, 'F2 score'] = f2score\n",
        "    evaluation_metrics.loc[model_name, 'MCC'] = mcc\n",
        "\n",
        "    return f1score, f2score\n",
        "\n",
        "\n",
        "def train(model_id, train_texts, train_labels, test_texts, test_labels, evaluation_metrics, to_print=True, to_save=False, file_name=None):\n",
        "    \n",
        "    if model_id == 1:\n",
        "        # Random forest Classification model.\n",
        "        forest_clf = RandomForestClassifier(random_state=42, n_jobs=-1)\n",
        "        forest_param_grid = [{'n_estimators': [15,20,25,30], 'max_features': [5, 10, 15, 20], 'min_samples_split': [15, 20, 25], 'criterion': ['gini','entropy'], 'max_depth': [5,6,7,8]}]\n",
        "\n",
        "        return train_model(forest_clf, forest_param_grid, 'RandomForest', train_texts, train_labels, test_texts, test_labels, evaluation_metrics, to_print, to_save, file_name)\n",
        "\n",
        "    if model_id == 2:\n",
        "        # Support Vector Machine Model.\n",
        "        svc_clf = SVC(random_state=42)\n",
        "        svc_param_grid = [{'kernel': ['rbf'], 'degree': [2, 3 ,4, 5]}]\n",
        "\n",
        "        return train_model(svc_clf, svc_param_grid, 'SVM', train_texts, train_labels, test_texts, test_labels, evaluation_metrics, to_print, to_save, file_name)\n"
      ],
      "metadata": {
        "id": "G4VVz_Kb61Zd"
      },
      "execution_count": null,
      "outputs": []
    },
    {
      "cell_type": "markdown",
      "source": [
        "# Text Augmentation"
      ],
      "metadata": {
        "id": "u_PJgyxnRgyr"
      }
    },
    {
      "cell_type": "code",
      "source": [
        "from nltk.corpus import wordnet\n",
        "\n",
        "def get_synonyms(word):\n",
        "  synonyms = []\n",
        "  for synonym in wordnet.synsets(word):\n",
        "    for lemma in [l.name().lower() for l in synonym.lemmas()]:\n",
        "      if len(lemma.split('_')) == 1 and lemma != word:\n",
        "        synonyms.append(lemma)\n",
        "\n",
        "  return list(set(synonyms))"
      ],
      "metadata": {
        "id": "FyuRpjX_5k3z"
      },
      "execution_count": null,
      "outputs": []
    },
    {
      "cell_type": "code",
      "source": [
        "import itertools\n",
        "\n",
        "def get_sentence_augmentations(sentence, similarity_threshold=.75):\n",
        "  sentence_tokens = word_tokenize(sentence.lower())\n",
        "  new_sentences = []\n",
        "  words = []\n",
        "  all_synonyms = []\n",
        "  for word in sentence_tokens:\n",
        "    if word in word2vec_model.key_to_index :\n",
        "      synonyms = get_synonyms(word)\n",
        "      if len(synonyms) > 0:\n",
        "        good_synonyms = []\n",
        "        for synonym in synonyms:\n",
        "          if synonym in word2vec_model.key_to_index :\n",
        "            if word2vec_model.similarity(word, synonym) >= similarity_threshold:\n",
        "              good_synonyms.append(synonym)\n",
        "        if len(good_synonyms) > 0:\n",
        "          words.append(word)\n",
        "          good_synonyms.append(word)\n",
        "          all_synonyms.append(good_synonyms)\n",
        "  for product in itertools.product(*all_synonyms):\n",
        "    new_sentence = sentence\n",
        "    for src, dest in zip(words, product):\n",
        "        new_sentence = new_sentence.replace(\"%s\" % src, dest)\n",
        "    new_sentences.append(new_sentence.lower())\n",
        "    # new_sentences.remove(sentence)\n",
        "  return new_sentences"
      ],
      "metadata": {
        "id": "rKHAhK_QQ6GK"
      },
      "execution_count": null,
      "outputs": []
    },
    {
      "cell_type": "code",
      "source": [
        "def my_augmentation(prepro_dataset, lable, similarity_threshold=.75):\n",
        "  messages = prepro_dataset.loc[prepro_dataset['label'] == 1]['text'].values\n",
        "  new_messages = []\n",
        "  for msg in messages:\n",
        "    new_messages.extend(get_sentence_augmentations(msg, similarity_threshold))\n",
        "  augmentations = prepro_dataset[['text', 'label']].copy().append(pd.DataFrame({'label':[lable] * len(new_messages), 'text':new_messages}), ignore_index = True)\n",
        "  augmentations.drop_duplicates(inplace=True)\n",
        "  return augmentations.sample(frac=1)"
      ],
      "metadata": {
        "id": "lHVQUYtYQ_OZ"
      },
      "execution_count": null,
      "outputs": []
    },
    {
      "cell_type": "code",
      "source": [
        "# best .63\n",
        "augmented_dataset = my_augmentation(train_data, 1, .63)"
      ],
      "metadata": {
        "colab": {
          "base_uri": "https://localhost:8080/"
        },
        "id": "CDw9cIFagdZr",
        "outputId": "8c9b2a30-f428-4452-c557-71f19380d18c"
      },
      "execution_count": null,
      "outputs": [
        {
          "output_type": "stream",
          "name": "stderr",
          "text": [
            "<ipython-input-26-40c4bd8a10bc>:6: FutureWarning: The frame.append method is deprecated and will be removed from pandas in a future version. Use pandas.concat instead.\n",
            "  augmentations = prepro_dataset[['text', 'label']].copy().append(pd.DataFrame({'label':[lable] * len(new_messages), 'text':new_messages}), ignore_index = True)\n"
          ]
        }
      ]
    },
    {
      "cell_type": "code",
      "source": [
        "augmented_dataset"
      ],
      "metadata": {
        "colab": {
          "base_uri": "https://localhost:8080/",
          "height": 424
        },
        "id": "Y6h_fXcZgi4W",
        "outputId": "2beffce9-38dc-4df2-b55e-5fa56d0e3c63"
      },
      "execution_count": null,
      "outputs": [
        {
          "output_type": "execute_result",
          "data": {
            "text/plain": [
              "                                                   text  label\n",
              "1050  ask 3mobile 0870 chatlines inclu free mins ind...      1\n",
              "1913  dear voucher holder repast use following link ...      1\n",
              "435   work ah den 6 plus lor u workin oso rite den o...      0\n",
              "140                              didnt complete gist oh      0\n",
              "576                                             u today      0\n",
              "...                                                 ...    ...\n",
              "590   urgent trying contact u todays draw shows £200...      1\n",
              "182   friends help problems stupid suggestion lands ...      0\n",
              "724   word checkmate chess comes persian phrase shah...      0\n",
              "1499  £400 xmas reward waiting computer randomly pic...      1\n",
              "887                    ok set let u noe e details later      0\n",
              "\n",
              "[1918 rows x 2 columns]"
            ],
            "text/html": [
              "\n",
              "  <div id=\"df-99ea932a-9f76-4382-afb7-58c5d7356483\">\n",
              "    <div class=\"colab-df-container\">\n",
              "      <div>\n",
              "<style scoped>\n",
              "    .dataframe tbody tr th:only-of-type {\n",
              "        vertical-align: middle;\n",
              "    }\n",
              "\n",
              "    .dataframe tbody tr th {\n",
              "        vertical-align: top;\n",
              "    }\n",
              "\n",
              "    .dataframe thead th {\n",
              "        text-align: right;\n",
              "    }\n",
              "</style>\n",
              "<table border=\"1\" class=\"dataframe\">\n",
              "  <thead>\n",
              "    <tr style=\"text-align: right;\">\n",
              "      <th></th>\n",
              "      <th>text</th>\n",
              "      <th>label</th>\n",
              "    </tr>\n",
              "  </thead>\n",
              "  <tbody>\n",
              "    <tr>\n",
              "      <th>1050</th>\n",
              "      <td>ask 3mobile 0870 chatlines inclu free mins ind...</td>\n",
              "      <td>1</td>\n",
              "    </tr>\n",
              "    <tr>\n",
              "      <th>1913</th>\n",
              "      <td>dear voucher holder repast use following link ...</td>\n",
              "      <td>1</td>\n",
              "    </tr>\n",
              "    <tr>\n",
              "      <th>435</th>\n",
              "      <td>work ah den 6 plus lor u workin oso rite den o...</td>\n",
              "      <td>0</td>\n",
              "    </tr>\n",
              "    <tr>\n",
              "      <th>140</th>\n",
              "      <td>didnt complete gist oh</td>\n",
              "      <td>0</td>\n",
              "    </tr>\n",
              "    <tr>\n",
              "      <th>576</th>\n",
              "      <td>u today</td>\n",
              "      <td>0</td>\n",
              "    </tr>\n",
              "    <tr>\n",
              "      <th>...</th>\n",
              "      <td>...</td>\n",
              "      <td>...</td>\n",
              "    </tr>\n",
              "    <tr>\n",
              "      <th>590</th>\n",
              "      <td>urgent trying contact u todays draw shows £200...</td>\n",
              "      <td>1</td>\n",
              "    </tr>\n",
              "    <tr>\n",
              "      <th>182</th>\n",
              "      <td>friends help problems stupid suggestion lands ...</td>\n",
              "      <td>0</td>\n",
              "    </tr>\n",
              "    <tr>\n",
              "      <th>724</th>\n",
              "      <td>word checkmate chess comes persian phrase shah...</td>\n",
              "      <td>0</td>\n",
              "    </tr>\n",
              "    <tr>\n",
              "      <th>1499</th>\n",
              "      <td>£400 xmas reward waiting computer randomly pic...</td>\n",
              "      <td>1</td>\n",
              "    </tr>\n",
              "    <tr>\n",
              "      <th>887</th>\n",
              "      <td>ok set let u noe e details later</td>\n",
              "      <td>0</td>\n",
              "    </tr>\n",
              "  </tbody>\n",
              "</table>\n",
              "<p>1918 rows × 2 columns</p>\n",
              "</div>\n",
              "      <button class=\"colab-df-convert\" onclick=\"convertToInteractive('df-99ea932a-9f76-4382-afb7-58c5d7356483')\"\n",
              "              title=\"Convert this dataframe to an interactive table.\"\n",
              "              style=\"display:none;\">\n",
              "        \n",
              "  <svg xmlns=\"http://www.w3.org/2000/svg\" height=\"24px\"viewBox=\"0 0 24 24\"\n",
              "       width=\"24px\">\n",
              "    <path d=\"M0 0h24v24H0V0z\" fill=\"none\"/>\n",
              "    <path d=\"M18.56 5.44l.94 2.06.94-2.06 2.06-.94-2.06-.94-.94-2.06-.94 2.06-2.06.94zm-11 1L8.5 8.5l.94-2.06 2.06-.94-2.06-.94L8.5 2.5l-.94 2.06-2.06.94zm10 10l.94 2.06.94-2.06 2.06-.94-2.06-.94-.94-2.06-.94 2.06-2.06.94z\"/><path d=\"M17.41 7.96l-1.37-1.37c-.4-.4-.92-.59-1.43-.59-.52 0-1.04.2-1.43.59L10.3 9.45l-7.72 7.72c-.78.78-.78 2.05 0 2.83L4 21.41c.39.39.9.59 1.41.59.51 0 1.02-.2 1.41-.59l7.78-7.78 2.81-2.81c.8-.78.8-2.07 0-2.86zM5.41 20L4 18.59l7.72-7.72 1.47 1.35L5.41 20z\"/>\n",
              "  </svg>\n",
              "      </button>\n",
              "      \n",
              "  <style>\n",
              "    .colab-df-container {\n",
              "      display:flex;\n",
              "      flex-wrap:wrap;\n",
              "      gap: 12px;\n",
              "    }\n",
              "\n",
              "    .colab-df-convert {\n",
              "      background-color: #E8F0FE;\n",
              "      border: none;\n",
              "      border-radius: 50%;\n",
              "      cursor: pointer;\n",
              "      display: none;\n",
              "      fill: #1967D2;\n",
              "      height: 32px;\n",
              "      padding: 0 0 0 0;\n",
              "      width: 32px;\n",
              "    }\n",
              "\n",
              "    .colab-df-convert:hover {\n",
              "      background-color: #E2EBFA;\n",
              "      box-shadow: 0px 1px 2px rgba(60, 64, 67, 0.3), 0px 1px 3px 1px rgba(60, 64, 67, 0.15);\n",
              "      fill: #174EA6;\n",
              "    }\n",
              "\n",
              "    [theme=dark] .colab-df-convert {\n",
              "      background-color: #3B4455;\n",
              "      fill: #D2E3FC;\n",
              "    }\n",
              "\n",
              "    [theme=dark] .colab-df-convert:hover {\n",
              "      background-color: #434B5C;\n",
              "      box-shadow: 0px 1px 3px 1px rgba(0, 0, 0, 0.15);\n",
              "      filter: drop-shadow(0px 1px 2px rgba(0, 0, 0, 0.3));\n",
              "      fill: #FFFFFF;\n",
              "    }\n",
              "  </style>\n",
              "\n",
              "      <script>\n",
              "        const buttonEl =\n",
              "          document.querySelector('#df-99ea932a-9f76-4382-afb7-58c5d7356483 button.colab-df-convert');\n",
              "        buttonEl.style.display =\n",
              "          google.colab.kernel.accessAllowed ? 'block' : 'none';\n",
              "\n",
              "        async function convertToInteractive(key) {\n",
              "          const element = document.querySelector('#df-99ea932a-9f76-4382-afb7-58c5d7356483');\n",
              "          const dataTable =\n",
              "            await google.colab.kernel.invokeFunction('convertToInteractive',\n",
              "                                                     [key], {});\n",
              "          if (!dataTable) return;\n",
              "\n",
              "          const docLinkHtml = 'Like what you see? Visit the ' +\n",
              "            '<a target=\"_blank\" href=https://colab.research.google.com/notebooks/data_table.ipynb>data table notebook</a>'\n",
              "            + ' to learn more about interactive tables.';\n",
              "          element.innerHTML = '';\n",
              "          dataTable['output_type'] = 'display_data';\n",
              "          await google.colab.output.renderOutput(dataTable, element);\n",
              "          const docLink = document.createElement('div');\n",
              "          docLink.innerHTML = docLinkHtml;\n",
              "          element.appendChild(docLink);\n",
              "        }\n",
              "      </script>\n",
              "    </div>\n",
              "  </div>\n",
              "  "
            ]
          },
          "metadata": {},
          "execution_count": 52
        }
      ]
    },
    {
      "cell_type": "code",
      "source": [
        "get_dataset_statistics(augmented_dataset)"
      ],
      "metadata": {
        "colab": {
          "base_uri": "https://localhost:8080/",
          "height": 499
        },
        "id": "tswB4HG6gkGw",
        "outputId": "8a72e63d-842e-461a-afcb-26fe053e31b1"
      },
      "execution_count": null,
      "outputs": [
        {
          "output_type": "display_data",
          "data": {
            "text/plain": [
              "<Figure size 600x600 with 1 Axes>"
            ],
            "image/png": "[encoded data removed]"
          },
          "metadata": {}
        }
      ]
    },
    {
      "cell_type": "code",
      "source": [
        "aug_X_train = np.stack(np.array([get_text_vec(sms_text) for sms_text in augmented_dataset['text'].values]))"
      ],
      "metadata": {
        "colab": {
          "base_uri": "https://localhost:8080/"
        },
        "id": "z6OjdLOWq6Z0",
        "outputId": "7979f015-f482-4dc1-d31b-8fcfeaacfc85"
      },
      "execution_count": null,
      "outputs": [
        {
          "output_type": "stream",
          "name": "stderr",
          "text": [
            "/usr/local/lib/python3.9/dist-packages/numpy/core/fromnumeric.py:3474: RuntimeWarning: Mean of empty slice.\n",
            "  return _methods._mean(a, axis=axis, dtype=dtype,\n",
            "/usr/local/lib/python3.9/dist-packages/numpy/core/_methods.py:189: RuntimeWarning: invalid value encountered in double_scalars\n",
            "  ret = ret.dtype.type(ret / rcount)\n"
          ]
        }
      ]
    },
    {
      "cell_type": "code",
      "source": [
        "aug_X_train.shape"
      ],
      "metadata": {
        "colab": {
          "base_uri": "https://localhost:8080/"
        },
        "id": "usZBu8u-rE9n",
        "outputId": "f95c0e10-0b7c-4c3f-f395-7cb50f72edb3"
      },
      "execution_count": null,
      "outputs": [
        {
          "output_type": "execute_result",
          "data": {
            "text/plain": [
              "(1918, 300)"
            ]
          },
          "metadata": {},
          "execution_count": 55
        }
      ]
    },
    {
      "cell_type": "code",
      "source": [
        "aug_y_train = augmented_dataset['label'].values"
      ],
      "metadata": {
        "id": "PHcQ7GrirHP_"
      },
      "execution_count": null,
      "outputs": []
    },
    {
      "cell_type": "code",
      "source": [
        "aug_y_train.shape"
      ],
      "metadata": {
        "colab": {
          "base_uri": "https://localhost:8080/"
        },
        "id": "vZmx6w2Prn41",
        "outputId": "ec830974-04d0-4958-c5df-fec6f4e350e1"
      },
      "execution_count": null,
      "outputs": [
        {
          "output_type": "execute_result",
          "data": {
            "text/plain": [
              "(1918,)"
            ]
          },
          "metadata": {},
          "execution_count": 57
        }
      ]
    },
    {
      "cell_type": "code",
      "source": [
        "evaluation_metrics_aug = pd.DataFrame(columns = ['Recall', 'Precision', 'F1 score', 'F2 score', 'MCC'])"
      ],
      "metadata": {
        "id": "919LGjl_rYRr"
      },
      "execution_count": null,
      "outputs": []
    },
    {
      "cell_type": "markdown",
      "metadata": {
        "id": "s3_2Wm7JoooJ"
      },
      "source": [
        "## Random forest"
      ]
    },
    {
      "cell_type": "code",
      "source": [
        "train(1, aug_X_train, aug_y_train, X_test, y_test, evaluation_metrics_aug, to_save=True, file_name='TAMS_RF')"
      ],
      "metadata": {
        "colab": {
          "base_uri": "https://localhost:8080/",
          "height": 761
        },
        "id": "elZ3zl2XC3aD",
        "outputId": "b8e41d73-db9a-4e66-a672-3742ab4c6992"
      },
      "execution_count": null,
      "outputs": [
        {
          "output_type": "stream",
          "name": "stdout",
          "text": [
            "train accuracy = 0.9927007299270073\n",
            "test accuracy = 0.9032258064516129\n",
            "Recall = 0.8533333333333334\n",
            "Precision = 0.9846153846153847\n",
            "F1 score = 0.9142857142857143\n",
            "F2 score = 0.8767123287671234\n",
            "MCC = 0.8153648283313745\n",
            "              precision    recall  f1-score   support\n",
            "\n",
            "           0       0.81      0.98      0.89        49\n",
            "           1       0.98      0.85      0.91        75\n",
            "\n",
            "    accuracy                           0.90       124\n",
            "   macro avg       0.90      0.92      0.90       124\n",
            "weighted avg       0.92      0.90      0.90       124\n",
            "\n"
          ]
        },
        {
          "output_type": "display_data",
          "data": {
            "text/plain": [
              "<Figure size 640x480 with 2 Axes>"
            ],
            "image/png": "[encoded data removed]"
          },
          "metadata": {}
        },
        {
          "output_type": "stream",
          "name": "stdout",
          "text": [
            "{'criterion': 'entropy', 'max_depth': 7, 'max_features': 15, 'min_samples_split': 20, 'n_estimators': 30}\n"
          ]
        },
        {
          "output_type": "execute_result",
          "data": {
            "text/plain": [
              "(0.9142857142857143, 0.8767123287671234)"
            ]
          },
          "metadata": {},
          "execution_count": 63
        }
      ]
    },
    {
      "cell_type": "markdown",
      "source": [
        "# SVM"
      ],
      "metadata": {
        "id": "3H3ENdyba7B2"
      }
    },
    {
      "cell_type": "code",
      "source": [
        "train(2, aug_X_train, aug_y_train, X_test, y_test, evaluation_metrics_aug, to_save=True, file_name='TAMS_SVM')"
      ],
      "metadata": {
        "colab": {
          "base_uri": "https://localhost:8080/",
          "height": 761
        },
        "id": "v2N0ClI9FY3g",
        "outputId": "f97f8eaa-ef43-4952-b3cf-94b7e528ccf4"
      },
      "execution_count": null,
      "outputs": [
        {
          "output_type": "stream",
          "name": "stdout",
          "text": [
            "train accuracy = 0.997393117831074\n",
            "test accuracy = 0.9193548387096774\n",
            "Recall = 0.88\n",
            "Precision = 0.9850746268656716\n",
            "F1 score = 0.9295774647887323\n",
            "F2 score = 0.899182561307902\n",
            "MCC = 0.8432301470982638\n",
            "              precision    recall  f1-score   support\n",
            "\n",
            "           0       0.84      0.98      0.91        49\n",
            "           1       0.99      0.88      0.93        75\n",
            "\n",
            "    accuracy                           0.92       124\n",
            "   macro avg       0.91      0.93      0.92       124\n",
            "weighted avg       0.93      0.92      0.92       124\n",
            "\n"
          ]
        },
        {
          "output_type": "display_data",
          "data": {
            "text/plain": [
              "<Figure size 640x480 with 2 Axes>"
            ],
            "image/png": "[encoded data removed]"
          },
          "metadata": {}
        },
        {
          "output_type": "stream",
          "name": "stdout",
          "text": [
            "{'degree': 2, 'kernel': 'rbf'}\n"
          ]
        },
        {
          "output_type": "execute_result",
          "data": {
            "text/plain": [
              "(0.9295774647887323, 0.899182561307902)"
            ]
          },
          "metadata": {},
          "execution_count": 62
        }
      ]
    },
    {
      "cell_type": "markdown",
      "source": [
        "#BiLSTM"
      ],
      "metadata": {
        "id": "VDIYepVzkSIp"
      }
    },
    {
      "cell_type": "code",
      "source": [
        "import random\n",
        "import tensorflow as tf \n",
        "from tensorflow import keras \n",
        "from tensorflow.keras import layers\n",
        "from sklearn.metrics import ConfusionMatrixDisplay\n",
        "from tensorflow.keras.regularizers import L1L2\n",
        "from sklearn.model_selection import StratifiedKFold\n",
        "seed = 221\n",
        "random.seed(seed)\n",
        "np.random.seed(seed)\n",
        "tf.random.set_seed(seed)"
      ],
      "metadata": {
        "id": "_8rvD_Vb0WNg"
      },
      "execution_count": null,
      "outputs": []
    },
    {
      "cell_type": "code",
      "source": [
        "text_words_lengths = [len(raw_train_data.loc[i]['text'].split()) for i in raw_train_data.index ]\n",
        "total_length = np.sum(text_words_lengths)\n",
        "text_words_mean = int(np.mean(text_words_lengths))"
      ],
      "metadata": {
        "id": "Bxz8aaMf-NO_"
      },
      "execution_count": null,
      "outputs": []
    },
    {
      "cell_type": "code",
      "source": [
        "def create_blstm_model(sent_length, words_mean, train_texts):\n",
        "\n",
        "  text_vec = layers.TextVectorization( \n",
        "    max_tokens=sent_length,\n",
        "    standardize='lower_and_strip_punctuation',\n",
        "    output_mode='int',\n",
        "    output_sequence_length=words_mean\n",
        "  )\n",
        "\n",
        "  text_vec.adapt(train_texts)\n",
        "\n",
        "  embedding_layer = layers.Embedding(\n",
        "    input_dim=sent_length,\n",
        "    output_dim=128,\n",
        "    embeddings_initializer='uniform',\n",
        "    input_length=words_mean\n",
        "  )\n",
        "\n",
        "  input_layer = layers.Input(shape=(1,), dtype=tf.string) \n",
        "\n",
        "  vec_layer = text_vec(input_layer)\n",
        "  embedding_layer_model = embedding_layer(vec_layer) \n",
        "\n",
        "  bi_lstm = layers.Bidirectional(layers.LSTM(64, activation='relu', return_sequences=True, kernel_regularizer = L1L2(l1=0.01, l2=0.0)))(embedding_layer_model) \n",
        "\n",
        "  flatten = layers.Flatten()(bi_lstm) \n",
        "  dropout = layers.Dropout(.1)(flatten) \n",
        "\n",
        "  x = layers.Dense(32, activation='relu')(dropout) \n",
        "\n",
        "  output_layer = layers.Dense(1, activation='sigmoid')(x) \n",
        "\n",
        "  blstm_model = keras.Model(input_layer, output_layer) \n",
        "\n",
        "  blstm_model.compile(optimizer=keras.optimizers.Adam(),\n",
        "                loss=keras.losses.BinaryCrossentropy(),\n",
        "                metrics=['accuracy'])  \n",
        "  \n",
        "  return blstm_model"
      ],
      "metadata": {
        "id": "iy9xcyum0aJM"
      },
      "execution_count": null,
      "outputs": []
    },
    {
      "cell_type": "markdown",
      "source": [
        "# Cross Validation"
      ],
      "metadata": {
        "id": "KXlkMK9v8YIm"
      }
    },
    {
      "cell_type": "code",
      "source": [
        "def cv_blstm(sent_length, words_mean):\n",
        "\n",
        "  kf = StratifiedKFold(10, shuffle=True, random_state=42) \n",
        "  cv_metrics = pd.DataFrame(columns = ['Recall', 'Precision', 'F1 score', 'F2 score'])\n",
        "\n",
        "  fold = 0\n",
        "\n",
        "  X = augmented_dataset['text'].values\n",
        "  Y = augmented_dataset['label'].values\n",
        "\n",
        "  for train, val in kf.split(X, Y):  \n",
        "  \n",
        "    print(f\"Fold {fold}\")\n",
        "\n",
        "    train_texts = X[train]\n",
        "    train_labels = Y[train]\n",
        "    test_texts = X[val]\n",
        "    test_labels = Y[val]\n",
        "\n",
        "    blstm_model = create_blstm_model(sent_length, words_mean, train_texts)\n",
        "\n",
        "    history = blstm_model.fit(train_texts,\n",
        "                              train_labels,\n",
        "                              epochs=10,\n",
        "                              batch_size=16,\n",
        "                              validation_data=(test_texts, test_labels))\n",
        "\n",
        "    blstm_model.evaluate(test_texts, test_labels)\n",
        "    y_pred = np.round(blstm_model.predict(test_texts))\n",
        "\n",
        "    f1_sc = f1_score(test_labels, y_pred)\n",
        "    f2score = fbeta_score(test_labels, y_pred, beta=2, average='binary')\n",
        "\n",
        "    cv_metrics.loc[fold, 'Recall'] = recall_score(test_labels, y_pred)\n",
        "    cv_metrics.loc[fold, 'Precision'] = precision_score(test_labels, y_pred)\n",
        "    cv_metrics.loc[fold, 'F1 score'] = f1_sc\n",
        "    cv_metrics.loc[fold, 'F2 score'] = f2score\n",
        "    \n",
        "    fold += 1\n",
        "\n",
        "  return cv_metrics"
      ],
      "metadata": {
        "id": "Y2obm9_p8YbB"
      },
      "execution_count": null,
      "outputs": []
    },
    {
      "cell_type": "code",
      "source": [
        "cv_results = cv_blstm(total_length, text_words_mean)"
      ],
      "metadata": {
        "colab": {
          "base_uri": "https://localhost:8080/"
        },
        "id": "TA3kpClW8Yr1",
        "outputId": "eb619bd5-81ae-44ec-ee1d-5610ed15e226"
      },
      "execution_count": null,
      "outputs": [
        {
          "output_type": "stream",
          "name": "stdout",
          "text": [
            "Fold 0\n"
          ]
        },
        {
          "output_type": "stream",
          "name": "stderr",
          "text": [
            "WARNING:tensorflow:Layer lstm will not use cuDNN kernels since it doesn't meet the criteria. It will use a generic GPU kernel as fallback when running on GPU.\n",
            "WARNING:tensorflow:Layer lstm will not use cuDNN kernels since it doesn't meet the criteria. It will use a generic GPU kernel as fallback when running on GPU.\n",
            "WARNING:tensorflow:Layer lstm will not use cuDNN kernels since it doesn't meet the criteria. It will use a generic GPU kernel as fallback when running on GPU.\n"
          ]
        },
        {
          "output_type": "stream",
          "name": "stdout",
          "text": [
            "Epoch 1/10\n",
            "108/108 [==============================] - 25s 156ms/step - loss: 16.5000 - accuracy: 0.9276 - val_loss: 1.2168 - val_accuracy: 0.9844\n",
            "Epoch 2/10\n",
            "108/108 [==============================] - 8s 75ms/step - loss: 0.3623 - accuracy: 0.9936 - val_loss: 0.1825 - val_accuracy: 0.9844\n",
            "Epoch 3/10\n",
            "108/108 [==============================] - 7s 65ms/step - loss: 0.2165 - accuracy: 0.9954 - val_loss: 0.2788 - val_accuracy: 0.9844\n",
            "Epoch 4/10\n",
            "108/108 [==============================] - 7s 61ms/step - loss: 0.1256 - accuracy: 0.9994 - val_loss: 0.1393 - val_accuracy: 0.9844\n",
            "Epoch 5/10\n",
            "108/108 [==============================] - 6s 55ms/step - loss: 0.0891 - accuracy: 1.0000 - val_loss: 0.1323 - val_accuracy: 0.9844\n",
            "Epoch 6/10\n",
            "108/108 [==============================] - 7s 61ms/step - loss: 0.3023 - accuracy: 0.9965 - val_loss: 0.8455 - val_accuracy: 0.9740\n",
            "Epoch 7/10\n",
            "108/108 [==============================] - 6s 53ms/step - loss: 0.4082 - accuracy: 0.9965 - val_loss: 0.2647 - val_accuracy: 0.9844\n",
            "Epoch 8/10\n",
            "108/108 [==============================] - 6s 55ms/step - loss: 0.1758 - accuracy: 0.9994 - val_loss: 0.1818 - val_accuracy: 0.9896\n",
            "Epoch 9/10\n",
            "108/108 [==============================] - 6s 54ms/step - loss: 0.1274 - accuracy: 0.9994 - val_loss: 0.1641 - val_accuracy: 0.9844\n",
            "Epoch 10/10\n",
            "108/108 [==============================] - 6s 58ms/step - loss: 0.1026 - accuracy: 1.0000 - val_loss: 0.1355 - val_accuracy: 0.9896\n",
            "6/6 [==============================] - 0s 7ms/step - loss: 0.1355 - accuracy: 0.9896\n",
            "6/6 [==============================] - 1s 6ms/step\n",
            "Fold 1\n"
          ]
        },
        {
          "output_type": "stream",
          "name": "stderr",
          "text": [
            "WARNING:tensorflow:Layer lstm_1 will not use cuDNN kernels since it doesn't meet the criteria. It will use a generic GPU kernel as fallback when running on GPU.\n",
            "WARNING:tensorflow:Layer lstm_1 will not use cuDNN kernels since it doesn't meet the criteria. It will use a generic GPU kernel as fallback when running on GPU.\n",
            "WARNING:tensorflow:Layer lstm_1 will not use cuDNN kernels since it doesn't meet the criteria. It will use a generic GPU kernel as fallback when running on GPU.\n"
          ]
        },
        {
          "output_type": "stream",
          "name": "stdout",
          "text": [
            "Epoch 1/10\n",
            "108/108 [==============================] - 19s 139ms/step - loss: 16.4402 - accuracy: 0.9143 - val_loss: 1.1952 - val_accuracy: 0.9896\n",
            "Epoch 2/10\n",
            "108/108 [==============================] - 8s 74ms/step - loss: 0.4457 - accuracy: 0.9907 - val_loss: 0.3247 - val_accuracy: 0.9948\n",
            "Epoch 3/10\n",
            "108/108 [==============================] - 7s 60ms/step - loss: 0.1751 - accuracy: 0.9977 - val_loss: 0.1469 - val_accuracy: 0.9896\n",
            "Epoch 4/10\n",
            "108/108 [==============================] - 7s 63ms/step - loss: 0.1426 - accuracy: 0.9965 - val_loss: 0.3059 - val_accuracy: 0.9688\n",
            "Epoch 5/10\n",
            "108/108 [==============================] - 6s 55ms/step - loss: 0.1013 - accuracy: 0.9994 - val_loss: 0.1083 - val_accuracy: 0.9896\n",
            "Epoch 6/10\n",
            "108/108 [==============================] - 7s 61ms/step - loss: 0.0854 - accuracy: 1.0000 - val_loss: 0.1171 - val_accuracy: 0.9844\n",
            "Epoch 7/10\n",
            "108/108 [==============================] - 6s 53ms/step - loss: 0.0794 - accuracy: 1.0000 - val_loss: 0.0998 - val_accuracy: 0.9896\n",
            "Epoch 8/10\n",
            "108/108 [==============================] - 7s 62ms/step - loss: 0.7835 - accuracy: 0.9925 - val_loss: 0.4851 - val_accuracy: 0.9896\n",
            "Epoch 9/10\n",
            "108/108 [==============================] - 6s 54ms/step - loss: 0.3040 - accuracy: 0.9965 - val_loss: 0.2169 - val_accuracy: 0.9948\n",
            "Epoch 10/10\n",
            "108/108 [==============================] - 7s 62ms/step - loss: 0.1649 - accuracy: 0.9983 - val_loss: 0.1543 - val_accuracy: 0.9896\n",
            "6/6 [==============================] - 0s 8ms/step - loss: 0.1543 - accuracy: 0.9896\n",
            "6/6 [==============================] - 0s 7ms/step\n",
            "Fold 2\n"
          ]
        },
        {
          "output_type": "stream",
          "name": "stderr",
          "text": [
            "WARNING:tensorflow:Layer lstm_2 will not use cuDNN kernels since it doesn't meet the criteria. It will use a generic GPU kernel as fallback when running on GPU.\n",
            "WARNING:tensorflow:Layer lstm_2 will not use cuDNN kernels since it doesn't meet the criteria. It will use a generic GPU kernel as fallback when running on GPU.\n",
            "WARNING:tensorflow:Layer lstm_2 will not use cuDNN kernels since it doesn't meet the criteria. It will use a generic GPU kernel as fallback when running on GPU.\n"
          ]
        },
        {
          "output_type": "stream",
          "name": "stdout",
          "text": [
            "Epoch 1/10\n",
            "108/108 [==============================] - 17s 122ms/step - loss: 16.4380 - accuracy: 0.9276 - val_loss: 1.1618 - val_accuracy: 1.0000\n",
            "Epoch 2/10\n",
            "108/108 [==============================] - 9s 81ms/step - loss: 0.3106 - accuracy: 0.9902 - val_loss: 0.1893 - val_accuracy: 1.0000\n",
            "Epoch 3/10\n",
            "108/108 [==============================] - 7s 61ms/step - loss: 0.2113 - accuracy: 0.9942 - val_loss: 0.5160 - val_accuracy: 0.9688\n",
            "Epoch 4/10\n",
            "108/108 [==============================] - 7s 65ms/step - loss: 0.2044 - accuracy: 0.9959 - val_loss: 0.1103 - val_accuracy: 1.0000\n",
            "Epoch 5/10\n",
            "108/108 [==============================] - 7s 61ms/step - loss: 0.1325 - accuracy: 0.9971 - val_loss: 0.1861 - val_accuracy: 1.0000\n",
            "Epoch 6/10\n",
            "108/108 [==============================] - 7s 62ms/step - loss: 0.1250 - accuracy: 0.9983 - val_loss: 0.3983 - val_accuracy: 0.9896\n",
            "Epoch 7/10\n",
            "108/108 [==============================] - 6s 53ms/step - loss: 0.1930 - accuracy: 0.9983 - val_loss: 0.0885 - val_accuracy: 1.0000\n",
            "Epoch 8/10\n",
            "108/108 [==============================] - 6s 60ms/step - loss: 0.0878 - accuracy: 1.0000 - val_loss: 0.0839 - val_accuracy: 1.0000\n",
            "Epoch 9/10\n",
            "108/108 [==============================] - 6s 53ms/step - loss: 0.4285 - accuracy: 0.9959 - val_loss: 0.6022 - val_accuracy: 1.0000\n",
            "Epoch 10/10\n",
            "108/108 [==============================] - 6s 58ms/step - loss: 0.3071 - accuracy: 0.9977 - val_loss: 0.1762 - val_accuracy: 0.9948\n",
            "6/6 [==============================] - 0s 7ms/step - loss: 0.1762 - accuracy: 0.9948\n",
            "6/6 [==============================] - 0s 6ms/step\n",
            "Fold 3\n"
          ]
        },
        {
          "output_type": "stream",
          "name": "stderr",
          "text": [
            "WARNING:tensorflow:Layer lstm_3 will not use cuDNN kernels since it doesn't meet the criteria. It will use a generic GPU kernel as fallback when running on GPU.\n",
            "WARNING:tensorflow:Layer lstm_3 will not use cuDNN kernels since it doesn't meet the criteria. It will use a generic GPU kernel as fallback when running on GPU.\n",
            "WARNING:tensorflow:Layer lstm_3 will not use cuDNN kernels since it doesn't meet the criteria. It will use a generic GPU kernel as fallback when running on GPU.\n"
          ]
        },
        {
          "output_type": "stream",
          "name": "stdout",
          "text": [
            "Epoch 1/10\n",
            "108/108 [==============================] - 18s 128ms/step - loss: 16.3701 - accuracy: 0.9114 - val_loss: 1.2769 - val_accuracy: 0.9375\n",
            "Epoch 2/10\n",
            "108/108 [==============================] - 7s 68ms/step - loss: 0.3296 - accuracy: 0.9867 - val_loss: 0.1885 - val_accuracy: 0.9896\n",
            "Epoch 3/10\n",
            "108/108 [==============================] - 6s 57ms/step - loss: 0.1731 - accuracy: 0.9959 - val_loss: 0.1672 - val_accuracy: 0.9844\n",
            "Epoch 4/10\n",
            "108/108 [==============================] - 7s 62ms/step - loss: 0.5199 - accuracy: 0.9902 - val_loss: 0.4287 - val_accuracy: 0.9792\n",
            "Epoch 5/10\n",
            "108/108 [==============================] - 6s 55ms/step - loss: 0.2258 - accuracy: 0.9983 - val_loss: 0.1500 - val_accuracy: 1.0000\n",
            "Epoch 6/10\n",
            "108/108 [==============================] - 7s 61ms/step - loss: 0.1148 - accuracy: 1.0000 - val_loss: 0.1067 - val_accuracy: 1.0000\n",
            "Epoch 7/10\n",
            "108/108 [==============================] - 6s 55ms/step - loss: 0.0909 - accuracy: 1.0000 - val_loss: 0.0951 - val_accuracy: 1.0000\n",
            "Epoch 8/10\n",
            "108/108 [==============================] - 6s 54ms/step - loss: 0.0833 - accuracy: 1.0000 - val_loss: 0.0937 - val_accuracy: 0.9948\n",
            "Epoch 9/10\n",
            "108/108 [==============================] - 6s 53ms/step - loss: 0.0794 - accuracy: 1.0000 - val_loss: 0.0837 - val_accuracy: 1.0000\n",
            "Epoch 10/10\n",
            "108/108 [==============================] - 6s 54ms/step - loss: 0.0771 - accuracy: 1.0000 - val_loss: 0.0828 - val_accuracy: 1.0000\n",
            "6/6 [==============================] - 0s 9ms/step - loss: 0.0828 - accuracy: 1.0000\n",
            "6/6 [==============================] - 0s 8ms/step\n",
            "Fold 4\n"
          ]
        },
        {
          "output_type": "stream",
          "name": "stderr",
          "text": [
            "WARNING:tensorflow:Layer lstm_4 will not use cuDNN kernels since it doesn't meet the criteria. It will use a generic GPU kernel as fallback when running on GPU.\n",
            "WARNING:tensorflow:Layer lstm_4 will not use cuDNN kernels since it doesn't meet the criteria. It will use a generic GPU kernel as fallback when running on GPU.\n",
            "WARNING:tensorflow:Layer lstm_4 will not use cuDNN kernels since it doesn't meet the criteria. It will use a generic GPU kernel as fallback when running on GPU.\n"
          ]
        },
        {
          "output_type": "stream",
          "name": "stdout",
          "text": [
            "Epoch 1/10\n",
            "108/108 [==============================] - 18s 134ms/step - loss: 16.3453 - accuracy: 0.9166 - val_loss: 1.2262 - val_accuracy: 0.9740\n",
            "Epoch 2/10\n",
            "108/108 [==============================] - 7s 64ms/step - loss: 0.3186 - accuracy: 0.9896 - val_loss: 0.1782 - val_accuracy: 0.9948\n",
            "Epoch 3/10\n",
            "108/108 [==============================] - 7s 65ms/step - loss: 0.1623 - accuracy: 0.9942 - val_loss: 0.1421 - val_accuracy: 0.9948\n",
            "Epoch 4/10\n",
            "108/108 [==============================] - 6s 59ms/step - loss: 0.1326 - accuracy: 0.9983 - val_loss: 0.1465 - val_accuracy: 0.9948\n",
            "Epoch 5/10\n",
            "108/108 [==============================] - 6s 54ms/step - loss: 0.1333 - accuracy: 0.9977 - val_loss: 0.1162 - val_accuracy: 0.9896\n",
            "Epoch 6/10\n",
            "108/108 [==============================] - 7s 64ms/step - loss: 0.1286 - accuracy: 0.9948 - val_loss: 0.7901 - val_accuracy: 0.9792\n",
            "Epoch 7/10\n",
            "108/108 [==============================] - 6s 54ms/step - loss: 0.7228 - accuracy: 0.9959 - val_loss: 0.4889 - val_accuracy: 0.9740\n",
            "Epoch 8/10\n",
            "108/108 [==============================] - 6s 55ms/step - loss: 0.2808 - accuracy: 0.9977 - val_loss: 0.2623 - val_accuracy: 0.9740\n",
            "Epoch 9/10\n",
            "108/108 [==============================] - 6s 57ms/step - loss: 0.1672 - accuracy: 0.9988 - val_loss: 0.2014 - val_accuracy: 0.9792\n",
            "Epoch 10/10\n",
            "108/108 [==============================] - 5s 50ms/step - loss: 0.1299 - accuracy: 0.9994 - val_loss: 0.1867 - val_accuracy: 0.9740\n",
            "6/6 [==============================] - 0s 10ms/step - loss: 0.1867 - accuracy: 0.9740\n",
            "6/6 [==============================] - 0s 7ms/step\n",
            "Fold 5\n"
          ]
        },
        {
          "output_type": "stream",
          "name": "stderr",
          "text": [
            "WARNING:tensorflow:Layer lstm_5 will not use cuDNN kernels since it doesn't meet the criteria. It will use a generic GPU kernel as fallback when running on GPU.\n",
            "WARNING:tensorflow:Layer lstm_5 will not use cuDNN kernels since it doesn't meet the criteria. It will use a generic GPU kernel as fallback when running on GPU.\n",
            "WARNING:tensorflow:Layer lstm_5 will not use cuDNN kernels since it doesn't meet the criteria. It will use a generic GPU kernel as fallback when running on GPU.\n"
          ]
        },
        {
          "output_type": "stream",
          "name": "stdout",
          "text": [
            "Epoch 1/10\n",
            "108/108 [==============================] - 17s 117ms/step - loss: 16.4965 - accuracy: 0.9287 - val_loss: 1.3436 - val_accuracy: 0.9948\n",
            "Epoch 2/10\n",
            "108/108 [==============================] - 7s 69ms/step - loss: 0.3642 - accuracy: 0.9884 - val_loss: 0.3021 - val_accuracy: 1.0000\n",
            "Epoch 3/10\n",
            "108/108 [==============================] - 7s 67ms/step - loss: 0.1473 - accuracy: 0.9977 - val_loss: 0.1277 - val_accuracy: 1.0000\n",
            "Epoch 4/10\n",
            "108/108 [==============================] - 6s 59ms/step - loss: 0.1299 - accuracy: 0.9971 - val_loss: 0.5469 - val_accuracy: 1.0000\n",
            "Epoch 5/10\n",
            "108/108 [==============================] - 6s 58ms/step - loss: 0.2674 - accuracy: 0.9977 - val_loss: 0.1285 - val_accuracy: 0.9948\n",
            "Epoch 6/10\n",
            "108/108 [==============================] - 6s 56ms/step - loss: 0.0909 - accuracy: 1.0000 - val_loss: 0.0884 - val_accuracy: 1.0000\n",
            "Epoch 7/10\n",
            "108/108 [==============================] - 6s 55ms/step - loss: 0.0854 - accuracy: 1.0000 - val_loss: 0.1058 - val_accuracy: 0.9948\n",
            "Epoch 8/10\n",
            "108/108 [==============================] - 6s 54ms/step - loss: 0.1407 - accuracy: 0.9983 - val_loss: 0.4312 - val_accuracy: 0.9740\n",
            "Epoch 9/10\n",
            "108/108 [==============================] - 6s 59ms/step - loss: 0.1682 - accuracy: 0.9977 - val_loss: 0.1170 - val_accuracy: 1.0000\n",
            "Epoch 10/10\n",
            "108/108 [==============================] - 6s 56ms/step - loss: 0.0861 - accuracy: 1.0000 - val_loss: 0.0857 - val_accuracy: 1.0000\n",
            "6/6 [==============================] - 0s 8ms/step - loss: 0.0857 - accuracy: 1.0000\n",
            "6/6 [==============================] - 0s 8ms/step\n",
            "Fold 6\n"
          ]
        },
        {
          "output_type": "stream",
          "name": "stderr",
          "text": [
            "WARNING:tensorflow:Layer lstm_6 will not use cuDNN kernels since it doesn't meet the criteria. It will use a generic GPU kernel as fallback when running on GPU.\n",
            "WARNING:tensorflow:Layer lstm_6 will not use cuDNN kernels since it doesn't meet the criteria. It will use a generic GPU kernel as fallback when running on GPU.\n",
            "WARNING:tensorflow:Layer lstm_6 will not use cuDNN kernels since it doesn't meet the criteria. It will use a generic GPU kernel as fallback when running on GPU.\n"
          ]
        },
        {
          "output_type": "stream",
          "name": "stdout",
          "text": [
            "Epoch 1/10\n",
            "108/108 [==============================] - 17s 126ms/step - loss: 16.3717 - accuracy: 0.9340 - val_loss: 1.1978 - val_accuracy: 0.9896\n",
            "Epoch 2/10\n",
            "108/108 [==============================] - 7s 62ms/step - loss: 0.3543 - accuracy: 0.9930 - val_loss: 0.1341 - val_accuracy: 0.9948\n",
            "Epoch 3/10\n",
            "108/108 [==============================] - 7s 64ms/step - loss: 0.1941 - accuracy: 0.9942 - val_loss: 0.2397 - val_accuracy: 0.9948\n",
            "Epoch 4/10\n",
            "108/108 [==============================] - 6s 52ms/step - loss: 0.1319 - accuracy: 0.9977 - val_loss: 0.2509 - val_accuracy: 0.9844\n",
            "Epoch 5/10\n",
            "108/108 [==============================] - 7s 64ms/step - loss: 0.1708 - accuracy: 0.9965 - val_loss: 0.1167 - val_accuracy: 1.0000\n",
            "Epoch 6/10\n",
            "108/108 [==============================] - 6s 53ms/step - loss: 0.1336 - accuracy: 0.9983 - val_loss: 0.2265 - val_accuracy: 0.9792\n",
            "Epoch 7/10\n",
            "108/108 [==============================] - 7s 61ms/step - loss: 0.1025 - accuracy: 0.9994 - val_loss: 0.0880 - val_accuracy: 0.9948\n",
            "Epoch 8/10\n",
            "108/108 [==============================] - 6s 51ms/step - loss: 0.0876 - accuracy: 1.0000 - val_loss: 0.1139 - val_accuracy: 0.9844\n",
            "Epoch 9/10\n",
            "108/108 [==============================] - 6s 56ms/step - loss: 0.1584 - accuracy: 0.9983 - val_loss: 0.0928 - val_accuracy: 1.0000\n",
            "Epoch 10/10\n",
            "108/108 [==============================] - 6s 53ms/step - loss: 0.0785 - accuracy: 1.0000 - val_loss: 0.0843 - val_accuracy: 1.0000\n",
            "6/6 [==============================] - 0s 7ms/step - loss: 0.0843 - accuracy: 1.0000\n",
            "6/6 [==============================] - 0s 6ms/step\n",
            "Fold 7\n"
          ]
        },
        {
          "output_type": "stream",
          "name": "stderr",
          "text": [
            "WARNING:tensorflow:Layer lstm_7 will not use cuDNN kernels since it doesn't meet the criteria. It will use a generic GPU kernel as fallback when running on GPU.\n",
            "WARNING:tensorflow:Layer lstm_7 will not use cuDNN kernels since it doesn't meet the criteria. It will use a generic GPU kernel as fallback when running on GPU.\n",
            "WARNING:tensorflow:Layer lstm_7 will not use cuDNN kernels since it doesn't meet the criteria. It will use a generic GPU kernel as fallback when running on GPU.\n"
          ]
        },
        {
          "output_type": "stream",
          "name": "stdout",
          "text": [
            "Epoch 1/10\n",
            "108/108 [==============================] - 17s 121ms/step - loss: 16.4530 - accuracy: 0.9426 - val_loss: 1.2001 - val_accuracy: 0.9948\n",
            "Epoch 2/10\n",
            "108/108 [==============================] - 7s 69ms/step - loss: 0.3144 - accuracy: 0.9902 - val_loss: 0.1860 - val_accuracy: 0.9948\n",
            "Epoch 3/10\n",
            "108/108 [==============================] - 7s 67ms/step - loss: 0.1689 - accuracy: 0.9959 - val_loss: 0.1195 - val_accuracy: 0.9948\n",
            "Epoch 4/10\n",
            "108/108 [==============================] - 7s 61ms/step - loss: 0.1692 - accuracy: 0.9965 - val_loss: 0.1506 - val_accuracy: 0.9844\n",
            "Epoch 5/10\n",
            "108/108 [==============================] - 6s 58ms/step - loss: 0.1171 - accuracy: 0.9988 - val_loss: 0.1000 - val_accuracy: 0.9948\n",
            "Epoch 6/10\n",
            "108/108 [==============================] - 6s 54ms/step - loss: 0.1345 - accuracy: 0.9994 - val_loss: 0.1315 - val_accuracy: 0.9948\n",
            "Epoch 7/10\n",
            "108/108 [==============================] - 6s 53ms/step - loss: 0.0969 - accuracy: 1.0000 - val_loss: 0.1045 - val_accuracy: 1.0000\n",
            "Epoch 8/10\n",
            "108/108 [==============================] - 6s 51ms/step - loss: 0.2050 - accuracy: 0.9988 - val_loss: 1.1552 - val_accuracy: 0.9740\n",
            "Epoch 9/10\n",
            "108/108 [==============================] - 6s 56ms/step - loss: 0.2161 - accuracy: 0.9988 - val_loss: 0.1054 - val_accuracy: 0.9948\n",
            "Epoch 10/10\n",
            "108/108 [==============================] - 6s 54ms/step - loss: 0.0819 - accuracy: 1.0000 - val_loss: 0.0903 - val_accuracy: 0.9948\n",
            "6/6 [==============================] - 0s 8ms/step - loss: 0.0903 - accuracy: 0.9948\n",
            "6/6 [==============================] - 0s 6ms/step\n",
            "Fold 8\n"
          ]
        },
        {
          "output_type": "stream",
          "name": "stderr",
          "text": [
            "WARNING:tensorflow:Layer lstm_8 will not use cuDNN kernels since it doesn't meet the criteria. It will use a generic GPU kernel as fallback when running on GPU.\n",
            "WARNING:tensorflow:Layer lstm_8 will not use cuDNN kernels since it doesn't meet the criteria. It will use a generic GPU kernel as fallback when running on GPU.\n",
            "WARNING:tensorflow:Layer lstm_8 will not use cuDNN kernels since it doesn't meet the criteria. It will use a generic GPU kernel as fallback when running on GPU.\n"
          ]
        },
        {
          "output_type": "stream",
          "name": "stdout",
          "text": [
            "Epoch 1/10\n",
            "108/108 [==============================] - 16s 119ms/step - loss: 16.4489 - accuracy: 0.9230 - val_loss: 1.1683 - val_accuracy: 1.0000\n",
            "Epoch 2/10\n",
            "108/108 [==============================] - 8s 76ms/step - loss: 0.2889 - accuracy: 0.9925 - val_loss: 0.1754 - val_accuracy: 0.9895\n",
            "Epoch 3/10\n",
            "108/108 [==============================] - 7s 61ms/step - loss: 0.1904 - accuracy: 0.9942 - val_loss: 0.4091 - val_accuracy: 1.0000\n",
            "Epoch 4/10\n",
            "108/108 [==============================] - 6s 60ms/step - loss: 0.1781 - accuracy: 0.9983 - val_loss: 0.1192 - val_accuracy: 1.0000\n",
            "Epoch 5/10\n",
            "108/108 [==============================] - 5s 50ms/step - loss: 0.1562 - accuracy: 0.9965 - val_loss: 0.3016 - val_accuracy: 1.0000\n",
            "Epoch 6/10\n",
            "108/108 [==============================] - 6s 59ms/step - loss: 0.1351 - accuracy: 0.9994 - val_loss: 0.0901 - val_accuracy: 1.0000\n",
            "Epoch 7/10\n",
            "108/108 [==============================] - 6s 54ms/step - loss: 0.2516 - accuracy: 0.9971 - val_loss: 0.2113 - val_accuracy: 1.0000\n",
            "Epoch 8/10\n",
            "108/108 [==============================] - 6s 58ms/step - loss: 0.1266 - accuracy: 0.9994 - val_loss: 0.0954 - val_accuracy: 1.0000\n",
            "Epoch 9/10\n",
            "108/108 [==============================] - 5s 50ms/step - loss: 0.0898 - accuracy: 0.9994 - val_loss: 0.0870 - val_accuracy: 1.0000\n",
            "Epoch 10/10\n",
            "108/108 [==============================] - 6s 56ms/step - loss: 0.0808 - accuracy: 1.0000 - val_loss: 0.0814 - val_accuracy: 1.0000\n",
            "6/6 [==============================] - 0s 7ms/step - loss: 0.0814 - accuracy: 1.0000\n",
            "6/6 [==============================] - 0s 6ms/step\n",
            "Fold 9\n"
          ]
        },
        {
          "output_type": "stream",
          "name": "stderr",
          "text": [
            "WARNING:tensorflow:Layer lstm_9 will not use cuDNN kernels since it doesn't meet the criteria. It will use a generic GPU kernel as fallback when running on GPU.\n",
            "WARNING:tensorflow:Layer lstm_9 will not use cuDNN kernels since it doesn't meet the criteria. It will use a generic GPU kernel as fallback when running on GPU.\n",
            "WARNING:tensorflow:Layer lstm_9 will not use cuDNN kernels since it doesn't meet the criteria. It will use a generic GPU kernel as fallback when running on GPU.\n"
          ]
        },
        {
          "output_type": "stream",
          "name": "stdout",
          "text": [
            "Epoch 1/10\n",
            "108/108 [==============================] - 17s 124ms/step - loss: 16.4786 - accuracy: 0.9357 - val_loss: 1.2195 - val_accuracy: 0.9895\n",
            "Epoch 2/10\n",
            "108/108 [==============================] - 8s 73ms/step - loss: 0.3190 - accuracy: 0.9902 - val_loss: 0.1865 - val_accuracy: 0.9895\n",
            "Epoch 3/10\n",
            "108/108 [==============================] - 6s 58ms/step - loss: 0.1538 - accuracy: 0.9959 - val_loss: 0.7759 - val_accuracy: 0.9791\n",
            "Epoch 4/10\n",
            "108/108 [==============================] - 7s 63ms/step - loss: 0.1701 - accuracy: 0.9971 - val_loss: 0.4028 - val_accuracy: 0.9843\n",
            "Epoch 5/10\n",
            "108/108 [==============================] - 6s 56ms/step - loss: 0.1251 - accuracy: 0.9988 - val_loss: 0.1784 - val_accuracy: 0.9843\n",
            "Epoch 6/10\n",
            "108/108 [==============================] - 6s 59ms/step - loss: 0.1867 - accuracy: 0.9954 - val_loss: 0.1801 - val_accuracy: 0.9843\n",
            "Epoch 7/10\n",
            "108/108 [==============================] - 5s 50ms/step - loss: 0.1377 - accuracy: 0.9983 - val_loss: 0.6832 - val_accuracy: 0.9686\n",
            "Epoch 8/10\n",
            "108/108 [==============================] - 6s 53ms/step - loss: 0.1171 - accuracy: 0.9983 - val_loss: 0.0998 - val_accuracy: 0.9895\n",
            "Epoch 9/10\n",
            "108/108 [==============================] - 6s 54ms/step - loss: 0.0810 - accuracy: 1.0000 - val_loss: 0.0932 - val_accuracy: 0.9843\n",
            "Epoch 10/10\n",
            "108/108 [==============================] - 6s 52ms/step - loss: 0.1693 - accuracy: 0.9983 - val_loss: 0.1844 - val_accuracy: 0.9895\n",
            "6/6 [==============================] - 0s 7ms/step - loss: 0.1844 - accuracy: 0.9895\n",
            "6/6 [==============================] - 1s 8ms/step\n"
          ]
        }
      ]
    },
    {
      "cell_type": "code",
      "source": [
        "cv_results"
      ],
      "metadata": {
        "id": "s9sC581H8Y9a",
        "colab": {
          "base_uri": "https://localhost:8080/",
          "height": 363
        },
        "outputId": "341b3020-2789-4225-ca25-c4a765b14f67"
      },
      "execution_count": null,
      "outputs": [
        {
          "output_type": "execute_result",
          "data": {
            "text/plain": [
              "     Recall Precision  F1 score  F2 score\n",
              "0  0.981818       1.0  0.990826  0.985401\n",
              "1  0.981818       1.0  0.990826  0.985401\n",
              "2  0.990909       1.0  0.995434  0.992714\n",
              "3       1.0       1.0       1.0       1.0\n",
              "4  0.954545       1.0  0.976744  0.963303\n",
              "5       1.0       1.0       1.0       1.0\n",
              "6       1.0       1.0       1.0       1.0\n",
              "7       1.0  0.990909  0.995434  0.998168\n",
              "8       1.0       1.0       1.0       1.0\n",
              "9       1.0  0.981982  0.990909  0.996344"
            ],
            "text/html": [
              "\n",
              "  <div id=\"df-e62bb634-476d-49fe-9508-5d7fd14d91bb\">\n",
              "    <div class=\"colab-df-container\">\n",
              "      <div>\n",
              "<style scoped>\n",
              "    .dataframe tbody tr th:only-of-type {\n",
              "        vertical-align: middle;\n",
              "    }\n",
              "\n",
              "    .dataframe tbody tr th {\n",
              "        vertical-align: top;\n",
              "    }\n",
              "\n",
              "    .dataframe thead th {\n",
              "        text-align: right;\n",
              "    }\n",
              "</style>\n",
              "<table border=\"1\" class=\"dataframe\">\n",
              "  <thead>\n",
              "    <tr style=\"text-align: right;\">\n",
              "      <th></th>\n",
              "      <th>Recall</th>\n",
              "      <th>Precision</th>\n",
              "      <th>F1 score</th>\n",
              "      <th>F2 score</th>\n",
              "    </tr>\n",
              "  </thead>\n",
              "  <tbody>\n",
              "    <tr>\n",
              "      <th>0</th>\n",
              "      <td>0.981818</td>\n",
              "      <td>1.0</td>\n",
              "      <td>0.990826</td>\n",
              "      <td>0.985401</td>\n",
              "    </tr>\n",
              "    <tr>\n",
              "      <th>1</th>\n",
              "      <td>0.981818</td>\n",
              "      <td>1.0</td>\n",
              "      <td>0.990826</td>\n",
              "      <td>0.985401</td>\n",
              "    </tr>\n",
              "    <tr>\n",
              "      <th>2</th>\n",
              "      <td>0.990909</td>\n",
              "      <td>1.0</td>\n",
              "      <td>0.995434</td>\n",
              "      <td>0.992714</td>\n",
              "    </tr>\n",
              "    <tr>\n",
              "      <th>3</th>\n",
              "      <td>1.0</td>\n",
              "      <td>1.0</td>\n",
              "      <td>1.0</td>\n",
              "      <td>1.0</td>\n",
              "    </tr>\n",
              "    <tr>\n",
              "      <th>4</th>\n",
              "      <td>0.954545</td>\n",
              "      <td>1.0</td>\n",
              "      <td>0.976744</td>\n",
              "      <td>0.963303</td>\n",
              "    </tr>\n",
              "    <tr>\n",
              "      <th>5</th>\n",
              "      <td>1.0</td>\n",
              "      <td>1.0</td>\n",
              "      <td>1.0</td>\n",
              "      <td>1.0</td>\n",
              "    </tr>\n",
              "    <tr>\n",
              "      <th>6</th>\n",
              "      <td>1.0</td>\n",
              "      <td>1.0</td>\n",
              "      <td>1.0</td>\n",
              "      <td>1.0</td>\n",
              "    </tr>\n",
              "    <tr>\n",
              "      <th>7</th>\n",
              "      <td>1.0</td>\n",
              "      <td>0.990909</td>\n",
              "      <td>0.995434</td>\n",
              "      <td>0.998168</td>\n",
              "    </tr>\n",
              "    <tr>\n",
              "      <th>8</th>\n",
              "      <td>1.0</td>\n",
              "      <td>1.0</td>\n",
              "      <td>1.0</td>\n",
              "      <td>1.0</td>\n",
              "    </tr>\n",
              "    <tr>\n",
              "      <th>9</th>\n",
              "      <td>1.0</td>\n",
              "      <td>0.981982</td>\n",
              "      <td>0.990909</td>\n",
              "      <td>0.996344</td>\n",
              "    </tr>\n",
              "  </tbody>\n",
              "</table>\n",
              "</div>\n",
              "      <button class=\"colab-df-convert\" onclick=\"convertToInteractive('df-e62bb634-476d-49fe-9508-5d7fd14d91bb')\"\n",
              "              title=\"Convert this dataframe to an interactive table.\"\n",
              "              style=\"display:none;\">\n",
              "        \n",
              "  <svg xmlns=\"http://www.w3.org/2000/svg\" height=\"24px\"viewBox=\"0 0 24 24\"\n",
              "       width=\"24px\">\n",
              "    <path d=\"M0 0h24v24H0V0z\" fill=\"none\"/>\n",
              "    <path d=\"M18.56 5.44l.94 2.06.94-2.06 2.06-.94-2.06-.94-.94-2.06-.94 2.06-2.06.94zm-11 1L8.5 8.5l.94-2.06 2.06-.94-2.06-.94L8.5 2.5l-.94 2.06-2.06.94zm10 10l.94 2.06.94-2.06 2.06-.94-2.06-.94-.94-2.06-.94 2.06-2.06.94z\"/><path d=\"M17.41 7.96l-1.37-1.37c-.4-.4-.92-.59-1.43-.59-.52 0-1.04.2-1.43.59L10.3 9.45l-7.72 7.72c-.78.78-.78 2.05 0 2.83L4 21.41c.39.39.9.59 1.41.59.51 0 1.02-.2 1.41-.59l7.78-7.78 2.81-2.81c.8-.78.8-2.07 0-2.86zM5.41 20L4 18.59l7.72-7.72 1.47 1.35L5.41 20z\"/>\n",
              "  </svg>\n",
              "      </button>\n",
              "      \n",
              "  <style>\n",
              "    .colab-df-container {\n",
              "      display:flex;\n",
              "      flex-wrap:wrap;\n",
              "      gap: 12px;\n",
              "    }\n",
              "\n",
              "    .colab-df-convert {\n",
              "      background-color: #E8F0FE;\n",
              "      border: none;\n",
              "      border-radius: 50%;\n",
              "      cursor: pointer;\n",
              "      display: none;\n",
              "      fill: #1967D2;\n",
              "      height: 32px;\n",
              "      padding: 0 0 0 0;\n",
              "      width: 32px;\n",
              "    }\n",
              "\n",
              "    .colab-df-convert:hover {\n",
              "      background-color: #E2EBFA;\n",
              "      box-shadow: 0px 1px 2px rgba(60, 64, 67, 0.3), 0px 1px 3px 1px rgba(60, 64, 67, 0.15);\n",
              "      fill: #174EA6;\n",
              "    }\n",
              "\n",
              "    [theme=dark] .colab-df-convert {\n",
              "      background-color: #3B4455;\n",
              "      fill: #D2E3FC;\n",
              "    }\n",
              "\n",
              "    [theme=dark] .colab-df-convert:hover {\n",
              "      background-color: #434B5C;\n",
              "      box-shadow: 0px 1px 3px 1px rgba(0, 0, 0, 0.15);\n",
              "      filter: drop-shadow(0px 1px 2px rgba(0, 0, 0, 0.3));\n",
              "      fill: #FFFFFF;\n",
              "    }\n",
              "  </style>\n",
              "\n",
              "      <script>\n",
              "        const buttonEl =\n",
              "          document.querySelector('#df-e62bb634-476d-49fe-9508-5d7fd14d91bb button.colab-df-convert');\n",
              "        buttonEl.style.display =\n",
              "          google.colab.kernel.accessAllowed ? 'block' : 'none';\n",
              "\n",
              "        async function convertToInteractive(key) {\n",
              "          const element = document.querySelector('#df-e62bb634-476d-49fe-9508-5d7fd14d91bb');\n",
              "          const dataTable =\n",
              "            await google.colab.kernel.invokeFunction('convertToInteractive',\n",
              "                                                     [key], {});\n",
              "          if (!dataTable) return;\n",
              "\n",
              "          const docLinkHtml = 'Like what you see? Visit the ' +\n",
              "            '<a target=\"_blank\" href=https://colab.research.google.com/notebooks/data_table.ipynb>data table notebook</a>'\n",
              "            + ' to learn more about interactive tables.';\n",
              "          element.innerHTML = '';\n",
              "          dataTable['output_type'] = 'display_data';\n",
              "          await google.colab.output.renderOutput(dataTable, element);\n",
              "          const docLink = document.createElement('div');\n",
              "          docLink.innerHTML = docLinkHtml;\n",
              "          element.appendChild(docLink);\n",
              "        }\n",
              "      </script>\n",
              "    </div>\n",
              "  </div>\n",
              "  "
            ]
          },
          "metadata": {},
          "execution_count": 33
        }
      ]
    },
    {
      "cell_type": "code",
      "source": [
        "cv_results.mean()"
      ],
      "metadata": {
        "id": "BHRItkMw8ZY7",
        "colab": {
          "base_uri": "https://localhost:8080/"
        },
        "outputId": "ab37d115-4905-40d7-97d4-e6123345d023"
      },
      "execution_count": null,
      "outputs": [
        {
          "output_type": "execute_result",
          "data": {
            "text/plain": [
              "Recall       0.990909\n",
              "Precision    0.997289\n",
              "F1 score     0.994017\n",
              "F2 score     0.992133\n",
              "dtype: float64"
            ]
          },
          "metadata": {},
          "execution_count": 34
        }
      ]
    },
    {
      "cell_type": "code",
      "source": [
        "def train_blstm(sent_length, words_mean, train_texts, train_labels):\n",
        "\n",
        "  blstm_model = create_blstm_model(sent_length, words_mean, train_texts)\n",
        "  \n",
        "  history = blstm_model.fit(train_texts,\n",
        "                            train_labels,\n",
        "                            epochs=10,\n",
        "                            batch_size=10,\n",
        "                            steps_per_epoch = len(train_texts)//5,\n",
        "                            validation_data=(X_test, y_test),\n",
        "                            validation_steps=int(0.2*len(X_test)))\n",
        "  \n",
        "  blstm_model.evaluate(X_test, y_test)\n",
        "  y_pred = np.round(blstm_model.predict(X_test))\n",
        "\n",
        "  f1_sc = f1_score(y_test, y_pred)\n",
        "  f2score = fbeta_score(y_test, y_pred, beta=2, average='binary')\n",
        "  mcc = matthews_corrcoef(y_test, y_pred)\n",
        "\n",
        "\n",
        "  print(\"test accuracy = \" + str(accuracy_score(y_test, y_pred)))\n",
        "  print(\"Recall = {}\".format(recall_score(y_test, y_pred)))\n",
        "  print(\"Precision = {}\".format(precision_score(y_test, y_pred)))\n",
        "  print(\"F1 score = {}\".format(f1_sc))\n",
        "  print(\"F2 score = {}\".format(f2score))\n",
        "  print(\"MCC = {}\".format(mcc))\n",
        "  print(classification_report(y_test, y_pred))\n",
        "  \n",
        "  cm = confusion_matrix(y_test, y_pred)\n",
        "\n",
        "  disp = ConfusionMatrixDisplay(confusion_matrix=cm, display_labels=[0,1])\n",
        "\n",
        "  disp.plot(cmap=plt.cm.Blues)\n",
        "  plt.show()\n",
        "\n",
        "  return f1_sc, f2score\n"
      ],
      "metadata": {
        "id": "6zXQht_90cw6"
      },
      "execution_count": null,
      "outputs": []
    },
    {
      "cell_type": "code",
      "source": [
        "X_train = train_data['text'].values"
      ],
      "metadata": {
        "id": "_U_v7I5sClng"
      },
      "execution_count": null,
      "outputs": []
    },
    {
      "cell_type": "code",
      "source": [
        "X_train.shape"
      ],
      "metadata": {
        "colab": {
          "base_uri": "https://localhost:8080/"
        },
        "id": "zaCUyFfQCtFC",
        "outputId": "282a8b9f-1c76-4ead-e6f4-38b9d6fecd4e"
      },
      "execution_count": null,
      "outputs": [
        {
          "output_type": "execute_result",
          "data": {
            "text/plain": [
              "(940,)"
            ]
          },
          "metadata": {},
          "execution_count": 75
        }
      ]
    },
    {
      "cell_type": "code",
      "source": [
        "y_train = train_data['label'].values.reshape(-1, 1)"
      ],
      "metadata": {
        "id": "8YhryH1ACndd"
      },
      "execution_count": null,
      "outputs": []
    },
    {
      "cell_type": "code",
      "source": [
        "y_train.shape"
      ],
      "metadata": {
        "colab": {
          "base_uri": "https://localhost:8080/"
        },
        "id": "wyCDgBEDC2KZ",
        "outputId": "b229d2c1-ef18-4856-fc43-3cc7b8a2403a"
      },
      "execution_count": null,
      "outputs": [
        {
          "output_type": "execute_result",
          "data": {
            "text/plain": [
              "(940, 1)"
            ]
          },
          "metadata": {},
          "execution_count": 77
        }
      ]
    },
    {
      "cell_type": "code",
      "source": [
        "X_test = test_data['text'].values.reshape(-1, 1)"
      ],
      "metadata": {
        "id": "k6j7buOqDqOQ"
      },
      "execution_count": null,
      "outputs": []
    },
    {
      "cell_type": "code",
      "source": [
        "train_blstm(total_length, text_words_mean, X_train, y_train)"
      ],
      "metadata": {
        "id": "tFbOQNSp-mu6"
      },
      "execution_count": null,
      "outputs": []
    },
    {
      "cell_type": "code",
      "source": [
        "aug_X_train = augmented_dataset['text'].values.reshape(-1, 1)"
      ],
      "metadata": {
        "id": "FDYeTAp7CZp1"
      },
      "execution_count": null,
      "outputs": []
    },
    {
      "cell_type": "code",
      "source": [
        "aug_X_train.shape"
      ],
      "metadata": {
        "colab": {
          "base_uri": "https://localhost:8080/"
        },
        "id": "D0B5csN3GDKd",
        "outputId": "92a610a3-141a-45b4-c8ec-c0d8f3395006"
      },
      "execution_count": null,
      "outputs": [
        {
          "output_type": "execute_result",
          "data": {
            "text/plain": [
              "(1611, 1)"
            ]
          },
          "metadata": {},
          "execution_count": 81
        }
      ]
    },
    {
      "cell_type": "code",
      "source": [
        "aug_y_train = augmented_dataset['label'].values.reshape(-1, 1)"
      ],
      "metadata": {
        "id": "c4fJafgyGGox"
      },
      "execution_count": null,
      "outputs": []
    },
    {
      "cell_type": "code",
      "source": [
        "aug_y_train.shape"
      ],
      "metadata": {
        "colab": {
          "base_uri": "https://localhost:8080/"
        },
        "id": "LPE1lvG1GJbJ",
        "outputId": "cf34313e-8c00-4093-e8da-f2915e0ac786"
      },
      "execution_count": null,
      "outputs": [
        {
          "output_type": "execute_result",
          "data": {
            "text/plain": [
              "(1611, 1)"
            ]
          },
          "metadata": {},
          "execution_count": 83
        }
      ]
    },
    {
      "cell_type": "code",
      "source": [
        "train_blstm(total_length, text_words_mean, aug_X_train, aug_y_train)"
      ],
      "metadata": {
        "id": "T4E4B5kUUqdT"
      },
      "execution_count": null,
      "outputs": []
    },
    {
      "cell_type": "code",
      "source": [
        "word_sim_range = [.625, .65, .675, .7, .725, .75, .775, .8]\n",
        "\n",
        "similarity_percentage_f1score = {}\n",
        "similarity_percentage_f2score = {}\n",
        "\n",
        "for value in word_sim_range:\n",
        "  all_similar_words = {}\n",
        "  my_augmented_dataset =  my_augmentation(train_data, 1, value)\n",
        "  my_aug_X = my_augmented_dataset['text'].to_numpy()\n",
        "  my_aug_y = my_augmented_dataset['label'].to_numpy()\n",
        "  print('Spam percentage = {}'.format(np.count_nonzero(my_aug_y) / len(my_aug_y)))\n",
        "  similarity_percentage_f1score[value], similarity_percentage_f2score[value] = train_blstm(total_length, text_words_mean, my_aug_X, my_aug_y)"
      ],
      "metadata": {
        "colab": {
          "base_uri": "https://localhost:8080/",
          "height": 1000
        },
        "id": "g64OOCBuHdWL",
        "outputId": "8684d931-3937-462d-841f-1c3ba7f0222f"
      },
      "execution_count": null,
      "outputs": [
        {
          "output_type": "stream",
          "name": "stderr",
          "text": [
            "<ipython-input-42-40c4bd8a10bc>:6: FutureWarning: The frame.append method is deprecated and will be removed from pandas in a future version. Use pandas.concat instead.\n",
            "  augmentations = prepro_dataset[['text', 'label']].copy().append(pd.DataFrame({'label':[lable] * len(new_messages), 'text':new_messages}), ignore_index = True)\n"
          ]
        },
        {
          "output_type": "stream",
          "name": "stdout",
          "text": [
            "Spam percentage = 0.6276643990929706\n",
            "Epoch 1/10\n",
            "441/441 [==============================] - ETA: 0s - loss: 0.0512 - accuracy: 0.9873"
          ]
        },
        {
          "output_type": "stream",
          "name": "stderr",
          "text": [
            "WARNING:tensorflow:Your input ran out of data; interrupting training. Make sure that your dataset or generator can generate at least `steps_per_epoch * epochs` batches (in this case, 24 batches). You may need to use the repeat() function when building your dataset.\n"
          ]
        },
        {
          "output_type": "stream",
          "name": "stdout",
          "text": [
            "\b\b\b\b\b\b\b\b\b\b\b\b\b\b\b\b\b\b\b\b\b\b\b\b\b\b\b\b\b\b\b\b\b\b\b\b\b\b\b\b\b\b\b\b\b\b\b\b\b\b\b\b\b\b\b\b\b\b\b\b\b\b\b\b\b\b\b\b\b\b\b\b\b\b\b\b\b\b\b\b\b\b\b\b\r441/441 [==============================] - 22s 32ms/step - loss: 0.0512 - accuracy: 0.9873 - val_loss: 0.8143 - val_accuracy: 0.8306\n",
            "Epoch 2/10\n",
            "441/441 [==============================] - 6s 14ms/step - loss: 0.0055 - accuracy: 0.9989\n",
            "Epoch 3/10\n",
            "441/441 [==============================] - 5s 10ms/step - loss: 6.1862e-05 - accuracy: 1.0000\n",
            "Epoch 4/10\n",
            "441/441 [==============================] - 5s 11ms/step - loss: 1.3532e-05 - accuracy: 1.0000\n",
            "Epoch 5/10\n",
            "441/441 [==============================] - 4s 10ms/step - loss: 7.7350e-06 - accuracy: 1.0000\n",
            "Epoch 6/10\n",
            "  1/441 [..............................] - ETA: 5s - loss: 7.5454e-06 - accuracy: 1.0000"
          ]
        },
        {
          "output_type": "stream",
          "name": "stderr",
          "text": [
            "WARNING:tensorflow:Your input ran out of data; interrupting training. Make sure that your dataset or generator can generate at least `steps_per_epoch * epochs` batches (in this case, 4410 batches). You may need to use the repeat() function when building your dataset.\n"
          ]
        },
        {
          "output_type": "stream",
          "name": "stdout",
          "text": [
            "441/441 [==============================] - 0s 202us/step - loss: 4.6180e-06 - accuracy: 1.0000\n",
            "4/4 [==============================] - 0s 6ms/step - loss: 1.2986 - accuracy: 0.8306\n",
            "4/4 [==============================] - 1s 5ms/step\n",
            "test accuracy = 0.8306451612903226\n",
            "Recall = 0.72\n",
            "Precision = 1.0\n",
            "F1 score = 0.8372093023255813\n",
            "F2 score = 0.7627118644067796\n",
            "MCC = 0.709929573971954\n",
            "              precision    recall  f1-score   support\n",
            "\n",
            "           0       0.70      1.00      0.82        49\n",
            "           1       1.00      0.72      0.84        75\n",
            "\n",
            "    accuracy                           0.83       124\n",
            "   macro avg       0.85      0.86      0.83       124\n",
            "weighted avg       0.88      0.83      0.83       124\n",
            "\n"
          ]
        },
        {
          "output_type": "display_data",
          "data": {
            "text/plain": [
              "<Figure size 640x480 with 2 Axes>"
            ],
            "image/png": "[encoded data removed]"
          },
          "metadata": {}
        },
        {
          "output_type": "stream",
          "name": "stderr",
          "text": [
            "<ipython-input-42-40c4bd8a10bc>:6: FutureWarning: The frame.append method is deprecated and will be removed from pandas in a future version. Use pandas.concat instead.\n",
            "  augmentations = prepro_dataset[['text', 'label']].copy().append(pd.DataFrame({'label':[lable] * len(new_messages), 'text':new_messages}), ignore_index = True)\n"
          ]
        },
        {
          "output_type": "stream",
          "name": "stdout",
          "text": [
            "Spam percentage = 0.4903786468032278\n",
            "Epoch 1/10\n",
            "320/322 [============================>.] - ETA: 0s - loss: 0.0701 - accuracy: 0.9771"
          ]
        },
        {
          "output_type": "stream",
          "name": "stderr",
          "text": [
            "WARNING:tensorflow:Your input ran out of data; interrupting training. Make sure that your dataset or generator can generate at least `steps_per_epoch * epochs` batches (in this case, 24 batches). You may need to use the repeat() function when building your dataset.\n"
          ]
        },
        {
          "output_type": "stream",
          "name": "stdout",
          "text": [
            "\b\b\b\b\b\b\b\b\b\b\b\b\b\b\b\b\b\b\b\b\b\b\b\b\b\b\b\b\b\b\b\b\b\b\b\b\b\b\b\b\b\b\b\b\b\b\b\b\b\b\b\b\b\b\b\b\b\b\b\b\b\b\b\b\b\b\b\b\b\b\b\b\b\b\b\b\b\b\b\b\b\b\b\b\r322/322 [==============================] - 20s 41ms/step - loss: 0.0697 - accuracy: 0.9773 - val_loss: 0.7870 - val_accuracy: 0.8306\n",
            "Epoch 2/10\n",
            "322/322 [==============================] - 5s 14ms/step - loss: 0.0011 - accuracy: 0.9994\n",
            "Epoch 3/10\n",
            "322/322 [==============================] - 3s 10ms/step - loss: 3.6247e-05 - accuracy: 1.0000\n",
            "Epoch 4/10\n",
            "322/322 [==============================] - 4s 12ms/step - loss: 1.8485e-05 - accuracy: 1.0000\n",
            "Epoch 5/10\n",
            "322/322 [==============================] - 3s 10ms/step - loss: 1.1002e-05 - accuracy: 1.0000\n",
            "Epoch 6/10\n",
            "  7/322 [..............................] - ETA: 2s - loss: 8.6052e-06 - accuracy: 1.0000"
          ]
        },
        {
          "output_type": "stream",
          "name": "stderr",
          "text": [
            "WARNING:tensorflow:Your input ran out of data; interrupting training. Make sure that your dataset or generator can generate at least `steps_per_epoch * epochs` batches (in this case, 3220 batches). You may need to use the repeat() function when building your dataset.\n"
          ]
        },
        {
          "output_type": "stream",
          "name": "stdout",
          "text": [
            "322/322 [==============================] - 0s 411us/step - loss: 8.7823e-06 - accuracy: 1.0000\n",
            "4/4 [==============================] - 0s 6ms/step - loss: 1.2828 - accuracy: 0.8226\n",
            "4/4 [==============================] - 1s 5ms/step\n",
            "test accuracy = 0.8225806451612904\n",
            "Recall = 0.7066666666666667\n",
            "Precision = 1.0\n",
            "F1 score = 0.828125\n",
            "F2 score = 0.7507082152974504\n",
            "MCC = 0.6983548743414282\n",
            "              precision    recall  f1-score   support\n",
            "\n",
            "           0       0.69      1.00      0.82        49\n",
            "           1       1.00      0.71      0.83        75\n",
            "\n",
            "    accuracy                           0.82       124\n",
            "   macro avg       0.85      0.85      0.82       124\n",
            "weighted avg       0.88      0.82      0.82       124\n",
            "\n"
          ]
        },
        {
          "output_type": "display_data",
          "data": {
            "text/plain": [
              "<Figure size 640x480 with 2 Axes>"
            ],
            "image/png": "[encoded data removed]"
          },
          "metadata": {}
        },
        {
          "output_type": "stream",
          "name": "stderr",
          "text": [
            "<ipython-input-42-40c4bd8a10bc>:6: FutureWarning: The frame.append method is deprecated and will be removed from pandas in a future version. Use pandas.concat instead.\n",
            "  augmentations = prepro_dataset[['text', 'label']].copy().append(pd.DataFrame({'label':[lable] * len(new_messages), 'text':new_messages}), ignore_index = True)\n"
          ]
        },
        {
          "output_type": "stream",
          "name": "stdout",
          "text": [
            "Spam percentage = 0.39364844903988183\n",
            "Epoch 1/10\n",
            "269/270 [============================>.] - ETA: 0s - loss: 0.0949 - accuracy: 0.9635"
          ]
        },
        {
          "output_type": "stream",
          "name": "stderr",
          "text": [
            "WARNING:tensorflow:Your input ran out of data; interrupting training. Make sure that your dataset or generator can generate at least `steps_per_epoch * epochs` batches (in this case, 24 batches). You may need to use the repeat() function when building your dataset.\n"
          ]
        },
        {
          "output_type": "stream",
          "name": "stdout",
          "text": [
            "\b\b\b\b\b\b\b\b\b\b\b\b\b\b\b\b\b\b\b\b\b\b\b\b\b\b\b\b\b\b\b\b\b\b\b\b\b\b\b\b\b\b\b\b\b\b\b\b\b\b\b\b\b\b\b\b\b\b\b\b\b\b\b\b\b\b\b\b\b\b\b\b\b\b\b\b\b\b\b\b\b\b\b\b\r270/270 [==============================] - 20s 47ms/step - loss: 0.0946 - accuracy: 0.9636 - val_loss: 0.6293 - val_accuracy: 0.8710\n",
            "Epoch 2/10\n",
            "270/270 [==============================] - 3s 11ms/step - loss: 0.0029 - accuracy: 0.9996\n",
            "Epoch 3/10\n",
            "270/270 [==============================] - 3s 12ms/step - loss: 5.9178e-05 - accuracy: 1.0000\n",
            "Epoch 4/10\n",
            "270/270 [==============================] - 3s 13ms/step - loss: 3.0653e-05 - accuracy: 1.0000\n",
            "Epoch 5/10\n",
            "270/270 [==============================] - 3s 10ms/step - loss: 1.8953e-05 - accuracy: 1.0000\n",
            "Epoch 6/10\n",
            " 10/270 [>.............................] - ETA: 6s - loss: 1.4282e-05 - accuracy: 1.0000"
          ]
        },
        {
          "output_type": "stream",
          "name": "stderr",
          "text": [
            "WARNING:tensorflow:Your input ran out of data; interrupting training. Make sure that your dataset or generator can generate at least `steps_per_epoch * epochs` batches (in this case, 2700 batches). You may need to use the repeat() function when building your dataset.\n"
          ]
        },
        {
          "output_type": "stream",
          "name": "stdout",
          "text": [
            "270/270 [==============================] - 0s 978us/step - loss: 1.4282e-05 - accuracy: 1.0000\n",
            "4/4 [==============================] - 0s 5ms/step - loss: 0.9269 - accuracy: 0.8710\n",
            "4/4 [==============================] - 1s 5ms/step\n",
            "test accuracy = 0.8709677419354839\n",
            "Recall = 0.7866666666666666\n",
            "Precision = 1.0\n",
            "F1 score = 0.8805970149253731\n",
            "F2 score = 0.8217270194986072\n",
            "MCC = 0.7700815807598835\n",
            "              precision    recall  f1-score   support\n",
            "\n",
            "           0       0.75      1.00      0.86        49\n",
            "           1       1.00      0.79      0.88        75\n",
            "\n",
            "    accuracy                           0.87       124\n",
            "   macro avg       0.88      0.89      0.87       124\n",
            "weighted avg       0.90      0.87      0.87       124\n",
            "\n"
          ]
        },
        {
          "output_type": "display_data",
          "data": {
            "text/plain": [
              "<Figure size 640x480 with 2 Axes>"
            ],
            "image/png": "[encoded data removed]"
          },
          "metadata": {}
        },
        {
          "output_type": "stream",
          "name": "stderr",
          "text": [
            "<ipython-input-42-40c4bd8a10bc>:6: FutureWarning: The frame.append method is deprecated and will be removed from pandas in a future version. Use pandas.concat instead.\n",
            "  augmentations = prepro_dataset[['text', 'label']].copy().append(pd.DataFrame({'label':[lable] * len(new_messages), 'text':new_messages}), ignore_index = True)\n"
          ]
        },
        {
          "output_type": "stream",
          "name": "stdout",
          "text": [
            "Spam percentage = 0.32092638544251445\n",
            "Epoch 1/10\n",
            "237/241 [============================>.] - ETA: 0s - loss: 0.0969 - accuracy: 0.9629"
          ]
        },
        {
          "output_type": "stream",
          "name": "stderr",
          "text": [
            "WARNING:tensorflow:Your input ran out of data; interrupting training. Make sure that your dataset or generator can generate at least `steps_per_epoch * epochs` batches (in this case, 24 batches). You may need to use the repeat() function when building your dataset.\n"
          ]
        },
        {
          "output_type": "stream",
          "name": "stdout",
          "text": [
            "\b\b\b\b\b\b\b\b\b\b\b\b\b\b\b\b\b\b\b\b\b\b\b\b\b\b\b\b\b\b\b\b\b\b\b\b\b\b\b\b\b\b\b\b\b\b\b\b\b\b\b\b\b\b\b\b\b\b\b\b\b\b\b\b\b\b\b\b\b\b\b\b\b\b\b\b\b\b\b\b\b\b\b\b\r241/241 [==============================] - 19s 53ms/step - loss: 0.0953 - accuracy: 0.9635 - val_loss: 0.6326 - val_accuracy: 0.8548\n",
            "Epoch 2/10\n",
            "241/241 [==============================] - 3s 10ms/step - loss: 3.3338e-04 - accuracy: 1.0000\n",
            "Epoch 3/10\n",
            "241/241 [==============================] - 3s 13ms/step - loss: 6.2893e-05 - accuracy: 1.0000\n",
            "Epoch 4/10\n",
            "241/241 [==============================] - 2s 10ms/step - loss: 3.2023e-05 - accuracy: 1.0000\n",
            "Epoch 5/10\n",
            "241/241 [==============================] - 2s 9ms/step - loss: 1.9062e-05 - accuracy: 1.0000\n",
            "Epoch 6/10\n",
            "  1/241 [..............................] - ETA: 2s - loss: 8.3126e-06 - accuracy: 1.0000"
          ]
        },
        {
          "output_type": "stream",
          "name": "stderr",
          "text": [
            "WARNING:tensorflow:Your input ran out of data; interrupting training. Make sure that your dataset or generator can generate at least `steps_per_epoch * epochs` batches (in this case, 2410 batches). You may need to use the repeat() function when building your dataset.\n"
          ]
        },
        {
          "output_type": "stream",
          "name": "stdout",
          "text": [
            "241/241 [==============================] - 0s 352us/step - loss: 1.1598e-05 - accuracy: 1.0000\n",
            "4/4 [==============================] - 0s 7ms/step - loss: 1.0646 - accuracy: 0.8387\n",
            "4/4 [==============================] - 2s 6ms/step\n",
            "test accuracy = 0.8387096774193549\n",
            "Recall = 0.7333333333333333\n",
            "Precision = 1.0\n",
            "F1 score = 0.846153846153846\n",
            "F2 score = 0.7746478873239436\n",
            "MCC = 0.7216459982982677\n",
            "              precision    recall  f1-score   support\n",
            "\n",
            "           0       0.71      1.00      0.83        49\n",
            "           1       1.00      0.73      0.85        75\n",
            "\n",
            "    accuracy                           0.84       124\n",
            "   macro avg       0.86      0.87      0.84       124\n",
            "weighted avg       0.89      0.84      0.84       124\n",
            "\n"
          ]
        },
        {
          "output_type": "display_data",
          "data": {
            "text/plain": [
              "<Figure size 640x480 with 2 Axes>"
            ],
            "image/png": "[encoded data removed]"
          },
          "metadata": {}
        },
        {
          "output_type": "stream",
          "name": "stderr",
          "text": [
            "<ipython-input-42-40c4bd8a10bc>:6: FutureWarning: The frame.append method is deprecated and will be removed from pandas in a future version. Use pandas.concat instead.\n",
            "  augmentations = prepro_dataset[['text', 'label']].copy().append(pd.DataFrame({'label':[lable] * len(new_messages), 'text':new_messages}), ignore_index = True)\n"
          ]
        },
        {
          "output_type": "stream",
          "name": "stdout",
          "text": [
            "Spam percentage = 0.22620169651272384\n",
            "Epoch 1/10\n",
            "210/212 [============================>.] - ETA: 0s - loss: 0.1190 - accuracy: 0.9570"
          ]
        },
        {
          "output_type": "stream",
          "name": "stderr",
          "text": [
            "WARNING:tensorflow:Your input ran out of data; interrupting training. Make sure that your dataset or generator can generate at least `steps_per_epoch * epochs` batches (in this case, 24 batches). You may need to use the repeat() function when building your dataset.\n"
          ]
        },
        {
          "output_type": "stream",
          "name": "stdout",
          "text": [
            "\b\b\b\b\b\b\b\b\b\b\b\b\b\b\b\b\b\b\b\b\b\b\b\b\b\b\b\b\b\b\b\b\b\b\b\b\b\b\b\b\b\b\b\b\b\b\b\b\b\b\b\b\b\b\b\b\b\b\b\b\b\b\b\b\b\b\b\b\b\b\b\b\b\b\b\b\b\b\b\b\b\b\b\b\r212/212 [==============================] - 18s 52ms/step - loss: 0.1179 - accuracy: 0.9574 - val_loss: 0.5943 - val_accuracy: 0.8548\n",
            "Epoch 2/10\n",
            "212/212 [==============================] - 3s 15ms/step - loss: 0.0021 - accuracy: 0.9995\n",
            "Epoch 3/10\n",
            "212/212 [==============================] - 3s 13ms/step - loss: 7.8225e-05 - accuracy: 1.0000\n",
            "Epoch 4/10\n",
            "212/212 [==============================] - 3s 12ms/step - loss: 4.0873e-05 - accuracy: 1.0000\n",
            "Epoch 5/10\n",
            "212/212 [==============================] - 2s 10ms/step - loss: 2.5492e-05 - accuracy: 1.0000\n",
            "Epoch 6/10\n",
            " 10/212 [>.............................] - ETA: 4s - loss: 1.8693e-05 - accuracy: 1.0000"
          ]
        },
        {
          "output_type": "stream",
          "name": "stderr",
          "text": [
            "WARNING:tensorflow:Your input ran out of data; interrupting training. Make sure that your dataset or generator can generate at least `steps_per_epoch * epochs` batches (in this case, 2120 batches). You may need to use the repeat() function when building your dataset.\n"
          ]
        },
        {
          "output_type": "stream",
          "name": "stdout",
          "text": [
            "212/212 [==============================] - 0s 1ms/step - loss: 1.8693e-05 - accuracy: 1.0000\n",
            "4/4 [==============================] - 0s 6ms/step - loss: 1.1154 - accuracy: 0.8548\n",
            "4/4 [==============================] - 1s 5ms/step\n",
            "test accuracy = 0.8548387096774194\n",
            "Recall = 0.76\n",
            "Precision = 1.0\n",
            "F1 score = 0.8636363636363636\n",
            "F2 score = 0.7983193277310925\n",
            "MCC = 0.74553396671271\n",
            "              precision    recall  f1-score   support\n",
            "\n",
            "           0       0.73      1.00      0.84        49\n",
            "           1       1.00      0.76      0.86        75\n",
            "\n",
            "    accuracy                           0.85       124\n",
            "   macro avg       0.87      0.88      0.85       124\n",
            "weighted avg       0.89      0.85      0.86       124\n",
            "\n"
          ]
        },
        {
          "output_type": "display_data",
          "data": {
            "text/plain": [
              "<Figure size 640x480 with 2 Axes>"
            ],
            "image/png": "[encoded data removed]"
          },
          "metadata": {}
        },
        {
          "output_type": "stream",
          "name": "stderr",
          "text": [
            "<ipython-input-42-40c4bd8a10bc>:6: FutureWarning: The frame.append method is deprecated and will be removed from pandas in a future version. Use pandas.concat instead.\n",
            "  augmentations = prepro_dataset[['text', 'label']].copy().append(pd.DataFrame({'label':[lable] * len(new_messages), 'text':new_messages}), ignore_index = True)\n"
          ]
        },
        {
          "output_type": "stream",
          "name": "stdout",
          "text": [
            "Spam percentage = 0.18551587301587302\n",
            "Epoch 1/10\n",
            "201/201 [==============================] - ETA: 0s - loss: 0.1253 - accuracy: 0.9527"
          ]
        },
        {
          "output_type": "stream",
          "name": "stderr",
          "text": [
            "WARNING:tensorflow:Your input ran out of data; interrupting training. Make sure that your dataset or generator can generate at least `steps_per_epoch * epochs` batches (in this case, 24 batches). You may need to use the repeat() function when building your dataset.\n"
          ]
        },
        {
          "output_type": "stream",
          "name": "stdout",
          "text": [
            "\b\b\b\b\b\b\b\b\b\b\b\b\b\b\b\b\b\b\b\b\b\b\b\b\b\b\b\b\b\b\b\b\b\b\b\b\b\b\b\b\b\b\b\b\b\b\b\b\b\b\b\b\b\b\b\b\b\b\b\b\b\b\b\b\b\b\b\b\b\b\b\b\b\b\b\b\b\b\b\b\b\b\b\b\r201/201 [==============================] - 18s 58ms/step - loss: 0.1253 - accuracy: 0.9527 - val_loss: 0.6208 - val_accuracy: 0.8548\n",
            "Epoch 2/10\n",
            "201/201 [==============================] - 3s 16ms/step - loss: 0.0023 - accuracy: 0.9995\n",
            "Epoch 3/10\n",
            "201/201 [==============================] - 2s 12ms/step - loss: 1.4272e-04 - accuracy: 1.0000\n",
            "Epoch 4/10\n",
            "201/201 [==============================] - 2s 11ms/step - loss: 7.0550e-05 - accuracy: 1.0000\n",
            "Epoch 5/10\n",
            "201/201 [==============================] - 2s 10ms/step - loss: 4.3230e-05 - accuracy: 1.0000\n",
            "Epoch 6/10\n",
            "  1/201 [..............................] - ETA: 2s - loss: 3.1774e-05 - accuracy: 1.0000"
          ]
        },
        {
          "output_type": "stream",
          "name": "stderr",
          "text": [
            "WARNING:tensorflow:Your input ran out of data; interrupting training. Make sure that your dataset or generator can generate at least `steps_per_epoch * epochs` batches (in this case, 2010 batches). You may need to use the repeat() function when building your dataset.\n"
          ]
        },
        {
          "output_type": "stream",
          "name": "stdout",
          "text": [
            "201/201 [==============================] - 0s 463us/step - loss: 3.5413e-05 - accuracy: 1.0000\n",
            "4/4 [==============================] - 0s 7ms/step - loss: 0.8834 - accuracy: 0.8629\n",
            "4/4 [==============================] - 1s 5ms/step\n",
            "test accuracy = 0.8629032258064516\n",
            "Recall = 0.7866666666666666\n",
            "Precision = 0.9833333333333333\n",
            "F1 score = 0.8740740740740739\n",
            "F2 score = 0.8194444444444443\n",
            "MCC = 0.7496151695999295\n",
            "              precision    recall  f1-score   support\n",
            "\n",
            "           0       0.75      0.98      0.85        49\n",
            "           1       0.98      0.79      0.87        75\n",
            "\n",
            "    accuracy                           0.86       124\n",
            "   macro avg       0.87      0.88      0.86       124\n",
            "weighted avg       0.89      0.86      0.86       124\n",
            "\n"
          ]
        },
        {
          "output_type": "display_data",
          "data": {
            "text/plain": [
              "<Figure size 640x480 with 2 Axes>"
            ],
            "image/png": "[encoded data removed]"
          },
          "metadata": {}
        },
        {
          "output_type": "stream",
          "name": "stderr",
          "text": [
            "<ipython-input-42-40c4bd8a10bc>:6: FutureWarning: The frame.append method is deprecated and will be removed from pandas in a future version. Use pandas.concat instead.\n",
            "  augmentations = prepro_dataset[['text', 'label']].copy().append(pd.DataFrame({'label':[lable] * len(new_messages), 'text':new_messages}), ignore_index = True)\n"
          ]
        },
        {
          "output_type": "stream",
          "name": "stdout",
          "text": [
            "Spam percentage = 0.16734279918864098\n",
            "Epoch 1/10\n",
            "197/197 [==============================] - ETA: 0s - loss: 0.1133 - accuracy: 0.9598"
          ]
        },
        {
          "output_type": "stream",
          "name": "stderr",
          "text": [
            "WARNING:tensorflow:Your input ran out of data; interrupting training. Make sure that your dataset or generator can generate at least `steps_per_epoch * epochs` batches (in this case, 24 batches). You may need to use the repeat() function when building your dataset.\n"
          ]
        },
        {
          "output_type": "stream",
          "name": "stdout",
          "text": [
            "\b\b\b\b\b\b\b\b\b\b\b\b\b\b\b\b\b\b\b\b\b\b\b\b\b\b\b\b\b\b\b\b\b\b\b\b\b\b\b\b\b\b\b\b\b\b\b\b\b\b\b\b\b\b\b\b\b\b\b\b\b\b\b\b\b\b\b\b\b\b\b\b\b\b\b\b\b\b\b\b\b\b\b\b\r197/197 [==============================] - 17s 54ms/step - loss: 0.1133 - accuracy: 0.9598 - val_loss: 0.5373 - val_accuracy: 0.8871\n",
            "Epoch 2/10\n",
            "197/197 [==============================] - 3s 16ms/step - loss: 0.0025 - accuracy: 0.9990\n",
            "Epoch 3/10\n",
            "197/197 [==============================] - 3s 13ms/step - loss: 1.1057e-04 - accuracy: 1.0000\n",
            "Epoch 4/10\n",
            "197/197 [==============================] - 2s 10ms/step - loss: 4.8803e-05 - accuracy: 1.0000\n",
            "Epoch 5/10\n",
            "197/197 [==============================] - 2s 12ms/step - loss: 3.0266e-05 - accuracy: 1.0000\n",
            "Epoch 6/10\n",
            "  5/197 [..............................] - ETA: 8s - loss: 2.4648e-05 - accuracy: 1.0000"
          ]
        },
        {
          "output_type": "stream",
          "name": "stderr",
          "text": [
            "WARNING:tensorflow:Your input ran out of data; interrupting training. Make sure that your dataset or generator can generate at least `steps_per_epoch * epochs` batches (in this case, 1970 batches). You may need to use the repeat() function when building your dataset.\n"
          ]
        },
        {
          "output_type": "stream",
          "name": "stdout",
          "text": [
            "197/197 [==============================] - 0s 1ms/step - loss: 2.4648e-05 - accuracy: 1.0000\n",
            "4/4 [==============================] - 0s 6ms/step - loss: 0.8045 - accuracy: 0.8871\n",
            "4/4 [==============================] - 1s 5ms/step\n",
            "test accuracy = 0.8870967741935484\n",
            "Recall = 0.8133333333333334\n",
            "Precision = 1.0\n",
            "F1 score = 0.8970588235294117\n",
            "F2 score = 0.8448753462603877\n",
            "MCC = 0.7953568963632569\n",
            "              precision    recall  f1-score   support\n",
            "\n",
            "           0       0.78      1.00      0.88        49\n",
            "           1       1.00      0.81      0.90        75\n",
            "\n",
            "    accuracy                           0.89       124\n",
            "   macro avg       0.89      0.91      0.89       124\n",
            "weighted avg       0.91      0.89      0.89       124\n",
            "\n"
          ]
        },
        {
          "output_type": "display_data",
          "data": {
            "text/plain": [
              "<Figure size 640x480 with 2 Axes>"
            ],
            "image/png": "[encoded data removed]"
          },
          "metadata": {}
        },
        {
          "output_type": "stream",
          "name": "stderr",
          "text": [
            "<ipython-input-42-40c4bd8a10bc>:6: FutureWarning: The frame.append method is deprecated and will be removed from pandas in a future version. Use pandas.concat instead.\n",
            "  augmentations = prepro_dataset[['text', 'label']].copy().append(pd.DataFrame({'label':[lable] * len(new_messages), 'text':new_messages}), ignore_index = True)\n"
          ]
        },
        {
          "output_type": "stream",
          "name": "stdout",
          "text": [
            "Spam percentage = 0.1474558670820353\n",
            "Epoch 1/10\n",
            "190/192 [============================>.] - ETA: 0s - loss: 0.1253 - accuracy: 0.9556"
          ]
        },
        {
          "output_type": "stream",
          "name": "stderr",
          "text": [
            "WARNING:tensorflow:Your input ran out of data; interrupting training. Make sure that your dataset or generator can generate at least `steps_per_epoch * epochs` batches (in this case, 24 batches). You may need to use the repeat() function when building your dataset.\n"
          ]
        },
        {
          "output_type": "stream",
          "name": "stdout",
          "text": [
            "\b\b\b\b\b\b\b\b\b\b\b\b\b\b\b\b\b\b\b\b\b\b\b\b\b\b\b\b\b\b\b\b\b\b\b\b\b\b\b\b\b\b\b\b\b\b\b\b\b\b\b\b\b\b\b\b\b\b\b\b\b\b\b\b\b\b\b\b\b\b\b\b\b\b\b\b\b\b\b\b\b\b\b\b\r192/192 [==============================] - 18s 55ms/step - loss: 0.1241 - accuracy: 0.9561 - val_loss: 0.5613 - val_accuracy: 0.8548\n",
            "Epoch 2/10\n",
            "192/192 [==============================] - 3s 17ms/step - loss: 8.1718e-04 - accuracy: 1.0000\n",
            "Epoch 3/10\n",
            "192/192 [==============================] - 2s 12ms/step - loss: 1.0208e-04 - accuracy: 1.0000\n",
            "Epoch 4/10\n",
            "192/192 [==============================] - 3s 15ms/step - loss: 5.4042e-05 - accuracy: 1.0000\n",
            "Epoch 5/10\n",
            "192/192 [==============================] - 2s 10ms/step - loss: 3.4155e-05 - accuracy: 1.0000\n",
            "Epoch 6/10\n",
            " 10/192 [>.............................] - ETA: 4s - loss: 2.0481e-05 - accuracy: 1.0000"
          ]
        },
        {
          "output_type": "stream",
          "name": "stderr",
          "text": [
            "WARNING:tensorflow:Your input ran out of data; interrupting training. Make sure that your dataset or generator can generate at least `steps_per_epoch * epochs` batches (in this case, 1920 batches). You may need to use the repeat() function when building your dataset.\n"
          ]
        },
        {
          "output_type": "stream",
          "name": "stdout",
          "text": [
            "192/192 [==============================] - 0s 1ms/step - loss: 2.0481e-05 - accuracy: 1.0000\n",
            "4/4 [==============================] - 0s 6ms/step - loss: 1.0873 - accuracy: 0.8548\n",
            "4/4 [==============================] - 1s 5ms/step\n",
            "test accuracy = 0.8548387096774194\n",
            "Recall = 0.76\n",
            "Precision = 1.0\n",
            "F1 score = 0.8636363636363636\n",
            "F2 score = 0.7983193277310925\n",
            "MCC = 0.74553396671271\n",
            "              precision    recall  f1-score   support\n",
            "\n",
            "           0       0.73      1.00      0.84        49\n",
            "           1       1.00      0.76      0.86        75\n",
            "\n",
            "    accuracy                           0.85       124\n",
            "   macro avg       0.87      0.88      0.85       124\n",
            "weighted avg       0.89      0.85      0.86       124\n",
            "\n"
          ]
        },
        {
          "output_type": "display_data",
          "data": {
            "text/plain": [
              "<Figure size 640x480 with 2 Axes>"
            ],
            "image/png": "[encoded data removed]"
          },
          "metadata": {}
        }
      ]
    },
    {
      "cell_type": "code",
      "source": [
        "x_values, y_values = zip(*similarity_percentage_f1score.items())\n",
        "plt.plot(x_values, y_values)\n",
        "plt.xlabel('Similarity Percentage')\n",
        "plt.ylabel('F1 Score')\n",
        "plt.show()"
      ],
      "metadata": {
        "colab": {
          "base_uri": "https://localhost:8080/",
          "height": 452
        },
        "id": "x53NIxyCIL3T",
        "outputId": "2dd0e0ab-524d-4954-bdb7-1c1e7bed0322"
      },
      "execution_count": null,
      "outputs": [
        {
          "output_type": "display_data",
          "data": {
            "text/plain": [
              "<Figure size 640x480 with 1 Axes>"
            ],
            "image/png": "[encoded data removed]"
          },
          "metadata": {}
        }
      ]
    },
    {
      "cell_type": "code",
      "source": [
        "x_values, y_values = zip(*similarity_percentage_f2score.items())\n",
        "plt.plot(x_values, y_values)\n",
        "plt.xlabel('Similarity Percentage')\n",
        "plt.ylabel('F2 Score')\n",
        "plt.show()"
      ],
      "metadata": {
        "colab": {
          "base_uri": "https://localhost:8080/",
          "height": 449
        },
        "id": "uNz9glQxYHrl",
        "outputId": "aabd746f-a9d3-4d41-90a0-c818f1335475"
      },
      "execution_count": null,
      "outputs": [
        {
          "output_type": "display_data",
          "data": {
            "text/plain": [
              "<Figure size 640x480 with 1 Axes>"
            ],
            "image/png": "[encoded data removed]"
          },
          "metadata": {}
        }
      ]
    },
    {
      "cell_type": "code",
      "source": [
        "all_similar_words = {}\n",
        "my_augmented_dataset =  my_augmentation(train_data, 1, .775)\n",
        "\n",
        "my_aug_X = my_augmented_dataset['text'].to_numpy()\n",
        "my_aug_y = my_augmented_dataset['label'].to_numpy()\n",
        "\n",
        "train_blstm(total_length, text_words_mean, my_aug_X, my_aug_y)"
      ],
      "metadata": {
        "colab": {
          "base_uri": "https://localhost:8080/",
          "height": 1000
        },
        "id": "n2nz9JnmGQtW",
        "outputId": "c7240ee6-110b-4081-8763-3c468b8a81bb"
      },
      "execution_count": null,
      "outputs": [
        {
          "output_type": "stream",
          "name": "stderr",
          "text": [
            "<ipython-input-42-40c4bd8a10bc>:6: FutureWarning: The frame.append method is deprecated and will be removed from pandas in a future version. Use pandas.concat instead.\n",
            "  augmentations = prepro_dataset[['text', 'label']].copy().append(pd.DataFrame({'label':[lable] * len(new_messages), 'text':new_messages}), ignore_index = True)\n"
          ]
        },
        {
          "output_type": "stream",
          "name": "stdout",
          "text": [
            "Epoch 1/10\n",
            "195/197 [============================>.] - ETA: 0s - loss: 0.1242 - accuracy: 0.9553"
          ]
        },
        {
          "output_type": "stream",
          "name": "stderr",
          "text": [
            "WARNING:tensorflow:Your input ran out of data; interrupting training. Make sure that your dataset or generator can generate at least `steps_per_epoch * epochs` batches (in this case, 24 batches). You may need to use the repeat() function when building your dataset.\n"
          ]
        },
        {
          "output_type": "stream",
          "name": "stdout",
          "text": [
            "\b\b\b\b\b\b\b\b\b\b\b\b\b\b\b\b\b\b\b\b\b\b\b\b\b\b\b\b\b\b\b\b\b\b\b\b\b\b\b\b\b\b\b\b\b\b\b\b\b\b\b\b\b\b\b\b\b\b\b\b\b\b\b\b\b\b\b\b\b\b\b\b\b\b\b\b\b\b\b\b\b\b\b\b\r197/197 [==============================] - 21s 63ms/step - loss: 0.1231 - accuracy: 0.9557 - val_loss: 0.3509 - val_accuracy: 0.9032\n",
            "Epoch 2/10\n",
            "197/197 [==============================] - 4s 21ms/step - loss: 2.8462e-04 - accuracy: 1.0000\n",
            "Epoch 3/10\n",
            "197/197 [==============================] - 3s 15ms/step - loss: 6.5368e-05 - accuracy: 1.0000\n",
            "Epoch 4/10\n",
            "197/197 [==============================] - 2s 13ms/step - loss: 3.2524e-05 - accuracy: 1.0000\n",
            "Epoch 5/10\n",
            "197/197 [==============================] - 3s 14ms/step - loss: 1.8957e-05 - accuracy: 1.0000\n",
            "Epoch 6/10\n",
            "  1/197 [..............................] - ETA: 2s - loss: 1.9486e-05 - accuracy: 1.0000"
          ]
        },
        {
          "output_type": "stream",
          "name": "stderr",
          "text": [
            "WARNING:tensorflow:Your input ran out of data; interrupting training. Make sure that your dataset or generator can generate at least `steps_per_epoch * epochs` batches (in this case, 1970 batches). You may need to use the repeat() function when building your dataset.\n"
          ]
        },
        {
          "output_type": "stream",
          "name": "stdout",
          "text": [
            "197/197 [==============================] - 0s 535us/step - loss: 1.5652e-05 - accuracy: 1.0000\n",
            "4/4 [==============================] - 0s 7ms/step - loss: 0.6877 - accuracy: 0.8952\n",
            "4/4 [==============================] - 1s 6ms/step\n",
            "test accuracy = 0.8951612903225806\n",
            "Recall = 0.84\n",
            "Precision = 0.984375\n",
            "F1 score = 0.9064748201438849\n",
            "F2 score = 0.8653846153846153\n",
            "MCC = 0.8017900890749247\n",
            "              precision    recall  f1-score   support\n",
            "\n",
            "           0       0.80      0.98      0.88        49\n",
            "           1       0.98      0.84      0.91        75\n",
            "\n",
            "    accuracy                           0.90       124\n",
            "   macro avg       0.89      0.91      0.89       124\n",
            "weighted avg       0.91      0.90      0.90       124\n",
            "\n"
          ]
        },
        {
          "output_type": "display_data",
          "data": {
            "text/plain": [
              "<Figure size 640x480 with 2 Axes>"
            ],
            "image/png": "[encoded data removed]"
          },
          "metadata": {}
        },
        {
          "output_type": "execute_result",
          "data": {
            "text/plain": [
              "(0.9064748201438849, 0.8653846153846153)"
            ]
          },
          "metadata": {},
          "execution_count": 108
        }
      ]
    }
  ],
  "metadata": {
    "colab": {
      "provenance": [],
      "machine_shape": "hm"
    },
    "kernelspec": {
      "display_name": "Python 3",
      "name": "python3"
    },
    "language_info": {
      "name": "python"
    },
    "gpuClass": "standard",
    "accelerator": "GPU"
  },
  "nbformat": 4,
  "nbformat_minor": 0
}