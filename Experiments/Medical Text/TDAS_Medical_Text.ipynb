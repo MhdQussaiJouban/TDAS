{
  "cells": [
    {
      "cell_type": "code",
      "execution_count": null,
      "metadata": {
        "colab": {
          "base_uri": "https://localhost:8080/"
        },
        "id": "1fxQvigWg05-",
        "outputId": "5a34a4c1-3544-4e40-c447-7512f8bcf407"
      },
      "outputs": [
        {
          "output_type": "stream",
          "name": "stderr",
          "text": [
            "[nltk_data] Downloading package stopwords to /root/nltk_data...\n",
            "[nltk_data]   Unzipping corpora/stopwords.zip.\n",
            "[nltk_data] Downloading package punkt to /root/nltk_data...\n",
            "[nltk_data]   Unzipping tokenizers/punkt.zip.\n",
            "[nltk_data] Downloading package averaged_perceptron_tagger to\n",
            "[nltk_data]     /root/nltk_data...\n",
            "[nltk_data]   Unzipping taggers/averaged_perceptron_tagger.zip.\n"
          ]
        },
        {
          "output_type": "stream",
          "name": "stdout",
          "text": [
            "Mounted at /content/gdrive\n"
          ]
        }
      ],
      "source": [
        "from datetime import datetime\n",
        "import numpy as np\n",
        "import pandas as pd\n",
        "from sklearn.preprocessing import LabelEncoder\n",
        "from sklearn.model_selection import train_test_split\n",
        "from sklearn.ensemble import RandomForestClassifier, ExtraTreesClassifier\n",
        "from sklearn.linear_model import SGDClassifier, LogisticRegression\n",
        "from sklearn.naive_bayes import GaussianNB\n",
        "from sklearn.neural_network import MLPClassifier\n",
        "from sklearn.svm import SVC\n",
        "from sklearn.neighbors import KNeighborsClassifier\n",
        "from sklearn.model_selection import GridSearchCV\n",
        "from sklearn.ensemble import StackingClassifier\n",
        "from sklearn.metrics import confusion_matrix\n",
        "from sklearn.metrics import ConfusionMatrixDisplay\n",
        "from sklearn.metrics import accuracy_score, recall_score, precision_score, f1_score, fbeta_score, classification_report\n",
        "from sklearn.metrics import make_scorer \n",
        "import matplotlib.pyplot as plt\n",
        "import gensim.downloader as api\n",
        "import nltk\n",
        "from nltk.tokenize import word_tokenize\n",
        "from nltk import pos_tag\n",
        "nltk.download('stopwords')\n",
        "nltk.download('punkt')\n",
        "nltk.download('averaged_perceptron_tagger')\n",
        "\n",
        "from google.colab import drive\n",
        "drive.mount('/content/gdrive')\n",
        "dir_name = \"/content/gdrive/MyDrive/Thesis/\""
      ]
    },
    {
      "cell_type": "code",
      "execution_count": null,
      "metadata": {
        "colab": {
          "base_uri": "https://localhost:8080/",
          "height": 424
        },
        "id": "U3XESbgnh173",
        "outputId": "8160a295-fccc-43c2-b2e6-be4640c32e27"
      },
      "outputs": [
        {
          "output_type": "execute_result",
          "data": {
            "text/plain": [
              "       label                                               text\n",
              "0          4  Tissue changes around loose prostheses. A cani...\n",
              "1          0  Neuropeptide Y and neuron-specific enolase lev...\n",
              "2          1  Sexually transmitted diseases of the colon, re...\n",
              "3          0  Lipolytic factors associated with murine and h...\n",
              "4          2  Does carotid restenosis predict an increased r...\n",
              "...      ...                                                ...\n",
              "11545      0  Epirubicin at two dose levels with prednisolon...\n",
              "11546      0  Four and a half year follow up of women with d...\n",
              "11547      4  Safety of the transbronchial biopsy in outpati...\n",
              "11548      2  Interictal spikes and hippocampal somatostatin...\n",
              "11549      4  Recurrent thoracic outlet syndrome after first...\n",
              "\n",
              "[11550 rows x 2 columns]"
            ],
            "text/html": [
              "\n",
              "  <div id=\"df-943ff1a3-682c-44c0-a597-74452cd7744f\">\n",
              "    <div class=\"colab-df-container\">\n",
              "      <div>\n",
              "<style scoped>\n",
              "    .dataframe tbody tr th:only-of-type {\n",
              "        vertical-align: middle;\n",
              "    }\n",
              "\n",
              "    .dataframe tbody tr th {\n",
              "        vertical-align: top;\n",
              "    }\n",
              "\n",
              "    .dataframe thead th {\n",
              "        text-align: right;\n",
              "    }\n",
              "</style>\n",
              "<table border=\"1\" class=\"dataframe\">\n",
              "  <thead>\n",
              "    <tr style=\"text-align: right;\">\n",
              "      <th></th>\n",
              "      <th>label</th>\n",
              "      <th>text</th>\n",
              "    </tr>\n",
              "  </thead>\n",
              "  <tbody>\n",
              "    <tr>\n",
              "      <th>0</th>\n",
              "      <td>4</td>\n",
              "      <td>Tissue changes around loose prostheses. A cani...</td>\n",
              "    </tr>\n",
              "    <tr>\n",
              "      <th>1</th>\n",
              "      <td>0</td>\n",
              "      <td>Neuropeptide Y and neuron-specific enolase lev...</td>\n",
              "    </tr>\n",
              "    <tr>\n",
              "      <th>2</th>\n",
              "      <td>1</td>\n",
              "      <td>Sexually transmitted diseases of the colon, re...</td>\n",
              "    </tr>\n",
              "    <tr>\n",
              "      <th>3</th>\n",
              "      <td>0</td>\n",
              "      <td>Lipolytic factors associated with murine and h...</td>\n",
              "    </tr>\n",
              "    <tr>\n",
              "      <th>4</th>\n",
              "      <td>2</td>\n",
              "      <td>Does carotid restenosis predict an increased r...</td>\n",
              "    </tr>\n",
              "    <tr>\n",
              "      <th>...</th>\n",
              "      <td>...</td>\n",
              "      <td>...</td>\n",
              "    </tr>\n",
              "    <tr>\n",
              "      <th>11545</th>\n",
              "      <td>0</td>\n",
              "      <td>Epirubicin at two dose levels with prednisolon...</td>\n",
              "    </tr>\n",
              "    <tr>\n",
              "      <th>11546</th>\n",
              "      <td>0</td>\n",
              "      <td>Four and a half year follow up of women with d...</td>\n",
              "    </tr>\n",
              "    <tr>\n",
              "      <th>11547</th>\n",
              "      <td>4</td>\n",
              "      <td>Safety of the transbronchial biopsy in outpati...</td>\n",
              "    </tr>\n",
              "    <tr>\n",
              "      <th>11548</th>\n",
              "      <td>2</td>\n",
              "      <td>Interictal spikes and hippocampal somatostatin...</td>\n",
              "    </tr>\n",
              "    <tr>\n",
              "      <th>11549</th>\n",
              "      <td>4</td>\n",
              "      <td>Recurrent thoracic outlet syndrome after first...</td>\n",
              "    </tr>\n",
              "  </tbody>\n",
              "</table>\n",
              "<p>11550 rows × 2 columns</p>\n",
              "</div>\n",
              "      <button class=\"colab-df-convert\" onclick=\"convertToInteractive('df-943ff1a3-682c-44c0-a597-74452cd7744f')\"\n",
              "              title=\"Convert this dataframe to an interactive table.\"\n",
              "              style=\"display:none;\">\n",
              "        \n",
              "  <svg xmlns=\"http://www.w3.org/2000/svg\" height=\"24px\"viewBox=\"0 0 24 24\"\n",
              "       width=\"24px\">\n",
              "    <path d=\"M0 0h24v24H0V0z\" fill=\"none\"/>\n",
              "    <path d=\"M18.56 5.44l.94 2.06.94-2.06 2.06-.94-2.06-.94-.94-2.06-.94 2.06-2.06.94zm-11 1L8.5 8.5l.94-2.06 2.06-.94-2.06-.94L8.5 2.5l-.94 2.06-2.06.94zm10 10l.94 2.06.94-2.06 2.06-.94-2.06-.94-.94-2.06-.94 2.06-2.06.94z\"/><path d=\"M17.41 7.96l-1.37-1.37c-.4-.4-.92-.59-1.43-.59-.52 0-1.04.2-1.43.59L10.3 9.45l-7.72 7.72c-.78.78-.78 2.05 0 2.83L4 21.41c.39.39.9.59 1.41.59.51 0 1.02-.2 1.41-.59l7.78-7.78 2.81-2.81c.8-.78.8-2.07 0-2.86zM5.41 20L4 18.59l7.72-7.72 1.47 1.35L5.41 20z\"/>\n",
              "  </svg>\n",
              "      </button>\n",
              "      \n",
              "  <style>\n",
              "    .colab-df-container {\n",
              "      display:flex;\n",
              "      flex-wrap:wrap;\n",
              "      gap: 12px;\n",
              "    }\n",
              "\n",
              "    .colab-df-convert {\n",
              "      background-color: #E8F0FE;\n",
              "      border: none;\n",
              "      border-radius: 50%;\n",
              "      cursor: pointer;\n",
              "      display: none;\n",
              "      fill: #1967D2;\n",
              "      height: 32px;\n",
              "      padding: 0 0 0 0;\n",
              "      width: 32px;\n",
              "    }\n",
              "\n",
              "    .colab-df-convert:hover {\n",
              "      background-color: #E2EBFA;\n",
              "      box-shadow: 0px 1px 2px rgba(60, 64, 67, 0.3), 0px 1px 3px 1px rgba(60, 64, 67, 0.15);\n",
              "      fill: #174EA6;\n",
              "    }\n",
              "\n",
              "    [theme=dark] .colab-df-convert {\n",
              "      background-color: #3B4455;\n",
              "      fill: #D2E3FC;\n",
              "    }\n",
              "\n",
              "    [theme=dark] .colab-df-convert:hover {\n",
              "      background-color: #434B5C;\n",
              "      box-shadow: 0px 1px 3px 1px rgba(0, 0, 0, 0.15);\n",
              "      filter: drop-shadow(0px 1px 2px rgba(0, 0, 0, 0.3));\n",
              "      fill: #FFFFFF;\n",
              "    }\n",
              "  </style>\n",
              "\n",
              "      <script>\n",
              "        const buttonEl =\n",
              "          document.querySelector('#df-943ff1a3-682c-44c0-a597-74452cd7744f button.colab-df-convert');\n",
              "        buttonEl.style.display =\n",
              "          google.colab.kernel.accessAllowed ? 'block' : 'none';\n",
              "\n",
              "        async function convertToInteractive(key) {\n",
              "          const element = document.querySelector('#df-943ff1a3-682c-44c0-a597-74452cd7744f');\n",
              "          const dataTable =\n",
              "            await google.colab.kernel.invokeFunction('convertToInteractive',\n",
              "                                                     [key], {});\n",
              "          if (!dataTable) return;\n",
              "\n",
              "          const docLinkHtml = 'Like what you see? Visit the ' +\n",
              "            '<a target=\"_blank\" href=https://colab.research.google.com/notebooks/data_table.ipynb>data table notebook</a>'\n",
              "            + ' to learn more about interactive tables.';\n",
              "          element.innerHTML = '';\n",
              "          dataTable['output_type'] = 'display_data';\n",
              "          await google.colab.output.renderOutput(dataTable, element);\n",
              "          const docLink = document.createElement('div');\n",
              "          docLink.innerHTML = docLinkHtml;\n",
              "          element.appendChild(docLink);\n",
              "        }\n",
              "      </script>\n",
              "    </div>\n",
              "  </div>\n",
              "  "
            ]
          },
          "metadata": {},
          "execution_count": 2
        }
      ],
      "source": [
        "def get_raw_data(dir_name, file_name):\n",
        "    #  load data\n",
        "    data = pd.read_csv('{}{}.csv'.format(dir_name,file_name), encoding = 'latin-1', usecols=['medical_abstract', 'condition_label'])\n",
        "    data = data.rename(columns={'medical_abstract': 'text', 'condition_label': 'label'})\n",
        "    le = LabelEncoder()\n",
        "    data['label'] = le.fit_transform( data['label'])\n",
        "    return data\n",
        "\n",
        "raw_train_data = get_raw_data(dir_name + 'datasets/Medical_Abstracts/', 'train')\n",
        "raw_train_data"
      ]
    },
    {
      "cell_type": "code",
      "execution_count": null,
      "metadata": {
        "colab": {
          "base_uri": "https://localhost:8080/"
        },
        "id": "x4MEp29Jve-k",
        "outputId": "ba3369e2-110c-4689-ea68-84329246726f"
      },
      "outputs": [
        {
          "output_type": "execute_result",
          "data": {
            "text/plain": [
              "False"
            ]
          },
          "metadata": {},
          "execution_count": 3
        }
      ],
      "source": [
        "raw_train_data['text'].is_unique"
      ]
    },
    {
      "cell_type": "code",
      "execution_count": null,
      "metadata": {
        "colab": {
          "base_uri": "https://localhost:8080/"
        },
        "id": "svz_EkDzvg-n",
        "outputId": "25e46aea-3eae-4ce5-a1cf-bbcb533b2567"
      },
      "outputs": [
        {
          "output_type": "execute_result",
          "data": {
            "text/plain": [
              "True"
            ]
          },
          "metadata": {},
          "execution_count": 4
        }
      ],
      "source": [
        "raw_train_data.drop_duplicates(subset=['text'], inplace=True)\n",
        "raw_train_data['text'].is_unique"
      ]
    },
    {
      "cell_type": "code",
      "execution_count": null,
      "metadata": {
        "colab": {
          "base_uri": "https://localhost:8080/",
          "height": 424
        },
        "id": "OplwPtWGvlYO",
        "outputId": "24db674f-b3dd-434f-f5d1-fc89253b4e63"
      },
      "outputs": [
        {
          "output_type": "execute_result",
          "data": {
            "text/plain": [
              "       label                                               text\n",
              "0          4  Tissue changes around loose prostheses. A cani...\n",
              "1          0  Neuropeptide Y and neuron-specific enolase lev...\n",
              "2          1  Sexually transmitted diseases of the colon, re...\n",
              "3          0  Lipolytic factors associated with murine and h...\n",
              "4          2  Does carotid restenosis predict an increased r...\n",
              "...      ...                                                ...\n",
              "11539      2  Familial eating epilepsy. Eating-related seizu...\n",
              "11543      3  Deep venous thrombosis in intravenous cocaine ...\n",
              "11546      0  Four and a half year follow up of women with d...\n",
              "11547      4  Safety of the transbronchial biopsy in outpati...\n",
              "11548      2  Interictal spikes and hippocampal somatostatin...\n",
              "\n",
              "[9445 rows x 2 columns]"
            ],
            "text/html": [
              "\n",
              "  <div id=\"df-8cd1820f-73f4-4d90-8a88-25218dc0496f\">\n",
              "    <div class=\"colab-df-container\">\n",
              "      <div>\n",
              "<style scoped>\n",
              "    .dataframe tbody tr th:only-of-type {\n",
              "        vertical-align: middle;\n",
              "    }\n",
              "\n",
              "    .dataframe tbody tr th {\n",
              "        vertical-align: top;\n",
              "    }\n",
              "\n",
              "    .dataframe thead th {\n",
              "        text-align: right;\n",
              "    }\n",
              "</style>\n",
              "<table border=\"1\" class=\"dataframe\">\n",
              "  <thead>\n",
              "    <tr style=\"text-align: right;\">\n",
              "      <th></th>\n",
              "      <th>label</th>\n",
              "      <th>text</th>\n",
              "    </tr>\n",
              "  </thead>\n",
              "  <tbody>\n",
              "    <tr>\n",
              "      <th>0</th>\n",
              "      <td>4</td>\n",
              "      <td>Tissue changes around loose prostheses. A cani...</td>\n",
              "    </tr>\n",
              "    <tr>\n",
              "      <th>1</th>\n",
              "      <td>0</td>\n",
              "      <td>Neuropeptide Y and neuron-specific enolase lev...</td>\n",
              "    </tr>\n",
              "    <tr>\n",
              "      <th>2</th>\n",
              "      <td>1</td>\n",
              "      <td>Sexually transmitted diseases of the colon, re...</td>\n",
              "    </tr>\n",
              "    <tr>\n",
              "      <th>3</th>\n",
              "      <td>0</td>\n",
              "      <td>Lipolytic factors associated with murine and h...</td>\n",
              "    </tr>\n",
              "    <tr>\n",
              "      <th>4</th>\n",
              "      <td>2</td>\n",
              "      <td>Does carotid restenosis predict an increased r...</td>\n",
              "    </tr>\n",
              "    <tr>\n",
              "      <th>...</th>\n",
              "      <td>...</td>\n",
              "      <td>...</td>\n",
              "    </tr>\n",
              "    <tr>\n",
              "      <th>11539</th>\n",
              "      <td>2</td>\n",
              "      <td>Familial eating epilepsy. Eating-related seizu...</td>\n",
              "    </tr>\n",
              "    <tr>\n",
              "      <th>11543</th>\n",
              "      <td>3</td>\n",
              "      <td>Deep venous thrombosis in intravenous cocaine ...</td>\n",
              "    </tr>\n",
              "    <tr>\n",
              "      <th>11546</th>\n",
              "      <td>0</td>\n",
              "      <td>Four and a half year follow up of women with d...</td>\n",
              "    </tr>\n",
              "    <tr>\n",
              "      <th>11547</th>\n",
              "      <td>4</td>\n",
              "      <td>Safety of the transbronchial biopsy in outpati...</td>\n",
              "    </tr>\n",
              "    <tr>\n",
              "      <th>11548</th>\n",
              "      <td>2</td>\n",
              "      <td>Interictal spikes and hippocampal somatostatin...</td>\n",
              "    </tr>\n",
              "  </tbody>\n",
              "</table>\n",
              "<p>9445 rows × 2 columns</p>\n",
              "</div>\n",
              "      <button class=\"colab-df-convert\" onclick=\"convertToInteractive('df-8cd1820f-73f4-4d90-8a88-25218dc0496f')\"\n",
              "              title=\"Convert this dataframe to an interactive table.\"\n",
              "              style=\"display:none;\">\n",
              "        \n",
              "  <svg xmlns=\"http://www.w3.org/2000/svg\" height=\"24px\"viewBox=\"0 0 24 24\"\n",
              "       width=\"24px\">\n",
              "    <path d=\"M0 0h24v24H0V0z\" fill=\"none\"/>\n",
              "    <path d=\"M18.56 5.44l.94 2.06.94-2.06 2.06-.94-2.06-.94-.94-2.06-.94 2.06-2.06.94zm-11 1L8.5 8.5l.94-2.06 2.06-.94-2.06-.94L8.5 2.5l-.94 2.06-2.06.94zm10 10l.94 2.06.94-2.06 2.06-.94-2.06-.94-.94-2.06-.94 2.06-2.06.94z\"/><path d=\"M17.41 7.96l-1.37-1.37c-.4-.4-.92-.59-1.43-.59-.52 0-1.04.2-1.43.59L10.3 9.45l-7.72 7.72c-.78.78-.78 2.05 0 2.83L4 21.41c.39.39.9.59 1.41.59.51 0 1.02-.2 1.41-.59l7.78-7.78 2.81-2.81c.8-.78.8-2.07 0-2.86zM5.41 20L4 18.59l7.72-7.72 1.47 1.35L5.41 20z\"/>\n",
              "  </svg>\n",
              "      </button>\n",
              "      \n",
              "  <style>\n",
              "    .colab-df-container {\n",
              "      display:flex;\n",
              "      flex-wrap:wrap;\n",
              "      gap: 12px;\n",
              "    }\n",
              "\n",
              "    .colab-df-convert {\n",
              "      background-color: #E8F0FE;\n",
              "      border: none;\n",
              "      border-radius: 50%;\n",
              "      cursor: pointer;\n",
              "      display: none;\n",
              "      fill: #1967D2;\n",
              "      height: 32px;\n",
              "      padding: 0 0 0 0;\n",
              "      width: 32px;\n",
              "    }\n",
              "\n",
              "    .colab-df-convert:hover {\n",
              "      background-color: #E2EBFA;\n",
              "      box-shadow: 0px 1px 2px rgba(60, 64, 67, 0.3), 0px 1px 3px 1px rgba(60, 64, 67, 0.15);\n",
              "      fill: #174EA6;\n",
              "    }\n",
              "\n",
              "    [theme=dark] .colab-df-convert {\n",
              "      background-color: #3B4455;\n",
              "      fill: #D2E3FC;\n",
              "    }\n",
              "\n",
              "    [theme=dark] .colab-df-convert:hover {\n",
              "      background-color: #434B5C;\n",
              "      box-shadow: 0px 1px 3px 1px rgba(0, 0, 0, 0.15);\n",
              "      filter: drop-shadow(0px 1px 2px rgba(0, 0, 0, 0.3));\n",
              "      fill: #FFFFFF;\n",
              "    }\n",
              "  </style>\n",
              "\n",
              "      <script>\n",
              "        const buttonEl =\n",
              "          document.querySelector('#df-8cd1820f-73f4-4d90-8a88-25218dc0496f button.colab-df-convert');\n",
              "        buttonEl.style.display =\n",
              "          google.colab.kernel.accessAllowed ? 'block' : 'none';\n",
              "\n",
              "        async function convertToInteractive(key) {\n",
              "          const element = document.querySelector('#df-8cd1820f-73f4-4d90-8a88-25218dc0496f');\n",
              "          const dataTable =\n",
              "            await google.colab.kernel.invokeFunction('convertToInteractive',\n",
              "                                                     [key], {});\n",
              "          if (!dataTable) return;\n",
              "\n",
              "          const docLinkHtml = 'Like what you see? Visit the ' +\n",
              "            '<a target=\"_blank\" href=https://colab.research.google.com/notebooks/data_table.ipynb>data table notebook</a>'\n",
              "            + ' to learn more about interactive tables.';\n",
              "          element.innerHTML = '';\n",
              "          dataTable['output_type'] = 'display_data';\n",
              "          await google.colab.output.renderOutput(dataTable, element);\n",
              "          const docLink = document.createElement('div');\n",
              "          docLink.innerHTML = docLinkHtml;\n",
              "          element.appendChild(docLink);\n",
              "        }\n",
              "      </script>\n",
              "    </div>\n",
              "  </div>\n",
              "  "
            ]
          },
          "metadata": {},
          "execution_count": 5
        }
      ],
      "source": [
        "raw_train_data"
      ]
    },
    {
      "cell_type": "code",
      "execution_count": null,
      "metadata": {
        "colab": {
          "base_uri": "https://localhost:8080/",
          "height": 653
        },
        "id": "UEmV9bflwAKD",
        "outputId": "0f275e26-7048-4075-8d9d-3feb48d43fba"
      },
      "outputs": [
        {
          "output_type": "display_data",
          "data": {
            "text/plain": [
              "<Figure size 800x800 with 1 Axes>"
            ],
            "image/png": "[encoded data removed]"
          },
          "metadata": {}
        }
      ],
      "source": [
        "def get_dataset_statistics(data):\n",
        "    dataset_statistics = {'Number of texts': [data['label'].value_counts()[0], data['label'].value_counts()[1], data['label'].value_counts()[2], data['label'].value_counts()[3], data['label'].value_counts()[4]]}\n",
        "    df = pd.DataFrame(dataset_statistics, index=['0', '1', '2', '3', '4'])\n",
        "    df.plot(kind='pie', y='Number of texts', figsize=(8, 8), fontsize=14,\n",
        "            autopct=lambda v: '{:.0f} ({:.1f}%)'.format(v / 100 * data['label'].count(), v))\n",
        "    \n",
        "# Raw data statistics\n",
        "get_dataset_statistics(raw_train_data)"
      ]
    },
    {
      "cell_type": "code",
      "execution_count": null,
      "metadata": {
        "colab": {
          "base_uri": "https://localhost:8080/",
          "height": 424
        },
        "id": "ISqEV1Qn7ujw",
        "outputId": "b0d6d435-b7e5-4b20-e8c1-701ba1683285"
      },
      "outputs": [
        {
          "output_type": "execute_result",
          "data": {
            "text/plain": [
              "      label                                               text\n",
              "0         2  Obstructive sleep apnea following topical orop...\n",
              "1         4  Neutrophil function and pyogenic infections in...\n",
              "2         4  A phase II study of combined methotrexate and ...\n",
              "3         0  Flow cytometric DNA analysis of parathyroid tu...\n",
              "4         3  Paraneoplastic vasculitic neuropathy: a treata...\n",
              "...     ...                                                ...\n",
              "2883      3  Management of aortobronchial fistula with graf...\n",
              "2884      4  Tuberculous psoas muscle abscess following che...\n",
              "2885      3  Clinical evaluation of high-frequency (ultraso...\n",
              "2886      0  Antitumor activity of liposome-encapsulated do...\n",
              "2887      3  An unusual venous anomaly of the placenta. The...\n",
              "\n",
              "[2888 rows x 2 columns]"
            ],
            "text/html": [
              "\n",
              "  <div id=\"df-91f4fce3-2cd3-45e3-a912-86250bde3877\">\n",
              "    <div class=\"colab-df-container\">\n",
              "      <div>\n",
              "<style scoped>\n",
              "    .dataframe tbody tr th:only-of-type {\n",
              "        vertical-align: middle;\n",
              "    }\n",
              "\n",
              "    .dataframe tbody tr th {\n",
              "        vertical-align: top;\n",
              "    }\n",
              "\n",
              "    .dataframe thead th {\n",
              "        text-align: right;\n",
              "    }\n",
              "</style>\n",
              "<table border=\"1\" class=\"dataframe\">\n",
              "  <thead>\n",
              "    <tr style=\"text-align: right;\">\n",
              "      <th></th>\n",
              "      <th>label</th>\n",
              "      <th>text</th>\n",
              "    </tr>\n",
              "  </thead>\n",
              "  <tbody>\n",
              "    <tr>\n",
              "      <th>0</th>\n",
              "      <td>2</td>\n",
              "      <td>Obstructive sleep apnea following topical orop...</td>\n",
              "    </tr>\n",
              "    <tr>\n",
              "      <th>1</th>\n",
              "      <td>4</td>\n",
              "      <td>Neutrophil function and pyogenic infections in...</td>\n",
              "    </tr>\n",
              "    <tr>\n",
              "      <th>2</th>\n",
              "      <td>4</td>\n",
              "      <td>A phase II study of combined methotrexate and ...</td>\n",
              "    </tr>\n",
              "    <tr>\n",
              "      <th>3</th>\n",
              "      <td>0</td>\n",
              "      <td>Flow cytometric DNA analysis of parathyroid tu...</td>\n",
              "    </tr>\n",
              "    <tr>\n",
              "      <th>4</th>\n",
              "      <td>3</td>\n",
              "      <td>Paraneoplastic vasculitic neuropathy: a treata...</td>\n",
              "    </tr>\n",
              "    <tr>\n",
              "      <th>...</th>\n",
              "      <td>...</td>\n",
              "      <td>...</td>\n",
              "    </tr>\n",
              "    <tr>\n",
              "      <th>2883</th>\n",
              "      <td>3</td>\n",
              "      <td>Management of aortobronchial fistula with graf...</td>\n",
              "    </tr>\n",
              "    <tr>\n",
              "      <th>2884</th>\n",
              "      <td>4</td>\n",
              "      <td>Tuberculous psoas muscle abscess following che...</td>\n",
              "    </tr>\n",
              "    <tr>\n",
              "      <th>2885</th>\n",
              "      <td>3</td>\n",
              "      <td>Clinical evaluation of high-frequency (ultraso...</td>\n",
              "    </tr>\n",
              "    <tr>\n",
              "      <th>2886</th>\n",
              "      <td>0</td>\n",
              "      <td>Antitumor activity of liposome-encapsulated do...</td>\n",
              "    </tr>\n",
              "    <tr>\n",
              "      <th>2887</th>\n",
              "      <td>3</td>\n",
              "      <td>An unusual venous anomaly of the placenta. The...</td>\n",
              "    </tr>\n",
              "  </tbody>\n",
              "</table>\n",
              "<p>2888 rows × 2 columns</p>\n",
              "</div>\n",
              "      <button class=\"colab-df-convert\" onclick=\"convertToInteractive('df-91f4fce3-2cd3-45e3-a912-86250bde3877')\"\n",
              "              title=\"Convert this dataframe to an interactive table.\"\n",
              "              style=\"display:none;\">\n",
              "        \n",
              "  <svg xmlns=\"http://www.w3.org/2000/svg\" height=\"24px\"viewBox=\"0 0 24 24\"\n",
              "       width=\"24px\">\n",
              "    <path d=\"M0 0h24v24H0V0z\" fill=\"none\"/>\n",
              "    <path d=\"M18.56 5.44l.94 2.06.94-2.06 2.06-.94-2.06-.94-.94-2.06-.94 2.06-2.06.94zm-11 1L8.5 8.5l.94-2.06 2.06-.94-2.06-.94L8.5 2.5l-.94 2.06-2.06.94zm10 10l.94 2.06.94-2.06 2.06-.94-2.06-.94-.94-2.06-.94 2.06-2.06.94z\"/><path d=\"M17.41 7.96l-1.37-1.37c-.4-.4-.92-.59-1.43-.59-.52 0-1.04.2-1.43.59L10.3 9.45l-7.72 7.72c-.78.78-.78 2.05 0 2.83L4 21.41c.39.39.9.59 1.41.59.51 0 1.02-.2 1.41-.59l7.78-7.78 2.81-2.81c.8-.78.8-2.07 0-2.86zM5.41 20L4 18.59l7.72-7.72 1.47 1.35L5.41 20z\"/>\n",
              "  </svg>\n",
              "      </button>\n",
              "      \n",
              "  <style>\n",
              "    .colab-df-container {\n",
              "      display:flex;\n",
              "      flex-wrap:wrap;\n",
              "      gap: 12px;\n",
              "    }\n",
              "\n",
              "    .colab-df-convert {\n",
              "      background-color: #E8F0FE;\n",
              "      border: none;\n",
              "      border-radius: 50%;\n",
              "      cursor: pointer;\n",
              "      display: none;\n",
              "      fill: #1967D2;\n",
              "      height: 32px;\n",
              "      padding: 0 0 0 0;\n",
              "      width: 32px;\n",
              "    }\n",
              "\n",
              "    .colab-df-convert:hover {\n",
              "      background-color: #E2EBFA;\n",
              "      box-shadow: 0px 1px 2px rgba(60, 64, 67, 0.3), 0px 1px 3px 1px rgba(60, 64, 67, 0.15);\n",
              "      fill: #174EA6;\n",
              "    }\n",
              "\n",
              "    [theme=dark] .colab-df-convert {\n",
              "      background-color: #3B4455;\n",
              "      fill: #D2E3FC;\n",
              "    }\n",
              "\n",
              "    [theme=dark] .colab-df-convert:hover {\n",
              "      background-color: #434B5C;\n",
              "      box-shadow: 0px 1px 3px 1px rgba(0, 0, 0, 0.15);\n",
              "      filter: drop-shadow(0px 1px 2px rgba(0, 0, 0, 0.3));\n",
              "      fill: #FFFFFF;\n",
              "    }\n",
              "  </style>\n",
              "\n",
              "      <script>\n",
              "        const buttonEl =\n",
              "          document.querySelector('#df-91f4fce3-2cd3-45e3-a912-86250bde3877 button.colab-df-convert');\n",
              "        buttonEl.style.display =\n",
              "          google.colab.kernel.accessAllowed ? 'block' : 'none';\n",
              "\n",
              "        async function convertToInteractive(key) {\n",
              "          const element = document.querySelector('#df-91f4fce3-2cd3-45e3-a912-86250bde3877');\n",
              "          const dataTable =\n",
              "            await google.colab.kernel.invokeFunction('convertToInteractive',\n",
              "                                                     [key], {});\n",
              "          if (!dataTable) return;\n",
              "\n",
              "          const docLinkHtml = 'Like what you see? Visit the ' +\n",
              "            '<a target=\"_blank\" href=https://colab.research.google.com/notebooks/data_table.ipynb>data table notebook</a>'\n",
              "            + ' to learn more about interactive tables.';\n",
              "          element.innerHTML = '';\n",
              "          dataTable['output_type'] = 'display_data';\n",
              "          await google.colab.output.renderOutput(dataTable, element);\n",
              "          const docLink = document.createElement('div');\n",
              "          docLink.innerHTML = docLinkHtml;\n",
              "          element.appendChild(docLink);\n",
              "        }\n",
              "      </script>\n",
              "    </div>\n",
              "  </div>\n",
              "  "
            ]
          },
          "metadata": {},
          "execution_count": 7
        }
      ],
      "source": [
        "raw_test_data = get_raw_data(dir_name + 'datasets/Medical_Abstracts/', 'test')\n",
        "raw_test_data"
      ]
    },
    {
      "cell_type": "code",
      "source": [
        "raw_test_data['text'].is_unique"
      ],
      "metadata": {
        "colab": {
          "base_uri": "https://localhost:8080/"
        },
        "id": "SvtZk-Ze7abW",
        "outputId": "210df165-cc58-44a5-e91f-84789129395e"
      },
      "execution_count": null,
      "outputs": [
        {
          "output_type": "execute_result",
          "data": {
            "text/plain": [
              "False"
            ]
          },
          "metadata": {},
          "execution_count": 8
        }
      ]
    },
    {
      "cell_type": "code",
      "source": [
        "raw_test_data.drop_duplicates(subset=['text'], inplace=True)\n",
        "raw_test_data['text'].is_unique"
      ],
      "metadata": {
        "colab": {
          "base_uri": "https://localhost:8080/"
        },
        "id": "NTuKb3P47hM8",
        "outputId": "d898dfe8-09ae-46b0-fc26-d91aaa99ea9d"
      },
      "execution_count": null,
      "outputs": [
        {
          "output_type": "execute_result",
          "data": {
            "text/plain": [
              "True"
            ]
          },
          "metadata": {},
          "execution_count": 9
        }
      ]
    },
    {
      "cell_type": "code",
      "source": [
        "raw_test_data"
      ],
      "metadata": {
        "colab": {
          "base_uri": "https://localhost:8080/",
          "height": 424
        },
        "id": "QEp5v5y57ksn",
        "outputId": "41baecb5-38a2-4b6b-9e79-7a2bdb32ee54"
      },
      "execution_count": null,
      "outputs": [
        {
          "output_type": "execute_result",
          "data": {
            "text/plain": [
              "      label                                               text\n",
              "0         2  Obstructive sleep apnea following topical orop...\n",
              "1         4  Neutrophil function and pyogenic infections in...\n",
              "2         4  A phase II study of combined methotrexate and ...\n",
              "3         0  Flow cytometric DNA analysis of parathyroid tu...\n",
              "4         3  Paraneoplastic vasculitic neuropathy: a treata...\n",
              "...     ...                                                ...\n",
              "2883      3  Management of aortobronchial fistula with graf...\n",
              "2884      4  Tuberculous psoas muscle abscess following che...\n",
              "2885      3  Clinical evaluation of high-frequency (ultraso...\n",
              "2886      0  Antitumor activity of liposome-encapsulated do...\n",
              "2887      3  An unusual venous anomaly of the placenta. The...\n",
              "\n",
              "[2770 rows x 2 columns]"
            ],
            "text/html": [
              "\n",
              "  <div id=\"df-9b8585d8-edab-4a5e-a47f-83d088cb7b34\">\n",
              "    <div class=\"colab-df-container\">\n",
              "      <div>\n",
              "<style scoped>\n",
              "    .dataframe tbody tr th:only-of-type {\n",
              "        vertical-align: middle;\n",
              "    }\n",
              "\n",
              "    .dataframe tbody tr th {\n",
              "        vertical-align: top;\n",
              "    }\n",
              "\n",
              "    .dataframe thead th {\n",
              "        text-align: right;\n",
              "    }\n",
              "</style>\n",
              "<table border=\"1\" class=\"dataframe\">\n",
              "  <thead>\n",
              "    <tr style=\"text-align: right;\">\n",
              "      <th></th>\n",
              "      <th>label</th>\n",
              "      <th>text</th>\n",
              "    </tr>\n",
              "  </thead>\n",
              "  <tbody>\n",
              "    <tr>\n",
              "      <th>0</th>\n",
              "      <td>2</td>\n",
              "      <td>Obstructive sleep apnea following topical orop...</td>\n",
              "    </tr>\n",
              "    <tr>\n",
              "      <th>1</th>\n",
              "      <td>4</td>\n",
              "      <td>Neutrophil function and pyogenic infections in...</td>\n",
              "    </tr>\n",
              "    <tr>\n",
              "      <th>2</th>\n",
              "      <td>4</td>\n",
              "      <td>A phase II study of combined methotrexate and ...</td>\n",
              "    </tr>\n",
              "    <tr>\n",
              "      <th>3</th>\n",
              "      <td>0</td>\n",
              "      <td>Flow cytometric DNA analysis of parathyroid tu...</td>\n",
              "    </tr>\n",
              "    <tr>\n",
              "      <th>4</th>\n",
              "      <td>3</td>\n",
              "      <td>Paraneoplastic vasculitic neuropathy: a treata...</td>\n",
              "    </tr>\n",
              "    <tr>\n",
              "      <th>...</th>\n",
              "      <td>...</td>\n",
              "      <td>...</td>\n",
              "    </tr>\n",
              "    <tr>\n",
              "      <th>2883</th>\n",
              "      <td>3</td>\n",
              "      <td>Management of aortobronchial fistula with graf...</td>\n",
              "    </tr>\n",
              "    <tr>\n",
              "      <th>2884</th>\n",
              "      <td>4</td>\n",
              "      <td>Tuberculous psoas muscle abscess following che...</td>\n",
              "    </tr>\n",
              "    <tr>\n",
              "      <th>2885</th>\n",
              "      <td>3</td>\n",
              "      <td>Clinical evaluation of high-frequency (ultraso...</td>\n",
              "    </tr>\n",
              "    <tr>\n",
              "      <th>2886</th>\n",
              "      <td>0</td>\n",
              "      <td>Antitumor activity of liposome-encapsulated do...</td>\n",
              "    </tr>\n",
              "    <tr>\n",
              "      <th>2887</th>\n",
              "      <td>3</td>\n",
              "      <td>An unusual venous anomaly of the placenta. The...</td>\n",
              "    </tr>\n",
              "  </tbody>\n",
              "</table>\n",
              "<p>2770 rows × 2 columns</p>\n",
              "</div>\n",
              "      <button class=\"colab-df-convert\" onclick=\"convertToInteractive('df-9b8585d8-edab-4a5e-a47f-83d088cb7b34')\"\n",
              "              title=\"Convert this dataframe to an interactive table.\"\n",
              "              style=\"display:none;\">\n",
              "        \n",
              "  <svg xmlns=\"http://www.w3.org/2000/svg\" height=\"24px\"viewBox=\"0 0 24 24\"\n",
              "       width=\"24px\">\n",
              "    <path d=\"M0 0h24v24H0V0z\" fill=\"none\"/>\n",
              "    <path d=\"M18.56 5.44l.94 2.06.94-2.06 2.06-.94-2.06-.94-.94-2.06-.94 2.06-2.06.94zm-11 1L8.5 8.5l.94-2.06 2.06-.94-2.06-.94L8.5 2.5l-.94 2.06-2.06.94zm10 10l.94 2.06.94-2.06 2.06-.94-2.06-.94-.94-2.06-.94 2.06-2.06.94z\"/><path d=\"M17.41 7.96l-1.37-1.37c-.4-.4-.92-.59-1.43-.59-.52 0-1.04.2-1.43.59L10.3 9.45l-7.72 7.72c-.78.78-.78 2.05 0 2.83L4 21.41c.39.39.9.59 1.41.59.51 0 1.02-.2 1.41-.59l7.78-7.78 2.81-2.81c.8-.78.8-2.07 0-2.86zM5.41 20L4 18.59l7.72-7.72 1.47 1.35L5.41 20z\"/>\n",
              "  </svg>\n",
              "      </button>\n",
              "      \n",
              "  <style>\n",
              "    .colab-df-container {\n",
              "      display:flex;\n",
              "      flex-wrap:wrap;\n",
              "      gap: 12px;\n",
              "    }\n",
              "\n",
              "    .colab-df-convert {\n",
              "      background-color: #E8F0FE;\n",
              "      border: none;\n",
              "      border-radius: 50%;\n",
              "      cursor: pointer;\n",
              "      display: none;\n",
              "      fill: #1967D2;\n",
              "      height: 32px;\n",
              "      padding: 0 0 0 0;\n",
              "      width: 32px;\n",
              "    }\n",
              "\n",
              "    .colab-df-convert:hover {\n",
              "      background-color: #E2EBFA;\n",
              "      box-shadow: 0px 1px 2px rgba(60, 64, 67, 0.3), 0px 1px 3px 1px rgba(60, 64, 67, 0.15);\n",
              "      fill: #174EA6;\n",
              "    }\n",
              "\n",
              "    [theme=dark] .colab-df-convert {\n",
              "      background-color: #3B4455;\n",
              "      fill: #D2E3FC;\n",
              "    }\n",
              "\n",
              "    [theme=dark] .colab-df-convert:hover {\n",
              "      background-color: #434B5C;\n",
              "      box-shadow: 0px 1px 3px 1px rgba(0, 0, 0, 0.15);\n",
              "      filter: drop-shadow(0px 1px 2px rgba(0, 0, 0, 0.3));\n",
              "      fill: #FFFFFF;\n",
              "    }\n",
              "  </style>\n",
              "\n",
              "      <script>\n",
              "        const buttonEl =\n",
              "          document.querySelector('#df-9b8585d8-edab-4a5e-a47f-83d088cb7b34 button.colab-df-convert');\n",
              "        buttonEl.style.display =\n",
              "          google.colab.kernel.accessAllowed ? 'block' : 'none';\n",
              "\n",
              "        async function convertToInteractive(key) {\n",
              "          const element = document.querySelector('#df-9b8585d8-edab-4a5e-a47f-83d088cb7b34');\n",
              "          const dataTable =\n",
              "            await google.colab.kernel.invokeFunction('convertToInteractive',\n",
              "                                                     [key], {});\n",
              "          if (!dataTable) return;\n",
              "\n",
              "          const docLinkHtml = 'Like what you see? Visit the ' +\n",
              "            '<a target=\"_blank\" href=https://colab.research.google.com/notebooks/data_table.ipynb>data table notebook</a>'\n",
              "            + ' to learn more about interactive tables.';\n",
              "          element.innerHTML = '';\n",
              "          dataTable['output_type'] = 'display_data';\n",
              "          await google.colab.output.renderOutput(dataTable, element);\n",
              "          const docLink = document.createElement('div');\n",
              "          docLink.innerHTML = docLinkHtml;\n",
              "          element.appendChild(docLink);\n",
              "        }\n",
              "      </script>\n",
              "    </div>\n",
              "  </div>\n",
              "  "
            ]
          },
          "metadata": {},
          "execution_count": 10
        }
      ]
    },
    {
      "cell_type": "code",
      "execution_count": null,
      "metadata": {
        "colab": {
          "base_uri": "https://localhost:8080/"
        },
        "id": "4ZZ09_Uo74QY",
        "outputId": "822e145d-e775-4d6b-8070-6e741ac47309"
      },
      "outputs": [
        {
          "output_type": "execute_result",
          "data": {
            "text/plain": [
              "4    912\n",
              "0    616\n",
              "3    589\n",
              "2    366\n",
              "1    287\n",
              "Name: label, dtype: int64"
            ]
          },
          "metadata": {},
          "execution_count": 11
        }
      ],
      "source": [
        "raw_test_data['label'].value_counts()"
      ]
    },
    {
      "cell_type": "code",
      "execution_count": null,
      "metadata": {
        "colab": {
          "base_uri": "https://localhost:8080/",
          "height": 653
        },
        "id": "7IJux9lv76e9",
        "outputId": "809ca764-d3a4-4c08-bde6-7bdb41dabb45"
      },
      "outputs": [
        {
          "output_type": "display_data",
          "data": {
            "text/plain": [
              "<Figure size 800x800 with 1 Axes>"
            ],
            "image/png": "[encoded data removed]"
          },
          "metadata": {}
        }
      ],
      "source": [
        "get_dataset_statistics(raw_test_data)"
      ]
    },
    {
      "cell_type": "markdown",
      "metadata": {
        "id": "rR-26BtzwlgO"
      },
      "source": [
        "# Text Preprocessing "
      ]
    },
    {
      "cell_type": "code",
      "execution_count": null,
      "metadata": {
        "id": "-YYZSlmdwk7N"
      },
      "outputs": [],
      "source": [
        "import requests\n",
        "stopwords_list = requests.get(\"https://github.com/stopwords-iso/stopwords-en/blob/master/stopwords-en.txt\").content\n",
        "stopwords = set(stopwords_list.decode().splitlines())"
      ]
    },
    {
      "cell_type": "code",
      "execution_count": null,
      "metadata": {
        "id": "pdivr-Q-woF-"
      },
      "outputs": [],
      "source": [
        "import string\n",
        "from nltk.corpus import stopwords\n",
        "from sklearn.feature_extraction.text import ENGLISH_STOP_WORDS\n",
        "\n",
        "sklearn_stopwords = ENGLISH_STOP_WORDS\n",
        "\n",
        "stop_words = set(stopwords.words('english'))\n",
        "stop_words.update(sklearn_stopwords)\n",
        "\n",
        "def text_preprocessing(raw_text):\n",
        "  text_words = raw_text.translate(str.maketrans('', '', string.punctuation))\n",
        "  msg_tokens = word_tokenize(text_words.lower())\n",
        "  filtered_text = [token for token in msg_tokens if not token in stop_words]\n",
        "  return \" \".join(filtered_text)"
      ]
    },
    {
      "cell_type": "code",
      "execution_count": null,
      "metadata": {
        "colab": {
          "base_uri": "https://localhost:8080/",
          "height": 424
        },
        "id": "r9f2EMT2wwxA",
        "outputId": "9d6408b0-d934-4cec-d42d-8a71ec501fde"
      },
      "outputs": [
        {
          "output_type": "execute_result",
          "data": {
            "text/plain": [
              "                                                    text  label\n",
              "0      tissue changes loose prostheses canine model i...      4\n",
              "1      neuropeptide neuronspecific enolase levels ben...      0\n",
              "2      sexually transmitted diseases colon rectum anu...      1\n",
              "3      lipolytic factors associated murine human canc...      0\n",
              "4      carotid restenosis predict increased risk late...      2\n",
              "...                                                  ...    ...\n",
              "11539  familial eating epilepsy eatingrelated seizure...      2\n",
              "11543  deep venous thrombosis intravenous cocaine abu...      3\n",
              "11546  half year follow women dyskaryotic cervical sm...      0\n",
              "11547  safety transbronchial biopsy outpatients objec...      4\n",
              "11548  interictal spikes hippocampal somatostatin lev...      2\n",
              "\n",
              "[9445 rows x 2 columns]"
            ],
            "text/html": [
              "\n",
              "  <div id=\"df-36e6c396-cbd8-432c-9fc9-ea7895027ffa\">\n",
              "    <div class=\"colab-df-container\">\n",
              "      <div>\n",
              "<style scoped>\n",
              "    .dataframe tbody tr th:only-of-type {\n",
              "        vertical-align: middle;\n",
              "    }\n",
              "\n",
              "    .dataframe tbody tr th {\n",
              "        vertical-align: top;\n",
              "    }\n",
              "\n",
              "    .dataframe thead th {\n",
              "        text-align: right;\n",
              "    }\n",
              "</style>\n",
              "<table border=\"1\" class=\"dataframe\">\n",
              "  <thead>\n",
              "    <tr style=\"text-align: right;\">\n",
              "      <th></th>\n",
              "      <th>text</th>\n",
              "      <th>label</th>\n",
              "    </tr>\n",
              "  </thead>\n",
              "  <tbody>\n",
              "    <tr>\n",
              "      <th>0</th>\n",
              "      <td>tissue changes loose prostheses canine model i...</td>\n",
              "      <td>4</td>\n",
              "    </tr>\n",
              "    <tr>\n",
              "      <th>1</th>\n",
              "      <td>neuropeptide neuronspecific enolase levels ben...</td>\n",
              "      <td>0</td>\n",
              "    </tr>\n",
              "    <tr>\n",
              "      <th>2</th>\n",
              "      <td>sexually transmitted diseases colon rectum anu...</td>\n",
              "      <td>1</td>\n",
              "    </tr>\n",
              "    <tr>\n",
              "      <th>3</th>\n",
              "      <td>lipolytic factors associated murine human canc...</td>\n",
              "      <td>0</td>\n",
              "    </tr>\n",
              "    <tr>\n",
              "      <th>4</th>\n",
              "      <td>carotid restenosis predict increased risk late...</td>\n",
              "      <td>2</td>\n",
              "    </tr>\n",
              "    <tr>\n",
              "      <th>...</th>\n",
              "      <td>...</td>\n",
              "      <td>...</td>\n",
              "    </tr>\n",
              "    <tr>\n",
              "      <th>11539</th>\n",
              "      <td>familial eating epilepsy eatingrelated seizure...</td>\n",
              "      <td>2</td>\n",
              "    </tr>\n",
              "    <tr>\n",
              "      <th>11543</th>\n",
              "      <td>deep venous thrombosis intravenous cocaine abu...</td>\n",
              "      <td>3</td>\n",
              "    </tr>\n",
              "    <tr>\n",
              "      <th>11546</th>\n",
              "      <td>half year follow women dyskaryotic cervical sm...</td>\n",
              "      <td>0</td>\n",
              "    </tr>\n",
              "    <tr>\n",
              "      <th>11547</th>\n",
              "      <td>safety transbronchial biopsy outpatients objec...</td>\n",
              "      <td>4</td>\n",
              "    </tr>\n",
              "    <tr>\n",
              "      <th>11548</th>\n",
              "      <td>interictal spikes hippocampal somatostatin lev...</td>\n",
              "      <td>2</td>\n",
              "    </tr>\n",
              "  </tbody>\n",
              "</table>\n",
              "<p>9445 rows × 2 columns</p>\n",
              "</div>\n",
              "      <button class=\"colab-df-convert\" onclick=\"convertToInteractive('df-36e6c396-cbd8-432c-9fc9-ea7895027ffa')\"\n",
              "              title=\"Convert this dataframe to an interactive table.\"\n",
              "              style=\"display:none;\">\n",
              "        \n",
              "  <svg xmlns=\"http://www.w3.org/2000/svg\" height=\"24px\"viewBox=\"0 0 24 24\"\n",
              "       width=\"24px\">\n",
              "    <path d=\"M0 0h24v24H0V0z\" fill=\"none\"/>\n",
              "    <path d=\"M18.56 5.44l.94 2.06.94-2.06 2.06-.94-2.06-.94-.94-2.06-.94 2.06-2.06.94zm-11 1L8.5 8.5l.94-2.06 2.06-.94-2.06-.94L8.5 2.5l-.94 2.06-2.06.94zm10 10l.94 2.06.94-2.06 2.06-.94-2.06-.94-.94-2.06-.94 2.06-2.06.94z\"/><path d=\"M17.41 7.96l-1.37-1.37c-.4-.4-.92-.59-1.43-.59-.52 0-1.04.2-1.43.59L10.3 9.45l-7.72 7.72c-.78.78-.78 2.05 0 2.83L4 21.41c.39.39.9.59 1.41.59.51 0 1.02-.2 1.41-.59l7.78-7.78 2.81-2.81c.8-.78.8-2.07 0-2.86zM5.41 20L4 18.59l7.72-7.72 1.47 1.35L5.41 20z\"/>\n",
              "  </svg>\n",
              "      </button>\n",
              "      \n",
              "  <style>\n",
              "    .colab-df-container {\n",
              "      display:flex;\n",
              "      flex-wrap:wrap;\n",
              "      gap: 12px;\n",
              "    }\n",
              "\n",
              "    .colab-df-convert {\n",
              "      background-color: #E8F0FE;\n",
              "      border: none;\n",
              "      border-radius: 50%;\n",
              "      cursor: pointer;\n",
              "      display: none;\n",
              "      fill: #1967D2;\n",
              "      height: 32px;\n",
              "      padding: 0 0 0 0;\n",
              "      width: 32px;\n",
              "    }\n",
              "\n",
              "    .colab-df-convert:hover {\n",
              "      background-color: #E2EBFA;\n",
              "      box-shadow: 0px 1px 2px rgba(60, 64, 67, 0.3), 0px 1px 3px 1px rgba(60, 64, 67, 0.15);\n",
              "      fill: #174EA6;\n",
              "    }\n",
              "\n",
              "    [theme=dark] .colab-df-convert {\n",
              "      background-color: #3B4455;\n",
              "      fill: #D2E3FC;\n",
              "    }\n",
              "\n",
              "    [theme=dark] .colab-df-convert:hover {\n",
              "      background-color: #434B5C;\n",
              "      box-shadow: 0px 1px 3px 1px rgba(0, 0, 0, 0.15);\n",
              "      filter: drop-shadow(0px 1px 2px rgba(0, 0, 0, 0.3));\n",
              "      fill: #FFFFFF;\n",
              "    }\n",
              "  </style>\n",
              "\n",
              "      <script>\n",
              "        const buttonEl =\n",
              "          document.querySelector('#df-36e6c396-cbd8-432c-9fc9-ea7895027ffa button.colab-df-convert');\n",
              "        buttonEl.style.display =\n",
              "          google.colab.kernel.accessAllowed ? 'block' : 'none';\n",
              "\n",
              "        async function convertToInteractive(key) {\n",
              "          const element = document.querySelector('#df-36e6c396-cbd8-432c-9fc9-ea7895027ffa');\n",
              "          const dataTable =\n",
              "            await google.colab.kernel.invokeFunction('convertToInteractive',\n",
              "                                                     [key], {});\n",
              "          if (!dataTable) return;\n",
              "\n",
              "          const docLinkHtml = 'Like what you see? Visit the ' +\n",
              "            '<a target=\"_blank\" href=https://colab.research.google.com/notebooks/data_table.ipynb>data table notebook</a>'\n",
              "            + ' to learn more about interactive tables.';\n",
              "          element.innerHTML = '';\n",
              "          dataTable['output_type'] = 'display_data';\n",
              "          await google.colab.output.renderOutput(dataTable, element);\n",
              "          const docLink = document.createElement('div');\n",
              "          docLink.innerHTML = docLinkHtml;\n",
              "          element.appendChild(docLink);\n",
              "        }\n",
              "      </script>\n",
              "    </div>\n",
              "  </div>\n",
              "  "
            ]
          },
          "metadata": {},
          "execution_count": 15
        }
      ],
      "source": [
        "train_data = raw_train_data[['text', 'label']].copy()\n",
        "\n",
        "train_data['text'] = train_data['text'].apply(text_preprocessing)\n",
        "\n",
        "train_data.drop_duplicates(inplace=True)\n",
        "\n",
        "train_data"
      ]
    },
    {
      "cell_type": "code",
      "execution_count": null,
      "metadata": {
        "colab": {
          "base_uri": "https://localhost:8080/",
          "height": 424
        },
        "id": "y-8xk3Gd9kio",
        "outputId": "64bfc3da-d820-4cf3-e80e-188c235b8f54"
      },
      "outputs": [
        {
          "output_type": "execute_result",
          "data": {
            "text/plain": [
              "                                                   text  label\n",
              "0     obstructive sleep apnea following topical orop...      2\n",
              "1     neutrophil function pyogenic infections bone m...      4\n",
              "2     phase ii study combined methotrexate teniposid...      4\n",
              "3     flow cytometric dna analysis parathyroid tumor...      0\n",
              "4     paraneoplastic vasculitic neuropathy treatable...      3\n",
              "...                                                 ...    ...\n",
              "2883  management aortobronchial fistula graft replac...      3\n",
              "2884  tuberculous psoas muscle abscess following che...      4\n",
              "2885  clinical evaluation highfrequency ultrasonic m...      3\n",
              "2886  antitumor activity liposomeencapsulated doxoru...      0\n",
              "2887  unusual venous anomaly placenta authors presen...      3\n",
              "\n",
              "[2770 rows x 2 columns]"
            ],
            "text/html": [
              "\n",
              "  <div id=\"df-1434ffae-a1f0-4629-94d7-6f43baebfeda\">\n",
              "    <div class=\"colab-df-container\">\n",
              "      <div>\n",
              "<style scoped>\n",
              "    .dataframe tbody tr th:only-of-type {\n",
              "        vertical-align: middle;\n",
              "    }\n",
              "\n",
              "    .dataframe tbody tr th {\n",
              "        vertical-align: top;\n",
              "    }\n",
              "\n",
              "    .dataframe thead th {\n",
              "        text-align: right;\n",
              "    }\n",
              "</style>\n",
              "<table border=\"1\" class=\"dataframe\">\n",
              "  <thead>\n",
              "    <tr style=\"text-align: right;\">\n",
              "      <th></th>\n",
              "      <th>text</th>\n",
              "      <th>label</th>\n",
              "    </tr>\n",
              "  </thead>\n",
              "  <tbody>\n",
              "    <tr>\n",
              "      <th>0</th>\n",
              "      <td>obstructive sleep apnea following topical orop...</td>\n",
              "      <td>2</td>\n",
              "    </tr>\n",
              "    <tr>\n",
              "      <th>1</th>\n",
              "      <td>neutrophil function pyogenic infections bone m...</td>\n",
              "      <td>4</td>\n",
              "    </tr>\n",
              "    <tr>\n",
              "      <th>2</th>\n",
              "      <td>phase ii study combined methotrexate teniposid...</td>\n",
              "      <td>4</td>\n",
              "    </tr>\n",
              "    <tr>\n",
              "      <th>3</th>\n",
              "      <td>flow cytometric dna analysis parathyroid tumor...</td>\n",
              "      <td>0</td>\n",
              "    </tr>\n",
              "    <tr>\n",
              "      <th>4</th>\n",
              "      <td>paraneoplastic vasculitic neuropathy treatable...</td>\n",
              "      <td>3</td>\n",
              "    </tr>\n",
              "    <tr>\n",
              "      <th>...</th>\n",
              "      <td>...</td>\n",
              "      <td>...</td>\n",
              "    </tr>\n",
              "    <tr>\n",
              "      <th>2883</th>\n",
              "      <td>management aortobronchial fistula graft replac...</td>\n",
              "      <td>3</td>\n",
              "    </tr>\n",
              "    <tr>\n",
              "      <th>2884</th>\n",
              "      <td>tuberculous psoas muscle abscess following che...</td>\n",
              "      <td>4</td>\n",
              "    </tr>\n",
              "    <tr>\n",
              "      <th>2885</th>\n",
              "      <td>clinical evaluation highfrequency ultrasonic m...</td>\n",
              "      <td>3</td>\n",
              "    </tr>\n",
              "    <tr>\n",
              "      <th>2886</th>\n",
              "      <td>antitumor activity liposomeencapsulated doxoru...</td>\n",
              "      <td>0</td>\n",
              "    </tr>\n",
              "    <tr>\n",
              "      <th>2887</th>\n",
              "      <td>unusual venous anomaly placenta authors presen...</td>\n",
              "      <td>3</td>\n",
              "    </tr>\n",
              "  </tbody>\n",
              "</table>\n",
              "<p>2770 rows × 2 columns</p>\n",
              "</div>\n",
              "      <button class=\"colab-df-convert\" onclick=\"convertToInteractive('df-1434ffae-a1f0-4629-94d7-6f43baebfeda')\"\n",
              "              title=\"Convert this dataframe to an interactive table.\"\n",
              "              style=\"display:none;\">\n",
              "        \n",
              "  <svg xmlns=\"http://www.w3.org/2000/svg\" height=\"24px\"viewBox=\"0 0 24 24\"\n",
              "       width=\"24px\">\n",
              "    <path d=\"M0 0h24v24H0V0z\" fill=\"none\"/>\n",
              "    <path d=\"M18.56 5.44l.94 2.06.94-2.06 2.06-.94-2.06-.94-.94-2.06-.94 2.06-2.06.94zm-11 1L8.5 8.5l.94-2.06 2.06-.94-2.06-.94L8.5 2.5l-.94 2.06-2.06.94zm10 10l.94 2.06.94-2.06 2.06-.94-2.06-.94-.94-2.06-.94 2.06-2.06.94z\"/><path d=\"M17.41 7.96l-1.37-1.37c-.4-.4-.92-.59-1.43-.59-.52 0-1.04.2-1.43.59L10.3 9.45l-7.72 7.72c-.78.78-.78 2.05 0 2.83L4 21.41c.39.39.9.59 1.41.59.51 0 1.02-.2 1.41-.59l7.78-7.78 2.81-2.81c.8-.78.8-2.07 0-2.86zM5.41 20L4 18.59l7.72-7.72 1.47 1.35L5.41 20z\"/>\n",
              "  </svg>\n",
              "      </button>\n",
              "      \n",
              "  <style>\n",
              "    .colab-df-container {\n",
              "      display:flex;\n",
              "      flex-wrap:wrap;\n",
              "      gap: 12px;\n",
              "    }\n",
              "\n",
              "    .colab-df-convert {\n",
              "      background-color: #E8F0FE;\n",
              "      border: none;\n",
              "      border-radius: 50%;\n",
              "      cursor: pointer;\n",
              "      display: none;\n",
              "      fill: #1967D2;\n",
              "      height: 32px;\n",
              "      padding: 0 0 0 0;\n",
              "      width: 32px;\n",
              "    }\n",
              "\n",
              "    .colab-df-convert:hover {\n",
              "      background-color: #E2EBFA;\n",
              "      box-shadow: 0px 1px 2px rgba(60, 64, 67, 0.3), 0px 1px 3px 1px rgba(60, 64, 67, 0.15);\n",
              "      fill: #174EA6;\n",
              "    }\n",
              "\n",
              "    [theme=dark] .colab-df-convert {\n",
              "      background-color: #3B4455;\n",
              "      fill: #D2E3FC;\n",
              "    }\n",
              "\n",
              "    [theme=dark] .colab-df-convert:hover {\n",
              "      background-color: #434B5C;\n",
              "      box-shadow: 0px 1px 3px 1px rgba(0, 0, 0, 0.15);\n",
              "      filter: drop-shadow(0px 1px 2px rgba(0, 0, 0, 0.3));\n",
              "      fill: #FFFFFF;\n",
              "    }\n",
              "  </style>\n",
              "\n",
              "      <script>\n",
              "        const buttonEl =\n",
              "          document.querySelector('#df-1434ffae-a1f0-4629-94d7-6f43baebfeda button.colab-df-convert');\n",
              "        buttonEl.style.display =\n",
              "          google.colab.kernel.accessAllowed ? 'block' : 'none';\n",
              "\n",
              "        async function convertToInteractive(key) {\n",
              "          const element = document.querySelector('#df-1434ffae-a1f0-4629-94d7-6f43baebfeda');\n",
              "          const dataTable =\n",
              "            await google.colab.kernel.invokeFunction('convertToInteractive',\n",
              "                                                     [key], {});\n",
              "          if (!dataTable) return;\n",
              "\n",
              "          const docLinkHtml = 'Like what you see? Visit the ' +\n",
              "            '<a target=\"_blank\" href=https://colab.research.google.com/notebooks/data_table.ipynb>data table notebook</a>'\n",
              "            + ' to learn more about interactive tables.';\n",
              "          element.innerHTML = '';\n",
              "          dataTable['output_type'] = 'display_data';\n",
              "          await google.colab.output.renderOutput(dataTable, element);\n",
              "          const docLink = document.createElement('div');\n",
              "          docLink.innerHTML = docLinkHtml;\n",
              "          element.appendChild(docLink);\n",
              "        }\n",
              "      </script>\n",
              "    </div>\n",
              "  </div>\n",
              "  "
            ]
          },
          "metadata": {},
          "execution_count": 16
        }
      ],
      "source": [
        "test_data = raw_test_data[['text', 'label']].copy()\n",
        "\n",
        "test_data['text'] = test_data['text'].apply(text_preprocessing)\n",
        "\n",
        "test_data.drop_duplicates(inplace=True)\n",
        "\n",
        "test_data"
      ]
    },
    {
      "cell_type": "markdown",
      "metadata": {
        "id": "AJ-T9HPK8pKS"
      },
      "source": [
        "# Text Representation"
      ]
    },
    {
      "cell_type": "code",
      "execution_count": null,
      "metadata": {
        "id": "HVfM_kuvw0EI",
        "colab": {
          "base_uri": "https://localhost:8080/"
        },
        "outputId": "42da5bed-f8a3-45a0-d509-98b87d633697"
      },
      "outputs": [
        {
          "output_type": "stream",
          "name": "stdout",
          "text": [
            "[==================================================] 100.0% 1662.8/1662.8MB downloaded\n"
          ]
        }
      ],
      "source": [
        "word2vec_model = api.load(\"word2vec-google-news-300\")"
      ]
    },
    {
      "cell_type": "code",
      "execution_count": null,
      "metadata": {
        "id": "fxu9vG_jw2Jo"
      },
      "outputs": [],
      "source": [
        "def get_text_vec(sent):\n",
        "  vector = np.mean(np.array([word2vec_model[token] for token in word_tokenize(sent) if token in word2vec_model.key_to_index]), axis=0)\n",
        "  if np.all(np.isnan(vector)) :\n",
        "    return np.zeros(300)\n",
        "  return vector"
      ]
    },
    {
      "cell_type": "code",
      "execution_count": null,
      "metadata": {
        "id": "X51l7SGdw6ah"
      },
      "outputs": [],
      "source": [
        "X_test = np.stack(np.array([get_text_vec(sms_text) for sms_text in test_data['text'].values]))"
      ]
    },
    {
      "cell_type": "code",
      "execution_count": null,
      "metadata": {
        "colab": {
          "base_uri": "https://localhost:8080/"
        },
        "id": "38-eq2aow84_",
        "outputId": "4bf0c789-5844-4d68-ba3f-e72654b068cb"
      },
      "outputs": [
        {
          "output_type": "execute_result",
          "data": {
            "text/plain": [
              "(2770, 300)"
            ]
          },
          "metadata": {},
          "execution_count": 21
        }
      ],
      "source": [
        "X_test.shape"
      ]
    },
    {
      "cell_type": "code",
      "execution_count": null,
      "metadata": {
        "id": "etik5rXa_2dr"
      },
      "outputs": [],
      "source": [
        "y_test = test_data['label'].values"
      ]
    },
    {
      "cell_type": "code",
      "execution_count": null,
      "metadata": {
        "colab": {
          "base_uri": "https://localhost:8080/"
        },
        "id": "XuaytXOH_2ZI",
        "outputId": "e689f42b-b39d-448d-e6ce-6ef8cd977e8f"
      },
      "outputs": [
        {
          "output_type": "execute_result",
          "data": {
            "text/plain": [
              "(2770,)"
            ]
          },
          "metadata": {},
          "execution_count": 23
        }
      ],
      "source": [
        "y_test.shape"
      ]
    },
    {
      "cell_type": "markdown",
      "metadata": {
        "id": "VLslFJ6FIUi6"
      },
      "source": [
        "# Model selection, training and evaluation"
      ]
    },
    {
      "cell_type": "code",
      "execution_count": null,
      "metadata": {
        "id": "GBrZHF9KIXpl"
      },
      "outputs": [],
      "source": [
        "def f_beta_score(y_true, y_pred):\n",
        "  return fbeta_score(y_true, y_pred, beta=2, average='macro')\n",
        "\n",
        "f2_score = make_scorer(f_beta_score, greater_is_better=True)"
      ]
    },
    {
      "cell_type": "code",
      "execution_count": null,
      "metadata": {
        "id": "uvKWCCmbIXhu"
      },
      "outputs": [],
      "source": [
        "from datetime import datetime\n",
        "\n",
        "def save_cross_validation(results, file_name):\n",
        "  results_to_save = pd.DataFrame(columns=['Accuracy', 'Recall', 'Precision', 'F1 Score', 'F2 Score'])\n",
        "  for i in range(0, 10):\n",
        "    results_to_save.loc[i] = [\n",
        "      results['split{}_test_Accuracy'.format(i)][0],\n",
        "      results['split{}_test_Recall'.format(i)][0],\n",
        "      results['split{}_test_Precision'.format(i)][0],\n",
        "      results['split{}_test_F1'.format(i)][0],\n",
        "      results['split{}_test_F2'.format(i)][0]\n",
        "    ]\n",
        "  results_to_save.to_csv('{}Results/{}_{}.csv'.format(dir_name+'experiments/Medical Text/', file_name, datetime.now().strftime(\"%m%d%H%M\")))"
      ]
    },
    {
      "cell_type": "code",
      "execution_count": null,
      "metadata": {
        "id": "Qck1th_-IXV6"
      },
      "outputs": [],
      "source": [
        "def train_model(classifier, param_grid, model_name, train_texts, train_labels, test_texts, test_labels, evaluation_metrics, to_print=True, to_save=False, file_name=None):\n",
        "    \"\"\"\n",
        "    train email classification model.\n",
        "    \"\"\"\n",
        "\n",
        "    # apply grid search to find best model hyper parameters\n",
        "    grid_search = GridSearchCV(classifier, param_grid, cv=10, scoring={'Accuracy': make_scorer(accuracy_score),\n",
        "                                                                       'F1': make_scorer(f1_score, average='macro'),\n",
        "                                                                       'F2': f2_score,\n",
        "                                                                       'Recall': make_scorer(recall_score, average='macro'),\n",
        "                                                                       'Precision': make_scorer(precision_score, average='macro')\n",
        "                                                                       }, refit='F1', n_jobs=-1)\n",
        "    grid_search.fit(train_texts, train_labels)\n",
        "    model = grid_search.best_estimator_\n",
        "\n",
        "    if to_save:\n",
        "      ConfusionMatrixDisplay(save_cross_validation(grid_search.cv_results_, file_name))\n",
        "      plt.show()\n",
        "\n",
        "    # train and test accuracy.\n",
        "    test_accuracy = model.score(test_texts, test_labels)\n",
        "    train_accuracy = model.score(train_texts, train_labels)\n",
        "\n",
        "    # compute F1 score for model evaluation.\n",
        "    y_pred = model.predict(test_texts)\n",
        "\n",
        "    recall = recall_score(test_labels, y_pred, average='macro')\n",
        "    precision = precision_score(test_labels, y_pred, average='macro')\n",
        "    f1score = f1_score(test_labels, y_pred, average='macro')\n",
        "    f2score = fbeta_score(y_test, y_pred, beta=2, average='macro')\n",
        "\n",
        "    if to_print:\n",
        "        print(\"train accuracy = \" + str(train_accuracy))\n",
        "        print(\"test accuracy = \" + str(test_accuracy))\n",
        "        print(\"Recall = {}\".format(recall))\n",
        "        print(\"Precision = {}\".format(precision))\n",
        "        print(\"F1 score = {}\".format(f1score))\n",
        "        print(\"F2 score = {}\".format(f2score))\n",
        "        print(classification_report(test_labels, y_pred))\n",
        "\n",
        "\n",
        "        # plot confusion matrix\n",
        "        cm = confusion_matrix(test_labels, y_pred)\n",
        "        disp = ConfusionMatrixDisplay(confusion_matrix=cm, display_labels=[0,1,2,3,4])\n",
        "\n",
        "        disp.plot(cmap=plt.cm.Blues)\n",
        "        plt.show()\n",
        "\n",
        "        # print best model hyper parameters.\n",
        "        print(grid_search.best_params_)\n",
        "\n",
        "    evaluation_metrics.loc[model_name, 'Recall'] = recall\n",
        "    evaluation_metrics.loc[model_name, 'Precision'] = precision\n",
        "    evaluation_metrics.loc[model_name, 'F1 score'] = f1score\n",
        "    evaluation_metrics.loc[model_name, 'F2 score'] = f2score\n",
        "\n",
        "    return f1score, f2score\n",
        "\n",
        "\n",
        "def train(model_id, train_texts, train_labels, test_texts, test_labels, evaluation_metrics, to_print=True, to_save=False, file_name=None):\n",
        "    \n",
        "    if model_id == 1:\n",
        "        # Random forest Classification model.\n",
        "        forest_clf = RandomForestClassifier(random_state=42, n_jobs=-1)\n",
        "        forest_param_grid = [{'n_estimators': [100, 150, 200], 'max_features': [10, 12], 'min_samples_split': [25, 30], 'criterion': ['gini','entropy'], 'max_depth': [5]}]\n",
        "\n",
        "        return train_model(forest_clf, forest_param_grid, 'RandomForest', train_texts, train_labels, test_texts, test_labels, evaluation_metrics, to_print, to_save, file_name)\n",
        "\n",
        "    if model_id == 2:\n",
        "        # Support Vector Machine Model.\n",
        "        svc_clf = SVC(random_state=42)\n",
        "        svc_param_grid = [{'kernel': ['rbf', 'poly'], 'degree': [3, 4, 5, 6] }]\n",
        "\n",
        "        return train_model(svc_clf, svc_param_grid, 'SVM', train_texts, train_labels, test_texts, test_labels, evaluation_metrics, to_print, to_save, file_name)"
      ]
    },
    {
      "cell_type": "markdown",
      "metadata": {
        "id": "VxgQqtV3CeWb"
      },
      "source": [
        "#Text Aug."
      ]
    },
    {
      "cell_type": "code",
      "execution_count": null,
      "metadata": {
        "id": "LbTSZcicCipW"
      },
      "outputs": [],
      "source": [
        "all_similar_words = {}"
      ]
    },
    {
      "cell_type": "code",
      "execution_count": null,
      "metadata": {
        "id": "N-id05RYCkna"
      },
      "outputs": [],
      "source": [
        "def get_similar_words(word, similarity_threshold = 0.6):\n",
        "  if word not in all_similar_words:\n",
        "    similar_words = []\n",
        "    for w, sim in word2vec_model.most_similar(positive=[word]):\n",
        "      if sim >= similarity_threshold:\n",
        "        similar_words.append(w)\n",
        "    all_similar_words[word] = list(set(similar_words))\n",
        "  return all_similar_words[word]"
      ]
    },
    {
      "cell_type": "code",
      "execution_count": null,
      "metadata": {
        "id": "0YeNpX9vCl8A"
      },
      "outputs": [],
      "source": [
        "import numpy as np\n",
        "from numpy.linalg import norm\n",
        " \n",
        "def cos_sim(v1, v2):\n",
        "  return np.dot(v1, v2)/(norm(v1)*norm(v2))"
      ]
    },
    {
      "cell_type": "code",
      "execution_count": null,
      "metadata": {
        "id": "uzO6p_G_CnP1"
      },
      "outputs": [],
      "source": [
        "def get_sentence_augmentations(sentence, word_sim_threshold=.6, sent_sim_threshold=.65):\n",
        "  sent_vec = get_text_vec(sentence)\n",
        "  sentence_tokens = word_tokenize(sentence.lower())\n",
        "  pos_tags = dict(pos_tag(sentence_tokens))\n",
        "  new_sentences = []\n",
        "  for word in sentence_tokens:\n",
        "    if word in word2vec_model.key_to_index and pos_tags[word] in ['NN', 'NNS', 'JJ', 'JJR', 'JJS', 'RB', 'RBR', 'RBS', 'VB', 'VBG', 'VBD', 'VBN', 'VBP', 'VBZ']:\n",
        "      similar_words = get_similar_words(word, word_sim_threshold)\n",
        "      if len(similar_words) > 0:\n",
        "        for similar_word in similar_words:\n",
        "          new_sentence = sentence.replace(word, similar_word)\n",
        "          new_sent_vec = get_text_vec(new_sentence)\n",
        "          if cos_sim(sent_vec, new_sent_vec) >= sent_sim_threshold:\n",
        "            new_sentences.append(new_sentence.lower())\n",
        "\n",
        "  return new_sentences"
      ]
    },
    {
      "cell_type": "code",
      "execution_count": null,
      "metadata": {
        "id": "-fpbus1qCo4g"
      },
      "outputs": [],
      "source": [
        "def my_augmentation(prepro_dataset, lable, word_sim_threshold=.6, sent_sim_threshold=.65):\n",
        "  texts = prepro_dataset.loc[prepro_dataset['label'] == lable]['text'].values\n",
        "  texts_num = len(texts)\n",
        "  new_texts = []\n",
        "  i = 0\n",
        "  \n",
        "  for text in texts:\n",
        "    if i % 100 == 0:\n",
        "      print(f\" {int(100*i/texts_num)} %\")\n",
        "    new_texts.extend(get_sentence_augmentations(text, word_sim_threshold, sent_sim_threshold))\n",
        "    i += 1\n",
        "  augmentations = prepro_dataset[['text', 'label']].copy().append(pd.DataFrame({'label':[lable] * len(new_texts), 'text':new_texts}), ignore_index = True)\n",
        "  augmentations.drop_duplicates(inplace=True)\n",
        "  return augmentations.sample(frac=1)"
      ]
    },
    {
      "cell_type": "code",
      "execution_count": null,
      "metadata": {
        "id": "EoVpkA8eCrG-"
      },
      "outputs": [],
      "source": [
        "# best threshols \n",
        "augmented_dataset = my_augmentation(train_data, lable=1, word_sim_threshold=.86, sent_sim_threshold=.9)"
      ]
    },
    {
      "cell_type": "code",
      "execution_count": null,
      "metadata": {
        "id": "IzZOV1Bb69Bh"
      },
      "outputs": [],
      "source": [
        "all_similar_words = {}\n",
        "augmented_dataset = my_augmentation(augmented_dataset, lable=2, word_sim_threshold=.88, sent_sim_threshold=.9)"
      ]
    },
    {
      "cell_type": "code",
      "execution_count": null,
      "metadata": {
        "id": "UM-7rObTdkzu"
      },
      "outputs": [],
      "source": [
        "augmented_dataset.to_csv('{}TDAS_86_9_88_9.csv'.format(dir_name+'experiments/Medical Text/'))"
      ]
    },
    {
      "cell_type": "code",
      "execution_count": null,
      "metadata": {
        "id": "0AsPpZiImOp9"
      },
      "outputs": [],
      "source": [
        "augmented_dataset = pd.read_csv('{}TDAS_86_9_88_9.csv'.format(dir_name+'experiments/Medical Text/'))"
      ]
    },
    {
      "cell_type": "code",
      "source": [
        "# 86_9_88_9\n",
        "augmented_dataset"
      ],
      "metadata": {
        "colab": {
          "base_uri": "https://localhost:8080/",
          "height": 423
        },
        "id": "MyRT1zipehfE",
        "outputId": "4b5364b2-964c-44c9-8507-3bbf0b1179df"
      },
      "execution_count": null,
      "outputs": [
        {
          "output_type": "execute_result",
          "data": {
            "text/plain": [
              "       Unnamed: 0                                               text  label\n",
              "0            6354  factors associated hemorrhage cesarean deliver...      4\n",
              "1            3639  changes surgical treatments example hysterecto...      0\n",
              "2           10661  physiology aging related outcome adult respira...      4\n",
              "3             252  intrapalatine resection ipr treatment sleep ap...      4\n",
              "4            8108  learning disabilities epilepsy neurophysiologi...      2\n",
              "...           ...                                                ...    ...\n",
              "11815       11960  brain ph head injury imageguided 31p magnetic ...      2\n",
              "11816        6522  prediction outcome prenatal doppler analysis p...      3\n",
              "11817        6696  enhanced expression oncogeneencoded mrna rat m...      0\n",
              "11818        3044  gynecologic cancer patients subacute cerebella...      0\n",
              "11819        8455  differential effects stimulation complement re...      0\n",
              "\n",
              "[11820 rows x 3 columns]"
            ],
            "text/html": [
              "\n",
              "  <div id=\"df-110e04e0-05ca-43e7-9afc-dbe10672853a\">\n",
              "    <div class=\"colab-df-container\">\n",
              "      <div>\n",
              "<style scoped>\n",
              "    .dataframe tbody tr th:only-of-type {\n",
              "        vertical-align: middle;\n",
              "    }\n",
              "\n",
              "    .dataframe tbody tr th {\n",
              "        vertical-align: top;\n",
              "    }\n",
              "\n",
              "    .dataframe thead th {\n",
              "        text-align: right;\n",
              "    }\n",
              "</style>\n",
              "<table border=\"1\" class=\"dataframe\">\n",
              "  <thead>\n",
              "    <tr style=\"text-align: right;\">\n",
              "      <th></th>\n",
              "      <th>Unnamed: 0</th>\n",
              "      <th>text</th>\n",
              "      <th>label</th>\n",
              "    </tr>\n",
              "  </thead>\n",
              "  <tbody>\n",
              "    <tr>\n",
              "      <th>0</th>\n",
              "      <td>6354</td>\n",
              "      <td>factors associated hemorrhage cesarean deliver...</td>\n",
              "      <td>4</td>\n",
              "    </tr>\n",
              "    <tr>\n",
              "      <th>1</th>\n",
              "      <td>3639</td>\n",
              "      <td>changes surgical treatments example hysterecto...</td>\n",
              "      <td>0</td>\n",
              "    </tr>\n",
              "    <tr>\n",
              "      <th>2</th>\n",
              "      <td>10661</td>\n",
              "      <td>physiology aging related outcome adult respira...</td>\n",
              "      <td>4</td>\n",
              "    </tr>\n",
              "    <tr>\n",
              "      <th>3</th>\n",
              "      <td>252</td>\n",
              "      <td>intrapalatine resection ipr treatment sleep ap...</td>\n",
              "      <td>4</td>\n",
              "    </tr>\n",
              "    <tr>\n",
              "      <th>4</th>\n",
              "      <td>8108</td>\n",
              "      <td>learning disabilities epilepsy neurophysiologi...</td>\n",
              "      <td>2</td>\n",
              "    </tr>\n",
              "    <tr>\n",
              "      <th>...</th>\n",
              "      <td>...</td>\n",
              "      <td>...</td>\n",
              "      <td>...</td>\n",
              "    </tr>\n",
              "    <tr>\n",
              "      <th>11815</th>\n",
              "      <td>11960</td>\n",
              "      <td>brain ph head injury imageguided 31p magnetic ...</td>\n",
              "      <td>2</td>\n",
              "    </tr>\n",
              "    <tr>\n",
              "      <th>11816</th>\n",
              "      <td>6522</td>\n",
              "      <td>prediction outcome prenatal doppler analysis p...</td>\n",
              "      <td>3</td>\n",
              "    </tr>\n",
              "    <tr>\n",
              "      <th>11817</th>\n",
              "      <td>6696</td>\n",
              "      <td>enhanced expression oncogeneencoded mrna rat m...</td>\n",
              "      <td>0</td>\n",
              "    </tr>\n",
              "    <tr>\n",
              "      <th>11818</th>\n",
              "      <td>3044</td>\n",
              "      <td>gynecologic cancer patients subacute cerebella...</td>\n",
              "      <td>0</td>\n",
              "    </tr>\n",
              "    <tr>\n",
              "      <th>11819</th>\n",
              "      <td>8455</td>\n",
              "      <td>differential effects stimulation complement re...</td>\n",
              "      <td>0</td>\n",
              "    </tr>\n",
              "  </tbody>\n",
              "</table>\n",
              "<p>11820 rows × 3 columns</p>\n",
              "</div>\n",
              "      <button class=\"colab-df-convert\" onclick=\"convertToInteractive('df-110e04e0-05ca-43e7-9afc-dbe10672853a')\"\n",
              "              title=\"Convert this dataframe to an interactive table.\"\n",
              "              style=\"display:none;\">\n",
              "        \n",
              "  <svg xmlns=\"http://www.w3.org/2000/svg\" height=\"24px\"viewBox=\"0 0 24 24\"\n",
              "       width=\"24px\">\n",
              "    <path d=\"M0 0h24v24H0V0z\" fill=\"none\"/>\n",
              "    <path d=\"M18.56 5.44l.94 2.06.94-2.06 2.06-.94-2.06-.94-.94-2.06-.94 2.06-2.06.94zm-11 1L8.5 8.5l.94-2.06 2.06-.94-2.06-.94L8.5 2.5l-.94 2.06-2.06.94zm10 10l.94 2.06.94-2.06 2.06-.94-2.06-.94-.94-2.06-.94 2.06-2.06.94z\"/><path d=\"M17.41 7.96l-1.37-1.37c-.4-.4-.92-.59-1.43-.59-.52 0-1.04.2-1.43.59L10.3 9.45l-7.72 7.72c-.78.78-.78 2.05 0 2.83L4 21.41c.39.39.9.59 1.41.59.51 0 1.02-.2 1.41-.59l7.78-7.78 2.81-2.81c.8-.78.8-2.07 0-2.86zM5.41 20L4 18.59l7.72-7.72 1.47 1.35L5.41 20z\"/>\n",
              "  </svg>\n",
              "      </button>\n",
              "      \n",
              "  <style>\n",
              "    .colab-df-container {\n",
              "      display:flex;\n",
              "      flex-wrap:wrap;\n",
              "      gap: 12px;\n",
              "    }\n",
              "\n",
              "    .colab-df-convert {\n",
              "      background-color: #E8F0FE;\n",
              "      border: none;\n",
              "      border-radius: 50%;\n",
              "      cursor: pointer;\n",
              "      display: none;\n",
              "      fill: #1967D2;\n",
              "      height: 32px;\n",
              "      padding: 0 0 0 0;\n",
              "      width: 32px;\n",
              "    }\n",
              "\n",
              "    .colab-df-convert:hover {\n",
              "      background-color: #E2EBFA;\n",
              "      box-shadow: 0px 1px 2px rgba(60, 64, 67, 0.3), 0px 1px 3px 1px rgba(60, 64, 67, 0.15);\n",
              "      fill: #174EA6;\n",
              "    }\n",
              "\n",
              "    [theme=dark] .colab-df-convert {\n",
              "      background-color: #3B4455;\n",
              "      fill: #D2E3FC;\n",
              "    }\n",
              "\n",
              "    [theme=dark] .colab-df-convert:hover {\n",
              "      background-color: #434B5C;\n",
              "      box-shadow: 0px 1px 3px 1px rgba(0, 0, 0, 0.15);\n",
              "      filter: drop-shadow(0px 1px 2px rgba(0, 0, 0, 0.3));\n",
              "      fill: #FFFFFF;\n",
              "    }\n",
              "  </style>\n",
              "\n",
              "      <script>\n",
              "        const buttonEl =\n",
              "          document.querySelector('#df-110e04e0-05ca-43e7-9afc-dbe10672853a button.colab-df-convert');\n",
              "        buttonEl.style.display =\n",
              "          google.colab.kernel.accessAllowed ? 'block' : 'none';\n",
              "\n",
              "        async function convertToInteractive(key) {\n",
              "          const element = document.querySelector('#df-110e04e0-05ca-43e7-9afc-dbe10672853a');\n",
              "          const dataTable =\n",
              "            await google.colab.kernel.invokeFunction('convertToInteractive',\n",
              "                                                     [key], {});\n",
              "          if (!dataTable) return;\n",
              "\n",
              "          const docLinkHtml = 'Like what you see? Visit the ' +\n",
              "            '<a target=\"_blank\" href=https://colab.research.google.com/notebooks/data_table.ipynb>data table notebook</a>'\n",
              "            + ' to learn more about interactive tables.';\n",
              "          element.innerHTML = '';\n",
              "          dataTable['output_type'] = 'display_data';\n",
              "          await google.colab.output.renderOutput(dataTable, element);\n",
              "          const docLink = document.createElement('div');\n",
              "          docLink.innerHTML = docLinkHtml;\n",
              "          element.appendChild(docLink);\n",
              "        }\n",
              "      </script>\n",
              "    </div>\n",
              "  </div>\n",
              "  "
            ]
          },
          "metadata": {},
          "execution_count": 41
        }
      ]
    },
    {
      "cell_type": "code",
      "source": [
        "# 86_9_88_9\n",
        "get_dataset_statistics(augmented_dataset)"
      ],
      "metadata": {
        "colab": {
          "base_uri": "https://localhost:8080/",
          "height": 653
        },
        "id": "Cvw75nrtekQ6",
        "outputId": "b5d9a457-7a53-4bc7-8e2e-c025b6a3f694"
      },
      "execution_count": null,
      "outputs": [
        {
          "output_type": "display_data",
          "data": {
            "text/plain": [
              "<Figure size 800x800 with 1 Axes>"
            ],
            "image/png": "[encoded data removed]"
          },
          "metadata": {}
        }
      ]
    },
    {
      "cell_type": "code",
      "execution_count": null,
      "metadata": {
        "id": "XLxoLT-eC1Zk"
      },
      "outputs": [],
      "source": [
        "aug_X_train = np.stack(np.array([get_text_vec(sms_text) for sms_text in augmented_dataset['text'].values]))"
      ]
    },
    {
      "cell_type": "code",
      "execution_count": null,
      "metadata": {
        "colab": {
          "base_uri": "https://localhost:8080/"
        },
        "id": "q1ztZCM1C1Wx",
        "outputId": "680cb006-e757-473f-fb0e-0929348a38d0"
      },
      "outputs": [
        {
          "output_type": "execute_result",
          "data": {
            "text/plain": [
              "(11820, 300)"
            ]
          },
          "metadata": {},
          "execution_count": 44
        }
      ],
      "source": [
        "aug_X_train.shape"
      ]
    },
    {
      "cell_type": "code",
      "execution_count": null,
      "metadata": {
        "id": "ZgSjWKWkC1UJ"
      },
      "outputs": [],
      "source": [
        "aug_y_train = augmented_dataset['label'].values"
      ]
    },
    {
      "cell_type": "code",
      "execution_count": null,
      "metadata": {
        "colab": {
          "base_uri": "https://localhost:8080/"
        },
        "id": "WvvhVZKqC1RO",
        "outputId": "c6ea6389-1cb5-47bd-8239-1945a47e8e3d"
      },
      "outputs": [
        {
          "output_type": "execute_result",
          "data": {
            "text/plain": [
              "(11820,)"
            ]
          },
          "metadata": {},
          "execution_count": 46
        }
      ],
      "source": [
        "aug_y_train.shape"
      ]
    },
    {
      "cell_type": "code",
      "execution_count": null,
      "metadata": {
        "id": "S70DsPUkC6IG"
      },
      "outputs": [],
      "source": [
        "evaluation_metrics_aug = pd.DataFrame(columns = ['Recall', 'Precision', 'F1 score', 'F2 score'])"
      ]
    },
    {
      "cell_type": "markdown",
      "metadata": {
        "id": "WE-5VY84xLiG"
      },
      "source": [
        "#RF\n"
      ]
    },
    {
      "cell_type": "code",
      "source": [
        "# 86_9_88_9\n",
        "train(1, aug_X_train, aug_y_train, X_test, y_test, evaluation_metrics_aug, to_save=True, file_name='TDAS_RF')"
      ],
      "metadata": {
        "colab": {
          "base_uri": "https://localhost:8080/",
          "height": 818
        },
        "id": "z8S7W8ICcOTR",
        "outputId": "cc91795b-1302-440f-f183-6dda7bc8127e"
      },
      "execution_count": null,
      "outputs": [
        {
          "output_type": "stream",
          "name": "stdout",
          "text": [
            "train accuracy = 0.6241116751269036\n",
            "test accuracy = 0.5259927797833935\n",
            "Recall = 0.527978186568808\n",
            "Precision = 0.5357857018176075\n",
            "F1 score = 0.5211910910808184\n",
            "F2 score = 0.5226187723642378\n",
            "              precision    recall  f1-score   support\n",
            "\n",
            "           0       0.68      0.71      0.70       616\n",
            "           1       0.35      0.56      0.43       287\n",
            "           2       0.58      0.36      0.44       366\n",
            "           3       0.65      0.61      0.63       589\n",
            "           4       0.42      0.41      0.41       912\n",
            "\n",
            "    accuracy                           0.53      2770\n",
            "   macro avg       0.54      0.53      0.52      2770\n",
            "weighted avg       0.54      0.53      0.53      2770\n",
            "\n"
          ]
        },
        {
          "output_type": "display_data",
          "data": {
            "text/plain": [
              "<Figure size 640x480 with 2 Axes>"
            ],
            "image/png": "[encoded data removed]"
          },
          "metadata": {}
        },
        {
          "output_type": "stream",
          "name": "stdout",
          "text": [
            "{'criterion': 'entropy', 'max_depth': 5, 'max_features': 15, 'min_samples_split': 30, 'n_estimators': 200}\n"
          ]
        },
        {
          "output_type": "execute_result",
          "data": {
            "text/plain": [
              "(0.5211910910808184, 0.5226187723642378)"
            ]
          },
          "metadata": {},
          "execution_count": 66
        }
      ]
    },
    {
      "cell_type": "markdown",
      "metadata": {
        "id": "M7IOkSy4B7HQ"
      },
      "source": [
        "# SVM"
      ]
    },
    {
      "cell_type": "code",
      "source": [
        "# 86_9_88_9\n",
        "train(2, aug_X_train, aug_y_train, X_test, y_test, evaluation_metrics_aug, to_save=True, file_name='TDAS_SVM')"
      ],
      "metadata": {
        "id": "9jV4hxFgewk8",
        "colab": {
          "base_uri": "https://localhost:8080/",
          "height": 818
        },
        "outputId": "7cdc202b-3f75-4198-e7cd-42241e70e178"
      },
      "execution_count": null,
      "outputs": [
        {
          "output_type": "stream",
          "name": "stdout",
          "text": [
            "train accuracy = 0.7193900982823551\n",
            "test accuracy = 0.6064981949458483\n",
            "Recall = 0.6141662646416602\n",
            "Precision = 0.5946999620295419\n",
            "F1 score = 0.6028128637194686\n",
            "F2 score = 0.6092439383198245\n",
            "              precision    recall  f1-score   support\n",
            "\n",
            "           0       0.71      0.77      0.74       616\n",
            "           1       0.51      0.54      0.53       287\n",
            "           2       0.56      0.57      0.57       366\n",
            "           3       0.67      0.76      0.71       589\n",
            "           4       0.52      0.43      0.47       912\n",
            "\n",
            "    accuracy                           0.61      2770\n",
            "   macro avg       0.59      0.61      0.60      2770\n",
            "weighted avg       0.60      0.61      0.60      2770\n",
            "\n"
          ]
        },
        {
          "output_type": "display_data",
          "data": {
            "text/plain": [
              "<Figure size 640x480 with 2 Axes>"
            ],
            "image/png": "[encoded data removed]"
          },
          "metadata": {}
        },
        {
          "output_type": "stream",
          "name": "stdout",
          "text": [
            "{'degree': 3, 'kernel': 'rbf'}\n"
          ]
        },
        {
          "output_type": "execute_result",
          "data": {
            "text/plain": [
              "(0.6028128637194686, 0.6092439383198245)"
            ]
          },
          "metadata": {},
          "execution_count": 49
        }
      ]
    },
    {
      "cell_type": "code",
      "execution_count": null,
      "metadata": {
        "id": "CGKISarr0XYc"
      },
      "outputs": [],
      "source": [
        "evaluation_metrics_aug"
      ]
    },
    {
      "cell_type": "markdown",
      "metadata": {
        "id": "OUBjGBqvuKn-"
      },
      "source": [
        "#BiLSTM"
      ]
    },
    {
      "cell_type": "code",
      "execution_count": null,
      "metadata": {
        "id": "odhoUPV4uPxl"
      },
      "outputs": [],
      "source": [
        "import random\n",
        "import tensorflow as tf \n",
        "from tensorflow import keras \n",
        "from tensorflow.keras import layers\n",
        "from sklearn.metrics import ConfusionMatrixDisplay\n",
        "from tensorflow.keras.layers import Dropout, SpatialDropout1D\n",
        "from tensorflow.keras import regularizers\n",
        "from sklearn.model_selection import StratifiedKFold"
      ]
    },
    {
      "cell_type": "code",
      "execution_count": null,
      "metadata": {
        "id": "z8CYTBYzuQe9"
      },
      "outputs": [],
      "source": [
        "def create_blstm_model(train_texts):\n",
        "\n",
        "  vectorize_layer = layers.TextVectorization(max_tokens=2000, output_sequence_length=200)\n",
        "\n",
        "  vectorize_layer.adapt(train_texts)\n",
        "\n",
        "  embedding_layer = layers.Embedding(input_dim=2000, output_dim=32)\n",
        "\n",
        "  model = tf.keras.models.Sequential()\n",
        "  model.add(tf.keras.Input(shape=(1,), dtype=tf.string))\n",
        "  model.add(vectorize_layer)\n",
        "  model.add(embedding_layer)\n",
        "  model.add(SpatialDropout1D(0.2))\n",
        "  model.add(layers.Bidirectional(layers.LSTM(64, bias_regularizer=regularizers.L2(1e-4), kernel_regularizer=regularizers.L1L2(l1=1e-4, l2=1e-4), activity_regularizer=regularizers.L2(1e-4))))\n",
        "  model.add(Dropout(0.2))\n",
        "  model.add(layers.Dense(5, activation='softmax'))\n",
        "\n",
        "\n",
        "  model.compile(optimizer=keras.optimizers.Adam(),\n",
        "                loss='sparse_categorical_crossentropy',\n",
        "                metrics=['accuracy'])  \n",
        "  print(model.summary())\n",
        "  \n",
        "  return model"
      ]
    },
    {
      "cell_type": "markdown",
      "source": [
        "# Cross Validation"
      ],
      "metadata": {
        "id": "fb4Ws4Q3DTz7"
      }
    },
    {
      "cell_type": "code",
      "source": [
        "def cv_blstm():\n",
        "\n",
        "  kf = StratifiedKFold(10, shuffle=True, random_state=42) \n",
        "  cv_metrics = pd.DataFrame(columns = ['Recall', 'Precision', 'F1 score', 'F2 score'])\n",
        "\n",
        "  fold = 0\n",
        "\n",
        "  X = augmented_dataset['text'].values\n",
        "  Y = augmented_dataset['label'].values\n",
        "\n",
        "  for train, val in kf.split(X, Y):  \n",
        "  \n",
        "    print(f\"Fold {fold}\")\n",
        "\n",
        "    train_texts = X[train]\n",
        "    train_labels = Y[train]\n",
        "    test_texts = X[val]\n",
        "    test_labels = Y[val]\n",
        "\n",
        "    blstm_model = create_blstm_model(train_texts)\n",
        "\n",
        "    history = blstm_model.fit(train_texts,\n",
        "                              train_labels,\n",
        "                              epochs=10,\n",
        "                              batch_size=64,\n",
        "                              validation_data=(test_texts, test_labels))\n",
        "\n",
        "    blstm_model.evaluate(test_texts, test_labels)\n",
        "    y_pred = np.round(blstm_model.predict(test_texts))\n",
        "    y_pred = np.argmax(y_pred, axis=1)\n",
        "\n",
        "    f1_sc = f1_score(test_labels, y_pred, average='macro')\n",
        "    f2score = fbeta_score(test_labels, y_pred, beta=2, average='macro')\n",
        "\n",
        "    cv_metrics.loc[fold, 'Recall'] = recall_score(test_labels, y_pred, average='macro')\n",
        "    cv_metrics.loc[fold, 'Precision'] = precision_score(test_labels, y_pred, average='macro')\n",
        "    cv_metrics.loc[fold, 'F1 score'] = f1_sc\n",
        "    cv_metrics.loc[fold, 'F2 score'] = f2score\n",
        "    \n",
        "    fold += 1\n",
        "\n",
        "  return cv_metrics"
      ],
      "metadata": {
        "id": "HIjnlyAtDUmF"
      },
      "execution_count": null,
      "outputs": []
    },
    {
      "cell_type": "code",
      "source": [
        "cv_results = cv_blstm()"
      ],
      "metadata": {
        "colab": {
          "base_uri": "https://localhost:8080/"
        },
        "id": "aJtZ1B1Yg9Sf",
        "outputId": "dcfa9c42-dcd7-4a4c-d938-b73512e656c6"
      },
      "execution_count": null,
      "outputs": [
        {
          "output_type": "stream",
          "name": "stdout",
          "text": [
            "Fold 0\n",
            "Model: \"sequential_10\"\n",
            "_________________________________________________________________\n",
            " Layer (type)                Output Shape              Param #   \n",
            "=================================================================\n",
            " text_vectorization_10 (Text  (None, 200)              0         \n",
            " Vectorization)                                                  \n",
            "                                                                 \n",
            " embedding_10 (Embedding)    (None, 200, 32)           64000     \n",
            "                                                                 \n",
            " spatial_dropout1d_10 (Spati  (None, 200, 32)          0         \n",
            " alDropout1D)                                                    \n",
            "                                                                 \n",
            " bidirectional_10 (Bidirecti  (None, 128)              49664     \n",
            " onal)                                                           \n",
            "                                                                 \n",
            " dropout_10 (Dropout)        (None, 128)               0         \n",
            "                                                                 \n",
            " dense_10 (Dense)            (None, 5)                 645       \n",
            "                                                                 \n",
            "=================================================================\n",
            "Total params: 114,309\n",
            "Trainable params: 114,309\n",
            "Non-trainable params: 0\n",
            "_________________________________________________________________\n",
            "None\n",
            "Epoch 1/10\n",
            "167/167 [==============================] - 20s 99ms/step - loss: 1.4965 - accuracy: 0.3783 - val_loss: 1.1941 - val_accuracy: 0.5660\n",
            "Epoch 2/10\n",
            "167/167 [==============================] - 7s 43ms/step - loss: 1.0383 - accuracy: 0.6092 - val_loss: 0.9213 - val_accuracy: 0.6760\n",
            "Epoch 3/10\n",
            "167/167 [==============================] - 5s 29ms/step - loss: 0.8447 - accuracy: 0.6925 - val_loss: 0.8463 - val_accuracy: 0.6861\n",
            "Epoch 4/10\n",
            "167/167 [==============================] - 4s 25ms/step - loss: 0.7660 - accuracy: 0.7200 - val_loss: 0.7988 - val_accuracy: 0.7115\n",
            "Epoch 5/10\n",
            "167/167 [==============================] - 4s 24ms/step - loss: 0.7101 - accuracy: 0.7468 - val_loss: 0.8112 - val_accuracy: 0.7064\n",
            "Epoch 6/10\n",
            "167/167 [==============================] - 3s 20ms/step - loss: 0.6818 - accuracy: 0.7551 - val_loss: 0.8009 - val_accuracy: 0.7030\n",
            "Epoch 7/10\n",
            "167/167 [==============================] - 3s 21ms/step - loss: 0.6535 - accuracy: 0.7679 - val_loss: 0.8015 - val_accuracy: 0.6912\n",
            "Epoch 8/10\n",
            "167/167 [==============================] - 3s 20ms/step - loss: 0.6319 - accuracy: 0.7770 - val_loss: 0.7885 - val_accuracy: 0.7124\n",
            "Epoch 9/10\n",
            "167/167 [==============================] - 3s 17ms/step - loss: 0.6043 - accuracy: 0.7928 - val_loss: 0.7919 - val_accuracy: 0.7090\n",
            "Epoch 10/10\n",
            "167/167 [==============================] - 3s 20ms/step - loss: 0.5971 - accuracy: 0.7951 - val_loss: 0.8084 - val_accuracy: 0.7064\n",
            "37/37 [==============================] - 0s 7ms/step - loss: 0.8084 - accuracy: 0.7064\n",
            "37/37 [==============================] - 1s 7ms/step\n",
            "Fold 1\n",
            "Model: \"sequential_11\"\n",
            "_________________________________________________________________\n",
            " Layer (type)                Output Shape              Param #   \n",
            "=================================================================\n",
            " text_vectorization_11 (Text  (None, 200)              0         \n",
            " Vectorization)                                                  \n",
            "                                                                 \n",
            " embedding_11 (Embedding)    (None, 200, 32)           64000     \n",
            "                                                                 \n",
            " spatial_dropout1d_11 (Spati  (None, 200, 32)          0         \n",
            " alDropout1D)                                                    \n",
            "                                                                 \n",
            " bidirectional_11 (Bidirecti  (None, 128)              49664     \n",
            " onal)                                                           \n",
            "                                                                 \n",
            " dropout_11 (Dropout)        (None, 128)               0         \n",
            "                                                                 \n",
            " dense_11 (Dense)            (None, 5)                 645       \n",
            "                                                                 \n",
            "=================================================================\n",
            "Total params: 114,309\n",
            "Trainable params: 114,309\n",
            "Non-trainable params: 0\n",
            "_________________________________________________________________\n",
            "None\n",
            "Epoch 1/10\n",
            "167/167 [==============================] - 21s 102ms/step - loss: 1.5074 - accuracy: 0.3606 - val_loss: 1.2132 - val_accuracy: 0.5228\n",
            "Epoch 2/10\n",
            "167/167 [==============================] - 8s 47ms/step - loss: 1.0346 - accuracy: 0.6114 - val_loss: 1.0250 - val_accuracy: 0.6218\n",
            "Epoch 3/10\n",
            "167/167 [==============================] - 5s 27ms/step - loss: 0.8649 - accuracy: 0.6928 - val_loss: 0.9016 - val_accuracy: 0.6667\n",
            "Epoch 4/10\n",
            "167/167 [==============================] - 4s 26ms/step - loss: 0.7668 - accuracy: 0.7283 - val_loss: 0.8894 - val_accuracy: 0.6701\n",
            "Epoch 5/10\n",
            "167/167 [==============================] - 3s 20ms/step - loss: 0.7228 - accuracy: 0.7492 - val_loss: 0.8802 - val_accuracy: 0.6675\n",
            "Epoch 6/10\n",
            "167/167 [==============================] - 3s 20ms/step - loss: 0.6639 - accuracy: 0.7747 - val_loss: 0.8734 - val_accuracy: 0.6810\n",
            "Epoch 7/10\n",
            "167/167 [==============================] - 4s 22ms/step - loss: 0.6210 - accuracy: 0.7909 - val_loss: 0.8832 - val_accuracy: 0.6633\n",
            "Epoch 8/10\n",
            "167/167 [==============================] - 4s 22ms/step - loss: 0.5761 - accuracy: 0.8116 - val_loss: 0.8839 - val_accuracy: 0.6802\n",
            "Epoch 9/10\n",
            "167/167 [==============================] - 3s 18ms/step - loss: 0.5506 - accuracy: 0.8198 - val_loss: 0.8956 - val_accuracy: 0.6887\n",
            "Epoch 10/10\n",
            "167/167 [==============================] - 3s 19ms/step - loss: 0.5349 - accuracy: 0.8230 - val_loss: 0.8920 - val_accuracy: 0.6929\n",
            "37/37 [==============================] - 0s 8ms/step - loss: 0.8920 - accuracy: 0.6929\n",
            "37/37 [==============================] - 1s 6ms/step\n",
            "Fold 2\n",
            "Model: \"sequential_12\"\n",
            "_________________________________________________________________\n",
            " Layer (type)                Output Shape              Param #   \n",
            "=================================================================\n",
            " text_vectorization_12 (Text  (None, 200)              0         \n",
            " Vectorization)                                                  \n",
            "                                                                 \n",
            " embedding_12 (Embedding)    (None, 200, 32)           64000     \n",
            "                                                                 \n",
            " spatial_dropout1d_12 (Spati  (None, 200, 32)          0         \n",
            " alDropout1D)                                                    \n",
            "                                                                 \n",
            " bidirectional_12 (Bidirecti  (None, 128)              49664     \n",
            " onal)                                                           \n",
            "                                                                 \n",
            " dropout_12 (Dropout)        (None, 128)               0         \n",
            "                                                                 \n",
            " dense_12 (Dense)            (None, 5)                 645       \n",
            "                                                                 \n",
            "=================================================================\n",
            "Total params: 114,309\n",
            "Trainable params: 114,309\n",
            "Non-trainable params: 0\n",
            "_________________________________________________________________\n",
            "None\n",
            "Epoch 1/10\n",
            "167/167 [==============================] - 21s 102ms/step - loss: 1.5287 - accuracy: 0.3527 - val_loss: 1.1387 - val_accuracy: 0.6125\n",
            "Epoch 2/10\n",
            "167/167 [==============================] - 6s 36ms/step - loss: 1.0226 - accuracy: 0.6339 - val_loss: 0.8857 - val_accuracy: 0.6650\n",
            "Epoch 3/10\n",
            "167/167 [==============================] - 5s 30ms/step - loss: 0.8431 - accuracy: 0.6983 - val_loss: 0.8496 - val_accuracy: 0.6870\n",
            "Epoch 4/10\n",
            "167/167 [==============================] - 4s 24ms/step - loss: 0.7851 - accuracy: 0.7230 - val_loss: 0.8243 - val_accuracy: 0.6971\n",
            "Epoch 5/10\n",
            "167/167 [==============================] - 4s 27ms/step - loss: 0.7364 - accuracy: 0.7360 - val_loss: 0.8383 - val_accuracy: 0.6980\n",
            "Epoch 6/10\n",
            "167/167 [==============================] - 3s 21ms/step - loss: 0.6927 - accuracy: 0.7501 - val_loss: 0.8196 - val_accuracy: 0.7014\n",
            "Epoch 7/10\n",
            "167/167 [==============================] - 3s 19ms/step - loss: 0.6494 - accuracy: 0.7676 - val_loss: 0.8046 - val_accuracy: 0.7081\n",
            "Epoch 8/10\n",
            "167/167 [==============================] - 3s 19ms/step - loss: 0.6330 - accuracy: 0.7783 - val_loss: 0.8299 - val_accuracy: 0.7064\n",
            "Epoch 9/10\n",
            "167/167 [==============================] - 4s 22ms/step - loss: 0.6153 - accuracy: 0.7873 - val_loss: 0.8220 - val_accuracy: 0.7174\n",
            "Epoch 10/10\n",
            "167/167 [==============================] - 3s 17ms/step - loss: 0.5809 - accuracy: 0.7983 - val_loss: 0.8236 - val_accuracy: 0.7183\n",
            "37/37 [==============================] - 0s 8ms/step - loss: 0.8236 - accuracy: 0.7183\n",
            "37/37 [==============================] - 1s 7ms/step\n",
            "Fold 3\n",
            "Model: \"sequential_13\"\n",
            "_________________________________________________________________\n",
            " Layer (type)                Output Shape              Param #   \n",
            "=================================================================\n",
            " text_vectorization_13 (Text  (None, 200)              0         \n",
            " Vectorization)                                                  \n",
            "                                                                 \n",
            " embedding_13 (Embedding)    (None, 200, 32)           64000     \n",
            "                                                                 \n",
            " spatial_dropout1d_13 (Spati  (None, 200, 32)          0         \n",
            " alDropout1D)                                                    \n",
            "                                                                 \n",
            " bidirectional_13 (Bidirecti  (None, 128)              49664     \n",
            " onal)                                                           \n",
            "                                                                 \n",
            " dropout_13 (Dropout)        (None, 128)               0         \n",
            "                                                                 \n",
            " dense_13 (Dense)            (None, 5)                 645       \n",
            "                                                                 \n",
            "=================================================================\n",
            "Total params: 114,309\n",
            "Trainable params: 114,309\n",
            "Non-trainable params: 0\n",
            "_________________________________________________________________\n",
            "None\n",
            "Epoch 1/10\n",
            "167/167 [==============================] - 22s 104ms/step - loss: 1.5245 - accuracy: 0.3596 - val_loss: 1.2548 - val_accuracy: 0.5178\n",
            "Epoch 2/10\n",
            "167/167 [==============================] - 8s 44ms/step - loss: 1.0193 - accuracy: 0.6179 - val_loss: 0.9184 - val_accuracy: 0.6709\n",
            "Epoch 3/10\n",
            "167/167 [==============================] - 5s 29ms/step - loss: 0.8384 - accuracy: 0.6999 - val_loss: 0.8741 - val_accuracy: 0.6920\n",
            "Epoch 4/10\n",
            "167/167 [==============================] - 4s 26ms/step - loss: 0.7726 - accuracy: 0.7214 - val_loss: 0.8623 - val_accuracy: 0.6802\n",
            "Epoch 5/10\n",
            "167/167 [==============================] - 4s 24ms/step - loss: 0.7211 - accuracy: 0.7465 - val_loss: 0.8475 - val_accuracy: 0.6946\n",
            "Epoch 6/10\n",
            "167/167 [==============================] - 3s 21ms/step - loss: 0.6868 - accuracy: 0.7568 - val_loss: 0.8632 - val_accuracy: 0.6878\n",
            "Epoch 7/10\n",
            "167/167 [==============================] - 3s 21ms/step - loss: 0.6646 - accuracy: 0.7695 - val_loss: 0.8719 - val_accuracy: 0.6861\n",
            "Epoch 8/10\n",
            "167/167 [==============================] - 3s 20ms/step - loss: 0.6365 - accuracy: 0.7823 - val_loss: 0.8745 - val_accuracy: 0.6836\n",
            "Epoch 9/10\n",
            "167/167 [==============================] - 3s 20ms/step - loss: 0.6816 - accuracy: 0.7602 - val_loss: 0.9130 - val_accuracy: 0.6777\n",
            "Epoch 10/10\n",
            "167/167 [==============================] - 3s 20ms/step - loss: 0.6168 - accuracy: 0.7889 - val_loss: 0.8656 - val_accuracy: 0.6946\n",
            "37/37 [==============================] - 0s 7ms/step - loss: 0.8656 - accuracy: 0.6946\n",
            "37/37 [==============================] - 1s 7ms/step\n",
            "Fold 4\n",
            "Model: \"sequential_14\"\n",
            "_________________________________________________________________\n",
            " Layer (type)                Output Shape              Param #   \n",
            "=================================================================\n",
            " text_vectorization_14 (Text  (None, 200)              0         \n",
            " Vectorization)                                                  \n",
            "                                                                 \n",
            " embedding_14 (Embedding)    (None, 200, 32)           64000     \n",
            "                                                                 \n",
            " spatial_dropout1d_14 (Spati  (None, 200, 32)          0         \n",
            " alDropout1D)                                                    \n",
            "                                                                 \n",
            " bidirectional_14 (Bidirecti  (None, 128)              49664     \n",
            " onal)                                                           \n",
            "                                                                 \n",
            " dropout_14 (Dropout)        (None, 128)               0         \n",
            "                                                                 \n",
            " dense_14 (Dense)            (None, 5)                 645       \n",
            "                                                                 \n",
            "=================================================================\n",
            "Total params: 114,309\n",
            "Trainable params: 114,309\n",
            "Non-trainable params: 0\n",
            "_________________________________________________________________\n",
            "None\n",
            "Epoch 1/10\n",
            "167/167 [==============================] - 20s 102ms/step - loss: 1.5324 - accuracy: 0.3402 - val_loss: 1.2693 - val_accuracy: 0.4755\n",
            "Epoch 2/10\n",
            "167/167 [==============================] - 6s 38ms/step - loss: 1.1547 - accuracy: 0.5371 - val_loss: 0.9861 - val_accuracy: 0.6218\n",
            "Epoch 3/10\n",
            "167/167 [==============================] - 5s 31ms/step - loss: 0.9551 - accuracy: 0.6471 - val_loss: 0.8838 - val_accuracy: 0.6836\n",
            "Epoch 4/10\n",
            "167/167 [==============================] - 4s 24ms/step - loss: 0.8472 - accuracy: 0.7024 - val_loss: 0.8668 - val_accuracy: 0.6878\n",
            "Epoch 5/10\n",
            "167/167 [==============================] - 3s 21ms/step - loss: 0.7665 - accuracy: 0.7314 - val_loss: 0.8442 - val_accuracy: 0.6997\n",
            "Epoch 6/10\n",
            "167/167 [==============================] - 4s 26ms/step - loss: 0.7274 - accuracy: 0.7502 - val_loss: 0.8085 - val_accuracy: 0.7208\n",
            "Epoch 7/10\n",
            "167/167 [==============================] - 3s 18ms/step - loss: 0.7007 - accuracy: 0.7578 - val_loss: 0.8633 - val_accuracy: 0.7039\n",
            "Epoch 8/10\n",
            "167/167 [==============================] - 3s 19ms/step - loss: 0.6996 - accuracy: 0.7633 - val_loss: 0.8089 - val_accuracy: 0.7225\n",
            "Epoch 9/10\n",
            "167/167 [==============================] - 4s 21ms/step - loss: 0.6436 - accuracy: 0.7807 - val_loss: 0.7999 - val_accuracy: 0.7250\n",
            "Epoch 10/10\n",
            "167/167 [==============================] - 3s 20ms/step - loss: 0.6168 - accuracy: 0.7947 - val_loss: 0.8129 - val_accuracy: 0.7191\n",
            "37/37 [==============================] - 0s 11ms/step - loss: 0.8129 - accuracy: 0.7191\n",
            "37/37 [==============================] - 1s 6ms/step\n",
            "Fold 5\n",
            "Model: \"sequential_15\"\n",
            "_________________________________________________________________\n",
            " Layer (type)                Output Shape              Param #   \n",
            "=================================================================\n",
            " text_vectorization_15 (Text  (None, 200)              0         \n",
            " Vectorization)                                                  \n",
            "                                                                 \n",
            " embedding_15 (Embedding)    (None, 200, 32)           64000     \n",
            "                                                                 \n",
            " spatial_dropout1d_15 (Spati  (None, 200, 32)          0         \n",
            " alDropout1D)                                                    \n",
            "                                                                 \n",
            " bidirectional_15 (Bidirecti  (None, 128)              49664     \n",
            " onal)                                                           \n",
            "                                                                 \n",
            " dropout_15 (Dropout)        (None, 128)               0         \n",
            "                                                                 \n",
            " dense_15 (Dense)            (None, 5)                 645       \n",
            "                                                                 \n",
            "=================================================================\n",
            "Total params: 114,309\n",
            "Trainable params: 114,309\n",
            "Non-trainable params: 0\n",
            "_________________________________________________________________\n",
            "None\n",
            "Epoch 1/10\n",
            "167/167 [==============================] - 22s 104ms/step - loss: 1.4668 - accuracy: 0.3938 - val_loss: 1.1048 - val_accuracy: 0.5795\n",
            "Epoch 2/10\n",
            "167/167 [==============================] - 7s 41ms/step - loss: 0.9993 - accuracy: 0.6341 - val_loss: 0.9451 - val_accuracy: 0.6557\n",
            "Epoch 3/10\n",
            "167/167 [==============================] - 5s 29ms/step - loss: 0.8589 - accuracy: 0.6956 - val_loss: 0.9512 - val_accuracy: 0.6641\n",
            "Epoch 4/10\n",
            "167/167 [==============================] - 4s 26ms/step - loss: 0.7838 - accuracy: 0.7322 - val_loss: 0.8848 - val_accuracy: 0.6768\n",
            "Epoch 5/10\n",
            "167/167 [==============================] - 3s 21ms/step - loss: 0.7207 - accuracy: 0.7560 - val_loss: 0.8885 - val_accuracy: 0.6904\n",
            "Epoch 6/10\n",
            "167/167 [==============================] - 4s 21ms/step - loss: 0.6851 - accuracy: 0.7671 - val_loss: 0.8998 - val_accuracy: 0.6844\n",
            "Epoch 7/10\n",
            "167/167 [==============================] - 3s 18ms/step - loss: 0.6378 - accuracy: 0.7876 - val_loss: 0.9066 - val_accuracy: 0.6844\n",
            "Epoch 8/10\n",
            "167/167 [==============================] - 3s 21ms/step - loss: 0.5973 - accuracy: 0.8092 - val_loss: 0.8486 - val_accuracy: 0.7098\n",
            "Epoch 9/10\n",
            "167/167 [==============================] - 4s 23ms/step - loss: 0.5698 - accuracy: 0.8197 - val_loss: 0.8703 - val_accuracy: 0.6971\n",
            "Epoch 10/10\n",
            "167/167 [==============================] - 3s 19ms/step - loss: 0.5584 - accuracy: 0.8213 - val_loss: 0.8865 - val_accuracy: 0.6988\n",
            "37/37 [==============================] - 0s 8ms/step - loss: 0.8865 - accuracy: 0.6988\n",
            "37/37 [==============================] - 1s 7ms/step\n",
            "Fold 6\n",
            "Model: \"sequential_16\"\n",
            "_________________________________________________________________\n",
            " Layer (type)                Output Shape              Param #   \n",
            "=================================================================\n",
            " text_vectorization_16 (Text  (None, 200)              0         \n",
            " Vectorization)                                                  \n",
            "                                                                 \n",
            " embedding_16 (Embedding)    (None, 200, 32)           64000     \n",
            "                                                                 \n",
            " spatial_dropout1d_16 (Spati  (None, 200, 32)          0         \n",
            " alDropout1D)                                                    \n",
            "                                                                 \n",
            " bidirectional_16 (Bidirecti  (None, 128)              49664     \n",
            " onal)                                                           \n",
            "                                                                 \n",
            " dropout_16 (Dropout)        (None, 128)               0         \n",
            "                                                                 \n",
            " dense_16 (Dense)            (None, 5)                 645       \n",
            "                                                                 \n",
            "=================================================================\n",
            "Total params: 114,309\n",
            "Trainable params: 114,309\n",
            "Non-trainable params: 0\n",
            "_________________________________________________________________\n",
            "None\n",
            "Epoch 1/10\n",
            "167/167 [==============================] - 21s 104ms/step - loss: 1.4960 - accuracy: 0.3782 - val_loss: 1.0795 - val_accuracy: 0.5694\n",
            "Epoch 2/10\n",
            "167/167 [==============================] - 8s 46ms/step - loss: 1.0453 - accuracy: 0.6251 - val_loss: 0.9459 - val_accuracy: 0.6514\n",
            "Epoch 3/10\n",
            "167/167 [==============================] - 5s 28ms/step - loss: 0.8689 - accuracy: 0.6983 - val_loss: 0.8476 - val_accuracy: 0.6895\n",
            "Epoch 4/10\n",
            "167/167 [==============================] - 4s 22ms/step - loss: 0.7705 - accuracy: 0.7390 - val_loss: 0.8362 - val_accuracy: 0.6963\n",
            "Epoch 5/10\n",
            "167/167 [==============================] - 4s 24ms/step - loss: 0.7144 - accuracy: 0.7599 - val_loss: 0.8386 - val_accuracy: 0.6920\n",
            "Epoch 6/10\n",
            "167/167 [==============================] - 4s 22ms/step - loss: 0.6689 - accuracy: 0.7755 - val_loss: 0.8355 - val_accuracy: 0.7022\n",
            "Epoch 7/10\n",
            "167/167 [==============================] - 3s 20ms/step - loss: 0.6390 - accuracy: 0.7877 - val_loss: 0.8411 - val_accuracy: 0.7030\n",
            "Epoch 8/10\n",
            "167/167 [==============================] - 3s 18ms/step - loss: 0.6003 - accuracy: 0.8009 - val_loss: 0.8525 - val_accuracy: 0.7056\n",
            "Epoch 9/10\n",
            "167/167 [==============================] - 3s 19ms/step - loss: 0.6047 - accuracy: 0.8014 - val_loss: 0.8266 - val_accuracy: 0.7191\n",
            "Epoch 10/10\n",
            "167/167 [==============================] - 4s 22ms/step - loss: 0.5719 - accuracy: 0.8145 - val_loss: 0.8619 - val_accuracy: 0.6988\n",
            "37/37 [==============================] - 0s 12ms/step - loss: 0.8619 - accuracy: 0.6988\n",
            "37/37 [==============================] - 1s 7ms/step\n",
            "Fold 7\n",
            "Model: \"sequential_17\"\n",
            "_________________________________________________________________\n",
            " Layer (type)                Output Shape              Param #   \n",
            "=================================================================\n",
            " text_vectorization_17 (Text  (None, 200)              0         \n",
            " Vectorization)                                                  \n",
            "                                                                 \n",
            " embedding_17 (Embedding)    (None, 200, 32)           64000     \n",
            "                                                                 \n",
            " spatial_dropout1d_17 (Spati  (None, 200, 32)          0         \n",
            " alDropout1D)                                                    \n",
            "                                                                 \n",
            " bidirectional_17 (Bidirecti  (None, 128)              49664     \n",
            " onal)                                                           \n",
            "                                                                 \n",
            " dropout_17 (Dropout)        (None, 128)               0         \n",
            "                                                                 \n",
            " dense_17 (Dense)            (None, 5)                 645       \n",
            "                                                                 \n",
            "=================================================================\n",
            "Total params: 114,309\n",
            "Trainable params: 114,309\n",
            "Non-trainable params: 0\n",
            "_________________________________________________________________\n",
            "None\n",
            "Epoch 1/10\n",
            "167/167 [==============================] - 23s 111ms/step - loss: 1.4958 - accuracy: 0.3836 - val_loss: 1.1169 - val_accuracy: 0.5905\n",
            "Epoch 2/10\n",
            "167/167 [==============================] - 7s 41ms/step - loss: 0.9865 - accuracy: 0.6306 - val_loss: 0.9008 - val_accuracy: 0.6777\n",
            "Epoch 3/10\n",
            "167/167 [==============================] - 5s 29ms/step - loss: 0.8259 - accuracy: 0.7063 - val_loss: 0.8715 - val_accuracy: 0.6827\n",
            "Epoch 4/10\n",
            "167/167 [==============================] - 5s 28ms/step - loss: 0.7462 - accuracy: 0.7309 - val_loss: 0.8431 - val_accuracy: 0.6954\n",
            "Epoch 5/10\n",
            "167/167 [==============================] - 4s 22ms/step - loss: 0.6956 - accuracy: 0.7569 - val_loss: 0.8340 - val_accuracy: 0.7064\n",
            "Epoch 6/10\n",
            "167/167 [==============================] - 3s 19ms/step - loss: 0.6810 - accuracy: 0.7595 - val_loss: 0.8393 - val_accuracy: 0.7090\n",
            "Epoch 7/10\n",
            "167/167 [==============================] - 4s 22ms/step - loss: 0.6285 - accuracy: 0.7764 - val_loss: 0.8495 - val_accuracy: 0.7005\n",
            "Epoch 8/10\n",
            "167/167 [==============================] - 3s 20ms/step - loss: 0.6157 - accuracy: 0.7842 - val_loss: 0.8215 - val_accuracy: 0.7166\n",
            "Epoch 9/10\n",
            "167/167 [==============================] - 4s 21ms/step - loss: 0.5721 - accuracy: 0.8054 - val_loss: 0.8093 - val_accuracy: 0.7183\n",
            "Epoch 10/10\n",
            "167/167 [==============================] - 3s 17ms/step - loss: 0.5454 - accuracy: 0.8141 - val_loss: 0.8215 - val_accuracy: 0.7208\n",
            "37/37 [==============================] - 0s 8ms/step - loss: 0.8215 - accuracy: 0.7208\n",
            "37/37 [==============================] - 1s 7ms/step\n",
            "Fold 8\n",
            "Model: \"sequential_18\"\n",
            "_________________________________________________________________\n",
            " Layer (type)                Output Shape              Param #   \n",
            "=================================================================\n",
            " text_vectorization_18 (Text  (None, 200)              0         \n",
            " Vectorization)                                                  \n",
            "                                                                 \n",
            " embedding_18 (Embedding)    (None, 200, 32)           64000     \n",
            "                                                                 \n",
            " spatial_dropout1d_18 (Spati  (None, 200, 32)          0         \n",
            " alDropout1D)                                                    \n",
            "                                                                 \n",
            " bidirectional_18 (Bidirecti  (None, 128)              49664     \n",
            " onal)                                                           \n",
            "                                                                 \n",
            " dropout_18 (Dropout)        (None, 128)               0         \n",
            "                                                                 \n",
            " dense_18 (Dense)            (None, 5)                 645       \n",
            "                                                                 \n",
            "=================================================================\n",
            "Total params: 114,309\n",
            "Trainable params: 114,309\n",
            "Non-trainable params: 0\n",
            "_________________________________________________________________\n",
            "None\n",
            "Epoch 1/10\n",
            "167/167 [==============================] - 21s 102ms/step - loss: 1.4985 - accuracy: 0.3712 - val_loss: 1.1848 - val_accuracy: 0.5415\n",
            "Epoch 2/10\n",
            "167/167 [==============================] - 7s 45ms/step - loss: 1.0165 - accuracy: 0.6169 - val_loss: 0.9853 - val_accuracy: 0.6311\n",
            "Epoch 3/10\n",
            "167/167 [==============================] - 5s 29ms/step - loss: 0.8727 - accuracy: 0.6766 - val_loss: 0.9129 - val_accuracy: 0.6751\n",
            "Epoch 4/10\n",
            "167/167 [==============================] - 4s 24ms/step - loss: 0.7905 - accuracy: 0.7172 - val_loss: 0.8616 - val_accuracy: 0.6997\n",
            "Epoch 5/10\n",
            "167/167 [==============================] - 4s 23ms/step - loss: 0.7279 - accuracy: 0.7478 - val_loss: 0.8448 - val_accuracy: 0.7157\n",
            "Epoch 6/10\n",
            "167/167 [==============================] - 4s 23ms/step - loss: 0.6749 - accuracy: 0.7711 - val_loss: 0.8301 - val_accuracy: 0.7208\n",
            "Epoch 7/10\n",
            "167/167 [==============================] - 4s 22ms/step - loss: 0.6210 - accuracy: 0.7906 - val_loss: 0.8201 - val_accuracy: 0.7301\n",
            "Epoch 8/10\n",
            "167/167 [==============================] - 3s 20ms/step - loss: 0.5975 - accuracy: 0.8033 - val_loss: 0.8356 - val_accuracy: 0.7174\n",
            "Epoch 9/10\n",
            "167/167 [==============================] - 3s 21ms/step - loss: 0.5655 - accuracy: 0.8179 - val_loss: 0.8586 - val_accuracy: 0.7242\n",
            "Epoch 10/10\n",
            "167/167 [==============================] - 4s 22ms/step - loss: 0.5338 - accuracy: 0.8252 - val_loss: 0.8710 - val_accuracy: 0.7200\n",
            "37/37 [==============================] - 0s 8ms/step - loss: 0.8710 - accuracy: 0.7200\n",
            "37/37 [==============================] - 1s 7ms/step\n",
            "Fold 9\n",
            "Model: \"sequential_19\"\n",
            "_________________________________________________________________\n",
            " Layer (type)                Output Shape              Param #   \n",
            "=================================================================\n",
            " text_vectorization_19 (Text  (None, 200)              0         \n",
            " Vectorization)                                                  \n",
            "                                                                 \n",
            " embedding_19 (Embedding)    (None, 200, 32)           64000     \n",
            "                                                                 \n",
            " spatial_dropout1d_19 (Spati  (None, 200, 32)          0         \n",
            " alDropout1D)                                                    \n",
            "                                                                 \n",
            " bidirectional_19 (Bidirecti  (None, 128)              49664     \n",
            " onal)                                                           \n",
            "                                                                 \n",
            " dropout_19 (Dropout)        (None, 128)               0         \n",
            "                                                                 \n",
            " dense_19 (Dense)            (None, 5)                 645       \n",
            "                                                                 \n",
            "=================================================================\n",
            "Total params: 114,309\n",
            "Trainable params: 114,309\n",
            "Non-trainable params: 0\n",
            "_________________________________________________________________\n",
            "None\n",
            "Epoch 1/10\n",
            "167/167 [==============================] - 22s 104ms/step - loss: 1.5402 - accuracy: 0.3456 - val_loss: 1.3047 - val_accuracy: 0.4831\n",
            "Epoch 2/10\n",
            "167/167 [==============================] - 6s 36ms/step - loss: 1.1203 - accuracy: 0.5662 - val_loss: 1.0017 - val_accuracy: 0.6184\n",
            "Epoch 3/10\n",
            "167/167 [==============================] - 5s 32ms/step - loss: 0.9188 - accuracy: 0.6681 - val_loss: 0.8975 - val_accuracy: 0.6607\n",
            "Epoch 4/10\n",
            "167/167 [==============================] - 4s 26ms/step - loss: 0.8172 - accuracy: 0.7072 - val_loss: 0.8562 - val_accuracy: 0.6870\n",
            "Epoch 5/10\n",
            "167/167 [==============================] - 4s 22ms/step - loss: 0.7545 - accuracy: 0.7359 - val_loss: 0.8696 - val_accuracy: 0.6844\n",
            "Epoch 6/10\n",
            "167/167 [==============================] - 4s 24ms/step - loss: 0.7055 - accuracy: 0.7551 - val_loss: 0.8194 - val_accuracy: 0.6980\n",
            "Epoch 7/10\n",
            "167/167 [==============================] - 3s 19ms/step - loss: 0.6567 - accuracy: 0.7778 - val_loss: 0.8007 - val_accuracy: 0.7107\n",
            "Epoch 8/10\n",
            "167/167 [==============================] - 4s 22ms/step - loss: 0.6195 - accuracy: 0.7958 - val_loss: 0.8177 - val_accuracy: 0.7064\n",
            "Epoch 9/10\n",
            "167/167 [==============================] - 3s 18ms/step - loss: 0.5862 - accuracy: 0.8059 - val_loss: 0.8686 - val_accuracy: 0.7090\n",
            "Epoch 10/10\n",
            "167/167 [==============================] - 3s 19ms/step - loss: 0.5614 - accuracy: 0.8206 - val_loss: 0.8246 - val_accuracy: 0.7200\n",
            "37/37 [==============================] - 0s 7ms/step - loss: 0.8246 - accuracy: 0.7200\n",
            "37/37 [==============================] - 1s 7ms/step\n"
          ]
        }
      ]
    },
    {
      "cell_type": "code",
      "source": [
        "cv_results"
      ],
      "metadata": {
        "colab": {
          "base_uri": "https://localhost:8080/",
          "height": 363
        },
        "id": "-H8MRrnig9PH",
        "outputId": "109e1e3e-f024-4dc9-8179-8d9c48b7f7a9"
      },
      "execution_count": null,
      "outputs": [
        {
          "output_type": "execute_result",
          "data": {
            "text/plain": [
              "     Recall Precision  F1 score  F2 score\n",
              "0  0.694123  0.693814  0.687365  0.689564\n",
              "1  0.691513  0.680305  0.679083  0.684712\n",
              "2  0.725654   0.70307    0.7063  0.716175\n",
              "3  0.708778  0.681503  0.687067  0.698334\n",
              "4  0.719813  0.727819  0.707041  0.710684\n",
              "5  0.703316  0.687776  0.691564  0.697618\n",
              "6  0.697077  0.671249  0.671644  0.684579\n",
              "7  0.712545  0.716527  0.709142  0.709702\n",
              "8  0.724486  0.704281  0.701639  0.712742\n",
              "9  0.730556  0.721057  0.719734  0.724586"
            ],
            "text/html": [
              "\n",
              "  <div id=\"df-90ca3211-fee5-4f69-8675-cd55ee3b9479\">\n",
              "    <div class=\"colab-df-container\">\n",
              "      <div>\n",
              "<style scoped>\n",
              "    .dataframe tbody tr th:only-of-type {\n",
              "        vertical-align: middle;\n",
              "    }\n",
              "\n",
              "    .dataframe tbody tr th {\n",
              "        vertical-align: top;\n",
              "    }\n",
              "\n",
              "    .dataframe thead th {\n",
              "        text-align: right;\n",
              "    }\n",
              "</style>\n",
              "<table border=\"1\" class=\"dataframe\">\n",
              "  <thead>\n",
              "    <tr style=\"text-align: right;\">\n",
              "      <th></th>\n",
              "      <th>Recall</th>\n",
              "      <th>Precision</th>\n",
              "      <th>F1 score</th>\n",
              "      <th>F2 score</th>\n",
              "    </tr>\n",
              "  </thead>\n",
              "  <tbody>\n",
              "    <tr>\n",
              "      <th>0</th>\n",
              "      <td>0.694123</td>\n",
              "      <td>0.693814</td>\n",
              "      <td>0.687365</td>\n",
              "      <td>0.689564</td>\n",
              "    </tr>\n",
              "    <tr>\n",
              "      <th>1</th>\n",
              "      <td>0.691513</td>\n",
              "      <td>0.680305</td>\n",
              "      <td>0.679083</td>\n",
              "      <td>0.684712</td>\n",
              "    </tr>\n",
              "    <tr>\n",
              "      <th>2</th>\n",
              "      <td>0.725654</td>\n",
              "      <td>0.70307</td>\n",
              "      <td>0.7063</td>\n",
              "      <td>0.716175</td>\n",
              "    </tr>\n",
              "    <tr>\n",
              "      <th>3</th>\n",
              "      <td>0.708778</td>\n",
              "      <td>0.681503</td>\n",
              "      <td>0.687067</td>\n",
              "      <td>0.698334</td>\n",
              "    </tr>\n",
              "    <tr>\n",
              "      <th>4</th>\n",
              "      <td>0.719813</td>\n",
              "      <td>0.727819</td>\n",
              "      <td>0.707041</td>\n",
              "      <td>0.710684</td>\n",
              "    </tr>\n",
              "    <tr>\n",
              "      <th>5</th>\n",
              "      <td>0.703316</td>\n",
              "      <td>0.687776</td>\n",
              "      <td>0.691564</td>\n",
              "      <td>0.697618</td>\n",
              "    </tr>\n",
              "    <tr>\n",
              "      <th>6</th>\n",
              "      <td>0.697077</td>\n",
              "      <td>0.671249</td>\n",
              "      <td>0.671644</td>\n",
              "      <td>0.684579</td>\n",
              "    </tr>\n",
              "    <tr>\n",
              "      <th>7</th>\n",
              "      <td>0.712545</td>\n",
              "      <td>0.716527</td>\n",
              "      <td>0.709142</td>\n",
              "      <td>0.709702</td>\n",
              "    </tr>\n",
              "    <tr>\n",
              "      <th>8</th>\n",
              "      <td>0.724486</td>\n",
              "      <td>0.704281</td>\n",
              "      <td>0.701639</td>\n",
              "      <td>0.712742</td>\n",
              "    </tr>\n",
              "    <tr>\n",
              "      <th>9</th>\n",
              "      <td>0.730556</td>\n",
              "      <td>0.721057</td>\n",
              "      <td>0.719734</td>\n",
              "      <td>0.724586</td>\n",
              "    </tr>\n",
              "  </tbody>\n",
              "</table>\n",
              "</div>\n",
              "      <button class=\"colab-df-convert\" onclick=\"convertToInteractive('df-90ca3211-fee5-4f69-8675-cd55ee3b9479')\"\n",
              "              title=\"Convert this dataframe to an interactive table.\"\n",
              "              style=\"display:none;\">\n",
              "        \n",
              "  <svg xmlns=\"http://www.w3.org/2000/svg\" height=\"24px\"viewBox=\"0 0 24 24\"\n",
              "       width=\"24px\">\n",
              "    <path d=\"M0 0h24v24H0V0z\" fill=\"none\"/>\n",
              "    <path d=\"M18.56 5.44l.94 2.06.94-2.06 2.06-.94-2.06-.94-.94-2.06-.94 2.06-2.06.94zm-11 1L8.5 8.5l.94-2.06 2.06-.94-2.06-.94L8.5 2.5l-.94 2.06-2.06.94zm10 10l.94 2.06.94-2.06 2.06-.94-2.06-.94-.94-2.06-.94 2.06-2.06.94z\"/><path d=\"M17.41 7.96l-1.37-1.37c-.4-.4-.92-.59-1.43-.59-.52 0-1.04.2-1.43.59L10.3 9.45l-7.72 7.72c-.78.78-.78 2.05 0 2.83L4 21.41c.39.39.9.59 1.41.59.51 0 1.02-.2 1.41-.59l7.78-7.78 2.81-2.81c.8-.78.8-2.07 0-2.86zM5.41 20L4 18.59l7.72-7.72 1.47 1.35L5.41 20z\"/>\n",
              "  </svg>\n",
              "      </button>\n",
              "      \n",
              "  <style>\n",
              "    .colab-df-container {\n",
              "      display:flex;\n",
              "      flex-wrap:wrap;\n",
              "      gap: 12px;\n",
              "    }\n",
              "\n",
              "    .colab-df-convert {\n",
              "      background-color: #E8F0FE;\n",
              "      border: none;\n",
              "      border-radius: 50%;\n",
              "      cursor: pointer;\n",
              "      display: none;\n",
              "      fill: #1967D2;\n",
              "      height: 32px;\n",
              "      padding: 0 0 0 0;\n",
              "      width: 32px;\n",
              "    }\n",
              "\n",
              "    .colab-df-convert:hover {\n",
              "      background-color: #E2EBFA;\n",
              "      box-shadow: 0px 1px 2px rgba(60, 64, 67, 0.3), 0px 1px 3px 1px rgba(60, 64, 67, 0.15);\n",
              "      fill: #174EA6;\n",
              "    }\n",
              "\n",
              "    [theme=dark] .colab-df-convert {\n",
              "      background-color: #3B4455;\n",
              "      fill: #D2E3FC;\n",
              "    }\n",
              "\n",
              "    [theme=dark] .colab-df-convert:hover {\n",
              "      background-color: #434B5C;\n",
              "      box-shadow: 0px 1px 3px 1px rgba(0, 0, 0, 0.15);\n",
              "      filter: drop-shadow(0px 1px 2px rgba(0, 0, 0, 0.3));\n",
              "      fill: #FFFFFF;\n",
              "    }\n",
              "  </style>\n",
              "\n",
              "      <script>\n",
              "        const buttonEl =\n",
              "          document.querySelector('#df-90ca3211-fee5-4f69-8675-cd55ee3b9479 button.colab-df-convert');\n",
              "        buttonEl.style.display =\n",
              "          google.colab.kernel.accessAllowed ? 'block' : 'none';\n",
              "\n",
              "        async function convertToInteractive(key) {\n",
              "          const element = document.querySelector('#df-90ca3211-fee5-4f69-8675-cd55ee3b9479');\n",
              "          const dataTable =\n",
              "            await google.colab.kernel.invokeFunction('convertToInteractive',\n",
              "                                                     [key], {});\n",
              "          if (!dataTable) return;\n",
              "\n",
              "          const docLinkHtml = 'Like what you see? Visit the ' +\n",
              "            '<a target=\"_blank\" href=https://colab.research.google.com/notebooks/data_table.ipynb>data table notebook</a>'\n",
              "            + ' to learn more about interactive tables.';\n",
              "          element.innerHTML = '';\n",
              "          dataTable['output_type'] = 'display_data';\n",
              "          await google.colab.output.renderOutput(dataTable, element);\n",
              "          const docLink = document.createElement('div');\n",
              "          docLink.innerHTML = docLinkHtml;\n",
              "          element.appendChild(docLink);\n",
              "        }\n",
              "      </script>\n",
              "    </div>\n",
              "  </div>\n",
              "  "
            ]
          },
          "metadata": {},
          "execution_count": 25
        }
      ]
    },
    {
      "cell_type": "code",
      "source": [
        "cv_results.mean()"
      ],
      "metadata": {
        "colab": {
          "base_uri": "https://localhost:8080/"
        },
        "id": "cDHQA7DUg9MI",
        "outputId": "05da471b-2251-461a-cf21-812098e1149b"
      },
      "execution_count": null,
      "outputs": [
        {
          "output_type": "execute_result",
          "data": {
            "text/plain": [
              "Recall       0.710786\n",
              "Precision    0.698740\n",
              "F1 score     0.696058\n",
              "F2 score     0.702870\n",
              "dtype: float64"
            ]
          },
          "metadata": {},
          "execution_count": 26
        }
      ]
    },
    {
      "cell_type": "code",
      "source": [],
      "metadata": {
        "id": "rJ_VN-1MhC3C"
      },
      "execution_count": null,
      "outputs": []
    },
    {
      "cell_type": "code",
      "execution_count": null,
      "metadata": {
        "id": "8hYuZj2muQb5"
      },
      "outputs": [],
      "source": [
        "def train_blstm(train_texts, train_labels, test_texts, test_labels):\n",
        "\n",
        "  blstm_model = create_blstm_model(train_texts)\n",
        "  \n",
        "  history = blstm_model.fit(train_texts,\n",
        "                            train_labels,\n",
        "                            epochs=10,\n",
        "                            batch_size=64,\n",
        "                            validation_data=(test_texts, test_labels))\n",
        "  \n",
        "  blstm_model.evaluate(test_texts, test_labels)\n",
        "  y_pred = np.round(blstm_model.predict(test_texts))\n",
        "\n",
        "  y_pred = np.argmax(y_pred, axis=1)\n",
        "\n",
        "  f1_sc = f1_score(test_labels, y_pred, average='macro')\n",
        "  f2score = fbeta_score(test_labels, y_pred, beta=2, average='macro')\n",
        "\n",
        "  print(\"Recall = {}\".format(recall_score(test_labels, y_pred, average='macro')))\n",
        "  print(\"Precision = {}\".format(precision_score(test_labels, y_pred, average='macro')))\n",
        "  print(\"F1 score = {}\".format(f1_sc))\n",
        "  print(\"F2 score = {}\".format(f2score))\n",
        "  print(classification_report(test_labels, y_pred))\n",
        "  \n",
        "  cm = confusion_matrix(test_labels, y_pred)\n",
        "\n",
        "  disp = ConfusionMatrixDisplay(confusion_matrix=cm, display_labels=[0,1,2,3,4])\n",
        "\n",
        "  disp.plot(cmap=plt.cm.Blues)\n",
        "  plt.show()\n",
        "\n",
        "  return f1_sc"
      ]
    },
    {
      "cell_type": "code",
      "execution_count": null,
      "metadata": {
        "id": "RJuEtpBVuhte"
      },
      "outputs": [],
      "source": [
        "X_test = test_data['text'].values.reshape(-1, 1)"
      ]
    },
    {
      "cell_type": "code",
      "execution_count": null,
      "metadata": {
        "colab": {
          "base_uri": "https://localhost:8080/"
        },
        "id": "A3uP1_rlfyqz",
        "outputId": "98873fb0-0d71-4911-ee27-97de63522e2f"
      },
      "outputs": [
        {
          "output_type": "execute_result",
          "data": {
            "text/plain": [
              "(2770, 1)"
            ]
          },
          "metadata": {},
          "execution_count": 54
        }
      ],
      "source": [
        "X_test.shape"
      ]
    },
    {
      "cell_type": "code",
      "execution_count": null,
      "metadata": {
        "id": "XCvujPqbulq_"
      },
      "outputs": [],
      "source": [
        "y_test = test_data['label'].values"
      ]
    },
    {
      "cell_type": "code",
      "execution_count": null,
      "metadata": {
        "id": "397U-wa_zYbv"
      },
      "outputs": [],
      "source": [
        "aug_X_train = augmented_dataset['text'].values.reshape(-1, 1)"
      ]
    },
    {
      "cell_type": "code",
      "execution_count": null,
      "metadata": {
        "colab": {
          "base_uri": "https://localhost:8080/"
        },
        "id": "wOzFezdmzYTt",
        "outputId": "08f3c93f-04a6-40a7-8a6a-80a1c82d332b"
      },
      "outputs": [
        {
          "output_type": "execute_result",
          "data": {
            "text/plain": [
              "(11820, 1)"
            ]
          },
          "metadata": {},
          "execution_count": 57
        }
      ],
      "source": [
        "aug_X_train.shape"
      ]
    },
    {
      "cell_type": "code",
      "execution_count": null,
      "metadata": {
        "id": "zurjBnFFzYLI"
      },
      "outputs": [],
      "source": [
        "aug_y_train = augmented_dataset['label'].values.reshape(-1, 1)"
      ]
    },
    {
      "cell_type": "code",
      "execution_count": null,
      "metadata": {
        "colab": {
          "base_uri": "https://localhost:8080/"
        },
        "id": "IRw8K5f5zehw",
        "outputId": "fa530e95-1f44-4ca5-e041-dd8fa3c46157"
      },
      "outputs": [
        {
          "output_type": "execute_result",
          "data": {
            "text/plain": [
              "(11820, 1)"
            ]
          },
          "metadata": {},
          "execution_count": 59
        }
      ],
      "source": [
        "aug_y_train.shape"
      ]
    },
    {
      "cell_type": "code",
      "source": [
        "# 86_9_88_9\n",
        "train_blstm(aug_X_train, aug_y_train, X_test, y_test)"
      ],
      "metadata": {
        "colab": {
          "base_uri": "https://localhost:8080/",
          "height": 1000
        },
        "id": "nzCGgSPyPtQW",
        "outputId": "adb156a2-ade4-438d-e22e-163a3a67099b"
      },
      "execution_count": null,
      "outputs": [
        {
          "output_type": "stream",
          "name": "stdout",
          "text": [
            "Model: \"sequential\"\n",
            "_________________________________________________________________\n",
            " Layer (type)                Output Shape              Param #   \n",
            "=================================================================\n",
            " text_vectorization (TextVec  (None, 200)              0         \n",
            " torization)                                                     \n",
            "                                                                 \n",
            " embedding (Embedding)       (None, 200, 32)           64000     \n",
            "                                                                 \n",
            " spatial_dropout1d (SpatialD  (None, 200, 32)          0         \n",
            " ropout1D)                                                       \n",
            "                                                                 \n",
            " bidirectional (Bidirectiona  (None, 128)              49664     \n",
            " l)                                                              \n",
            "                                                                 \n",
            " dropout (Dropout)           (None, 128)               0         \n",
            "                                                                 \n",
            " dense (Dense)               (None, 5)                 645       \n",
            "                                                                 \n",
            "=================================================================\n",
            "Total params: 114,309\n",
            "Trainable params: 114,309\n",
            "Non-trainable params: 0\n",
            "_________________________________________________________________\n",
            "None\n",
            "Epoch 1/10\n",
            "185/185 [==============================] - 68s 339ms/step - loss: 1.4134 - accuracy: 0.4167 - val_loss: 1.1961 - val_accuracy: 0.5430\n",
            "Epoch 2/10\n",
            "185/185 [==============================] - 59s 322ms/step - loss: 0.9787 - accuracy: 0.6350 - val_loss: 1.1117 - val_accuracy: 0.5693\n",
            "Epoch 3/10\n",
            "185/185 [==============================] - 62s 336ms/step - loss: 0.8349 - accuracy: 0.6953 - val_loss: 1.0990 - val_accuracy: 0.5783\n",
            "Epoch 4/10\n",
            "185/185 [==============================] - 61s 330ms/step - loss: 0.7557 - accuracy: 0.7341 - val_loss: 1.1682 - val_accuracy: 0.5639\n",
            "Epoch 5/10\n",
            "185/185 [==============================] - 60s 324ms/step - loss: 0.9458 - accuracy: 0.6803 - val_loss: 1.2014 - val_accuracy: 0.5448\n",
            "Epoch 6/10\n",
            "185/185 [==============================] - 62s 336ms/step - loss: 0.8100 - accuracy: 0.7214 - val_loss: 1.1727 - val_accuracy: 0.5686\n",
            "Epoch 7/10\n",
            "185/185 [==============================] - 61s 333ms/step - loss: 0.7317 - accuracy: 0.7497 - val_loss: 1.1933 - val_accuracy: 0.5556\n",
            "Epoch 8/10\n",
            "185/185 [==============================] - 62s 334ms/step - loss: 0.7567 - accuracy: 0.7464 - val_loss: 1.2593 - val_accuracy: 0.5570\n",
            "Epoch 9/10\n",
            "185/185 [==============================] - 62s 335ms/step - loss: 0.6635 - accuracy: 0.7814 - val_loss: 1.2669 - val_accuracy: 0.5560\n",
            "Epoch 10/10\n",
            "185/185 [==============================] - 62s 335ms/step - loss: 0.6572 - accuracy: 0.7865 - val_loss: 1.2749 - val_accuracy: 0.5632\n",
            "87/87 [==============================] - 4s 49ms/step - loss: 1.2749 - accuracy: 0.5632\n",
            "87/87 [==============================] - 8s 73ms/step\n",
            "Recall = 0.5706292684860511\n",
            "Precision = 0.5350787682861424\n",
            "F1 score = 0.5413612961590464\n",
            "F2 score = 0.5562669107407116\n",
            "              precision    recall  f1-score   support\n",
            "\n",
            "           0       0.55      0.74      0.63       616\n",
            "           1       0.44      0.59      0.50       287\n",
            "           2       0.53      0.47      0.50       366\n",
            "           3       0.64      0.74      0.68       589\n",
            "           4       0.52      0.31      0.39       912\n",
            "\n",
            "    accuracy                           0.55      2770\n",
            "   macro avg       0.54      0.57      0.54      2770\n",
            "weighted avg       0.54      0.55      0.53      2770\n",
            "\n"
          ]
        },
        {
          "output_type": "display_data",
          "data": {
            "text/plain": [
              "<Figure size 640x480 with 2 Axes>"
            ],
            "image/png": "[encoded data removed]"
          },
          "metadata": {}
        },
        {
          "output_type": "execute_result",
          "data": {
            "text/plain": [
              "0.5413612961590464"
            ]
          },
          "metadata": {},
          "execution_count": 60
        }
      ]
    }
  ],
  "metadata": {
    "colab": {
      "machine_shape": "hm",
      "provenance": [],
      "gpuType": "T4"
    },
    "gpuClass": "premium",
    "kernelspec": {
      "display_name": "Python 3",
      "name": "python3"
    },
    "language_info": {
      "name": "python"
    },
    "accelerator": "GPU"
  },
  "nbformat": 4,
  "nbformat_minor": 0
}