{
  "cells": [
    {
      "cell_type": "code",
      "execution_count": null,
      "metadata": {
        "colab": {
          "base_uri": "https://localhost:8080/"
        },
        "id": "1fxQvigWg05-",
        "outputId": "f7f6b10c-8b9c-4ce5-d622-57adf1bbac0c"
      },
      "outputs": [
        {
          "output_type": "stream",
          "name": "stderr",
          "text": [
            "[nltk_data] Downloading package stopwords to /root/nltk_data...\n",
            "[nltk_data]   Unzipping corpora/stopwords.zip.\n",
            "[nltk_data] Downloading package punkt to /root/nltk_data...\n",
            "[nltk_data]   Unzipping tokenizers/punkt.zip.\n",
            "[nltk_data] Downloading package averaged_perceptron_tagger to\n",
            "[nltk_data]     /root/nltk_data...\n",
            "[nltk_data]   Unzipping taggers/averaged_perceptron_tagger.zip.\n"
          ]
        },
        {
          "output_type": "stream",
          "name": "stdout",
          "text": [
            "Mounted at /content/gdrive\n"
          ]
        }
      ],
      "source": [
        "from datetime import datetime\n",
        "import numpy as np\n",
        "import pandas as pd\n",
        "from sklearn.preprocessing import LabelEncoder\n",
        "from sklearn.model_selection import train_test_split\n",
        "from sklearn.ensemble import RandomForestClassifier, ExtraTreesClassifier\n",
        "from sklearn.linear_model import SGDClassifier, LogisticRegression\n",
        "from sklearn.naive_bayes import GaussianNB\n",
        "from sklearn.neural_network import MLPClassifier\n",
        "from sklearn.svm import SVC\n",
        "from sklearn.neighbors import KNeighborsClassifier\n",
        "from sklearn.model_selection import GridSearchCV\n",
        "from sklearn.ensemble import StackingClassifier\n",
        "from sklearn.metrics import confusion_matrix\n",
        "from sklearn.metrics import ConfusionMatrixDisplay\n",
        "from sklearn.metrics import accuracy_score, recall_score, precision_score, f1_score, fbeta_score, classification_report\n",
        "from sklearn.metrics import make_scorer \n",
        "import matplotlib.pyplot as plt\n",
        "import gensim.downloader as api\n",
        "import nltk\n",
        "from nltk.tokenize import word_tokenize\n",
        "from nltk import pos_tag\n",
        "nltk.download('stopwords')\n",
        "nltk.download('punkt')\n",
        "nltk.download('averaged_perceptron_tagger')\n",
        "\n",
        "from google.colab import drive\n",
        "drive.mount('/content/gdrive')\n",
        "dir_name = \"/content/gdrive/MyDrive/Thesis/\""
      ]
    },
    {
      "cell_type": "code",
      "execution_count": null,
      "metadata": {
        "colab": {
          "base_uri": "https://localhost:8080/",
          "height": 423
        },
        "id": "U3XESbgnh173",
        "outputId": "e84a043d-459f-4e26-ae86-7fb7aee7574d"
      },
      "outputs": [
        {
          "output_type": "execute_result",
          "data": {
            "text/plain": [
              "       label                                               text\n",
              "0          4  Tissue changes around loose prostheses. A cani...\n",
              "1          0  Neuropeptide Y and neuron-specific enolase lev...\n",
              "2          1  Sexually transmitted diseases of the colon, re...\n",
              "3          0  Lipolytic factors associated with murine and h...\n",
              "4          2  Does carotid restenosis predict an increased r...\n",
              "...      ...                                                ...\n",
              "11545      0  Epirubicin at two dose levels with prednisolon...\n",
              "11546      0  Four and a half year follow up of women with d...\n",
              "11547      4  Safety of the transbronchial biopsy in outpati...\n",
              "11548      2  Interictal spikes and hippocampal somatostatin...\n",
              "11549      4  Recurrent thoracic outlet syndrome after first...\n",
              "\n",
              "[11550 rows x 2 columns]"
            ],
            "text/html": [
              "\n",
              "  <div id=\"df-da95fb53-5169-4f4a-9c20-70baebaa36ed\">\n",
              "    <div class=\"colab-df-container\">\n",
              "      <div>\n",
              "<style scoped>\n",
              "    .dataframe tbody tr th:only-of-type {\n",
              "        vertical-align: middle;\n",
              "    }\n",
              "\n",
              "    .dataframe tbody tr th {\n",
              "        vertical-align: top;\n",
              "    }\n",
              "\n",
              "    .dataframe thead th {\n",
              "        text-align: right;\n",
              "    }\n",
              "</style>\n",
              "<table border=\"1\" class=\"dataframe\">\n",
              "  <thead>\n",
              "    <tr style=\"text-align: right;\">\n",
              "      <th></th>\n",
              "      <th>label</th>\n",
              "      <th>text</th>\n",
              "    </tr>\n",
              "  </thead>\n",
              "  <tbody>\n",
              "    <tr>\n",
              "      <th>0</th>\n",
              "      <td>4</td>\n",
              "      <td>Tissue changes around loose prostheses. A cani...</td>\n",
              "    </tr>\n",
              "    <tr>\n",
              "      <th>1</th>\n",
              "      <td>0</td>\n",
              "      <td>Neuropeptide Y and neuron-specific enolase lev...</td>\n",
              "    </tr>\n",
              "    <tr>\n",
              "      <th>2</th>\n",
              "      <td>1</td>\n",
              "      <td>Sexually transmitted diseases of the colon, re...</td>\n",
              "    </tr>\n",
              "    <tr>\n",
              "      <th>3</th>\n",
              "      <td>0</td>\n",
              "      <td>Lipolytic factors associated with murine and h...</td>\n",
              "    </tr>\n",
              "    <tr>\n",
              "      <th>4</th>\n",
              "      <td>2</td>\n",
              "      <td>Does carotid restenosis predict an increased r...</td>\n",
              "    </tr>\n",
              "    <tr>\n",
              "      <th>...</th>\n",
              "      <td>...</td>\n",
              "      <td>...</td>\n",
              "    </tr>\n",
              "    <tr>\n",
              "      <th>11545</th>\n",
              "      <td>0</td>\n",
              "      <td>Epirubicin at two dose levels with prednisolon...</td>\n",
              "    </tr>\n",
              "    <tr>\n",
              "      <th>11546</th>\n",
              "      <td>0</td>\n",
              "      <td>Four and a half year follow up of women with d...</td>\n",
              "    </tr>\n",
              "    <tr>\n",
              "      <th>11547</th>\n",
              "      <td>4</td>\n",
              "      <td>Safety of the transbronchial biopsy in outpati...</td>\n",
              "    </tr>\n",
              "    <tr>\n",
              "      <th>11548</th>\n",
              "      <td>2</td>\n",
              "      <td>Interictal spikes and hippocampal somatostatin...</td>\n",
              "    </tr>\n",
              "    <tr>\n",
              "      <th>11549</th>\n",
              "      <td>4</td>\n",
              "      <td>Recurrent thoracic outlet syndrome after first...</td>\n",
              "    </tr>\n",
              "  </tbody>\n",
              "</table>\n",
              "<p>11550 rows × 2 columns</p>\n",
              "</div>\n",
              "      <button class=\"colab-df-convert\" onclick=\"convertToInteractive('df-da95fb53-5169-4f4a-9c20-70baebaa36ed')\"\n",
              "              title=\"Convert this dataframe to an interactive table.\"\n",
              "              style=\"display:none;\">\n",
              "        \n",
              "  <svg xmlns=\"http://www.w3.org/2000/svg\" height=\"24px\"viewBox=\"0 0 24 24\"\n",
              "       width=\"24px\">\n",
              "    <path d=\"M0 0h24v24H0V0z\" fill=\"none\"/>\n",
              "    <path d=\"M18.56 5.44l.94 2.06.94-2.06 2.06-.94-2.06-.94-.94-2.06-.94 2.06-2.06.94zm-11 1L8.5 8.5l.94-2.06 2.06-.94-2.06-.94L8.5 2.5l-.94 2.06-2.06.94zm10 10l.94 2.06.94-2.06 2.06-.94-2.06-.94-.94-2.06-.94 2.06-2.06.94z\"/><path d=\"M17.41 7.96l-1.37-1.37c-.4-.4-.92-.59-1.43-.59-.52 0-1.04.2-1.43.59L10.3 9.45l-7.72 7.72c-.78.78-.78 2.05 0 2.83L4 21.41c.39.39.9.59 1.41.59.51 0 1.02-.2 1.41-.59l7.78-7.78 2.81-2.81c.8-.78.8-2.07 0-2.86zM5.41 20L4 18.59l7.72-7.72 1.47 1.35L5.41 20z\"/>\n",
              "  </svg>\n",
              "      </button>\n",
              "      \n",
              "  <style>\n",
              "    .colab-df-container {\n",
              "      display:flex;\n",
              "      flex-wrap:wrap;\n",
              "      gap: 12px;\n",
              "    }\n",
              "\n",
              "    .colab-df-convert {\n",
              "      background-color: #E8F0FE;\n",
              "      border: none;\n",
              "      border-radius: 50%;\n",
              "      cursor: pointer;\n",
              "      display: none;\n",
              "      fill: #1967D2;\n",
              "      height: 32px;\n",
              "      padding: 0 0 0 0;\n",
              "      width: 32px;\n",
              "    }\n",
              "\n",
              "    .colab-df-convert:hover {\n",
              "      background-color: #E2EBFA;\n",
              "      box-shadow: 0px 1px 2px rgba(60, 64, 67, 0.3), 0px 1px 3px 1px rgba(60, 64, 67, 0.15);\n",
              "      fill: #174EA6;\n",
              "    }\n",
              "\n",
              "    [theme=dark] .colab-df-convert {\n",
              "      background-color: #3B4455;\n",
              "      fill: #D2E3FC;\n",
              "    }\n",
              "\n",
              "    [theme=dark] .colab-df-convert:hover {\n",
              "      background-color: #434B5C;\n",
              "      box-shadow: 0px 1px 3px 1px rgba(0, 0, 0, 0.15);\n",
              "      filter: drop-shadow(0px 1px 2px rgba(0, 0, 0, 0.3));\n",
              "      fill: #FFFFFF;\n",
              "    }\n",
              "  </style>\n",
              "\n",
              "      <script>\n",
              "        const buttonEl =\n",
              "          document.querySelector('#df-da95fb53-5169-4f4a-9c20-70baebaa36ed button.colab-df-convert');\n",
              "        buttonEl.style.display =\n",
              "          google.colab.kernel.accessAllowed ? 'block' : 'none';\n",
              "\n",
              "        async function convertToInteractive(key) {\n",
              "          const element = document.querySelector('#df-da95fb53-5169-4f4a-9c20-70baebaa36ed');\n",
              "          const dataTable =\n",
              "            await google.colab.kernel.invokeFunction('convertToInteractive',\n",
              "                                                     [key], {});\n",
              "          if (!dataTable) return;\n",
              "\n",
              "          const docLinkHtml = 'Like what you see? Visit the ' +\n",
              "            '<a target=\"_blank\" href=https://colab.research.google.com/notebooks/data_table.ipynb>data table notebook</a>'\n",
              "            + ' to learn more about interactive tables.';\n",
              "          element.innerHTML = '';\n",
              "          dataTable['output_type'] = 'display_data';\n",
              "          await google.colab.output.renderOutput(dataTable, element);\n",
              "          const docLink = document.createElement('div');\n",
              "          docLink.innerHTML = docLinkHtml;\n",
              "          element.appendChild(docLink);\n",
              "        }\n",
              "      </script>\n",
              "    </div>\n",
              "  </div>\n",
              "  "
            ]
          },
          "metadata": {},
          "execution_count": 2
        }
      ],
      "source": [
        "def get_raw_data(dir_name, file_name):\n",
        "    #  load data\n",
        "    data = pd.read_csv('{}{}.csv'.format(dir_name,file_name), encoding = 'latin-1', usecols=['medical_abstract', 'condition_label'])\n",
        "    data = data.rename(columns={'medical_abstract': 'text', 'condition_label': 'label'})\n",
        "    le = LabelEncoder()\n",
        "    data['label'] = le.fit_transform( data['label'])\n",
        "    return data\n",
        "\n",
        "raw_train_data = get_raw_data(dir_name + 'datasets/Medical_Abstracts/', 'train')\n",
        "raw_train_data"
      ]
    },
    {
      "cell_type": "code",
      "execution_count": null,
      "metadata": {
        "colab": {
          "base_uri": "https://localhost:8080/"
        },
        "id": "x4MEp29Jve-k",
        "outputId": "af83fcdc-80d2-4900-efa1-d799d41001e5"
      },
      "outputs": [
        {
          "output_type": "execute_result",
          "data": {
            "text/plain": [
              "False"
            ]
          },
          "metadata": {},
          "execution_count": 3
        }
      ],
      "source": [
        "raw_train_data['text'].is_unique"
      ]
    },
    {
      "cell_type": "code",
      "execution_count": null,
      "metadata": {
        "colab": {
          "base_uri": "https://localhost:8080/"
        },
        "id": "svz_EkDzvg-n",
        "outputId": "a98e2304-86b7-4540-cfa6-936224538354"
      },
      "outputs": [
        {
          "output_type": "execute_result",
          "data": {
            "text/plain": [
              "True"
            ]
          },
          "metadata": {},
          "execution_count": 4
        }
      ],
      "source": [
        "raw_train_data.drop_duplicates(subset=['text'], inplace=True)\n",
        "raw_train_data['text'].is_unique"
      ]
    },
    {
      "cell_type": "code",
      "execution_count": null,
      "metadata": {
        "colab": {
          "base_uri": "https://localhost:8080/",
          "height": 423
        },
        "id": "OplwPtWGvlYO",
        "outputId": "67d68450-d0ef-4e47-bbde-eddae94da647"
      },
      "outputs": [
        {
          "output_type": "execute_result",
          "data": {
            "text/plain": [
              "       label                                               text\n",
              "0          4  Tissue changes around loose prostheses. A cani...\n",
              "1          0  Neuropeptide Y and neuron-specific enolase lev...\n",
              "2          1  Sexually transmitted diseases of the colon, re...\n",
              "3          0  Lipolytic factors associated with murine and h...\n",
              "4          2  Does carotid restenosis predict an increased r...\n",
              "...      ...                                                ...\n",
              "11539      2  Familial eating epilepsy. Eating-related seizu...\n",
              "11543      3  Deep venous thrombosis in intravenous cocaine ...\n",
              "11546      0  Four and a half year follow up of women with d...\n",
              "11547      4  Safety of the transbronchial biopsy in outpati...\n",
              "11548      2  Interictal spikes and hippocampal somatostatin...\n",
              "\n",
              "[9445 rows x 2 columns]"
            ],
            "text/html": [
              "\n",
              "  <div id=\"df-b1474d45-24e4-4113-9a83-f44009b577dd\">\n",
              "    <div class=\"colab-df-container\">\n",
              "      <div>\n",
              "<style scoped>\n",
              "    .dataframe tbody tr th:only-of-type {\n",
              "        vertical-align: middle;\n",
              "    }\n",
              "\n",
              "    .dataframe tbody tr th {\n",
              "        vertical-align: top;\n",
              "    }\n",
              "\n",
              "    .dataframe thead th {\n",
              "        text-align: right;\n",
              "    }\n",
              "</style>\n",
              "<table border=\"1\" class=\"dataframe\">\n",
              "  <thead>\n",
              "    <tr style=\"text-align: right;\">\n",
              "      <th></th>\n",
              "      <th>label</th>\n",
              "      <th>text</th>\n",
              "    </tr>\n",
              "  </thead>\n",
              "  <tbody>\n",
              "    <tr>\n",
              "      <th>0</th>\n",
              "      <td>4</td>\n",
              "      <td>Tissue changes around loose prostheses. A cani...</td>\n",
              "    </tr>\n",
              "    <tr>\n",
              "      <th>1</th>\n",
              "      <td>0</td>\n",
              "      <td>Neuropeptide Y and neuron-specific enolase lev...</td>\n",
              "    </tr>\n",
              "    <tr>\n",
              "      <th>2</th>\n",
              "      <td>1</td>\n",
              "      <td>Sexually transmitted diseases of the colon, re...</td>\n",
              "    </tr>\n",
              "    <tr>\n",
              "      <th>3</th>\n",
              "      <td>0</td>\n",
              "      <td>Lipolytic factors associated with murine and h...</td>\n",
              "    </tr>\n",
              "    <tr>\n",
              "      <th>4</th>\n",
              "      <td>2</td>\n",
              "      <td>Does carotid restenosis predict an increased r...</td>\n",
              "    </tr>\n",
              "    <tr>\n",
              "      <th>...</th>\n",
              "      <td>...</td>\n",
              "      <td>...</td>\n",
              "    </tr>\n",
              "    <tr>\n",
              "      <th>11539</th>\n",
              "      <td>2</td>\n",
              "      <td>Familial eating epilepsy. Eating-related seizu...</td>\n",
              "    </tr>\n",
              "    <tr>\n",
              "      <th>11543</th>\n",
              "      <td>3</td>\n",
              "      <td>Deep venous thrombosis in intravenous cocaine ...</td>\n",
              "    </tr>\n",
              "    <tr>\n",
              "      <th>11546</th>\n",
              "      <td>0</td>\n",
              "      <td>Four and a half year follow up of women with d...</td>\n",
              "    </tr>\n",
              "    <tr>\n",
              "      <th>11547</th>\n",
              "      <td>4</td>\n",
              "      <td>Safety of the transbronchial biopsy in outpati...</td>\n",
              "    </tr>\n",
              "    <tr>\n",
              "      <th>11548</th>\n",
              "      <td>2</td>\n",
              "      <td>Interictal spikes and hippocampal somatostatin...</td>\n",
              "    </tr>\n",
              "  </tbody>\n",
              "</table>\n",
              "<p>9445 rows × 2 columns</p>\n",
              "</div>\n",
              "      <button class=\"colab-df-convert\" onclick=\"convertToInteractive('df-b1474d45-24e4-4113-9a83-f44009b577dd')\"\n",
              "              title=\"Convert this dataframe to an interactive table.\"\n",
              "              style=\"display:none;\">\n",
              "        \n",
              "  <svg xmlns=\"http://www.w3.org/2000/svg\" height=\"24px\"viewBox=\"0 0 24 24\"\n",
              "       width=\"24px\">\n",
              "    <path d=\"M0 0h24v24H0V0z\" fill=\"none\"/>\n",
              "    <path d=\"M18.56 5.44l.94 2.06.94-2.06 2.06-.94-2.06-.94-.94-2.06-.94 2.06-2.06.94zm-11 1L8.5 8.5l.94-2.06 2.06-.94-2.06-.94L8.5 2.5l-.94 2.06-2.06.94zm10 10l.94 2.06.94-2.06 2.06-.94-2.06-.94-.94-2.06-.94 2.06-2.06.94z\"/><path d=\"M17.41 7.96l-1.37-1.37c-.4-.4-.92-.59-1.43-.59-.52 0-1.04.2-1.43.59L10.3 9.45l-7.72 7.72c-.78.78-.78 2.05 0 2.83L4 21.41c.39.39.9.59 1.41.59.51 0 1.02-.2 1.41-.59l7.78-7.78 2.81-2.81c.8-.78.8-2.07 0-2.86zM5.41 20L4 18.59l7.72-7.72 1.47 1.35L5.41 20z\"/>\n",
              "  </svg>\n",
              "      </button>\n",
              "      \n",
              "  <style>\n",
              "    .colab-df-container {\n",
              "      display:flex;\n",
              "      flex-wrap:wrap;\n",
              "      gap: 12px;\n",
              "    }\n",
              "\n",
              "    .colab-df-convert {\n",
              "      background-color: #E8F0FE;\n",
              "      border: none;\n",
              "      border-radius: 50%;\n",
              "      cursor: pointer;\n",
              "      display: none;\n",
              "      fill: #1967D2;\n",
              "      height: 32px;\n",
              "      padding: 0 0 0 0;\n",
              "      width: 32px;\n",
              "    }\n",
              "\n",
              "    .colab-df-convert:hover {\n",
              "      background-color: #E2EBFA;\n",
              "      box-shadow: 0px 1px 2px rgba(60, 64, 67, 0.3), 0px 1px 3px 1px rgba(60, 64, 67, 0.15);\n",
              "      fill: #174EA6;\n",
              "    }\n",
              "\n",
              "    [theme=dark] .colab-df-convert {\n",
              "      background-color: #3B4455;\n",
              "      fill: #D2E3FC;\n",
              "    }\n",
              "\n",
              "    [theme=dark] .colab-df-convert:hover {\n",
              "      background-color: #434B5C;\n",
              "      box-shadow: 0px 1px 3px 1px rgba(0, 0, 0, 0.15);\n",
              "      filter: drop-shadow(0px 1px 2px rgba(0, 0, 0, 0.3));\n",
              "      fill: #FFFFFF;\n",
              "    }\n",
              "  </style>\n",
              "\n",
              "      <script>\n",
              "        const buttonEl =\n",
              "          document.querySelector('#df-b1474d45-24e4-4113-9a83-f44009b577dd button.colab-df-convert');\n",
              "        buttonEl.style.display =\n",
              "          google.colab.kernel.accessAllowed ? 'block' : 'none';\n",
              "\n",
              "        async function convertToInteractive(key) {\n",
              "          const element = document.querySelector('#df-b1474d45-24e4-4113-9a83-f44009b577dd');\n",
              "          const dataTable =\n",
              "            await google.colab.kernel.invokeFunction('convertToInteractive',\n",
              "                                                     [key], {});\n",
              "          if (!dataTable) return;\n",
              "\n",
              "          const docLinkHtml = 'Like what you see? Visit the ' +\n",
              "            '<a target=\"_blank\" href=https://colab.research.google.com/notebooks/data_table.ipynb>data table notebook</a>'\n",
              "            + ' to learn more about interactive tables.';\n",
              "          element.innerHTML = '';\n",
              "          dataTable['output_type'] = 'display_data';\n",
              "          await google.colab.output.renderOutput(dataTable, element);\n",
              "          const docLink = document.createElement('div');\n",
              "          docLink.innerHTML = docLinkHtml;\n",
              "          element.appendChild(docLink);\n",
              "        }\n",
              "      </script>\n",
              "    </div>\n",
              "  </div>\n",
              "  "
            ]
          },
          "metadata": {},
          "execution_count": 5
        }
      ],
      "source": [
        "raw_train_data"
      ]
    },
    {
      "cell_type": "code",
      "execution_count": null,
      "metadata": {
        "colab": {
          "base_uri": "https://localhost:8080/",
          "height": 653
        },
        "id": "UEmV9bflwAKD",
        "outputId": "a3829039-21da-4680-eb8f-100c3b4a08df"
      },
      "outputs": [
        {
          "output_type": "display_data",
          "data": {
            "text/plain": [
              "<Figure size 800x800 with 1 Axes>"
            ],
            "image/png": "[encoded data removed]"
          },
          "metadata": {}
        }
      ],
      "source": [
        "def get_dataset_statistics(data):\n",
        "    dataset_statistics = {'Number of texts': [data['label'].value_counts()[0], data['label'].value_counts()[1], data['label'].value_counts()[2], data['label'].value_counts()[3], data['label'].value_counts()[4]]}\n",
        "    df = pd.DataFrame(dataset_statistics, index=['0', '1', '2', '3', '4'])\n",
        "    df.plot(kind='pie', y='Number of texts', figsize=(8, 8), fontsize=14,\n",
        "            autopct=lambda v: '{:.0f} ({:.1f}%)'.format(v / 100 * data['label'].count(), v))\n",
        "    \n",
        "# Raw data statistics\n",
        "get_dataset_statistics(raw_train_data)"
      ]
    },
    {
      "cell_type": "code",
      "source": [
        "text_words_lengths = [len(raw_train_data.loc[i]['text'].split()) for i in raw_train_data.index ]\n",
        "total_length = np.sum(text_words_lengths)\n",
        "text_words_mean = int(np.mean(text_words_lengths))\n",
        "text_words_mean"
      ],
      "metadata": {
        "colab": {
          "base_uri": "https://localhost:8080/"
        },
        "id": "wunOCt8fVqrA",
        "outputId": "c3e821ad-086b-435f-a917-d7dacd7cb4e8"
      },
      "execution_count": null,
      "outputs": [
        {
          "output_type": "execute_result",
          "data": {
            "text/plain": [
              "180"
            ]
          },
          "metadata": {},
          "execution_count": 18
        }
      ]
    },
    {
      "cell_type": "code",
      "execution_count": null,
      "metadata": {
        "colab": {
          "base_uri": "https://localhost:8080/",
          "height": 423
        },
        "id": "ISqEV1Qn7ujw",
        "outputId": "ec403a14-d820-4cb8-bca6-75da8c0db3f1"
      },
      "outputs": [
        {
          "output_type": "execute_result",
          "data": {
            "text/plain": [
              "      label                                               text\n",
              "0         2  Obstructive sleep apnea following topical orop...\n",
              "1         4  Neutrophil function and pyogenic infections in...\n",
              "2         4  A phase II study of combined methotrexate and ...\n",
              "3         0  Flow cytometric DNA analysis of parathyroid tu...\n",
              "4         3  Paraneoplastic vasculitic neuropathy: a treata...\n",
              "...     ...                                                ...\n",
              "2883      3  Management of aortobronchial fistula with graf...\n",
              "2884      4  Tuberculous psoas muscle abscess following che...\n",
              "2885      3  Clinical evaluation of high-frequency (ultraso...\n",
              "2886      0  Antitumor activity of liposome-encapsulated do...\n",
              "2887      3  An unusual venous anomaly of the placenta. The...\n",
              "\n",
              "[2888 rows x 2 columns]"
            ],
            "text/html": [
              "\n",
              "  <div id=\"df-e40e16d7-9edb-4e5f-86d3-a2138a786112\">\n",
              "    <div class=\"colab-df-container\">\n",
              "      <div>\n",
              "<style scoped>\n",
              "    .dataframe tbody tr th:only-of-type {\n",
              "        vertical-align: middle;\n",
              "    }\n",
              "\n",
              "    .dataframe tbody tr th {\n",
              "        vertical-align: top;\n",
              "    }\n",
              "\n",
              "    .dataframe thead th {\n",
              "        text-align: right;\n",
              "    }\n",
              "</style>\n",
              "<table border=\"1\" class=\"dataframe\">\n",
              "  <thead>\n",
              "    <tr style=\"text-align: right;\">\n",
              "      <th></th>\n",
              "      <th>label</th>\n",
              "      <th>text</th>\n",
              "    </tr>\n",
              "  </thead>\n",
              "  <tbody>\n",
              "    <tr>\n",
              "      <th>0</th>\n",
              "      <td>2</td>\n",
              "      <td>Obstructive sleep apnea following topical orop...</td>\n",
              "    </tr>\n",
              "    <tr>\n",
              "      <th>1</th>\n",
              "      <td>4</td>\n",
              "      <td>Neutrophil function and pyogenic infections in...</td>\n",
              "    </tr>\n",
              "    <tr>\n",
              "      <th>2</th>\n",
              "      <td>4</td>\n",
              "      <td>A phase II study of combined methotrexate and ...</td>\n",
              "    </tr>\n",
              "    <tr>\n",
              "      <th>3</th>\n",
              "      <td>0</td>\n",
              "      <td>Flow cytometric DNA analysis of parathyroid tu...</td>\n",
              "    </tr>\n",
              "    <tr>\n",
              "      <th>4</th>\n",
              "      <td>3</td>\n",
              "      <td>Paraneoplastic vasculitic neuropathy: a treata...</td>\n",
              "    </tr>\n",
              "    <tr>\n",
              "      <th>...</th>\n",
              "      <td>...</td>\n",
              "      <td>...</td>\n",
              "    </tr>\n",
              "    <tr>\n",
              "      <th>2883</th>\n",
              "      <td>3</td>\n",
              "      <td>Management of aortobronchial fistula with graf...</td>\n",
              "    </tr>\n",
              "    <tr>\n",
              "      <th>2884</th>\n",
              "      <td>4</td>\n",
              "      <td>Tuberculous psoas muscle abscess following che...</td>\n",
              "    </tr>\n",
              "    <tr>\n",
              "      <th>2885</th>\n",
              "      <td>3</td>\n",
              "      <td>Clinical evaluation of high-frequency (ultraso...</td>\n",
              "    </tr>\n",
              "    <tr>\n",
              "      <th>2886</th>\n",
              "      <td>0</td>\n",
              "      <td>Antitumor activity of liposome-encapsulated do...</td>\n",
              "    </tr>\n",
              "    <tr>\n",
              "      <th>2887</th>\n",
              "      <td>3</td>\n",
              "      <td>An unusual venous anomaly of the placenta. The...</td>\n",
              "    </tr>\n",
              "  </tbody>\n",
              "</table>\n",
              "<p>2888 rows × 2 columns</p>\n",
              "</div>\n",
              "      <button class=\"colab-df-convert\" onclick=\"convertToInteractive('df-e40e16d7-9edb-4e5f-86d3-a2138a786112')\"\n",
              "              title=\"Convert this dataframe to an interactive table.\"\n",
              "              style=\"display:none;\">\n",
              "        \n",
              "  <svg xmlns=\"http://www.w3.org/2000/svg\" height=\"24px\"viewBox=\"0 0 24 24\"\n",
              "       width=\"24px\">\n",
              "    <path d=\"M0 0h24v24H0V0z\" fill=\"none\"/>\n",
              "    <path d=\"M18.56 5.44l.94 2.06.94-2.06 2.06-.94-2.06-.94-.94-2.06-.94 2.06-2.06.94zm-11 1L8.5 8.5l.94-2.06 2.06-.94-2.06-.94L8.5 2.5l-.94 2.06-2.06.94zm10 10l.94 2.06.94-2.06 2.06-.94-2.06-.94-.94-2.06-.94 2.06-2.06.94z\"/><path d=\"M17.41 7.96l-1.37-1.37c-.4-.4-.92-.59-1.43-.59-.52 0-1.04.2-1.43.59L10.3 9.45l-7.72 7.72c-.78.78-.78 2.05 0 2.83L4 21.41c.39.39.9.59 1.41.59.51 0 1.02-.2 1.41-.59l7.78-7.78 2.81-2.81c.8-.78.8-2.07 0-2.86zM5.41 20L4 18.59l7.72-7.72 1.47 1.35L5.41 20z\"/>\n",
              "  </svg>\n",
              "      </button>\n",
              "      \n",
              "  <style>\n",
              "    .colab-df-container {\n",
              "      display:flex;\n",
              "      flex-wrap:wrap;\n",
              "      gap: 12px;\n",
              "    }\n",
              "\n",
              "    .colab-df-convert {\n",
              "      background-color: #E8F0FE;\n",
              "      border: none;\n",
              "      border-radius: 50%;\n",
              "      cursor: pointer;\n",
              "      display: none;\n",
              "      fill: #1967D2;\n",
              "      height: 32px;\n",
              "      padding: 0 0 0 0;\n",
              "      width: 32px;\n",
              "    }\n",
              "\n",
              "    .colab-df-convert:hover {\n",
              "      background-color: #E2EBFA;\n",
              "      box-shadow: 0px 1px 2px rgba(60, 64, 67, 0.3), 0px 1px 3px 1px rgba(60, 64, 67, 0.15);\n",
              "      fill: #174EA6;\n",
              "    }\n",
              "\n",
              "    [theme=dark] .colab-df-convert {\n",
              "      background-color: #3B4455;\n",
              "      fill: #D2E3FC;\n",
              "    }\n",
              "\n",
              "    [theme=dark] .colab-df-convert:hover {\n",
              "      background-color: #434B5C;\n",
              "      box-shadow: 0px 1px 3px 1px rgba(0, 0, 0, 0.15);\n",
              "      filter: drop-shadow(0px 1px 2px rgba(0, 0, 0, 0.3));\n",
              "      fill: #FFFFFF;\n",
              "    }\n",
              "  </style>\n",
              "\n",
              "      <script>\n",
              "        const buttonEl =\n",
              "          document.querySelector('#df-e40e16d7-9edb-4e5f-86d3-a2138a786112 button.colab-df-convert');\n",
              "        buttonEl.style.display =\n",
              "          google.colab.kernel.accessAllowed ? 'block' : 'none';\n",
              "\n",
              "        async function convertToInteractive(key) {\n",
              "          const element = document.querySelector('#df-e40e16d7-9edb-4e5f-86d3-a2138a786112');\n",
              "          const dataTable =\n",
              "            await google.colab.kernel.invokeFunction('convertToInteractive',\n",
              "                                                     [key], {});\n",
              "          if (!dataTable) return;\n",
              "\n",
              "          const docLinkHtml = 'Like what you see? Visit the ' +\n",
              "            '<a target=\"_blank\" href=https://colab.research.google.com/notebooks/data_table.ipynb>data table notebook</a>'\n",
              "            + ' to learn more about interactive tables.';\n",
              "          element.innerHTML = '';\n",
              "          dataTable['output_type'] = 'display_data';\n",
              "          await google.colab.output.renderOutput(dataTable, element);\n",
              "          const docLink = document.createElement('div');\n",
              "          docLink.innerHTML = docLinkHtml;\n",
              "          element.appendChild(docLink);\n",
              "        }\n",
              "      </script>\n",
              "    </div>\n",
              "  </div>\n",
              "  "
            ]
          },
          "metadata": {},
          "execution_count": 7
        }
      ],
      "source": [
        "raw_test_data = get_raw_data(dir_name + 'datasets/Medical_Abstracts/', 'test')\n",
        "raw_test_data"
      ]
    },
    {
      "cell_type": "code",
      "source": [
        "raw_test_data['text'].is_unique"
      ],
      "metadata": {
        "colab": {
          "base_uri": "https://localhost:8080/"
        },
        "id": "SvtZk-Ze7abW",
        "outputId": "b674cd30-623a-46e2-a2ff-34af31de09d0"
      },
      "execution_count": null,
      "outputs": [
        {
          "output_type": "execute_result",
          "data": {
            "text/plain": [
              "False"
            ]
          },
          "metadata": {},
          "execution_count": 8
        }
      ]
    },
    {
      "cell_type": "code",
      "source": [
        "raw_test_data.drop_duplicates(subset=['text'], inplace=True)\n",
        "raw_test_data['text'].is_unique"
      ],
      "metadata": {
        "colab": {
          "base_uri": "https://localhost:8080/"
        },
        "id": "NTuKb3P47hM8",
        "outputId": "87b7bf98-aba3-4a16-b9e9-c4732e64f7d7"
      },
      "execution_count": null,
      "outputs": [
        {
          "output_type": "execute_result",
          "data": {
            "text/plain": [
              "True"
            ]
          },
          "metadata": {},
          "execution_count": 9
        }
      ]
    },
    {
      "cell_type": "code",
      "source": [
        "raw_test_data"
      ],
      "metadata": {
        "colab": {
          "base_uri": "https://localhost:8080/",
          "height": 423
        },
        "id": "QEp5v5y57ksn",
        "outputId": "e9cdfabb-a83f-4fe6-fdbd-ba2c2307d40c"
      },
      "execution_count": null,
      "outputs": [
        {
          "output_type": "execute_result",
          "data": {
            "text/plain": [
              "      label                                               text\n",
              "0         2  Obstructive sleep apnea following topical orop...\n",
              "1         4  Neutrophil function and pyogenic infections in...\n",
              "2         4  A phase II study of combined methotrexate and ...\n",
              "3         0  Flow cytometric DNA analysis of parathyroid tu...\n",
              "4         3  Paraneoplastic vasculitic neuropathy: a treata...\n",
              "...     ...                                                ...\n",
              "2883      3  Management of aortobronchial fistula with graf...\n",
              "2884      4  Tuberculous psoas muscle abscess following che...\n",
              "2885      3  Clinical evaluation of high-frequency (ultraso...\n",
              "2886      0  Antitumor activity of liposome-encapsulated do...\n",
              "2887      3  An unusual venous anomaly of the placenta. The...\n",
              "\n",
              "[2770 rows x 2 columns]"
            ],
            "text/html": [
              "\n",
              "  <div id=\"df-7658881f-bbc8-4c87-a899-c709a04fd100\">\n",
              "    <div class=\"colab-df-container\">\n",
              "      <div>\n",
              "<style scoped>\n",
              "    .dataframe tbody tr th:only-of-type {\n",
              "        vertical-align: middle;\n",
              "    }\n",
              "\n",
              "    .dataframe tbody tr th {\n",
              "        vertical-align: top;\n",
              "    }\n",
              "\n",
              "    .dataframe thead th {\n",
              "        text-align: right;\n",
              "    }\n",
              "</style>\n",
              "<table border=\"1\" class=\"dataframe\">\n",
              "  <thead>\n",
              "    <tr style=\"text-align: right;\">\n",
              "      <th></th>\n",
              "      <th>label</th>\n",
              "      <th>text</th>\n",
              "    </tr>\n",
              "  </thead>\n",
              "  <tbody>\n",
              "    <tr>\n",
              "      <th>0</th>\n",
              "      <td>2</td>\n",
              "      <td>Obstructive sleep apnea following topical orop...</td>\n",
              "    </tr>\n",
              "    <tr>\n",
              "      <th>1</th>\n",
              "      <td>4</td>\n",
              "      <td>Neutrophil function and pyogenic infections in...</td>\n",
              "    </tr>\n",
              "    <tr>\n",
              "      <th>2</th>\n",
              "      <td>4</td>\n",
              "      <td>A phase II study of combined methotrexate and ...</td>\n",
              "    </tr>\n",
              "    <tr>\n",
              "      <th>3</th>\n",
              "      <td>0</td>\n",
              "      <td>Flow cytometric DNA analysis of parathyroid tu...</td>\n",
              "    </tr>\n",
              "    <tr>\n",
              "      <th>4</th>\n",
              "      <td>3</td>\n",
              "      <td>Paraneoplastic vasculitic neuropathy: a treata...</td>\n",
              "    </tr>\n",
              "    <tr>\n",
              "      <th>...</th>\n",
              "      <td>...</td>\n",
              "      <td>...</td>\n",
              "    </tr>\n",
              "    <tr>\n",
              "      <th>2883</th>\n",
              "      <td>3</td>\n",
              "      <td>Management of aortobronchial fistula with graf...</td>\n",
              "    </tr>\n",
              "    <tr>\n",
              "      <th>2884</th>\n",
              "      <td>4</td>\n",
              "      <td>Tuberculous psoas muscle abscess following che...</td>\n",
              "    </tr>\n",
              "    <tr>\n",
              "      <th>2885</th>\n",
              "      <td>3</td>\n",
              "      <td>Clinical evaluation of high-frequency (ultraso...</td>\n",
              "    </tr>\n",
              "    <tr>\n",
              "      <th>2886</th>\n",
              "      <td>0</td>\n",
              "      <td>Antitumor activity of liposome-encapsulated do...</td>\n",
              "    </tr>\n",
              "    <tr>\n",
              "      <th>2887</th>\n",
              "      <td>3</td>\n",
              "      <td>An unusual venous anomaly of the placenta. The...</td>\n",
              "    </tr>\n",
              "  </tbody>\n",
              "</table>\n",
              "<p>2770 rows × 2 columns</p>\n",
              "</div>\n",
              "      <button class=\"colab-df-convert\" onclick=\"convertToInteractive('df-7658881f-bbc8-4c87-a899-c709a04fd100')\"\n",
              "              title=\"Convert this dataframe to an interactive table.\"\n",
              "              style=\"display:none;\">\n",
              "        \n",
              "  <svg xmlns=\"http://www.w3.org/2000/svg\" height=\"24px\"viewBox=\"0 0 24 24\"\n",
              "       width=\"24px\">\n",
              "    <path d=\"M0 0h24v24H0V0z\" fill=\"none\"/>\n",
              "    <path d=\"M18.56 5.44l.94 2.06.94-2.06 2.06-.94-2.06-.94-.94-2.06-.94 2.06-2.06.94zm-11 1L8.5 8.5l.94-2.06 2.06-.94-2.06-.94L8.5 2.5l-.94 2.06-2.06.94zm10 10l.94 2.06.94-2.06 2.06-.94-2.06-.94-.94-2.06-.94 2.06-2.06.94z\"/><path d=\"M17.41 7.96l-1.37-1.37c-.4-.4-.92-.59-1.43-.59-.52 0-1.04.2-1.43.59L10.3 9.45l-7.72 7.72c-.78.78-.78 2.05 0 2.83L4 21.41c.39.39.9.59 1.41.59.51 0 1.02-.2 1.41-.59l7.78-7.78 2.81-2.81c.8-.78.8-2.07 0-2.86zM5.41 20L4 18.59l7.72-7.72 1.47 1.35L5.41 20z\"/>\n",
              "  </svg>\n",
              "      </button>\n",
              "      \n",
              "  <style>\n",
              "    .colab-df-container {\n",
              "      display:flex;\n",
              "      flex-wrap:wrap;\n",
              "      gap: 12px;\n",
              "    }\n",
              "\n",
              "    .colab-df-convert {\n",
              "      background-color: #E8F0FE;\n",
              "      border: none;\n",
              "      border-radius: 50%;\n",
              "      cursor: pointer;\n",
              "      display: none;\n",
              "      fill: #1967D2;\n",
              "      height: 32px;\n",
              "      padding: 0 0 0 0;\n",
              "      width: 32px;\n",
              "    }\n",
              "\n",
              "    .colab-df-convert:hover {\n",
              "      background-color: #E2EBFA;\n",
              "      box-shadow: 0px 1px 2px rgba(60, 64, 67, 0.3), 0px 1px 3px 1px rgba(60, 64, 67, 0.15);\n",
              "      fill: #174EA6;\n",
              "    }\n",
              "\n",
              "    [theme=dark] .colab-df-convert {\n",
              "      background-color: #3B4455;\n",
              "      fill: #D2E3FC;\n",
              "    }\n",
              "\n",
              "    [theme=dark] .colab-df-convert:hover {\n",
              "      background-color: #434B5C;\n",
              "      box-shadow: 0px 1px 3px 1px rgba(0, 0, 0, 0.15);\n",
              "      filter: drop-shadow(0px 1px 2px rgba(0, 0, 0, 0.3));\n",
              "      fill: #FFFFFF;\n",
              "    }\n",
              "  </style>\n",
              "\n",
              "      <script>\n",
              "        const buttonEl =\n",
              "          document.querySelector('#df-7658881f-bbc8-4c87-a899-c709a04fd100 button.colab-df-convert');\n",
              "        buttonEl.style.display =\n",
              "          google.colab.kernel.accessAllowed ? 'block' : 'none';\n",
              "\n",
              "        async function convertToInteractive(key) {\n",
              "          const element = document.querySelector('#df-7658881f-bbc8-4c87-a899-c709a04fd100');\n",
              "          const dataTable =\n",
              "            await google.colab.kernel.invokeFunction('convertToInteractive',\n",
              "                                                     [key], {});\n",
              "          if (!dataTable) return;\n",
              "\n",
              "          const docLinkHtml = 'Like what you see? Visit the ' +\n",
              "            '<a target=\"_blank\" href=https://colab.research.google.com/notebooks/data_table.ipynb>data table notebook</a>'\n",
              "            + ' to learn more about interactive tables.';\n",
              "          element.innerHTML = '';\n",
              "          dataTable['output_type'] = 'display_data';\n",
              "          await google.colab.output.renderOutput(dataTable, element);\n",
              "          const docLink = document.createElement('div');\n",
              "          docLink.innerHTML = docLinkHtml;\n",
              "          element.appendChild(docLink);\n",
              "        }\n",
              "      </script>\n",
              "    </div>\n",
              "  </div>\n",
              "  "
            ]
          },
          "metadata": {},
          "execution_count": 10
        }
      ]
    },
    {
      "cell_type": "code",
      "execution_count": null,
      "metadata": {
        "colab": {
          "base_uri": "https://localhost:8080/"
        },
        "id": "4ZZ09_Uo74QY",
        "outputId": "580e0dbc-7765-4856-a509-7370f59f6d5c"
      },
      "outputs": [
        {
          "output_type": "execute_result",
          "data": {
            "text/plain": [
              "4    912\n",
              "0    616\n",
              "3    589\n",
              "2    366\n",
              "1    287\n",
              "Name: label, dtype: int64"
            ]
          },
          "metadata": {},
          "execution_count": 11
        }
      ],
      "source": [
        "raw_test_data['label'].value_counts()"
      ]
    },
    {
      "cell_type": "code",
      "execution_count": null,
      "metadata": {
        "colab": {
          "base_uri": "https://localhost:8080/",
          "height": 653
        },
        "id": "7IJux9lv76e9",
        "outputId": "a5431189-d97d-40b3-e7b4-b0c073aa45f7"
      },
      "outputs": [
        {
          "output_type": "display_data",
          "data": {
            "text/plain": [
              "<Figure size 800x800 with 1 Axes>"
            ],
            "image/png": "[encoded data removed]"
          },
          "metadata": {}
        }
      ],
      "source": [
        "get_dataset_statistics(raw_test_data)"
      ]
    },
    {
      "cell_type": "markdown",
      "metadata": {
        "id": "rR-26BtzwlgO"
      },
      "source": [
        "# Text Preprocessing "
      ]
    },
    {
      "cell_type": "code",
      "execution_count": null,
      "metadata": {
        "id": "-YYZSlmdwk7N"
      },
      "outputs": [],
      "source": [
        "import requests\n",
        "stopwords_list = requests.get(\"https://github.com/stopwords-iso/stopwords-en/blob/master/stopwords-en.txt\").content\n",
        "stopwords = set(stopwords_list.decode().splitlines())"
      ]
    },
    {
      "cell_type": "code",
      "execution_count": null,
      "metadata": {
        "id": "pdivr-Q-woF-"
      },
      "outputs": [],
      "source": [
        "import string\n",
        "from nltk.corpus import stopwords\n",
        "from sklearn.feature_extraction.text import ENGLISH_STOP_WORDS\n",
        "\n",
        "sklearn_stopwords = ENGLISH_STOP_WORDS\n",
        "\n",
        "stop_words = set(stopwords.words('english'))\n",
        "stop_words.update(sklearn_stopwords)\n",
        "\n",
        "def text_preprocessing(raw_text):\n",
        "  text_words = raw_text.translate(str.maketrans('', '', string.punctuation))\n",
        "  msg_tokens = word_tokenize(text_words.lower())\n",
        "  filtered_text = [token for token in msg_tokens if not token in stop_words]\n",
        "  return \" \".join(filtered_text)"
      ]
    },
    {
      "cell_type": "code",
      "execution_count": null,
      "metadata": {
        "colab": {
          "base_uri": "https://localhost:8080/",
          "height": 423
        },
        "id": "r9f2EMT2wwxA",
        "outputId": "48f9507c-0f0e-4f81-f614-770082b770fe"
      },
      "outputs": [
        {
          "output_type": "execute_result",
          "data": {
            "text/plain": [
              "                                                    text  label\n",
              "0      tissue changes loose prostheses canine model i...      4\n",
              "1      neuropeptide neuronspecific enolase levels ben...      0\n",
              "2      sexually transmitted diseases colon rectum anu...      1\n",
              "3      lipolytic factors associated murine human canc...      0\n",
              "4      carotid restenosis predict increased risk late...      2\n",
              "...                                                  ...    ...\n",
              "11539  familial eating epilepsy eatingrelated seizure...      2\n",
              "11543  deep venous thrombosis intravenous cocaine abu...      3\n",
              "11546  half year follow women dyskaryotic cervical sm...      0\n",
              "11547  safety transbronchial biopsy outpatients objec...      4\n",
              "11548  interictal spikes hippocampal somatostatin lev...      2\n",
              "\n",
              "[9445 rows x 2 columns]"
            ],
            "text/html": [
              "\n",
              "  <div id=\"df-6e7770ff-d0d6-4049-9dc9-5a4a433afd07\">\n",
              "    <div class=\"colab-df-container\">\n",
              "      <div>\n",
              "<style scoped>\n",
              "    .dataframe tbody tr th:only-of-type {\n",
              "        vertical-align: middle;\n",
              "    }\n",
              "\n",
              "    .dataframe tbody tr th {\n",
              "        vertical-align: top;\n",
              "    }\n",
              "\n",
              "    .dataframe thead th {\n",
              "        text-align: right;\n",
              "    }\n",
              "</style>\n",
              "<table border=\"1\" class=\"dataframe\">\n",
              "  <thead>\n",
              "    <tr style=\"text-align: right;\">\n",
              "      <th></th>\n",
              "      <th>text</th>\n",
              "      <th>label</th>\n",
              "    </tr>\n",
              "  </thead>\n",
              "  <tbody>\n",
              "    <tr>\n",
              "      <th>0</th>\n",
              "      <td>tissue changes loose prostheses canine model i...</td>\n",
              "      <td>4</td>\n",
              "    </tr>\n",
              "    <tr>\n",
              "      <th>1</th>\n",
              "      <td>neuropeptide neuronspecific enolase levels ben...</td>\n",
              "      <td>0</td>\n",
              "    </tr>\n",
              "    <tr>\n",
              "      <th>2</th>\n",
              "      <td>sexually transmitted diseases colon rectum anu...</td>\n",
              "      <td>1</td>\n",
              "    </tr>\n",
              "    <tr>\n",
              "      <th>3</th>\n",
              "      <td>lipolytic factors associated murine human canc...</td>\n",
              "      <td>0</td>\n",
              "    </tr>\n",
              "    <tr>\n",
              "      <th>4</th>\n",
              "      <td>carotid restenosis predict increased risk late...</td>\n",
              "      <td>2</td>\n",
              "    </tr>\n",
              "    <tr>\n",
              "      <th>...</th>\n",
              "      <td>...</td>\n",
              "      <td>...</td>\n",
              "    </tr>\n",
              "    <tr>\n",
              "      <th>11539</th>\n",
              "      <td>familial eating epilepsy eatingrelated seizure...</td>\n",
              "      <td>2</td>\n",
              "    </tr>\n",
              "    <tr>\n",
              "      <th>11543</th>\n",
              "      <td>deep venous thrombosis intravenous cocaine abu...</td>\n",
              "      <td>3</td>\n",
              "    </tr>\n",
              "    <tr>\n",
              "      <th>11546</th>\n",
              "      <td>half year follow women dyskaryotic cervical sm...</td>\n",
              "      <td>0</td>\n",
              "    </tr>\n",
              "    <tr>\n",
              "      <th>11547</th>\n",
              "      <td>safety transbronchial biopsy outpatients objec...</td>\n",
              "      <td>4</td>\n",
              "    </tr>\n",
              "    <tr>\n",
              "      <th>11548</th>\n",
              "      <td>interictal spikes hippocampal somatostatin lev...</td>\n",
              "      <td>2</td>\n",
              "    </tr>\n",
              "  </tbody>\n",
              "</table>\n",
              "<p>9445 rows × 2 columns</p>\n",
              "</div>\n",
              "      <button class=\"colab-df-convert\" onclick=\"convertToInteractive('df-6e7770ff-d0d6-4049-9dc9-5a4a433afd07')\"\n",
              "              title=\"Convert this dataframe to an interactive table.\"\n",
              "              style=\"display:none;\">\n",
              "        \n",
              "  <svg xmlns=\"http://www.w3.org/2000/svg\" height=\"24px\"viewBox=\"0 0 24 24\"\n",
              "       width=\"24px\">\n",
              "    <path d=\"M0 0h24v24H0V0z\" fill=\"none\"/>\n",
              "    <path d=\"M18.56 5.44l.94 2.06.94-2.06 2.06-.94-2.06-.94-.94-2.06-.94 2.06-2.06.94zm-11 1L8.5 8.5l.94-2.06 2.06-.94-2.06-.94L8.5 2.5l-.94 2.06-2.06.94zm10 10l.94 2.06.94-2.06 2.06-.94-2.06-.94-.94-2.06-.94 2.06-2.06.94z\"/><path d=\"M17.41 7.96l-1.37-1.37c-.4-.4-.92-.59-1.43-.59-.52 0-1.04.2-1.43.59L10.3 9.45l-7.72 7.72c-.78.78-.78 2.05 0 2.83L4 21.41c.39.39.9.59 1.41.59.51 0 1.02-.2 1.41-.59l7.78-7.78 2.81-2.81c.8-.78.8-2.07 0-2.86zM5.41 20L4 18.59l7.72-7.72 1.47 1.35L5.41 20z\"/>\n",
              "  </svg>\n",
              "      </button>\n",
              "      \n",
              "  <style>\n",
              "    .colab-df-container {\n",
              "      display:flex;\n",
              "      flex-wrap:wrap;\n",
              "      gap: 12px;\n",
              "    }\n",
              "\n",
              "    .colab-df-convert {\n",
              "      background-color: #E8F0FE;\n",
              "      border: none;\n",
              "      border-radius: 50%;\n",
              "      cursor: pointer;\n",
              "      display: none;\n",
              "      fill: #1967D2;\n",
              "      height: 32px;\n",
              "      padding: 0 0 0 0;\n",
              "      width: 32px;\n",
              "    }\n",
              "\n",
              "    .colab-df-convert:hover {\n",
              "      background-color: #E2EBFA;\n",
              "      box-shadow: 0px 1px 2px rgba(60, 64, 67, 0.3), 0px 1px 3px 1px rgba(60, 64, 67, 0.15);\n",
              "      fill: #174EA6;\n",
              "    }\n",
              "\n",
              "    [theme=dark] .colab-df-convert {\n",
              "      background-color: #3B4455;\n",
              "      fill: #D2E3FC;\n",
              "    }\n",
              "\n",
              "    [theme=dark] .colab-df-convert:hover {\n",
              "      background-color: #434B5C;\n",
              "      box-shadow: 0px 1px 3px 1px rgba(0, 0, 0, 0.15);\n",
              "      filter: drop-shadow(0px 1px 2px rgba(0, 0, 0, 0.3));\n",
              "      fill: #FFFFFF;\n",
              "    }\n",
              "  </style>\n",
              "\n",
              "      <script>\n",
              "        const buttonEl =\n",
              "          document.querySelector('#df-6e7770ff-d0d6-4049-9dc9-5a4a433afd07 button.colab-df-convert');\n",
              "        buttonEl.style.display =\n",
              "          google.colab.kernel.accessAllowed ? 'block' : 'none';\n",
              "\n",
              "        async function convertToInteractive(key) {\n",
              "          const element = document.querySelector('#df-6e7770ff-d0d6-4049-9dc9-5a4a433afd07');\n",
              "          const dataTable =\n",
              "            await google.colab.kernel.invokeFunction('convertToInteractive',\n",
              "                                                     [key], {});\n",
              "          if (!dataTable) return;\n",
              "\n",
              "          const docLinkHtml = 'Like what you see? Visit the ' +\n",
              "            '<a target=\"_blank\" href=https://colab.research.google.com/notebooks/data_table.ipynb>data table notebook</a>'\n",
              "            + ' to learn more about interactive tables.';\n",
              "          element.innerHTML = '';\n",
              "          dataTable['output_type'] = 'display_data';\n",
              "          await google.colab.output.renderOutput(dataTable, element);\n",
              "          const docLink = document.createElement('div');\n",
              "          docLink.innerHTML = docLinkHtml;\n",
              "          element.appendChild(docLink);\n",
              "        }\n",
              "      </script>\n",
              "    </div>\n",
              "  </div>\n",
              "  "
            ]
          },
          "metadata": {},
          "execution_count": 15
        }
      ],
      "source": [
        "train_data = raw_train_data[['text', 'label']].copy()\n",
        "\n",
        "train_data['text'] = train_data['text'].apply(text_preprocessing)\n",
        "\n",
        "train_data.drop_duplicates(inplace=True)\n",
        "\n",
        "train_data"
      ]
    },
    {
      "cell_type": "code",
      "execution_count": null,
      "metadata": {
        "colab": {
          "base_uri": "https://localhost:8080/",
          "height": 423
        },
        "id": "y-8xk3Gd9kio",
        "outputId": "c549009e-3c0d-44bb-c7f4-7f24bd11d6c8"
      },
      "outputs": [
        {
          "output_type": "execute_result",
          "data": {
            "text/plain": [
              "                                                   text  label\n",
              "0     obstructive sleep apnea following topical orop...      2\n",
              "1     neutrophil function pyogenic infections bone m...      4\n",
              "2     phase ii study combined methotrexate teniposid...      4\n",
              "3     flow cytometric dna analysis parathyroid tumor...      0\n",
              "4     paraneoplastic vasculitic neuropathy treatable...      3\n",
              "...                                                 ...    ...\n",
              "2883  management aortobronchial fistula graft replac...      3\n",
              "2884  tuberculous psoas muscle abscess following che...      4\n",
              "2885  clinical evaluation highfrequency ultrasonic m...      3\n",
              "2886  antitumor activity liposomeencapsulated doxoru...      0\n",
              "2887  unusual venous anomaly placenta authors presen...      3\n",
              "\n",
              "[2770 rows x 2 columns]"
            ],
            "text/html": [
              "\n",
              "  <div id=\"df-935cd288-78f5-4ed3-814c-cf4b829130e1\">\n",
              "    <div class=\"colab-df-container\">\n",
              "      <div>\n",
              "<style scoped>\n",
              "    .dataframe tbody tr th:only-of-type {\n",
              "        vertical-align: middle;\n",
              "    }\n",
              "\n",
              "    .dataframe tbody tr th {\n",
              "        vertical-align: top;\n",
              "    }\n",
              "\n",
              "    .dataframe thead th {\n",
              "        text-align: right;\n",
              "    }\n",
              "</style>\n",
              "<table border=\"1\" class=\"dataframe\">\n",
              "  <thead>\n",
              "    <tr style=\"text-align: right;\">\n",
              "      <th></th>\n",
              "      <th>text</th>\n",
              "      <th>label</th>\n",
              "    </tr>\n",
              "  </thead>\n",
              "  <tbody>\n",
              "    <tr>\n",
              "      <th>0</th>\n",
              "      <td>obstructive sleep apnea following topical orop...</td>\n",
              "      <td>2</td>\n",
              "    </tr>\n",
              "    <tr>\n",
              "      <th>1</th>\n",
              "      <td>neutrophil function pyogenic infections bone m...</td>\n",
              "      <td>4</td>\n",
              "    </tr>\n",
              "    <tr>\n",
              "      <th>2</th>\n",
              "      <td>phase ii study combined methotrexate teniposid...</td>\n",
              "      <td>4</td>\n",
              "    </tr>\n",
              "    <tr>\n",
              "      <th>3</th>\n",
              "      <td>flow cytometric dna analysis parathyroid tumor...</td>\n",
              "      <td>0</td>\n",
              "    </tr>\n",
              "    <tr>\n",
              "      <th>4</th>\n",
              "      <td>paraneoplastic vasculitic neuropathy treatable...</td>\n",
              "      <td>3</td>\n",
              "    </tr>\n",
              "    <tr>\n",
              "      <th>...</th>\n",
              "      <td>...</td>\n",
              "      <td>...</td>\n",
              "    </tr>\n",
              "    <tr>\n",
              "      <th>2883</th>\n",
              "      <td>management aortobronchial fistula graft replac...</td>\n",
              "      <td>3</td>\n",
              "    </tr>\n",
              "    <tr>\n",
              "      <th>2884</th>\n",
              "      <td>tuberculous psoas muscle abscess following che...</td>\n",
              "      <td>4</td>\n",
              "    </tr>\n",
              "    <tr>\n",
              "      <th>2885</th>\n",
              "      <td>clinical evaluation highfrequency ultrasonic m...</td>\n",
              "      <td>3</td>\n",
              "    </tr>\n",
              "    <tr>\n",
              "      <th>2886</th>\n",
              "      <td>antitumor activity liposomeencapsulated doxoru...</td>\n",
              "      <td>0</td>\n",
              "    </tr>\n",
              "    <tr>\n",
              "      <th>2887</th>\n",
              "      <td>unusual venous anomaly placenta authors presen...</td>\n",
              "      <td>3</td>\n",
              "    </tr>\n",
              "  </tbody>\n",
              "</table>\n",
              "<p>2770 rows × 2 columns</p>\n",
              "</div>\n",
              "      <button class=\"colab-df-convert\" onclick=\"convertToInteractive('df-935cd288-78f5-4ed3-814c-cf4b829130e1')\"\n",
              "              title=\"Convert this dataframe to an interactive table.\"\n",
              "              style=\"display:none;\">\n",
              "        \n",
              "  <svg xmlns=\"http://www.w3.org/2000/svg\" height=\"24px\"viewBox=\"0 0 24 24\"\n",
              "       width=\"24px\">\n",
              "    <path d=\"M0 0h24v24H0V0z\" fill=\"none\"/>\n",
              "    <path d=\"M18.56 5.44l.94 2.06.94-2.06 2.06-.94-2.06-.94-.94-2.06-.94 2.06-2.06.94zm-11 1L8.5 8.5l.94-2.06 2.06-.94-2.06-.94L8.5 2.5l-.94 2.06-2.06.94zm10 10l.94 2.06.94-2.06 2.06-.94-2.06-.94-.94-2.06-.94 2.06-2.06.94z\"/><path d=\"M17.41 7.96l-1.37-1.37c-.4-.4-.92-.59-1.43-.59-.52 0-1.04.2-1.43.59L10.3 9.45l-7.72 7.72c-.78.78-.78 2.05 0 2.83L4 21.41c.39.39.9.59 1.41.59.51 0 1.02-.2 1.41-.59l7.78-7.78 2.81-2.81c.8-.78.8-2.07 0-2.86zM5.41 20L4 18.59l7.72-7.72 1.47 1.35L5.41 20z\"/>\n",
              "  </svg>\n",
              "      </button>\n",
              "      \n",
              "  <style>\n",
              "    .colab-df-container {\n",
              "      display:flex;\n",
              "      flex-wrap:wrap;\n",
              "      gap: 12px;\n",
              "    }\n",
              "\n",
              "    .colab-df-convert {\n",
              "      background-color: #E8F0FE;\n",
              "      border: none;\n",
              "      border-radius: 50%;\n",
              "      cursor: pointer;\n",
              "      display: none;\n",
              "      fill: #1967D2;\n",
              "      height: 32px;\n",
              "      padding: 0 0 0 0;\n",
              "      width: 32px;\n",
              "    }\n",
              "\n",
              "    .colab-df-convert:hover {\n",
              "      background-color: #E2EBFA;\n",
              "      box-shadow: 0px 1px 2px rgba(60, 64, 67, 0.3), 0px 1px 3px 1px rgba(60, 64, 67, 0.15);\n",
              "      fill: #174EA6;\n",
              "    }\n",
              "\n",
              "    [theme=dark] .colab-df-convert {\n",
              "      background-color: #3B4455;\n",
              "      fill: #D2E3FC;\n",
              "    }\n",
              "\n",
              "    [theme=dark] .colab-df-convert:hover {\n",
              "      background-color: #434B5C;\n",
              "      box-shadow: 0px 1px 3px 1px rgba(0, 0, 0, 0.15);\n",
              "      filter: drop-shadow(0px 1px 2px rgba(0, 0, 0, 0.3));\n",
              "      fill: #FFFFFF;\n",
              "    }\n",
              "  </style>\n",
              "\n",
              "      <script>\n",
              "        const buttonEl =\n",
              "          document.querySelector('#df-935cd288-78f5-4ed3-814c-cf4b829130e1 button.colab-df-convert');\n",
              "        buttonEl.style.display =\n",
              "          google.colab.kernel.accessAllowed ? 'block' : 'none';\n",
              "\n",
              "        async function convertToInteractive(key) {\n",
              "          const element = document.querySelector('#df-935cd288-78f5-4ed3-814c-cf4b829130e1');\n",
              "          const dataTable =\n",
              "            await google.colab.kernel.invokeFunction('convertToInteractive',\n",
              "                                                     [key], {});\n",
              "          if (!dataTable) return;\n",
              "\n",
              "          const docLinkHtml = 'Like what you see? Visit the ' +\n",
              "            '<a target=\"_blank\" href=https://colab.research.google.com/notebooks/data_table.ipynb>data table notebook</a>'\n",
              "            + ' to learn more about interactive tables.';\n",
              "          element.innerHTML = '';\n",
              "          dataTable['output_type'] = 'display_data';\n",
              "          await google.colab.output.renderOutput(dataTable, element);\n",
              "          const docLink = document.createElement('div');\n",
              "          docLink.innerHTML = docLinkHtml;\n",
              "          element.appendChild(docLink);\n",
              "        }\n",
              "      </script>\n",
              "    </div>\n",
              "  </div>\n",
              "  "
            ]
          },
          "metadata": {},
          "execution_count": 16
        }
      ],
      "source": [
        "test_data = raw_test_data[['text', 'label']].copy()\n",
        "\n",
        "test_data['text'] = test_data['text'].apply(text_preprocessing)\n",
        "\n",
        "test_data.drop_duplicates(inplace=True)\n",
        "\n",
        "test_data"
      ]
    },
    {
      "cell_type": "markdown",
      "metadata": {
        "id": "AJ-T9HPK8pKS"
      },
      "source": [
        "# Text Representation"
      ]
    },
    {
      "cell_type": "code",
      "execution_count": null,
      "metadata": {
        "id": "HVfM_kuvw0EI",
        "colab": {
          "base_uri": "https://localhost:8080/"
        },
        "outputId": "57823326-7f36-4054-f982-1373422ecee4"
      },
      "outputs": [
        {
          "output_type": "stream",
          "name": "stdout",
          "text": [
            "[==================================================] 100.0% 1662.8/1662.8MB downloaded\n"
          ]
        }
      ],
      "source": [
        "word2vec_model = api.load(\"word2vec-google-news-300\")"
      ]
    },
    {
      "cell_type": "code",
      "execution_count": null,
      "metadata": {
        "id": "fxu9vG_jw2Jo"
      },
      "outputs": [],
      "source": [
        "def get_text_vec(sent):\n",
        "  vector = np.mean(np.array([word2vec_model[token] for token in word_tokenize(sent) if token in word2vec_model.key_to_index]), axis=0)\n",
        "  if np.all(np.isnan(vector)) :\n",
        "    return np.zeros(300)\n",
        "  return vector"
      ]
    },
    {
      "cell_type": "code",
      "execution_count": null,
      "metadata": {
        "id": "8cAM1VYuw4RL"
      },
      "outputs": [],
      "source": [
        "ori_X_train = np.stack(np.array([get_text_vec(text) for text in train_data['text'].values]))"
      ]
    },
    {
      "cell_type": "code",
      "execution_count": null,
      "metadata": {
        "colab": {
          "base_uri": "https://localhost:8080/"
        },
        "id": "xZjmP0Kmw6FB",
        "outputId": "832000f0-11fb-42ab-b2fa-1363af023552"
      },
      "outputs": [
        {
          "output_type": "execute_result",
          "data": {
            "text/plain": [
              "(9445, 300)"
            ]
          },
          "metadata": {},
          "execution_count": 21
        }
      ],
      "source": [
        "ori_X_train.shape"
      ]
    },
    {
      "cell_type": "code",
      "execution_count": null,
      "metadata": {
        "id": "X51l7SGdw6ah"
      },
      "outputs": [],
      "source": [
        "X_test = np.stack(np.array([get_text_vec(sms_text) for sms_text in test_data['text'].values]))"
      ]
    },
    {
      "cell_type": "code",
      "execution_count": null,
      "metadata": {
        "colab": {
          "base_uri": "https://localhost:8080/"
        },
        "id": "38-eq2aow84_",
        "outputId": "d7103a46-ad52-47bc-ee7a-e4450ab1db38"
      },
      "outputs": [
        {
          "output_type": "execute_result",
          "data": {
            "text/plain": [
              "(2770, 300)"
            ]
          },
          "metadata": {},
          "execution_count": 20
        }
      ],
      "source": [
        "X_test.shape"
      ]
    },
    {
      "cell_type": "code",
      "execution_count": null,
      "metadata": {
        "id": "PKHX0tMJ_nHu"
      },
      "outputs": [],
      "source": [
        "ori_y_train = train_data['label'].values"
      ]
    },
    {
      "cell_type": "code",
      "execution_count": null,
      "metadata": {
        "colab": {
          "base_uri": "https://localhost:8080/"
        },
        "id": "YgNYhreF_1AV",
        "outputId": "1904b94b-2f1b-4c41-cea7-165760310cd1"
      },
      "outputs": [
        {
          "output_type": "execute_result",
          "data": {
            "text/plain": [
              "(9445,)"
            ]
          },
          "metadata": {},
          "execution_count": 25
        }
      ],
      "source": [
        "ori_y_train.shape"
      ]
    },
    {
      "cell_type": "code",
      "execution_count": null,
      "metadata": {
        "id": "etik5rXa_2dr"
      },
      "outputs": [],
      "source": [
        "y_test = test_data['label'].values"
      ]
    },
    {
      "cell_type": "code",
      "execution_count": null,
      "metadata": {
        "colab": {
          "base_uri": "https://localhost:8080/"
        },
        "id": "XuaytXOH_2ZI",
        "outputId": "523391da-b10d-4afc-ec2f-432f0677288b"
      },
      "outputs": [
        {
          "output_type": "execute_result",
          "data": {
            "text/plain": [
              "(2770,)"
            ]
          },
          "metadata": {},
          "execution_count": 22
        }
      ],
      "source": [
        "y_test.shape"
      ]
    },
    {
      "cell_type": "markdown",
      "metadata": {
        "id": "VLslFJ6FIUi6"
      },
      "source": [
        "# Model selection, training and evaluation"
      ]
    },
    {
      "cell_type": "code",
      "execution_count": null,
      "metadata": {
        "id": "GBrZHF9KIXpl"
      },
      "outputs": [],
      "source": [
        "def f_beta_score(y_true, y_pred):\n",
        "  return fbeta_score(y_true, y_pred, beta=2, average='macro')\n",
        "\n",
        "f2_score = make_scorer(f_beta_score, greater_is_better=True)"
      ]
    },
    {
      "cell_type": "code",
      "execution_count": null,
      "metadata": {
        "id": "uvKWCCmbIXhu"
      },
      "outputs": [],
      "source": [
        "from datetime import datetime\n",
        "\n",
        "def save_cross_validation(results, file_name):\n",
        "  results_to_save = pd.DataFrame(columns=['Accuracy', 'Recall', 'Precision', 'F1 Score', 'F2 Score'])\n",
        "  for i in range(0, 10):\n",
        "    results_to_save.loc[i] = [\n",
        "      results['split{}_test_Accuracy'.format(i)][0],\n",
        "      results['split{}_test_Recall'.format(i)][0],\n",
        "      results['split{}_test_Precision'.format(i)][0],\n",
        "      results['split{}_test_F1'.format(i)][0],\n",
        "      results['split{}_test_F2'.format(i)][0]\n",
        "    ]\n",
        "  results_to_save.to_csv('{}Results/{}_{}.csv'.format(dir_name+'experiments/Medical Text/', file_name, datetime.now().strftime(\"%m%d%H%M\")))"
      ]
    },
    {
      "cell_type": "code",
      "execution_count": null,
      "metadata": {
        "id": "Qck1th_-IXV6"
      },
      "outputs": [],
      "source": [
        "def train_model(classifier, param_grid, model_name, train_texts, train_labels, test_texts, test_labels, evaluation_metrics, to_print=True, to_save=False, file_name=None):\n",
        "    \"\"\"\n",
        "    train email classification model.\n",
        "    \"\"\"\n",
        "\n",
        "    # apply grid search to find best model hyper parameters\n",
        "    grid_search = GridSearchCV(classifier, param_grid, cv=10, scoring={'Accuracy': make_scorer(accuracy_score),\n",
        "                                                                       'F1': make_scorer(f1_score, average='macro'),\n",
        "                                                                       'F2': f2_score,\n",
        "                                                                       'Recall': make_scorer(recall_score, average='macro'),\n",
        "                                                                       'Precision': make_scorer(precision_score, average='macro')\n",
        "                                                                       }, refit='F1', n_jobs=-1)\n",
        "    grid_search.fit(train_texts, train_labels)\n",
        "    model = grid_search.best_estimator_\n",
        "\n",
        "    if to_save:\n",
        "      ConfusionMatrixDisplay(save_cross_validation(grid_search.cv_results_, file_name))\n",
        "      plt.show()\n",
        "\n",
        "    # train and test accuracy.\n",
        "    test_accuracy = model.score(test_texts, test_labels)\n",
        "    train_accuracy = model.score(train_texts, train_labels)\n",
        "\n",
        "    # compute F1 score for model evaluation.\n",
        "    y_pred = model.predict(test_texts)\n",
        "\n",
        "    recall = recall_score(test_labels, y_pred, average='macro')\n",
        "    precision = precision_score(test_labels, y_pred, average='macro')\n",
        "    f1score = f1_score(test_labels, y_pred, average='macro')\n",
        "    f2score = fbeta_score(y_test, y_pred, beta=2, average='macro')\n",
        "\n",
        "    if to_print:\n",
        "        print(\"train accuracy = \" + str(train_accuracy))\n",
        "        print(\"test accuracy = \" + str(test_accuracy))\n",
        "        print(\"Recall = {}\".format(recall))\n",
        "        print(\"Precision = {}\".format(precision))\n",
        "        print(\"F1 score = {}\".format(f1score))\n",
        "        print(\"F2 score = {}\".format(f2score))\n",
        "        print(classification_report(test_labels, y_pred))\n",
        "\n",
        "\n",
        "        # plot confusion matrix\n",
        "        cm = confusion_matrix(test_labels, y_pred)\n",
        "        disp = ConfusionMatrixDisplay(confusion_matrix=cm, display_labels=[0,1,2,3,4])\n",
        "\n",
        "        disp.plot(cmap=plt.cm.Blues)\n",
        "        plt.show()\n",
        "\n",
        "        # print best model hyper parameters.\n",
        "        print(grid_search.best_params_)\n",
        "\n",
        "    evaluation_metrics.loc[model_name, 'Recall'] = recall\n",
        "    evaluation_metrics.loc[model_name, 'Precision'] = precision\n",
        "    evaluation_metrics.loc[model_name, 'F1 score'] = f1score\n",
        "    evaluation_metrics.loc[model_name, 'F2 score'] = f2score\n",
        "\n",
        "    return f1score, f2score\n",
        "\n",
        "\n",
        "def train(model_id, train_texts, train_labels, test_texts, test_labels, evaluation_metrics, to_print=True, to_save=False, file_name=None):\n",
        "    \n",
        "    if model_id == 1:\n",
        "        # Random forest Classification model.\n",
        "        forest_clf = RandomForestClassifier(random_state=42, n_jobs=-1)\n",
        "        forest_param_grid = [{'n_estimators': [15,20,25,30,35], 'max_features': [10, 15, 20], 'min_samples_split': [15, 20, 25], 'criterion': ['gini','entropy'], 'max_depth': [6,7]}]\n",
        "\n",
        "        return train_model(forest_clf, forest_param_grid, 'RandomForest', train_texts, train_labels, test_texts, test_labels, evaluation_metrics, to_print, to_save, file_name)\n",
        "\n",
        "    if model_id == 2:\n",
        "        # Support Vector Machine Model.\n",
        "        svc_clf = SVC(random_state=42)\n",
        "        svc_param_grid = [{'kernel': ['rbf'], 'degree': [2, 3 ,4, 5, 6, 7]}]\n",
        "\n",
        "        return train_model(svc_clf, svc_param_grid, 'SVM', train_texts, train_labels, test_texts, test_labels, evaluation_metrics, to_print, to_save, file_name)"
      ]
    },
    {
      "cell_type": "code",
      "execution_count": null,
      "metadata": {
        "id": "JiwoJTVTxMhv"
      },
      "outputs": [],
      "source": [
        "evaluation_metrics_orginal = pd.DataFrame(columns = ['Recall', 'Precision', 'F1 score', 'F2 score'])"
      ]
    },
    {
      "cell_type": "markdown",
      "metadata": {
        "id": "WE-5VY84xLiG"
      },
      "source": [
        "#RF\n"
      ]
    },
    {
      "cell_type": "code",
      "execution_count": null,
      "metadata": {
        "colab": {
          "base_uri": "https://localhost:8080/",
          "height": 818
        },
        "id": "Naa0LUIVxO3S",
        "outputId": "53f91e8d-0eaa-4422-f0d6-e64bd352713f"
      },
      "outputs": [
        {
          "output_type": "stream",
          "name": "stdout",
          "text": [
            "train accuracy = 0.6282689253573319\n",
            "test accuracy = 0.51985559566787\n",
            "Recall = 0.42084652372964043\n",
            "Precision = 0.4632785803871382\n",
            "F1 score = 0.39890093242646\n",
            "F2 score = 0.408595809898561\n",
            "              precision    recall  f1-score   support\n",
            "\n",
            "           0       0.67      0.72      0.69       616\n",
            "           1       0.00      0.00      0.00       287\n",
            "           2       0.63      0.10      0.17       366\n",
            "           3       0.62      0.65      0.63       589\n",
            "           4       0.41      0.63      0.49       912\n",
            "\n",
            "    accuracy                           0.52      2770\n",
            "   macro avg       0.46      0.42      0.40      2770\n",
            "weighted avg       0.50      0.52      0.47      2770\n",
            "\n"
          ]
        },
        {
          "output_type": "display_data",
          "data": {
            "text/plain": [
              "<Figure size 640x480 with 2 Axes>"
            ],
            "image/png": "[encoded data removed]"
          },
          "metadata": {}
        },
        {
          "output_type": "stream",
          "name": "stdout",
          "text": [
            "{'criterion': 'entropy', 'max_depth': 7, 'max_features': 20, 'min_samples_split': 20, 'n_estimators': 15}\n"
          ]
        },
        {
          "output_type": "execute_result",
          "data": {
            "text/plain": [
              "(0.39890093242646, 0.408595809898561)"
            ]
          },
          "metadata": {},
          "execution_count": 45
        }
      ],
      "source": [
        "train(1, ori_X_train, ori_y_train, X_test, y_test, evaluation_metrics_orginal, to_save=True, file_name='OD_RF')"
      ]
    },
    {
      "cell_type": "markdown",
      "metadata": {
        "id": "M7IOkSy4B7HQ"
      },
      "source": [
        "# SVM"
      ]
    },
    {
      "cell_type": "code",
      "execution_count": null,
      "metadata": {
        "id": "8cqC5vXCB7r_",
        "colab": {
          "base_uri": "https://localhost:8080/",
          "height": 818
        },
        "outputId": "6e98b13d-75b0-4809-c6de-dd4f19ed6cf7"
      },
      "outputs": [
        {
          "output_type": "stream",
          "name": "stdout",
          "text": [
            "train accuracy = 0.7059820010587613\n",
            "test accuracy = 0.6108303249097473\n",
            "Recall = 0.586282566181812\n",
            "Precision = 0.6178830776795803\n",
            "F1 score = 0.5951562781616477\n",
            "F2 score = 0.5884982069781775\n",
            "              precision    recall  f1-score   support\n",
            "\n",
            "           0       0.70      0.78      0.74       616\n",
            "           1       0.58      0.43      0.49       287\n",
            "           2       0.63      0.43      0.51       366\n",
            "           3       0.67      0.76      0.71       589\n",
            "           4       0.50      0.53      0.52       912\n",
            "\n",
            "    accuracy                           0.61      2770\n",
            "   macro avg       0.62      0.59      0.60      2770\n",
            "weighted avg       0.61      0.61      0.60      2770\n",
            "\n"
          ]
        },
        {
          "output_type": "display_data",
          "data": {
            "text/plain": [
              "<Figure size 640x480 with 2 Axes>"
            ],
            "image/png": "[encoded data removed]"
          },
          "metadata": {}
        },
        {
          "output_type": "stream",
          "name": "stdout",
          "text": [
            "{'degree': 2, 'kernel': 'rbf'}\n"
          ]
        },
        {
          "output_type": "execute_result",
          "data": {
            "text/plain": [
              "(0.5951562781616477, 0.5884982069781775)"
            ]
          },
          "metadata": {},
          "execution_count": 69
        }
      ],
      "source": [
        "train(2, ori_X_train, ori_y_train, X_test, y_test, evaluation_metrics_orginal, to_save=True, file_name='OD_SVM')"
      ]
    },
    {
      "cell_type": "code",
      "execution_count": null,
      "metadata": {
        "id": "kdnakGMP0Wvu"
      },
      "outputs": [],
      "source": [
        "evaluation_metrics_orginal"
      ]
    },
    {
      "cell_type": "markdown",
      "metadata": {
        "id": "OUBjGBqvuKn-"
      },
      "source": [
        "#BiLSTM"
      ]
    },
    {
      "cell_type": "code",
      "execution_count": null,
      "metadata": {
        "id": "odhoUPV4uPxl"
      },
      "outputs": [],
      "source": [
        "import random\n",
        "import tensorflow as tf \n",
        "from tensorflow import keras \n",
        "from tensorflow.keras import layers\n",
        "from sklearn.metrics import ConfusionMatrixDisplay\n",
        "from tensorflow.keras.layers import Dropout, SpatialDropout1D\n",
        "from tensorflow.keras import regularizers\n",
        "from sklearn.model_selection import StratifiedKFold"
      ]
    },
    {
      "cell_type": "code",
      "execution_count": null,
      "metadata": {
        "id": "z8CYTBYzuQe9"
      },
      "outputs": [],
      "source": [
        "def create_blstm_model(train_texts):\n",
        "\n",
        "  vectorize_layer = layers.TextVectorization(max_tokens=2000, output_sequence_length=200)\n",
        "\n",
        "  vectorize_layer.adapt(train_texts)\n",
        "\n",
        "  embedding_layer = layers.Embedding(input_dim=2000, output_dim=32)\n",
        "\n",
        "  model = tf.keras.models.Sequential()\n",
        "  model.add(tf.keras.Input(shape=(1,), dtype=tf.string))\n",
        "  model.add(vectorize_layer)\n",
        "  model.add(embedding_layer)\n",
        "  model.add(SpatialDropout1D(0.2))\n",
        "  model.add(layers.Bidirectional(layers.LSTM(64, bias_regularizer=regularizers.L2(1e-4), kernel_regularizer=regularizers.L1L2(l1=1e-4, l2=1e-4), activity_regularizer=regularizers.L2(1e-4))))\n",
        "  model.add(Dropout(0.2))\n",
        "  model.add(layers.Dense(5, activation='softmax'))\n",
        "\n",
        "\n",
        "  model.compile(optimizer=keras.optimizers.Adam(),\n",
        "                loss='sparse_categorical_crossentropy',\n",
        "                metrics=['accuracy'])  \n",
        "  print(model.summary())\n",
        "  \n",
        "  return model"
      ]
    },
    {
      "cell_type": "markdown",
      "source": [
        "# Cross Validation"
      ],
      "metadata": {
        "id": "jvHW1EoVJ23p"
      }
    },
    {
      "cell_type": "code",
      "source": [
        "def cv_blstm():\n",
        "\n",
        "  kf = StratifiedKFold(10, shuffle=True, random_state=42) \n",
        "  cv_metrics = pd.DataFrame(columns = ['Recall', 'Precision', 'F1 score', 'F2 score'])\n",
        "\n",
        "  fold = 0\n",
        "\n",
        "  X = train_data['text'].values\n",
        "  Y = train_data['label'].values\n",
        "\n",
        "  for train, val in kf.split(X, Y):  \n",
        "  \n",
        "    print(f\"Fold {fold}\")\n",
        "\n",
        "    train_texts = X[train]\n",
        "    train_labels = Y[train]\n",
        "    test_texts = X[val]\n",
        "    test_labels = Y[val]\n",
        "\n",
        "    blstm_model = create_blstm_model(train_texts)\n",
        "\n",
        "    history = blstm_model.fit(train_texts,\n",
        "                              train_labels,\n",
        "                              epochs=10,\n",
        "                              batch_size=64,\n",
        "                              validation_data=(test_texts, test_labels))\n",
        "\n",
        "    blstm_model.evaluate(test_texts, test_labels)\n",
        "    y_pred = np.round(blstm_model.predict(test_texts))\n",
        "    y_pred = np.argmax(y_pred, axis=1)\n",
        "\n",
        "    f1_sc = f1_score(test_labels, y_pred, average='macro')\n",
        "    f2score = fbeta_score(test_labels, y_pred, beta=2, average='macro')\n",
        "\n",
        "    cv_metrics.loc[fold, 'Recall'] = recall_score(test_labels, y_pred, average='macro')\n",
        "    cv_metrics.loc[fold, 'Precision'] = precision_score(test_labels, y_pred, average='macro')\n",
        "    cv_metrics.loc[fold, 'F1 score'] = f1_sc\n",
        "    cv_metrics.loc[fold, 'F2 score'] = f2score\n",
        "    \n",
        "    fold += 1\n",
        "\n",
        "  return cv_metrics"
      ],
      "metadata": {
        "id": "D5kOp5yFJ3Nf"
      },
      "execution_count": null,
      "outputs": []
    },
    {
      "cell_type": "code",
      "source": [
        "cv_results = cv_blstm()"
      ],
      "metadata": {
        "colab": {
          "base_uri": "https://localhost:8080/"
        },
        "id": "AW6lUYTnJ3er",
        "outputId": "3916e495-ff84-494a-e916-ca6efe24f535"
      },
      "execution_count": null,
      "outputs": [
        {
          "output_type": "stream",
          "name": "stdout",
          "text": [
            "Fold 0\n",
            "Model: \"sequential\"\n",
            "_________________________________________________________________\n",
            " Layer (type)                Output Shape              Param #   \n",
            "=================================================================\n",
            " text_vectorization (TextVec  (None, 200)              0         \n",
            " torization)                                                     \n",
            "                                                                 \n",
            " embedding (Embedding)       (None, 200, 32)           64000     \n",
            "                                                                 \n",
            " spatial_dropout1d (SpatialD  (None, 200, 32)          0         \n",
            " ropout1D)                                                       \n",
            "                                                                 \n",
            " bidirectional (Bidirectiona  (None, 128)              49664     \n",
            " l)                                                              \n",
            "                                                                 \n",
            " dropout (Dropout)           (None, 128)               0         \n",
            "                                                                 \n",
            " dense (Dense)               (None, 5)                 645       \n",
            "                                                                 \n",
            "=================================================================\n",
            "Total params: 114,309\n",
            "Trainable params: 114,309\n",
            "Non-trainable params: 0\n",
            "_________________________________________________________________\n",
            "None\n",
            "Epoch 1/10\n",
            "133/133 [==============================] - 33s 169ms/step - loss: 1.4869 - accuracy: 0.3981 - val_loss: 1.2133 - val_accuracy: 0.5450\n",
            "Epoch 2/10\n",
            "133/133 [==============================] - 8s 63ms/step - loss: 1.1450 - accuracy: 0.5661 - val_loss: 1.1155 - val_accuracy: 0.5735\n",
            "Epoch 3/10\n",
            "133/133 [==============================] - 4s 29ms/step - loss: 0.9991 - accuracy: 0.6248 - val_loss: 1.0815 - val_accuracy: 0.5704\n",
            "Epoch 4/10\n",
            "133/133 [==============================] - 4s 33ms/step - loss: 0.9206 - accuracy: 0.6649 - val_loss: 1.0817 - val_accuracy: 0.5704\n",
            "Epoch 5/10\n",
            "133/133 [==============================] - 4s 32ms/step - loss: 0.8655 - accuracy: 0.6871 - val_loss: 1.0931 - val_accuracy: 0.5799\n",
            "Epoch 6/10\n",
            "133/133 [==============================] - 3s 23ms/step - loss: 0.8064 - accuracy: 0.7168 - val_loss: 1.0498 - val_accuracy: 0.6169\n",
            "Epoch 7/10\n",
            "133/133 [==============================] - 4s 30ms/step - loss: 0.7486 - accuracy: 0.7379 - val_loss: 1.0721 - val_accuracy: 0.6106\n",
            "Epoch 8/10\n",
            "133/133 [==============================] - 3s 24ms/step - loss: 0.7183 - accuracy: 0.7556 - val_loss: 1.0595 - val_accuracy: 0.6127\n",
            "Epoch 9/10\n",
            "133/133 [==============================] - 3s 25ms/step - loss: 0.6887 - accuracy: 0.7627 - val_loss: 1.0710 - val_accuracy: 0.6233\n",
            "Epoch 10/10\n",
            "133/133 [==============================] - 3s 22ms/step - loss: 0.6455 - accuracy: 0.7841 - val_loss: 1.1314 - val_accuracy: 0.6085\n",
            "30/30 [==============================] - 0s 8ms/step - loss: 1.1314 - accuracy: 0.6085\n",
            "30/30 [==============================] - 1s 7ms/step\n",
            "Fold 1\n",
            "Model: \"sequential_1\"\n",
            "_________________________________________________________________\n",
            " Layer (type)                Output Shape              Param #   \n",
            "=================================================================\n",
            " text_vectorization_1 (TextV  (None, 200)              0         \n",
            " ectorization)                                                   \n",
            "                                                                 \n",
            " embedding_1 (Embedding)     (None, 200, 32)           64000     \n",
            "                                                                 \n",
            " spatial_dropout1d_1 (Spatia  (None, 200, 32)          0         \n",
            " lDropout1D)                                                     \n",
            "                                                                 \n",
            " bidirectional_1 (Bidirectio  (None, 128)              49664     \n",
            " nal)                                                            \n",
            "                                                                 \n",
            " dropout_1 (Dropout)         (None, 128)               0         \n",
            "                                                                 \n",
            " dense_1 (Dense)             (None, 5)                 645       \n",
            "                                                                 \n",
            "=================================================================\n",
            "Total params: 114,309\n",
            "Trainable params: 114,309\n",
            "Non-trainable params: 0\n",
            "_________________________________________________________________\n",
            "None\n",
            "Epoch 1/10\n",
            "133/133 [==============================] - 20s 121ms/step - loss: 1.5124 - accuracy: 0.4025 - val_loss: 1.2207 - val_accuracy: 0.5608\n",
            "Epoch 2/10\n",
            "133/133 [==============================] - 7s 51ms/step - loss: 1.1628 - accuracy: 0.5720 - val_loss: 1.1221 - val_accuracy: 0.5746\n",
            "Epoch 3/10\n",
            "133/133 [==============================] - 6s 46ms/step - loss: 1.0573 - accuracy: 0.5982 - val_loss: 1.1297 - val_accuracy: 0.5693\n",
            "Epoch 4/10\n",
            "133/133 [==============================] - 4s 31ms/step - loss: 0.9900 - accuracy: 0.6294 - val_loss: 1.0588 - val_accuracy: 0.5979\n",
            "Epoch 5/10\n",
            "133/133 [==============================] - 3s 23ms/step - loss: 0.9091 - accuracy: 0.6692 - val_loss: 1.0659 - val_accuracy: 0.6011\n",
            "Epoch 6/10\n",
            "133/133 [==============================] - 4s 29ms/step - loss: 0.8690 - accuracy: 0.6938 - val_loss: 1.0869 - val_accuracy: 0.6021\n",
            "Epoch 7/10\n",
            "133/133 [==============================] - 3s 24ms/step - loss: 0.7959 - accuracy: 0.7224 - val_loss: 0.9973 - val_accuracy: 0.6434\n",
            "Epoch 8/10\n",
            "133/133 [==============================] - 4s 27ms/step - loss: 0.7416 - accuracy: 0.7464 - val_loss: 1.0055 - val_accuracy: 0.6540\n",
            "Epoch 9/10\n",
            "133/133 [==============================] - 3s 23ms/step - loss: 0.6950 - accuracy: 0.7626 - val_loss: 1.0147 - val_accuracy: 0.6476\n",
            "Epoch 10/10\n",
            "133/133 [==============================] - 3s 23ms/step - loss: 0.6579 - accuracy: 0.7781 - val_loss: 1.0312 - val_accuracy: 0.6370\n",
            "30/30 [==============================] - 0s 8ms/step - loss: 1.0312 - accuracy: 0.6370\n",
            "30/30 [==============================] - 1s 7ms/step\n",
            "Fold 2\n",
            "Model: \"sequential_2\"\n",
            "_________________________________________________________________\n",
            " Layer (type)                Output Shape              Param #   \n",
            "=================================================================\n",
            " text_vectorization_2 (TextV  (None, 200)              0         \n",
            " ectorization)                                                   \n",
            "                                                                 \n",
            " embedding_2 (Embedding)     (None, 200, 32)           64000     \n",
            "                                                                 \n",
            " spatial_dropout1d_2 (Spatia  (None, 200, 32)          0         \n",
            " lDropout1D)                                                     \n",
            "                                                                 \n",
            " bidirectional_2 (Bidirectio  (None, 128)              49664     \n",
            " nal)                                                            \n",
            "                                                                 \n",
            " dropout_2 (Dropout)         (None, 128)               0         \n",
            "                                                                 \n",
            " dense_2 (Dense)             (None, 5)                 645       \n",
            "                                                                 \n",
            "=================================================================\n",
            "Total params: 114,309\n",
            "Trainable params: 114,309\n",
            "Non-trainable params: 0\n",
            "_________________________________________________________________\n",
            "None\n",
            "Epoch 1/10\n",
            "133/133 [==============================] - 21s 126ms/step - loss: 1.4908 - accuracy: 0.4195 - val_loss: 1.2316 - val_accuracy: 0.5259\n",
            "Epoch 2/10\n",
            "133/133 [==============================] - 7s 53ms/step - loss: 1.1635 - accuracy: 0.5719 - val_loss: 1.1526 - val_accuracy: 0.5704\n",
            "Epoch 3/10\n",
            "133/133 [==============================] - 4s 30ms/step - loss: 1.0651 - accuracy: 0.5995 - val_loss: 1.1202 - val_accuracy: 0.5683\n",
            "Epoch 4/10\n",
            "133/133 [==============================] - 5s 40ms/step - loss: 1.0089 - accuracy: 0.6278 - val_loss: 1.0564 - val_accuracy: 0.6063\n",
            "Epoch 5/10\n",
            "133/133 [==============================] - 4s 28ms/step - loss: 0.9219 - accuracy: 0.6639 - val_loss: 1.0705 - val_accuracy: 0.6021\n",
            "Epoch 6/10\n",
            "133/133 [==============================] - 3s 26ms/step - loss: 0.8806 - accuracy: 0.6851 - val_loss: 1.0353 - val_accuracy: 0.6349\n",
            "Epoch 7/10\n",
            "133/133 [==============================] - 3s 26ms/step - loss: 0.8281 - accuracy: 0.7169 - val_loss: 1.0145 - val_accuracy: 0.6201\n",
            "Epoch 8/10\n",
            "133/133 [==============================] - 3s 22ms/step - loss: 0.7699 - accuracy: 0.7321 - val_loss: 0.9813 - val_accuracy: 0.6381\n",
            "Epoch 9/10\n",
            "133/133 [==============================] - 3s 20ms/step - loss: 0.7274 - accuracy: 0.7516 - val_loss: 0.9950 - val_accuracy: 0.6392\n",
            "Epoch 10/10\n",
            "133/133 [==============================] - 3s 25ms/step - loss: 0.6811 - accuracy: 0.7669 - val_loss: 0.9828 - val_accuracy: 0.6519\n",
            "30/30 [==============================] - 0s 9ms/step - loss: 0.9828 - accuracy: 0.6519\n",
            "30/30 [==============================] - 1s 8ms/step\n",
            "Fold 3\n",
            "Model: \"sequential_3\"\n",
            "_________________________________________________________________\n",
            " Layer (type)                Output Shape              Param #   \n",
            "=================================================================\n",
            " text_vectorization_3 (TextV  (None, 200)              0         \n",
            " ectorization)                                                   \n",
            "                                                                 \n",
            " embedding_3 (Embedding)     (None, 200, 32)           64000     \n",
            "                                                                 \n",
            " spatial_dropout1d_3 (Spatia  (None, 200, 32)          0         \n",
            " lDropout1D)                                                     \n",
            "                                                                 \n",
            " bidirectional_3 (Bidirectio  (None, 128)              49664     \n",
            " nal)                                                            \n",
            "                                                                 \n",
            " dropout_3 (Dropout)         (None, 128)               0         \n",
            "                                                                 \n",
            " dense_3 (Dense)             (None, 5)                 645       \n",
            "                                                                 \n",
            "=================================================================\n",
            "Total params: 114,309\n",
            "Trainable params: 114,309\n",
            "Non-trainable params: 0\n",
            "_________________________________________________________________\n",
            "None\n",
            "Epoch 1/10\n",
            "133/133 [==============================] - 20s 124ms/step - loss: 1.5228 - accuracy: 0.3915 - val_loss: 1.2132 - val_accuracy: 0.5683\n",
            "Epoch 2/10\n",
            "133/133 [==============================] - 6s 46ms/step - loss: 1.1240 - accuracy: 0.5778 - val_loss: 1.0985 - val_accuracy: 0.5630\n",
            "Epoch 3/10\n",
            "133/133 [==============================] - 5s 34ms/step - loss: 1.0099 - accuracy: 0.6214 - val_loss: 1.0454 - val_accuracy: 0.6021\n",
            "Epoch 4/10\n",
            "133/133 [==============================] - 4s 30ms/step - loss: 0.8970 - accuracy: 0.6782 - val_loss: 1.0185 - val_accuracy: 0.6296\n",
            "Epoch 5/10\n",
            "133/133 [==============================] - 4s 27ms/step - loss: 0.8222 - accuracy: 0.7115 - val_loss: 0.9902 - val_accuracy: 0.6169\n",
            "Epoch 6/10\n",
            "133/133 [==============================] - 3s 26ms/step - loss: 0.7555 - accuracy: 0.7361 - val_loss: 0.9901 - val_accuracy: 0.6381\n",
            "Epoch 7/10\n",
            "133/133 [==============================] - 3s 23ms/step - loss: 0.7200 - accuracy: 0.7502 - val_loss: 0.9728 - val_accuracy: 0.6381\n",
            "Epoch 8/10\n",
            "133/133 [==============================] - 3s 26ms/step - loss: 0.6786 - accuracy: 0.7661 - val_loss: 0.9894 - val_accuracy: 0.6487\n",
            "Epoch 9/10\n",
            "133/133 [==============================] - 3s 21ms/step - loss: 0.6389 - accuracy: 0.7811 - val_loss: 0.9986 - val_accuracy: 0.6392\n",
            "Epoch 10/10\n",
            "133/133 [==============================] - 3s 20ms/step - loss: 0.6259 - accuracy: 0.7926 - val_loss: 1.0778 - val_accuracy: 0.6106\n",
            "30/30 [==============================] - 0s 7ms/step - loss: 1.0778 - accuracy: 0.6106\n",
            "30/30 [==============================] - 1s 7ms/step\n",
            "Fold 4\n",
            "Model: \"sequential_4\"\n",
            "_________________________________________________________________\n",
            " Layer (type)                Output Shape              Param #   \n",
            "=================================================================\n",
            " text_vectorization_4 (TextV  (None, 200)              0         \n",
            " ectorization)                                                   \n",
            "                                                                 \n",
            " embedding_4 (Embedding)     (None, 200, 32)           64000     \n",
            "                                                                 \n",
            " spatial_dropout1d_4 (Spatia  (None, 200, 32)          0         \n",
            " lDropout1D)                                                     \n",
            "                                                                 \n",
            " bidirectional_4 (Bidirectio  (None, 128)              49664     \n",
            " nal)                                                            \n",
            "                                                                 \n",
            " dropout_4 (Dropout)         (None, 128)               0         \n",
            "                                                                 \n",
            " dense_4 (Dense)             (None, 5)                 645       \n",
            "                                                                 \n",
            "=================================================================\n",
            "Total params: 114,309\n",
            "Trainable params: 114,309\n",
            "Non-trainable params: 0\n",
            "_________________________________________________________________\n",
            "None\n",
            "Epoch 1/10\n",
            "133/133 [==============================] - 20s 120ms/step - loss: 1.4845 - accuracy: 0.4169 - val_loss: 1.1983 - val_accuracy: 0.5598\n",
            "Epoch 2/10\n",
            "133/133 [==============================] - 7s 51ms/step - loss: 1.1116 - accuracy: 0.5853 - val_loss: 1.0852 - val_accuracy: 0.5820\n",
            "Epoch 3/10\n",
            "133/133 [==============================] - 5s 38ms/step - loss: 0.9915 - accuracy: 0.6189 - val_loss: 1.0522 - val_accuracy: 0.6021\n",
            "Epoch 4/10\n",
            "133/133 [==============================] - 4s 27ms/step - loss: 0.9013 - accuracy: 0.6700 - val_loss: 1.0053 - val_accuracy: 0.6275\n",
            "Epoch 5/10\n",
            "133/133 [==============================] - 4s 29ms/step - loss: 0.8099 - accuracy: 0.7136 - val_loss: 1.0034 - val_accuracy: 0.6265\n",
            "Epoch 6/10\n",
            "133/133 [==============================] - 4s 28ms/step - loss: 0.7538 - accuracy: 0.7364 - val_loss: 1.0175 - val_accuracy: 0.6317\n",
            "Epoch 7/10\n",
            "133/133 [==============================] - 3s 23ms/step - loss: 0.7035 - accuracy: 0.7600 - val_loss: 1.0289 - val_accuracy: 0.6180\n",
            "Epoch 8/10\n",
            "133/133 [==============================] - 3s 26ms/step - loss: 0.6817 - accuracy: 0.7628 - val_loss: 1.0547 - val_accuracy: 0.6212\n",
            "Epoch 9/10\n",
            "133/133 [==============================] - 3s 21ms/step - loss: 0.6517 - accuracy: 0.7809 - val_loss: 1.0774 - val_accuracy: 0.6106\n",
            "Epoch 10/10\n",
            "133/133 [==============================] - 3s 23ms/step - loss: 0.6306 - accuracy: 0.7849 - val_loss: 1.1463 - val_accuracy: 0.6053\n",
            "30/30 [==============================] - 0s 7ms/step - loss: 1.1463 - accuracy: 0.6053\n",
            "30/30 [==============================] - 1s 8ms/step\n",
            "Fold 5\n",
            "Model: \"sequential_5\"\n",
            "_________________________________________________________________\n",
            " Layer (type)                Output Shape              Param #   \n",
            "=================================================================\n",
            " text_vectorization_5 (TextV  (None, 200)              0         \n",
            " ectorization)                                                   \n",
            "                                                                 \n",
            " embedding_5 (Embedding)     (None, 200, 32)           64000     \n",
            "                                                                 \n",
            " spatial_dropout1d_5 (Spatia  (None, 200, 32)          0         \n",
            " lDropout1D)                                                     \n",
            "                                                                 \n",
            " bidirectional_5 (Bidirectio  (None, 128)              49664     \n",
            " nal)                                                            \n",
            "                                                                 \n",
            " dropout_5 (Dropout)         (None, 128)               0         \n",
            "                                                                 \n",
            " dense_5 (Dense)             (None, 5)                 645       \n",
            "                                                                 \n",
            "=================================================================\n",
            "Total params: 114,309\n",
            "Trainable params: 114,309\n",
            "Non-trainable params: 0\n",
            "_________________________________________________________________\n",
            "None\n",
            "Epoch 1/10\n",
            "133/133 [==============================] - 20s 121ms/step - loss: 1.5366 - accuracy: 0.3837 - val_loss: 1.2926 - val_accuracy: 0.5233\n",
            "Epoch 2/10\n",
            "133/133 [==============================] - 6s 47ms/step - loss: 1.1719 - accuracy: 0.5684 - val_loss: 1.1343 - val_accuracy: 0.6006\n",
            "Epoch 3/10\n",
            "133/133 [==============================] - 5s 38ms/step - loss: 1.0737 - accuracy: 0.5976 - val_loss: 1.0777 - val_accuracy: 0.6049\n",
            "Epoch 4/10\n",
            "133/133 [==============================] - 4s 31ms/step - loss: 0.9848 - accuracy: 0.6338 - val_loss: 1.0316 - val_accuracy: 0.6314\n",
            "Epoch 5/10\n",
            "133/133 [==============================] - 4s 29ms/step - loss: 0.9093 - accuracy: 0.6677 - val_loss: 1.0090 - val_accuracy: 0.6388\n",
            "Epoch 6/10\n",
            "133/133 [==============================] - 3s 24ms/step - loss: 0.8453 - accuracy: 0.6964 - val_loss: 0.9989 - val_accuracy: 0.6547\n",
            "Epoch 7/10\n",
            "133/133 [==============================] - 4s 34ms/step - loss: 0.7868 - accuracy: 0.7285 - val_loss: 1.0014 - val_accuracy: 0.6568\n",
            "Epoch 8/10\n",
            "133/133 [==============================] - 3s 25ms/step - loss: 0.7790 - accuracy: 0.7291 - val_loss: 1.0181 - val_accuracy: 0.6589\n",
            "Epoch 9/10\n",
            "133/133 [==============================] - 3s 22ms/step - loss: 0.7194 - accuracy: 0.7534 - val_loss: 1.0172 - val_accuracy: 0.6525\n",
            "Epoch 10/10\n",
            "133/133 [==============================] - 3s 21ms/step - loss: 0.6807 - accuracy: 0.7683 - val_loss: 1.0303 - val_accuracy: 0.6600\n",
            "30/30 [==============================] - 0s 13ms/step - loss: 1.0303 - accuracy: 0.6600\n",
            "30/30 [==============================] - 1s 8ms/step\n",
            "Fold 6\n",
            "Model: \"sequential_6\"\n",
            "_________________________________________________________________\n",
            " Layer (type)                Output Shape              Param #   \n",
            "=================================================================\n",
            " text_vectorization_6 (TextV  (None, 200)              0         \n",
            " ectorization)                                                   \n",
            "                                                                 \n",
            " embedding_6 (Embedding)     (None, 200, 32)           64000     \n",
            "                                                                 \n",
            " spatial_dropout1d_6 (Spatia  (None, 200, 32)          0         \n",
            " lDropout1D)                                                     \n",
            "                                                                 \n",
            " bidirectional_6 (Bidirectio  (None, 128)              49664     \n",
            " nal)                                                            \n",
            "                                                                 \n",
            " dropout_6 (Dropout)         (None, 128)               0         \n",
            "                                                                 \n",
            " dense_6 (Dense)             (None, 5)                 645       \n",
            "                                                                 \n",
            "=================================================================\n",
            "Total params: 114,309\n",
            "Trainable params: 114,309\n",
            "Non-trainable params: 0\n",
            "_________________________________________________________________\n",
            "None\n",
            "Epoch 1/10\n",
            "133/133 [==============================] - 21s 126ms/step - loss: 1.5340 - accuracy: 0.3772 - val_loss: 1.2662 - val_accuracy: 0.5530\n",
            "Epoch 2/10\n",
            "133/133 [==============================] - 8s 62ms/step - loss: 1.1768 - accuracy: 0.5668 - val_loss: 1.1104 - val_accuracy: 0.5742\n",
            "Epoch 3/10\n",
            "133/133 [==============================] - 5s 37ms/step - loss: 1.0334 - accuracy: 0.6136 - val_loss: 1.0336 - val_accuracy: 0.6155\n",
            "Epoch 4/10\n",
            "133/133 [==============================] - 4s 28ms/step - loss: 0.9287 - accuracy: 0.6649 - val_loss: 1.0119 - val_accuracy: 0.6218\n",
            "Epoch 5/10\n",
            "133/133 [==============================] - 3s 25ms/step - loss: 0.8556 - accuracy: 0.6867 - val_loss: 0.9868 - val_accuracy: 0.6388\n",
            "Epoch 6/10\n",
            "133/133 [==============================] - 3s 26ms/step - loss: 0.7817 - accuracy: 0.7279 - val_loss: 0.9972 - val_accuracy: 0.6409\n",
            "Epoch 7/10\n",
            "133/133 [==============================] - 3s 25ms/step - loss: 0.7440 - accuracy: 0.7384 - val_loss: 0.9872 - val_accuracy: 0.6483\n",
            "Epoch 8/10\n",
            "133/133 [==============================] - 3s 19ms/step - loss: 0.7246 - accuracy: 0.7443 - val_loss: 1.0463 - val_accuracy: 0.6218\n",
            "Epoch 9/10\n",
            "133/133 [==============================] - 3s 23ms/step - loss: 0.6914 - accuracy: 0.7618 - val_loss: 1.0200 - val_accuracy: 0.6515\n",
            "Epoch 10/10\n",
            "133/133 [==============================] - 4s 27ms/step - loss: 0.6620 - accuracy: 0.7721 - val_loss: 1.0502 - val_accuracy: 0.6398\n",
            "30/30 [==============================] - 0s 12ms/step - loss: 1.0502 - accuracy: 0.6398\n",
            "30/30 [==============================] - 1s 7ms/step\n",
            "Fold 7\n",
            "Model: \"sequential_7\"\n",
            "_________________________________________________________________\n",
            " Layer (type)                Output Shape              Param #   \n",
            "=================================================================\n",
            " text_vectorization_7 (TextV  (None, 200)              0         \n",
            " ectorization)                                                   \n",
            "                                                                 \n",
            " embedding_7 (Embedding)     (None, 200, 32)           64000     \n",
            "                                                                 \n",
            " spatial_dropout1d_7 (Spatia  (None, 200, 32)          0         \n",
            " lDropout1D)                                                     \n",
            "                                                                 \n",
            " bidirectional_7 (Bidirectio  (None, 128)              49664     \n",
            " nal)                                                            \n",
            "                                                                 \n",
            " dropout_7 (Dropout)         (None, 128)               0         \n",
            "                                                                 \n",
            " dense_7 (Dense)             (None, 5)                 645       \n",
            "                                                                 \n",
            "=================================================================\n",
            "Total params: 114,309\n",
            "Trainable params: 114,309\n",
            "Non-trainable params: 0\n",
            "_________________________________________________________________\n",
            "None\n",
            "Epoch 1/10\n",
            "133/133 [==============================] - 17s 99ms/step - loss: 1.5328 - accuracy: 0.3764 - val_loss: 1.2109 - val_accuracy: 0.5900\n",
            "Epoch 2/10\n",
            "133/133 [==============================] - 8s 60ms/step - loss: 1.1306 - accuracy: 0.5751 - val_loss: 1.1201 - val_accuracy: 0.5975\n",
            "Epoch 3/10\n",
            "133/133 [==============================] - 4s 31ms/step - loss: 0.9856 - accuracy: 0.6397 - val_loss: 1.0346 - val_accuracy: 0.6208\n",
            "Epoch 4/10\n",
            "133/133 [==============================] - 4s 31ms/step - loss: 0.9060 - accuracy: 0.6667 - val_loss: 1.0216 - val_accuracy: 0.6186\n",
            "Epoch 5/10\n",
            "133/133 [==============================] - 3s 21ms/step - loss: 0.8363 - accuracy: 0.6996 - val_loss: 1.0157 - val_accuracy: 0.6186\n",
            "Epoch 6/10\n",
            "133/133 [==============================] - 3s 24ms/step - loss: 0.8052 - accuracy: 0.7139 - val_loss: 1.0378 - val_accuracy: 0.6155\n",
            "Epoch 7/10\n",
            "133/133 [==============================] - 3s 24ms/step - loss: 0.7443 - accuracy: 0.7416 - val_loss: 1.0685 - val_accuracy: 0.6123\n",
            "Epoch 8/10\n",
            "133/133 [==============================] - 2s 18ms/step - loss: 0.7133 - accuracy: 0.7560 - val_loss: 1.0781 - val_accuracy: 0.6070\n",
            "Epoch 9/10\n",
            "133/133 [==============================] - 3s 19ms/step - loss: 0.6935 - accuracy: 0.7658 - val_loss: 1.0804 - val_accuracy: 0.6165\n",
            "Epoch 10/10\n",
            "133/133 [==============================] - 3s 23ms/step - loss: 0.6535 - accuracy: 0.7826 - val_loss: 1.1655 - val_accuracy: 0.5816\n",
            "30/30 [==============================] - 0s 7ms/step - loss: 1.1655 - accuracy: 0.5816\n",
            "30/30 [==============================] - 1s 6ms/step\n",
            "Fold 8\n",
            "Model: \"sequential_8\"\n",
            "_________________________________________________________________\n",
            " Layer (type)                Output Shape              Param #   \n",
            "=================================================================\n",
            " text_vectorization_8 (TextV  (None, 200)              0         \n",
            " ectorization)                                                   \n",
            "                                                                 \n",
            " embedding_8 (Embedding)     (None, 200, 32)           64000     \n",
            "                                                                 \n",
            " spatial_dropout1d_8 (Spatia  (None, 200, 32)          0         \n",
            " lDropout1D)                                                     \n",
            "                                                                 \n",
            " bidirectional_8 (Bidirectio  (None, 128)              49664     \n",
            " nal)                                                            \n",
            "                                                                 \n",
            " dropout_8 (Dropout)         (None, 128)               0         \n",
            "                                                                 \n",
            " dense_8 (Dense)             (None, 5)                 645       \n",
            "                                                                 \n",
            "=================================================================\n",
            "Total params: 114,309\n",
            "Trainable params: 114,309\n",
            "Non-trainable params: 0\n",
            "_________________________________________________________________\n",
            "None\n",
            "Epoch 1/10\n",
            "133/133 [==============================] - 18s 112ms/step - loss: 1.4939 - accuracy: 0.4061 - val_loss: 1.2161 - val_accuracy: 0.5498\n",
            "Epoch 2/10\n",
            "133/133 [==============================] - 6s 47ms/step - loss: 1.1344 - accuracy: 0.5709 - val_loss: 1.0970 - val_accuracy: 0.5858\n",
            "Epoch 3/10\n",
            "133/133 [==============================] - 5s 35ms/step - loss: 1.0173 - accuracy: 0.6215 - val_loss: 1.0595 - val_accuracy: 0.5879\n",
            "Epoch 4/10\n",
            "133/133 [==============================] - 2s 19ms/step - loss: 0.9402 - accuracy: 0.6540 - val_loss: 1.0504 - val_accuracy: 0.6133\n",
            "Epoch 5/10\n",
            "133/133 [==============================] - 3s 22ms/step - loss: 0.8662 - accuracy: 0.6920 - val_loss: 1.0308 - val_accuracy: 0.6186\n",
            "Epoch 6/10\n",
            "133/133 [==============================] - 3s 22ms/step - loss: 0.8066 - accuracy: 0.7174 - val_loss: 1.0031 - val_accuracy: 0.6345\n",
            "Epoch 7/10\n",
            "133/133 [==============================] - 3s 24ms/step - loss: 0.7547 - accuracy: 0.7383 - val_loss: 1.0111 - val_accuracy: 0.6335\n",
            "Epoch 8/10\n",
            "133/133 [==============================] - 3s 22ms/step - loss: 0.7156 - accuracy: 0.7534 - val_loss: 1.0218 - val_accuracy: 0.6282\n",
            "Epoch 9/10\n",
            "133/133 [==============================] - 3s 20ms/step - loss: 0.6911 - accuracy: 0.7646 - val_loss: 1.0495 - val_accuracy: 0.6261\n",
            "Epoch 10/10\n",
            "133/133 [==============================] - 2s 17ms/step - loss: 0.6611 - accuracy: 0.7758 - val_loss: 1.0832 - val_accuracy: 0.6314\n",
            "30/30 [==============================] - 0s 7ms/step - loss: 1.0832 - accuracy: 0.6314\n",
            "30/30 [==============================] - 1s 8ms/step\n",
            "Fold 9\n",
            "Model: \"sequential_9\"\n",
            "_________________________________________________________________\n",
            " Layer (type)                Output Shape              Param #   \n",
            "=================================================================\n",
            " text_vectorization_9 (TextV  (None, 200)              0         \n",
            " ectorization)                                                   \n",
            "                                                                 \n",
            " embedding_9 (Embedding)     (None, 200, 32)           64000     \n",
            "                                                                 \n",
            " spatial_dropout1d_9 (Spatia  (None, 200, 32)          0         \n",
            " lDropout1D)                                                     \n",
            "                                                                 \n",
            " bidirectional_9 (Bidirectio  (None, 128)              49664     \n",
            " nal)                                                            \n",
            "                                                                 \n",
            " dropout_9 (Dropout)         (None, 128)               0         \n",
            "                                                                 \n",
            " dense_9 (Dense)             (None, 5)                 645       \n",
            "                                                                 \n",
            "=================================================================\n",
            "Total params: 114,309\n",
            "Trainable params: 114,309\n",
            "Non-trainable params: 0\n",
            "_________________________________________________________________\n",
            "None\n",
            "Epoch 1/10\n",
            "133/133 [==============================] - 18s 110ms/step - loss: 1.4722 - accuracy: 0.4185 - val_loss: 1.1752 - val_accuracy: 0.5826\n",
            "Epoch 2/10\n",
            "133/133 [==============================] - 6s 48ms/step - loss: 1.1515 - accuracy: 0.5671 - val_loss: 1.1297 - val_accuracy: 0.5508\n",
            "Epoch 3/10\n",
            "133/133 [==============================] - 4s 33ms/step - loss: 1.0576 - accuracy: 0.5977 - val_loss: 1.0392 - val_accuracy: 0.6239\n",
            "Epoch 4/10\n",
            "133/133 [==============================] - 3s 24ms/step - loss: 0.9646 - accuracy: 0.6456 - val_loss: 1.0078 - val_accuracy: 0.6345\n",
            "Epoch 5/10\n",
            "133/133 [==============================] - 3s 22ms/step - loss: 0.9155 - accuracy: 0.6700 - val_loss: 1.0106 - val_accuracy: 0.6430\n",
            "Epoch 6/10\n",
            "133/133 [==============================] - 3s 23ms/step - loss: 0.8535 - accuracy: 0.6984 - val_loss: 0.9685 - val_accuracy: 0.6515\n",
            "Epoch 7/10\n",
            "133/133 [==============================] - 3s 23ms/step - loss: 0.7996 - accuracy: 0.7207 - val_loss: 0.9610 - val_accuracy: 0.6568\n",
            "Epoch 8/10\n",
            "133/133 [==============================] - 3s 21ms/step - loss: 0.7530 - accuracy: 0.7360 - val_loss: 0.9582 - val_accuracy: 0.6684\n",
            "Epoch 9/10\n",
            "133/133 [==============================] - 2s 18ms/step - loss: 0.7042 - accuracy: 0.7538 - val_loss: 0.9251 - val_accuracy: 0.6811\n",
            "Epoch 10/10\n",
            "133/133 [==============================] - 3s 20ms/step - loss: 0.6632 - accuracy: 0.7737 - val_loss: 0.9420 - val_accuracy: 0.6674\n",
            "30/30 [==============================] - 0s 12ms/step - loss: 0.9420 - accuracy: 0.6674\n",
            "30/30 [==============================] - 1s 7ms/step\n"
          ]
        }
      ]
    },
    {
      "cell_type": "code",
      "source": [
        "cv_results"
      ],
      "metadata": {
        "colab": {
          "base_uri": "https://localhost:8080/",
          "height": 363
        },
        "id": "5P3MnBynJ3wZ",
        "outputId": "5595b22d-fada-4c92-c44a-25c81f8ec932"
      },
      "execution_count": null,
      "outputs": [
        {
          "output_type": "execute_result",
          "data": {
            "text/plain": [
              "     Recall Precision  F1 score  F2 score\n",
              "0  0.567281  0.571384  0.553093  0.558792\n",
              "1  0.589565  0.636822  0.596162   0.58834\n",
              "2  0.606554  0.637186  0.607342  0.603683\n",
              "3  0.536894  0.586382  0.528314  0.526405\n",
              "4  0.558624  0.604994  0.564596  0.558106\n",
              "5  0.601399  0.636071  0.605205  0.599212\n",
              "6  0.584739  0.617292  0.587885  0.582763\n",
              "7  0.557202   0.55745  0.549368   0.55179\n",
              "8  0.586115   0.60718  0.586366  0.583808\n",
              "9  0.624608  0.648139  0.621181  0.619411"
            ],
            "text/html": [
              "\n",
              "  <div id=\"df-d72b80f8-3769-4c91-a920-3295decec105\">\n",
              "    <div class=\"colab-df-container\">\n",
              "      <div>\n",
              "<style scoped>\n",
              "    .dataframe tbody tr th:only-of-type {\n",
              "        vertical-align: middle;\n",
              "    }\n",
              "\n",
              "    .dataframe tbody tr th {\n",
              "        vertical-align: top;\n",
              "    }\n",
              "\n",
              "    .dataframe thead th {\n",
              "        text-align: right;\n",
              "    }\n",
              "</style>\n",
              "<table border=\"1\" class=\"dataframe\">\n",
              "  <thead>\n",
              "    <tr style=\"text-align: right;\">\n",
              "      <th></th>\n",
              "      <th>Recall</th>\n",
              "      <th>Precision</th>\n",
              "      <th>F1 score</th>\n",
              "      <th>F2 score</th>\n",
              "    </tr>\n",
              "  </thead>\n",
              "  <tbody>\n",
              "    <tr>\n",
              "      <th>0</th>\n",
              "      <td>0.567281</td>\n",
              "      <td>0.571384</td>\n",
              "      <td>0.553093</td>\n",
              "      <td>0.558792</td>\n",
              "    </tr>\n",
              "    <tr>\n",
              "      <th>1</th>\n",
              "      <td>0.589565</td>\n",
              "      <td>0.636822</td>\n",
              "      <td>0.596162</td>\n",
              "      <td>0.58834</td>\n",
              "    </tr>\n",
              "    <tr>\n",
              "      <th>2</th>\n",
              "      <td>0.606554</td>\n",
              "      <td>0.637186</td>\n",
              "      <td>0.607342</td>\n",
              "      <td>0.603683</td>\n",
              "    </tr>\n",
              "    <tr>\n",
              "      <th>3</th>\n",
              "      <td>0.536894</td>\n",
              "      <td>0.586382</td>\n",
              "      <td>0.528314</td>\n",
              "      <td>0.526405</td>\n",
              "    </tr>\n",
              "    <tr>\n",
              "      <th>4</th>\n",
              "      <td>0.558624</td>\n",
              "      <td>0.604994</td>\n",
              "      <td>0.564596</td>\n",
              "      <td>0.558106</td>\n",
              "    </tr>\n",
              "    <tr>\n",
              "      <th>5</th>\n",
              "      <td>0.601399</td>\n",
              "      <td>0.636071</td>\n",
              "      <td>0.605205</td>\n",
              "      <td>0.599212</td>\n",
              "    </tr>\n",
              "    <tr>\n",
              "      <th>6</th>\n",
              "      <td>0.584739</td>\n",
              "      <td>0.617292</td>\n",
              "      <td>0.587885</td>\n",
              "      <td>0.582763</td>\n",
              "    </tr>\n",
              "    <tr>\n",
              "      <th>7</th>\n",
              "      <td>0.557202</td>\n",
              "      <td>0.55745</td>\n",
              "      <td>0.549368</td>\n",
              "      <td>0.55179</td>\n",
              "    </tr>\n",
              "    <tr>\n",
              "      <th>8</th>\n",
              "      <td>0.586115</td>\n",
              "      <td>0.60718</td>\n",
              "      <td>0.586366</td>\n",
              "      <td>0.583808</td>\n",
              "    </tr>\n",
              "    <tr>\n",
              "      <th>9</th>\n",
              "      <td>0.624608</td>\n",
              "      <td>0.648139</td>\n",
              "      <td>0.621181</td>\n",
              "      <td>0.619411</td>\n",
              "    </tr>\n",
              "  </tbody>\n",
              "</table>\n",
              "</div>\n",
              "      <button class=\"colab-df-convert\" onclick=\"convertToInteractive('df-d72b80f8-3769-4c91-a920-3295decec105')\"\n",
              "              title=\"Convert this dataframe to an interactive table.\"\n",
              "              style=\"display:none;\">\n",
              "        \n",
              "  <svg xmlns=\"http://www.w3.org/2000/svg\" height=\"24px\"viewBox=\"0 0 24 24\"\n",
              "       width=\"24px\">\n",
              "    <path d=\"M0 0h24v24H0V0z\" fill=\"none\"/>\n",
              "    <path d=\"M18.56 5.44l.94 2.06.94-2.06 2.06-.94-2.06-.94-.94-2.06-.94 2.06-2.06.94zm-11 1L8.5 8.5l.94-2.06 2.06-.94-2.06-.94L8.5 2.5l-.94 2.06-2.06.94zm10 10l.94 2.06.94-2.06 2.06-.94-2.06-.94-.94-2.06-.94 2.06-2.06.94z\"/><path d=\"M17.41 7.96l-1.37-1.37c-.4-.4-.92-.59-1.43-.59-.52 0-1.04.2-1.43.59L10.3 9.45l-7.72 7.72c-.78.78-.78 2.05 0 2.83L4 21.41c.39.39.9.59 1.41.59.51 0 1.02-.2 1.41-.59l7.78-7.78 2.81-2.81c.8-.78.8-2.07 0-2.86zM5.41 20L4 18.59l7.72-7.72 1.47 1.35L5.41 20z\"/>\n",
              "  </svg>\n",
              "      </button>\n",
              "      \n",
              "  <style>\n",
              "    .colab-df-container {\n",
              "      display:flex;\n",
              "      flex-wrap:wrap;\n",
              "      gap: 12px;\n",
              "    }\n",
              "\n",
              "    .colab-df-convert {\n",
              "      background-color: #E8F0FE;\n",
              "      border: none;\n",
              "      border-radius: 50%;\n",
              "      cursor: pointer;\n",
              "      display: none;\n",
              "      fill: #1967D2;\n",
              "      height: 32px;\n",
              "      padding: 0 0 0 0;\n",
              "      width: 32px;\n",
              "    }\n",
              "\n",
              "    .colab-df-convert:hover {\n",
              "      background-color: #E2EBFA;\n",
              "      box-shadow: 0px 1px 2px rgba(60, 64, 67, 0.3), 0px 1px 3px 1px rgba(60, 64, 67, 0.15);\n",
              "      fill: #174EA6;\n",
              "    }\n",
              "\n",
              "    [theme=dark] .colab-df-convert {\n",
              "      background-color: #3B4455;\n",
              "      fill: #D2E3FC;\n",
              "    }\n",
              "\n",
              "    [theme=dark] .colab-df-convert:hover {\n",
              "      background-color: #434B5C;\n",
              "      box-shadow: 0px 1px 3px 1px rgba(0, 0, 0, 0.15);\n",
              "      filter: drop-shadow(0px 1px 2px rgba(0, 0, 0, 0.3));\n",
              "      fill: #FFFFFF;\n",
              "    }\n",
              "  </style>\n",
              "\n",
              "      <script>\n",
              "        const buttonEl =\n",
              "          document.querySelector('#df-d72b80f8-3769-4c91-a920-3295decec105 button.colab-df-convert');\n",
              "        buttonEl.style.display =\n",
              "          google.colab.kernel.accessAllowed ? 'block' : 'none';\n",
              "\n",
              "        async function convertToInteractive(key) {\n",
              "          const element = document.querySelector('#df-d72b80f8-3769-4c91-a920-3295decec105');\n",
              "          const dataTable =\n",
              "            await google.colab.kernel.invokeFunction('convertToInteractive',\n",
              "                                                     [key], {});\n",
              "          if (!dataTable) return;\n",
              "\n",
              "          const docLinkHtml = 'Like what you see? Visit the ' +\n",
              "            '<a target=\"_blank\" href=https://colab.research.google.com/notebooks/data_table.ipynb>data table notebook</a>'\n",
              "            + ' to learn more about interactive tables.';\n",
              "          element.innerHTML = '';\n",
              "          dataTable['output_type'] = 'display_data';\n",
              "          await google.colab.output.renderOutput(dataTable, element);\n",
              "          const docLink = document.createElement('div');\n",
              "          docLink.innerHTML = docLinkHtml;\n",
              "          element.appendChild(docLink);\n",
              "        }\n",
              "      </script>\n",
              "    </div>\n",
              "  </div>\n",
              "  "
            ]
          },
          "metadata": {},
          "execution_count": 23
        }
      ]
    },
    {
      "cell_type": "code",
      "source": [
        "cv_results.mean()"
      ],
      "metadata": {
        "colab": {
          "base_uri": "https://localhost:8080/"
        },
        "id": "R46n8DRNJ3_q",
        "outputId": "58d57cd6-0673-4544-c7e0-95c278394bfc"
      },
      "execution_count": null,
      "outputs": [
        {
          "output_type": "execute_result",
          "data": {
            "text/plain": [
              "Recall       0.581298\n",
              "Precision    0.610290\n",
              "F1 score     0.579951\n",
              "F2 score     0.577231\n",
              "dtype: float64"
            ]
          },
          "metadata": {},
          "execution_count": 24
        }
      ]
    },
    {
      "cell_type": "code",
      "execution_count": null,
      "metadata": {
        "id": "8hYuZj2muQb5"
      },
      "outputs": [],
      "source": [
        "def train_blstm(train_texts, train_labels, test_texts, test_labels):\n",
        "\n",
        "  blstm_model = create_blstm_model(train_texts)\n",
        "  \n",
        "  history = blstm_model.fit(train_texts,\n",
        "                            train_labels,\n",
        "                            epochs=10,\n",
        "                            batch_size=64,\n",
        "                            validation_data=(test_texts, test_labels))\n",
        "  \n",
        "  blstm_model.evaluate(test_texts, test_labels)\n",
        "  y_pred = np.round(blstm_model.predict(test_texts))\n",
        "\n",
        "  y_pred = np.argmax(y_pred, axis=1)\n",
        "\n",
        "  f1_sc = f1_score(test_labels, y_pred, average='macro')\n",
        "  f2score = fbeta_score(test_labels, y_pred, beta=2, average='macro')\n",
        "\n",
        "  print(\"Recall = {}\".format(recall_score(test_labels, y_pred, average='macro')))\n",
        "  print(\"Precision = {}\".format(precision_score(test_labels, y_pred, average='macro')))\n",
        "  print(\"F1 score = {}\".format(f1_sc))\n",
        "  print(\"F2 score = {}\".format(f2score))\n",
        "  print(classification_report(test_labels, y_pred))\n",
        "  \n",
        "  cm = confusion_matrix(test_labels, y_pred)\n",
        "\n",
        "  disp = ConfusionMatrixDisplay(confusion_matrix=cm, display_labels=[0,1,2,3,4])\n",
        "\n",
        "  disp.plot(cmap=plt.cm.Blues)\n",
        "  plt.show()\n",
        "\n",
        "  return f1_sc"
      ]
    },
    {
      "cell_type": "code",
      "execution_count": null,
      "metadata": {
        "id": "hjBIrov_ud5g"
      },
      "outputs": [],
      "source": [
        "X_train = train_data['text'].values"
      ]
    },
    {
      "cell_type": "code",
      "execution_count": null,
      "metadata": {
        "colab": {
          "base_uri": "https://localhost:8080/"
        },
        "id": "Hks1kqZZufor",
        "outputId": "497cc6aa-d25e-4b53-ea14-e50c60ba4ea6"
      },
      "outputs": [
        {
          "output_type": "execute_result",
          "data": {
            "text/plain": [
              "(9445,)"
            ]
          },
          "metadata": {},
          "execution_count": 28
        }
      ],
      "source": [
        "X_train.shape"
      ]
    },
    {
      "cell_type": "code",
      "execution_count": null,
      "metadata": {
        "id": "r9YSWNLMuhWq"
      },
      "outputs": [],
      "source": [
        "y_train = train_data['label'].values.reshape(-1, 1)"
      ]
    },
    {
      "cell_type": "code",
      "execution_count": null,
      "metadata": {
        "colab": {
          "base_uri": "https://localhost:8080/"
        },
        "id": "qD-mngDLuh2f",
        "outputId": "7850b5db-76b2-46fe-c00b-7b38eb4e0f80"
      },
      "outputs": [
        {
          "output_type": "execute_result",
          "data": {
            "text/plain": [
              "(9445, 1)"
            ]
          },
          "metadata": {},
          "execution_count": 30
        }
      ],
      "source": [
        "y_train.shape"
      ]
    },
    {
      "cell_type": "code",
      "execution_count": null,
      "metadata": {
        "id": "RJuEtpBVuhte"
      },
      "outputs": [],
      "source": [
        "X_test = test_data['text'].values.reshape(-1, 1)"
      ]
    },
    {
      "cell_type": "code",
      "execution_count": null,
      "metadata": {
        "colab": {
          "base_uri": "https://localhost:8080/"
        },
        "id": "A3uP1_rlfyqz",
        "outputId": "c91dd0aa-d412-44a5-9bf8-7b8a7dfde81c"
      },
      "outputs": [
        {
          "output_type": "execute_result",
          "data": {
            "text/plain": [
              "(2770, 1)"
            ]
          },
          "metadata": {},
          "execution_count": 24
        }
      ],
      "source": [
        "X_test.shape"
      ]
    },
    {
      "cell_type": "code",
      "execution_count": null,
      "metadata": {
        "id": "XCvujPqbulq_"
      },
      "outputs": [],
      "source": [
        "y_test = test_data['label'].values"
      ]
    },
    {
      "cell_type": "code",
      "execution_count": null,
      "metadata": {
        "colab": {
          "base_uri": "https://localhost:8080/",
          "height": 1000
        },
        "id": "rnbupjPWO0rm",
        "outputId": "f5d66490-0ee1-4d37-8fb5-13feae42cee3"
      },
      "outputs": [
        {
          "output_type": "stream",
          "name": "stdout",
          "text": [
            "Model: \"sequential\"\n",
            "_________________________________________________________________\n",
            " Layer (type)                Output Shape              Param #   \n",
            "=================================================================\n",
            " text_vectorization (TextVec  (None, 200)              0         \n",
            " torization)                                                     \n",
            "                                                                 \n",
            " embedding (Embedding)       (None, 200, 32)           64000     \n",
            "                                                                 \n",
            " spatial_dropout1d (SpatialD  (None, 200, 32)          0         \n",
            " ropout1D)                                                       \n",
            "                                                                 \n",
            " bidirectional (Bidirectiona  (None, 128)              49664     \n",
            " l)                                                              \n",
            "                                                                 \n",
            " dropout (Dropout)           (None, 128)               0         \n",
            "                                                                 \n",
            " dense (Dense)               (None, 5)                 645       \n",
            "                                                                 \n",
            "=================================================================\n",
            "Total params: 114,309\n",
            "Trainable params: 114,309\n",
            "Non-trainable params: 0\n",
            "_________________________________________________________________\n",
            "None\n",
            "Epoch 1/10\n",
            "148/148 [==============================] - 40s 246ms/step - loss: 1.4757 - accuracy: 0.4139 - val_loss: 1.2215 - val_accuracy: 0.5379\n",
            "Epoch 2/10\n",
            "148/148 [==============================] - 28s 188ms/step - loss: 1.1004 - accuracy: 0.5846 - val_loss: 1.1603 - val_accuracy: 0.5271\n",
            "Epoch 3/10\n",
            "148/148 [==============================] - 28s 192ms/step - loss: 0.9849 - accuracy: 0.6289 - val_loss: 1.1688 - val_accuracy: 0.5375\n",
            "Epoch 4/10\n",
            "148/148 [==============================] - 27s 182ms/step - loss: 0.8988 - accuracy: 0.6746 - val_loss: 1.1213 - val_accuracy: 0.5783\n",
            "Epoch 5/10\n",
            "148/148 [==============================] - 27s 185ms/step - loss: 0.8280 - accuracy: 0.7070 - val_loss: 1.1182 - val_accuracy: 0.5675\n",
            "Epoch 6/10\n",
            "148/148 [==============================] - 28s 190ms/step - loss: 0.7686 - accuracy: 0.7311 - val_loss: 1.1759 - val_accuracy: 0.5657\n",
            "Epoch 7/10\n",
            "148/148 [==============================] - 33s 226ms/step - loss: 0.7376 - accuracy: 0.7422 - val_loss: 1.2043 - val_accuracy: 0.5661\n",
            "Epoch 8/10\n",
            "148/148 [==============================] - 27s 184ms/step - loss: 0.6912 - accuracy: 0.7604 - val_loss: 1.2061 - val_accuracy: 0.5545\n",
            "Epoch 9/10\n",
            "148/148 [==============================] - 28s 190ms/step - loss: 0.6689 - accuracy: 0.7701 - val_loss: 1.2525 - val_accuracy: 0.5549\n",
            "Epoch 10/10\n",
            "148/148 [==============================] - 27s 185ms/step - loss: 0.6510 - accuracy: 0.7770 - val_loss: 1.2603 - val_accuracy: 0.5578\n",
            "87/87 [==============================] - 3s 31ms/step - loss: 1.2603 - accuracy: 0.5578\n",
            "87/87 [==============================] - 3s 30ms/step\n",
            "Recall = 0.5240715779042384\n",
            "Precision = 0.5352796403991447\n",
            "F1 score = 0.5162755292035026\n",
            "F2 score = 0.5178620511271652\n",
            "              precision    recall  f1-score   support\n",
            "\n",
            "           0       0.53      0.78      0.63       616\n",
            "           1       0.48      0.41      0.44       287\n",
            "           2       0.59      0.36      0.45       366\n",
            "           3       0.61      0.72      0.66       589\n",
            "           4       0.46      0.36      0.40       912\n",
            "\n",
            "    accuracy                           0.53      2770\n",
            "   macro avg       0.54      0.52      0.52      2770\n",
            "weighted avg       0.53      0.53      0.52      2770\n",
            "\n"
          ]
        },
        {
          "output_type": "display_data",
          "data": {
            "text/plain": [
              "<Figure size 640x480 with 2 Axes>"
            ],
            "image/png": "[encoded data removed]"
          },
          "metadata": {}
        },
        {
          "output_type": "execute_result",
          "data": {
            "text/plain": [
              "0.5162755292035026"
            ]
          },
          "metadata": {},
          "execution_count": 31
        }
      ],
      "source": [
        "train_blstm( X_train, y_train, X_test, y_test)"
      ]
    }
  ],
  "metadata": {
    "colab": {
      "machine_shape": "hm",
      "provenance": [],
      "gpuType": "T4"
    },
    "gpuClass": "premium",
    "kernelspec": {
      "display_name": "Python 3",
      "name": "python3"
    },
    "language_info": {
      "name": "python"
    },
    "accelerator": "GPU"
  },
  "nbformat": 4,
  "nbformat_minor": 0
}