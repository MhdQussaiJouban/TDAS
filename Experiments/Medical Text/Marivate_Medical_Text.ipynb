{
  "cells": [
    {
      "cell_type": "code",
      "execution_count": null,
      "metadata": {
        "id": "1fxQvigWg05-",
        "colab": {
          "base_uri": "https://localhost:8080/"
        },
        "outputId": "ae736978-f79f-4c82-ee34-5687564b85bb"
      },
      "outputs": [
        {
          "output_type": "stream",
          "name": "stderr",
          "text": [
            "[nltk_data] Downloading package stopwords to /root/nltk_data...\n",
            "[nltk_data]   Unzipping corpora/stopwords.zip.\n",
            "[nltk_data] Downloading package punkt to /root/nltk_data...\n",
            "[nltk_data]   Unzipping tokenizers/punkt.zip.\n",
            "[nltk_data] Downloading package averaged_perceptron_tagger to\n",
            "[nltk_data]     /root/nltk_data...\n",
            "[nltk_data]   Unzipping taggers/averaged_perceptron_tagger.zip.\n"
          ]
        },
        {
          "output_type": "stream",
          "name": "stdout",
          "text": [
            "Mounted at /content/gdrive\n"
          ]
        }
      ],
      "source": [
        "from datetime import datetime\n",
        "import numpy as np\n",
        "import pandas as pd\n",
        "from sklearn.preprocessing import LabelEncoder\n",
        "from sklearn.model_selection import train_test_split\n",
        "from sklearn.ensemble import RandomForestClassifier, ExtraTreesClassifier\n",
        "from sklearn.linear_model import SGDClassifier, LogisticRegression\n",
        "from sklearn.naive_bayes import GaussianNB\n",
        "from sklearn.neural_network import MLPClassifier\n",
        "from sklearn.svm import SVC\n",
        "from sklearn.neighbors import KNeighborsClassifier\n",
        "from sklearn.model_selection import GridSearchCV\n",
        "from sklearn.ensemble import StackingClassifier\n",
        "from sklearn.metrics import confusion_matrix\n",
        "from sklearn.metrics import ConfusionMatrixDisplay\n",
        "from sklearn.metrics import accuracy_score, recall_score, precision_score, f1_score, fbeta_score, classification_report\n",
        "from sklearn.metrics import make_scorer \n",
        "import matplotlib.pyplot as plt\n",
        "import gensim.downloader as api\n",
        "\n",
        "import nltk\n",
        "from nltk.tokenize import word_tokenize\n",
        "from nltk import pos_tag\n",
        "nltk.download('stopwords')\n",
        "nltk.download('punkt')\n",
        "nltk.download('averaged_perceptron_tagger')\n",
        "\n",
        "from google.colab import drive\n",
        "drive.mount('/content/gdrive')\n",
        "dir_name = \"/content/gdrive/MyDrive/Thesis/\""
      ]
    },
    {
      "cell_type": "code",
      "execution_count": null,
      "metadata": {
        "id": "U3XESbgnh173",
        "colab": {
          "base_uri": "https://localhost:8080/",
          "height": 424
        },
        "outputId": "4941d707-0bb5-4373-88a0-9ab403b6c66f"
      },
      "outputs": [
        {
          "output_type": "execute_result",
          "data": {
            "text/plain": [
              "       label                                               text\n",
              "0          4  Tissue changes around loose prostheses. A cani...\n",
              "1          0  Neuropeptide Y and neuron-specific enolase lev...\n",
              "2          1  Sexually transmitted diseases of the colon, re...\n",
              "3          0  Lipolytic factors associated with murine and h...\n",
              "4          2  Does carotid restenosis predict an increased r...\n",
              "...      ...                                                ...\n",
              "11545      0  Epirubicin at two dose levels with prednisolon...\n",
              "11546      0  Four and a half year follow up of women with d...\n",
              "11547      4  Safety of the transbronchial biopsy in outpati...\n",
              "11548      2  Interictal spikes and hippocampal somatostatin...\n",
              "11549      4  Recurrent thoracic outlet syndrome after first...\n",
              "\n",
              "[11550 rows x 2 columns]"
            ],
            "text/html": [
              "\n",
              "  <div id=\"df-8f3aba7b-4c96-44de-954e-b19185370c9c\">\n",
              "    <div class=\"colab-df-container\">\n",
              "      <div>\n",
              "<style scoped>\n",
              "    .dataframe tbody tr th:only-of-type {\n",
              "        vertical-align: middle;\n",
              "    }\n",
              "\n",
              "    .dataframe tbody tr th {\n",
              "        vertical-align: top;\n",
              "    }\n",
              "\n",
              "    .dataframe thead th {\n",
              "        text-align: right;\n",
              "    }\n",
              "</style>\n",
              "<table border=\"1\" class=\"dataframe\">\n",
              "  <thead>\n",
              "    <tr style=\"text-align: right;\">\n",
              "      <th></th>\n",
              "      <th>label</th>\n",
              "      <th>text</th>\n",
              "    </tr>\n",
              "  </thead>\n",
              "  <tbody>\n",
              "    <tr>\n",
              "      <th>0</th>\n",
              "      <td>4</td>\n",
              "      <td>Tissue changes around loose prostheses. A cani...</td>\n",
              "    </tr>\n",
              "    <tr>\n",
              "      <th>1</th>\n",
              "      <td>0</td>\n",
              "      <td>Neuropeptide Y and neuron-specific enolase lev...</td>\n",
              "    </tr>\n",
              "    <tr>\n",
              "      <th>2</th>\n",
              "      <td>1</td>\n",
              "      <td>Sexually transmitted diseases of the colon, re...</td>\n",
              "    </tr>\n",
              "    <tr>\n",
              "      <th>3</th>\n",
              "      <td>0</td>\n",
              "      <td>Lipolytic factors associated with murine and h...</td>\n",
              "    </tr>\n",
              "    <tr>\n",
              "      <th>4</th>\n",
              "      <td>2</td>\n",
              "      <td>Does carotid restenosis predict an increased r...</td>\n",
              "    </tr>\n",
              "    <tr>\n",
              "      <th>...</th>\n",
              "      <td>...</td>\n",
              "      <td>...</td>\n",
              "    </tr>\n",
              "    <tr>\n",
              "      <th>11545</th>\n",
              "      <td>0</td>\n",
              "      <td>Epirubicin at two dose levels with prednisolon...</td>\n",
              "    </tr>\n",
              "    <tr>\n",
              "      <th>11546</th>\n",
              "      <td>0</td>\n",
              "      <td>Four and a half year follow up of women with d...</td>\n",
              "    </tr>\n",
              "    <tr>\n",
              "      <th>11547</th>\n",
              "      <td>4</td>\n",
              "      <td>Safety of the transbronchial biopsy in outpati...</td>\n",
              "    </tr>\n",
              "    <tr>\n",
              "      <th>11548</th>\n",
              "      <td>2</td>\n",
              "      <td>Interictal spikes and hippocampal somatostatin...</td>\n",
              "    </tr>\n",
              "    <tr>\n",
              "      <th>11549</th>\n",
              "      <td>4</td>\n",
              "      <td>Recurrent thoracic outlet syndrome after first...</td>\n",
              "    </tr>\n",
              "  </tbody>\n",
              "</table>\n",
              "<p>11550 rows × 2 columns</p>\n",
              "</div>\n",
              "      <button class=\"colab-df-convert\" onclick=\"convertToInteractive('df-8f3aba7b-4c96-44de-954e-b19185370c9c')\"\n",
              "              title=\"Convert this dataframe to an interactive table.\"\n",
              "              style=\"display:none;\">\n",
              "        \n",
              "  <svg xmlns=\"http://www.w3.org/2000/svg\" height=\"24px\"viewBox=\"0 0 24 24\"\n",
              "       width=\"24px\">\n",
              "    <path d=\"M0 0h24v24H0V0z\" fill=\"none\"/>\n",
              "    <path d=\"M18.56 5.44l.94 2.06.94-2.06 2.06-.94-2.06-.94-.94-2.06-.94 2.06-2.06.94zm-11 1L8.5 8.5l.94-2.06 2.06-.94-2.06-.94L8.5 2.5l-.94 2.06-2.06.94zm10 10l.94 2.06.94-2.06 2.06-.94-2.06-.94-.94-2.06-.94 2.06-2.06.94z\"/><path d=\"M17.41 7.96l-1.37-1.37c-.4-.4-.92-.59-1.43-.59-.52 0-1.04.2-1.43.59L10.3 9.45l-7.72 7.72c-.78.78-.78 2.05 0 2.83L4 21.41c.39.39.9.59 1.41.59.51 0 1.02-.2 1.41-.59l7.78-7.78 2.81-2.81c.8-.78.8-2.07 0-2.86zM5.41 20L4 18.59l7.72-7.72 1.47 1.35L5.41 20z\"/>\n",
              "  </svg>\n",
              "      </button>\n",
              "      \n",
              "  <style>\n",
              "    .colab-df-container {\n",
              "      display:flex;\n",
              "      flex-wrap:wrap;\n",
              "      gap: 12px;\n",
              "    }\n",
              "\n",
              "    .colab-df-convert {\n",
              "      background-color: #E8F0FE;\n",
              "      border: none;\n",
              "      border-radius: 50%;\n",
              "      cursor: pointer;\n",
              "      display: none;\n",
              "      fill: #1967D2;\n",
              "      height: 32px;\n",
              "      padding: 0 0 0 0;\n",
              "      width: 32px;\n",
              "    }\n",
              "\n",
              "    .colab-df-convert:hover {\n",
              "      background-color: #E2EBFA;\n",
              "      box-shadow: 0px 1px 2px rgba(60, 64, 67, 0.3), 0px 1px 3px 1px rgba(60, 64, 67, 0.15);\n",
              "      fill: #174EA6;\n",
              "    }\n",
              "\n",
              "    [theme=dark] .colab-df-convert {\n",
              "      background-color: #3B4455;\n",
              "      fill: #D2E3FC;\n",
              "    }\n",
              "\n",
              "    [theme=dark] .colab-df-convert:hover {\n",
              "      background-color: #434B5C;\n",
              "      box-shadow: 0px 1px 3px 1px rgba(0, 0, 0, 0.15);\n",
              "      filter: drop-shadow(0px 1px 2px rgba(0, 0, 0, 0.3));\n",
              "      fill: #FFFFFF;\n",
              "    }\n",
              "  </style>\n",
              "\n",
              "      <script>\n",
              "        const buttonEl =\n",
              "          document.querySelector('#df-8f3aba7b-4c96-44de-954e-b19185370c9c button.colab-df-convert');\n",
              "        buttonEl.style.display =\n",
              "          google.colab.kernel.accessAllowed ? 'block' : 'none';\n",
              "\n",
              "        async function convertToInteractive(key) {\n",
              "          const element = document.querySelector('#df-8f3aba7b-4c96-44de-954e-b19185370c9c');\n",
              "          const dataTable =\n",
              "            await google.colab.kernel.invokeFunction('convertToInteractive',\n",
              "                                                     [key], {});\n",
              "          if (!dataTable) return;\n",
              "\n",
              "          const docLinkHtml = 'Like what you see? Visit the ' +\n",
              "            '<a target=\"_blank\" href=https://colab.research.google.com/notebooks/data_table.ipynb>data table notebook</a>'\n",
              "            + ' to learn more about interactive tables.';\n",
              "          element.innerHTML = '';\n",
              "          dataTable['output_type'] = 'display_data';\n",
              "          await google.colab.output.renderOutput(dataTable, element);\n",
              "          const docLink = document.createElement('div');\n",
              "          docLink.innerHTML = docLinkHtml;\n",
              "          element.appendChild(docLink);\n",
              "        }\n",
              "      </script>\n",
              "    </div>\n",
              "  </div>\n",
              "  "
            ]
          },
          "metadata": {},
          "execution_count": 2
        }
      ],
      "source": [
        "def get_raw_data(dir_name, file_name):\n",
        "    #  load data\n",
        "    data = pd.read_csv('{}{}.csv'.format(dir_name,file_name), encoding = 'latin-1', usecols=['medical_abstract', 'condition_label'])\n",
        "    data = data.rename(columns={'medical_abstract': 'text', 'condition_label': 'label'})\n",
        "    le = LabelEncoder()\n",
        "    data['label'] = le.fit_transform( data['label'])\n",
        "    return data\n",
        "\n",
        "raw_train_data = get_raw_data(dir_name + 'datasets/Medical_Abstracts/', 'train')\n",
        "raw_train_data"
      ]
    },
    {
      "cell_type": "code",
      "execution_count": null,
      "metadata": {
        "colab": {
          "base_uri": "https://localhost:8080/"
        },
        "id": "x4MEp29Jve-k",
        "outputId": "b5e037d1-ee69-4e8e-d28b-9bf298a717ee"
      },
      "outputs": [
        {
          "output_type": "execute_result",
          "data": {
            "text/plain": [
              "False"
            ]
          },
          "metadata": {},
          "execution_count": 3
        }
      ],
      "source": [
        "raw_train_data['text'].is_unique"
      ]
    },
    {
      "cell_type": "code",
      "execution_count": null,
      "metadata": {
        "id": "svz_EkDzvg-n",
        "colab": {
          "base_uri": "https://localhost:8080/"
        },
        "outputId": "9379dec6-1a96-4656-e3cb-8628bf69abff"
      },
      "outputs": [
        {
          "output_type": "execute_result",
          "data": {
            "text/plain": [
              "True"
            ]
          },
          "metadata": {},
          "execution_count": 4
        }
      ],
      "source": [
        "raw_train_data.drop_duplicates(subset=['text'], inplace=True)\n",
        "raw_train_data['text'].is_unique"
      ]
    },
    {
      "cell_type": "code",
      "execution_count": null,
      "metadata": {
        "colab": {
          "base_uri": "https://localhost:8080/",
          "height": 424
        },
        "id": "OplwPtWGvlYO",
        "outputId": "a2020083-8ccb-4aaf-e005-696bf82d49dd"
      },
      "outputs": [
        {
          "output_type": "execute_result",
          "data": {
            "text/plain": [
              "       label                                               text\n",
              "0          4  Tissue changes around loose prostheses. A cani...\n",
              "1          0  Neuropeptide Y and neuron-specific enolase lev...\n",
              "2          1  Sexually transmitted diseases of the colon, re...\n",
              "3          0  Lipolytic factors associated with murine and h...\n",
              "4          2  Does carotid restenosis predict an increased r...\n",
              "...      ...                                                ...\n",
              "11539      2  Familial eating epilepsy. Eating-related seizu...\n",
              "11543      3  Deep venous thrombosis in intravenous cocaine ...\n",
              "11546      0  Four and a half year follow up of women with d...\n",
              "11547      4  Safety of the transbronchial biopsy in outpati...\n",
              "11548      2  Interictal spikes and hippocampal somatostatin...\n",
              "\n",
              "[9445 rows x 2 columns]"
            ],
            "text/html": [
              "\n",
              "  <div id=\"df-a194e6e5-3e50-4251-af7b-b736d8ccd6e1\">\n",
              "    <div class=\"colab-df-container\">\n",
              "      <div>\n",
              "<style scoped>\n",
              "    .dataframe tbody tr th:only-of-type {\n",
              "        vertical-align: middle;\n",
              "    }\n",
              "\n",
              "    .dataframe tbody tr th {\n",
              "        vertical-align: top;\n",
              "    }\n",
              "\n",
              "    .dataframe thead th {\n",
              "        text-align: right;\n",
              "    }\n",
              "</style>\n",
              "<table border=\"1\" class=\"dataframe\">\n",
              "  <thead>\n",
              "    <tr style=\"text-align: right;\">\n",
              "      <th></th>\n",
              "      <th>label</th>\n",
              "      <th>text</th>\n",
              "    </tr>\n",
              "  </thead>\n",
              "  <tbody>\n",
              "    <tr>\n",
              "      <th>0</th>\n",
              "      <td>4</td>\n",
              "      <td>Tissue changes around loose prostheses. A cani...</td>\n",
              "    </tr>\n",
              "    <tr>\n",
              "      <th>1</th>\n",
              "      <td>0</td>\n",
              "      <td>Neuropeptide Y and neuron-specific enolase lev...</td>\n",
              "    </tr>\n",
              "    <tr>\n",
              "      <th>2</th>\n",
              "      <td>1</td>\n",
              "      <td>Sexually transmitted diseases of the colon, re...</td>\n",
              "    </tr>\n",
              "    <tr>\n",
              "      <th>3</th>\n",
              "      <td>0</td>\n",
              "      <td>Lipolytic factors associated with murine and h...</td>\n",
              "    </tr>\n",
              "    <tr>\n",
              "      <th>4</th>\n",
              "      <td>2</td>\n",
              "      <td>Does carotid restenosis predict an increased r...</td>\n",
              "    </tr>\n",
              "    <tr>\n",
              "      <th>...</th>\n",
              "      <td>...</td>\n",
              "      <td>...</td>\n",
              "    </tr>\n",
              "    <tr>\n",
              "      <th>11539</th>\n",
              "      <td>2</td>\n",
              "      <td>Familial eating epilepsy. Eating-related seizu...</td>\n",
              "    </tr>\n",
              "    <tr>\n",
              "      <th>11543</th>\n",
              "      <td>3</td>\n",
              "      <td>Deep venous thrombosis in intravenous cocaine ...</td>\n",
              "    </tr>\n",
              "    <tr>\n",
              "      <th>11546</th>\n",
              "      <td>0</td>\n",
              "      <td>Four and a half year follow up of women with d...</td>\n",
              "    </tr>\n",
              "    <tr>\n",
              "      <th>11547</th>\n",
              "      <td>4</td>\n",
              "      <td>Safety of the transbronchial biopsy in outpati...</td>\n",
              "    </tr>\n",
              "    <tr>\n",
              "      <th>11548</th>\n",
              "      <td>2</td>\n",
              "      <td>Interictal spikes and hippocampal somatostatin...</td>\n",
              "    </tr>\n",
              "  </tbody>\n",
              "</table>\n",
              "<p>9445 rows × 2 columns</p>\n",
              "</div>\n",
              "      <button class=\"colab-df-convert\" onclick=\"convertToInteractive('df-a194e6e5-3e50-4251-af7b-b736d8ccd6e1')\"\n",
              "              title=\"Convert this dataframe to an interactive table.\"\n",
              "              style=\"display:none;\">\n",
              "        \n",
              "  <svg xmlns=\"http://www.w3.org/2000/svg\" height=\"24px\"viewBox=\"0 0 24 24\"\n",
              "       width=\"24px\">\n",
              "    <path d=\"M0 0h24v24H0V0z\" fill=\"none\"/>\n",
              "    <path d=\"M18.56 5.44l.94 2.06.94-2.06 2.06-.94-2.06-.94-.94-2.06-.94 2.06-2.06.94zm-11 1L8.5 8.5l.94-2.06 2.06-.94-2.06-.94L8.5 2.5l-.94 2.06-2.06.94zm10 10l.94 2.06.94-2.06 2.06-.94-2.06-.94-.94-2.06-.94 2.06-2.06.94z\"/><path d=\"M17.41 7.96l-1.37-1.37c-.4-.4-.92-.59-1.43-.59-.52 0-1.04.2-1.43.59L10.3 9.45l-7.72 7.72c-.78.78-.78 2.05 0 2.83L4 21.41c.39.39.9.59 1.41.59.51 0 1.02-.2 1.41-.59l7.78-7.78 2.81-2.81c.8-.78.8-2.07 0-2.86zM5.41 20L4 18.59l7.72-7.72 1.47 1.35L5.41 20z\"/>\n",
              "  </svg>\n",
              "      </button>\n",
              "      \n",
              "  <style>\n",
              "    .colab-df-container {\n",
              "      display:flex;\n",
              "      flex-wrap:wrap;\n",
              "      gap: 12px;\n",
              "    }\n",
              "\n",
              "    .colab-df-convert {\n",
              "      background-color: #E8F0FE;\n",
              "      border: none;\n",
              "      border-radius: 50%;\n",
              "      cursor: pointer;\n",
              "      display: none;\n",
              "      fill: #1967D2;\n",
              "      height: 32px;\n",
              "      padding: 0 0 0 0;\n",
              "      width: 32px;\n",
              "    }\n",
              "\n",
              "    .colab-df-convert:hover {\n",
              "      background-color: #E2EBFA;\n",
              "      box-shadow: 0px 1px 2px rgba(60, 64, 67, 0.3), 0px 1px 3px 1px rgba(60, 64, 67, 0.15);\n",
              "      fill: #174EA6;\n",
              "    }\n",
              "\n",
              "    [theme=dark] .colab-df-convert {\n",
              "      background-color: #3B4455;\n",
              "      fill: #D2E3FC;\n",
              "    }\n",
              "\n",
              "    [theme=dark] .colab-df-convert:hover {\n",
              "      background-color: #434B5C;\n",
              "      box-shadow: 0px 1px 3px 1px rgba(0, 0, 0, 0.15);\n",
              "      filter: drop-shadow(0px 1px 2px rgba(0, 0, 0, 0.3));\n",
              "      fill: #FFFFFF;\n",
              "    }\n",
              "  </style>\n",
              "\n",
              "      <script>\n",
              "        const buttonEl =\n",
              "          document.querySelector('#df-a194e6e5-3e50-4251-af7b-b736d8ccd6e1 button.colab-df-convert');\n",
              "        buttonEl.style.display =\n",
              "          google.colab.kernel.accessAllowed ? 'block' : 'none';\n",
              "\n",
              "        async function convertToInteractive(key) {\n",
              "          const element = document.querySelector('#df-a194e6e5-3e50-4251-af7b-b736d8ccd6e1');\n",
              "          const dataTable =\n",
              "            await google.colab.kernel.invokeFunction('convertToInteractive',\n",
              "                                                     [key], {});\n",
              "          if (!dataTable) return;\n",
              "\n",
              "          const docLinkHtml = 'Like what you see? Visit the ' +\n",
              "            '<a target=\"_blank\" href=https://colab.research.google.com/notebooks/data_table.ipynb>data table notebook</a>'\n",
              "            + ' to learn more about interactive tables.';\n",
              "          element.innerHTML = '';\n",
              "          dataTable['output_type'] = 'display_data';\n",
              "          await google.colab.output.renderOutput(dataTable, element);\n",
              "          const docLink = document.createElement('div');\n",
              "          docLink.innerHTML = docLinkHtml;\n",
              "          element.appendChild(docLink);\n",
              "        }\n",
              "      </script>\n",
              "    </div>\n",
              "  </div>\n",
              "  "
            ]
          },
          "metadata": {},
          "execution_count": 5
        }
      ],
      "source": [
        "raw_train_data"
      ]
    },
    {
      "cell_type": "code",
      "execution_count": null,
      "metadata": {
        "id": "UEmV9bflwAKD",
        "colab": {
          "base_uri": "https://localhost:8080/",
          "height": 653
        },
        "outputId": "6c2697ce-846e-49c2-fbfa-2e00347c960b"
      },
      "outputs": [
        {
          "output_type": "display_data",
          "data": {
            "text/plain": [
              "<Figure size 800x800 with 1 Axes>"
            ],
            "image/png": "[encoded data removed]"
          },
          "metadata": {}
        }
      ],
      "source": [
        "def get_dataset_statistics(data):\n",
        "    dataset_statistics = {'Number of texts': [data['label'].value_counts()[0], data['label'].value_counts()[1], data['label'].value_counts()[2], data['label'].value_counts()[3], data['label'].value_counts()[4]]}\n",
        "    df = pd.DataFrame(dataset_statistics, index=['0', '1', '2', '3', '4'])\n",
        "    df.plot(kind='pie', y='Number of texts', figsize=(8, 8), fontsize=14,\n",
        "            autopct=lambda v: '{:.0f} ({:.1f}%)'.format(v / 100 * data['label'].count(), v))\n",
        "    \n",
        "# Raw data statistics\n",
        "get_dataset_statistics(raw_train_data)"
      ]
    },
    {
      "cell_type": "code",
      "source": [
        "raw_test_data = get_raw_data(dir_name + 'datasets/Medical_Abstracts/', 'test')\n",
        "raw_test_data"
      ],
      "metadata": {
        "colab": {
          "base_uri": "https://localhost:8080/",
          "height": 424
        },
        "id": "YPq8s7f9Qs8v",
        "outputId": "9fd9b82f-5eda-481b-d129-e5d195acfc2c"
      },
      "execution_count": null,
      "outputs": [
        {
          "output_type": "execute_result",
          "data": {
            "text/plain": [
              "      label                                               text\n",
              "0         2  Obstructive sleep apnea following topical orop...\n",
              "1         4  Neutrophil function and pyogenic infections in...\n",
              "2         4  A phase II study of combined methotrexate and ...\n",
              "3         0  Flow cytometric DNA analysis of parathyroid tu...\n",
              "4         3  Paraneoplastic vasculitic neuropathy: a treata...\n",
              "...     ...                                                ...\n",
              "2883      3  Management of aortobronchial fistula with graf...\n",
              "2884      4  Tuberculous psoas muscle abscess following che...\n",
              "2885      3  Clinical evaluation of high-frequency (ultraso...\n",
              "2886      0  Antitumor activity of liposome-encapsulated do...\n",
              "2887      3  An unusual venous anomaly of the placenta. The...\n",
              "\n",
              "[2888 rows x 2 columns]"
            ],
            "text/html": [
              "\n",
              "  <div id=\"df-82af19a1-dba7-42ae-80c1-316aeec9b7c6\">\n",
              "    <div class=\"colab-df-container\">\n",
              "      <div>\n",
              "<style scoped>\n",
              "    .dataframe tbody tr th:only-of-type {\n",
              "        vertical-align: middle;\n",
              "    }\n",
              "\n",
              "    .dataframe tbody tr th {\n",
              "        vertical-align: top;\n",
              "    }\n",
              "\n",
              "    .dataframe thead th {\n",
              "        text-align: right;\n",
              "    }\n",
              "</style>\n",
              "<table border=\"1\" class=\"dataframe\">\n",
              "  <thead>\n",
              "    <tr style=\"text-align: right;\">\n",
              "      <th></th>\n",
              "      <th>label</th>\n",
              "      <th>text</th>\n",
              "    </tr>\n",
              "  </thead>\n",
              "  <tbody>\n",
              "    <tr>\n",
              "      <th>0</th>\n",
              "      <td>2</td>\n",
              "      <td>Obstructive sleep apnea following topical orop...</td>\n",
              "    </tr>\n",
              "    <tr>\n",
              "      <th>1</th>\n",
              "      <td>4</td>\n",
              "      <td>Neutrophil function and pyogenic infections in...</td>\n",
              "    </tr>\n",
              "    <tr>\n",
              "      <th>2</th>\n",
              "      <td>4</td>\n",
              "      <td>A phase II study of combined methotrexate and ...</td>\n",
              "    </tr>\n",
              "    <tr>\n",
              "      <th>3</th>\n",
              "      <td>0</td>\n",
              "      <td>Flow cytometric DNA analysis of parathyroid tu...</td>\n",
              "    </tr>\n",
              "    <tr>\n",
              "      <th>4</th>\n",
              "      <td>3</td>\n",
              "      <td>Paraneoplastic vasculitic neuropathy: a treata...</td>\n",
              "    </tr>\n",
              "    <tr>\n",
              "      <th>...</th>\n",
              "      <td>...</td>\n",
              "      <td>...</td>\n",
              "    </tr>\n",
              "    <tr>\n",
              "      <th>2883</th>\n",
              "      <td>3</td>\n",
              "      <td>Management of aortobronchial fistula with graf...</td>\n",
              "    </tr>\n",
              "    <tr>\n",
              "      <th>2884</th>\n",
              "      <td>4</td>\n",
              "      <td>Tuberculous psoas muscle abscess following che...</td>\n",
              "    </tr>\n",
              "    <tr>\n",
              "      <th>2885</th>\n",
              "      <td>3</td>\n",
              "      <td>Clinical evaluation of high-frequency (ultraso...</td>\n",
              "    </tr>\n",
              "    <tr>\n",
              "      <th>2886</th>\n",
              "      <td>0</td>\n",
              "      <td>Antitumor activity of liposome-encapsulated do...</td>\n",
              "    </tr>\n",
              "    <tr>\n",
              "      <th>2887</th>\n",
              "      <td>3</td>\n",
              "      <td>An unusual venous anomaly of the placenta. The...</td>\n",
              "    </tr>\n",
              "  </tbody>\n",
              "</table>\n",
              "<p>2888 rows × 2 columns</p>\n",
              "</div>\n",
              "      <button class=\"colab-df-convert\" onclick=\"convertToInteractive('df-82af19a1-dba7-42ae-80c1-316aeec9b7c6')\"\n",
              "              title=\"Convert this dataframe to an interactive table.\"\n",
              "              style=\"display:none;\">\n",
              "        \n",
              "  <svg xmlns=\"http://www.w3.org/2000/svg\" height=\"24px\"viewBox=\"0 0 24 24\"\n",
              "       width=\"24px\">\n",
              "    <path d=\"M0 0h24v24H0V0z\" fill=\"none\"/>\n",
              "    <path d=\"M18.56 5.44l.94 2.06.94-2.06 2.06-.94-2.06-.94-.94-2.06-.94 2.06-2.06.94zm-11 1L8.5 8.5l.94-2.06 2.06-.94-2.06-.94L8.5 2.5l-.94 2.06-2.06.94zm10 10l.94 2.06.94-2.06 2.06-.94-2.06-.94-.94-2.06-.94 2.06-2.06.94z\"/><path d=\"M17.41 7.96l-1.37-1.37c-.4-.4-.92-.59-1.43-.59-.52 0-1.04.2-1.43.59L10.3 9.45l-7.72 7.72c-.78.78-.78 2.05 0 2.83L4 21.41c.39.39.9.59 1.41.59.51 0 1.02-.2 1.41-.59l7.78-7.78 2.81-2.81c.8-.78.8-2.07 0-2.86zM5.41 20L4 18.59l7.72-7.72 1.47 1.35L5.41 20z\"/>\n",
              "  </svg>\n",
              "      </button>\n",
              "      \n",
              "  <style>\n",
              "    .colab-df-container {\n",
              "      display:flex;\n",
              "      flex-wrap:wrap;\n",
              "      gap: 12px;\n",
              "    }\n",
              "\n",
              "    .colab-df-convert {\n",
              "      background-color: #E8F0FE;\n",
              "      border: none;\n",
              "      border-radius: 50%;\n",
              "      cursor: pointer;\n",
              "      display: none;\n",
              "      fill: #1967D2;\n",
              "      height: 32px;\n",
              "      padding: 0 0 0 0;\n",
              "      width: 32px;\n",
              "    }\n",
              "\n",
              "    .colab-df-convert:hover {\n",
              "      background-color: #E2EBFA;\n",
              "      box-shadow: 0px 1px 2px rgba(60, 64, 67, 0.3), 0px 1px 3px 1px rgba(60, 64, 67, 0.15);\n",
              "      fill: #174EA6;\n",
              "    }\n",
              "\n",
              "    [theme=dark] .colab-df-convert {\n",
              "      background-color: #3B4455;\n",
              "      fill: #D2E3FC;\n",
              "    }\n",
              "\n",
              "    [theme=dark] .colab-df-convert:hover {\n",
              "      background-color: #434B5C;\n",
              "      box-shadow: 0px 1px 3px 1px rgba(0, 0, 0, 0.15);\n",
              "      filter: drop-shadow(0px 1px 2px rgba(0, 0, 0, 0.3));\n",
              "      fill: #FFFFFF;\n",
              "    }\n",
              "  </style>\n",
              "\n",
              "      <script>\n",
              "        const buttonEl =\n",
              "          document.querySelector('#df-82af19a1-dba7-42ae-80c1-316aeec9b7c6 button.colab-df-convert');\n",
              "        buttonEl.style.display =\n",
              "          google.colab.kernel.accessAllowed ? 'block' : 'none';\n",
              "\n",
              "        async function convertToInteractive(key) {\n",
              "          const element = document.querySelector('#df-82af19a1-dba7-42ae-80c1-316aeec9b7c6');\n",
              "          const dataTable =\n",
              "            await google.colab.kernel.invokeFunction('convertToInteractive',\n",
              "                                                     [key], {});\n",
              "          if (!dataTable) return;\n",
              "\n",
              "          const docLinkHtml = 'Like what you see? Visit the ' +\n",
              "            '<a target=\"_blank\" href=https://colab.research.google.com/notebooks/data_table.ipynb>data table notebook</a>'\n",
              "            + ' to learn more about interactive tables.';\n",
              "          element.innerHTML = '';\n",
              "          dataTable['output_type'] = 'display_data';\n",
              "          await google.colab.output.renderOutput(dataTable, element);\n",
              "          const docLink = document.createElement('div');\n",
              "          docLink.innerHTML = docLinkHtml;\n",
              "          element.appendChild(docLink);\n",
              "        }\n",
              "      </script>\n",
              "    </div>\n",
              "  </div>\n",
              "  "
            ]
          },
          "metadata": {},
          "execution_count": 7
        }
      ]
    },
    {
      "cell_type": "code",
      "source": [
        "raw_test_data.drop_duplicates(subset=['text'], inplace=True)\n",
        "raw_test_data['text'].is_unique"
      ],
      "metadata": {
        "colab": {
          "base_uri": "https://localhost:8080/"
        },
        "id": "dHgIDUR1Qs5v",
        "outputId": "84ba3e31-729c-43d2-ed4c-df36b1c80572"
      },
      "execution_count": null,
      "outputs": [
        {
          "output_type": "execute_result",
          "data": {
            "text/plain": [
              "True"
            ]
          },
          "metadata": {},
          "execution_count": 8
        }
      ]
    },
    {
      "cell_type": "code",
      "source": [
        "raw_test_data['label'].value_counts()"
      ],
      "metadata": {
        "colab": {
          "base_uri": "https://localhost:8080/"
        },
        "id": "_L-THaFiQs3d",
        "outputId": "7da3dd98-f302-4e54-aa3d-1d6cd74566bc"
      },
      "execution_count": null,
      "outputs": [
        {
          "output_type": "execute_result",
          "data": {
            "text/plain": [
              "4    912\n",
              "0    616\n",
              "3    589\n",
              "2    366\n",
              "1    287\n",
              "Name: label, dtype: int64"
            ]
          },
          "metadata": {},
          "execution_count": 9
        }
      ]
    },
    {
      "cell_type": "markdown",
      "metadata": {
        "id": "rR-26BtzwlgO"
      },
      "source": [
        "# Text Preprocessing "
      ]
    },
    {
      "cell_type": "code",
      "execution_count": null,
      "metadata": {
        "id": "-YYZSlmdwk7N"
      },
      "outputs": [],
      "source": [
        "import requests\n",
        "stopwords_list = requests.get(\"https://github.com/stopwords-iso/stopwords-en/blob/master/stopwords-en.txt\").content\n",
        "stopwords = set(stopwords_list.decode().splitlines())"
      ]
    },
    {
      "cell_type": "code",
      "execution_count": null,
      "metadata": {
        "id": "pdivr-Q-woF-"
      },
      "outputs": [],
      "source": [
        "import string\n",
        "from nltk.corpus import stopwords\n",
        "from sklearn.feature_extraction.text import ENGLISH_STOP_WORDS\n",
        "sklearn_stopwords = ENGLISH_STOP_WORDS\n",
        "\n",
        "stop_words = set(stopwords.words('english'))\n",
        "stop_words.update(sklearn_stopwords)\n",
        "\n",
        "def text_preprocessing(raw_text):\n",
        "  text_words = raw_text.translate(str.maketrans('', '', string.punctuation))\n",
        "  msg_tokens = word_tokenize(text_words.lower())\n",
        "  filtered_text = [token for token in msg_tokens if not token in stop_words]\n",
        "  return \" \".join(filtered_text)"
      ]
    },
    {
      "cell_type": "code",
      "execution_count": null,
      "metadata": {
        "colab": {
          "base_uri": "https://localhost:8080/",
          "height": 424
        },
        "id": "r9f2EMT2wwxA",
        "outputId": "1695025d-a359-4609-a6e7-e12fd3dec6c3"
      },
      "outputs": [
        {
          "output_type": "execute_result",
          "data": {
            "text/plain": [
              "                                                    text  label\n",
              "0      tissue changes loose prostheses canine model i...      4\n",
              "1      neuropeptide neuronspecific enolase levels ben...      0\n",
              "2      sexually transmitted diseases colon rectum anu...      1\n",
              "3      lipolytic factors associated murine human canc...      0\n",
              "4      carotid restenosis predict increased risk late...      2\n",
              "...                                                  ...    ...\n",
              "11539  familial eating epilepsy eatingrelated seizure...      2\n",
              "11543  deep venous thrombosis intravenous cocaine abu...      3\n",
              "11546  half year follow women dyskaryotic cervical sm...      0\n",
              "11547  safety transbronchial biopsy outpatients objec...      4\n",
              "11548  interictal spikes hippocampal somatostatin lev...      2\n",
              "\n",
              "[9445 rows x 2 columns]"
            ],
            "text/html": [
              "\n",
              "  <div id=\"df-e941c793-8acc-441c-8bfc-0cd05e384583\">\n",
              "    <div class=\"colab-df-container\">\n",
              "      <div>\n",
              "<style scoped>\n",
              "    .dataframe tbody tr th:only-of-type {\n",
              "        vertical-align: middle;\n",
              "    }\n",
              "\n",
              "    .dataframe tbody tr th {\n",
              "        vertical-align: top;\n",
              "    }\n",
              "\n",
              "    .dataframe thead th {\n",
              "        text-align: right;\n",
              "    }\n",
              "</style>\n",
              "<table border=\"1\" class=\"dataframe\">\n",
              "  <thead>\n",
              "    <tr style=\"text-align: right;\">\n",
              "      <th></th>\n",
              "      <th>text</th>\n",
              "      <th>label</th>\n",
              "    </tr>\n",
              "  </thead>\n",
              "  <tbody>\n",
              "    <tr>\n",
              "      <th>0</th>\n",
              "      <td>tissue changes loose prostheses canine model i...</td>\n",
              "      <td>4</td>\n",
              "    </tr>\n",
              "    <tr>\n",
              "      <th>1</th>\n",
              "      <td>neuropeptide neuronspecific enolase levels ben...</td>\n",
              "      <td>0</td>\n",
              "    </tr>\n",
              "    <tr>\n",
              "      <th>2</th>\n",
              "      <td>sexually transmitted diseases colon rectum anu...</td>\n",
              "      <td>1</td>\n",
              "    </tr>\n",
              "    <tr>\n",
              "      <th>3</th>\n",
              "      <td>lipolytic factors associated murine human canc...</td>\n",
              "      <td>0</td>\n",
              "    </tr>\n",
              "    <tr>\n",
              "      <th>4</th>\n",
              "      <td>carotid restenosis predict increased risk late...</td>\n",
              "      <td>2</td>\n",
              "    </tr>\n",
              "    <tr>\n",
              "      <th>...</th>\n",
              "      <td>...</td>\n",
              "      <td>...</td>\n",
              "    </tr>\n",
              "    <tr>\n",
              "      <th>11539</th>\n",
              "      <td>familial eating epilepsy eatingrelated seizure...</td>\n",
              "      <td>2</td>\n",
              "    </tr>\n",
              "    <tr>\n",
              "      <th>11543</th>\n",
              "      <td>deep venous thrombosis intravenous cocaine abu...</td>\n",
              "      <td>3</td>\n",
              "    </tr>\n",
              "    <tr>\n",
              "      <th>11546</th>\n",
              "      <td>half year follow women dyskaryotic cervical sm...</td>\n",
              "      <td>0</td>\n",
              "    </tr>\n",
              "    <tr>\n",
              "      <th>11547</th>\n",
              "      <td>safety transbronchial biopsy outpatients objec...</td>\n",
              "      <td>4</td>\n",
              "    </tr>\n",
              "    <tr>\n",
              "      <th>11548</th>\n",
              "      <td>interictal spikes hippocampal somatostatin lev...</td>\n",
              "      <td>2</td>\n",
              "    </tr>\n",
              "  </tbody>\n",
              "</table>\n",
              "<p>9445 rows × 2 columns</p>\n",
              "</div>\n",
              "      <button class=\"colab-df-convert\" onclick=\"convertToInteractive('df-e941c793-8acc-441c-8bfc-0cd05e384583')\"\n",
              "              title=\"Convert this dataframe to an interactive table.\"\n",
              "              style=\"display:none;\">\n",
              "        \n",
              "  <svg xmlns=\"http://www.w3.org/2000/svg\" height=\"24px\"viewBox=\"0 0 24 24\"\n",
              "       width=\"24px\">\n",
              "    <path d=\"M0 0h24v24H0V0z\" fill=\"none\"/>\n",
              "    <path d=\"M18.56 5.44l.94 2.06.94-2.06 2.06-.94-2.06-.94-.94-2.06-.94 2.06-2.06.94zm-11 1L8.5 8.5l.94-2.06 2.06-.94-2.06-.94L8.5 2.5l-.94 2.06-2.06.94zm10 10l.94 2.06.94-2.06 2.06-.94-2.06-.94-.94-2.06-.94 2.06-2.06.94z\"/><path d=\"M17.41 7.96l-1.37-1.37c-.4-.4-.92-.59-1.43-.59-.52 0-1.04.2-1.43.59L10.3 9.45l-7.72 7.72c-.78.78-.78 2.05 0 2.83L4 21.41c.39.39.9.59 1.41.59.51 0 1.02-.2 1.41-.59l7.78-7.78 2.81-2.81c.8-.78.8-2.07 0-2.86zM5.41 20L4 18.59l7.72-7.72 1.47 1.35L5.41 20z\"/>\n",
              "  </svg>\n",
              "      </button>\n",
              "      \n",
              "  <style>\n",
              "    .colab-df-container {\n",
              "      display:flex;\n",
              "      flex-wrap:wrap;\n",
              "      gap: 12px;\n",
              "    }\n",
              "\n",
              "    .colab-df-convert {\n",
              "      background-color: #E8F0FE;\n",
              "      border: none;\n",
              "      border-radius: 50%;\n",
              "      cursor: pointer;\n",
              "      display: none;\n",
              "      fill: #1967D2;\n",
              "      height: 32px;\n",
              "      padding: 0 0 0 0;\n",
              "      width: 32px;\n",
              "    }\n",
              "\n",
              "    .colab-df-convert:hover {\n",
              "      background-color: #E2EBFA;\n",
              "      box-shadow: 0px 1px 2px rgba(60, 64, 67, 0.3), 0px 1px 3px 1px rgba(60, 64, 67, 0.15);\n",
              "      fill: #174EA6;\n",
              "    }\n",
              "\n",
              "    [theme=dark] .colab-df-convert {\n",
              "      background-color: #3B4455;\n",
              "      fill: #D2E3FC;\n",
              "    }\n",
              "\n",
              "    [theme=dark] .colab-df-convert:hover {\n",
              "      background-color: #434B5C;\n",
              "      box-shadow: 0px 1px 3px 1px rgba(0, 0, 0, 0.15);\n",
              "      filter: drop-shadow(0px 1px 2px rgba(0, 0, 0, 0.3));\n",
              "      fill: #FFFFFF;\n",
              "    }\n",
              "  </style>\n",
              "\n",
              "      <script>\n",
              "        const buttonEl =\n",
              "          document.querySelector('#df-e941c793-8acc-441c-8bfc-0cd05e384583 button.colab-df-convert');\n",
              "        buttonEl.style.display =\n",
              "          google.colab.kernel.accessAllowed ? 'block' : 'none';\n",
              "\n",
              "        async function convertToInteractive(key) {\n",
              "          const element = document.querySelector('#df-e941c793-8acc-441c-8bfc-0cd05e384583');\n",
              "          const dataTable =\n",
              "            await google.colab.kernel.invokeFunction('convertToInteractive',\n",
              "                                                     [key], {});\n",
              "          if (!dataTable) return;\n",
              "\n",
              "          const docLinkHtml = 'Like what you see? Visit the ' +\n",
              "            '<a target=\"_blank\" href=https://colab.research.google.com/notebooks/data_table.ipynb>data table notebook</a>'\n",
              "            + ' to learn more about interactive tables.';\n",
              "          element.innerHTML = '';\n",
              "          dataTable['output_type'] = 'display_data';\n",
              "          await google.colab.output.renderOutput(dataTable, element);\n",
              "          const docLink = document.createElement('div');\n",
              "          docLink.innerHTML = docLinkHtml;\n",
              "          element.appendChild(docLink);\n",
              "        }\n",
              "      </script>\n",
              "    </div>\n",
              "  </div>\n",
              "  "
            ]
          },
          "metadata": {},
          "execution_count": 12
        }
      ],
      "source": [
        "train_data = raw_train_data[['text', 'label']].copy()\n",
        "\n",
        "train_data['text'] = train_data['text'].apply(text_preprocessing)\n",
        "\n",
        "train_data.drop_duplicates(inplace=True)\n",
        "\n",
        "train_data"
      ]
    },
    {
      "cell_type": "code",
      "execution_count": null,
      "metadata": {
        "colab": {
          "base_uri": "https://localhost:8080/",
          "height": 424
        },
        "id": "y-8xk3Gd9kio",
        "outputId": "fc029ce5-f7e5-4f9d-e27c-c018161ef93c"
      },
      "outputs": [
        {
          "output_type": "execute_result",
          "data": {
            "text/plain": [
              "                                                   text  label\n",
              "0     obstructive sleep apnea following topical orop...      2\n",
              "1     neutrophil function pyogenic infections bone m...      4\n",
              "2     phase ii study combined methotrexate teniposid...      4\n",
              "3     flow cytometric dna analysis parathyroid tumor...      0\n",
              "4     paraneoplastic vasculitic neuropathy treatable...      3\n",
              "...                                                 ...    ...\n",
              "2883  management aortobronchial fistula graft replac...      3\n",
              "2884  tuberculous psoas muscle abscess following che...      4\n",
              "2885  clinical evaluation highfrequency ultrasonic m...      3\n",
              "2886  antitumor activity liposomeencapsulated doxoru...      0\n",
              "2887  unusual venous anomaly placenta authors presen...      3\n",
              "\n",
              "[2770 rows x 2 columns]"
            ],
            "text/html": [
              "\n",
              "  <div id=\"df-8a88353a-2896-48c2-82da-3dee58c23bbb\">\n",
              "    <div class=\"colab-df-container\">\n",
              "      <div>\n",
              "<style scoped>\n",
              "    .dataframe tbody tr th:only-of-type {\n",
              "        vertical-align: middle;\n",
              "    }\n",
              "\n",
              "    .dataframe tbody tr th {\n",
              "        vertical-align: top;\n",
              "    }\n",
              "\n",
              "    .dataframe thead th {\n",
              "        text-align: right;\n",
              "    }\n",
              "</style>\n",
              "<table border=\"1\" class=\"dataframe\">\n",
              "  <thead>\n",
              "    <tr style=\"text-align: right;\">\n",
              "      <th></th>\n",
              "      <th>text</th>\n",
              "      <th>label</th>\n",
              "    </tr>\n",
              "  </thead>\n",
              "  <tbody>\n",
              "    <tr>\n",
              "      <th>0</th>\n",
              "      <td>obstructive sleep apnea following topical orop...</td>\n",
              "      <td>2</td>\n",
              "    </tr>\n",
              "    <tr>\n",
              "      <th>1</th>\n",
              "      <td>neutrophil function pyogenic infections bone m...</td>\n",
              "      <td>4</td>\n",
              "    </tr>\n",
              "    <tr>\n",
              "      <th>2</th>\n",
              "      <td>phase ii study combined methotrexate teniposid...</td>\n",
              "      <td>4</td>\n",
              "    </tr>\n",
              "    <tr>\n",
              "      <th>3</th>\n",
              "      <td>flow cytometric dna analysis parathyroid tumor...</td>\n",
              "      <td>0</td>\n",
              "    </tr>\n",
              "    <tr>\n",
              "      <th>4</th>\n",
              "      <td>paraneoplastic vasculitic neuropathy treatable...</td>\n",
              "      <td>3</td>\n",
              "    </tr>\n",
              "    <tr>\n",
              "      <th>...</th>\n",
              "      <td>...</td>\n",
              "      <td>...</td>\n",
              "    </tr>\n",
              "    <tr>\n",
              "      <th>2883</th>\n",
              "      <td>management aortobronchial fistula graft replac...</td>\n",
              "      <td>3</td>\n",
              "    </tr>\n",
              "    <tr>\n",
              "      <th>2884</th>\n",
              "      <td>tuberculous psoas muscle abscess following che...</td>\n",
              "      <td>4</td>\n",
              "    </tr>\n",
              "    <tr>\n",
              "      <th>2885</th>\n",
              "      <td>clinical evaluation highfrequency ultrasonic m...</td>\n",
              "      <td>3</td>\n",
              "    </tr>\n",
              "    <tr>\n",
              "      <th>2886</th>\n",
              "      <td>antitumor activity liposomeencapsulated doxoru...</td>\n",
              "      <td>0</td>\n",
              "    </tr>\n",
              "    <tr>\n",
              "      <th>2887</th>\n",
              "      <td>unusual venous anomaly placenta authors presen...</td>\n",
              "      <td>3</td>\n",
              "    </tr>\n",
              "  </tbody>\n",
              "</table>\n",
              "<p>2770 rows × 2 columns</p>\n",
              "</div>\n",
              "      <button class=\"colab-df-convert\" onclick=\"convertToInteractive('df-8a88353a-2896-48c2-82da-3dee58c23bbb')\"\n",
              "              title=\"Convert this dataframe to an interactive table.\"\n",
              "              style=\"display:none;\">\n",
              "        \n",
              "  <svg xmlns=\"http://www.w3.org/2000/svg\" height=\"24px\"viewBox=\"0 0 24 24\"\n",
              "       width=\"24px\">\n",
              "    <path d=\"M0 0h24v24H0V0z\" fill=\"none\"/>\n",
              "    <path d=\"M18.56 5.44l.94 2.06.94-2.06 2.06-.94-2.06-.94-.94-2.06-.94 2.06-2.06.94zm-11 1L8.5 8.5l.94-2.06 2.06-.94-2.06-.94L8.5 2.5l-.94 2.06-2.06.94zm10 10l.94 2.06.94-2.06 2.06-.94-2.06-.94-.94-2.06-.94 2.06-2.06.94z\"/><path d=\"M17.41 7.96l-1.37-1.37c-.4-.4-.92-.59-1.43-.59-.52 0-1.04.2-1.43.59L10.3 9.45l-7.72 7.72c-.78.78-.78 2.05 0 2.83L4 21.41c.39.39.9.59 1.41.59.51 0 1.02-.2 1.41-.59l7.78-7.78 2.81-2.81c.8-.78.8-2.07 0-2.86zM5.41 20L4 18.59l7.72-7.72 1.47 1.35L5.41 20z\"/>\n",
              "  </svg>\n",
              "      </button>\n",
              "      \n",
              "  <style>\n",
              "    .colab-df-container {\n",
              "      display:flex;\n",
              "      flex-wrap:wrap;\n",
              "      gap: 12px;\n",
              "    }\n",
              "\n",
              "    .colab-df-convert {\n",
              "      background-color: #E8F0FE;\n",
              "      border: none;\n",
              "      border-radius: 50%;\n",
              "      cursor: pointer;\n",
              "      display: none;\n",
              "      fill: #1967D2;\n",
              "      height: 32px;\n",
              "      padding: 0 0 0 0;\n",
              "      width: 32px;\n",
              "    }\n",
              "\n",
              "    .colab-df-convert:hover {\n",
              "      background-color: #E2EBFA;\n",
              "      box-shadow: 0px 1px 2px rgba(60, 64, 67, 0.3), 0px 1px 3px 1px rgba(60, 64, 67, 0.15);\n",
              "      fill: #174EA6;\n",
              "    }\n",
              "\n",
              "    [theme=dark] .colab-df-convert {\n",
              "      background-color: #3B4455;\n",
              "      fill: #D2E3FC;\n",
              "    }\n",
              "\n",
              "    [theme=dark] .colab-df-convert:hover {\n",
              "      background-color: #434B5C;\n",
              "      box-shadow: 0px 1px 3px 1px rgba(0, 0, 0, 0.15);\n",
              "      filter: drop-shadow(0px 1px 2px rgba(0, 0, 0, 0.3));\n",
              "      fill: #FFFFFF;\n",
              "    }\n",
              "  </style>\n",
              "\n",
              "      <script>\n",
              "        const buttonEl =\n",
              "          document.querySelector('#df-8a88353a-2896-48c2-82da-3dee58c23bbb button.colab-df-convert');\n",
              "        buttonEl.style.display =\n",
              "          google.colab.kernel.accessAllowed ? 'block' : 'none';\n",
              "\n",
              "        async function convertToInteractive(key) {\n",
              "          const element = document.querySelector('#df-8a88353a-2896-48c2-82da-3dee58c23bbb');\n",
              "          const dataTable =\n",
              "            await google.colab.kernel.invokeFunction('convertToInteractive',\n",
              "                                                     [key], {});\n",
              "          if (!dataTable) return;\n",
              "\n",
              "          const docLinkHtml = 'Like what you see? Visit the ' +\n",
              "            '<a target=\"_blank\" href=https://colab.research.google.com/notebooks/data_table.ipynb>data table notebook</a>'\n",
              "            + ' to learn more about interactive tables.';\n",
              "          element.innerHTML = '';\n",
              "          dataTable['output_type'] = 'display_data';\n",
              "          await google.colab.output.renderOutput(dataTable, element);\n",
              "          const docLink = document.createElement('div');\n",
              "          docLink.innerHTML = docLinkHtml;\n",
              "          element.appendChild(docLink);\n",
              "        }\n",
              "      </script>\n",
              "    </div>\n",
              "  </div>\n",
              "  "
            ]
          },
          "metadata": {},
          "execution_count": 13
        }
      ],
      "source": [
        "test_data = raw_test_data[['text', 'label']].copy()\n",
        "\n",
        "test_data['text'] = test_data['text'].apply(text_preprocessing)\n",
        "\n",
        "test_data.drop_duplicates(inplace=True)\n",
        "\n",
        "test_data"
      ]
    },
    {
      "cell_type": "markdown",
      "source": [
        "# Text Representation"
      ],
      "metadata": {
        "id": "NxthMHhEQ5pV"
      }
    },
    {
      "cell_type": "code",
      "execution_count": null,
      "metadata": {
        "colab": {
          "base_uri": "https://localhost:8080/"
        },
        "id": "HVfM_kuvw0EI",
        "outputId": "5d7d60b3-a1b1-462f-ec22-6df6e939cb3a"
      },
      "outputs": [
        {
          "output_type": "stream",
          "name": "stdout",
          "text": [
            "[==================================================] 100.0% 1662.8/1662.8MB downloaded\n"
          ]
        }
      ],
      "source": [
        "word2vec_model = api.load(\"word2vec-google-news-300\")"
      ]
    },
    {
      "cell_type": "code",
      "execution_count": null,
      "metadata": {
        "id": "fxu9vG_jw2Jo"
      },
      "outputs": [],
      "source": [
        "def get_text_vec(sent):\n",
        "  vector = np.mean(np.array([word2vec_model[token] for token in word_tokenize(sent) if token in word2vec_model.key_to_index]), axis=0)\n",
        "  if np.all(np.isnan(vector)) :\n",
        "    return np.zeros(300)\n",
        "  return vector"
      ]
    },
    {
      "cell_type": "code",
      "execution_count": null,
      "metadata": {
        "id": "X51l7SGdw6ah"
      },
      "outputs": [],
      "source": [
        "X_test = np.stack(np.array([get_text_vec(sms_text) for sms_text in test_data['text'].values]))"
      ]
    },
    {
      "cell_type": "code",
      "execution_count": null,
      "metadata": {
        "colab": {
          "base_uri": "https://localhost:8080/"
        },
        "id": "38-eq2aow84_",
        "outputId": "b0962c15-ddd0-444b-869c-b80bb49e207f"
      },
      "outputs": [
        {
          "output_type": "execute_result",
          "data": {
            "text/plain": [
              "(2770, 300)"
            ]
          },
          "metadata": {},
          "execution_count": 17
        }
      ],
      "source": [
        "X_test.shape"
      ]
    },
    {
      "cell_type": "code",
      "execution_count": null,
      "metadata": {
        "id": "etik5rXa_2dr"
      },
      "outputs": [],
      "source": [
        "y_test = test_data['label'].values"
      ]
    },
    {
      "cell_type": "code",
      "execution_count": null,
      "metadata": {
        "colab": {
          "base_uri": "https://localhost:8080/"
        },
        "id": "XuaytXOH_2ZI",
        "outputId": "c0c39c03-c1d1-4d0a-be07-384adcee013a"
      },
      "outputs": [
        {
          "output_type": "execute_result",
          "data": {
            "text/plain": [
              "(2770,)"
            ]
          },
          "metadata": {},
          "execution_count": 19
        }
      ],
      "source": [
        "y_test.shape"
      ]
    },
    {
      "cell_type": "markdown",
      "metadata": {
        "id": "UpIXLLONxBbc"
      },
      "source": [
        "# Model selection, training and evaluation"
      ]
    },
    {
      "cell_type": "code",
      "execution_count": null,
      "metadata": {
        "id": "k5amJMISxFX6"
      },
      "outputs": [],
      "source": [
        "def f_beta_score(y_true, y_pred):\n",
        "  return fbeta_score(y_true, y_pred, beta=2, average='macro')\n",
        "\n",
        "f2_score = make_scorer(f_beta_score, greater_is_better=True)"
      ]
    },
    {
      "cell_type": "code",
      "execution_count": null,
      "metadata": {
        "id": "eJLNo2RfxHbk"
      },
      "outputs": [],
      "source": [
        "from datetime import datetime\n",
        "\n",
        "def save_cross_validation(results, file_name):\n",
        "  results_to_save = pd.DataFrame(columns=['Accuracy', 'Recall', 'Precision', 'F1 Score', 'F2 Score'])\n",
        "  for i in range(0, 10):\n",
        "    results_to_save.loc[i] = [\n",
        "      results['split{}_test_Accuracy'.format(i)][0],\n",
        "      results['split{}_test_Recall'.format(i)][0],\n",
        "      results['split{}_test_Precision'.format(i)][0],\n",
        "      results['split{}_test_F1'.format(i)][0],\n",
        "      results['split{}_test_F2'.format(i)][0]\n",
        "    ]\n",
        "  results_to_save.to_csv('{}Results/{}_{}.csv'.format(dir_name+'experiments/Medical Text/', file_name, datetime.now().strftime(\"%m%d%H%M\")))"
      ]
    },
    {
      "cell_type": "code",
      "execution_count": null,
      "metadata": {
        "id": "qNeUy29rxIHD"
      },
      "outputs": [],
      "source": [
        "def train_model(classifier, param_grid, model_name, train_texts, train_labels, test_texts, test_labels, evaluation_metrics, to_print=True, to_save=False, file_name=None):\n",
        "    \"\"\"\n",
        "    train email classification model.\n",
        "    \"\"\"\n",
        "\n",
        "    # apply grid search to find best model hyper parameters\n",
        "    grid_search = GridSearchCV(classifier, param_grid, cv=10, scoring={'Accuracy': make_scorer(accuracy_score),\n",
        "                                                                       'F1': make_scorer(f1_score, average='macro'),\n",
        "                                                                       'F2': f2_score,\n",
        "                                                                       'Recall': make_scorer(recall_score, average='macro'),\n",
        "                                                                       'Precision': make_scorer(precision_score, average='macro')\n",
        "                                                                       }, refit='F1', n_jobs=-1)\n",
        "    grid_search.fit(train_texts, train_labels)\n",
        "    model = grid_search.best_estimator_\n",
        "\n",
        "    if to_save:\n",
        "      ConfusionMatrixDisplay(save_cross_validation(grid_search.cv_results_, file_name))\n",
        "      plt.show()\n",
        "\n",
        "    # train and test accuracy.\n",
        "    test_accuracy = model.score(test_texts, test_labels)\n",
        "    train_accuracy = model.score(train_texts, train_labels)\n",
        "\n",
        "    # compute F1 score for model evaluation.\n",
        "    y_pred = model.predict(test_texts)\n",
        "\n",
        "    recall = recall_score(test_labels, y_pred, average='macro')\n",
        "    precision = precision_score(test_labels, y_pred, average='macro')\n",
        "    f1score = f1_score(test_labels, y_pred, average='macro')\n",
        "    f2score = fbeta_score(y_test, y_pred, beta=2, average='macro')\n",
        "\n",
        "    if to_print:\n",
        "        print(\"train accuracy = \" + str(train_accuracy))\n",
        "        print(\"test accuracy = \" + str(test_accuracy))\n",
        "        print(\"Recall = {}\".format(recall))\n",
        "        print(\"Precision = {}\".format(precision))\n",
        "        print(\"F1 score = {}\".format(f1score))\n",
        "        print(\"F2 score = {}\".format(f2score))\n",
        "        print(classification_report(test_labels, y_pred))\n",
        "\n",
        "\n",
        "        # plot confusion matrix\n",
        "        cm = confusion_matrix(test_labels, y_pred)\n",
        "        disp = ConfusionMatrixDisplay(confusion_matrix=cm, display_labels=[0,1,2,3,4])\n",
        "\n",
        "        disp.plot(cmap=plt.cm.Blues)\n",
        "        plt.show()\n",
        "\n",
        "        # print best model hyper parameters.\n",
        "        print(grid_search.best_params_)\n",
        "\n",
        "    evaluation_metrics.loc[model_name, 'Recall'] = recall\n",
        "    evaluation_metrics.loc[model_name, 'Precision'] = precision\n",
        "    evaluation_metrics.loc[model_name, 'F1 score'] = f1score\n",
        "    evaluation_metrics.loc[model_name, 'F2 score'] = f2score\n",
        "\n",
        "    return f1score, f2score\n",
        "\n",
        "\n",
        "def train(model_id, train_texts, train_labels, test_texts, test_labels, evaluation_metrics, to_print=True, to_save=False, file_name=None):\n",
        "    \n",
        "    if model_id == 1:\n",
        "        # Random forest Classification model.\n",
        "        forest_clf = RandomForestClassifier(random_state=42, n_jobs=-1)\n",
        "        forest_param_grid = [{'n_estimators': [15,20,25], 'max_features': [10, 15], 'min_samples_split': [15, 20, 25], 'criterion': ['gini','entropy'], 'max_depth': [5, 6]}]\n",
        "        return train_model(forest_clf, forest_param_grid, 'RandomForest', train_texts, train_labels, test_texts, test_labels, evaluation_metrics, to_print, to_save, file_name)\n",
        "\n",
        "    if model_id == 2:\n",
        "        # Support Vector Machine Model.\n",
        "        svc_clf = SVC(random_state=42)\n",
        "        svc_param_grid = [{'gamma': ['auto', 'scale'], 'kernel': ['rbf'], 'degree': [3 ,4, 5]}]\n",
        "\n",
        "        return train_model(svc_clf, svc_param_grid, 'SVM', train_texts, train_labels, test_texts, test_labels, evaluation_metrics, to_print, to_save, file_name)"
      ]
    },
    {
      "cell_type": "markdown",
      "metadata": {
        "id": "VxgQqtV3CeWb"
      },
      "source": [
        "#Text Aug."
      ]
    },
    {
      "cell_type": "code",
      "execution_count": null,
      "metadata": {
        "id": "bLjs1Sdczkti"
      },
      "outputs": [],
      "source": [
        "all_similar_words = {}\n",
        "\n",
        "def get_similar_words(word):\n",
        "  if word not in all_similar_words:\n",
        "    all_similar_words[word] = word2vec_model.most_similar(word)\n",
        "  return all_similar_words[word]"
      ]
    },
    {
      "cell_type": "code",
      "execution_count": null,
      "metadata": {
        "id": "LxOY0HleVaXv"
      },
      "outputs": [],
      "source": [
        "import gensim\n",
        "import random \n",
        "\n",
        "class Word2vec:\n",
        "    \"\"\"\n",
        "    A set of functions used to augment data.\n",
        "    Typical usage: :: \n",
        "        >>> from textaugment import Word2vec\n",
        "        >>> t = Word2vec('path/to/gensim/model'or 'gensim model itself')\n",
        "        >>> t.augment('I love school')\n",
        "        i adore school\n",
        "    \"\"\"\n",
        "    \n",
        "    def __init__(self, **kwargs):\n",
        "        \"\"\"\n",
        "        A method to initialize a model on a given path.\n",
        "        :type random_state: int, float, str, bytes, bytearray\n",
        "        :param random_state: seed\n",
        "        :type model: str or gensim.models.word2vec.Word2Vec\n",
        "        :param model: The path to the model or the model itself.\n",
        "        :type runs: int, optional\n",
        "        :param runs: The number of times to augment a sentence. By default is 1.\n",
        "        :type v: bool or optional\n",
        "        :param v: Replace all the words if true. If false randomly replace words.\n",
        "                Used in a Paper (https://www.cs.cmu.edu/~diyiy/docs/emnlp_wang_2015.pdf)\n",
        "        :type p: float, optional\n",
        "        :param p: The probability of success of an individual trial. (0.1<p<1.0), default is 0.5\n",
        "        \"\"\"\n",
        "\n",
        "        # Set random state\n",
        "        if 'random_state' in kwargs:\n",
        "            self.random_state = kwargs['random_state']\n",
        "            if isinstance(self.random_state, int):\n",
        "                random.seed(self.random_state)\n",
        "                np.random.seed(self.random_state)\n",
        "            else:\n",
        "                raise TypeError(\"random_state must have type int\")\n",
        "\n",
        "        # Set verbose to false if does not exists\n",
        "        try:\n",
        "            if kwargs['v']: \n",
        "                self.v = True\n",
        "            else:\n",
        "                self.v = False\n",
        "        except KeyError:\n",
        "            self.v = False\n",
        "\n",
        "        try:\n",
        "            if \"p\" in kwargs:\n",
        "                if type(kwargs['p']) is not float:\n",
        "                    raise TypeError(\"p represent probability of success and must be a float from 0.1 to 0.9. E.g p=0.5\")\n",
        "                elif type(kwargs['p']) is float:\n",
        "                    self.p = kwargs['p']\n",
        "            else:\n",
        "                kwargs['p'] = 0.5  # Set default value\n",
        "        except KeyError:\n",
        "            raise\n",
        "\n",
        "        # Error handling of given parameters\n",
        "        try:\n",
        "            if \"runs\" not in kwargs:\n",
        "                kwargs[\"runs\"] = 1  # Default value for runs\n",
        "            elif type(kwargs[\"runs\"]) is not int:\n",
        "                raise TypeError(\"DataType for 'runs' must be an integer\")\n",
        "            if \"model\" not in kwargs:\n",
        "                raise ValueError(\"Set the value of model. e.g model='path/to/model' or model itself\")\n",
        "            if type(kwargs['model']) not in [str,\n",
        "                                             gensim.models.word2vec.Word2Vec,\n",
        "                                             gensim.models.keyedvectors.Word2VecKeyedVectors,\n",
        "                                            gensim.models.keyedvectors.FastTextKeyedVectors]:\n",
        "                raise TypeError(\"Model path must be a string. \"\n",
        "                                \"Or type of model must be a gensim.models.word2vec.Word2Vec or \"\n",
        "                                \"gensim.models.keyedvectors.Word2VecKeyedVectors or \"\n",
        "                                \"gensim.models.keyedvectors.FastTextKeyedVectors type. \"\n",
        "                                \"To load a model use gensim.models.Word2Vec.load('path')\")\n",
        "        except (ValueError, TypeError):\n",
        "            raise\n",
        "        else:\n",
        "            self.runs = kwargs[\"runs\"] \n",
        "            self.model = kwargs[\"model\"]\n",
        "            self.p = kwargs[\"p\"]\n",
        "            try:\n",
        "                if type(self.model) is str:\n",
        "                    self.model = gensim.models.Word2Vec.load(self.model)\n",
        "            except FileNotFoundError:\n",
        "                print(\"Error: Model not found. Verify the path.\\n\")\n",
        "                raise\n",
        "\n",
        "    def geometric(self, data):\n",
        "        \"\"\"\n",
        "        Used to generate Geometric distribution.\n",
        "        :type data: list\n",
        "        :param data: Input data\n",
        "        :rtype:   ndarray or scalar\n",
        "        :return:  Drawn samples from the parameterized Geometric distribution.\n",
        "        \"\"\"\n",
        "\n",
        "        data = np.array(data)\n",
        "        first_trial = np.random.geometric(p=self.p, size=data.shape[0]) == 1  # Capture success after first trial\n",
        "        return data[first_trial]\n",
        "\n",
        "    def augment(self, data):\n",
        "        \"\"\"\n",
        "        The method to replace words with similar words.\n",
        "        \n",
        "        :type data: str\n",
        "        :param data: Input data\n",
        "        :rtype:   str\n",
        "        :return:  The augmented data\n",
        "        \"\"\"\n",
        "        \n",
        "        # Avoid nulls and other unsupported types\n",
        "        if type(data) is not str: \n",
        "            raise TypeError(\"Only strings are supported\")\n",
        "        # Lower case and split\n",
        "        data_tokens = data.lower().split()\n",
        "\n",
        "        # Verbose = True then replace all the words.\n",
        "        if self.v:\n",
        "            for _ in range(self.runs):\n",
        "                for index in range(len(data_tokens)):  # Index from 0 to length of data_tokens\n",
        "                    try:\n",
        "                        similar_words = [syn for syn, t in self.model.most_similar(data_tokens[index])]\n",
        "                        r = random.randrange(len(similar_words))\n",
        "                        data_tokens[index] = similar_words[r].lower()  # Replace with random synonym from 10 synonyms\n",
        "                    except KeyError:\n",
        "                        pass  # For words not in the word2vec model\n",
        "        else:  # Randomly replace some words\n",
        "            for _ in range(self.runs):\n",
        "                data_tokens_idx = [[x, y] for (x, y) in enumerate(data_tokens)]  # Enumerate data\n",
        "                words = self.geometric(data=data_tokens_idx).tolist()  # List of words indexed\n",
        "                for w in words:\n",
        "                    try:\n",
        "                        similar_words_and_weights = [(syn, t) for syn, t in get_similar_words(w[1])]\n",
        "                        similar_words = [word for word, t in similar_words_and_weights]\n",
        "                        similar_words_weights = [t for word, t in similar_words_and_weights]\n",
        "                        word = random.choices(similar_words, similar_words_weights, k=1)\n",
        "                        data_tokens[int(w[0])] = word[0].lower()  # Replace with random synonym from 10 synonyms\n",
        "                    except KeyError:\n",
        "                        pass\n",
        "            return \" \".join(data_tokens)\n",
        "        return \" \".join(data_tokens)"
      ]
    },
    {
      "cell_type": "code",
      "execution_count": null,
      "metadata": {
        "id": "9rmdXvAJVaJd"
      },
      "outputs": [],
      "source": [
        "marivate_augmener = Word2vec(model=word2vec_model, runs=1, v=False, p=0.5)"
      ]
    },
    {
      "cell_type": "code",
      "execution_count": null,
      "metadata": {
        "id": "pXmCpzV9ViOt"
      },
      "outputs": [],
      "source": [
        "def marivate_augmentation(prepro_dataset, lable, sent_num=5):\n",
        "  texts = prepro_dataset.loc[prepro_dataset['label'] == lable]['text'].values\n",
        "  texts_num = len(texts)\n",
        "  new_texts = []\n",
        "  i = 0\n",
        "  for text in texts:\n",
        "    if i % 100 == 0:\n",
        "      print(f\" {int(100*i/texts_num)} %\")\n",
        "    for j in range(sent_num):\n",
        "      new_texts.append(marivate_augmener.augment(text))\n",
        "    i += 1\n",
        "  augmentations = prepro_dataset[['text', 'label']].copy().append(pd.DataFrame({'label':[lable] * len(new_texts), 'text':new_texts}), ignore_index = True)\n",
        "  augmentations.drop_duplicates(inplace=True)\n",
        "  return augmentations.sample(frac=1)"
      ]
    },
    {
      "cell_type": "code",
      "execution_count": null,
      "metadata": {
        "colab": {
          "base_uri": "https://localhost:8080/"
        },
        "id": "EoVpkA8eCrG-",
        "outputId": "2555ba4a-f23e-4070-b0fe-41ba0aeae288"
      },
      "outputs": [
        {
          "output_type": "stream",
          "name": "stdout",
          "text": [
            " 0 %\n",
            " 10 %\n",
            " 21 %\n",
            " 32 %\n",
            " 43 %\n",
            " 53 %\n",
            " 64 %\n",
            " 75 %\n",
            " 86 %\n",
            " 97 %\n"
          ]
        },
        {
          "output_type": "stream",
          "name": "stderr",
          "text": [
            "<ipython-input-27-88e89c9d3031>:12: FutureWarning: The frame.append method is deprecated and will be removed from pandas in a future version. Use pandas.concat instead.\n",
            "  augmentations = prepro_dataset[['text', 'label']].copy().append(pd.DataFrame({'label':[lable] * len(new_texts), 'text':new_texts}), ignore_index = True)\n"
          ]
        }
      ],
      "source": [
        "augmented_dataset =  marivate_augmentation(train_data, lable=1, sent_num=1)"
      ]
    },
    {
      "cell_type": "code",
      "execution_count": null,
      "metadata": {
        "colab": {
          "base_uri": "https://localhost:8080/"
        },
        "id": "IzZOV1Bb69Bh",
        "outputId": "d6a8ed5e-3409-403d-b1eb-6ff37fae843a"
      },
      "outputs": [
        {
          "output_type": "stream",
          "name": "stdout",
          "text": [
            " 0 %\n",
            " 8 %\n",
            " 16 %\n",
            " 24 %\n",
            " 33 %\n",
            " 41 %\n",
            " 49 %\n",
            " 58 %\n",
            " 66 %\n",
            " 74 %\n",
            " 82 %\n",
            " 91 %\n",
            " 99 %\n"
          ]
        },
        {
          "output_type": "stream",
          "name": "stderr",
          "text": [
            "<ipython-input-27-88e89c9d3031>:12: FutureWarning: The frame.append method is deprecated and will be removed from pandas in a future version. Use pandas.concat instead.\n",
            "  augmentations = prepro_dataset[['text', 'label']].copy().append(pd.DataFrame({'label':[lable] * len(new_texts), 'text':new_texts}), ignore_index = True)\n"
          ]
        }
      ],
      "source": [
        "augmented_dataset =  marivate_augmentation(augmented_dataset, lable=2, sent_num=1)"
      ]
    },
    {
      "cell_type": "code",
      "execution_count": null,
      "metadata": {
        "colab": {
          "base_uri": "https://localhost:8080/",
          "height": 423
        },
        "id": "4QbTErlPCygZ",
        "outputId": "737d2dbf-6ac2-4b20-dff5-96e45f8dfbce"
      },
      "outputs": [
        {
          "output_type": "execute_result",
          "data": {
            "text/plain": [
              "                                                    text  label\n",
              "40     modified schollner costoplasty modified scholl...      4\n",
              "3866   shortterm versus shortterm treatment granulocy...      1\n",
              "2378   management patients thyroid carcinoma applicat...      0\n",
              "4183   influence neutralizing heparin carotid endarte...      4\n",
              "9005   neuropeptide neuronspecific enolase levels ben...      0\n",
              "...                                                  ...    ...\n",
              "6237   endosonography localization parathyroid tumors...      0\n",
              "5126   primary adenocarcinoma bladder favorable progn...      0\n",
              "3613   posterior interosseous nerve palsies seventy p...      2\n",
              "10675  plasma lp_pla2 level teenagers premature cardi...      2\n",
              "9772   novo carcinoma lower urinary tract renal allog...      0\n",
              "\n",
              "[11578 rows x 2 columns]"
            ],
            "text/html": [
              "\n",
              "  <div id=\"df-51f0a046-783a-427a-85fe-80a766b8f126\">\n",
              "    <div class=\"colab-df-container\">\n",
              "      <div>\n",
              "<style scoped>\n",
              "    .dataframe tbody tr th:only-of-type {\n",
              "        vertical-align: middle;\n",
              "    }\n",
              "\n",
              "    .dataframe tbody tr th {\n",
              "        vertical-align: top;\n",
              "    }\n",
              "\n",
              "    .dataframe thead th {\n",
              "        text-align: right;\n",
              "    }\n",
              "</style>\n",
              "<table border=\"1\" class=\"dataframe\">\n",
              "  <thead>\n",
              "    <tr style=\"text-align: right;\">\n",
              "      <th></th>\n",
              "      <th>text</th>\n",
              "      <th>label</th>\n",
              "    </tr>\n",
              "  </thead>\n",
              "  <tbody>\n",
              "    <tr>\n",
              "      <th>40</th>\n",
              "      <td>modified schollner costoplasty modified scholl...</td>\n",
              "      <td>4</td>\n",
              "    </tr>\n",
              "    <tr>\n",
              "      <th>3866</th>\n",
              "      <td>shortterm versus shortterm treatment granulocy...</td>\n",
              "      <td>1</td>\n",
              "    </tr>\n",
              "    <tr>\n",
              "      <th>2378</th>\n",
              "      <td>management patients thyroid carcinoma applicat...</td>\n",
              "      <td>0</td>\n",
              "    </tr>\n",
              "    <tr>\n",
              "      <th>4183</th>\n",
              "      <td>influence neutralizing heparin carotid endarte...</td>\n",
              "      <td>4</td>\n",
              "    </tr>\n",
              "    <tr>\n",
              "      <th>9005</th>\n",
              "      <td>neuropeptide neuronspecific enolase levels ben...</td>\n",
              "      <td>0</td>\n",
              "    </tr>\n",
              "    <tr>\n",
              "      <th>...</th>\n",
              "      <td>...</td>\n",
              "      <td>...</td>\n",
              "    </tr>\n",
              "    <tr>\n",
              "      <th>6237</th>\n",
              "      <td>endosonography localization parathyroid tumors...</td>\n",
              "      <td>0</td>\n",
              "    </tr>\n",
              "    <tr>\n",
              "      <th>5126</th>\n",
              "      <td>primary adenocarcinoma bladder favorable progn...</td>\n",
              "      <td>0</td>\n",
              "    </tr>\n",
              "    <tr>\n",
              "      <th>3613</th>\n",
              "      <td>posterior interosseous nerve palsies seventy p...</td>\n",
              "      <td>2</td>\n",
              "    </tr>\n",
              "    <tr>\n",
              "      <th>10675</th>\n",
              "      <td>plasma lp_pla2 level teenagers premature cardi...</td>\n",
              "      <td>2</td>\n",
              "    </tr>\n",
              "    <tr>\n",
              "      <th>9772</th>\n",
              "      <td>novo carcinoma lower urinary tract renal allog...</td>\n",
              "      <td>0</td>\n",
              "    </tr>\n",
              "  </tbody>\n",
              "</table>\n",
              "<p>11578 rows × 2 columns</p>\n",
              "</div>\n",
              "      <button class=\"colab-df-convert\" onclick=\"convertToInteractive('df-51f0a046-783a-427a-85fe-80a766b8f126')\"\n",
              "              title=\"Convert this dataframe to an interactive table.\"\n",
              "              style=\"display:none;\">\n",
              "        \n",
              "  <svg xmlns=\"http://www.w3.org/2000/svg\" height=\"24px\"viewBox=\"0 0 24 24\"\n",
              "       width=\"24px\">\n",
              "    <path d=\"M0 0h24v24H0V0z\" fill=\"none\"/>\n",
              "    <path d=\"M18.56 5.44l.94 2.06.94-2.06 2.06-.94-2.06-.94-.94-2.06-.94 2.06-2.06.94zm-11 1L8.5 8.5l.94-2.06 2.06-.94-2.06-.94L8.5 2.5l-.94 2.06-2.06.94zm10 10l.94 2.06.94-2.06 2.06-.94-2.06-.94-.94-2.06-.94 2.06-2.06.94z\"/><path d=\"M17.41 7.96l-1.37-1.37c-.4-.4-.92-.59-1.43-.59-.52 0-1.04.2-1.43.59L10.3 9.45l-7.72 7.72c-.78.78-.78 2.05 0 2.83L4 21.41c.39.39.9.59 1.41.59.51 0 1.02-.2 1.41-.59l7.78-7.78 2.81-2.81c.8-.78.8-2.07 0-2.86zM5.41 20L4 18.59l7.72-7.72 1.47 1.35L5.41 20z\"/>\n",
              "  </svg>\n",
              "      </button>\n",
              "      \n",
              "  <style>\n",
              "    .colab-df-container {\n",
              "      display:flex;\n",
              "      flex-wrap:wrap;\n",
              "      gap: 12px;\n",
              "    }\n",
              "\n",
              "    .colab-df-convert {\n",
              "      background-color: #E8F0FE;\n",
              "      border: none;\n",
              "      border-radius: 50%;\n",
              "      cursor: pointer;\n",
              "      display: none;\n",
              "      fill: #1967D2;\n",
              "      height: 32px;\n",
              "      padding: 0 0 0 0;\n",
              "      width: 32px;\n",
              "    }\n",
              "\n",
              "    .colab-df-convert:hover {\n",
              "      background-color: #E2EBFA;\n",
              "      box-shadow: 0px 1px 2px rgba(60, 64, 67, 0.3), 0px 1px 3px 1px rgba(60, 64, 67, 0.15);\n",
              "      fill: #174EA6;\n",
              "    }\n",
              "\n",
              "    [theme=dark] .colab-df-convert {\n",
              "      background-color: #3B4455;\n",
              "      fill: #D2E3FC;\n",
              "    }\n",
              "\n",
              "    [theme=dark] .colab-df-convert:hover {\n",
              "      background-color: #434B5C;\n",
              "      box-shadow: 0px 1px 3px 1px rgba(0, 0, 0, 0.15);\n",
              "      filter: drop-shadow(0px 1px 2px rgba(0, 0, 0, 0.3));\n",
              "      fill: #FFFFFF;\n",
              "    }\n",
              "  </style>\n",
              "\n",
              "      <script>\n",
              "        const buttonEl =\n",
              "          document.querySelector('#df-51f0a046-783a-427a-85fe-80a766b8f126 button.colab-df-convert');\n",
              "        buttonEl.style.display =\n",
              "          google.colab.kernel.accessAllowed ? 'block' : 'none';\n",
              "\n",
              "        async function convertToInteractive(key) {\n",
              "          const element = document.querySelector('#df-51f0a046-783a-427a-85fe-80a766b8f126');\n",
              "          const dataTable =\n",
              "            await google.colab.kernel.invokeFunction('convertToInteractive',\n",
              "                                                     [key], {});\n",
              "          if (!dataTable) return;\n",
              "\n",
              "          const docLinkHtml = 'Like what you see? Visit the ' +\n",
              "            '<a target=\"_blank\" href=https://colab.research.google.com/notebooks/data_table.ipynb>data table notebook</a>'\n",
              "            + ' to learn more about interactive tables.';\n",
              "          element.innerHTML = '';\n",
              "          dataTable['output_type'] = 'display_data';\n",
              "          await google.colab.output.renderOutput(dataTable, element);\n",
              "          const docLink = document.createElement('div');\n",
              "          docLink.innerHTML = docLinkHtml;\n",
              "          element.appendChild(docLink);\n",
              "        }\n",
              "      </script>\n",
              "    </div>\n",
              "  </div>\n",
              "  "
            ]
          },
          "metadata": {},
          "execution_count": 30
        }
      ],
      "source": [
        "augmented_dataset"
      ]
    },
    {
      "cell_type": "code",
      "execution_count": null,
      "metadata": {
        "id": "rAFysQsldea-"
      },
      "outputs": [],
      "source": [
        "augmented_dataset.to_csv('{}Marivate_1_1.csv'.format(dir_name+'experiments/Medical Text/'))"
      ]
    },
    {
      "cell_type": "code",
      "source": [
        "augmented_dataset = pd.read_csv('{}Marivate_1_1.csv'.format(dir_name+'experiments/Medical Text/'))"
      ],
      "metadata": {
        "id": "uKEQzP1LV0BF"
      },
      "execution_count": null,
      "outputs": []
    },
    {
      "cell_type": "code",
      "execution_count": null,
      "metadata": {
        "colab": {
          "base_uri": "https://localhost:8080/",
          "height": 653
        },
        "id": "Jvq7cQ1HCyzo",
        "outputId": "93c56498-e118-44af-daae-71f19436c152"
      },
      "outputs": [
        {
          "output_type": "display_data",
          "data": {
            "text/plain": [
              "<Figure size 800x800 with 1 Axes>"
            ],
            "image/png": "[encoded data removed]"
          },
          "metadata": {}
        }
      ],
      "source": [
        "get_dataset_statistics(augmented_dataset)"
      ]
    },
    {
      "cell_type": "code",
      "execution_count": null,
      "metadata": {
        "id": "XLxoLT-eC1Zk"
      },
      "outputs": [],
      "source": [
        "aug_X_train = np.stack(np.array([get_text_vec(sms_text) for sms_text in augmented_dataset['text'].values]))"
      ]
    },
    {
      "cell_type": "code",
      "execution_count": null,
      "metadata": {
        "colab": {
          "base_uri": "https://localhost:8080/"
        },
        "id": "q1ztZCM1C1Wx",
        "outputId": "9551bc66-17f4-4ab7-e253-a3ac6351ac69"
      },
      "outputs": [
        {
          "output_type": "execute_result",
          "data": {
            "text/plain": [
              "(11578, 300)"
            ]
          },
          "metadata": {},
          "execution_count": 34
        }
      ],
      "source": [
        "aug_X_train.shape"
      ]
    },
    {
      "cell_type": "code",
      "execution_count": null,
      "metadata": {
        "id": "ZgSjWKWkC1UJ"
      },
      "outputs": [],
      "source": [
        "aug_y_train = augmented_dataset['label'].values"
      ]
    },
    {
      "cell_type": "code",
      "execution_count": null,
      "metadata": {
        "colab": {
          "base_uri": "https://localhost:8080/"
        },
        "id": "WvvhVZKqC1RO",
        "outputId": "9281fdf9-9b0b-406d-8220-263ab0d182f1"
      },
      "outputs": [
        {
          "output_type": "execute_result",
          "data": {
            "text/plain": [
              "(11578,)"
            ]
          },
          "metadata": {},
          "execution_count": 36
        }
      ],
      "source": [
        "aug_y_train.shape"
      ]
    },
    {
      "cell_type": "code",
      "execution_count": null,
      "metadata": {
        "id": "S70DsPUkC6IG"
      },
      "outputs": [],
      "source": [
        "evaluation_metrics_aug = pd.DataFrame(columns = ['Recall', 'Precision', 'F1 score', 'F2 score'])"
      ]
    },
    {
      "cell_type": "markdown",
      "metadata": {
        "id": "WE-5VY84xLiG"
      },
      "source": [
        "#RF"
      ]
    },
    {
      "cell_type": "code",
      "source": [
        "train(1, aug_X_train, aug_y_train, X_test, y_test, evaluation_metrics_aug, to_save=True, file_name='Mari_RF')"
      ],
      "metadata": {
        "colab": {
          "base_uri": "https://localhost:8080/",
          "height": 821
        },
        "id": "mZMJkUBPmrPq",
        "outputId": "d3f8d63e-3120-44b3-9056-37969cbc824e"
      },
      "execution_count": null,
      "outputs": [
        {
          "output_type": "stream",
          "name": "stdout",
          "text": [
            "train accuracy = 0.6256693729486958\n",
            "test accuracy = 0.5332129963898917\n",
            "Recall = 0.5094402671390892\n",
            "Precision = 0.5192184963601851\n",
            "F1 score = 0.5065315223750464\n",
            "F2 score = 0.5070610777546815\n",
            "              precision    recall  f1-score   support\n",
            "\n",
            "           0       0.66      0.74      0.70       616\n",
            "           1       0.43      0.22      0.29       287\n",
            "           2       0.43      0.51      0.47       366\n",
            "           3       0.64      0.65      0.65       589\n",
            "           4       0.43      0.43      0.43       912\n",
            "\n",
            "    accuracy                           0.53      2770\n",
            "   macro avg       0.52      0.51      0.51      2770\n",
            "weighted avg       0.53      0.53      0.53      2770\n",
            "\n"
          ]
        },
        {
          "output_type": "display_data",
          "data": {
            "text/plain": [
              "<Figure size 640x480 with 2 Axes>"
            ],
            "image/png": "[encoded data removed]"
          },
          "metadata": {}
        },
        {
          "output_type": "stream",
          "name": "stdout",
          "text": [
            "{'criterion': 'entropy', 'max_depth': 6, 'max_features': 15, 'min_samples_split': 15, 'n_estimators': 25}\n"
          ]
        },
        {
          "output_type": "execute_result",
          "data": {
            "text/plain": [
              "(0.5065315223750464, 0.5070610777546815)"
            ]
          },
          "metadata": {},
          "execution_count": 45
        }
      ]
    },
    {
      "cell_type": "markdown",
      "metadata": {
        "id": "M7IOkSy4B7HQ"
      },
      "source": [
        "# SVM"
      ]
    },
    {
      "cell_type": "code",
      "source": [
        "train(2, aug_X_train, aug_y_train, X_test, y_test, evaluation_metrics_aug, to_save=True, file_name='Mari_SVM')"
      ],
      "metadata": {
        "colab": {
          "base_uri": "https://localhost:8080/",
          "height": 818
        },
        "id": "L-mswZwhdzfV",
        "outputId": "212a6ccc-2e67-4ee2-b474-a1b6b60f65f9"
      },
      "execution_count": null,
      "outputs": [
        {
          "output_type": "stream",
          "name": "stdout",
          "text": [
            "train accuracy = 0.7440836068405596\n",
            "test accuracy = 0.603971119133574\n",
            "Recall = 0.6013085508782986\n",
            "Precision = 0.5933062735091611\n",
            "F1 score = 0.5961965701007409\n",
            "F2 score = 0.5989898443517578\n",
            "              precision    recall  f1-score   support\n",
            "\n",
            "           0       0.71      0.77      0.74       616\n",
            "           1       0.49      0.48      0.48       287\n",
            "           2       0.58      0.55      0.57       366\n",
            "           3       0.67      0.75      0.71       589\n",
            "           4       0.51      0.46      0.48       912\n",
            "\n",
            "    accuracy                           0.60      2770\n",
            "   macro avg       0.59      0.60      0.60      2770\n",
            "weighted avg       0.60      0.60      0.60      2770\n",
            "\n"
          ]
        },
        {
          "output_type": "display_data",
          "data": {
            "text/plain": [
              "<Figure size 640x480 with 2 Axes>"
            ],
            "image/png": "[encoded data removed]"
          },
          "metadata": {}
        },
        {
          "output_type": "stream",
          "name": "stdout",
          "text": [
            "{'degree': 2, 'kernel': 'rbf'}\n"
          ]
        },
        {
          "output_type": "execute_result",
          "data": {
            "text/plain": [
              "(0.5961965701007409, 0.5989898443517578)"
            ]
          },
          "metadata": {},
          "execution_count": 40
        }
      ]
    },
    {
      "cell_type": "code",
      "execution_count": null,
      "metadata": {
        "id": "CGKISarr0XYc",
        "colab": {
          "base_uri": "https://localhost:8080/",
          "height": 112
        },
        "outputId": "317005a9-3924-45f5-8738-8f519b747f7b"
      },
      "outputs": [
        {
          "output_type": "execute_result",
          "data": {
            "text/plain": [
              "                Recall Precision  F1 score  F2 score\n",
              "RandomForest   0.50944  0.519218  0.506532  0.507061\n",
              "SVM           0.601538  0.592673  0.595882  0.598974"
            ],
            "text/html": [
              "\n",
              "  <div id=\"df-134e8f9a-6c7f-4248-aa2c-e1cc96b4979b\">\n",
              "    <div class=\"colab-df-container\">\n",
              "      <div>\n",
              "<style scoped>\n",
              "    .dataframe tbody tr th:only-of-type {\n",
              "        vertical-align: middle;\n",
              "    }\n",
              "\n",
              "    .dataframe tbody tr th {\n",
              "        vertical-align: top;\n",
              "    }\n",
              "\n",
              "    .dataframe thead th {\n",
              "        text-align: right;\n",
              "    }\n",
              "</style>\n",
              "<table border=\"1\" class=\"dataframe\">\n",
              "  <thead>\n",
              "    <tr style=\"text-align: right;\">\n",
              "      <th></th>\n",
              "      <th>Recall</th>\n",
              "      <th>Precision</th>\n",
              "      <th>F1 score</th>\n",
              "      <th>F2 score</th>\n",
              "    </tr>\n",
              "  </thead>\n",
              "  <tbody>\n",
              "    <tr>\n",
              "      <th>RandomForest</th>\n",
              "      <td>0.50944</td>\n",
              "      <td>0.519218</td>\n",
              "      <td>0.506532</td>\n",
              "      <td>0.507061</td>\n",
              "    </tr>\n",
              "    <tr>\n",
              "      <th>SVM</th>\n",
              "      <td>0.601538</td>\n",
              "      <td>0.592673</td>\n",
              "      <td>0.595882</td>\n",
              "      <td>0.598974</td>\n",
              "    </tr>\n",
              "  </tbody>\n",
              "</table>\n",
              "</div>\n",
              "      <button class=\"colab-df-convert\" onclick=\"convertToInteractive('df-134e8f9a-6c7f-4248-aa2c-e1cc96b4979b')\"\n",
              "              title=\"Convert this dataframe to an interactive table.\"\n",
              "              style=\"display:none;\">\n",
              "        \n",
              "  <svg xmlns=\"http://www.w3.org/2000/svg\" height=\"24px\"viewBox=\"0 0 24 24\"\n",
              "       width=\"24px\">\n",
              "    <path d=\"M0 0h24v24H0V0z\" fill=\"none\"/>\n",
              "    <path d=\"M18.56 5.44l.94 2.06.94-2.06 2.06-.94-2.06-.94-.94-2.06-.94 2.06-2.06.94zm-11 1L8.5 8.5l.94-2.06 2.06-.94-2.06-.94L8.5 2.5l-.94 2.06-2.06.94zm10 10l.94 2.06.94-2.06 2.06-.94-2.06-.94-.94-2.06-.94 2.06-2.06.94z\"/><path d=\"M17.41 7.96l-1.37-1.37c-.4-.4-.92-.59-1.43-.59-.52 0-1.04.2-1.43.59L10.3 9.45l-7.72 7.72c-.78.78-.78 2.05 0 2.83L4 21.41c.39.39.9.59 1.41.59.51 0 1.02-.2 1.41-.59l7.78-7.78 2.81-2.81c.8-.78.8-2.07 0-2.86zM5.41 20L4 18.59l7.72-7.72 1.47 1.35L5.41 20z\"/>\n",
              "  </svg>\n",
              "      </button>\n",
              "      \n",
              "  <style>\n",
              "    .colab-df-container {\n",
              "      display:flex;\n",
              "      flex-wrap:wrap;\n",
              "      gap: 12px;\n",
              "    }\n",
              "\n",
              "    .colab-df-convert {\n",
              "      background-color: #E8F0FE;\n",
              "      border: none;\n",
              "      border-radius: 50%;\n",
              "      cursor: pointer;\n",
              "      display: none;\n",
              "      fill: #1967D2;\n",
              "      height: 32px;\n",
              "      padding: 0 0 0 0;\n",
              "      width: 32px;\n",
              "    }\n",
              "\n",
              "    .colab-df-convert:hover {\n",
              "      background-color: #E2EBFA;\n",
              "      box-shadow: 0px 1px 2px rgba(60, 64, 67, 0.3), 0px 1px 3px 1px rgba(60, 64, 67, 0.15);\n",
              "      fill: #174EA6;\n",
              "    }\n",
              "\n",
              "    [theme=dark] .colab-df-convert {\n",
              "      background-color: #3B4455;\n",
              "      fill: #D2E3FC;\n",
              "    }\n",
              "\n",
              "    [theme=dark] .colab-df-convert:hover {\n",
              "      background-color: #434B5C;\n",
              "      box-shadow: 0px 1px 3px 1px rgba(0, 0, 0, 0.15);\n",
              "      filter: drop-shadow(0px 1px 2px rgba(0, 0, 0, 0.3));\n",
              "      fill: #FFFFFF;\n",
              "    }\n",
              "  </style>\n",
              "\n",
              "      <script>\n",
              "        const buttonEl =\n",
              "          document.querySelector('#df-134e8f9a-6c7f-4248-aa2c-e1cc96b4979b button.colab-df-convert');\n",
              "        buttonEl.style.display =\n",
              "          google.colab.kernel.accessAllowed ? 'block' : 'none';\n",
              "\n",
              "        async function convertToInteractive(key) {\n",
              "          const element = document.querySelector('#df-134e8f9a-6c7f-4248-aa2c-e1cc96b4979b');\n",
              "          const dataTable =\n",
              "            await google.colab.kernel.invokeFunction('convertToInteractive',\n",
              "                                                     [key], {});\n",
              "          if (!dataTable) return;\n",
              "\n",
              "          const docLinkHtml = 'Like what you see? Visit the ' +\n",
              "            '<a target=\"_blank\" href=https://colab.research.google.com/notebooks/data_table.ipynb>data table notebook</a>'\n",
              "            + ' to learn more about interactive tables.';\n",
              "          element.innerHTML = '';\n",
              "          dataTable['output_type'] = 'display_data';\n",
              "          await google.colab.output.renderOutput(dataTable, element);\n",
              "          const docLink = document.createElement('div');\n",
              "          docLink.innerHTML = docLinkHtml;\n",
              "          element.appendChild(docLink);\n",
              "        }\n",
              "      </script>\n",
              "    </div>\n",
              "  </div>\n",
              "  "
            ]
          },
          "metadata": {},
          "execution_count": 47
        }
      ],
      "source": [
        "evaluation_metrics_aug"
      ]
    },
    {
      "cell_type": "markdown",
      "metadata": {
        "id": "SjEYoA_ns2qn"
      },
      "source": [
        "#BiLSTM"
      ]
    },
    {
      "cell_type": "code",
      "execution_count": null,
      "metadata": {
        "id": "bk1yt2Eas2-2"
      },
      "outputs": [],
      "source": [
        "import random\n",
        "import tensorflow as tf \n",
        "from tensorflow import keras \n",
        "from tensorflow.keras import layers\n",
        "from sklearn.metrics import ConfusionMatrixDisplay\n",
        "from tensorflow.keras.layers import Dropout,SpatialDropout1D\n",
        "from tensorflow.keras import regularizers\n",
        "from sklearn.model_selection import StratifiedKFold"
      ]
    },
    {
      "cell_type": "code",
      "source": [
        "def create_blstm_model(train_texts):\n",
        "\n",
        "  vectorize_layer = layers.TextVectorization(max_tokens=2000, output_sequence_length=200)\n",
        "\n",
        "  vectorize_layer.adapt(train_texts)\n",
        "\n",
        "  embedding_layer = layers.Embedding(input_dim=2000, output_dim=32)\n",
        "\n",
        "  model = tf.keras.models.Sequential()\n",
        "  model.add(tf.keras.Input(shape=(1,), dtype=tf.string))\n",
        "  model.add(vectorize_layer)\n",
        "  model.add(embedding_layer)\n",
        "  model.add(SpatialDropout1D(0.2))\n",
        "  model.add(layers.Bidirectional(layers.LSTM(64, bias_regularizer=regularizers.L2(1e-4), kernel_regularizer=regularizers.L1L2(l1=1e-4, l2=1e-4), activity_regularizer=regularizers.L2(1e-4))))\n",
        "  model.add(Dropout(0.2))\n",
        "  model.add(layers.Dense(5, activation='softmax'))\n",
        "\n",
        "\n",
        "  model.compile(optimizer=keras.optimizers.Adam(),\n",
        "                loss='sparse_categorical_crossentropy',\n",
        "                metrics=['accuracy'])  \n",
        "  print(model.summary())\n",
        "  \n",
        "  return model"
      ],
      "metadata": {
        "id": "N0u2GrBtwoYe"
      },
      "execution_count": null,
      "outputs": []
    },
    {
      "cell_type": "markdown",
      "source": [
        "# Cross Validation"
      ],
      "metadata": {
        "id": "CygVk74XWmFj"
      }
    },
    {
      "cell_type": "code",
      "source": [
        "def cv_blstm():\n",
        "\n",
        "  kf = StratifiedKFold(10, shuffle=True, random_state=42) \n",
        "  cv_metrics = pd.DataFrame(columns = ['Recall', 'Precision', 'F1 score', 'F2 score'])\n",
        "\n",
        "  fold = 0\n",
        "\n",
        "  X = augmented_dataset['text'].values\n",
        "  Y = augmented_dataset['label'].values\n",
        "\n",
        "  for train, val in kf.split(X, Y):  \n",
        "  \n",
        "    print(f\"Fold {fold}\")\n",
        "\n",
        "    train_texts = X[train]\n",
        "    train_labels = Y[train]\n",
        "    test_texts = X[val]\n",
        "    test_labels = Y[val]\n",
        "\n",
        "    blstm_model = create_blstm_model(train_texts)\n",
        "\n",
        "    history = blstm_model.fit(train_texts,\n",
        "                              train_labels,\n",
        "                              epochs=10,\n",
        "                              batch_size=64,\n",
        "                              validation_data=(test_texts, test_labels))\n",
        "\n",
        "    blstm_model.evaluate(test_texts, test_labels)\n",
        "    y_pred = np.round(blstm_model.predict(test_texts))\n",
        "    y_pred = np.argmax(y_pred, axis=1)\n",
        "\n",
        "    f1_sc = f1_score(test_labels, y_pred, average='macro')\n",
        "    f2score = fbeta_score(test_labels, y_pred, beta=2, average='macro')\n",
        "\n",
        "    cv_metrics.loc[fold, 'Recall'] = recall_score(test_labels, y_pred, average='macro')\n",
        "    cv_metrics.loc[fold, 'Precision'] = precision_score(test_labels, y_pred, average='macro')\n",
        "    cv_metrics.loc[fold, 'F1 score'] = f1_sc\n",
        "    cv_metrics.loc[fold, 'F2 score'] = f2score\n",
        "    \n",
        "    fold += 1\n",
        "\n",
        "  return cv_metrics"
      ],
      "metadata": {
        "id": "Z4NrWUQ2WmXQ"
      },
      "execution_count": null,
      "outputs": []
    },
    {
      "cell_type": "code",
      "source": [
        "cv_results = cv_blstm()"
      ],
      "metadata": {
        "colab": {
          "base_uri": "https://localhost:8080/"
        },
        "id": "0Pj25HLdWmmk",
        "outputId": "ea7594f6-ac67-450b-907d-c7f10937c871"
      },
      "execution_count": null,
      "outputs": [
        {
          "output_type": "stream",
          "name": "stdout",
          "text": [
            "Fold 0\n",
            "Model: \"sequential\"\n",
            "_________________________________________________________________\n",
            " Layer (type)                Output Shape              Param #   \n",
            "=================================================================\n",
            " text_vectorization (TextVec  (None, 200)              0         \n",
            " torization)                                                     \n",
            "                                                                 \n",
            " embedding (Embedding)       (None, 200, 32)           64000     \n",
            "                                                                 \n",
            " spatial_dropout1d (SpatialD  (None, 200, 32)          0         \n",
            " ropout1D)                                                       \n",
            "                                                                 \n",
            " bidirectional (Bidirectiona  (None, 128)              49664     \n",
            " l)                                                              \n",
            "                                                                 \n",
            " dropout (Dropout)           (None, 128)               0         \n",
            "                                                                 \n",
            " dense (Dense)               (None, 5)                 645       \n",
            "                                                                 \n",
            "=================================================================\n",
            "Total params: 114,309\n",
            "Trainable params: 114,309\n",
            "Non-trainable params: 0\n",
            "_________________________________________________________________\n",
            "None\n",
            "Epoch 1/10\n",
            "163/163 [==============================] - 30s 125ms/step - loss: 1.5006 - accuracy: 0.3696 - val_loss: 1.2854 - val_accuracy: 0.4758\n",
            "Epoch 2/10\n",
            "163/163 [==============================] - 9s 53ms/step - loss: 1.1525 - accuracy: 0.5334 - val_loss: 1.0691 - val_accuracy: 0.5855\n",
            "Epoch 3/10\n",
            "163/163 [==============================] - 6s 35ms/step - loss: 0.9881 - accuracy: 0.6174 - val_loss: 0.9846 - val_accuracy: 0.6287\n",
            "Epoch 4/10\n",
            "163/163 [==============================] - 5s 30ms/step - loss: 0.8947 - accuracy: 0.6721 - val_loss: 0.9935 - val_accuracy: 0.6114\n",
            "Epoch 5/10\n",
            "163/163 [==============================] - 4s 25ms/step - loss: 0.8386 - accuracy: 0.6957 - val_loss: 1.0422 - val_accuracy: 0.6123\n",
            "Epoch 6/10\n",
            "163/163 [==============================] - 3s 21ms/step - loss: 0.8044 - accuracy: 0.7127 - val_loss: 1.0046 - val_accuracy: 0.6442\n",
            "Epoch 7/10\n",
            "163/163 [==============================] - 4s 23ms/step - loss: 0.7625 - accuracy: 0.7280 - val_loss: 0.9809 - val_accuracy: 0.6408\n",
            "Epoch 8/10\n",
            "163/163 [==============================] - 4s 22ms/step - loss: 0.7435 - accuracy: 0.7373 - val_loss: 0.9603 - val_accuracy: 0.6434\n",
            "Epoch 9/10\n",
            "163/163 [==============================] - 4s 23ms/step - loss: 0.7159 - accuracy: 0.7471 - val_loss: 0.9466 - val_accuracy: 0.6442\n",
            "Epoch 10/10\n",
            "163/163 [==============================] - 3s 19ms/step - loss: 0.6884 - accuracy: 0.7632 - val_loss: 0.9362 - val_accuracy: 0.6632\n",
            "37/37 [==============================] - 0s 11ms/step - loss: 0.9362 - accuracy: 0.6632\n",
            "37/37 [==============================] - 1s 6ms/step\n",
            "Fold 1\n",
            "Model: \"sequential_1\"\n",
            "_________________________________________________________________\n",
            " Layer (type)                Output Shape              Param #   \n",
            "=================================================================\n",
            " text_vectorization_1 (TextV  (None, 200)              0         \n",
            " ectorization)                                                   \n",
            "                                                                 \n",
            " embedding_1 (Embedding)     (None, 200, 32)           64000     \n",
            "                                                                 \n",
            " spatial_dropout1d_1 (Spatia  (None, 200, 32)          0         \n",
            " lDropout1D)                                                     \n",
            "                                                                 \n",
            " bidirectional_1 (Bidirectio  (None, 128)              49664     \n",
            " nal)                                                            \n",
            "                                                                 \n",
            " dropout_1 (Dropout)         (None, 128)               0         \n",
            "                                                                 \n",
            " dense_1 (Dense)             (None, 5)                 645       \n",
            "                                                                 \n",
            "=================================================================\n",
            "Total params: 114,309\n",
            "Trainable params: 114,309\n",
            "Non-trainable params: 0\n",
            "_________________________________________________________________\n",
            "None\n",
            "Epoch 1/10\n",
            "163/163 [==============================] - 20s 99ms/step - loss: 1.5028 - accuracy: 0.3694 - val_loss: 1.2936 - val_accuracy: 0.4629\n",
            "Epoch 2/10\n",
            "163/163 [==============================] - 6s 39ms/step - loss: 1.1235 - accuracy: 0.5587 - val_loss: 1.0813 - val_accuracy: 0.5656\n",
            "Epoch 3/10\n",
            "163/163 [==============================] - 5s 31ms/step - loss: 0.9712 - accuracy: 0.6280 - val_loss: 0.9932 - val_accuracy: 0.6140\n",
            "Epoch 4/10\n",
            "163/163 [==============================] - 5s 28ms/step - loss: 0.8730 - accuracy: 0.6858 - val_loss: 0.9888 - val_accuracy: 0.6157\n",
            "Epoch 5/10\n",
            "163/163 [==============================] - 4s 24ms/step - loss: 0.8179 - accuracy: 0.7071 - val_loss: 0.9364 - val_accuracy: 0.6528\n",
            "Epoch 6/10\n",
            "163/163 [==============================] - 4s 22ms/step - loss: 0.7783 - accuracy: 0.7265 - val_loss: 0.9326 - val_accuracy: 0.6434\n",
            "Epoch 7/10\n",
            "163/163 [==============================] - 4s 23ms/step - loss: 0.7236 - accuracy: 0.7483 - val_loss: 0.9377 - val_accuracy: 0.6606\n",
            "Epoch 8/10\n",
            "163/163 [==============================] - 3s 19ms/step - loss: 0.6981 - accuracy: 0.7571 - val_loss: 0.9169 - val_accuracy: 0.6598\n",
            "Epoch 9/10\n",
            "163/163 [==============================] - 3s 20ms/step - loss: 0.6647 - accuracy: 0.7666 - val_loss: 0.9417 - val_accuracy: 0.6606\n",
            "Epoch 10/10\n",
            "163/163 [==============================] - 3s 18ms/step - loss: 0.6462 - accuracy: 0.7804 - val_loss: 0.9400 - val_accuracy: 0.6459\n",
            "37/37 [==============================] - 0s 8ms/step - loss: 0.9400 - accuracy: 0.6459\n",
            "37/37 [==============================] - 1s 7ms/step\n",
            "Fold 2\n",
            "Model: \"sequential_2\"\n",
            "_________________________________________________________________\n",
            " Layer (type)                Output Shape              Param #   \n",
            "=================================================================\n",
            " text_vectorization_2 (TextV  (None, 200)              0         \n",
            " ectorization)                                                   \n",
            "                                                                 \n",
            " embedding_2 (Embedding)     (None, 200, 32)           64000     \n",
            "                                                                 \n",
            " spatial_dropout1d_2 (Spatia  (None, 200, 32)          0         \n",
            " lDropout1D)                                                     \n",
            "                                                                 \n",
            " bidirectional_2 (Bidirectio  (None, 128)              49664     \n",
            " nal)                                                            \n",
            "                                                                 \n",
            " dropout_2 (Dropout)         (None, 128)               0         \n",
            "                                                                 \n",
            " dense_2 (Dense)             (None, 5)                 645       \n",
            "                                                                 \n",
            "=================================================================\n",
            "Total params: 114,309\n",
            "Trainable params: 114,309\n",
            "Non-trainable params: 0\n",
            "_________________________________________________________________\n",
            "None\n",
            "Epoch 1/10\n",
            "163/163 [==============================] - 21s 103ms/step - loss: 1.4962 - accuracy: 0.3769 - val_loss: 1.1514 - val_accuracy: 0.5587\n",
            "Epoch 2/10\n",
            "163/163 [==============================] - 7s 42ms/step - loss: 1.0961 - accuracy: 0.5606 - val_loss: 1.0077 - val_accuracy: 0.6019\n",
            "Epoch 3/10\n",
            "163/163 [==============================] - 5s 33ms/step - loss: 0.9622 - accuracy: 0.6364 - val_loss: 0.9723 - val_accuracy: 0.6330\n",
            "Epoch 4/10\n",
            "163/163 [==============================] - 3s 21ms/step - loss: 0.9075 - accuracy: 0.6685 - val_loss: 0.9203 - val_accuracy: 0.6606\n",
            "Epoch 5/10\n",
            "163/163 [==============================] - 3s 20ms/step - loss: 0.8061 - accuracy: 0.7111 - val_loss: 0.8894 - val_accuracy: 0.6701\n",
            "Epoch 6/10\n",
            "163/163 [==============================] - 4s 22ms/step - loss: 0.7547 - accuracy: 0.7303 - val_loss: 0.8881 - val_accuracy: 0.6693\n",
            "Epoch 7/10\n",
            "163/163 [==============================] - 4s 22ms/step - loss: 0.7306 - accuracy: 0.7399 - val_loss: 0.9213 - val_accuracy: 0.6675\n",
            "Epoch 8/10\n",
            "163/163 [==============================] - 3s 19ms/step - loss: 0.6876 - accuracy: 0.7584 - val_loss: 0.8992 - val_accuracy: 0.6727\n",
            "Epoch 9/10\n",
            "163/163 [==============================] - 3s 20ms/step - loss: 0.6344 - accuracy: 0.7859 - val_loss: 0.8648 - val_accuracy: 0.6710\n",
            "Epoch 10/10\n",
            "163/163 [==============================] - 4s 22ms/step - loss: 0.6002 - accuracy: 0.7959 - val_loss: 0.8909 - val_accuracy: 0.6788\n",
            "37/37 [==============================] - 0s 7ms/step - loss: 0.8909 - accuracy: 0.6788\n",
            "37/37 [==============================] - 1s 6ms/step\n",
            "Fold 3\n",
            "Model: \"sequential_3\"\n",
            "_________________________________________________________________\n",
            " Layer (type)                Output Shape              Param #   \n",
            "=================================================================\n",
            " text_vectorization_3 (TextV  (None, 200)              0         \n",
            " ectorization)                                                   \n",
            "                                                                 \n",
            " embedding_3 (Embedding)     (None, 200, 32)           64000     \n",
            "                                                                 \n",
            " spatial_dropout1d_3 (Spatia  (None, 200, 32)          0         \n",
            " lDropout1D)                                                     \n",
            "                                                                 \n",
            " bidirectional_3 (Bidirectio  (None, 128)              49664     \n",
            " nal)                                                            \n",
            "                                                                 \n",
            " dropout_3 (Dropout)         (None, 128)               0         \n",
            "                                                                 \n",
            " dense_3 (Dense)             (None, 5)                 645       \n",
            "                                                                 \n",
            "=================================================================\n",
            "Total params: 114,309\n",
            "Trainable params: 114,309\n",
            "Non-trainable params: 0\n",
            "_________________________________________________________________\n",
            "None\n",
            "Epoch 1/10\n",
            "163/163 [==============================] - 19s 98ms/step - loss: 1.5141 - accuracy: 0.3594 - val_loss: 1.2690 - val_accuracy: 0.4637\n",
            "Epoch 2/10\n",
            "163/163 [==============================] - 7s 45ms/step - loss: 1.1916 - accuracy: 0.5137 - val_loss: 1.1192 - val_accuracy: 0.5242\n",
            "Epoch 3/10\n",
            "163/163 [==============================] - 5s 30ms/step - loss: 1.0632 - accuracy: 0.5696 - val_loss: 1.0431 - val_accuracy: 0.5691\n",
            "Epoch 4/10\n",
            "163/163 [==============================] - 4s 24ms/step - loss: 0.9671 - accuracy: 0.6106 - val_loss: 1.0251 - val_accuracy: 0.6157\n",
            "Epoch 5/10\n",
            "163/163 [==============================] - 4s 26ms/step - loss: 0.9079 - accuracy: 0.6479 - val_loss: 0.9899 - val_accuracy: 0.6425\n",
            "Epoch 6/10\n",
            "163/163 [==============================] - 4s 22ms/step - loss: 0.8374 - accuracy: 0.6976 - val_loss: 0.9671 - val_accuracy: 0.6546\n",
            "Epoch 7/10\n",
            "163/163 [==============================] - 4s 21ms/step - loss: 0.7848 - accuracy: 0.7198 - val_loss: 0.9603 - val_accuracy: 0.6511\n",
            "Epoch 8/10\n",
            "163/163 [==============================] - 3s 21ms/step - loss: 0.7416 - accuracy: 0.7395 - val_loss: 0.9344 - val_accuracy: 0.6572\n",
            "Epoch 9/10\n",
            "163/163 [==============================] - 3s 19ms/step - loss: 0.7056 - accuracy: 0.7543 - val_loss: 0.9021 - val_accuracy: 0.6718\n",
            "Epoch 10/10\n",
            "163/163 [==============================] - 3s 19ms/step - loss: 0.6641 - accuracy: 0.7721 - val_loss: 0.8870 - val_accuracy: 0.6960\n",
            "37/37 [==============================] - 0s 7ms/step - loss: 0.8870 - accuracy: 0.6960\n",
            "37/37 [==============================] - 1s 7ms/step\n",
            "Fold 4\n",
            "Model: \"sequential_4\"\n",
            "_________________________________________________________________\n",
            " Layer (type)                Output Shape              Param #   \n",
            "=================================================================\n",
            " text_vectorization_4 (TextV  (None, 200)              0         \n",
            " ectorization)                                                   \n",
            "                                                                 \n",
            " embedding_4 (Embedding)     (None, 200, 32)           64000     \n",
            "                                                                 \n",
            " spatial_dropout1d_4 (Spatia  (None, 200, 32)          0         \n",
            " lDropout1D)                                                     \n",
            "                                                                 \n",
            " bidirectional_4 (Bidirectio  (None, 128)              49664     \n",
            " nal)                                                            \n",
            "                                                                 \n",
            " dropout_4 (Dropout)         (None, 128)               0         \n",
            "                                                                 \n",
            " dense_4 (Dense)             (None, 5)                 645       \n",
            "                                                                 \n",
            "=================================================================\n",
            "Total params: 114,309\n",
            "Trainable params: 114,309\n",
            "Non-trainable params: 0\n",
            "_________________________________________________________________\n",
            "None\n",
            "Epoch 1/10\n",
            "163/163 [==============================] - 21s 104ms/step - loss: 1.5095 - accuracy: 0.3606 - val_loss: 1.3183 - val_accuracy: 0.4775\n",
            "Epoch 2/10\n",
            "163/163 [==============================] - 7s 42ms/step - loss: 1.1013 - accuracy: 0.5570 - val_loss: 1.0777 - val_accuracy: 0.5415\n",
            "Epoch 3/10\n",
            "163/163 [==============================] - 5s 29ms/step - loss: 0.9694 - accuracy: 0.6316 - val_loss: 0.9581 - val_accuracy: 0.6278\n",
            "Epoch 4/10\n",
            "163/163 [==============================] - 4s 25ms/step - loss: 0.8733 - accuracy: 0.6800 - val_loss: 0.9767 - val_accuracy: 0.6244\n",
            "Epoch 5/10\n",
            "163/163 [==============================] - 4s 22ms/step - loss: 0.8193 - accuracy: 0.7065 - val_loss: 0.9369 - val_accuracy: 0.6434\n",
            "Epoch 6/10\n",
            "163/163 [==============================] - 3s 21ms/step - loss: 0.7662 - accuracy: 0.7251 - val_loss: 0.9368 - val_accuracy: 0.6494\n",
            "Epoch 7/10\n",
            "163/163 [==============================] - 4s 22ms/step - loss: 0.7380 - accuracy: 0.7355 - val_loss: 0.9116 - val_accuracy: 0.6623\n",
            "Epoch 8/10\n",
            "163/163 [==============================] - 3s 19ms/step - loss: 0.6920 - accuracy: 0.7566 - val_loss: 0.9274 - val_accuracy: 0.6485\n",
            "Epoch 9/10\n",
            "163/163 [==============================] - 3s 20ms/step - loss: 0.6683 - accuracy: 0.7655 - val_loss: 0.9152 - val_accuracy: 0.6528\n",
            "Epoch 10/10\n",
            "163/163 [==============================] - 3s 19ms/step - loss: 0.6378 - accuracy: 0.7781 - val_loss: 0.9172 - val_accuracy: 0.6623\n",
            "37/37 [==============================] - 0s 11ms/step - loss: 0.9172 - accuracy: 0.6623\n",
            "37/37 [==============================] - 1s 6ms/step\n",
            "Fold 5\n",
            "Model: \"sequential_5\"\n",
            "_________________________________________________________________\n",
            " Layer (type)                Output Shape              Param #   \n",
            "=================================================================\n",
            " text_vectorization_5 (TextV  (None, 200)              0         \n",
            " ectorization)                                                   \n",
            "                                                                 \n",
            " embedding_5 (Embedding)     (None, 200, 32)           64000     \n",
            "                                                                 \n",
            " spatial_dropout1d_5 (Spatia  (None, 200, 32)          0         \n",
            " lDropout1D)                                                     \n",
            "                                                                 \n",
            " bidirectional_5 (Bidirectio  (None, 128)              49664     \n",
            " nal)                                                            \n",
            "                                                                 \n",
            " dropout_5 (Dropout)         (None, 128)               0         \n",
            "                                                                 \n",
            " dense_5 (Dense)             (None, 5)                 645       \n",
            "                                                                 \n",
            "=================================================================\n",
            "Total params: 114,309\n",
            "Trainable params: 114,309\n",
            "Non-trainable params: 0\n",
            "_________________________________________________________________\n",
            "None\n",
            "Epoch 1/10\n",
            "163/163 [==============================] - 20s 100ms/step - loss: 1.5460 - accuracy: 0.3315 - val_loss: 1.3009 - val_accuracy: 0.4551\n",
            "Epoch 2/10\n",
            "163/163 [==============================] - 8s 46ms/step - loss: 1.1432 - accuracy: 0.5463 - val_loss: 1.0474 - val_accuracy: 0.5717\n",
            "Epoch 3/10\n",
            "163/163 [==============================] - 5s 28ms/step - loss: 0.9487 - accuracy: 0.6501 - val_loss: 0.9998 - val_accuracy: 0.6140\n",
            "Epoch 4/10\n",
            "163/163 [==============================] - 4s 22ms/step - loss: 0.8237 - accuracy: 0.7107 - val_loss: 0.9063 - val_accuracy: 0.6632\n",
            "Epoch 5/10\n",
            "163/163 [==============================] - 4s 27ms/step - loss: 0.7468 - accuracy: 0.7452 - val_loss: 0.8652 - val_accuracy: 0.6822\n",
            "Epoch 6/10\n",
            "163/163 [==============================] - 4s 22ms/step - loss: 0.6965 - accuracy: 0.7641 - val_loss: 0.8745 - val_accuracy: 0.6779\n",
            "Epoch 7/10\n",
            "163/163 [==============================] - 3s 18ms/step - loss: 0.6484 - accuracy: 0.7818 - val_loss: 0.8851 - val_accuracy: 0.6848\n",
            "Epoch 8/10\n",
            "163/163 [==============================] - 4s 25ms/step - loss: 0.6182 - accuracy: 0.7959 - val_loss: 0.8713 - val_accuracy: 0.6813\n",
            "Epoch 9/10\n",
            "163/163 [==============================] - 3s 21ms/step - loss: 0.5877 - accuracy: 0.8064 - val_loss: 0.8766 - val_accuracy: 0.7012\n",
            "Epoch 10/10\n",
            "163/163 [==============================] - 3s 19ms/step - loss: 0.5591 - accuracy: 0.8218 - val_loss: 0.9094 - val_accuracy: 0.6874\n",
            "37/37 [==============================] - 0s 12ms/step - loss: 0.9094 - accuracy: 0.6874\n",
            "37/37 [==============================] - 1s 7ms/step\n",
            "Fold 6\n",
            "Model: \"sequential_6\"\n",
            "_________________________________________________________________\n",
            " Layer (type)                Output Shape              Param #   \n",
            "=================================================================\n",
            " text_vectorization_6 (TextV  (None, 200)              0         \n",
            " ectorization)                                                   \n",
            "                                                                 \n",
            " embedding_6 (Embedding)     (None, 200, 32)           64000     \n",
            "                                                                 \n",
            " spatial_dropout1d_6 (Spatia  (None, 200, 32)          0         \n",
            " lDropout1D)                                                     \n",
            "                                                                 \n",
            " bidirectional_6 (Bidirectio  (None, 128)              49664     \n",
            " nal)                                                            \n",
            "                                                                 \n",
            " dropout_6 (Dropout)         (None, 128)               0         \n",
            "                                                                 \n",
            " dense_6 (Dense)             (None, 5)                 645       \n",
            "                                                                 \n",
            "=================================================================\n",
            "Total params: 114,309\n",
            "Trainable params: 114,309\n",
            "Non-trainable params: 0\n",
            "_________________________________________________________________\n",
            "None\n",
            "Epoch 1/10\n",
            "163/163 [==============================] - 19s 97ms/step - loss: 1.4874 - accuracy: 0.3813 - val_loss: 1.1418 - val_accuracy: 0.5484\n",
            "Epoch 2/10\n",
            "163/163 [==============================] - 9s 53ms/step - loss: 1.0757 - accuracy: 0.5625 - val_loss: 1.0685 - val_accuracy: 0.5794\n",
            "Epoch 3/10\n",
            "163/163 [==============================] - 5s 30ms/step - loss: 0.9521 - accuracy: 0.6363 - val_loss: 0.9960 - val_accuracy: 0.6511\n",
            "Epoch 4/10\n",
            "163/163 [==============================] - 4s 26ms/step - loss: 0.8704 - accuracy: 0.6799 - val_loss: 1.0562 - val_accuracy: 0.6028\n",
            "Epoch 5/10\n",
            "163/163 [==============================] - 3s 18ms/step - loss: 0.8103 - accuracy: 0.7112 - val_loss: 0.9273 - val_accuracy: 0.6848\n",
            "Epoch 6/10\n",
            "163/163 [==============================] - 3s 21ms/step - loss: 0.8320 - accuracy: 0.7022 - val_loss: 0.9556 - val_accuracy: 0.6572\n",
            "Epoch 7/10\n",
            "163/163 [==============================] - 4s 23ms/step - loss: 0.7281 - accuracy: 0.7440 - val_loss: 0.8863 - val_accuracy: 0.7003\n",
            "Epoch 8/10\n",
            "163/163 [==============================] - 3s 17ms/step - loss: 0.6803 - accuracy: 0.7623 - val_loss: 0.8977 - val_accuracy: 0.6900\n",
            "Epoch 9/10\n",
            "163/163 [==============================] - 3s 19ms/step - loss: 0.6567 - accuracy: 0.7731 - val_loss: 0.8998 - val_accuracy: 0.6926\n",
            "Epoch 10/10\n",
            "163/163 [==============================] - 3s 18ms/step - loss: 0.6173 - accuracy: 0.7915 - val_loss: 0.9153 - val_accuracy: 0.6960\n",
            "37/37 [==============================] - 0s 8ms/step - loss: 0.9153 - accuracy: 0.6960\n",
            "37/37 [==============================] - 1s 6ms/step\n",
            "Fold 7\n",
            "Model: \"sequential_7\"\n",
            "_________________________________________________________________\n",
            " Layer (type)                Output Shape              Param #   \n",
            "=================================================================\n",
            " text_vectorization_7 (TextV  (None, 200)              0         \n",
            " ectorization)                                                   \n",
            "                                                                 \n",
            " embedding_7 (Embedding)     (None, 200, 32)           64000     \n",
            "                                                                 \n",
            " spatial_dropout1d_7 (Spatia  (None, 200, 32)          0         \n",
            " lDropout1D)                                                     \n",
            "                                                                 \n",
            " bidirectional_7 (Bidirectio  (None, 128)              49664     \n",
            " nal)                                                            \n",
            "                                                                 \n",
            " dropout_7 (Dropout)         (None, 128)               0         \n",
            "                                                                 \n",
            " dense_7 (Dense)             (None, 5)                 645       \n",
            "                                                                 \n",
            "=================================================================\n",
            "Total params: 114,309\n",
            "Trainable params: 114,309\n",
            "Non-trainable params: 0\n",
            "_________________________________________________________________\n",
            "None\n",
            "Epoch 1/10\n",
            "163/163 [==============================] - 21s 105ms/step - loss: 1.5066 - accuracy: 0.3502 - val_loss: 1.3126 - val_accuracy: 0.4128\n",
            "Epoch 2/10\n",
            "163/163 [==============================] - 6s 37ms/step - loss: 1.1923 - accuracy: 0.5089 - val_loss: 1.1172 - val_accuracy: 0.5389\n",
            "Epoch 3/10\n",
            "163/163 [==============================] - 5s 30ms/step - loss: 0.9958 - accuracy: 0.6161 - val_loss: 1.0393 - val_accuracy: 0.6045\n",
            "Epoch 4/10\n",
            "163/163 [==============================] - 4s 23ms/step - loss: 0.8845 - accuracy: 0.6771 - val_loss: 0.9587 - val_accuracy: 0.6511\n",
            "Epoch 5/10\n",
            "163/163 [==============================] - 4s 27ms/step - loss: 0.8225 - accuracy: 0.7091 - val_loss: 0.9550 - val_accuracy: 0.6485\n",
            "Epoch 6/10\n",
            "163/163 [==============================] - 4s 22ms/step - loss: 0.7647 - accuracy: 0.7334 - val_loss: 0.9318 - val_accuracy: 0.6572\n",
            "Epoch 7/10\n",
            "163/163 [==============================] - 3s 19ms/step - loss: 0.7183 - accuracy: 0.7513 - val_loss: 0.9474 - val_accuracy: 0.6563\n",
            "Epoch 8/10\n",
            "163/163 [==============================] - 3s 20ms/step - loss: 0.6677 - accuracy: 0.7759 - val_loss: 1.0008 - val_accuracy: 0.6408\n",
            "Epoch 9/10\n",
            "163/163 [==============================] - 3s 20ms/step - loss: 0.6401 - accuracy: 0.7860 - val_loss: 0.9138 - val_accuracy: 0.6572\n",
            "Epoch 10/10\n",
            "163/163 [==============================] - 4s 22ms/step - loss: 0.6027 - accuracy: 0.8011 - val_loss: 0.9256 - val_accuracy: 0.6632\n",
            "37/37 [==============================] - 0s 8ms/step - loss: 0.9256 - accuracy: 0.6632\n",
            "37/37 [==============================] - 1s 7ms/step\n",
            "Fold 8\n",
            "Model: \"sequential_8\"\n",
            "_________________________________________________________________\n",
            " Layer (type)                Output Shape              Param #   \n",
            "=================================================================\n",
            " text_vectorization_8 (TextV  (None, 200)              0         \n",
            " ectorization)                                                   \n",
            "                                                                 \n",
            " embedding_8 (Embedding)     (None, 200, 32)           64000     \n",
            "                                                                 \n",
            " spatial_dropout1d_8 (Spatia  (None, 200, 32)          0         \n",
            " lDropout1D)                                                     \n",
            "                                                                 \n",
            " bidirectional_8 (Bidirectio  (None, 128)              49664     \n",
            " nal)                                                            \n",
            "                                                                 \n",
            " dropout_8 (Dropout)         (None, 128)               0         \n",
            "                                                                 \n",
            " dense_8 (Dense)             (None, 5)                 645       \n",
            "                                                                 \n",
            "=================================================================\n",
            "Total params: 114,309\n",
            "Trainable params: 114,309\n",
            "Non-trainable params: 0\n",
            "_________________________________________________________________\n",
            "None\n",
            "Epoch 1/10\n",
            "163/163 [==============================] - 20s 100ms/step - loss: 1.5055 - accuracy: 0.3636 - val_loss: 1.3136 - val_accuracy: 0.4417\n",
            "Epoch 2/10\n",
            "163/163 [==============================] - 7s 40ms/step - loss: 1.1826 - accuracy: 0.5134 - val_loss: 1.0869 - val_accuracy: 0.5411\n",
            "Epoch 3/10\n",
            "163/163 [==============================] - 5s 31ms/step - loss: 1.0243 - accuracy: 0.5930 - val_loss: 1.0452 - val_accuracy: 0.5661\n",
            "Epoch 4/10\n",
            "163/163 [==============================] - 4s 23ms/step - loss: 0.9725 - accuracy: 0.6182 - val_loss: 1.0441 - val_accuracy: 0.5929\n",
            "Epoch 5/10\n",
            "163/163 [==============================] - 4s 25ms/step - loss: 0.8902 - accuracy: 0.6658 - val_loss: 1.0199 - val_accuracy: 0.5912\n",
            "Epoch 6/10\n",
            "163/163 [==============================] - 3s 20ms/step - loss: 0.8114 - accuracy: 0.7127 - val_loss: 0.9351 - val_accuracy: 0.6396\n",
            "Epoch 7/10\n",
            "163/163 [==============================] - 3s 20ms/step - loss: 0.7364 - accuracy: 0.7417 - val_loss: 0.9120 - val_accuracy: 0.6569\n",
            "Epoch 8/10\n",
            "163/163 [==============================] - 3s 19ms/step - loss: 0.7058 - accuracy: 0.7596 - val_loss: 0.9271 - val_accuracy: 0.6569\n",
            "Epoch 9/10\n",
            "163/163 [==============================] - 3s 18ms/step - loss: 0.6651 - accuracy: 0.7752 - val_loss: 0.9173 - val_accuracy: 0.6742\n",
            "Epoch 10/10\n",
            "163/163 [==============================] - 3s 21ms/step - loss: 0.6283 - accuracy: 0.7888 - val_loss: 0.8816 - val_accuracy: 0.6724\n",
            "37/37 [==============================] - 0s 7ms/step - loss: 0.8816 - accuracy: 0.6724\n",
            "37/37 [==============================] - 1s 6ms/step\n",
            "Fold 9\n",
            "Model: \"sequential_9\"\n",
            "_________________________________________________________________\n",
            " Layer (type)                Output Shape              Param #   \n",
            "=================================================================\n",
            " text_vectorization_9 (TextV  (None, 200)              0         \n",
            " ectorization)                                                   \n",
            "                                                                 \n",
            " embedding_9 (Embedding)     (None, 200, 32)           64000     \n",
            "                                                                 \n",
            " spatial_dropout1d_9 (Spatia  (None, 200, 32)          0         \n",
            " lDropout1D)                                                     \n",
            "                                                                 \n",
            " bidirectional_9 (Bidirectio  (None, 128)              49664     \n",
            " nal)                                                            \n",
            "                                                                 \n",
            " dropout_9 (Dropout)         (None, 128)               0         \n",
            "                                                                 \n",
            " dense_9 (Dense)             (None, 5)                 645       \n",
            "                                                                 \n",
            "=================================================================\n",
            "Total params: 114,309\n",
            "Trainable params: 114,309\n",
            "Non-trainable params: 0\n",
            "_________________________________________________________________\n",
            "None\n",
            "Epoch 1/10\n",
            "163/163 [==============================] - 22s 113ms/step - loss: 1.4774 - accuracy: 0.3823 - val_loss: 1.1659 - val_accuracy: 0.5445\n",
            "Epoch 2/10\n",
            "163/163 [==============================] - 7s 42ms/step - loss: 1.0733 - accuracy: 0.5737 - val_loss: 1.0405 - val_accuracy: 0.6050\n",
            "Epoch 3/10\n",
            "163/163 [==============================] - 4s 27ms/step - loss: 0.9559 - accuracy: 0.6487 - val_loss: 0.9776 - val_accuracy: 0.6283\n",
            "Epoch 4/10\n",
            "163/163 [==============================] - 4s 24ms/step - loss: 0.8618 - accuracy: 0.6877 - val_loss: 1.0633 - val_accuracy: 0.5990\n",
            "Epoch 5/10\n",
            "163/163 [==============================] - 3s 19ms/step - loss: 0.8136 - accuracy: 0.7088 - val_loss: 0.9617 - val_accuracy: 0.6508\n",
            "Epoch 6/10\n",
            "163/163 [==============================] - 4s 25ms/step - loss: 0.7594 - accuracy: 0.7243 - val_loss: 0.9805 - val_accuracy: 0.6508\n",
            "Epoch 7/10\n",
            "163/163 [==============================] - 4s 23ms/step - loss: 0.7278 - accuracy: 0.7441 - val_loss: 0.9624 - val_accuracy: 0.6448\n",
            "Epoch 8/10\n",
            "163/163 [==============================] - 3s 17ms/step - loss: 0.6892 - accuracy: 0.7627 - val_loss: 0.9515 - val_accuracy: 0.6448\n",
            "Epoch 9/10\n",
            "163/163 [==============================] - 3s 17ms/step - loss: 0.6612 - accuracy: 0.7700 - val_loss: 0.9901 - val_accuracy: 0.6586\n",
            "Epoch 10/10\n",
            "163/163 [==============================] - 3s 21ms/step - loss: 0.6319 - accuracy: 0.7802 - val_loss: 1.0379 - val_accuracy: 0.6465\n",
            "37/37 [==============================] - 0s 11ms/step - loss: 1.0379 - accuracy: 0.6465\n",
            "37/37 [==============================] - 1s 7ms/step\n"
          ]
        }
      ]
    },
    {
      "cell_type": "code",
      "source": [
        "cv_results"
      ],
      "metadata": {
        "colab": {
          "base_uri": "https://localhost:8080/",
          "height": 363
        },
        "id": "Bipp_vZIWm2x",
        "outputId": "a132ac59-bc9e-4c01-eb83-88e8c25ad6d5"
      },
      "execution_count": null,
      "outputs": [
        {
          "output_type": "execute_result",
          "data": {
            "text/plain": [
              "     Recall Precision  F1 score  F2 score\n",
              "0  0.648144  0.666767  0.643869  0.642228\n",
              "1  0.669916  0.657444  0.661361  0.665912\n",
              "2  0.688466  0.675729  0.679723  0.684388\n",
              "3  0.693317  0.695668  0.681945  0.685247\n",
              "4  0.664176  0.657799  0.651949  0.656768\n",
              "5  0.689122  0.679126  0.675106  0.681136\n",
              "6  0.676339  0.692929  0.669932  0.669219\n",
              "7  0.678679    0.6722  0.662534   0.66884\n",
              "8  0.649741   0.67322  0.647143  0.644688\n",
              "9  0.647607  0.648535  0.633814  0.638151"
            ],
            "text/html": [
              "\n",
              "  <div id=\"df-5e8ce23f-2aa9-496b-830a-0fa844e30674\">\n",
              "    <div class=\"colab-df-container\">\n",
              "      <div>\n",
              "<style scoped>\n",
              "    .dataframe tbody tr th:only-of-type {\n",
              "        vertical-align: middle;\n",
              "    }\n",
              "\n",
              "    .dataframe tbody tr th {\n",
              "        vertical-align: top;\n",
              "    }\n",
              "\n",
              "    .dataframe thead th {\n",
              "        text-align: right;\n",
              "    }\n",
              "</style>\n",
              "<table border=\"1\" class=\"dataframe\">\n",
              "  <thead>\n",
              "    <tr style=\"text-align: right;\">\n",
              "      <th></th>\n",
              "      <th>Recall</th>\n",
              "      <th>Precision</th>\n",
              "      <th>F1 score</th>\n",
              "      <th>F2 score</th>\n",
              "    </tr>\n",
              "  </thead>\n",
              "  <tbody>\n",
              "    <tr>\n",
              "      <th>0</th>\n",
              "      <td>0.648144</td>\n",
              "      <td>0.666767</td>\n",
              "      <td>0.643869</td>\n",
              "      <td>0.642228</td>\n",
              "    </tr>\n",
              "    <tr>\n",
              "      <th>1</th>\n",
              "      <td>0.669916</td>\n",
              "      <td>0.657444</td>\n",
              "      <td>0.661361</td>\n",
              "      <td>0.665912</td>\n",
              "    </tr>\n",
              "    <tr>\n",
              "      <th>2</th>\n",
              "      <td>0.688466</td>\n",
              "      <td>0.675729</td>\n",
              "      <td>0.679723</td>\n",
              "      <td>0.684388</td>\n",
              "    </tr>\n",
              "    <tr>\n",
              "      <th>3</th>\n",
              "      <td>0.693317</td>\n",
              "      <td>0.695668</td>\n",
              "      <td>0.681945</td>\n",
              "      <td>0.685247</td>\n",
              "    </tr>\n",
              "    <tr>\n",
              "      <th>4</th>\n",
              "      <td>0.664176</td>\n",
              "      <td>0.657799</td>\n",
              "      <td>0.651949</td>\n",
              "      <td>0.656768</td>\n",
              "    </tr>\n",
              "    <tr>\n",
              "      <th>5</th>\n",
              "      <td>0.689122</td>\n",
              "      <td>0.679126</td>\n",
              "      <td>0.675106</td>\n",
              "      <td>0.681136</td>\n",
              "    </tr>\n",
              "    <tr>\n",
              "      <th>6</th>\n",
              "      <td>0.676339</td>\n",
              "      <td>0.692929</td>\n",
              "      <td>0.669932</td>\n",
              "      <td>0.669219</td>\n",
              "    </tr>\n",
              "    <tr>\n",
              "      <th>7</th>\n",
              "      <td>0.678679</td>\n",
              "      <td>0.6722</td>\n",
              "      <td>0.662534</td>\n",
              "      <td>0.66884</td>\n",
              "    </tr>\n",
              "    <tr>\n",
              "      <th>8</th>\n",
              "      <td>0.649741</td>\n",
              "      <td>0.67322</td>\n",
              "      <td>0.647143</td>\n",
              "      <td>0.644688</td>\n",
              "    </tr>\n",
              "    <tr>\n",
              "      <th>9</th>\n",
              "      <td>0.647607</td>\n",
              "      <td>0.648535</td>\n",
              "      <td>0.633814</td>\n",
              "      <td>0.638151</td>\n",
              "    </tr>\n",
              "  </tbody>\n",
              "</table>\n",
              "</div>\n",
              "      <button class=\"colab-df-convert\" onclick=\"convertToInteractive('df-5e8ce23f-2aa9-496b-830a-0fa844e30674')\"\n",
              "              title=\"Convert this dataframe to an interactive table.\"\n",
              "              style=\"display:none;\">\n",
              "        \n",
              "  <svg xmlns=\"http://www.w3.org/2000/svg\" height=\"24px\"viewBox=\"0 0 24 24\"\n",
              "       width=\"24px\">\n",
              "    <path d=\"M0 0h24v24H0V0z\" fill=\"none\"/>\n",
              "    <path d=\"M18.56 5.44l.94 2.06.94-2.06 2.06-.94-2.06-.94-.94-2.06-.94 2.06-2.06.94zm-11 1L8.5 8.5l.94-2.06 2.06-.94-2.06-.94L8.5 2.5l-.94 2.06-2.06.94zm10 10l.94 2.06.94-2.06 2.06-.94-2.06-.94-.94-2.06-.94 2.06-2.06.94z\"/><path d=\"M17.41 7.96l-1.37-1.37c-.4-.4-.92-.59-1.43-.59-.52 0-1.04.2-1.43.59L10.3 9.45l-7.72 7.72c-.78.78-.78 2.05 0 2.83L4 21.41c.39.39.9.59 1.41.59.51 0 1.02-.2 1.41-.59l7.78-7.78 2.81-2.81c.8-.78.8-2.07 0-2.86zM5.41 20L4 18.59l7.72-7.72 1.47 1.35L5.41 20z\"/>\n",
              "  </svg>\n",
              "      </button>\n",
              "      \n",
              "  <style>\n",
              "    .colab-df-container {\n",
              "      display:flex;\n",
              "      flex-wrap:wrap;\n",
              "      gap: 12px;\n",
              "    }\n",
              "\n",
              "    .colab-df-convert {\n",
              "      background-color: #E8F0FE;\n",
              "      border: none;\n",
              "      border-radius: 50%;\n",
              "      cursor: pointer;\n",
              "      display: none;\n",
              "      fill: #1967D2;\n",
              "      height: 32px;\n",
              "      padding: 0 0 0 0;\n",
              "      width: 32px;\n",
              "    }\n",
              "\n",
              "    .colab-df-convert:hover {\n",
              "      background-color: #E2EBFA;\n",
              "      box-shadow: 0px 1px 2px rgba(60, 64, 67, 0.3), 0px 1px 3px 1px rgba(60, 64, 67, 0.15);\n",
              "      fill: #174EA6;\n",
              "    }\n",
              "\n",
              "    [theme=dark] .colab-df-convert {\n",
              "      background-color: #3B4455;\n",
              "      fill: #D2E3FC;\n",
              "    }\n",
              "\n",
              "    [theme=dark] .colab-df-convert:hover {\n",
              "      background-color: #434B5C;\n",
              "      box-shadow: 0px 1px 3px 1px rgba(0, 0, 0, 0.15);\n",
              "      filter: drop-shadow(0px 1px 2px rgba(0, 0, 0, 0.3));\n",
              "      fill: #FFFFFF;\n",
              "    }\n",
              "  </style>\n",
              "\n",
              "      <script>\n",
              "        const buttonEl =\n",
              "          document.querySelector('#df-5e8ce23f-2aa9-496b-830a-0fa844e30674 button.colab-df-convert');\n",
              "        buttonEl.style.display =\n",
              "          google.colab.kernel.accessAllowed ? 'block' : 'none';\n",
              "\n",
              "        async function convertToInteractive(key) {\n",
              "          const element = document.querySelector('#df-5e8ce23f-2aa9-496b-830a-0fa844e30674');\n",
              "          const dataTable =\n",
              "            await google.colab.kernel.invokeFunction('convertToInteractive',\n",
              "                                                     [key], {});\n",
              "          if (!dataTable) return;\n",
              "\n",
              "          const docLinkHtml = 'Like what you see? Visit the ' +\n",
              "            '<a target=\"_blank\" href=https://colab.research.google.com/notebooks/data_table.ipynb>data table notebook</a>'\n",
              "            + ' to learn more about interactive tables.';\n",
              "          element.innerHTML = '';\n",
              "          dataTable['output_type'] = 'display_data';\n",
              "          await google.colab.output.renderOutput(dataTable, element);\n",
              "          const docLink = document.createElement('div');\n",
              "          docLink.innerHTML = docLinkHtml;\n",
              "          element.appendChild(docLink);\n",
              "        }\n",
              "      </script>\n",
              "    </div>\n",
              "  </div>\n",
              "  "
            ]
          },
          "metadata": {},
          "execution_count": 19
        }
      ]
    },
    {
      "cell_type": "code",
      "source": [
        "cv_results.mean()"
      ],
      "metadata": {
        "colab": {
          "base_uri": "https://localhost:8080/"
        },
        "id": "cEdVihT9WnQi",
        "outputId": "1ce32d46-c2e9-423c-be4b-d10a88742af0"
      },
      "execution_count": null,
      "outputs": [
        {
          "output_type": "execute_result",
          "data": {
            "text/plain": [
              "Recall       0.670551\n",
              "Precision    0.671942\n",
              "F1 score     0.660738\n",
              "F2 score     0.663658\n",
              "dtype: float64"
            ]
          },
          "metadata": {},
          "execution_count": 20
        }
      ]
    },
    {
      "cell_type": "code",
      "execution_count": null,
      "metadata": {
        "id": "k5W9M_Bms3rX"
      },
      "outputs": [],
      "source": [
        "def train_blstm(train_texts, train_labels, test_texts, test_labels):\n",
        "\n",
        "  blstm_model = create_blstm_model(train_texts)\n",
        "  \n",
        "  history = blstm_model.fit(train_texts,\n",
        "                            train_labels,\n",
        "                            epochs=10,\n",
        "                            batch_size=32,\n",
        "                            validation_data=(test_texts, test_labels))\n",
        "  \n",
        "  blstm_model.evaluate(test_texts, test_labels)\n",
        "  y_pred = np.round(blstm_model.predict(test_texts))\n",
        "\n",
        "  y_pred = np.argmax(y_pred, axis=1)\n",
        "\n",
        "  f1_sc = f1_score(test_labels, y_pred, average='macro')\n",
        "  f2score = fbeta_score(test_labels, y_pred, beta=2, average='macro')\n",
        "\n",
        "  print(\"Recall = {}\".format(recall_score(test_labels, y_pred, average='macro')))\n",
        "  print(\"Precision = {}\".format(precision_score(test_labels, y_pred, average='macro')))\n",
        "  print(\"F1 score = {}\".format(f1_sc))\n",
        "  print(\"F2 score = {}\".format(f2score))\n",
        "  print(classification_report(test_labels, y_pred))\n",
        "  \n",
        "  cm = confusion_matrix(test_labels, y_pred)\n",
        "\n",
        "  disp = ConfusionMatrixDisplay(confusion_matrix=cm, display_labels=[0,1,2,3,4])\n",
        "\n",
        "  disp.plot(cmap=plt.cm.Blues)\n",
        "  plt.show()\n",
        "\n",
        "  return f1_sc"
      ]
    },
    {
      "cell_type": "code",
      "execution_count": null,
      "metadata": {
        "id": "uAp0fIZks3lO"
      },
      "outputs": [],
      "source": [
        "X_test = test_data['text'].values.reshape(-1, 1)"
      ]
    },
    {
      "cell_type": "code",
      "execution_count": null,
      "metadata": {
        "id": "rd9EpIoZs3iV"
      },
      "outputs": [],
      "source": [
        "y_test = test_data['label'].values"
      ]
    },
    {
      "cell_type": "code",
      "execution_count": null,
      "metadata": {
        "id": "2buNsllJs3ef"
      },
      "outputs": [],
      "source": [
        "aug_X_train = augmented_dataset['text'].values.reshape(-1, 1)"
      ]
    },
    {
      "cell_type": "code",
      "execution_count": null,
      "metadata": {
        "colab": {
          "base_uri": "https://localhost:8080/"
        },
        "id": "Y1bSkzc5tHSc",
        "outputId": "ce948d73-0be7-40e7-c3a3-50406306d576"
      },
      "outputs": [
        {
          "output_type": "execute_result",
          "data": {
            "text/plain": [
              "(11578, 1)"
            ]
          },
          "metadata": {},
          "execution_count": 26
        }
      ],
      "source": [
        "aug_X_train.shape"
      ]
    },
    {
      "cell_type": "code",
      "execution_count": null,
      "metadata": {
        "id": "4wUE4l-PtI84"
      },
      "outputs": [],
      "source": [
        "aug_y_train = augmented_dataset['label'].values.reshape(-1, 1)"
      ]
    },
    {
      "cell_type": "code",
      "execution_count": null,
      "metadata": {
        "colab": {
          "base_uri": "https://localhost:8080/"
        },
        "id": "P_nfOU1KtIxl",
        "outputId": "3c072da2-c5a6-4e13-e880-042854155306"
      },
      "outputs": [
        {
          "output_type": "execute_result",
          "data": {
            "text/plain": [
              "(11578, 1)"
            ]
          },
          "metadata": {},
          "execution_count": 28
        }
      ],
      "source": [
        "aug_y_train.shape"
      ]
    },
    {
      "cell_type": "code",
      "execution_count": null,
      "metadata": {
        "colab": {
          "base_uri": "https://localhost:8080/",
          "height": 1000
        },
        "id": "VZwHR6DZtIuf",
        "outputId": "83bbe127-0cc9-421a-e717-824df8e5073c"
      },
      "outputs": [
        {
          "output_type": "stream",
          "name": "stdout",
          "text": [
            "Model: \"sequential_1\"\n",
            "_________________________________________________________________\n",
            " Layer (type)                Output Shape              Param #   \n",
            "=================================================================\n",
            " text_vectorization_1 (TextV  (None, 200)              0         \n",
            " ectorization)                                                   \n",
            "                                                                 \n",
            " embedding_1 (Embedding)     (None, 200, 32)           64000     \n",
            "                                                                 \n",
            " spatial_dropout1d (SpatialD  (None, 200, 32)          0         \n",
            " ropout1D)                                                       \n",
            "                                                                 \n",
            " bidirectional_1 (Bidirectio  (None, 128)              49664     \n",
            " nal)                                                            \n",
            "                                                                 \n",
            " dropout_1 (Dropout)         (None, 128)               0         \n",
            "                                                                 \n",
            " dense_1 (Dense)             (None, 5)                 645       \n",
            "                                                                 \n",
            "=================================================================\n",
            "Total params: 114,309\n",
            "Trainable params: 114,309\n",
            "Non-trainable params: 0\n",
            "_________________________________________________________________\n",
            "None\n",
            "Epoch 1/10\n",
            "362/362 [==============================] - 40s 99ms/step - loss: 1.3621 - accuracy: 0.4301 - val_loss: 1.1741 - val_accuracy: 0.5390\n",
            "Epoch 2/10\n",
            "362/362 [==============================] - 12s 34ms/step - loss: 1.0478 - accuracy: 0.5772 - val_loss: 1.1655 - val_accuracy: 0.5588\n",
            "Epoch 3/10\n",
            "362/362 [==============================] - 8s 22ms/step - loss: 0.9281 - accuracy: 0.6454 - val_loss: 1.1854 - val_accuracy: 0.5574\n",
            "Epoch 4/10\n",
            "362/362 [==============================] - 7s 20ms/step - loss: 0.8107 - accuracy: 0.7060 - val_loss: 1.1226 - val_accuracy: 0.5726\n",
            "Epoch 5/10\n",
            "362/362 [==============================] - 8s 21ms/step - loss: 0.7465 - accuracy: 0.7354 - val_loss: 1.1200 - val_accuracy: 0.5617\n",
            "Epoch 6/10\n",
            "362/362 [==============================] - 7s 18ms/step - loss: 0.6886 - accuracy: 0.7609 - val_loss: 1.1874 - val_accuracy: 0.5628\n",
            "Epoch 7/10\n",
            "362/362 [==============================] - 7s 19ms/step - loss: 0.6448 - accuracy: 0.7753 - val_loss: 1.2276 - val_accuracy: 0.5563\n",
            "Epoch 8/10\n",
            "362/362 [==============================] - 6s 18ms/step - loss: 0.6119 - accuracy: 0.7908 - val_loss: 1.2353 - val_accuracy: 0.5516\n",
            "Epoch 9/10\n",
            "362/362 [==============================] - 7s 18ms/step - loss: 0.5838 - accuracy: 0.8039 - val_loss: 1.3136 - val_accuracy: 0.5437\n",
            "Epoch 10/10\n",
            "362/362 [==============================] - 6s 18ms/step - loss: 0.5620 - accuracy: 0.8119 - val_loss: 1.3805 - val_accuracy: 0.5426\n",
            "87/87 [==============================] - 1s 7ms/step - loss: 1.3805 - accuracy: 0.5426\n",
            "87/87 [==============================] - 1s 6ms/step\n",
            "Recall = 0.548174705378581\n",
            "Precision = 0.5220353879460677\n",
            "F1 score = 0.5225169917919792\n",
            "F2 score = 0.534770364217054\n",
            "              precision    recall  f1-score   support\n",
            "\n",
            "           0       0.52      0.79      0.63       616\n",
            "           1       0.44      0.55      0.49       287\n",
            "           2       0.52      0.42      0.46       366\n",
            "           3       0.64      0.69      0.67       589\n",
            "           4       0.49      0.30      0.37       912\n",
            "\n",
            "    accuracy                           0.53      2770\n",
            "   macro avg       0.52      0.55      0.52      2770\n",
            "weighted avg       0.53      0.53      0.51      2770\n",
            "\n"
          ]
        },
        {
          "output_type": "display_data",
          "data": {
            "text/plain": [
              "<Figure size 640x480 with 2 Axes>"
            ],
            "image/png": "[encoded data removed]"
          },
          "metadata": {}
        },
        {
          "output_type": "execute_result",
          "data": {
            "text/plain": [
              "0.5225169917919792"
            ]
          },
          "metadata": {},
          "execution_count": 31
        }
      ],
      "source": [
        "train_blstm(aug_X_train, aug_y_train, X_test, y_test)"
      ]
    }
  ],
  "metadata": {
    "accelerator": "GPU",
    "colab": {
      "machine_shape": "hm",
      "provenance": []
    },
    "gpuClass": "premium",
    "kernelspec": {
      "display_name": "Python 3",
      "name": "python3"
    },
    "language_info": {
      "name": "python"
    }
  },
  "nbformat": 4,
  "nbformat_minor": 0
}