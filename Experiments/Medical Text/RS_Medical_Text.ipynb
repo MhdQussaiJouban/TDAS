{
  "cells": [
    {
      "cell_type": "code",
      "execution_count": null,
      "metadata": {
        "id": "1fxQvigWg05-",
        "colab": {
          "base_uri": "https://localhost:8080/"
        },
        "outputId": "4fc92b57-1dcf-4eb0-bae2-6bef79870995"
      },
      "outputs": [
        {
          "output_type": "stream",
          "name": "stderr",
          "text": [
            "[nltk_data] Downloading package stopwords to /root/nltk_data...\n",
            "[nltk_data]   Unzipping corpora/stopwords.zip.\n",
            "[nltk_data] Downloading package punkt to /root/nltk_data...\n",
            "[nltk_data]   Unzipping tokenizers/punkt.zip.\n",
            "[nltk_data] Downloading package averaged_perceptron_tagger to\n",
            "[nltk_data]     /root/nltk_data...\n",
            "[nltk_data]   Unzipping taggers/averaged_perceptron_tagger.zip.\n"
          ]
        },
        {
          "output_type": "stream",
          "name": "stdout",
          "text": [
            "Mounted at /content/gdrive\n"
          ]
        }
      ],
      "source": [
        "from datetime import datetime\n",
        "import numpy as np\n",
        "import pandas as pd\n",
        "from sklearn.preprocessing import LabelEncoder\n",
        "from sklearn.model_selection import train_test_split\n",
        "from sklearn.ensemble import RandomForestClassifier, ExtraTreesClassifier\n",
        "from sklearn.linear_model import SGDClassifier, LogisticRegression\n",
        "from sklearn.naive_bayes import GaussianNB\n",
        "from sklearn.neural_network import MLPClassifier\n",
        "from sklearn.svm import SVC\n",
        "from sklearn.neighbors import KNeighborsClassifier\n",
        "from sklearn.model_selection import GridSearchCV\n",
        "from sklearn.ensemble import StackingClassifier\n",
        "from sklearn.metrics import confusion_matrix\n",
        "from sklearn.metrics import ConfusionMatrixDisplay\n",
        "from sklearn.metrics import accuracy_score, recall_score, precision_score, f1_score, fbeta_score, classification_report\n",
        "from sklearn.metrics import make_scorer \n",
        "import matplotlib.pyplot as plt\n",
        "import gensim.downloader as api\n",
        "\n",
        "import nltk\n",
        "from nltk.tokenize import word_tokenize\n",
        "from nltk import pos_tag\n",
        "nltk.download('stopwords')\n",
        "nltk.download('punkt')\n",
        "nltk.download('averaged_perceptron_tagger')\n",
        "\n",
        "from google.colab import drive\n",
        "drive.mount('/content/gdrive')\n",
        "dir_name = \"/content/gdrive/MyDrive/Thesis/\""
      ]
    },
    {
      "cell_type": "code",
      "execution_count": null,
      "metadata": {
        "id": "U3XESbgnh173",
        "colab": {
          "base_uri": "https://localhost:8080/",
          "height": 424
        },
        "outputId": "f2b67c90-856a-4af3-f851-897b6dc969b2"
      },
      "outputs": [
        {
          "output_type": "execute_result",
          "data": {
            "text/plain": [
              "       label                                               text\n",
              "0          4  Tissue changes around loose prostheses. A cani...\n",
              "1          0  Neuropeptide Y and neuron-specific enolase lev...\n",
              "2          1  Sexually transmitted diseases of the colon, re...\n",
              "3          0  Lipolytic factors associated with murine and h...\n",
              "4          2  Does carotid restenosis predict an increased r...\n",
              "...      ...                                                ...\n",
              "11545      0  Epirubicin at two dose levels with prednisolon...\n",
              "11546      0  Four and a half year follow up of women with d...\n",
              "11547      4  Safety of the transbronchial biopsy in outpati...\n",
              "11548      2  Interictal spikes and hippocampal somatostatin...\n",
              "11549      4  Recurrent thoracic outlet syndrome after first...\n",
              "\n",
              "[11550 rows x 2 columns]"
            ],
            "text/html": [
              "\n",
              "  <div id=\"df-ee162c32-d4ab-40c0-a03a-4f19f88a6748\">\n",
              "    <div class=\"colab-df-container\">\n",
              "      <div>\n",
              "<style scoped>\n",
              "    .dataframe tbody tr th:only-of-type {\n",
              "        vertical-align: middle;\n",
              "    }\n",
              "\n",
              "    .dataframe tbody tr th {\n",
              "        vertical-align: top;\n",
              "    }\n",
              "\n",
              "    .dataframe thead th {\n",
              "        text-align: right;\n",
              "    }\n",
              "</style>\n",
              "<table border=\"1\" class=\"dataframe\">\n",
              "  <thead>\n",
              "    <tr style=\"text-align: right;\">\n",
              "      <th></th>\n",
              "      <th>label</th>\n",
              "      <th>text</th>\n",
              "    </tr>\n",
              "  </thead>\n",
              "  <tbody>\n",
              "    <tr>\n",
              "      <th>0</th>\n",
              "      <td>4</td>\n",
              "      <td>Tissue changes around loose prostheses. A cani...</td>\n",
              "    </tr>\n",
              "    <tr>\n",
              "      <th>1</th>\n",
              "      <td>0</td>\n",
              "      <td>Neuropeptide Y and neuron-specific enolase lev...</td>\n",
              "    </tr>\n",
              "    <tr>\n",
              "      <th>2</th>\n",
              "      <td>1</td>\n",
              "      <td>Sexually transmitted diseases of the colon, re...</td>\n",
              "    </tr>\n",
              "    <tr>\n",
              "      <th>3</th>\n",
              "      <td>0</td>\n",
              "      <td>Lipolytic factors associated with murine and h...</td>\n",
              "    </tr>\n",
              "    <tr>\n",
              "      <th>4</th>\n",
              "      <td>2</td>\n",
              "      <td>Does carotid restenosis predict an increased r...</td>\n",
              "    </tr>\n",
              "    <tr>\n",
              "      <th>...</th>\n",
              "      <td>...</td>\n",
              "      <td>...</td>\n",
              "    </tr>\n",
              "    <tr>\n",
              "      <th>11545</th>\n",
              "      <td>0</td>\n",
              "      <td>Epirubicin at two dose levels with prednisolon...</td>\n",
              "    </tr>\n",
              "    <tr>\n",
              "      <th>11546</th>\n",
              "      <td>0</td>\n",
              "      <td>Four and a half year follow up of women with d...</td>\n",
              "    </tr>\n",
              "    <tr>\n",
              "      <th>11547</th>\n",
              "      <td>4</td>\n",
              "      <td>Safety of the transbronchial biopsy in outpati...</td>\n",
              "    </tr>\n",
              "    <tr>\n",
              "      <th>11548</th>\n",
              "      <td>2</td>\n",
              "      <td>Interictal spikes and hippocampal somatostatin...</td>\n",
              "    </tr>\n",
              "    <tr>\n",
              "      <th>11549</th>\n",
              "      <td>4</td>\n",
              "      <td>Recurrent thoracic outlet syndrome after first...</td>\n",
              "    </tr>\n",
              "  </tbody>\n",
              "</table>\n",
              "<p>11550 rows × 2 columns</p>\n",
              "</div>\n",
              "      <button class=\"colab-df-convert\" onclick=\"convertToInteractive('df-ee162c32-d4ab-40c0-a03a-4f19f88a6748')\"\n",
              "              title=\"Convert this dataframe to an interactive table.\"\n",
              "              style=\"display:none;\">\n",
              "        \n",
              "  <svg xmlns=\"http://www.w3.org/2000/svg\" height=\"24px\"viewBox=\"0 0 24 24\"\n",
              "       width=\"24px\">\n",
              "    <path d=\"M0 0h24v24H0V0z\" fill=\"none\"/>\n",
              "    <path d=\"M18.56 5.44l.94 2.06.94-2.06 2.06-.94-2.06-.94-.94-2.06-.94 2.06-2.06.94zm-11 1L8.5 8.5l.94-2.06 2.06-.94-2.06-.94L8.5 2.5l-.94 2.06-2.06.94zm10 10l.94 2.06.94-2.06 2.06-.94-2.06-.94-.94-2.06-.94 2.06-2.06.94z\"/><path d=\"M17.41 7.96l-1.37-1.37c-.4-.4-.92-.59-1.43-.59-.52 0-1.04.2-1.43.59L10.3 9.45l-7.72 7.72c-.78.78-.78 2.05 0 2.83L4 21.41c.39.39.9.59 1.41.59.51 0 1.02-.2 1.41-.59l7.78-7.78 2.81-2.81c.8-.78.8-2.07 0-2.86zM5.41 20L4 18.59l7.72-7.72 1.47 1.35L5.41 20z\"/>\n",
              "  </svg>\n",
              "      </button>\n",
              "      \n",
              "  <style>\n",
              "    .colab-df-container {\n",
              "      display:flex;\n",
              "      flex-wrap:wrap;\n",
              "      gap: 12px;\n",
              "    }\n",
              "\n",
              "    .colab-df-convert {\n",
              "      background-color: #E8F0FE;\n",
              "      border: none;\n",
              "      border-radius: 50%;\n",
              "      cursor: pointer;\n",
              "      display: none;\n",
              "      fill: #1967D2;\n",
              "      height: 32px;\n",
              "      padding: 0 0 0 0;\n",
              "      width: 32px;\n",
              "    }\n",
              "\n",
              "    .colab-df-convert:hover {\n",
              "      background-color: #E2EBFA;\n",
              "      box-shadow: 0px 1px 2px rgba(60, 64, 67, 0.3), 0px 1px 3px 1px rgba(60, 64, 67, 0.15);\n",
              "      fill: #174EA6;\n",
              "    }\n",
              "\n",
              "    [theme=dark] .colab-df-convert {\n",
              "      background-color: #3B4455;\n",
              "      fill: #D2E3FC;\n",
              "    }\n",
              "\n",
              "    [theme=dark] .colab-df-convert:hover {\n",
              "      background-color: #434B5C;\n",
              "      box-shadow: 0px 1px 3px 1px rgba(0, 0, 0, 0.15);\n",
              "      filter: drop-shadow(0px 1px 2px rgba(0, 0, 0, 0.3));\n",
              "      fill: #FFFFFF;\n",
              "    }\n",
              "  </style>\n",
              "\n",
              "      <script>\n",
              "        const buttonEl =\n",
              "          document.querySelector('#df-ee162c32-d4ab-40c0-a03a-4f19f88a6748 button.colab-df-convert');\n",
              "        buttonEl.style.display =\n",
              "          google.colab.kernel.accessAllowed ? 'block' : 'none';\n",
              "\n",
              "        async function convertToInteractive(key) {\n",
              "          const element = document.querySelector('#df-ee162c32-d4ab-40c0-a03a-4f19f88a6748');\n",
              "          const dataTable =\n",
              "            await google.colab.kernel.invokeFunction('convertToInteractive',\n",
              "                                                     [key], {});\n",
              "          if (!dataTable) return;\n",
              "\n",
              "          const docLinkHtml = 'Like what you see? Visit the ' +\n",
              "            '<a target=\"_blank\" href=https://colab.research.google.com/notebooks/data_table.ipynb>data table notebook</a>'\n",
              "            + ' to learn more about interactive tables.';\n",
              "          element.innerHTML = '';\n",
              "          dataTable['output_type'] = 'display_data';\n",
              "          await google.colab.output.renderOutput(dataTable, element);\n",
              "          const docLink = document.createElement('div');\n",
              "          docLink.innerHTML = docLinkHtml;\n",
              "          element.appendChild(docLink);\n",
              "        }\n",
              "      </script>\n",
              "    </div>\n",
              "  </div>\n",
              "  "
            ]
          },
          "metadata": {},
          "execution_count": 2
        }
      ],
      "source": [
        "def get_raw_data(dir_name, file_name):\n",
        "    #  load data\n",
        "    data = pd.read_csv('{}{}.csv'.format(dir_name,file_name), encoding = 'latin-1', usecols=['medical_abstract', 'condition_label'])\n",
        "    data = data.rename(columns={'medical_abstract': 'text', 'condition_label': 'label'})\n",
        "    le = LabelEncoder()\n",
        "    data['label'] = le.fit_transform( data['label'])\n",
        "    return data\n",
        "\n",
        "raw_train_data = get_raw_data(dir_name + 'datasets/Medical_Abstracts/', 'train')\n",
        "raw_train_data"
      ]
    },
    {
      "cell_type": "code",
      "execution_count": null,
      "metadata": {
        "colab": {
          "base_uri": "https://localhost:8080/"
        },
        "id": "x4MEp29Jve-k",
        "outputId": "848f628f-a4f0-4b0d-f6df-bba07cd9ebe6"
      },
      "outputs": [
        {
          "output_type": "execute_result",
          "data": {
            "text/plain": [
              "False"
            ]
          },
          "metadata": {},
          "execution_count": 3
        }
      ],
      "source": [
        "raw_train_data['text'].is_unique"
      ]
    },
    {
      "cell_type": "code",
      "execution_count": null,
      "metadata": {
        "id": "svz_EkDzvg-n",
        "colab": {
          "base_uri": "https://localhost:8080/"
        },
        "outputId": "a9ac771a-8aa2-4d8b-f564-c128dbd0ee48"
      },
      "outputs": [
        {
          "output_type": "execute_result",
          "data": {
            "text/plain": [
              "True"
            ]
          },
          "metadata": {},
          "execution_count": 4
        }
      ],
      "source": [
        "raw_train_data.drop_duplicates(subset=['text'], inplace=True)\n",
        "raw_train_data['text'].is_unique"
      ]
    },
    {
      "cell_type": "code",
      "execution_count": null,
      "metadata": {
        "colab": {
          "base_uri": "https://localhost:8080/",
          "height": 424
        },
        "id": "OplwPtWGvlYO",
        "outputId": "0d17d255-6e93-47e3-cc6a-7d0093477afc"
      },
      "outputs": [
        {
          "output_type": "execute_result",
          "data": {
            "text/plain": [
              "       label                                               text\n",
              "0          4  Tissue changes around loose prostheses. A cani...\n",
              "1          0  Neuropeptide Y and neuron-specific enolase lev...\n",
              "2          1  Sexually transmitted diseases of the colon, re...\n",
              "3          0  Lipolytic factors associated with murine and h...\n",
              "4          2  Does carotid restenosis predict an increased r...\n",
              "...      ...                                                ...\n",
              "11539      2  Familial eating epilepsy. Eating-related seizu...\n",
              "11543      3  Deep venous thrombosis in intravenous cocaine ...\n",
              "11546      0  Four and a half year follow up of women with d...\n",
              "11547      4  Safety of the transbronchial biopsy in outpati...\n",
              "11548      2  Interictal spikes and hippocampal somatostatin...\n",
              "\n",
              "[9445 rows x 2 columns]"
            ],
            "text/html": [
              "\n",
              "  <div id=\"df-047a7d9d-aeff-41d1-9997-f0ea1540fb6e\">\n",
              "    <div class=\"colab-df-container\">\n",
              "      <div>\n",
              "<style scoped>\n",
              "    .dataframe tbody tr th:only-of-type {\n",
              "        vertical-align: middle;\n",
              "    }\n",
              "\n",
              "    .dataframe tbody tr th {\n",
              "        vertical-align: top;\n",
              "    }\n",
              "\n",
              "    .dataframe thead th {\n",
              "        text-align: right;\n",
              "    }\n",
              "</style>\n",
              "<table border=\"1\" class=\"dataframe\">\n",
              "  <thead>\n",
              "    <tr style=\"text-align: right;\">\n",
              "      <th></th>\n",
              "      <th>label</th>\n",
              "      <th>text</th>\n",
              "    </tr>\n",
              "  </thead>\n",
              "  <tbody>\n",
              "    <tr>\n",
              "      <th>0</th>\n",
              "      <td>4</td>\n",
              "      <td>Tissue changes around loose prostheses. A cani...</td>\n",
              "    </tr>\n",
              "    <tr>\n",
              "      <th>1</th>\n",
              "      <td>0</td>\n",
              "      <td>Neuropeptide Y and neuron-specific enolase lev...</td>\n",
              "    </tr>\n",
              "    <tr>\n",
              "      <th>2</th>\n",
              "      <td>1</td>\n",
              "      <td>Sexually transmitted diseases of the colon, re...</td>\n",
              "    </tr>\n",
              "    <tr>\n",
              "      <th>3</th>\n",
              "      <td>0</td>\n",
              "      <td>Lipolytic factors associated with murine and h...</td>\n",
              "    </tr>\n",
              "    <tr>\n",
              "      <th>4</th>\n",
              "      <td>2</td>\n",
              "      <td>Does carotid restenosis predict an increased r...</td>\n",
              "    </tr>\n",
              "    <tr>\n",
              "      <th>...</th>\n",
              "      <td>...</td>\n",
              "      <td>...</td>\n",
              "    </tr>\n",
              "    <tr>\n",
              "      <th>11539</th>\n",
              "      <td>2</td>\n",
              "      <td>Familial eating epilepsy. Eating-related seizu...</td>\n",
              "    </tr>\n",
              "    <tr>\n",
              "      <th>11543</th>\n",
              "      <td>3</td>\n",
              "      <td>Deep venous thrombosis in intravenous cocaine ...</td>\n",
              "    </tr>\n",
              "    <tr>\n",
              "      <th>11546</th>\n",
              "      <td>0</td>\n",
              "      <td>Four and a half year follow up of women with d...</td>\n",
              "    </tr>\n",
              "    <tr>\n",
              "      <th>11547</th>\n",
              "      <td>4</td>\n",
              "      <td>Safety of the transbronchial biopsy in outpati...</td>\n",
              "    </tr>\n",
              "    <tr>\n",
              "      <th>11548</th>\n",
              "      <td>2</td>\n",
              "      <td>Interictal spikes and hippocampal somatostatin...</td>\n",
              "    </tr>\n",
              "  </tbody>\n",
              "</table>\n",
              "<p>9445 rows × 2 columns</p>\n",
              "</div>\n",
              "      <button class=\"colab-df-convert\" onclick=\"convertToInteractive('df-047a7d9d-aeff-41d1-9997-f0ea1540fb6e')\"\n",
              "              title=\"Convert this dataframe to an interactive table.\"\n",
              "              style=\"display:none;\">\n",
              "        \n",
              "  <svg xmlns=\"http://www.w3.org/2000/svg\" height=\"24px\"viewBox=\"0 0 24 24\"\n",
              "       width=\"24px\">\n",
              "    <path d=\"M0 0h24v24H0V0z\" fill=\"none\"/>\n",
              "    <path d=\"M18.56 5.44l.94 2.06.94-2.06 2.06-.94-2.06-.94-.94-2.06-.94 2.06-2.06.94zm-11 1L8.5 8.5l.94-2.06 2.06-.94-2.06-.94L8.5 2.5l-.94 2.06-2.06.94zm10 10l.94 2.06.94-2.06 2.06-.94-2.06-.94-.94-2.06-.94 2.06-2.06.94z\"/><path d=\"M17.41 7.96l-1.37-1.37c-.4-.4-.92-.59-1.43-.59-.52 0-1.04.2-1.43.59L10.3 9.45l-7.72 7.72c-.78.78-.78 2.05 0 2.83L4 21.41c.39.39.9.59 1.41.59.51 0 1.02-.2 1.41-.59l7.78-7.78 2.81-2.81c.8-.78.8-2.07 0-2.86zM5.41 20L4 18.59l7.72-7.72 1.47 1.35L5.41 20z\"/>\n",
              "  </svg>\n",
              "      </button>\n",
              "      \n",
              "  <style>\n",
              "    .colab-df-container {\n",
              "      display:flex;\n",
              "      flex-wrap:wrap;\n",
              "      gap: 12px;\n",
              "    }\n",
              "\n",
              "    .colab-df-convert {\n",
              "      background-color: #E8F0FE;\n",
              "      border: none;\n",
              "      border-radius: 50%;\n",
              "      cursor: pointer;\n",
              "      display: none;\n",
              "      fill: #1967D2;\n",
              "      height: 32px;\n",
              "      padding: 0 0 0 0;\n",
              "      width: 32px;\n",
              "    }\n",
              "\n",
              "    .colab-df-convert:hover {\n",
              "      background-color: #E2EBFA;\n",
              "      box-shadow: 0px 1px 2px rgba(60, 64, 67, 0.3), 0px 1px 3px 1px rgba(60, 64, 67, 0.15);\n",
              "      fill: #174EA6;\n",
              "    }\n",
              "\n",
              "    [theme=dark] .colab-df-convert {\n",
              "      background-color: #3B4455;\n",
              "      fill: #D2E3FC;\n",
              "    }\n",
              "\n",
              "    [theme=dark] .colab-df-convert:hover {\n",
              "      background-color: #434B5C;\n",
              "      box-shadow: 0px 1px 3px 1px rgba(0, 0, 0, 0.15);\n",
              "      filter: drop-shadow(0px 1px 2px rgba(0, 0, 0, 0.3));\n",
              "      fill: #FFFFFF;\n",
              "    }\n",
              "  </style>\n",
              "\n",
              "      <script>\n",
              "        const buttonEl =\n",
              "          document.querySelector('#df-047a7d9d-aeff-41d1-9997-f0ea1540fb6e button.colab-df-convert');\n",
              "        buttonEl.style.display =\n",
              "          google.colab.kernel.accessAllowed ? 'block' : 'none';\n",
              "\n",
              "        async function convertToInteractive(key) {\n",
              "          const element = document.querySelector('#df-047a7d9d-aeff-41d1-9997-f0ea1540fb6e');\n",
              "          const dataTable =\n",
              "            await google.colab.kernel.invokeFunction('convertToInteractive',\n",
              "                                                     [key], {});\n",
              "          if (!dataTable) return;\n",
              "\n",
              "          const docLinkHtml = 'Like what you see? Visit the ' +\n",
              "            '<a target=\"_blank\" href=https://colab.research.google.com/notebooks/data_table.ipynb>data table notebook</a>'\n",
              "            + ' to learn more about interactive tables.';\n",
              "          element.innerHTML = '';\n",
              "          dataTable['output_type'] = 'display_data';\n",
              "          await google.colab.output.renderOutput(dataTable, element);\n",
              "          const docLink = document.createElement('div');\n",
              "          docLink.innerHTML = docLinkHtml;\n",
              "          element.appendChild(docLink);\n",
              "        }\n",
              "      </script>\n",
              "    </div>\n",
              "  </div>\n",
              "  "
            ]
          },
          "metadata": {},
          "execution_count": 5
        }
      ],
      "source": [
        "raw_train_data"
      ]
    },
    {
      "cell_type": "code",
      "execution_count": null,
      "metadata": {
        "id": "UEmV9bflwAKD",
        "colab": {
          "base_uri": "https://localhost:8080/",
          "height": 653
        },
        "outputId": "76b9e60c-8166-476c-be29-5d8c9c6a8b21"
      },
      "outputs": [
        {
          "output_type": "display_data",
          "data": {
            "text/plain": [
              "<Figure size 800x800 with 1 Axes>"
            ],
            "image/png": "[encoded data removed]"
          },
          "metadata": {}
        }
      ],
      "source": [
        "def get_dataset_statistics(data):\n",
        "    dataset_statistics = {'Number of texts': [data['label'].value_counts()[0], data['label'].value_counts()[1], data['label'].value_counts()[2], data['label'].value_counts()[3], data['label'].value_counts()[4]]}\n",
        "    df = pd.DataFrame(dataset_statistics, index=['0', '1', '2', '3', '4'])\n",
        "    df.plot(kind='pie', y='Number of texts', figsize=(8, 8), fontsize=14,\n",
        "            autopct=lambda v: '{:.0f} ({:.1f}%)'.format(v / 100 * data['label'].count(), v))\n",
        "    \n",
        "# Raw data statistics\n",
        "get_dataset_statistics(raw_train_data)"
      ]
    },
    {
      "cell_type": "code",
      "source": [
        "raw_test_data = get_raw_data(dir_name + 'datasets/Medical_Abstracts/', 'test')\n",
        "raw_test_data"
      ],
      "metadata": {
        "colab": {
          "base_uri": "https://localhost:8080/",
          "height": 424
        },
        "id": "YPq8s7f9Qs8v",
        "outputId": "139f1f4a-cc5c-43f7-8cd4-a9f7c82ede94"
      },
      "execution_count": null,
      "outputs": [
        {
          "output_type": "execute_result",
          "data": {
            "text/plain": [
              "      label                                               text\n",
              "0         2  Obstructive sleep apnea following topical orop...\n",
              "1         4  Neutrophil function and pyogenic infections in...\n",
              "2         4  A phase II study of combined methotrexate and ...\n",
              "3         0  Flow cytometric DNA analysis of parathyroid tu...\n",
              "4         3  Paraneoplastic vasculitic neuropathy: a treata...\n",
              "...     ...                                                ...\n",
              "2883      3  Management of aortobronchial fistula with graf...\n",
              "2884      4  Tuberculous psoas muscle abscess following che...\n",
              "2885      3  Clinical evaluation of high-frequency (ultraso...\n",
              "2886      0  Antitumor activity of liposome-encapsulated do...\n",
              "2887      3  An unusual venous anomaly of the placenta. The...\n",
              "\n",
              "[2888 rows x 2 columns]"
            ],
            "text/html": [
              "\n",
              "  <div id=\"df-ebd43202-acc3-456e-a1dd-15fb2552b290\">\n",
              "    <div class=\"colab-df-container\">\n",
              "      <div>\n",
              "<style scoped>\n",
              "    .dataframe tbody tr th:only-of-type {\n",
              "        vertical-align: middle;\n",
              "    }\n",
              "\n",
              "    .dataframe tbody tr th {\n",
              "        vertical-align: top;\n",
              "    }\n",
              "\n",
              "    .dataframe thead th {\n",
              "        text-align: right;\n",
              "    }\n",
              "</style>\n",
              "<table border=\"1\" class=\"dataframe\">\n",
              "  <thead>\n",
              "    <tr style=\"text-align: right;\">\n",
              "      <th></th>\n",
              "      <th>label</th>\n",
              "      <th>text</th>\n",
              "    </tr>\n",
              "  </thead>\n",
              "  <tbody>\n",
              "    <tr>\n",
              "      <th>0</th>\n",
              "      <td>2</td>\n",
              "      <td>Obstructive sleep apnea following topical orop...</td>\n",
              "    </tr>\n",
              "    <tr>\n",
              "      <th>1</th>\n",
              "      <td>4</td>\n",
              "      <td>Neutrophil function and pyogenic infections in...</td>\n",
              "    </tr>\n",
              "    <tr>\n",
              "      <th>2</th>\n",
              "      <td>4</td>\n",
              "      <td>A phase II study of combined methotrexate and ...</td>\n",
              "    </tr>\n",
              "    <tr>\n",
              "      <th>3</th>\n",
              "      <td>0</td>\n",
              "      <td>Flow cytometric DNA analysis of parathyroid tu...</td>\n",
              "    </tr>\n",
              "    <tr>\n",
              "      <th>4</th>\n",
              "      <td>3</td>\n",
              "      <td>Paraneoplastic vasculitic neuropathy: a treata...</td>\n",
              "    </tr>\n",
              "    <tr>\n",
              "      <th>...</th>\n",
              "      <td>...</td>\n",
              "      <td>...</td>\n",
              "    </tr>\n",
              "    <tr>\n",
              "      <th>2883</th>\n",
              "      <td>3</td>\n",
              "      <td>Management of aortobronchial fistula with graf...</td>\n",
              "    </tr>\n",
              "    <tr>\n",
              "      <th>2884</th>\n",
              "      <td>4</td>\n",
              "      <td>Tuberculous psoas muscle abscess following che...</td>\n",
              "    </tr>\n",
              "    <tr>\n",
              "      <th>2885</th>\n",
              "      <td>3</td>\n",
              "      <td>Clinical evaluation of high-frequency (ultraso...</td>\n",
              "    </tr>\n",
              "    <tr>\n",
              "      <th>2886</th>\n",
              "      <td>0</td>\n",
              "      <td>Antitumor activity of liposome-encapsulated do...</td>\n",
              "    </tr>\n",
              "    <tr>\n",
              "      <th>2887</th>\n",
              "      <td>3</td>\n",
              "      <td>An unusual venous anomaly of the placenta. The...</td>\n",
              "    </tr>\n",
              "  </tbody>\n",
              "</table>\n",
              "<p>2888 rows × 2 columns</p>\n",
              "</div>\n",
              "      <button class=\"colab-df-convert\" onclick=\"convertToInteractive('df-ebd43202-acc3-456e-a1dd-15fb2552b290')\"\n",
              "              title=\"Convert this dataframe to an interactive table.\"\n",
              "              style=\"display:none;\">\n",
              "        \n",
              "  <svg xmlns=\"http://www.w3.org/2000/svg\" height=\"24px\"viewBox=\"0 0 24 24\"\n",
              "       width=\"24px\">\n",
              "    <path d=\"M0 0h24v24H0V0z\" fill=\"none\"/>\n",
              "    <path d=\"M18.56 5.44l.94 2.06.94-2.06 2.06-.94-2.06-.94-.94-2.06-.94 2.06-2.06.94zm-11 1L8.5 8.5l.94-2.06 2.06-.94-2.06-.94L8.5 2.5l-.94 2.06-2.06.94zm10 10l.94 2.06.94-2.06 2.06-.94-2.06-.94-.94-2.06-.94 2.06-2.06.94z\"/><path d=\"M17.41 7.96l-1.37-1.37c-.4-.4-.92-.59-1.43-.59-.52 0-1.04.2-1.43.59L10.3 9.45l-7.72 7.72c-.78.78-.78 2.05 0 2.83L4 21.41c.39.39.9.59 1.41.59.51 0 1.02-.2 1.41-.59l7.78-7.78 2.81-2.81c.8-.78.8-2.07 0-2.86zM5.41 20L4 18.59l7.72-7.72 1.47 1.35L5.41 20z\"/>\n",
              "  </svg>\n",
              "      </button>\n",
              "      \n",
              "  <style>\n",
              "    .colab-df-container {\n",
              "      display:flex;\n",
              "      flex-wrap:wrap;\n",
              "      gap: 12px;\n",
              "    }\n",
              "\n",
              "    .colab-df-convert {\n",
              "      background-color: #E8F0FE;\n",
              "      border: none;\n",
              "      border-radius: 50%;\n",
              "      cursor: pointer;\n",
              "      display: none;\n",
              "      fill: #1967D2;\n",
              "      height: 32px;\n",
              "      padding: 0 0 0 0;\n",
              "      width: 32px;\n",
              "    }\n",
              "\n",
              "    .colab-df-convert:hover {\n",
              "      background-color: #E2EBFA;\n",
              "      box-shadow: 0px 1px 2px rgba(60, 64, 67, 0.3), 0px 1px 3px 1px rgba(60, 64, 67, 0.15);\n",
              "      fill: #174EA6;\n",
              "    }\n",
              "\n",
              "    [theme=dark] .colab-df-convert {\n",
              "      background-color: #3B4455;\n",
              "      fill: #D2E3FC;\n",
              "    }\n",
              "\n",
              "    [theme=dark] .colab-df-convert:hover {\n",
              "      background-color: #434B5C;\n",
              "      box-shadow: 0px 1px 3px 1px rgba(0, 0, 0, 0.15);\n",
              "      filter: drop-shadow(0px 1px 2px rgba(0, 0, 0, 0.3));\n",
              "      fill: #FFFFFF;\n",
              "    }\n",
              "  </style>\n",
              "\n",
              "      <script>\n",
              "        const buttonEl =\n",
              "          document.querySelector('#df-ebd43202-acc3-456e-a1dd-15fb2552b290 button.colab-df-convert');\n",
              "        buttonEl.style.display =\n",
              "          google.colab.kernel.accessAllowed ? 'block' : 'none';\n",
              "\n",
              "        async function convertToInteractive(key) {\n",
              "          const element = document.querySelector('#df-ebd43202-acc3-456e-a1dd-15fb2552b290');\n",
              "          const dataTable =\n",
              "            await google.colab.kernel.invokeFunction('convertToInteractive',\n",
              "                                                     [key], {});\n",
              "          if (!dataTable) return;\n",
              "\n",
              "          const docLinkHtml = 'Like what you see? Visit the ' +\n",
              "            '<a target=\"_blank\" href=https://colab.research.google.com/notebooks/data_table.ipynb>data table notebook</a>'\n",
              "            + ' to learn more about interactive tables.';\n",
              "          element.innerHTML = '';\n",
              "          dataTable['output_type'] = 'display_data';\n",
              "          await google.colab.output.renderOutput(dataTable, element);\n",
              "          const docLink = document.createElement('div');\n",
              "          docLink.innerHTML = docLinkHtml;\n",
              "          element.appendChild(docLink);\n",
              "        }\n",
              "      </script>\n",
              "    </div>\n",
              "  </div>\n",
              "  "
            ]
          },
          "metadata": {},
          "execution_count": 7
        }
      ]
    },
    {
      "cell_type": "code",
      "source": [
        "raw_test_data.drop_duplicates(subset=['text'], inplace=True)\n",
        "raw_test_data['text'].is_unique"
      ],
      "metadata": {
        "colab": {
          "base_uri": "https://localhost:8080/"
        },
        "id": "dHgIDUR1Qs5v",
        "outputId": "627a4634-3c88-4c83-a8a8-1303353d5359"
      },
      "execution_count": null,
      "outputs": [
        {
          "output_type": "execute_result",
          "data": {
            "text/plain": [
              "True"
            ]
          },
          "metadata": {},
          "execution_count": 8
        }
      ]
    },
    {
      "cell_type": "code",
      "source": [
        "raw_test_data['label'].value_counts()"
      ],
      "metadata": {
        "colab": {
          "base_uri": "https://localhost:8080/"
        },
        "id": "_L-THaFiQs3d",
        "outputId": "3f6007ed-97a7-4622-a15a-752b457e3d04"
      },
      "execution_count": null,
      "outputs": [
        {
          "output_type": "execute_result",
          "data": {
            "text/plain": [
              "4    912\n",
              "0    616\n",
              "3    589\n",
              "2    366\n",
              "1    287\n",
              "Name: label, dtype: int64"
            ]
          },
          "metadata": {},
          "execution_count": 9
        }
      ]
    },
    {
      "cell_type": "markdown",
      "metadata": {
        "id": "rR-26BtzwlgO"
      },
      "source": [
        "# Text Preprocessing "
      ]
    },
    {
      "cell_type": "code",
      "execution_count": null,
      "metadata": {
        "id": "-YYZSlmdwk7N"
      },
      "outputs": [],
      "source": [
        "import requests\n",
        "stopwords_list = requests.get(\"https://github.com/stopwords-iso/stopwords-en/blob/master/stopwords-en.txt\").content\n",
        "stopwords = set(stopwords_list.decode().splitlines())"
      ]
    },
    {
      "cell_type": "code",
      "execution_count": null,
      "metadata": {
        "id": "pdivr-Q-woF-"
      },
      "outputs": [],
      "source": [
        "import string\n",
        "from nltk.corpus import stopwords\n",
        "from sklearn.feature_extraction.text import ENGLISH_STOP_WORDS\n",
        "sklearn_stopwords = ENGLISH_STOP_WORDS\n",
        "\n",
        "stop_words = set(stopwords.words('english'))\n",
        "stop_words.update(sklearn_stopwords)\n",
        "\n",
        "def text_preprocessing(raw_text):\n",
        "  text_words = raw_text.translate(str.maketrans('', '', string.punctuation))\n",
        "  msg_tokens = word_tokenize(text_words.lower())\n",
        "  filtered_text = [token for token in msg_tokens if not token in stop_words]\n",
        "  return \" \".join(filtered_text)"
      ]
    },
    {
      "cell_type": "code",
      "execution_count": null,
      "metadata": {
        "colab": {
          "base_uri": "https://localhost:8080/",
          "height": 424
        },
        "id": "r9f2EMT2wwxA",
        "outputId": "50e0e6dd-293a-4ba5-93b4-d33bd67cea86"
      },
      "outputs": [
        {
          "output_type": "execute_result",
          "data": {
            "text/plain": [
              "                                                    text  label\n",
              "0      tissue changes loose prostheses canine model i...      4\n",
              "1      neuropeptide neuronspecific enolase levels ben...      0\n",
              "2      sexually transmitted diseases colon rectum anu...      1\n",
              "3      lipolytic factors associated murine human canc...      0\n",
              "4      carotid restenosis predict increased risk late...      2\n",
              "...                                                  ...    ...\n",
              "11539  familial eating epilepsy eatingrelated seizure...      2\n",
              "11543  deep venous thrombosis intravenous cocaine abu...      3\n",
              "11546  half year follow women dyskaryotic cervical sm...      0\n",
              "11547  safety transbronchial biopsy outpatients objec...      4\n",
              "11548  interictal spikes hippocampal somatostatin lev...      2\n",
              "\n",
              "[9445 rows x 2 columns]"
            ],
            "text/html": [
              "\n",
              "  <div id=\"df-899562b6-680c-4251-8c61-b740c86df11c\">\n",
              "    <div class=\"colab-df-container\">\n",
              "      <div>\n",
              "<style scoped>\n",
              "    .dataframe tbody tr th:only-of-type {\n",
              "        vertical-align: middle;\n",
              "    }\n",
              "\n",
              "    .dataframe tbody tr th {\n",
              "        vertical-align: top;\n",
              "    }\n",
              "\n",
              "    .dataframe thead th {\n",
              "        text-align: right;\n",
              "    }\n",
              "</style>\n",
              "<table border=\"1\" class=\"dataframe\">\n",
              "  <thead>\n",
              "    <tr style=\"text-align: right;\">\n",
              "      <th></th>\n",
              "      <th>text</th>\n",
              "      <th>label</th>\n",
              "    </tr>\n",
              "  </thead>\n",
              "  <tbody>\n",
              "    <tr>\n",
              "      <th>0</th>\n",
              "      <td>tissue changes loose prostheses canine model i...</td>\n",
              "      <td>4</td>\n",
              "    </tr>\n",
              "    <tr>\n",
              "      <th>1</th>\n",
              "      <td>neuropeptide neuronspecific enolase levels ben...</td>\n",
              "      <td>0</td>\n",
              "    </tr>\n",
              "    <tr>\n",
              "      <th>2</th>\n",
              "      <td>sexually transmitted diseases colon rectum anu...</td>\n",
              "      <td>1</td>\n",
              "    </tr>\n",
              "    <tr>\n",
              "      <th>3</th>\n",
              "      <td>lipolytic factors associated murine human canc...</td>\n",
              "      <td>0</td>\n",
              "    </tr>\n",
              "    <tr>\n",
              "      <th>4</th>\n",
              "      <td>carotid restenosis predict increased risk late...</td>\n",
              "      <td>2</td>\n",
              "    </tr>\n",
              "    <tr>\n",
              "      <th>...</th>\n",
              "      <td>...</td>\n",
              "      <td>...</td>\n",
              "    </tr>\n",
              "    <tr>\n",
              "      <th>11539</th>\n",
              "      <td>familial eating epilepsy eatingrelated seizure...</td>\n",
              "      <td>2</td>\n",
              "    </tr>\n",
              "    <tr>\n",
              "      <th>11543</th>\n",
              "      <td>deep venous thrombosis intravenous cocaine abu...</td>\n",
              "      <td>3</td>\n",
              "    </tr>\n",
              "    <tr>\n",
              "      <th>11546</th>\n",
              "      <td>half year follow women dyskaryotic cervical sm...</td>\n",
              "      <td>0</td>\n",
              "    </tr>\n",
              "    <tr>\n",
              "      <th>11547</th>\n",
              "      <td>safety transbronchial biopsy outpatients objec...</td>\n",
              "      <td>4</td>\n",
              "    </tr>\n",
              "    <tr>\n",
              "      <th>11548</th>\n",
              "      <td>interictal spikes hippocampal somatostatin lev...</td>\n",
              "      <td>2</td>\n",
              "    </tr>\n",
              "  </tbody>\n",
              "</table>\n",
              "<p>9445 rows × 2 columns</p>\n",
              "</div>\n",
              "      <button class=\"colab-df-convert\" onclick=\"convertToInteractive('df-899562b6-680c-4251-8c61-b740c86df11c')\"\n",
              "              title=\"Convert this dataframe to an interactive table.\"\n",
              "              style=\"display:none;\">\n",
              "        \n",
              "  <svg xmlns=\"http://www.w3.org/2000/svg\" height=\"24px\"viewBox=\"0 0 24 24\"\n",
              "       width=\"24px\">\n",
              "    <path d=\"M0 0h24v24H0V0z\" fill=\"none\"/>\n",
              "    <path d=\"M18.56 5.44l.94 2.06.94-2.06 2.06-.94-2.06-.94-.94-2.06-.94 2.06-2.06.94zm-11 1L8.5 8.5l.94-2.06 2.06-.94-2.06-.94L8.5 2.5l-.94 2.06-2.06.94zm10 10l.94 2.06.94-2.06 2.06-.94-2.06-.94-.94-2.06-.94 2.06-2.06.94z\"/><path d=\"M17.41 7.96l-1.37-1.37c-.4-.4-.92-.59-1.43-.59-.52 0-1.04.2-1.43.59L10.3 9.45l-7.72 7.72c-.78.78-.78 2.05 0 2.83L4 21.41c.39.39.9.59 1.41.59.51 0 1.02-.2 1.41-.59l7.78-7.78 2.81-2.81c.8-.78.8-2.07 0-2.86zM5.41 20L4 18.59l7.72-7.72 1.47 1.35L5.41 20z\"/>\n",
              "  </svg>\n",
              "      </button>\n",
              "      \n",
              "  <style>\n",
              "    .colab-df-container {\n",
              "      display:flex;\n",
              "      flex-wrap:wrap;\n",
              "      gap: 12px;\n",
              "    }\n",
              "\n",
              "    .colab-df-convert {\n",
              "      background-color: #E8F0FE;\n",
              "      border: none;\n",
              "      border-radius: 50%;\n",
              "      cursor: pointer;\n",
              "      display: none;\n",
              "      fill: #1967D2;\n",
              "      height: 32px;\n",
              "      padding: 0 0 0 0;\n",
              "      width: 32px;\n",
              "    }\n",
              "\n",
              "    .colab-df-convert:hover {\n",
              "      background-color: #E2EBFA;\n",
              "      box-shadow: 0px 1px 2px rgba(60, 64, 67, 0.3), 0px 1px 3px 1px rgba(60, 64, 67, 0.15);\n",
              "      fill: #174EA6;\n",
              "    }\n",
              "\n",
              "    [theme=dark] .colab-df-convert {\n",
              "      background-color: #3B4455;\n",
              "      fill: #D2E3FC;\n",
              "    }\n",
              "\n",
              "    [theme=dark] .colab-df-convert:hover {\n",
              "      background-color: #434B5C;\n",
              "      box-shadow: 0px 1px 3px 1px rgba(0, 0, 0, 0.15);\n",
              "      filter: drop-shadow(0px 1px 2px rgba(0, 0, 0, 0.3));\n",
              "      fill: #FFFFFF;\n",
              "    }\n",
              "  </style>\n",
              "\n",
              "      <script>\n",
              "        const buttonEl =\n",
              "          document.querySelector('#df-899562b6-680c-4251-8c61-b740c86df11c button.colab-df-convert');\n",
              "        buttonEl.style.display =\n",
              "          google.colab.kernel.accessAllowed ? 'block' : 'none';\n",
              "\n",
              "        async function convertToInteractive(key) {\n",
              "          const element = document.querySelector('#df-899562b6-680c-4251-8c61-b740c86df11c');\n",
              "          const dataTable =\n",
              "            await google.colab.kernel.invokeFunction('convertToInteractive',\n",
              "                                                     [key], {});\n",
              "          if (!dataTable) return;\n",
              "\n",
              "          const docLinkHtml = 'Like what you see? Visit the ' +\n",
              "            '<a target=\"_blank\" href=https://colab.research.google.com/notebooks/data_table.ipynb>data table notebook</a>'\n",
              "            + ' to learn more about interactive tables.';\n",
              "          element.innerHTML = '';\n",
              "          dataTable['output_type'] = 'display_data';\n",
              "          await google.colab.output.renderOutput(dataTable, element);\n",
              "          const docLink = document.createElement('div');\n",
              "          docLink.innerHTML = docLinkHtml;\n",
              "          element.appendChild(docLink);\n",
              "        }\n",
              "      </script>\n",
              "    </div>\n",
              "  </div>\n",
              "  "
            ]
          },
          "metadata": {},
          "execution_count": 12
        }
      ],
      "source": [
        "train_data = raw_train_data[['text', 'label']].copy()\n",
        "\n",
        "train_data['text'] = train_data['text'].apply(text_preprocessing)\n",
        "\n",
        "train_data.drop_duplicates(inplace=True)\n",
        "\n",
        "train_data"
      ]
    },
    {
      "cell_type": "code",
      "execution_count": null,
      "metadata": {
        "colab": {
          "base_uri": "https://localhost:8080/",
          "height": 424
        },
        "id": "y-8xk3Gd9kio",
        "outputId": "994a094b-0cb4-43fe-d34f-1c9e096c4052"
      },
      "outputs": [
        {
          "output_type": "execute_result",
          "data": {
            "text/plain": [
              "                                                   text  label\n",
              "0     obstructive sleep apnea following topical orop...      2\n",
              "1     neutrophil function pyogenic infections bone m...      4\n",
              "2     phase ii study combined methotrexate teniposid...      4\n",
              "3     flow cytometric dna analysis parathyroid tumor...      0\n",
              "4     paraneoplastic vasculitic neuropathy treatable...      3\n",
              "...                                                 ...    ...\n",
              "2883  management aortobronchial fistula graft replac...      3\n",
              "2884  tuberculous psoas muscle abscess following che...      4\n",
              "2885  clinical evaluation highfrequency ultrasonic m...      3\n",
              "2886  antitumor activity liposomeencapsulated doxoru...      0\n",
              "2887  unusual venous anomaly placenta authors presen...      3\n",
              "\n",
              "[2770 rows x 2 columns]"
            ],
            "text/html": [
              "\n",
              "  <div id=\"df-4264832a-dd0e-46b3-a1c2-495d7558aaaa\">\n",
              "    <div class=\"colab-df-container\">\n",
              "      <div>\n",
              "<style scoped>\n",
              "    .dataframe tbody tr th:only-of-type {\n",
              "        vertical-align: middle;\n",
              "    }\n",
              "\n",
              "    .dataframe tbody tr th {\n",
              "        vertical-align: top;\n",
              "    }\n",
              "\n",
              "    .dataframe thead th {\n",
              "        text-align: right;\n",
              "    }\n",
              "</style>\n",
              "<table border=\"1\" class=\"dataframe\">\n",
              "  <thead>\n",
              "    <tr style=\"text-align: right;\">\n",
              "      <th></th>\n",
              "      <th>text</th>\n",
              "      <th>label</th>\n",
              "    </tr>\n",
              "  </thead>\n",
              "  <tbody>\n",
              "    <tr>\n",
              "      <th>0</th>\n",
              "      <td>obstructive sleep apnea following topical orop...</td>\n",
              "      <td>2</td>\n",
              "    </tr>\n",
              "    <tr>\n",
              "      <th>1</th>\n",
              "      <td>neutrophil function pyogenic infections bone m...</td>\n",
              "      <td>4</td>\n",
              "    </tr>\n",
              "    <tr>\n",
              "      <th>2</th>\n",
              "      <td>phase ii study combined methotrexate teniposid...</td>\n",
              "      <td>4</td>\n",
              "    </tr>\n",
              "    <tr>\n",
              "      <th>3</th>\n",
              "      <td>flow cytometric dna analysis parathyroid tumor...</td>\n",
              "      <td>0</td>\n",
              "    </tr>\n",
              "    <tr>\n",
              "      <th>4</th>\n",
              "      <td>paraneoplastic vasculitic neuropathy treatable...</td>\n",
              "      <td>3</td>\n",
              "    </tr>\n",
              "    <tr>\n",
              "      <th>...</th>\n",
              "      <td>...</td>\n",
              "      <td>...</td>\n",
              "    </tr>\n",
              "    <tr>\n",
              "      <th>2883</th>\n",
              "      <td>management aortobronchial fistula graft replac...</td>\n",
              "      <td>3</td>\n",
              "    </tr>\n",
              "    <tr>\n",
              "      <th>2884</th>\n",
              "      <td>tuberculous psoas muscle abscess following che...</td>\n",
              "      <td>4</td>\n",
              "    </tr>\n",
              "    <tr>\n",
              "      <th>2885</th>\n",
              "      <td>clinical evaluation highfrequency ultrasonic m...</td>\n",
              "      <td>3</td>\n",
              "    </tr>\n",
              "    <tr>\n",
              "      <th>2886</th>\n",
              "      <td>antitumor activity liposomeencapsulated doxoru...</td>\n",
              "      <td>0</td>\n",
              "    </tr>\n",
              "    <tr>\n",
              "      <th>2887</th>\n",
              "      <td>unusual venous anomaly placenta authors presen...</td>\n",
              "      <td>3</td>\n",
              "    </tr>\n",
              "  </tbody>\n",
              "</table>\n",
              "<p>2770 rows × 2 columns</p>\n",
              "</div>\n",
              "      <button class=\"colab-df-convert\" onclick=\"convertToInteractive('df-4264832a-dd0e-46b3-a1c2-495d7558aaaa')\"\n",
              "              title=\"Convert this dataframe to an interactive table.\"\n",
              "              style=\"display:none;\">\n",
              "        \n",
              "  <svg xmlns=\"http://www.w3.org/2000/svg\" height=\"24px\"viewBox=\"0 0 24 24\"\n",
              "       width=\"24px\">\n",
              "    <path d=\"M0 0h24v24H0V0z\" fill=\"none\"/>\n",
              "    <path d=\"M18.56 5.44l.94 2.06.94-2.06 2.06-.94-2.06-.94-.94-2.06-.94 2.06-2.06.94zm-11 1L8.5 8.5l.94-2.06 2.06-.94-2.06-.94L8.5 2.5l-.94 2.06-2.06.94zm10 10l.94 2.06.94-2.06 2.06-.94-2.06-.94-.94-2.06-.94 2.06-2.06.94z\"/><path d=\"M17.41 7.96l-1.37-1.37c-.4-.4-.92-.59-1.43-.59-.52 0-1.04.2-1.43.59L10.3 9.45l-7.72 7.72c-.78.78-.78 2.05 0 2.83L4 21.41c.39.39.9.59 1.41.59.51 0 1.02-.2 1.41-.59l7.78-7.78 2.81-2.81c.8-.78.8-2.07 0-2.86zM5.41 20L4 18.59l7.72-7.72 1.47 1.35L5.41 20z\"/>\n",
              "  </svg>\n",
              "      </button>\n",
              "      \n",
              "  <style>\n",
              "    .colab-df-container {\n",
              "      display:flex;\n",
              "      flex-wrap:wrap;\n",
              "      gap: 12px;\n",
              "    }\n",
              "\n",
              "    .colab-df-convert {\n",
              "      background-color: #E8F0FE;\n",
              "      border: none;\n",
              "      border-radius: 50%;\n",
              "      cursor: pointer;\n",
              "      display: none;\n",
              "      fill: #1967D2;\n",
              "      height: 32px;\n",
              "      padding: 0 0 0 0;\n",
              "      width: 32px;\n",
              "    }\n",
              "\n",
              "    .colab-df-convert:hover {\n",
              "      background-color: #E2EBFA;\n",
              "      box-shadow: 0px 1px 2px rgba(60, 64, 67, 0.3), 0px 1px 3px 1px rgba(60, 64, 67, 0.15);\n",
              "      fill: #174EA6;\n",
              "    }\n",
              "\n",
              "    [theme=dark] .colab-df-convert {\n",
              "      background-color: #3B4455;\n",
              "      fill: #D2E3FC;\n",
              "    }\n",
              "\n",
              "    [theme=dark] .colab-df-convert:hover {\n",
              "      background-color: #434B5C;\n",
              "      box-shadow: 0px 1px 3px 1px rgba(0, 0, 0, 0.15);\n",
              "      filter: drop-shadow(0px 1px 2px rgba(0, 0, 0, 0.3));\n",
              "      fill: #FFFFFF;\n",
              "    }\n",
              "  </style>\n",
              "\n",
              "      <script>\n",
              "        const buttonEl =\n",
              "          document.querySelector('#df-4264832a-dd0e-46b3-a1c2-495d7558aaaa button.colab-df-convert');\n",
              "        buttonEl.style.display =\n",
              "          google.colab.kernel.accessAllowed ? 'block' : 'none';\n",
              "\n",
              "        async function convertToInteractive(key) {\n",
              "          const element = document.querySelector('#df-4264832a-dd0e-46b3-a1c2-495d7558aaaa');\n",
              "          const dataTable =\n",
              "            await google.colab.kernel.invokeFunction('convertToInteractive',\n",
              "                                                     [key], {});\n",
              "          if (!dataTable) return;\n",
              "\n",
              "          const docLinkHtml = 'Like what you see? Visit the ' +\n",
              "            '<a target=\"_blank\" href=https://colab.research.google.com/notebooks/data_table.ipynb>data table notebook</a>'\n",
              "            + ' to learn more about interactive tables.';\n",
              "          element.innerHTML = '';\n",
              "          dataTable['output_type'] = 'display_data';\n",
              "          await google.colab.output.renderOutput(dataTable, element);\n",
              "          const docLink = document.createElement('div');\n",
              "          docLink.innerHTML = docLinkHtml;\n",
              "          element.appendChild(docLink);\n",
              "        }\n",
              "      </script>\n",
              "    </div>\n",
              "  </div>\n",
              "  "
            ]
          },
          "metadata": {},
          "execution_count": 13
        }
      ],
      "source": [
        "test_data = raw_test_data[['text', 'label']].copy()\n",
        "\n",
        "test_data['text'] = test_data['text'].apply(text_preprocessing)\n",
        "\n",
        "test_data.drop_duplicates(inplace=True)\n",
        "\n",
        "test_data"
      ]
    },
    {
      "cell_type": "markdown",
      "source": [
        "# Text Representation"
      ],
      "metadata": {
        "id": "NxthMHhEQ5pV"
      }
    },
    {
      "cell_type": "code",
      "execution_count": null,
      "metadata": {
        "colab": {
          "base_uri": "https://localhost:8080/"
        },
        "id": "HVfM_kuvw0EI",
        "outputId": "70ab8056-38b6-4007-f3cd-92b5c82198c9"
      },
      "outputs": [
        {
          "output_type": "stream",
          "name": "stdout",
          "text": [
            "[==================================================] 100.0% 1662.8/1662.8MB downloaded\n"
          ]
        }
      ],
      "source": [
        "word2vec_model = api.load(\"word2vec-google-news-300\")"
      ]
    },
    {
      "cell_type": "code",
      "execution_count": null,
      "metadata": {
        "id": "fxu9vG_jw2Jo"
      },
      "outputs": [],
      "source": [
        "def get_text_vec(sent):\n",
        "  vector = np.mean(np.array([word2vec_model[token] for token in word_tokenize(sent) if token in word2vec_model.key_to_index]), axis=0)\n",
        "  if np.all(np.isnan(vector)) :\n",
        "    return np.zeros(300)\n",
        "  return vector"
      ]
    },
    {
      "cell_type": "code",
      "execution_count": null,
      "metadata": {
        "id": "X51l7SGdw6ah"
      },
      "outputs": [],
      "source": [
        "X_test = np.stack(np.array([get_text_vec(sms_text) for sms_text in test_data['text'].values]))"
      ]
    },
    {
      "cell_type": "code",
      "execution_count": null,
      "metadata": {
        "colab": {
          "base_uri": "https://localhost:8080/"
        },
        "id": "38-eq2aow84_",
        "outputId": "687ec578-803a-4fc4-d1fa-fa149ec93c65"
      },
      "outputs": [
        {
          "output_type": "execute_result",
          "data": {
            "text/plain": [
              "(2770, 300)"
            ]
          },
          "metadata": {},
          "execution_count": 17
        }
      ],
      "source": [
        "X_test.shape"
      ]
    },
    {
      "cell_type": "code",
      "execution_count": null,
      "metadata": {
        "id": "etik5rXa_2dr"
      },
      "outputs": [],
      "source": [
        "y_test = test_data['label'].values"
      ]
    },
    {
      "cell_type": "code",
      "execution_count": null,
      "metadata": {
        "colab": {
          "base_uri": "https://localhost:8080/"
        },
        "id": "XuaytXOH_2ZI",
        "outputId": "3b85fd08-1a23-45a7-cebc-16fd011439d0"
      },
      "outputs": [
        {
          "output_type": "execute_result",
          "data": {
            "text/plain": [
              "(2770,)"
            ]
          },
          "metadata": {},
          "execution_count": 19
        }
      ],
      "source": [
        "y_test.shape"
      ]
    },
    {
      "cell_type": "markdown",
      "metadata": {
        "id": "UpIXLLONxBbc"
      },
      "source": [
        "# Model selection, training and evaluation"
      ]
    },
    {
      "cell_type": "code",
      "execution_count": null,
      "metadata": {
        "id": "k5amJMISxFX6"
      },
      "outputs": [],
      "source": [
        "def f_beta_score(y_true, y_pred):\n",
        "  return fbeta_score(y_true, y_pred, beta=2, average='macro')\n",
        "\n",
        "f2_score = make_scorer(f_beta_score, greater_is_better=True)"
      ]
    },
    {
      "cell_type": "code",
      "execution_count": null,
      "metadata": {
        "id": "eJLNo2RfxHbk"
      },
      "outputs": [],
      "source": [
        "from datetime import datetime\n",
        "\n",
        "def save_cross_validation(results, file_name):\n",
        "  results_to_save = pd.DataFrame(columns=['Accuracy', 'Recall', 'Precision', 'F1 Score', 'F2 Score'])\n",
        "  for i in range(0, 10):\n",
        "    results_to_save.loc[i] = [\n",
        "      results['split{}_test_Accuracy'.format(i)][0],\n",
        "      results['split{}_test_Recall'.format(i)][0],\n",
        "      results['split{}_test_Precision'.format(i)][0],\n",
        "      results['split{}_test_F1'.format(i)][0],\n",
        "      results['split{}_test_F2'.format(i)][0]\n",
        "    ]\n",
        "  results_to_save.to_csv('{}Results/{}_{}.csv'.format(dir_name+'experiments/Medical Text/', file_name, datetime.now().strftime(\"%m%d%H%M\")))"
      ]
    },
    {
      "cell_type": "code",
      "execution_count": null,
      "metadata": {
        "id": "qNeUy29rxIHD"
      },
      "outputs": [],
      "source": [
        "def train_model(classifier, param_grid, model_name, train_texts, train_labels, test_texts, test_labels, evaluation_metrics, to_print=True, to_save=False, file_name=None):\n",
        "    \"\"\"\n",
        "    train email classification model.\n",
        "    \"\"\"\n",
        "\n",
        "    # apply grid search to find best model hyper parameters\n",
        "    grid_search = GridSearchCV(classifier, param_grid, cv=10, scoring={'Accuracy': make_scorer(accuracy_score),\n",
        "                                                                       'F1': make_scorer(f1_score, average='macro'),\n",
        "                                                                       'F2': f2_score,\n",
        "                                                                       'Recall': make_scorer(recall_score, average='macro'),\n",
        "                                                                       'Precision': make_scorer(precision_score, average='macro')\n",
        "                                                                       }, refit='F1', n_jobs=-1)\n",
        "    grid_search.fit(train_texts, train_labels)\n",
        "    model = grid_search.best_estimator_\n",
        "\n",
        "    if to_save:\n",
        "      ConfusionMatrixDisplay(save_cross_validation(grid_search.cv_results_, file_name))\n",
        "      plt.show()\n",
        "\n",
        "    # train and test accuracy.\n",
        "    test_accuracy = model.score(test_texts, test_labels)\n",
        "    train_accuracy = model.score(train_texts, train_labels)\n",
        "\n",
        "    # compute F1 score for model evaluation.\n",
        "    y_pred = model.predict(test_texts)\n",
        "\n",
        "    recall = recall_score(test_labels, y_pred, average='macro')\n",
        "    precision = precision_score(test_labels, y_pred, average='macro')\n",
        "    f1score = f1_score(test_labels, y_pred, average='macro')\n",
        "    f2score = fbeta_score(y_test, y_pred, beta=2, average='macro')\n",
        "\n",
        "    if to_print:\n",
        "        print(\"train accuracy = \" + str(train_accuracy))\n",
        "        print(\"test accuracy = \" + str(test_accuracy))\n",
        "        print(\"Recall = {}\".format(recall))\n",
        "        print(\"Precision = {}\".format(precision))\n",
        "        print(\"F1 score = {}\".format(f1score))\n",
        "        print(\"F2 score = {}\".format(f2score))\n",
        "        print(classification_report(test_labels, y_pred))\n",
        "\n",
        "\n",
        "        # plot confusion matrix\n",
        "        cm = confusion_matrix(test_labels, y_pred)\n",
        "        disp = ConfusionMatrixDisplay(confusion_matrix=cm, display_labels=[0,1,2,3,4])\n",
        "\n",
        "        disp.plot(cmap=plt.cm.Blues)\n",
        "        plt.show()\n",
        "\n",
        "        # print best model hyper parameters.\n",
        "        print(grid_search.best_params_)\n",
        "\n",
        "    evaluation_metrics.loc[model_name, 'Recall'] = recall\n",
        "    evaluation_metrics.loc[model_name, 'Precision'] = precision\n",
        "    evaluation_metrics.loc[model_name, 'F1 score'] = f1score\n",
        "    evaluation_metrics.loc[model_name, 'F2 score'] = f2score\n",
        "\n",
        "    return f1score, f2score\n",
        "\n",
        "\n",
        "def train(model_id, train_texts, train_labels, test_texts, test_labels, evaluation_metrics, to_print=True, to_save=False, file_name=None):\n",
        "    \n",
        "    if model_id == 1:\n",
        "        # Random forest Classification model.\n",
        "        forest_clf = RandomForestClassifier(random_state=42, n_jobs=-1)\n",
        "        forest_param_grid = [{'n_estimators': [15,20,25], 'max_features': [10, 15], 'min_samples_split': [15, 20, 25], 'criterion': ['gini','entropy'], 'max_depth': [5, 6]}]\n",
        "        return train_model(forest_clf, forest_param_grid, 'RandomForest', train_texts, train_labels, test_texts, test_labels, evaluation_metrics, to_print, to_save, file_name)\n",
        "\n",
        "    if model_id == 2:\n",
        "        # Support Vector Machine Model.\n",
        "        svc_clf = SVC(random_state=42)\n",
        "        svc_param_grid = [{'gamma': ['auto', 'scale'], 'kernel': ['rbf'], 'degree': [3 ,4, 5]}]\n",
        "\n",
        "        return train_model(svc_clf, svc_param_grid, 'SVM', train_texts, train_labels, test_texts, test_labels, evaluation_metrics, to_print, to_save, file_name)"
      ]
    },
    {
      "cell_type": "markdown",
      "metadata": {
        "id": "VxgQqtV3CeWb"
      },
      "source": [
        "#Text Aug."
      ]
    },
    {
      "cell_type": "code",
      "execution_count": null,
      "metadata": {
        "id": "bLjs1Sdczkti",
        "colab": {
          "base_uri": "https://localhost:8080/"
        },
        "outputId": "c4fedfc7-de27-4a1a-8b00-2ce281f87411"
      },
      "outputs": [
        {
          "output_type": "stream",
          "name": "stdout",
          "text": [
            "Looking in indexes: https://pypi.org/simple, https://us-python.pkg.dev/colab-wheels/public/simple/\n",
            "Collecting nlpaug\n",
            "  Downloading nlpaug-1.1.11-py3-none-any.whl (410 kB)\n",
            "\u001b[2K     \u001b[90m━━━━━━━━━━━━━━━━━━━━━━━━━━━━━━━━━━━━━━━\u001b[0m \u001b[32m410.5/410.5 kB\u001b[0m \u001b[31m8.5 MB/s\u001b[0m eta \u001b[36m0:00:00\u001b[0m\n",
            "\u001b[?25hRequirement already satisfied: numpy>=1.16.2 in /usr/local/lib/python3.10/dist-packages (from nlpaug) (1.22.4)\n",
            "Requirement already satisfied: pandas>=1.2.0 in /usr/local/lib/python3.10/dist-packages (from nlpaug) (1.5.3)\n",
            "Requirement already satisfied: requests>=2.22.0 in /usr/local/lib/python3.10/dist-packages (from nlpaug) (2.27.1)\n",
            "Requirement already satisfied: gdown>=4.0.0 in /usr/local/lib/python3.10/dist-packages (from nlpaug) (4.6.6)\n",
            "Requirement already satisfied: filelock in /usr/local/lib/python3.10/dist-packages (from gdown>=4.0.0->nlpaug) (3.12.0)\n",
            "Requirement already satisfied: six in /usr/local/lib/python3.10/dist-packages (from gdown>=4.0.0->nlpaug) (1.16.0)\n",
            "Requirement already satisfied: tqdm in /usr/local/lib/python3.10/dist-packages (from gdown>=4.0.0->nlpaug) (4.65.0)\n",
            "Requirement already satisfied: beautifulsoup4 in /usr/local/lib/python3.10/dist-packages (from gdown>=4.0.0->nlpaug) (4.11.2)\n",
            "Requirement already satisfied: python-dateutil>=2.8.1 in /usr/local/lib/python3.10/dist-packages (from pandas>=1.2.0->nlpaug) (2.8.2)\n",
            "Requirement already satisfied: pytz>=2020.1 in /usr/local/lib/python3.10/dist-packages (from pandas>=1.2.0->nlpaug) (2022.7.1)\n",
            "Requirement already satisfied: urllib3<1.27,>=1.21.1 in /usr/local/lib/python3.10/dist-packages (from requests>=2.22.0->nlpaug) (1.26.15)\n",
            "Requirement already satisfied: certifi>=2017.4.17 in /usr/local/lib/python3.10/dist-packages (from requests>=2.22.0->nlpaug) (2022.12.7)\n",
            "Requirement already satisfied: charset-normalizer~=2.0.0 in /usr/local/lib/python3.10/dist-packages (from requests>=2.22.0->nlpaug) (2.0.12)\n",
            "Requirement already satisfied: idna<4,>=2.5 in /usr/local/lib/python3.10/dist-packages (from requests>=2.22.0->nlpaug) (3.4)\n",
            "Requirement already satisfied: soupsieve>1.2 in /usr/local/lib/python3.10/dist-packages (from beautifulsoup4->gdown>=4.0.0->nlpaug) (2.4.1)\n",
            "Requirement already satisfied: PySocks!=1.5.7,>=1.5.6 in /usr/local/lib/python3.10/dist-packages (from requests>=2.22.0->nlpaug) (1.7.1)\n",
            "Installing collected packages: nlpaug\n",
            "Successfully installed nlpaug-1.1.11\n"
          ]
        }
      ],
      "source": [
        "!pip install nlpaug"
      ]
    },
    {
      "cell_type": "code",
      "execution_count": null,
      "metadata": {
        "id": "LxOY0HleVaXv"
      },
      "outputs": [],
      "source": [
        "import nlpaug.augmenter.word as naw\n",
        "augmenter = naw.RandomWordAug(action='swap', stopwords=stop_words)"
      ]
    },
    {
      "cell_type": "code",
      "execution_count": null,
      "metadata": {
        "id": "9rmdXvAJVaJd"
      },
      "outputs": [],
      "source": [
        "def RS_augmentation(prepro_dataset, lable, sent_num=5):\n",
        "  texts = prepro_dataset.loc[prepro_dataset['label'] == lable]['text'].values\n",
        "  texts_num = len(texts)\n",
        "  new_texts = []\n",
        "  i = 0\n",
        "  \n",
        "  for text in texts:\n",
        "    if i % 200 == 0:\n",
        "      print(f\" {int(100*i/texts_num)} %\")\n",
        "    for j in range(sent_num):\n",
        "      new_texts.append(augmenter.augment(text)[0])\n",
        "    i += 1\n",
        "  augmentations = prepro_dataset[['text', 'label']].copy().append(pd.DataFrame({'label':[lable] * len(new_texts), 'text':new_texts}), ignore_index = True)\n",
        "  augmentations.drop_duplicates(inplace=True)\n",
        "  return augmentations.sample(frac=1)"
      ]
    },
    {
      "cell_type": "code",
      "execution_count": null,
      "metadata": {
        "colab": {
          "base_uri": "https://localhost:8080/"
        },
        "id": "EoVpkA8eCrG-",
        "outputId": "9ae7e92f-214b-4ff6-c1c1-34db3e205706"
      },
      "outputs": [
        {
          "output_type": "stream",
          "name": "stdout",
          "text": [
            " 0 %\n",
            " 21 %\n",
            " 43 %\n",
            " 64 %\n",
            " 86 %\n"
          ]
        },
        {
          "output_type": "stream",
          "name": "stderr",
          "text": [
            "<ipython-input-19-80b56b982d67>:13: FutureWarning: The frame.append method is deprecated and will be removed from pandas in a future version. Use pandas.concat instead.\n",
            "  augmentations = prepro_dataset[['text', 'label']].copy().append(pd.DataFrame({'label':[lable] * len(new_texts), 'text':new_texts}), ignore_index = True)\n"
          ]
        }
      ],
      "source": [
        "augmented_dataset =  RS_augmentation(train_data, lable=1, sent_num=1)"
      ]
    },
    {
      "cell_type": "code",
      "execution_count": null,
      "metadata": {
        "colab": {
          "base_uri": "https://localhost:8080/"
        },
        "id": "IzZOV1Bb69Bh",
        "outputId": "45d9c6b3-085a-4409-ce96-a8d38d03cd36"
      },
      "outputs": [
        {
          "output_type": "stream",
          "name": "stdout",
          "text": [
            " 0 %\n",
            " 16 %\n",
            " 33 %\n",
            " 49 %\n",
            " 66 %\n",
            " 82 %\n",
            " 99 %\n"
          ]
        },
        {
          "output_type": "stream",
          "name": "stderr",
          "text": [
            "<ipython-input-19-80b56b982d67>:13: FutureWarning: The frame.append method is deprecated and will be removed from pandas in a future version. Use pandas.concat instead.\n",
            "  augmentations = prepro_dataset[['text', 'label']].copy().append(pd.DataFrame({'label':[lable] * len(new_texts), 'text':new_texts}), ignore_index = True)\n"
          ]
        }
      ],
      "source": [
        "augmented_dataset =  RS_augmentation(augmented_dataset, lable=2, sent_num=1)"
      ]
    },
    {
      "cell_type": "code",
      "execution_count": null,
      "metadata": {
        "colab": {
          "base_uri": "https://localhost:8080/",
          "height": 423
        },
        "id": "4QbTErlPCygZ",
        "outputId": "7e9a5af9-6e62-4f0a-eb8c-fc7f3d11af70"
      },
      "outputs": [
        {
          "output_type": "execute_result",
          "data": {
            "text/plain": [
              "                                                    text  label\n",
              "1390   etoposide acute leukemia past experience futur...      0\n",
              "8296   failure hepatitis b immunization liver transpl...      1\n",
              "103    giant benign mesenchymoma breast term mesenchy...      0\n",
              "9443   late volume changes retrosternal colon bypass ...      1\n",
              "2015   parotid gland facial nerve trauma retrospectiv...      4\n",
              "...                                                  ...    ...\n",
              "2882   repair transposition great arteries intact ven...      3\n",
              "4567   year follow infants bacteriuria screening obje...      4\n",
              "1188   treatment condyloma acuminatum different inter...      4\n",
              "4932   effect omeprazole high doses ranitidine gastri...      1\n",
              "10818  subcutaneous lisuride infusion parkinsons dise...      2\n",
              "\n",
              "[11578 rows x 2 columns]"
            ],
            "text/html": [
              "\n",
              "  <div id=\"df-98981631-f409-4dea-be86-aabb1d286890\">\n",
              "    <div class=\"colab-df-container\">\n",
              "      <div>\n",
              "<style scoped>\n",
              "    .dataframe tbody tr th:only-of-type {\n",
              "        vertical-align: middle;\n",
              "    }\n",
              "\n",
              "    .dataframe tbody tr th {\n",
              "        vertical-align: top;\n",
              "    }\n",
              "\n",
              "    .dataframe thead th {\n",
              "        text-align: right;\n",
              "    }\n",
              "</style>\n",
              "<table border=\"1\" class=\"dataframe\">\n",
              "  <thead>\n",
              "    <tr style=\"text-align: right;\">\n",
              "      <th></th>\n",
              "      <th>text</th>\n",
              "      <th>label</th>\n",
              "    </tr>\n",
              "  </thead>\n",
              "  <tbody>\n",
              "    <tr>\n",
              "      <th>1390</th>\n",
              "      <td>etoposide acute leukemia past experience futur...</td>\n",
              "      <td>0</td>\n",
              "    </tr>\n",
              "    <tr>\n",
              "      <th>8296</th>\n",
              "      <td>failure hepatitis b immunization liver transpl...</td>\n",
              "      <td>1</td>\n",
              "    </tr>\n",
              "    <tr>\n",
              "      <th>103</th>\n",
              "      <td>giant benign mesenchymoma breast term mesenchy...</td>\n",
              "      <td>0</td>\n",
              "    </tr>\n",
              "    <tr>\n",
              "      <th>9443</th>\n",
              "      <td>late volume changes retrosternal colon bypass ...</td>\n",
              "      <td>1</td>\n",
              "    </tr>\n",
              "    <tr>\n",
              "      <th>2015</th>\n",
              "      <td>parotid gland facial nerve trauma retrospectiv...</td>\n",
              "      <td>4</td>\n",
              "    </tr>\n",
              "    <tr>\n",
              "      <th>...</th>\n",
              "      <td>...</td>\n",
              "      <td>...</td>\n",
              "    </tr>\n",
              "    <tr>\n",
              "      <th>2882</th>\n",
              "      <td>repair transposition great arteries intact ven...</td>\n",
              "      <td>3</td>\n",
              "    </tr>\n",
              "    <tr>\n",
              "      <th>4567</th>\n",
              "      <td>year follow infants bacteriuria screening obje...</td>\n",
              "      <td>4</td>\n",
              "    </tr>\n",
              "    <tr>\n",
              "      <th>1188</th>\n",
              "      <td>treatment condyloma acuminatum different inter...</td>\n",
              "      <td>4</td>\n",
              "    </tr>\n",
              "    <tr>\n",
              "      <th>4932</th>\n",
              "      <td>effect omeprazole high doses ranitidine gastri...</td>\n",
              "      <td>1</td>\n",
              "    </tr>\n",
              "    <tr>\n",
              "      <th>10818</th>\n",
              "      <td>subcutaneous lisuride infusion parkinsons dise...</td>\n",
              "      <td>2</td>\n",
              "    </tr>\n",
              "  </tbody>\n",
              "</table>\n",
              "<p>11578 rows × 2 columns</p>\n",
              "</div>\n",
              "      <button class=\"colab-df-convert\" onclick=\"convertToInteractive('df-98981631-f409-4dea-be86-aabb1d286890')\"\n",
              "              title=\"Convert this dataframe to an interactive table.\"\n",
              "              style=\"display:none;\">\n",
              "        \n",
              "  <svg xmlns=\"http://www.w3.org/2000/svg\" height=\"24px\"viewBox=\"0 0 24 24\"\n",
              "       width=\"24px\">\n",
              "    <path d=\"M0 0h24v24H0V0z\" fill=\"none\"/>\n",
              "    <path d=\"M18.56 5.44l.94 2.06.94-2.06 2.06-.94-2.06-.94-.94-2.06-.94 2.06-2.06.94zm-11 1L8.5 8.5l.94-2.06 2.06-.94-2.06-.94L8.5 2.5l-.94 2.06-2.06.94zm10 10l.94 2.06.94-2.06 2.06-.94-2.06-.94-.94-2.06-.94 2.06-2.06.94z\"/><path d=\"M17.41 7.96l-1.37-1.37c-.4-.4-.92-.59-1.43-.59-.52 0-1.04.2-1.43.59L10.3 9.45l-7.72 7.72c-.78.78-.78 2.05 0 2.83L4 21.41c.39.39.9.59 1.41.59.51 0 1.02-.2 1.41-.59l7.78-7.78 2.81-2.81c.8-.78.8-2.07 0-2.86zM5.41 20L4 18.59l7.72-7.72 1.47 1.35L5.41 20z\"/>\n",
              "  </svg>\n",
              "      </button>\n",
              "      \n",
              "  <style>\n",
              "    .colab-df-container {\n",
              "      display:flex;\n",
              "      flex-wrap:wrap;\n",
              "      gap: 12px;\n",
              "    }\n",
              "\n",
              "    .colab-df-convert {\n",
              "      background-color: #E8F0FE;\n",
              "      border: none;\n",
              "      border-radius: 50%;\n",
              "      cursor: pointer;\n",
              "      display: none;\n",
              "      fill: #1967D2;\n",
              "      height: 32px;\n",
              "      padding: 0 0 0 0;\n",
              "      width: 32px;\n",
              "    }\n",
              "\n",
              "    .colab-df-convert:hover {\n",
              "      background-color: #E2EBFA;\n",
              "      box-shadow: 0px 1px 2px rgba(60, 64, 67, 0.3), 0px 1px 3px 1px rgba(60, 64, 67, 0.15);\n",
              "      fill: #174EA6;\n",
              "    }\n",
              "\n",
              "    [theme=dark] .colab-df-convert {\n",
              "      background-color: #3B4455;\n",
              "      fill: #D2E3FC;\n",
              "    }\n",
              "\n",
              "    [theme=dark] .colab-df-convert:hover {\n",
              "      background-color: #434B5C;\n",
              "      box-shadow: 0px 1px 3px 1px rgba(0, 0, 0, 0.15);\n",
              "      filter: drop-shadow(0px 1px 2px rgba(0, 0, 0, 0.3));\n",
              "      fill: #FFFFFF;\n",
              "    }\n",
              "  </style>\n",
              "\n",
              "      <script>\n",
              "        const buttonEl =\n",
              "          document.querySelector('#df-98981631-f409-4dea-be86-aabb1d286890 button.colab-df-convert');\n",
              "        buttonEl.style.display =\n",
              "          google.colab.kernel.accessAllowed ? 'block' : 'none';\n",
              "\n",
              "        async function convertToInteractive(key) {\n",
              "          const element = document.querySelector('#df-98981631-f409-4dea-be86-aabb1d286890');\n",
              "          const dataTable =\n",
              "            await google.colab.kernel.invokeFunction('convertToInteractive',\n",
              "                                                     [key], {});\n",
              "          if (!dataTable) return;\n",
              "\n",
              "          const docLinkHtml = 'Like what you see? Visit the ' +\n",
              "            '<a target=\"_blank\" href=https://colab.research.google.com/notebooks/data_table.ipynb>data table notebook</a>'\n",
              "            + ' to learn more about interactive tables.';\n",
              "          element.innerHTML = '';\n",
              "          dataTable['output_type'] = 'display_data';\n",
              "          await google.colab.output.renderOutput(dataTable, element);\n",
              "          const docLink = document.createElement('div');\n",
              "          docLink.innerHTML = docLinkHtml;\n",
              "          element.appendChild(docLink);\n",
              "        }\n",
              "      </script>\n",
              "    </div>\n",
              "  </div>\n",
              "  "
            ]
          },
          "metadata": {},
          "execution_count": 28
        }
      ],
      "source": [
        "augmented_dataset"
      ]
    },
    {
      "cell_type": "code",
      "execution_count": null,
      "metadata": {
        "colab": {
          "base_uri": "https://localhost:8080/",
          "height": 653
        },
        "id": "Jvq7cQ1HCyzo",
        "outputId": "61cf96c6-1d86-421e-e529-9dcbad3e3a73"
      },
      "outputs": [
        {
          "output_type": "display_data",
          "data": {
            "text/plain": [
              "<Figure size 800x800 with 1 Axes>"
            ],
            "image/png": "[encoded data removed]"
          },
          "metadata": {}
        }
      ],
      "source": [
        "get_dataset_statistics(augmented_dataset)"
      ]
    },
    {
      "cell_type": "code",
      "execution_count": null,
      "metadata": {
        "id": "XLxoLT-eC1Zk"
      },
      "outputs": [],
      "source": [
        "aug_X_train = np.stack(np.array([get_text_vec(sms_text) for sms_text in augmented_dataset['text'].values]))"
      ]
    },
    {
      "cell_type": "code",
      "execution_count": null,
      "metadata": {
        "colab": {
          "base_uri": "https://localhost:8080/"
        },
        "id": "q1ztZCM1C1Wx",
        "outputId": "ff994921-9401-4d80-b8a9-c2630b0a7f76"
      },
      "outputs": [
        {
          "output_type": "execute_result",
          "data": {
            "text/plain": [
              "(11578, 300)"
            ]
          },
          "metadata": {},
          "execution_count": 31
        }
      ],
      "source": [
        "aug_X_train.shape"
      ]
    },
    {
      "cell_type": "code",
      "execution_count": null,
      "metadata": {
        "id": "ZgSjWKWkC1UJ"
      },
      "outputs": [],
      "source": [
        "aug_y_train = augmented_dataset['label'].values"
      ]
    },
    {
      "cell_type": "code",
      "execution_count": null,
      "metadata": {
        "colab": {
          "base_uri": "https://localhost:8080/"
        },
        "id": "WvvhVZKqC1RO",
        "outputId": "1dcf636b-c996-4c92-b72a-539ce399ea4d"
      },
      "outputs": [
        {
          "output_type": "execute_result",
          "data": {
            "text/plain": [
              "(11578,)"
            ]
          },
          "metadata": {},
          "execution_count": 33
        }
      ],
      "source": [
        "aug_y_train.shape"
      ]
    },
    {
      "cell_type": "code",
      "execution_count": null,
      "metadata": {
        "id": "S70DsPUkC6IG"
      },
      "outputs": [],
      "source": [
        "evaluation_metrics_aug = pd.DataFrame(columns = ['Recall', 'Precision', 'F1 score', 'F2 score'])"
      ]
    },
    {
      "cell_type": "markdown",
      "metadata": {
        "id": "WE-5VY84xLiG"
      },
      "source": [
        "#RF"
      ]
    },
    {
      "cell_type": "code",
      "source": [
        "train(1, aug_X_train, aug_y_train, X_test, y_test, evaluation_metrics_aug, to_save=True, file_name='RS_RF')"
      ],
      "metadata": {
        "colab": {
          "base_uri": "https://localhost:8080/",
          "height": 818
        },
        "id": "mZMJkUBPmrPq",
        "outputId": "ab7b2842-7309-43f2-9602-565cabc4fa44"
      },
      "execution_count": null,
      "outputs": [
        {
          "output_type": "stream",
          "name": "stdout",
          "text": [
            "train accuracy = 0.6298151666954569\n",
            "test accuracy = 0.5245487364620939\n",
            "Recall = 0.5111833274760125\n",
            "Precision = 0.5116704619475378\n",
            "F1 score = 0.5060119982576916\n",
            "F2 score = 0.5079594291823344\n",
            "              precision    recall  f1-score   support\n",
            "\n",
            "           0       0.68      0.73      0.70       616\n",
            "           1       0.41      0.26      0.32       287\n",
            "           2       0.42      0.55      0.48       366\n",
            "           3       0.64      0.62      0.63       589\n",
            "           4       0.42      0.40      0.41       912\n",
            "\n",
            "    accuracy                           0.52      2770\n",
            "   macro avg       0.51      0.51      0.51      2770\n",
            "weighted avg       0.52      0.52      0.52      2770\n",
            "\n"
          ]
        },
        {
          "output_type": "display_data",
          "data": {
            "text/plain": [
              "<Figure size 640x480 with 2 Axes>"
            ],
            "image/png": "[encoded data removed]"
          },
          "metadata": {}
        },
        {
          "output_type": "stream",
          "name": "stdout",
          "text": [
            "{'criterion': 'entropy', 'max_depth': 6, 'max_features': 15, 'min_samples_split': 25, 'n_estimators': 25}\n"
          ]
        },
        {
          "output_type": "execute_result",
          "data": {
            "text/plain": [
              "(0.5060119982576916, 0.5079594291823344)"
            ]
          },
          "metadata": {},
          "execution_count": 35
        }
      ]
    },
    {
      "cell_type": "markdown",
      "metadata": {
        "id": "M7IOkSy4B7HQ"
      },
      "source": [
        "# SVM"
      ]
    },
    {
      "cell_type": "code",
      "source": [
        "train(2, aug_X_train, aug_y_train, X_test, y_test, evaluation_metrics_aug, to_save=True, file_name='RS_SVM')"
      ],
      "metadata": {
        "id": "L-mswZwhdzfV",
        "colab": {
          "base_uri": "https://localhost:8080/",
          "height": 818
        },
        "outputId": "49d85493-d027-4e33-f65e-618b942f3b18"
      },
      "execution_count": null,
      "outputs": [
        {
          "output_type": "stream",
          "name": "stdout",
          "text": [
            "train accuracy = 0.7202452927966834\n",
            "test accuracy = 0.6007220216606498\n",
            "Recall = 0.62021572543856\n",
            "Precision = 0.5854178114163823\n",
            "F1 score = 0.5990372614743412\n",
            "F2 score = 0.6108653407673528\n",
            "              precision    recall  f1-score   support\n",
            "\n",
            "           0       0.71      0.76      0.73       616\n",
            "           1       0.49      0.56      0.52       287\n",
            "           2       0.53      0.63      0.58       366\n",
            "           3       0.68      0.75      0.71       589\n",
            "           4       0.52      0.40      0.45       912\n",
            "\n",
            "    accuracy                           0.60      2770\n",
            "   macro avg       0.59      0.62      0.60      2770\n",
            "weighted avg       0.59      0.60      0.59      2770\n",
            "\n"
          ]
        },
        {
          "output_type": "display_data",
          "data": {
            "text/plain": [
              "<Figure size 640x480 with 2 Axes>"
            ],
            "image/png": "[encoded data removed]"
          },
          "metadata": {}
        },
        {
          "output_type": "stream",
          "name": "stdout",
          "text": [
            "{'degree': 3, 'gamma': 'scale', 'kernel': 'rbf'}\n"
          ]
        },
        {
          "output_type": "execute_result",
          "data": {
            "text/plain": [
              "(0.5990372614743412, 0.6108653407673528)"
            ]
          },
          "metadata": {},
          "execution_count": 36
        }
      ]
    },
    {
      "cell_type": "code",
      "execution_count": null,
      "metadata": {
        "id": "CGKISarr0XYc",
        "colab": {
          "base_uri": "https://localhost:8080/",
          "height": 112
        },
        "outputId": "8cd2e815-8542-4c69-c44e-3e48c8397ba4"
      },
      "outputs": [
        {
          "output_type": "execute_result",
          "data": {
            "text/plain": [
              "                Recall Precision  F1 score  F2 score\n",
              "RandomForest  0.511183   0.51167  0.506012  0.507959\n",
              "SVM           0.620216  0.585418  0.599037  0.610865"
            ],
            "text/html": [
              "\n",
              "  <div id=\"df-fca069b6-33c3-4a81-b803-5661e32c4e46\">\n",
              "    <div class=\"colab-df-container\">\n",
              "      <div>\n",
              "<style scoped>\n",
              "    .dataframe tbody tr th:only-of-type {\n",
              "        vertical-align: middle;\n",
              "    }\n",
              "\n",
              "    .dataframe tbody tr th {\n",
              "        vertical-align: top;\n",
              "    }\n",
              "\n",
              "    .dataframe thead th {\n",
              "        text-align: right;\n",
              "    }\n",
              "</style>\n",
              "<table border=\"1\" class=\"dataframe\">\n",
              "  <thead>\n",
              "    <tr style=\"text-align: right;\">\n",
              "      <th></th>\n",
              "      <th>Recall</th>\n",
              "      <th>Precision</th>\n",
              "      <th>F1 score</th>\n",
              "      <th>F2 score</th>\n",
              "    </tr>\n",
              "  </thead>\n",
              "  <tbody>\n",
              "    <tr>\n",
              "      <th>RandomForest</th>\n",
              "      <td>0.511183</td>\n",
              "      <td>0.51167</td>\n",
              "      <td>0.506012</td>\n",
              "      <td>0.507959</td>\n",
              "    </tr>\n",
              "    <tr>\n",
              "      <th>SVM</th>\n",
              "      <td>0.620216</td>\n",
              "      <td>0.585418</td>\n",
              "      <td>0.599037</td>\n",
              "      <td>0.610865</td>\n",
              "    </tr>\n",
              "  </tbody>\n",
              "</table>\n",
              "</div>\n",
              "      <button class=\"colab-df-convert\" onclick=\"convertToInteractive('df-fca069b6-33c3-4a81-b803-5661e32c4e46')\"\n",
              "              title=\"Convert this dataframe to an interactive table.\"\n",
              "              style=\"display:none;\">\n",
              "        \n",
              "  <svg xmlns=\"http://www.w3.org/2000/svg\" height=\"24px\"viewBox=\"0 0 24 24\"\n",
              "       width=\"24px\">\n",
              "    <path d=\"M0 0h24v24H0V0z\" fill=\"none\"/>\n",
              "    <path d=\"M18.56 5.44l.94 2.06.94-2.06 2.06-.94-2.06-.94-.94-2.06-.94 2.06-2.06.94zm-11 1L8.5 8.5l.94-2.06 2.06-.94-2.06-.94L8.5 2.5l-.94 2.06-2.06.94zm10 10l.94 2.06.94-2.06 2.06-.94-2.06-.94-.94-2.06-.94 2.06-2.06.94z\"/><path d=\"M17.41 7.96l-1.37-1.37c-.4-.4-.92-.59-1.43-.59-.52 0-1.04.2-1.43.59L10.3 9.45l-7.72 7.72c-.78.78-.78 2.05 0 2.83L4 21.41c.39.39.9.59 1.41.59.51 0 1.02-.2 1.41-.59l7.78-7.78 2.81-2.81c.8-.78.8-2.07 0-2.86zM5.41 20L4 18.59l7.72-7.72 1.47 1.35L5.41 20z\"/>\n",
              "  </svg>\n",
              "      </button>\n",
              "      \n",
              "  <style>\n",
              "    .colab-df-container {\n",
              "      display:flex;\n",
              "      flex-wrap:wrap;\n",
              "      gap: 12px;\n",
              "    }\n",
              "\n",
              "    .colab-df-convert {\n",
              "      background-color: #E8F0FE;\n",
              "      border: none;\n",
              "      border-radius: 50%;\n",
              "      cursor: pointer;\n",
              "      display: none;\n",
              "      fill: #1967D2;\n",
              "      height: 32px;\n",
              "      padding: 0 0 0 0;\n",
              "      width: 32px;\n",
              "    }\n",
              "\n",
              "    .colab-df-convert:hover {\n",
              "      background-color: #E2EBFA;\n",
              "      box-shadow: 0px 1px 2px rgba(60, 64, 67, 0.3), 0px 1px 3px 1px rgba(60, 64, 67, 0.15);\n",
              "      fill: #174EA6;\n",
              "    }\n",
              "\n",
              "    [theme=dark] .colab-df-convert {\n",
              "      background-color: #3B4455;\n",
              "      fill: #D2E3FC;\n",
              "    }\n",
              "\n",
              "    [theme=dark] .colab-df-convert:hover {\n",
              "      background-color: #434B5C;\n",
              "      box-shadow: 0px 1px 3px 1px rgba(0, 0, 0, 0.15);\n",
              "      filter: drop-shadow(0px 1px 2px rgba(0, 0, 0, 0.3));\n",
              "      fill: #FFFFFF;\n",
              "    }\n",
              "  </style>\n",
              "\n",
              "      <script>\n",
              "        const buttonEl =\n",
              "          document.querySelector('#df-fca069b6-33c3-4a81-b803-5661e32c4e46 button.colab-df-convert');\n",
              "        buttonEl.style.display =\n",
              "          google.colab.kernel.accessAllowed ? 'block' : 'none';\n",
              "\n",
              "        async function convertToInteractive(key) {\n",
              "          const element = document.querySelector('#df-fca069b6-33c3-4a81-b803-5661e32c4e46');\n",
              "          const dataTable =\n",
              "            await google.colab.kernel.invokeFunction('convertToInteractive',\n",
              "                                                     [key], {});\n",
              "          if (!dataTable) return;\n",
              "\n",
              "          const docLinkHtml = 'Like what you see? Visit the ' +\n",
              "            '<a target=\"_blank\" href=https://colab.research.google.com/notebooks/data_table.ipynb>data table notebook</a>'\n",
              "            + ' to learn more about interactive tables.';\n",
              "          element.innerHTML = '';\n",
              "          dataTable['output_type'] = 'display_data';\n",
              "          await google.colab.output.renderOutput(dataTable, element);\n",
              "          const docLink = document.createElement('div');\n",
              "          docLink.innerHTML = docLinkHtml;\n",
              "          element.appendChild(docLink);\n",
              "        }\n",
              "      </script>\n",
              "    </div>\n",
              "  </div>\n",
              "  "
            ]
          },
          "metadata": {},
          "execution_count": 37
        }
      ],
      "source": [
        "evaluation_metrics_aug"
      ]
    },
    {
      "cell_type": "markdown",
      "metadata": {
        "id": "SjEYoA_ns2qn"
      },
      "source": [
        "#BiLSTM"
      ]
    },
    {
      "cell_type": "code",
      "execution_count": null,
      "metadata": {
        "id": "bk1yt2Eas2-2"
      },
      "outputs": [],
      "source": [
        "import random\n",
        "import tensorflow as tf \n",
        "from tensorflow import keras \n",
        "from tensorflow.keras import layers\n",
        "from sklearn.metrics import ConfusionMatrixDisplay\n",
        "from tensorflow.keras.layers import Dropout,SpatialDropout1D\n",
        "from tensorflow.keras import regularizers\n",
        "from sklearn.model_selection import StratifiedKFold"
      ]
    },
    {
      "cell_type": "code",
      "source": [
        "def create_blstm_model(train_texts):\n",
        "\n",
        "  vectorize_layer = layers.TextVectorization(max_tokens=2000, output_sequence_length=200)\n",
        "\n",
        "  vectorize_layer.adapt(train_texts)\n",
        "\n",
        "  embedding_layer = layers.Embedding(input_dim=2000, output_dim=32)\n",
        "\n",
        "  model = tf.keras.models.Sequential()\n",
        "  model.add(tf.keras.Input(shape=(1,), dtype=tf.string))\n",
        "  model.add(vectorize_layer)\n",
        "  model.add(embedding_layer)\n",
        "  model.add(SpatialDropout1D(0.2))\n",
        "  model.add(layers.Bidirectional(layers.LSTM(64, bias_regularizer=regularizers.L2(1e-4), kernel_regularizer=regularizers.L1L2(l1=1e-4, l2=1e-4), activity_regularizer=regularizers.L2(1e-4))))\n",
        "  model.add(Dropout(0.2))\n",
        "  model.add(layers.Dense(5, activation='softmax'))\n",
        "\n",
        "\n",
        "  model.compile(optimizer=keras.optimizers.Adam(),\n",
        "                loss='sparse_categorical_crossentropy',\n",
        "                metrics=['accuracy'])  \n",
        "  print(model.summary())\n",
        "  \n",
        "  return model"
      ],
      "metadata": {
        "id": "N0u2GrBtwoYe"
      },
      "execution_count": null,
      "outputs": []
    },
    {
      "cell_type": "markdown",
      "source": [
        "# Cross Validation"
      ],
      "metadata": {
        "id": "hLY1_fg7O3FJ"
      }
    },
    {
      "cell_type": "code",
      "source": [
        "def cv_blstm():\n",
        "\n",
        "  kf = StratifiedKFold(10, shuffle=True, random_state=42) \n",
        "  cv_metrics = pd.DataFrame(columns = ['Recall', 'Precision', 'F1 score', 'F2 score'])\n",
        "\n",
        "  fold = 0\n",
        "\n",
        "  X = augmented_dataset['text'].values\n",
        "  Y = augmented_dataset['label'].values\n",
        "\n",
        "  for train, val in kf.split(X, Y):  \n",
        "  \n",
        "    print(f\"Fold {fold}\")\n",
        "\n",
        "    train_texts = X[train]\n",
        "    train_labels = Y[train]\n",
        "    test_texts = X[val]\n",
        "    test_labels = Y[val]\n",
        "\n",
        "    blstm_model = create_blstm_model(train_texts)\n",
        "\n",
        "    history = blstm_model.fit(train_texts,\n",
        "                              train_labels,\n",
        "                              epochs=10,\n",
        "                              batch_size=64,\n",
        "                              validation_data=(test_texts, test_labels))\n",
        "\n",
        "    blstm_model.evaluate(test_texts, test_labels)\n",
        "    y_pred = np.round(blstm_model.predict(test_texts))\n",
        "    y_pred = np.argmax(y_pred, axis=1)\n",
        "\n",
        "    f1_sc = f1_score(test_labels, y_pred, average='macro')\n",
        "    f2score = fbeta_score(test_labels, y_pred, beta=2, average='macro')\n",
        "\n",
        "    cv_metrics.loc[fold, 'Recall'] = recall_score(test_labels, y_pred, average='macro')\n",
        "    cv_metrics.loc[fold, 'Precision'] = precision_score(test_labels, y_pred, average='macro')\n",
        "    cv_metrics.loc[fold, 'F1 score'] = f1_sc\n",
        "    cv_metrics.loc[fold, 'F2 score'] = f2score\n",
        "    \n",
        "    fold += 1\n",
        "\n",
        "  return cv_metrics"
      ],
      "metadata": {
        "id": "rOwotUZUO3h1"
      },
      "execution_count": null,
      "outputs": []
    },
    {
      "cell_type": "code",
      "source": [
        "cv_results = cv_blstm()"
      ],
      "metadata": {
        "colab": {
          "base_uri": "https://localhost:8080/"
        },
        "id": "246tCfNdO35A",
        "outputId": "8a99709d-6fd1-45ba-a079-ba4c552ef36c"
      },
      "execution_count": null,
      "outputs": [
        {
          "output_type": "stream",
          "name": "stdout",
          "text": [
            "Fold 0\n",
            "Model: \"sequential\"\n",
            "_________________________________________________________________\n",
            " Layer (type)                Output Shape              Param #   \n",
            "=================================================================\n",
            " text_vectorization (TextVec  (None, 200)              0         \n",
            " torization)                                                     \n",
            "                                                                 \n",
            " embedding (Embedding)       (None, 200, 32)           64000     \n",
            "                                                                 \n",
            " spatial_dropout1d (SpatialD  (None, 200, 32)          0         \n",
            " ropout1D)                                                       \n",
            "                                                                 \n",
            " bidirectional (Bidirectiona  (None, 128)              49664     \n",
            " l)                                                              \n",
            "                                                                 \n",
            " dropout (Dropout)           (None, 128)               0         \n",
            "                                                                 \n",
            " dense (Dense)               (None, 5)                 645       \n",
            "                                                                 \n",
            "=================================================================\n",
            "Total params: 114,309\n",
            "Trainable params: 114,309\n",
            "Non-trainable params: 0\n",
            "_________________________________________________________________\n",
            "None\n",
            "Epoch 1/10\n",
            "163/163 [==============================] - 31s 133ms/step - loss: 1.5202 - accuracy: 0.3500 - val_loss: 1.1767 - val_accuracy: 0.5086\n",
            "Epoch 2/10\n",
            "163/163 [==============================] - 8s 51ms/step - loss: 1.0336 - accuracy: 0.6129 - val_loss: 0.9708 - val_accuracy: 0.6235\n",
            "Epoch 3/10\n",
            "163/163 [==============================] - 7s 43ms/step - loss: 0.8689 - accuracy: 0.6825 - val_loss: 0.9444 - val_accuracy: 0.6373\n",
            "Epoch 4/10\n",
            "163/163 [==============================] - 5s 30ms/step - loss: 0.7915 - accuracy: 0.7145 - val_loss: 0.9301 - val_accuracy: 0.6528\n",
            "Epoch 5/10\n",
            "163/163 [==============================] - 3s 18ms/step - loss: 0.7516 - accuracy: 0.7321 - val_loss: 0.9330 - val_accuracy: 0.6425\n",
            "Epoch 6/10\n",
            "163/163 [==============================] - 4s 22ms/step - loss: 0.7166 - accuracy: 0.7500 - val_loss: 0.8879 - val_accuracy: 0.6615\n",
            "Epoch 7/10\n",
            "163/163 [==============================] - 3s 19ms/step - loss: 0.6735 - accuracy: 0.7665 - val_loss: 0.9345 - val_accuracy: 0.6313\n",
            "Epoch 8/10\n",
            "163/163 [==============================] - 4s 25ms/step - loss: 0.6593 - accuracy: 0.7744 - val_loss: 0.9327 - val_accuracy: 0.6563\n",
            "Epoch 9/10\n",
            "163/163 [==============================] - 4s 24ms/step - loss: 0.6345 - accuracy: 0.7845 - val_loss: 0.9303 - val_accuracy: 0.6710\n",
            "Epoch 10/10\n",
            "163/163 [==============================] - 3s 19ms/step - loss: 0.6183 - accuracy: 0.7908 - val_loss: 0.9558 - val_accuracy: 0.6434\n",
            "37/37 [==============================] - 0s 7ms/step - loss: 0.9558 - accuracy: 0.6434\n",
            "37/37 [==============================] - 1s 6ms/step\n",
            "Fold 1\n",
            "Model: \"sequential_1\"\n",
            "_________________________________________________________________\n",
            " Layer (type)                Output Shape              Param #   \n",
            "=================================================================\n",
            " text_vectorization_1 (TextV  (None, 200)              0         \n",
            " ectorization)                                                   \n",
            "                                                                 \n",
            " embedding_1 (Embedding)     (None, 200, 32)           64000     \n",
            "                                                                 \n",
            " spatial_dropout1d_1 (Spatia  (None, 200, 32)          0         \n",
            " lDropout1D)                                                     \n",
            "                                                                 \n",
            " bidirectional_1 (Bidirectio  (None, 128)              49664     \n",
            " nal)                                                            \n",
            "                                                                 \n",
            " dropout_1 (Dropout)         (None, 128)               0         \n",
            "                                                                 \n",
            " dense_1 (Dense)             (None, 5)                 645       \n",
            "                                                                 \n",
            "=================================================================\n",
            "Total params: 114,309\n",
            "Trainable params: 114,309\n",
            "Non-trainable params: 0\n",
            "_________________________________________________________________\n",
            "None\n",
            "Epoch 1/10\n",
            "163/163 [==============================] - 21s 107ms/step - loss: 1.4828 - accuracy: 0.3710 - val_loss: 1.2570 - val_accuracy: 0.4801\n",
            "Epoch 2/10\n",
            "163/163 [==============================] - 6s 39ms/step - loss: 1.1116 - accuracy: 0.5680 - val_loss: 0.9934 - val_accuracy: 0.6295\n",
            "Epoch 3/10\n",
            "163/163 [==============================] - 5s 29ms/step - loss: 0.9085 - accuracy: 0.6656 - val_loss: 0.9803 - val_accuracy: 0.6174\n",
            "Epoch 4/10\n",
            "163/163 [==============================] - 4s 26ms/step - loss: 0.8346 - accuracy: 0.6929 - val_loss: 0.9253 - val_accuracy: 0.6675\n",
            "Epoch 5/10\n",
            "163/163 [==============================] - 4s 25ms/step - loss: 0.7806 - accuracy: 0.7158 - val_loss: 0.9111 - val_accuracy: 0.6710\n",
            "Epoch 6/10\n",
            "163/163 [==============================] - 3s 21ms/step - loss: 0.7361 - accuracy: 0.7393 - val_loss: 0.9202 - val_accuracy: 0.6736\n",
            "Epoch 7/10\n",
            "163/163 [==============================] - 3s 20ms/step - loss: 0.6957 - accuracy: 0.7542 - val_loss: 0.8855 - val_accuracy: 0.6788\n",
            "Epoch 8/10\n",
            "163/163 [==============================] - 4s 22ms/step - loss: 0.6713 - accuracy: 0.7641 - val_loss: 0.8705 - val_accuracy: 0.6917\n",
            "Epoch 9/10\n",
            "163/163 [==============================] - 4s 23ms/step - loss: 0.6293 - accuracy: 0.7857 - val_loss: 0.8739 - val_accuracy: 0.6943\n",
            "Epoch 10/10\n",
            "163/163 [==============================] - 3s 20ms/step - loss: 0.6082 - accuracy: 0.7968 - val_loss: 0.8529 - val_accuracy: 0.7021\n",
            "37/37 [==============================] - 0s 7ms/step - loss: 0.8529 - accuracy: 0.7021\n",
            "37/37 [==============================] - 1s 7ms/step\n",
            "Fold 2\n",
            "Model: \"sequential_2\"\n",
            "_________________________________________________________________\n",
            " Layer (type)                Output Shape              Param #   \n",
            "=================================================================\n",
            " text_vectorization_2 (TextV  (None, 200)              0         \n",
            " ectorization)                                                   \n",
            "                                                                 \n",
            " embedding_2 (Embedding)     (None, 200, 32)           64000     \n",
            "                                                                 \n",
            " spatial_dropout1d_2 (Spatia  (None, 200, 32)          0         \n",
            " lDropout1D)                                                     \n",
            "                                                                 \n",
            " bidirectional_2 (Bidirectio  (None, 128)              49664     \n",
            " nal)                                                            \n",
            "                                                                 \n",
            " dropout_2 (Dropout)         (None, 128)               0         \n",
            "                                                                 \n",
            " dense_2 (Dense)             (None, 5)                 645       \n",
            "                                                                 \n",
            "=================================================================\n",
            "Total params: 114,309\n",
            "Trainable params: 114,309\n",
            "Non-trainable params: 0\n",
            "_________________________________________________________________\n",
            "None\n",
            "Epoch 1/10\n",
            "163/163 [==============================] - 21s 108ms/step - loss: 1.5103 - accuracy: 0.3608 - val_loss: 1.2631 - val_accuracy: 0.5121\n",
            "Epoch 2/10\n",
            "163/163 [==============================] - 8s 46ms/step - loss: 1.0835 - accuracy: 0.5985 - val_loss: 1.0276 - val_accuracy: 0.6140\n",
            "Epoch 3/10\n",
            "163/163 [==============================] - 4s 26ms/step - loss: 0.8896 - accuracy: 0.6743 - val_loss: 0.9190 - val_accuracy: 0.6667\n",
            "Epoch 4/10\n",
            "163/163 [==============================] - 5s 28ms/step - loss: 0.8039 - accuracy: 0.7068 - val_loss: 0.9216 - val_accuracy: 0.6615\n",
            "Epoch 5/10\n",
            "163/163 [==============================] - 4s 26ms/step - loss: 0.7578 - accuracy: 0.7283 - val_loss: 0.9250 - val_accuracy: 0.6563\n",
            "Epoch 6/10\n",
            "163/163 [==============================] - 3s 21ms/step - loss: 0.7118 - accuracy: 0.7493 - val_loss: 0.9354 - val_accuracy: 0.6623\n",
            "Epoch 7/10\n",
            "163/163 [==============================] - 3s 18ms/step - loss: 0.6808 - accuracy: 0.7579 - val_loss: 0.8984 - val_accuracy: 0.6727\n",
            "Epoch 8/10\n",
            "163/163 [==============================] - 3s 20ms/step - loss: 0.6610 - accuracy: 0.7729 - val_loss: 0.9173 - val_accuracy: 0.6796\n",
            "Epoch 9/10\n",
            "163/163 [==============================] - 3s 20ms/step - loss: 0.6278 - accuracy: 0.7862 - val_loss: 0.8989 - val_accuracy: 0.6874\n",
            "Epoch 10/10\n",
            "163/163 [==============================] - 3s 17ms/step - loss: 0.6009 - accuracy: 0.7947 - val_loss: 0.9035 - val_accuracy: 0.6883\n",
            "37/37 [==============================] - 0s 11ms/step - loss: 0.9035 - accuracy: 0.6883\n",
            "37/37 [==============================] - 1s 6ms/step\n",
            "Fold 3\n",
            "Model: \"sequential_3\"\n",
            "_________________________________________________________________\n",
            " Layer (type)                Output Shape              Param #   \n",
            "=================================================================\n",
            " text_vectorization_3 (TextV  (None, 200)              0         \n",
            " ectorization)                                                   \n",
            "                                                                 \n",
            " embedding_3 (Embedding)     (None, 200, 32)           64000     \n",
            "                                                                 \n",
            " spatial_dropout1d_3 (Spatia  (None, 200, 32)          0         \n",
            " lDropout1D)                                                     \n",
            "                                                                 \n",
            " bidirectional_3 (Bidirectio  (None, 128)              49664     \n",
            " nal)                                                            \n",
            "                                                                 \n",
            " dropout_3 (Dropout)         (None, 128)               0         \n",
            "                                                                 \n",
            " dense_3 (Dense)             (None, 5)                 645       \n",
            "                                                                 \n",
            "=================================================================\n",
            "Total params: 114,309\n",
            "Trainable params: 114,309\n",
            "Non-trainable params: 0\n",
            "_________________________________________________________________\n",
            "None\n",
            "Epoch 1/10\n",
            "163/163 [==============================] - 21s 100ms/step - loss: 1.5076 - accuracy: 0.3767 - val_loss: 1.1871 - val_accuracy: 0.5630\n",
            "Epoch 2/10\n",
            "163/163 [==============================] - 7s 44ms/step - loss: 1.0464 - accuracy: 0.6153 - val_loss: 0.9777 - val_accuracy: 0.6477\n",
            "Epoch 3/10\n",
            "163/163 [==============================] - 6s 35ms/step - loss: 0.8913 - accuracy: 0.6782 - val_loss: 0.9294 - val_accuracy: 0.6520\n",
            "Epoch 4/10\n",
            "163/163 [==============================] - 4s 24ms/step - loss: 0.8251 - accuracy: 0.6996 - val_loss: 0.9047 - val_accuracy: 0.6632\n",
            "Epoch 5/10\n",
            "163/163 [==============================] - 4s 23ms/step - loss: 0.7805 - accuracy: 0.7136 - val_loss: 0.9068 - val_accuracy: 0.6606\n",
            "Epoch 6/10\n",
            "163/163 [==============================] - 3s 21ms/step - loss: 0.7623 - accuracy: 0.7235 - val_loss: 0.9177 - val_accuracy: 0.6580\n",
            "Epoch 7/10\n",
            "163/163 [==============================] - 3s 18ms/step - loss: 0.7220 - accuracy: 0.7433 - val_loss: 0.9118 - val_accuracy: 0.6641\n",
            "Epoch 8/10\n",
            "163/163 [==============================] - 3s 21ms/step - loss: 0.7001 - accuracy: 0.7580 - val_loss: 0.9264 - val_accuracy: 0.6537\n",
            "Epoch 9/10\n",
            "163/163 [==============================] - 3s 20ms/step - loss: 0.6674 - accuracy: 0.7668 - val_loss: 0.9328 - val_accuracy: 0.6623\n",
            "Epoch 10/10\n",
            "163/163 [==============================] - 3s 19ms/step - loss: 0.6395 - accuracy: 0.7795 - val_loss: 0.9146 - val_accuracy: 0.6770\n",
            "37/37 [==============================] - 0s 8ms/step - loss: 0.9146 - accuracy: 0.6770\n",
            "37/37 [==============================] - 1s 7ms/step\n",
            "Fold 4\n",
            "Model: \"sequential_4\"\n",
            "_________________________________________________________________\n",
            " Layer (type)                Output Shape              Param #   \n",
            "=================================================================\n",
            " text_vectorization_4 (TextV  (None, 200)              0         \n",
            " ectorization)                                                   \n",
            "                                                                 \n",
            " embedding_4 (Embedding)     (None, 200, 32)           64000     \n",
            "                                                                 \n",
            " spatial_dropout1d_4 (Spatia  (None, 200, 32)          0         \n",
            " lDropout1D)                                                     \n",
            "                                                                 \n",
            " bidirectional_4 (Bidirectio  (None, 128)              49664     \n",
            " nal)                                                            \n",
            "                                                                 \n",
            " dropout_4 (Dropout)         (None, 128)               0         \n",
            "                                                                 \n",
            " dense_4 (Dense)             (None, 5)                 645       \n",
            "                                                                 \n",
            "=================================================================\n",
            "Total params: 114,309\n",
            "Trainable params: 114,309\n",
            "Non-trainable params: 0\n",
            "_________________________________________________________________\n",
            "None\n",
            "Epoch 1/10\n",
            "163/163 [==============================] - 22s 113ms/step - loss: 1.5117 - accuracy: 0.3769 - val_loss: 1.2303 - val_accuracy: 0.5380\n",
            "Epoch 2/10\n",
            "163/163 [==============================] - 7s 41ms/step - loss: 1.1079 - accuracy: 0.5846 - val_loss: 0.9915 - val_accuracy: 0.6192\n",
            "Epoch 3/10\n",
            "163/163 [==============================] - 5s 29ms/step - loss: 0.9219 - accuracy: 0.6610 - val_loss: 0.9084 - val_accuracy: 0.6511\n",
            "Epoch 4/10\n",
            "163/163 [==============================] - 5s 30ms/step - loss: 0.8389 - accuracy: 0.6951 - val_loss: 0.8993 - val_accuracy: 0.6511\n",
            "Epoch 5/10\n",
            "163/163 [==============================] - 4s 23ms/step - loss: 0.7812 - accuracy: 0.7217 - val_loss: 0.8789 - val_accuracy: 0.6675\n",
            "Epoch 6/10\n",
            "163/163 [==============================] - 3s 21ms/step - loss: 0.7397 - accuracy: 0.7385 - val_loss: 0.8835 - val_accuracy: 0.6805\n",
            "Epoch 7/10\n",
            "163/163 [==============================] - 3s 21ms/step - loss: 0.7010 - accuracy: 0.7535 - val_loss: 0.9132 - val_accuracy: 0.6736\n",
            "Epoch 8/10\n",
            "163/163 [==============================] - 3s 20ms/step - loss: 0.6651 - accuracy: 0.7684 - val_loss: 0.8692 - val_accuracy: 0.6891\n",
            "Epoch 9/10\n",
            "163/163 [==============================] - 3s 19ms/step - loss: 0.6270 - accuracy: 0.7873 - val_loss: 0.8728 - val_accuracy: 0.7055\n",
            "Epoch 10/10\n",
            "163/163 [==============================] - 3s 20ms/step - loss: 0.5980 - accuracy: 0.8036 - val_loss: 0.8860 - val_accuracy: 0.7029\n",
            "37/37 [==============================] - 0s 8ms/step - loss: 0.8860 - accuracy: 0.7029\n",
            "37/37 [==============================] - 1s 7ms/step\n",
            "Fold 5\n",
            "Model: \"sequential_5\"\n",
            "_________________________________________________________________\n",
            " Layer (type)                Output Shape              Param #   \n",
            "=================================================================\n",
            " text_vectorization_5 (TextV  (None, 200)              0         \n",
            " ectorization)                                                   \n",
            "                                                                 \n",
            " embedding_5 (Embedding)     (None, 200, 32)           64000     \n",
            "                                                                 \n",
            " spatial_dropout1d_5 (Spatia  (None, 200, 32)          0         \n",
            " lDropout1D)                                                     \n",
            "                                                                 \n",
            " bidirectional_5 (Bidirectio  (None, 128)              49664     \n",
            " nal)                                                            \n",
            "                                                                 \n",
            " dropout_5 (Dropout)         (None, 128)               0         \n",
            "                                                                 \n",
            " dense_5 (Dense)             (None, 5)                 645       \n",
            "                                                                 \n",
            "=================================================================\n",
            "Total params: 114,309\n",
            "Trainable params: 114,309\n",
            "Non-trainable params: 0\n",
            "_________________________________________________________________\n",
            "None\n",
            "Epoch 1/10\n",
            "163/163 [==============================] - 20s 101ms/step - loss: 1.5183 - accuracy: 0.3582 - val_loss: 1.2664 - val_accuracy: 0.4879\n",
            "Epoch 2/10\n",
            "163/163 [==============================] - 7s 44ms/step - loss: 1.1213 - accuracy: 0.5638 - val_loss: 1.0148 - val_accuracy: 0.6123\n",
            "Epoch 3/10\n",
            "163/163 [==============================] - 5s 30ms/step - loss: 0.9361 - accuracy: 0.6473 - val_loss: 0.9562 - val_accuracy: 0.6459\n",
            "Epoch 4/10\n",
            "163/163 [==============================] - 4s 25ms/step - loss: 0.8526 - accuracy: 0.6866 - val_loss: 0.9308 - val_accuracy: 0.6511\n",
            "Epoch 5/10\n",
            "163/163 [==============================] - 4s 22ms/step - loss: 0.7847 - accuracy: 0.7161 - val_loss: 0.8870 - val_accuracy: 0.6736\n",
            "Epoch 6/10\n",
            "163/163 [==============================] - 3s 18ms/step - loss: 0.7425 - accuracy: 0.7378 - val_loss: 0.8778 - val_accuracy: 0.6805\n",
            "Epoch 7/10\n",
            "163/163 [==============================] - 4s 22ms/step - loss: 0.6943 - accuracy: 0.7614 - val_loss: 0.8715 - val_accuracy: 0.7012\n",
            "Epoch 8/10\n",
            "163/163 [==============================] - 3s 19ms/step - loss: 0.6695 - accuracy: 0.7700 - val_loss: 0.8675 - val_accuracy: 0.6744\n",
            "Epoch 9/10\n",
            "163/163 [==============================] - 3s 20ms/step - loss: 0.6096 - accuracy: 0.7956 - val_loss: 0.8430 - val_accuracy: 0.6857\n",
            "Epoch 10/10\n",
            "163/163 [==============================] - 3s 20ms/step - loss: 0.5889 - accuracy: 0.8029 - val_loss: 0.8317 - val_accuracy: 0.7098\n",
            "37/37 [==============================] - 0s 8ms/step - loss: 0.8317 - accuracy: 0.7098\n",
            "37/37 [==============================] - 1s 8ms/step\n",
            "Fold 6\n",
            "Model: \"sequential_6\"\n",
            "_________________________________________________________________\n",
            " Layer (type)                Output Shape              Param #   \n",
            "=================================================================\n",
            " text_vectorization_6 (TextV  (None, 200)              0         \n",
            " ectorization)                                                   \n",
            "                                                                 \n",
            " embedding_6 (Embedding)     (None, 200, 32)           64000     \n",
            "                                                                 \n",
            " spatial_dropout1d_6 (Spatia  (None, 200, 32)          0         \n",
            " lDropout1D)                                                     \n",
            "                                                                 \n",
            " bidirectional_6 (Bidirectio  (None, 128)              49664     \n",
            " nal)                                                            \n",
            "                                                                 \n",
            " dropout_6 (Dropout)         (None, 128)               0         \n",
            "                                                                 \n",
            " dense_6 (Dense)             (None, 5)                 645       \n",
            "                                                                 \n",
            "=================================================================\n",
            "Total params: 114,309\n",
            "Trainable params: 114,309\n",
            "Non-trainable params: 0\n",
            "_________________________________________________________________\n",
            "None\n",
            "Epoch 1/10\n",
            "163/163 [==============================] - 21s 106ms/step - loss: 1.5124 - accuracy: 0.3742 - val_loss: 1.2390 - val_accuracy: 0.5380\n",
            "Epoch 2/10\n",
            "163/163 [==============================] - 8s 49ms/step - loss: 1.0485 - accuracy: 0.6140 - val_loss: 0.9530 - val_accuracy: 0.6494\n",
            "Epoch 3/10\n",
            "163/163 [==============================] - 4s 23ms/step - loss: 0.8842 - accuracy: 0.6778 - val_loss: 0.9082 - val_accuracy: 0.6580\n",
            "Epoch 4/10\n",
            "163/163 [==============================] - 4s 26ms/step - loss: 0.8038 - accuracy: 0.7117 - val_loss: 0.8754 - val_accuracy: 0.6693\n",
            "Epoch 5/10\n",
            "163/163 [==============================] - 3s 20ms/step - loss: 0.7365 - accuracy: 0.7388 - val_loss: 0.8409 - val_accuracy: 0.6952\n",
            "Epoch 6/10\n",
            "163/163 [==============================] - 3s 21ms/step - loss: 0.6857 - accuracy: 0.7629 - val_loss: 0.8164 - val_accuracy: 0.7073\n",
            "Epoch 7/10\n",
            "163/163 [==============================] - 3s 20ms/step - loss: 0.6307 - accuracy: 0.7831 - val_loss: 0.8499 - val_accuracy: 0.6978\n",
            "Epoch 8/10\n",
            "163/163 [==============================] - 3s 21ms/step - loss: 0.5932 - accuracy: 0.7991 - val_loss: 0.8578 - val_accuracy: 0.6900\n",
            "Epoch 9/10\n",
            "163/163 [==============================] - 3s 18ms/step - loss: 0.5731 - accuracy: 0.8072 - val_loss: 0.8311 - val_accuracy: 0.7142\n",
            "Epoch 10/10\n",
            "163/163 [==============================] - 3s 20ms/step - loss: 0.5379 - accuracy: 0.8238 - val_loss: 0.8447 - val_accuracy: 0.7116\n",
            "37/37 [==============================] - 0s 7ms/step - loss: 0.8447 - accuracy: 0.7116\n",
            "37/37 [==============================] - 1s 6ms/step\n",
            "Fold 7\n",
            "Model: \"sequential_7\"\n",
            "_________________________________________________________________\n",
            " Layer (type)                Output Shape              Param #   \n",
            "=================================================================\n",
            " text_vectorization_7 (TextV  (None, 200)              0         \n",
            " ectorization)                                                   \n",
            "                                                                 \n",
            " embedding_7 (Embedding)     (None, 200, 32)           64000     \n",
            "                                                                 \n",
            " spatial_dropout1d_7 (Spatia  (None, 200, 32)          0         \n",
            " lDropout1D)                                                     \n",
            "                                                                 \n",
            " bidirectional_7 (Bidirectio  (None, 128)              49664     \n",
            " nal)                                                            \n",
            "                                                                 \n",
            " dropout_7 (Dropout)         (None, 128)               0         \n",
            "                                                                 \n",
            " dense_7 (Dense)             (None, 5)                 645       \n",
            "                                                                 \n",
            "=================================================================\n",
            "Total params: 114,309\n",
            "Trainable params: 114,309\n",
            "Non-trainable params: 0\n",
            "_________________________________________________________________\n",
            "None\n",
            "Epoch 1/10\n",
            "163/163 [==============================] - 21s 105ms/step - loss: 1.5340 - accuracy: 0.3389 - val_loss: 1.2894 - val_accuracy: 0.4620\n",
            "Epoch 2/10\n",
            "163/163 [==============================] - 7s 44ms/step - loss: 1.1030 - accuracy: 0.5771 - val_loss: 1.0483 - val_accuracy: 0.6244\n",
            "Epoch 3/10\n",
            "163/163 [==============================] - 4s 28ms/step - loss: 0.9017 - accuracy: 0.6751 - val_loss: 0.9121 - val_accuracy: 0.6572\n",
            "Epoch 4/10\n",
            "163/163 [==============================] - 4s 26ms/step - loss: 0.8160 - accuracy: 0.7072 - val_loss: 0.8899 - val_accuracy: 0.6675\n",
            "Epoch 5/10\n",
            "163/163 [==============================] - 4s 22ms/step - loss: 0.7618 - accuracy: 0.7241 - val_loss: 0.8704 - val_accuracy: 0.6926\n",
            "Epoch 6/10\n",
            "163/163 [==============================] - 3s 21ms/step - loss: 0.7150 - accuracy: 0.7498 - val_loss: 0.8739 - val_accuracy: 0.6762\n",
            "Epoch 7/10\n",
            "163/163 [==============================] - 3s 19ms/step - loss: 0.6668 - accuracy: 0.7703 - val_loss: 0.8490 - val_accuracy: 0.6917\n",
            "Epoch 8/10\n",
            "163/163 [==============================] - 4s 24ms/step - loss: 0.6345 - accuracy: 0.7852 - val_loss: 0.8487 - val_accuracy: 0.7003\n",
            "Epoch 9/10\n",
            "163/163 [==============================] - 3s 21ms/step - loss: 0.5930 - accuracy: 0.7996 - val_loss: 0.8587 - val_accuracy: 0.7003\n",
            "Epoch 10/10\n",
            "163/163 [==============================] - 3s 18ms/step - loss: 0.5607 - accuracy: 0.8131 - val_loss: 0.8355 - val_accuracy: 0.7133\n",
            "37/37 [==============================] - 0s 11ms/step - loss: 0.8355 - accuracy: 0.7133\n",
            "37/37 [==============================] - 1s 7ms/step\n",
            "Fold 8\n",
            "Model: \"sequential_8\"\n",
            "_________________________________________________________________\n",
            " Layer (type)                Output Shape              Param #   \n",
            "=================================================================\n",
            " text_vectorization_8 (TextV  (None, 200)              0         \n",
            " ectorization)                                                   \n",
            "                                                                 \n",
            " embedding_8 (Embedding)     (None, 200, 32)           64000     \n",
            "                                                                 \n",
            " spatial_dropout1d_8 (Spatia  (None, 200, 32)          0         \n",
            " lDropout1D)                                                     \n",
            "                                                                 \n",
            " bidirectional_8 (Bidirectio  (None, 128)              49664     \n",
            " nal)                                                            \n",
            "                                                                 \n",
            " dropout_8 (Dropout)         (None, 128)               0         \n",
            "                                                                 \n",
            " dense_8 (Dense)             (None, 5)                 645       \n",
            "                                                                 \n",
            "=================================================================\n",
            "Total params: 114,309\n",
            "Trainable params: 114,309\n",
            "Non-trainable params: 0\n",
            "_________________________________________________________________\n",
            "None\n",
            "Epoch 1/10\n",
            "163/163 [==============================] - 21s 108ms/step - loss: 1.5219 - accuracy: 0.3476 - val_loss: 1.2369 - val_accuracy: 0.5073\n",
            "Epoch 2/10\n",
            "163/163 [==============================] - 6s 39ms/step - loss: 1.0619 - accuracy: 0.6001 - val_loss: 0.9539 - val_accuracy: 0.6543\n",
            "Epoch 3/10\n",
            "163/163 [==============================] - 4s 26ms/step - loss: 0.8696 - accuracy: 0.6907 - val_loss: 0.9211 - val_accuracy: 0.6439\n",
            "Epoch 4/10\n",
            "163/163 [==============================] - 3s 20ms/step - loss: 0.7878 - accuracy: 0.7201 - val_loss: 0.8719 - val_accuracy: 0.6750\n",
            "Epoch 5/10\n",
            "163/163 [==============================] - 5s 28ms/step - loss: 0.7288 - accuracy: 0.7405 - val_loss: 0.8680 - val_accuracy: 0.6914\n",
            "Epoch 6/10\n",
            "163/163 [==============================] - 4s 22ms/step - loss: 0.7571 - accuracy: 0.7371 - val_loss: 0.8538 - val_accuracy: 0.6897\n",
            "Epoch 7/10\n",
            "163/163 [==============================] - 3s 20ms/step - loss: 0.6571 - accuracy: 0.7755 - val_loss: 0.8490 - val_accuracy: 0.6940\n",
            "Epoch 8/10\n",
            "163/163 [==============================] - 3s 21ms/step - loss: 0.6042 - accuracy: 0.7959 - val_loss: 0.8384 - val_accuracy: 0.7027\n",
            "Epoch 9/10\n",
            "163/163 [==============================] - 3s 20ms/step - loss: 0.5752 - accuracy: 0.8068 - val_loss: 0.8721 - val_accuracy: 0.7010\n",
            "Epoch 10/10\n",
            "163/163 [==============================] - 3s 19ms/step - loss: 0.5549 - accuracy: 0.8170 - val_loss: 0.8503 - val_accuracy: 0.7105\n",
            "37/37 [==============================] - 0s 7ms/step - loss: 0.8503 - accuracy: 0.7105\n",
            "37/37 [==============================] - 1s 6ms/step\n",
            "Fold 9\n",
            "Model: \"sequential_9\"\n",
            "_________________________________________________________________\n",
            " Layer (type)                Output Shape              Param #   \n",
            "=================================================================\n",
            " text_vectorization_9 (TextV  (None, 200)              0         \n",
            " ectorization)                                                   \n",
            "                                                                 \n",
            " embedding_9 (Embedding)     (None, 200, 32)           64000     \n",
            "                                                                 \n",
            " spatial_dropout1d_9 (Spatia  (None, 200, 32)          0         \n",
            " lDropout1D)                                                     \n",
            "                                                                 \n",
            " bidirectional_9 (Bidirectio  (None, 128)              49664     \n",
            " nal)                                                            \n",
            "                                                                 \n",
            " dropout_9 (Dropout)         (None, 128)               0         \n",
            "                                                                 \n",
            " dense_9 (Dense)             (None, 5)                 645       \n",
            "                                                                 \n",
            "=================================================================\n",
            "Total params: 114,309\n",
            "Trainable params: 114,309\n",
            "Non-trainable params: 0\n",
            "_________________________________________________________________\n",
            "None\n",
            "Epoch 1/10\n",
            "163/163 [==============================] - 22s 114ms/step - loss: 1.4908 - accuracy: 0.3776 - val_loss: 1.3043 - val_accuracy: 0.4538\n",
            "Epoch 2/10\n",
            "163/163 [==============================] - 7s 43ms/step - loss: 1.0866 - accuracy: 0.5874 - val_loss: 1.0237 - val_accuracy: 0.6197\n",
            "Epoch 3/10\n",
            "163/163 [==============================] - 5s 28ms/step - loss: 0.8956 - accuracy: 0.6744 - val_loss: 0.9256 - val_accuracy: 0.6724\n",
            "Epoch 4/10\n",
            "163/163 [==============================] - 4s 27ms/step - loss: 0.8131 - accuracy: 0.7071 - val_loss: 0.8953 - val_accuracy: 0.6716\n",
            "Epoch 5/10\n",
            "163/163 [==============================] - 4s 24ms/step - loss: 0.7678 - accuracy: 0.7239 - val_loss: 0.9066 - val_accuracy: 0.6776\n",
            "Epoch 6/10\n",
            "163/163 [==============================] - 4s 23ms/step - loss: 0.7235 - accuracy: 0.7407 - val_loss: 0.8881 - val_accuracy: 0.6793\n",
            "Epoch 7/10\n",
            "163/163 [==============================] - 3s 20ms/step - loss: 0.6877 - accuracy: 0.7578 - val_loss: 0.8753 - val_accuracy: 0.6889\n",
            "Epoch 8/10\n",
            "163/163 [==============================] - 3s 21ms/step - loss: 0.6723 - accuracy: 0.7646 - val_loss: 0.8760 - val_accuracy: 0.6750\n",
            "Epoch 9/10\n",
            "163/163 [==============================] - 4s 26ms/step - loss: 0.6301 - accuracy: 0.7812 - val_loss: 0.8976 - val_accuracy: 0.6854\n",
            "Epoch 10/10\n",
            "163/163 [==============================] - 3s 18ms/step - loss: 0.6033 - accuracy: 0.7962 - val_loss: 0.8740 - val_accuracy: 0.7018\n",
            "37/37 [==============================] - 0s 7ms/step - loss: 0.8740 - accuracy: 0.7018\n",
            "37/37 [==============================] - 1s 6ms/step\n"
          ]
        }
      ]
    },
    {
      "cell_type": "code",
      "source": [
        "cv_results"
      ],
      "metadata": {
        "colab": {
          "base_uri": "https://localhost:8080/",
          "height": 363
        },
        "id": "kv23ANOtO32K",
        "outputId": "527f0f22-ba80-499f-825a-d757d42ad1a5"
      },
      "execution_count": null,
      "outputs": [
        {
          "output_type": "execute_result",
          "data": {
            "text/plain": [
              "     Recall Precision  F1 score  F2 score\n",
              "0  0.658172  0.653357  0.642795  0.648586\n",
              "1  0.712836   0.68528  0.689939  0.701726\n",
              "2  0.693526  0.669065  0.669472  0.681235\n",
              "3  0.676253  0.675751  0.648191  0.658638\n",
              "4  0.726287  0.704854  0.699362  0.712374\n",
              "5  0.713464  0.691412  0.690373  0.701736\n",
              "6  0.730598  0.703559   0.71026  0.721068\n",
              "7  0.709846  0.693901  0.692545  0.700641\n",
              "8  0.716287  0.700444  0.691778  0.702972\n",
              "9  0.709479  0.699939  0.685442  0.695898"
            ],
            "text/html": [
              "\n",
              "  <div id=\"df-1a10cad4-5e0c-4862-98a1-4b16272516b0\">\n",
              "    <div class=\"colab-df-container\">\n",
              "      <div>\n",
              "<style scoped>\n",
              "    .dataframe tbody tr th:only-of-type {\n",
              "        vertical-align: middle;\n",
              "    }\n",
              "\n",
              "    .dataframe tbody tr th {\n",
              "        vertical-align: top;\n",
              "    }\n",
              "\n",
              "    .dataframe thead th {\n",
              "        text-align: right;\n",
              "    }\n",
              "</style>\n",
              "<table border=\"1\" class=\"dataframe\">\n",
              "  <thead>\n",
              "    <tr style=\"text-align: right;\">\n",
              "      <th></th>\n",
              "      <th>Recall</th>\n",
              "      <th>Precision</th>\n",
              "      <th>F1 score</th>\n",
              "      <th>F2 score</th>\n",
              "    </tr>\n",
              "  </thead>\n",
              "  <tbody>\n",
              "    <tr>\n",
              "      <th>0</th>\n",
              "      <td>0.658172</td>\n",
              "      <td>0.653357</td>\n",
              "      <td>0.642795</td>\n",
              "      <td>0.648586</td>\n",
              "    </tr>\n",
              "    <tr>\n",
              "      <th>1</th>\n",
              "      <td>0.712836</td>\n",
              "      <td>0.68528</td>\n",
              "      <td>0.689939</td>\n",
              "      <td>0.701726</td>\n",
              "    </tr>\n",
              "    <tr>\n",
              "      <th>2</th>\n",
              "      <td>0.693526</td>\n",
              "      <td>0.669065</td>\n",
              "      <td>0.669472</td>\n",
              "      <td>0.681235</td>\n",
              "    </tr>\n",
              "    <tr>\n",
              "      <th>3</th>\n",
              "      <td>0.676253</td>\n",
              "      <td>0.675751</td>\n",
              "      <td>0.648191</td>\n",
              "      <td>0.658638</td>\n",
              "    </tr>\n",
              "    <tr>\n",
              "      <th>4</th>\n",
              "      <td>0.726287</td>\n",
              "      <td>0.704854</td>\n",
              "      <td>0.699362</td>\n",
              "      <td>0.712374</td>\n",
              "    </tr>\n",
              "    <tr>\n",
              "      <th>5</th>\n",
              "      <td>0.713464</td>\n",
              "      <td>0.691412</td>\n",
              "      <td>0.690373</td>\n",
              "      <td>0.701736</td>\n",
              "    </tr>\n",
              "    <tr>\n",
              "      <th>6</th>\n",
              "      <td>0.730598</td>\n",
              "      <td>0.703559</td>\n",
              "      <td>0.71026</td>\n",
              "      <td>0.721068</td>\n",
              "    </tr>\n",
              "    <tr>\n",
              "      <th>7</th>\n",
              "      <td>0.709846</td>\n",
              "      <td>0.693901</td>\n",
              "      <td>0.692545</td>\n",
              "      <td>0.700641</td>\n",
              "    </tr>\n",
              "    <tr>\n",
              "      <th>8</th>\n",
              "      <td>0.716287</td>\n",
              "      <td>0.700444</td>\n",
              "      <td>0.691778</td>\n",
              "      <td>0.702972</td>\n",
              "    </tr>\n",
              "    <tr>\n",
              "      <th>9</th>\n",
              "      <td>0.709479</td>\n",
              "      <td>0.699939</td>\n",
              "      <td>0.685442</td>\n",
              "      <td>0.695898</td>\n",
              "    </tr>\n",
              "  </tbody>\n",
              "</table>\n",
              "</div>\n",
              "      <button class=\"colab-df-convert\" onclick=\"convertToInteractive('df-1a10cad4-5e0c-4862-98a1-4b16272516b0')\"\n",
              "              title=\"Convert this dataframe to an interactive table.\"\n",
              "              style=\"display:none;\">\n",
              "        \n",
              "  <svg xmlns=\"http://www.w3.org/2000/svg\" height=\"24px\"viewBox=\"0 0 24 24\"\n",
              "       width=\"24px\">\n",
              "    <path d=\"M0 0h24v24H0V0z\" fill=\"none\"/>\n",
              "    <path d=\"M18.56 5.44l.94 2.06.94-2.06 2.06-.94-2.06-.94-.94-2.06-.94 2.06-2.06.94zm-11 1L8.5 8.5l.94-2.06 2.06-.94-2.06-.94L8.5 2.5l-.94 2.06-2.06.94zm10 10l.94 2.06.94-2.06 2.06-.94-2.06-.94-.94-2.06-.94 2.06-2.06.94z\"/><path d=\"M17.41 7.96l-1.37-1.37c-.4-.4-.92-.59-1.43-.59-.52 0-1.04.2-1.43.59L10.3 9.45l-7.72 7.72c-.78.78-.78 2.05 0 2.83L4 21.41c.39.39.9.59 1.41.59.51 0 1.02-.2 1.41-.59l7.78-7.78 2.81-2.81c.8-.78.8-2.07 0-2.86zM5.41 20L4 18.59l7.72-7.72 1.47 1.35L5.41 20z\"/>\n",
              "  </svg>\n",
              "      </button>\n",
              "      \n",
              "  <style>\n",
              "    .colab-df-container {\n",
              "      display:flex;\n",
              "      flex-wrap:wrap;\n",
              "      gap: 12px;\n",
              "    }\n",
              "\n",
              "    .colab-df-convert {\n",
              "      background-color: #E8F0FE;\n",
              "      border: none;\n",
              "      border-radius: 50%;\n",
              "      cursor: pointer;\n",
              "      display: none;\n",
              "      fill: #1967D2;\n",
              "      height: 32px;\n",
              "      padding: 0 0 0 0;\n",
              "      width: 32px;\n",
              "    }\n",
              "\n",
              "    .colab-df-convert:hover {\n",
              "      background-color: #E2EBFA;\n",
              "      box-shadow: 0px 1px 2px rgba(60, 64, 67, 0.3), 0px 1px 3px 1px rgba(60, 64, 67, 0.15);\n",
              "      fill: #174EA6;\n",
              "    }\n",
              "\n",
              "    [theme=dark] .colab-df-convert {\n",
              "      background-color: #3B4455;\n",
              "      fill: #D2E3FC;\n",
              "    }\n",
              "\n",
              "    [theme=dark] .colab-df-convert:hover {\n",
              "      background-color: #434B5C;\n",
              "      box-shadow: 0px 1px 3px 1px rgba(0, 0, 0, 0.15);\n",
              "      filter: drop-shadow(0px 1px 2px rgba(0, 0, 0, 0.3));\n",
              "      fill: #FFFFFF;\n",
              "    }\n",
              "  </style>\n",
              "\n",
              "      <script>\n",
              "        const buttonEl =\n",
              "          document.querySelector('#df-1a10cad4-5e0c-4862-98a1-4b16272516b0 button.colab-df-convert');\n",
              "        buttonEl.style.display =\n",
              "          google.colab.kernel.accessAllowed ? 'block' : 'none';\n",
              "\n",
              "        async function convertToInteractive(key) {\n",
              "          const element = document.querySelector('#df-1a10cad4-5e0c-4862-98a1-4b16272516b0');\n",
              "          const dataTable =\n",
              "            await google.colab.kernel.invokeFunction('convertToInteractive',\n",
              "                                                     [key], {});\n",
              "          if (!dataTable) return;\n",
              "\n",
              "          const docLinkHtml = 'Like what you see? Visit the ' +\n",
              "            '<a target=\"_blank\" href=https://colab.research.google.com/notebooks/data_table.ipynb>data table notebook</a>'\n",
              "            + ' to learn more about interactive tables.';\n",
              "          element.innerHTML = '';\n",
              "          dataTable['output_type'] = 'display_data';\n",
              "          await google.colab.output.renderOutput(dataTable, element);\n",
              "          const docLink = document.createElement('div');\n",
              "          docLink.innerHTML = docLinkHtml;\n",
              "          element.appendChild(docLink);\n",
              "        }\n",
              "      </script>\n",
              "    </div>\n",
              "  </div>\n",
              "  "
            ]
          },
          "metadata": {},
          "execution_count": 26
        }
      ]
    },
    {
      "cell_type": "code",
      "source": [
        "cv_results.mean()"
      ],
      "metadata": {
        "colab": {
          "base_uri": "https://localhost:8080/"
        },
        "id": "AYFmMnZ3O3xR",
        "outputId": "ef0eac85-2734-43ac-ca37-17f5c090c267"
      },
      "execution_count": null,
      "outputs": [
        {
          "output_type": "execute_result",
          "data": {
            "text/plain": [
              "Recall       0.704675\n",
              "Precision    0.687756\n",
              "F1 score     0.682016\n",
              "F2 score     0.692487\n",
              "dtype: float64"
            ]
          },
          "metadata": {},
          "execution_count": 27
        }
      ]
    },
    {
      "cell_type": "code",
      "execution_count": null,
      "metadata": {
        "id": "k5W9M_Bms3rX"
      },
      "outputs": [],
      "source": [
        "def train_blstm(train_texts, train_labels, test_texts, test_labels):\n",
        "\n",
        "  blstm_model = create_blstm_model(train_texts)\n",
        "  \n",
        "  history = blstm_model.fit(train_texts,\n",
        "                            train_labels,\n",
        "                            epochs=10,\n",
        "                            batch_size=32,\n",
        "                            validation_data=(test_texts, test_labels))\n",
        "  \n",
        "  blstm_model.evaluate(test_texts, test_labels)\n",
        "  y_pred = np.round(blstm_model.predict(test_texts))\n",
        "\n",
        "  y_pred = np.argmax(y_pred, axis=1)\n",
        "\n",
        "  f1_sc = f1_score(test_labels, y_pred, average='macro')\n",
        "  f2score = fbeta_score(test_labels, y_pred, beta=2, average='macro')\n",
        "\n",
        "  print(\"Recall = {}\".format(recall_score(test_labels, y_pred, average='macro')))\n",
        "  print(\"Precision = {}\".format(precision_score(test_labels, y_pred, average='macro')))\n",
        "  print(\"F1 score = {}\".format(f1_sc))\n",
        "  print(\"F2 score = {}\".format(f2score))\n",
        "  print(classification_report(test_labels, y_pred))\n",
        "  \n",
        "  cm = confusion_matrix(test_labels, y_pred)\n",
        "\n",
        "  disp = ConfusionMatrixDisplay(confusion_matrix=cm, display_labels=[0,1,2,3,4])\n",
        "\n",
        "  disp.plot(cmap=plt.cm.Blues)\n",
        "  plt.show()\n",
        "\n",
        "  return f1_sc"
      ]
    },
    {
      "cell_type": "code",
      "execution_count": null,
      "metadata": {
        "id": "uAp0fIZks3lO"
      },
      "outputs": [],
      "source": [
        "X_test = test_data['text'].values.reshape(-1, 1)"
      ]
    },
    {
      "cell_type": "code",
      "execution_count": null,
      "metadata": {
        "id": "rd9EpIoZs3iV"
      },
      "outputs": [],
      "source": [
        "y_test = test_data['label'].values"
      ]
    },
    {
      "cell_type": "code",
      "execution_count": null,
      "metadata": {
        "id": "2buNsllJs3ef"
      },
      "outputs": [],
      "source": [
        "aug_X_train = augmented_dataset['text'].values.reshape(-1, 1)"
      ]
    },
    {
      "cell_type": "code",
      "execution_count": null,
      "metadata": {
        "id": "Y1bSkzc5tHSc",
        "colab": {
          "base_uri": "https://localhost:8080/"
        },
        "outputId": "863d7160-0a33-455a-fc6d-4c1631439a6d"
      },
      "outputs": [
        {
          "output_type": "execute_result",
          "data": {
            "text/plain": [
              "(11578, 1)"
            ]
          },
          "metadata": {},
          "execution_count": 44
        }
      ],
      "source": [
        "aug_X_train.shape"
      ]
    },
    {
      "cell_type": "code",
      "execution_count": null,
      "metadata": {
        "id": "4wUE4l-PtI84"
      },
      "outputs": [],
      "source": [
        "aug_y_train = augmented_dataset['label'].values.reshape(-1, 1)"
      ]
    },
    {
      "cell_type": "code",
      "execution_count": null,
      "metadata": {
        "id": "P_nfOU1KtIxl",
        "colab": {
          "base_uri": "https://localhost:8080/"
        },
        "outputId": "a00d9048-0ce5-4836-92d3-2620b44d7715"
      },
      "outputs": [
        {
          "data": {
            "text/plain": [
              "(11578, 1)"
            ]
          },
          "execution_count": 46,
          "metadata": {},
          "output_type": "execute_result"
        }
      ],
      "source": [
        "aug_y_train.shape"
      ]
    },
    {
      "cell_type": "code",
      "execution_count": null,
      "metadata": {
        "id": "VZwHR6DZtIuf",
        "colab": {
          "base_uri": "https://localhost:8080/",
          "height": 1000
        },
        "outputId": "424028ba-d620-4fe9-df7d-d0f3de254efb"
      },
      "outputs": [
        {
          "output_type": "stream",
          "name": "stdout",
          "text": [
            "Model: \"sequential_2\"\n",
            "_________________________________________________________________\n",
            " Layer (type)                Output Shape              Param #   \n",
            "=================================================================\n",
            " text_vectorization_2 (TextV  (None, 200)              0         \n",
            " ectorization)                                                   \n",
            "                                                                 \n",
            " embedding_2 (Embedding)     (None, 200, 32)           64000     \n",
            "                                                                 \n",
            " spatial_dropout1d (SpatialD  (None, 200, 32)          0         \n",
            " ropout1D)                                                       \n",
            "                                                                 \n",
            " bidirectional_1 (Bidirectio  (None, 128)              49664     \n",
            " nal)                                                            \n",
            "                                                                 \n",
            " dropout_1 (Dropout)         (None, 128)               0         \n",
            "                                                                 \n",
            " dense_1 (Dense)             (None, 5)                 645       \n",
            "                                                                 \n",
            "=================================================================\n",
            "Total params: 114,309\n",
            "Trainable params: 114,309\n",
            "Non-trainable params: 0\n",
            "_________________________________________________________________\n",
            "None\n",
            "Epoch 1/10\n",
            "362/362 [==============================] - 40s 99ms/step - loss: 1.3474 - accuracy: 0.4471 - val_loss: 1.1882 - val_accuracy: 0.5170\n",
            "Epoch 2/10\n",
            "362/362 [==============================] - 11s 32ms/step - loss: 0.9442 - accuracy: 0.6481 - val_loss: 1.1248 - val_accuracy: 0.5643\n",
            "Epoch 3/10\n",
            "362/362 [==============================] - 9s 25ms/step - loss: 0.8517 - accuracy: 0.6896 - val_loss: 1.1342 - val_accuracy: 0.5635\n",
            "Epoch 4/10\n",
            "362/362 [==============================] - 8s 22ms/step - loss: 0.7955 - accuracy: 0.7125 - val_loss: 1.2008 - val_accuracy: 0.5487\n",
            "Epoch 5/10\n",
            "362/362 [==============================] - 8s 22ms/step - loss: 0.7521 - accuracy: 0.7388 - val_loss: 1.2461 - val_accuracy: 0.5498\n",
            "Epoch 6/10\n",
            "362/362 [==============================] - 8s 22ms/step - loss: 0.6993 - accuracy: 0.7580 - val_loss: 1.2773 - val_accuracy: 0.5412\n",
            "Epoch 7/10\n",
            "362/362 [==============================] - 7s 20ms/step - loss: 0.6546 - accuracy: 0.7726 - val_loss: 1.2320 - val_accuracy: 0.5596\n",
            "Epoch 8/10\n",
            "362/362 [==============================] - 7s 19ms/step - loss: 0.6150 - accuracy: 0.7917 - val_loss: 1.3573 - val_accuracy: 0.5383\n",
            "Epoch 9/10\n",
            "362/362 [==============================] - 7s 20ms/step - loss: 0.5942 - accuracy: 0.8009 - val_loss: 1.3555 - val_accuracy: 0.5307\n",
            "Epoch 10/10\n",
            "362/362 [==============================] - 6s 17ms/step - loss: 0.5555 - accuracy: 0.8137 - val_loss: 1.3885 - val_accuracy: 0.5278\n",
            "87/87 [==============================] - 1s 7ms/step - loss: 1.3885 - accuracy: 0.5278\n",
            "87/87 [==============================] - 1s 7ms/step\n",
            "Recall = 0.5405951746628465\n",
            "Precision = 0.5115620203356613\n",
            "F1 score = 0.5186042077789816\n",
            "F2 score = 0.52988618333902\n",
            "              precision    recall  f1-score   support\n",
            "\n",
            "           0       0.57      0.75      0.64       616\n",
            "           1       0.42      0.54      0.47       287\n",
            "           2       0.45      0.52      0.49       366\n",
            "           3       0.67      0.56      0.61       589\n",
            "           4       0.45      0.33      0.38       912\n",
            "\n",
            "    accuracy                           0.52      2770\n",
            "   macro avg       0.51      0.54      0.52      2770\n",
            "weighted avg       0.52      0.52      0.51      2770\n",
            "\n"
          ]
        },
        {
          "output_type": "display_data",
          "data": {
            "text/plain": [
              "<Figure size 640x480 with 2 Axes>"
            ],
            "image/png": "[encoded data removed]"
          },
          "metadata": {}
        },
        {
          "output_type": "execute_result",
          "data": {
            "text/plain": [
              "0.5186042077789816"
            ]
          },
          "metadata": {},
          "execution_count": 52
        }
      ],
      "source": [
        "train_blstm(aug_X_train, aug_y_train, X_test, y_test)"
      ]
    }
  ],
  "metadata": {
    "accelerator": "GPU",
    "colab": {
      "machine_shape": "hm",
      "provenance": []
    },
    "gpuClass": "premium",
    "kernelspec": {
      "display_name": "Python 3",
      "name": "python3"
    },
    "language_info": {
      "name": "python"
    }
  },
  "nbformat": 4,
  "nbformat_minor": 0
}