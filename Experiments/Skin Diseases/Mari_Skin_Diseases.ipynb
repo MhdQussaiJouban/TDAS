{
  "cells": [
    {
      "cell_type": "code",
      "execution_count": null,
      "metadata": {
        "id": "_Q1SwXg76Uf3",
        "colab": {
          "base_uri": "https://localhost:8080/"
        },
        "outputId": "e48e9108-e03c-41e7-dd33-14c7603328c7"
      },
      "outputs": [
        {
          "output_type": "stream",
          "name": "stderr",
          "text": [
            "[nltk_data] Downloading package stopwords to /root/nltk_data...\n",
            "[nltk_data]   Unzipping corpora/stopwords.zip.\n",
            "[nltk_data] Downloading package punkt to /root/nltk_data...\n",
            "[nltk_data]   Unzipping tokenizers/punkt.zip.\n",
            "[nltk_data] Downloading package averaged_perceptron_tagger to\n",
            "[nltk_data]     /root/nltk_data...\n",
            "[nltk_data]   Unzipping taggers/averaged_perceptron_tagger.zip.\n",
            "[nltk_data] Downloading package wordnet to /root/nltk_data...\n"
          ]
        },
        {
          "output_type": "stream",
          "name": "stdout",
          "text": [
            "Mounted at /content/gdrive\n"
          ]
        }
      ],
      "source": [
        "from datetime import datetime\n",
        "import random \n",
        "import numpy as np\n",
        "import pandas as pd\n",
        "from sklearn.preprocessing import LabelEncoder\n",
        "from sklearn.model_selection import train_test_split\n",
        "from sklearn.ensemble import RandomForestClassifier, ExtraTreesClassifier\n",
        "from sklearn.linear_model import SGDClassifier, LogisticRegression\n",
        "from sklearn.naive_bayes import GaussianNB\n",
        "from sklearn.neural_network import MLPClassifier\n",
        "from sklearn.svm import SVC\n",
        "from sklearn.neighbors import KNeighborsClassifier\n",
        "from sklearn.model_selection import GridSearchCV\n",
        "from sklearn.ensemble import StackingClassifier\n",
        "from sklearn.metrics import confusion_matrix\n",
        "from sklearn.metrics import ConfusionMatrixDisplay\n",
        "from sklearn.metrics import accuracy_score, recall_score, precision_score, f1_score, fbeta_score, classification_report\n",
        "from sklearn.metrics import make_scorer \n",
        "import matplotlib.pyplot as plt\n",
        "import gensim.downloader as api\n",
        "import nltk\n",
        "from nltk.tokenize import word_tokenize\n",
        "from nltk import pos_tag\n",
        "nltk.download('stopwords')\n",
        "nltk.download('punkt')\n",
        "nltk.download('averaged_perceptron_tagger')\n",
        "nltk.download('wordnet')\n",
        "from google.colab import drive\n",
        "drive.mount('/content/gdrive')\n",
        "dir_name = \"/content/gdrive/MyDrive/Thesis/\""
      ]
    },
    {
      "cell_type": "code",
      "source": [
        "def con2bin(label):\n",
        "  if label in ['Psoriasis', 'Chicken pox', 'Impetigo', 'Acne']:\n",
        "    return 1\n",
        "  return 0"
      ],
      "metadata": {
        "id": "3Ispzur-3Ctt"
      },
      "execution_count": null,
      "outputs": []
    },
    {
      "cell_type": "code",
      "execution_count": null,
      "metadata": {
        "id": "hsZEizu93N6d",
        "colab": {
          "base_uri": "https://localhost:8080/",
          "height": 423
        },
        "outputId": "a5b4d724-765a-4094-dc1d-fac0011f8a7d"
      },
      "outputs": [
        {
          "output_type": "execute_result",
          "data": {
            "text/plain": [
              "      label                                               text\n",
              "0         1  I have been experiencing a skin rash on my arm...\n",
              "1         1  My skin has been peeling, especially on my kne...\n",
              "2         1  I have been experiencing joint pain in my fing...\n",
              "3         1  There is a silver like dusting on my skin, esp...\n",
              "4         1  My nails have small dents or pits in them, and...\n",
              "...     ...                                                ...\n",
              "1195      0  I'm shaking and trembling all over. I've lost ...\n",
              "1196      0  Particularly in the crevices of my skin, I hav...\n",
              "1197      0  I regularly experience these intense urges and...\n",
              "1198      0  I have trouble breathing, especially outside. ...\n",
              "1199      0  I constantly sneeze and have a dry cough. My i...\n",
              "\n",
              "[1200 rows x 2 columns]"
            ],
            "text/html": [
              "\n",
              "  <div id=\"df-2308feb1-96cd-4c96-98f3-3aa9ea5398e3\">\n",
              "    <div class=\"colab-df-container\">\n",
              "      <div>\n",
              "<style scoped>\n",
              "    .dataframe tbody tr th:only-of-type {\n",
              "        vertical-align: middle;\n",
              "    }\n",
              "\n",
              "    .dataframe tbody tr th {\n",
              "        vertical-align: top;\n",
              "    }\n",
              "\n",
              "    .dataframe thead th {\n",
              "        text-align: right;\n",
              "    }\n",
              "</style>\n",
              "<table border=\"1\" class=\"dataframe\">\n",
              "  <thead>\n",
              "    <tr style=\"text-align: right;\">\n",
              "      <th></th>\n",
              "      <th>label</th>\n",
              "      <th>text</th>\n",
              "    </tr>\n",
              "  </thead>\n",
              "  <tbody>\n",
              "    <tr>\n",
              "      <th>0</th>\n",
              "      <td>1</td>\n",
              "      <td>I have been experiencing a skin rash on my arm...</td>\n",
              "    </tr>\n",
              "    <tr>\n",
              "      <th>1</th>\n",
              "      <td>1</td>\n",
              "      <td>My skin has been peeling, especially on my kne...</td>\n",
              "    </tr>\n",
              "    <tr>\n",
              "      <th>2</th>\n",
              "      <td>1</td>\n",
              "      <td>I have been experiencing joint pain in my fing...</td>\n",
              "    </tr>\n",
              "    <tr>\n",
              "      <th>3</th>\n",
              "      <td>1</td>\n",
              "      <td>There is a silver like dusting on my skin, esp...</td>\n",
              "    </tr>\n",
              "    <tr>\n",
              "      <th>4</th>\n",
              "      <td>1</td>\n",
              "      <td>My nails have small dents or pits in them, and...</td>\n",
              "    </tr>\n",
              "    <tr>\n",
              "      <th>...</th>\n",
              "      <td>...</td>\n",
              "      <td>...</td>\n",
              "    </tr>\n",
              "    <tr>\n",
              "      <th>1195</th>\n",
              "      <td>0</td>\n",
              "      <td>I'm shaking and trembling all over. I've lost ...</td>\n",
              "    </tr>\n",
              "    <tr>\n",
              "      <th>1196</th>\n",
              "      <td>0</td>\n",
              "      <td>Particularly in the crevices of my skin, I hav...</td>\n",
              "    </tr>\n",
              "    <tr>\n",
              "      <th>1197</th>\n",
              "      <td>0</td>\n",
              "      <td>I regularly experience these intense urges and...</td>\n",
              "    </tr>\n",
              "    <tr>\n",
              "      <th>1198</th>\n",
              "      <td>0</td>\n",
              "      <td>I have trouble breathing, especially outside. ...</td>\n",
              "    </tr>\n",
              "    <tr>\n",
              "      <th>1199</th>\n",
              "      <td>0</td>\n",
              "      <td>I constantly sneeze and have a dry cough. My i...</td>\n",
              "    </tr>\n",
              "  </tbody>\n",
              "</table>\n",
              "<p>1200 rows × 2 columns</p>\n",
              "</div>\n",
              "      <button class=\"colab-df-convert\" onclick=\"convertToInteractive('df-2308feb1-96cd-4c96-98f3-3aa9ea5398e3')\"\n",
              "              title=\"Convert this dataframe to an interactive table.\"\n",
              "              style=\"display:none;\">\n",
              "        \n",
              "  <svg xmlns=\"http://www.w3.org/2000/svg\" height=\"24px\"viewBox=\"0 0 24 24\"\n",
              "       width=\"24px\">\n",
              "    <path d=\"M0 0h24v24H0V0z\" fill=\"none\"/>\n",
              "    <path d=\"M18.56 5.44l.94 2.06.94-2.06 2.06-.94-2.06-.94-.94-2.06-.94 2.06-2.06.94zm-11 1L8.5 8.5l.94-2.06 2.06-.94-2.06-.94L8.5 2.5l-.94 2.06-2.06.94zm10 10l.94 2.06.94-2.06 2.06-.94-2.06-.94-.94-2.06-.94 2.06-2.06.94z\"/><path d=\"M17.41 7.96l-1.37-1.37c-.4-.4-.92-.59-1.43-.59-.52 0-1.04.2-1.43.59L10.3 9.45l-7.72 7.72c-.78.78-.78 2.05 0 2.83L4 21.41c.39.39.9.59 1.41.59.51 0 1.02-.2 1.41-.59l7.78-7.78 2.81-2.81c.8-.78.8-2.07 0-2.86zM5.41 20L4 18.59l7.72-7.72 1.47 1.35L5.41 20z\"/>\n",
              "  </svg>\n",
              "      </button>\n",
              "      \n",
              "  <style>\n",
              "    .colab-df-container {\n",
              "      display:flex;\n",
              "      flex-wrap:wrap;\n",
              "      gap: 12px;\n",
              "    }\n",
              "\n",
              "    .colab-df-convert {\n",
              "      background-color: #E8F0FE;\n",
              "      border: none;\n",
              "      border-radius: 50%;\n",
              "      cursor: pointer;\n",
              "      display: none;\n",
              "      fill: #1967D2;\n",
              "      height: 32px;\n",
              "      padding: 0 0 0 0;\n",
              "      width: 32px;\n",
              "    }\n",
              "\n",
              "    .colab-df-convert:hover {\n",
              "      background-color: #E2EBFA;\n",
              "      box-shadow: 0px 1px 2px rgba(60, 64, 67, 0.3), 0px 1px 3px 1px rgba(60, 64, 67, 0.15);\n",
              "      fill: #174EA6;\n",
              "    }\n",
              "\n",
              "    [theme=dark] .colab-df-convert {\n",
              "      background-color: #3B4455;\n",
              "      fill: #D2E3FC;\n",
              "    }\n",
              "\n",
              "    [theme=dark] .colab-df-convert:hover {\n",
              "      background-color: #434B5C;\n",
              "      box-shadow: 0px 1px 3px 1px rgba(0, 0, 0, 0.15);\n",
              "      filter: drop-shadow(0px 1px 2px rgba(0, 0, 0, 0.3));\n",
              "      fill: #FFFFFF;\n",
              "    }\n",
              "  </style>\n",
              "\n",
              "      <script>\n",
              "        const buttonEl =\n",
              "          document.querySelector('#df-2308feb1-96cd-4c96-98f3-3aa9ea5398e3 button.colab-df-convert');\n",
              "        buttonEl.style.display =\n",
              "          google.colab.kernel.accessAllowed ? 'block' : 'none';\n",
              "\n",
              "        async function convertToInteractive(key) {\n",
              "          const element = document.querySelector('#df-2308feb1-96cd-4c96-98f3-3aa9ea5398e3');\n",
              "          const dataTable =\n",
              "            await google.colab.kernel.invokeFunction('convertToInteractive',\n",
              "                                                     [key], {});\n",
              "          if (!dataTable) return;\n",
              "\n",
              "          const docLinkHtml = 'Like what you see? Visit the ' +\n",
              "            '<a target=\"_blank\" href=https://colab.research.google.com/notebooks/data_table.ipynb>data table notebook</a>'\n",
              "            + ' to learn more about interactive tables.';\n",
              "          element.innerHTML = '';\n",
              "          dataTable['output_type'] = 'display_data';\n",
              "          await google.colab.output.renderOutput(dataTable, element);\n",
              "          const docLink = document.createElement('div');\n",
              "          docLink.innerHTML = docLinkHtml;\n",
              "          element.appendChild(docLink);\n",
              "        }\n",
              "      </script>\n",
              "    </div>\n",
              "  </div>\n",
              "  "
            ]
          },
          "metadata": {},
          "execution_count": 3
        }
      ],
      "source": [
        "def get_raw_data(dir_name):\n",
        "    #  load data\n",
        "    data = pd.read_csv('{}Symptom2Disease.csv'.format(dir_name), encoding = 'latin-1', usecols=['text', 'label'])\n",
        "    data['label'] =  data['label'].apply(con2bin)\n",
        "    return data\n",
        "\n",
        "raw_data = get_raw_data(dir_name + 'datasets/')\n",
        "raw_data"
      ]
    },
    {
      "cell_type": "code",
      "execution_count": null,
      "metadata": {
        "id": "puuFMH0H8Li_",
        "colab": {
          "base_uri": "https://localhost:8080/",
          "height": 499
        },
        "outputId": "cc70490d-0b19-45a2-8f03-537c8f8740ed"
      },
      "outputs": [
        {
          "output_type": "display_data",
          "data": {
            "text/plain": [
              "<Figure size 600x600 with 1 Axes>"
            ],
            "image/png": "[encoded data removed]"
          },
          "metadata": {}
        }
      ],
      "source": [
        "def get_dataset_statistics(data):\n",
        "    dataset_statistics = {'Number of intances': [data['label'].value_counts()[0], data['label'].value_counts()[1]]}\n",
        "    df = pd.DataFrame(dataset_statistics, index=['0', '1'])\n",
        "    df.plot(kind='pie', y='Number of intances', figsize=(6, 6), fontsize=14,\n",
        "            autopct=lambda v: '{:.0f} ({:.1f}%)'.format(v / 100 * data['label'].count(), v))\n",
        "    \n",
        "get_dataset_statistics(raw_data)"
      ]
    },
    {
      "cell_type": "code",
      "execution_count": null,
      "metadata": {
        "colab": {
          "base_uri": "https://localhost:8080/"
        },
        "id": "jvrPiHms7t3O",
        "outputId": "4f04e960-e415-42a5-e4c6-26aa5c59e3b6"
      },
      "outputs": [
        {
          "output_type": "execute_result",
          "data": {
            "text/plain": [
              "False"
            ]
          },
          "metadata": {},
          "execution_count": 5
        }
      ],
      "source": [
        "raw_data['text'].is_unique"
      ]
    },
    {
      "cell_type": "code",
      "execution_count": null,
      "metadata": {
        "id": "QGX76s7s7vC1",
        "colab": {
          "base_uri": "https://localhost:8080/"
        },
        "outputId": "90d1f3f3-2afb-43d6-c9a3-7392ed1c447d"
      },
      "outputs": [
        {
          "output_type": "execute_result",
          "data": {
            "text/plain": [
              "True"
            ]
          },
          "metadata": {},
          "execution_count": 6
        }
      ],
      "source": [
        "raw_data.drop_duplicates( inplace=True)\n",
        "raw_data['text'].is_unique"
      ]
    },
    {
      "cell_type": "code",
      "execution_count": null,
      "metadata": {
        "colab": {
          "base_uri": "https://localhost:8080/",
          "height": 423
        },
        "id": "kAvJMWIH8BfT",
        "outputId": "0e2c3a82-3fa9-47d7-cebb-7af0be0388c4"
      },
      "outputs": [
        {
          "output_type": "execute_result",
          "data": {
            "text/plain": [
              "      label                                               text\n",
              "0         1  I have been experiencing a skin rash on my arm...\n",
              "1         1  My skin has been peeling, especially on my kne...\n",
              "2         1  I have been experiencing joint pain in my fing...\n",
              "3         1  There is a silver like dusting on my skin, esp...\n",
              "4         1  My nails have small dents or pits in them, and...\n",
              "...     ...                                                ...\n",
              "1195      0  I'm shaking and trembling all over. I've lost ...\n",
              "1196      0  Particularly in the crevices of my skin, I hav...\n",
              "1197      0  I regularly experience these intense urges and...\n",
              "1198      0  I have trouble breathing, especially outside. ...\n",
              "1199      0  I constantly sneeze and have a dry cough. My i...\n",
              "\n",
              "[1153 rows x 2 columns]"
            ],
            "text/html": [
              "\n",
              "  <div id=\"df-54d458fd-a9ad-4ca8-8276-ed1ebf839d8e\">\n",
              "    <div class=\"colab-df-container\">\n",
              "      <div>\n",
              "<style scoped>\n",
              "    .dataframe tbody tr th:only-of-type {\n",
              "        vertical-align: middle;\n",
              "    }\n",
              "\n",
              "    .dataframe tbody tr th {\n",
              "        vertical-align: top;\n",
              "    }\n",
              "\n",
              "    .dataframe thead th {\n",
              "        text-align: right;\n",
              "    }\n",
              "</style>\n",
              "<table border=\"1\" class=\"dataframe\">\n",
              "  <thead>\n",
              "    <tr style=\"text-align: right;\">\n",
              "      <th></th>\n",
              "      <th>label</th>\n",
              "      <th>text</th>\n",
              "    </tr>\n",
              "  </thead>\n",
              "  <tbody>\n",
              "    <tr>\n",
              "      <th>0</th>\n",
              "      <td>1</td>\n",
              "      <td>I have been experiencing a skin rash on my arm...</td>\n",
              "    </tr>\n",
              "    <tr>\n",
              "      <th>1</th>\n",
              "      <td>1</td>\n",
              "      <td>My skin has been peeling, especially on my kne...</td>\n",
              "    </tr>\n",
              "    <tr>\n",
              "      <th>2</th>\n",
              "      <td>1</td>\n",
              "      <td>I have been experiencing joint pain in my fing...</td>\n",
              "    </tr>\n",
              "    <tr>\n",
              "      <th>3</th>\n",
              "      <td>1</td>\n",
              "      <td>There is a silver like dusting on my skin, esp...</td>\n",
              "    </tr>\n",
              "    <tr>\n",
              "      <th>4</th>\n",
              "      <td>1</td>\n",
              "      <td>My nails have small dents or pits in them, and...</td>\n",
              "    </tr>\n",
              "    <tr>\n",
              "      <th>...</th>\n",
              "      <td>...</td>\n",
              "      <td>...</td>\n",
              "    </tr>\n",
              "    <tr>\n",
              "      <th>1195</th>\n",
              "      <td>0</td>\n",
              "      <td>I'm shaking and trembling all over. I've lost ...</td>\n",
              "    </tr>\n",
              "    <tr>\n",
              "      <th>1196</th>\n",
              "      <td>0</td>\n",
              "      <td>Particularly in the crevices of my skin, I hav...</td>\n",
              "    </tr>\n",
              "    <tr>\n",
              "      <th>1197</th>\n",
              "      <td>0</td>\n",
              "      <td>I regularly experience these intense urges and...</td>\n",
              "    </tr>\n",
              "    <tr>\n",
              "      <th>1198</th>\n",
              "      <td>0</td>\n",
              "      <td>I have trouble breathing, especially outside. ...</td>\n",
              "    </tr>\n",
              "    <tr>\n",
              "      <th>1199</th>\n",
              "      <td>0</td>\n",
              "      <td>I constantly sneeze and have a dry cough. My i...</td>\n",
              "    </tr>\n",
              "  </tbody>\n",
              "</table>\n",
              "<p>1153 rows × 2 columns</p>\n",
              "</div>\n",
              "      <button class=\"colab-df-convert\" onclick=\"convertToInteractive('df-54d458fd-a9ad-4ca8-8276-ed1ebf839d8e')\"\n",
              "              title=\"Convert this dataframe to an interactive table.\"\n",
              "              style=\"display:none;\">\n",
              "        \n",
              "  <svg xmlns=\"http://www.w3.org/2000/svg\" height=\"24px\"viewBox=\"0 0 24 24\"\n",
              "       width=\"24px\">\n",
              "    <path d=\"M0 0h24v24H0V0z\" fill=\"none\"/>\n",
              "    <path d=\"M18.56 5.44l.94 2.06.94-2.06 2.06-.94-2.06-.94-.94-2.06-.94 2.06-2.06.94zm-11 1L8.5 8.5l.94-2.06 2.06-.94-2.06-.94L8.5 2.5l-.94 2.06-2.06.94zm10 10l.94 2.06.94-2.06 2.06-.94-2.06-.94-.94-2.06-.94 2.06-2.06.94z\"/><path d=\"M17.41 7.96l-1.37-1.37c-.4-.4-.92-.59-1.43-.59-.52 0-1.04.2-1.43.59L10.3 9.45l-7.72 7.72c-.78.78-.78 2.05 0 2.83L4 21.41c.39.39.9.59 1.41.59.51 0 1.02-.2 1.41-.59l7.78-7.78 2.81-2.81c.8-.78.8-2.07 0-2.86zM5.41 20L4 18.59l7.72-7.72 1.47 1.35L5.41 20z\"/>\n",
              "  </svg>\n",
              "      </button>\n",
              "      \n",
              "  <style>\n",
              "    .colab-df-container {\n",
              "      display:flex;\n",
              "      flex-wrap:wrap;\n",
              "      gap: 12px;\n",
              "    }\n",
              "\n",
              "    .colab-df-convert {\n",
              "      background-color: #E8F0FE;\n",
              "      border: none;\n",
              "      border-radius: 50%;\n",
              "      cursor: pointer;\n",
              "      display: none;\n",
              "      fill: #1967D2;\n",
              "      height: 32px;\n",
              "      padding: 0 0 0 0;\n",
              "      width: 32px;\n",
              "    }\n",
              "\n",
              "    .colab-df-convert:hover {\n",
              "      background-color: #E2EBFA;\n",
              "      box-shadow: 0px 1px 2px rgba(60, 64, 67, 0.3), 0px 1px 3px 1px rgba(60, 64, 67, 0.15);\n",
              "      fill: #174EA6;\n",
              "    }\n",
              "\n",
              "    [theme=dark] .colab-df-convert {\n",
              "      background-color: #3B4455;\n",
              "      fill: #D2E3FC;\n",
              "    }\n",
              "\n",
              "    [theme=dark] .colab-df-convert:hover {\n",
              "      background-color: #434B5C;\n",
              "      box-shadow: 0px 1px 3px 1px rgba(0, 0, 0, 0.15);\n",
              "      filter: drop-shadow(0px 1px 2px rgba(0, 0, 0, 0.3));\n",
              "      fill: #FFFFFF;\n",
              "    }\n",
              "  </style>\n",
              "\n",
              "      <script>\n",
              "        const buttonEl =\n",
              "          document.querySelector('#df-54d458fd-a9ad-4ca8-8276-ed1ebf839d8e button.colab-df-convert');\n",
              "        buttonEl.style.display =\n",
              "          google.colab.kernel.accessAllowed ? 'block' : 'none';\n",
              "\n",
              "        async function convertToInteractive(key) {\n",
              "          const element = document.querySelector('#df-54d458fd-a9ad-4ca8-8276-ed1ebf839d8e');\n",
              "          const dataTable =\n",
              "            await google.colab.kernel.invokeFunction('convertToInteractive',\n",
              "                                                     [key], {});\n",
              "          if (!dataTable) return;\n",
              "\n",
              "          const docLinkHtml = 'Like what you see? Visit the ' +\n",
              "            '<a target=\"_blank\" href=https://colab.research.google.com/notebooks/data_table.ipynb>data table notebook</a>'\n",
              "            + ' to learn more about interactive tables.';\n",
              "          element.innerHTML = '';\n",
              "          dataTable['output_type'] = 'display_data';\n",
              "          await google.colab.output.renderOutput(dataTable, element);\n",
              "          const docLink = document.createElement('div');\n",
              "          docLink.innerHTML = docLinkHtml;\n",
              "          element.appendChild(docLink);\n",
              "        }\n",
              "      </script>\n",
              "    </div>\n",
              "  </div>\n",
              "  "
            ]
          },
          "metadata": {},
          "execution_count": 7
        }
      ],
      "source": [
        "raw_data"
      ]
    },
    {
      "cell_type": "code",
      "execution_count": null,
      "metadata": {
        "colab": {
          "base_uri": "https://localhost:8080/",
          "height": 499
        },
        "id": "M29miyuS8dVA",
        "outputId": "bb3e65be-995f-42da-b4f3-accc9d338ad7"
      },
      "outputs": [
        {
          "output_type": "display_data",
          "data": {
            "text/plain": [
              "<Figure size 600x600 with 1 Axes>"
            ],
            "image/png": "[encoded data removed]"
          },
          "metadata": {}
        }
      ],
      "source": [
        "get_dataset_statistics(raw_data)"
      ]
    },
    {
      "cell_type": "code",
      "execution_count": null,
      "metadata": {
        "id": "9a7oMalo8eW7"
      },
      "outputs": [],
      "source": [
        "X_train, X_test, y_train, y_test = train_test_split(raw_data['text'].to_numpy(), raw_data['label'].to_numpy(), stratify=raw_data['label'].to_numpy(), test_size=0.2, random_state=24)"
      ]
    },
    {
      "cell_type": "code",
      "execution_count": null,
      "metadata": {
        "colab": {
          "base_uri": "https://localhost:8080/",
          "height": 499
        },
        "id": "4Qah2hem-rzC",
        "outputId": "061b4723-abcb-40f8-fe7f-b5bfaf46fbfd"
      },
      "outputs": [
        {
          "output_type": "display_data",
          "data": {
            "text/plain": [
              "<Figure size 600x600 with 1 Axes>"
            ],
            "image/png": "[encoded data removed]"
          },
          "metadata": {}
        }
      ],
      "source": [
        "get_dataset_statistics(pd.DataFrame({'label': y_train}))"
      ]
    },
    {
      "cell_type": "code",
      "execution_count": null,
      "metadata": {
        "colab": {
          "base_uri": "https://localhost:8080/",
          "height": 499
        },
        "id": "tBCiPYyy-0YC",
        "outputId": "c26e242e-c98d-4552-8f04-0261463d9c29"
      },
      "outputs": [
        {
          "output_type": "display_data",
          "data": {
            "text/plain": [
              "<Figure size 600x600 with 1 Axes>"
            ],
            "image/png": "[encoded data removed]"
          },
          "metadata": {}
        }
      ],
      "source": [
        "get_dataset_statistics(pd.DataFrame({'label': y_test}))"
      ]
    },
    {
      "cell_type": "code",
      "execution_count": null,
      "metadata": {
        "id": "cVetnUhn-6K9",
        "colab": {
          "base_uri": "https://localhost:8080/",
          "height": 423
        },
        "outputId": "6a4a1739-bb5b-4a90-aef5-92cce9eeb0a8"
      },
      "outputs": [
        {
          "output_type": "execute_result",
          "data": {
            "text/plain": [
              "                                                  text  label\n",
              "0    I am quite queasy and dizzy when I have a temp...      0\n",
              "1    I've been experiencing muscular weakness and s...      0\n",
              "2    Over the last week, the rash on my face has go...      1\n",
              "3    I have a frequent need to urinate and often ha...      0\n",
              "4    I am feeling quite weak. I'm having a lot of s...      0\n",
              "..                                                 ...    ...\n",
              "917  Sometimes my skin starts to flake off from my ...      0\n",
              "918  My skin has a horrible rash that is absolutely...      1\n",
              "919  I occasionally have burning in my upper abdome...      0\n",
              "920  I lose weight unintentionally and find it chal...      0\n",
              "921  My mouth is filled with a sour, acidic flavour...      0\n",
              "\n",
              "[922 rows x 2 columns]"
            ],
            "text/html": [
              "\n",
              "  <div id=\"df-ff3da611-be15-4d87-bfec-02b1e9a7ca0e\">\n",
              "    <div class=\"colab-df-container\">\n",
              "      <div>\n",
              "<style scoped>\n",
              "    .dataframe tbody tr th:only-of-type {\n",
              "        vertical-align: middle;\n",
              "    }\n",
              "\n",
              "    .dataframe tbody tr th {\n",
              "        vertical-align: top;\n",
              "    }\n",
              "\n",
              "    .dataframe thead th {\n",
              "        text-align: right;\n",
              "    }\n",
              "</style>\n",
              "<table border=\"1\" class=\"dataframe\">\n",
              "  <thead>\n",
              "    <tr style=\"text-align: right;\">\n",
              "      <th></th>\n",
              "      <th>text</th>\n",
              "      <th>label</th>\n",
              "    </tr>\n",
              "  </thead>\n",
              "  <tbody>\n",
              "    <tr>\n",
              "      <th>0</th>\n",
              "      <td>I am quite queasy and dizzy when I have a temp...</td>\n",
              "      <td>0</td>\n",
              "    </tr>\n",
              "    <tr>\n",
              "      <th>1</th>\n",
              "      <td>I've been experiencing muscular weakness and s...</td>\n",
              "      <td>0</td>\n",
              "    </tr>\n",
              "    <tr>\n",
              "      <th>2</th>\n",
              "      <td>Over the last week, the rash on my face has go...</td>\n",
              "      <td>1</td>\n",
              "    </tr>\n",
              "    <tr>\n",
              "      <th>3</th>\n",
              "      <td>I have a frequent need to urinate and often ha...</td>\n",
              "      <td>0</td>\n",
              "    </tr>\n",
              "    <tr>\n",
              "      <th>4</th>\n",
              "      <td>I am feeling quite weak. I'm having a lot of s...</td>\n",
              "      <td>0</td>\n",
              "    </tr>\n",
              "    <tr>\n",
              "      <th>...</th>\n",
              "      <td>...</td>\n",
              "      <td>...</td>\n",
              "    </tr>\n",
              "    <tr>\n",
              "      <th>917</th>\n",
              "      <td>Sometimes my skin starts to flake off from my ...</td>\n",
              "      <td>0</td>\n",
              "    </tr>\n",
              "    <tr>\n",
              "      <th>918</th>\n",
              "      <td>My skin has a horrible rash that is absolutely...</td>\n",
              "      <td>1</td>\n",
              "    </tr>\n",
              "    <tr>\n",
              "      <th>919</th>\n",
              "      <td>I occasionally have burning in my upper abdome...</td>\n",
              "      <td>0</td>\n",
              "    </tr>\n",
              "    <tr>\n",
              "      <th>920</th>\n",
              "      <td>I lose weight unintentionally and find it chal...</td>\n",
              "      <td>0</td>\n",
              "    </tr>\n",
              "    <tr>\n",
              "      <th>921</th>\n",
              "      <td>My mouth is filled with a sour, acidic flavour...</td>\n",
              "      <td>0</td>\n",
              "    </tr>\n",
              "  </tbody>\n",
              "</table>\n",
              "<p>922 rows × 2 columns</p>\n",
              "</div>\n",
              "      <button class=\"colab-df-convert\" onclick=\"convertToInteractive('df-ff3da611-be15-4d87-bfec-02b1e9a7ca0e')\"\n",
              "              title=\"Convert this dataframe to an interactive table.\"\n",
              "              style=\"display:none;\">\n",
              "        \n",
              "  <svg xmlns=\"http://www.w3.org/2000/svg\" height=\"24px\"viewBox=\"0 0 24 24\"\n",
              "       width=\"24px\">\n",
              "    <path d=\"M0 0h24v24H0V0z\" fill=\"none\"/>\n",
              "    <path d=\"M18.56 5.44l.94 2.06.94-2.06 2.06-.94-2.06-.94-.94-2.06-.94 2.06-2.06.94zm-11 1L8.5 8.5l.94-2.06 2.06-.94-2.06-.94L8.5 2.5l-.94 2.06-2.06.94zm10 10l.94 2.06.94-2.06 2.06-.94-2.06-.94-.94-2.06-.94 2.06-2.06.94z\"/><path d=\"M17.41 7.96l-1.37-1.37c-.4-.4-.92-.59-1.43-.59-.52 0-1.04.2-1.43.59L10.3 9.45l-7.72 7.72c-.78.78-.78 2.05 0 2.83L4 21.41c.39.39.9.59 1.41.59.51 0 1.02-.2 1.41-.59l7.78-7.78 2.81-2.81c.8-.78.8-2.07 0-2.86zM5.41 20L4 18.59l7.72-7.72 1.47 1.35L5.41 20z\"/>\n",
              "  </svg>\n",
              "      </button>\n",
              "      \n",
              "  <style>\n",
              "    .colab-df-container {\n",
              "      display:flex;\n",
              "      flex-wrap:wrap;\n",
              "      gap: 12px;\n",
              "    }\n",
              "\n",
              "    .colab-df-convert {\n",
              "      background-color: #E8F0FE;\n",
              "      border: none;\n",
              "      border-radius: 50%;\n",
              "      cursor: pointer;\n",
              "      display: none;\n",
              "      fill: #1967D2;\n",
              "      height: 32px;\n",
              "      padding: 0 0 0 0;\n",
              "      width: 32px;\n",
              "    }\n",
              "\n",
              "    .colab-df-convert:hover {\n",
              "      background-color: #E2EBFA;\n",
              "      box-shadow: 0px 1px 2px rgba(60, 64, 67, 0.3), 0px 1px 3px 1px rgba(60, 64, 67, 0.15);\n",
              "      fill: #174EA6;\n",
              "    }\n",
              "\n",
              "    [theme=dark] .colab-df-convert {\n",
              "      background-color: #3B4455;\n",
              "      fill: #D2E3FC;\n",
              "    }\n",
              "\n",
              "    [theme=dark] .colab-df-convert:hover {\n",
              "      background-color: #434B5C;\n",
              "      box-shadow: 0px 1px 3px 1px rgba(0, 0, 0, 0.15);\n",
              "      filter: drop-shadow(0px 1px 2px rgba(0, 0, 0, 0.3));\n",
              "      fill: #FFFFFF;\n",
              "    }\n",
              "  </style>\n",
              "\n",
              "      <script>\n",
              "        const buttonEl =\n",
              "          document.querySelector('#df-ff3da611-be15-4d87-bfec-02b1e9a7ca0e button.colab-df-convert');\n",
              "        buttonEl.style.display =\n",
              "          google.colab.kernel.accessAllowed ? 'block' : 'none';\n",
              "\n",
              "        async function convertToInteractive(key) {\n",
              "          const element = document.querySelector('#df-ff3da611-be15-4d87-bfec-02b1e9a7ca0e');\n",
              "          const dataTable =\n",
              "            await google.colab.kernel.invokeFunction('convertToInteractive',\n",
              "                                                     [key], {});\n",
              "          if (!dataTable) return;\n",
              "\n",
              "          const docLinkHtml = 'Like what you see? Visit the ' +\n",
              "            '<a target=\"_blank\" href=https://colab.research.google.com/notebooks/data_table.ipynb>data table notebook</a>'\n",
              "            + ' to learn more about interactive tables.';\n",
              "          element.innerHTML = '';\n",
              "          dataTable['output_type'] = 'display_data';\n",
              "          await google.colab.output.renderOutput(dataTable, element);\n",
              "          const docLink = document.createElement('div');\n",
              "          docLink.innerHTML = docLinkHtml;\n",
              "          element.appendChild(docLink);\n",
              "        }\n",
              "      </script>\n",
              "    </div>\n",
              "  </div>\n",
              "  "
            ]
          },
          "metadata": {},
          "execution_count": 9
        }
      ],
      "source": [
        "train_data = pd.DataFrame({'text': X_train, 'label': y_train})\n",
        "train_data"
      ]
    },
    {
      "cell_type": "code",
      "execution_count": null,
      "metadata": {
        "id": "ppXduhD3Okz8",
        "colab": {
          "base_uri": "https://localhost:8080/",
          "height": 423
        },
        "outputId": "4202efb8-8585-4ca4-d6c8-5a2df1617b5d"
      },
      "outputs": [
        {
          "output_type": "execute_result",
          "data": {
            "text/plain": [
              "                                                  text  label\n",
              "0    My cheeks and nose are covered with red sores....      1\n",
              "1    My vision is blurry, and it feels like it's ge...      0\n",
              "2    I have noticed a sudden peeling of skin at dif...      1\n",
              "3    I've been suffering from severe constipation l...      0\n",
              "4    The sores around my nose are now surrounded by...      1\n",
              "..                                                 ...    ...\n",
              "226  I have been feeling nauseous and have a consta...      0\n",
              "227  I have a sour acidic taste in my mouth. I have...      0\n",
              "228  I routinely experience heartburn and indigesti...      0\n",
              "229  The veins on my calves have become very promin...      0\n",
              "230  Hello, Mom and Father Recently, I've felt incr...      0\n",
              "\n",
              "[231 rows x 2 columns]"
            ],
            "text/html": [
              "\n",
              "  <div id=\"df-84f9df43-c365-4335-a09d-0501400430e5\">\n",
              "    <div class=\"colab-df-container\">\n",
              "      <div>\n",
              "<style scoped>\n",
              "    .dataframe tbody tr th:only-of-type {\n",
              "        vertical-align: middle;\n",
              "    }\n",
              "\n",
              "    .dataframe tbody tr th {\n",
              "        vertical-align: top;\n",
              "    }\n",
              "\n",
              "    .dataframe thead th {\n",
              "        text-align: right;\n",
              "    }\n",
              "</style>\n",
              "<table border=\"1\" class=\"dataframe\">\n",
              "  <thead>\n",
              "    <tr style=\"text-align: right;\">\n",
              "      <th></th>\n",
              "      <th>text</th>\n",
              "      <th>label</th>\n",
              "    </tr>\n",
              "  </thead>\n",
              "  <tbody>\n",
              "    <tr>\n",
              "      <th>0</th>\n",
              "      <td>My cheeks and nose are covered with red sores....</td>\n",
              "      <td>1</td>\n",
              "    </tr>\n",
              "    <tr>\n",
              "      <th>1</th>\n",
              "      <td>My vision is blurry, and it feels like it's ge...</td>\n",
              "      <td>0</td>\n",
              "    </tr>\n",
              "    <tr>\n",
              "      <th>2</th>\n",
              "      <td>I have noticed a sudden peeling of skin at dif...</td>\n",
              "      <td>1</td>\n",
              "    </tr>\n",
              "    <tr>\n",
              "      <th>3</th>\n",
              "      <td>I've been suffering from severe constipation l...</td>\n",
              "      <td>0</td>\n",
              "    </tr>\n",
              "    <tr>\n",
              "      <th>4</th>\n",
              "      <td>The sores around my nose are now surrounded by...</td>\n",
              "      <td>1</td>\n",
              "    </tr>\n",
              "    <tr>\n",
              "      <th>...</th>\n",
              "      <td>...</td>\n",
              "      <td>...</td>\n",
              "    </tr>\n",
              "    <tr>\n",
              "      <th>226</th>\n",
              "      <td>I have been feeling nauseous and have a consta...</td>\n",
              "      <td>0</td>\n",
              "    </tr>\n",
              "    <tr>\n",
              "      <th>227</th>\n",
              "      <td>I have a sour acidic taste in my mouth. I have...</td>\n",
              "      <td>0</td>\n",
              "    </tr>\n",
              "    <tr>\n",
              "      <th>228</th>\n",
              "      <td>I routinely experience heartburn and indigesti...</td>\n",
              "      <td>0</td>\n",
              "    </tr>\n",
              "    <tr>\n",
              "      <th>229</th>\n",
              "      <td>The veins on my calves have become very promin...</td>\n",
              "      <td>0</td>\n",
              "    </tr>\n",
              "    <tr>\n",
              "      <th>230</th>\n",
              "      <td>Hello, Mom and Father Recently, I've felt incr...</td>\n",
              "      <td>0</td>\n",
              "    </tr>\n",
              "  </tbody>\n",
              "</table>\n",
              "<p>231 rows × 2 columns</p>\n",
              "</div>\n",
              "      <button class=\"colab-df-convert\" onclick=\"convertToInteractive('df-84f9df43-c365-4335-a09d-0501400430e5')\"\n",
              "              title=\"Convert this dataframe to an interactive table.\"\n",
              "              style=\"display:none;\">\n",
              "        \n",
              "  <svg xmlns=\"http://www.w3.org/2000/svg\" height=\"24px\"viewBox=\"0 0 24 24\"\n",
              "       width=\"24px\">\n",
              "    <path d=\"M0 0h24v24H0V0z\" fill=\"none\"/>\n",
              "    <path d=\"M18.56 5.44l.94 2.06.94-2.06 2.06-.94-2.06-.94-.94-2.06-.94 2.06-2.06.94zm-11 1L8.5 8.5l.94-2.06 2.06-.94-2.06-.94L8.5 2.5l-.94 2.06-2.06.94zm10 10l.94 2.06.94-2.06 2.06-.94-2.06-.94-.94-2.06-.94 2.06-2.06.94z\"/><path d=\"M17.41 7.96l-1.37-1.37c-.4-.4-.92-.59-1.43-.59-.52 0-1.04.2-1.43.59L10.3 9.45l-7.72 7.72c-.78.78-.78 2.05 0 2.83L4 21.41c.39.39.9.59 1.41.59.51 0 1.02-.2 1.41-.59l7.78-7.78 2.81-2.81c.8-.78.8-2.07 0-2.86zM5.41 20L4 18.59l7.72-7.72 1.47 1.35L5.41 20z\"/>\n",
              "  </svg>\n",
              "      </button>\n",
              "      \n",
              "  <style>\n",
              "    .colab-df-container {\n",
              "      display:flex;\n",
              "      flex-wrap:wrap;\n",
              "      gap: 12px;\n",
              "    }\n",
              "\n",
              "    .colab-df-convert {\n",
              "      background-color: #E8F0FE;\n",
              "      border: none;\n",
              "      border-radius: 50%;\n",
              "      cursor: pointer;\n",
              "      display: none;\n",
              "      fill: #1967D2;\n",
              "      height: 32px;\n",
              "      padding: 0 0 0 0;\n",
              "      width: 32px;\n",
              "    }\n",
              "\n",
              "    .colab-df-convert:hover {\n",
              "      background-color: #E2EBFA;\n",
              "      box-shadow: 0px 1px 2px rgba(60, 64, 67, 0.3), 0px 1px 3px 1px rgba(60, 64, 67, 0.15);\n",
              "      fill: #174EA6;\n",
              "    }\n",
              "\n",
              "    [theme=dark] .colab-df-convert {\n",
              "      background-color: #3B4455;\n",
              "      fill: #D2E3FC;\n",
              "    }\n",
              "\n",
              "    [theme=dark] .colab-df-convert:hover {\n",
              "      background-color: #434B5C;\n",
              "      box-shadow: 0px 1px 3px 1px rgba(0, 0, 0, 0.15);\n",
              "      filter: drop-shadow(0px 1px 2px rgba(0, 0, 0, 0.3));\n",
              "      fill: #FFFFFF;\n",
              "    }\n",
              "  </style>\n",
              "\n",
              "      <script>\n",
              "        const buttonEl =\n",
              "          document.querySelector('#df-84f9df43-c365-4335-a09d-0501400430e5 button.colab-df-convert');\n",
              "        buttonEl.style.display =\n",
              "          google.colab.kernel.accessAllowed ? 'block' : 'none';\n",
              "\n",
              "        async function convertToInteractive(key) {\n",
              "          const element = document.querySelector('#df-84f9df43-c365-4335-a09d-0501400430e5');\n",
              "          const dataTable =\n",
              "            await google.colab.kernel.invokeFunction('convertToInteractive',\n",
              "                                                     [key], {});\n",
              "          if (!dataTable) return;\n",
              "\n",
              "          const docLinkHtml = 'Like what you see? Visit the ' +\n",
              "            '<a target=\"_blank\" href=https://colab.research.google.com/notebooks/data_table.ipynb>data table notebook</a>'\n",
              "            + ' to learn more about interactive tables.';\n",
              "          element.innerHTML = '';\n",
              "          dataTable['output_type'] = 'display_data';\n",
              "          await google.colab.output.renderOutput(dataTable, element);\n",
              "          const docLink = document.createElement('div');\n",
              "          docLink.innerHTML = docLinkHtml;\n",
              "          element.appendChild(docLink);\n",
              "        }\n",
              "      </script>\n",
              "    </div>\n",
              "  </div>\n",
              "  "
            ]
          },
          "metadata": {},
          "execution_count": 10
        }
      ],
      "source": [
        "test_data = pd.DataFrame({'text': X_test, 'label': y_test})\n",
        "test_data"
      ]
    },
    {
      "cell_type": "markdown",
      "metadata": {
        "id": "OiEsQgky_HtA"
      },
      "source": [
        "# Text Preprocessing "
      ]
    },
    {
      "cell_type": "code",
      "execution_count": null,
      "metadata": {
        "id": "gBlxYHn9_C_e"
      },
      "outputs": [],
      "source": [
        "import requests\n",
        "stopwords_list = requests.get(\"https://github.com/stopwords-iso/stopwords-en/blob/master/stopwords-en.txt\").content\n",
        "stopwords = set(stopwords_list.decode().splitlines())"
      ]
    },
    {
      "cell_type": "code",
      "execution_count": null,
      "metadata": {
        "id": "trlE3rdD_Lr7"
      },
      "outputs": [],
      "source": [
        "import string\n",
        "from nltk.corpus import stopwords\n",
        "from sklearn.feature_extraction.text import ENGLISH_STOP_WORDS\n",
        "sklearn_stopwords = ENGLISH_STOP_WORDS\n",
        "\n",
        "stop_words = set(stopwords.words('english'))\n",
        "stop_words.update(sklearn_stopwords)\n",
        "\n",
        "def text_preprocessing(raw_text):\n",
        "  text_words = raw_text.translate(str.maketrans('', '', string.punctuation))\n",
        "  msg_tokens = word_tokenize(text_words.lower())\n",
        "  filtered_text = [token for token in msg_tokens if not token in stop_words]\n",
        "  return \" \".join(filtered_text)"
      ]
    },
    {
      "cell_type": "code",
      "execution_count": null,
      "metadata": {
        "colab": {
          "base_uri": "https://localhost:8080/",
          "height": 423
        },
        "id": "bnTrzKDQALIB",
        "outputId": "edc36410-36a6-43f0-d278-ee636ad26e9c"
      },
      "outputs": [
        {
          "output_type": "execute_result",
          "data": {
            "text/plain": [
              "                                                  text  label\n",
              "0    quite queasy dizzy temperature brain completel...      0\n",
              "1    ive experiencing muscular weakness stiffness n...      0\n",
              "2    week rash face gotten severe painful sores beg...      1\n",
              "3    frequent need urinate uncontrollable urges fee...      0\n",
              "4    feeling quite weak im lot stomach discomfort c...      0\n",
              "..                                                 ...    ...\n",
              "917  skin starts flake rashes im prone sick result ...      0\n",
              "918  skin horrible rash absolutely nonheritable bla...      1\n",
              "919  occasionally burning upper abdomen day night h...      0\n",
              "920  lose weight unintentionally challenging acquir...      0\n",
              "921  mouth filled sour acidic flavour burping belch...      0\n",
              "\n",
              "[919 rows x 2 columns]"
            ],
            "text/html": [
              "\n",
              "  <div id=\"df-801f4878-eb3c-412f-9663-83de1b800d52\">\n",
              "    <div class=\"colab-df-container\">\n",
              "      <div>\n",
              "<style scoped>\n",
              "    .dataframe tbody tr th:only-of-type {\n",
              "        vertical-align: middle;\n",
              "    }\n",
              "\n",
              "    .dataframe tbody tr th {\n",
              "        vertical-align: top;\n",
              "    }\n",
              "\n",
              "    .dataframe thead th {\n",
              "        text-align: right;\n",
              "    }\n",
              "</style>\n",
              "<table border=\"1\" class=\"dataframe\">\n",
              "  <thead>\n",
              "    <tr style=\"text-align: right;\">\n",
              "      <th></th>\n",
              "      <th>text</th>\n",
              "      <th>label</th>\n",
              "    </tr>\n",
              "  </thead>\n",
              "  <tbody>\n",
              "    <tr>\n",
              "      <th>0</th>\n",
              "      <td>quite queasy dizzy temperature brain completel...</td>\n",
              "      <td>0</td>\n",
              "    </tr>\n",
              "    <tr>\n",
              "      <th>1</th>\n",
              "      <td>ive experiencing muscular weakness stiffness n...</td>\n",
              "      <td>0</td>\n",
              "    </tr>\n",
              "    <tr>\n",
              "      <th>2</th>\n",
              "      <td>week rash face gotten severe painful sores beg...</td>\n",
              "      <td>1</td>\n",
              "    </tr>\n",
              "    <tr>\n",
              "      <th>3</th>\n",
              "      <td>frequent need urinate uncontrollable urges fee...</td>\n",
              "      <td>0</td>\n",
              "    </tr>\n",
              "    <tr>\n",
              "      <th>4</th>\n",
              "      <td>feeling quite weak im lot stomach discomfort c...</td>\n",
              "      <td>0</td>\n",
              "    </tr>\n",
              "    <tr>\n",
              "      <th>...</th>\n",
              "      <td>...</td>\n",
              "      <td>...</td>\n",
              "    </tr>\n",
              "    <tr>\n",
              "      <th>917</th>\n",
              "      <td>skin starts flake rashes im prone sick result ...</td>\n",
              "      <td>0</td>\n",
              "    </tr>\n",
              "    <tr>\n",
              "      <th>918</th>\n",
              "      <td>skin horrible rash absolutely nonheritable bla...</td>\n",
              "      <td>1</td>\n",
              "    </tr>\n",
              "    <tr>\n",
              "      <th>919</th>\n",
              "      <td>occasionally burning upper abdomen day night h...</td>\n",
              "      <td>0</td>\n",
              "    </tr>\n",
              "    <tr>\n",
              "      <th>920</th>\n",
              "      <td>lose weight unintentionally challenging acquir...</td>\n",
              "      <td>0</td>\n",
              "    </tr>\n",
              "    <tr>\n",
              "      <th>921</th>\n",
              "      <td>mouth filled sour acidic flavour burping belch...</td>\n",
              "      <td>0</td>\n",
              "    </tr>\n",
              "  </tbody>\n",
              "</table>\n",
              "<p>919 rows × 2 columns</p>\n",
              "</div>\n",
              "      <button class=\"colab-df-convert\" onclick=\"convertToInteractive('df-801f4878-eb3c-412f-9663-83de1b800d52')\"\n",
              "              title=\"Convert this dataframe to an interactive table.\"\n",
              "              style=\"display:none;\">\n",
              "        \n",
              "  <svg xmlns=\"http://www.w3.org/2000/svg\" height=\"24px\"viewBox=\"0 0 24 24\"\n",
              "       width=\"24px\">\n",
              "    <path d=\"M0 0h24v24H0V0z\" fill=\"none\"/>\n",
              "    <path d=\"M18.56 5.44l.94 2.06.94-2.06 2.06-.94-2.06-.94-.94-2.06-.94 2.06-2.06.94zm-11 1L8.5 8.5l.94-2.06 2.06-.94-2.06-.94L8.5 2.5l-.94 2.06-2.06.94zm10 10l.94 2.06.94-2.06 2.06-.94-2.06-.94-.94-2.06-.94 2.06-2.06.94z\"/><path d=\"M17.41 7.96l-1.37-1.37c-.4-.4-.92-.59-1.43-.59-.52 0-1.04.2-1.43.59L10.3 9.45l-7.72 7.72c-.78.78-.78 2.05 0 2.83L4 21.41c.39.39.9.59 1.41.59.51 0 1.02-.2 1.41-.59l7.78-7.78 2.81-2.81c.8-.78.8-2.07 0-2.86zM5.41 20L4 18.59l7.72-7.72 1.47 1.35L5.41 20z\"/>\n",
              "  </svg>\n",
              "      </button>\n",
              "      \n",
              "  <style>\n",
              "    .colab-df-container {\n",
              "      display:flex;\n",
              "      flex-wrap:wrap;\n",
              "      gap: 12px;\n",
              "    }\n",
              "\n",
              "    .colab-df-convert {\n",
              "      background-color: #E8F0FE;\n",
              "      border: none;\n",
              "      border-radius: 50%;\n",
              "      cursor: pointer;\n",
              "      display: none;\n",
              "      fill: #1967D2;\n",
              "      height: 32px;\n",
              "      padding: 0 0 0 0;\n",
              "      width: 32px;\n",
              "    }\n",
              "\n",
              "    .colab-df-convert:hover {\n",
              "      background-color: #E2EBFA;\n",
              "      box-shadow: 0px 1px 2px rgba(60, 64, 67, 0.3), 0px 1px 3px 1px rgba(60, 64, 67, 0.15);\n",
              "      fill: #174EA6;\n",
              "    }\n",
              "\n",
              "    [theme=dark] .colab-df-convert {\n",
              "      background-color: #3B4455;\n",
              "      fill: #D2E3FC;\n",
              "    }\n",
              "\n",
              "    [theme=dark] .colab-df-convert:hover {\n",
              "      background-color: #434B5C;\n",
              "      box-shadow: 0px 1px 3px 1px rgba(0, 0, 0, 0.15);\n",
              "      filter: drop-shadow(0px 1px 2px rgba(0, 0, 0, 0.3));\n",
              "      fill: #FFFFFF;\n",
              "    }\n",
              "  </style>\n",
              "\n",
              "      <script>\n",
              "        const buttonEl =\n",
              "          document.querySelector('#df-801f4878-eb3c-412f-9663-83de1b800d52 button.colab-df-convert');\n",
              "        buttonEl.style.display =\n",
              "          google.colab.kernel.accessAllowed ? 'block' : 'none';\n",
              "\n",
              "        async function convertToInteractive(key) {\n",
              "          const element = document.querySelector('#df-801f4878-eb3c-412f-9663-83de1b800d52');\n",
              "          const dataTable =\n",
              "            await google.colab.kernel.invokeFunction('convertToInteractive',\n",
              "                                                     [key], {});\n",
              "          if (!dataTable) return;\n",
              "\n",
              "          const docLinkHtml = 'Like what you see? Visit the ' +\n",
              "            '<a target=\"_blank\" href=https://colab.research.google.com/notebooks/data_table.ipynb>data table notebook</a>'\n",
              "            + ' to learn more about interactive tables.';\n",
              "          element.innerHTML = '';\n",
              "          dataTable['output_type'] = 'display_data';\n",
              "          await google.colab.output.renderOutput(dataTable, element);\n",
              "          const docLink = document.createElement('div');\n",
              "          docLink.innerHTML = docLinkHtml;\n",
              "          element.appendChild(docLink);\n",
              "        }\n",
              "      </script>\n",
              "    </div>\n",
              "  </div>\n",
              "  "
            ]
          },
          "metadata": {},
          "execution_count": 13
        }
      ],
      "source": [
        "train_data = train_data[['text', 'label']].copy()\n",
        "\n",
        "train_data['text'] = train_data['text'].apply(text_preprocessing)\n",
        "\n",
        "train_data.drop_duplicates(inplace=True)\n",
        "\n",
        "train_data"
      ]
    },
    {
      "cell_type": "code",
      "execution_count": null,
      "metadata": {
        "colab": {
          "base_uri": "https://localhost:8080/",
          "height": 423
        },
        "id": "21_qKNngOiqe",
        "outputId": "ceef9b14-38cb-4844-acce-721d13b98af1"
      },
      "outputs": [
        {
          "output_type": "execute_result",
          "data": {
            "text/plain": [
              "                                                  text  label\n",
              "0    cheeks nose covered red sores ive observed ras...      1\n",
              "1    vision blurry feels like getting worse time fe...      0\n",
              "2    noticed sudden peeling skin different parts bo...      1\n",
              "3    ive suffering severe constipation lately restr...      0\n",
              "4    sores nose surrounded red inflamed skin rash c...      1\n",
              "..                                                 ...    ...\n",
              "226  feeling nauseous constant urge vomit strong pa...      0\n",
              "227  sour acidic taste mouth frequent belching burp...      0\n",
              "228  routinely experience heartburn indigestion par...      0\n",
              "229  veins calves prominent causing discomfort stan...      0\n",
              "230  hello mom father recently ive felt incredibly ...      0\n",
              "\n",
              "[231 rows x 2 columns]"
            ],
            "text/html": [
              "\n",
              "  <div id=\"df-5e6203ae-83e0-4013-8b3e-635d87328160\">\n",
              "    <div class=\"colab-df-container\">\n",
              "      <div>\n",
              "<style scoped>\n",
              "    .dataframe tbody tr th:only-of-type {\n",
              "        vertical-align: middle;\n",
              "    }\n",
              "\n",
              "    .dataframe tbody tr th {\n",
              "        vertical-align: top;\n",
              "    }\n",
              "\n",
              "    .dataframe thead th {\n",
              "        text-align: right;\n",
              "    }\n",
              "</style>\n",
              "<table border=\"1\" class=\"dataframe\">\n",
              "  <thead>\n",
              "    <tr style=\"text-align: right;\">\n",
              "      <th></th>\n",
              "      <th>text</th>\n",
              "      <th>label</th>\n",
              "    </tr>\n",
              "  </thead>\n",
              "  <tbody>\n",
              "    <tr>\n",
              "      <th>0</th>\n",
              "      <td>cheeks nose covered red sores ive observed ras...</td>\n",
              "      <td>1</td>\n",
              "    </tr>\n",
              "    <tr>\n",
              "      <th>1</th>\n",
              "      <td>vision blurry feels like getting worse time fe...</td>\n",
              "      <td>0</td>\n",
              "    </tr>\n",
              "    <tr>\n",
              "      <th>2</th>\n",
              "      <td>noticed sudden peeling skin different parts bo...</td>\n",
              "      <td>1</td>\n",
              "    </tr>\n",
              "    <tr>\n",
              "      <th>3</th>\n",
              "      <td>ive suffering severe constipation lately restr...</td>\n",
              "      <td>0</td>\n",
              "    </tr>\n",
              "    <tr>\n",
              "      <th>4</th>\n",
              "      <td>sores nose surrounded red inflamed skin rash c...</td>\n",
              "      <td>1</td>\n",
              "    </tr>\n",
              "    <tr>\n",
              "      <th>...</th>\n",
              "      <td>...</td>\n",
              "      <td>...</td>\n",
              "    </tr>\n",
              "    <tr>\n",
              "      <th>226</th>\n",
              "      <td>feeling nauseous constant urge vomit strong pa...</td>\n",
              "      <td>0</td>\n",
              "    </tr>\n",
              "    <tr>\n",
              "      <th>227</th>\n",
              "      <td>sour acidic taste mouth frequent belching burp...</td>\n",
              "      <td>0</td>\n",
              "    </tr>\n",
              "    <tr>\n",
              "      <th>228</th>\n",
              "      <td>routinely experience heartburn indigestion par...</td>\n",
              "      <td>0</td>\n",
              "    </tr>\n",
              "    <tr>\n",
              "      <th>229</th>\n",
              "      <td>veins calves prominent causing discomfort stan...</td>\n",
              "      <td>0</td>\n",
              "    </tr>\n",
              "    <tr>\n",
              "      <th>230</th>\n",
              "      <td>hello mom father recently ive felt incredibly ...</td>\n",
              "      <td>0</td>\n",
              "    </tr>\n",
              "  </tbody>\n",
              "</table>\n",
              "<p>231 rows × 2 columns</p>\n",
              "</div>\n",
              "      <button class=\"colab-df-convert\" onclick=\"convertToInteractive('df-5e6203ae-83e0-4013-8b3e-635d87328160')\"\n",
              "              title=\"Convert this dataframe to an interactive table.\"\n",
              "              style=\"display:none;\">\n",
              "        \n",
              "  <svg xmlns=\"http://www.w3.org/2000/svg\" height=\"24px\"viewBox=\"0 0 24 24\"\n",
              "       width=\"24px\">\n",
              "    <path d=\"M0 0h24v24H0V0z\" fill=\"none\"/>\n",
              "    <path d=\"M18.56 5.44l.94 2.06.94-2.06 2.06-.94-2.06-.94-.94-2.06-.94 2.06-2.06.94zm-11 1L8.5 8.5l.94-2.06 2.06-.94-2.06-.94L8.5 2.5l-.94 2.06-2.06.94zm10 10l.94 2.06.94-2.06 2.06-.94-2.06-.94-.94-2.06-.94 2.06-2.06.94z\"/><path d=\"M17.41 7.96l-1.37-1.37c-.4-.4-.92-.59-1.43-.59-.52 0-1.04.2-1.43.59L10.3 9.45l-7.72 7.72c-.78.78-.78 2.05 0 2.83L4 21.41c.39.39.9.59 1.41.59.51 0 1.02-.2 1.41-.59l7.78-7.78 2.81-2.81c.8-.78.8-2.07 0-2.86zM5.41 20L4 18.59l7.72-7.72 1.47 1.35L5.41 20z\"/>\n",
              "  </svg>\n",
              "      </button>\n",
              "      \n",
              "  <style>\n",
              "    .colab-df-container {\n",
              "      display:flex;\n",
              "      flex-wrap:wrap;\n",
              "      gap: 12px;\n",
              "    }\n",
              "\n",
              "    .colab-df-convert {\n",
              "      background-color: #E8F0FE;\n",
              "      border: none;\n",
              "      border-radius: 50%;\n",
              "      cursor: pointer;\n",
              "      display: none;\n",
              "      fill: #1967D2;\n",
              "      height: 32px;\n",
              "      padding: 0 0 0 0;\n",
              "      width: 32px;\n",
              "    }\n",
              "\n",
              "    .colab-df-convert:hover {\n",
              "      background-color: #E2EBFA;\n",
              "      box-shadow: 0px 1px 2px rgba(60, 64, 67, 0.3), 0px 1px 3px 1px rgba(60, 64, 67, 0.15);\n",
              "      fill: #174EA6;\n",
              "    }\n",
              "\n",
              "    [theme=dark] .colab-df-convert {\n",
              "      background-color: #3B4455;\n",
              "      fill: #D2E3FC;\n",
              "    }\n",
              "\n",
              "    [theme=dark] .colab-df-convert:hover {\n",
              "      background-color: #434B5C;\n",
              "      box-shadow: 0px 1px 3px 1px rgba(0, 0, 0, 0.15);\n",
              "      filter: drop-shadow(0px 1px 2px rgba(0, 0, 0, 0.3));\n",
              "      fill: #FFFFFF;\n",
              "    }\n",
              "  </style>\n",
              "\n",
              "      <script>\n",
              "        const buttonEl =\n",
              "          document.querySelector('#df-5e6203ae-83e0-4013-8b3e-635d87328160 button.colab-df-convert');\n",
              "        buttonEl.style.display =\n",
              "          google.colab.kernel.accessAllowed ? 'block' : 'none';\n",
              "\n",
              "        async function convertToInteractive(key) {\n",
              "          const element = document.querySelector('#df-5e6203ae-83e0-4013-8b3e-635d87328160');\n",
              "          const dataTable =\n",
              "            await google.colab.kernel.invokeFunction('convertToInteractive',\n",
              "                                                     [key], {});\n",
              "          if (!dataTable) return;\n",
              "\n",
              "          const docLinkHtml = 'Like what you see? Visit the ' +\n",
              "            '<a target=\"_blank\" href=https://colab.research.google.com/notebooks/data_table.ipynb>data table notebook</a>'\n",
              "            + ' to learn more about interactive tables.';\n",
              "          element.innerHTML = '';\n",
              "          dataTable['output_type'] = 'display_data';\n",
              "          await google.colab.output.renderOutput(dataTable, element);\n",
              "          const docLink = document.createElement('div');\n",
              "          docLink.innerHTML = docLinkHtml;\n",
              "          element.appendChild(docLink);\n",
              "        }\n",
              "      </script>\n",
              "    </div>\n",
              "  </div>\n",
              "  "
            ]
          },
          "metadata": {},
          "execution_count": 14
        }
      ],
      "source": [
        "test_data = test_data[['text', 'label']].copy()\n",
        "\n",
        "test_data['text'] = test_data['text'].apply(text_preprocessing)\n",
        "\n",
        "test_data.drop_duplicates(inplace=True)\n",
        "\n",
        "test_data"
      ]
    },
    {
      "cell_type": "markdown",
      "metadata": {
        "id": "m-8gEBwNA7PN"
      },
      "source": [
        "# Feature Extraction"
      ]
    },
    {
      "cell_type": "code",
      "execution_count": null,
      "metadata": {
        "colab": {
          "base_uri": "https://localhost:8080/"
        },
        "id": "qhU5I2TaBIUz",
        "outputId": "6d78abba-fd97-4fe6-cf84-f64a5d298204"
      },
      "outputs": [
        {
          "output_type": "stream",
          "name": "stdout",
          "text": [
            "[==================================================] 100.0% 1662.8/1662.8MB downloaded\n"
          ]
        }
      ],
      "source": [
        "word2vec_model = api.load(\"word2vec-google-news-300\")"
      ]
    },
    {
      "cell_type": "code",
      "execution_count": null,
      "metadata": {
        "id": "XOa6vzkoAhaN"
      },
      "outputs": [],
      "source": [
        "def get_text_vec(sent):\n",
        "  vector = np.mean(np.array([word2vec_model[token] for token in word_tokenize(sent) if token in word2vec_model.key_to_index]), axis=0)\n",
        "  if np.all(np.isnan(vector)) :\n",
        "    return np.zeros(300)\n",
        "  return vector"
      ]
    },
    {
      "cell_type": "code",
      "execution_count": null,
      "metadata": {
        "id": "M-b-fuZXEjnH"
      },
      "outputs": [],
      "source": [
        "X_test = np.stack(np.array([get_text_vec(text) for text in test_data['text'].values]))"
      ]
    },
    {
      "cell_type": "code",
      "execution_count": null,
      "metadata": {
        "colab": {
          "base_uri": "https://localhost:8080/"
        },
        "id": "lDfVSWFzEpwH",
        "outputId": "456dc341-ea49-4d91-e630-810d24f9cf6a"
      },
      "outputs": [
        {
          "output_type": "execute_result",
          "data": {
            "text/plain": [
              "(231, 300)"
            ]
          },
          "metadata": {},
          "execution_count": 21
        }
      ],
      "source": [
        "X_test.shape"
      ]
    },
    {
      "cell_type": "code",
      "execution_count": null,
      "metadata": {
        "id": "NCi6wK0kPACs"
      },
      "outputs": [],
      "source": [
        "y_test = test_data['label'].values"
      ]
    },
    {
      "cell_type": "code",
      "execution_count": null,
      "metadata": {
        "colab": {
          "base_uri": "https://localhost:8080/"
        },
        "id": "0I964n-QPBQE",
        "outputId": "f3c72e5e-c720-434c-b9f2-9ee383647026"
      },
      "outputs": [
        {
          "output_type": "execute_result",
          "data": {
            "text/plain": [
              "(231,)"
            ]
          },
          "metadata": {},
          "execution_count": 23
        }
      ],
      "source": [
        "y_test.shape"
      ]
    },
    {
      "cell_type": "markdown",
      "metadata": {
        "id": "TEqW7eb9BkwW"
      },
      "source": [
        "# Model selection, training and evaluation"
      ]
    },
    {
      "cell_type": "code",
      "execution_count": null,
      "metadata": {
        "id": "OoEtJG3G4qMB"
      },
      "outputs": [],
      "source": [
        "def f_beta_score(y_true, y_pred):\n",
        "  return fbeta_score(y_true, y_pred, beta=2)\n",
        "\n",
        "f2_score = make_scorer(f_beta_score, greater_is_better=True)"
      ]
    },
    {
      "cell_type": "code",
      "execution_count": null,
      "metadata": {
        "id": "JU8v73f74qAG"
      },
      "outputs": [],
      "source": [
        "from datetime import datetime\n",
        "\n",
        "def save_cross_validation(results, file_name):\n",
        "  results_to_save = pd.DataFrame(columns=['Accuracy', 'Recall', 'Precision', 'F1 Score', 'F2 Score'])\n",
        "  for i in range(0, 10):\n",
        "    results_to_save.loc[i] = [\n",
        "      results['split{}_test_Accuracy'.format(i)][0],\n",
        "      results['split{}_test_Recall'.format(i)][0],\n",
        "      results['split{}_test_Precision'.format(i)][0],\n",
        "      results['split{}_test_F1'.format(i)][0],\n",
        "      results['split{}_test_F2'.format(i)][0]\n",
        "    ]\n",
        "  results_to_save.to_csv('{}Results/{}_{}.csv'.format(dir_name+'experiments/Skin Diseases/', file_name, datetime.now().strftime(\"%m%d%H%M\")))"
      ]
    },
    {
      "cell_type": "code",
      "execution_count": null,
      "metadata": {
        "id": "CP817Ht44p0i"
      },
      "outputs": [],
      "source": [
        "def train_model(classifier, param_grid, model_name, train_texts, train_labels, test_texts, test_labels, evaluation_metrics, to_print=True, to_save=False, file_name=None):\n",
        "    \"\"\"\n",
        "    train email classification model.\n",
        "    \"\"\"\n",
        "\n",
        "    # apply grid search to find best model hyper parameters\n",
        "    grid_search = GridSearchCV(classifier, param_grid, cv=10, scoring={'Accuracy': make_scorer(accuracy_score),\n",
        "                                                                       'F1': make_scorer(f1_score),\n",
        "                                                                       'F2': f2_score,\n",
        "                                                                       'Recall': make_scorer(recall_score),\n",
        "                                                                       'Precision': make_scorer(precision_score)\n",
        "                                                                       }, refit='F1', n_jobs=-1)\n",
        "    grid_search.fit(train_texts, train_labels)\n",
        "    model = grid_search.best_estimator_\n",
        "\n",
        "    if to_save:\n",
        "      ConfusionMatrixDisplay(save_cross_validation(grid_search.cv_results_, file_name))\n",
        "      plt.show()\n",
        "\n",
        "    # train and test accuracy.\n",
        "    test_accuracy = model.score(test_texts, test_labels)\n",
        "    train_accuracy = model.score(train_texts, train_labels)\n",
        "\n",
        "    # compute F1 score for model evaluation.\n",
        "    y_pred = model.predict(test_texts)\n",
        "\n",
        "    recall = recall_score(test_labels, y_pred)\n",
        "    precision = precision_score(test_labels, y_pred)\n",
        "    f1score = f1_score(test_labels, y_pred)\n",
        "    f2score = fbeta_score(y_test, y_pred, beta=2)\n",
        "\n",
        "    if to_print:\n",
        "        print(\"train accuracy = \" + str(train_accuracy))\n",
        "        print(\"test accuracy = \" + str(test_accuracy))\n",
        "        print(\"Recall = {}\".format(recall))\n",
        "        print(\"Precision = {}\".format(precision))\n",
        "        print(\"F1 score = {}\".format(f1score))\n",
        "        print(\"F2 score = {}\".format(f2score))\n",
        "        print(classification_report(test_labels, y_pred))\n",
        "\n",
        "\n",
        "        # plot confusion matrix\n",
        "        cm = confusion_matrix(test_labels, y_pred)\n",
        "        disp = ConfusionMatrixDisplay(confusion_matrix=cm, display_labels=[0,1])\n",
        "\n",
        "        disp.plot(cmap=plt.cm.Blues)\n",
        "        plt.show()\n",
        "\n",
        "        # print best model hyper parameters.\n",
        "        print(grid_search.best_params_)\n",
        "\n",
        "    evaluation_metrics.loc[model_name, 'Recall'] = recall\n",
        "    evaluation_metrics.loc[model_name, 'Precision'] = precision\n",
        "    evaluation_metrics.loc[model_name, 'F1 score'] = f1score\n",
        "    evaluation_metrics.loc[model_name, 'F2 score'] = f2score\n",
        "\n",
        "    return f1score, f2score\n",
        "\n",
        "\n",
        "def train(model_id, train_texts, train_labels, test_texts, test_labels, evaluation_metrics, to_print=True, to_save=False, file_name=None):\n",
        "    \n",
        "    if model_id == 1:\n",
        "        # Random forest Classification model.\n",
        "        forest_clf = RandomForestClassifier(random_state=42, n_jobs=-1)\n",
        "        forest_param_grid = [{'n_estimators': [50, 75, 100, 150, 200], 'max_features': [8, 9, 10], 'min_samples_split': [25, 30], 'criterion': ['gini','entropy'], 'max_depth': [4, 5]}]\n",
        "        return train_model(forest_clf, forest_param_grid, 'RandomForest', train_texts, train_labels, test_texts, test_labels, evaluation_metrics, to_print, to_save, file_name)\n",
        "\n",
        "    if model_id == 2:\n",
        "        # Support Vector Machine Model.\n",
        "        svc_clf = SVC(random_state=42)\n",
        "        svc_param_grid = [{'kernel': ['rbf', 'poly'], 'degree': [2, 3 , 4, 5, 6, 7]}]\n",
        "\n",
        "        return train_model(svc_clf, svc_param_grid, 'SVM', train_texts, train_labels, test_texts, test_labels, evaluation_metrics, to_print, to_save, file_name)"
      ]
    },
    {
      "cell_type": "markdown",
      "source": [
        "#Text Aug."
      ],
      "metadata": {
        "id": "rZZz-jTuKrPk"
      }
    },
    {
      "cell_type": "code",
      "source": [
        "all_similar_words = {}\n",
        "\n",
        "def get_similar_words(word):\n",
        "  if word not in all_similar_words:\n",
        "    all_similar_words[word] = word2vec_model.most_similar(word)\n",
        "  return all_similar_words[word]"
      ],
      "metadata": {
        "id": "ecqTIbsYKs7x"
      },
      "execution_count": null,
      "outputs": []
    },
    {
      "cell_type": "code",
      "source": [
        "import gensim\n",
        "import random \n",
        "\n",
        "class Word2vec:\n",
        "    \"\"\"\n",
        "    A set of functions used to augment data.\n",
        "    Typical usage: :: \n",
        "        >>> from textaugment import Word2vec\n",
        "        >>> t = Word2vec('path/to/gensim/model'or 'gensim model itself')\n",
        "        >>> t.augment('I love school')\n",
        "        i adore school\n",
        "    \"\"\"\n",
        "    \n",
        "    def __init__(self, **kwargs):\n",
        "        \"\"\"\n",
        "        A method to initialize a model on a given path.\n",
        "        :type random_state: int, float, str, bytes, bytearray\n",
        "        :param random_state: seed\n",
        "        :type model: str or gensim.models.word2vec.Word2Vec\n",
        "        :param model: The path to the model or the model itself.\n",
        "        :type runs: int, optional\n",
        "        :param runs: The number of times to augment a sentence. By default is 1.\n",
        "        :type v: bool or optional\n",
        "        :param v: Replace all the words if true. If false randomly replace words.\n",
        "                Used in a Paper (https://www.cs.cmu.edu/~diyiy/docs/emnlp_wang_2015.pdf)\n",
        "        :type p: float, optional\n",
        "        :param p: The probability of success of an individual trial. (0.1<p<1.0), default is 0.5\n",
        "        \"\"\"\n",
        "\n",
        "        # Set random state\n",
        "        if 'random_state' in kwargs:\n",
        "            self.random_state = kwargs['random_state']\n",
        "            if isinstance(self.random_state, int):\n",
        "                random.seed(self.random_state)\n",
        "                np.random.seed(self.random_state)\n",
        "            else:\n",
        "                raise TypeError(\"random_state must have type int\")\n",
        "\n",
        "        # Set verbose to false if does not exists\n",
        "        try:\n",
        "            if kwargs['v']: \n",
        "                self.v = True\n",
        "            else:\n",
        "                self.v = False\n",
        "        except KeyError:\n",
        "            self.v = False\n",
        "\n",
        "        try:\n",
        "            if \"p\" in kwargs:\n",
        "                if type(kwargs['p']) is not float:\n",
        "                    raise TypeError(\"p represent probability of success and must be a float from 0.1 to 0.9. E.g p=0.5\")\n",
        "                elif type(kwargs['p']) is float:\n",
        "                    self.p = kwargs['p']\n",
        "            else:\n",
        "                kwargs['p'] = 0.5  # Set default value\n",
        "        except KeyError:\n",
        "            raise\n",
        "\n",
        "        # Error handling of given parameters\n",
        "        try:\n",
        "            if \"runs\" not in kwargs:\n",
        "                kwargs[\"runs\"] = 1  # Default value for runs\n",
        "            elif type(kwargs[\"runs\"]) is not int:\n",
        "                raise TypeError(\"DataType for 'runs' must be an integer\")\n",
        "            if \"model\" not in kwargs:\n",
        "                raise ValueError(\"Set the value of model. e.g model='path/to/model' or model itself\")\n",
        "            if type(kwargs['model']) not in [str,\n",
        "                                             gensim.models.word2vec.Word2Vec,\n",
        "                                             gensim.models.keyedvectors.Word2VecKeyedVectors,\n",
        "                                            gensim.models.keyedvectors.FastTextKeyedVectors]:\n",
        "                raise TypeError(\"Model path must be a string. \"\n",
        "                                \"Or type of model must be a gensim.models.word2vec.Word2Vec or \"\n",
        "                                \"gensim.models.keyedvectors.Word2VecKeyedVectors or \"\n",
        "                                \"gensim.models.keyedvectors.FastTextKeyedVectors type. \"\n",
        "                                \"To load a model use gensim.models.Word2Vec.load('path')\")\n",
        "        except (ValueError, TypeError):\n",
        "            raise\n",
        "        else:\n",
        "            self.runs = kwargs[\"runs\"] \n",
        "            self.model = kwargs[\"model\"]\n",
        "            self.p = kwargs[\"p\"]\n",
        "            try:\n",
        "                if type(self.model) is str:\n",
        "                    self.model = gensim.models.Word2Vec.load(self.model)\n",
        "            except FileNotFoundError:\n",
        "                print(\"Error: Model not found. Verify the path.\\n\")\n",
        "                raise\n",
        "\n",
        "    def geometric(self, data):\n",
        "        \"\"\"\n",
        "        Used to generate Geometric distribution.\n",
        "        :type data: list\n",
        "        :param data: Input data\n",
        "        :rtype:   ndarray or scalar\n",
        "        :return:  Drawn samples from the parameterized Geometric distribution.\n",
        "        \"\"\"\n",
        "\n",
        "        data = np.array(data)\n",
        "        first_trial = np.random.geometric(p=self.p, size=data.shape[0]) == 1  # Capture success after first trial\n",
        "        return data[first_trial]\n",
        "\n",
        "    def augment(self, data):\n",
        "        \"\"\"\n",
        "        The method to replace words with similar words.\n",
        "        \n",
        "        :type data: str\n",
        "        :param data: Input data\n",
        "        :rtype:   str\n",
        "        :return:  The augmented data\n",
        "        \"\"\"\n",
        "        \n",
        "        # Avoid nulls and other unsupported types\n",
        "        if type(data) is not str: \n",
        "            raise TypeError(\"Only strings are supported\")\n",
        "        # Lower case and split\n",
        "        data_tokens = data.lower().split()\n",
        "\n",
        "        # Verbose = True then replace all the words.\n",
        "        if self.v:\n",
        "            for _ in range(self.runs):\n",
        "                for index in range(len(data_tokens)):  # Index from 0 to length of data_tokens\n",
        "                    try:\n",
        "                        similar_words = [syn for syn, t in self.model.most_similar(data_tokens[index])]\n",
        "                        r = random.randrange(len(similar_words))\n",
        "                        data_tokens[index] = similar_words[r].lower()  # Replace with random synonym from 10 synonyms\n",
        "                    except KeyError:\n",
        "                        pass  # For words not in the word2vec model\n",
        "        else:  # Randomly replace some words\n",
        "            for _ in range(self.runs):\n",
        "                data_tokens_idx = [[x, y] for (x, y) in enumerate(data_tokens)]  # Enumerate data\n",
        "                words = self.geometric(data=data_tokens_idx).tolist()  # List of words indexed\n",
        "                for w in words:\n",
        "                    try:\n",
        "                        similar_words_and_weights = [(syn, t) for syn, t in get_similar_words(w[1])]\n",
        "                        similar_words = [word for word, t in similar_words_and_weights]\n",
        "                        similar_words_weights = [t for word, t in similar_words_and_weights]\n",
        "                        word = random.choices(similar_words, similar_words_weights, k=1)\n",
        "                        data_tokens[int(w[0])] = word[0].lower()  # Replace with random synonym from 10 synonyms\n",
        "                    except KeyError:\n",
        "                        pass\n",
        "            return \" \".join(data_tokens)\n",
        "        return \" \".join(data_tokens)"
      ],
      "metadata": {
        "id": "DetTlHaGKs4p"
      },
      "execution_count": null,
      "outputs": []
    },
    {
      "cell_type": "code",
      "source": [
        "marivate_augmener = Word2vec(model=word2vec_model, runs=1, v=False, p=0.5)"
      ],
      "metadata": {
        "id": "4mTTkBiXKsye"
      },
      "execution_count": null,
      "outputs": []
    },
    {
      "cell_type": "code",
      "source": [
        "def marivate_augmentation(prepro_dataset, lable, sent_num=5):\n",
        "  texts = prepro_dataset.loc[prepro_dataset['label'] == lable]['text'].values\n",
        "  texts_num = len(texts)\n",
        "  new_texts = []\n",
        "  i = 0\n",
        "  \n",
        "  for text in texts:\n",
        "    if i % 20 == 0:\n",
        "      print(f\" {int(100*i/texts_num)} %\")\n",
        "    for j in range(sent_num):\n",
        "      new_texts.append(marivate_augmener.augment(text))\n",
        "    i += 1\n",
        "  augmentations = prepro_dataset[['text', 'label']].copy().append(pd.DataFrame({'label':[lable] * len(new_texts), 'text':new_texts}), ignore_index = True)\n",
        "  augmentations.drop_duplicates(inplace=True)\n",
        "  return augmentations.sample(frac=1)"
      ],
      "metadata": {
        "id": "3q6ypttbK5tM"
      },
      "execution_count": null,
      "outputs": []
    },
    {
      "cell_type": "code",
      "source": [
        "augmented_dataset = marivate_augmentation(train_data, lable=1, sent_num=3)"
      ],
      "metadata": {
        "colab": {
          "base_uri": "https://localhost:8080/"
        },
        "id": "QM8ZM50v8rzM",
        "outputId": "02843305-1d6e-4235-cc93-4c17223ab29e"
      },
      "execution_count": null,
      "outputs": [
        {
          "output_type": "stream",
          "name": "stdout",
          "text": [
            " 0 %\n",
            " 12 %\n",
            " 25 %\n",
            " 38 %\n",
            " 51 %\n",
            " 64 %\n",
            " 77 %\n",
            " 90 %\n"
          ]
        },
        {
          "output_type": "stream",
          "name": "stderr",
          "text": [
            "<ipython-input-20-27a6d5a3b793>:13: FutureWarning: The frame.append method is deprecated and will be removed from pandas in a future version. Use pandas.concat instead.\n",
            "  augmentations = prepro_dataset[['text', 'label']].copy().append(pd.DataFrame({'label':[lable] * len(new_texts), 'text':new_texts}), ignore_index = True)\n"
          ]
        }
      ]
    },
    {
      "cell_type": "code",
      "source": [
        "augmented_dataset"
      ],
      "metadata": {
        "colab": {
          "base_uri": "https://localhost:8080/",
          "height": 423
        },
        "id": "-4ogeJR0K9hi",
        "outputId": "8cd3f18f-2ed7-4b3a-a3f7-1d5c0b8e9750"
      },
      "execution_count": null,
      "outputs": [
        {
          "output_type": "execute_result",
          "data": {
            "text/plain": [
              "                                                   text  label\n",
              "1229  rash skin spread sections decomposing_body inc...      1\n",
              "114   chronic cough limb weakness ive dealing excruc...      0\n",
              "247   nails slightly dented joints experiencing excr...      1\n",
              "390   im suffering severe itching chills vomiting hi...      0\n",
              "632   ive suffering severe itching body driving insa...      1\n",
              "...                                                 ...    ...\n",
              "587   lot itching skin gets really red bumpy patches...      0\n",
              "152   skin acquired nasty rash pusfilled pimples bla...      1\n",
              "773   ive lot trouble going bathroom lately really p...      0\n",
              "459   morning realized major rash body lots pimples ...      1\n",
              "499   pain persistent cough numbness arms legs bothe...      0\n",
              "\n",
              "[1380 rows x 2 columns]"
            ],
            "text/html": [
              "\n",
              "  <div id=\"df-9d34f2b9-d8c3-494b-8531-ac3aa844114d\">\n",
              "    <div class=\"colab-df-container\">\n",
              "      <div>\n",
              "<style scoped>\n",
              "    .dataframe tbody tr th:only-of-type {\n",
              "        vertical-align: middle;\n",
              "    }\n",
              "\n",
              "    .dataframe tbody tr th {\n",
              "        vertical-align: top;\n",
              "    }\n",
              "\n",
              "    .dataframe thead th {\n",
              "        text-align: right;\n",
              "    }\n",
              "</style>\n",
              "<table border=\"1\" class=\"dataframe\">\n",
              "  <thead>\n",
              "    <tr style=\"text-align: right;\">\n",
              "      <th></th>\n",
              "      <th>text</th>\n",
              "      <th>label</th>\n",
              "    </tr>\n",
              "  </thead>\n",
              "  <tbody>\n",
              "    <tr>\n",
              "      <th>1229</th>\n",
              "      <td>rash skin spread sections decomposing_body inc...</td>\n",
              "      <td>1</td>\n",
              "    </tr>\n",
              "    <tr>\n",
              "      <th>114</th>\n",
              "      <td>chronic cough limb weakness ive dealing excruc...</td>\n",
              "      <td>0</td>\n",
              "    </tr>\n",
              "    <tr>\n",
              "      <th>247</th>\n",
              "      <td>nails slightly dented joints experiencing excr...</td>\n",
              "      <td>1</td>\n",
              "    </tr>\n",
              "    <tr>\n",
              "      <th>390</th>\n",
              "      <td>im suffering severe itching chills vomiting hi...</td>\n",
              "      <td>0</td>\n",
              "    </tr>\n",
              "    <tr>\n",
              "      <th>632</th>\n",
              "      <td>ive suffering severe itching body driving insa...</td>\n",
              "      <td>1</td>\n",
              "    </tr>\n",
              "    <tr>\n",
              "      <th>...</th>\n",
              "      <td>...</td>\n",
              "      <td>...</td>\n",
              "    </tr>\n",
              "    <tr>\n",
              "      <th>587</th>\n",
              "      <td>lot itching skin gets really red bumpy patches...</td>\n",
              "      <td>0</td>\n",
              "    </tr>\n",
              "    <tr>\n",
              "      <th>152</th>\n",
              "      <td>skin acquired nasty rash pusfilled pimples bla...</td>\n",
              "      <td>1</td>\n",
              "    </tr>\n",
              "    <tr>\n",
              "      <th>773</th>\n",
              "      <td>ive lot trouble going bathroom lately really p...</td>\n",
              "      <td>0</td>\n",
              "    </tr>\n",
              "    <tr>\n",
              "      <th>459</th>\n",
              "      <td>morning realized major rash body lots pimples ...</td>\n",
              "      <td>1</td>\n",
              "    </tr>\n",
              "    <tr>\n",
              "      <th>499</th>\n",
              "      <td>pain persistent cough numbness arms legs bothe...</td>\n",
              "      <td>0</td>\n",
              "    </tr>\n",
              "  </tbody>\n",
              "</table>\n",
              "<p>1380 rows × 2 columns</p>\n",
              "</div>\n",
              "      <button class=\"colab-df-convert\" onclick=\"convertToInteractive('df-9d34f2b9-d8c3-494b-8531-ac3aa844114d')\"\n",
              "              title=\"Convert this dataframe to an interactive table.\"\n",
              "              style=\"display:none;\">\n",
              "        \n",
              "  <svg xmlns=\"http://www.w3.org/2000/svg\" height=\"24px\"viewBox=\"0 0 24 24\"\n",
              "       width=\"24px\">\n",
              "    <path d=\"M0 0h24v24H0V0z\" fill=\"none\"/>\n",
              "    <path d=\"M18.56 5.44l.94 2.06.94-2.06 2.06-.94-2.06-.94-.94-2.06-.94 2.06-2.06.94zm-11 1L8.5 8.5l.94-2.06 2.06-.94-2.06-.94L8.5 2.5l-.94 2.06-2.06.94zm10 10l.94 2.06.94-2.06 2.06-.94-2.06-.94-.94-2.06-.94 2.06-2.06.94z\"/><path d=\"M17.41 7.96l-1.37-1.37c-.4-.4-.92-.59-1.43-.59-.52 0-1.04.2-1.43.59L10.3 9.45l-7.72 7.72c-.78.78-.78 2.05 0 2.83L4 21.41c.39.39.9.59 1.41.59.51 0 1.02-.2 1.41-.59l7.78-7.78 2.81-2.81c.8-.78.8-2.07 0-2.86zM5.41 20L4 18.59l7.72-7.72 1.47 1.35L5.41 20z\"/>\n",
              "  </svg>\n",
              "      </button>\n",
              "      \n",
              "  <style>\n",
              "    .colab-df-container {\n",
              "      display:flex;\n",
              "      flex-wrap:wrap;\n",
              "      gap: 12px;\n",
              "    }\n",
              "\n",
              "    .colab-df-convert {\n",
              "      background-color: #E8F0FE;\n",
              "      border: none;\n",
              "      border-radius: 50%;\n",
              "      cursor: pointer;\n",
              "      display: none;\n",
              "      fill: #1967D2;\n",
              "      height: 32px;\n",
              "      padding: 0 0 0 0;\n",
              "      width: 32px;\n",
              "    }\n",
              "\n",
              "    .colab-df-convert:hover {\n",
              "      background-color: #E2EBFA;\n",
              "      box-shadow: 0px 1px 2px rgba(60, 64, 67, 0.3), 0px 1px 3px 1px rgba(60, 64, 67, 0.15);\n",
              "      fill: #174EA6;\n",
              "    }\n",
              "\n",
              "    [theme=dark] .colab-df-convert {\n",
              "      background-color: #3B4455;\n",
              "      fill: #D2E3FC;\n",
              "    }\n",
              "\n",
              "    [theme=dark] .colab-df-convert:hover {\n",
              "      background-color: #434B5C;\n",
              "      box-shadow: 0px 1px 3px 1px rgba(0, 0, 0, 0.15);\n",
              "      filter: drop-shadow(0px 1px 2px rgba(0, 0, 0, 0.3));\n",
              "      fill: #FFFFFF;\n",
              "    }\n",
              "  </style>\n",
              "\n",
              "      <script>\n",
              "        const buttonEl =\n",
              "          document.querySelector('#df-9d34f2b9-d8c3-494b-8531-ac3aa844114d button.colab-df-convert');\n",
              "        buttonEl.style.display =\n",
              "          google.colab.kernel.accessAllowed ? 'block' : 'none';\n",
              "\n",
              "        async function convertToInteractive(key) {\n",
              "          const element = document.querySelector('#df-9d34f2b9-d8c3-494b-8531-ac3aa844114d');\n",
              "          const dataTable =\n",
              "            await google.colab.kernel.invokeFunction('convertToInteractive',\n",
              "                                                     [key], {});\n",
              "          if (!dataTable) return;\n",
              "\n",
              "          const docLinkHtml = 'Like what you see? Visit the ' +\n",
              "            '<a target=\"_blank\" href=https://colab.research.google.com/notebooks/data_table.ipynb>data table notebook</a>'\n",
              "            + ' to learn more about interactive tables.';\n",
              "          element.innerHTML = '';\n",
              "          dataTable['output_type'] = 'display_data';\n",
              "          await google.colab.output.renderOutput(dataTable, element);\n",
              "          const docLink = document.createElement('div');\n",
              "          docLink.innerHTML = docLinkHtml;\n",
              "          element.appendChild(docLink);\n",
              "        }\n",
              "      </script>\n",
              "    </div>\n",
              "  </div>\n",
              "  "
            ]
          },
          "metadata": {},
          "execution_count": 46
        }
      ]
    },
    {
      "cell_type": "code",
      "source": [
        "get_dataset_statistics(augmented_dataset)"
      ],
      "metadata": {
        "colab": {
          "base_uri": "https://localhost:8080/",
          "height": 499
        },
        "id": "QjT8rk3WK9Wn",
        "outputId": "9e8dd123-ba41-495b-9322-ccae2da94afb"
      },
      "execution_count": null,
      "outputs": [
        {
          "output_type": "display_data",
          "data": {
            "text/plain": [
              "<Figure size 600x600 with 1 Axes>"
            ],
            "image/png": "[encoded data removed]"
          },
          "metadata": {}
        }
      ]
    },
    {
      "cell_type": "code",
      "source": [
        "aug_X_train = np.stack(np.array([get_text_vec(sms_text) for sms_text in augmented_dataset['text'].values]))"
      ],
      "metadata": {
        "id": "jSsxjKDtK_ei"
      },
      "execution_count": null,
      "outputs": []
    },
    {
      "cell_type": "code",
      "source": [
        "aug_X_train.shape"
      ],
      "metadata": {
        "colab": {
          "base_uri": "https://localhost:8080/"
        },
        "id": "4aBer-ZKK_Tb",
        "outputId": "ab063ba0-3dc3-4398-b14a-2a14df78a9af"
      },
      "execution_count": null,
      "outputs": [
        {
          "output_type": "execute_result",
          "data": {
            "text/plain": [
              "(1380, 300)"
            ]
          },
          "metadata": {},
          "execution_count": 49
        }
      ]
    },
    {
      "cell_type": "code",
      "source": [
        "aug_y_train = augmented_dataset['label'].values"
      ],
      "metadata": {
        "id": "e_egTwCfLFjg"
      },
      "execution_count": null,
      "outputs": []
    },
    {
      "cell_type": "code",
      "source": [
        "aug_y_train.shape"
      ],
      "metadata": {
        "colab": {
          "base_uri": "https://localhost:8080/"
        },
        "id": "sHgwwj3RLFYP",
        "outputId": "9aca4309-8342-4ec3-8819-65826e56cbd1"
      },
      "execution_count": null,
      "outputs": [
        {
          "output_type": "execute_result",
          "data": {
            "text/plain": [
              "(1380,)"
            ]
          },
          "metadata": {},
          "execution_count": 51
        }
      ]
    },
    {
      "cell_type": "code",
      "source": [
        "evaluation_metrics_aug = pd.DataFrame(columns = ['Recall', 'Precision', 'F1 score', 'F2 score'])"
      ],
      "metadata": {
        "id": "hFk8uwRhLFMD"
      },
      "execution_count": null,
      "outputs": []
    },
    {
      "cell_type": "markdown",
      "metadata": {
        "id": "y9XIrUB5FhnC"
      },
      "source": [
        "#Random Forest"
      ]
    },
    {
      "cell_type": "code",
      "source": [
        "train(1, aug_X_train, aug_y_train, X_test, y_test, evaluation_metrics_aug, to_save=True, file_name='TDAS_RF')"
      ],
      "metadata": {
        "colab": {
          "base_uri": "https://localhost:8080/",
          "height": 763
        },
        "id": "SJRy4IaUEOpf",
        "outputId": "841ea142-6ff5-4e13-993c-f23b3ff6398a"
      },
      "execution_count": null,
      "outputs": [
        {
          "output_type": "stream",
          "name": "stdout",
          "text": [
            "train accuracy = 0.9442028985507246\n",
            "test accuracy = 0.8961038961038961\n",
            "Recall = 0.8205128205128205\n",
            "Precision = 0.6530612244897959\n",
            "F1 score = 0.7272727272727272\n",
            "F2 score = 0.7804878048780486\n",
            "              precision    recall  f1-score   support\n",
            "\n",
            "           0       0.96      0.91      0.94       192\n",
            "           1       0.65      0.82      0.73        39\n",
            "\n",
            "    accuracy                           0.90       231\n",
            "   macro avg       0.81      0.87      0.83       231\n",
            "weighted avg       0.91      0.90      0.90       231\n",
            "\n"
          ]
        },
        {
          "output_type": "display_data",
          "data": {
            "text/plain": [
              "<Figure size 640x480 with 2 Axes>"
            ],
            "image/png": "[encoded data removed]"
          },
          "metadata": {}
        },
        {
          "output_type": "stream",
          "name": "stdout",
          "text": [
            "{'criterion': 'entropy', 'max_depth': 5, 'max_features': 10, 'min_samples_split': 25, 'n_estimators': 150}\n"
          ]
        },
        {
          "output_type": "execute_result",
          "data": {
            "text/plain": [
              "(0.7272727272727272, 0.7804878048780486)"
            ]
          },
          "metadata": {},
          "execution_count": 54
        }
      ]
    },
    {
      "cell_type": "markdown",
      "metadata": {
        "id": "XmwRxKxMe-Uf"
      },
      "source": [
        "#SVM"
      ]
    },
    {
      "cell_type": "code",
      "source": [
        "train(2, aug_X_train, aug_y_train, X_test, y_test, evaluation_metrics_aug, to_save=True, file_name='TDAS_SVM')"
      ],
      "metadata": {
        "colab": {
          "base_uri": "https://localhost:8080/",
          "height": 763
        },
        "id": "artf7Zr3ERCz",
        "outputId": "5946984e-a8cb-4397-987a-b673df633582"
      },
      "execution_count": null,
      "outputs": [
        {
          "output_type": "stream",
          "name": "stdout",
          "text": [
            "train accuracy = 0.9927536231884058\n",
            "test accuracy = 0.974025974025974\n",
            "Recall = 0.9743589743589743\n",
            "Precision = 0.8837209302325582\n",
            "F1 score = 0.9268292682926831\n",
            "F2 score = 0.9547738693467336\n",
            "              precision    recall  f1-score   support\n",
            "\n",
            "           0       0.99      0.97      0.98       192\n",
            "           1       0.88      0.97      0.93        39\n",
            "\n",
            "    accuracy                           0.97       231\n",
            "   macro avg       0.94      0.97      0.96       231\n",
            "weighted avg       0.98      0.97      0.97       231\n",
            "\n"
          ]
        },
        {
          "output_type": "display_data",
          "data": {
            "text/plain": [
              "<Figure size 640x480 with 2 Axes>"
            ],
            "image/png": "[encoded data removed]"
          },
          "metadata": {}
        },
        {
          "output_type": "stream",
          "name": "stdout",
          "text": [
            "{'degree': 3, 'kernel': 'poly'}\n"
          ]
        },
        {
          "output_type": "execute_result",
          "data": {
            "text/plain": [
              "(0.9268292682926831, 0.9547738693467336)"
            ]
          },
          "metadata": {},
          "execution_count": 55
        }
      ]
    },
    {
      "cell_type": "code",
      "execution_count": null,
      "metadata": {
        "id": "84vjlbvK2YJ_",
        "colab": {
          "base_uri": "https://localhost:8080/",
          "height": 112
        },
        "outputId": "6121fa19-1980-49d8-ae70-363835b5c395"
      },
      "outputs": [
        {
          "output_type": "execute_result",
          "data": {
            "text/plain": [
              "                Recall Precision  F1 score  F2 score\n",
              "RandomForest  0.820513  0.653061  0.727273  0.780488\n",
              "SVM           0.974359  0.883721  0.926829  0.954774"
            ],
            "text/html": [
              "\n",
              "  <div id=\"df-305e4d8a-3367-40db-be6b-d8bedf588424\">\n",
              "    <div class=\"colab-df-container\">\n",
              "      <div>\n",
              "<style scoped>\n",
              "    .dataframe tbody tr th:only-of-type {\n",
              "        vertical-align: middle;\n",
              "    }\n",
              "\n",
              "    .dataframe tbody tr th {\n",
              "        vertical-align: top;\n",
              "    }\n",
              "\n",
              "    .dataframe thead th {\n",
              "        text-align: right;\n",
              "    }\n",
              "</style>\n",
              "<table border=\"1\" class=\"dataframe\">\n",
              "  <thead>\n",
              "    <tr style=\"text-align: right;\">\n",
              "      <th></th>\n",
              "      <th>Recall</th>\n",
              "      <th>Precision</th>\n",
              "      <th>F1 score</th>\n",
              "      <th>F2 score</th>\n",
              "    </tr>\n",
              "  </thead>\n",
              "  <tbody>\n",
              "    <tr>\n",
              "      <th>RandomForest</th>\n",
              "      <td>0.820513</td>\n",
              "      <td>0.653061</td>\n",
              "      <td>0.727273</td>\n",
              "      <td>0.780488</td>\n",
              "    </tr>\n",
              "    <tr>\n",
              "      <th>SVM</th>\n",
              "      <td>0.974359</td>\n",
              "      <td>0.883721</td>\n",
              "      <td>0.926829</td>\n",
              "      <td>0.954774</td>\n",
              "    </tr>\n",
              "  </tbody>\n",
              "</table>\n",
              "</div>\n",
              "      <button class=\"colab-df-convert\" onclick=\"convertToInteractive('df-305e4d8a-3367-40db-be6b-d8bedf588424')\"\n",
              "              title=\"Convert this dataframe to an interactive table.\"\n",
              "              style=\"display:none;\">\n",
              "        \n",
              "  <svg xmlns=\"http://www.w3.org/2000/svg\" height=\"24px\"viewBox=\"0 0 24 24\"\n",
              "       width=\"24px\">\n",
              "    <path d=\"M0 0h24v24H0V0z\" fill=\"none\"/>\n",
              "    <path d=\"M18.56 5.44l.94 2.06.94-2.06 2.06-.94-2.06-.94-.94-2.06-.94 2.06-2.06.94zm-11 1L8.5 8.5l.94-2.06 2.06-.94-2.06-.94L8.5 2.5l-.94 2.06-2.06.94zm10 10l.94 2.06.94-2.06 2.06-.94-2.06-.94-.94-2.06-.94 2.06-2.06.94z\"/><path d=\"M17.41 7.96l-1.37-1.37c-.4-.4-.92-.59-1.43-.59-.52 0-1.04.2-1.43.59L10.3 9.45l-7.72 7.72c-.78.78-.78 2.05 0 2.83L4 21.41c.39.39.9.59 1.41.59.51 0 1.02-.2 1.41-.59l7.78-7.78 2.81-2.81c.8-.78.8-2.07 0-2.86zM5.41 20L4 18.59l7.72-7.72 1.47 1.35L5.41 20z\"/>\n",
              "  </svg>\n",
              "      </button>\n",
              "      \n",
              "  <style>\n",
              "    .colab-df-container {\n",
              "      display:flex;\n",
              "      flex-wrap:wrap;\n",
              "      gap: 12px;\n",
              "    }\n",
              "\n",
              "    .colab-df-convert {\n",
              "      background-color: #E8F0FE;\n",
              "      border: none;\n",
              "      border-radius: 50%;\n",
              "      cursor: pointer;\n",
              "      display: none;\n",
              "      fill: #1967D2;\n",
              "      height: 32px;\n",
              "      padding: 0 0 0 0;\n",
              "      width: 32px;\n",
              "    }\n",
              "\n",
              "    .colab-df-convert:hover {\n",
              "      background-color: #E2EBFA;\n",
              "      box-shadow: 0px 1px 2px rgba(60, 64, 67, 0.3), 0px 1px 3px 1px rgba(60, 64, 67, 0.15);\n",
              "      fill: #174EA6;\n",
              "    }\n",
              "\n",
              "    [theme=dark] .colab-df-convert {\n",
              "      background-color: #3B4455;\n",
              "      fill: #D2E3FC;\n",
              "    }\n",
              "\n",
              "    [theme=dark] .colab-df-convert:hover {\n",
              "      background-color: #434B5C;\n",
              "      box-shadow: 0px 1px 3px 1px rgba(0, 0, 0, 0.15);\n",
              "      filter: drop-shadow(0px 1px 2px rgba(0, 0, 0, 0.3));\n",
              "      fill: #FFFFFF;\n",
              "    }\n",
              "  </style>\n",
              "\n",
              "      <script>\n",
              "        const buttonEl =\n",
              "          document.querySelector('#df-305e4d8a-3367-40db-be6b-d8bedf588424 button.colab-df-convert');\n",
              "        buttonEl.style.display =\n",
              "          google.colab.kernel.accessAllowed ? 'block' : 'none';\n",
              "\n",
              "        async function convertToInteractive(key) {\n",
              "          const element = document.querySelector('#df-305e4d8a-3367-40db-be6b-d8bedf588424');\n",
              "          const dataTable =\n",
              "            await google.colab.kernel.invokeFunction('convertToInteractive',\n",
              "                                                     [key], {});\n",
              "          if (!dataTable) return;\n",
              "\n",
              "          const docLinkHtml = 'Like what you see? Visit the ' +\n",
              "            '<a target=\"_blank\" href=https://colab.research.google.com/notebooks/data_table.ipynb>data table notebook</a>'\n",
              "            + ' to learn more about interactive tables.';\n",
              "          element.innerHTML = '';\n",
              "          dataTable['output_type'] = 'display_data';\n",
              "          await google.colab.output.renderOutput(dataTable, element);\n",
              "          const docLink = document.createElement('div');\n",
              "          docLink.innerHTML = docLinkHtml;\n",
              "          element.appendChild(docLink);\n",
              "        }\n",
              "      </script>\n",
              "    </div>\n",
              "  </div>\n",
              "  "
            ]
          },
          "metadata": {},
          "execution_count": 56
        }
      ],
      "source": [
        "evaluation_metrics_aug"
      ]
    },
    {
      "cell_type": "markdown",
      "metadata": {
        "id": "NBKdcusiewBl"
      },
      "source": [
        "#BiLSTM"
      ]
    },
    {
      "cell_type": "code",
      "execution_count": null,
      "metadata": {
        "id": "rx-x05DdewcE"
      },
      "outputs": [],
      "source": [
        "import random\n",
        "import tensorflow as tf \n",
        "from tensorflow import keras \n",
        "from tensorflow.keras import layers\n",
        "from sklearn.metrics import ConfusionMatrixDisplay\n",
        "from tensorflow.keras.layers import Dropout\n",
        "from tensorflow.keras.regularizers import L1L2\n",
        "from sklearn.model_selection import StratifiedKFold"
      ]
    },
    {
      "cell_type": "code",
      "source": [
        "text_words_lengths = [len(raw_data.loc[i]['text'].split()) for i in raw_data.index ]\n",
        "total_length = np.sum(text_words_lengths)\n",
        "text_words_mean = int(np.mean(text_words_lengths))"
      ],
      "metadata": {
        "id": "TPqGbu_1DECE"
      },
      "execution_count": null,
      "outputs": []
    },
    {
      "cell_type": "code",
      "source": [
        "def create_blstm_model(sent_length, words_mean, train_texts):\n",
        "\n",
        "  text_vec = layers.TextVectorization( \n",
        "    max_tokens=sent_length,\n",
        "    standardize='lower_and_strip_punctuation',\n",
        "    output_mode='int',\n",
        "    output_sequence_length=words_mean\n",
        "  )\n",
        "\n",
        "  text_vec.adapt(train_texts)\n",
        "\n",
        "  embedding_layer = layers.Embedding(\n",
        "    input_dim=sent_length,\n",
        "    output_dim=128,\n",
        "    embeddings_initializer='uniform',\n",
        "    input_length=words_mean\n",
        "  )\n",
        "\n",
        "  input_layer = layers.Input(shape=(1,), dtype=tf.string) \n",
        "\n",
        "  vec_layer = text_vec(input_layer)\n",
        "  embedding_layer_model = embedding_layer(vec_layer) \n",
        "\n",
        "  bi_lstm = layers.Bidirectional(layers.LSTM(64, activation='tanh', return_sequences=True, kernel_regularizer = L1L2(l1=0.01, l2=0.0)))(embedding_layer_model) \n",
        "\n",
        "  flatten = layers.Flatten()(bi_lstm) \n",
        "  dropout = layers.Dropout(.1)(flatten) \n",
        "\n",
        "  x = layers.Dense(32, activation='relu')(dropout) \n",
        "\n",
        "  output_layer = layers.Dense(1, activation='sigmoid')(x) \n",
        "\n",
        "  blstm_model = keras.Model(input_layer, output_layer) \n",
        "\n",
        "  blstm_model.compile(optimizer=keras.optimizers.Adam(),\n",
        "                loss=keras.losses.BinaryCrossentropy(),\n",
        "                metrics=['accuracy'])  \n",
        "  \n",
        "  return blstm_model"
      ],
      "metadata": {
        "id": "w-jXBzXMC1W0"
      },
      "execution_count": null,
      "outputs": []
    },
    {
      "cell_type": "markdown",
      "source": [
        "# Cross Validation"
      ],
      "metadata": {
        "id": "DjMoQejP4E-0"
      }
    },
    {
      "cell_type": "code",
      "source": [
        "def cv_blstm(sent_length, words_mean):\n",
        "\n",
        "  kf = StratifiedKFold(10, shuffle=True, random_state=42) \n",
        "  cv_metrics = pd.DataFrame(columns = ['Recall', 'Precision', 'F1 score', 'F2 score'])\n",
        "\n",
        "  fold = 0\n",
        "\n",
        "  X = augmented_dataset['text'].values\n",
        "  Y = augmented_dataset['label'].values\n",
        "\n",
        "  for train, val in kf.split(X, Y):  \n",
        "  \n",
        "    print(f\"Fold {fold}\")\n",
        "\n",
        "    train_texts = X[train]\n",
        "    train_labels = Y[train]\n",
        "    test_texts = X[val]\n",
        "    test_labels = Y[val]\n",
        "\n",
        "    blstm_model = create_blstm_model(sent_length, words_mean, train_texts)\n",
        "\n",
        "    history = blstm_model.fit(train_texts,\n",
        "                              train_labels,\n",
        "                              epochs=10,\n",
        "                              batch_size=16,\n",
        "                              validation_data=(test_texts, test_labels))\n",
        "\n",
        "    blstm_model.evaluate(test_texts, test_labels)\n",
        "    y_pred = np.round(blstm_model.predict(test_texts))\n",
        "\n",
        "    f1_sc = f1_score(test_labels, y_pred)\n",
        "    f2score = fbeta_score(test_labels, y_pred, beta=2, average='binary')\n",
        "\n",
        "    cv_metrics.loc[fold, 'Recall'] = recall_score(test_labels, y_pred)\n",
        "    cv_metrics.loc[fold, 'Precision'] = precision_score(test_labels, y_pred)\n",
        "    cv_metrics.loc[fold, 'F1 score'] = f1_sc\n",
        "    cv_metrics.loc[fold, 'F2 score'] = f2score\n",
        "    \n",
        "    fold += 1\n",
        "\n",
        "  return cv_metrics"
      ],
      "metadata": {
        "id": "nskPKjP44FY-"
      },
      "execution_count": null,
      "outputs": []
    },
    {
      "cell_type": "code",
      "source": [
        "cv_results = cv_blstm(total_length, text_words_mean)"
      ],
      "metadata": {
        "colab": {
          "base_uri": "https://localhost:8080/"
        },
        "id": "9mw8EHs44GEm",
        "outputId": "16569aed-9c21-41d1-826e-48369891d9e3"
      },
      "execution_count": null,
      "outputs": [
        {
          "output_type": "stream",
          "name": "stdout",
          "text": [
            "Fold 0\n",
            "Epoch 1/10\n",
            "78/78 [==============================] - 18s 113ms/step - loss: 21.7036 - accuracy: 0.8551 - val_loss: 6.4032 - val_accuracy: 0.9710\n",
            "Epoch 2/10\n",
            "78/78 [==============================] - 3s 40ms/step - loss: 1.7179 - accuracy: 0.9839 - val_loss: 0.2308 - val_accuracy: 0.9855\n",
            "Epoch 3/10\n",
            "78/78 [==============================] - 2s 24ms/step - loss: 0.2082 - accuracy: 0.9944 - val_loss: 0.2506 - val_accuracy: 0.9783\n",
            "Epoch 4/10\n",
            "78/78 [==============================] - 1s 16ms/step - loss: 0.1310 - accuracy: 0.9992 - val_loss: 0.3831 - val_accuracy: 0.9493\n",
            "Epoch 5/10\n",
            "78/78 [==============================] - 1s 16ms/step - loss: 0.2362 - accuracy: 0.9976 - val_loss: 0.2012 - val_accuracy: 0.9855\n",
            "Epoch 6/10\n",
            "78/78 [==============================] - 1s 14ms/step - loss: 0.1178 - accuracy: 0.9992 - val_loss: 0.1580 - val_accuracy: 0.9855\n",
            "Epoch 7/10\n",
            "78/78 [==============================] - 1s 13ms/step - loss: 0.1304 - accuracy: 0.9960 - val_loss: 0.1787 - val_accuracy: 0.9855\n",
            "Epoch 8/10\n",
            "78/78 [==============================] - 1s 18ms/step - loss: 0.1037 - accuracy: 1.0000 - val_loss: 0.1175 - val_accuracy: 0.9783\n",
            "Epoch 9/10\n",
            "78/78 [==============================] - 1s 11ms/step - loss: 0.0827 - accuracy: 1.0000 - val_loss: 0.1121 - val_accuracy: 0.9928\n",
            "Epoch 10/10\n",
            "78/78 [==============================] - 1s 16ms/step - loss: 0.1443 - accuracy: 0.9984 - val_loss: 0.2569 - val_accuracy: 0.9783\n",
            "5/5 [==============================] - 0s 5ms/step - loss: 0.2569 - accuracy: 0.9783\n",
            "5/5 [==============================] - 1s 4ms/step\n",
            "Fold 1\n",
            "Epoch 1/10\n",
            "78/78 [==============================] - 11s 90ms/step - loss: 21.6496 - accuracy: 0.7971 - val_loss: 6.2955 - val_accuracy: 0.9928\n",
            "Epoch 2/10\n",
            "78/78 [==============================] - 2s 27ms/step - loss: 1.6498 - accuracy: 0.9895 - val_loss: 0.2286 - val_accuracy: 0.9855\n",
            "Epoch 3/10\n",
            "78/78 [==============================] - 2s 21ms/step - loss: 0.2158 - accuracy: 0.9911 - val_loss: 0.2137 - val_accuracy: 0.9855\n",
            "Epoch 4/10\n",
            "78/78 [==============================] - 1s 13ms/step - loss: 0.1488 - accuracy: 0.9976 - val_loss: 0.1225 - val_accuracy: 0.9855\n",
            "Epoch 5/10\n",
            "78/78 [==============================] - 1s 12ms/step - loss: 0.3740 - accuracy: 0.9928 - val_loss: 0.7219 - val_accuracy: 0.9855\n",
            "Epoch 6/10\n",
            "78/78 [==============================] - 1s 15ms/step - loss: 0.4183 - accuracy: 0.9992 - val_loss: 0.2430 - val_accuracy: 1.0000\n",
            "Epoch 7/10\n",
            "78/78 [==============================] - 1s 10ms/step - loss: 0.1703 - accuracy: 1.0000 - val_loss: 0.1405 - val_accuracy: 0.9928\n",
            "Epoch 8/10\n",
            "78/78 [==============================] - 1s 14ms/step - loss: 0.1164 - accuracy: 0.9984 - val_loss: 0.8719 - val_accuracy: 0.8116\n",
            "Epoch 9/10\n",
            "78/78 [==============================] - 1s 14ms/step - loss: 0.1838 - accuracy: 0.9952 - val_loss: 0.1145 - val_accuracy: 1.0000\n",
            "Epoch 10/10\n",
            "78/78 [==============================] - 1s 13ms/step - loss: 0.0962 - accuracy: 1.0000 - val_loss: 0.1114 - val_accuracy: 0.9928\n",
            "5/5 [==============================] - 0s 5ms/step - loss: 0.1114 - accuracy: 0.9928\n",
            "5/5 [==============================] - 1s 4ms/step\n",
            "Fold 2\n",
            "Epoch 1/10\n",
            "78/78 [==============================] - 11s 85ms/step - loss: 21.6892 - accuracy: 0.7890 - val_loss: 6.3938 - val_accuracy: 0.9855\n",
            "Epoch 2/10\n",
            "78/78 [==============================] - 3s 35ms/step - loss: 1.7040 - accuracy: 0.9831 - val_loss: 0.2891 - val_accuracy: 0.9928\n",
            "Epoch 3/10\n",
            "78/78 [==============================] - 1s 18ms/step - loss: 0.2219 - accuracy: 0.9903 - val_loss: 0.2290 - val_accuracy: 0.9783\n",
            "Epoch 4/10\n",
            "78/78 [==============================] - 1s 17ms/step - loss: 0.1554 - accuracy: 0.9952 - val_loss: 0.1700 - val_accuracy: 0.9855\n",
            "Epoch 5/10\n",
            "78/78 [==============================] - 2s 20ms/step - loss: 0.3428 - accuracy: 0.9919 - val_loss: 0.2524 - val_accuracy: 0.9855\n",
            "Epoch 6/10\n",
            "78/78 [==============================] - 1s 11ms/step - loss: 0.1517 - accuracy: 1.0000 - val_loss: 0.1149 - val_accuracy: 1.0000\n",
            "Epoch 7/10\n",
            "78/78 [==============================] - 1s 10ms/step - loss: 0.1106 - accuracy: 0.9992 - val_loss: 0.1437 - val_accuracy: 0.9855\n",
            "Epoch 8/10\n",
            "78/78 [==============================] - 1s 14ms/step - loss: 0.1847 - accuracy: 0.9944 - val_loss: 0.1418 - val_accuracy: 0.9928\n",
            "Epoch 9/10\n",
            "78/78 [==============================] - 1s 15ms/step - loss: 0.1033 - accuracy: 0.9992 - val_loss: 0.1042 - val_accuracy: 0.9928\n",
            "Epoch 10/10\n",
            "78/78 [==============================] - 1s 13ms/step - loss: 0.0853 - accuracy: 1.0000 - val_loss: 0.0902 - val_accuracy: 1.0000\n",
            "5/5 [==============================] - 0s 6ms/step - loss: 0.0902 - accuracy: 1.0000\n",
            "5/5 [==============================] - 1s 4ms/step\n",
            "Fold 3\n",
            "Epoch 1/10\n",
            "78/78 [==============================] - 10s 85ms/step - loss: 21.5807 - accuracy: 0.8253 - val_loss: 6.3307 - val_accuracy: 0.9928\n",
            "Epoch 2/10\n",
            "78/78 [==============================] - 3s 36ms/step - loss: 1.7113 - accuracy: 0.9919 - val_loss: 0.2663 - val_accuracy: 0.9855\n",
            "Epoch 3/10\n",
            "78/78 [==============================] - 1s 18ms/step - loss: 0.2028 - accuracy: 0.9928 - val_loss: 0.1587 - val_accuracy: 0.9928\n",
            "Epoch 4/10\n",
            "78/78 [==============================] - 1s 18ms/step - loss: 0.3183 - accuracy: 0.9911 - val_loss: 0.2373 - val_accuracy: 1.0000\n",
            "Epoch 5/10\n",
            "78/78 [==============================] - 1s 13ms/step - loss: 0.1390 - accuracy: 1.0000 - val_loss: 0.1203 - val_accuracy: 0.9855\n",
            "Epoch 6/10\n",
            "78/78 [==============================] - 1s 12ms/step - loss: 0.1705 - accuracy: 0.9976 - val_loss: 0.2014 - val_accuracy: 0.9855\n",
            "Epoch 7/10\n",
            "78/78 [==============================] - 1s 8ms/step - loss: 0.1289 - accuracy: 0.9968 - val_loss: 0.1386 - val_accuracy: 0.9928\n",
            "Epoch 8/10\n",
            "78/78 [==============================] - 1s 10ms/step - loss: 0.0907 - accuracy: 1.0000 - val_loss: 0.1265 - val_accuracy: 0.9855\n",
            "Epoch 9/10\n",
            "78/78 [==============================] - 1s 8ms/step - loss: 0.0814 - accuracy: 1.0000 - val_loss: 0.1399 - val_accuracy: 0.9855\n",
            "Epoch 10/10\n",
            "78/78 [==============================] - 1s 11ms/step - loss: 0.1515 - accuracy: 0.9984 - val_loss: 0.1381 - val_accuracy: 0.9855\n",
            "5/5 [==============================] - 0s 5ms/step - loss: 0.1381 - accuracy: 0.9855\n",
            "5/5 [==============================] - 1s 5ms/step\n",
            "Fold 4\n",
            "Epoch 1/10\n",
            "78/78 [==============================] - 11s 87ms/step - loss: 21.5686 - accuracy: 0.8253 - val_loss: 6.2750 - val_accuracy: 0.9855\n",
            "Epoch 2/10\n",
            "78/78 [==============================] - 2s 29ms/step - loss: 1.6741 - accuracy: 0.9887 - val_loss: 0.3322 - val_accuracy: 0.9928\n",
            "Epoch 3/10\n",
            "78/78 [==============================] - 2s 20ms/step - loss: 0.2035 - accuracy: 0.9928 - val_loss: 0.1985 - val_accuracy: 0.9855\n",
            "Epoch 4/10\n",
            "78/78 [==============================] - 1s 14ms/step - loss: 0.1880 - accuracy: 0.9968 - val_loss: 0.1608 - val_accuracy: 0.9928\n",
            "Epoch 5/10\n",
            "78/78 [==============================] - 1s 14ms/step - loss: 0.1936 - accuracy: 0.9960 - val_loss: 0.2747 - val_accuracy: 0.9783\n",
            "Epoch 6/10\n",
            "78/78 [==============================] - 1s 11ms/step - loss: 0.1432 - accuracy: 0.9992 - val_loss: 0.1558 - val_accuracy: 0.9928\n",
            "Epoch 7/10\n",
            "78/78 [==============================] - 1s 14ms/step - loss: 0.0916 - accuracy: 1.0000 - val_loss: 0.1339 - val_accuracy: 0.9855\n",
            "Epoch 8/10\n",
            "78/78 [==============================] - 1s 9ms/step - loss: 0.2831 - accuracy: 0.9903 - val_loss: 0.7668 - val_accuracy: 1.0000\n",
            "Epoch 9/10\n",
            "78/78 [==============================] - 1s 12ms/step - loss: 0.5102 - accuracy: 0.9976 - val_loss: 0.3240 - val_accuracy: 0.9928\n",
            "Epoch 10/10\n",
            "78/78 [==============================] - 1s 13ms/step - loss: 0.2273 - accuracy: 0.9992 - val_loss: 0.1841 - val_accuracy: 0.9928\n",
            "5/5 [==============================] - 0s 5ms/step - loss: 0.1841 - accuracy: 0.9928\n",
            "5/5 [==============================] - 1s 4ms/step\n",
            "Fold 5\n",
            "Epoch 1/10\n",
            "78/78 [==============================] - 11s 88ms/step - loss: 21.5446 - accuracy: 0.8454 - val_loss: 6.4148 - val_accuracy: 0.9565\n",
            "Epoch 2/10\n",
            "78/78 [==============================] - 2s 23ms/step - loss: 1.6945 - accuracy: 0.9847 - val_loss: 0.2854 - val_accuracy: 0.9855\n",
            "Epoch 3/10\n",
            "78/78 [==============================] - 1s 19ms/step - loss: 0.1959 - accuracy: 0.9960 - val_loss: 0.2581 - val_accuracy: 0.9493\n",
            "Epoch 4/10\n",
            "78/78 [==============================] - 2s 18ms/step - loss: 0.1446 - accuracy: 0.9976 - val_loss: 0.1847 - val_accuracy: 0.9710\n",
            "Epoch 5/10\n",
            "78/78 [==============================] - 1s 14ms/step - loss: 0.2082 - accuracy: 0.9968 - val_loss: 0.3966 - val_accuracy: 0.9928\n",
            "Epoch 6/10\n",
            "78/78 [==============================] - 1s 10ms/step - loss: 0.1940 - accuracy: 0.9992 - val_loss: 0.1380 - val_accuracy: 0.9928\n",
            "Epoch 7/10\n",
            "78/78 [==============================] - 1s 13ms/step - loss: 0.0974 - accuracy: 1.0000 - val_loss: 0.1097 - val_accuracy: 0.9928\n",
            "Epoch 8/10\n",
            "78/78 [==============================] - 1s 12ms/step - loss: 0.1317 - accuracy: 0.9944 - val_loss: 0.4603 - val_accuracy: 0.9638\n",
            "Epoch 9/10\n",
            "78/78 [==============================] - 1s 14ms/step - loss: 0.2229 - accuracy: 0.9992 - val_loss: 0.1598 - val_accuracy: 0.9783\n",
            "Epoch 10/10\n",
            "78/78 [==============================] - 1s 10ms/step - loss: 0.1014 - accuracy: 1.0000 - val_loss: 0.1188 - val_accuracy: 0.9928\n",
            "5/5 [==============================] - 0s 5ms/step - loss: 0.1188 - accuracy: 0.9928\n",
            "5/5 [==============================] - 1s 5ms/step\n",
            "Fold 6\n",
            "Epoch 1/10\n",
            "78/78 [==============================] - 10s 80ms/step - loss: 21.4925 - accuracy: 0.8422 - val_loss: 6.3003 - val_accuracy: 0.9928\n",
            "Epoch 2/10\n",
            "78/78 [==============================] - 2s 24ms/step - loss: 1.6768 - accuracy: 0.9871 - val_loss: 0.3683 - val_accuracy: 0.9710\n",
            "Epoch 3/10\n",
            "78/78 [==============================] - 1s 13ms/step - loss: 0.1950 - accuracy: 0.9936 - val_loss: 0.1479 - val_accuracy: 1.0000\n",
            "Epoch 4/10\n",
            "78/78 [==============================] - 2s 20ms/step - loss: 0.1551 - accuracy: 0.9952 - val_loss: 0.5133 - val_accuracy: 0.8986\n",
            "Epoch 5/10\n",
            "78/78 [==============================] - 1s 15ms/step - loss: 0.1507 - accuracy: 0.9960 - val_loss: 0.1212 - val_accuracy: 0.9928\n",
            "Epoch 6/10\n",
            "78/78 [==============================] - 1s 18ms/step - loss: 0.1135 - accuracy: 0.9984 - val_loss: 0.0966 - val_accuracy: 1.0000\n",
            "Epoch 7/10\n",
            "78/78 [==============================] - 1s 10ms/step - loss: 0.1119 - accuracy: 0.9992 - val_loss: 0.1526 - val_accuracy: 1.0000\n",
            "Epoch 8/10\n",
            "78/78 [==============================] - 1s 16ms/step - loss: 0.1009 - accuracy: 1.0000 - val_loss: 0.0882 - val_accuracy: 1.0000\n",
            "Epoch 9/10\n",
            "78/78 [==============================] - 1s 12ms/step - loss: 0.1767 - accuracy: 0.9976 - val_loss: 0.2261 - val_accuracy: 0.9855\n",
            "Epoch 10/10\n",
            "78/78 [==============================] - 1s 8ms/step - loss: 0.1379 - accuracy: 0.9960 - val_loss: 0.1217 - val_accuracy: 0.9928\n",
            "5/5 [==============================] - 0s 5ms/step - loss: 0.1217 - accuracy: 0.9928\n",
            "5/5 [==============================] - 1s 4ms/step\n",
            "Fold 7\n",
            "Epoch 1/10\n",
            "78/78 [==============================] - 10s 82ms/step - loss: 21.5368 - accuracy: 0.8728 - val_loss: 6.3174 - val_accuracy: 0.9638\n",
            "Epoch 2/10\n",
            "78/78 [==============================] - 3s 31ms/step - loss: 1.6945 - accuracy: 0.9847 - val_loss: 0.2967 - val_accuracy: 0.9783\n",
            "Epoch 3/10\n",
            "78/78 [==============================] - 1s 18ms/step - loss: 0.1976 - accuracy: 0.9928 - val_loss: 0.3793 - val_accuracy: 0.9855\n",
            "Epoch 4/10\n",
            "78/78 [==============================] - 1s 12ms/step - loss: 0.1926 - accuracy: 0.9952 - val_loss: 0.2633 - val_accuracy: 0.9638\n",
            "Epoch 5/10\n",
            "78/78 [==============================] - 1s 17ms/step - loss: 0.1052 - accuracy: 1.0000 - val_loss: 0.1383 - val_accuracy: 0.9928\n",
            "Epoch 6/10\n",
            "78/78 [==============================] - 1s 14ms/step - loss: 0.2530 - accuracy: 0.9952 - val_loss: 0.6021 - val_accuracy: 0.9638\n",
            "Epoch 7/10\n",
            "78/78 [==============================] - 1s 15ms/step - loss: 0.3087 - accuracy: 0.9992 - val_loss: 0.1983 - val_accuracy: 0.9855\n",
            "Epoch 8/10\n",
            "78/78 [==============================] - 1s 10ms/step - loss: 0.1243 - accuracy: 1.0000 - val_loss: 0.1358 - val_accuracy: 0.9855\n",
            "Epoch 9/10\n",
            "78/78 [==============================] - 1s 12ms/step - loss: 0.0941 - accuracy: 1.0000 - val_loss: 0.1222 - val_accuracy: 0.9855\n",
            "Epoch 10/10\n",
            "78/78 [==============================] - 1s 12ms/step - loss: 0.0850 - accuracy: 1.0000 - val_loss: 0.1271 - val_accuracy: 0.9855\n",
            "5/5 [==============================] - 0s 5ms/step - loss: 0.1271 - accuracy: 0.9855\n",
            "5/5 [==============================] - 1s 4ms/step\n",
            "Fold 8\n",
            "Epoch 1/10\n",
            "78/78 [==============================] - 11s 91ms/step - loss: 21.4744 - accuracy: 0.8052 - val_loss: 6.2507 - val_accuracy: 0.9783\n",
            "Epoch 2/10\n",
            "78/78 [==============================] - 2s 27ms/step - loss: 1.6420 - accuracy: 0.9911 - val_loss: 0.3842 - val_accuracy: 0.9783\n",
            "Epoch 3/10\n",
            "78/78 [==============================] - 1s 18ms/step - loss: 0.2144 - accuracy: 0.9944 - val_loss: 0.1929 - val_accuracy: 0.9783\n",
            "Epoch 4/10\n",
            "78/78 [==============================] - 1s 13ms/step - loss: 0.1457 - accuracy: 0.9968 - val_loss: 0.3186 - val_accuracy: 0.9348\n",
            "Epoch 5/10\n",
            "78/78 [==============================] - 1s 14ms/step - loss: 0.1640 - accuracy: 0.9968 - val_loss: 0.3264 - val_accuracy: 0.9710\n",
            "Epoch 6/10\n",
            "78/78 [==============================] - 1s 12ms/step - loss: 0.1455 - accuracy: 0.9992 - val_loss: 0.2553 - val_accuracy: 0.9420\n",
            "Epoch 7/10\n",
            "78/78 [==============================] - 1s 10ms/step - loss: 0.1304 - accuracy: 0.9952 - val_loss: 0.5200 - val_accuracy: 0.9783\n",
            "Epoch 8/10\n",
            "78/78 [==============================] - 1s 16ms/step - loss: 0.5375 - accuracy: 0.9976 - val_loss: 0.3236 - val_accuracy: 0.9855\n",
            "Epoch 9/10\n",
            "78/78 [==============================] - 1s 11ms/step - loss: 0.1882 - accuracy: 1.0000 - val_loss: 0.1944 - val_accuracy: 0.9710\n",
            "Epoch 10/10\n",
            "78/78 [==============================] - 1s 14ms/step - loss: 0.1079 - accuracy: 1.0000 - val_loss: 0.1343 - val_accuracy: 0.9928\n",
            "5/5 [==============================] - 0s 5ms/step - loss: 0.1343 - accuracy: 0.9928\n",
            "5/5 [==============================] - 1s 5ms/step\n",
            "Fold 9\n",
            "Epoch 1/10\n",
            "78/78 [==============================] - 11s 87ms/step - loss: 21.6055 - accuracy: 0.8341 - val_loss: 6.4168 - val_accuracy: 0.9420\n",
            "Epoch 2/10\n",
            "78/78 [==============================] - 2s 26ms/step - loss: 1.6806 - accuracy: 0.9847 - val_loss: 0.2446 - val_accuracy: 0.9928\n",
            "Epoch 3/10\n",
            "78/78 [==============================] - 1s 14ms/step - loss: 0.2396 - accuracy: 0.9895 - val_loss: 0.4594 - val_accuracy: 0.9855\n",
            "Epoch 4/10\n",
            "78/78 [==============================] - 1s 18ms/step - loss: 0.2085 - accuracy: 0.9960 - val_loss: 0.2081 - val_accuracy: 0.9928\n",
            "Epoch 5/10\n",
            "78/78 [==============================] - 1s 18ms/step - loss: 0.3194 - accuracy: 0.9952 - val_loss: 0.1853 - val_accuracy: 0.9783\n",
            "Epoch 6/10\n",
            "78/78 [==============================] - 1s 14ms/step - loss: 0.1054 - accuracy: 1.0000 - val_loss: 0.1573 - val_accuracy: 0.9783\n",
            "Epoch 7/10\n",
            "78/78 [==============================] - 1s 10ms/step - loss: 0.0859 - accuracy: 1.0000 - val_loss: 0.2697 - val_accuracy: 0.9710\n",
            "Epoch 8/10\n",
            "78/78 [==============================] - 1s 11ms/step - loss: 0.1995 - accuracy: 0.9960 - val_loss: 0.1902 - val_accuracy: 0.9783\n",
            "Epoch 9/10\n",
            "78/78 [==============================] - 1s 12ms/step - loss: 0.0995 - accuracy: 1.0000 - val_loss: 0.1571 - val_accuracy: 0.9783\n",
            "Epoch 10/10\n",
            "78/78 [==============================] - 1s 10ms/step - loss: 0.1042 - accuracy: 0.9968 - val_loss: 0.5596 - val_accuracy: 0.9565\n",
            "5/5 [==============================] - 0s 5ms/step - loss: 0.5596 - accuracy: 0.9565\n",
            "5/5 [==============================] - 1s 5ms/step\n"
          ]
        }
      ]
    },
    {
      "cell_type": "code",
      "source": [
        "cv_results"
      ],
      "metadata": {
        "colab": {
          "base_uri": "https://localhost:8080/",
          "height": 363
        },
        "id": "zWzKOyu24F6n",
        "outputId": "399a7427-e3b8-4e56-dca2-e86698f1dc71"
      },
      "execution_count": null,
      "outputs": [
        {
          "output_type": "execute_result",
          "data": {
            "text/plain": [
              "     Recall Precision  F1 score  F2 score\n",
              "0  0.983871  0.968254     0.976  0.980707\n",
              "1       1.0  0.984127     0.992  0.996785\n",
              "2       1.0       1.0       1.0       1.0\n",
              "3       1.0   0.96875  0.984127   0.99359\n",
              "4       1.0  0.984127     0.992  0.996785\n",
              "5       1.0  0.983871   0.99187  0.996732\n",
              "6  0.983607       1.0  0.991736  0.986842\n",
              "7       1.0  0.968254  0.983871  0.993485\n",
              "8       1.0  0.983871   0.99187  0.996732\n",
              "9  0.901639       1.0  0.948276  0.919732"
            ],
            "text/html": [
              "\n",
              "  <div id=\"df-ee99a60a-f070-41ae-a888-3d75f9654ee4\">\n",
              "    <div class=\"colab-df-container\">\n",
              "      <div>\n",
              "<style scoped>\n",
              "    .dataframe tbody tr th:only-of-type {\n",
              "        vertical-align: middle;\n",
              "    }\n",
              "\n",
              "    .dataframe tbody tr th {\n",
              "        vertical-align: top;\n",
              "    }\n",
              "\n",
              "    .dataframe thead th {\n",
              "        text-align: right;\n",
              "    }\n",
              "</style>\n",
              "<table border=\"1\" class=\"dataframe\">\n",
              "  <thead>\n",
              "    <tr style=\"text-align: right;\">\n",
              "      <th></th>\n",
              "      <th>Recall</th>\n",
              "      <th>Precision</th>\n",
              "      <th>F1 score</th>\n",
              "      <th>F2 score</th>\n",
              "    </tr>\n",
              "  </thead>\n",
              "  <tbody>\n",
              "    <tr>\n",
              "      <th>0</th>\n",
              "      <td>0.983871</td>\n",
              "      <td>0.968254</td>\n",
              "      <td>0.976</td>\n",
              "      <td>0.980707</td>\n",
              "    </tr>\n",
              "    <tr>\n",
              "      <th>1</th>\n",
              "      <td>1.0</td>\n",
              "      <td>0.984127</td>\n",
              "      <td>0.992</td>\n",
              "      <td>0.996785</td>\n",
              "    </tr>\n",
              "    <tr>\n",
              "      <th>2</th>\n",
              "      <td>1.0</td>\n",
              "      <td>1.0</td>\n",
              "      <td>1.0</td>\n",
              "      <td>1.0</td>\n",
              "    </tr>\n",
              "    <tr>\n",
              "      <th>3</th>\n",
              "      <td>1.0</td>\n",
              "      <td>0.96875</td>\n",
              "      <td>0.984127</td>\n",
              "      <td>0.99359</td>\n",
              "    </tr>\n",
              "    <tr>\n",
              "      <th>4</th>\n",
              "      <td>1.0</td>\n",
              "      <td>0.984127</td>\n",
              "      <td>0.992</td>\n",
              "      <td>0.996785</td>\n",
              "    </tr>\n",
              "    <tr>\n",
              "      <th>5</th>\n",
              "      <td>1.0</td>\n",
              "      <td>0.983871</td>\n",
              "      <td>0.99187</td>\n",
              "      <td>0.996732</td>\n",
              "    </tr>\n",
              "    <tr>\n",
              "      <th>6</th>\n",
              "      <td>0.983607</td>\n",
              "      <td>1.0</td>\n",
              "      <td>0.991736</td>\n",
              "      <td>0.986842</td>\n",
              "    </tr>\n",
              "    <tr>\n",
              "      <th>7</th>\n",
              "      <td>1.0</td>\n",
              "      <td>0.968254</td>\n",
              "      <td>0.983871</td>\n",
              "      <td>0.993485</td>\n",
              "    </tr>\n",
              "    <tr>\n",
              "      <th>8</th>\n",
              "      <td>1.0</td>\n",
              "      <td>0.983871</td>\n",
              "      <td>0.99187</td>\n",
              "      <td>0.996732</td>\n",
              "    </tr>\n",
              "    <tr>\n",
              "      <th>9</th>\n",
              "      <td>0.901639</td>\n",
              "      <td>1.0</td>\n",
              "      <td>0.948276</td>\n",
              "      <td>0.919732</td>\n",
              "    </tr>\n",
              "  </tbody>\n",
              "</table>\n",
              "</div>\n",
              "      <button class=\"colab-df-convert\" onclick=\"convertToInteractive('df-ee99a60a-f070-41ae-a888-3d75f9654ee4')\"\n",
              "              title=\"Convert this dataframe to an interactive table.\"\n",
              "              style=\"display:none;\">\n",
              "        \n",
              "  <svg xmlns=\"http://www.w3.org/2000/svg\" height=\"24px\"viewBox=\"0 0 24 24\"\n",
              "       width=\"24px\">\n",
              "    <path d=\"M0 0h24v24H0V0z\" fill=\"none\"/>\n",
              "    <path d=\"M18.56 5.44l.94 2.06.94-2.06 2.06-.94-2.06-.94-.94-2.06-.94 2.06-2.06.94zm-11 1L8.5 8.5l.94-2.06 2.06-.94-2.06-.94L8.5 2.5l-.94 2.06-2.06.94zm10 10l.94 2.06.94-2.06 2.06-.94-2.06-.94-.94-2.06-.94 2.06-2.06.94z\"/><path d=\"M17.41 7.96l-1.37-1.37c-.4-.4-.92-.59-1.43-.59-.52 0-1.04.2-1.43.59L10.3 9.45l-7.72 7.72c-.78.78-.78 2.05 0 2.83L4 21.41c.39.39.9.59 1.41.59.51 0 1.02-.2 1.41-.59l7.78-7.78 2.81-2.81c.8-.78.8-2.07 0-2.86zM5.41 20L4 18.59l7.72-7.72 1.47 1.35L5.41 20z\"/>\n",
              "  </svg>\n",
              "      </button>\n",
              "      \n",
              "  <style>\n",
              "    .colab-df-container {\n",
              "      display:flex;\n",
              "      flex-wrap:wrap;\n",
              "      gap: 12px;\n",
              "    }\n",
              "\n",
              "    .colab-df-convert {\n",
              "      background-color: #E8F0FE;\n",
              "      border: none;\n",
              "      border-radius: 50%;\n",
              "      cursor: pointer;\n",
              "      display: none;\n",
              "      fill: #1967D2;\n",
              "      height: 32px;\n",
              "      padding: 0 0 0 0;\n",
              "      width: 32px;\n",
              "    }\n",
              "\n",
              "    .colab-df-convert:hover {\n",
              "      background-color: #E2EBFA;\n",
              "      box-shadow: 0px 1px 2px rgba(60, 64, 67, 0.3), 0px 1px 3px 1px rgba(60, 64, 67, 0.15);\n",
              "      fill: #174EA6;\n",
              "    }\n",
              "\n",
              "    [theme=dark] .colab-df-convert {\n",
              "      background-color: #3B4455;\n",
              "      fill: #D2E3FC;\n",
              "    }\n",
              "\n",
              "    [theme=dark] .colab-df-convert:hover {\n",
              "      background-color: #434B5C;\n",
              "      box-shadow: 0px 1px 3px 1px rgba(0, 0, 0, 0.15);\n",
              "      filter: drop-shadow(0px 1px 2px rgba(0, 0, 0, 0.3));\n",
              "      fill: #FFFFFF;\n",
              "    }\n",
              "  </style>\n",
              "\n",
              "      <script>\n",
              "        const buttonEl =\n",
              "          document.querySelector('#df-ee99a60a-f070-41ae-a888-3d75f9654ee4 button.colab-df-convert');\n",
              "        buttonEl.style.display =\n",
              "          google.colab.kernel.accessAllowed ? 'block' : 'none';\n",
              "\n",
              "        async function convertToInteractive(key) {\n",
              "          const element = document.querySelector('#df-ee99a60a-f070-41ae-a888-3d75f9654ee4');\n",
              "          const dataTable =\n",
              "            await google.colab.kernel.invokeFunction('convertToInteractive',\n",
              "                                                     [key], {});\n",
              "          if (!dataTable) return;\n",
              "\n",
              "          const docLinkHtml = 'Like what you see? Visit the ' +\n",
              "            '<a target=\"_blank\" href=https://colab.research.google.com/notebooks/data_table.ipynb>data table notebook</a>'\n",
              "            + ' to learn more about interactive tables.';\n",
              "          element.innerHTML = '';\n",
              "          dataTable['output_type'] = 'display_data';\n",
              "          await google.colab.output.renderOutput(dataTable, element);\n",
              "          const docLink = document.createElement('div');\n",
              "          docLink.innerHTML = docLinkHtml;\n",
              "          element.appendChild(docLink);\n",
              "        }\n",
              "      </script>\n",
              "    </div>\n",
              "  </div>\n",
              "  "
            ]
          },
          "metadata": {},
          "execution_count": 28
        }
      ]
    },
    {
      "cell_type": "code",
      "source": [
        "cv_results.mean()"
      ],
      "metadata": {
        "colab": {
          "base_uri": "https://localhost:8080/"
        },
        "id": "tYUZ29K44FwL",
        "outputId": "78195b47-e391-4d78-e4c8-443afa758caf"
      },
      "execution_count": null,
      "outputs": [
        {
          "output_type": "execute_result",
          "data": {
            "text/plain": [
              "Recall       0.986912\n",
              "Precision    0.984125\n",
              "F1 score     0.985175\n",
              "F2 score     0.986139\n",
              "dtype: float64"
            ]
          },
          "metadata": {},
          "execution_count": 29
        }
      ]
    },
    {
      "cell_type": "code",
      "execution_count": null,
      "metadata": {
        "id": "-jXE4CoE5Wb6"
      },
      "outputs": [],
      "source": [
        "aug_X_train = augmented_dataset['text'].values.reshape(-1, 1)"
      ]
    },
    {
      "cell_type": "code",
      "execution_count": null,
      "metadata": {
        "colab": {
          "base_uri": "https://localhost:8080/"
        },
        "id": "2SOG2Rqx5ZDE",
        "outputId": "86a2de07-3de2-4d33-eaac-9b21787fc886"
      },
      "outputs": [
        {
          "output_type": "execute_result",
          "data": {
            "text/plain": [
              "(1380, 1)"
            ]
          },
          "metadata": {},
          "execution_count": 59
        }
      ],
      "source": [
        "aug_X_train.shape"
      ]
    },
    {
      "cell_type": "code",
      "execution_count": null,
      "metadata": {
        "id": "0cCYlQfg5a7e"
      },
      "outputs": [],
      "source": [
        "aug_y_train = augmented_dataset['label'].values.reshape(-1, 1)"
      ]
    },
    {
      "cell_type": "code",
      "execution_count": null,
      "metadata": {
        "colab": {
          "base_uri": "https://localhost:8080/"
        },
        "id": "4WNBaiqF5c5R",
        "outputId": "18f645d7-e89e-4e65-ddf3-c785496e4efc"
      },
      "outputs": [
        {
          "output_type": "execute_result",
          "data": {
            "text/plain": [
              "(1380, 1)"
            ]
          },
          "metadata": {},
          "execution_count": 61
        }
      ],
      "source": [
        "aug_y_train.shape"
      ]
    },
    {
      "cell_type": "code",
      "execution_count": null,
      "metadata": {
        "id": "NFr0qAAb5eYa"
      },
      "outputs": [],
      "source": [
        "X_test = test_data['text'].values.reshape(-1, 1)"
      ]
    },
    {
      "cell_type": "code",
      "execution_count": null,
      "metadata": {
        "id": "HzvN4MRGS-Ec"
      },
      "outputs": [],
      "source": [
        "y_test = test_data['label'].values"
      ]
    },
    {
      "cell_type": "code",
      "source": [
        "def train_blstm(sent_length, words_mean, train_texts, train_labels):\n",
        "\n",
        "  blstm_model = create_blstm_model(sent_length, words_mean, train_texts)\n",
        "  \n",
        "  history = blstm_model.fit(train_texts,\n",
        "                            train_labels,\n",
        "                            epochs=10,\n",
        "                            batch_size=16,\n",
        "                            validation_data=(X_test, y_test))\n",
        "  \n",
        "  blstm_model.evaluate(X_test, y_test)\n",
        "  y_pred = np.round(blstm_model.predict(X_test))\n",
        "\n",
        "  f1_sc = f1_score(y_test, y_pred)\n",
        "  f2score = fbeta_score(y_test, y_pred, beta=2, average='binary')\n",
        "\n",
        "\n",
        "  print(\"test accuracy = \" + str(accuracy_score(y_test, y_pred)))\n",
        "  print(\"Recall = {}\".format(recall_score(y_test, y_pred)))\n",
        "  print(\"Precision = {}\".format(precision_score(y_test, y_pred)))\n",
        "  print(\"F1 score = {}\".format(f1_sc))\n",
        "  print(\"F2 score = {}\".format(f2score))\n",
        "  print(classification_report(y_test, y_pred))\n",
        "  \n",
        "  cm = confusion_matrix(y_test, y_pred)\n",
        "\n",
        "  disp = ConfusionMatrixDisplay(confusion_matrix=cm, display_labels=[0,1])\n",
        "\n",
        "  disp.plot(cmap=plt.cm.Blues)\n",
        "  plt.show()\n",
        "\n",
        "  return f1_sc"
      ],
      "metadata": {
        "id": "m-006maNDW2s"
      },
      "execution_count": null,
      "outputs": []
    },
    {
      "cell_type": "code",
      "source": [
        "train_blstm(total_length, text_words_mean, aug_X_train, aug_y_train)"
      ],
      "metadata": {
        "colab": {
          "base_uri": "https://localhost:8080/",
          "height": 1000
        },
        "id": "fD74EO4MFMBG",
        "outputId": "a7eeabbd-3343-4468-e62e-0900c6fe32ec"
      },
      "execution_count": null,
      "outputs": [
        {
          "output_type": "stream",
          "name": "stdout",
          "text": [
            "Epoch 1/10\n",
            "87/87 [==============================] - 12s 88ms/step - loss: 20.0972 - accuracy: 0.8101 - val_loss: 4.4809 - val_accuracy: 0.9307\n",
            "Epoch 2/10\n",
            "87/87 [==============================] - 2s 25ms/step - loss: 1.0149 - accuracy: 0.9855 - val_loss: 0.3153 - val_accuracy: 0.9610\n",
            "Epoch 3/10\n",
            "87/87 [==============================] - 2s 25ms/step - loss: 0.1972 - accuracy: 0.9957 - val_loss: 0.2412 - val_accuracy: 0.9654\n",
            "Epoch 4/10\n",
            "87/87 [==============================] - 1s 14ms/step - loss: 0.1787 - accuracy: 0.9957 - val_loss: 0.2572 - val_accuracy: 0.9610\n",
            "Epoch 5/10\n",
            "87/87 [==============================] - 2s 18ms/step - loss: 0.1261 - accuracy: 0.9978 - val_loss: 0.2635 - val_accuracy: 0.9567\n",
            "Epoch 6/10\n",
            "87/87 [==============================] - 2s 24ms/step - loss: 0.1063 - accuracy: 0.9993 - val_loss: 0.1979 - val_accuracy: 0.9697\n",
            "Epoch 7/10\n",
            "87/87 [==============================] - 1s 11ms/step - loss: 0.2602 - accuracy: 0.9971 - val_loss: 0.2650 - val_accuracy: 0.9740\n",
            "Epoch 8/10\n",
            "87/87 [==============================] - 1s 10ms/step - loss: 0.1221 - accuracy: 1.0000 - val_loss: 0.1771 - val_accuracy: 0.9740\n",
            "Epoch 9/10\n",
            "87/87 [==============================] - 1s 14ms/step - loss: 0.0841 - accuracy: 1.0000 - val_loss: 0.1985 - val_accuracy: 0.9697\n",
            "Epoch 10/10\n",
            "87/87 [==============================] - 1s 12ms/step - loss: 0.5328 - accuracy: 0.9942 - val_loss: 0.5343 - val_accuracy: 0.9784\n",
            "8/8 [==============================] - 0s 6ms/step - loss: 0.5343 - accuracy: 0.9784\n",
            "8/8 [==============================] - 1s 4ms/step\n",
            "test accuracy = 0.9783549783549783\n",
            "Recall = 0.9230769230769231\n",
            "Precision = 0.9473684210526315\n",
            "F1 score = 0.935064935064935\n",
            "F2 score = 0.9278350515463917\n",
            "              precision    recall  f1-score   support\n",
            "\n",
            "           0       0.98      0.99      0.99       192\n",
            "           1       0.95      0.92      0.94        39\n",
            "\n",
            "    accuracy                           0.98       231\n",
            "   macro avg       0.97      0.96      0.96       231\n",
            "weighted avg       0.98      0.98      0.98       231\n",
            "\n"
          ]
        },
        {
          "output_type": "display_data",
          "data": {
            "text/plain": [
              "<Figure size 640x480 with 2 Axes>"
            ],
            "image/png": "[encoded data removed]"
          },
          "metadata": {}
        },
        {
          "output_type": "execute_result",
          "data": {
            "text/plain": [
              "0.935064935064935"
            ]
          },
          "metadata": {},
          "execution_count": 71
        }
      ]
    },
    {
      "cell_type": "code",
      "source": [
        "train_blstm(total_length, text_words_mean, aug_X_train, aug_y_train)"
      ],
      "metadata": {
        "colab": {
          "base_uri": "https://localhost:8080/",
          "height": 1000
        },
        "id": "lZ3kIM7oFLVi",
        "outputId": "c6cf78ac-e552-49e9-9f71-cf41880a271e"
      },
      "execution_count": null,
      "outputs": [
        {
          "output_type": "stream",
          "name": "stdout",
          "text": [
            "Epoch 1/10\n",
            "87/87 [==============================] - 12s 88ms/step - loss: 20.0522 - accuracy: 0.8188 - val_loss: 4.4732 - val_accuracy: 0.9610\n",
            "Epoch 2/10\n",
            "87/87 [==============================] - 2s 26ms/step - loss: 1.0127 - accuracy: 0.9899 - val_loss: 0.3709 - val_accuracy: 0.9654\n",
            "Epoch 3/10\n",
            "87/87 [==============================] - 1s 17ms/step - loss: 0.2256 - accuracy: 0.9913 - val_loss: 0.1778 - val_accuracy: 0.9827\n",
            "Epoch 4/10\n",
            "87/87 [==============================] - 1s 14ms/step - loss: 0.1988 - accuracy: 0.9935 - val_loss: 0.2103 - val_accuracy: 0.9827\n",
            "Epoch 5/10\n",
            "87/87 [==============================] - 1s 13ms/step - loss: 0.1228 - accuracy: 0.9978 - val_loss: 0.5727 - val_accuracy: 0.9524\n",
            "Epoch 6/10\n",
            "87/87 [==============================] - 1s 15ms/step - loss: 0.1609 - accuracy: 0.9986 - val_loss: 0.1716 - val_accuracy: 0.9827\n",
            "Epoch 7/10\n",
            "87/87 [==============================] - 1s 17ms/step - loss: 0.1100 - accuracy: 0.9978 - val_loss: 0.3901 - val_accuracy: 0.9827\n",
            "Epoch 8/10\n",
            "87/87 [==============================] - 1s 12ms/step - loss: 0.1526 - accuracy: 0.9986 - val_loss: 0.1978 - val_accuracy: 0.9740\n",
            "Epoch 9/10\n",
            "87/87 [==============================] - 1s 17ms/step - loss: 0.0927 - accuracy: 0.9993 - val_loss: 0.1430 - val_accuracy: 0.9827\n",
            "Epoch 10/10\n",
            "87/87 [==============================] - 2s 20ms/step - loss: 0.0815 - accuracy: 1.0000 - val_loss: 0.1496 - val_accuracy: 0.9827\n",
            "8/8 [==============================] - 0s 6ms/step - loss: 0.1496 - accuracy: 0.9827\n",
            "8/8 [==============================] - 1s 4ms/step\n",
            "test accuracy = 0.9826839826839827\n",
            "Recall = 0.9230769230769231\n",
            "Precision = 0.972972972972973\n",
            "F1 score = 0.9473684210526315\n",
            "F2 score = 0.9326424870466321\n",
            "              precision    recall  f1-score   support\n",
            "\n",
            "           0       0.98      0.99      0.99       192\n",
            "           1       0.97      0.92      0.95        39\n",
            "\n",
            "    accuracy                           0.98       231\n",
            "   macro avg       0.98      0.96      0.97       231\n",
            "weighted avg       0.98      0.98      0.98       231\n",
            "\n"
          ]
        },
        {
          "output_type": "display_data",
          "data": {
            "text/plain": [
              "<Figure size 640x480 with 2 Axes>"
            ],
            "image/png": "[encoded data removed]"
          },
          "metadata": {}
        },
        {
          "output_type": "execute_result",
          "data": {
            "text/plain": [
              "0.9473684210526315"
            ]
          },
          "metadata": {},
          "execution_count": 72
        }
      ]
    }
  ],
  "metadata": {
    "accelerator": "GPU",
    "colab": {
      "machine_shape": "hm",
      "provenance": [],
      "gpuType": "T4"
    },
    "gpuClass": "standard",
    "kernelspec": {
      "display_name": "Python 3",
      "name": "python3"
    },
    "language_info": {
      "name": "python"
    }
  },
  "nbformat": 4,
  "nbformat_minor": 0
}