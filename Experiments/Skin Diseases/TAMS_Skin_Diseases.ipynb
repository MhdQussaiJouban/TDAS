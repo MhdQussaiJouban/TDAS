{
  "cells": [
    {
      "cell_type": "code",
      "execution_count": null,
      "metadata": {
        "id": "_Q1SwXg76Uf3",
        "colab": {
          "base_uri": "https://localhost:8080/"
        },
        "outputId": "29a7784b-280c-421d-b895-d4d7543166bf"
      },
      "outputs": [
        {
          "output_type": "stream",
          "name": "stderr",
          "text": [
            "[nltk_data] Downloading package stopwords to /root/nltk_data...\n",
            "[nltk_data]   Unzipping corpora/stopwords.zip.\n",
            "[nltk_data] Downloading package punkt to /root/nltk_data...\n",
            "[nltk_data]   Unzipping tokenizers/punkt.zip.\n",
            "[nltk_data] Downloading package averaged_perceptron_tagger to\n",
            "[nltk_data]     /root/nltk_data...\n",
            "[nltk_data]   Unzipping taggers/averaged_perceptron_tagger.zip.\n",
            "[nltk_data] Downloading package wordnet to /root/nltk_data...\n"
          ]
        },
        {
          "output_type": "stream",
          "name": "stdout",
          "text": [
            "Mounted at /content/gdrive\n"
          ]
        }
      ],
      "source": [
        "from datetime import datetime\n",
        "import random \n",
        "import numpy as np\n",
        "import pandas as pd\n",
        "from sklearn.preprocessing import LabelEncoder\n",
        "from sklearn.model_selection import train_test_split\n",
        "from sklearn.ensemble import RandomForestClassifier, ExtraTreesClassifier\n",
        "from sklearn.linear_model import SGDClassifier, LogisticRegression\n",
        "from sklearn.naive_bayes import GaussianNB\n",
        "from sklearn.neural_network import MLPClassifier\n",
        "from sklearn.svm import SVC\n",
        "from sklearn.neighbors import KNeighborsClassifier\n",
        "from sklearn.model_selection import GridSearchCV\n",
        "from sklearn.ensemble import StackingClassifier\n",
        "from sklearn.metrics import confusion_matrix\n",
        "from sklearn.metrics import ConfusionMatrixDisplay\n",
        "from sklearn.metrics import accuracy_score, recall_score, precision_score, f1_score, fbeta_score, classification_report\n",
        "from sklearn.metrics import make_scorer \n",
        "import matplotlib.pyplot as plt\n",
        "import gensim.downloader as api\n",
        "import nltk\n",
        "from nltk.tokenize import word_tokenize\n",
        "from nltk import pos_tag\n",
        "nltk.download('stopwords')\n",
        "nltk.download('punkt')\n",
        "nltk.download('averaged_perceptron_tagger')\n",
        "nltk.download('wordnet')\n",
        "from google.colab import drive\n",
        "drive.mount('/content/gdrive')\n",
        "dir_name = \"/content/gdrive/MyDrive/Thesis/\""
      ]
    },
    {
      "cell_type": "code",
      "source": [
        "def con2bin(label):\n",
        "  if label in ['Psoriasis', 'Chicken pox', 'Impetigo', 'Acne']:\n",
        "    return 1\n",
        "  return 0"
      ],
      "metadata": {
        "id": "3Ispzur-3Ctt"
      },
      "execution_count": null,
      "outputs": []
    },
    {
      "cell_type": "code",
      "execution_count": null,
      "metadata": {
        "id": "hsZEizu93N6d",
        "colab": {
          "base_uri": "https://localhost:8080/",
          "height": 423
        },
        "outputId": "cabba448-6766-4398-e661-c20ce79d02d8"
      },
      "outputs": [
        {
          "output_type": "execute_result",
          "data": {
            "text/plain": [
              "      label                                               text\n",
              "0         1  I have been experiencing a skin rash on my arm...\n",
              "1         1  My skin has been peeling, especially on my kne...\n",
              "2         1  I have been experiencing joint pain in my fing...\n",
              "3         1  There is a silver like dusting on my skin, esp...\n",
              "4         1  My nails have small dents or pits in them, and...\n",
              "...     ...                                                ...\n",
              "1195      0  I'm shaking and trembling all over. I've lost ...\n",
              "1196      0  Particularly in the crevices of my skin, I hav...\n",
              "1197      0  I regularly experience these intense urges and...\n",
              "1198      0  I have trouble breathing, especially outside. ...\n",
              "1199      0  I constantly sneeze and have a dry cough. My i...\n",
              "\n",
              "[1200 rows x 2 columns]"
            ],
            "text/html": [
              "\n",
              "  <div id=\"df-7a3a8eb4-f1f7-4e9b-a798-780fac300486\">\n",
              "    <div class=\"colab-df-container\">\n",
              "      <div>\n",
              "<style scoped>\n",
              "    .dataframe tbody tr th:only-of-type {\n",
              "        vertical-align: middle;\n",
              "    }\n",
              "\n",
              "    .dataframe tbody tr th {\n",
              "        vertical-align: top;\n",
              "    }\n",
              "\n",
              "    .dataframe thead th {\n",
              "        text-align: right;\n",
              "    }\n",
              "</style>\n",
              "<table border=\"1\" class=\"dataframe\">\n",
              "  <thead>\n",
              "    <tr style=\"text-align: right;\">\n",
              "      <th></th>\n",
              "      <th>label</th>\n",
              "      <th>text</th>\n",
              "    </tr>\n",
              "  </thead>\n",
              "  <tbody>\n",
              "    <tr>\n",
              "      <th>0</th>\n",
              "      <td>1</td>\n",
              "      <td>I have been experiencing a skin rash on my arm...</td>\n",
              "    </tr>\n",
              "    <tr>\n",
              "      <th>1</th>\n",
              "      <td>1</td>\n",
              "      <td>My skin has been peeling, especially on my kne...</td>\n",
              "    </tr>\n",
              "    <tr>\n",
              "      <th>2</th>\n",
              "      <td>1</td>\n",
              "      <td>I have been experiencing joint pain in my fing...</td>\n",
              "    </tr>\n",
              "    <tr>\n",
              "      <th>3</th>\n",
              "      <td>1</td>\n",
              "      <td>There is a silver like dusting on my skin, esp...</td>\n",
              "    </tr>\n",
              "    <tr>\n",
              "      <th>4</th>\n",
              "      <td>1</td>\n",
              "      <td>My nails have small dents or pits in them, and...</td>\n",
              "    </tr>\n",
              "    <tr>\n",
              "      <th>...</th>\n",
              "      <td>...</td>\n",
              "      <td>...</td>\n",
              "    </tr>\n",
              "    <tr>\n",
              "      <th>1195</th>\n",
              "      <td>0</td>\n",
              "      <td>I'm shaking and trembling all over. I've lost ...</td>\n",
              "    </tr>\n",
              "    <tr>\n",
              "      <th>1196</th>\n",
              "      <td>0</td>\n",
              "      <td>Particularly in the crevices of my skin, I hav...</td>\n",
              "    </tr>\n",
              "    <tr>\n",
              "      <th>1197</th>\n",
              "      <td>0</td>\n",
              "      <td>I regularly experience these intense urges and...</td>\n",
              "    </tr>\n",
              "    <tr>\n",
              "      <th>1198</th>\n",
              "      <td>0</td>\n",
              "      <td>I have trouble breathing, especially outside. ...</td>\n",
              "    </tr>\n",
              "    <tr>\n",
              "      <th>1199</th>\n",
              "      <td>0</td>\n",
              "      <td>I constantly sneeze and have a dry cough. My i...</td>\n",
              "    </tr>\n",
              "  </tbody>\n",
              "</table>\n",
              "<p>1200 rows × 2 columns</p>\n",
              "</div>\n",
              "      <button class=\"colab-df-convert\" onclick=\"convertToInteractive('df-7a3a8eb4-f1f7-4e9b-a798-780fac300486')\"\n",
              "              title=\"Convert this dataframe to an interactive table.\"\n",
              "              style=\"display:none;\">\n",
              "        \n",
              "  <svg xmlns=\"http://www.w3.org/2000/svg\" height=\"24px\"viewBox=\"0 0 24 24\"\n",
              "       width=\"24px\">\n",
              "    <path d=\"M0 0h24v24H0V0z\" fill=\"none\"/>\n",
              "    <path d=\"M18.56 5.44l.94 2.06.94-2.06 2.06-.94-2.06-.94-.94-2.06-.94 2.06-2.06.94zm-11 1L8.5 8.5l.94-2.06 2.06-.94-2.06-.94L8.5 2.5l-.94 2.06-2.06.94zm10 10l.94 2.06.94-2.06 2.06-.94-2.06-.94-.94-2.06-.94 2.06-2.06.94z\"/><path d=\"M17.41 7.96l-1.37-1.37c-.4-.4-.92-.59-1.43-.59-.52 0-1.04.2-1.43.59L10.3 9.45l-7.72 7.72c-.78.78-.78 2.05 0 2.83L4 21.41c.39.39.9.59 1.41.59.51 0 1.02-.2 1.41-.59l7.78-7.78 2.81-2.81c.8-.78.8-2.07 0-2.86zM5.41 20L4 18.59l7.72-7.72 1.47 1.35L5.41 20z\"/>\n",
              "  </svg>\n",
              "      </button>\n",
              "      \n",
              "  <style>\n",
              "    .colab-df-container {\n",
              "      display:flex;\n",
              "      flex-wrap:wrap;\n",
              "      gap: 12px;\n",
              "    }\n",
              "\n",
              "    .colab-df-convert {\n",
              "      background-color: #E8F0FE;\n",
              "      border: none;\n",
              "      border-radius: 50%;\n",
              "      cursor: pointer;\n",
              "      display: none;\n",
              "      fill: #1967D2;\n",
              "      height: 32px;\n",
              "      padding: 0 0 0 0;\n",
              "      width: 32px;\n",
              "    }\n",
              "\n",
              "    .colab-df-convert:hover {\n",
              "      background-color: #E2EBFA;\n",
              "      box-shadow: 0px 1px 2px rgba(60, 64, 67, 0.3), 0px 1px 3px 1px rgba(60, 64, 67, 0.15);\n",
              "      fill: #174EA6;\n",
              "    }\n",
              "\n",
              "    [theme=dark] .colab-df-convert {\n",
              "      background-color: #3B4455;\n",
              "      fill: #D2E3FC;\n",
              "    }\n",
              "\n",
              "    [theme=dark] .colab-df-convert:hover {\n",
              "      background-color: #434B5C;\n",
              "      box-shadow: 0px 1px 3px 1px rgba(0, 0, 0, 0.15);\n",
              "      filter: drop-shadow(0px 1px 2px rgba(0, 0, 0, 0.3));\n",
              "      fill: #FFFFFF;\n",
              "    }\n",
              "  </style>\n",
              "\n",
              "      <script>\n",
              "        const buttonEl =\n",
              "          document.querySelector('#df-7a3a8eb4-f1f7-4e9b-a798-780fac300486 button.colab-df-convert');\n",
              "        buttonEl.style.display =\n",
              "          google.colab.kernel.accessAllowed ? 'block' : 'none';\n",
              "\n",
              "        async function convertToInteractive(key) {\n",
              "          const element = document.querySelector('#df-7a3a8eb4-f1f7-4e9b-a798-780fac300486');\n",
              "          const dataTable =\n",
              "            await google.colab.kernel.invokeFunction('convertToInteractive',\n",
              "                                                     [key], {});\n",
              "          if (!dataTable) return;\n",
              "\n",
              "          const docLinkHtml = 'Like what you see? Visit the ' +\n",
              "            '<a target=\"_blank\" href=https://colab.research.google.com/notebooks/data_table.ipynb>data table notebook</a>'\n",
              "            + ' to learn more about interactive tables.';\n",
              "          element.innerHTML = '';\n",
              "          dataTable['output_type'] = 'display_data';\n",
              "          await google.colab.output.renderOutput(dataTable, element);\n",
              "          const docLink = document.createElement('div');\n",
              "          docLink.innerHTML = docLinkHtml;\n",
              "          element.appendChild(docLink);\n",
              "        }\n",
              "      </script>\n",
              "    </div>\n",
              "  </div>\n",
              "  "
            ]
          },
          "metadata": {},
          "execution_count": 3
        }
      ],
      "source": [
        "def get_raw_data(dir_name):\n",
        "    #  load data\n",
        "    data = pd.read_csv('{}Symptom2Disease.csv'.format(dir_name), encoding = 'latin-1', usecols=['text', 'label'])\n",
        "    data['label'] =  data['label'].apply(con2bin)\n",
        "    return data\n",
        "\n",
        "raw_data = get_raw_data(dir_name + 'datasets/')\n",
        "raw_data"
      ]
    },
    {
      "cell_type": "code",
      "execution_count": null,
      "metadata": {
        "id": "puuFMH0H8Li_",
        "colab": {
          "base_uri": "https://localhost:8080/",
          "height": 499
        },
        "outputId": "f08a3293-6281-4810-e9db-33565ceb1e96"
      },
      "outputs": [
        {
          "output_type": "display_data",
          "data": {
            "text/plain": [
              "<Figure size 600x600 with 1 Axes>"
            ],
            "image/png": "[encoded data removed]"
          },
          "metadata": {}
        }
      ],
      "source": [
        "def get_dataset_statistics(data):\n",
        "    dataset_statistics = {'Number of intances': [data['label'].value_counts()[0], data['label'].value_counts()[1]]}\n",
        "    df = pd.DataFrame(dataset_statistics, index=['0', '1'])\n",
        "    df.plot(kind='pie', y='Number of intances', figsize=(6, 6), fontsize=14,\n",
        "            autopct=lambda v: '{:.0f} ({:.1f}%)'.format(v / 100 * data['label'].count(), v))\n",
        "    \n",
        "get_dataset_statistics(raw_data)"
      ]
    },
    {
      "cell_type": "code",
      "execution_count": null,
      "metadata": {
        "colab": {
          "base_uri": "https://localhost:8080/"
        },
        "id": "jvrPiHms7t3O",
        "outputId": "91ba864c-297e-4ace-9d5a-ffaa3c2b6733"
      },
      "outputs": [
        {
          "output_type": "execute_result",
          "data": {
            "text/plain": [
              "False"
            ]
          },
          "metadata": {},
          "execution_count": 5
        }
      ],
      "source": [
        "raw_data['text'].is_unique"
      ]
    },
    {
      "cell_type": "code",
      "execution_count": null,
      "metadata": {
        "id": "QGX76s7s7vC1",
        "colab": {
          "base_uri": "https://localhost:8080/"
        },
        "outputId": "34008443-fe79-4343-fe47-d956d92cc54c"
      },
      "outputs": [
        {
          "output_type": "execute_result",
          "data": {
            "text/plain": [
              "True"
            ]
          },
          "metadata": {},
          "execution_count": 6
        }
      ],
      "source": [
        "raw_data.drop_duplicates( inplace=True)\n",
        "raw_data['text'].is_unique"
      ]
    },
    {
      "cell_type": "code",
      "execution_count": null,
      "metadata": {
        "colab": {
          "base_uri": "https://localhost:8080/",
          "height": 423
        },
        "id": "kAvJMWIH8BfT",
        "outputId": "3722af09-91ed-4ed1-8f25-70d5cf501c96"
      },
      "outputs": [
        {
          "output_type": "execute_result",
          "data": {
            "text/plain": [
              "      label                                               text\n",
              "0         1  I have been experiencing a skin rash on my arm...\n",
              "1         1  My skin has been peeling, especially on my kne...\n",
              "2         1  I have been experiencing joint pain in my fing...\n",
              "3         1  There is a silver like dusting on my skin, esp...\n",
              "4         1  My nails have small dents or pits in them, and...\n",
              "...     ...                                                ...\n",
              "1195      0  I'm shaking and trembling all over. I've lost ...\n",
              "1196      0  Particularly in the crevices of my skin, I hav...\n",
              "1197      0  I regularly experience these intense urges and...\n",
              "1198      0  I have trouble breathing, especially outside. ...\n",
              "1199      0  I constantly sneeze and have a dry cough. My i...\n",
              "\n",
              "[1153 rows x 2 columns]"
            ],
            "text/html": [
              "\n",
              "  <div id=\"df-a3ddcfd5-66d0-4496-8c9b-9b9c2c06c881\">\n",
              "    <div class=\"colab-df-container\">\n",
              "      <div>\n",
              "<style scoped>\n",
              "    .dataframe tbody tr th:only-of-type {\n",
              "        vertical-align: middle;\n",
              "    }\n",
              "\n",
              "    .dataframe tbody tr th {\n",
              "        vertical-align: top;\n",
              "    }\n",
              "\n",
              "    .dataframe thead th {\n",
              "        text-align: right;\n",
              "    }\n",
              "</style>\n",
              "<table border=\"1\" class=\"dataframe\">\n",
              "  <thead>\n",
              "    <tr style=\"text-align: right;\">\n",
              "      <th></th>\n",
              "      <th>label</th>\n",
              "      <th>text</th>\n",
              "    </tr>\n",
              "  </thead>\n",
              "  <tbody>\n",
              "    <tr>\n",
              "      <th>0</th>\n",
              "      <td>1</td>\n",
              "      <td>I have been experiencing a skin rash on my arm...</td>\n",
              "    </tr>\n",
              "    <tr>\n",
              "      <th>1</th>\n",
              "      <td>1</td>\n",
              "      <td>My skin has been peeling, especially on my kne...</td>\n",
              "    </tr>\n",
              "    <tr>\n",
              "      <th>2</th>\n",
              "      <td>1</td>\n",
              "      <td>I have been experiencing joint pain in my fing...</td>\n",
              "    </tr>\n",
              "    <tr>\n",
              "      <th>3</th>\n",
              "      <td>1</td>\n",
              "      <td>There is a silver like dusting on my skin, esp...</td>\n",
              "    </tr>\n",
              "    <tr>\n",
              "      <th>4</th>\n",
              "      <td>1</td>\n",
              "      <td>My nails have small dents or pits in them, and...</td>\n",
              "    </tr>\n",
              "    <tr>\n",
              "      <th>...</th>\n",
              "      <td>...</td>\n",
              "      <td>...</td>\n",
              "    </tr>\n",
              "    <tr>\n",
              "      <th>1195</th>\n",
              "      <td>0</td>\n",
              "      <td>I'm shaking and trembling all over. I've lost ...</td>\n",
              "    </tr>\n",
              "    <tr>\n",
              "      <th>1196</th>\n",
              "      <td>0</td>\n",
              "      <td>Particularly in the crevices of my skin, I hav...</td>\n",
              "    </tr>\n",
              "    <tr>\n",
              "      <th>1197</th>\n",
              "      <td>0</td>\n",
              "      <td>I regularly experience these intense urges and...</td>\n",
              "    </tr>\n",
              "    <tr>\n",
              "      <th>1198</th>\n",
              "      <td>0</td>\n",
              "      <td>I have trouble breathing, especially outside. ...</td>\n",
              "    </tr>\n",
              "    <tr>\n",
              "      <th>1199</th>\n",
              "      <td>0</td>\n",
              "      <td>I constantly sneeze and have a dry cough. My i...</td>\n",
              "    </tr>\n",
              "  </tbody>\n",
              "</table>\n",
              "<p>1153 rows × 2 columns</p>\n",
              "</div>\n",
              "      <button class=\"colab-df-convert\" onclick=\"convertToInteractive('df-a3ddcfd5-66d0-4496-8c9b-9b9c2c06c881')\"\n",
              "              title=\"Convert this dataframe to an interactive table.\"\n",
              "              style=\"display:none;\">\n",
              "        \n",
              "  <svg xmlns=\"http://www.w3.org/2000/svg\" height=\"24px\"viewBox=\"0 0 24 24\"\n",
              "       width=\"24px\">\n",
              "    <path d=\"M0 0h24v24H0V0z\" fill=\"none\"/>\n",
              "    <path d=\"M18.56 5.44l.94 2.06.94-2.06 2.06-.94-2.06-.94-.94-2.06-.94 2.06-2.06.94zm-11 1L8.5 8.5l.94-2.06 2.06-.94-2.06-.94L8.5 2.5l-.94 2.06-2.06.94zm10 10l.94 2.06.94-2.06 2.06-.94-2.06-.94-.94-2.06-.94 2.06-2.06.94z\"/><path d=\"M17.41 7.96l-1.37-1.37c-.4-.4-.92-.59-1.43-.59-.52 0-1.04.2-1.43.59L10.3 9.45l-7.72 7.72c-.78.78-.78 2.05 0 2.83L4 21.41c.39.39.9.59 1.41.59.51 0 1.02-.2 1.41-.59l7.78-7.78 2.81-2.81c.8-.78.8-2.07 0-2.86zM5.41 20L4 18.59l7.72-7.72 1.47 1.35L5.41 20z\"/>\n",
              "  </svg>\n",
              "      </button>\n",
              "      \n",
              "  <style>\n",
              "    .colab-df-container {\n",
              "      display:flex;\n",
              "      flex-wrap:wrap;\n",
              "      gap: 12px;\n",
              "    }\n",
              "\n",
              "    .colab-df-convert {\n",
              "      background-color: #E8F0FE;\n",
              "      border: none;\n",
              "      border-radius: 50%;\n",
              "      cursor: pointer;\n",
              "      display: none;\n",
              "      fill: #1967D2;\n",
              "      height: 32px;\n",
              "      padding: 0 0 0 0;\n",
              "      width: 32px;\n",
              "    }\n",
              "\n",
              "    .colab-df-convert:hover {\n",
              "      background-color: #E2EBFA;\n",
              "      box-shadow: 0px 1px 2px rgba(60, 64, 67, 0.3), 0px 1px 3px 1px rgba(60, 64, 67, 0.15);\n",
              "      fill: #174EA6;\n",
              "    }\n",
              "\n",
              "    [theme=dark] .colab-df-convert {\n",
              "      background-color: #3B4455;\n",
              "      fill: #D2E3FC;\n",
              "    }\n",
              "\n",
              "    [theme=dark] .colab-df-convert:hover {\n",
              "      background-color: #434B5C;\n",
              "      box-shadow: 0px 1px 3px 1px rgba(0, 0, 0, 0.15);\n",
              "      filter: drop-shadow(0px 1px 2px rgba(0, 0, 0, 0.3));\n",
              "      fill: #FFFFFF;\n",
              "    }\n",
              "  </style>\n",
              "\n",
              "      <script>\n",
              "        const buttonEl =\n",
              "          document.querySelector('#df-a3ddcfd5-66d0-4496-8c9b-9b9c2c06c881 button.colab-df-convert');\n",
              "        buttonEl.style.display =\n",
              "          google.colab.kernel.accessAllowed ? 'block' : 'none';\n",
              "\n",
              "        async function convertToInteractive(key) {\n",
              "          const element = document.querySelector('#df-a3ddcfd5-66d0-4496-8c9b-9b9c2c06c881');\n",
              "          const dataTable =\n",
              "            await google.colab.kernel.invokeFunction('convertToInteractive',\n",
              "                                                     [key], {});\n",
              "          if (!dataTable) return;\n",
              "\n",
              "          const docLinkHtml = 'Like what you see? Visit the ' +\n",
              "            '<a target=\"_blank\" href=https://colab.research.google.com/notebooks/data_table.ipynb>data table notebook</a>'\n",
              "            + ' to learn more about interactive tables.';\n",
              "          element.innerHTML = '';\n",
              "          dataTable['output_type'] = 'display_data';\n",
              "          await google.colab.output.renderOutput(dataTable, element);\n",
              "          const docLink = document.createElement('div');\n",
              "          docLink.innerHTML = docLinkHtml;\n",
              "          element.appendChild(docLink);\n",
              "        }\n",
              "      </script>\n",
              "    </div>\n",
              "  </div>\n",
              "  "
            ]
          },
          "metadata": {},
          "execution_count": 7
        }
      ],
      "source": [
        "raw_data"
      ]
    },
    {
      "cell_type": "code",
      "execution_count": null,
      "metadata": {
        "colab": {
          "base_uri": "https://localhost:8080/",
          "height": 499
        },
        "id": "M29miyuS8dVA",
        "outputId": "aec9c1f3-e9b1-4d3c-8973-4e35aa46ca1a"
      },
      "outputs": [
        {
          "output_type": "display_data",
          "data": {
            "text/plain": [
              "<Figure size 600x600 with 1 Axes>"
            ],
            "image/png": "[encoded data removed]"
          },
          "metadata": {}
        }
      ],
      "source": [
        "get_dataset_statistics(raw_data)"
      ]
    },
    {
      "cell_type": "code",
      "execution_count": null,
      "metadata": {
        "id": "9a7oMalo8eW7"
      },
      "outputs": [],
      "source": [
        "X_train, X_test, y_train, y_test = train_test_split(raw_data['text'].to_numpy(), raw_data['label'].to_numpy(), stratify=raw_data['label'].to_numpy(), test_size=0.2, random_state=24)"
      ]
    },
    {
      "cell_type": "code",
      "execution_count": null,
      "metadata": {
        "colab": {
          "base_uri": "https://localhost:8080/",
          "height": 499
        },
        "id": "4Qah2hem-rzC",
        "outputId": "dad267da-ce72-4f08-c9dc-22ef5403b6c4"
      },
      "outputs": [
        {
          "output_type": "display_data",
          "data": {
            "text/plain": [
              "<Figure size 600x600 with 1 Axes>"
            ],
            "image/png": "[encoded data removed]"
          },
          "metadata": {}
        }
      ],
      "source": [
        "get_dataset_statistics(pd.DataFrame({'label': y_train}))"
      ]
    },
    {
      "cell_type": "code",
      "execution_count": null,
      "metadata": {
        "colab": {
          "base_uri": "https://localhost:8080/",
          "height": 499
        },
        "id": "tBCiPYyy-0YC",
        "outputId": "6b7e88b7-fe08-48b0-e502-180dee4201a7"
      },
      "outputs": [
        {
          "output_type": "display_data",
          "data": {
            "text/plain": [
              "<Figure size 600x600 with 1 Axes>"
            ],
            "image/png": "[encoded data removed]"
          },
          "metadata": {}
        }
      ],
      "source": [
        "get_dataset_statistics(pd.DataFrame({'label': y_test}))"
      ]
    },
    {
      "cell_type": "code",
      "execution_count": null,
      "metadata": {
        "id": "cVetnUhn-6K9",
        "colab": {
          "base_uri": "https://localhost:8080/",
          "height": 423
        },
        "outputId": "12b5b8a8-af13-4019-833d-1eea12dc9c75"
      },
      "outputs": [
        {
          "output_type": "execute_result",
          "data": {
            "text/plain": [
              "                                                  text  label\n",
              "0    I am quite queasy and dizzy when I have a temp...      0\n",
              "1    I've been experiencing muscular weakness and s...      0\n",
              "2    Over the last week, the rash on my face has go...      1\n",
              "3    I have a frequent need to urinate and often ha...      0\n",
              "4    I am feeling quite weak. I'm having a lot of s...      0\n",
              "..                                                 ...    ...\n",
              "917  Sometimes my skin starts to flake off from my ...      0\n",
              "918  My skin has a horrible rash that is absolutely...      1\n",
              "919  I occasionally have burning in my upper abdome...      0\n",
              "920  I lose weight unintentionally and find it chal...      0\n",
              "921  My mouth is filled with a sour, acidic flavour...      0\n",
              "\n",
              "[922 rows x 2 columns]"
            ],
            "text/html": [
              "\n",
              "  <div id=\"df-189b006d-4038-4098-b421-8e1e071f42f9\">\n",
              "    <div class=\"colab-df-container\">\n",
              "      <div>\n",
              "<style scoped>\n",
              "    .dataframe tbody tr th:only-of-type {\n",
              "        vertical-align: middle;\n",
              "    }\n",
              "\n",
              "    .dataframe tbody tr th {\n",
              "        vertical-align: top;\n",
              "    }\n",
              "\n",
              "    .dataframe thead th {\n",
              "        text-align: right;\n",
              "    }\n",
              "</style>\n",
              "<table border=\"1\" class=\"dataframe\">\n",
              "  <thead>\n",
              "    <tr style=\"text-align: right;\">\n",
              "      <th></th>\n",
              "      <th>text</th>\n",
              "      <th>label</th>\n",
              "    </tr>\n",
              "  </thead>\n",
              "  <tbody>\n",
              "    <tr>\n",
              "      <th>0</th>\n",
              "      <td>I am quite queasy and dizzy when I have a temp...</td>\n",
              "      <td>0</td>\n",
              "    </tr>\n",
              "    <tr>\n",
              "      <th>1</th>\n",
              "      <td>I've been experiencing muscular weakness and s...</td>\n",
              "      <td>0</td>\n",
              "    </tr>\n",
              "    <tr>\n",
              "      <th>2</th>\n",
              "      <td>Over the last week, the rash on my face has go...</td>\n",
              "      <td>1</td>\n",
              "    </tr>\n",
              "    <tr>\n",
              "      <th>3</th>\n",
              "      <td>I have a frequent need to urinate and often ha...</td>\n",
              "      <td>0</td>\n",
              "    </tr>\n",
              "    <tr>\n",
              "      <th>4</th>\n",
              "      <td>I am feeling quite weak. I'm having a lot of s...</td>\n",
              "      <td>0</td>\n",
              "    </tr>\n",
              "    <tr>\n",
              "      <th>...</th>\n",
              "      <td>...</td>\n",
              "      <td>...</td>\n",
              "    </tr>\n",
              "    <tr>\n",
              "      <th>917</th>\n",
              "      <td>Sometimes my skin starts to flake off from my ...</td>\n",
              "      <td>0</td>\n",
              "    </tr>\n",
              "    <tr>\n",
              "      <th>918</th>\n",
              "      <td>My skin has a horrible rash that is absolutely...</td>\n",
              "      <td>1</td>\n",
              "    </tr>\n",
              "    <tr>\n",
              "      <th>919</th>\n",
              "      <td>I occasionally have burning in my upper abdome...</td>\n",
              "      <td>0</td>\n",
              "    </tr>\n",
              "    <tr>\n",
              "      <th>920</th>\n",
              "      <td>I lose weight unintentionally and find it chal...</td>\n",
              "      <td>0</td>\n",
              "    </tr>\n",
              "    <tr>\n",
              "      <th>921</th>\n",
              "      <td>My mouth is filled with a sour, acidic flavour...</td>\n",
              "      <td>0</td>\n",
              "    </tr>\n",
              "  </tbody>\n",
              "</table>\n",
              "<p>922 rows × 2 columns</p>\n",
              "</div>\n",
              "      <button class=\"colab-df-convert\" onclick=\"convertToInteractive('df-189b006d-4038-4098-b421-8e1e071f42f9')\"\n",
              "              title=\"Convert this dataframe to an interactive table.\"\n",
              "              style=\"display:none;\">\n",
              "        \n",
              "  <svg xmlns=\"http://www.w3.org/2000/svg\" height=\"24px\"viewBox=\"0 0 24 24\"\n",
              "       width=\"24px\">\n",
              "    <path d=\"M0 0h24v24H0V0z\" fill=\"none\"/>\n",
              "    <path d=\"M18.56 5.44l.94 2.06.94-2.06 2.06-.94-2.06-.94-.94-2.06-.94 2.06-2.06.94zm-11 1L8.5 8.5l.94-2.06 2.06-.94-2.06-.94L8.5 2.5l-.94 2.06-2.06.94zm10 10l.94 2.06.94-2.06 2.06-.94-2.06-.94-.94-2.06-.94 2.06-2.06.94z\"/><path d=\"M17.41 7.96l-1.37-1.37c-.4-.4-.92-.59-1.43-.59-.52 0-1.04.2-1.43.59L10.3 9.45l-7.72 7.72c-.78.78-.78 2.05 0 2.83L4 21.41c.39.39.9.59 1.41.59.51 0 1.02-.2 1.41-.59l7.78-7.78 2.81-2.81c.8-.78.8-2.07 0-2.86zM5.41 20L4 18.59l7.72-7.72 1.47 1.35L5.41 20z\"/>\n",
              "  </svg>\n",
              "      </button>\n",
              "      \n",
              "  <style>\n",
              "    .colab-df-container {\n",
              "      display:flex;\n",
              "      flex-wrap:wrap;\n",
              "      gap: 12px;\n",
              "    }\n",
              "\n",
              "    .colab-df-convert {\n",
              "      background-color: #E8F0FE;\n",
              "      border: none;\n",
              "      border-radius: 50%;\n",
              "      cursor: pointer;\n",
              "      display: none;\n",
              "      fill: #1967D2;\n",
              "      height: 32px;\n",
              "      padding: 0 0 0 0;\n",
              "      width: 32px;\n",
              "    }\n",
              "\n",
              "    .colab-df-convert:hover {\n",
              "      background-color: #E2EBFA;\n",
              "      box-shadow: 0px 1px 2px rgba(60, 64, 67, 0.3), 0px 1px 3px 1px rgba(60, 64, 67, 0.15);\n",
              "      fill: #174EA6;\n",
              "    }\n",
              "\n",
              "    [theme=dark] .colab-df-convert {\n",
              "      background-color: #3B4455;\n",
              "      fill: #D2E3FC;\n",
              "    }\n",
              "\n",
              "    [theme=dark] .colab-df-convert:hover {\n",
              "      background-color: #434B5C;\n",
              "      box-shadow: 0px 1px 3px 1px rgba(0, 0, 0, 0.15);\n",
              "      filter: drop-shadow(0px 1px 2px rgba(0, 0, 0, 0.3));\n",
              "      fill: #FFFFFF;\n",
              "    }\n",
              "  </style>\n",
              "\n",
              "      <script>\n",
              "        const buttonEl =\n",
              "          document.querySelector('#df-189b006d-4038-4098-b421-8e1e071f42f9 button.colab-df-convert');\n",
              "        buttonEl.style.display =\n",
              "          google.colab.kernel.accessAllowed ? 'block' : 'none';\n",
              "\n",
              "        async function convertToInteractive(key) {\n",
              "          const element = document.querySelector('#df-189b006d-4038-4098-b421-8e1e071f42f9');\n",
              "          const dataTable =\n",
              "            await google.colab.kernel.invokeFunction('convertToInteractive',\n",
              "                                                     [key], {});\n",
              "          if (!dataTable) return;\n",
              "\n",
              "          const docLinkHtml = 'Like what you see? Visit the ' +\n",
              "            '<a target=\"_blank\" href=https://colab.research.google.com/notebooks/data_table.ipynb>data table notebook</a>'\n",
              "            + ' to learn more about interactive tables.';\n",
              "          element.innerHTML = '';\n",
              "          dataTable['output_type'] = 'display_data';\n",
              "          await google.colab.output.renderOutput(dataTable, element);\n",
              "          const docLink = document.createElement('div');\n",
              "          docLink.innerHTML = docLinkHtml;\n",
              "          element.appendChild(docLink);\n",
              "        }\n",
              "      </script>\n",
              "    </div>\n",
              "  </div>\n",
              "  "
            ]
          },
          "metadata": {},
          "execution_count": 10
        }
      ],
      "source": [
        "train_data = pd.DataFrame({'text': X_train, 'label': y_train})\n",
        "train_data"
      ]
    },
    {
      "cell_type": "code",
      "execution_count": null,
      "metadata": {
        "id": "ppXduhD3Okz8",
        "colab": {
          "base_uri": "https://localhost:8080/",
          "height": 423
        },
        "outputId": "245f9108-14c9-434b-9e73-8c7a0786ca48"
      },
      "outputs": [
        {
          "output_type": "execute_result",
          "data": {
            "text/plain": [
              "                                                  text  label\n",
              "0    My cheeks and nose are covered with red sores....      1\n",
              "1    My vision is blurry, and it feels like it's ge...      0\n",
              "2    I have noticed a sudden peeling of skin at dif...      1\n",
              "3    I've been suffering from severe constipation l...      0\n",
              "4    The sores around my nose are now surrounded by...      1\n",
              "..                                                 ...    ...\n",
              "226  I have been feeling nauseous and have a consta...      0\n",
              "227  I have a sour acidic taste in my mouth. I have...      0\n",
              "228  I routinely experience heartburn and indigesti...      0\n",
              "229  The veins on my calves have become very promin...      0\n",
              "230  Hello, Mom and Father Recently, I've felt incr...      0\n",
              "\n",
              "[231 rows x 2 columns]"
            ],
            "text/html": [
              "\n",
              "  <div id=\"df-6e9a86ac-95ea-447b-81ae-97b7a581db6d\">\n",
              "    <div class=\"colab-df-container\">\n",
              "      <div>\n",
              "<style scoped>\n",
              "    .dataframe tbody tr th:only-of-type {\n",
              "        vertical-align: middle;\n",
              "    }\n",
              "\n",
              "    .dataframe tbody tr th {\n",
              "        vertical-align: top;\n",
              "    }\n",
              "\n",
              "    .dataframe thead th {\n",
              "        text-align: right;\n",
              "    }\n",
              "</style>\n",
              "<table border=\"1\" class=\"dataframe\">\n",
              "  <thead>\n",
              "    <tr style=\"text-align: right;\">\n",
              "      <th></th>\n",
              "      <th>text</th>\n",
              "      <th>label</th>\n",
              "    </tr>\n",
              "  </thead>\n",
              "  <tbody>\n",
              "    <tr>\n",
              "      <th>0</th>\n",
              "      <td>My cheeks and nose are covered with red sores....</td>\n",
              "      <td>1</td>\n",
              "    </tr>\n",
              "    <tr>\n",
              "      <th>1</th>\n",
              "      <td>My vision is blurry, and it feels like it's ge...</td>\n",
              "      <td>0</td>\n",
              "    </tr>\n",
              "    <tr>\n",
              "      <th>2</th>\n",
              "      <td>I have noticed a sudden peeling of skin at dif...</td>\n",
              "      <td>1</td>\n",
              "    </tr>\n",
              "    <tr>\n",
              "      <th>3</th>\n",
              "      <td>I've been suffering from severe constipation l...</td>\n",
              "      <td>0</td>\n",
              "    </tr>\n",
              "    <tr>\n",
              "      <th>4</th>\n",
              "      <td>The sores around my nose are now surrounded by...</td>\n",
              "      <td>1</td>\n",
              "    </tr>\n",
              "    <tr>\n",
              "      <th>...</th>\n",
              "      <td>...</td>\n",
              "      <td>...</td>\n",
              "    </tr>\n",
              "    <tr>\n",
              "      <th>226</th>\n",
              "      <td>I have been feeling nauseous and have a consta...</td>\n",
              "      <td>0</td>\n",
              "    </tr>\n",
              "    <tr>\n",
              "      <th>227</th>\n",
              "      <td>I have a sour acidic taste in my mouth. I have...</td>\n",
              "      <td>0</td>\n",
              "    </tr>\n",
              "    <tr>\n",
              "      <th>228</th>\n",
              "      <td>I routinely experience heartburn and indigesti...</td>\n",
              "      <td>0</td>\n",
              "    </tr>\n",
              "    <tr>\n",
              "      <th>229</th>\n",
              "      <td>The veins on my calves have become very promin...</td>\n",
              "      <td>0</td>\n",
              "    </tr>\n",
              "    <tr>\n",
              "      <th>230</th>\n",
              "      <td>Hello, Mom and Father Recently, I've felt incr...</td>\n",
              "      <td>0</td>\n",
              "    </tr>\n",
              "  </tbody>\n",
              "</table>\n",
              "<p>231 rows × 2 columns</p>\n",
              "</div>\n",
              "      <button class=\"colab-df-convert\" onclick=\"convertToInteractive('df-6e9a86ac-95ea-447b-81ae-97b7a581db6d')\"\n",
              "              title=\"Convert this dataframe to an interactive table.\"\n",
              "              style=\"display:none;\">\n",
              "        \n",
              "  <svg xmlns=\"http://www.w3.org/2000/svg\" height=\"24px\"viewBox=\"0 0 24 24\"\n",
              "       width=\"24px\">\n",
              "    <path d=\"M0 0h24v24H0V0z\" fill=\"none\"/>\n",
              "    <path d=\"M18.56 5.44l.94 2.06.94-2.06 2.06-.94-2.06-.94-.94-2.06-.94 2.06-2.06.94zm-11 1L8.5 8.5l.94-2.06 2.06-.94-2.06-.94L8.5 2.5l-.94 2.06-2.06.94zm10 10l.94 2.06.94-2.06 2.06-.94-2.06-.94-.94-2.06-.94 2.06-2.06.94z\"/><path d=\"M17.41 7.96l-1.37-1.37c-.4-.4-.92-.59-1.43-.59-.52 0-1.04.2-1.43.59L10.3 9.45l-7.72 7.72c-.78.78-.78 2.05 0 2.83L4 21.41c.39.39.9.59 1.41.59.51 0 1.02-.2 1.41-.59l7.78-7.78 2.81-2.81c.8-.78.8-2.07 0-2.86zM5.41 20L4 18.59l7.72-7.72 1.47 1.35L5.41 20z\"/>\n",
              "  </svg>\n",
              "      </button>\n",
              "      \n",
              "  <style>\n",
              "    .colab-df-container {\n",
              "      display:flex;\n",
              "      flex-wrap:wrap;\n",
              "      gap: 12px;\n",
              "    }\n",
              "\n",
              "    .colab-df-convert {\n",
              "      background-color: #E8F0FE;\n",
              "      border: none;\n",
              "      border-radius: 50%;\n",
              "      cursor: pointer;\n",
              "      display: none;\n",
              "      fill: #1967D2;\n",
              "      height: 32px;\n",
              "      padding: 0 0 0 0;\n",
              "      width: 32px;\n",
              "    }\n",
              "\n",
              "    .colab-df-convert:hover {\n",
              "      background-color: #E2EBFA;\n",
              "      box-shadow: 0px 1px 2px rgba(60, 64, 67, 0.3), 0px 1px 3px 1px rgba(60, 64, 67, 0.15);\n",
              "      fill: #174EA6;\n",
              "    }\n",
              "\n",
              "    [theme=dark] .colab-df-convert {\n",
              "      background-color: #3B4455;\n",
              "      fill: #D2E3FC;\n",
              "    }\n",
              "\n",
              "    [theme=dark] .colab-df-convert:hover {\n",
              "      background-color: #434B5C;\n",
              "      box-shadow: 0px 1px 3px 1px rgba(0, 0, 0, 0.15);\n",
              "      filter: drop-shadow(0px 1px 2px rgba(0, 0, 0, 0.3));\n",
              "      fill: #FFFFFF;\n",
              "    }\n",
              "  </style>\n",
              "\n",
              "      <script>\n",
              "        const buttonEl =\n",
              "          document.querySelector('#df-6e9a86ac-95ea-447b-81ae-97b7a581db6d button.colab-df-convert');\n",
              "        buttonEl.style.display =\n",
              "          google.colab.kernel.accessAllowed ? 'block' : 'none';\n",
              "\n",
              "        async function convertToInteractive(key) {\n",
              "          const element = document.querySelector('#df-6e9a86ac-95ea-447b-81ae-97b7a581db6d');\n",
              "          const dataTable =\n",
              "            await google.colab.kernel.invokeFunction('convertToInteractive',\n",
              "                                                     [key], {});\n",
              "          if (!dataTable) return;\n",
              "\n",
              "          const docLinkHtml = 'Like what you see? Visit the ' +\n",
              "            '<a target=\"_blank\" href=https://colab.research.google.com/notebooks/data_table.ipynb>data table notebook</a>'\n",
              "            + ' to learn more about interactive tables.';\n",
              "          element.innerHTML = '';\n",
              "          dataTable['output_type'] = 'display_data';\n",
              "          await google.colab.output.renderOutput(dataTable, element);\n",
              "          const docLink = document.createElement('div');\n",
              "          docLink.innerHTML = docLinkHtml;\n",
              "          element.appendChild(docLink);\n",
              "        }\n",
              "      </script>\n",
              "    </div>\n",
              "  </div>\n",
              "  "
            ]
          },
          "metadata": {},
          "execution_count": 11
        }
      ],
      "source": [
        "test_data = pd.DataFrame({'text': X_test, 'label': y_test})\n",
        "test_data"
      ]
    },
    {
      "cell_type": "markdown",
      "metadata": {
        "id": "OiEsQgky_HtA"
      },
      "source": [
        "# Text Preprocessing "
      ]
    },
    {
      "cell_type": "code",
      "execution_count": null,
      "metadata": {
        "id": "gBlxYHn9_C_e"
      },
      "outputs": [],
      "source": [
        "import requests\n",
        "stopwords_list = requests.get(\"https://github.com/stopwords-iso/stopwords-en/blob/master/stopwords-en.txt\").content\n",
        "stopwords = set(stopwords_list.decode().splitlines())"
      ]
    },
    {
      "cell_type": "code",
      "execution_count": null,
      "metadata": {
        "id": "trlE3rdD_Lr7"
      },
      "outputs": [],
      "source": [
        "import string\n",
        "from nltk.corpus import stopwords\n",
        "from sklearn.feature_extraction.text import ENGLISH_STOP_WORDS\n",
        "sklearn_stopwords = ENGLISH_STOP_WORDS\n",
        "\n",
        "stop_words = set(stopwords.words('english'))\n",
        "stop_words.update(sklearn_stopwords)\n",
        "\n",
        "def text_preprocessing(raw_text):\n",
        "  text_words = raw_text.translate(str.maketrans('', '', string.punctuation))\n",
        "  msg_tokens = word_tokenize(text_words.lower())\n",
        "  filtered_text = [token for token in msg_tokens if not token in stop_words]\n",
        "  return \" \".join(filtered_text)"
      ]
    },
    {
      "cell_type": "code",
      "execution_count": null,
      "metadata": {
        "colab": {
          "base_uri": "https://localhost:8080/",
          "height": 423
        },
        "id": "bnTrzKDQALIB",
        "outputId": "f8ec8097-2410-4374-c77e-333c054616b4"
      },
      "outputs": [
        {
          "output_type": "execute_result",
          "data": {
            "text/plain": [
              "                                                  text  label\n",
              "0    quite queasy dizzy temperature brain completel...      0\n",
              "1    ive experiencing muscular weakness stiffness n...      0\n",
              "2    week rash face gotten severe painful sores beg...      1\n",
              "3    frequent need urinate uncontrollable urges fee...      0\n",
              "4    feeling quite weak im lot stomach discomfort c...      0\n",
              "..                                                 ...    ...\n",
              "917  skin starts flake rashes im prone sick result ...      0\n",
              "918  skin horrible rash absolutely nonheritable bla...      1\n",
              "919  occasionally burning upper abdomen day night h...      0\n",
              "920  lose weight unintentionally challenging acquir...      0\n",
              "921  mouth filled sour acidic flavour burping belch...      0\n",
              "\n",
              "[919 rows x 2 columns]"
            ],
            "text/html": [
              "\n",
              "  <div id=\"df-11b208a8-a2f3-46b5-8f73-d771bbe9adfd\">\n",
              "    <div class=\"colab-df-container\">\n",
              "      <div>\n",
              "<style scoped>\n",
              "    .dataframe tbody tr th:only-of-type {\n",
              "        vertical-align: middle;\n",
              "    }\n",
              "\n",
              "    .dataframe tbody tr th {\n",
              "        vertical-align: top;\n",
              "    }\n",
              "\n",
              "    .dataframe thead th {\n",
              "        text-align: right;\n",
              "    }\n",
              "</style>\n",
              "<table border=\"1\" class=\"dataframe\">\n",
              "  <thead>\n",
              "    <tr style=\"text-align: right;\">\n",
              "      <th></th>\n",
              "      <th>text</th>\n",
              "      <th>label</th>\n",
              "    </tr>\n",
              "  </thead>\n",
              "  <tbody>\n",
              "    <tr>\n",
              "      <th>0</th>\n",
              "      <td>quite queasy dizzy temperature brain completel...</td>\n",
              "      <td>0</td>\n",
              "    </tr>\n",
              "    <tr>\n",
              "      <th>1</th>\n",
              "      <td>ive experiencing muscular weakness stiffness n...</td>\n",
              "      <td>0</td>\n",
              "    </tr>\n",
              "    <tr>\n",
              "      <th>2</th>\n",
              "      <td>week rash face gotten severe painful sores beg...</td>\n",
              "      <td>1</td>\n",
              "    </tr>\n",
              "    <tr>\n",
              "      <th>3</th>\n",
              "      <td>frequent need urinate uncontrollable urges fee...</td>\n",
              "      <td>0</td>\n",
              "    </tr>\n",
              "    <tr>\n",
              "      <th>4</th>\n",
              "      <td>feeling quite weak im lot stomach discomfort c...</td>\n",
              "      <td>0</td>\n",
              "    </tr>\n",
              "    <tr>\n",
              "      <th>...</th>\n",
              "      <td>...</td>\n",
              "      <td>...</td>\n",
              "    </tr>\n",
              "    <tr>\n",
              "      <th>917</th>\n",
              "      <td>skin starts flake rashes im prone sick result ...</td>\n",
              "      <td>0</td>\n",
              "    </tr>\n",
              "    <tr>\n",
              "      <th>918</th>\n",
              "      <td>skin horrible rash absolutely nonheritable bla...</td>\n",
              "      <td>1</td>\n",
              "    </tr>\n",
              "    <tr>\n",
              "      <th>919</th>\n",
              "      <td>occasionally burning upper abdomen day night h...</td>\n",
              "      <td>0</td>\n",
              "    </tr>\n",
              "    <tr>\n",
              "      <th>920</th>\n",
              "      <td>lose weight unintentionally challenging acquir...</td>\n",
              "      <td>0</td>\n",
              "    </tr>\n",
              "    <tr>\n",
              "      <th>921</th>\n",
              "      <td>mouth filled sour acidic flavour burping belch...</td>\n",
              "      <td>0</td>\n",
              "    </tr>\n",
              "  </tbody>\n",
              "</table>\n",
              "<p>919 rows × 2 columns</p>\n",
              "</div>\n",
              "      <button class=\"colab-df-convert\" onclick=\"convertToInteractive('df-11b208a8-a2f3-46b5-8f73-d771bbe9adfd')\"\n",
              "              title=\"Convert this dataframe to an interactive table.\"\n",
              "              style=\"display:none;\">\n",
              "        \n",
              "  <svg xmlns=\"http://www.w3.org/2000/svg\" height=\"24px\"viewBox=\"0 0 24 24\"\n",
              "       width=\"24px\">\n",
              "    <path d=\"M0 0h24v24H0V0z\" fill=\"none\"/>\n",
              "    <path d=\"M18.56 5.44l.94 2.06.94-2.06 2.06-.94-2.06-.94-.94-2.06-.94 2.06-2.06.94zm-11 1L8.5 8.5l.94-2.06 2.06-.94-2.06-.94L8.5 2.5l-.94 2.06-2.06.94zm10 10l.94 2.06.94-2.06 2.06-.94-2.06-.94-.94-2.06-.94 2.06-2.06.94z\"/><path d=\"M17.41 7.96l-1.37-1.37c-.4-.4-.92-.59-1.43-.59-.52 0-1.04.2-1.43.59L10.3 9.45l-7.72 7.72c-.78.78-.78 2.05 0 2.83L4 21.41c.39.39.9.59 1.41.59.51 0 1.02-.2 1.41-.59l7.78-7.78 2.81-2.81c.8-.78.8-2.07 0-2.86zM5.41 20L4 18.59l7.72-7.72 1.47 1.35L5.41 20z\"/>\n",
              "  </svg>\n",
              "      </button>\n",
              "      \n",
              "  <style>\n",
              "    .colab-df-container {\n",
              "      display:flex;\n",
              "      flex-wrap:wrap;\n",
              "      gap: 12px;\n",
              "    }\n",
              "\n",
              "    .colab-df-convert {\n",
              "      background-color: #E8F0FE;\n",
              "      border: none;\n",
              "      border-radius: 50%;\n",
              "      cursor: pointer;\n",
              "      display: none;\n",
              "      fill: #1967D2;\n",
              "      height: 32px;\n",
              "      padding: 0 0 0 0;\n",
              "      width: 32px;\n",
              "    }\n",
              "\n",
              "    .colab-df-convert:hover {\n",
              "      background-color: #E2EBFA;\n",
              "      box-shadow: 0px 1px 2px rgba(60, 64, 67, 0.3), 0px 1px 3px 1px rgba(60, 64, 67, 0.15);\n",
              "      fill: #174EA6;\n",
              "    }\n",
              "\n",
              "    [theme=dark] .colab-df-convert {\n",
              "      background-color: #3B4455;\n",
              "      fill: #D2E3FC;\n",
              "    }\n",
              "\n",
              "    [theme=dark] .colab-df-convert:hover {\n",
              "      background-color: #434B5C;\n",
              "      box-shadow: 0px 1px 3px 1px rgba(0, 0, 0, 0.15);\n",
              "      filter: drop-shadow(0px 1px 2px rgba(0, 0, 0, 0.3));\n",
              "      fill: #FFFFFF;\n",
              "    }\n",
              "  </style>\n",
              "\n",
              "      <script>\n",
              "        const buttonEl =\n",
              "          document.querySelector('#df-11b208a8-a2f3-46b5-8f73-d771bbe9adfd button.colab-df-convert');\n",
              "        buttonEl.style.display =\n",
              "          google.colab.kernel.accessAllowed ? 'block' : 'none';\n",
              "\n",
              "        async function convertToInteractive(key) {\n",
              "          const element = document.querySelector('#df-11b208a8-a2f3-46b5-8f73-d771bbe9adfd');\n",
              "          const dataTable =\n",
              "            await google.colab.kernel.invokeFunction('convertToInteractive',\n",
              "                                                     [key], {});\n",
              "          if (!dataTable) return;\n",
              "\n",
              "          const docLinkHtml = 'Like what you see? Visit the ' +\n",
              "            '<a target=\"_blank\" href=https://colab.research.google.com/notebooks/data_table.ipynb>data table notebook</a>'\n",
              "            + ' to learn more about interactive tables.';\n",
              "          element.innerHTML = '';\n",
              "          dataTable['output_type'] = 'display_data';\n",
              "          await google.colab.output.renderOutput(dataTable, element);\n",
              "          const docLink = document.createElement('div');\n",
              "          docLink.innerHTML = docLinkHtml;\n",
              "          element.appendChild(docLink);\n",
              "        }\n",
              "      </script>\n",
              "    </div>\n",
              "  </div>\n",
              "  "
            ]
          },
          "metadata": {},
          "execution_count": 14
        }
      ],
      "source": [
        "train_data = train_data[['text', 'label']].copy()\n",
        "\n",
        "train_data['text'] = train_data['text'].apply(text_preprocessing)\n",
        "\n",
        "train_data.drop_duplicates(inplace=True)\n",
        "\n",
        "train_data"
      ]
    },
    {
      "cell_type": "code",
      "execution_count": null,
      "metadata": {
        "colab": {
          "base_uri": "https://localhost:8080/",
          "height": 423
        },
        "id": "21_qKNngOiqe",
        "outputId": "330acc66-42ab-4105-b5ef-281f16d2930f"
      },
      "outputs": [
        {
          "output_type": "execute_result",
          "data": {
            "text/plain": [
              "                                                  text  label\n",
              "0    cheeks nose covered red sores ive observed ras...      1\n",
              "1    vision blurry feels like getting worse time fe...      0\n",
              "2    noticed sudden peeling skin different parts bo...      1\n",
              "3    ive suffering severe constipation lately restr...      0\n",
              "4    sores nose surrounded red inflamed skin rash c...      1\n",
              "..                                                 ...    ...\n",
              "226  feeling nauseous constant urge vomit strong pa...      0\n",
              "227  sour acidic taste mouth frequent belching burp...      0\n",
              "228  routinely experience heartburn indigestion par...      0\n",
              "229  veins calves prominent causing discomfort stan...      0\n",
              "230  hello mom father recently ive felt incredibly ...      0\n",
              "\n",
              "[231 rows x 2 columns]"
            ],
            "text/html": [
              "\n",
              "  <div id=\"df-534e0044-9f05-4bf8-ad01-db2ef8ff4864\">\n",
              "    <div class=\"colab-df-container\">\n",
              "      <div>\n",
              "<style scoped>\n",
              "    .dataframe tbody tr th:only-of-type {\n",
              "        vertical-align: middle;\n",
              "    }\n",
              "\n",
              "    .dataframe tbody tr th {\n",
              "        vertical-align: top;\n",
              "    }\n",
              "\n",
              "    .dataframe thead th {\n",
              "        text-align: right;\n",
              "    }\n",
              "</style>\n",
              "<table border=\"1\" class=\"dataframe\">\n",
              "  <thead>\n",
              "    <tr style=\"text-align: right;\">\n",
              "      <th></th>\n",
              "      <th>text</th>\n",
              "      <th>label</th>\n",
              "    </tr>\n",
              "  </thead>\n",
              "  <tbody>\n",
              "    <tr>\n",
              "      <th>0</th>\n",
              "      <td>cheeks nose covered red sores ive observed ras...</td>\n",
              "      <td>1</td>\n",
              "    </tr>\n",
              "    <tr>\n",
              "      <th>1</th>\n",
              "      <td>vision blurry feels like getting worse time fe...</td>\n",
              "      <td>0</td>\n",
              "    </tr>\n",
              "    <tr>\n",
              "      <th>2</th>\n",
              "      <td>noticed sudden peeling skin different parts bo...</td>\n",
              "      <td>1</td>\n",
              "    </tr>\n",
              "    <tr>\n",
              "      <th>3</th>\n",
              "      <td>ive suffering severe constipation lately restr...</td>\n",
              "      <td>0</td>\n",
              "    </tr>\n",
              "    <tr>\n",
              "      <th>4</th>\n",
              "      <td>sores nose surrounded red inflamed skin rash c...</td>\n",
              "      <td>1</td>\n",
              "    </tr>\n",
              "    <tr>\n",
              "      <th>...</th>\n",
              "      <td>...</td>\n",
              "      <td>...</td>\n",
              "    </tr>\n",
              "    <tr>\n",
              "      <th>226</th>\n",
              "      <td>feeling nauseous constant urge vomit strong pa...</td>\n",
              "      <td>0</td>\n",
              "    </tr>\n",
              "    <tr>\n",
              "      <th>227</th>\n",
              "      <td>sour acidic taste mouth frequent belching burp...</td>\n",
              "      <td>0</td>\n",
              "    </tr>\n",
              "    <tr>\n",
              "      <th>228</th>\n",
              "      <td>routinely experience heartburn indigestion par...</td>\n",
              "      <td>0</td>\n",
              "    </tr>\n",
              "    <tr>\n",
              "      <th>229</th>\n",
              "      <td>veins calves prominent causing discomfort stan...</td>\n",
              "      <td>0</td>\n",
              "    </tr>\n",
              "    <tr>\n",
              "      <th>230</th>\n",
              "      <td>hello mom father recently ive felt incredibly ...</td>\n",
              "      <td>0</td>\n",
              "    </tr>\n",
              "  </tbody>\n",
              "</table>\n",
              "<p>231 rows × 2 columns</p>\n",
              "</div>\n",
              "      <button class=\"colab-df-convert\" onclick=\"convertToInteractive('df-534e0044-9f05-4bf8-ad01-db2ef8ff4864')\"\n",
              "              title=\"Convert this dataframe to an interactive table.\"\n",
              "              style=\"display:none;\">\n",
              "        \n",
              "  <svg xmlns=\"http://www.w3.org/2000/svg\" height=\"24px\"viewBox=\"0 0 24 24\"\n",
              "       width=\"24px\">\n",
              "    <path d=\"M0 0h24v24H0V0z\" fill=\"none\"/>\n",
              "    <path d=\"M18.56 5.44l.94 2.06.94-2.06 2.06-.94-2.06-.94-.94-2.06-.94 2.06-2.06.94zm-11 1L8.5 8.5l.94-2.06 2.06-.94-2.06-.94L8.5 2.5l-.94 2.06-2.06.94zm10 10l.94 2.06.94-2.06 2.06-.94-2.06-.94-.94-2.06-.94 2.06-2.06.94z\"/><path d=\"M17.41 7.96l-1.37-1.37c-.4-.4-.92-.59-1.43-.59-.52 0-1.04.2-1.43.59L10.3 9.45l-7.72 7.72c-.78.78-.78 2.05 0 2.83L4 21.41c.39.39.9.59 1.41.59.51 0 1.02-.2 1.41-.59l7.78-7.78 2.81-2.81c.8-.78.8-2.07 0-2.86zM5.41 20L4 18.59l7.72-7.72 1.47 1.35L5.41 20z\"/>\n",
              "  </svg>\n",
              "      </button>\n",
              "      \n",
              "  <style>\n",
              "    .colab-df-container {\n",
              "      display:flex;\n",
              "      flex-wrap:wrap;\n",
              "      gap: 12px;\n",
              "    }\n",
              "\n",
              "    .colab-df-convert {\n",
              "      background-color: #E8F0FE;\n",
              "      border: none;\n",
              "      border-radius: 50%;\n",
              "      cursor: pointer;\n",
              "      display: none;\n",
              "      fill: #1967D2;\n",
              "      height: 32px;\n",
              "      padding: 0 0 0 0;\n",
              "      width: 32px;\n",
              "    }\n",
              "\n",
              "    .colab-df-convert:hover {\n",
              "      background-color: #E2EBFA;\n",
              "      box-shadow: 0px 1px 2px rgba(60, 64, 67, 0.3), 0px 1px 3px 1px rgba(60, 64, 67, 0.15);\n",
              "      fill: #174EA6;\n",
              "    }\n",
              "\n",
              "    [theme=dark] .colab-df-convert {\n",
              "      background-color: #3B4455;\n",
              "      fill: #D2E3FC;\n",
              "    }\n",
              "\n",
              "    [theme=dark] .colab-df-convert:hover {\n",
              "      background-color: #434B5C;\n",
              "      box-shadow: 0px 1px 3px 1px rgba(0, 0, 0, 0.15);\n",
              "      filter: drop-shadow(0px 1px 2px rgba(0, 0, 0, 0.3));\n",
              "      fill: #FFFFFF;\n",
              "    }\n",
              "  </style>\n",
              "\n",
              "      <script>\n",
              "        const buttonEl =\n",
              "          document.querySelector('#df-534e0044-9f05-4bf8-ad01-db2ef8ff4864 button.colab-df-convert');\n",
              "        buttonEl.style.display =\n",
              "          google.colab.kernel.accessAllowed ? 'block' : 'none';\n",
              "\n",
              "        async function convertToInteractive(key) {\n",
              "          const element = document.querySelector('#df-534e0044-9f05-4bf8-ad01-db2ef8ff4864');\n",
              "          const dataTable =\n",
              "            await google.colab.kernel.invokeFunction('convertToInteractive',\n",
              "                                                     [key], {});\n",
              "          if (!dataTable) return;\n",
              "\n",
              "          const docLinkHtml = 'Like what you see? Visit the ' +\n",
              "            '<a target=\"_blank\" href=https://colab.research.google.com/notebooks/data_table.ipynb>data table notebook</a>'\n",
              "            + ' to learn more about interactive tables.';\n",
              "          element.innerHTML = '';\n",
              "          dataTable['output_type'] = 'display_data';\n",
              "          await google.colab.output.renderOutput(dataTable, element);\n",
              "          const docLink = document.createElement('div');\n",
              "          docLink.innerHTML = docLinkHtml;\n",
              "          element.appendChild(docLink);\n",
              "        }\n",
              "      </script>\n",
              "    </div>\n",
              "  </div>\n",
              "  "
            ]
          },
          "metadata": {},
          "execution_count": 15
        }
      ],
      "source": [
        "test_data = test_data[['text', 'label']].copy()\n",
        "\n",
        "test_data['text'] = test_data['text'].apply(text_preprocessing)\n",
        "\n",
        "test_data.drop_duplicates(inplace=True)\n",
        "\n",
        "test_data"
      ]
    },
    {
      "cell_type": "markdown",
      "metadata": {
        "id": "m-8gEBwNA7PN"
      },
      "source": [
        "# Feature Extraction"
      ]
    },
    {
      "cell_type": "code",
      "execution_count": null,
      "metadata": {
        "colab": {
          "base_uri": "https://localhost:8080/"
        },
        "id": "qhU5I2TaBIUz",
        "outputId": "b061e2f6-ff76-4890-a5ba-8e70f2dcc379"
      },
      "outputs": [
        {
          "output_type": "stream",
          "name": "stdout",
          "text": [
            "[==================================================] 100.0% 1662.8/1662.8MB downloaded\n"
          ]
        }
      ],
      "source": [
        "word2vec_model = api.load(\"word2vec-google-news-300\")"
      ]
    },
    {
      "cell_type": "code",
      "execution_count": null,
      "metadata": {
        "id": "XOa6vzkoAhaN"
      },
      "outputs": [],
      "source": [
        "def get_text_vec(sent):\n",
        "  vector = np.mean(np.array([word2vec_model[token] for token in word_tokenize(sent) if token in word2vec_model.key_to_index]), axis=0)\n",
        "  if np.all(np.isnan(vector)) :\n",
        "    return np.zeros(300)\n",
        "  return vector"
      ]
    },
    {
      "cell_type": "code",
      "execution_count": null,
      "metadata": {
        "id": "M-b-fuZXEjnH"
      },
      "outputs": [],
      "source": [
        "X_test = np.stack(np.array([get_text_vec(text) for text in test_data['text'].values]))"
      ]
    },
    {
      "cell_type": "code",
      "execution_count": null,
      "metadata": {
        "colab": {
          "base_uri": "https://localhost:8080/"
        },
        "id": "lDfVSWFzEpwH",
        "outputId": "696e9436-471e-4919-9cfb-630f16744536"
      },
      "outputs": [
        {
          "output_type": "execute_result",
          "data": {
            "text/plain": [
              "(231, 300)"
            ]
          },
          "metadata": {},
          "execution_count": 21
        }
      ],
      "source": [
        "X_test.shape"
      ]
    },
    {
      "cell_type": "code",
      "execution_count": null,
      "metadata": {
        "id": "NCi6wK0kPACs"
      },
      "outputs": [],
      "source": [
        "y_test = test_data['label'].values"
      ]
    },
    {
      "cell_type": "code",
      "execution_count": null,
      "metadata": {
        "colab": {
          "base_uri": "https://localhost:8080/"
        },
        "id": "0I964n-QPBQE",
        "outputId": "49db1b3f-d6ce-45d1-de83-8239d975e2a6"
      },
      "outputs": [
        {
          "output_type": "execute_result",
          "data": {
            "text/plain": [
              "(231,)"
            ]
          },
          "metadata": {},
          "execution_count": 23
        }
      ],
      "source": [
        "y_test.shape"
      ]
    },
    {
      "cell_type": "markdown",
      "metadata": {
        "id": "TEqW7eb9BkwW"
      },
      "source": [
        "# Model selection, training and evaluation"
      ]
    },
    {
      "cell_type": "code",
      "execution_count": null,
      "metadata": {
        "id": "OoEtJG3G4qMB"
      },
      "outputs": [],
      "source": [
        "def f_beta_score(y_true, y_pred):\n",
        "  return fbeta_score(y_true, y_pred, beta=2)\n",
        "\n",
        "f2_score = make_scorer(f_beta_score, greater_is_better=True)"
      ]
    },
    {
      "cell_type": "code",
      "execution_count": null,
      "metadata": {
        "id": "JU8v73f74qAG"
      },
      "outputs": [],
      "source": [
        "from datetime import datetime\n",
        "\n",
        "def save_cross_validation(results, file_name):\n",
        "  results_to_save = pd.DataFrame(columns=['Accuracy', 'Recall', 'Precision', 'F1 Score', 'F2 Score'])\n",
        "  for i in range(0, 10):\n",
        "    results_to_save.loc[i] = [\n",
        "      results['split{}_test_Accuracy'.format(i)][0],\n",
        "      results['split{}_test_Recall'.format(i)][0],\n",
        "      results['split{}_test_Precision'.format(i)][0],\n",
        "      results['split{}_test_F1'.format(i)][0],\n",
        "      results['split{}_test_F2'.format(i)][0]\n",
        "    ]\n",
        "  results_to_save.to_csv('{}Results/{}_{}.csv'.format(dir_name+'experiments/Skin Diseases/', file_name, datetime.now().strftime(\"%m%d%H%M\")))"
      ]
    },
    {
      "cell_type": "code",
      "execution_count": null,
      "metadata": {
        "id": "CP817Ht44p0i"
      },
      "outputs": [],
      "source": [
        "def train_model(classifier, param_grid, model_name, train_texts, train_labels, test_texts, test_labels, evaluation_metrics, to_print=True, to_save=False, file_name=None):\n",
        "    \"\"\"\n",
        "    train email classification model.\n",
        "    \"\"\"\n",
        "\n",
        "    # apply grid search to find best model hyper parameters\n",
        "    grid_search = GridSearchCV(classifier, param_grid, cv=10, scoring={'Accuracy': make_scorer(accuracy_score),\n",
        "                                                                       'F1': make_scorer(f1_score),\n",
        "                                                                       'F2': f2_score,\n",
        "                                                                       'Recall': make_scorer(recall_score),\n",
        "                                                                       'Precision': make_scorer(precision_score)\n",
        "                                                                       }, refit='F1', n_jobs=-1)\n",
        "    grid_search.fit(train_texts, train_labels)\n",
        "    model = grid_search.best_estimator_\n",
        "\n",
        "    if to_save:\n",
        "      ConfusionMatrixDisplay(save_cross_validation(grid_search.cv_results_, file_name))\n",
        "      plt.show()\n",
        "\n",
        "    # train and test accuracy.\n",
        "    test_accuracy = model.score(test_texts, test_labels)\n",
        "    train_accuracy = model.score(train_texts, train_labels)\n",
        "\n",
        "    # compute F1 score for model evaluation.\n",
        "    y_pred = model.predict(test_texts)\n",
        "\n",
        "    recall = recall_score(test_labels, y_pred)\n",
        "    precision = precision_score(test_labels, y_pred)\n",
        "    f1score = f1_score(test_labels, y_pred)\n",
        "    f2score = fbeta_score(y_test, y_pred, beta=2)\n",
        "\n",
        "    if to_print:\n",
        "        print(\"train accuracy = \" + str(train_accuracy))\n",
        "        print(\"test accuracy = \" + str(test_accuracy))\n",
        "        print(\"Recall = {}\".format(recall))\n",
        "        print(\"Precision = {}\".format(precision))\n",
        "        print(\"F1 score = {}\".format(f1score))\n",
        "        print(\"F2 score = {}\".format(f2score))\n",
        "        print(classification_report(test_labels, y_pred))\n",
        "\n",
        "\n",
        "        # plot confusion matrix\n",
        "        cm = confusion_matrix(test_labels, y_pred)\n",
        "        disp = ConfusionMatrixDisplay(confusion_matrix=cm, display_labels=[0,1])\n",
        "\n",
        "        disp.plot(cmap=plt.cm.Blues)\n",
        "        plt.show()\n",
        "\n",
        "        # print best model hyper parameters.\n",
        "        print(grid_search.best_params_)\n",
        "\n",
        "    evaluation_metrics.loc[model_name, 'Recall'] = recall\n",
        "    evaluation_metrics.loc[model_name, 'Precision'] = precision\n",
        "    evaluation_metrics.loc[model_name, 'F1 score'] = f1score\n",
        "    evaluation_metrics.loc[model_name, 'F2 score'] = f2score\n",
        "\n",
        "    return f1score, f2score\n",
        "\n",
        "\n",
        "def train(model_id, train_texts, train_labels, test_texts, test_labels, evaluation_metrics, to_print=True, to_save=False, file_name=None):\n",
        "    \n",
        "    if model_id == 1:\n",
        "        # Random forest Classification model.\n",
        "        forest_clf = RandomForestClassifier(random_state=42, n_jobs=-1)\n",
        "        forest_param_grid = [{'n_estimators': [50, 75, 100, 150, 200], 'max_features': [8, 9, 10], 'min_samples_split': [25, 30], 'criterion': ['gini','entropy'], 'max_depth': [4, 5]}]\n",
        "        return train_model(forest_clf, forest_param_grid, 'RandomForest', train_texts, train_labels, test_texts, test_labels, evaluation_metrics, to_print, to_save, file_name)\n",
        "\n",
        "    if model_id == 2:\n",
        "        # Support Vector Machine Model.\n",
        "        svc_clf = SVC(random_state=42)\n",
        "        svc_param_grid = [{'kernel': ['rbf', 'poly'], 'degree': [2, 3 , 4, 5, 6, 7]}]\n",
        "\n",
        "        return train_model(svc_clf, svc_param_grid, 'SVM', train_texts, train_labels, test_texts, test_labels, evaluation_metrics, to_print, to_save, file_name)"
      ]
    },
    {
      "cell_type": "markdown",
      "source": [
        "#Text Aug."
      ],
      "metadata": {
        "id": "rZZz-jTuKrPk"
      }
    },
    {
      "cell_type": "code",
      "source": [
        "from nltk.corpus import wordnet\n",
        "\n",
        "def get_synonyms(word):\n",
        "  synonyms = []\n",
        "  for synonym in wordnet.synsets(word):\n",
        "    for lemma in [l.name().lower() for l in synonym.lemmas()]:\n",
        "      if len(lemma.split('_')) == 1 and lemma != word:\n",
        "        synonyms.append(lemma)\n",
        "\n",
        "  return list(set(synonyms))"
      ],
      "metadata": {
        "id": "ecqTIbsYKs7x"
      },
      "execution_count": null,
      "outputs": []
    },
    {
      "cell_type": "code",
      "source": [
        "import itertools\n",
        "\n",
        "def get_sentence_augmentations(sentence, similarity_threshold=.75):\n",
        "  sentence_tokens = word_tokenize(sentence.lower())\n",
        "  new_sentences = []\n",
        "  words = []\n",
        "  all_synonyms = []\n",
        "  for word in sentence_tokens:\n",
        "    if word in word2vec_model.key_to_index :\n",
        "      synonyms = get_synonyms(word)\n",
        "      if len(synonyms) > 0:\n",
        "        good_synonyms = []\n",
        "        for synonym in synonyms:\n",
        "          if synonym in word2vec_model.key_to_index :\n",
        "            if word2vec_model.similarity(word, synonym) >= similarity_threshold:\n",
        "              good_synonyms.append(synonym)\n",
        "        if len(good_synonyms) > 0:\n",
        "          words.append(word)\n",
        "          good_synonyms.append(word)\n",
        "          all_synonyms.append(good_synonyms)\n",
        "  for product in itertools.product(*all_synonyms):\n",
        "    new_sentence = sentence\n",
        "    for src, dest in zip(words, product):\n",
        "        new_sentence = new_sentence.replace(\"%s\" % src, dest)\n",
        "    new_sentences.append(new_sentence.lower())\n",
        "    # new_sentences.remove(sentence)\n",
        "  return new_sentences"
      ],
      "metadata": {
        "id": "DetTlHaGKs4p"
      },
      "execution_count": null,
      "outputs": []
    },
    {
      "cell_type": "code",
      "source": [
        "def my_augmentation(prepro_dataset, lable, similarity_threshold=.75):\n",
        "  texts = prepro_dataset.loc[prepro_dataset['label'] == lable]['text'].values\n",
        "  texts_num = len(texts)\n",
        "  new_texts = []\n",
        "  i = 0\n",
        "  \n",
        "  for text in texts:\n",
        "    new_texts.extend(get_sentence_augmentations(text, similarity_threshold))\n",
        "    if i % 20 == 0:\n",
        "      print(f\" {int(100*i/texts_num)} %\")\n",
        "    i += 1\n",
        "  augmentations = prepro_dataset[['text', 'label']].copy().append(pd.DataFrame({'label':[lable] * len(new_texts), 'text':new_texts}), ignore_index = True)\n",
        "  augmentations.drop_duplicates(inplace=True)\n",
        "  return augmentations.sample(frac=1)"
      ],
      "metadata": {
        "id": "4mTTkBiXKsye"
      },
      "execution_count": null,
      "outputs": []
    },
    {
      "cell_type": "code",
      "source": [
        "augmented_dataset = my_augmentation(train_data, lable=1, similarity_threshold=.75)"
      ],
      "metadata": {
        "colab": {
          "base_uri": "https://localhost:8080/"
        },
        "id": "3q6ypttbK5tM",
        "outputId": "454da155-1307-484c-8c66-549a04804b39"
      },
      "execution_count": null,
      "outputs": [
        {
          "output_type": "stream",
          "name": "stdout",
          "text": [
            " 0 %\n",
            " 12 %\n",
            " 25 %\n",
            " 38 %\n",
            " 51 %\n",
            " 64 %\n",
            " 77 %\n",
            " 90 %\n"
          ]
        },
        {
          "output_type": "stream",
          "name": "stderr",
          "text": [
            "<ipython-input-20-98b0f6d823b3>:12: FutureWarning: The frame.append method is deprecated and will be removed from pandas in a future version. Use pandas.concat instead.\n",
            "  augmentations = prepro_dataset[['text', 'label']].copy().append(pd.DataFrame({'label':[lable] * len(new_texts), 'text':new_texts}), ignore_index = True)\n"
          ]
        }
      ]
    },
    {
      "cell_type": "code",
      "source": [
        "augmented_dataset"
      ],
      "metadata": {
        "colab": {
          "base_uri": "https://localhost:8080/",
          "height": 423
        },
        "id": "-4ogeJR0K9hi",
        "outputId": "8409b1f6-2dc2-4cf5-fb59-89f5fa745c50"
      },
      "execution_count": null,
      "outputs": [
        {
          "output_type": "execute_result",
          "data": {
            "text/plain": [
              "                                                   text  label\n",
              "652   im dripping perspiration catch breath throat f...      0\n",
              "952   skin rash thats red inflamed spread body ive e...      1\n",
              "826   pain persistent cough numbness arms legs bothe...      0\n",
              "1138  im feeling really nauseous uneasy im sure ive ...      1\n",
              "1209  high fever red spots rashes body feeling exhau...      1\n",
              "...                                                 ...    ...\n",
              "845   throat feels food acid backing lying makes che...      0\n",
              "1378  im really exhausted lacking energy scarcely ey...      1\n",
              "15    ive scratchy stomach throwing aside losing wei...      0\n",
              "268   intense scratching chills nausea high fever iv...      0\n",
              "415   body itching like crazy red areas additionally...      0\n",
              "\n",
              "[1260 rows x 2 columns]"
            ],
            "text/html": [
              "\n",
              "  <div id=\"df-7893e792-2267-420e-8568-fda1d31dfb91\">\n",
              "    <div class=\"colab-df-container\">\n",
              "      <div>\n",
              "<style scoped>\n",
              "    .dataframe tbody tr th:only-of-type {\n",
              "        vertical-align: middle;\n",
              "    }\n",
              "\n",
              "    .dataframe tbody tr th {\n",
              "        vertical-align: top;\n",
              "    }\n",
              "\n",
              "    .dataframe thead th {\n",
              "        text-align: right;\n",
              "    }\n",
              "</style>\n",
              "<table border=\"1\" class=\"dataframe\">\n",
              "  <thead>\n",
              "    <tr style=\"text-align: right;\">\n",
              "      <th></th>\n",
              "      <th>text</th>\n",
              "      <th>label</th>\n",
              "    </tr>\n",
              "  </thead>\n",
              "  <tbody>\n",
              "    <tr>\n",
              "      <th>652</th>\n",
              "      <td>im dripping perspiration catch breath throat f...</td>\n",
              "      <td>0</td>\n",
              "    </tr>\n",
              "    <tr>\n",
              "      <th>952</th>\n",
              "      <td>skin rash thats red inflamed spread body ive e...</td>\n",
              "      <td>1</td>\n",
              "    </tr>\n",
              "    <tr>\n",
              "      <th>826</th>\n",
              "      <td>pain persistent cough numbness arms legs bothe...</td>\n",
              "      <td>0</td>\n",
              "    </tr>\n",
              "    <tr>\n",
              "      <th>1138</th>\n",
              "      <td>im feeling really nauseous uneasy im sure ive ...</td>\n",
              "      <td>1</td>\n",
              "    </tr>\n",
              "    <tr>\n",
              "      <th>1209</th>\n",
              "      <td>high fever red spots rashes body feeling exhau...</td>\n",
              "      <td>1</td>\n",
              "    </tr>\n",
              "    <tr>\n",
              "      <th>...</th>\n",
              "      <td>...</td>\n",
              "      <td>...</td>\n",
              "    </tr>\n",
              "    <tr>\n",
              "      <th>845</th>\n",
              "      <td>throat feels food acid backing lying makes che...</td>\n",
              "      <td>0</td>\n",
              "    </tr>\n",
              "    <tr>\n",
              "      <th>1378</th>\n",
              "      <td>im really exhausted lacking energy scarcely ey...</td>\n",
              "      <td>1</td>\n",
              "    </tr>\n",
              "    <tr>\n",
              "      <th>15</th>\n",
              "      <td>ive scratchy stomach throwing aside losing wei...</td>\n",
              "      <td>0</td>\n",
              "    </tr>\n",
              "    <tr>\n",
              "      <th>268</th>\n",
              "      <td>intense scratching chills nausea high fever iv...</td>\n",
              "      <td>0</td>\n",
              "    </tr>\n",
              "    <tr>\n",
              "      <th>415</th>\n",
              "      <td>body itching like crazy red areas additionally...</td>\n",
              "      <td>0</td>\n",
              "    </tr>\n",
              "  </tbody>\n",
              "</table>\n",
              "<p>1260 rows × 2 columns</p>\n",
              "</div>\n",
              "      <button class=\"colab-df-convert\" onclick=\"convertToInteractive('df-7893e792-2267-420e-8568-fda1d31dfb91')\"\n",
              "              title=\"Convert this dataframe to an interactive table.\"\n",
              "              style=\"display:none;\">\n",
              "        \n",
              "  <svg xmlns=\"http://www.w3.org/2000/svg\" height=\"24px\"viewBox=\"0 0 24 24\"\n",
              "       width=\"24px\">\n",
              "    <path d=\"M0 0h24v24H0V0z\" fill=\"none\"/>\n",
              "    <path d=\"M18.56 5.44l.94 2.06.94-2.06 2.06-.94-2.06-.94-.94-2.06-.94 2.06-2.06.94zm-11 1L8.5 8.5l.94-2.06 2.06-.94-2.06-.94L8.5 2.5l-.94 2.06-2.06.94zm10 10l.94 2.06.94-2.06 2.06-.94-2.06-.94-.94-2.06-.94 2.06-2.06.94z\"/><path d=\"M17.41 7.96l-1.37-1.37c-.4-.4-.92-.59-1.43-.59-.52 0-1.04.2-1.43.59L10.3 9.45l-7.72 7.72c-.78.78-.78 2.05 0 2.83L4 21.41c.39.39.9.59 1.41.59.51 0 1.02-.2 1.41-.59l7.78-7.78 2.81-2.81c.8-.78.8-2.07 0-2.86zM5.41 20L4 18.59l7.72-7.72 1.47 1.35L5.41 20z\"/>\n",
              "  </svg>\n",
              "      </button>\n",
              "      \n",
              "  <style>\n",
              "    .colab-df-container {\n",
              "      display:flex;\n",
              "      flex-wrap:wrap;\n",
              "      gap: 12px;\n",
              "    }\n",
              "\n",
              "    .colab-df-convert {\n",
              "      background-color: #E8F0FE;\n",
              "      border: none;\n",
              "      border-radius: 50%;\n",
              "      cursor: pointer;\n",
              "      display: none;\n",
              "      fill: #1967D2;\n",
              "      height: 32px;\n",
              "      padding: 0 0 0 0;\n",
              "      width: 32px;\n",
              "    }\n",
              "\n",
              "    .colab-df-convert:hover {\n",
              "      background-color: #E2EBFA;\n",
              "      box-shadow: 0px 1px 2px rgba(60, 64, 67, 0.3), 0px 1px 3px 1px rgba(60, 64, 67, 0.15);\n",
              "      fill: #174EA6;\n",
              "    }\n",
              "\n",
              "    [theme=dark] .colab-df-convert {\n",
              "      background-color: #3B4455;\n",
              "      fill: #D2E3FC;\n",
              "    }\n",
              "\n",
              "    [theme=dark] .colab-df-convert:hover {\n",
              "      background-color: #434B5C;\n",
              "      box-shadow: 0px 1px 3px 1px rgba(0, 0, 0, 0.15);\n",
              "      filter: drop-shadow(0px 1px 2px rgba(0, 0, 0, 0.3));\n",
              "      fill: #FFFFFF;\n",
              "    }\n",
              "  </style>\n",
              "\n",
              "      <script>\n",
              "        const buttonEl =\n",
              "          document.querySelector('#df-7893e792-2267-420e-8568-fda1d31dfb91 button.colab-df-convert');\n",
              "        buttonEl.style.display =\n",
              "          google.colab.kernel.accessAllowed ? 'block' : 'none';\n",
              "\n",
              "        async function convertToInteractive(key) {\n",
              "          const element = document.querySelector('#df-7893e792-2267-420e-8568-fda1d31dfb91');\n",
              "          const dataTable =\n",
              "            await google.colab.kernel.invokeFunction('convertToInteractive',\n",
              "                                                     [key], {});\n",
              "          if (!dataTable) return;\n",
              "\n",
              "          const docLinkHtml = 'Like what you see? Visit the ' +\n",
              "            '<a target=\"_blank\" href=https://colab.research.google.com/notebooks/data_table.ipynb>data table notebook</a>'\n",
              "            + ' to learn more about interactive tables.';\n",
              "          element.innerHTML = '';\n",
              "          dataTable['output_type'] = 'display_data';\n",
              "          await google.colab.output.renderOutput(dataTable, element);\n",
              "          const docLink = document.createElement('div');\n",
              "          docLink.innerHTML = docLinkHtml;\n",
              "          element.appendChild(docLink);\n",
              "        }\n",
              "      </script>\n",
              "    </div>\n",
              "  </div>\n",
              "  "
            ]
          },
          "metadata": {},
          "execution_count": 68
        }
      ]
    },
    {
      "cell_type": "code",
      "source": [
        "get_dataset_statistics(augmented_dataset)"
      ],
      "metadata": {
        "colab": {
          "base_uri": "https://localhost:8080/",
          "height": 499
        },
        "id": "QjT8rk3WK9Wn",
        "outputId": "eb973c62-ced4-4973-e2a9-3c5cb987da05"
      },
      "execution_count": null,
      "outputs": [
        {
          "output_type": "display_data",
          "data": {
            "text/plain": [
              "<Figure size 600x600 with 1 Axes>"
            ],
            "image/png": "[encoded data removed]"
          },
          "metadata": {}
        }
      ]
    },
    {
      "cell_type": "code",
      "source": [
        "aug_X_train = np.stack(np.array([get_text_vec(sms_text) for sms_text in augmented_dataset['text'].values]))"
      ],
      "metadata": {
        "id": "jSsxjKDtK_ei"
      },
      "execution_count": null,
      "outputs": []
    },
    {
      "cell_type": "code",
      "source": [
        "aug_X_train.shape"
      ],
      "metadata": {
        "colab": {
          "base_uri": "https://localhost:8080/"
        },
        "id": "4aBer-ZKK_Tb",
        "outputId": "b764551f-393a-41c8-95f4-f0d71de2ac76"
      },
      "execution_count": null,
      "outputs": [
        {
          "output_type": "execute_result",
          "data": {
            "text/plain": [
              "(1260, 300)"
            ]
          },
          "metadata": {},
          "execution_count": 71
        }
      ]
    },
    {
      "cell_type": "code",
      "source": [
        "aug_y_train = augmented_dataset['label'].values"
      ],
      "metadata": {
        "id": "e_egTwCfLFjg"
      },
      "execution_count": null,
      "outputs": []
    },
    {
      "cell_type": "code",
      "source": [
        "aug_y_train.shape"
      ],
      "metadata": {
        "colab": {
          "base_uri": "https://localhost:8080/"
        },
        "id": "sHgwwj3RLFYP",
        "outputId": "23c2a47a-dff3-4828-bff4-36dda0062921"
      },
      "execution_count": null,
      "outputs": [
        {
          "output_type": "execute_result",
          "data": {
            "text/plain": [
              "(1260,)"
            ]
          },
          "metadata": {},
          "execution_count": 73
        }
      ]
    },
    {
      "cell_type": "code",
      "source": [
        "evaluation_metrics_aug = pd.DataFrame(columns = ['Recall', 'Precision', 'F1 score', 'F2 score'])"
      ],
      "metadata": {
        "id": "hFk8uwRhLFMD"
      },
      "execution_count": null,
      "outputs": []
    },
    {
      "cell_type": "markdown",
      "metadata": {
        "id": "y9XIrUB5FhnC"
      },
      "source": [
        "#Random Forest"
      ]
    },
    {
      "cell_type": "code",
      "source": [
        "train(1, aug_X_train, aug_y_train, X_test, y_test, evaluation_metrics_aug, to_save=True, file_name='TDAS_RF')"
      ],
      "metadata": {
        "colab": {
          "base_uri": "https://localhost:8080/",
          "height": 765
        },
        "id": "gIRWG4j_0VQD",
        "outputId": "d3e004c7-5fa6-44b4-8b3e-a917471b6aea"
      },
      "execution_count": null,
      "outputs": [
        {
          "output_type": "stream",
          "name": "stdout",
          "text": [
            "train accuracy = 0.9857142857142858\n",
            "test accuracy = 0.922077922077922\n",
            "Recall = 0.7948717948717948\n",
            "Precision = 0.7560975609756098\n",
            "F1 score = 0.7749999999999999\n",
            "F2 score = 0.7868020304568527\n",
            "              precision    recall  f1-score   support\n",
            "\n",
            "           0       0.96      0.95      0.95       192\n",
            "           1       0.76      0.79      0.77        39\n",
            "\n",
            "    accuracy                           0.92       231\n",
            "   macro avg       0.86      0.87      0.86       231\n",
            "weighted avg       0.92      0.92      0.92       231\n",
            "\n"
          ]
        },
        {
          "output_type": "display_data",
          "data": {
            "text/plain": [
              "<Figure size 640x480 with 2 Axes>"
            ],
            "image/png": "[encoded data removed]"
          },
          "metadata": {}
        },
        {
          "output_type": "stream",
          "name": "stdout",
          "text": [
            "{'criterion': 'entropy', 'max_depth': 5, 'max_features': 9, 'min_samples_split': 25, 'n_estimators': 200}\n"
          ]
        },
        {
          "output_type": "execute_result",
          "data": {
            "text/plain": [
              "(0.7749999999999999, 0.7868020304568527)"
            ]
          },
          "metadata": {},
          "execution_count": 75
        }
      ]
    },
    {
      "cell_type": "markdown",
      "metadata": {
        "id": "XmwRxKxMe-Uf"
      },
      "source": [
        "#SVM"
      ]
    },
    {
      "cell_type": "code",
      "source": [
        "train(2, aug_X_train, aug_y_train, X_test, y_test, evaluation_metrics_aug, to_save=True, file_name='TDAS_SVM')"
      ],
      "metadata": {
        "colab": {
          "base_uri": "https://localhost:8080/",
          "height": 763
        },
        "id": "EWi0AuQo0XMk",
        "outputId": "a1f88043-bcf8-4648-fb5c-5b789bcfc49a"
      },
      "execution_count": null,
      "outputs": [
        {
          "output_type": "stream",
          "name": "stdout",
          "text": [
            "train accuracy = 0.9968253968253968\n",
            "test accuracy = 0.9653679653679653\n",
            "Recall = 0.9230769230769231\n",
            "Precision = 0.8780487804878049\n",
            "F1 score = 0.9\n",
            "F2 score = 0.9137055837563454\n",
            "              precision    recall  f1-score   support\n",
            "\n",
            "           0       0.98      0.97      0.98       192\n",
            "           1       0.88      0.92      0.90        39\n",
            "\n",
            "    accuracy                           0.97       231\n",
            "   macro avg       0.93      0.95      0.94       231\n",
            "weighted avg       0.97      0.97      0.97       231\n",
            "\n"
          ]
        },
        {
          "output_type": "display_data",
          "data": {
            "text/plain": [
              "<Figure size 640x480 with 2 Axes>"
            ],
            "image/png": "[encoded data removed]"
          },
          "metadata": {}
        },
        {
          "output_type": "stream",
          "name": "stdout",
          "text": [
            "{'degree': 6, 'kernel': 'poly'}\n"
          ]
        },
        {
          "output_type": "execute_result",
          "data": {
            "text/plain": [
              "(0.9, 0.9137055837563454)"
            ]
          },
          "metadata": {},
          "execution_count": 76
        }
      ]
    },
    {
      "cell_type": "code",
      "execution_count": null,
      "metadata": {
        "id": "84vjlbvK2YJ_",
        "colab": {
          "base_uri": "https://localhost:8080/",
          "height": 112
        },
        "outputId": "30e6046a-5c38-492e-b791-b543cd56a227"
      },
      "outputs": [
        {
          "output_type": "execute_result",
          "data": {
            "text/plain": [
              "                Recall Precision F1 score  F2 score\n",
              "RandomForest  0.794872  0.756098    0.775  0.786802\n",
              "SVM           0.923077  0.878049      0.9  0.913706"
            ],
            "text/html": [
              "\n",
              "  <div id=\"df-200e1168-a0f9-4890-8cdc-7e16aa3cc865\">\n",
              "    <div class=\"colab-df-container\">\n",
              "      <div>\n",
              "<style scoped>\n",
              "    .dataframe tbody tr th:only-of-type {\n",
              "        vertical-align: middle;\n",
              "    }\n",
              "\n",
              "    .dataframe tbody tr th {\n",
              "        vertical-align: top;\n",
              "    }\n",
              "\n",
              "    .dataframe thead th {\n",
              "        text-align: right;\n",
              "    }\n",
              "</style>\n",
              "<table border=\"1\" class=\"dataframe\">\n",
              "  <thead>\n",
              "    <tr style=\"text-align: right;\">\n",
              "      <th></th>\n",
              "      <th>Recall</th>\n",
              "      <th>Precision</th>\n",
              "      <th>F1 score</th>\n",
              "      <th>F2 score</th>\n",
              "    </tr>\n",
              "  </thead>\n",
              "  <tbody>\n",
              "    <tr>\n",
              "      <th>RandomForest</th>\n",
              "      <td>0.794872</td>\n",
              "      <td>0.756098</td>\n",
              "      <td>0.775</td>\n",
              "      <td>0.786802</td>\n",
              "    </tr>\n",
              "    <tr>\n",
              "      <th>SVM</th>\n",
              "      <td>0.923077</td>\n",
              "      <td>0.878049</td>\n",
              "      <td>0.9</td>\n",
              "      <td>0.913706</td>\n",
              "    </tr>\n",
              "  </tbody>\n",
              "</table>\n",
              "</div>\n",
              "      <button class=\"colab-df-convert\" onclick=\"convertToInteractive('df-200e1168-a0f9-4890-8cdc-7e16aa3cc865')\"\n",
              "              title=\"Convert this dataframe to an interactive table.\"\n",
              "              style=\"display:none;\">\n",
              "        \n",
              "  <svg xmlns=\"http://www.w3.org/2000/svg\" height=\"24px\"viewBox=\"0 0 24 24\"\n",
              "       width=\"24px\">\n",
              "    <path d=\"M0 0h24v24H0V0z\" fill=\"none\"/>\n",
              "    <path d=\"M18.56 5.44l.94 2.06.94-2.06 2.06-.94-2.06-.94-.94-2.06-.94 2.06-2.06.94zm-11 1L8.5 8.5l.94-2.06 2.06-.94-2.06-.94L8.5 2.5l-.94 2.06-2.06.94zm10 10l.94 2.06.94-2.06 2.06-.94-2.06-.94-.94-2.06-.94 2.06-2.06.94z\"/><path d=\"M17.41 7.96l-1.37-1.37c-.4-.4-.92-.59-1.43-.59-.52 0-1.04.2-1.43.59L10.3 9.45l-7.72 7.72c-.78.78-.78 2.05 0 2.83L4 21.41c.39.39.9.59 1.41.59.51 0 1.02-.2 1.41-.59l7.78-7.78 2.81-2.81c.8-.78.8-2.07 0-2.86zM5.41 20L4 18.59l7.72-7.72 1.47 1.35L5.41 20z\"/>\n",
              "  </svg>\n",
              "      </button>\n",
              "      \n",
              "  <style>\n",
              "    .colab-df-container {\n",
              "      display:flex;\n",
              "      flex-wrap:wrap;\n",
              "      gap: 12px;\n",
              "    }\n",
              "\n",
              "    .colab-df-convert {\n",
              "      background-color: #E8F0FE;\n",
              "      border: none;\n",
              "      border-radius: 50%;\n",
              "      cursor: pointer;\n",
              "      display: none;\n",
              "      fill: #1967D2;\n",
              "      height: 32px;\n",
              "      padding: 0 0 0 0;\n",
              "      width: 32px;\n",
              "    }\n",
              "\n",
              "    .colab-df-convert:hover {\n",
              "      background-color: #E2EBFA;\n",
              "      box-shadow: 0px 1px 2px rgba(60, 64, 67, 0.3), 0px 1px 3px 1px rgba(60, 64, 67, 0.15);\n",
              "      fill: #174EA6;\n",
              "    }\n",
              "\n",
              "    [theme=dark] .colab-df-convert {\n",
              "      background-color: #3B4455;\n",
              "      fill: #D2E3FC;\n",
              "    }\n",
              "\n",
              "    [theme=dark] .colab-df-convert:hover {\n",
              "      background-color: #434B5C;\n",
              "      box-shadow: 0px 1px 3px 1px rgba(0, 0, 0, 0.15);\n",
              "      filter: drop-shadow(0px 1px 2px rgba(0, 0, 0, 0.3));\n",
              "      fill: #FFFFFF;\n",
              "    }\n",
              "  </style>\n",
              "\n",
              "      <script>\n",
              "        const buttonEl =\n",
              "          document.querySelector('#df-200e1168-a0f9-4890-8cdc-7e16aa3cc865 button.colab-df-convert');\n",
              "        buttonEl.style.display =\n",
              "          google.colab.kernel.accessAllowed ? 'block' : 'none';\n",
              "\n",
              "        async function convertToInteractive(key) {\n",
              "          const element = document.querySelector('#df-200e1168-a0f9-4890-8cdc-7e16aa3cc865');\n",
              "          const dataTable =\n",
              "            await google.colab.kernel.invokeFunction('convertToInteractive',\n",
              "                                                     [key], {});\n",
              "          if (!dataTable) return;\n",
              "\n",
              "          const docLinkHtml = 'Like what you see? Visit the ' +\n",
              "            '<a target=\"_blank\" href=https://colab.research.google.com/notebooks/data_table.ipynb>data table notebook</a>'\n",
              "            + ' to learn more about interactive tables.';\n",
              "          element.innerHTML = '';\n",
              "          dataTable['output_type'] = 'display_data';\n",
              "          await google.colab.output.renderOutput(dataTable, element);\n",
              "          const docLink = document.createElement('div');\n",
              "          docLink.innerHTML = docLinkHtml;\n",
              "          element.appendChild(docLink);\n",
              "        }\n",
              "      </script>\n",
              "    </div>\n",
              "  </div>\n",
              "  "
            ]
          },
          "metadata": {},
          "execution_count": 77
        }
      ],
      "source": [
        "evaluation_metrics_aug"
      ]
    },
    {
      "cell_type": "markdown",
      "metadata": {
        "id": "NBKdcusiewBl"
      },
      "source": [
        "#BiLSTM"
      ]
    },
    {
      "cell_type": "code",
      "execution_count": null,
      "metadata": {
        "id": "rx-x05DdewcE"
      },
      "outputs": [],
      "source": [
        "import random\n",
        "import tensorflow as tf \n",
        "from tensorflow import keras \n",
        "from tensorflow.keras import layers\n",
        "from sklearn.metrics import ConfusionMatrixDisplay\n",
        "from tensorflow.keras.layers import Dropout\n",
        "from tensorflow.keras.regularizers import L1L2\n",
        "from sklearn.model_selection import StratifiedKFold"
      ]
    },
    {
      "cell_type": "code",
      "source": [
        "text_words_lengths = [len(raw_data.loc[i]['text'].split()) for i in raw_data.index ]\n",
        "total_length = np.sum(text_words_lengths)\n",
        "text_words_mean = int(np.mean(text_words_lengths))"
      ],
      "metadata": {
        "id": "TPqGbu_1DECE"
      },
      "execution_count": null,
      "outputs": []
    },
    {
      "cell_type": "code",
      "source": [
        "def create_blstm_model(sent_length, words_mean, train_texts):\n",
        "\n",
        "  text_vec = layers.TextVectorization( \n",
        "    max_tokens=sent_length,\n",
        "    standardize='lower_and_strip_punctuation',\n",
        "    output_mode='int',\n",
        "    output_sequence_length=words_mean\n",
        "  )\n",
        "\n",
        "  text_vec.adapt(train_texts)\n",
        "\n",
        "  embedding_layer = layers.Embedding(\n",
        "    input_dim=sent_length,\n",
        "    output_dim=128,\n",
        "    embeddings_initializer='uniform',\n",
        "    input_length=words_mean\n",
        "  )\n",
        "\n",
        "  input_layer = layers.Input(shape=(1,), dtype=tf.string) \n",
        "\n",
        "  vec_layer = text_vec(input_layer)\n",
        "  embedding_layer_model = embedding_layer(vec_layer) \n",
        "\n",
        "  bi_lstm = layers.Bidirectional(layers.LSTM(64, activation='tanh', return_sequences=True, kernel_regularizer = L1L2(l1=0.01, l2=0.0)))(embedding_layer_model) \n",
        "\n",
        "  flatten = layers.Flatten()(bi_lstm) \n",
        "  dropout = layers.Dropout(.1)(flatten) \n",
        "\n",
        "  x = layers.Dense(32, activation='relu')(dropout) \n",
        "\n",
        "  output_layer = layers.Dense(1, activation='sigmoid')(x) \n",
        "\n",
        "  blstm_model = keras.Model(input_layer, output_layer) \n",
        "\n",
        "  blstm_model.compile(optimizer=keras.optimizers.Adam(),\n",
        "                loss=keras.losses.BinaryCrossentropy(),\n",
        "                metrics=['accuracy'])  \n",
        "  \n",
        "  return blstm_model"
      ],
      "metadata": {
        "id": "w-jXBzXMC1W0"
      },
      "execution_count": null,
      "outputs": []
    },
    {
      "cell_type": "markdown",
      "source": [
        "# Cross Validation"
      ],
      "metadata": {
        "id": "4Z_tupbWzHno"
      }
    },
    {
      "cell_type": "code",
      "source": [
        "def cv_blstm(sent_length, words_mean):\n",
        "\n",
        "  kf = StratifiedKFold(10, shuffle=True, random_state=42) \n",
        "  cv_metrics = pd.DataFrame(columns = ['Recall', 'Precision', 'F1 score', 'F2 score'])\n",
        "\n",
        "  fold = 0\n",
        "\n",
        "  X = augmented_dataset['text'].values\n",
        "  Y = augmented_dataset['label'].values\n",
        "\n",
        "  for train, val in kf.split(X, Y):  \n",
        "  \n",
        "    print(f\"Fold {fold}\")\n",
        "\n",
        "    train_texts = X[train]\n",
        "    train_labels = Y[train]\n",
        "    test_texts = X[val]\n",
        "    test_labels = Y[val]\n",
        "\n",
        "    blstm_model = create_blstm_model(sent_length, words_mean, train_texts)\n",
        "\n",
        "    history = blstm_model.fit(train_texts,\n",
        "                              train_labels,\n",
        "                              epochs=10,\n",
        "                              batch_size=16,\n",
        "                              validation_data=(test_texts, test_labels))\n",
        "\n",
        "    blstm_model.evaluate(test_texts, test_labels)\n",
        "    y_pred = np.round(blstm_model.predict(test_texts))\n",
        "\n",
        "    f1_sc = f1_score(test_labels, y_pred)\n",
        "    f2score = fbeta_score(test_labels, y_pred, beta=2, average='binary')\n",
        "\n",
        "    cv_metrics.loc[fold, 'Recall'] = recall_score(test_labels, y_pred)\n",
        "    cv_metrics.loc[fold, 'Precision'] = precision_score(test_labels, y_pred)\n",
        "    cv_metrics.loc[fold, 'F1 score'] = f1_sc\n",
        "    cv_metrics.loc[fold, 'F2 score'] = f2score\n",
        "    \n",
        "    fold += 1\n",
        "\n",
        "  return cv_metrics"
      ],
      "metadata": {
        "id": "D8ladnYWzIFl"
      },
      "execution_count": null,
      "outputs": []
    },
    {
      "cell_type": "code",
      "source": [
        "cv_results = cv_blstm(total_length, text_words_mean)"
      ],
      "metadata": {
        "colab": {
          "base_uri": "https://localhost:8080/"
        },
        "id": "EwbZz67CzJZx",
        "outputId": "4da39aca-3f58-4d8d-a633-8058784701e4"
      },
      "execution_count": null,
      "outputs": [
        {
          "output_type": "stream",
          "name": "stdout",
          "text": [
            "Fold 0\n",
            "Epoch 1/10\n",
            "71/71 [==============================] - 18s 126ms/step - loss: 22.8966 - accuracy: 0.8492 - val_loss: 8.1880 - val_accuracy: 0.9683\n",
            "Epoch 2/10\n",
            "71/71 [==============================] - 2s 24ms/step - loss: 2.5015 - accuracy: 0.9859 - val_loss: 0.3564 - val_accuracy: 0.9762\n",
            "Epoch 3/10\n",
            "71/71 [==============================] - 1s 19ms/step - loss: 0.2775 - accuracy: 0.9938 - val_loss: 0.2539 - val_accuracy: 0.9921\n",
            "Epoch 4/10\n",
            "71/71 [==============================] - 1s 13ms/step - loss: 0.1409 - accuracy: 0.9982 - val_loss: 0.4186 - val_accuracy: 0.9524\n",
            "Epoch 5/10\n",
            "71/71 [==============================] - 1s 14ms/step - loss: 0.1680 - accuracy: 0.9929 - val_loss: 0.4025 - val_accuracy: 0.9444\n",
            "Epoch 6/10\n",
            "71/71 [==============================] - 1s 11ms/step - loss: 0.1144 - accuracy: 0.9991 - val_loss: 0.0951 - val_accuracy: 1.0000\n",
            "Epoch 7/10\n",
            "71/71 [==============================] - 1s 12ms/step - loss: 0.1359 - accuracy: 0.9965 - val_loss: 0.1617 - val_accuracy: 0.9762\n",
            "Epoch 8/10\n",
            "71/71 [==============================] - 1s 9ms/step - loss: 0.1021 - accuracy: 0.9991 - val_loss: 0.0942 - val_accuracy: 1.0000\n",
            "Epoch 9/10\n",
            "71/71 [==============================] - 1s 8ms/step - loss: 0.0839 - accuracy: 1.0000 - val_loss: 0.0859 - val_accuracy: 1.0000\n",
            "Epoch 10/10\n",
            "71/71 [==============================] - 1s 10ms/step - loss: 0.0796 - accuracy: 1.0000 - val_loss: 0.1119 - val_accuracy: 0.9841\n",
            "4/4 [==============================] - 0s 5ms/step - loss: 0.1119 - accuracy: 0.9841\n",
            "4/4 [==============================] - 1s 4ms/step\n",
            "Fold 1\n",
            "Epoch 1/10\n",
            "71/71 [==============================] - 10s 88ms/step - loss: 22.9421 - accuracy: 0.8360 - val_loss: 8.1292 - val_accuracy: 0.9921\n",
            "Epoch 2/10\n",
            "71/71 [==============================] - 1s 18ms/step - loss: 2.4809 - accuracy: 0.9903 - val_loss: 0.3138 - val_accuracy: 0.9921\n",
            "Epoch 3/10\n",
            "71/71 [==============================] - 2s 23ms/step - loss: 0.2122 - accuracy: 0.9929 - val_loss: 0.1626 - val_accuracy: 0.9841\n",
            "Epoch 4/10\n",
            "71/71 [==============================] - 1s 10ms/step - loss: 0.2412 - accuracy: 0.9974 - val_loss: 0.1748 - val_accuracy: 0.9921\n",
            "Epoch 5/10\n",
            "71/71 [==============================] - 1s 14ms/step - loss: 0.1241 - accuracy: 0.9991 - val_loss: 0.2156 - val_accuracy: 0.9683\n",
            "Epoch 6/10\n",
            "71/71 [==============================] - 1s 10ms/step - loss: 0.1531 - accuracy: 0.9974 - val_loss: 0.1278 - val_accuracy: 1.0000\n",
            "Epoch 7/10\n",
            "71/71 [==============================] - 1s 15ms/step - loss: 0.1272 - accuracy: 0.9982 - val_loss: 0.1992 - val_accuracy: 0.9683\n",
            "Epoch 8/10\n",
            "71/71 [==============================] - 1s 12ms/step - loss: 0.1309 - accuracy: 0.9965 - val_loss: 0.3438 - val_accuracy: 0.9683\n",
            "Epoch 9/10\n",
            "71/71 [==============================] - 1s 10ms/step - loss: 0.1680 - accuracy: 0.9991 - val_loss: 0.1168 - val_accuracy: 1.0000\n",
            "Epoch 10/10\n",
            "71/71 [==============================] - 1s 10ms/step - loss: 0.0959 - accuracy: 1.0000 - val_loss: 0.1144 - val_accuracy: 0.9921\n",
            "4/4 [==============================] - 0s 5ms/step - loss: 0.1144 - accuracy: 0.9921\n",
            "4/4 [==============================] - 1s 4ms/step\n",
            "Fold 2\n",
            "Epoch 1/10\n",
            "71/71 [==============================] - 10s 83ms/step - loss: 22.9687 - accuracy: 0.8245 - val_loss: 8.1008 - val_accuracy: 0.9762\n",
            "Epoch 2/10\n",
            "71/71 [==============================] - 2s 25ms/step - loss: 2.4130 - accuracy: 0.9903 - val_loss: 0.2662 - val_accuracy: 0.9921\n",
            "Epoch 3/10\n",
            "71/71 [==============================] - 2s 22ms/step - loss: 0.2215 - accuracy: 0.9903 - val_loss: 0.3165 - val_accuracy: 0.9683\n",
            "Epoch 4/10\n",
            "71/71 [==============================] - 1s 13ms/step - loss: 0.1529 - accuracy: 0.9974 - val_loss: 0.0994 - val_accuracy: 1.0000\n",
            "Epoch 5/10\n",
            "71/71 [==============================] - 1s 12ms/step - loss: 0.0892 - accuracy: 1.0000 - val_loss: 0.1072 - val_accuracy: 0.9921\n",
            "Epoch 6/10\n",
            "71/71 [==============================] - 1s 10ms/step - loss: 0.2883 - accuracy: 0.9947 - val_loss: 0.6381 - val_accuracy: 0.9841\n",
            "Epoch 7/10\n",
            "71/71 [==============================] - 1s 8ms/step - loss: 0.3325 - accuracy: 0.9965 - val_loss: 0.1754 - val_accuracy: 1.0000\n",
            "Epoch 8/10\n",
            "71/71 [==============================] - 1s 8ms/step - loss: 0.1284 - accuracy: 1.0000 - val_loss: 0.1194 - val_accuracy: 0.9921\n",
            "Epoch 9/10\n",
            "71/71 [==============================] - 1s 12ms/step - loss: 0.0926 - accuracy: 1.0000 - val_loss: 0.1362 - val_accuracy: 0.9683\n",
            "Epoch 10/10\n",
            "71/71 [==============================] - 1s 8ms/step - loss: 0.0830 - accuracy: 1.0000 - val_loss: 0.1134 - val_accuracy: 0.9841\n",
            "4/4 [==============================] - 0s 6ms/step - loss: 0.1134 - accuracy: 0.9841\n",
            "4/4 [==============================] - 1s 4ms/step\n",
            "Fold 3\n",
            "Epoch 1/10\n",
            "71/71 [==============================] - 9s 77ms/step - loss: 22.9374 - accuracy: 0.8183 - val_loss: 8.1182 - val_accuracy: 0.9603\n",
            "Epoch 2/10\n",
            "71/71 [==============================] - 2s 29ms/step - loss: 2.5009 - accuracy: 0.9841 - val_loss: 0.3239 - val_accuracy: 0.9921\n",
            "Epoch 3/10\n",
            "71/71 [==============================] - 2s 22ms/step - loss: 0.2453 - accuracy: 0.9938 - val_loss: 0.2256 - val_accuracy: 0.9841\n",
            "Epoch 4/10\n",
            "71/71 [==============================] - 1s 14ms/step - loss: 0.1714 - accuracy: 0.9947 - val_loss: 0.2729 - val_accuracy: 0.9841\n",
            "Epoch 5/10\n",
            "71/71 [==============================] - 1s 8ms/step - loss: 0.1747 - accuracy: 0.9982 - val_loss: 0.1206 - val_accuracy: 0.9921\n",
            "Epoch 6/10\n",
            "71/71 [==============================] - 1s 16ms/step - loss: 0.0939 - accuracy: 1.0000 - val_loss: 0.0980 - val_accuracy: 0.9921\n",
            "Epoch 7/10\n",
            "71/71 [==============================] - 1s 13ms/step - loss: 0.1966 - accuracy: 0.9938 - val_loss: 0.6654 - val_accuracy: 0.9841\n",
            "Epoch 8/10\n",
            "71/71 [==============================] - 1s 11ms/step - loss: 0.3880 - accuracy: 0.9974 - val_loss: 0.2424 - val_accuracy: 0.9841\n",
            "Epoch 9/10\n",
            "71/71 [==============================] - 1s 9ms/step - loss: 0.1569 - accuracy: 1.0000 - val_loss: 0.1492 - val_accuracy: 0.9841\n",
            "Epoch 10/10\n",
            "71/71 [==============================] - 1s 11ms/step - loss: 0.1031 - accuracy: 1.0000 - val_loss: 0.1100 - val_accuracy: 0.9921\n",
            "4/4 [==============================] - 0s 6ms/step - loss: 0.1100 - accuracy: 0.9921\n",
            "4/4 [==============================] - 1s 4ms/step\n",
            "Fold 4\n",
            "Epoch 1/10\n",
            "71/71 [==============================] - 11s 93ms/step - loss: 22.8635 - accuracy: 0.8007 - val_loss: 8.0498 - val_accuracy: 0.9841\n",
            "Epoch 2/10\n",
            "71/71 [==============================] - 2s 22ms/step - loss: 2.4732 - accuracy: 0.9832 - val_loss: 0.3811 - val_accuracy: 0.9762\n",
            "Epoch 3/10\n",
            "71/71 [==============================] - 1s 14ms/step - loss: 0.2219 - accuracy: 0.9894 - val_loss: 0.2173 - val_accuracy: 0.9841\n",
            "Epoch 4/10\n",
            "71/71 [==============================] - 1s 10ms/step - loss: 0.1212 - accuracy: 1.0000 - val_loss: 0.1142 - val_accuracy: 0.9921\n",
            "Epoch 5/10\n",
            "71/71 [==============================] - 1s 17ms/step - loss: 0.0871 - accuracy: 1.0000 - val_loss: 0.0863 - val_accuracy: 1.0000\n",
            "Epoch 6/10\n",
            "71/71 [==============================] - 1s 11ms/step - loss: 0.2500 - accuracy: 0.9982 - val_loss: 0.2133 - val_accuracy: 0.9921\n",
            "Epoch 7/10\n",
            "71/71 [==============================] - 1s 9ms/step - loss: 0.1267 - accuracy: 0.9991 - val_loss: 0.0951 - val_accuracy: 1.0000\n",
            "Epoch 8/10\n",
            "71/71 [==============================] - 1s 9ms/step - loss: 0.0879 - accuracy: 1.0000 - val_loss: 0.0854 - val_accuracy: 1.0000\n",
            "Epoch 9/10\n",
            "71/71 [==============================] - 1s 12ms/step - loss: 0.0798 - accuracy: 1.0000 - val_loss: 0.0853 - val_accuracy: 1.0000\n",
            "Epoch 10/10\n",
            "71/71 [==============================] - 1s 14ms/step - loss: 0.9040 - accuracy: 0.9894 - val_loss: 0.7027 - val_accuracy: 0.9841\n",
            "4/4 [==============================] - 0s 6ms/step - loss: 0.7027 - accuracy: 0.9841\n",
            "4/4 [==============================] - 1s 4ms/step\n",
            "Fold 5\n",
            "Epoch 1/10\n",
            "71/71 [==============================] - 10s 84ms/step - loss: 22.9340 - accuracy: 0.8025 - val_loss: 8.0975 - val_accuracy: 0.9921\n",
            "Epoch 2/10\n",
            "71/71 [==============================] - 2s 22ms/step - loss: 2.4584 - accuracy: 0.9877 - val_loss: 0.3104 - val_accuracy: 0.9603\n",
            "Epoch 3/10\n",
            "71/71 [==============================] - 1s 16ms/step - loss: 0.3432 - accuracy: 0.9894 - val_loss: 0.2854 - val_accuracy: 0.9841\n",
            "Epoch 4/10\n",
            "71/71 [==============================] - 1s 14ms/step - loss: 0.1583 - accuracy: 0.9982 - val_loss: 0.1652 - val_accuracy: 0.9921\n",
            "Epoch 5/10\n",
            "71/71 [==============================] - 1s 16ms/step - loss: 0.1589 - accuracy: 0.9956 - val_loss: 0.2015 - val_accuracy: 0.9841\n",
            "Epoch 6/10\n",
            "71/71 [==============================] - 1s 8ms/step - loss: 0.1020 - accuracy: 0.9991 - val_loss: 0.7877 - val_accuracy: 0.8810\n",
            "Epoch 7/10\n",
            "71/71 [==============================] - 1s 9ms/step - loss: 0.2646 - accuracy: 0.9947 - val_loss: 0.1593 - val_accuracy: 0.9841\n",
            "Epoch 8/10\n",
            "71/71 [==============================] - 1s 11ms/step - loss: 0.1102 - accuracy: 1.0000 - val_loss: 0.1001 - val_accuracy: 0.9921\n",
            "Epoch 9/10\n",
            "71/71 [==============================] - 1s 13ms/step - loss: 0.0871 - accuracy: 1.0000 - val_loss: 0.0900 - val_accuracy: 1.0000\n",
            "Epoch 10/10\n",
            "71/71 [==============================] - 1s 10ms/step - loss: 0.0809 - accuracy: 1.0000 - val_loss: 0.0809 - val_accuracy: 1.0000\n",
            "4/4 [==============================] - 0s 6ms/step - loss: 0.0809 - accuracy: 1.0000\n",
            "4/4 [==============================] - 1s 4ms/step\n",
            "Fold 6\n",
            "Epoch 1/10\n",
            "71/71 [==============================] - 10s 83ms/step - loss: 22.8739 - accuracy: 0.8175 - val_loss: 8.1130 - val_accuracy: 0.9921\n",
            "Epoch 2/10\n",
            "71/71 [==============================] - 2s 32ms/step - loss: 2.4976 - accuracy: 0.9885 - val_loss: 0.3219 - val_accuracy: 0.9762\n",
            "Epoch 3/10\n",
            "71/71 [==============================] - 1s 20ms/step - loss: 0.1919 - accuracy: 0.9956 - val_loss: 0.3151 - val_accuracy: 0.9762\n",
            "Epoch 4/10\n",
            "71/71 [==============================] - 1s 8ms/step - loss: 0.1709 - accuracy: 0.9938 - val_loss: 0.3253 - val_accuracy: 0.9762\n",
            "Epoch 5/10\n",
            "71/71 [==============================] - 1s 12ms/step - loss: 0.1382 - accuracy: 0.9991 - val_loss: 0.0997 - val_accuracy: 1.0000\n",
            "Epoch 6/10\n",
            "71/71 [==============================] - 1s 11ms/step - loss: 0.0870 - accuracy: 1.0000 - val_loss: 0.1045 - val_accuracy: 0.9921\n",
            "Epoch 7/10\n",
            "71/71 [==============================] - 1s 12ms/step - loss: 0.1266 - accuracy: 0.9982 - val_loss: 0.7015 - val_accuracy: 0.9841\n",
            "Epoch 8/10\n",
            "71/71 [==============================] - 1s 9ms/step - loss: 0.3498 - accuracy: 0.9938 - val_loss: 0.2034 - val_accuracy: 0.9921\n",
            "Epoch 9/10\n",
            "71/71 [==============================] - 1s 13ms/step - loss: 0.1226 - accuracy: 0.9991 - val_loss: 0.1298 - val_accuracy: 0.9921\n",
            "Epoch 10/10\n",
            "71/71 [==============================] - 1s 13ms/step - loss: 0.0918 - accuracy: 1.0000 - val_loss: 0.1199 - val_accuracy: 0.9921\n",
            "4/4 [==============================] - 0s 6ms/step - loss: 0.1199 - accuracy: 0.9921\n",
            "4/4 [==============================] - 1s 4ms/step\n",
            "Fold 7\n",
            "Epoch 1/10\n",
            "71/71 [==============================] - 11s 91ms/step - loss: 22.9231 - accuracy: 0.8131 - val_loss: 8.1512 - val_accuracy: 0.9841\n",
            "Epoch 2/10\n",
            "71/71 [==============================] - 2s 23ms/step - loss: 2.4817 - accuracy: 0.9921 - val_loss: 0.2642 - val_accuracy: 0.9921\n",
            "Epoch 3/10\n",
            "71/71 [==============================] - 1s 11ms/step - loss: 0.2079 - accuracy: 0.9938 - val_loss: 0.2024 - val_accuracy: 0.9921\n",
            "Epoch 4/10\n",
            "71/71 [==============================] - 1s 11ms/step - loss: 0.1885 - accuracy: 0.9956 - val_loss: 0.2687 - val_accuracy: 0.9762\n",
            "Epoch 5/10\n",
            "71/71 [==============================] - 1s 15ms/step - loss: 0.1282 - accuracy: 0.9991 - val_loss: 0.0982 - val_accuracy: 1.0000\n",
            "Epoch 6/10\n",
            "71/71 [==============================] - 1s 11ms/step - loss: 0.3372 - accuracy: 0.9956 - val_loss: 0.2161 - val_accuracy: 0.9841\n",
            "Epoch 7/10\n",
            "71/71 [==============================] - 1s 9ms/step - loss: 0.1350 - accuracy: 0.9991 - val_loss: 0.1101 - val_accuracy: 0.9921\n",
            "Epoch 8/10\n",
            "71/71 [==============================] - 1s 14ms/step - loss: 0.1401 - accuracy: 0.9956 - val_loss: 1.2251 - val_accuracy: 0.9365\n",
            "Epoch 9/10\n",
            "71/71 [==============================] - 1s 8ms/step - loss: 0.3585 - accuracy: 0.9965 - val_loss: 0.1976 - val_accuracy: 0.9841\n",
            "Epoch 10/10\n",
            "71/71 [==============================] - 1s 12ms/step - loss: 0.1289 - accuracy: 1.0000 - val_loss: 0.1332 - val_accuracy: 0.9921\n",
            "4/4 [==============================] - 0s 6ms/step - loss: 0.1332 - accuracy: 0.9921\n",
            "4/4 [==============================] - 1s 4ms/step\n",
            "Fold 8\n",
            "Epoch 1/10\n",
            "71/71 [==============================] - 11s 96ms/step - loss: 22.9373 - accuracy: 0.8298 - val_loss: 8.1245 - val_accuracy: 0.9841\n",
            "Epoch 2/10\n",
            "71/71 [==============================] - 2s 25ms/step - loss: 2.4601 - accuracy: 0.9868 - val_loss: 0.3019 - val_accuracy: 0.9921\n",
            "Epoch 3/10\n",
            "71/71 [==============================] - 1s 18ms/step - loss: 0.2007 - accuracy: 0.9965 - val_loss: 0.1814 - val_accuracy: 0.9841\n",
            "Epoch 4/10\n",
            "71/71 [==============================] - 1s 10ms/step - loss: 0.3203 - accuracy: 0.9929 - val_loss: 0.2494 - val_accuracy: 0.9921\n",
            "Epoch 5/10\n",
            "71/71 [==============================] - 1s 9ms/step - loss: 0.1402 - accuracy: 1.0000 - val_loss: 0.1552 - val_accuracy: 0.9841\n",
            "Epoch 6/10\n",
            "71/71 [==============================] - 1s 12ms/step - loss: 0.1497 - accuracy: 0.9929 - val_loss: 0.6408 - val_accuracy: 0.9841\n",
            "Epoch 7/10\n",
            "71/71 [==============================] - 1s 12ms/step - loss: 0.4735 - accuracy: 1.0000 - val_loss: 0.2843 - val_accuracy: 0.9921\n",
            "Epoch 8/10\n",
            "71/71 [==============================] - 1s 12ms/step - loss: 0.1721 - accuracy: 1.0000 - val_loss: 0.1394 - val_accuracy: 0.9921\n",
            "Epoch 9/10\n",
            "71/71 [==============================] - 1s 10ms/step - loss: 0.0987 - accuracy: 1.0000 - val_loss: 0.1130 - val_accuracy: 0.9921\n",
            "Epoch 10/10\n",
            "71/71 [==============================] - 1s 14ms/step - loss: 0.2150 - accuracy: 0.9956 - val_loss: 0.3168 - val_accuracy: 0.9921\n",
            "4/4 [==============================] - 0s 5ms/step - loss: 0.3168 - accuracy: 0.9921\n",
            "4/4 [==============================] - 1s 4ms/step\n",
            "Fold 9\n",
            "Epoch 1/10\n",
            "71/71 [==============================] - 11s 96ms/step - loss: 22.8468 - accuracy: 0.7840 - val_loss: 8.0082 - val_accuracy: 0.9921\n",
            "Epoch 2/10\n",
            "71/71 [==============================] - 2s 22ms/step - loss: 2.4083 - accuracy: 0.9877 - val_loss: 0.3375 - val_accuracy: 0.9683\n",
            "Epoch 3/10\n",
            "71/71 [==============================] - 1s 21ms/step - loss: 0.2292 - accuracy: 0.9894 - val_loss: 0.1745 - val_accuracy: 0.9921\n",
            "Epoch 4/10\n",
            "71/71 [==============================] - 1s 19ms/step - loss: 0.1426 - accuracy: 0.9965 - val_loss: 0.0995 - val_accuracy: 1.0000\n",
            "Epoch 5/10\n",
            "71/71 [==============================] - 1s 15ms/step - loss: 0.0919 - accuracy: 1.0000 - val_loss: 0.0880 - val_accuracy: 1.0000\n",
            "Epoch 6/10\n",
            "71/71 [==============================] - 1s 9ms/step - loss: 0.2805 - accuracy: 0.9938 - val_loss: 0.2125 - val_accuracy: 0.9921\n",
            "Epoch 7/10\n",
            "71/71 [==============================] - 1s 9ms/step - loss: 0.1333 - accuracy: 0.9991 - val_loss: 0.1025 - val_accuracy: 1.0000\n",
            "Epoch 8/10\n",
            "71/71 [==============================] - 1s 11ms/step - loss: 0.0916 - accuracy: 1.0000 - val_loss: 0.0878 - val_accuracy: 1.0000\n",
            "Epoch 9/10\n",
            "71/71 [==============================] - 1s 11ms/step - loss: 0.0827 - accuracy: 1.0000 - val_loss: 0.0815 - val_accuracy: 1.0000\n",
            "Epoch 10/10\n",
            "71/71 [==============================] - 1s 9ms/step - loss: 0.1944 - accuracy: 0.9965 - val_loss: 0.1643 - val_accuracy: 1.0000\n",
            "4/4 [==============================] - 0s 6ms/step - loss: 0.1643 - accuracy: 1.0000\n",
            "4/4 [==============================] - 1s 4ms/step\n"
          ]
        }
      ]
    },
    {
      "cell_type": "code",
      "source": [
        "cv_results"
      ],
      "metadata": {
        "colab": {
          "base_uri": "https://localhost:8080/",
          "height": 363
        },
        "id": "UM3vqAQdzJGD",
        "outputId": "dd3e3a4f-6408-4d82-bab1-5ef90bdf0794"
      },
      "execution_count": null,
      "outputs": [
        {
          "output_type": "execute_result",
          "data": {
            "text/plain": [
              "  Recall Precision  F1 score  F2 score\n",
              "0    1.0  0.960784      0.98  0.991903\n",
              "1    1.0      0.98  0.989899  0.995935\n",
              "2    1.0  0.960784      0.98  0.991903\n",
              "3    1.0      0.98  0.989899  0.995935\n",
              "4    1.0  0.960784      0.98  0.991903\n",
              "5    1.0       1.0       1.0       1.0\n",
              "6   0.98       1.0  0.989899  0.983936\n",
              "7    1.0  0.980392  0.990099  0.996016\n",
              "8   0.98       1.0  0.989899  0.983936\n",
              "9    1.0       1.0       1.0       1.0"
            ],
            "text/html": [
              "\n",
              "  <div id=\"df-11978a7b-7c9b-4a86-818a-dc7890010ca8\">\n",
              "    <div class=\"colab-df-container\">\n",
              "      <div>\n",
              "<style scoped>\n",
              "    .dataframe tbody tr th:only-of-type {\n",
              "        vertical-align: middle;\n",
              "    }\n",
              "\n",
              "    .dataframe tbody tr th {\n",
              "        vertical-align: top;\n",
              "    }\n",
              "\n",
              "    .dataframe thead th {\n",
              "        text-align: right;\n",
              "    }\n",
              "</style>\n",
              "<table border=\"1\" class=\"dataframe\">\n",
              "  <thead>\n",
              "    <tr style=\"text-align: right;\">\n",
              "      <th></th>\n",
              "      <th>Recall</th>\n",
              "      <th>Precision</th>\n",
              "      <th>F1 score</th>\n",
              "      <th>F2 score</th>\n",
              "    </tr>\n",
              "  </thead>\n",
              "  <tbody>\n",
              "    <tr>\n",
              "      <th>0</th>\n",
              "      <td>1.0</td>\n",
              "      <td>0.960784</td>\n",
              "      <td>0.98</td>\n",
              "      <td>0.991903</td>\n",
              "    </tr>\n",
              "    <tr>\n",
              "      <th>1</th>\n",
              "      <td>1.0</td>\n",
              "      <td>0.98</td>\n",
              "      <td>0.989899</td>\n",
              "      <td>0.995935</td>\n",
              "    </tr>\n",
              "    <tr>\n",
              "      <th>2</th>\n",
              "      <td>1.0</td>\n",
              "      <td>0.960784</td>\n",
              "      <td>0.98</td>\n",
              "      <td>0.991903</td>\n",
              "    </tr>\n",
              "    <tr>\n",
              "      <th>3</th>\n",
              "      <td>1.0</td>\n",
              "      <td>0.98</td>\n",
              "      <td>0.989899</td>\n",
              "      <td>0.995935</td>\n",
              "    </tr>\n",
              "    <tr>\n",
              "      <th>4</th>\n",
              "      <td>1.0</td>\n",
              "      <td>0.960784</td>\n",
              "      <td>0.98</td>\n",
              "      <td>0.991903</td>\n",
              "    </tr>\n",
              "    <tr>\n",
              "      <th>5</th>\n",
              "      <td>1.0</td>\n",
              "      <td>1.0</td>\n",
              "      <td>1.0</td>\n",
              "      <td>1.0</td>\n",
              "    </tr>\n",
              "    <tr>\n",
              "      <th>6</th>\n",
              "      <td>0.98</td>\n",
              "      <td>1.0</td>\n",
              "      <td>0.989899</td>\n",
              "      <td>0.983936</td>\n",
              "    </tr>\n",
              "    <tr>\n",
              "      <th>7</th>\n",
              "      <td>1.0</td>\n",
              "      <td>0.980392</td>\n",
              "      <td>0.990099</td>\n",
              "      <td>0.996016</td>\n",
              "    </tr>\n",
              "    <tr>\n",
              "      <th>8</th>\n",
              "      <td>0.98</td>\n",
              "      <td>1.0</td>\n",
              "      <td>0.989899</td>\n",
              "      <td>0.983936</td>\n",
              "    </tr>\n",
              "    <tr>\n",
              "      <th>9</th>\n",
              "      <td>1.0</td>\n",
              "      <td>1.0</td>\n",
              "      <td>1.0</td>\n",
              "      <td>1.0</td>\n",
              "    </tr>\n",
              "  </tbody>\n",
              "</table>\n",
              "</div>\n",
              "      <button class=\"colab-df-convert\" onclick=\"convertToInteractive('df-11978a7b-7c9b-4a86-818a-dc7890010ca8')\"\n",
              "              title=\"Convert this dataframe to an interactive table.\"\n",
              "              style=\"display:none;\">\n",
              "        \n",
              "  <svg xmlns=\"http://www.w3.org/2000/svg\" height=\"24px\"viewBox=\"0 0 24 24\"\n",
              "       width=\"24px\">\n",
              "    <path d=\"M0 0h24v24H0V0z\" fill=\"none\"/>\n",
              "    <path d=\"M18.56 5.44l.94 2.06.94-2.06 2.06-.94-2.06-.94-.94-2.06-.94 2.06-2.06.94zm-11 1L8.5 8.5l.94-2.06 2.06-.94-2.06-.94L8.5 2.5l-.94 2.06-2.06.94zm10 10l.94 2.06.94-2.06 2.06-.94-2.06-.94-.94-2.06-.94 2.06-2.06.94z\"/><path d=\"M17.41 7.96l-1.37-1.37c-.4-.4-.92-.59-1.43-.59-.52 0-1.04.2-1.43.59L10.3 9.45l-7.72 7.72c-.78.78-.78 2.05 0 2.83L4 21.41c.39.39.9.59 1.41.59.51 0 1.02-.2 1.41-.59l7.78-7.78 2.81-2.81c.8-.78.8-2.07 0-2.86zM5.41 20L4 18.59l7.72-7.72 1.47 1.35L5.41 20z\"/>\n",
              "  </svg>\n",
              "      </button>\n",
              "      \n",
              "  <style>\n",
              "    .colab-df-container {\n",
              "      display:flex;\n",
              "      flex-wrap:wrap;\n",
              "      gap: 12px;\n",
              "    }\n",
              "\n",
              "    .colab-df-convert {\n",
              "      background-color: #E8F0FE;\n",
              "      border: none;\n",
              "      border-radius: 50%;\n",
              "      cursor: pointer;\n",
              "      display: none;\n",
              "      fill: #1967D2;\n",
              "      height: 32px;\n",
              "      padding: 0 0 0 0;\n",
              "      width: 32px;\n",
              "    }\n",
              "\n",
              "    .colab-df-convert:hover {\n",
              "      background-color: #E2EBFA;\n",
              "      box-shadow: 0px 1px 2px rgba(60, 64, 67, 0.3), 0px 1px 3px 1px rgba(60, 64, 67, 0.15);\n",
              "      fill: #174EA6;\n",
              "    }\n",
              "\n",
              "    [theme=dark] .colab-df-convert {\n",
              "      background-color: #3B4455;\n",
              "      fill: #D2E3FC;\n",
              "    }\n",
              "\n",
              "    [theme=dark] .colab-df-convert:hover {\n",
              "      background-color: #434B5C;\n",
              "      box-shadow: 0px 1px 3px 1px rgba(0, 0, 0, 0.15);\n",
              "      filter: drop-shadow(0px 1px 2px rgba(0, 0, 0, 0.3));\n",
              "      fill: #FFFFFF;\n",
              "    }\n",
              "  </style>\n",
              "\n",
              "      <script>\n",
              "        const buttonEl =\n",
              "          document.querySelector('#df-11978a7b-7c9b-4a86-818a-dc7890010ca8 button.colab-df-convert');\n",
              "        buttonEl.style.display =\n",
              "          google.colab.kernel.accessAllowed ? 'block' : 'none';\n",
              "\n",
              "        async function convertToInteractive(key) {\n",
              "          const element = document.querySelector('#df-11978a7b-7c9b-4a86-818a-dc7890010ca8');\n",
              "          const dataTable =\n",
              "            await google.colab.kernel.invokeFunction('convertToInteractive',\n",
              "                                                     [key], {});\n",
              "          if (!dataTable) return;\n",
              "\n",
              "          const docLinkHtml = 'Like what you see? Visit the ' +\n",
              "            '<a target=\"_blank\" href=https://colab.research.google.com/notebooks/data_table.ipynb>data table notebook</a>'\n",
              "            + ' to learn more about interactive tables.';\n",
              "          element.innerHTML = '';\n",
              "          dataTable['output_type'] = 'display_data';\n",
              "          await google.colab.output.renderOutput(dataTable, element);\n",
              "          const docLink = document.createElement('div');\n",
              "          docLink.innerHTML = docLinkHtml;\n",
              "          element.appendChild(docLink);\n",
              "        }\n",
              "      </script>\n",
              "    </div>\n",
              "  </div>\n",
              "  "
            ]
          },
          "metadata": {},
          "execution_count": 28
        }
      ]
    },
    {
      "cell_type": "code",
      "source": [
        "cv_results.mean()"
      ],
      "metadata": {
        "colab": {
          "base_uri": "https://localhost:8080/"
        },
        "id": "ft5dt6fyzI4r",
        "outputId": "b85f4d91-345f-40bc-e5a7-a8c527b81fff"
      },
      "execution_count": null,
      "outputs": [
        {
          "output_type": "execute_result",
          "data": {
            "text/plain": [
              "Recall       0.996000\n",
              "Precision    0.982275\n",
              "F1 score     0.988969\n",
              "F2 score     0.993147\n",
              "dtype: float64"
            ]
          },
          "metadata": {},
          "execution_count": 29
        }
      ]
    },
    {
      "cell_type": "code",
      "execution_count": null,
      "metadata": {
        "id": "-jXE4CoE5Wb6"
      },
      "outputs": [],
      "source": [
        "aug_X_train = augmented_dataset['text'].values.reshape(-1, 1)"
      ]
    },
    {
      "cell_type": "code",
      "execution_count": null,
      "metadata": {
        "colab": {
          "base_uri": "https://localhost:8080/"
        },
        "id": "2SOG2Rqx5ZDE",
        "outputId": "49ef7f5d-88fa-4138-bfe5-dfd96a02bb54"
      },
      "outputs": [
        {
          "output_type": "execute_result",
          "data": {
            "text/plain": [
              "(1260, 1)"
            ]
          },
          "metadata": {},
          "execution_count": 80
        }
      ],
      "source": [
        "aug_X_train.shape"
      ]
    },
    {
      "cell_type": "code",
      "execution_count": null,
      "metadata": {
        "id": "0cCYlQfg5a7e"
      },
      "outputs": [],
      "source": [
        "aug_y_train = augmented_dataset['label'].values.reshape(-1, 1)"
      ]
    },
    {
      "cell_type": "code",
      "execution_count": null,
      "metadata": {
        "colab": {
          "base_uri": "https://localhost:8080/"
        },
        "id": "4WNBaiqF5c5R",
        "outputId": "08332b8c-d765-4da2-81c2-26a005cbec91"
      },
      "outputs": [
        {
          "output_type": "execute_result",
          "data": {
            "text/plain": [
              "(1260, 1)"
            ]
          },
          "metadata": {},
          "execution_count": 82
        }
      ],
      "source": [
        "aug_y_train.shape"
      ]
    },
    {
      "cell_type": "code",
      "execution_count": null,
      "metadata": {
        "id": "NFr0qAAb5eYa"
      },
      "outputs": [],
      "source": [
        "X_test = test_data['text'].values.reshape(-1, 1)"
      ]
    },
    {
      "cell_type": "code",
      "execution_count": null,
      "metadata": {
        "id": "HzvN4MRGS-Ec"
      },
      "outputs": [],
      "source": [
        "y_test = test_data['label'].values"
      ]
    },
    {
      "cell_type": "code",
      "source": [
        "def train_blstm(sent_length, words_mean, train_texts, train_labels):\n",
        "\n",
        "  blstm_model = create_blstm_model(sent_length, words_mean, train_texts)\n",
        "  \n",
        "  history = blstm_model.fit(train_texts,\n",
        "                            train_labels,\n",
        "                            epochs=10,\n",
        "                            batch_size=16,\n",
        "                            validation_data=(X_test, y_test))\n",
        "  \n",
        "  blstm_model.evaluate(X_test, y_test)\n",
        "  y_pred = np.round(blstm_model.predict(X_test))\n",
        "\n",
        "  f1_sc = f1_score(y_test, y_pred)\n",
        "  f2score = fbeta_score(y_test, y_pred, beta=2, average='binary')\n",
        "\n",
        "\n",
        "  print(\"test accuracy = \" + str(accuracy_score(y_test, y_pred)))\n",
        "  print(\"Recall = {}\".format(recall_score(y_test, y_pred)))\n",
        "  print(\"Precision = {}\".format(precision_score(y_test, y_pred)))\n",
        "  print(\"F1 score = {}\".format(f1_sc))\n",
        "  print(\"F2 score = {}\".format(f2score))\n",
        "  print(classification_report(y_test, y_pred))\n",
        "  \n",
        "  cm = confusion_matrix(y_test, y_pred)\n",
        "\n",
        "  disp = ConfusionMatrixDisplay(confusion_matrix=cm, display_labels=[0,1])\n",
        "\n",
        "  disp.plot(cmap=plt.cm.Blues)\n",
        "  plt.show()\n",
        "\n",
        "  return f1_sc"
      ],
      "metadata": {
        "id": "m-006maNDW2s"
      },
      "execution_count": null,
      "outputs": []
    },
    {
      "cell_type": "code",
      "source": [
        "train_blstm(total_length, text_words_mean, aug_X_train, aug_y_train)"
      ],
      "metadata": {
        "colab": {
          "base_uri": "https://localhost:8080/",
          "height": 1000
        },
        "id": "lZ3kIM7oFLVi",
        "outputId": "06e5643f-1f2f-4e22-88d6-22135a98838f"
      },
      "execution_count": null,
      "outputs": [
        {
          "output_type": "stream",
          "name": "stdout",
          "text": [
            "Epoch 1/10\n",
            "79/79 [==============================] - 11s 84ms/step - loss: 21.4190 - accuracy: 0.8405 - val_loss: 6.1303 - val_accuracy: 0.9697\n",
            "Epoch 2/10\n",
            "79/79 [==============================] - 2s 26ms/step - loss: 1.5659 - accuracy: 0.9873 - val_loss: 0.2895 - val_accuracy: 0.9567\n",
            "Epoch 3/10\n",
            "79/79 [==============================] - 2s 22ms/step - loss: 0.1719 - accuracy: 0.9944 - val_loss: 0.2327 - val_accuracy: 0.9827\n",
            "Epoch 4/10\n",
            "79/79 [==============================] - 1s 10ms/step - loss: 0.1589 - accuracy: 0.9952 - val_loss: 0.3413 - val_accuracy: 0.9870\n",
            "Epoch 5/10\n",
            "79/79 [==============================] - 1s 10ms/step - loss: 0.1596 - accuracy: 0.9992 - val_loss: 0.1272 - val_accuracy: 0.9870\n",
            "Epoch 6/10\n",
            "79/79 [==============================] - 1s 13ms/step - loss: 0.1229 - accuracy: 0.9992 - val_loss: 0.1386 - val_accuracy: 0.9870\n",
            "Epoch 7/10\n",
            "79/79 [==============================] - 1s 10ms/step - loss: 0.0887 - accuracy: 1.0000 - val_loss: 0.1334 - val_accuracy: 0.9784\n",
            "Epoch 8/10\n",
            "79/79 [==============================] - 1s 10ms/step - loss: 0.1505 - accuracy: 0.9984 - val_loss: 0.6483 - val_accuracy: 0.9827\n",
            "Epoch 9/10\n",
            "79/79 [==============================] - 1s 8ms/step - loss: 0.3047 - accuracy: 0.9992 - val_loss: 0.2112 - val_accuracy: 0.9784\n",
            "Epoch 10/10\n",
            "79/79 [==============================] - 1s 11ms/step - loss: 0.1087 - accuracy: 1.0000 - val_loss: 0.1377 - val_accuracy: 0.9784\n",
            "8/8 [==============================] - 0s 5ms/step - loss: 0.1377 - accuracy: 0.9784\n",
            "8/8 [==============================] - 1s 4ms/step\n",
            "test accuracy = 0.9783549783549783\n",
            "Recall = 0.8974358974358975\n",
            "Precision = 0.9722222222222222\n",
            "F1 score = 0.9333333333333333\n",
            "F2 score = 0.9114583333333334\n",
            "              precision    recall  f1-score   support\n",
            "\n",
            "           0       0.98      0.99      0.99       192\n",
            "           1       0.97      0.90      0.93        39\n",
            "\n",
            "    accuracy                           0.98       231\n",
            "   macro avg       0.98      0.95      0.96       231\n",
            "weighted avg       0.98      0.98      0.98       231\n",
            "\n"
          ]
        },
        {
          "output_type": "display_data",
          "data": {
            "text/plain": [
              "<Figure size 640x480 with 2 Axes>"
            ],
            "image/png": "[encoded data removed]"
          },
          "metadata": {}
        },
        {
          "output_type": "execute_result",
          "data": {
            "text/plain": [
              "0.9333333333333333"
            ]
          },
          "metadata": {},
          "execution_count": 93
        }
      ]
    },
    {
      "cell_type": "code",
      "source": [
        "train_blstm(total_length, text_words_mean, aug_X_train, aug_y_train)"
      ],
      "metadata": {
        "colab": {
          "base_uri": "https://localhost:8080/",
          "height": 1000
        },
        "id": "ScgjY6zFFKqr",
        "outputId": "1d3f84b2-e066-4f4e-ae81-403451e52478"
      },
      "execution_count": null,
      "outputs": [
        {
          "output_type": "stream",
          "name": "stdout",
          "text": [
            "Epoch 1/10\n",
            "79/79 [==============================] - 10s 85ms/step - loss: 21.2679 - accuracy: 0.8500 - val_loss: 6.0873 - val_accuracy: 0.9481\n",
            "Epoch 2/10\n",
            "79/79 [==============================] - 2s 22ms/step - loss: 1.5359 - accuracy: 0.9873 - val_loss: 0.2582 - val_accuracy: 0.9697\n",
            "Epoch 3/10\n",
            "79/79 [==============================] - 1s 19ms/step - loss: 0.1818 - accuracy: 0.9937 - val_loss: 0.2093 - val_accuracy: 0.9827\n",
            "Epoch 4/10\n",
            "79/79 [==============================] - 1s 15ms/step - loss: 0.1699 - accuracy: 0.9944 - val_loss: 0.2896 - val_accuracy: 0.9654\n",
            "Epoch 5/10\n",
            "79/79 [==============================] - 1s 14ms/step - loss: 0.1169 - accuracy: 0.9992 - val_loss: 0.1262 - val_accuracy: 0.9870\n",
            "Epoch 6/10\n",
            "79/79 [==============================] - 1s 12ms/step - loss: 0.1883 - accuracy: 0.9952 - val_loss: 0.3207 - val_accuracy: 0.9827\n",
            "Epoch 7/10\n",
            "79/79 [==============================] - 1s 14ms/step - loss: 0.1490 - accuracy: 1.0000 - val_loss: 0.1462 - val_accuracy: 0.9784\n",
            "Epoch 8/10\n",
            "79/79 [==============================] - 1s 15ms/step - loss: 0.0864 - accuracy: 1.0000 - val_loss: 0.1421 - val_accuracy: 0.9827\n",
            "Epoch 9/10\n",
            "79/79 [==============================] - 1s 10ms/step - loss: 0.0790 - accuracy: 1.0000 - val_loss: 0.1532 - val_accuracy: 0.9654\n",
            "Epoch 10/10\n",
            "79/79 [==============================] - 1s 12ms/step - loss: 0.3571 - accuracy: 0.9952 - val_loss: 0.2749 - val_accuracy: 0.9784\n",
            "8/8 [==============================] - 0s 4ms/step - loss: 0.2749 - accuracy: 0.9784\n",
            "8/8 [==============================] - 1s 3ms/step\n",
            "test accuracy = 0.9783549783549783\n",
            "Recall = 0.8974358974358975\n",
            "Precision = 0.9722222222222222\n",
            "F1 score = 0.9333333333333333\n",
            "F2 score = 0.9114583333333334\n",
            "              precision    recall  f1-score   support\n",
            "\n",
            "           0       0.98      0.99      0.99       192\n",
            "           1       0.97      0.90      0.93        39\n",
            "\n",
            "    accuracy                           0.98       231\n",
            "   macro avg       0.98      0.95      0.96       231\n",
            "weighted avg       0.98      0.98      0.98       231\n",
            "\n"
          ]
        },
        {
          "output_type": "display_data",
          "data": {
            "text/plain": [
              "<Figure size 640x480 with 2 Axes>"
            ],
            "image/png": "[encoded data removed]"
          },
          "metadata": {}
        },
        {
          "output_type": "execute_result",
          "data": {
            "text/plain": [
              "0.9333333333333333"
            ]
          },
          "metadata": {},
          "execution_count": 94
        }
      ]
    }
  ],
  "metadata": {
    "accelerator": "GPU",
    "colab": {
      "machine_shape": "hm",
      "provenance": [],
      "gpuType": "T4"
    },
    "gpuClass": "standard",
    "kernelspec": {
      "display_name": "Python 3",
      "name": "python3"
    },
    "language_info": {
      "name": "python"
    }
  },
  "nbformat": 4,
  "nbformat_minor": 0
}