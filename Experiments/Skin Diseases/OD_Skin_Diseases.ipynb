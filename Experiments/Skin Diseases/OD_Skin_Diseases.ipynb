{
  "cells": [
    {
      "cell_type": "code",
      "execution_count": null,
      "metadata": {
        "id": "_Q1SwXg76Uf3",
        "colab": {
          "base_uri": "https://localhost:8080/"
        },
        "outputId": "81291747-5ed3-4c81-d655-2a4d547d6e8f"
      },
      "outputs": [
        {
          "output_type": "stream",
          "name": "stderr",
          "text": [
            "[nltk_data] Downloading package stopwords to /root/nltk_data...\n",
            "[nltk_data]   Package stopwords is already up-to-date!\n",
            "[nltk_data] Downloading package punkt to /root/nltk_data...\n",
            "[nltk_data]   Package punkt is already up-to-date!\n",
            "[nltk_data] Downloading package averaged_perceptron_tagger to\n",
            "[nltk_data]     /root/nltk_data...\n",
            "[nltk_data]   Package averaged_perceptron_tagger is already up-to-\n",
            "[nltk_data]       date!\n"
          ]
        },
        {
          "output_type": "stream",
          "name": "stdout",
          "text": [
            "Drive already mounted at /content/gdrive; to attempt to forcibly remount, call drive.mount(\"/content/gdrive\", force_remount=True).\n"
          ]
        }
      ],
      "source": [
        "from datetime import datetime\n",
        "import random \n",
        "import numpy as np\n",
        "import pandas as pd\n",
        "from sklearn.preprocessing import LabelEncoder\n",
        "from sklearn.model_selection import train_test_split\n",
        "from sklearn.ensemble import RandomForestClassifier, ExtraTreesClassifier\n",
        "from sklearn.linear_model import SGDClassifier, LogisticRegression\n",
        "from sklearn.naive_bayes import GaussianNB\n",
        "from sklearn.neural_network import MLPClassifier\n",
        "from sklearn.svm import SVC\n",
        "from sklearn.neighbors import KNeighborsClassifier\n",
        "from sklearn.model_selection import GridSearchCV\n",
        "from sklearn.ensemble import StackingClassifier\n",
        "from sklearn.metrics import confusion_matrix\n",
        "from sklearn.metrics import ConfusionMatrixDisplay\n",
        "from sklearn.metrics import accuracy_score, recall_score, precision_score, f1_score, fbeta_score, classification_report\n",
        "from sklearn.metrics import make_scorer \n",
        "import matplotlib.pyplot as plt\n",
        "import gensim.downloader as api\n",
        "import nltk\n",
        "from nltk.tokenize import word_tokenize\n",
        "from nltk import pos_tag\n",
        "nltk.download('stopwords')\n",
        "nltk.download('punkt')\n",
        "nltk.download('averaged_perceptron_tagger')\n",
        "from google.colab import drive\n",
        "drive.mount('/content/gdrive')\n",
        "dir_name = \"/content/gdrive/MyDrive/Thesis/\""
      ]
    },
    {
      "cell_type": "code",
      "source": [
        "def con2bin(label):\n",
        "  if label in ['Psoriasis', 'Chicken pox', 'Impetigo', 'Acne']:\n",
        "    return 1\n",
        "  return 0"
      ],
      "metadata": {
        "id": "3Ispzur-3Ctt"
      },
      "execution_count": null,
      "outputs": []
    },
    {
      "cell_type": "code",
      "execution_count": null,
      "metadata": {
        "id": "hsZEizu93N6d",
        "colab": {
          "base_uri": "https://localhost:8080/",
          "height": 423
        },
        "outputId": "0942efeb-8f40-4829-e561-283d31e06515"
      },
      "outputs": [
        {
          "output_type": "execute_result",
          "data": {
            "text/plain": [
              "      label                                               text\n",
              "0         1  I have been experiencing a skin rash on my arm...\n",
              "1         1  My skin has been peeling, especially on my kne...\n",
              "2         1  I have been experiencing joint pain in my fing...\n",
              "3         1  There is a silver like dusting on my skin, esp...\n",
              "4         1  My nails have small dents or pits in them, and...\n",
              "...     ...                                                ...\n",
              "1195      0  I'm shaking and trembling all over. I've lost ...\n",
              "1196      0  Particularly in the crevices of my skin, I hav...\n",
              "1197      0  I regularly experience these intense urges and...\n",
              "1198      0  I have trouble breathing, especially outside. ...\n",
              "1199      0  I constantly sneeze and have a dry cough. My i...\n",
              "\n",
              "[1200 rows x 2 columns]"
            ],
            "text/html": [
              "\n",
              "  <div id=\"df-71bb16a9-673c-4a89-b6ca-4539792e2cc2\">\n",
              "    <div class=\"colab-df-container\">\n",
              "      <div>\n",
              "<style scoped>\n",
              "    .dataframe tbody tr th:only-of-type {\n",
              "        vertical-align: middle;\n",
              "    }\n",
              "\n",
              "    .dataframe tbody tr th {\n",
              "        vertical-align: top;\n",
              "    }\n",
              "\n",
              "    .dataframe thead th {\n",
              "        text-align: right;\n",
              "    }\n",
              "</style>\n",
              "<table border=\"1\" class=\"dataframe\">\n",
              "  <thead>\n",
              "    <tr style=\"text-align: right;\">\n",
              "      <th></th>\n",
              "      <th>label</th>\n",
              "      <th>text</th>\n",
              "    </tr>\n",
              "  </thead>\n",
              "  <tbody>\n",
              "    <tr>\n",
              "      <th>0</th>\n",
              "      <td>1</td>\n",
              "      <td>I have been experiencing a skin rash on my arm...</td>\n",
              "    </tr>\n",
              "    <tr>\n",
              "      <th>1</th>\n",
              "      <td>1</td>\n",
              "      <td>My skin has been peeling, especially on my kne...</td>\n",
              "    </tr>\n",
              "    <tr>\n",
              "      <th>2</th>\n",
              "      <td>1</td>\n",
              "      <td>I have been experiencing joint pain in my fing...</td>\n",
              "    </tr>\n",
              "    <tr>\n",
              "      <th>3</th>\n",
              "      <td>1</td>\n",
              "      <td>There is a silver like dusting on my skin, esp...</td>\n",
              "    </tr>\n",
              "    <tr>\n",
              "      <th>4</th>\n",
              "      <td>1</td>\n",
              "      <td>My nails have small dents or pits in them, and...</td>\n",
              "    </tr>\n",
              "    <tr>\n",
              "      <th>...</th>\n",
              "      <td>...</td>\n",
              "      <td>...</td>\n",
              "    </tr>\n",
              "    <tr>\n",
              "      <th>1195</th>\n",
              "      <td>0</td>\n",
              "      <td>I'm shaking and trembling all over. I've lost ...</td>\n",
              "    </tr>\n",
              "    <tr>\n",
              "      <th>1196</th>\n",
              "      <td>0</td>\n",
              "      <td>Particularly in the crevices of my skin, I hav...</td>\n",
              "    </tr>\n",
              "    <tr>\n",
              "      <th>1197</th>\n",
              "      <td>0</td>\n",
              "      <td>I regularly experience these intense urges and...</td>\n",
              "    </tr>\n",
              "    <tr>\n",
              "      <th>1198</th>\n",
              "      <td>0</td>\n",
              "      <td>I have trouble breathing, especially outside. ...</td>\n",
              "    </tr>\n",
              "    <tr>\n",
              "      <th>1199</th>\n",
              "      <td>0</td>\n",
              "      <td>I constantly sneeze and have a dry cough. My i...</td>\n",
              "    </tr>\n",
              "  </tbody>\n",
              "</table>\n",
              "<p>1200 rows × 2 columns</p>\n",
              "</div>\n",
              "      <button class=\"colab-df-convert\" onclick=\"convertToInteractive('df-71bb16a9-673c-4a89-b6ca-4539792e2cc2')\"\n",
              "              title=\"Convert this dataframe to an interactive table.\"\n",
              "              style=\"display:none;\">\n",
              "        \n",
              "  <svg xmlns=\"http://www.w3.org/2000/svg\" height=\"24px\"viewBox=\"0 0 24 24\"\n",
              "       width=\"24px\">\n",
              "    <path d=\"M0 0h24v24H0V0z\" fill=\"none\"/>\n",
              "    <path d=\"M18.56 5.44l.94 2.06.94-2.06 2.06-.94-2.06-.94-.94-2.06-.94 2.06-2.06.94zm-11 1L8.5 8.5l.94-2.06 2.06-.94-2.06-.94L8.5 2.5l-.94 2.06-2.06.94zm10 10l.94 2.06.94-2.06 2.06-.94-2.06-.94-.94-2.06-.94 2.06-2.06.94z\"/><path d=\"M17.41 7.96l-1.37-1.37c-.4-.4-.92-.59-1.43-.59-.52 0-1.04.2-1.43.59L10.3 9.45l-7.72 7.72c-.78.78-.78 2.05 0 2.83L4 21.41c.39.39.9.59 1.41.59.51 0 1.02-.2 1.41-.59l7.78-7.78 2.81-2.81c.8-.78.8-2.07 0-2.86zM5.41 20L4 18.59l7.72-7.72 1.47 1.35L5.41 20z\"/>\n",
              "  </svg>\n",
              "      </button>\n",
              "      \n",
              "  <style>\n",
              "    .colab-df-container {\n",
              "      display:flex;\n",
              "      flex-wrap:wrap;\n",
              "      gap: 12px;\n",
              "    }\n",
              "\n",
              "    .colab-df-convert {\n",
              "      background-color: #E8F0FE;\n",
              "      border: none;\n",
              "      border-radius: 50%;\n",
              "      cursor: pointer;\n",
              "      display: none;\n",
              "      fill: #1967D2;\n",
              "      height: 32px;\n",
              "      padding: 0 0 0 0;\n",
              "      width: 32px;\n",
              "    }\n",
              "\n",
              "    .colab-df-convert:hover {\n",
              "      background-color: #E2EBFA;\n",
              "      box-shadow: 0px 1px 2px rgba(60, 64, 67, 0.3), 0px 1px 3px 1px rgba(60, 64, 67, 0.15);\n",
              "      fill: #174EA6;\n",
              "    }\n",
              "\n",
              "    [theme=dark] .colab-df-convert {\n",
              "      background-color: #3B4455;\n",
              "      fill: #D2E3FC;\n",
              "    }\n",
              "\n",
              "    [theme=dark] .colab-df-convert:hover {\n",
              "      background-color: #434B5C;\n",
              "      box-shadow: 0px 1px 3px 1px rgba(0, 0, 0, 0.15);\n",
              "      filter: drop-shadow(0px 1px 2px rgba(0, 0, 0, 0.3));\n",
              "      fill: #FFFFFF;\n",
              "    }\n",
              "  </style>\n",
              "\n",
              "      <script>\n",
              "        const buttonEl =\n",
              "          document.querySelector('#df-71bb16a9-673c-4a89-b6ca-4539792e2cc2 button.colab-df-convert');\n",
              "        buttonEl.style.display =\n",
              "          google.colab.kernel.accessAllowed ? 'block' : 'none';\n",
              "\n",
              "        async function convertToInteractive(key) {\n",
              "          const element = document.querySelector('#df-71bb16a9-673c-4a89-b6ca-4539792e2cc2');\n",
              "          const dataTable =\n",
              "            await google.colab.kernel.invokeFunction('convertToInteractive',\n",
              "                                                     [key], {});\n",
              "          if (!dataTable) return;\n",
              "\n",
              "          const docLinkHtml = 'Like what you see? Visit the ' +\n",
              "            '<a target=\"_blank\" href=https://colab.research.google.com/notebooks/data_table.ipynb>data table notebook</a>'\n",
              "            + ' to learn more about interactive tables.';\n",
              "          element.innerHTML = '';\n",
              "          dataTable['output_type'] = 'display_data';\n",
              "          await google.colab.output.renderOutput(dataTable, element);\n",
              "          const docLink = document.createElement('div');\n",
              "          docLink.innerHTML = docLinkHtml;\n",
              "          element.appendChild(docLink);\n",
              "        }\n",
              "      </script>\n",
              "    </div>\n",
              "  </div>\n",
              "  "
            ]
          },
          "metadata": {},
          "execution_count": 3
        }
      ],
      "source": [
        "def get_raw_data(dir_name):\n",
        "    #  load data\n",
        "    data = pd.read_csv('{}Symptom2Disease.csv'.format(dir_name), encoding = 'latin-1', usecols=['text', 'label'])\n",
        "    data['label'] =  data['label'].apply(con2bin)\n",
        "    return data\n",
        "\n",
        "raw_data = get_raw_data(dir_name + 'datasets/')\n",
        "raw_data"
      ]
    },
    {
      "cell_type": "code",
      "execution_count": null,
      "metadata": {
        "id": "puuFMH0H8Li_",
        "colab": {
          "base_uri": "https://localhost:8080/",
          "height": 499
        },
        "outputId": "437211f7-2643-4f2c-ba4f-10929ace2f43"
      },
      "outputs": [
        {
          "output_type": "display_data",
          "data": {
            "text/plain": [
              "<Figure size 600x600 with 1 Axes>"
            ],
            "image/png": "[encoded data removed]"
          },
          "metadata": {}
        }
      ],
      "source": [
        "def get_dataset_statistics(data):\n",
        "    dataset_statistics = {'Number of intances': [data['label'].value_counts()[0], data['label'].value_counts()[1]]}\n",
        "    df = pd.DataFrame(dataset_statistics, index=['0', '1'])\n",
        "    df.plot(kind='pie', y='Number of intances', figsize=(6, 6), fontsize=14,\n",
        "            autopct=lambda v: '{:.0f} ({:.1f}%)'.format(v / 100 * data['label'].count(), v))\n",
        "    \n",
        "get_dataset_statistics(raw_data)"
      ]
    },
    {
      "cell_type": "code",
      "execution_count": null,
      "metadata": {
        "colab": {
          "base_uri": "https://localhost:8080/"
        },
        "id": "jvrPiHms7t3O",
        "outputId": "21899bbb-2039-45cc-86fd-5574acc86f4b"
      },
      "outputs": [
        {
          "output_type": "execute_result",
          "data": {
            "text/plain": [
              "False"
            ]
          },
          "metadata": {},
          "execution_count": 5
        }
      ],
      "source": [
        "raw_data['text'].is_unique"
      ]
    },
    {
      "cell_type": "code",
      "execution_count": null,
      "metadata": {
        "id": "QGX76s7s7vC1",
        "colab": {
          "base_uri": "https://localhost:8080/"
        },
        "outputId": "cc5f3665-22d6-4193-d336-af86b78ba232"
      },
      "outputs": [
        {
          "output_type": "execute_result",
          "data": {
            "text/plain": [
              "True"
            ]
          },
          "metadata": {},
          "execution_count": 6
        }
      ],
      "source": [
        "raw_data.drop_duplicates( inplace=True)\n",
        "raw_data['text'].is_unique"
      ]
    },
    {
      "cell_type": "code",
      "execution_count": null,
      "metadata": {
        "colab": {
          "base_uri": "https://localhost:8080/",
          "height": 423
        },
        "id": "kAvJMWIH8BfT",
        "outputId": "75c589a7-141f-4d9a-caef-720b4fafa52d"
      },
      "outputs": [
        {
          "output_type": "execute_result",
          "data": {
            "text/plain": [
              "      label                                               text\n",
              "0         1  I have been experiencing a skin rash on my arm...\n",
              "1         1  My skin has been peeling, especially on my kne...\n",
              "2         1  I have been experiencing joint pain in my fing...\n",
              "3         1  There is a silver like dusting on my skin, esp...\n",
              "4         1  My nails have small dents or pits in them, and...\n",
              "...     ...                                                ...\n",
              "1195      0  I'm shaking and trembling all over. I've lost ...\n",
              "1196      0  Particularly in the crevices of my skin, I hav...\n",
              "1197      0  I regularly experience these intense urges and...\n",
              "1198      0  I have trouble breathing, especially outside. ...\n",
              "1199      0  I constantly sneeze and have a dry cough. My i...\n",
              "\n",
              "[1153 rows x 2 columns]"
            ],
            "text/html": [
              "\n",
              "  <div id=\"df-aa87b6ce-6419-488b-860b-7af74dc69d42\">\n",
              "    <div class=\"colab-df-container\">\n",
              "      <div>\n",
              "<style scoped>\n",
              "    .dataframe tbody tr th:only-of-type {\n",
              "        vertical-align: middle;\n",
              "    }\n",
              "\n",
              "    .dataframe tbody tr th {\n",
              "        vertical-align: top;\n",
              "    }\n",
              "\n",
              "    .dataframe thead th {\n",
              "        text-align: right;\n",
              "    }\n",
              "</style>\n",
              "<table border=\"1\" class=\"dataframe\">\n",
              "  <thead>\n",
              "    <tr style=\"text-align: right;\">\n",
              "      <th></th>\n",
              "      <th>label</th>\n",
              "      <th>text</th>\n",
              "    </tr>\n",
              "  </thead>\n",
              "  <tbody>\n",
              "    <tr>\n",
              "      <th>0</th>\n",
              "      <td>1</td>\n",
              "      <td>I have been experiencing a skin rash on my arm...</td>\n",
              "    </tr>\n",
              "    <tr>\n",
              "      <th>1</th>\n",
              "      <td>1</td>\n",
              "      <td>My skin has been peeling, especially on my kne...</td>\n",
              "    </tr>\n",
              "    <tr>\n",
              "      <th>2</th>\n",
              "      <td>1</td>\n",
              "      <td>I have been experiencing joint pain in my fing...</td>\n",
              "    </tr>\n",
              "    <tr>\n",
              "      <th>3</th>\n",
              "      <td>1</td>\n",
              "      <td>There is a silver like dusting on my skin, esp...</td>\n",
              "    </tr>\n",
              "    <tr>\n",
              "      <th>4</th>\n",
              "      <td>1</td>\n",
              "      <td>My nails have small dents or pits in them, and...</td>\n",
              "    </tr>\n",
              "    <tr>\n",
              "      <th>...</th>\n",
              "      <td>...</td>\n",
              "      <td>...</td>\n",
              "    </tr>\n",
              "    <tr>\n",
              "      <th>1195</th>\n",
              "      <td>0</td>\n",
              "      <td>I'm shaking and trembling all over. I've lost ...</td>\n",
              "    </tr>\n",
              "    <tr>\n",
              "      <th>1196</th>\n",
              "      <td>0</td>\n",
              "      <td>Particularly in the crevices of my skin, I hav...</td>\n",
              "    </tr>\n",
              "    <tr>\n",
              "      <th>1197</th>\n",
              "      <td>0</td>\n",
              "      <td>I regularly experience these intense urges and...</td>\n",
              "    </tr>\n",
              "    <tr>\n",
              "      <th>1198</th>\n",
              "      <td>0</td>\n",
              "      <td>I have trouble breathing, especially outside. ...</td>\n",
              "    </tr>\n",
              "    <tr>\n",
              "      <th>1199</th>\n",
              "      <td>0</td>\n",
              "      <td>I constantly sneeze and have a dry cough. My i...</td>\n",
              "    </tr>\n",
              "  </tbody>\n",
              "</table>\n",
              "<p>1153 rows × 2 columns</p>\n",
              "</div>\n",
              "      <button class=\"colab-df-convert\" onclick=\"convertToInteractive('df-aa87b6ce-6419-488b-860b-7af74dc69d42')\"\n",
              "              title=\"Convert this dataframe to an interactive table.\"\n",
              "              style=\"display:none;\">\n",
              "        \n",
              "  <svg xmlns=\"http://www.w3.org/2000/svg\" height=\"24px\"viewBox=\"0 0 24 24\"\n",
              "       width=\"24px\">\n",
              "    <path d=\"M0 0h24v24H0V0z\" fill=\"none\"/>\n",
              "    <path d=\"M18.56 5.44l.94 2.06.94-2.06 2.06-.94-2.06-.94-.94-2.06-.94 2.06-2.06.94zm-11 1L8.5 8.5l.94-2.06 2.06-.94-2.06-.94L8.5 2.5l-.94 2.06-2.06.94zm10 10l.94 2.06.94-2.06 2.06-.94-2.06-.94-.94-2.06-.94 2.06-2.06.94z\"/><path d=\"M17.41 7.96l-1.37-1.37c-.4-.4-.92-.59-1.43-.59-.52 0-1.04.2-1.43.59L10.3 9.45l-7.72 7.72c-.78.78-.78 2.05 0 2.83L4 21.41c.39.39.9.59 1.41.59.51 0 1.02-.2 1.41-.59l7.78-7.78 2.81-2.81c.8-.78.8-2.07 0-2.86zM5.41 20L4 18.59l7.72-7.72 1.47 1.35L5.41 20z\"/>\n",
              "  </svg>\n",
              "      </button>\n",
              "      \n",
              "  <style>\n",
              "    .colab-df-container {\n",
              "      display:flex;\n",
              "      flex-wrap:wrap;\n",
              "      gap: 12px;\n",
              "    }\n",
              "\n",
              "    .colab-df-convert {\n",
              "      background-color: #E8F0FE;\n",
              "      border: none;\n",
              "      border-radius: 50%;\n",
              "      cursor: pointer;\n",
              "      display: none;\n",
              "      fill: #1967D2;\n",
              "      height: 32px;\n",
              "      padding: 0 0 0 0;\n",
              "      width: 32px;\n",
              "    }\n",
              "\n",
              "    .colab-df-convert:hover {\n",
              "      background-color: #E2EBFA;\n",
              "      box-shadow: 0px 1px 2px rgba(60, 64, 67, 0.3), 0px 1px 3px 1px rgba(60, 64, 67, 0.15);\n",
              "      fill: #174EA6;\n",
              "    }\n",
              "\n",
              "    [theme=dark] .colab-df-convert {\n",
              "      background-color: #3B4455;\n",
              "      fill: #D2E3FC;\n",
              "    }\n",
              "\n",
              "    [theme=dark] .colab-df-convert:hover {\n",
              "      background-color: #434B5C;\n",
              "      box-shadow: 0px 1px 3px 1px rgba(0, 0, 0, 0.15);\n",
              "      filter: drop-shadow(0px 1px 2px rgba(0, 0, 0, 0.3));\n",
              "      fill: #FFFFFF;\n",
              "    }\n",
              "  </style>\n",
              "\n",
              "      <script>\n",
              "        const buttonEl =\n",
              "          document.querySelector('#df-aa87b6ce-6419-488b-860b-7af74dc69d42 button.colab-df-convert');\n",
              "        buttonEl.style.display =\n",
              "          google.colab.kernel.accessAllowed ? 'block' : 'none';\n",
              "\n",
              "        async function convertToInteractive(key) {\n",
              "          const element = document.querySelector('#df-aa87b6ce-6419-488b-860b-7af74dc69d42');\n",
              "          const dataTable =\n",
              "            await google.colab.kernel.invokeFunction('convertToInteractive',\n",
              "                                                     [key], {});\n",
              "          if (!dataTable) return;\n",
              "\n",
              "          const docLinkHtml = 'Like what you see? Visit the ' +\n",
              "            '<a target=\"_blank\" href=https://colab.research.google.com/notebooks/data_table.ipynb>data table notebook</a>'\n",
              "            + ' to learn more about interactive tables.';\n",
              "          element.innerHTML = '';\n",
              "          dataTable['output_type'] = 'display_data';\n",
              "          await google.colab.output.renderOutput(dataTable, element);\n",
              "          const docLink = document.createElement('div');\n",
              "          docLink.innerHTML = docLinkHtml;\n",
              "          element.appendChild(docLink);\n",
              "        }\n",
              "      </script>\n",
              "    </div>\n",
              "  </div>\n",
              "  "
            ]
          },
          "metadata": {},
          "execution_count": 7
        }
      ],
      "source": [
        "raw_data"
      ]
    },
    {
      "cell_type": "code",
      "execution_count": null,
      "metadata": {
        "colab": {
          "base_uri": "https://localhost:8080/",
          "height": 499
        },
        "id": "M29miyuS8dVA",
        "outputId": "95a5a225-13c5-462f-e83a-be960c46c3c5"
      },
      "outputs": [
        {
          "output_type": "display_data",
          "data": {
            "text/plain": [
              "<Figure size 600x600 with 1 Axes>"
            ],
            "image/png": "[encoded data removed]"
          },
          "metadata": {}
        }
      ],
      "source": [
        "get_dataset_statistics(raw_data)"
      ]
    },
    {
      "cell_type": "code",
      "execution_count": null,
      "metadata": {
        "id": "9a7oMalo8eW7"
      },
      "outputs": [],
      "source": [
        "X_train, X_test, y_train, y_test = train_test_split(raw_data['text'].to_numpy(), raw_data['label'].to_numpy(), stratify=raw_data['label'].to_numpy(), test_size=0.2, random_state=24)"
      ]
    },
    {
      "cell_type": "code",
      "execution_count": null,
      "metadata": {
        "colab": {
          "base_uri": "https://localhost:8080/",
          "height": 499
        },
        "id": "4Qah2hem-rzC",
        "outputId": "e4f39835-d8fc-4f4a-8b6c-85d57b383e71"
      },
      "outputs": [
        {
          "output_type": "display_data",
          "data": {
            "text/plain": [
              "<Figure size 600x600 with 1 Axes>"
            ],
            "image/png": "[encoded data removed]"
          },
          "metadata": {}
        }
      ],
      "source": [
        "get_dataset_statistics(pd.DataFrame({'label': y_train}))"
      ]
    },
    {
      "cell_type": "code",
      "execution_count": null,
      "metadata": {
        "colab": {
          "base_uri": "https://localhost:8080/",
          "height": 499
        },
        "id": "tBCiPYyy-0YC",
        "outputId": "35117ef6-471f-434d-fa0e-e0bd713b35ce"
      },
      "outputs": [
        {
          "output_type": "display_data",
          "data": {
            "text/plain": [
              "<Figure size 600x600 with 1 Axes>"
            ],
            "image/png": "[encoded data removed]"
          },
          "metadata": {}
        }
      ],
      "source": [
        "get_dataset_statistics(pd.DataFrame({'label': y_test}))"
      ]
    },
    {
      "cell_type": "code",
      "execution_count": null,
      "metadata": {
        "id": "cVetnUhn-6K9",
        "colab": {
          "base_uri": "https://localhost:8080/",
          "height": 423
        },
        "outputId": "977ebcad-0dbd-4c21-9737-566ec4583a6e"
      },
      "outputs": [
        {
          "output_type": "execute_result",
          "data": {
            "text/plain": [
              "                                                  text  label\n",
              "0    I am quite queasy and dizzy when I have a temp...      0\n",
              "1    I've been experiencing muscular weakness and s...      0\n",
              "2    Over the last week, the rash on my face has go...      1\n",
              "3    I have a frequent need to urinate and often ha...      0\n",
              "4    I am feeling quite weak. I'm having a lot of s...      0\n",
              "..                                                 ...    ...\n",
              "917  Sometimes my skin starts to flake off from my ...      0\n",
              "918  My skin has a horrible rash that is absolutely...      1\n",
              "919  I occasionally have burning in my upper abdome...      0\n",
              "920  I lose weight unintentionally and find it chal...      0\n",
              "921  My mouth is filled with a sour, acidic flavour...      0\n",
              "\n",
              "[922 rows x 2 columns]"
            ],
            "text/html": [
              "\n",
              "  <div id=\"df-ebe87342-2c39-4094-9dbf-7bf8deb3bf22\">\n",
              "    <div class=\"colab-df-container\">\n",
              "      <div>\n",
              "<style scoped>\n",
              "    .dataframe tbody tr th:only-of-type {\n",
              "        vertical-align: middle;\n",
              "    }\n",
              "\n",
              "    .dataframe tbody tr th {\n",
              "        vertical-align: top;\n",
              "    }\n",
              "\n",
              "    .dataframe thead th {\n",
              "        text-align: right;\n",
              "    }\n",
              "</style>\n",
              "<table border=\"1\" class=\"dataframe\">\n",
              "  <thead>\n",
              "    <tr style=\"text-align: right;\">\n",
              "      <th></th>\n",
              "      <th>text</th>\n",
              "      <th>label</th>\n",
              "    </tr>\n",
              "  </thead>\n",
              "  <tbody>\n",
              "    <tr>\n",
              "      <th>0</th>\n",
              "      <td>I am quite queasy and dizzy when I have a temp...</td>\n",
              "      <td>0</td>\n",
              "    </tr>\n",
              "    <tr>\n",
              "      <th>1</th>\n",
              "      <td>I've been experiencing muscular weakness and s...</td>\n",
              "      <td>0</td>\n",
              "    </tr>\n",
              "    <tr>\n",
              "      <th>2</th>\n",
              "      <td>Over the last week, the rash on my face has go...</td>\n",
              "      <td>1</td>\n",
              "    </tr>\n",
              "    <tr>\n",
              "      <th>3</th>\n",
              "      <td>I have a frequent need to urinate and often ha...</td>\n",
              "      <td>0</td>\n",
              "    </tr>\n",
              "    <tr>\n",
              "      <th>4</th>\n",
              "      <td>I am feeling quite weak. I'm having a lot of s...</td>\n",
              "      <td>0</td>\n",
              "    </tr>\n",
              "    <tr>\n",
              "      <th>...</th>\n",
              "      <td>...</td>\n",
              "      <td>...</td>\n",
              "    </tr>\n",
              "    <tr>\n",
              "      <th>917</th>\n",
              "      <td>Sometimes my skin starts to flake off from my ...</td>\n",
              "      <td>0</td>\n",
              "    </tr>\n",
              "    <tr>\n",
              "      <th>918</th>\n",
              "      <td>My skin has a horrible rash that is absolutely...</td>\n",
              "      <td>1</td>\n",
              "    </tr>\n",
              "    <tr>\n",
              "      <th>919</th>\n",
              "      <td>I occasionally have burning in my upper abdome...</td>\n",
              "      <td>0</td>\n",
              "    </tr>\n",
              "    <tr>\n",
              "      <th>920</th>\n",
              "      <td>I lose weight unintentionally and find it chal...</td>\n",
              "      <td>0</td>\n",
              "    </tr>\n",
              "    <tr>\n",
              "      <th>921</th>\n",
              "      <td>My mouth is filled with a sour, acidic flavour...</td>\n",
              "      <td>0</td>\n",
              "    </tr>\n",
              "  </tbody>\n",
              "</table>\n",
              "<p>922 rows × 2 columns</p>\n",
              "</div>\n",
              "      <button class=\"colab-df-convert\" onclick=\"convertToInteractive('df-ebe87342-2c39-4094-9dbf-7bf8deb3bf22')\"\n",
              "              title=\"Convert this dataframe to an interactive table.\"\n",
              "              style=\"display:none;\">\n",
              "        \n",
              "  <svg xmlns=\"http://www.w3.org/2000/svg\" height=\"24px\"viewBox=\"0 0 24 24\"\n",
              "       width=\"24px\">\n",
              "    <path d=\"M0 0h24v24H0V0z\" fill=\"none\"/>\n",
              "    <path d=\"M18.56 5.44l.94 2.06.94-2.06 2.06-.94-2.06-.94-.94-2.06-.94 2.06-2.06.94zm-11 1L8.5 8.5l.94-2.06 2.06-.94-2.06-.94L8.5 2.5l-.94 2.06-2.06.94zm10 10l.94 2.06.94-2.06 2.06-.94-2.06-.94-.94-2.06-.94 2.06-2.06.94z\"/><path d=\"M17.41 7.96l-1.37-1.37c-.4-.4-.92-.59-1.43-.59-.52 0-1.04.2-1.43.59L10.3 9.45l-7.72 7.72c-.78.78-.78 2.05 0 2.83L4 21.41c.39.39.9.59 1.41.59.51 0 1.02-.2 1.41-.59l7.78-7.78 2.81-2.81c.8-.78.8-2.07 0-2.86zM5.41 20L4 18.59l7.72-7.72 1.47 1.35L5.41 20z\"/>\n",
              "  </svg>\n",
              "      </button>\n",
              "      \n",
              "  <style>\n",
              "    .colab-df-container {\n",
              "      display:flex;\n",
              "      flex-wrap:wrap;\n",
              "      gap: 12px;\n",
              "    }\n",
              "\n",
              "    .colab-df-convert {\n",
              "      background-color: #E8F0FE;\n",
              "      border: none;\n",
              "      border-radius: 50%;\n",
              "      cursor: pointer;\n",
              "      display: none;\n",
              "      fill: #1967D2;\n",
              "      height: 32px;\n",
              "      padding: 0 0 0 0;\n",
              "      width: 32px;\n",
              "    }\n",
              "\n",
              "    .colab-df-convert:hover {\n",
              "      background-color: #E2EBFA;\n",
              "      box-shadow: 0px 1px 2px rgba(60, 64, 67, 0.3), 0px 1px 3px 1px rgba(60, 64, 67, 0.15);\n",
              "      fill: #174EA6;\n",
              "    }\n",
              "\n",
              "    [theme=dark] .colab-df-convert {\n",
              "      background-color: #3B4455;\n",
              "      fill: #D2E3FC;\n",
              "    }\n",
              "\n",
              "    [theme=dark] .colab-df-convert:hover {\n",
              "      background-color: #434B5C;\n",
              "      box-shadow: 0px 1px 3px 1px rgba(0, 0, 0, 0.15);\n",
              "      filter: drop-shadow(0px 1px 2px rgba(0, 0, 0, 0.3));\n",
              "      fill: #FFFFFF;\n",
              "    }\n",
              "  </style>\n",
              "\n",
              "      <script>\n",
              "        const buttonEl =\n",
              "          document.querySelector('#df-ebe87342-2c39-4094-9dbf-7bf8deb3bf22 button.colab-df-convert');\n",
              "        buttonEl.style.display =\n",
              "          google.colab.kernel.accessAllowed ? 'block' : 'none';\n",
              "\n",
              "        async function convertToInteractive(key) {\n",
              "          const element = document.querySelector('#df-ebe87342-2c39-4094-9dbf-7bf8deb3bf22');\n",
              "          const dataTable =\n",
              "            await google.colab.kernel.invokeFunction('convertToInteractive',\n",
              "                                                     [key], {});\n",
              "          if (!dataTable) return;\n",
              "\n",
              "          const docLinkHtml = 'Like what you see? Visit the ' +\n",
              "            '<a target=\"_blank\" href=https://colab.research.google.com/notebooks/data_table.ipynb>data table notebook</a>'\n",
              "            + ' to learn more about interactive tables.';\n",
              "          element.innerHTML = '';\n",
              "          dataTable['output_type'] = 'display_data';\n",
              "          await google.colab.output.renderOutput(dataTable, element);\n",
              "          const docLink = document.createElement('div');\n",
              "          docLink.innerHTML = docLinkHtml;\n",
              "          element.appendChild(docLink);\n",
              "        }\n",
              "      </script>\n",
              "    </div>\n",
              "  </div>\n",
              "  "
            ]
          },
          "metadata": {},
          "execution_count": 10
        }
      ],
      "source": [
        "train_data = pd.DataFrame({'text': X_train, 'label': y_train})\n",
        "train_data"
      ]
    },
    {
      "cell_type": "code",
      "execution_count": null,
      "metadata": {
        "id": "ppXduhD3Okz8",
        "colab": {
          "base_uri": "https://localhost:8080/",
          "height": 423
        },
        "outputId": "7b63a3a4-6191-4f66-f1be-14278b489e56"
      },
      "outputs": [
        {
          "output_type": "execute_result",
          "data": {
            "text/plain": [
              "                                                  text  label\n",
              "0    My cheeks and nose are covered with red sores....      1\n",
              "1    My vision is blurry, and it feels like it's ge...      0\n",
              "2    I have noticed a sudden peeling of skin at dif...      1\n",
              "3    I've been suffering from severe constipation l...      0\n",
              "4    The sores around my nose are now surrounded by...      1\n",
              "..                                                 ...    ...\n",
              "226  I have been feeling nauseous and have a consta...      0\n",
              "227  I have a sour acidic taste in my mouth. I have...      0\n",
              "228  I routinely experience heartburn and indigesti...      0\n",
              "229  The veins on my calves have become very promin...      0\n",
              "230  Hello, Mom and Father Recently, I've felt incr...      0\n",
              "\n",
              "[231 rows x 2 columns]"
            ],
            "text/html": [
              "\n",
              "  <div id=\"df-1d3943df-0708-4d36-b0aa-1a38fa25a648\">\n",
              "    <div class=\"colab-df-container\">\n",
              "      <div>\n",
              "<style scoped>\n",
              "    .dataframe tbody tr th:only-of-type {\n",
              "        vertical-align: middle;\n",
              "    }\n",
              "\n",
              "    .dataframe tbody tr th {\n",
              "        vertical-align: top;\n",
              "    }\n",
              "\n",
              "    .dataframe thead th {\n",
              "        text-align: right;\n",
              "    }\n",
              "</style>\n",
              "<table border=\"1\" class=\"dataframe\">\n",
              "  <thead>\n",
              "    <tr style=\"text-align: right;\">\n",
              "      <th></th>\n",
              "      <th>text</th>\n",
              "      <th>label</th>\n",
              "    </tr>\n",
              "  </thead>\n",
              "  <tbody>\n",
              "    <tr>\n",
              "      <th>0</th>\n",
              "      <td>My cheeks and nose are covered with red sores....</td>\n",
              "      <td>1</td>\n",
              "    </tr>\n",
              "    <tr>\n",
              "      <th>1</th>\n",
              "      <td>My vision is blurry, and it feels like it's ge...</td>\n",
              "      <td>0</td>\n",
              "    </tr>\n",
              "    <tr>\n",
              "      <th>2</th>\n",
              "      <td>I have noticed a sudden peeling of skin at dif...</td>\n",
              "      <td>1</td>\n",
              "    </tr>\n",
              "    <tr>\n",
              "      <th>3</th>\n",
              "      <td>I've been suffering from severe constipation l...</td>\n",
              "      <td>0</td>\n",
              "    </tr>\n",
              "    <tr>\n",
              "      <th>4</th>\n",
              "      <td>The sores around my nose are now surrounded by...</td>\n",
              "      <td>1</td>\n",
              "    </tr>\n",
              "    <tr>\n",
              "      <th>...</th>\n",
              "      <td>...</td>\n",
              "      <td>...</td>\n",
              "    </tr>\n",
              "    <tr>\n",
              "      <th>226</th>\n",
              "      <td>I have been feeling nauseous and have a consta...</td>\n",
              "      <td>0</td>\n",
              "    </tr>\n",
              "    <tr>\n",
              "      <th>227</th>\n",
              "      <td>I have a sour acidic taste in my mouth. I have...</td>\n",
              "      <td>0</td>\n",
              "    </tr>\n",
              "    <tr>\n",
              "      <th>228</th>\n",
              "      <td>I routinely experience heartburn and indigesti...</td>\n",
              "      <td>0</td>\n",
              "    </tr>\n",
              "    <tr>\n",
              "      <th>229</th>\n",
              "      <td>The veins on my calves have become very promin...</td>\n",
              "      <td>0</td>\n",
              "    </tr>\n",
              "    <tr>\n",
              "      <th>230</th>\n",
              "      <td>Hello, Mom and Father Recently, I've felt incr...</td>\n",
              "      <td>0</td>\n",
              "    </tr>\n",
              "  </tbody>\n",
              "</table>\n",
              "<p>231 rows × 2 columns</p>\n",
              "</div>\n",
              "      <button class=\"colab-df-convert\" onclick=\"convertToInteractive('df-1d3943df-0708-4d36-b0aa-1a38fa25a648')\"\n",
              "              title=\"Convert this dataframe to an interactive table.\"\n",
              "              style=\"display:none;\">\n",
              "        \n",
              "  <svg xmlns=\"http://www.w3.org/2000/svg\" height=\"24px\"viewBox=\"0 0 24 24\"\n",
              "       width=\"24px\">\n",
              "    <path d=\"M0 0h24v24H0V0z\" fill=\"none\"/>\n",
              "    <path d=\"M18.56 5.44l.94 2.06.94-2.06 2.06-.94-2.06-.94-.94-2.06-.94 2.06-2.06.94zm-11 1L8.5 8.5l.94-2.06 2.06-.94-2.06-.94L8.5 2.5l-.94 2.06-2.06.94zm10 10l.94 2.06.94-2.06 2.06-.94-2.06-.94-.94-2.06-.94 2.06-2.06.94z\"/><path d=\"M17.41 7.96l-1.37-1.37c-.4-.4-.92-.59-1.43-.59-.52 0-1.04.2-1.43.59L10.3 9.45l-7.72 7.72c-.78.78-.78 2.05 0 2.83L4 21.41c.39.39.9.59 1.41.59.51 0 1.02-.2 1.41-.59l7.78-7.78 2.81-2.81c.8-.78.8-2.07 0-2.86zM5.41 20L4 18.59l7.72-7.72 1.47 1.35L5.41 20z\"/>\n",
              "  </svg>\n",
              "      </button>\n",
              "      \n",
              "  <style>\n",
              "    .colab-df-container {\n",
              "      display:flex;\n",
              "      flex-wrap:wrap;\n",
              "      gap: 12px;\n",
              "    }\n",
              "\n",
              "    .colab-df-convert {\n",
              "      background-color: #E8F0FE;\n",
              "      border: none;\n",
              "      border-radius: 50%;\n",
              "      cursor: pointer;\n",
              "      display: none;\n",
              "      fill: #1967D2;\n",
              "      height: 32px;\n",
              "      padding: 0 0 0 0;\n",
              "      width: 32px;\n",
              "    }\n",
              "\n",
              "    .colab-df-convert:hover {\n",
              "      background-color: #E2EBFA;\n",
              "      box-shadow: 0px 1px 2px rgba(60, 64, 67, 0.3), 0px 1px 3px 1px rgba(60, 64, 67, 0.15);\n",
              "      fill: #174EA6;\n",
              "    }\n",
              "\n",
              "    [theme=dark] .colab-df-convert {\n",
              "      background-color: #3B4455;\n",
              "      fill: #D2E3FC;\n",
              "    }\n",
              "\n",
              "    [theme=dark] .colab-df-convert:hover {\n",
              "      background-color: #434B5C;\n",
              "      box-shadow: 0px 1px 3px 1px rgba(0, 0, 0, 0.15);\n",
              "      filter: drop-shadow(0px 1px 2px rgba(0, 0, 0, 0.3));\n",
              "      fill: #FFFFFF;\n",
              "    }\n",
              "  </style>\n",
              "\n",
              "      <script>\n",
              "        const buttonEl =\n",
              "          document.querySelector('#df-1d3943df-0708-4d36-b0aa-1a38fa25a648 button.colab-df-convert');\n",
              "        buttonEl.style.display =\n",
              "          google.colab.kernel.accessAllowed ? 'block' : 'none';\n",
              "\n",
              "        async function convertToInteractive(key) {\n",
              "          const element = document.querySelector('#df-1d3943df-0708-4d36-b0aa-1a38fa25a648');\n",
              "          const dataTable =\n",
              "            await google.colab.kernel.invokeFunction('convertToInteractive',\n",
              "                                                     [key], {});\n",
              "          if (!dataTable) return;\n",
              "\n",
              "          const docLinkHtml = 'Like what you see? Visit the ' +\n",
              "            '<a target=\"_blank\" href=https://colab.research.google.com/notebooks/data_table.ipynb>data table notebook</a>'\n",
              "            + ' to learn more about interactive tables.';\n",
              "          element.innerHTML = '';\n",
              "          dataTable['output_type'] = 'display_data';\n",
              "          await google.colab.output.renderOutput(dataTable, element);\n",
              "          const docLink = document.createElement('div');\n",
              "          docLink.innerHTML = docLinkHtml;\n",
              "          element.appendChild(docLink);\n",
              "        }\n",
              "      </script>\n",
              "    </div>\n",
              "  </div>\n",
              "  "
            ]
          },
          "metadata": {},
          "execution_count": 11
        }
      ],
      "source": [
        "test_data = pd.DataFrame({'text': X_test, 'label': y_test})\n",
        "test_data"
      ]
    },
    {
      "cell_type": "markdown",
      "metadata": {
        "id": "OiEsQgky_HtA"
      },
      "source": [
        "# Text Preprocessing "
      ]
    },
    {
      "cell_type": "code",
      "execution_count": null,
      "metadata": {
        "id": "gBlxYHn9_C_e"
      },
      "outputs": [],
      "source": [
        "import requests\n",
        "stopwords_list = requests.get(\"https://github.com/stopwords-iso/stopwords-en/blob/master/stopwords-en.txt\").content\n",
        "stopwords = set(stopwords_list.decode().splitlines())"
      ]
    },
    {
      "cell_type": "code",
      "execution_count": null,
      "metadata": {
        "id": "trlE3rdD_Lr7"
      },
      "outputs": [],
      "source": [
        "import string\n",
        "from nltk.corpus import stopwords\n",
        "from sklearn.feature_extraction.text import ENGLISH_STOP_WORDS\n",
        "sklearn_stopwords = ENGLISH_STOP_WORDS\n",
        "\n",
        "stop_words = set(stopwords.words('english'))\n",
        "stop_words.update(sklearn_stopwords)\n",
        "\n",
        "def text_preprocessing(raw_text):\n",
        "  text_words = raw_text.translate(str.maketrans('', '', string.punctuation))\n",
        "  msg_tokens = word_tokenize(text_words.lower())\n",
        "  filtered_text = [token for token in msg_tokens if not token in stop_words]\n",
        "  return \" \".join(filtered_text)"
      ]
    },
    {
      "cell_type": "code",
      "execution_count": null,
      "metadata": {
        "colab": {
          "base_uri": "https://localhost:8080/",
          "height": 423
        },
        "id": "bnTrzKDQALIB",
        "outputId": "c5ba93cd-42d9-4255-a762-ff0e0e0089e9"
      },
      "outputs": [
        {
          "output_type": "execute_result",
          "data": {
            "text/plain": [
              "                                                  text  label\n",
              "0    quite queasy dizzy temperature brain completel...      0\n",
              "1    ive experiencing muscular weakness stiffness n...      0\n",
              "2    week rash face gotten severe painful sores beg...      1\n",
              "3    frequent need urinate uncontrollable urges fee...      0\n",
              "4    feeling quite weak im lot stomach discomfort c...      0\n",
              "..                                                 ...    ...\n",
              "917  skin starts flake rashes im prone sick result ...      0\n",
              "918  skin horrible rash absolutely nonheritable bla...      1\n",
              "919  occasionally burning upper abdomen day night h...      0\n",
              "920  lose weight unintentionally challenging acquir...      0\n",
              "921  mouth filled sour acidic flavour burping belch...      0\n",
              "\n",
              "[919 rows x 2 columns]"
            ],
            "text/html": [
              "\n",
              "  <div id=\"df-174ffc51-a61e-400c-80a7-8a5d72dcffab\">\n",
              "    <div class=\"colab-df-container\">\n",
              "      <div>\n",
              "<style scoped>\n",
              "    .dataframe tbody tr th:only-of-type {\n",
              "        vertical-align: middle;\n",
              "    }\n",
              "\n",
              "    .dataframe tbody tr th {\n",
              "        vertical-align: top;\n",
              "    }\n",
              "\n",
              "    .dataframe thead th {\n",
              "        text-align: right;\n",
              "    }\n",
              "</style>\n",
              "<table border=\"1\" class=\"dataframe\">\n",
              "  <thead>\n",
              "    <tr style=\"text-align: right;\">\n",
              "      <th></th>\n",
              "      <th>text</th>\n",
              "      <th>label</th>\n",
              "    </tr>\n",
              "  </thead>\n",
              "  <tbody>\n",
              "    <tr>\n",
              "      <th>0</th>\n",
              "      <td>quite queasy dizzy temperature brain completel...</td>\n",
              "      <td>0</td>\n",
              "    </tr>\n",
              "    <tr>\n",
              "      <th>1</th>\n",
              "      <td>ive experiencing muscular weakness stiffness n...</td>\n",
              "      <td>0</td>\n",
              "    </tr>\n",
              "    <tr>\n",
              "      <th>2</th>\n",
              "      <td>week rash face gotten severe painful sores beg...</td>\n",
              "      <td>1</td>\n",
              "    </tr>\n",
              "    <tr>\n",
              "      <th>3</th>\n",
              "      <td>frequent need urinate uncontrollable urges fee...</td>\n",
              "      <td>0</td>\n",
              "    </tr>\n",
              "    <tr>\n",
              "      <th>4</th>\n",
              "      <td>feeling quite weak im lot stomach discomfort c...</td>\n",
              "      <td>0</td>\n",
              "    </tr>\n",
              "    <tr>\n",
              "      <th>...</th>\n",
              "      <td>...</td>\n",
              "      <td>...</td>\n",
              "    </tr>\n",
              "    <tr>\n",
              "      <th>917</th>\n",
              "      <td>skin starts flake rashes im prone sick result ...</td>\n",
              "      <td>0</td>\n",
              "    </tr>\n",
              "    <tr>\n",
              "      <th>918</th>\n",
              "      <td>skin horrible rash absolutely nonheritable bla...</td>\n",
              "      <td>1</td>\n",
              "    </tr>\n",
              "    <tr>\n",
              "      <th>919</th>\n",
              "      <td>occasionally burning upper abdomen day night h...</td>\n",
              "      <td>0</td>\n",
              "    </tr>\n",
              "    <tr>\n",
              "      <th>920</th>\n",
              "      <td>lose weight unintentionally challenging acquir...</td>\n",
              "      <td>0</td>\n",
              "    </tr>\n",
              "    <tr>\n",
              "      <th>921</th>\n",
              "      <td>mouth filled sour acidic flavour burping belch...</td>\n",
              "      <td>0</td>\n",
              "    </tr>\n",
              "  </tbody>\n",
              "</table>\n",
              "<p>919 rows × 2 columns</p>\n",
              "</div>\n",
              "      <button class=\"colab-df-convert\" onclick=\"convertToInteractive('df-174ffc51-a61e-400c-80a7-8a5d72dcffab')\"\n",
              "              title=\"Convert this dataframe to an interactive table.\"\n",
              "              style=\"display:none;\">\n",
              "        \n",
              "  <svg xmlns=\"http://www.w3.org/2000/svg\" height=\"24px\"viewBox=\"0 0 24 24\"\n",
              "       width=\"24px\">\n",
              "    <path d=\"M0 0h24v24H0V0z\" fill=\"none\"/>\n",
              "    <path d=\"M18.56 5.44l.94 2.06.94-2.06 2.06-.94-2.06-.94-.94-2.06-.94 2.06-2.06.94zm-11 1L8.5 8.5l.94-2.06 2.06-.94-2.06-.94L8.5 2.5l-.94 2.06-2.06.94zm10 10l.94 2.06.94-2.06 2.06-.94-2.06-.94-.94-2.06-.94 2.06-2.06.94z\"/><path d=\"M17.41 7.96l-1.37-1.37c-.4-.4-.92-.59-1.43-.59-.52 0-1.04.2-1.43.59L10.3 9.45l-7.72 7.72c-.78.78-.78 2.05 0 2.83L4 21.41c.39.39.9.59 1.41.59.51 0 1.02-.2 1.41-.59l7.78-7.78 2.81-2.81c.8-.78.8-2.07 0-2.86zM5.41 20L4 18.59l7.72-7.72 1.47 1.35L5.41 20z\"/>\n",
              "  </svg>\n",
              "      </button>\n",
              "      \n",
              "  <style>\n",
              "    .colab-df-container {\n",
              "      display:flex;\n",
              "      flex-wrap:wrap;\n",
              "      gap: 12px;\n",
              "    }\n",
              "\n",
              "    .colab-df-convert {\n",
              "      background-color: #E8F0FE;\n",
              "      border: none;\n",
              "      border-radius: 50%;\n",
              "      cursor: pointer;\n",
              "      display: none;\n",
              "      fill: #1967D2;\n",
              "      height: 32px;\n",
              "      padding: 0 0 0 0;\n",
              "      width: 32px;\n",
              "    }\n",
              "\n",
              "    .colab-df-convert:hover {\n",
              "      background-color: #E2EBFA;\n",
              "      box-shadow: 0px 1px 2px rgba(60, 64, 67, 0.3), 0px 1px 3px 1px rgba(60, 64, 67, 0.15);\n",
              "      fill: #174EA6;\n",
              "    }\n",
              "\n",
              "    [theme=dark] .colab-df-convert {\n",
              "      background-color: #3B4455;\n",
              "      fill: #D2E3FC;\n",
              "    }\n",
              "\n",
              "    [theme=dark] .colab-df-convert:hover {\n",
              "      background-color: #434B5C;\n",
              "      box-shadow: 0px 1px 3px 1px rgba(0, 0, 0, 0.15);\n",
              "      filter: drop-shadow(0px 1px 2px rgba(0, 0, 0, 0.3));\n",
              "      fill: #FFFFFF;\n",
              "    }\n",
              "  </style>\n",
              "\n",
              "      <script>\n",
              "        const buttonEl =\n",
              "          document.querySelector('#df-174ffc51-a61e-400c-80a7-8a5d72dcffab button.colab-df-convert');\n",
              "        buttonEl.style.display =\n",
              "          google.colab.kernel.accessAllowed ? 'block' : 'none';\n",
              "\n",
              "        async function convertToInteractive(key) {\n",
              "          const element = document.querySelector('#df-174ffc51-a61e-400c-80a7-8a5d72dcffab');\n",
              "          const dataTable =\n",
              "            await google.colab.kernel.invokeFunction('convertToInteractive',\n",
              "                                                     [key], {});\n",
              "          if (!dataTable) return;\n",
              "\n",
              "          const docLinkHtml = 'Like what you see? Visit the ' +\n",
              "            '<a target=\"_blank\" href=https://colab.research.google.com/notebooks/data_table.ipynb>data table notebook</a>'\n",
              "            + ' to learn more about interactive tables.';\n",
              "          element.innerHTML = '';\n",
              "          dataTable['output_type'] = 'display_data';\n",
              "          await google.colab.output.renderOutput(dataTable, element);\n",
              "          const docLink = document.createElement('div');\n",
              "          docLink.innerHTML = docLinkHtml;\n",
              "          element.appendChild(docLink);\n",
              "        }\n",
              "      </script>\n",
              "    </div>\n",
              "  </div>\n",
              "  "
            ]
          },
          "metadata": {},
          "execution_count": 14
        }
      ],
      "source": [
        "train_data = train_data[['text', 'label']].copy()\n",
        "\n",
        "train_data['text'] = train_data['text'].apply(text_preprocessing)\n",
        "\n",
        "train_data.drop_duplicates(inplace=True)\n",
        "\n",
        "train_data"
      ]
    },
    {
      "cell_type": "code",
      "execution_count": null,
      "metadata": {
        "colab": {
          "base_uri": "https://localhost:8080/",
          "height": 423
        },
        "id": "21_qKNngOiqe",
        "outputId": "cf66f4dd-0c7a-420a-eeb6-5e843716da77"
      },
      "outputs": [
        {
          "output_type": "execute_result",
          "data": {
            "text/plain": [
              "                                                  text  label\n",
              "0    cheeks nose covered red sores ive observed ras...      1\n",
              "1    vision blurry feels like getting worse time fe...      0\n",
              "2    noticed sudden peeling skin different parts bo...      1\n",
              "3    ive suffering severe constipation lately restr...      0\n",
              "4    sores nose surrounded red inflamed skin rash c...      1\n",
              "..                                                 ...    ...\n",
              "226  feeling nauseous constant urge vomit strong pa...      0\n",
              "227  sour acidic taste mouth frequent belching burp...      0\n",
              "228  routinely experience heartburn indigestion par...      0\n",
              "229  veins calves prominent causing discomfort stan...      0\n",
              "230  hello mom father recently ive felt incredibly ...      0\n",
              "\n",
              "[231 rows x 2 columns]"
            ],
            "text/html": [
              "\n",
              "  <div id=\"df-0184098c-3e05-4fb0-9bb3-dd9f4b4a9bf5\">\n",
              "    <div class=\"colab-df-container\">\n",
              "      <div>\n",
              "<style scoped>\n",
              "    .dataframe tbody tr th:only-of-type {\n",
              "        vertical-align: middle;\n",
              "    }\n",
              "\n",
              "    .dataframe tbody tr th {\n",
              "        vertical-align: top;\n",
              "    }\n",
              "\n",
              "    .dataframe thead th {\n",
              "        text-align: right;\n",
              "    }\n",
              "</style>\n",
              "<table border=\"1\" class=\"dataframe\">\n",
              "  <thead>\n",
              "    <tr style=\"text-align: right;\">\n",
              "      <th></th>\n",
              "      <th>text</th>\n",
              "      <th>label</th>\n",
              "    </tr>\n",
              "  </thead>\n",
              "  <tbody>\n",
              "    <tr>\n",
              "      <th>0</th>\n",
              "      <td>cheeks nose covered red sores ive observed ras...</td>\n",
              "      <td>1</td>\n",
              "    </tr>\n",
              "    <tr>\n",
              "      <th>1</th>\n",
              "      <td>vision blurry feels like getting worse time fe...</td>\n",
              "      <td>0</td>\n",
              "    </tr>\n",
              "    <tr>\n",
              "      <th>2</th>\n",
              "      <td>noticed sudden peeling skin different parts bo...</td>\n",
              "      <td>1</td>\n",
              "    </tr>\n",
              "    <tr>\n",
              "      <th>3</th>\n",
              "      <td>ive suffering severe constipation lately restr...</td>\n",
              "      <td>0</td>\n",
              "    </tr>\n",
              "    <tr>\n",
              "      <th>4</th>\n",
              "      <td>sores nose surrounded red inflamed skin rash c...</td>\n",
              "      <td>1</td>\n",
              "    </tr>\n",
              "    <tr>\n",
              "      <th>...</th>\n",
              "      <td>...</td>\n",
              "      <td>...</td>\n",
              "    </tr>\n",
              "    <tr>\n",
              "      <th>226</th>\n",
              "      <td>feeling nauseous constant urge vomit strong pa...</td>\n",
              "      <td>0</td>\n",
              "    </tr>\n",
              "    <tr>\n",
              "      <th>227</th>\n",
              "      <td>sour acidic taste mouth frequent belching burp...</td>\n",
              "      <td>0</td>\n",
              "    </tr>\n",
              "    <tr>\n",
              "      <th>228</th>\n",
              "      <td>routinely experience heartburn indigestion par...</td>\n",
              "      <td>0</td>\n",
              "    </tr>\n",
              "    <tr>\n",
              "      <th>229</th>\n",
              "      <td>veins calves prominent causing discomfort stan...</td>\n",
              "      <td>0</td>\n",
              "    </tr>\n",
              "    <tr>\n",
              "      <th>230</th>\n",
              "      <td>hello mom father recently ive felt incredibly ...</td>\n",
              "      <td>0</td>\n",
              "    </tr>\n",
              "  </tbody>\n",
              "</table>\n",
              "<p>231 rows × 2 columns</p>\n",
              "</div>\n",
              "      <button class=\"colab-df-convert\" onclick=\"convertToInteractive('df-0184098c-3e05-4fb0-9bb3-dd9f4b4a9bf5')\"\n",
              "              title=\"Convert this dataframe to an interactive table.\"\n",
              "              style=\"display:none;\">\n",
              "        \n",
              "  <svg xmlns=\"http://www.w3.org/2000/svg\" height=\"24px\"viewBox=\"0 0 24 24\"\n",
              "       width=\"24px\">\n",
              "    <path d=\"M0 0h24v24H0V0z\" fill=\"none\"/>\n",
              "    <path d=\"M18.56 5.44l.94 2.06.94-2.06 2.06-.94-2.06-.94-.94-2.06-.94 2.06-2.06.94zm-11 1L8.5 8.5l.94-2.06 2.06-.94-2.06-.94L8.5 2.5l-.94 2.06-2.06.94zm10 10l.94 2.06.94-2.06 2.06-.94-2.06-.94-.94-2.06-.94 2.06-2.06.94z\"/><path d=\"M17.41 7.96l-1.37-1.37c-.4-.4-.92-.59-1.43-.59-.52 0-1.04.2-1.43.59L10.3 9.45l-7.72 7.72c-.78.78-.78 2.05 0 2.83L4 21.41c.39.39.9.59 1.41.59.51 0 1.02-.2 1.41-.59l7.78-7.78 2.81-2.81c.8-.78.8-2.07 0-2.86zM5.41 20L4 18.59l7.72-7.72 1.47 1.35L5.41 20z\"/>\n",
              "  </svg>\n",
              "      </button>\n",
              "      \n",
              "  <style>\n",
              "    .colab-df-container {\n",
              "      display:flex;\n",
              "      flex-wrap:wrap;\n",
              "      gap: 12px;\n",
              "    }\n",
              "\n",
              "    .colab-df-convert {\n",
              "      background-color: #E8F0FE;\n",
              "      border: none;\n",
              "      border-radius: 50%;\n",
              "      cursor: pointer;\n",
              "      display: none;\n",
              "      fill: #1967D2;\n",
              "      height: 32px;\n",
              "      padding: 0 0 0 0;\n",
              "      width: 32px;\n",
              "    }\n",
              "\n",
              "    .colab-df-convert:hover {\n",
              "      background-color: #E2EBFA;\n",
              "      box-shadow: 0px 1px 2px rgba(60, 64, 67, 0.3), 0px 1px 3px 1px rgba(60, 64, 67, 0.15);\n",
              "      fill: #174EA6;\n",
              "    }\n",
              "\n",
              "    [theme=dark] .colab-df-convert {\n",
              "      background-color: #3B4455;\n",
              "      fill: #D2E3FC;\n",
              "    }\n",
              "\n",
              "    [theme=dark] .colab-df-convert:hover {\n",
              "      background-color: #434B5C;\n",
              "      box-shadow: 0px 1px 3px 1px rgba(0, 0, 0, 0.15);\n",
              "      filter: drop-shadow(0px 1px 2px rgba(0, 0, 0, 0.3));\n",
              "      fill: #FFFFFF;\n",
              "    }\n",
              "  </style>\n",
              "\n",
              "      <script>\n",
              "        const buttonEl =\n",
              "          document.querySelector('#df-0184098c-3e05-4fb0-9bb3-dd9f4b4a9bf5 button.colab-df-convert');\n",
              "        buttonEl.style.display =\n",
              "          google.colab.kernel.accessAllowed ? 'block' : 'none';\n",
              "\n",
              "        async function convertToInteractive(key) {\n",
              "          const element = document.querySelector('#df-0184098c-3e05-4fb0-9bb3-dd9f4b4a9bf5');\n",
              "          const dataTable =\n",
              "            await google.colab.kernel.invokeFunction('convertToInteractive',\n",
              "                                                     [key], {});\n",
              "          if (!dataTable) return;\n",
              "\n",
              "          const docLinkHtml = 'Like what you see? Visit the ' +\n",
              "            '<a target=\"_blank\" href=https://colab.research.google.com/notebooks/data_table.ipynb>data table notebook</a>'\n",
              "            + ' to learn more about interactive tables.';\n",
              "          element.innerHTML = '';\n",
              "          dataTable['output_type'] = 'display_data';\n",
              "          await google.colab.output.renderOutput(dataTable, element);\n",
              "          const docLink = document.createElement('div');\n",
              "          docLink.innerHTML = docLinkHtml;\n",
              "          element.appendChild(docLink);\n",
              "        }\n",
              "      </script>\n",
              "    </div>\n",
              "  </div>\n",
              "  "
            ]
          },
          "metadata": {},
          "execution_count": 15
        }
      ],
      "source": [
        "test_data = test_data[['text', 'label']].copy()\n",
        "\n",
        "test_data['text'] = test_data['text'].apply(text_preprocessing)\n",
        "\n",
        "test_data.drop_duplicates(inplace=True)\n",
        "\n",
        "test_data"
      ]
    },
    {
      "cell_type": "markdown",
      "metadata": {
        "id": "m-8gEBwNA7PN"
      },
      "source": [
        "# Feature Extraction"
      ]
    },
    {
      "cell_type": "code",
      "execution_count": null,
      "metadata": {
        "colab": {
          "base_uri": "https://localhost:8080/"
        },
        "id": "qhU5I2TaBIUz",
        "outputId": "c6cca6f6-fb40-4bb3-bb58-f84e3a675c8e"
      },
      "outputs": [
        {
          "output_type": "stream",
          "name": "stdout",
          "text": [
            "[==================================================] 100.0% 1662.8/1662.8MB downloaded\n"
          ]
        }
      ],
      "source": [
        "word2vec_model = api.load(\"word2vec-google-news-300\")"
      ]
    },
    {
      "cell_type": "code",
      "execution_count": null,
      "metadata": {
        "id": "XOa6vzkoAhaN"
      },
      "outputs": [],
      "source": [
        "def get_text_vec(sent):\n",
        "  vector = np.mean(np.array([word2vec_model[token] for token in word_tokenize(sent) if token in word2vec_model.key_to_index]), axis=0)\n",
        "  if np.all(np.isnan(vector)) :\n",
        "    return np.zeros(300)\n",
        "  return vector"
      ]
    },
    {
      "cell_type": "code",
      "execution_count": null,
      "metadata": {
        "id": "JI-_pd5rELGE"
      },
      "outputs": [],
      "source": [
        "ori_X_train = np.stack(np.array([get_text_vec(text) for text in train_data['text'].values]))"
      ]
    },
    {
      "cell_type": "code",
      "execution_count": null,
      "metadata": {
        "colab": {
          "base_uri": "https://localhost:8080/"
        },
        "id": "lLsIoACmEgnv",
        "outputId": "5b1d145f-ea33-4b52-9d58-1deb54f8db66"
      },
      "outputs": [
        {
          "output_type": "execute_result",
          "data": {
            "text/plain": [
              "(919, 300)"
            ]
          },
          "metadata": {},
          "execution_count": 22
        }
      ],
      "source": [
        "ori_X_train.shape"
      ]
    },
    {
      "cell_type": "code",
      "execution_count": null,
      "metadata": {
        "id": "M-b-fuZXEjnH"
      },
      "outputs": [],
      "source": [
        "X_test = np.stack(np.array([get_text_vec(text) for text in test_data['text'].values]))"
      ]
    },
    {
      "cell_type": "code",
      "execution_count": null,
      "metadata": {
        "colab": {
          "base_uri": "https://localhost:8080/"
        },
        "id": "lDfVSWFzEpwH",
        "outputId": "1e7ace2e-89c3-44a5-cd33-7f262d4193a8"
      },
      "outputs": [
        {
          "output_type": "execute_result",
          "data": {
            "text/plain": [
              "(231, 300)"
            ]
          },
          "metadata": {},
          "execution_count": 24
        }
      ],
      "source": [
        "X_test.shape"
      ]
    },
    {
      "cell_type": "code",
      "execution_count": null,
      "metadata": {
        "id": "H6qvnsikO88C"
      },
      "outputs": [],
      "source": [
        "ori_y_train = train_data['label'].values"
      ]
    },
    {
      "cell_type": "code",
      "execution_count": null,
      "metadata": {
        "colab": {
          "base_uri": "https://localhost:8080/"
        },
        "id": "QvLhgrsqO-vC",
        "outputId": "04d29fcd-e5dc-42d9-ee8d-6fbc9b72c16a"
      },
      "outputs": [
        {
          "output_type": "execute_result",
          "data": {
            "text/plain": [
              "(919,)"
            ]
          },
          "metadata": {},
          "execution_count": 26
        }
      ],
      "source": [
        "ori_y_train.shape"
      ]
    },
    {
      "cell_type": "code",
      "execution_count": null,
      "metadata": {
        "id": "NCi6wK0kPACs"
      },
      "outputs": [],
      "source": [
        "y_test = test_data['label'].values"
      ]
    },
    {
      "cell_type": "code",
      "execution_count": null,
      "metadata": {
        "colab": {
          "base_uri": "https://localhost:8080/"
        },
        "id": "0I964n-QPBQE",
        "outputId": "b4346197-336c-4d53-e704-1f3e3dfb958d"
      },
      "outputs": [
        {
          "output_type": "execute_result",
          "data": {
            "text/plain": [
              "(231,)"
            ]
          },
          "metadata": {},
          "execution_count": 28
        }
      ],
      "source": [
        "y_test.shape"
      ]
    },
    {
      "cell_type": "markdown",
      "metadata": {
        "id": "TEqW7eb9BkwW"
      },
      "source": [
        "# Model selection, training and evaluation"
      ]
    },
    {
      "cell_type": "code",
      "execution_count": null,
      "metadata": {
        "id": "OoEtJG3G4qMB"
      },
      "outputs": [],
      "source": [
        "def f_beta_score(y_true, y_pred):\n",
        "  return fbeta_score(y_true, y_pred, beta=2)\n",
        "\n",
        "f2_score = make_scorer(f_beta_score, greater_is_better=True)"
      ]
    },
    {
      "cell_type": "code",
      "execution_count": null,
      "metadata": {
        "id": "JU8v73f74qAG"
      },
      "outputs": [],
      "source": [
        "from datetime import datetime\n",
        "\n",
        "def save_cross_validation(results, file_name):\n",
        "  results_to_save = pd.DataFrame(columns=['Accuracy', 'Recall', 'Precision', 'F1 Score', 'F2 Score'])\n",
        "  for i in range(0, 10):\n",
        "    results_to_save.loc[i] = [\n",
        "      results['split{}_test_Accuracy'.format(i)][0],\n",
        "      results['split{}_test_Recall'.format(i)][0],\n",
        "      results['split{}_test_Precision'.format(i)][0],\n",
        "      results['split{}_test_F1'.format(i)][0],\n",
        "      results['split{}_test_F2'.format(i)][0]\n",
        "    ]\n",
        "  results_to_save.to_csv('{}Results/{}_{}.csv'.format(dir_name+'experiments/Skin Diseases/', file_name, datetime.now().strftime(\"%m%d%H%M\")))"
      ]
    },
    {
      "cell_type": "code",
      "execution_count": null,
      "metadata": {
        "id": "CP817Ht44p0i"
      },
      "outputs": [],
      "source": [
        "def train_model(classifier, param_grid, model_name, train_texts, train_labels, test_texts, test_labels, evaluation_metrics, to_print=True, to_save=False, file_name=None):\n",
        "    \"\"\"\n",
        "    train email classification model.\n",
        "    \"\"\"\n",
        "\n",
        "    # apply grid search to find best model hyper parameters\n",
        "    grid_search = GridSearchCV(classifier, param_grid, cv=10, scoring={'Accuracy': make_scorer(accuracy_score),\n",
        "                                                                       'F1': make_scorer(f1_score),\n",
        "                                                                       'F2': f2_score,\n",
        "                                                                       'Recall': make_scorer(recall_score),\n",
        "                                                                       'Precision': make_scorer(precision_score)\n",
        "                                                                       }, refit='F1', n_jobs=-1)\n",
        "    grid_search.fit(train_texts, train_labels)\n",
        "    model = grid_search.best_estimator_\n",
        "\n",
        "    if to_save:\n",
        "      ConfusionMatrixDisplay(save_cross_validation(grid_search.cv_results_, file_name))\n",
        "      plt.show()\n",
        "\n",
        "    # train and test accuracy.\n",
        "    test_accuracy = model.score(test_texts, test_labels)\n",
        "    train_accuracy = model.score(train_texts, train_labels)\n",
        "\n",
        "    # compute F1 score for model evaluation.\n",
        "    y_pred = model.predict(test_texts)\n",
        "\n",
        "    recall = recall_score(test_labels, y_pred)\n",
        "    precision = precision_score(test_labels, y_pred)\n",
        "    f1score = f1_score(test_labels, y_pred)\n",
        "    f2score = fbeta_score(y_test, y_pred, beta=2)\n",
        "\n",
        "    if to_print:\n",
        "        print(\"train accuracy = \" + str(train_accuracy))\n",
        "        print(\"test accuracy = \" + str(test_accuracy))\n",
        "        print(\"Recall = {}\".format(recall))\n",
        "        print(\"Precision = {}\".format(precision))\n",
        "        print(\"F1 score = {}\".format(f1score))\n",
        "        print(\"F2 score = {}\".format(f2score))\n",
        "        print(classification_report(test_labels, y_pred))\n",
        "\n",
        "\n",
        "        # plot confusion matrix\n",
        "        cm = confusion_matrix(test_labels, y_pred)\n",
        "        disp = ConfusionMatrixDisplay(confusion_matrix=cm, display_labels=[0,1])\n",
        "\n",
        "        disp.plot(cmap=plt.cm.Blues)\n",
        "        plt.show()\n",
        "\n",
        "        # print best model hyper parameters.\n",
        "        print(grid_search.best_params_)\n",
        "\n",
        "    evaluation_metrics.loc[model_name, 'Recall'] = recall\n",
        "    evaluation_metrics.loc[model_name, 'Precision'] = precision\n",
        "    evaluation_metrics.loc[model_name, 'F1 score'] = f1score\n",
        "    evaluation_metrics.loc[model_name, 'F2 score'] = f2score\n",
        "\n",
        "    return f1score, f2score\n",
        "\n",
        "\n",
        "def train(model_id, train_texts, train_labels, test_texts, test_labels, evaluation_metrics, to_print=True, to_save=False, file_name=None):\n",
        "    \n",
        "    if model_id == 1:\n",
        "        # Random forest Classification model.\n",
        "        forest_clf = RandomForestClassifier(random_state=42, n_jobs=-1)\n",
        "        forest_param_grid = [{'n_estimators': [50, 75, 100, 150, 200], 'max_features': [8, 9, 10], 'min_samples_split': [25, 30], 'criterion': ['gini','entropy'], 'max_depth': [4, 5]}]\n",
        "        return train_model(forest_clf, forest_param_grid, 'RandomForest', train_texts, train_labels, test_texts, test_labels, evaluation_metrics, to_print, to_save, file_name)\n",
        "\n",
        "    if model_id == 2:\n",
        "        # Support Vector Machine Model.\n",
        "        svc_clf = SVC(random_state=42)\n",
        "        svc_param_grid = [{'kernel': ['rbf', 'poly'], 'degree': [2, 3 , 4, 5]}]\n",
        "\n",
        "        return train_model(svc_clf, svc_param_grid, 'SVM', train_texts, train_labels, test_texts, test_labels, evaluation_metrics, to_print, to_save, file_name)"
      ]
    },
    {
      "cell_type": "code",
      "execution_count": null,
      "metadata": {
        "id": "PptzLfl5FvCa"
      },
      "outputs": [],
      "source": [
        "evaluation_metrics_orginal = pd.DataFrame(columns = ['Recall', 'Precision', 'F1 score', 'F2 score'])"
      ]
    },
    {
      "cell_type": "markdown",
      "metadata": {
        "id": "y9XIrUB5FhnC"
      },
      "source": [
        "#Random Forest"
      ]
    },
    {
      "cell_type": "code",
      "source": [
        "train(1, ori_X_train, ori_y_train, X_test, y_test, evaluation_metrics_orginal, to_save=True, file_name='OD_RF')"
      ],
      "metadata": {
        "colab": {
          "base_uri": "https://localhost:8080/",
          "height": 763
        },
        "id": "qd6vwn9Eg70h",
        "outputId": "26271a8e-ccad-45c1-dffc-592219d8f8bc"
      },
      "execution_count": null,
      "outputs": [
        {
          "output_type": "stream",
          "name": "stdout",
          "text": [
            "train accuracy = 0.9488574537540805\n",
            "test accuracy = 0.9090909090909091\n",
            "Recall = 0.48717948717948717\n",
            "Precision = 0.95\n",
            "F1 score = 0.6440677966101694\n",
            "F2 score = 0.5397727272727272\n",
            "              precision    recall  f1-score   support\n",
            "\n",
            "           0       0.91      0.99      0.95       192\n",
            "           1       0.95      0.49      0.64        39\n",
            "\n",
            "    accuracy                           0.91       231\n",
            "   macro avg       0.93      0.74      0.80       231\n",
            "weighted avg       0.91      0.91      0.90       231\n",
            "\n"
          ]
        },
        {
          "output_type": "display_data",
          "data": {
            "text/plain": [
              "<Figure size 640x480 with 2 Axes>"
            ],
            "image/png": "[encoded data removed]"
          },
          "metadata": {}
        },
        {
          "output_type": "stream",
          "name": "stdout",
          "text": [
            "{'criterion': 'entropy', 'max_depth': 5, 'max_features': 10, 'min_samples_split': 25, 'n_estimators': 100}\n"
          ]
        },
        {
          "output_type": "execute_result",
          "data": {
            "text/plain": [
              "(0.6440677966101694, 0.5397727272727272)"
            ]
          },
          "metadata": {},
          "execution_count": 38
        }
      ]
    },
    {
      "cell_type": "markdown",
      "metadata": {
        "id": "XmwRxKxMe-Uf"
      },
      "source": [
        "#SVM"
      ]
    },
    {
      "cell_type": "code",
      "execution_count": null,
      "metadata": {
        "colab": {
          "base_uri": "https://localhost:8080/",
          "height": 763
        },
        "id": "UYVKuuR1PjQ5",
        "outputId": "1dc5eb01-e158-46bc-f47f-48558fb28190"
      },
      "outputs": [
        {
          "output_type": "stream",
          "name": "stdout",
          "text": [
            "train accuracy = 0.9793253536452666\n",
            "test accuracy = 0.9523809523809523\n",
            "Recall = 0.7692307692307693\n",
            "Precision = 0.9375\n",
            "F1 score = 0.8450704225352113\n",
            "F2 score = 0.7978723404255319\n",
            "              precision    recall  f1-score   support\n",
            "\n",
            "           0       0.95      0.99      0.97       192\n",
            "           1       0.94      0.77      0.85        39\n",
            "\n",
            "    accuracy                           0.95       231\n",
            "   macro avg       0.95      0.88      0.91       231\n",
            "weighted avg       0.95      0.95      0.95       231\n",
            "\n"
          ]
        },
        {
          "output_type": "display_data",
          "data": {
            "text/plain": [
              "<Figure size 640x480 with 2 Axes>"
            ],
            "image/png": "[encoded data removed]"
          },
          "metadata": {}
        },
        {
          "output_type": "stream",
          "name": "stdout",
          "text": [
            "{'degree': 2, 'kernel': 'poly'}\n"
          ]
        },
        {
          "output_type": "execute_result",
          "data": {
            "text/plain": [
              "(0.8450704225352113, 0.7978723404255319)"
            ]
          },
          "metadata": {},
          "execution_count": 39
        }
      ],
      "source": [
        "train(2, ori_X_train, ori_y_train, X_test, y_test, evaluation_metrics_orginal, to_save=True, file_name='OD_SVM')"
      ]
    },
    {
      "cell_type": "code",
      "execution_count": null,
      "metadata": {
        "id": "84vjlbvK2YJ_"
      },
      "outputs": [],
      "source": [
        "evaluation_metrics_orginal"
      ]
    },
    {
      "cell_type": "markdown",
      "metadata": {
        "id": "NBKdcusiewBl"
      },
      "source": [
        "#BiLSTM"
      ]
    },
    {
      "cell_type": "code",
      "execution_count": null,
      "metadata": {
        "id": "rx-x05DdewcE"
      },
      "outputs": [],
      "source": [
        "import random\n",
        "import tensorflow as tf \n",
        "from tensorflow import keras \n",
        "from tensorflow.keras import layers\n",
        "from sklearn.metrics import ConfusionMatrixDisplay\n",
        "from tensorflow.keras.layers import Dropout\n",
        "from tensorflow.keras.regularizers import L1L2\n",
        "from sklearn.model_selection import StratifiedKFold"
      ]
    },
    {
      "cell_type": "code",
      "source": [
        "text_words_lengths = [len(raw_data.loc[i]['text'].split()) for i in raw_data.index ]\n",
        "total_length = np.sum(text_words_lengths)\n",
        "text_words_mean = int(np.mean(text_words_lengths))"
      ],
      "metadata": {
        "id": "TPqGbu_1DECE"
      },
      "execution_count": null,
      "outputs": []
    },
    {
      "cell_type": "code",
      "source": [
        "total_length"
      ],
      "metadata": {
        "colab": {
          "base_uri": "https://localhost:8080/"
        },
        "id": "hDQGcxk0DI6E",
        "outputId": "09dd6857-df6b-40c9-90e0-05147d172ba7"
      },
      "execution_count": null,
      "outputs": [
        {
          "output_type": "execute_result",
          "data": {
            "text/plain": [
              "35313"
            ]
          },
          "metadata": {},
          "execution_count": 18
        }
      ]
    },
    {
      "cell_type": "code",
      "source": [
        "text_words_mean"
      ],
      "metadata": {
        "colab": {
          "base_uri": "https://localhost:8080/"
        },
        "id": "vnxP05oDDKB2",
        "outputId": "87e5f6da-9285-426e-c372-11c6a5662cc6"
      },
      "execution_count": null,
      "outputs": [
        {
          "output_type": "execute_result",
          "data": {
            "text/plain": [
              "30"
            ]
          },
          "metadata": {},
          "execution_count": 19
        }
      ]
    },
    {
      "cell_type": "code",
      "source": [
        "def create_blstm_model(sent_length, words_mean, train_texts):\n",
        "\n",
        "  text_vec = layers.TextVectorization( \n",
        "    max_tokens=sent_length,\n",
        "    standardize='lower_and_strip_punctuation',\n",
        "    output_mode='int',\n",
        "    output_sequence_length=words_mean\n",
        "  )\n",
        "\n",
        "  text_vec.adapt(train_texts)\n",
        "\n",
        "  embedding_layer = layers.Embedding(\n",
        "    input_dim=sent_length,\n",
        "    output_dim=128,\n",
        "    embeddings_initializer='uniform',\n",
        "    input_length=words_mean\n",
        "  )\n",
        "\n",
        "  input_layer = layers.Input(shape=(1,), dtype=tf.string) \n",
        "\n",
        "  vec_layer = text_vec(input_layer)\n",
        "  embedding_layer_model = embedding_layer(vec_layer) \n",
        "\n",
        "  bi_lstm = layers.Bidirectional(layers.LSTM(64, activation='tanh', return_sequences=True, kernel_regularizer = L1L2(l1=0.01, l2=0.0)))(embedding_layer_model) \n",
        "\n",
        "  flatten = layers.Flatten()(bi_lstm) \n",
        "  dropout = layers.Dropout(.1)(flatten) \n",
        "\n",
        "  x = layers.Dense(32, activation='relu')(dropout) \n",
        "\n",
        "  output_layer = layers.Dense(1, activation='sigmoid')(x) \n",
        "\n",
        "  blstm_model = keras.Model(input_layer, output_layer) \n",
        "\n",
        "  blstm_model.compile(optimizer=keras.optimizers.Adam(),\n",
        "                loss=keras.losses.BinaryCrossentropy(),\n",
        "                metrics=['accuracy'])  \n",
        "  \n",
        "  return blstm_model"
      ],
      "metadata": {
        "id": "w-jXBzXMC1W0"
      },
      "execution_count": null,
      "outputs": []
    },
    {
      "cell_type": "markdown",
      "source": [
        "# Cross Validation"
      ],
      "metadata": {
        "id": "WA5p7AjQ1SUs"
      }
    },
    {
      "cell_type": "code",
      "source": [
        "def cv_blstm(sent_length, words_mean):\n",
        "\n",
        "  kf = StratifiedKFold(10, shuffle=True, random_state=42) \n",
        "  cv_metrics = pd.DataFrame(columns = ['Recall', 'Precision', 'F1 score', 'F2 score'])\n",
        "\n",
        "  fold = 0\n",
        "\n",
        "  X = train_data['text'].values\n",
        "  Y = train_data['label'].values\n",
        "\n",
        "  for train, val in kf.split(X, Y):  \n",
        "  \n",
        "    print(f\"Fold {fold}\")\n",
        "\n",
        "    train_texts = X[train]\n",
        "    train_labels = Y[train]\n",
        "    test_texts = X[val]\n",
        "    test_labels = Y[val]\n",
        "\n",
        "    blstm_model = create_blstm_model(sent_length, words_mean, train_texts)\n",
        "\n",
        "    history = blstm_model.fit(train_texts,\n",
        "                              train_labels,\n",
        "                              epochs=10,\n",
        "                              batch_size=16,\n",
        "                              validation_data=(test_texts, test_labels))\n",
        "\n",
        "    blstm_model.evaluate(test_texts, test_labels)\n",
        "    y_pred = np.round(blstm_model.predict(test_texts))\n",
        "\n",
        "    f1_sc = f1_score(test_labels, y_pred)\n",
        "    f2score = fbeta_score(test_labels, y_pred, beta=2, average='binary')\n",
        "\n",
        "    cv_metrics.loc[fold, 'Recall'] = recall_score(test_labels, y_pred)\n",
        "    cv_metrics.loc[fold, 'Precision'] = precision_score(test_labels, y_pred)\n",
        "    cv_metrics.loc[fold, 'F1 score'] = f1_sc\n",
        "    cv_metrics.loc[fold, 'F2 score'] = f2score\n",
        "    \n",
        "    fold += 1\n",
        "\n",
        "  return cv_metrics"
      ],
      "metadata": {
        "id": "kokcAEzXJx3v"
      },
      "execution_count": null,
      "outputs": []
    },
    {
      "cell_type": "code",
      "source": [
        "cv_results = cv_blstm(total_length, text_words_mean)"
      ],
      "metadata": {
        "colab": {
          "base_uri": "https://localhost:8080/"
        },
        "id": "1-12B6SvkO-e",
        "outputId": "855580f9-3158-4661-9729-2b035ccba86c"
      },
      "execution_count": null,
      "outputs": [
        {
          "output_type": "stream",
          "name": "stdout",
          "text": [
            "Fold 0\n",
            "Epoch 1/10\n",
            "52/52 [==============================] - 9s 99ms/step - loss: 27.2007 - accuracy: 0.8464 - val_loss: 14.5124 - val_accuracy: 0.9348\n",
            "Epoch 2/10\n",
            "52/52 [==============================] - 2s 39ms/step - loss: 7.0802 - accuracy: 0.9698 - val_loss: 2.0173 - val_accuracy: 0.9239\n",
            "Epoch 3/10\n",
            "52/52 [==============================] - 1s 24ms/step - loss: 0.5704 - accuracy: 0.9879 - val_loss: 0.2739 - val_accuracy: 0.9783\n",
            "Epoch 4/10\n",
            "52/52 [==============================] - 1s 25ms/step - loss: 0.1713 - accuracy: 0.9976 - val_loss: 0.2608 - val_accuracy: 0.9674\n",
            "Epoch 5/10\n",
            "52/52 [==============================] - 1s 20ms/step - loss: 0.1388 - accuracy: 0.9988 - val_loss: 0.1879 - val_accuracy: 0.9783\n",
            "Epoch 6/10\n",
            "52/52 [==============================] - 1s 14ms/step - loss: 0.2880 - accuracy: 0.9964 - val_loss: 0.5096 - val_accuracy: 0.9783\n",
            "Epoch 7/10\n",
            "52/52 [==============================] - 1s 17ms/step - loss: 0.2818 - accuracy: 0.9988 - val_loss: 0.2166 - val_accuracy: 0.9674\n",
            "Epoch 8/10\n",
            "52/52 [==============================] - 1s 11ms/step - loss: 0.1227 - accuracy: 1.0000 - val_loss: 0.2017 - val_accuracy: 0.9457\n",
            "Epoch 9/10\n",
            "52/52 [==============================] - 1s 11ms/step - loss: 0.1769 - accuracy: 0.9940 - val_loss: 0.2638 - val_accuracy: 0.9783\n",
            "Epoch 10/10\n",
            "52/52 [==============================] - 1s 14ms/step - loss: 0.1403 - accuracy: 1.0000 - val_loss: 0.1553 - val_accuracy: 0.9674\n",
            "3/3 [==============================] - 0s 5ms/step - loss: 0.1553 - accuracy: 0.9674\n",
            "3/3 [==============================] - 1s 5ms/step\n",
            "Fold 1\n",
            "Epoch 1/10\n",
            "52/52 [==============================] - 9s 100ms/step - loss: 27.2192 - accuracy: 0.8235 - val_loss: 14.5262 - val_accuracy: 0.8370\n",
            "Epoch 2/10\n",
            "52/52 [==============================] - 2s 48ms/step - loss: 7.0102 - accuracy: 0.9625 - val_loss: 1.7131 - val_accuracy: 0.9348\n",
            "Epoch 3/10\n",
            "52/52 [==============================] - 1s 20ms/step - loss: 0.5082 - accuracy: 0.9927 - val_loss: 0.3789 - val_accuracy: 0.9565\n",
            "Epoch 4/10\n",
            "52/52 [==============================] - 1s 11ms/step - loss: 0.2081 - accuracy: 0.9903 - val_loss: 0.1691 - val_accuracy: 0.9891\n",
            "Epoch 5/10\n",
            "52/52 [==============================] - 1s 17ms/step - loss: 0.2150 - accuracy: 0.9952 - val_loss: 0.1789 - val_accuracy: 0.9891\n",
            "Epoch 6/10\n",
            "52/52 [==============================] - 1s 21ms/step - loss: 0.1040 - accuracy: 0.9976 - val_loss: 0.1846 - val_accuracy: 0.9891\n",
            "Epoch 7/10\n",
            "52/52 [==============================] - 1s 18ms/step - loss: 0.3145 - accuracy: 0.9964 - val_loss: 0.2413 - val_accuracy: 0.9891\n",
            "Epoch 8/10\n",
            "52/52 [==============================] - 1s 15ms/step - loss: 0.1184 - accuracy: 1.0000 - val_loss: 0.1780 - val_accuracy: 0.9783\n",
            "Epoch 9/10\n",
            "52/52 [==============================] - 1s 12ms/step - loss: 0.0897 - accuracy: 1.0000 - val_loss: 0.1565 - val_accuracy: 0.9891\n",
            "Epoch 10/10\n",
            "52/52 [==============================] - 0s 9ms/step - loss: 0.2443 - accuracy: 0.9940 - val_loss: 0.3233 - val_accuracy: 0.9457\n",
            "3/3 [==============================] - 0s 6ms/step - loss: 0.3233 - accuracy: 0.9457\n",
            "3/3 [==============================] - 1s 6ms/step\n",
            "Fold 2\n",
            "Epoch 1/10\n",
            "52/52 [==============================] - 9s 107ms/step - loss: 27.1647 - accuracy: 0.8259 - val_loss: 14.3824 - val_accuracy: 0.9565\n",
            "Epoch 2/10\n",
            "52/52 [==============================] - 2s 34ms/step - loss: 6.9903 - accuracy: 0.9613 - val_loss: 1.6193 - val_accuracy: 1.0000\n",
            "Epoch 3/10\n",
            "52/52 [==============================] - 1s 22ms/step - loss: 0.5166 - accuracy: 0.9952 - val_loss: 0.2175 - val_accuracy: 0.9891\n",
            "Epoch 4/10\n",
            "52/52 [==============================] - 1s 14ms/step - loss: 0.1741 - accuracy: 0.9964 - val_loss: 0.2248 - val_accuracy: 0.9891\n",
            "Epoch 5/10\n",
            "52/52 [==============================] - 1s 14ms/step - loss: 0.1309 - accuracy: 1.0000 - val_loss: 0.1006 - val_accuracy: 1.0000\n",
            "Epoch 6/10\n",
            "52/52 [==============================] - 1s 19ms/step - loss: 0.1430 - accuracy: 0.9988 - val_loss: 0.1297 - val_accuracy: 0.9891\n",
            "Epoch 7/10\n",
            "52/52 [==============================] - 1s 14ms/step - loss: 0.2580 - accuracy: 0.9879 - val_loss: 0.2542 - val_accuracy: 0.9891\n",
            "Epoch 8/10\n",
            "52/52 [==============================] - 1s 14ms/step - loss: 0.1544 - accuracy: 1.0000 - val_loss: 0.1135 - val_accuracy: 1.0000\n",
            "Epoch 9/10\n",
            "52/52 [==============================] - 0s 8ms/step - loss: 0.0972 - accuracy: 1.0000 - val_loss: 0.1123 - val_accuracy: 0.9783\n",
            "Epoch 10/10\n",
            "52/52 [==============================] - 1s 17ms/step - loss: 0.0902 - accuracy: 1.0000 - val_loss: 0.1357 - val_accuracy: 0.9783\n",
            "3/3 [==============================] - 0s 6ms/step - loss: 0.1357 - accuracy: 0.9783\n"
          ]
        },
        {
          "output_type": "stream",
          "name": "stderr",
          "text": [
            "WARNING:tensorflow:5 out of the last 16 calls to <function Model.make_predict_function.<locals>.predict_function at 0x7f8b71c72f80> triggered tf.function retracing. Tracing is expensive and the excessive number of tracings could be due to (1) creating @tf.function repeatedly in a loop, (2) passing tensors with different shapes, (3) passing Python objects instead of tensors. For (1), please define your @tf.function outside of the loop. For (2), @tf.function has reduce_retracing=True option that can avoid unnecessary retracing. For (3), please refer to https://www.tensorflow.org/guide/function#controlling_retracing and https://www.tensorflow.org/api_docs/python/tf/function for  more details.\n"
          ]
        },
        {
          "output_type": "stream",
          "name": "stdout",
          "text": [
            "3/3 [==============================] - 1s 5ms/step\n",
            "Fold 3\n",
            "Epoch 1/10\n",
            "52/52 [==============================] - 10s 115ms/step - loss: 27.1700 - accuracy: 0.8295 - val_loss: 14.4203 - val_accuracy: 0.9348\n",
            "Epoch 2/10\n",
            "52/52 [==============================] - 2s 31ms/step - loss: 6.9692 - accuracy: 0.9686 - val_loss: 1.6123 - val_accuracy: 1.0000\n",
            "Epoch 3/10\n",
            "52/52 [==============================] - 1s 17ms/step - loss: 0.5346 - accuracy: 0.9891 - val_loss: 0.2695 - val_accuracy: 0.9891\n",
            "Epoch 4/10\n",
            "52/52 [==============================] - 1s 25ms/step - loss: 0.1605 - accuracy: 0.9976 - val_loss: 0.3603 - val_accuracy: 0.9457\n",
            "Epoch 5/10\n",
            "52/52 [==============================] - 1s 14ms/step - loss: 0.2219 - accuracy: 0.9903 - val_loss: 0.1766 - val_accuracy: 0.9891\n",
            "Epoch 6/10\n",
            "52/52 [==============================] - 1s 19ms/step - loss: 0.1153 - accuracy: 1.0000 - val_loss: 0.1050 - val_accuracy: 0.9891\n",
            "Epoch 7/10\n",
            "52/52 [==============================] - 1s 11ms/step - loss: 0.1344 - accuracy: 0.9952 - val_loss: 0.5834 - val_accuracy: 0.9891\n",
            "Epoch 8/10\n",
            "52/52 [==============================] - 1s 11ms/step - loss: 0.4151 - accuracy: 0.9903 - val_loss: 0.2962 - val_accuracy: 0.9457\n",
            "Epoch 9/10\n",
            "52/52 [==============================] - 1s 11ms/step - loss: 0.1669 - accuracy: 1.0000 - val_loss: 0.1642 - val_accuracy: 0.9783\n",
            "Epoch 10/10\n",
            "52/52 [==============================] - 1s 11ms/step - loss: 0.1094 - accuracy: 1.0000 - val_loss: 0.1297 - val_accuracy: 0.9891\n",
            "3/3 [==============================] - 0s 5ms/step - loss: 0.1297 - accuracy: 0.9891\n"
          ]
        },
        {
          "output_type": "stream",
          "name": "stderr",
          "text": [
            "WARNING:tensorflow:5 out of the last 13 calls to <function Model.make_predict_function.<locals>.predict_function at 0x7f8b729ed630> triggered tf.function retracing. Tracing is expensive and the excessive number of tracings could be due to (1) creating @tf.function repeatedly in a loop, (2) passing tensors with different shapes, (3) passing Python objects instead of tensors. For (1), please define your @tf.function outside of the loop. For (2), @tf.function has reduce_retracing=True option that can avoid unnecessary retracing. For (3), please refer to https://www.tensorflow.org/guide/function#controlling_retracing and https://www.tensorflow.org/api_docs/python/tf/function for  more details.\n"
          ]
        },
        {
          "output_type": "stream",
          "name": "stdout",
          "text": [
            "3/3 [==============================] - 1s 5ms/step\n",
            "Fold 4\n",
            "Epoch 1/10\n",
            "52/52 [==============================] - 10s 103ms/step - loss: 27.2023 - accuracy: 0.8247 - val_loss: 14.4689 - val_accuracy: 0.8696\n",
            "Epoch 2/10\n",
            "52/52 [==============================] - 1s 28ms/step - loss: 7.0035 - accuracy: 0.9686 - val_loss: 1.6617 - val_accuracy: 0.9565\n",
            "Epoch 3/10\n",
            "52/52 [==============================] - 1s 24ms/step - loss: 0.5784 - accuracy: 0.9879 - val_loss: 0.4864 - val_accuracy: 0.9348\n",
            "Epoch 4/10\n",
            "52/52 [==============================] - 1s 25ms/step - loss: 0.1939 - accuracy: 0.9952 - val_loss: 0.1472 - val_accuracy: 0.9891\n",
            "Epoch 5/10\n",
            "52/52 [==============================] - 1s 15ms/step - loss: 0.1861 - accuracy: 0.9952 - val_loss: 0.2570 - val_accuracy: 0.9783\n",
            "Epoch 6/10\n",
            "52/52 [==============================] - 0s 8ms/step - loss: 0.1368 - accuracy: 0.9988 - val_loss: 0.1450 - val_accuracy: 1.0000\n",
            "Epoch 7/10\n",
            "52/52 [==============================] - 1s 14ms/step - loss: 0.2391 - accuracy: 0.9903 - val_loss: 1.0460 - val_accuracy: 0.9565\n",
            "Epoch 8/10\n",
            "52/52 [==============================] - 1s 18ms/step - loss: 0.5166 - accuracy: 0.9976 - val_loss: 0.3640 - val_accuracy: 0.9783\n",
            "Epoch 9/10\n",
            "52/52 [==============================] - 1s 14ms/step - loss: 0.2438 - accuracy: 1.0000 - val_loss: 0.2589 - val_accuracy: 0.9674\n",
            "Epoch 10/10\n",
            "52/52 [==============================] - 1s 14ms/step - loss: 0.1435 - accuracy: 1.0000 - val_loss: 0.1727 - val_accuracy: 0.9783\n",
            "3/3 [==============================] - 0s 6ms/step - loss: 0.1727 - accuracy: 0.9783\n",
            "3/3 [==============================] - 1s 5ms/step\n",
            "Fold 5\n",
            "Epoch 1/10\n",
            "52/52 [==============================] - 10s 116ms/step - loss: 27.1752 - accuracy: 0.8247 - val_loss: 14.4268 - val_accuracy: 0.9457\n",
            "Epoch 2/10\n",
            "52/52 [==============================] - 2s 34ms/step - loss: 7.0165 - accuracy: 0.9734 - val_loss: 1.6306 - val_accuracy: 1.0000\n",
            "Epoch 3/10\n",
            "52/52 [==============================] - 1s 28ms/step - loss: 0.5384 - accuracy: 0.9927 - val_loss: 0.1907 - val_accuracy: 1.0000\n",
            "Epoch 4/10\n",
            "52/52 [==============================] - 1s 14ms/step - loss: 0.2694 - accuracy: 0.9903 - val_loss: 0.4527 - val_accuracy: 0.9891\n",
            "Epoch 5/10\n",
            "52/52 [==============================] - 1s 14ms/step - loss: 0.2559 - accuracy: 0.9988 - val_loss: 0.1454 - val_accuracy: 1.0000\n",
            "Epoch 6/10\n",
            "52/52 [==============================] - 1s 14ms/step - loss: 0.1313 - accuracy: 0.9976 - val_loss: 0.1569 - val_accuracy: 1.0000\n",
            "Epoch 7/10\n",
            "52/52 [==============================] - 1s 14ms/step - loss: 0.1166 - accuracy: 1.0000 - val_loss: 0.1155 - val_accuracy: 0.9891\n",
            "Epoch 8/10\n",
            "52/52 [==============================] - 1s 14ms/step - loss: 0.1216 - accuracy: 0.9988 - val_loss: 0.1010 - val_accuracy: 1.0000\n",
            "Epoch 9/10\n",
            "52/52 [==============================] - 1s 12ms/step - loss: 0.3324 - accuracy: 0.9879 - val_loss: 0.3814 - val_accuracy: 1.0000\n",
            "Epoch 10/10\n",
            "52/52 [==============================] - 0s 9ms/step - loss: 0.2459 - accuracy: 0.9988 - val_loss: 0.1623 - val_accuracy: 1.0000\n",
            "3/3 [==============================] - 0s 6ms/step - loss: 0.1623 - accuracy: 1.0000\n",
            "3/3 [==============================] - 1s 6ms/step\n",
            "Fold 6\n",
            "Epoch 1/10\n",
            "52/52 [==============================] - 10s 105ms/step - loss: 27.2045 - accuracy: 0.8416 - val_loss: 14.6587 - val_accuracy: 0.9130\n",
            "Epoch 2/10\n",
            "52/52 [==============================] - 1s 24ms/step - loss: 6.9925 - accuracy: 0.9661 - val_loss: 1.6620 - val_accuracy: 0.9674\n",
            "Epoch 3/10\n",
            "52/52 [==============================] - 1s 21ms/step - loss: 0.5183 - accuracy: 0.9915 - val_loss: 0.4335 - val_accuracy: 0.9783\n",
            "Epoch 4/10\n",
            "52/52 [==============================] - 1s 22ms/step - loss: 0.2449 - accuracy: 0.9879 - val_loss: 0.5361 - val_accuracy: 0.9022\n",
            "Epoch 5/10\n",
            "52/52 [==============================] - 1s 19ms/step - loss: 0.1939 - accuracy: 0.9915 - val_loss: 0.2623 - val_accuracy: 0.9783\n",
            "Epoch 6/10\n",
            "52/52 [==============================] - 1s 11ms/step - loss: 0.1262 - accuracy: 0.9964 - val_loss: 0.5679 - val_accuracy: 0.9674\n",
            "Epoch 7/10\n",
            "52/52 [==============================] - 1s 14ms/step - loss: 0.1563 - accuracy: 0.9976 - val_loss: 0.3704 - val_accuracy: 0.9565\n",
            "Epoch 8/10\n",
            "52/52 [==============================] - 1s 14ms/step - loss: 0.1246 - accuracy: 1.0000 - val_loss: 0.3919 - val_accuracy: 0.9674\n",
            "Epoch 9/10\n",
            "52/52 [==============================] - 1s 11ms/step - loss: 0.1453 - accuracy: 0.9976 - val_loss: 0.2315 - val_accuracy: 0.9783\n",
            "Epoch 10/10\n",
            "52/52 [==============================] - 1s 19ms/step - loss: 0.0941 - accuracy: 1.0000 - val_loss: 0.2552 - val_accuracy: 0.9674\n",
            "3/3 [==============================] - 0s 8ms/step - loss: 0.2552 - accuracy: 0.9674\n",
            "3/3 [==============================] - 1s 5ms/step\n",
            "Fold 7\n",
            "Epoch 1/10\n",
            "52/52 [==============================] - 10s 107ms/step - loss: 27.1879 - accuracy: 0.8501 - val_loss: 14.3723 - val_accuracy: 0.9783\n",
            "Epoch 2/10\n",
            "52/52 [==============================] - 2s 40ms/step - loss: 6.9783 - accuracy: 0.9855 - val_loss: 1.7004 - val_accuracy: 0.9674\n",
            "Epoch 3/10\n",
            "52/52 [==============================] - 1s 12ms/step - loss: 0.5724 - accuracy: 0.9940 - val_loss: 0.2949 - val_accuracy: 0.9565\n",
            "Epoch 4/10\n",
            "52/52 [==============================] - 1s 14ms/step - loss: 0.2284 - accuracy: 0.9903 - val_loss: 0.6649 - val_accuracy: 0.9565\n",
            "Epoch 5/10\n",
            "52/52 [==============================] - 1s 14ms/step - loss: 0.3956 - accuracy: 0.9976 - val_loss: 0.2856 - val_accuracy: 0.9565\n",
            "Epoch 6/10\n",
            "52/52 [==============================] - 0s 9ms/step - loss: 0.1404 - accuracy: 1.0000 - val_loss: 0.1898 - val_accuracy: 0.9565\n",
            "Epoch 7/10\n",
            "52/52 [==============================] - 1s 25ms/step - loss: 0.1382 - accuracy: 0.9964 - val_loss: 0.7025 - val_accuracy: 0.9565\n",
            "Epoch 8/10\n",
            "52/52 [==============================] - 1s 16ms/step - loss: 0.2237 - accuracy: 0.9988 - val_loss: 0.1822 - val_accuracy: 0.9674\n",
            "Epoch 9/10\n",
            "52/52 [==============================] - 1s 13ms/step - loss: 0.0997 - accuracy: 1.0000 - val_loss: 0.1863 - val_accuracy: 0.9674\n",
            "Epoch 10/10\n",
            "52/52 [==============================] - 1s 16ms/step - loss: 0.0884 - accuracy: 0.9988 - val_loss: 0.8856 - val_accuracy: 0.9130\n",
            "3/3 [==============================] - 0s 6ms/step - loss: 0.8856 - accuracy: 0.9130\n",
            "3/3 [==============================] - 1s 5ms/step\n",
            "Fold 8\n",
            "Epoch 1/10\n",
            "52/52 [==============================] - 10s 112ms/step - loss: 27.0819 - accuracy: 0.8331 - val_loss: 14.4241 - val_accuracy: 0.9022\n",
            "Epoch 2/10\n",
            "52/52 [==============================] - 2s 32ms/step - loss: 7.0030 - accuracy: 0.9674 - val_loss: 1.6742 - val_accuracy: 0.9565\n",
            "Epoch 3/10\n",
            "52/52 [==============================] - 1s 26ms/step - loss: 0.6261 - accuracy: 0.9843 - val_loss: 0.3303 - val_accuracy: 0.9674\n",
            "Epoch 4/10\n",
            "52/52 [==============================] - 1s 22ms/step - loss: 0.1751 - accuracy: 0.9988 - val_loss: 0.2176 - val_accuracy: 0.9783\n",
            "Epoch 5/10\n",
            "52/52 [==============================] - 1s 17ms/step - loss: 0.4158 - accuracy: 0.9903 - val_loss: 0.2804 - val_accuracy: 0.9891\n",
            "Epoch 6/10\n",
            "52/52 [==============================] - 1s 15ms/step - loss: 0.1591 - accuracy: 1.0000 - val_loss: 0.1447 - val_accuracy: 0.9891\n",
            "Epoch 7/10\n",
            "52/52 [==============================] - 0s 8ms/step - loss: 0.0970 - accuracy: 1.0000 - val_loss: 0.5069 - val_accuracy: 0.8696\n",
            "Epoch 8/10\n",
            "52/52 [==============================] - 1s 11ms/step - loss: 0.3956 - accuracy: 0.9915 - val_loss: 0.2797 - val_accuracy: 0.9891\n",
            "Epoch 9/10\n",
            "52/52 [==============================] - 1s 11ms/step - loss: 0.1747 - accuracy: 1.0000 - val_loss: 0.1835 - val_accuracy: 0.9783\n",
            "Epoch 10/10\n",
            "52/52 [==============================] - 1s 14ms/step - loss: 0.1074 - accuracy: 1.0000 - val_loss: 0.1618 - val_accuracy: 0.9783\n",
            "3/3 [==============================] - 0s 6ms/step - loss: 0.1618 - accuracy: 0.9783\n",
            "3/3 [==============================] - 1s 5ms/step\n",
            "Fold 9\n",
            "Epoch 1/10\n",
            "52/52 [==============================] - 10s 108ms/step - loss: 27.1018 - accuracy: 0.8563 - val_loss: 14.4365 - val_accuracy: 0.9560\n",
            "Epoch 2/10\n",
            "52/52 [==============================] - 2s 37ms/step - loss: 6.9815 - accuracy: 0.9795 - val_loss: 1.6573 - val_accuracy: 0.9670\n",
            "Epoch 3/10\n",
            "52/52 [==============================] - 1s 25ms/step - loss: 0.5268 - accuracy: 0.9915 - val_loss: 0.2918 - val_accuracy: 0.9670\n",
            "Epoch 4/10\n",
            "52/52 [==============================] - 1s 21ms/step - loss: 0.1837 - accuracy: 0.9928 - val_loss: 0.2033 - val_accuracy: 0.9780\n",
            "Epoch 5/10\n",
            "52/52 [==============================] - 1s 19ms/step - loss: 0.1436 - accuracy: 0.9952 - val_loss: 0.1907 - val_accuracy: 0.9890\n",
            "Epoch 6/10\n",
            "52/52 [==============================] - 1s 16ms/step - loss: 0.1133 - accuracy: 1.0000 - val_loss: 0.1728 - val_accuracy: 0.9670\n",
            "Epoch 7/10\n",
            "52/52 [==============================] - 1s 17ms/step - loss: 0.1861 - accuracy: 0.9952 - val_loss: 0.1985 - val_accuracy: 0.9780\n",
            "Epoch 8/10\n",
            "52/52 [==============================] - 0s 8ms/step - loss: 0.1127 - accuracy: 1.0000 - val_loss: 0.1402 - val_accuracy: 0.9780\n",
            "Epoch 9/10\n",
            "52/52 [==============================] - 1s 11ms/step - loss: 0.0891 - accuracy: 1.0000 - val_loss: 0.1310 - val_accuracy: 0.9780\n",
            "Epoch 10/10\n",
            "52/52 [==============================] - 0s 8ms/step - loss: 0.0833 - accuracy: 1.0000 - val_loss: 0.1338 - val_accuracy: 0.9780\n",
            "3/3 [==============================] - 0s 6ms/step - loss: 0.1338 - accuracy: 0.9780\n",
            "3/3 [==============================] - 1s 5ms/step\n"
          ]
        }
      ]
    },
    {
      "cell_type": "code",
      "source": [
        "cv_results"
      ],
      "metadata": {
        "colab": {
          "base_uri": "https://localhost:8080/",
          "height": 363
        },
        "id": "tFPmVSBJmaLw",
        "outputId": "9e4496f5-e39f-4da9-9b11-96a5cb8c7274"
      },
      "execution_count": null,
      "outputs": [
        {
          "output_type": "execute_result",
          "data": {
            "text/plain": [
              "     Recall Precision  F1 score  F2 score\n",
              "0  0.866667  0.928571  0.896552  0.878378\n",
              "1  0.933333  0.777778  0.848485  0.897436\n",
              "2       1.0  0.882353    0.9375  0.974026\n",
              "3       1.0    0.9375  0.967742  0.986842\n",
              "4  0.866667       1.0  0.928571  0.890411\n",
              "5       1.0       1.0       1.0       1.0\n",
              "6    0.8125       1.0  0.896552  0.844156\n",
              "7       1.0  0.666667       0.8  0.909091\n",
              "8     0.875       1.0  0.933333  0.897436\n",
              "9       1.0  0.882353    0.9375  0.974026"
            ],
            "text/html": [
              "\n",
              "  <div id=\"df-b42851d9-2596-442b-ba84-0d5179c01138\">\n",
              "    <div class=\"colab-df-container\">\n",
              "      <div>\n",
              "<style scoped>\n",
              "    .dataframe tbody tr th:only-of-type {\n",
              "        vertical-align: middle;\n",
              "    }\n",
              "\n",
              "    .dataframe tbody tr th {\n",
              "        vertical-align: top;\n",
              "    }\n",
              "\n",
              "    .dataframe thead th {\n",
              "        text-align: right;\n",
              "    }\n",
              "</style>\n",
              "<table border=\"1\" class=\"dataframe\">\n",
              "  <thead>\n",
              "    <tr style=\"text-align: right;\">\n",
              "      <th></th>\n",
              "      <th>Recall</th>\n",
              "      <th>Precision</th>\n",
              "      <th>F1 score</th>\n",
              "      <th>F2 score</th>\n",
              "    </tr>\n",
              "  </thead>\n",
              "  <tbody>\n",
              "    <tr>\n",
              "      <th>0</th>\n",
              "      <td>0.866667</td>\n",
              "      <td>0.928571</td>\n",
              "      <td>0.896552</td>\n",
              "      <td>0.878378</td>\n",
              "    </tr>\n",
              "    <tr>\n",
              "      <th>1</th>\n",
              "      <td>0.933333</td>\n",
              "      <td>0.777778</td>\n",
              "      <td>0.848485</td>\n",
              "      <td>0.897436</td>\n",
              "    </tr>\n",
              "    <tr>\n",
              "      <th>2</th>\n",
              "      <td>1.0</td>\n",
              "      <td>0.882353</td>\n",
              "      <td>0.9375</td>\n",
              "      <td>0.974026</td>\n",
              "    </tr>\n",
              "    <tr>\n",
              "      <th>3</th>\n",
              "      <td>1.0</td>\n",
              "      <td>0.9375</td>\n",
              "      <td>0.967742</td>\n",
              "      <td>0.986842</td>\n",
              "    </tr>\n",
              "    <tr>\n",
              "      <th>4</th>\n",
              "      <td>0.866667</td>\n",
              "      <td>1.0</td>\n",
              "      <td>0.928571</td>\n",
              "      <td>0.890411</td>\n",
              "    </tr>\n",
              "    <tr>\n",
              "      <th>5</th>\n",
              "      <td>1.0</td>\n",
              "      <td>1.0</td>\n",
              "      <td>1.0</td>\n",
              "      <td>1.0</td>\n",
              "    </tr>\n",
              "    <tr>\n",
              "      <th>6</th>\n",
              "      <td>0.8125</td>\n",
              "      <td>1.0</td>\n",
              "      <td>0.896552</td>\n",
              "      <td>0.844156</td>\n",
              "    </tr>\n",
              "    <tr>\n",
              "      <th>7</th>\n",
              "      <td>1.0</td>\n",
              "      <td>0.666667</td>\n",
              "      <td>0.8</td>\n",
              "      <td>0.909091</td>\n",
              "    </tr>\n",
              "    <tr>\n",
              "      <th>8</th>\n",
              "      <td>0.875</td>\n",
              "      <td>1.0</td>\n",
              "      <td>0.933333</td>\n",
              "      <td>0.897436</td>\n",
              "    </tr>\n",
              "    <tr>\n",
              "      <th>9</th>\n",
              "      <td>1.0</td>\n",
              "      <td>0.882353</td>\n",
              "      <td>0.9375</td>\n",
              "      <td>0.974026</td>\n",
              "    </tr>\n",
              "  </tbody>\n",
              "</table>\n",
              "</div>\n",
              "      <button class=\"colab-df-convert\" onclick=\"convertToInteractive('df-b42851d9-2596-442b-ba84-0d5179c01138')\"\n",
              "              title=\"Convert this dataframe to an interactive table.\"\n",
              "              style=\"display:none;\">\n",
              "        \n",
              "  <svg xmlns=\"http://www.w3.org/2000/svg\" height=\"24px\"viewBox=\"0 0 24 24\"\n",
              "       width=\"24px\">\n",
              "    <path d=\"M0 0h24v24H0V0z\" fill=\"none\"/>\n",
              "    <path d=\"M18.56 5.44l.94 2.06.94-2.06 2.06-.94-2.06-.94-.94-2.06-.94 2.06-2.06.94zm-11 1L8.5 8.5l.94-2.06 2.06-.94-2.06-.94L8.5 2.5l-.94 2.06-2.06.94zm10 10l.94 2.06.94-2.06 2.06-.94-2.06-.94-.94-2.06-.94 2.06-2.06.94z\"/><path d=\"M17.41 7.96l-1.37-1.37c-.4-.4-.92-.59-1.43-.59-.52 0-1.04.2-1.43.59L10.3 9.45l-7.72 7.72c-.78.78-.78 2.05 0 2.83L4 21.41c.39.39.9.59 1.41.59.51 0 1.02-.2 1.41-.59l7.78-7.78 2.81-2.81c.8-.78.8-2.07 0-2.86zM5.41 20L4 18.59l7.72-7.72 1.47 1.35L5.41 20z\"/>\n",
              "  </svg>\n",
              "      </button>\n",
              "      \n",
              "  <style>\n",
              "    .colab-df-container {\n",
              "      display:flex;\n",
              "      flex-wrap:wrap;\n",
              "      gap: 12px;\n",
              "    }\n",
              "\n",
              "    .colab-df-convert {\n",
              "      background-color: #E8F0FE;\n",
              "      border: none;\n",
              "      border-radius: 50%;\n",
              "      cursor: pointer;\n",
              "      display: none;\n",
              "      fill: #1967D2;\n",
              "      height: 32px;\n",
              "      padding: 0 0 0 0;\n",
              "      width: 32px;\n",
              "    }\n",
              "\n",
              "    .colab-df-convert:hover {\n",
              "      background-color: #E2EBFA;\n",
              "      box-shadow: 0px 1px 2px rgba(60, 64, 67, 0.3), 0px 1px 3px 1px rgba(60, 64, 67, 0.15);\n",
              "      fill: #174EA6;\n",
              "    }\n",
              "\n",
              "    [theme=dark] .colab-df-convert {\n",
              "      background-color: #3B4455;\n",
              "      fill: #D2E3FC;\n",
              "    }\n",
              "\n",
              "    [theme=dark] .colab-df-convert:hover {\n",
              "      background-color: #434B5C;\n",
              "      box-shadow: 0px 1px 3px 1px rgba(0, 0, 0, 0.15);\n",
              "      filter: drop-shadow(0px 1px 2px rgba(0, 0, 0, 0.3));\n",
              "      fill: #FFFFFF;\n",
              "    }\n",
              "  </style>\n",
              "\n",
              "      <script>\n",
              "        const buttonEl =\n",
              "          document.querySelector('#df-b42851d9-2596-442b-ba84-0d5179c01138 button.colab-df-convert');\n",
              "        buttonEl.style.display =\n",
              "          google.colab.kernel.accessAllowed ? 'block' : 'none';\n",
              "\n",
              "        async function convertToInteractive(key) {\n",
              "          const element = document.querySelector('#df-b42851d9-2596-442b-ba84-0d5179c01138');\n",
              "          const dataTable =\n",
              "            await google.colab.kernel.invokeFunction('convertToInteractive',\n",
              "                                                     [key], {});\n",
              "          if (!dataTable) return;\n",
              "\n",
              "          const docLinkHtml = 'Like what you see? Visit the ' +\n",
              "            '<a target=\"_blank\" href=https://colab.research.google.com/notebooks/data_table.ipynb>data table notebook</a>'\n",
              "            + ' to learn more about interactive tables.';\n",
              "          element.innerHTML = '';\n",
              "          dataTable['output_type'] = 'display_data';\n",
              "          await google.colab.output.renderOutput(dataTable, element);\n",
              "          const docLink = document.createElement('div');\n",
              "          docLink.innerHTML = docLinkHtml;\n",
              "          element.appendChild(docLink);\n",
              "        }\n",
              "      </script>\n",
              "    </div>\n",
              "  </div>\n",
              "  "
            ]
          },
          "metadata": {},
          "execution_count": 32
        }
      ]
    },
    {
      "cell_type": "code",
      "source": [
        "cv_results.mean()"
      ],
      "metadata": {
        "colab": {
          "base_uri": "https://localhost:8080/"
        },
        "id": "gr5vvzcxrQt4",
        "outputId": "ed453d8e-9a85-4203-82f3-ff72490fed0e"
      },
      "execution_count": null,
      "outputs": [
        {
          "output_type": "execute_result",
          "data": {
            "text/plain": [
              "Recall       0.935417\n",
              "Precision    0.907522\n",
              "F1 score     0.914623\n",
              "F2 score     0.925180\n",
              "dtype: float64"
            ]
          },
          "metadata": {},
          "execution_count": 33
        }
      ]
    },
    {
      "cell_type": "code",
      "execution_count": null,
      "metadata": {
        "id": "-jXE4CoE5Wb6"
      },
      "outputs": [],
      "source": [
        "X_train = train_data['text'].values"
      ]
    },
    {
      "cell_type": "code",
      "execution_count": null,
      "metadata": {
        "colab": {
          "base_uri": "https://localhost:8080/"
        },
        "id": "2SOG2Rqx5ZDE",
        "outputId": "971d90d4-4758-4a63-d59f-adff241ca772"
      },
      "outputs": [
        {
          "output_type": "execute_result",
          "data": {
            "text/plain": [
              "(919,)"
            ]
          },
          "metadata": {},
          "execution_count": 47
        }
      ],
      "source": [
        "X_train.shape"
      ]
    },
    {
      "cell_type": "code",
      "execution_count": null,
      "metadata": {
        "id": "0cCYlQfg5a7e"
      },
      "outputs": [],
      "source": [
        "y_train = train_data['label'].values.reshape(-1, 1)"
      ]
    },
    {
      "cell_type": "code",
      "execution_count": null,
      "metadata": {
        "colab": {
          "base_uri": "https://localhost:8080/"
        },
        "id": "4WNBaiqF5c5R",
        "outputId": "4f155142-6af6-4cbc-a199-875f6199e051"
      },
      "outputs": [
        {
          "output_type": "execute_result",
          "data": {
            "text/plain": [
              "(919, 1)"
            ]
          },
          "metadata": {},
          "execution_count": 49
        }
      ],
      "source": [
        "y_train.shape"
      ]
    },
    {
      "cell_type": "code",
      "execution_count": null,
      "metadata": {
        "id": "NFr0qAAb5eYa"
      },
      "outputs": [],
      "source": [
        "X_test = test_data['text'].values.reshape(-1, 1)"
      ]
    },
    {
      "cell_type": "code",
      "execution_count": null,
      "metadata": {
        "id": "HzvN4MRGS-Ec"
      },
      "outputs": [],
      "source": [
        "y_test = test_data['label'].values"
      ]
    },
    {
      "cell_type": "code",
      "source": [
        "def train_blstm(sent_length, words_mean, train_texts, train_labels):\n",
        "\n",
        "  blstm_model = create_blstm_model(sent_length, words_mean, train_texts)\n",
        "  \n",
        "  history = blstm_model.fit(train_texts,\n",
        "                            train_labels,\n",
        "                            epochs=10,\n",
        "                            batch_size=16,\n",
        "                            validation_data=(X_test, y_test))\n",
        "  \n",
        "  blstm_model.evaluate(X_test, y_test)\n",
        "  y_pred = np.round(blstm_model.predict(X_test))\n",
        "\n",
        "  f1_sc = f1_score(y_test, y_pred)\n",
        "  f2score = fbeta_score(y_test, y_pred, beta=2, average='binary')\n",
        "\n",
        "\n",
        "  print(\"test accuracy = \" + str(accuracy_score(y_test, y_pred)))\n",
        "  print(\"Recall = {}\".format(recall_score(y_test, y_pred)))\n",
        "  print(\"Precision = {}\".format(precision_score(y_test, y_pred)))\n",
        "  print(\"F1 score = {}\".format(f1_sc))\n",
        "  print(\"F2 score = {}\".format(f2score))\n",
        "  print(classification_report(y_test, y_pred))\n",
        "  \n",
        "  cm = confusion_matrix(y_test, y_pred)\n",
        "\n",
        "  disp = ConfusionMatrixDisplay(confusion_matrix=cm, display_labels=[0,1])\n",
        "\n",
        "  disp.plot(cmap=plt.cm.Blues)\n",
        "  plt.show()\n",
        "\n",
        "  return f1_sc"
      ],
      "metadata": {
        "id": "m-006maNDW2s"
      },
      "execution_count": null,
      "outputs": []
    },
    {
      "cell_type": "code",
      "source": [
        "train_blstm(total_length, text_words_mean, X_train, y_train)"
      ],
      "metadata": {
        "colab": {
          "base_uri": "https://localhost:8080/",
          "height": 1000
        },
        "id": "lZ3kIM7oFLVi",
        "outputId": "c0316a25-1c20-421a-ffd5-9ce9b4557563"
      },
      "execution_count": null,
      "outputs": [
        {
          "output_type": "stream",
          "name": "stdout",
          "text": [
            "Epoch 1/10\n",
            "58/58 [==============================] - 9s 95ms/step - loss: 25.7697 - accuracy: 0.8498 - val_loss: 12.2629 - val_accuracy: 0.9004\n",
            "Epoch 2/10\n",
            "58/58 [==============================] - 2s 43ms/step - loss: 5.1975 - accuracy: 0.9652 - val_loss: 0.7978 - val_accuracy: 0.9610\n",
            "Epoch 3/10\n",
            "58/58 [==============================] - 1s 23ms/step - loss: 0.3393 - accuracy: 0.9880 - val_loss: 0.2975 - val_accuracy: 0.9784\n",
            "Epoch 4/10\n",
            "58/58 [==============================] - 1s 21ms/step - loss: 0.1985 - accuracy: 0.9924 - val_loss: 0.2868 - val_accuracy: 0.9740\n",
            "Epoch 5/10\n",
            "58/58 [==============================] - 1s 14ms/step - loss: 0.1474 - accuracy: 0.9967 - val_loss: 0.2333 - val_accuracy: 0.9654\n",
            "Epoch 6/10\n",
            "58/58 [==============================] - 1s 16ms/step - loss: 0.1319 - accuracy: 0.9978 - val_loss: 0.1944 - val_accuracy: 0.9784\n",
            "Epoch 7/10\n",
            "58/58 [==============================] - 0s 8ms/step - loss: 0.1951 - accuracy: 0.9913 - val_loss: 0.3267 - val_accuracy: 0.9784\n",
            "Epoch 8/10\n",
            "58/58 [==============================] - 1s 11ms/step - loss: 0.1538 - accuracy: 0.9989 - val_loss: 0.1910 - val_accuracy: 0.9784\n",
            "Epoch 9/10\n",
            "58/58 [==============================] - 1s 12ms/step - loss: 0.0974 - accuracy: 0.9989 - val_loss: 0.1663 - val_accuracy: 0.9827\n",
            "Epoch 10/10\n",
            "58/58 [==============================] - 0s 8ms/step - loss: 0.0886 - accuracy: 1.0000 - val_loss: 0.2297 - val_accuracy: 0.9610\n",
            "8/8 [==============================] - 0s 5ms/step - loss: 0.2297 - accuracy: 0.9610\n",
            "8/8 [==============================] - 1s 4ms/step\n",
            "test accuracy = 0.961038961038961\n",
            "Recall = 0.7692307692307693\n",
            "Precision = 1.0\n",
            "F1 score = 0.8695652173913044\n",
            "F2 score = 0.8064516129032259\n",
            "              precision    recall  f1-score   support\n",
            "\n",
            "           0       0.96      1.00      0.98       192\n",
            "           1       1.00      0.77      0.87        39\n",
            "\n",
            "    accuracy                           0.96       231\n",
            "   macro avg       0.98      0.88      0.92       231\n",
            "weighted avg       0.96      0.96      0.96       231\n",
            "\n"
          ]
        },
        {
          "output_type": "display_data",
          "data": {
            "text/plain": [
              "<Figure size 640x480 with 2 Axes>"
            ],
            "image/png": "[encoded data removed]"
          },
          "metadata": {}
        },
        {
          "output_type": "execute_result",
          "data": {
            "text/plain": [
              "0.8695652173913044"
            ]
          },
          "metadata": {},
          "execution_count": 88
        }
      ]
    },
    {
      "cell_type": "code",
      "source": [
        "train_blstm(total_length, text_words_mean, X_train, y_train)"
      ],
      "metadata": {
        "colab": {
          "base_uri": "https://localhost:8080/",
          "height": 1000
        },
        "id": "ioF_ETspFIxX",
        "outputId": "33676eda-79d8-4d6c-80e3-8079a637cf06"
      },
      "execution_count": null,
      "outputs": [
        {
          "output_type": "stream",
          "name": "stdout",
          "text": [
            "Epoch 1/10\n",
            "58/58 [==============================] - 9s 90ms/step - loss: 25.9056 - accuracy: 0.8455 - val_loss: 12.3721 - val_accuracy: 0.8788\n",
            "Epoch 2/10\n",
            "58/58 [==============================] - 2s 38ms/step - loss: 5.2545 - accuracy: 0.9695 - val_loss: 0.7751 - val_accuracy: 0.9827\n",
            "Epoch 3/10\n",
            "58/58 [==============================] - 1s 21ms/step - loss: 0.3027 - accuracy: 0.9956 - val_loss: 0.1914 - val_accuracy: 0.9784\n",
            "Epoch 4/10\n",
            "58/58 [==============================] - 1s 20ms/step - loss: 0.5153 - accuracy: 0.9859 - val_loss: 0.4812 - val_accuracy: 0.9784\n",
            "Epoch 5/10\n",
            "58/58 [==============================] - 1s 18ms/step - loss: 0.2538 - accuracy: 0.9978 - val_loss: 0.2685 - val_accuracy: 0.9697\n",
            "Epoch 6/10\n",
            "58/58 [==============================] - 1s 13ms/step - loss: 0.1508 - accuracy: 0.9956 - val_loss: 1.1778 - val_accuracy: 0.9307\n",
            "Epoch 7/10\n",
            "58/58 [==============================] - 1s 13ms/step - loss: 0.2445 - accuracy: 0.9956 - val_loss: 0.2763 - val_accuracy: 0.9524\n",
            "Epoch 8/10\n",
            "58/58 [==============================] - 1s 14ms/step - loss: 0.1204 - accuracy: 0.9989 - val_loss: 0.2487 - val_accuracy: 0.9654\n",
            "Epoch 9/10\n",
            "58/58 [==============================] - 1s 19ms/step - loss: 0.0991 - accuracy: 1.0000 - val_loss: 0.2457 - val_accuracy: 0.9697\n",
            "Epoch 10/10\n",
            "58/58 [==============================] - 1s 13ms/step - loss: 0.0882 - accuracy: 0.9989 - val_loss: 1.0241 - val_accuracy: 0.9221\n",
            "8/8 [==============================] - 0s 5ms/step - loss: 1.0241 - accuracy: 0.9221\n",
            "8/8 [==============================] - 1s 3ms/step\n",
            "test accuracy = 0.922077922077922\n",
            "Recall = 0.5384615384615384\n",
            "Precision = 1.0\n",
            "F1 score = 0.7000000000000001\n",
            "F2 score = 0.5932203389830508\n",
            "              precision    recall  f1-score   support\n",
            "\n",
            "           0       0.91      1.00      0.96       192\n",
            "           1       1.00      0.54      0.70        39\n",
            "\n",
            "    accuracy                           0.92       231\n",
            "   macro avg       0.96      0.77      0.83       231\n",
            "weighted avg       0.93      0.92      0.91       231\n",
            "\n"
          ]
        },
        {
          "output_type": "display_data",
          "data": {
            "text/plain": [
              "<Figure size 640x480 with 2 Axes>"
            ],
            "image/png": "[encoded data removed]"
          },
          "metadata": {}
        },
        {
          "output_type": "execute_result",
          "data": {
            "text/plain": [
              "0.7000000000000001"
            ]
          },
          "metadata": {},
          "execution_count": 91
        }
      ]
    }
  ],
  "metadata": {
    "accelerator": "GPU",
    "colab": {
      "machine_shape": "hm",
      "provenance": [],
      "gpuType": "T4"
    },
    "gpuClass": "standard",
    "kernelspec": {
      "display_name": "Python 3",
      "name": "python3"
    },
    "language_info": {
      "name": "python"
    }
  },
  "nbformat": 4,
  "nbformat_minor": 0
}