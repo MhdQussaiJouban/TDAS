{
  "cells": [
    {
      "cell_type": "code",
      "execution_count": null,
      "metadata": {
        "id": "_Q1SwXg76Uf3",
        "colab": {
          "base_uri": "https://localhost:8080/"
        },
        "outputId": "4e0b00b5-768b-4b2b-87f9-cbceaba28392"
      },
      "outputs": [
        {
          "output_type": "stream",
          "name": "stderr",
          "text": [
            "[nltk_data] Downloading package stopwords to /root/nltk_data...\n",
            "[nltk_data]   Unzipping corpora/stopwords.zip.\n",
            "[nltk_data] Downloading package punkt to /root/nltk_data...\n",
            "[nltk_data]   Unzipping tokenizers/punkt.zip.\n",
            "[nltk_data] Downloading package averaged_perceptron_tagger to\n",
            "[nltk_data]     /root/nltk_data...\n",
            "[nltk_data]   Unzipping taggers/averaged_perceptron_tagger.zip.\n",
            "[nltk_data] Downloading package wordnet to /root/nltk_data...\n"
          ]
        },
        {
          "output_type": "stream",
          "name": "stdout",
          "text": [
            "Mounted at /content/gdrive\n"
          ]
        }
      ],
      "source": [
        "from datetime import datetime\n",
        "import random \n",
        "import numpy as np\n",
        "import pandas as pd\n",
        "from sklearn.preprocessing import LabelEncoder\n",
        "from sklearn.model_selection import train_test_split\n",
        "from sklearn.ensemble import RandomForestClassifier, ExtraTreesClassifier\n",
        "from sklearn.linear_model import SGDClassifier, LogisticRegression\n",
        "from sklearn.naive_bayes import GaussianNB\n",
        "from sklearn.neural_network import MLPClassifier\n",
        "from sklearn.svm import SVC\n",
        "from sklearn.neighbors import KNeighborsClassifier\n",
        "from sklearn.model_selection import GridSearchCV\n",
        "from sklearn.ensemble import StackingClassifier\n",
        "from sklearn.metrics import confusion_matrix\n",
        "from sklearn.metrics import ConfusionMatrixDisplay\n",
        "from sklearn.metrics import accuracy_score, recall_score, precision_score, f1_score, fbeta_score, classification_report\n",
        "from sklearn.metrics import make_scorer \n",
        "import matplotlib.pyplot as plt\n",
        "import gensim.downloader as api\n",
        "import nltk\n",
        "from nltk.tokenize import word_tokenize\n",
        "from nltk import pos_tag\n",
        "nltk.download('stopwords')\n",
        "nltk.download('punkt')\n",
        "nltk.download('averaged_perceptron_tagger')\n",
        "nltk.download('wordnet')\n",
        "from google.colab import drive\n",
        "drive.mount('/content/gdrive')\n",
        "dir_name = \"/content/gdrive/MyDrive/Thesis/\""
      ]
    },
    {
      "cell_type": "code",
      "source": [
        "def con2bin(label):\n",
        "  if label in ['Psoriasis', 'Chicken pox', 'Impetigo', 'Acne']:\n",
        "    return 1\n",
        "  return 0"
      ],
      "metadata": {
        "id": "3Ispzur-3Ctt"
      },
      "execution_count": null,
      "outputs": []
    },
    {
      "cell_type": "code",
      "execution_count": null,
      "metadata": {
        "id": "hsZEizu93N6d",
        "colab": {
          "base_uri": "https://localhost:8080/",
          "height": 423
        },
        "outputId": "c1a00081-e38d-43a7-add3-d58be821df86"
      },
      "outputs": [
        {
          "output_type": "execute_result",
          "data": {
            "text/plain": [
              "      label                                               text\n",
              "0         1  I have been experiencing a skin rash on my arm...\n",
              "1         1  My skin has been peeling, especially on my kne...\n",
              "2         1  I have been experiencing joint pain in my fing...\n",
              "3         1  There is a silver like dusting on my skin, esp...\n",
              "4         1  My nails have small dents or pits in them, and...\n",
              "...     ...                                                ...\n",
              "1195      0  I'm shaking and trembling all over. I've lost ...\n",
              "1196      0  Particularly in the crevices of my skin, I hav...\n",
              "1197      0  I regularly experience these intense urges and...\n",
              "1198      0  I have trouble breathing, especially outside. ...\n",
              "1199      0  I constantly sneeze and have a dry cough. My i...\n",
              "\n",
              "[1200 rows x 2 columns]"
            ],
            "text/html": [
              "\n",
              "  <div id=\"df-f25e5203-2bec-4fb2-a4f2-d67a942f95a0\">\n",
              "    <div class=\"colab-df-container\">\n",
              "      <div>\n",
              "<style scoped>\n",
              "    .dataframe tbody tr th:only-of-type {\n",
              "        vertical-align: middle;\n",
              "    }\n",
              "\n",
              "    .dataframe tbody tr th {\n",
              "        vertical-align: top;\n",
              "    }\n",
              "\n",
              "    .dataframe thead th {\n",
              "        text-align: right;\n",
              "    }\n",
              "</style>\n",
              "<table border=\"1\" class=\"dataframe\">\n",
              "  <thead>\n",
              "    <tr style=\"text-align: right;\">\n",
              "      <th></th>\n",
              "      <th>label</th>\n",
              "      <th>text</th>\n",
              "    </tr>\n",
              "  </thead>\n",
              "  <tbody>\n",
              "    <tr>\n",
              "      <th>0</th>\n",
              "      <td>1</td>\n",
              "      <td>I have been experiencing a skin rash on my arm...</td>\n",
              "    </tr>\n",
              "    <tr>\n",
              "      <th>1</th>\n",
              "      <td>1</td>\n",
              "      <td>My skin has been peeling, especially on my kne...</td>\n",
              "    </tr>\n",
              "    <tr>\n",
              "      <th>2</th>\n",
              "      <td>1</td>\n",
              "      <td>I have been experiencing joint pain in my fing...</td>\n",
              "    </tr>\n",
              "    <tr>\n",
              "      <th>3</th>\n",
              "      <td>1</td>\n",
              "      <td>There is a silver like dusting on my skin, esp...</td>\n",
              "    </tr>\n",
              "    <tr>\n",
              "      <th>4</th>\n",
              "      <td>1</td>\n",
              "      <td>My nails have small dents or pits in them, and...</td>\n",
              "    </tr>\n",
              "    <tr>\n",
              "      <th>...</th>\n",
              "      <td>...</td>\n",
              "      <td>...</td>\n",
              "    </tr>\n",
              "    <tr>\n",
              "      <th>1195</th>\n",
              "      <td>0</td>\n",
              "      <td>I'm shaking and trembling all over. I've lost ...</td>\n",
              "    </tr>\n",
              "    <tr>\n",
              "      <th>1196</th>\n",
              "      <td>0</td>\n",
              "      <td>Particularly in the crevices of my skin, I hav...</td>\n",
              "    </tr>\n",
              "    <tr>\n",
              "      <th>1197</th>\n",
              "      <td>0</td>\n",
              "      <td>I regularly experience these intense urges and...</td>\n",
              "    </tr>\n",
              "    <tr>\n",
              "      <th>1198</th>\n",
              "      <td>0</td>\n",
              "      <td>I have trouble breathing, especially outside. ...</td>\n",
              "    </tr>\n",
              "    <tr>\n",
              "      <th>1199</th>\n",
              "      <td>0</td>\n",
              "      <td>I constantly sneeze and have a dry cough. My i...</td>\n",
              "    </tr>\n",
              "  </tbody>\n",
              "</table>\n",
              "<p>1200 rows × 2 columns</p>\n",
              "</div>\n",
              "      <button class=\"colab-df-convert\" onclick=\"convertToInteractive('df-f25e5203-2bec-4fb2-a4f2-d67a942f95a0')\"\n",
              "              title=\"Convert this dataframe to an interactive table.\"\n",
              "              style=\"display:none;\">\n",
              "        \n",
              "  <svg xmlns=\"http://www.w3.org/2000/svg\" height=\"24px\"viewBox=\"0 0 24 24\"\n",
              "       width=\"24px\">\n",
              "    <path d=\"M0 0h24v24H0V0z\" fill=\"none\"/>\n",
              "    <path d=\"M18.56 5.44l.94 2.06.94-2.06 2.06-.94-2.06-.94-.94-2.06-.94 2.06-2.06.94zm-11 1L8.5 8.5l.94-2.06 2.06-.94-2.06-.94L8.5 2.5l-.94 2.06-2.06.94zm10 10l.94 2.06.94-2.06 2.06-.94-2.06-.94-.94-2.06-.94 2.06-2.06.94z\"/><path d=\"M17.41 7.96l-1.37-1.37c-.4-.4-.92-.59-1.43-.59-.52 0-1.04.2-1.43.59L10.3 9.45l-7.72 7.72c-.78.78-.78 2.05 0 2.83L4 21.41c.39.39.9.59 1.41.59.51 0 1.02-.2 1.41-.59l7.78-7.78 2.81-2.81c.8-.78.8-2.07 0-2.86zM5.41 20L4 18.59l7.72-7.72 1.47 1.35L5.41 20z\"/>\n",
              "  </svg>\n",
              "      </button>\n",
              "      \n",
              "  <style>\n",
              "    .colab-df-container {\n",
              "      display:flex;\n",
              "      flex-wrap:wrap;\n",
              "      gap: 12px;\n",
              "    }\n",
              "\n",
              "    .colab-df-convert {\n",
              "      background-color: #E8F0FE;\n",
              "      border: none;\n",
              "      border-radius: 50%;\n",
              "      cursor: pointer;\n",
              "      display: none;\n",
              "      fill: #1967D2;\n",
              "      height: 32px;\n",
              "      padding: 0 0 0 0;\n",
              "      width: 32px;\n",
              "    }\n",
              "\n",
              "    .colab-df-convert:hover {\n",
              "      background-color: #E2EBFA;\n",
              "      box-shadow: 0px 1px 2px rgba(60, 64, 67, 0.3), 0px 1px 3px 1px rgba(60, 64, 67, 0.15);\n",
              "      fill: #174EA6;\n",
              "    }\n",
              "\n",
              "    [theme=dark] .colab-df-convert {\n",
              "      background-color: #3B4455;\n",
              "      fill: #D2E3FC;\n",
              "    }\n",
              "\n",
              "    [theme=dark] .colab-df-convert:hover {\n",
              "      background-color: #434B5C;\n",
              "      box-shadow: 0px 1px 3px 1px rgba(0, 0, 0, 0.15);\n",
              "      filter: drop-shadow(0px 1px 2px rgba(0, 0, 0, 0.3));\n",
              "      fill: #FFFFFF;\n",
              "    }\n",
              "  </style>\n",
              "\n",
              "      <script>\n",
              "        const buttonEl =\n",
              "          document.querySelector('#df-f25e5203-2bec-4fb2-a4f2-d67a942f95a0 button.colab-df-convert');\n",
              "        buttonEl.style.display =\n",
              "          google.colab.kernel.accessAllowed ? 'block' : 'none';\n",
              "\n",
              "        async function convertToInteractive(key) {\n",
              "          const element = document.querySelector('#df-f25e5203-2bec-4fb2-a4f2-d67a942f95a0');\n",
              "          const dataTable =\n",
              "            await google.colab.kernel.invokeFunction('convertToInteractive',\n",
              "                                                     [key], {});\n",
              "          if (!dataTable) return;\n",
              "\n",
              "          const docLinkHtml = 'Like what you see? Visit the ' +\n",
              "            '<a target=\"_blank\" href=https://colab.research.google.com/notebooks/data_table.ipynb>data table notebook</a>'\n",
              "            + ' to learn more about interactive tables.';\n",
              "          element.innerHTML = '';\n",
              "          dataTable['output_type'] = 'display_data';\n",
              "          await google.colab.output.renderOutput(dataTable, element);\n",
              "          const docLink = document.createElement('div');\n",
              "          docLink.innerHTML = docLinkHtml;\n",
              "          element.appendChild(docLink);\n",
              "        }\n",
              "      </script>\n",
              "    </div>\n",
              "  </div>\n",
              "  "
            ]
          },
          "metadata": {},
          "execution_count": 3
        }
      ],
      "source": [
        "def get_raw_data(dir_name):\n",
        "    #  load data\n",
        "    data = pd.read_csv('{}Symptom2Disease.csv'.format(dir_name), encoding = 'latin-1', usecols=['text', 'label'])\n",
        "    data['label'] =  data['label'].apply(con2bin)\n",
        "    return data\n",
        "\n",
        "raw_data = get_raw_data(dir_name + 'datasets/')\n",
        "raw_data"
      ]
    },
    {
      "cell_type": "code",
      "execution_count": null,
      "metadata": {
        "id": "puuFMH0H8Li_",
        "colab": {
          "base_uri": "https://localhost:8080/",
          "height": 499
        },
        "outputId": "90b9d6d8-b93f-4ee7-a275-983d9f7c4e49"
      },
      "outputs": [
        {
          "output_type": "display_data",
          "data": {
            "text/plain": [
              "<Figure size 600x600 with 1 Axes>"
            ],
            "image/png": "[encoded data removed]"
          },
          "metadata": {}
        }
      ],
      "source": [
        "def get_dataset_statistics(data):\n",
        "    dataset_statistics = {'Number of intances': [data['label'].value_counts()[0], data['label'].value_counts()[1]]}\n",
        "    df = pd.DataFrame(dataset_statistics, index=['0', '1'])\n",
        "    df.plot(kind='pie', y='Number of intances', figsize=(6, 6), fontsize=14,\n",
        "            autopct=lambda v: '{:.0f} ({:.1f}%)'.format(v / 100 * data['label'].count(), v))\n",
        "    \n",
        "get_dataset_statistics(raw_data)"
      ]
    },
    {
      "cell_type": "code",
      "execution_count": null,
      "metadata": {
        "colab": {
          "base_uri": "https://localhost:8080/"
        },
        "id": "jvrPiHms7t3O",
        "outputId": "b8884fc8-24d8-4762-85bb-d40ec1b8126f"
      },
      "outputs": [
        {
          "output_type": "execute_result",
          "data": {
            "text/plain": [
              "False"
            ]
          },
          "metadata": {},
          "execution_count": 5
        }
      ],
      "source": [
        "raw_data['text'].is_unique"
      ]
    },
    {
      "cell_type": "code",
      "execution_count": null,
      "metadata": {
        "id": "QGX76s7s7vC1",
        "colab": {
          "base_uri": "https://localhost:8080/"
        },
        "outputId": "0afb2b98-0e01-423d-c44d-11c86259ff52"
      },
      "outputs": [
        {
          "output_type": "execute_result",
          "data": {
            "text/plain": [
              "True"
            ]
          },
          "metadata": {},
          "execution_count": 6
        }
      ],
      "source": [
        "raw_data.drop_duplicates( inplace=True)\n",
        "raw_data['text'].is_unique"
      ]
    },
    {
      "cell_type": "code",
      "execution_count": null,
      "metadata": {
        "colab": {
          "base_uri": "https://localhost:8080/",
          "height": 423
        },
        "id": "kAvJMWIH8BfT",
        "outputId": "93b82f3a-a469-4314-a77f-0ee9826698a6"
      },
      "outputs": [
        {
          "output_type": "execute_result",
          "data": {
            "text/plain": [
              "      label                                               text\n",
              "0         1  I have been experiencing a skin rash on my arm...\n",
              "1         1  My skin has been peeling, especially on my kne...\n",
              "2         1  I have been experiencing joint pain in my fing...\n",
              "3         1  There is a silver like dusting on my skin, esp...\n",
              "4         1  My nails have small dents or pits in them, and...\n",
              "...     ...                                                ...\n",
              "1195      0  I'm shaking and trembling all over. I've lost ...\n",
              "1196      0  Particularly in the crevices of my skin, I hav...\n",
              "1197      0  I regularly experience these intense urges and...\n",
              "1198      0  I have trouble breathing, especially outside. ...\n",
              "1199      0  I constantly sneeze and have a dry cough. My i...\n",
              "\n",
              "[1153 rows x 2 columns]"
            ],
            "text/html": [
              "\n",
              "  <div id=\"df-a50c3874-230e-4581-8bbb-f5586142c644\">\n",
              "    <div class=\"colab-df-container\">\n",
              "      <div>\n",
              "<style scoped>\n",
              "    .dataframe tbody tr th:only-of-type {\n",
              "        vertical-align: middle;\n",
              "    }\n",
              "\n",
              "    .dataframe tbody tr th {\n",
              "        vertical-align: top;\n",
              "    }\n",
              "\n",
              "    .dataframe thead th {\n",
              "        text-align: right;\n",
              "    }\n",
              "</style>\n",
              "<table border=\"1\" class=\"dataframe\">\n",
              "  <thead>\n",
              "    <tr style=\"text-align: right;\">\n",
              "      <th></th>\n",
              "      <th>label</th>\n",
              "      <th>text</th>\n",
              "    </tr>\n",
              "  </thead>\n",
              "  <tbody>\n",
              "    <tr>\n",
              "      <th>0</th>\n",
              "      <td>1</td>\n",
              "      <td>I have been experiencing a skin rash on my arm...</td>\n",
              "    </tr>\n",
              "    <tr>\n",
              "      <th>1</th>\n",
              "      <td>1</td>\n",
              "      <td>My skin has been peeling, especially on my kne...</td>\n",
              "    </tr>\n",
              "    <tr>\n",
              "      <th>2</th>\n",
              "      <td>1</td>\n",
              "      <td>I have been experiencing joint pain in my fing...</td>\n",
              "    </tr>\n",
              "    <tr>\n",
              "      <th>3</th>\n",
              "      <td>1</td>\n",
              "      <td>There is a silver like dusting on my skin, esp...</td>\n",
              "    </tr>\n",
              "    <tr>\n",
              "      <th>4</th>\n",
              "      <td>1</td>\n",
              "      <td>My nails have small dents or pits in them, and...</td>\n",
              "    </tr>\n",
              "    <tr>\n",
              "      <th>...</th>\n",
              "      <td>...</td>\n",
              "      <td>...</td>\n",
              "    </tr>\n",
              "    <tr>\n",
              "      <th>1195</th>\n",
              "      <td>0</td>\n",
              "      <td>I'm shaking and trembling all over. I've lost ...</td>\n",
              "    </tr>\n",
              "    <tr>\n",
              "      <th>1196</th>\n",
              "      <td>0</td>\n",
              "      <td>Particularly in the crevices of my skin, I hav...</td>\n",
              "    </tr>\n",
              "    <tr>\n",
              "      <th>1197</th>\n",
              "      <td>0</td>\n",
              "      <td>I regularly experience these intense urges and...</td>\n",
              "    </tr>\n",
              "    <tr>\n",
              "      <th>1198</th>\n",
              "      <td>0</td>\n",
              "      <td>I have trouble breathing, especially outside. ...</td>\n",
              "    </tr>\n",
              "    <tr>\n",
              "      <th>1199</th>\n",
              "      <td>0</td>\n",
              "      <td>I constantly sneeze and have a dry cough. My i...</td>\n",
              "    </tr>\n",
              "  </tbody>\n",
              "</table>\n",
              "<p>1153 rows × 2 columns</p>\n",
              "</div>\n",
              "      <button class=\"colab-df-convert\" onclick=\"convertToInteractive('df-a50c3874-230e-4581-8bbb-f5586142c644')\"\n",
              "              title=\"Convert this dataframe to an interactive table.\"\n",
              "              style=\"display:none;\">\n",
              "        \n",
              "  <svg xmlns=\"http://www.w3.org/2000/svg\" height=\"24px\"viewBox=\"0 0 24 24\"\n",
              "       width=\"24px\">\n",
              "    <path d=\"M0 0h24v24H0V0z\" fill=\"none\"/>\n",
              "    <path d=\"M18.56 5.44l.94 2.06.94-2.06 2.06-.94-2.06-.94-.94-2.06-.94 2.06-2.06.94zm-11 1L8.5 8.5l.94-2.06 2.06-.94-2.06-.94L8.5 2.5l-.94 2.06-2.06.94zm10 10l.94 2.06.94-2.06 2.06-.94-2.06-.94-.94-2.06-.94 2.06-2.06.94z\"/><path d=\"M17.41 7.96l-1.37-1.37c-.4-.4-.92-.59-1.43-.59-.52 0-1.04.2-1.43.59L10.3 9.45l-7.72 7.72c-.78.78-.78 2.05 0 2.83L4 21.41c.39.39.9.59 1.41.59.51 0 1.02-.2 1.41-.59l7.78-7.78 2.81-2.81c.8-.78.8-2.07 0-2.86zM5.41 20L4 18.59l7.72-7.72 1.47 1.35L5.41 20z\"/>\n",
              "  </svg>\n",
              "      </button>\n",
              "      \n",
              "  <style>\n",
              "    .colab-df-container {\n",
              "      display:flex;\n",
              "      flex-wrap:wrap;\n",
              "      gap: 12px;\n",
              "    }\n",
              "\n",
              "    .colab-df-convert {\n",
              "      background-color: #E8F0FE;\n",
              "      border: none;\n",
              "      border-radius: 50%;\n",
              "      cursor: pointer;\n",
              "      display: none;\n",
              "      fill: #1967D2;\n",
              "      height: 32px;\n",
              "      padding: 0 0 0 0;\n",
              "      width: 32px;\n",
              "    }\n",
              "\n",
              "    .colab-df-convert:hover {\n",
              "      background-color: #E2EBFA;\n",
              "      box-shadow: 0px 1px 2px rgba(60, 64, 67, 0.3), 0px 1px 3px 1px rgba(60, 64, 67, 0.15);\n",
              "      fill: #174EA6;\n",
              "    }\n",
              "\n",
              "    [theme=dark] .colab-df-convert {\n",
              "      background-color: #3B4455;\n",
              "      fill: #D2E3FC;\n",
              "    }\n",
              "\n",
              "    [theme=dark] .colab-df-convert:hover {\n",
              "      background-color: #434B5C;\n",
              "      box-shadow: 0px 1px 3px 1px rgba(0, 0, 0, 0.15);\n",
              "      filter: drop-shadow(0px 1px 2px rgba(0, 0, 0, 0.3));\n",
              "      fill: #FFFFFF;\n",
              "    }\n",
              "  </style>\n",
              "\n",
              "      <script>\n",
              "        const buttonEl =\n",
              "          document.querySelector('#df-a50c3874-230e-4581-8bbb-f5586142c644 button.colab-df-convert');\n",
              "        buttonEl.style.display =\n",
              "          google.colab.kernel.accessAllowed ? 'block' : 'none';\n",
              "\n",
              "        async function convertToInteractive(key) {\n",
              "          const element = document.querySelector('#df-a50c3874-230e-4581-8bbb-f5586142c644');\n",
              "          const dataTable =\n",
              "            await google.colab.kernel.invokeFunction('convertToInteractive',\n",
              "                                                     [key], {});\n",
              "          if (!dataTable) return;\n",
              "\n",
              "          const docLinkHtml = 'Like what you see? Visit the ' +\n",
              "            '<a target=\"_blank\" href=https://colab.research.google.com/notebooks/data_table.ipynb>data table notebook</a>'\n",
              "            + ' to learn more about interactive tables.';\n",
              "          element.innerHTML = '';\n",
              "          dataTable['output_type'] = 'display_data';\n",
              "          await google.colab.output.renderOutput(dataTable, element);\n",
              "          const docLink = document.createElement('div');\n",
              "          docLink.innerHTML = docLinkHtml;\n",
              "          element.appendChild(docLink);\n",
              "        }\n",
              "      </script>\n",
              "    </div>\n",
              "  </div>\n",
              "  "
            ]
          },
          "metadata": {},
          "execution_count": 7
        }
      ],
      "source": [
        "raw_data"
      ]
    },
    {
      "cell_type": "code",
      "execution_count": null,
      "metadata": {
        "colab": {
          "base_uri": "https://localhost:8080/",
          "height": 499
        },
        "id": "M29miyuS8dVA",
        "outputId": "0ff8ac0b-ba31-4a88-db87-054046542c76"
      },
      "outputs": [
        {
          "output_type": "display_data",
          "data": {
            "text/plain": [
              "<Figure size 600x600 with 1 Axes>"
            ],
            "image/png": "[encoded data removed]"
          },
          "metadata": {}
        }
      ],
      "source": [
        "get_dataset_statistics(raw_data)"
      ]
    },
    {
      "cell_type": "code",
      "execution_count": null,
      "metadata": {
        "id": "9a7oMalo8eW7"
      },
      "outputs": [],
      "source": [
        "X_train, X_test, y_train, y_test = train_test_split(raw_data['text'].to_numpy(), raw_data['label'].to_numpy(), stratify=raw_data['label'].to_numpy(), test_size=0.2, random_state=24)"
      ]
    },
    {
      "cell_type": "code",
      "execution_count": null,
      "metadata": {
        "colab": {
          "base_uri": "https://localhost:8080/",
          "height": 499
        },
        "id": "4Qah2hem-rzC",
        "outputId": "d4d68f54-92e1-4022-9561-abdba8755123"
      },
      "outputs": [
        {
          "output_type": "display_data",
          "data": {
            "text/plain": [
              "<Figure size 600x600 with 1 Axes>"
            ],
            "image/png": "[encoded data removed]"
          },
          "metadata": {}
        }
      ],
      "source": [
        "get_dataset_statistics(pd.DataFrame({'label': y_train}))"
      ]
    },
    {
      "cell_type": "code",
      "execution_count": null,
      "metadata": {
        "colab": {
          "base_uri": "https://localhost:8080/",
          "height": 499
        },
        "id": "tBCiPYyy-0YC",
        "outputId": "e2114b72-d0e8-4bee-c40d-35032dd1c2a8"
      },
      "outputs": [
        {
          "output_type": "display_data",
          "data": {
            "text/plain": [
              "<Figure size 600x600 with 1 Axes>"
            ],
            "image/png": "[encoded data removed]"
          },
          "metadata": {}
        }
      ],
      "source": [
        "get_dataset_statistics(pd.DataFrame({'label': y_test}))"
      ]
    },
    {
      "cell_type": "code",
      "execution_count": null,
      "metadata": {
        "id": "cVetnUhn-6K9",
        "colab": {
          "base_uri": "https://localhost:8080/",
          "height": 423
        },
        "outputId": "351df4b0-3402-4c7f-bdd2-ceb1cf0d859d"
      },
      "outputs": [
        {
          "output_type": "execute_result",
          "data": {
            "text/plain": [
              "                                                  text  label\n",
              "0    I am quite queasy and dizzy when I have a temp...      0\n",
              "1    I've been experiencing muscular weakness and s...      0\n",
              "2    Over the last week, the rash on my face has go...      1\n",
              "3    I have a frequent need to urinate and often ha...      0\n",
              "4    I am feeling quite weak. I'm having a lot of s...      0\n",
              "..                                                 ...    ...\n",
              "917  Sometimes my skin starts to flake off from my ...      0\n",
              "918  My skin has a horrible rash that is absolutely...      1\n",
              "919  I occasionally have burning in my upper abdome...      0\n",
              "920  I lose weight unintentionally and find it chal...      0\n",
              "921  My mouth is filled with a sour, acidic flavour...      0\n",
              "\n",
              "[922 rows x 2 columns]"
            ],
            "text/html": [
              "\n",
              "  <div id=\"df-5c7d9b5a-1a84-458e-b5bd-fd9aeb6ce134\">\n",
              "    <div class=\"colab-df-container\">\n",
              "      <div>\n",
              "<style scoped>\n",
              "    .dataframe tbody tr th:only-of-type {\n",
              "        vertical-align: middle;\n",
              "    }\n",
              "\n",
              "    .dataframe tbody tr th {\n",
              "        vertical-align: top;\n",
              "    }\n",
              "\n",
              "    .dataframe thead th {\n",
              "        text-align: right;\n",
              "    }\n",
              "</style>\n",
              "<table border=\"1\" class=\"dataframe\">\n",
              "  <thead>\n",
              "    <tr style=\"text-align: right;\">\n",
              "      <th></th>\n",
              "      <th>text</th>\n",
              "      <th>label</th>\n",
              "    </tr>\n",
              "  </thead>\n",
              "  <tbody>\n",
              "    <tr>\n",
              "      <th>0</th>\n",
              "      <td>I am quite queasy and dizzy when I have a temp...</td>\n",
              "      <td>0</td>\n",
              "    </tr>\n",
              "    <tr>\n",
              "      <th>1</th>\n",
              "      <td>I've been experiencing muscular weakness and s...</td>\n",
              "      <td>0</td>\n",
              "    </tr>\n",
              "    <tr>\n",
              "      <th>2</th>\n",
              "      <td>Over the last week, the rash on my face has go...</td>\n",
              "      <td>1</td>\n",
              "    </tr>\n",
              "    <tr>\n",
              "      <th>3</th>\n",
              "      <td>I have a frequent need to urinate and often ha...</td>\n",
              "      <td>0</td>\n",
              "    </tr>\n",
              "    <tr>\n",
              "      <th>4</th>\n",
              "      <td>I am feeling quite weak. I'm having a lot of s...</td>\n",
              "      <td>0</td>\n",
              "    </tr>\n",
              "    <tr>\n",
              "      <th>...</th>\n",
              "      <td>...</td>\n",
              "      <td>...</td>\n",
              "    </tr>\n",
              "    <tr>\n",
              "      <th>917</th>\n",
              "      <td>Sometimes my skin starts to flake off from my ...</td>\n",
              "      <td>0</td>\n",
              "    </tr>\n",
              "    <tr>\n",
              "      <th>918</th>\n",
              "      <td>My skin has a horrible rash that is absolutely...</td>\n",
              "      <td>1</td>\n",
              "    </tr>\n",
              "    <tr>\n",
              "      <th>919</th>\n",
              "      <td>I occasionally have burning in my upper abdome...</td>\n",
              "      <td>0</td>\n",
              "    </tr>\n",
              "    <tr>\n",
              "      <th>920</th>\n",
              "      <td>I lose weight unintentionally and find it chal...</td>\n",
              "      <td>0</td>\n",
              "    </tr>\n",
              "    <tr>\n",
              "      <th>921</th>\n",
              "      <td>My mouth is filled with a sour, acidic flavour...</td>\n",
              "      <td>0</td>\n",
              "    </tr>\n",
              "  </tbody>\n",
              "</table>\n",
              "<p>922 rows × 2 columns</p>\n",
              "</div>\n",
              "      <button class=\"colab-df-convert\" onclick=\"convertToInteractive('df-5c7d9b5a-1a84-458e-b5bd-fd9aeb6ce134')\"\n",
              "              title=\"Convert this dataframe to an interactive table.\"\n",
              "              style=\"display:none;\">\n",
              "        \n",
              "  <svg xmlns=\"http://www.w3.org/2000/svg\" height=\"24px\"viewBox=\"0 0 24 24\"\n",
              "       width=\"24px\">\n",
              "    <path d=\"M0 0h24v24H0V0z\" fill=\"none\"/>\n",
              "    <path d=\"M18.56 5.44l.94 2.06.94-2.06 2.06-.94-2.06-.94-.94-2.06-.94 2.06-2.06.94zm-11 1L8.5 8.5l.94-2.06 2.06-.94-2.06-.94L8.5 2.5l-.94 2.06-2.06.94zm10 10l.94 2.06.94-2.06 2.06-.94-2.06-.94-.94-2.06-.94 2.06-2.06.94z\"/><path d=\"M17.41 7.96l-1.37-1.37c-.4-.4-.92-.59-1.43-.59-.52 0-1.04.2-1.43.59L10.3 9.45l-7.72 7.72c-.78.78-.78 2.05 0 2.83L4 21.41c.39.39.9.59 1.41.59.51 0 1.02-.2 1.41-.59l7.78-7.78 2.81-2.81c.8-.78.8-2.07 0-2.86zM5.41 20L4 18.59l7.72-7.72 1.47 1.35L5.41 20z\"/>\n",
              "  </svg>\n",
              "      </button>\n",
              "      \n",
              "  <style>\n",
              "    .colab-df-container {\n",
              "      display:flex;\n",
              "      flex-wrap:wrap;\n",
              "      gap: 12px;\n",
              "    }\n",
              "\n",
              "    .colab-df-convert {\n",
              "      background-color: #E8F0FE;\n",
              "      border: none;\n",
              "      border-radius: 50%;\n",
              "      cursor: pointer;\n",
              "      display: none;\n",
              "      fill: #1967D2;\n",
              "      height: 32px;\n",
              "      padding: 0 0 0 0;\n",
              "      width: 32px;\n",
              "    }\n",
              "\n",
              "    .colab-df-convert:hover {\n",
              "      background-color: #E2EBFA;\n",
              "      box-shadow: 0px 1px 2px rgba(60, 64, 67, 0.3), 0px 1px 3px 1px rgba(60, 64, 67, 0.15);\n",
              "      fill: #174EA6;\n",
              "    }\n",
              "\n",
              "    [theme=dark] .colab-df-convert {\n",
              "      background-color: #3B4455;\n",
              "      fill: #D2E3FC;\n",
              "    }\n",
              "\n",
              "    [theme=dark] .colab-df-convert:hover {\n",
              "      background-color: #434B5C;\n",
              "      box-shadow: 0px 1px 3px 1px rgba(0, 0, 0, 0.15);\n",
              "      filter: drop-shadow(0px 1px 2px rgba(0, 0, 0, 0.3));\n",
              "      fill: #FFFFFF;\n",
              "    }\n",
              "  </style>\n",
              "\n",
              "      <script>\n",
              "        const buttonEl =\n",
              "          document.querySelector('#df-5c7d9b5a-1a84-458e-b5bd-fd9aeb6ce134 button.colab-df-convert');\n",
              "        buttonEl.style.display =\n",
              "          google.colab.kernel.accessAllowed ? 'block' : 'none';\n",
              "\n",
              "        async function convertToInteractive(key) {\n",
              "          const element = document.querySelector('#df-5c7d9b5a-1a84-458e-b5bd-fd9aeb6ce134');\n",
              "          const dataTable =\n",
              "            await google.colab.kernel.invokeFunction('convertToInteractive',\n",
              "                                                     [key], {});\n",
              "          if (!dataTable) return;\n",
              "\n",
              "          const docLinkHtml = 'Like what you see? Visit the ' +\n",
              "            '<a target=\"_blank\" href=https://colab.research.google.com/notebooks/data_table.ipynb>data table notebook</a>'\n",
              "            + ' to learn more about interactive tables.';\n",
              "          element.innerHTML = '';\n",
              "          dataTable['output_type'] = 'display_data';\n",
              "          await google.colab.output.renderOutput(dataTable, element);\n",
              "          const docLink = document.createElement('div');\n",
              "          docLink.innerHTML = docLinkHtml;\n",
              "          element.appendChild(docLink);\n",
              "        }\n",
              "      </script>\n",
              "    </div>\n",
              "  </div>\n",
              "  "
            ]
          },
          "metadata": {},
          "execution_count": 9
        }
      ],
      "source": [
        "train_data = pd.DataFrame({'text': X_train, 'label': y_train})\n",
        "train_data"
      ]
    },
    {
      "cell_type": "code",
      "execution_count": null,
      "metadata": {
        "id": "ppXduhD3Okz8",
        "colab": {
          "base_uri": "https://localhost:8080/",
          "height": 423
        },
        "outputId": "eb2e6f7b-aba6-49ab-8ced-0a19f51e6512"
      },
      "outputs": [
        {
          "output_type": "execute_result",
          "data": {
            "text/plain": [
              "                                                  text  label\n",
              "0    My cheeks and nose are covered with red sores....      1\n",
              "1    My vision is blurry, and it feels like it's ge...      0\n",
              "2    I have noticed a sudden peeling of skin at dif...      1\n",
              "3    I've been suffering from severe constipation l...      0\n",
              "4    The sores around my nose are now surrounded by...      1\n",
              "..                                                 ...    ...\n",
              "226  I have been feeling nauseous and have a consta...      0\n",
              "227  I have a sour acidic taste in my mouth. I have...      0\n",
              "228  I routinely experience heartburn and indigesti...      0\n",
              "229  The veins on my calves have become very promin...      0\n",
              "230  Hello, Mom and Father Recently, I've felt incr...      0\n",
              "\n",
              "[231 rows x 2 columns]"
            ],
            "text/html": [
              "\n",
              "  <div id=\"df-ed6d79a6-3ae5-4ca1-9b5b-c9bf8224d565\">\n",
              "    <div class=\"colab-df-container\">\n",
              "      <div>\n",
              "<style scoped>\n",
              "    .dataframe tbody tr th:only-of-type {\n",
              "        vertical-align: middle;\n",
              "    }\n",
              "\n",
              "    .dataframe tbody tr th {\n",
              "        vertical-align: top;\n",
              "    }\n",
              "\n",
              "    .dataframe thead th {\n",
              "        text-align: right;\n",
              "    }\n",
              "</style>\n",
              "<table border=\"1\" class=\"dataframe\">\n",
              "  <thead>\n",
              "    <tr style=\"text-align: right;\">\n",
              "      <th></th>\n",
              "      <th>text</th>\n",
              "      <th>label</th>\n",
              "    </tr>\n",
              "  </thead>\n",
              "  <tbody>\n",
              "    <tr>\n",
              "      <th>0</th>\n",
              "      <td>My cheeks and nose are covered with red sores....</td>\n",
              "      <td>1</td>\n",
              "    </tr>\n",
              "    <tr>\n",
              "      <th>1</th>\n",
              "      <td>My vision is blurry, and it feels like it's ge...</td>\n",
              "      <td>0</td>\n",
              "    </tr>\n",
              "    <tr>\n",
              "      <th>2</th>\n",
              "      <td>I have noticed a sudden peeling of skin at dif...</td>\n",
              "      <td>1</td>\n",
              "    </tr>\n",
              "    <tr>\n",
              "      <th>3</th>\n",
              "      <td>I've been suffering from severe constipation l...</td>\n",
              "      <td>0</td>\n",
              "    </tr>\n",
              "    <tr>\n",
              "      <th>4</th>\n",
              "      <td>The sores around my nose are now surrounded by...</td>\n",
              "      <td>1</td>\n",
              "    </tr>\n",
              "    <tr>\n",
              "      <th>...</th>\n",
              "      <td>...</td>\n",
              "      <td>...</td>\n",
              "    </tr>\n",
              "    <tr>\n",
              "      <th>226</th>\n",
              "      <td>I have been feeling nauseous and have a consta...</td>\n",
              "      <td>0</td>\n",
              "    </tr>\n",
              "    <tr>\n",
              "      <th>227</th>\n",
              "      <td>I have a sour acidic taste in my mouth. I have...</td>\n",
              "      <td>0</td>\n",
              "    </tr>\n",
              "    <tr>\n",
              "      <th>228</th>\n",
              "      <td>I routinely experience heartburn and indigesti...</td>\n",
              "      <td>0</td>\n",
              "    </tr>\n",
              "    <tr>\n",
              "      <th>229</th>\n",
              "      <td>The veins on my calves have become very promin...</td>\n",
              "      <td>0</td>\n",
              "    </tr>\n",
              "    <tr>\n",
              "      <th>230</th>\n",
              "      <td>Hello, Mom and Father Recently, I've felt incr...</td>\n",
              "      <td>0</td>\n",
              "    </tr>\n",
              "  </tbody>\n",
              "</table>\n",
              "<p>231 rows × 2 columns</p>\n",
              "</div>\n",
              "      <button class=\"colab-df-convert\" onclick=\"convertToInteractive('df-ed6d79a6-3ae5-4ca1-9b5b-c9bf8224d565')\"\n",
              "              title=\"Convert this dataframe to an interactive table.\"\n",
              "              style=\"display:none;\">\n",
              "        \n",
              "  <svg xmlns=\"http://www.w3.org/2000/svg\" height=\"24px\"viewBox=\"0 0 24 24\"\n",
              "       width=\"24px\">\n",
              "    <path d=\"M0 0h24v24H0V0z\" fill=\"none\"/>\n",
              "    <path d=\"M18.56 5.44l.94 2.06.94-2.06 2.06-.94-2.06-.94-.94-2.06-.94 2.06-2.06.94zm-11 1L8.5 8.5l.94-2.06 2.06-.94-2.06-.94L8.5 2.5l-.94 2.06-2.06.94zm10 10l.94 2.06.94-2.06 2.06-.94-2.06-.94-.94-2.06-.94 2.06-2.06.94z\"/><path d=\"M17.41 7.96l-1.37-1.37c-.4-.4-.92-.59-1.43-.59-.52 0-1.04.2-1.43.59L10.3 9.45l-7.72 7.72c-.78.78-.78 2.05 0 2.83L4 21.41c.39.39.9.59 1.41.59.51 0 1.02-.2 1.41-.59l7.78-7.78 2.81-2.81c.8-.78.8-2.07 0-2.86zM5.41 20L4 18.59l7.72-7.72 1.47 1.35L5.41 20z\"/>\n",
              "  </svg>\n",
              "      </button>\n",
              "      \n",
              "  <style>\n",
              "    .colab-df-container {\n",
              "      display:flex;\n",
              "      flex-wrap:wrap;\n",
              "      gap: 12px;\n",
              "    }\n",
              "\n",
              "    .colab-df-convert {\n",
              "      background-color: #E8F0FE;\n",
              "      border: none;\n",
              "      border-radius: 50%;\n",
              "      cursor: pointer;\n",
              "      display: none;\n",
              "      fill: #1967D2;\n",
              "      height: 32px;\n",
              "      padding: 0 0 0 0;\n",
              "      width: 32px;\n",
              "    }\n",
              "\n",
              "    .colab-df-convert:hover {\n",
              "      background-color: #E2EBFA;\n",
              "      box-shadow: 0px 1px 2px rgba(60, 64, 67, 0.3), 0px 1px 3px 1px rgba(60, 64, 67, 0.15);\n",
              "      fill: #174EA6;\n",
              "    }\n",
              "\n",
              "    [theme=dark] .colab-df-convert {\n",
              "      background-color: #3B4455;\n",
              "      fill: #D2E3FC;\n",
              "    }\n",
              "\n",
              "    [theme=dark] .colab-df-convert:hover {\n",
              "      background-color: #434B5C;\n",
              "      box-shadow: 0px 1px 3px 1px rgba(0, 0, 0, 0.15);\n",
              "      filter: drop-shadow(0px 1px 2px rgba(0, 0, 0, 0.3));\n",
              "      fill: #FFFFFF;\n",
              "    }\n",
              "  </style>\n",
              "\n",
              "      <script>\n",
              "        const buttonEl =\n",
              "          document.querySelector('#df-ed6d79a6-3ae5-4ca1-9b5b-c9bf8224d565 button.colab-df-convert');\n",
              "        buttonEl.style.display =\n",
              "          google.colab.kernel.accessAllowed ? 'block' : 'none';\n",
              "\n",
              "        async function convertToInteractive(key) {\n",
              "          const element = document.querySelector('#df-ed6d79a6-3ae5-4ca1-9b5b-c9bf8224d565');\n",
              "          const dataTable =\n",
              "            await google.colab.kernel.invokeFunction('convertToInteractive',\n",
              "                                                     [key], {});\n",
              "          if (!dataTable) return;\n",
              "\n",
              "          const docLinkHtml = 'Like what you see? Visit the ' +\n",
              "            '<a target=\"_blank\" href=https://colab.research.google.com/notebooks/data_table.ipynb>data table notebook</a>'\n",
              "            + ' to learn more about interactive tables.';\n",
              "          element.innerHTML = '';\n",
              "          dataTable['output_type'] = 'display_data';\n",
              "          await google.colab.output.renderOutput(dataTable, element);\n",
              "          const docLink = document.createElement('div');\n",
              "          docLink.innerHTML = docLinkHtml;\n",
              "          element.appendChild(docLink);\n",
              "        }\n",
              "      </script>\n",
              "    </div>\n",
              "  </div>\n",
              "  "
            ]
          },
          "metadata": {},
          "execution_count": 10
        }
      ],
      "source": [
        "test_data = pd.DataFrame({'text': X_test, 'label': y_test})\n",
        "test_data"
      ]
    },
    {
      "cell_type": "markdown",
      "metadata": {
        "id": "OiEsQgky_HtA"
      },
      "source": [
        "# Text Preprocessing "
      ]
    },
    {
      "cell_type": "code",
      "execution_count": null,
      "metadata": {
        "id": "gBlxYHn9_C_e"
      },
      "outputs": [],
      "source": [
        "import requests\n",
        "stopwords_list = requests.get(\"https://github.com/stopwords-iso/stopwords-en/blob/master/stopwords-en.txt\").content\n",
        "stopwords = set(stopwords_list.decode().splitlines())"
      ]
    },
    {
      "cell_type": "code",
      "execution_count": null,
      "metadata": {
        "id": "trlE3rdD_Lr7"
      },
      "outputs": [],
      "source": [
        "import string\n",
        "from nltk.corpus import stopwords\n",
        "from sklearn.feature_extraction.text import ENGLISH_STOP_WORDS\n",
        "sklearn_stopwords = ENGLISH_STOP_WORDS\n",
        "\n",
        "stop_words = set(stopwords.words('english'))\n",
        "stop_words.update(sklearn_stopwords)\n",
        "\n",
        "def text_preprocessing(raw_text):\n",
        "  text_words = raw_text.translate(str.maketrans('', '', string.punctuation))\n",
        "  msg_tokens = word_tokenize(text_words.lower())\n",
        "  filtered_text = [token for token in msg_tokens if not token in stop_words]\n",
        "  return \" \".join(filtered_text)"
      ]
    },
    {
      "cell_type": "code",
      "execution_count": null,
      "metadata": {
        "colab": {
          "base_uri": "https://localhost:8080/",
          "height": 423
        },
        "id": "bnTrzKDQALIB",
        "outputId": "fad9576b-09e3-4b66-ccc1-054975eba69c"
      },
      "outputs": [
        {
          "output_type": "execute_result",
          "data": {
            "text/plain": [
              "                                                  text  label\n",
              "0    quite queasy dizzy temperature brain completel...      0\n",
              "1    ive experiencing muscular weakness stiffness n...      0\n",
              "2    week rash face gotten severe painful sores beg...      1\n",
              "3    frequent need urinate uncontrollable urges fee...      0\n",
              "4    feeling quite weak im lot stomach discomfort c...      0\n",
              "..                                                 ...    ...\n",
              "917  skin starts flake rashes im prone sick result ...      0\n",
              "918  skin horrible rash absolutely nonheritable bla...      1\n",
              "919  occasionally burning upper abdomen day night h...      0\n",
              "920  lose weight unintentionally challenging acquir...      0\n",
              "921  mouth filled sour acidic flavour burping belch...      0\n",
              "\n",
              "[919 rows x 2 columns]"
            ],
            "text/html": [
              "\n",
              "  <div id=\"df-54f4cea0-b0c8-4ad5-b3c3-1534706462a5\">\n",
              "    <div class=\"colab-df-container\">\n",
              "      <div>\n",
              "<style scoped>\n",
              "    .dataframe tbody tr th:only-of-type {\n",
              "        vertical-align: middle;\n",
              "    }\n",
              "\n",
              "    .dataframe tbody tr th {\n",
              "        vertical-align: top;\n",
              "    }\n",
              "\n",
              "    .dataframe thead th {\n",
              "        text-align: right;\n",
              "    }\n",
              "</style>\n",
              "<table border=\"1\" class=\"dataframe\">\n",
              "  <thead>\n",
              "    <tr style=\"text-align: right;\">\n",
              "      <th></th>\n",
              "      <th>text</th>\n",
              "      <th>label</th>\n",
              "    </tr>\n",
              "  </thead>\n",
              "  <tbody>\n",
              "    <tr>\n",
              "      <th>0</th>\n",
              "      <td>quite queasy dizzy temperature brain completel...</td>\n",
              "      <td>0</td>\n",
              "    </tr>\n",
              "    <tr>\n",
              "      <th>1</th>\n",
              "      <td>ive experiencing muscular weakness stiffness n...</td>\n",
              "      <td>0</td>\n",
              "    </tr>\n",
              "    <tr>\n",
              "      <th>2</th>\n",
              "      <td>week rash face gotten severe painful sores beg...</td>\n",
              "      <td>1</td>\n",
              "    </tr>\n",
              "    <tr>\n",
              "      <th>3</th>\n",
              "      <td>frequent need urinate uncontrollable urges fee...</td>\n",
              "      <td>0</td>\n",
              "    </tr>\n",
              "    <tr>\n",
              "      <th>4</th>\n",
              "      <td>feeling quite weak im lot stomach discomfort c...</td>\n",
              "      <td>0</td>\n",
              "    </tr>\n",
              "    <tr>\n",
              "      <th>...</th>\n",
              "      <td>...</td>\n",
              "      <td>...</td>\n",
              "    </tr>\n",
              "    <tr>\n",
              "      <th>917</th>\n",
              "      <td>skin starts flake rashes im prone sick result ...</td>\n",
              "      <td>0</td>\n",
              "    </tr>\n",
              "    <tr>\n",
              "      <th>918</th>\n",
              "      <td>skin horrible rash absolutely nonheritable bla...</td>\n",
              "      <td>1</td>\n",
              "    </tr>\n",
              "    <tr>\n",
              "      <th>919</th>\n",
              "      <td>occasionally burning upper abdomen day night h...</td>\n",
              "      <td>0</td>\n",
              "    </tr>\n",
              "    <tr>\n",
              "      <th>920</th>\n",
              "      <td>lose weight unintentionally challenging acquir...</td>\n",
              "      <td>0</td>\n",
              "    </tr>\n",
              "    <tr>\n",
              "      <th>921</th>\n",
              "      <td>mouth filled sour acidic flavour burping belch...</td>\n",
              "      <td>0</td>\n",
              "    </tr>\n",
              "  </tbody>\n",
              "</table>\n",
              "<p>919 rows × 2 columns</p>\n",
              "</div>\n",
              "      <button class=\"colab-df-convert\" onclick=\"convertToInteractive('df-54f4cea0-b0c8-4ad5-b3c3-1534706462a5')\"\n",
              "              title=\"Convert this dataframe to an interactive table.\"\n",
              "              style=\"display:none;\">\n",
              "        \n",
              "  <svg xmlns=\"http://www.w3.org/2000/svg\" height=\"24px\"viewBox=\"0 0 24 24\"\n",
              "       width=\"24px\">\n",
              "    <path d=\"M0 0h24v24H0V0z\" fill=\"none\"/>\n",
              "    <path d=\"M18.56 5.44l.94 2.06.94-2.06 2.06-.94-2.06-.94-.94-2.06-.94 2.06-2.06.94zm-11 1L8.5 8.5l.94-2.06 2.06-.94-2.06-.94L8.5 2.5l-.94 2.06-2.06.94zm10 10l.94 2.06.94-2.06 2.06-.94-2.06-.94-.94-2.06-.94 2.06-2.06.94z\"/><path d=\"M17.41 7.96l-1.37-1.37c-.4-.4-.92-.59-1.43-.59-.52 0-1.04.2-1.43.59L10.3 9.45l-7.72 7.72c-.78.78-.78 2.05 0 2.83L4 21.41c.39.39.9.59 1.41.59.51 0 1.02-.2 1.41-.59l7.78-7.78 2.81-2.81c.8-.78.8-2.07 0-2.86zM5.41 20L4 18.59l7.72-7.72 1.47 1.35L5.41 20z\"/>\n",
              "  </svg>\n",
              "      </button>\n",
              "      \n",
              "  <style>\n",
              "    .colab-df-container {\n",
              "      display:flex;\n",
              "      flex-wrap:wrap;\n",
              "      gap: 12px;\n",
              "    }\n",
              "\n",
              "    .colab-df-convert {\n",
              "      background-color: #E8F0FE;\n",
              "      border: none;\n",
              "      border-radius: 50%;\n",
              "      cursor: pointer;\n",
              "      display: none;\n",
              "      fill: #1967D2;\n",
              "      height: 32px;\n",
              "      padding: 0 0 0 0;\n",
              "      width: 32px;\n",
              "    }\n",
              "\n",
              "    .colab-df-convert:hover {\n",
              "      background-color: #E2EBFA;\n",
              "      box-shadow: 0px 1px 2px rgba(60, 64, 67, 0.3), 0px 1px 3px 1px rgba(60, 64, 67, 0.15);\n",
              "      fill: #174EA6;\n",
              "    }\n",
              "\n",
              "    [theme=dark] .colab-df-convert {\n",
              "      background-color: #3B4455;\n",
              "      fill: #D2E3FC;\n",
              "    }\n",
              "\n",
              "    [theme=dark] .colab-df-convert:hover {\n",
              "      background-color: #434B5C;\n",
              "      box-shadow: 0px 1px 3px 1px rgba(0, 0, 0, 0.15);\n",
              "      filter: drop-shadow(0px 1px 2px rgba(0, 0, 0, 0.3));\n",
              "      fill: #FFFFFF;\n",
              "    }\n",
              "  </style>\n",
              "\n",
              "      <script>\n",
              "        const buttonEl =\n",
              "          document.querySelector('#df-54f4cea0-b0c8-4ad5-b3c3-1534706462a5 button.colab-df-convert');\n",
              "        buttonEl.style.display =\n",
              "          google.colab.kernel.accessAllowed ? 'block' : 'none';\n",
              "\n",
              "        async function convertToInteractive(key) {\n",
              "          const element = document.querySelector('#df-54f4cea0-b0c8-4ad5-b3c3-1534706462a5');\n",
              "          const dataTable =\n",
              "            await google.colab.kernel.invokeFunction('convertToInteractive',\n",
              "                                                     [key], {});\n",
              "          if (!dataTable) return;\n",
              "\n",
              "          const docLinkHtml = 'Like what you see? Visit the ' +\n",
              "            '<a target=\"_blank\" href=https://colab.research.google.com/notebooks/data_table.ipynb>data table notebook</a>'\n",
              "            + ' to learn more about interactive tables.';\n",
              "          element.innerHTML = '';\n",
              "          dataTable['output_type'] = 'display_data';\n",
              "          await google.colab.output.renderOutput(dataTable, element);\n",
              "          const docLink = document.createElement('div');\n",
              "          docLink.innerHTML = docLinkHtml;\n",
              "          element.appendChild(docLink);\n",
              "        }\n",
              "      </script>\n",
              "    </div>\n",
              "  </div>\n",
              "  "
            ]
          },
          "metadata": {},
          "execution_count": 13
        }
      ],
      "source": [
        "train_data = train_data[['text', 'label']].copy()\n",
        "\n",
        "train_data['text'] = train_data['text'].apply(text_preprocessing)\n",
        "\n",
        "train_data.drop_duplicates(inplace=True)\n",
        "\n",
        "train_data"
      ]
    },
    {
      "cell_type": "code",
      "execution_count": null,
      "metadata": {
        "colab": {
          "base_uri": "https://localhost:8080/",
          "height": 423
        },
        "id": "21_qKNngOiqe",
        "outputId": "f461ab77-c16c-411b-8d96-33aa4681dd84"
      },
      "outputs": [
        {
          "output_type": "execute_result",
          "data": {
            "text/plain": [
              "                                                  text  label\n",
              "0    cheeks nose covered red sores ive observed ras...      1\n",
              "1    vision blurry feels like getting worse time fe...      0\n",
              "2    noticed sudden peeling skin different parts bo...      1\n",
              "3    ive suffering severe constipation lately restr...      0\n",
              "4    sores nose surrounded red inflamed skin rash c...      1\n",
              "..                                                 ...    ...\n",
              "226  feeling nauseous constant urge vomit strong pa...      0\n",
              "227  sour acidic taste mouth frequent belching burp...      0\n",
              "228  routinely experience heartburn indigestion par...      0\n",
              "229  veins calves prominent causing discomfort stan...      0\n",
              "230  hello mom father recently ive felt incredibly ...      0\n",
              "\n",
              "[231 rows x 2 columns]"
            ],
            "text/html": [
              "\n",
              "  <div id=\"df-dd2d22ef-94f7-442b-8e28-876cce9b6aed\">\n",
              "    <div class=\"colab-df-container\">\n",
              "      <div>\n",
              "<style scoped>\n",
              "    .dataframe tbody tr th:only-of-type {\n",
              "        vertical-align: middle;\n",
              "    }\n",
              "\n",
              "    .dataframe tbody tr th {\n",
              "        vertical-align: top;\n",
              "    }\n",
              "\n",
              "    .dataframe thead th {\n",
              "        text-align: right;\n",
              "    }\n",
              "</style>\n",
              "<table border=\"1\" class=\"dataframe\">\n",
              "  <thead>\n",
              "    <tr style=\"text-align: right;\">\n",
              "      <th></th>\n",
              "      <th>text</th>\n",
              "      <th>label</th>\n",
              "    </tr>\n",
              "  </thead>\n",
              "  <tbody>\n",
              "    <tr>\n",
              "      <th>0</th>\n",
              "      <td>cheeks nose covered red sores ive observed ras...</td>\n",
              "      <td>1</td>\n",
              "    </tr>\n",
              "    <tr>\n",
              "      <th>1</th>\n",
              "      <td>vision blurry feels like getting worse time fe...</td>\n",
              "      <td>0</td>\n",
              "    </tr>\n",
              "    <tr>\n",
              "      <th>2</th>\n",
              "      <td>noticed sudden peeling skin different parts bo...</td>\n",
              "      <td>1</td>\n",
              "    </tr>\n",
              "    <tr>\n",
              "      <th>3</th>\n",
              "      <td>ive suffering severe constipation lately restr...</td>\n",
              "      <td>0</td>\n",
              "    </tr>\n",
              "    <tr>\n",
              "      <th>4</th>\n",
              "      <td>sores nose surrounded red inflamed skin rash c...</td>\n",
              "      <td>1</td>\n",
              "    </tr>\n",
              "    <tr>\n",
              "      <th>...</th>\n",
              "      <td>...</td>\n",
              "      <td>...</td>\n",
              "    </tr>\n",
              "    <tr>\n",
              "      <th>226</th>\n",
              "      <td>feeling nauseous constant urge vomit strong pa...</td>\n",
              "      <td>0</td>\n",
              "    </tr>\n",
              "    <tr>\n",
              "      <th>227</th>\n",
              "      <td>sour acidic taste mouth frequent belching burp...</td>\n",
              "      <td>0</td>\n",
              "    </tr>\n",
              "    <tr>\n",
              "      <th>228</th>\n",
              "      <td>routinely experience heartburn indigestion par...</td>\n",
              "      <td>0</td>\n",
              "    </tr>\n",
              "    <tr>\n",
              "      <th>229</th>\n",
              "      <td>veins calves prominent causing discomfort stan...</td>\n",
              "      <td>0</td>\n",
              "    </tr>\n",
              "    <tr>\n",
              "      <th>230</th>\n",
              "      <td>hello mom father recently ive felt incredibly ...</td>\n",
              "      <td>0</td>\n",
              "    </tr>\n",
              "  </tbody>\n",
              "</table>\n",
              "<p>231 rows × 2 columns</p>\n",
              "</div>\n",
              "      <button class=\"colab-df-convert\" onclick=\"convertToInteractive('df-dd2d22ef-94f7-442b-8e28-876cce9b6aed')\"\n",
              "              title=\"Convert this dataframe to an interactive table.\"\n",
              "              style=\"display:none;\">\n",
              "        \n",
              "  <svg xmlns=\"http://www.w3.org/2000/svg\" height=\"24px\"viewBox=\"0 0 24 24\"\n",
              "       width=\"24px\">\n",
              "    <path d=\"M0 0h24v24H0V0z\" fill=\"none\"/>\n",
              "    <path d=\"M18.56 5.44l.94 2.06.94-2.06 2.06-.94-2.06-.94-.94-2.06-.94 2.06-2.06.94zm-11 1L8.5 8.5l.94-2.06 2.06-.94-2.06-.94L8.5 2.5l-.94 2.06-2.06.94zm10 10l.94 2.06.94-2.06 2.06-.94-2.06-.94-.94-2.06-.94 2.06-2.06.94z\"/><path d=\"M17.41 7.96l-1.37-1.37c-.4-.4-.92-.59-1.43-.59-.52 0-1.04.2-1.43.59L10.3 9.45l-7.72 7.72c-.78.78-.78 2.05 0 2.83L4 21.41c.39.39.9.59 1.41.59.51 0 1.02-.2 1.41-.59l7.78-7.78 2.81-2.81c.8-.78.8-2.07 0-2.86zM5.41 20L4 18.59l7.72-7.72 1.47 1.35L5.41 20z\"/>\n",
              "  </svg>\n",
              "      </button>\n",
              "      \n",
              "  <style>\n",
              "    .colab-df-container {\n",
              "      display:flex;\n",
              "      flex-wrap:wrap;\n",
              "      gap: 12px;\n",
              "    }\n",
              "\n",
              "    .colab-df-convert {\n",
              "      background-color: #E8F0FE;\n",
              "      border: none;\n",
              "      border-radius: 50%;\n",
              "      cursor: pointer;\n",
              "      display: none;\n",
              "      fill: #1967D2;\n",
              "      height: 32px;\n",
              "      padding: 0 0 0 0;\n",
              "      width: 32px;\n",
              "    }\n",
              "\n",
              "    .colab-df-convert:hover {\n",
              "      background-color: #E2EBFA;\n",
              "      box-shadow: 0px 1px 2px rgba(60, 64, 67, 0.3), 0px 1px 3px 1px rgba(60, 64, 67, 0.15);\n",
              "      fill: #174EA6;\n",
              "    }\n",
              "\n",
              "    [theme=dark] .colab-df-convert {\n",
              "      background-color: #3B4455;\n",
              "      fill: #D2E3FC;\n",
              "    }\n",
              "\n",
              "    [theme=dark] .colab-df-convert:hover {\n",
              "      background-color: #434B5C;\n",
              "      box-shadow: 0px 1px 3px 1px rgba(0, 0, 0, 0.15);\n",
              "      filter: drop-shadow(0px 1px 2px rgba(0, 0, 0, 0.3));\n",
              "      fill: #FFFFFF;\n",
              "    }\n",
              "  </style>\n",
              "\n",
              "      <script>\n",
              "        const buttonEl =\n",
              "          document.querySelector('#df-dd2d22ef-94f7-442b-8e28-876cce9b6aed button.colab-df-convert');\n",
              "        buttonEl.style.display =\n",
              "          google.colab.kernel.accessAllowed ? 'block' : 'none';\n",
              "\n",
              "        async function convertToInteractive(key) {\n",
              "          const element = document.querySelector('#df-dd2d22ef-94f7-442b-8e28-876cce9b6aed');\n",
              "          const dataTable =\n",
              "            await google.colab.kernel.invokeFunction('convertToInteractive',\n",
              "                                                     [key], {});\n",
              "          if (!dataTable) return;\n",
              "\n",
              "          const docLinkHtml = 'Like what you see? Visit the ' +\n",
              "            '<a target=\"_blank\" href=https://colab.research.google.com/notebooks/data_table.ipynb>data table notebook</a>'\n",
              "            + ' to learn more about interactive tables.';\n",
              "          element.innerHTML = '';\n",
              "          dataTable['output_type'] = 'display_data';\n",
              "          await google.colab.output.renderOutput(dataTable, element);\n",
              "          const docLink = document.createElement('div');\n",
              "          docLink.innerHTML = docLinkHtml;\n",
              "          element.appendChild(docLink);\n",
              "        }\n",
              "      </script>\n",
              "    </div>\n",
              "  </div>\n",
              "  "
            ]
          },
          "metadata": {},
          "execution_count": 14
        }
      ],
      "source": [
        "test_data = test_data[['text', 'label']].copy()\n",
        "\n",
        "test_data['text'] = test_data['text'].apply(text_preprocessing)\n",
        "\n",
        "test_data.drop_duplicates(inplace=True)\n",
        "\n",
        "test_data"
      ]
    },
    {
      "cell_type": "markdown",
      "metadata": {
        "id": "m-8gEBwNA7PN"
      },
      "source": [
        "# Feature Extraction"
      ]
    },
    {
      "cell_type": "code",
      "execution_count": null,
      "metadata": {
        "colab": {
          "base_uri": "https://localhost:8080/"
        },
        "id": "qhU5I2TaBIUz",
        "outputId": "649a08f5-acd1-4ac0-b171-d857e28ff2b5"
      },
      "outputs": [
        {
          "output_type": "stream",
          "name": "stdout",
          "text": [
            "[==================================================] 100.0% 1662.8/1662.8MB downloaded\n"
          ]
        }
      ],
      "source": [
        "word2vec_model = api.load(\"word2vec-google-news-300\")"
      ]
    },
    {
      "cell_type": "code",
      "execution_count": null,
      "metadata": {
        "id": "XOa6vzkoAhaN"
      },
      "outputs": [],
      "source": [
        "def get_text_vec(sent):\n",
        "  vector = np.mean(np.array([word2vec_model[token] for token in word_tokenize(sent) if token in word2vec_model.key_to_index]), axis=0)\n",
        "  if np.all(np.isnan(vector)) :\n",
        "    return np.zeros(300)\n",
        "  return vector"
      ]
    },
    {
      "cell_type": "code",
      "execution_count": null,
      "metadata": {
        "id": "M-b-fuZXEjnH"
      },
      "outputs": [],
      "source": [
        "X_test = np.stack(np.array([get_text_vec(text) for text in test_data['text'].values]))"
      ]
    },
    {
      "cell_type": "code",
      "execution_count": null,
      "metadata": {
        "colab": {
          "base_uri": "https://localhost:8080/"
        },
        "id": "lDfVSWFzEpwH",
        "outputId": "26076704-601f-4d39-c408-f16494ad47d8"
      },
      "outputs": [
        {
          "output_type": "execute_result",
          "data": {
            "text/plain": [
              "(231, 300)"
            ]
          },
          "metadata": {},
          "execution_count": 21
        }
      ],
      "source": [
        "X_test.shape"
      ]
    },
    {
      "cell_type": "code",
      "execution_count": null,
      "metadata": {
        "id": "NCi6wK0kPACs"
      },
      "outputs": [],
      "source": [
        "y_test = test_data['label'].values"
      ]
    },
    {
      "cell_type": "code",
      "execution_count": null,
      "metadata": {
        "colab": {
          "base_uri": "https://localhost:8080/"
        },
        "id": "0I964n-QPBQE",
        "outputId": "d23ed0b7-53b4-4b0a-e2a0-65b75821de91"
      },
      "outputs": [
        {
          "output_type": "execute_result",
          "data": {
            "text/plain": [
              "(231,)"
            ]
          },
          "metadata": {},
          "execution_count": 23
        }
      ],
      "source": [
        "y_test.shape"
      ]
    },
    {
      "cell_type": "markdown",
      "metadata": {
        "id": "TEqW7eb9BkwW"
      },
      "source": [
        "# Model selection, training and evaluation"
      ]
    },
    {
      "cell_type": "code",
      "execution_count": null,
      "metadata": {
        "id": "OoEtJG3G4qMB"
      },
      "outputs": [],
      "source": [
        "def f_beta_score(y_true, y_pred):\n",
        "  return fbeta_score(y_true, y_pred, beta=2)\n",
        "\n",
        "f2_score = make_scorer(f_beta_score, greater_is_better=True)"
      ]
    },
    {
      "cell_type": "code",
      "execution_count": null,
      "metadata": {
        "id": "JU8v73f74qAG"
      },
      "outputs": [],
      "source": [
        "from datetime import datetime\n",
        "\n",
        "def save_cross_validation(results, file_name):\n",
        "  results_to_save = pd.DataFrame(columns=['Accuracy', 'Recall', 'Precision', 'F1 Score', 'F2 Score'])\n",
        "  for i in range(0, 10):\n",
        "    results_to_save.loc[i] = [\n",
        "      results['split{}_test_Accuracy'.format(i)][0],\n",
        "      results['split{}_test_Recall'.format(i)][0],\n",
        "      results['split{}_test_Precision'.format(i)][0],\n",
        "      results['split{}_test_F1'.format(i)][0],\n",
        "      results['split{}_test_F2'.format(i)][0]\n",
        "    ]\n",
        "  results_to_save.to_csv('{}Results/{}_{}.csv'.format(dir_name+'experiments/Skin Diseases/', file_name, datetime.now().strftime(\"%m%d%H%M\")))"
      ]
    },
    {
      "cell_type": "code",
      "execution_count": null,
      "metadata": {
        "id": "CP817Ht44p0i"
      },
      "outputs": [],
      "source": [
        "def train_model(classifier, param_grid, model_name, train_texts, train_labels, test_texts, test_labels, evaluation_metrics, to_print=True, to_save=False, file_name=None):\n",
        "    \"\"\"\n",
        "    train email classification model.\n",
        "    \"\"\"\n",
        "\n",
        "    # apply grid search to find best model hyper parameters\n",
        "    grid_search = GridSearchCV(classifier, param_grid, cv=10, scoring={'Accuracy': make_scorer(accuracy_score),\n",
        "                                                                       'F1': make_scorer(f1_score),\n",
        "                                                                       'F2': f2_score,\n",
        "                                                                       'Recall': make_scorer(recall_score),\n",
        "                                                                       'Precision': make_scorer(precision_score)\n",
        "                                                                       }, refit='F1', n_jobs=-1)\n",
        "    grid_search.fit(train_texts, train_labels)\n",
        "    model = grid_search.best_estimator_\n",
        "\n",
        "    if to_save:\n",
        "      ConfusionMatrixDisplay(save_cross_validation(grid_search.cv_results_, file_name))\n",
        "      plt.show()\n",
        "\n",
        "    # train and test accuracy.\n",
        "    test_accuracy = model.score(test_texts, test_labels)\n",
        "    train_accuracy = model.score(train_texts, train_labels)\n",
        "\n",
        "    # compute F1 score for model evaluation.\n",
        "    y_pred = model.predict(test_texts)\n",
        "\n",
        "    recall = recall_score(test_labels, y_pred)\n",
        "    precision = precision_score(test_labels, y_pred)\n",
        "    f1score = f1_score(test_labels, y_pred)\n",
        "    f2score = fbeta_score(y_test, y_pred, beta=2)\n",
        "\n",
        "    if to_print:\n",
        "        print(\"train accuracy = \" + str(train_accuracy))\n",
        "        print(\"test accuracy = \" + str(test_accuracy))\n",
        "        print(\"Recall = {}\".format(recall))\n",
        "        print(\"Precision = {}\".format(precision))\n",
        "        print(\"F1 score = {}\".format(f1score))\n",
        "        print(\"F2 score = {}\".format(f2score))\n",
        "        print(classification_report(test_labels, y_pred))\n",
        "\n",
        "\n",
        "        # plot confusion matrix\n",
        "        cm = confusion_matrix(test_labels, y_pred)\n",
        "        disp = ConfusionMatrixDisplay(confusion_matrix=cm, display_labels=[0,1])\n",
        "\n",
        "        disp.plot(cmap=plt.cm.Blues)\n",
        "        plt.show()\n",
        "\n",
        "        # print best model hyper parameters.\n",
        "        print(grid_search.best_params_)\n",
        "\n",
        "    evaluation_metrics.loc[model_name, 'Recall'] = recall\n",
        "    evaluation_metrics.loc[model_name, 'Precision'] = precision\n",
        "    evaluation_metrics.loc[model_name, 'F1 score'] = f1score\n",
        "    evaluation_metrics.loc[model_name, 'F2 score'] = f2score\n",
        "\n",
        "    return f1score, f2score\n",
        "\n",
        "\n",
        "def train(model_id, train_texts, train_labels, test_texts, test_labels, evaluation_metrics, to_print=True, to_save=False, file_name=None):\n",
        "    \n",
        "    if model_id == 1:\n",
        "        # Random forest Classification model.\n",
        "        forest_clf = RandomForestClassifier(random_state=42, n_jobs=-1)\n",
        "        forest_param_grid = [{'n_estimators': [50, 75, 100, 150, 200], 'max_features': [8, 9, 10], 'min_samples_split': [25, 30], 'criterion': ['gini','entropy'], 'max_depth': [4, 5]}]\n",
        "        return train_model(forest_clf, forest_param_grid, 'RandomForest', train_texts, train_labels, test_texts, test_labels, evaluation_metrics, to_print, to_save, file_name)\n",
        "\n",
        "    if model_id == 2:\n",
        "        # Support Vector Machine Model.\n",
        "        svc_clf = SVC(random_state=42)\n",
        "        svc_param_grid = [{'kernel': ['rbf', 'poly'], 'degree': [2, 3 , 4, 5, 6, 7]}]\n",
        "\n",
        "        return train_model(svc_clf, svc_param_grid, 'SVM', train_texts, train_labels, test_texts, test_labels, evaluation_metrics, to_print, to_save, file_name)"
      ]
    },
    {
      "cell_type": "markdown",
      "source": [
        "#Text Aug."
      ],
      "metadata": {
        "id": "rZZz-jTuKrPk"
      }
    },
    {
      "cell_type": "code",
      "source": [
        "!pip install nlpaug"
      ],
      "metadata": {
        "id": "ecqTIbsYKs7x",
        "colab": {
          "base_uri": "https://localhost:8080/"
        },
        "outputId": "11c9792f-b935-49de-bd37-cf2cfe420a48"
      },
      "execution_count": null,
      "outputs": [
        {
          "output_type": "stream",
          "name": "stdout",
          "text": [
            "Looking in indexes: https://pypi.org/simple, https://us-python.pkg.dev/colab-wheels/public/simple/\n",
            "Collecting nlpaug\n",
            "  Downloading nlpaug-1.1.11-py3-none-any.whl (410 kB)\n",
            "\u001b[2K     \u001b[90m━━━━━━━━━━━━━━━━━━━━━━━━━━━━━━━━━━━━━━\u001b[0m \u001b[32m410.5/410.5 kB\u001b[0m \u001b[31m25.4 MB/s\u001b[0m eta \u001b[36m0:00:00\u001b[0m\n",
            "\u001b[?25hRequirement already satisfied: numpy>=1.16.2 in /usr/local/lib/python3.10/dist-packages (from nlpaug) (1.22.4)\n",
            "Requirement already satisfied: pandas>=1.2.0 in /usr/local/lib/python3.10/dist-packages (from nlpaug) (1.5.3)\n",
            "Requirement already satisfied: requests>=2.22.0 in /usr/local/lib/python3.10/dist-packages (from nlpaug) (2.27.1)\n",
            "Requirement already satisfied: gdown>=4.0.0 in /usr/local/lib/python3.10/dist-packages (from nlpaug) (4.6.6)\n",
            "Requirement already satisfied: filelock in /usr/local/lib/python3.10/dist-packages (from gdown>=4.0.0->nlpaug) (3.12.0)\n",
            "Requirement already satisfied: six in /usr/local/lib/python3.10/dist-packages (from gdown>=4.0.0->nlpaug) (1.16.0)\n",
            "Requirement already satisfied: tqdm in /usr/local/lib/python3.10/dist-packages (from gdown>=4.0.0->nlpaug) (4.65.0)\n",
            "Requirement already satisfied: beautifulsoup4 in /usr/local/lib/python3.10/dist-packages (from gdown>=4.0.0->nlpaug) (4.11.2)\n",
            "Requirement already satisfied: python-dateutil>=2.8.1 in /usr/local/lib/python3.10/dist-packages (from pandas>=1.2.0->nlpaug) (2.8.2)\n",
            "Requirement already satisfied: pytz>=2020.1 in /usr/local/lib/python3.10/dist-packages (from pandas>=1.2.0->nlpaug) (2022.7.1)\n",
            "Requirement already satisfied: urllib3<1.27,>=1.21.1 in /usr/local/lib/python3.10/dist-packages (from requests>=2.22.0->nlpaug) (1.26.15)\n",
            "Requirement already satisfied: certifi>=2017.4.17 in /usr/local/lib/python3.10/dist-packages (from requests>=2.22.0->nlpaug) (2022.12.7)\n",
            "Requirement already satisfied: charset-normalizer~=2.0.0 in /usr/local/lib/python3.10/dist-packages (from requests>=2.22.0->nlpaug) (2.0.12)\n",
            "Requirement already satisfied: idna<4,>=2.5 in /usr/local/lib/python3.10/dist-packages (from requests>=2.22.0->nlpaug) (3.4)\n",
            "Requirement already satisfied: soupsieve>1.2 in /usr/local/lib/python3.10/dist-packages (from beautifulsoup4->gdown>=4.0.0->nlpaug) (2.4.1)\n",
            "Requirement already satisfied: PySocks!=1.5.7,>=1.5.6 in /usr/local/lib/python3.10/dist-packages (from requests>=2.22.0->nlpaug) (1.7.1)\n",
            "Installing collected packages: nlpaug\n",
            "Successfully installed nlpaug-1.1.11\n"
          ]
        }
      ]
    },
    {
      "cell_type": "code",
      "source": [
        "import nlpaug.augmenter.word as naw\n",
        "augmenter = naw.RandomWordAug(action='delete', stopwords=stop_words)"
      ],
      "metadata": {
        "id": "DetTlHaGKs4p"
      },
      "execution_count": null,
      "outputs": []
    },
    {
      "cell_type": "code",
      "source": [
        "def RD_augmentation(prepro_dataset, lable, sent_num=5):\n",
        "  texts = prepro_dataset.loc[prepro_dataset['label'] == lable]['text'].values\n",
        "  texts_num = len(texts)\n",
        "  new_texts = []\n",
        "  i = 0\n",
        "  \n",
        "  for text in texts:\n",
        "    if i % 20 == 0:\n",
        "      print(f\" {int(100*i/texts_num)} %\")\n",
        "    for j in range(sent_num):\n",
        "      new_texts.append(augmenter.augment(text)[0])\n",
        "    i += 1\n",
        "  augmentations = prepro_dataset[['text', 'label']].copy().append(pd.DataFrame({'label':[lable] * len(new_texts), 'text':new_texts}), ignore_index = True)\n",
        "  augmentations.drop_duplicates(inplace=True)\n",
        "  return augmentations.sample(frac=1)"
      ],
      "metadata": {
        "id": "3q6ypttbK5tM"
      },
      "execution_count": null,
      "outputs": []
    },
    {
      "cell_type": "code",
      "source": [
        "augmented_dataset = RD_augmentation(train_data, lable=1, sent_num=3)"
      ],
      "metadata": {
        "colab": {
          "base_uri": "https://localhost:8080/"
        },
        "id": "QM8ZM50v8rzM",
        "outputId": "3e253a1f-5b5a-4c2e-9f44-5ddc3d3cca73"
      },
      "execution_count": null,
      "outputs": [
        {
          "output_type": "stream",
          "name": "stdout",
          "text": [
            " 0 %\n",
            " 12 %\n",
            " 25 %\n",
            " 38 %\n",
            " 51 %\n",
            " 64 %\n",
            " 77 %\n",
            " 90 %\n"
          ]
        },
        {
          "output_type": "stream",
          "name": "stderr",
          "text": [
            "<ipython-input-17-08314cf5c778>:13: FutureWarning: The frame.append method is deprecated and will be removed from pandas in a future version. Use pandas.concat instead.\n",
            "  augmentations = prepro_dataset[['text', 'label']].copy().append(pd.DataFrame({'label':[lable] * len(new_texts), 'text':new_texts}), ignore_index = True)\n"
          ]
        }
      ]
    },
    {
      "cell_type": "code",
      "source": [
        "augmented_dataset"
      ],
      "metadata": {
        "colab": {
          "base_uri": "https://localhost:8080/",
          "height": 423
        },
        "id": "-4ogeJR0K9hi",
        "outputId": "0b8fde27-acab-4a8d-c56f-2ad1cf9d8c1e"
      },
      "execution_count": null,
      "outputs": [
        {
          "output_type": "execute_result",
          "data": {
            "text/plain": [
              "                                                   text  label\n",
              "141   im feeling really sick uncomfortable like wron...      1\n",
              "304   experiencing symptoms headache chest pain dizz...      0\n",
              "1033  nose crusted touch yellowrust coloured used so...      1\n",
              "1280  develop red spots face area itches touch day u...      1\n",
              "310   im trouble breathing really uncomfortable im s...      0\n",
              "...                                                 ...    ...\n",
              "1001  ive unhealthy filled pusfilled blackheads skin...      1\n",
              "444   neck extremely tight muscles felt quite weak r...      0\n",
              "467   frequent belching burping chest pain radiates ...      0\n",
              "1083  morning extremely body pusfilled pimples black...      1\n",
              "1176  rash lot pain discomfort red swollen spreading...      1\n",
              "\n",
              "[1381 rows x 2 columns]"
            ],
            "text/html": [
              "\n",
              "  <div id=\"df-36657dab-8f05-40e8-8f27-b8ea20f0b6b8\">\n",
              "    <div class=\"colab-df-container\">\n",
              "      <div>\n",
              "<style scoped>\n",
              "    .dataframe tbody tr th:only-of-type {\n",
              "        vertical-align: middle;\n",
              "    }\n",
              "\n",
              "    .dataframe tbody tr th {\n",
              "        vertical-align: top;\n",
              "    }\n",
              "\n",
              "    .dataframe thead th {\n",
              "        text-align: right;\n",
              "    }\n",
              "</style>\n",
              "<table border=\"1\" class=\"dataframe\">\n",
              "  <thead>\n",
              "    <tr style=\"text-align: right;\">\n",
              "      <th></th>\n",
              "      <th>text</th>\n",
              "      <th>label</th>\n",
              "    </tr>\n",
              "  </thead>\n",
              "  <tbody>\n",
              "    <tr>\n",
              "      <th>141</th>\n",
              "      <td>im feeling really sick uncomfortable like wron...</td>\n",
              "      <td>1</td>\n",
              "    </tr>\n",
              "    <tr>\n",
              "      <th>304</th>\n",
              "      <td>experiencing symptoms headache chest pain dizz...</td>\n",
              "      <td>0</td>\n",
              "    </tr>\n",
              "    <tr>\n",
              "      <th>1033</th>\n",
              "      <td>nose crusted touch yellowrust coloured used so...</td>\n",
              "      <td>1</td>\n",
              "    </tr>\n",
              "    <tr>\n",
              "      <th>1280</th>\n",
              "      <td>develop red spots face area itches touch day u...</td>\n",
              "      <td>1</td>\n",
              "    </tr>\n",
              "    <tr>\n",
              "      <th>310</th>\n",
              "      <td>im trouble breathing really uncomfortable im s...</td>\n",
              "      <td>0</td>\n",
              "    </tr>\n",
              "    <tr>\n",
              "      <th>...</th>\n",
              "      <td>...</td>\n",
              "      <td>...</td>\n",
              "    </tr>\n",
              "    <tr>\n",
              "      <th>1001</th>\n",
              "      <td>ive unhealthy filled pusfilled blackheads skin...</td>\n",
              "      <td>1</td>\n",
              "    </tr>\n",
              "    <tr>\n",
              "      <th>444</th>\n",
              "      <td>neck extremely tight muscles felt quite weak r...</td>\n",
              "      <td>0</td>\n",
              "    </tr>\n",
              "    <tr>\n",
              "      <th>467</th>\n",
              "      <td>frequent belching burping chest pain radiates ...</td>\n",
              "      <td>0</td>\n",
              "    </tr>\n",
              "    <tr>\n",
              "      <th>1083</th>\n",
              "      <td>morning extremely body pusfilled pimples black...</td>\n",
              "      <td>1</td>\n",
              "    </tr>\n",
              "    <tr>\n",
              "      <th>1176</th>\n",
              "      <td>rash lot pain discomfort red swollen spreading...</td>\n",
              "      <td>1</td>\n",
              "    </tr>\n",
              "  </tbody>\n",
              "</table>\n",
              "<p>1381 rows × 2 columns</p>\n",
              "</div>\n",
              "      <button class=\"colab-df-convert\" onclick=\"convertToInteractive('df-36657dab-8f05-40e8-8f27-b8ea20f0b6b8')\"\n",
              "              title=\"Convert this dataframe to an interactive table.\"\n",
              "              style=\"display:none;\">\n",
              "        \n",
              "  <svg xmlns=\"http://www.w3.org/2000/svg\" height=\"24px\"viewBox=\"0 0 24 24\"\n",
              "       width=\"24px\">\n",
              "    <path d=\"M0 0h24v24H0V0z\" fill=\"none\"/>\n",
              "    <path d=\"M18.56 5.44l.94 2.06.94-2.06 2.06-.94-2.06-.94-.94-2.06-.94 2.06-2.06.94zm-11 1L8.5 8.5l.94-2.06 2.06-.94-2.06-.94L8.5 2.5l-.94 2.06-2.06.94zm10 10l.94 2.06.94-2.06 2.06-.94-2.06-.94-.94-2.06-.94 2.06-2.06.94z\"/><path d=\"M17.41 7.96l-1.37-1.37c-.4-.4-.92-.59-1.43-.59-.52 0-1.04.2-1.43.59L10.3 9.45l-7.72 7.72c-.78.78-.78 2.05 0 2.83L4 21.41c.39.39.9.59 1.41.59.51 0 1.02-.2 1.41-.59l7.78-7.78 2.81-2.81c.8-.78.8-2.07 0-2.86zM5.41 20L4 18.59l7.72-7.72 1.47 1.35L5.41 20z\"/>\n",
              "  </svg>\n",
              "      </button>\n",
              "      \n",
              "  <style>\n",
              "    .colab-df-container {\n",
              "      display:flex;\n",
              "      flex-wrap:wrap;\n",
              "      gap: 12px;\n",
              "    }\n",
              "\n",
              "    .colab-df-convert {\n",
              "      background-color: #E8F0FE;\n",
              "      border: none;\n",
              "      border-radius: 50%;\n",
              "      cursor: pointer;\n",
              "      display: none;\n",
              "      fill: #1967D2;\n",
              "      height: 32px;\n",
              "      padding: 0 0 0 0;\n",
              "      width: 32px;\n",
              "    }\n",
              "\n",
              "    .colab-df-convert:hover {\n",
              "      background-color: #E2EBFA;\n",
              "      box-shadow: 0px 1px 2px rgba(60, 64, 67, 0.3), 0px 1px 3px 1px rgba(60, 64, 67, 0.15);\n",
              "      fill: #174EA6;\n",
              "    }\n",
              "\n",
              "    [theme=dark] .colab-df-convert {\n",
              "      background-color: #3B4455;\n",
              "      fill: #D2E3FC;\n",
              "    }\n",
              "\n",
              "    [theme=dark] .colab-df-convert:hover {\n",
              "      background-color: #434B5C;\n",
              "      box-shadow: 0px 1px 3px 1px rgba(0, 0, 0, 0.15);\n",
              "      filter: drop-shadow(0px 1px 2px rgba(0, 0, 0, 0.3));\n",
              "      fill: #FFFFFF;\n",
              "    }\n",
              "  </style>\n",
              "\n",
              "      <script>\n",
              "        const buttonEl =\n",
              "          document.querySelector('#df-36657dab-8f05-40e8-8f27-b8ea20f0b6b8 button.colab-df-convert');\n",
              "        buttonEl.style.display =\n",
              "          google.colab.kernel.accessAllowed ? 'block' : 'none';\n",
              "\n",
              "        async function convertToInteractive(key) {\n",
              "          const element = document.querySelector('#df-36657dab-8f05-40e8-8f27-b8ea20f0b6b8');\n",
              "          const dataTable =\n",
              "            await google.colab.kernel.invokeFunction('convertToInteractive',\n",
              "                                                     [key], {});\n",
              "          if (!dataTable) return;\n",
              "\n",
              "          const docLinkHtml = 'Like what you see? Visit the ' +\n",
              "            '<a target=\"_blank\" href=https://colab.research.google.com/notebooks/data_table.ipynb>data table notebook</a>'\n",
              "            + ' to learn more about interactive tables.';\n",
              "          element.innerHTML = '';\n",
              "          dataTable['output_type'] = 'display_data';\n",
              "          await google.colab.output.renderOutput(dataTable, element);\n",
              "          const docLink = document.createElement('div');\n",
              "          docLink.innerHTML = docLinkHtml;\n",
              "          element.appendChild(docLink);\n",
              "        }\n",
              "      </script>\n",
              "    </div>\n",
              "  </div>\n",
              "  "
            ]
          },
          "metadata": {},
          "execution_count": 31
        }
      ]
    },
    {
      "cell_type": "code",
      "source": [
        "get_dataset_statistics(augmented_dataset)"
      ],
      "metadata": {
        "colab": {
          "base_uri": "https://localhost:8080/",
          "height": 499
        },
        "id": "QjT8rk3WK9Wn",
        "outputId": "5e91d96c-d13f-43e0-e262-eae29c08434a"
      },
      "execution_count": null,
      "outputs": [
        {
          "output_type": "display_data",
          "data": {
            "text/plain": [
              "<Figure size 600x600 with 1 Axes>"
            ],
            "image/png": "[encoded data removed]"
          },
          "metadata": {}
        }
      ]
    },
    {
      "cell_type": "code",
      "source": [
        "aug_X_train = np.stack(np.array([get_text_vec(sms_text) for sms_text in augmented_dataset['text'].values]))"
      ],
      "metadata": {
        "id": "jSsxjKDtK_ei"
      },
      "execution_count": null,
      "outputs": []
    },
    {
      "cell_type": "code",
      "source": [
        "aug_X_train.shape"
      ],
      "metadata": {
        "colab": {
          "base_uri": "https://localhost:8080/"
        },
        "id": "4aBer-ZKK_Tb",
        "outputId": "1d6953d4-0f05-4f8b-e1b5-7fc1bb993712"
      },
      "execution_count": null,
      "outputs": [
        {
          "output_type": "execute_result",
          "data": {
            "text/plain": [
              "(1381, 300)"
            ]
          },
          "metadata": {},
          "execution_count": 34
        }
      ]
    },
    {
      "cell_type": "code",
      "source": [
        "aug_y_train = augmented_dataset['label'].values"
      ],
      "metadata": {
        "id": "e_egTwCfLFjg"
      },
      "execution_count": null,
      "outputs": []
    },
    {
      "cell_type": "code",
      "source": [
        "aug_y_train.shape"
      ],
      "metadata": {
        "colab": {
          "base_uri": "https://localhost:8080/"
        },
        "id": "sHgwwj3RLFYP",
        "outputId": "b3563114-99eb-41b7-c9be-d8d3f69ba0c4"
      },
      "execution_count": null,
      "outputs": [
        {
          "output_type": "execute_result",
          "data": {
            "text/plain": [
              "(1381,)"
            ]
          },
          "metadata": {},
          "execution_count": 36
        }
      ]
    },
    {
      "cell_type": "code",
      "source": [
        "evaluation_metrics_aug = pd.DataFrame(columns = ['Recall', 'Precision', 'F1 score', 'F2 score'])"
      ],
      "metadata": {
        "id": "hFk8uwRhLFMD"
      },
      "execution_count": null,
      "outputs": []
    },
    {
      "cell_type": "markdown",
      "metadata": {
        "id": "y9XIrUB5FhnC"
      },
      "source": [
        "#Random Forest"
      ]
    },
    {
      "cell_type": "code",
      "source": [
        "train(1, aug_X_train, aug_y_train, X_test, y_test, evaluation_metrics_aug, to_save=True, file_name='RD_RF')"
      ],
      "metadata": {
        "colab": {
          "base_uri": "https://localhost:8080/",
          "height": 763
        },
        "id": "SJRy4IaUEOpf",
        "outputId": "df583eb2-e16f-4b09-dd7c-4f4b2b14df0f"
      },
      "execution_count": null,
      "outputs": [
        {
          "output_type": "stream",
          "name": "stdout",
          "text": [
            "train accuracy = 0.9529326574945691\n",
            "test accuracy = 0.9004329004329005\n",
            "Recall = 0.8205128205128205\n",
            "Precision = 0.6666666666666666\n",
            "F1 score = 0.7356321839080459\n",
            "F2 score = 0.784313725490196\n",
            "              precision    recall  f1-score   support\n",
            "\n",
            "           0       0.96      0.92      0.94       192\n",
            "           1       0.67      0.82      0.74        39\n",
            "\n",
            "    accuracy                           0.90       231\n",
            "   macro avg       0.81      0.87      0.84       231\n",
            "weighted avg       0.91      0.90      0.90       231\n",
            "\n"
          ]
        },
        {
          "output_type": "display_data",
          "data": {
            "text/plain": [
              "<Figure size 640x480 with 2 Axes>"
            ],
            "image/png": "[encoded data removed]"
          },
          "metadata": {}
        },
        {
          "output_type": "stream",
          "name": "stdout",
          "text": [
            "{'criterion': 'gini', 'max_depth': 5, 'max_features': 10, 'min_samples_split': 30, 'n_estimators': 50}\n"
          ]
        },
        {
          "output_type": "execute_result",
          "data": {
            "text/plain": [
              "(0.7356321839080459, 0.784313725490196)"
            ]
          },
          "metadata": {},
          "execution_count": 38
        }
      ]
    },
    {
      "cell_type": "markdown",
      "metadata": {
        "id": "XmwRxKxMe-Uf"
      },
      "source": [
        "#SVM"
      ]
    },
    {
      "cell_type": "code",
      "source": [
        "train(2, aug_X_train, aug_y_train, X_test, y_test, evaluation_metrics_aug, to_save=True, file_name='RD_SVM')"
      ],
      "metadata": {
        "colab": {
          "base_uri": "https://localhost:8080/",
          "height": 763
        },
        "id": "artf7Zr3ERCz",
        "outputId": "66f57a1d-a037-41ef-c6e3-b0791ec7dddd"
      },
      "execution_count": null,
      "outputs": [
        {
          "output_type": "stream",
          "name": "stdout",
          "text": [
            "train accuracy = 0.9934829833454019\n",
            "test accuracy = 0.974025974025974\n",
            "Recall = 0.9487179487179487\n",
            "Precision = 0.9024390243902439\n",
            "F1 score = 0.9249999999999999\n",
            "F2 score = 0.9390862944162437\n",
            "              precision    recall  f1-score   support\n",
            "\n",
            "           0       0.99      0.98      0.98       192\n",
            "           1       0.90      0.95      0.92        39\n",
            "\n",
            "    accuracy                           0.97       231\n",
            "   macro avg       0.95      0.96      0.95       231\n",
            "weighted avg       0.97      0.97      0.97       231\n",
            "\n"
          ]
        },
        {
          "output_type": "display_data",
          "data": {
            "text/plain": [
              "<Figure size 640x480 with 2 Axes>"
            ],
            "image/png": "[encoded data removed]"
          },
          "metadata": {}
        },
        {
          "output_type": "stream",
          "name": "stdout",
          "text": [
            "{'degree': 4, 'kernel': 'poly'}\n"
          ]
        },
        {
          "output_type": "execute_result",
          "data": {
            "text/plain": [
              "(0.9249999999999999, 0.9390862944162437)"
            ]
          },
          "metadata": {},
          "execution_count": 39
        }
      ]
    },
    {
      "cell_type": "code",
      "execution_count": null,
      "metadata": {
        "id": "84vjlbvK2YJ_",
        "colab": {
          "base_uri": "https://localhost:8080/",
          "height": 112
        },
        "outputId": "2804c1a8-5199-49bf-9c65-029e14c00eab"
      },
      "outputs": [
        {
          "output_type": "execute_result",
          "data": {
            "text/plain": [
              "                Recall Precision  F1 score  F2 score\n",
              "RandomForest  0.820513  0.666667  0.735632  0.784314\n",
              "SVM           0.948718  0.902439     0.925  0.939086"
            ],
            "text/html": [
              "\n",
              "  <div id=\"df-7c48807e-00a5-4675-96e7-274cc300828c\">\n",
              "    <div class=\"colab-df-container\">\n",
              "      <div>\n",
              "<style scoped>\n",
              "    .dataframe tbody tr th:only-of-type {\n",
              "        vertical-align: middle;\n",
              "    }\n",
              "\n",
              "    .dataframe tbody tr th {\n",
              "        vertical-align: top;\n",
              "    }\n",
              "\n",
              "    .dataframe thead th {\n",
              "        text-align: right;\n",
              "    }\n",
              "</style>\n",
              "<table border=\"1\" class=\"dataframe\">\n",
              "  <thead>\n",
              "    <tr style=\"text-align: right;\">\n",
              "      <th></th>\n",
              "      <th>Recall</th>\n",
              "      <th>Precision</th>\n",
              "      <th>F1 score</th>\n",
              "      <th>F2 score</th>\n",
              "    </tr>\n",
              "  </thead>\n",
              "  <tbody>\n",
              "    <tr>\n",
              "      <th>RandomForest</th>\n",
              "      <td>0.820513</td>\n",
              "      <td>0.666667</td>\n",
              "      <td>0.735632</td>\n",
              "      <td>0.784314</td>\n",
              "    </tr>\n",
              "    <tr>\n",
              "      <th>SVM</th>\n",
              "      <td>0.948718</td>\n",
              "      <td>0.902439</td>\n",
              "      <td>0.925</td>\n",
              "      <td>0.939086</td>\n",
              "    </tr>\n",
              "  </tbody>\n",
              "</table>\n",
              "</div>\n",
              "      <button class=\"colab-df-convert\" onclick=\"convertToInteractive('df-7c48807e-00a5-4675-96e7-274cc300828c')\"\n",
              "              title=\"Convert this dataframe to an interactive table.\"\n",
              "              style=\"display:none;\">\n",
              "        \n",
              "  <svg xmlns=\"http://www.w3.org/2000/svg\" height=\"24px\"viewBox=\"0 0 24 24\"\n",
              "       width=\"24px\">\n",
              "    <path d=\"M0 0h24v24H0V0z\" fill=\"none\"/>\n",
              "    <path d=\"M18.56 5.44l.94 2.06.94-2.06 2.06-.94-2.06-.94-.94-2.06-.94 2.06-2.06.94zm-11 1L8.5 8.5l.94-2.06 2.06-.94-2.06-.94L8.5 2.5l-.94 2.06-2.06.94zm10 10l.94 2.06.94-2.06 2.06-.94-2.06-.94-.94-2.06-.94 2.06-2.06.94z\"/><path d=\"M17.41 7.96l-1.37-1.37c-.4-.4-.92-.59-1.43-.59-.52 0-1.04.2-1.43.59L10.3 9.45l-7.72 7.72c-.78.78-.78 2.05 0 2.83L4 21.41c.39.39.9.59 1.41.59.51 0 1.02-.2 1.41-.59l7.78-7.78 2.81-2.81c.8-.78.8-2.07 0-2.86zM5.41 20L4 18.59l7.72-7.72 1.47 1.35L5.41 20z\"/>\n",
              "  </svg>\n",
              "      </button>\n",
              "      \n",
              "  <style>\n",
              "    .colab-df-container {\n",
              "      display:flex;\n",
              "      flex-wrap:wrap;\n",
              "      gap: 12px;\n",
              "    }\n",
              "\n",
              "    .colab-df-convert {\n",
              "      background-color: #E8F0FE;\n",
              "      border: none;\n",
              "      border-radius: 50%;\n",
              "      cursor: pointer;\n",
              "      display: none;\n",
              "      fill: #1967D2;\n",
              "      height: 32px;\n",
              "      padding: 0 0 0 0;\n",
              "      width: 32px;\n",
              "    }\n",
              "\n",
              "    .colab-df-convert:hover {\n",
              "      background-color: #E2EBFA;\n",
              "      box-shadow: 0px 1px 2px rgba(60, 64, 67, 0.3), 0px 1px 3px 1px rgba(60, 64, 67, 0.15);\n",
              "      fill: #174EA6;\n",
              "    }\n",
              "\n",
              "    [theme=dark] .colab-df-convert {\n",
              "      background-color: #3B4455;\n",
              "      fill: #D2E3FC;\n",
              "    }\n",
              "\n",
              "    [theme=dark] .colab-df-convert:hover {\n",
              "      background-color: #434B5C;\n",
              "      box-shadow: 0px 1px 3px 1px rgba(0, 0, 0, 0.15);\n",
              "      filter: drop-shadow(0px 1px 2px rgba(0, 0, 0, 0.3));\n",
              "      fill: #FFFFFF;\n",
              "    }\n",
              "  </style>\n",
              "\n",
              "      <script>\n",
              "        const buttonEl =\n",
              "          document.querySelector('#df-7c48807e-00a5-4675-96e7-274cc300828c button.colab-df-convert');\n",
              "        buttonEl.style.display =\n",
              "          google.colab.kernel.accessAllowed ? 'block' : 'none';\n",
              "\n",
              "        async function convertToInteractive(key) {\n",
              "          const element = document.querySelector('#df-7c48807e-00a5-4675-96e7-274cc300828c');\n",
              "          const dataTable =\n",
              "            await google.colab.kernel.invokeFunction('convertToInteractive',\n",
              "                                                     [key], {});\n",
              "          if (!dataTable) return;\n",
              "\n",
              "          const docLinkHtml = 'Like what you see? Visit the ' +\n",
              "            '<a target=\"_blank\" href=https://colab.research.google.com/notebooks/data_table.ipynb>data table notebook</a>'\n",
              "            + ' to learn more about interactive tables.';\n",
              "          element.innerHTML = '';\n",
              "          dataTable['output_type'] = 'display_data';\n",
              "          await google.colab.output.renderOutput(dataTable, element);\n",
              "          const docLink = document.createElement('div');\n",
              "          docLink.innerHTML = docLinkHtml;\n",
              "          element.appendChild(docLink);\n",
              "        }\n",
              "      </script>\n",
              "    </div>\n",
              "  </div>\n",
              "  "
            ]
          },
          "metadata": {},
          "execution_count": 40
        }
      ],
      "source": [
        "evaluation_metrics_aug"
      ]
    },
    {
      "cell_type": "markdown",
      "metadata": {
        "id": "NBKdcusiewBl"
      },
      "source": [
        "#BiLSTM"
      ]
    },
    {
      "cell_type": "code",
      "execution_count": null,
      "metadata": {
        "id": "rx-x05DdewcE"
      },
      "outputs": [],
      "source": [
        "import random\n",
        "import tensorflow as tf \n",
        "from tensorflow import keras \n",
        "from tensorflow.keras import layers\n",
        "from sklearn.metrics import ConfusionMatrixDisplay\n",
        "from tensorflow.keras.layers import Dropout\n",
        "from tensorflow.keras.regularizers import L1L2\n",
        "from sklearn.model_selection import StratifiedKFold"
      ]
    },
    {
      "cell_type": "code",
      "source": [
        "text_words_lengths = [len(raw_data.loc[i]['text'].split()) for i in raw_data.index ]\n",
        "total_length = np.sum(text_words_lengths)\n",
        "text_words_mean = int(np.mean(text_words_lengths))"
      ],
      "metadata": {
        "id": "TPqGbu_1DECE"
      },
      "execution_count": null,
      "outputs": []
    },
    {
      "cell_type": "code",
      "source": [
        "def create_blstm_model(sent_length, words_mean, train_texts):\n",
        "\n",
        "  text_vec = layers.TextVectorization( \n",
        "    max_tokens=sent_length,\n",
        "    standardize='lower_and_strip_punctuation',\n",
        "    output_mode='int',\n",
        "    output_sequence_length=words_mean\n",
        "  )\n",
        "\n",
        "  text_vec.adapt(train_texts)\n",
        "\n",
        "  embedding_layer = layers.Embedding(\n",
        "    input_dim=sent_length,\n",
        "    output_dim=128,\n",
        "    embeddings_initializer='uniform',\n",
        "    input_length=words_mean\n",
        "  )\n",
        "\n",
        "  input_layer = layers.Input(shape=(1,), dtype=tf.string) \n",
        "\n",
        "  vec_layer = text_vec(input_layer)\n",
        "  embedding_layer_model = embedding_layer(vec_layer) \n",
        "\n",
        "  bi_lstm = layers.Bidirectional(layers.LSTM(64, activation='tanh', return_sequences=True, kernel_regularizer = L1L2(l1=0.01, l2=0.0)))(embedding_layer_model) \n",
        "\n",
        "  flatten = layers.Flatten()(bi_lstm) \n",
        "  dropout = layers.Dropout(.1)(flatten) \n",
        "\n",
        "  x = layers.Dense(32, activation='relu')(dropout) \n",
        "\n",
        "  output_layer = layers.Dense(1, activation='sigmoid')(x) \n",
        "\n",
        "  blstm_model = keras.Model(input_layer, output_layer) \n",
        "\n",
        "  blstm_model.compile(optimizer=keras.optimizers.Adam(),\n",
        "                loss=keras.losses.BinaryCrossentropy(),\n",
        "                metrics=['accuracy'])  \n",
        "  \n",
        "  return blstm_model"
      ],
      "metadata": {
        "id": "w-jXBzXMC1W0"
      },
      "execution_count": null,
      "outputs": []
    },
    {
      "cell_type": "markdown",
      "source": [
        "# Cross Validation"
      ],
      "metadata": {
        "id": "n78_XPCk7AsW"
      }
    },
    {
      "cell_type": "code",
      "source": [
        "def cv_blstm(sent_length, words_mean):\n",
        "\n",
        "  kf = StratifiedKFold(10, shuffle=True, random_state=42) \n",
        "  cv_metrics = pd.DataFrame(columns = ['Recall', 'Precision', 'F1 score', 'F2 score'])\n",
        "\n",
        "  fold = 0\n",
        "\n",
        "  X = augmented_dataset['text'].values\n",
        "  Y = augmented_dataset['label'].values\n",
        "\n",
        "  for train, val in kf.split(X, Y):  \n",
        "  \n",
        "    print(f\"Fold {fold}\")\n",
        "\n",
        "    train_texts = X[train]\n",
        "    train_labels = Y[train]\n",
        "    test_texts = X[val]\n",
        "    test_labels = Y[val]\n",
        "\n",
        "    blstm_model = create_blstm_model(sent_length, words_mean, train_texts)\n",
        "\n",
        "    history = blstm_model.fit(train_texts,\n",
        "                              train_labels,\n",
        "                              epochs=10,\n",
        "                              batch_size=16,\n",
        "                              validation_data=(test_texts, test_labels))\n",
        "\n",
        "    blstm_model.evaluate(test_texts, test_labels)\n",
        "    y_pred = np.round(blstm_model.predict(test_texts))\n",
        "\n",
        "    f1_sc = f1_score(test_labels, y_pred)\n",
        "    f2score = fbeta_score(test_labels, y_pred, beta=2, average='binary')\n",
        "\n",
        "    cv_metrics.loc[fold, 'Recall'] = recall_score(test_labels, y_pred)\n",
        "    cv_metrics.loc[fold, 'Precision'] = precision_score(test_labels, y_pred)\n",
        "    cv_metrics.loc[fold, 'F1 score'] = f1_sc\n",
        "    cv_metrics.loc[fold, 'F2 score'] = f2score\n",
        "    \n",
        "    fold += 1\n",
        "\n",
        "  return cv_metrics"
      ],
      "metadata": {
        "id": "6k9DbUyt7B3J"
      },
      "execution_count": null,
      "outputs": []
    },
    {
      "cell_type": "code",
      "source": [
        "cv_results = cv_blstm(total_length, text_words_mean)"
      ],
      "metadata": {
        "colab": {
          "base_uri": "https://localhost:8080/"
        },
        "id": "MzfV8cdd7BCu",
        "outputId": "8d8d82b5-dd86-4118-bc6e-bed820a506ef"
      },
      "execution_count": null,
      "outputs": [
        {
          "output_type": "stream",
          "name": "stdout",
          "text": [
            "Fold 0\n",
            "Epoch 1/10\n",
            "78/78 [==============================] - 12s 101ms/step - loss: 21.6161 - accuracy: 0.8921 - val_loss: 6.3829 - val_accuracy: 0.9784\n",
            "Epoch 2/10\n",
            "78/78 [==============================] - 2s 20ms/step - loss: 1.7629 - accuracy: 0.9839 - val_loss: 0.2772 - val_accuracy: 0.9712\n",
            "Epoch 3/10\n",
            "78/78 [==============================] - 1s 17ms/step - loss: 0.2162 - accuracy: 0.9919 - val_loss: 0.2137 - val_accuracy: 0.9784\n",
            "Epoch 4/10\n",
            "78/78 [==============================] - 1s 14ms/step - loss: 0.2063 - accuracy: 0.9944 - val_loss: 0.2142 - val_accuracy: 0.9856\n",
            "Epoch 5/10\n",
            "78/78 [==============================] - 1s 10ms/step - loss: 0.1846 - accuracy: 0.9936 - val_loss: 0.1698 - val_accuracy: 0.9856\n",
            "Epoch 6/10\n",
            "78/78 [==============================] - 1s 10ms/step - loss: 0.1046 - accuracy: 1.0000 - val_loss: 0.1316 - val_accuracy: 0.9856\n",
            "Epoch 7/10\n",
            "78/78 [==============================] - 1s 16ms/step - loss: 0.1923 - accuracy: 0.9968 - val_loss: 0.1639 - val_accuracy: 0.9856\n",
            "Epoch 8/10\n",
            "78/78 [==============================] - 1s 12ms/step - loss: 0.1072 - accuracy: 1.0000 - val_loss: 0.1020 - val_accuracy: 0.9928\n",
            "Epoch 9/10\n",
            "78/78 [==============================] - 1s 10ms/step - loss: 0.1520 - accuracy: 0.9960 - val_loss: 0.3553 - val_accuracy: 0.9712\n",
            "Epoch 10/10\n",
            "78/78 [==============================] - 1s 13ms/step - loss: 0.1205 - accuracy: 0.9992 - val_loss: 0.0984 - val_accuracy: 1.0000\n",
            "5/5 [==============================] - 0s 5ms/step - loss: 0.0984 - accuracy: 1.0000\n",
            "5/5 [==============================] - 1s 4ms/step\n",
            "Fold 1\n",
            "Epoch 1/10\n",
            "78/78 [==============================] - 11s 95ms/step - loss: 21.6474 - accuracy: 0.8858 - val_loss: 6.4329 - val_accuracy: 0.9928\n",
            "Epoch 2/10\n",
            "78/78 [==============================] - 2s 24ms/step - loss: 1.7172 - accuracy: 0.9895 - val_loss: 0.4292 - val_accuracy: 0.9565\n",
            "Epoch 3/10\n",
            "78/78 [==============================] - 2s 22ms/step - loss: 0.2643 - accuracy: 0.9879 - val_loss: 0.1907 - val_accuracy: 0.9783\n",
            "Epoch 4/10\n",
            "78/78 [==============================] - 1s 14ms/step - loss: 0.1452 - accuracy: 0.9976 - val_loss: 0.4294 - val_accuracy: 0.9275\n",
            "Epoch 5/10\n",
            "78/78 [==============================] - 2s 24ms/step - loss: 0.1610 - accuracy: 0.9976 - val_loss: 0.1996 - val_accuracy: 0.9710\n",
            "Epoch 6/10\n",
            "78/78 [==============================] - 1s 10ms/step - loss: 0.0954 - accuracy: 1.0000 - val_loss: 0.1137 - val_accuracy: 0.9855\n",
            "Epoch 7/10\n",
            "78/78 [==============================] - 1s 12ms/step - loss: 0.0816 - accuracy: 1.0000 - val_loss: 0.2075 - val_accuracy: 0.9710\n",
            "Epoch 8/10\n",
            "78/78 [==============================] - 1s 9ms/step - loss: 0.3930 - accuracy: 0.9952 - val_loss: 0.2152 - val_accuracy: 1.0000\n",
            "Epoch 9/10\n",
            "78/78 [==============================] - 1s 12ms/step - loss: 0.1481 - accuracy: 1.0000 - val_loss: 0.1145 - val_accuracy: 1.0000\n",
            "Epoch 10/10\n",
            "78/78 [==============================] - 1s 10ms/step - loss: 0.0961 - accuracy: 1.0000 - val_loss: 0.0926 - val_accuracy: 1.0000\n",
            "5/5 [==============================] - 0s 6ms/step - loss: 0.0926 - accuracy: 1.0000\n",
            "5/5 [==============================] - 1s 5ms/step\n",
            "Fold 2\n",
            "Epoch 1/10\n",
            "78/78 [==============================] - 10s 83ms/step - loss: 21.5868 - accuracy: 0.8640 - val_loss: 6.3666 - val_accuracy: 1.0000\n",
            "Epoch 2/10\n",
            "78/78 [==============================] - 2s 26ms/step - loss: 1.7264 - accuracy: 0.9807 - val_loss: 0.2758 - val_accuracy: 0.9783\n",
            "Epoch 3/10\n",
            "78/78 [==============================] - 2s 25ms/step - loss: 0.2065 - accuracy: 0.9928 - val_loss: 0.1562 - val_accuracy: 0.9928\n",
            "Epoch 4/10\n",
            "78/78 [==============================] - 1s 14ms/step - loss: 0.1558 - accuracy: 0.9944 - val_loss: 0.1537 - val_accuracy: 1.0000\n",
            "Epoch 5/10\n",
            "78/78 [==============================] - 1s 16ms/step - loss: 0.1111 - accuracy: 1.0000 - val_loss: 0.0950 - val_accuracy: 1.0000\n",
            "Epoch 6/10\n",
            "78/78 [==============================] - 1s 14ms/step - loss: 0.1534 - accuracy: 0.9976 - val_loss: 0.2429 - val_accuracy: 0.9928\n",
            "Epoch 7/10\n",
            "78/78 [==============================] - 1s 8ms/step - loss: 0.1456 - accuracy: 0.9976 - val_loss: 0.1028 - val_accuracy: 1.0000\n",
            "Epoch 8/10\n",
            "78/78 [==============================] - 1s 14ms/step - loss: 0.0922 - accuracy: 1.0000 - val_loss: 0.0934 - val_accuracy: 1.0000\n",
            "Epoch 9/10\n",
            "78/78 [==============================] - 1s 12ms/step - loss: 0.0834 - accuracy: 1.0000 - val_loss: 0.0835 - val_accuracy: 1.0000\n",
            "Epoch 10/10\n",
            "78/78 [==============================] - 1s 8ms/step - loss: 0.2515 - accuracy: 0.9928 - val_loss: 0.3640 - val_accuracy: 0.9783\n",
            "5/5 [==============================] - 0s 5ms/step - loss: 0.3640 - accuracy: 0.9783\n",
            "5/5 [==============================] - 1s 4ms/step\n",
            "Fold 3\n",
            "Epoch 1/10\n",
            "78/78 [==============================] - 10s 81ms/step - loss: 21.4315 - accuracy: 0.8761 - val_loss: 6.3213 - val_accuracy: 0.9928\n",
            "Epoch 2/10\n",
            "78/78 [==============================] - 2s 23ms/step - loss: 1.6845 - accuracy: 0.9903 - val_loss: 0.2623 - val_accuracy: 0.9783\n",
            "Epoch 3/10\n",
            "78/78 [==============================] - 2s 27ms/step - loss: 0.2258 - accuracy: 0.9871 - val_loss: 0.1794 - val_accuracy: 0.9928\n",
            "Epoch 4/10\n",
            "78/78 [==============================] - 2s 22ms/step - loss: 0.2073 - accuracy: 0.9920 - val_loss: 0.2672 - val_accuracy: 1.0000\n",
            "Epoch 5/10\n",
            "78/78 [==============================] - 1s 11ms/step - loss: 0.1600 - accuracy: 0.9976 - val_loss: 0.1079 - val_accuracy: 1.0000\n",
            "Epoch 6/10\n",
            "78/78 [==============================] - 1s 14ms/step - loss: 0.1423 - accuracy: 0.9912 - val_loss: 0.1713 - val_accuracy: 0.9928\n",
            "Epoch 7/10\n",
            "78/78 [==============================] - 1s 12ms/step - loss: 0.1345 - accuracy: 0.9976 - val_loss: 0.0979 - val_accuracy: 1.0000\n",
            "Epoch 8/10\n",
            "78/78 [==============================] - 1s 14ms/step - loss: 0.0890 - accuracy: 1.0000 - val_loss: 0.0934 - val_accuracy: 1.0000\n",
            "Epoch 9/10\n",
            "78/78 [==============================] - 1s 12ms/step - loss: 0.0841 - accuracy: 1.0000 - val_loss: 0.0814 - val_accuracy: 1.0000\n",
            "Epoch 10/10\n",
            "78/78 [==============================] - 1s 12ms/step - loss: 0.1350 - accuracy: 0.9968 - val_loss: 0.3917 - val_accuracy: 0.9855\n",
            "5/5 [==============================] - 0s 5ms/step - loss: 0.3917 - accuracy: 0.9855\n",
            "5/5 [==============================] - 1s 4ms/step\n",
            "Fold 4\n",
            "Epoch 1/10\n",
            "78/78 [==============================] - 12s 98ms/step - loss: 21.4798 - accuracy: 0.8504 - val_loss: 6.3293 - val_accuracy: 0.9855\n",
            "Epoch 2/10\n",
            "78/78 [==============================] - 2s 28ms/step - loss: 1.6756 - accuracy: 0.9855 - val_loss: 0.3999 - val_accuracy: 0.9275\n",
            "Epoch 3/10\n",
            "78/78 [==============================] - 1s 15ms/step - loss: 0.2162 - accuracy: 0.9912 - val_loss: 0.2175 - val_accuracy: 0.9710\n",
            "Epoch 4/10\n",
            "78/78 [==============================] - 1s 17ms/step - loss: 0.1488 - accuracy: 0.9968 - val_loss: 0.1585 - val_accuracy: 0.9855\n",
            "Epoch 5/10\n",
            "78/78 [==============================] - 1s 16ms/step - loss: 0.1251 - accuracy: 0.9976 - val_loss: 0.4208 - val_accuracy: 0.9565\n",
            "Epoch 6/10\n",
            "78/78 [==============================] - 1s 10ms/step - loss: 0.1380 - accuracy: 0.9968 - val_loss: 0.2234 - val_accuracy: 0.9783\n",
            "Epoch 7/10\n",
            "78/78 [==============================] - 1s 12ms/step - loss: 0.1681 - accuracy: 0.9903 - val_loss: 0.2007 - val_accuracy: 0.9855\n",
            "Epoch 8/10\n",
            "78/78 [==============================] - 1s 15ms/step - loss: 0.1187 - accuracy: 0.9992 - val_loss: 0.1219 - val_accuracy: 0.9855\n",
            "Epoch 9/10\n",
            "78/78 [==============================] - 1s 10ms/step - loss: 0.0903 - accuracy: 1.0000 - val_loss: 0.1687 - val_accuracy: 0.9783\n",
            "Epoch 10/10\n",
            "78/78 [==============================] - 1s 13ms/step - loss: 0.0827 - accuracy: 1.0000 - val_loss: 0.1413 - val_accuracy: 0.9783\n",
            "5/5 [==============================] - 0s 5ms/step - loss: 0.1413 - accuracy: 0.9783\n",
            "5/5 [==============================] - 1s 4ms/step\n",
            "Fold 5\n",
            "Epoch 1/10\n",
            "78/78 [==============================] - 11s 94ms/step - loss: 21.5479 - accuracy: 0.8777 - val_loss: 6.3145 - val_accuracy: 1.0000\n",
            "Epoch 2/10\n",
            "78/78 [==============================] - 2s 27ms/step - loss: 1.6683 - accuracy: 0.9839 - val_loss: 0.2444 - val_accuracy: 1.0000\n",
            "Epoch 3/10\n",
            "78/78 [==============================] - 1s 14ms/step - loss: 0.1825 - accuracy: 0.9944 - val_loss: 1.0239 - val_accuracy: 0.8478\n",
            "Epoch 4/10\n",
            "78/78 [==============================] - 1s 16ms/step - loss: 0.3916 - accuracy: 0.9879 - val_loss: 0.1718 - val_accuracy: 1.0000\n",
            "Epoch 5/10\n",
            "78/78 [==============================] - 1s 11ms/step - loss: 0.1351 - accuracy: 0.9984 - val_loss: 0.1498 - val_accuracy: 1.0000\n",
            "Epoch 6/10\n",
            "78/78 [==============================] - 1s 14ms/step - loss: 0.1471 - accuracy: 0.9968 - val_loss: 0.1266 - val_accuracy: 1.0000\n",
            "Epoch 7/10\n",
            "78/78 [==============================] - 1s 8ms/step - loss: 0.1196 - accuracy: 0.9984 - val_loss: 0.1036 - val_accuracy: 1.0000\n",
            "Epoch 8/10\n",
            "78/78 [==============================] - 1s 16ms/step - loss: 0.1516 - accuracy: 0.9960 - val_loss: 0.1218 - val_accuracy: 1.0000\n",
            "Epoch 9/10\n",
            "78/78 [==============================] - 1s 12ms/step - loss: 0.0983 - accuracy: 1.0000 - val_loss: 0.0860 - val_accuracy: 1.0000\n",
            "Epoch 10/10\n",
            "78/78 [==============================] - 1s 16ms/step - loss: 0.0961 - accuracy: 0.9992 - val_loss: 0.1089 - val_accuracy: 0.9855\n",
            "5/5 [==============================] - 0s 5ms/step - loss: 0.1089 - accuracy: 0.9855\n",
            "5/5 [==============================] - 1s 4ms/step\n",
            "Fold 6\n",
            "Epoch 1/10\n",
            "78/78 [==============================] - 12s 90ms/step - loss: 21.5153 - accuracy: 0.8930 - val_loss: 6.3944 - val_accuracy: 0.9928\n",
            "Epoch 2/10\n",
            "78/78 [==============================] - 3s 35ms/step - loss: 1.7195 - accuracy: 0.9879 - val_loss: 0.2725 - val_accuracy: 0.9783\n",
            "Epoch 3/10\n",
            "78/78 [==============================] - 1s 12ms/step - loss: 0.2254 - accuracy: 0.9944 - val_loss: 0.2678 - val_accuracy: 0.9710\n",
            "Epoch 4/10\n",
            "78/78 [==============================] - 1s 12ms/step - loss: 0.2251 - accuracy: 0.9920 - val_loss: 0.1726 - val_accuracy: 0.9928\n",
            "Epoch 5/10\n",
            "78/78 [==============================] - 1s 14ms/step - loss: 0.1119 - accuracy: 1.0000 - val_loss: 0.1399 - val_accuracy: 0.9783\n",
            "Epoch 6/10\n",
            "78/78 [==============================] - 1s 14ms/step - loss: 0.2062 - accuracy: 0.9928 - val_loss: 0.2929 - val_accuracy: 0.9783\n",
            "Epoch 7/10\n",
            "78/78 [==============================] - 1s 8ms/step - loss: 0.1544 - accuracy: 0.9992 - val_loss: 0.1437 - val_accuracy: 0.9855\n",
            "Epoch 8/10\n",
            "78/78 [==============================] - 1s 14ms/step - loss: 0.1033 - accuracy: 1.0000 - val_loss: 0.1604 - val_accuracy: 0.9783\n",
            "Epoch 9/10\n",
            "78/78 [==============================] - 1s 16ms/step - loss: 0.0903 - accuracy: 1.0000 - val_loss: 0.1154 - val_accuracy: 0.9855\n",
            "Epoch 10/10\n",
            "78/78 [==============================] - 1s 12ms/step - loss: 0.0806 - accuracy: 1.0000 - val_loss: 0.1179 - val_accuracy: 0.9855\n",
            "5/5 [==============================] - 0s 5ms/step - loss: 0.1179 - accuracy: 0.9855\n",
            "5/5 [==============================] - 1s 4ms/step\n",
            "Fold 7\n",
            "Epoch 1/10\n",
            "78/78 [==============================] - 11s 91ms/step - loss: 21.5582 - accuracy: 0.8874 - val_loss: 6.3098 - val_accuracy: 0.9928\n",
            "Epoch 2/10\n",
            "78/78 [==============================] - 3s 35ms/step - loss: 1.6958 - accuracy: 0.9807 - val_loss: 0.3685 - val_accuracy: 0.9855\n",
            "Epoch 3/10\n",
            "78/78 [==============================] - 2s 26ms/step - loss: 0.2065 - accuracy: 0.9952 - val_loss: 0.3234 - val_accuracy: 0.9565\n",
            "Epoch 4/10\n",
            "78/78 [==============================] - 1s 9ms/step - loss: 0.2237 - accuracy: 0.9895 - val_loss: 0.1460 - val_accuracy: 1.0000\n",
            "Epoch 5/10\n",
            "78/78 [==============================] - 1s 15ms/step - loss: 0.1093 - accuracy: 1.0000 - val_loss: 0.0980 - val_accuracy: 1.0000\n",
            "Epoch 6/10\n",
            "78/78 [==============================] - 1s 8ms/step - loss: 0.0884 - accuracy: 1.0000 - val_loss: 0.0872 - val_accuracy: 1.0000\n",
            "Epoch 7/10\n",
            "78/78 [==============================] - 1s 12ms/step - loss: 0.2039 - accuracy: 0.9936 - val_loss: 0.2765 - val_accuracy: 0.9928\n",
            "Epoch 8/10\n",
            "78/78 [==============================] - 1s 12ms/step - loss: 0.1565 - accuracy: 0.9976 - val_loss: 0.1113 - val_accuracy: 1.0000\n",
            "Epoch 9/10\n",
            "78/78 [==============================] - 1s 11ms/step - loss: 0.0956 - accuracy: 1.0000 - val_loss: 0.0917 - val_accuracy: 1.0000\n",
            "Epoch 10/10\n",
            "78/78 [==============================] - 1s 14ms/step - loss: 0.0847 - accuracy: 1.0000 - val_loss: 0.0886 - val_accuracy: 1.0000\n",
            "5/5 [==============================] - 0s 5ms/step - loss: 0.0886 - accuracy: 1.0000\n",
            "5/5 [==============================] - 1s 5ms/step\n",
            "Fold 8\n",
            "Epoch 1/10\n",
            "78/78 [==============================] - 12s 94ms/step - loss: 21.6545 - accuracy: 0.8665 - val_loss: 6.3780 - val_accuracy: 0.9783\n",
            "Epoch 2/10\n",
            "78/78 [==============================] - 2s 30ms/step - loss: 1.6787 - accuracy: 0.9855 - val_loss: 0.2748 - val_accuracy: 0.9783\n",
            "Epoch 3/10\n",
            "78/78 [==============================] - 1s 18ms/step - loss: 0.1988 - accuracy: 0.9944 - val_loss: 0.2290 - val_accuracy: 0.9710\n",
            "Epoch 4/10\n",
            "78/78 [==============================] - 1s 12ms/step - loss: 0.1304 - accuracy: 0.9960 - val_loss: 0.3025 - val_accuracy: 0.9710\n",
            "Epoch 5/10\n",
            "78/78 [==============================] - 1s 10ms/step - loss: 0.1633 - accuracy: 0.9960 - val_loss: 0.1759 - val_accuracy: 0.9855\n",
            "Epoch 6/10\n",
            "78/78 [==============================] - 1s 16ms/step - loss: 0.0957 - accuracy: 1.0000 - val_loss: 0.2352 - val_accuracy: 0.9638\n",
            "Epoch 7/10\n",
            "78/78 [==============================] - 1s 14ms/step - loss: 0.1353 - accuracy: 0.9952 - val_loss: 1.5301 - val_accuracy: 0.9058\n",
            "Epoch 8/10\n",
            "78/78 [==============================] - 1s 10ms/step - loss: 0.4670 - accuracy: 0.9936 - val_loss: 0.2925 - val_accuracy: 0.9783\n",
            "Epoch 9/10\n",
            "78/78 [==============================] - 1s 13ms/step - loss: 0.1770 - accuracy: 0.9984 - val_loss: 0.1644 - val_accuracy: 0.9928\n",
            "Epoch 10/10\n",
            "78/78 [==============================] - 1s 14ms/step - loss: 0.1161 - accuracy: 1.0000 - val_loss: 0.1537 - val_accuracy: 0.9783\n",
            "5/5 [==============================] - 0s 5ms/step - loss: 0.1537 - accuracy: 0.9783\n",
            "5/5 [==============================] - 1s 5ms/step\n",
            "Fold 9\n",
            "Epoch 1/10\n",
            "78/78 [==============================] - 11s 89ms/step - loss: 21.5270 - accuracy: 0.8874 - val_loss: 6.3503 - val_accuracy: 0.9928\n",
            "Epoch 2/10\n",
            "78/78 [==============================] - 2s 28ms/step - loss: 1.7168 - accuracy: 0.9839 - val_loss: 0.2479 - val_accuracy: 0.9928\n",
            "Epoch 3/10\n",
            "78/78 [==============================] - 2s 22ms/step - loss: 0.1792 - accuracy: 0.9936 - val_loss: 0.1504 - val_accuracy: 0.9928\n",
            "Epoch 4/10\n",
            "78/78 [==============================] - 1s 18ms/step - loss: 0.1601 - accuracy: 0.9928 - val_loss: 0.1761 - val_accuracy: 0.9855\n",
            "Epoch 5/10\n",
            "78/78 [==============================] - 1s 14ms/step - loss: 0.1167 - accuracy: 0.9992 - val_loss: 0.1248 - val_accuracy: 0.9928\n",
            "Epoch 6/10\n",
            "78/78 [==============================] - 1s 13ms/step - loss: 0.1199 - accuracy: 0.9976 - val_loss: 0.1146 - val_accuracy: 0.9928\n",
            "Epoch 7/10\n",
            "78/78 [==============================] - 1s 14ms/step - loss: 0.0896 - accuracy: 1.0000 - val_loss: 0.0880 - val_accuracy: 1.0000\n",
            "Epoch 8/10\n",
            "78/78 [==============================] - 1s 8ms/step - loss: 0.0834 - accuracy: 1.0000 - val_loss: 0.0827 - val_accuracy: 1.0000\n",
            "Epoch 9/10\n",
            "78/78 [==============================] - 1s 10ms/step - loss: 0.1861 - accuracy: 0.9952 - val_loss: 0.1676 - val_accuracy: 1.0000\n",
            "Epoch 10/10\n",
            "78/78 [==============================] - 1s 10ms/step - loss: 0.1141 - accuracy: 1.0000 - val_loss: 0.0994 - val_accuracy: 1.0000\n",
            "5/5 [==============================] - 0s 6ms/step - loss: 0.0994 - accuracy: 1.0000\n",
            "5/5 [==============================] - 1s 5ms/step\n"
          ]
        }
      ]
    },
    {
      "cell_type": "code",
      "source": [
        "cv_results"
      ],
      "metadata": {
        "colab": {
          "base_uri": "https://localhost:8080/",
          "height": 363
        },
        "id": "vS8sMBCI7Bm1",
        "outputId": "c86f6317-f369-4558-b853-59d87f7160dd"
      },
      "execution_count": null,
      "outputs": [
        {
          "output_type": "execute_result",
          "data": {
            "text/plain": [
              "     Recall Precision  F1 score  F2 score\n",
              "0       1.0       1.0       1.0       1.0\n",
              "1       1.0       1.0       1.0       1.0\n",
              "2  0.983607  0.967742   0.97561  0.980392\n",
              "3       1.0  0.968254  0.983871  0.993485\n",
              "4       1.0  0.953125     0.976   0.99026\n",
              "5  0.967742       1.0  0.983607  0.974026\n",
              "6  0.967742       1.0  0.983607  0.974026\n",
              "7       1.0       1.0       1.0       1.0\n",
              "8       1.0  0.953846  0.976378  0.990415\n",
              "9       1.0       1.0       1.0       1.0"
            ],
            "text/html": [
              "\n",
              "  <div id=\"df-3eab0474-36b6-40f8-a1f2-072f31a26bb5\">\n",
              "    <div class=\"colab-df-container\">\n",
              "      <div>\n",
              "<style scoped>\n",
              "    .dataframe tbody tr th:only-of-type {\n",
              "        vertical-align: middle;\n",
              "    }\n",
              "\n",
              "    .dataframe tbody tr th {\n",
              "        vertical-align: top;\n",
              "    }\n",
              "\n",
              "    .dataframe thead th {\n",
              "        text-align: right;\n",
              "    }\n",
              "</style>\n",
              "<table border=\"1\" class=\"dataframe\">\n",
              "  <thead>\n",
              "    <tr style=\"text-align: right;\">\n",
              "      <th></th>\n",
              "      <th>Recall</th>\n",
              "      <th>Precision</th>\n",
              "      <th>F1 score</th>\n",
              "      <th>F2 score</th>\n",
              "    </tr>\n",
              "  </thead>\n",
              "  <tbody>\n",
              "    <tr>\n",
              "      <th>0</th>\n",
              "      <td>1.0</td>\n",
              "      <td>1.0</td>\n",
              "      <td>1.0</td>\n",
              "      <td>1.0</td>\n",
              "    </tr>\n",
              "    <tr>\n",
              "      <th>1</th>\n",
              "      <td>1.0</td>\n",
              "      <td>1.0</td>\n",
              "      <td>1.0</td>\n",
              "      <td>1.0</td>\n",
              "    </tr>\n",
              "    <tr>\n",
              "      <th>2</th>\n",
              "      <td>0.983607</td>\n",
              "      <td>0.967742</td>\n",
              "      <td>0.97561</td>\n",
              "      <td>0.980392</td>\n",
              "    </tr>\n",
              "    <tr>\n",
              "      <th>3</th>\n",
              "      <td>1.0</td>\n",
              "      <td>0.968254</td>\n",
              "      <td>0.983871</td>\n",
              "      <td>0.993485</td>\n",
              "    </tr>\n",
              "    <tr>\n",
              "      <th>4</th>\n",
              "      <td>1.0</td>\n",
              "      <td>0.953125</td>\n",
              "      <td>0.976</td>\n",
              "      <td>0.99026</td>\n",
              "    </tr>\n",
              "    <tr>\n",
              "      <th>5</th>\n",
              "      <td>0.967742</td>\n",
              "      <td>1.0</td>\n",
              "      <td>0.983607</td>\n",
              "      <td>0.974026</td>\n",
              "    </tr>\n",
              "    <tr>\n",
              "      <th>6</th>\n",
              "      <td>0.967742</td>\n",
              "      <td>1.0</td>\n",
              "      <td>0.983607</td>\n",
              "      <td>0.974026</td>\n",
              "    </tr>\n",
              "    <tr>\n",
              "      <th>7</th>\n",
              "      <td>1.0</td>\n",
              "      <td>1.0</td>\n",
              "      <td>1.0</td>\n",
              "      <td>1.0</td>\n",
              "    </tr>\n",
              "    <tr>\n",
              "      <th>8</th>\n",
              "      <td>1.0</td>\n",
              "      <td>0.953846</td>\n",
              "      <td>0.976378</td>\n",
              "      <td>0.990415</td>\n",
              "    </tr>\n",
              "    <tr>\n",
              "      <th>9</th>\n",
              "      <td>1.0</td>\n",
              "      <td>1.0</td>\n",
              "      <td>1.0</td>\n",
              "      <td>1.0</td>\n",
              "    </tr>\n",
              "  </tbody>\n",
              "</table>\n",
              "</div>\n",
              "      <button class=\"colab-df-convert\" onclick=\"convertToInteractive('df-3eab0474-36b6-40f8-a1f2-072f31a26bb5')\"\n",
              "              title=\"Convert this dataframe to an interactive table.\"\n",
              "              style=\"display:none;\">\n",
              "        \n",
              "  <svg xmlns=\"http://www.w3.org/2000/svg\" height=\"24px\"viewBox=\"0 0 24 24\"\n",
              "       width=\"24px\">\n",
              "    <path d=\"M0 0h24v24H0V0z\" fill=\"none\"/>\n",
              "    <path d=\"M18.56 5.44l.94 2.06.94-2.06 2.06-.94-2.06-.94-.94-2.06-.94 2.06-2.06.94zm-11 1L8.5 8.5l.94-2.06 2.06-.94-2.06-.94L8.5 2.5l-.94 2.06-2.06.94zm10 10l.94 2.06.94-2.06 2.06-.94-2.06-.94-.94-2.06-.94 2.06-2.06.94z\"/><path d=\"M17.41 7.96l-1.37-1.37c-.4-.4-.92-.59-1.43-.59-.52 0-1.04.2-1.43.59L10.3 9.45l-7.72 7.72c-.78.78-.78 2.05 0 2.83L4 21.41c.39.39.9.59 1.41.59.51 0 1.02-.2 1.41-.59l7.78-7.78 2.81-2.81c.8-.78.8-2.07 0-2.86zM5.41 20L4 18.59l7.72-7.72 1.47 1.35L5.41 20z\"/>\n",
              "  </svg>\n",
              "      </button>\n",
              "      \n",
              "  <style>\n",
              "    .colab-df-container {\n",
              "      display:flex;\n",
              "      flex-wrap:wrap;\n",
              "      gap: 12px;\n",
              "    }\n",
              "\n",
              "    .colab-df-convert {\n",
              "      background-color: #E8F0FE;\n",
              "      border: none;\n",
              "      border-radius: 50%;\n",
              "      cursor: pointer;\n",
              "      display: none;\n",
              "      fill: #1967D2;\n",
              "      height: 32px;\n",
              "      padding: 0 0 0 0;\n",
              "      width: 32px;\n",
              "    }\n",
              "\n",
              "    .colab-df-convert:hover {\n",
              "      background-color: #E2EBFA;\n",
              "      box-shadow: 0px 1px 2px rgba(60, 64, 67, 0.3), 0px 1px 3px 1px rgba(60, 64, 67, 0.15);\n",
              "      fill: #174EA6;\n",
              "    }\n",
              "\n",
              "    [theme=dark] .colab-df-convert {\n",
              "      background-color: #3B4455;\n",
              "      fill: #D2E3FC;\n",
              "    }\n",
              "\n",
              "    [theme=dark] .colab-df-convert:hover {\n",
              "      background-color: #434B5C;\n",
              "      box-shadow: 0px 1px 3px 1px rgba(0, 0, 0, 0.15);\n",
              "      filter: drop-shadow(0px 1px 2px rgba(0, 0, 0, 0.3));\n",
              "      fill: #FFFFFF;\n",
              "    }\n",
              "  </style>\n",
              "\n",
              "      <script>\n",
              "        const buttonEl =\n",
              "          document.querySelector('#df-3eab0474-36b6-40f8-a1f2-072f31a26bb5 button.colab-df-convert');\n",
              "        buttonEl.style.display =\n",
              "          google.colab.kernel.accessAllowed ? 'block' : 'none';\n",
              "\n",
              "        async function convertToInteractive(key) {\n",
              "          const element = document.querySelector('#df-3eab0474-36b6-40f8-a1f2-072f31a26bb5');\n",
              "          const dataTable =\n",
              "            await google.colab.kernel.invokeFunction('convertToInteractive',\n",
              "                                                     [key], {});\n",
              "          if (!dataTable) return;\n",
              "\n",
              "          const docLinkHtml = 'Like what you see? Visit the ' +\n",
              "            '<a target=\"_blank\" href=https://colab.research.google.com/notebooks/data_table.ipynb>data table notebook</a>'\n",
              "            + ' to learn more about interactive tables.';\n",
              "          element.innerHTML = '';\n",
              "          dataTable['output_type'] = 'display_data';\n",
              "          await google.colab.output.renderOutput(dataTable, element);\n",
              "          const docLink = document.createElement('div');\n",
              "          docLink.innerHTML = docLinkHtml;\n",
              "          element.appendChild(docLink);\n",
              "        }\n",
              "      </script>\n",
              "    </div>\n",
              "  </div>\n",
              "  "
            ]
          },
          "metadata": {},
          "execution_count": 28
        }
      ]
    },
    {
      "cell_type": "code",
      "source": [
        "cv_results.mean()"
      ],
      "metadata": {
        "colab": {
          "base_uri": "https://localhost:8080/"
        },
        "id": "mV9_aPw-7Ba6",
        "outputId": "3747d4df-cc0d-4998-91ed-a49b63170efd"
      },
      "execution_count": null,
      "outputs": [
        {
          "output_type": "execute_result",
          "data": {
            "text/plain": [
              "Recall       0.991909\n",
              "Precision    0.984297\n",
              "F1 score     0.987907\n",
              "F2 score     0.990260\n",
              "dtype: float64"
            ]
          },
          "metadata": {},
          "execution_count": 29
        }
      ]
    },
    {
      "cell_type": "code",
      "execution_count": null,
      "metadata": {
        "id": "-jXE4CoE5Wb6"
      },
      "outputs": [],
      "source": [
        "aug_X_train = augmented_dataset['text'].values.reshape(-1, 1)"
      ]
    },
    {
      "cell_type": "code",
      "execution_count": null,
      "metadata": {
        "colab": {
          "base_uri": "https://localhost:8080/"
        },
        "id": "2SOG2Rqx5ZDE",
        "outputId": "9a4ed913-fa4c-4987-d9aa-64b843ada5d1"
      },
      "outputs": [
        {
          "output_type": "execute_result",
          "data": {
            "text/plain": [
              "(1381, 1)"
            ]
          },
          "metadata": {},
          "execution_count": 43
        }
      ],
      "source": [
        "aug_X_train.shape"
      ]
    },
    {
      "cell_type": "code",
      "execution_count": null,
      "metadata": {
        "id": "0cCYlQfg5a7e"
      },
      "outputs": [],
      "source": [
        "aug_y_train = augmented_dataset['label'].values.reshape(-1, 1)"
      ]
    },
    {
      "cell_type": "code",
      "execution_count": null,
      "metadata": {
        "colab": {
          "base_uri": "https://localhost:8080/"
        },
        "id": "4WNBaiqF5c5R",
        "outputId": "80348217-4359-4ba9-88f3-41d935ac19a6"
      },
      "outputs": [
        {
          "output_type": "execute_result",
          "data": {
            "text/plain": [
              "(1381, 1)"
            ]
          },
          "metadata": {},
          "execution_count": 45
        }
      ],
      "source": [
        "aug_y_train.shape"
      ]
    },
    {
      "cell_type": "code",
      "execution_count": null,
      "metadata": {
        "id": "NFr0qAAb5eYa"
      },
      "outputs": [],
      "source": [
        "X_test = test_data['text'].values.reshape(-1, 1)"
      ]
    },
    {
      "cell_type": "code",
      "execution_count": null,
      "metadata": {
        "id": "HzvN4MRGS-Ec"
      },
      "outputs": [],
      "source": [
        "y_test = test_data['label'].values"
      ]
    },
    {
      "cell_type": "code",
      "source": [
        "def train_blstm(sent_length, words_mean, train_texts, train_labels):\n",
        "\n",
        "  blstm_model = create_blstm_model(sent_length, words_mean, train_texts)\n",
        "  \n",
        "  history = blstm_model.fit(train_texts,\n",
        "                            train_labels,\n",
        "                            epochs=10,\n",
        "                            batch_size=16,\n",
        "                            validation_data=(X_test, y_test))\n",
        "  \n",
        "  blstm_model.evaluate(X_test, y_test)\n",
        "  y_pred = np.round(blstm_model.predict(X_test))\n",
        "\n",
        "  f1_sc = f1_score(y_test, y_pred)\n",
        "  f2score = fbeta_score(y_test, y_pred, beta=2, average='binary')\n",
        "\n",
        "\n",
        "  print(\"test accuracy = \" + str(accuracy_score(y_test, y_pred)))\n",
        "  print(\"Recall = {}\".format(recall_score(y_test, y_pred)))\n",
        "  print(\"Precision = {}\".format(precision_score(y_test, y_pred)))\n",
        "  print(\"F1 score = {}\".format(f1_sc))\n",
        "  print(\"F2 score = {}\".format(f2score))\n",
        "  print(classification_report(y_test, y_pred))\n",
        "  \n",
        "  cm = confusion_matrix(y_test, y_pred)\n",
        "\n",
        "  disp = ConfusionMatrixDisplay(confusion_matrix=cm, display_labels=[0,1])\n",
        "\n",
        "  disp.plot(cmap=plt.cm.Blues)\n",
        "  plt.show()\n",
        "\n",
        "  return f1_sc"
      ],
      "metadata": {
        "id": "m-006maNDW2s"
      },
      "execution_count": null,
      "outputs": []
    },
    {
      "cell_type": "code",
      "source": [
        "train_blstm(total_length, text_words_mean, aug_X_train, aug_y_train)"
      ],
      "metadata": {
        "colab": {
          "base_uri": "https://localhost:8080/",
          "height": 1000
        },
        "id": "fD74EO4MFMBG",
        "outputId": "3b6bdae8-3da8-43ff-c902-21e1c6710f94"
      },
      "execution_count": null,
      "outputs": [
        {
          "output_type": "stream",
          "name": "stdout",
          "text": [
            "Epoch 1/10\n",
            "87/87 [==============================] - 12s 92ms/step - loss: 19.8177 - accuracy: 0.8957 - val_loss: 4.3859 - val_accuracy: 0.9567\n",
            "Epoch 2/10\n",
            "87/87 [==============================] - 2s 25ms/step - loss: 1.0127 - accuracy: 0.9877 - val_loss: 0.2491 - val_accuracy: 0.9740\n",
            "Epoch 3/10\n",
            "87/87 [==============================] - 2s 21ms/step - loss: 0.1656 - accuracy: 0.9964 - val_loss: 0.2811 - val_accuracy: 0.9654\n",
            "Epoch 4/10\n",
            "87/87 [==============================] - 1s 15ms/step - loss: 0.1693 - accuracy: 0.9957 - val_loss: 0.1512 - val_accuracy: 0.9870\n",
            "Epoch 5/10\n",
            "87/87 [==============================] - 1s 13ms/step - loss: 0.1314 - accuracy: 0.9971 - val_loss: 0.2081 - val_accuracy: 0.9870\n",
            "Epoch 6/10\n",
            "87/87 [==============================] - 1s 15ms/step - loss: 0.1852 - accuracy: 0.9957 - val_loss: 0.1734 - val_accuracy: 0.9784\n",
            "Epoch 7/10\n",
            "87/87 [==============================] - 1s 14ms/step - loss: 0.1036 - accuracy: 0.9993 - val_loss: 0.3182 - val_accuracy: 0.9567\n",
            "Epoch 8/10\n",
            "87/87 [==============================] - 1s 8ms/step - loss: 0.0885 - accuracy: 1.0000 - val_loss: 0.1723 - val_accuracy: 0.9784\n",
            "Epoch 9/10\n",
            "87/87 [==============================] - 1s 12ms/step - loss: 0.1131 - accuracy: 0.9993 - val_loss: 0.1739 - val_accuracy: 0.9784\n",
            "Epoch 10/10\n",
            "87/87 [==============================] - 1s 14ms/step - loss: 0.1383 - accuracy: 0.9949 - val_loss: 0.2531 - val_accuracy: 0.9740\n",
            "8/8 [==============================] - 0s 4ms/step - loss: 0.2531 - accuracy: 0.9740\n",
            "8/8 [==============================] - 1s 3ms/step\n",
            "test accuracy = 0.974025974025974\n",
            "Recall = 0.8461538461538461\n",
            "Precision = 1.0\n",
            "F1 score = 0.9166666666666666\n",
            "F2 score = 0.8730158730158731\n",
            "              precision    recall  f1-score   support\n",
            "\n",
            "           0       0.97      1.00      0.98       192\n",
            "           1       1.00      0.85      0.92        39\n",
            "\n",
            "    accuracy                           0.97       231\n",
            "   macro avg       0.98      0.92      0.95       231\n",
            "weighted avg       0.97      0.97      0.97       231\n",
            "\n"
          ]
        },
        {
          "output_type": "display_data",
          "data": {
            "text/plain": [
              "<Figure size 640x480 with 2 Axes>"
            ],
            "image/png": "[encoded data removed]"
          },
          "metadata": {}
        },
        {
          "output_type": "execute_result",
          "data": {
            "text/plain": [
              "0.9166666666666666"
            ]
          },
          "metadata": {},
          "execution_count": 55
        }
      ]
    },
    {
      "cell_type": "code",
      "source": [
        "train_blstm(total_length, text_words_mean, aug_X_train, aug_y_train)"
      ],
      "metadata": {
        "id": "ScgjY6zFFKqr",
        "colab": {
          "base_uri": "https://localhost:8080/",
          "height": 1000
        },
        "outputId": "2570c30b-5c6d-427a-b97b-3db07ccc9197"
      },
      "execution_count": null,
      "outputs": [
        {
          "output_type": "stream",
          "name": "stdout",
          "text": [
            "Epoch 1/10\n",
            "87/87 [==============================] - 12s 89ms/step - loss: 19.8715 - accuracy: 0.8972 - val_loss: 4.3859 - val_accuracy: 0.9697\n",
            "Epoch 2/10\n",
            "87/87 [==============================] - 2s 21ms/step - loss: 1.0250 - accuracy: 0.9884 - val_loss: 0.3453 - val_accuracy: 0.9437\n",
            "Epoch 3/10\n",
            "87/87 [==============================] - 2s 18ms/step - loss: 0.2526 - accuracy: 0.9862 - val_loss: 0.2346 - val_accuracy: 0.9740\n",
            "Epoch 4/10\n",
            "87/87 [==============================] - 2s 19ms/step - loss: 0.1451 - accuracy: 0.9957 - val_loss: 0.4655 - val_accuracy: 0.9827\n",
            "Epoch 5/10\n",
            "87/87 [==============================] - 2s 16ms/step - loss: 0.1841 - accuracy: 0.9971 - val_loss: 0.1720 - val_accuracy: 0.9870\n",
            "Epoch 6/10\n",
            "87/87 [==============================] - 2s 16ms/step - loss: 0.1096 - accuracy: 0.9986 - val_loss: 0.3347 - val_accuracy: 0.9567\n",
            "Epoch 7/10\n",
            "87/87 [==============================] - 1s 14ms/step - loss: 0.1334 - accuracy: 0.9957 - val_loss: 0.1915 - val_accuracy: 0.9827\n",
            "Epoch 8/10\n",
            "87/87 [==============================] - 1s 9ms/step - loss: 0.1061 - accuracy: 1.0000 - val_loss: 0.1657 - val_accuracy: 0.9740\n",
            "Epoch 9/10\n",
            "87/87 [==============================] - 1s 10ms/step - loss: 0.0834 - accuracy: 1.0000 - val_loss: 0.1896 - val_accuracy: 0.9654\n",
            "Epoch 10/10\n",
            "87/87 [==============================] - 1s 12ms/step - loss: 0.0799 - accuracy: 1.0000 - val_loss: 0.2671 - val_accuracy: 0.9740\n",
            "8/8 [==============================] - 0s 4ms/step - loss: 0.2671 - accuracy: 0.9740\n",
            "8/8 [==============================] - 1s 4ms/step\n",
            "test accuracy = 0.974025974025974\n",
            "Recall = 0.8461538461538461\n",
            "Precision = 1.0\n",
            "F1 score = 0.9166666666666666\n",
            "F2 score = 0.8730158730158731\n",
            "              precision    recall  f1-score   support\n",
            "\n",
            "           0       0.97      1.00      0.98       192\n",
            "           1       1.00      0.85      0.92        39\n",
            "\n",
            "    accuracy                           0.97       231\n",
            "   macro avg       0.98      0.92      0.95       231\n",
            "weighted avg       0.97      0.97      0.97       231\n",
            "\n"
          ]
        },
        {
          "output_type": "display_data",
          "data": {
            "text/plain": [
              "<Figure size 640x480 with 2 Axes>"
            ],
            "image/png": "[encoded data removed]"
          },
          "metadata": {}
        },
        {
          "output_type": "execute_result",
          "data": {
            "text/plain": [
              "0.9166666666666666"
            ]
          },
          "metadata": {},
          "execution_count": 57
        }
      ]
    }
  ],
  "metadata": {
    "accelerator": "GPU",
    "colab": {
      "machine_shape": "hm",
      "provenance": [],
      "gpuType": "T4"
    },
    "gpuClass": "standard",
    "kernelspec": {
      "display_name": "Python 3",
      "name": "python3"
    },
    "language_info": {
      "name": "python"
    }
  },
  "nbformat": 4,
  "nbformat_minor": 0
}