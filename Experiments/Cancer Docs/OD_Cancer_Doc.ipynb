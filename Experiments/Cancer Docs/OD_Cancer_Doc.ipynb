{
  "cells": [
    {
      "cell_type": "code",
      "execution_count": null,
      "metadata": {
        "id": "_Q1SwXg76Uf3",
        "colab": {
          "base_uri": "https://localhost:8080/"
        },
        "outputId": "92f4217b-cf7f-41fb-be53-53a1a5e4fa88"
      },
      "outputs": [
        {
          "output_type": "stream",
          "name": "stderr",
          "text": [
            "[nltk_data] Downloading package stopwords to /root/nltk_data...\n",
            "[nltk_data]   Unzipping corpora/stopwords.zip.\n",
            "[nltk_data] Downloading package punkt to /root/nltk_data...\n",
            "[nltk_data]   Unzipping tokenizers/punkt.zip.\n",
            "[nltk_data] Downloading package averaged_perceptron_tagger to\n",
            "[nltk_data]     /root/nltk_data...\n",
            "[nltk_data]   Unzipping taggers/averaged_perceptron_tagger.zip.\n"
          ]
        },
        {
          "output_type": "stream",
          "name": "stdout",
          "text": [
            "Mounted at /content/gdrive\n"
          ]
        }
      ],
      "source": [
        "from datetime import datetime\n",
        "import random \n",
        "import numpy as np\n",
        "import pandas as pd\n",
        "from sklearn.preprocessing import LabelEncoder\n",
        "from sklearn.model_selection import train_test_split\n",
        "from sklearn.ensemble import RandomForestClassifier, ExtraTreesClassifier\n",
        "from sklearn.linear_model import SGDClassifier, LogisticRegression\n",
        "from sklearn.naive_bayes import GaussianNB\n",
        "from sklearn.neural_network import MLPClassifier\n",
        "from sklearn.svm import SVC\n",
        "from sklearn.neighbors import KNeighborsClassifier\n",
        "from sklearn.model_selection import GridSearchCV\n",
        "from sklearn.ensemble import StackingClassifier\n",
        "from sklearn.metrics import confusion_matrix\n",
        "from sklearn.metrics import ConfusionMatrixDisplay\n",
        "from sklearn.metrics import accuracy_score, recall_score, precision_score, f1_score, fbeta_score, classification_report\n",
        "from sklearn.metrics import make_scorer \n",
        "import matplotlib.pyplot as plt\n",
        "import gensim.downloader as api\n",
        "import nltk\n",
        "from nltk.tokenize import word_tokenize\n",
        "from nltk import pos_tag\n",
        "nltk.download('stopwords')\n",
        "nltk.download('punkt')\n",
        "nltk.download('averaged_perceptron_tagger')\n",
        "from google.colab import drive\n",
        "drive.mount('/content/gdrive')\n",
        "dir_name = \"/content/gdrive/MyDrive/Thesis/\""
      ]
    },
    {
      "cell_type": "code",
      "execution_count": null,
      "metadata": {
        "id": "hsZEizu93N6d",
        "colab": {
          "base_uri": "https://localhost:8080/",
          "height": 423
        },
        "outputId": "3d1a816f-8743-43dd-e523-1acd81a1bc11"
      },
      "outputs": [
        {
          "output_type": "execute_result",
          "data": {
            "text/plain": [
              "      label                                               text\n",
              "0         2  Thyroid surgery in  children in a single insti...\n",
              "1         2  \" The adopted strategy was the same as that us...\n",
              "2         2  coronary arterybypass grafting thrombosis ï¬b...\n",
              "3         2   Solitary plasmacytoma SP of the skull is an u...\n",
              "4         2   This study aimed to investigate serum matrix ...\n",
              "...     ...                                                ...\n",
              "7565      0  we report the case of a 24yearold man who pres...\n",
              "7566      0  among synchronous colorectal cancers scrcs rep...\n",
              "7567      0  the heterogeneity of cancer cells is generally...\n",
              "7568      0  \"adipogenesis is the process through which mes...\n",
              "7569      0  the periparturient period is one of the most c...\n",
              "\n",
              "[7570 rows x 2 columns]"
            ],
            "text/html": [
              "\n",
              "  <div id=\"df-3103fa38-e3d2-4087-a648-89fe3ba40fdc\">\n",
              "    <div class=\"colab-df-container\">\n",
              "      <div>\n",
              "<style scoped>\n",
              "    .dataframe tbody tr th:only-of-type {\n",
              "        vertical-align: middle;\n",
              "    }\n",
              "\n",
              "    .dataframe tbody tr th {\n",
              "        vertical-align: top;\n",
              "    }\n",
              "\n",
              "    .dataframe thead th {\n",
              "        text-align: right;\n",
              "    }\n",
              "</style>\n",
              "<table border=\"1\" class=\"dataframe\">\n",
              "  <thead>\n",
              "    <tr style=\"text-align: right;\">\n",
              "      <th></th>\n",
              "      <th>label</th>\n",
              "      <th>text</th>\n",
              "    </tr>\n",
              "  </thead>\n",
              "  <tbody>\n",
              "    <tr>\n",
              "      <th>0</th>\n",
              "      <td>2</td>\n",
              "      <td>Thyroid surgery in  children in a single insti...</td>\n",
              "    </tr>\n",
              "    <tr>\n",
              "      <th>1</th>\n",
              "      <td>2</td>\n",
              "      <td>\" The adopted strategy was the same as that us...</td>\n",
              "    </tr>\n",
              "    <tr>\n",
              "      <th>2</th>\n",
              "      <td>2</td>\n",
              "      <td>coronary arterybypass grafting thrombosis ï¬b...</td>\n",
              "    </tr>\n",
              "    <tr>\n",
              "      <th>3</th>\n",
              "      <td>2</td>\n",
              "      <td>Solitary plasmacytoma SP of the skull is an u...</td>\n",
              "    </tr>\n",
              "    <tr>\n",
              "      <th>4</th>\n",
              "      <td>2</td>\n",
              "      <td>This study aimed to investigate serum matrix ...</td>\n",
              "    </tr>\n",
              "    <tr>\n",
              "      <th>...</th>\n",
              "      <td>...</td>\n",
              "      <td>...</td>\n",
              "    </tr>\n",
              "    <tr>\n",
              "      <th>7565</th>\n",
              "      <td>0</td>\n",
              "      <td>we report the case of a 24yearold man who pres...</td>\n",
              "    </tr>\n",
              "    <tr>\n",
              "      <th>7566</th>\n",
              "      <td>0</td>\n",
              "      <td>among synchronous colorectal cancers scrcs rep...</td>\n",
              "    </tr>\n",
              "    <tr>\n",
              "      <th>7567</th>\n",
              "      <td>0</td>\n",
              "      <td>the heterogeneity of cancer cells is generally...</td>\n",
              "    </tr>\n",
              "    <tr>\n",
              "      <th>7568</th>\n",
              "      <td>0</td>\n",
              "      <td>\"adipogenesis is the process through which mes...</td>\n",
              "    </tr>\n",
              "    <tr>\n",
              "      <th>7569</th>\n",
              "      <td>0</td>\n",
              "      <td>the periparturient period is one of the most c...</td>\n",
              "    </tr>\n",
              "  </tbody>\n",
              "</table>\n",
              "<p>7570 rows × 2 columns</p>\n",
              "</div>\n",
              "      <button class=\"colab-df-convert\" onclick=\"convertToInteractive('df-3103fa38-e3d2-4087-a648-89fe3ba40fdc')\"\n",
              "              title=\"Convert this dataframe to an interactive table.\"\n",
              "              style=\"display:none;\">\n",
              "        \n",
              "  <svg xmlns=\"http://www.w3.org/2000/svg\" height=\"24px\"viewBox=\"0 0 24 24\"\n",
              "       width=\"24px\">\n",
              "    <path d=\"M0 0h24v24H0V0z\" fill=\"none\"/>\n",
              "    <path d=\"M18.56 5.44l.94 2.06.94-2.06 2.06-.94-2.06-.94-.94-2.06-.94 2.06-2.06.94zm-11 1L8.5 8.5l.94-2.06 2.06-.94-2.06-.94L8.5 2.5l-.94 2.06-2.06.94zm10 10l.94 2.06.94-2.06 2.06-.94-2.06-.94-.94-2.06-.94 2.06-2.06.94z\"/><path d=\"M17.41 7.96l-1.37-1.37c-.4-.4-.92-.59-1.43-.59-.52 0-1.04.2-1.43.59L10.3 9.45l-7.72 7.72c-.78.78-.78 2.05 0 2.83L4 21.41c.39.39.9.59 1.41.59.51 0 1.02-.2 1.41-.59l7.78-7.78 2.81-2.81c.8-.78.8-2.07 0-2.86zM5.41 20L4 18.59l7.72-7.72 1.47 1.35L5.41 20z\"/>\n",
              "  </svg>\n",
              "      </button>\n",
              "      \n",
              "  <style>\n",
              "    .colab-df-container {\n",
              "      display:flex;\n",
              "      flex-wrap:wrap;\n",
              "      gap: 12px;\n",
              "    }\n",
              "\n",
              "    .colab-df-convert {\n",
              "      background-color: #E8F0FE;\n",
              "      border: none;\n",
              "      border-radius: 50%;\n",
              "      cursor: pointer;\n",
              "      display: none;\n",
              "      fill: #1967D2;\n",
              "      height: 32px;\n",
              "      padding: 0 0 0 0;\n",
              "      width: 32px;\n",
              "    }\n",
              "\n",
              "    .colab-df-convert:hover {\n",
              "      background-color: #E2EBFA;\n",
              "      box-shadow: 0px 1px 2px rgba(60, 64, 67, 0.3), 0px 1px 3px 1px rgba(60, 64, 67, 0.15);\n",
              "      fill: #174EA6;\n",
              "    }\n",
              "\n",
              "    [theme=dark] .colab-df-convert {\n",
              "      background-color: #3B4455;\n",
              "      fill: #D2E3FC;\n",
              "    }\n",
              "\n",
              "    [theme=dark] .colab-df-convert:hover {\n",
              "      background-color: #434B5C;\n",
              "      box-shadow: 0px 1px 3px 1px rgba(0, 0, 0, 0.15);\n",
              "      filter: drop-shadow(0px 1px 2px rgba(0, 0, 0, 0.3));\n",
              "      fill: #FFFFFF;\n",
              "    }\n",
              "  </style>\n",
              "\n",
              "      <script>\n",
              "        const buttonEl =\n",
              "          document.querySelector('#df-3103fa38-e3d2-4087-a648-89fe3ba40fdc button.colab-df-convert');\n",
              "        buttonEl.style.display =\n",
              "          google.colab.kernel.accessAllowed ? 'block' : 'none';\n",
              "\n",
              "        async function convertToInteractive(key) {\n",
              "          const element = document.querySelector('#df-3103fa38-e3d2-4087-a648-89fe3ba40fdc');\n",
              "          const dataTable =\n",
              "            await google.colab.kernel.invokeFunction('convertToInteractive',\n",
              "                                                     [key], {});\n",
              "          if (!dataTable) return;\n",
              "\n",
              "          const docLinkHtml = 'Like what you see? Visit the ' +\n",
              "            '<a target=\"_blank\" href=https://colab.research.google.com/notebooks/data_table.ipynb>data table notebook</a>'\n",
              "            + ' to learn more about interactive tables.';\n",
              "          element.innerHTML = '';\n",
              "          dataTable['output_type'] = 'display_data';\n",
              "          await google.colab.output.renderOutput(dataTable, element);\n",
              "          const docLink = document.createElement('div');\n",
              "          docLink.innerHTML = docLinkHtml;\n",
              "          element.appendChild(docLink);\n",
              "        }\n",
              "      </script>\n",
              "    </div>\n",
              "  </div>\n",
              "  "
            ]
          },
          "metadata": {},
          "execution_count": 2
        }
      ],
      "source": [
        "def get_raw_data(dir_name):\n",
        "    #  load data\n",
        "    data = pd.read_csv('{}cancer_doc_classification.csv'.format(dir_name), encoding = 'latin-1', usecols=['a', '0'])\n",
        "    data = data.rename(columns={'0': 'label', 'a': 'text'})\n",
        "    le = LabelEncoder()\n",
        "    data['label'] = le.fit_transform( data['label'])\n",
        "    return data\n",
        "\n",
        "raw_data = get_raw_data(dir_name + 'datasets/')\n",
        "raw_data"
      ]
    },
    {
      "cell_type": "code",
      "execution_count": null,
      "metadata": {
        "id": "puuFMH0H8Li_",
        "colab": {
          "base_uri": "https://localhost:8080/",
          "height": 499
        },
        "outputId": "630a073d-0bbc-4cc8-cbed-029a6809c3b5"
      },
      "outputs": [
        {
          "output_type": "display_data",
          "data": {
            "text/plain": [
              "<Figure size 600x600 with 1 Axes>"
            ],
            "image/png": "[encoded data removed]"
          },
          "metadata": {}
        }
      ],
      "source": [
        "def get_dataset_statistics(data):\n",
        "    dataset_statistics = {'Number of messages': [data['label'].value_counts()[0], data['label'].value_counts()[1], data['label'].value_counts()[2]]}\n",
        "    df = pd.DataFrame(dataset_statistics, index=['0', '1', '2'])\n",
        "    df.plot(kind='pie', y='Number of messages', figsize=(6, 6), fontsize=14,\n",
        "            autopct=lambda v: '{:.0f} ({:.1f}%)'.format(v / 100 * data['label'].count(), v))\n",
        "    \n",
        "get_dataset_statistics(raw_data)"
      ]
    },
    {
      "cell_type": "code",
      "execution_count": null,
      "metadata": {
        "colab": {
          "base_uri": "https://localhost:8080/"
        },
        "id": "jvrPiHms7t3O",
        "outputId": "1ec06956-241b-4264-d8f9-6ee8caa52661"
      },
      "outputs": [
        {
          "output_type": "execute_result",
          "data": {
            "text/plain": [
              "False"
            ]
          },
          "metadata": {},
          "execution_count": 4
        }
      ],
      "source": [
        "raw_data['text'].is_unique"
      ]
    },
    {
      "cell_type": "code",
      "execution_count": null,
      "metadata": {
        "id": "QGX76s7s7vC1",
        "colab": {
          "base_uri": "https://localhost:8080/"
        },
        "outputId": "c10a2d8a-26ce-4f32-f1a9-24ec90b204d9"
      },
      "outputs": [
        {
          "output_type": "execute_result",
          "data": {
            "text/plain": [
              "True"
            ]
          },
          "metadata": {},
          "execution_count": 5
        }
      ],
      "source": [
        "raw_data.drop_duplicates( inplace=True)\n",
        "raw_data['text'].is_unique"
      ]
    },
    {
      "cell_type": "code",
      "execution_count": null,
      "metadata": {
        "colab": {
          "base_uri": "https://localhost:8080/",
          "height": 423
        },
        "id": "kAvJMWIH8BfT",
        "outputId": "ce7a8ca8-207f-423e-a075-e1f192711ae9"
      },
      "outputs": [
        {
          "output_type": "execute_result",
          "data": {
            "text/plain": [
              "      label                                               text\n",
              "0         2  Thyroid surgery in  children in a single insti...\n",
              "1         2  \" The adopted strategy was the same as that us...\n",
              "2         2  coronary arterybypass grafting thrombosis ï¬b...\n",
              "3         2   Solitary plasmacytoma SP of the skull is an u...\n",
              "4         2   This study aimed to investigate serum matrix ...\n",
              "...     ...                                                ...\n",
              "6863      1  \"Missense mutation distribution in the exons a...\n",
              "6929      1  \"versus gemcitabine/carboplatin in advanced no...\n",
              "7040      2   Keloids are pathological scars that grow over...\n",
              "7485      0  the anization of cells into multiple membranou...\n",
              "7497      0  several immunotherapeutic strategies that harn...\n",
              "\n",
              "[996 rows x 2 columns]"
            ],
            "text/html": [
              "\n",
              "  <div id=\"df-d5bb4665-17be-47b9-b42e-30a3f4f36a12\">\n",
              "    <div class=\"colab-df-container\">\n",
              "      <div>\n",
              "<style scoped>\n",
              "    .dataframe tbody tr th:only-of-type {\n",
              "        vertical-align: middle;\n",
              "    }\n",
              "\n",
              "    .dataframe tbody tr th {\n",
              "        vertical-align: top;\n",
              "    }\n",
              "\n",
              "    .dataframe thead th {\n",
              "        text-align: right;\n",
              "    }\n",
              "</style>\n",
              "<table border=\"1\" class=\"dataframe\">\n",
              "  <thead>\n",
              "    <tr style=\"text-align: right;\">\n",
              "      <th></th>\n",
              "      <th>label</th>\n",
              "      <th>text</th>\n",
              "    </tr>\n",
              "  </thead>\n",
              "  <tbody>\n",
              "    <tr>\n",
              "      <th>0</th>\n",
              "      <td>2</td>\n",
              "      <td>Thyroid surgery in  children in a single insti...</td>\n",
              "    </tr>\n",
              "    <tr>\n",
              "      <th>1</th>\n",
              "      <td>2</td>\n",
              "      <td>\" The adopted strategy was the same as that us...</td>\n",
              "    </tr>\n",
              "    <tr>\n",
              "      <th>2</th>\n",
              "      <td>2</td>\n",
              "      <td>coronary arterybypass grafting thrombosis ï¬b...</td>\n",
              "    </tr>\n",
              "    <tr>\n",
              "      <th>3</th>\n",
              "      <td>2</td>\n",
              "      <td>Solitary plasmacytoma SP of the skull is an u...</td>\n",
              "    </tr>\n",
              "    <tr>\n",
              "      <th>4</th>\n",
              "      <td>2</td>\n",
              "      <td>This study aimed to investigate serum matrix ...</td>\n",
              "    </tr>\n",
              "    <tr>\n",
              "      <th>...</th>\n",
              "      <td>...</td>\n",
              "      <td>...</td>\n",
              "    </tr>\n",
              "    <tr>\n",
              "      <th>6863</th>\n",
              "      <td>1</td>\n",
              "      <td>\"Missense mutation distribution in the exons a...</td>\n",
              "    </tr>\n",
              "    <tr>\n",
              "      <th>6929</th>\n",
              "      <td>1</td>\n",
              "      <td>\"versus gemcitabine/carboplatin in advanced no...</td>\n",
              "    </tr>\n",
              "    <tr>\n",
              "      <th>7040</th>\n",
              "      <td>2</td>\n",
              "      <td>Keloids are pathological scars that grow over...</td>\n",
              "    </tr>\n",
              "    <tr>\n",
              "      <th>7485</th>\n",
              "      <td>0</td>\n",
              "      <td>the anization of cells into multiple membranou...</td>\n",
              "    </tr>\n",
              "    <tr>\n",
              "      <th>7497</th>\n",
              "      <td>0</td>\n",
              "      <td>several immunotherapeutic strategies that harn...</td>\n",
              "    </tr>\n",
              "  </tbody>\n",
              "</table>\n",
              "<p>996 rows × 2 columns</p>\n",
              "</div>\n",
              "      <button class=\"colab-df-convert\" onclick=\"convertToInteractive('df-d5bb4665-17be-47b9-b42e-30a3f4f36a12')\"\n",
              "              title=\"Convert this dataframe to an interactive table.\"\n",
              "              style=\"display:none;\">\n",
              "        \n",
              "  <svg xmlns=\"http://www.w3.org/2000/svg\" height=\"24px\"viewBox=\"0 0 24 24\"\n",
              "       width=\"24px\">\n",
              "    <path d=\"M0 0h24v24H0V0z\" fill=\"none\"/>\n",
              "    <path d=\"M18.56 5.44l.94 2.06.94-2.06 2.06-.94-2.06-.94-.94-2.06-.94 2.06-2.06.94zm-11 1L8.5 8.5l.94-2.06 2.06-.94-2.06-.94L8.5 2.5l-.94 2.06-2.06.94zm10 10l.94 2.06.94-2.06 2.06-.94-2.06-.94-.94-2.06-.94 2.06-2.06.94z\"/><path d=\"M17.41 7.96l-1.37-1.37c-.4-.4-.92-.59-1.43-.59-.52 0-1.04.2-1.43.59L10.3 9.45l-7.72 7.72c-.78.78-.78 2.05 0 2.83L4 21.41c.39.39.9.59 1.41.59.51 0 1.02-.2 1.41-.59l7.78-7.78 2.81-2.81c.8-.78.8-2.07 0-2.86zM5.41 20L4 18.59l7.72-7.72 1.47 1.35L5.41 20z\"/>\n",
              "  </svg>\n",
              "      </button>\n",
              "      \n",
              "  <style>\n",
              "    .colab-df-container {\n",
              "      display:flex;\n",
              "      flex-wrap:wrap;\n",
              "      gap: 12px;\n",
              "    }\n",
              "\n",
              "    .colab-df-convert {\n",
              "      background-color: #E8F0FE;\n",
              "      border: none;\n",
              "      border-radius: 50%;\n",
              "      cursor: pointer;\n",
              "      display: none;\n",
              "      fill: #1967D2;\n",
              "      height: 32px;\n",
              "      padding: 0 0 0 0;\n",
              "      width: 32px;\n",
              "    }\n",
              "\n",
              "    .colab-df-convert:hover {\n",
              "      background-color: #E2EBFA;\n",
              "      box-shadow: 0px 1px 2px rgba(60, 64, 67, 0.3), 0px 1px 3px 1px rgba(60, 64, 67, 0.15);\n",
              "      fill: #174EA6;\n",
              "    }\n",
              "\n",
              "    [theme=dark] .colab-df-convert {\n",
              "      background-color: #3B4455;\n",
              "      fill: #D2E3FC;\n",
              "    }\n",
              "\n",
              "    [theme=dark] .colab-df-convert:hover {\n",
              "      background-color: #434B5C;\n",
              "      box-shadow: 0px 1px 3px 1px rgba(0, 0, 0, 0.15);\n",
              "      filter: drop-shadow(0px 1px 2px rgba(0, 0, 0, 0.3));\n",
              "      fill: #FFFFFF;\n",
              "    }\n",
              "  </style>\n",
              "\n",
              "      <script>\n",
              "        const buttonEl =\n",
              "          document.querySelector('#df-d5bb4665-17be-47b9-b42e-30a3f4f36a12 button.colab-df-convert');\n",
              "        buttonEl.style.display =\n",
              "          google.colab.kernel.accessAllowed ? 'block' : 'none';\n",
              "\n",
              "        async function convertToInteractive(key) {\n",
              "          const element = document.querySelector('#df-d5bb4665-17be-47b9-b42e-30a3f4f36a12');\n",
              "          const dataTable =\n",
              "            await google.colab.kernel.invokeFunction('convertToInteractive',\n",
              "                                                     [key], {});\n",
              "          if (!dataTable) return;\n",
              "\n",
              "          const docLinkHtml = 'Like what you see? Visit the ' +\n",
              "            '<a target=\"_blank\" href=https://colab.research.google.com/notebooks/data_table.ipynb>data table notebook</a>'\n",
              "            + ' to learn more about interactive tables.';\n",
              "          element.innerHTML = '';\n",
              "          dataTable['output_type'] = 'display_data';\n",
              "          await google.colab.output.renderOutput(dataTable, element);\n",
              "          const docLink = document.createElement('div');\n",
              "          docLink.innerHTML = docLinkHtml;\n",
              "          element.appendChild(docLink);\n",
              "        }\n",
              "      </script>\n",
              "    </div>\n",
              "  </div>\n",
              "  "
            ]
          },
          "metadata": {},
          "execution_count": 6
        }
      ],
      "source": [
        "raw_data"
      ]
    },
    {
      "cell_type": "code",
      "execution_count": null,
      "metadata": {
        "colab": {
          "base_uri": "https://localhost:8080/",
          "height": 499
        },
        "id": "M29miyuS8dVA",
        "outputId": "71a9c6b1-cc19-48d1-d575-e9c09bc82c34"
      },
      "outputs": [
        {
          "output_type": "display_data",
          "data": {
            "text/plain": [
              "<Figure size 600x600 with 1 Axes>"
            ],
            "image/png": "[encoded data removed]"
          },
          "metadata": {}
        }
      ],
      "source": [
        "get_dataset_statistics(raw_data)"
      ]
    },
    {
      "cell_type": "code",
      "source": [
        "text_words_lengths = [len(raw_data.loc[i]['text'].split()) for i in raw_data.index ]\n",
        "total_length = np.sum(text_words_lengths)\n",
        "text_words_mean = int(np.mean(text_words_lengths))\n",
        "text_words_mean"
      ],
      "metadata": {
        "colab": {
          "base_uri": "https://localhost:8080/"
        },
        "id": "V7BZ_ruFWLzE",
        "outputId": "a4aa5979-1577-4af5-b5d5-2a0ea9c565d3"
      },
      "execution_count": null,
      "outputs": [
        {
          "output_type": "execute_result",
          "data": {
            "text/plain": [
              "3123"
            ]
          },
          "metadata": {},
          "execution_count": 8
        }
      ]
    },
    {
      "cell_type": "code",
      "execution_count": null,
      "metadata": {
        "id": "9a7oMalo8eW7"
      },
      "outputs": [],
      "source": [
        "X_train, X_test, y_train, y_test = train_test_split(raw_data['text'].to_numpy(), raw_data['label'].to_numpy(), stratify=raw_data['label'].to_numpy(), test_size=0.2, random_state=24)"
      ]
    },
    {
      "cell_type": "code",
      "execution_count": null,
      "metadata": {
        "colab": {
          "base_uri": "https://localhost:8080/",
          "height": 499
        },
        "id": "4Qah2hem-rzC",
        "outputId": "ebf46ce6-0a9d-48aa-cac3-052387b80811"
      },
      "outputs": [
        {
          "output_type": "display_data",
          "data": {
            "text/plain": [
              "<Figure size 600x600 with 1 Axes>"
            ],
            "image/png": "[encoded data removed]"
          },
          "metadata": {}
        }
      ],
      "source": [
        "get_dataset_statistics(pd.DataFrame({'label': y_train}))"
      ]
    },
    {
      "cell_type": "code",
      "execution_count": null,
      "metadata": {
        "colab": {
          "base_uri": "https://localhost:8080/",
          "height": 499
        },
        "id": "tBCiPYyy-0YC",
        "outputId": "d464f272-0a2e-4ca1-a0c8-273edc343726"
      },
      "outputs": [
        {
          "output_type": "display_data",
          "data": {
            "text/plain": [
              "<Figure size 600x600 with 1 Axes>"
            ],
            "image/png": "[encoded data removed]"
          },
          "metadata": {}
        }
      ],
      "source": [
        "get_dataset_statistics(pd.DataFrame({'label': y_test}))"
      ]
    },
    {
      "cell_type": "code",
      "execution_count": null,
      "metadata": {
        "id": "cVetnUhn-6K9",
        "colab": {
          "base_uri": "https://localhost:8080/",
          "height": 424
        },
        "outputId": "128da57b-30a9-4acc-a52a-34912ab49174"
      },
      "outputs": [
        {
          "output_type": "execute_result",
          "data": {
            "text/plain": [
              "                                                  text  label\n",
              "0    in  a novel coronavirus sarscov2 was found to ...      0\n",
              "1    \"  the incidence of thyroid carcinoma is incre...      0\n",
              "2    Sequential Use of aYeastCEA Therapeutic Cancer...      2\n",
              "3    Paired box protein8 PAX8 immunohistochemical e...      2\n",
              "4     Is preoperative heart rate variability aprogn...      2\n",
              "..                                                 ...    ...\n",
              "791  \"widely usedcancerspecific questionnaire asses...      2\n",
              "792  \"Thus mathematical models that can estimate lo...      1\n",
              "793  \"Trophoblast cell surface antigen  TROP2 is ov...      2\n",
              "794  overexpression of epithelial cell adhesion mol...      0\n",
              "795  \"Statistical analysis We used Chi-square test ...      1\n",
              "\n",
              "[796 rows x 2 columns]"
            ],
            "text/html": [
              "\n",
              "  <div id=\"df-bf8d482a-bd61-4a01-bec4-2c733f3c646e\">\n",
              "    <div class=\"colab-df-container\">\n",
              "      <div>\n",
              "<style scoped>\n",
              "    .dataframe tbody tr th:only-of-type {\n",
              "        vertical-align: middle;\n",
              "    }\n",
              "\n",
              "    .dataframe tbody tr th {\n",
              "        vertical-align: top;\n",
              "    }\n",
              "\n",
              "    .dataframe thead th {\n",
              "        text-align: right;\n",
              "    }\n",
              "</style>\n",
              "<table border=\"1\" class=\"dataframe\">\n",
              "  <thead>\n",
              "    <tr style=\"text-align: right;\">\n",
              "      <th></th>\n",
              "      <th>text</th>\n",
              "      <th>label</th>\n",
              "    </tr>\n",
              "  </thead>\n",
              "  <tbody>\n",
              "    <tr>\n",
              "      <th>0</th>\n",
              "      <td>in  a novel coronavirus sarscov2 was found to ...</td>\n",
              "      <td>0</td>\n",
              "    </tr>\n",
              "    <tr>\n",
              "      <th>1</th>\n",
              "      <td>\"  the incidence of thyroid carcinoma is incre...</td>\n",
              "      <td>0</td>\n",
              "    </tr>\n",
              "    <tr>\n",
              "      <th>2</th>\n",
              "      <td>Sequential Use of aYeastCEA Therapeutic Cancer...</td>\n",
              "      <td>2</td>\n",
              "    </tr>\n",
              "    <tr>\n",
              "      <th>3</th>\n",
              "      <td>Paired box protein8 PAX8 immunohistochemical e...</td>\n",
              "      <td>2</td>\n",
              "    </tr>\n",
              "    <tr>\n",
              "      <th>4</th>\n",
              "      <td>Is preoperative heart rate variability aprogn...</td>\n",
              "      <td>2</td>\n",
              "    </tr>\n",
              "    <tr>\n",
              "      <th>...</th>\n",
              "      <td>...</td>\n",
              "      <td>...</td>\n",
              "    </tr>\n",
              "    <tr>\n",
              "      <th>791</th>\n",
              "      <td>\"widely usedcancerspecific questionnaire asses...</td>\n",
              "      <td>2</td>\n",
              "    </tr>\n",
              "    <tr>\n",
              "      <th>792</th>\n",
              "      <td>\"Thus mathematical models that can estimate lo...</td>\n",
              "      <td>1</td>\n",
              "    </tr>\n",
              "    <tr>\n",
              "      <th>793</th>\n",
              "      <td>\"Trophoblast cell surface antigen  TROP2 is ov...</td>\n",
              "      <td>2</td>\n",
              "    </tr>\n",
              "    <tr>\n",
              "      <th>794</th>\n",
              "      <td>overexpression of epithelial cell adhesion mol...</td>\n",
              "      <td>0</td>\n",
              "    </tr>\n",
              "    <tr>\n",
              "      <th>795</th>\n",
              "      <td>\"Statistical analysis We used Chi-square test ...</td>\n",
              "      <td>1</td>\n",
              "    </tr>\n",
              "  </tbody>\n",
              "</table>\n",
              "<p>796 rows × 2 columns</p>\n",
              "</div>\n",
              "      <button class=\"colab-df-convert\" onclick=\"convertToInteractive('df-bf8d482a-bd61-4a01-bec4-2c733f3c646e')\"\n",
              "              title=\"Convert this dataframe to an interactive table.\"\n",
              "              style=\"display:none;\">\n",
              "        \n",
              "  <svg xmlns=\"http://www.w3.org/2000/svg\" height=\"24px\"viewBox=\"0 0 24 24\"\n",
              "       width=\"24px\">\n",
              "    <path d=\"M0 0h24v24H0V0z\" fill=\"none\"/>\n",
              "    <path d=\"M18.56 5.44l.94 2.06.94-2.06 2.06-.94-2.06-.94-.94-2.06-.94 2.06-2.06.94zm-11 1L8.5 8.5l.94-2.06 2.06-.94-2.06-.94L8.5 2.5l-.94 2.06-2.06.94zm10 10l.94 2.06.94-2.06 2.06-.94-2.06-.94-.94-2.06-.94 2.06-2.06.94z\"/><path d=\"M17.41 7.96l-1.37-1.37c-.4-.4-.92-.59-1.43-.59-.52 0-1.04.2-1.43.59L10.3 9.45l-7.72 7.72c-.78.78-.78 2.05 0 2.83L4 21.41c.39.39.9.59 1.41.59.51 0 1.02-.2 1.41-.59l7.78-7.78 2.81-2.81c.8-.78.8-2.07 0-2.86zM5.41 20L4 18.59l7.72-7.72 1.47 1.35L5.41 20z\"/>\n",
              "  </svg>\n",
              "      </button>\n",
              "      \n",
              "  <style>\n",
              "    .colab-df-container {\n",
              "      display:flex;\n",
              "      flex-wrap:wrap;\n",
              "      gap: 12px;\n",
              "    }\n",
              "\n",
              "    .colab-df-convert {\n",
              "      background-color: #E8F0FE;\n",
              "      border: none;\n",
              "      border-radius: 50%;\n",
              "      cursor: pointer;\n",
              "      display: none;\n",
              "      fill: #1967D2;\n",
              "      height: 32px;\n",
              "      padding: 0 0 0 0;\n",
              "      width: 32px;\n",
              "    }\n",
              "\n",
              "    .colab-df-convert:hover {\n",
              "      background-color: #E2EBFA;\n",
              "      box-shadow: 0px 1px 2px rgba(60, 64, 67, 0.3), 0px 1px 3px 1px rgba(60, 64, 67, 0.15);\n",
              "      fill: #174EA6;\n",
              "    }\n",
              "\n",
              "    [theme=dark] .colab-df-convert {\n",
              "      background-color: #3B4455;\n",
              "      fill: #D2E3FC;\n",
              "    }\n",
              "\n",
              "    [theme=dark] .colab-df-convert:hover {\n",
              "      background-color: #434B5C;\n",
              "      box-shadow: 0px 1px 3px 1px rgba(0, 0, 0, 0.15);\n",
              "      filter: drop-shadow(0px 1px 2px rgba(0, 0, 0, 0.3));\n",
              "      fill: #FFFFFF;\n",
              "    }\n",
              "  </style>\n",
              "\n",
              "      <script>\n",
              "        const buttonEl =\n",
              "          document.querySelector('#df-bf8d482a-bd61-4a01-bec4-2c733f3c646e button.colab-df-convert');\n",
              "        buttonEl.style.display =\n",
              "          google.colab.kernel.accessAllowed ? 'block' : 'none';\n",
              "\n",
              "        async function convertToInteractive(key) {\n",
              "          const element = document.querySelector('#df-bf8d482a-bd61-4a01-bec4-2c733f3c646e');\n",
              "          const dataTable =\n",
              "            await google.colab.kernel.invokeFunction('convertToInteractive',\n",
              "                                                     [key], {});\n",
              "          if (!dataTable) return;\n",
              "\n",
              "          const docLinkHtml = 'Like what you see? Visit the ' +\n",
              "            '<a target=\"_blank\" href=https://colab.research.google.com/notebooks/data_table.ipynb>data table notebook</a>'\n",
              "            + ' to learn more about interactive tables.';\n",
              "          element.innerHTML = '';\n",
              "          dataTable['output_type'] = 'display_data';\n",
              "          await google.colab.output.renderOutput(dataTable, element);\n",
              "          const docLink = document.createElement('div');\n",
              "          docLink.innerHTML = docLinkHtml;\n",
              "          element.appendChild(docLink);\n",
              "        }\n",
              "      </script>\n",
              "    </div>\n",
              "  </div>\n",
              "  "
            ]
          },
          "metadata": {},
          "execution_count": 11
        }
      ],
      "source": [
        "train_data = pd.DataFrame({'text': X_train, 'label': y_train})\n",
        "train_data"
      ]
    },
    {
      "cell_type": "code",
      "execution_count": null,
      "metadata": {
        "id": "ppXduhD3Okz8",
        "colab": {
          "base_uri": "https://localhost:8080/",
          "height": 424
        },
        "outputId": "95d3a29e-efb5-4839-9bde-aaf5b60bed01"
      },
      "outputs": [
        {
          "output_type": "execute_result",
          "data": {
            "text/plain": [
              "                                                  text  label\n",
              "0    \"A decrease of 50% or more from baseline urina...      1\n",
              "1    \"The remaining 24 (25.3%) were not differentia...      1\n",
              "2    \"Results Exceptional response to an IGF-1R inh...      1\n",
              "3    \"detection and quantification of cancer DNA mo...      1\n",
              "4    \"1.3±0.4 cm (range: 0.7-2.0 cm) for Group A an...      1\n",
              "..                                                 ...    ...\n",
              "195  \"  heat shock transcription factor1 hsf1 was o...      0\n",
              "196  \"fundamental  influences  of  sex  and  gender...      2\n",
              "197  Activation by NaturalPhytochemicals An Overvie...      2\n",
              "198  \"Effects of lowdose computed tomography LDCT s...      2\n",
              "199  \"The probands father (II-5) and sister (III-5...      1\n",
              "\n",
              "[200 rows x 2 columns]"
            ],
            "text/html": [
              "\n",
              "  <div id=\"df-915a0280-c047-4ced-b323-79c1bad8e1fa\">\n",
              "    <div class=\"colab-df-container\">\n",
              "      <div>\n",
              "<style scoped>\n",
              "    .dataframe tbody tr th:only-of-type {\n",
              "        vertical-align: middle;\n",
              "    }\n",
              "\n",
              "    .dataframe tbody tr th {\n",
              "        vertical-align: top;\n",
              "    }\n",
              "\n",
              "    .dataframe thead th {\n",
              "        text-align: right;\n",
              "    }\n",
              "</style>\n",
              "<table border=\"1\" class=\"dataframe\">\n",
              "  <thead>\n",
              "    <tr style=\"text-align: right;\">\n",
              "      <th></th>\n",
              "      <th>text</th>\n",
              "      <th>label</th>\n",
              "    </tr>\n",
              "  </thead>\n",
              "  <tbody>\n",
              "    <tr>\n",
              "      <th>0</th>\n",
              "      <td>\"A decrease of 50% or more from baseline urina...</td>\n",
              "      <td>1</td>\n",
              "    </tr>\n",
              "    <tr>\n",
              "      <th>1</th>\n",
              "      <td>\"The remaining 24 (25.3%) were not differentia...</td>\n",
              "      <td>1</td>\n",
              "    </tr>\n",
              "    <tr>\n",
              "      <th>2</th>\n",
              "      <td>\"Results Exceptional response to an IGF-1R inh...</td>\n",
              "      <td>1</td>\n",
              "    </tr>\n",
              "    <tr>\n",
              "      <th>3</th>\n",
              "      <td>\"detection and quantification of cancer DNA mo...</td>\n",
              "      <td>1</td>\n",
              "    </tr>\n",
              "    <tr>\n",
              "      <th>4</th>\n",
              "      <td>\"1.3±0.4 cm (range: 0.7-2.0 cm) for Group A an...</td>\n",
              "      <td>1</td>\n",
              "    </tr>\n",
              "    <tr>\n",
              "      <th>...</th>\n",
              "      <td>...</td>\n",
              "      <td>...</td>\n",
              "    </tr>\n",
              "    <tr>\n",
              "      <th>195</th>\n",
              "      <td>\"  heat shock transcription factor1 hsf1 was o...</td>\n",
              "      <td>0</td>\n",
              "    </tr>\n",
              "    <tr>\n",
              "      <th>196</th>\n",
              "      <td>\"fundamental  influences  of  sex  and  gender...</td>\n",
              "      <td>2</td>\n",
              "    </tr>\n",
              "    <tr>\n",
              "      <th>197</th>\n",
              "      <td>Activation by NaturalPhytochemicals An Overvie...</td>\n",
              "      <td>2</td>\n",
              "    </tr>\n",
              "    <tr>\n",
              "      <th>198</th>\n",
              "      <td>\"Effects of lowdose computed tomography LDCT s...</td>\n",
              "      <td>2</td>\n",
              "    </tr>\n",
              "    <tr>\n",
              "      <th>199</th>\n",
              "      <td>\"The probands father (II-5) and sister (III-5...</td>\n",
              "      <td>1</td>\n",
              "    </tr>\n",
              "  </tbody>\n",
              "</table>\n",
              "<p>200 rows × 2 columns</p>\n",
              "</div>\n",
              "      <button class=\"colab-df-convert\" onclick=\"convertToInteractive('df-915a0280-c047-4ced-b323-79c1bad8e1fa')\"\n",
              "              title=\"Convert this dataframe to an interactive table.\"\n",
              "              style=\"display:none;\">\n",
              "        \n",
              "  <svg xmlns=\"http://www.w3.org/2000/svg\" height=\"24px\"viewBox=\"0 0 24 24\"\n",
              "       width=\"24px\">\n",
              "    <path d=\"M0 0h24v24H0V0z\" fill=\"none\"/>\n",
              "    <path d=\"M18.56 5.44l.94 2.06.94-2.06 2.06-.94-2.06-.94-.94-2.06-.94 2.06-2.06.94zm-11 1L8.5 8.5l.94-2.06 2.06-.94-2.06-.94L8.5 2.5l-.94 2.06-2.06.94zm10 10l.94 2.06.94-2.06 2.06-.94-2.06-.94-.94-2.06-.94 2.06-2.06.94z\"/><path d=\"M17.41 7.96l-1.37-1.37c-.4-.4-.92-.59-1.43-.59-.52 0-1.04.2-1.43.59L10.3 9.45l-7.72 7.72c-.78.78-.78 2.05 0 2.83L4 21.41c.39.39.9.59 1.41.59.51 0 1.02-.2 1.41-.59l7.78-7.78 2.81-2.81c.8-.78.8-2.07 0-2.86zM5.41 20L4 18.59l7.72-7.72 1.47 1.35L5.41 20z\"/>\n",
              "  </svg>\n",
              "      </button>\n",
              "      \n",
              "  <style>\n",
              "    .colab-df-container {\n",
              "      display:flex;\n",
              "      flex-wrap:wrap;\n",
              "      gap: 12px;\n",
              "    }\n",
              "\n",
              "    .colab-df-convert {\n",
              "      background-color: #E8F0FE;\n",
              "      border: none;\n",
              "      border-radius: 50%;\n",
              "      cursor: pointer;\n",
              "      display: none;\n",
              "      fill: #1967D2;\n",
              "      height: 32px;\n",
              "      padding: 0 0 0 0;\n",
              "      width: 32px;\n",
              "    }\n",
              "\n",
              "    .colab-df-convert:hover {\n",
              "      background-color: #E2EBFA;\n",
              "      box-shadow: 0px 1px 2px rgba(60, 64, 67, 0.3), 0px 1px 3px 1px rgba(60, 64, 67, 0.15);\n",
              "      fill: #174EA6;\n",
              "    }\n",
              "\n",
              "    [theme=dark] .colab-df-convert {\n",
              "      background-color: #3B4455;\n",
              "      fill: #D2E3FC;\n",
              "    }\n",
              "\n",
              "    [theme=dark] .colab-df-convert:hover {\n",
              "      background-color: #434B5C;\n",
              "      box-shadow: 0px 1px 3px 1px rgba(0, 0, 0, 0.15);\n",
              "      filter: drop-shadow(0px 1px 2px rgba(0, 0, 0, 0.3));\n",
              "      fill: #FFFFFF;\n",
              "    }\n",
              "  </style>\n",
              "\n",
              "      <script>\n",
              "        const buttonEl =\n",
              "          document.querySelector('#df-915a0280-c047-4ced-b323-79c1bad8e1fa button.colab-df-convert');\n",
              "        buttonEl.style.display =\n",
              "          google.colab.kernel.accessAllowed ? 'block' : 'none';\n",
              "\n",
              "        async function convertToInteractive(key) {\n",
              "          const element = document.querySelector('#df-915a0280-c047-4ced-b323-79c1bad8e1fa');\n",
              "          const dataTable =\n",
              "            await google.colab.kernel.invokeFunction('convertToInteractive',\n",
              "                                                     [key], {});\n",
              "          if (!dataTable) return;\n",
              "\n",
              "          const docLinkHtml = 'Like what you see? Visit the ' +\n",
              "            '<a target=\"_blank\" href=https://colab.research.google.com/notebooks/data_table.ipynb>data table notebook</a>'\n",
              "            + ' to learn more about interactive tables.';\n",
              "          element.innerHTML = '';\n",
              "          dataTable['output_type'] = 'display_data';\n",
              "          await google.colab.output.renderOutput(dataTable, element);\n",
              "          const docLink = document.createElement('div');\n",
              "          docLink.innerHTML = docLinkHtml;\n",
              "          element.appendChild(docLink);\n",
              "        }\n",
              "      </script>\n",
              "    </div>\n",
              "  </div>\n",
              "  "
            ]
          },
          "metadata": {},
          "execution_count": 12
        }
      ],
      "source": [
        "test_data = pd.DataFrame({'text': X_test, 'label': y_test})\n",
        "test_data"
      ]
    },
    {
      "cell_type": "markdown",
      "metadata": {
        "id": "OiEsQgky_HtA"
      },
      "source": [
        "# Text Preprocessing "
      ]
    },
    {
      "cell_type": "code",
      "execution_count": null,
      "metadata": {
        "id": "gBlxYHn9_C_e"
      },
      "outputs": [],
      "source": [
        "import requests\n",
        "stopwords_list = requests.get(\"https://github.com/stopwords-iso/stopwords-en/blob/master/stopwords-en.txt\").content\n",
        "stopwords = set(stopwords_list.decode().splitlines())"
      ]
    },
    {
      "cell_type": "code",
      "execution_count": null,
      "metadata": {
        "id": "trlE3rdD_Lr7"
      },
      "outputs": [],
      "source": [
        "import string\n",
        "from nltk.corpus import stopwords\n",
        "from sklearn.feature_extraction.text import ENGLISH_STOP_WORDS\n",
        "sklearn_stopwords = ENGLISH_STOP_WORDS\n",
        "\n",
        "stop_words = set(stopwords.words('english'))\n",
        "stop_words.update(sklearn_stopwords)\n",
        "\n",
        "def text_preprocessing(raw_text):\n",
        "  text_words = raw_text.translate(str.maketrans('', '', string.punctuation))\n",
        "  msg_tokens = word_tokenize(text_words.lower())\n",
        "  filtered_text = [token for token in msg_tokens if not token in stop_words]\n",
        "  return \" \".join(filtered_text)"
      ]
    },
    {
      "cell_type": "code",
      "execution_count": null,
      "metadata": {
        "colab": {
          "base_uri": "https://localhost:8080/",
          "height": 424
        },
        "id": "bnTrzKDQALIB",
        "outputId": "8897147b-4fa5-433b-ff41-3ca05d130aad"
      },
      "outputs": [
        {
          "output_type": "execute_result",
          "data": {
            "text/plain": [
              "                                                  text  label\n",
              "0    novel coronavirus sarscov2 cause highly contag...      0\n",
              "1    incidence thyroid carcinoma increasing world s...      0\n",
              "2    sequential use ayeastcea therapeutic cancervac...      2\n",
              "3    paired box protein8 pax8 immunohistochemical e...      2\n",
              "4    preoperative heart rate variability aprognosti...      2\n",
              "..                                                 ...    ...\n",
              "791  widely usedcancerspecific questionnaire assess...      2\n",
              "792  mathematical models estimate longterm costeffe...      1\n",
              "793  trophoblast cell surface antigen trop2 overexp...      2\n",
              "794  overexpression epithelial cell adhesion molecu...      0\n",
              "795  statistical analysis used chisquare test exami...      1\n",
              "\n",
              "[796 rows x 2 columns]"
            ],
            "text/html": [
              "\n",
              "  <div id=\"df-a0a69191-530e-4e61-9984-0ae61aa2bb98\">\n",
              "    <div class=\"colab-df-container\">\n",
              "      <div>\n",
              "<style scoped>\n",
              "    .dataframe tbody tr th:only-of-type {\n",
              "        vertical-align: middle;\n",
              "    }\n",
              "\n",
              "    .dataframe tbody tr th {\n",
              "        vertical-align: top;\n",
              "    }\n",
              "\n",
              "    .dataframe thead th {\n",
              "        text-align: right;\n",
              "    }\n",
              "</style>\n",
              "<table border=\"1\" class=\"dataframe\">\n",
              "  <thead>\n",
              "    <tr style=\"text-align: right;\">\n",
              "      <th></th>\n",
              "      <th>text</th>\n",
              "      <th>label</th>\n",
              "    </tr>\n",
              "  </thead>\n",
              "  <tbody>\n",
              "    <tr>\n",
              "      <th>0</th>\n",
              "      <td>novel coronavirus sarscov2 cause highly contag...</td>\n",
              "      <td>0</td>\n",
              "    </tr>\n",
              "    <tr>\n",
              "      <th>1</th>\n",
              "      <td>incidence thyroid carcinoma increasing world s...</td>\n",
              "      <td>0</td>\n",
              "    </tr>\n",
              "    <tr>\n",
              "      <th>2</th>\n",
              "      <td>sequential use ayeastcea therapeutic cancervac...</td>\n",
              "      <td>2</td>\n",
              "    </tr>\n",
              "    <tr>\n",
              "      <th>3</th>\n",
              "      <td>paired box protein8 pax8 immunohistochemical e...</td>\n",
              "      <td>2</td>\n",
              "    </tr>\n",
              "    <tr>\n",
              "      <th>4</th>\n",
              "      <td>preoperative heart rate variability aprognosti...</td>\n",
              "      <td>2</td>\n",
              "    </tr>\n",
              "    <tr>\n",
              "      <th>...</th>\n",
              "      <td>...</td>\n",
              "      <td>...</td>\n",
              "    </tr>\n",
              "    <tr>\n",
              "      <th>791</th>\n",
              "      <td>widely usedcancerspecific questionnaire assess...</td>\n",
              "      <td>2</td>\n",
              "    </tr>\n",
              "    <tr>\n",
              "      <th>792</th>\n",
              "      <td>mathematical models estimate longterm costeffe...</td>\n",
              "      <td>1</td>\n",
              "    </tr>\n",
              "    <tr>\n",
              "      <th>793</th>\n",
              "      <td>trophoblast cell surface antigen trop2 overexp...</td>\n",
              "      <td>2</td>\n",
              "    </tr>\n",
              "    <tr>\n",
              "      <th>794</th>\n",
              "      <td>overexpression epithelial cell adhesion molecu...</td>\n",
              "      <td>0</td>\n",
              "    </tr>\n",
              "    <tr>\n",
              "      <th>795</th>\n",
              "      <td>statistical analysis used chisquare test exami...</td>\n",
              "      <td>1</td>\n",
              "    </tr>\n",
              "  </tbody>\n",
              "</table>\n",
              "<p>796 rows × 2 columns</p>\n",
              "</div>\n",
              "      <button class=\"colab-df-convert\" onclick=\"convertToInteractive('df-a0a69191-530e-4e61-9984-0ae61aa2bb98')\"\n",
              "              title=\"Convert this dataframe to an interactive table.\"\n",
              "              style=\"display:none;\">\n",
              "        \n",
              "  <svg xmlns=\"http://www.w3.org/2000/svg\" height=\"24px\"viewBox=\"0 0 24 24\"\n",
              "       width=\"24px\">\n",
              "    <path d=\"M0 0h24v24H0V0z\" fill=\"none\"/>\n",
              "    <path d=\"M18.56 5.44l.94 2.06.94-2.06 2.06-.94-2.06-.94-.94-2.06-.94 2.06-2.06.94zm-11 1L8.5 8.5l.94-2.06 2.06-.94-2.06-.94L8.5 2.5l-.94 2.06-2.06.94zm10 10l.94 2.06.94-2.06 2.06-.94-2.06-.94-.94-2.06-.94 2.06-2.06.94z\"/><path d=\"M17.41 7.96l-1.37-1.37c-.4-.4-.92-.59-1.43-.59-.52 0-1.04.2-1.43.59L10.3 9.45l-7.72 7.72c-.78.78-.78 2.05 0 2.83L4 21.41c.39.39.9.59 1.41.59.51 0 1.02-.2 1.41-.59l7.78-7.78 2.81-2.81c.8-.78.8-2.07 0-2.86zM5.41 20L4 18.59l7.72-7.72 1.47 1.35L5.41 20z\"/>\n",
              "  </svg>\n",
              "      </button>\n",
              "      \n",
              "  <style>\n",
              "    .colab-df-container {\n",
              "      display:flex;\n",
              "      flex-wrap:wrap;\n",
              "      gap: 12px;\n",
              "    }\n",
              "\n",
              "    .colab-df-convert {\n",
              "      background-color: #E8F0FE;\n",
              "      border: none;\n",
              "      border-radius: 50%;\n",
              "      cursor: pointer;\n",
              "      display: none;\n",
              "      fill: #1967D2;\n",
              "      height: 32px;\n",
              "      padding: 0 0 0 0;\n",
              "      width: 32px;\n",
              "    }\n",
              "\n",
              "    .colab-df-convert:hover {\n",
              "      background-color: #E2EBFA;\n",
              "      box-shadow: 0px 1px 2px rgba(60, 64, 67, 0.3), 0px 1px 3px 1px rgba(60, 64, 67, 0.15);\n",
              "      fill: #174EA6;\n",
              "    }\n",
              "\n",
              "    [theme=dark] .colab-df-convert {\n",
              "      background-color: #3B4455;\n",
              "      fill: #D2E3FC;\n",
              "    }\n",
              "\n",
              "    [theme=dark] .colab-df-convert:hover {\n",
              "      background-color: #434B5C;\n",
              "      box-shadow: 0px 1px 3px 1px rgba(0, 0, 0, 0.15);\n",
              "      filter: drop-shadow(0px 1px 2px rgba(0, 0, 0, 0.3));\n",
              "      fill: #FFFFFF;\n",
              "    }\n",
              "  </style>\n",
              "\n",
              "      <script>\n",
              "        const buttonEl =\n",
              "          document.querySelector('#df-a0a69191-530e-4e61-9984-0ae61aa2bb98 button.colab-df-convert');\n",
              "        buttonEl.style.display =\n",
              "          google.colab.kernel.accessAllowed ? 'block' : 'none';\n",
              "\n",
              "        async function convertToInteractive(key) {\n",
              "          const element = document.querySelector('#df-a0a69191-530e-4e61-9984-0ae61aa2bb98');\n",
              "          const dataTable =\n",
              "            await google.colab.kernel.invokeFunction('convertToInteractive',\n",
              "                                                     [key], {});\n",
              "          if (!dataTable) return;\n",
              "\n",
              "          const docLinkHtml = 'Like what you see? Visit the ' +\n",
              "            '<a target=\"_blank\" href=https://colab.research.google.com/notebooks/data_table.ipynb>data table notebook</a>'\n",
              "            + ' to learn more about interactive tables.';\n",
              "          element.innerHTML = '';\n",
              "          dataTable['output_type'] = 'display_data';\n",
              "          await google.colab.output.renderOutput(dataTable, element);\n",
              "          const docLink = document.createElement('div');\n",
              "          docLink.innerHTML = docLinkHtml;\n",
              "          element.appendChild(docLink);\n",
              "        }\n",
              "      </script>\n",
              "    </div>\n",
              "  </div>\n",
              "  "
            ]
          },
          "metadata": {},
          "execution_count": 15
        }
      ],
      "source": [
        "train_data = train_data[['text', 'label']].copy()\n",
        "\n",
        "train_data['text'] = train_data['text'].apply(text_preprocessing)\n",
        "\n",
        "train_data.drop_duplicates(inplace=True)\n",
        "\n",
        "train_data"
      ]
    },
    {
      "cell_type": "code",
      "execution_count": null,
      "metadata": {
        "colab": {
          "base_uri": "https://localhost:8080/",
          "height": 424
        },
        "id": "21_qKNngOiqe",
        "outputId": "1e8edcd0-31e6-4657-862a-e7b1a4c5003a"
      },
      "outputs": [
        {
          "output_type": "execute_result",
          "data": {
            "text/plain": [
              "                                                  text  label\n",
              "0    decrease 50 baseline urinary prostaglandin e2 ...      1\n",
              "1    remaining 24 253 differentiated nsclc nos medi...      1\n",
              "2    results exceptional response igf1r inhibitor 5...      1\n",
              "3    detection quantification cancer dna molecules ...      1\n",
              "4    13±04 cm range 0720 cm group 06±03 cm range 03...      1\n",
              "..                                                 ...    ...\n",
              "195  heat shock transcription factor1 hsf1 overexpr...      0\n",
              "196  fundamental influences sex gender modifiers ma...      2\n",
              "197  activation naturalphytochemicals overviewconce...      2\n",
              "198  effects lowdose computed tomography ldct scree...      2\n",
              "199  probands father ii5 sister iii5 unaffected pe...      1\n",
              "\n",
              "[200 rows x 2 columns]"
            ],
            "text/html": [
              "\n",
              "  <div id=\"df-c95ad8ba-dc1c-41d3-b9e7-1917a4e5ec6f\">\n",
              "    <div class=\"colab-df-container\">\n",
              "      <div>\n",
              "<style scoped>\n",
              "    .dataframe tbody tr th:only-of-type {\n",
              "        vertical-align: middle;\n",
              "    }\n",
              "\n",
              "    .dataframe tbody tr th {\n",
              "        vertical-align: top;\n",
              "    }\n",
              "\n",
              "    .dataframe thead th {\n",
              "        text-align: right;\n",
              "    }\n",
              "</style>\n",
              "<table border=\"1\" class=\"dataframe\">\n",
              "  <thead>\n",
              "    <tr style=\"text-align: right;\">\n",
              "      <th></th>\n",
              "      <th>text</th>\n",
              "      <th>label</th>\n",
              "    </tr>\n",
              "  </thead>\n",
              "  <tbody>\n",
              "    <tr>\n",
              "      <th>0</th>\n",
              "      <td>decrease 50 baseline urinary prostaglandin e2 ...</td>\n",
              "      <td>1</td>\n",
              "    </tr>\n",
              "    <tr>\n",
              "      <th>1</th>\n",
              "      <td>remaining 24 253 differentiated nsclc nos medi...</td>\n",
              "      <td>1</td>\n",
              "    </tr>\n",
              "    <tr>\n",
              "      <th>2</th>\n",
              "      <td>results exceptional response igf1r inhibitor 5...</td>\n",
              "      <td>1</td>\n",
              "    </tr>\n",
              "    <tr>\n",
              "      <th>3</th>\n",
              "      <td>detection quantification cancer dna molecules ...</td>\n",
              "      <td>1</td>\n",
              "    </tr>\n",
              "    <tr>\n",
              "      <th>4</th>\n",
              "      <td>13±04 cm range 0720 cm group 06±03 cm range 03...</td>\n",
              "      <td>1</td>\n",
              "    </tr>\n",
              "    <tr>\n",
              "      <th>...</th>\n",
              "      <td>...</td>\n",
              "      <td>...</td>\n",
              "    </tr>\n",
              "    <tr>\n",
              "      <th>195</th>\n",
              "      <td>heat shock transcription factor1 hsf1 overexpr...</td>\n",
              "      <td>0</td>\n",
              "    </tr>\n",
              "    <tr>\n",
              "      <th>196</th>\n",
              "      <td>fundamental influences sex gender modifiers ma...</td>\n",
              "      <td>2</td>\n",
              "    </tr>\n",
              "    <tr>\n",
              "      <th>197</th>\n",
              "      <td>activation naturalphytochemicals overviewconce...</td>\n",
              "      <td>2</td>\n",
              "    </tr>\n",
              "    <tr>\n",
              "      <th>198</th>\n",
              "      <td>effects lowdose computed tomography ldct scree...</td>\n",
              "      <td>2</td>\n",
              "    </tr>\n",
              "    <tr>\n",
              "      <th>199</th>\n",
              "      <td>probands father ii5 sister iii5 unaffected pe...</td>\n",
              "      <td>1</td>\n",
              "    </tr>\n",
              "  </tbody>\n",
              "</table>\n",
              "<p>200 rows × 2 columns</p>\n",
              "</div>\n",
              "      <button class=\"colab-df-convert\" onclick=\"convertToInteractive('df-c95ad8ba-dc1c-41d3-b9e7-1917a4e5ec6f')\"\n",
              "              title=\"Convert this dataframe to an interactive table.\"\n",
              "              style=\"display:none;\">\n",
              "        \n",
              "  <svg xmlns=\"http://www.w3.org/2000/svg\" height=\"24px\"viewBox=\"0 0 24 24\"\n",
              "       width=\"24px\">\n",
              "    <path d=\"M0 0h24v24H0V0z\" fill=\"none\"/>\n",
              "    <path d=\"M18.56 5.44l.94 2.06.94-2.06 2.06-.94-2.06-.94-.94-2.06-.94 2.06-2.06.94zm-11 1L8.5 8.5l.94-2.06 2.06-.94-2.06-.94L8.5 2.5l-.94 2.06-2.06.94zm10 10l.94 2.06.94-2.06 2.06-.94-2.06-.94-.94-2.06-.94 2.06-2.06.94z\"/><path d=\"M17.41 7.96l-1.37-1.37c-.4-.4-.92-.59-1.43-.59-.52 0-1.04.2-1.43.59L10.3 9.45l-7.72 7.72c-.78.78-.78 2.05 0 2.83L4 21.41c.39.39.9.59 1.41.59.51 0 1.02-.2 1.41-.59l7.78-7.78 2.81-2.81c.8-.78.8-2.07 0-2.86zM5.41 20L4 18.59l7.72-7.72 1.47 1.35L5.41 20z\"/>\n",
              "  </svg>\n",
              "      </button>\n",
              "      \n",
              "  <style>\n",
              "    .colab-df-container {\n",
              "      display:flex;\n",
              "      flex-wrap:wrap;\n",
              "      gap: 12px;\n",
              "    }\n",
              "\n",
              "    .colab-df-convert {\n",
              "      background-color: #E8F0FE;\n",
              "      border: none;\n",
              "      border-radius: 50%;\n",
              "      cursor: pointer;\n",
              "      display: none;\n",
              "      fill: #1967D2;\n",
              "      height: 32px;\n",
              "      padding: 0 0 0 0;\n",
              "      width: 32px;\n",
              "    }\n",
              "\n",
              "    .colab-df-convert:hover {\n",
              "      background-color: #E2EBFA;\n",
              "      box-shadow: 0px 1px 2px rgba(60, 64, 67, 0.3), 0px 1px 3px 1px rgba(60, 64, 67, 0.15);\n",
              "      fill: #174EA6;\n",
              "    }\n",
              "\n",
              "    [theme=dark] .colab-df-convert {\n",
              "      background-color: #3B4455;\n",
              "      fill: #D2E3FC;\n",
              "    }\n",
              "\n",
              "    [theme=dark] .colab-df-convert:hover {\n",
              "      background-color: #434B5C;\n",
              "      box-shadow: 0px 1px 3px 1px rgba(0, 0, 0, 0.15);\n",
              "      filter: drop-shadow(0px 1px 2px rgba(0, 0, 0, 0.3));\n",
              "      fill: #FFFFFF;\n",
              "    }\n",
              "  </style>\n",
              "\n",
              "      <script>\n",
              "        const buttonEl =\n",
              "          document.querySelector('#df-c95ad8ba-dc1c-41d3-b9e7-1917a4e5ec6f button.colab-df-convert');\n",
              "        buttonEl.style.display =\n",
              "          google.colab.kernel.accessAllowed ? 'block' : 'none';\n",
              "\n",
              "        async function convertToInteractive(key) {\n",
              "          const element = document.querySelector('#df-c95ad8ba-dc1c-41d3-b9e7-1917a4e5ec6f');\n",
              "          const dataTable =\n",
              "            await google.colab.kernel.invokeFunction('convertToInteractive',\n",
              "                                                     [key], {});\n",
              "          if (!dataTable) return;\n",
              "\n",
              "          const docLinkHtml = 'Like what you see? Visit the ' +\n",
              "            '<a target=\"_blank\" href=https://colab.research.google.com/notebooks/data_table.ipynb>data table notebook</a>'\n",
              "            + ' to learn more about interactive tables.';\n",
              "          element.innerHTML = '';\n",
              "          dataTable['output_type'] = 'display_data';\n",
              "          await google.colab.output.renderOutput(dataTable, element);\n",
              "          const docLink = document.createElement('div');\n",
              "          docLink.innerHTML = docLinkHtml;\n",
              "          element.appendChild(docLink);\n",
              "        }\n",
              "      </script>\n",
              "    </div>\n",
              "  </div>\n",
              "  "
            ]
          },
          "metadata": {},
          "execution_count": 16
        }
      ],
      "source": [
        "test_data = test_data[['text', 'label']].copy()\n",
        "\n",
        "test_data['text'] = test_data['text'].apply(text_preprocessing)\n",
        "\n",
        "test_data.drop_duplicates(inplace=True)\n",
        "\n",
        "test_data"
      ]
    },
    {
      "cell_type": "markdown",
      "metadata": {
        "id": "m-8gEBwNA7PN"
      },
      "source": [
        "# Feature Extraction"
      ]
    },
    {
      "cell_type": "code",
      "execution_count": null,
      "metadata": {
        "colab": {
          "base_uri": "https://localhost:8080/"
        },
        "id": "qhU5I2TaBIUz",
        "outputId": "05602990-2d2f-4940-b917-7ecf58a6dc8c"
      },
      "outputs": [
        {
          "output_type": "stream",
          "name": "stdout",
          "text": [
            "[==================================================] 100.0% 1662.8/1662.8MB downloaded\n"
          ]
        }
      ],
      "source": [
        "word2vec_model = api.load(\"word2vec-google-news-300\")"
      ]
    },
    {
      "cell_type": "code",
      "execution_count": null,
      "metadata": {
        "id": "XOa6vzkoAhaN"
      },
      "outputs": [],
      "source": [
        "def get_text_vec(sent):\n",
        "  vector = np.mean(np.array([word2vec_model[token] for token in word_tokenize(sent) if token in word2vec_model.key_to_index]), axis=0)\n",
        "  if np.all(np.isnan(vector)) :\n",
        "    return np.zeros(300)\n",
        "  return vector"
      ]
    },
    {
      "cell_type": "code",
      "execution_count": null,
      "metadata": {
        "id": "JI-_pd5rELGE"
      },
      "outputs": [],
      "source": [
        "ori_X_train = np.stack(np.array([get_text_vec(text) for text in train_data['text'].values]))"
      ]
    },
    {
      "cell_type": "code",
      "execution_count": null,
      "metadata": {
        "colab": {
          "base_uri": "https://localhost:8080/"
        },
        "id": "lLsIoACmEgnv",
        "outputId": "e1f7e762-1708-4f17-c1a5-02a8d97b137a"
      },
      "outputs": [
        {
          "output_type": "execute_result",
          "data": {
            "text/plain": [
              "(796, 300)"
            ]
          },
          "metadata": {},
          "execution_count": 22
        }
      ],
      "source": [
        "ori_X_train.shape"
      ]
    },
    {
      "cell_type": "code",
      "execution_count": null,
      "metadata": {
        "id": "M-b-fuZXEjnH"
      },
      "outputs": [],
      "source": [
        "X_test = np.stack(np.array([get_text_vec(text) for text in test_data['text'].values]))"
      ]
    },
    {
      "cell_type": "code",
      "execution_count": null,
      "metadata": {
        "colab": {
          "base_uri": "https://localhost:8080/"
        },
        "id": "lDfVSWFzEpwH",
        "outputId": "5ebfbbda-42f0-4be6-b99d-c9118c535a29"
      },
      "outputs": [
        {
          "output_type": "execute_result",
          "data": {
            "text/plain": [
              "(200, 300)"
            ]
          },
          "metadata": {},
          "execution_count": 24
        }
      ],
      "source": [
        "X_test.shape"
      ]
    },
    {
      "cell_type": "code",
      "execution_count": null,
      "metadata": {
        "id": "H6qvnsikO88C"
      },
      "outputs": [],
      "source": [
        "ori_y_train = train_data['label'].values"
      ]
    },
    {
      "cell_type": "code",
      "execution_count": null,
      "metadata": {
        "colab": {
          "base_uri": "https://localhost:8080/"
        },
        "id": "QvLhgrsqO-vC",
        "outputId": "5a5f6558-0628-4cc2-8923-da3dd5f290ac"
      },
      "outputs": [
        {
          "output_type": "execute_result",
          "data": {
            "text/plain": [
              "(796,)"
            ]
          },
          "metadata": {},
          "execution_count": 26
        }
      ],
      "source": [
        "ori_y_train.shape"
      ]
    },
    {
      "cell_type": "code",
      "execution_count": null,
      "metadata": {
        "id": "NCi6wK0kPACs"
      },
      "outputs": [],
      "source": [
        "y_test = test_data['label'].values"
      ]
    },
    {
      "cell_type": "code",
      "execution_count": null,
      "metadata": {
        "colab": {
          "base_uri": "https://localhost:8080/"
        },
        "id": "0I964n-QPBQE",
        "outputId": "f85ce9c4-7d5e-48d5-b46a-14de9a9086e6"
      },
      "outputs": [
        {
          "output_type": "execute_result",
          "data": {
            "text/plain": [
              "(200,)"
            ]
          },
          "metadata": {},
          "execution_count": 28
        }
      ],
      "source": [
        "y_test.shape"
      ]
    },
    {
      "cell_type": "markdown",
      "metadata": {
        "id": "TEqW7eb9BkwW"
      },
      "source": [
        "# Model selection, training and evaluation"
      ]
    },
    {
      "cell_type": "code",
      "execution_count": null,
      "metadata": {
        "id": "OoEtJG3G4qMB"
      },
      "outputs": [],
      "source": [
        "def f_beta_score(y_true, y_pred):\n",
        "  return fbeta_score(y_true, y_pred, beta=2, average='macro')\n",
        "\n",
        "f2_score = make_scorer(f_beta_score, greater_is_better=True)"
      ]
    },
    {
      "cell_type": "code",
      "execution_count": null,
      "metadata": {
        "id": "JU8v73f74qAG"
      },
      "outputs": [],
      "source": [
        "from datetime import datetime\n",
        "\n",
        "def save_cross_validation(results, file_name):\n",
        "  results_to_save = pd.DataFrame(columns=['Accuracy', 'Recall', 'Precision', 'F1 Score', 'F2 Score'])\n",
        "  for i in range(0, 10):\n",
        "    results_to_save.loc[i] = [\n",
        "      results['split{}_test_Accuracy'.format(i)][0],\n",
        "      results['split{}_test_Recall'.format(i)][0],\n",
        "      results['split{}_test_Precision'.format(i)][0],\n",
        "      results['split{}_test_F1'.format(i)][0],\n",
        "      results['split{}_test_F2'.format(i)][0]\n",
        "    ]\n",
        "  results_to_save.to_csv('{}Results/{}_{}.csv'.format(dir_name+'experiments/Cancer Doc/', file_name, datetime.now().strftime(\"%m%d%H%M\")))"
      ]
    },
    {
      "cell_type": "code",
      "execution_count": null,
      "metadata": {
        "id": "CP817Ht44p0i"
      },
      "outputs": [],
      "source": [
        "def train_model(classifier, param_grid, model_name, train_texts, train_labels, test_texts, test_labels, evaluation_metrics, to_print=True, to_save=False, file_name=None):\n",
        "    \"\"\"\n",
        "    train email classification model.\n",
        "    \"\"\"\n",
        "\n",
        "    # apply grid search to find best model hyper parameters\n",
        "    grid_search = GridSearchCV(classifier, param_grid, cv=10, scoring={'Accuracy': make_scorer(accuracy_score),\n",
        "                                                                       'F1': make_scorer(f1_score, average='macro'),\n",
        "                                                                       'F2': f2_score,\n",
        "                                                                       'Recall': make_scorer(recall_score, average='macro'),\n",
        "                                                                       'Precision': make_scorer(precision_score, average='macro')\n",
        "                                                                       }, refit='F1', n_jobs=-1)\n",
        "    grid_search.fit(train_texts, train_labels)\n",
        "    model = grid_search.best_estimator_\n",
        "\n",
        "    if to_save:\n",
        "      ConfusionMatrixDisplay(save_cross_validation(grid_search.cv_results_, file_name))\n",
        "      plt.show()\n",
        "\n",
        "    # train and test accuracy.\n",
        "    test_accuracy = model.score(test_texts, test_labels)\n",
        "    train_accuracy = model.score(train_texts, train_labels)\n",
        "\n",
        "    # compute F1 score for model evaluation.\n",
        "    y_pred = model.predict(test_texts)\n",
        "\n",
        "    recall = recall_score(test_labels, y_pred, average='macro')\n",
        "    precision = precision_score(test_labels, y_pred, average='macro')\n",
        "    f1score = f1_score(test_labels, y_pred, average='macro')\n",
        "    f2score = fbeta_score(y_test, y_pred, beta=2, average='macro')\n",
        "\n",
        "    if to_print:\n",
        "        print(\"train accuracy = \" + str(train_accuracy))\n",
        "        print(\"test accuracy = \" + str(test_accuracy))\n",
        "        print(\"Recall = {}\".format(recall))\n",
        "        print(\"Precision = {}\".format(precision))\n",
        "        print(\"F1 score = {}\".format(f1score))\n",
        "        print(\"F2 score = {}\".format(f2score))\n",
        "        print(classification_report(test_labels, y_pred))\n",
        "\n",
        "\n",
        "        # plot confusion matrix\n",
        "        cm = confusion_matrix(test_labels, y_pred)\n",
        "        disp = ConfusionMatrixDisplay(confusion_matrix=cm, display_labels=[0,1,2])\n",
        "\n",
        "        disp.plot(cmap=plt.cm.Blues)\n",
        "        plt.show()\n",
        "\n",
        "        # print best model hyper parameters.\n",
        "        print(grid_search.best_params_)\n",
        "\n",
        "    evaluation_metrics.loc[model_name, 'Recall'] = recall\n",
        "    evaluation_metrics.loc[model_name, 'Precision'] = precision\n",
        "    evaluation_metrics.loc[model_name, 'F1 score'] = f1score\n",
        "    evaluation_metrics.loc[model_name, 'F2 score'] = f2score\n",
        "\n",
        "    return f1score, f2score\n",
        "\n",
        "\n",
        "def train(model_id, train_texts, train_labels, test_texts, test_labels, evaluation_metrics, to_print=True, to_save=False, file_name=None):\n",
        "    \n",
        "    if model_id == 1:\n",
        "        # Random forest Classification model.\n",
        "        forest_clf = RandomForestClassifier(random_state=42, n_jobs=-1)\n",
        "        forest_param_grid = [{'n_estimators': [50, 75, 100, 150, 200], 'max_features': [8, 9, 10], 'min_samples_split': [25, 30], 'criterion': ['gini','entropy'], 'max_depth': [4, 5]}]\n",
        "        return train_model(forest_clf, forest_param_grid, 'RandomForest', train_texts, train_labels, test_texts, test_labels, evaluation_metrics, to_print, to_save, file_name)\n",
        "\n",
        "    if model_id == 2:\n",
        "        # Support Vector Machine Model.\n",
        "        svc_clf = SVC(random_state=42)\n",
        "        svc_param_grid = [{'kernel': ['rbf', 'poly'], 'degree': [2, 3 , 4, 5]}]\n",
        "\n",
        "        return train_model(svc_clf, svc_param_grid, 'SVM', train_texts, train_labels, test_texts, test_labels, evaluation_metrics, to_print, to_save, file_name)"
      ]
    },
    {
      "cell_type": "code",
      "execution_count": null,
      "metadata": {
        "id": "PptzLfl5FvCa"
      },
      "outputs": [],
      "source": [
        "evaluation_metrics_orginal = pd.DataFrame(columns = ['Recall', 'Precision', 'F1 score', 'F2 score'])"
      ]
    },
    {
      "cell_type": "markdown",
      "metadata": {
        "id": "y9XIrUB5FhnC"
      },
      "source": [
        "#Random Forest"
      ]
    },
    {
      "cell_type": "code",
      "source": [
        "train(1, ori_X_train, y_train, X_test, y_test, evaluation_metrics_orginal, to_save=True, file_name='OD_RF')"
      ],
      "metadata": {
        "colab": {
          "base_uri": "https://localhost:8080/",
          "height": 781
        },
        "id": "qd6vwn9Eg70h",
        "outputId": "c441bd62-2bd8-4466-bfb5-627f82ecaa67"
      },
      "execution_count": null,
      "outputs": [
        {
          "output_type": "stream",
          "name": "stdout",
          "text": [
            "train accuracy = 0.8103015075376885\n",
            "test accuracy = 0.645\n",
            "Recall = 0.565114709851552\n",
            "Precision = 0.6104062303249296\n",
            "F1 score = 0.5583648910549064\n",
            "F2 score = 0.5564584699425666\n",
            "              precision    recall  f1-score   support\n",
            "\n",
            "           0       0.63      0.33      0.43        52\n",
            "           1       0.69      1.00      0.82        91\n",
            "           2       0.51      0.37      0.43        57\n",
            "\n",
            "    accuracy                           0.65       200\n",
            "   macro avg       0.61      0.57      0.56       200\n",
            "weighted avg       0.62      0.65      0.61       200\n",
            "\n"
          ]
        },
        {
          "output_type": "display_data",
          "data": {
            "text/plain": [
              "<Figure size 640x480 with 2 Axes>"
            ],
            "image/png": "[encoded data removed]"
          },
          "metadata": {}
        },
        {
          "output_type": "stream",
          "name": "stdout",
          "text": [
            "{'criterion': 'gini', 'max_depth': 5, 'max_features': 10, 'min_samples_split': 25, 'n_estimators': 50}\n"
          ]
        },
        {
          "output_type": "execute_result",
          "data": {
            "text/plain": [
              "(0.5583648910549064, 0.5564584699425666)"
            ]
          },
          "metadata": {},
          "execution_count": 34
        }
      ]
    },
    {
      "cell_type": "markdown",
      "metadata": {
        "id": "XmwRxKxMe-Uf"
      },
      "source": [
        "#SVM"
      ]
    },
    {
      "cell_type": "code",
      "execution_count": null,
      "metadata": {
        "colab": {
          "base_uri": "https://localhost:8080/",
          "height": 781
        },
        "id": "UYVKuuR1PjQ5",
        "outputId": "d8438ebb-a917-4208-c62b-53404a5c3be3"
      },
      "outputs": [
        {
          "name": "stdout",
          "output_type": "stream",
          "text": [
            "train accuracy = 0.7537688442211056\n",
            "test accuracy = 0.735\n",
            "Recall = 0.6737516869095815\n",
            "Precision = 0.683076225045372\n",
            "F1 score = 0.6727858293075685\n",
            "F2 score = 0.672208324647349\n",
            "              precision    recall  f1-score   support\n",
            "\n",
            "           0       0.61      0.44      0.51        52\n",
            "           1       0.88      1.00      0.93        91\n",
            "           2       0.57      0.58      0.57        57\n",
            "\n",
            "    accuracy                           0.73       200\n",
            "   macro avg       0.68      0.67      0.67       200\n",
            "weighted avg       0.72      0.73      0.72       200\n",
            "\n"
          ]
        },
        {
          "data": {
            "image/png": "[encoded data removed]",
            "text/plain": [
              "<Figure size 640x480 with 2 Axes>"
            ]
          },
          "metadata": {},
          "output_type": "display_data"
        },
        {
          "name": "stdout",
          "output_type": "stream",
          "text": [
            "{'degree': 2, 'kernel': 'rbf'}\n"
          ]
        },
        {
          "data": {
            "text/plain": [
              "(0.6727858293075685, 0.672208324647349)"
            ]
          },
          "execution_count": 62,
          "metadata": {},
          "output_type": "execute_result"
        }
      ],
      "source": [
        "train(2, ori_X_train, y_train, X_test, y_test, evaluation_metrics_orginal, to_save=True, file_name='OD_SVM')"
      ]
    },
    {
      "cell_type": "code",
      "execution_count": null,
      "metadata": {
        "id": "84vjlbvK2YJ_"
      },
      "outputs": [],
      "source": [
        "evaluation_metrics_orginal"
      ]
    },
    {
      "cell_type": "markdown",
      "metadata": {
        "id": "NBKdcusiewBl"
      },
      "source": [
        "#BiLSTM"
      ]
    },
    {
      "cell_type": "code",
      "execution_count": null,
      "metadata": {
        "id": "rx-x05DdewcE"
      },
      "outputs": [],
      "source": [
        "import random\n",
        "import tensorflow as tf \n",
        "from tensorflow import keras \n",
        "from tensorflow.keras import layers\n",
        "from sklearn.metrics import ConfusionMatrixDisplay\n",
        "from tensorflow.keras.layers import Dropout\n",
        "from tensorflow.keras import regularizers\n",
        "from sklearn.model_selection import StratifiedKFold"
      ]
    },
    {
      "cell_type": "code",
      "source": [
        "def create_blstm_model(train_texts):\n",
        "\n",
        "  vectorize_layer = layers.TextVectorization(max_tokens=50000, output_sequence_length=2000)\n",
        "\n",
        "  vectorize_layer.adapt(train_texts)\n",
        "\n",
        "  embedding_layer = layers.Embedding(input_dim=50000, output_dim=100, input_length=2000)\n",
        "\n",
        "  model = tf.keras.models.Sequential()\n",
        "  model.add(tf.keras.Input(shape=(1,), dtype=tf.string))\n",
        "  model.add(vectorize_layer)\n",
        "  model.add(embedding_layer)\n",
        "\n",
        "  model.add(layers.Bidirectional(layers.LSTM(40, bias_regularizer=regularizers.L2(1e-2), kernel_regularizer=regularizers.L1L2(l1=1e-3, l2=1e-3), activity_regularizer=regularizers.L2(1e-2))))\n",
        "  model.add(Dropout(0.2))\n",
        "  model.add(layers.Dense(3, activation='softmax'))\n",
        "\n",
        "\n",
        "  model.compile(optimizer=keras.optimizers.Adam(),\n",
        "                loss='sparse_categorical_crossentropy',\n",
        "                metrics=['accuracy'])  \n",
        "  print(model.summary())\n",
        "  \n",
        "  return model"
      ],
      "metadata": {
        "id": "XjD_IhugJyBh"
      },
      "execution_count": null,
      "outputs": []
    },
    {
      "cell_type": "markdown",
      "source": [
        "# Cross Validation"
      ],
      "metadata": {
        "id": "WMTtd5vLTnAf"
      }
    },
    {
      "cell_type": "code",
      "source": [
        "def cv_blstm():\n",
        "\n",
        "  kf = StratifiedKFold(10, shuffle=True, random_state=42) \n",
        "  cv_metrics = pd.DataFrame(columns = ['Recall', 'Precision', 'F1 score', 'F2 score'])\n",
        "\n",
        "  fold = 0\n",
        "\n",
        "  X = train_data['text'].values\n",
        "  Y = train_data['label'].values\n",
        "\n",
        "  for train, val in kf.split(X, Y):  \n",
        "  \n",
        "    print(f\"Fold {fold}\")\n",
        "\n",
        "    train_texts = X[train]\n",
        "    train_labels = Y[train]\n",
        "    test_texts = X[val]\n",
        "    test_labels = Y[val]\n",
        "\n",
        "    blstm_model = create_blstm_model(train_texts)\n",
        "\n",
        "    history = blstm_model.fit(train_texts,\n",
        "                              train_labels,\n",
        "                              epochs=10,\n",
        "                              batch_size=16,\n",
        "                              validation_data=(test_texts, test_labels))\n",
        "\n",
        "    blstm_model.evaluate(test_texts, test_labels)\n",
        "    y_pred = np.round(blstm_model.predict(test_texts))\n",
        "    y_pred = np.argmax(y_pred, axis=1)\n",
        "\n",
        "    f1_sc = f1_score(test_labels, y_pred, average='macro')\n",
        "    f2score = fbeta_score(test_labels, y_pred, beta=2, average='macro')\n",
        "\n",
        "    cv_metrics.loc[fold, 'Recall'] = recall_score(test_labels, y_pred, average='macro')\n",
        "    cv_metrics.loc[fold, 'Precision'] = precision_score(test_labels, y_pred, average='macro')\n",
        "    cv_metrics.loc[fold, 'F1 score'] = f1_sc\n",
        "    cv_metrics.loc[fold, 'F2 score'] = f2score\n",
        "    \n",
        "    fold += 1\n",
        "\n",
        "  return cv_metrics"
      ],
      "metadata": {
        "id": "hEqshQ-LTnVu"
      },
      "execution_count": null,
      "outputs": []
    },
    {
      "cell_type": "code",
      "source": [
        "cv_results = cv_blstm()"
      ],
      "metadata": {
        "colab": {
          "base_uri": "https://localhost:8080/"
        },
        "id": "ezwRPtLsTnn1",
        "outputId": "b9fc0820-e68e-4561-cadd-9cb6746e6df2"
      },
      "execution_count": null,
      "outputs": [
        {
          "output_type": "stream",
          "name": "stdout",
          "text": [
            "Fold 0\n",
            "Model: \"sequential\"\n",
            "_________________________________________________________________\n",
            " Layer (type)                Output Shape              Param #   \n",
            "=================================================================\n",
            " text_vectorization (TextVec  (None, 2000)             0         \n",
            " torization)                                                     \n",
            "                                                                 \n",
            " embedding (Embedding)       (None, 2000, 100)         5000000   \n",
            "                                                                 \n",
            " bidirectional (Bidirectiona  (None, 80)               45120     \n",
            " l)                                                              \n",
            "                                                                 \n",
            " dropout (Dropout)           (None, 80)                0         \n",
            "                                                                 \n",
            " dense (Dense)               (None, 3)                 243       \n",
            "                                                                 \n",
            "=================================================================\n",
            "Total params: 5,045,363\n",
            "Trainable params: 5,045,363\n",
            "Non-trainable params: 0\n",
            "_________________________________________________________________\n",
            "None\n",
            "Epoch 1/10\n",
            "45/45 [==============================] - 23s 337ms/step - loss: 3.7106 - accuracy: 0.5615 - val_loss: 2.8236 - val_accuracy: 0.6250\n",
            "Epoch 2/10\n",
            "45/45 [==============================] - 13s 278ms/step - loss: 2.3174 - accuracy: 0.7025 - val_loss: 1.7833 - val_accuracy: 0.7000\n",
            "Epoch 3/10\n",
            "45/45 [==============================] - 13s 281ms/step - loss: 1.5011 - accuracy: 0.8003 - val_loss: 1.3689 - val_accuracy: 0.7000\n",
            "Epoch 4/10\n",
            "45/45 [==============================] - 11s 253ms/step - loss: 1.0886 - accuracy: 0.8883 - val_loss: 1.1604 - val_accuracy: 0.7750\n",
            "Epoch 5/10\n",
            "45/45 [==============================] - 12s 272ms/step - loss: 0.9084 - accuracy: 0.9399 - val_loss: 1.1561 - val_accuracy: 0.7000\n",
            "Epoch 6/10\n",
            "45/45 [==============================] - 13s 280ms/step - loss: 0.8042 - accuracy: 0.9511 - val_loss: 1.1461 - val_accuracy: 0.7625\n",
            "Epoch 7/10\n",
            "45/45 [==============================] - 12s 276ms/step - loss: 0.7170 - accuracy: 0.9483 - val_loss: 1.2007 - val_accuracy: 0.7125\n",
            "Epoch 8/10\n",
            "45/45 [==============================] - 12s 271ms/step - loss: 0.6533 - accuracy: 0.9525 - val_loss: 1.0817 - val_accuracy: 0.7375\n",
            "Epoch 9/10\n",
            "45/45 [==============================] - 11s 248ms/step - loss: 0.6019 - accuracy: 0.9525 - val_loss: 1.0704 - val_accuracy: 0.7250\n",
            "Epoch 10/10\n",
            "45/45 [==============================] - 11s 259ms/step - loss: 0.5409 - accuracy: 0.9539 - val_loss: 1.0349 - val_accuracy: 0.7625\n",
            "3/3 [==============================] - 1s 87ms/step - loss: 1.0349 - accuracy: 0.7625\n",
            "3/3 [==============================] - 1s 59ms/step\n",
            "Fold 1\n",
            "Model: \"sequential_1\"\n",
            "_________________________________________________________________\n",
            " Layer (type)                Output Shape              Param #   \n",
            "=================================================================\n",
            " text_vectorization_1 (TextV  (None, 2000)             0         \n",
            " ectorization)                                                   \n",
            "                                                                 \n",
            " embedding_1 (Embedding)     (None, 2000, 100)         5000000   \n",
            "                                                                 \n",
            " bidirectional_1 (Bidirectio  (None, 80)               45120     \n",
            " nal)                                                            \n",
            "                                                                 \n",
            " dropout_1 (Dropout)         (None, 80)                0         \n",
            "                                                                 \n",
            " dense_1 (Dense)             (None, 3)                 243       \n",
            "                                                                 \n",
            "=================================================================\n",
            "Total params: 5,045,363\n",
            "Trainable params: 5,045,363\n",
            "Non-trainable params: 0\n",
            "_________________________________________________________________\n",
            "None\n",
            "Epoch 1/10\n",
            "45/45 [==============================] - 18s 318ms/step - loss: 3.7095 - accuracy: 0.4874 - val_loss: 2.9728 - val_accuracy: 0.5375\n",
            "Epoch 2/10\n",
            "45/45 [==============================] - 13s 279ms/step - loss: 2.3492 - accuracy: 0.6788 - val_loss: 1.8901 - val_accuracy: 0.7000\n",
            "Epoch 3/10\n",
            "45/45 [==============================] - 12s 266ms/step - loss: 1.4798 - accuracy: 0.8212 - val_loss: 1.4547 - val_accuracy: 0.6750\n",
            "Epoch 4/10\n",
            "45/45 [==============================] - 13s 285ms/step - loss: 1.0473 - accuracy: 0.9302 - val_loss: 1.3062 - val_accuracy: 0.7000\n",
            "Epoch 5/10\n",
            "45/45 [==============================] - 11s 250ms/step - loss: 0.8989 - accuracy: 0.9455 - val_loss: 1.2631 - val_accuracy: 0.6875\n",
            "Epoch 6/10\n",
            "45/45 [==============================] - 12s 266ms/step - loss: 0.7849 - accuracy: 0.9525 - val_loss: 1.1575 - val_accuracy: 0.7250\n",
            "Epoch 7/10\n",
            "45/45 [==============================] - 11s 249ms/step - loss: 0.7089 - accuracy: 0.9511 - val_loss: 1.2039 - val_accuracy: 0.6750\n",
            "Epoch 8/10\n",
            "45/45 [==============================] - 11s 244ms/step - loss: 0.6348 - accuracy: 0.9497 - val_loss: 1.1556 - val_accuracy: 0.6875\n",
            "Epoch 9/10\n",
            "45/45 [==============================] - 12s 268ms/step - loss: 0.5969 - accuracy: 0.9581 - val_loss: 1.1046 - val_accuracy: 0.7125\n",
            "Epoch 10/10\n",
            "45/45 [==============================] - 11s 255ms/step - loss: 0.5659 - accuracy: 0.9483 - val_loss: 1.0196 - val_accuracy: 0.6750\n",
            "3/3 [==============================] - 1s 85ms/step - loss: 1.0196 - accuracy: 0.6750\n",
            "3/3 [==============================] - 1s 51ms/step\n",
            "Fold 2\n",
            "Model: \"sequential_2\"\n",
            "_________________________________________________________________\n",
            " Layer (type)                Output Shape              Param #   \n",
            "=================================================================\n",
            " text_vectorization_2 (TextV  (None, 2000)             0         \n",
            " ectorization)                                                   \n",
            "                                                                 \n",
            " embedding_2 (Embedding)     (None, 2000, 100)         5000000   \n",
            "                                                                 \n",
            " bidirectional_2 (Bidirectio  (None, 80)               45120     \n",
            " nal)                                                            \n",
            "                                                                 \n",
            " dropout_2 (Dropout)         (None, 80)                0         \n",
            "                                                                 \n",
            " dense_2 (Dense)             (None, 3)                 243       \n",
            "                                                                 \n",
            "=================================================================\n",
            "Total params: 5,045,363\n",
            "Trainable params: 5,045,363\n",
            "Non-trainable params: 0\n",
            "_________________________________________________________________\n",
            "None\n",
            "Epoch 1/10\n",
            "45/45 [==============================] - 16s 292ms/step - loss: 3.7152 - accuracy: 0.4860 - val_loss: 2.8726 - val_accuracy: 0.5750\n",
            "Epoch 2/10\n",
            "45/45 [==============================] - 12s 277ms/step - loss: 2.2785 - accuracy: 0.7472 - val_loss: 1.8393 - val_accuracy: 0.6500\n",
            "Epoch 3/10\n",
            "45/45 [==============================] - 12s 259ms/step - loss: 1.4017 - accuracy: 0.8855 - val_loss: 1.3432 - val_accuracy: 0.6875\n",
            "Epoch 4/10\n",
            "45/45 [==============================] - 11s 246ms/step - loss: 1.0359 - accuracy: 0.9260 - val_loss: 1.2232 - val_accuracy: 0.7750\n",
            "Epoch 5/10\n",
            "45/45 [==============================] - 12s 262ms/step - loss: 0.9066 - accuracy: 0.9441 - val_loss: 1.2090 - val_accuracy: 0.7500\n",
            "Epoch 6/10\n",
            "45/45 [==============================] - 12s 258ms/step - loss: 0.8022 - accuracy: 0.9441 - val_loss: 1.0922 - val_accuracy: 0.7875\n",
            "Epoch 7/10\n",
            "45/45 [==============================] - 11s 235ms/step - loss: 0.7280 - accuracy: 0.9413 - val_loss: 1.0274 - val_accuracy: 0.7375\n",
            "Epoch 8/10\n",
            "45/45 [==============================] - 10s 224ms/step - loss: 0.6798 - accuracy: 0.9497 - val_loss: 1.0135 - val_accuracy: 0.7625\n",
            "Epoch 9/10\n",
            "45/45 [==============================] - 11s 253ms/step - loss: 0.6170 - accuracy: 0.9455 - val_loss: 1.0426 - val_accuracy: 0.7375\n",
            "Epoch 10/10\n",
            "45/45 [==============================] - 10s 232ms/step - loss: 0.5859 - accuracy: 0.9525 - val_loss: 0.8956 - val_accuracy: 0.8250\n",
            "3/3 [==============================] - 1s 51ms/step - loss: 0.8956 - accuracy: 0.8250\n",
            "3/3 [==============================] - 1s 45ms/step\n",
            "Fold 3\n",
            "Model: \"sequential_3\"\n",
            "_________________________________________________________________\n",
            " Layer (type)                Output Shape              Param #   \n",
            "=================================================================\n",
            " text_vectorization_3 (TextV  (None, 2000)             0         \n",
            " ectorization)                                                   \n",
            "                                                                 \n",
            " embedding_3 (Embedding)     (None, 2000, 100)         5000000   \n",
            "                                                                 \n",
            " bidirectional_3 (Bidirectio  (None, 80)               45120     \n",
            " nal)                                                            \n",
            "                                                                 \n",
            " dropout_3 (Dropout)         (None, 80)                0         \n",
            "                                                                 \n",
            " dense_3 (Dense)             (None, 3)                 243       \n",
            "                                                                 \n",
            "=================================================================\n",
            "Total params: 5,045,363\n",
            "Trainable params: 5,045,363\n",
            "Non-trainable params: 0\n",
            "_________________________________________________________________\n",
            "None\n",
            "Epoch 1/10\n",
            "45/45 [==============================] - 16s 285ms/step - loss: 3.7051 - accuracy: 0.4832 - val_loss: 2.8946 - val_accuracy: 0.5875\n",
            "Epoch 2/10\n",
            "45/45 [==============================] - 12s 270ms/step - loss: 2.3135 - accuracy: 0.6718 - val_loss: 2.0209 - val_accuracy: 0.5750\n",
            "Epoch 3/10\n",
            "45/45 [==============================] - 11s 245ms/step - loss: 1.5167 - accuracy: 0.7570 - val_loss: 1.3244 - val_accuracy: 0.7125\n",
            "Epoch 4/10\n",
            "45/45 [==============================] - 11s 251ms/step - loss: 1.1243 - accuracy: 0.8338 - val_loss: 1.1591 - val_accuracy: 0.7625\n",
            "Epoch 5/10\n",
            "45/45 [==============================] - 11s 249ms/step - loss: 0.9816 - accuracy: 0.8939 - val_loss: 1.1615 - val_accuracy: 0.7125\n",
            "Epoch 6/10\n",
            "45/45 [==============================] - 11s 240ms/step - loss: 0.8078 - accuracy: 0.9525 - val_loss: 1.1983 - val_accuracy: 0.7125\n",
            "Epoch 7/10\n",
            "45/45 [==============================] - 11s 241ms/step - loss: 0.7174 - accuracy: 0.9511 - val_loss: 1.2322 - val_accuracy: 0.7250\n",
            "Epoch 8/10\n",
            "45/45 [==============================] - 10s 213ms/step - loss: 0.7202 - accuracy: 0.9469 - val_loss: 1.1789 - val_accuracy: 0.7500\n",
            "Epoch 9/10\n",
            "45/45 [==============================] - 10s 219ms/step - loss: 0.6276 - accuracy: 0.9525 - val_loss: 1.1043 - val_accuracy: 0.7375\n",
            "Epoch 10/10\n",
            "45/45 [==============================] - 10s 223ms/step - loss: 0.5579 - accuracy: 0.9525 - val_loss: 1.1212 - val_accuracy: 0.7375\n",
            "3/3 [==============================] - 1s 46ms/step - loss: 1.1212 - accuracy: 0.7375\n",
            "3/3 [==============================] - 1s 43ms/step\n",
            "Fold 4\n",
            "Model: \"sequential_4\"\n",
            "_________________________________________________________________\n",
            " Layer (type)                Output Shape              Param #   \n",
            "=================================================================\n",
            " text_vectorization_4 (TextV  (None, 2000)             0         \n",
            " ectorization)                                                   \n",
            "                                                                 \n",
            " embedding_4 (Embedding)     (None, 2000, 100)         5000000   \n",
            "                                                                 \n",
            " bidirectional_4 (Bidirectio  (None, 80)               45120     \n",
            " nal)                                                            \n",
            "                                                                 \n",
            " dropout_4 (Dropout)         (None, 80)                0         \n",
            "                                                                 \n",
            " dense_4 (Dense)             (None, 3)                 243       \n",
            "                                                                 \n",
            "=================================================================\n",
            "Total params: 5,045,363\n",
            "Trainable params: 5,045,363\n",
            "Non-trainable params: 0\n",
            "_________________________________________________________________\n",
            "None\n",
            "Epoch 1/10\n",
            "45/45 [==============================] - 16s 284ms/step - loss: 3.7267 - accuracy: 0.5042 - val_loss: 2.8940 - val_accuracy: 0.6000\n",
            "Epoch 2/10\n",
            "45/45 [==============================] - 11s 245ms/step - loss: 2.2761 - accuracy: 0.7263 - val_loss: 1.7910 - val_accuracy: 0.7000\n",
            "Epoch 3/10\n",
            "45/45 [==============================] - 12s 265ms/step - loss: 1.5264 - accuracy: 0.8142 - val_loss: 1.4800 - val_accuracy: 0.6875\n",
            "Epoch 4/10\n",
            "45/45 [==============================] - 11s 242ms/step - loss: 1.1285 - accuracy: 0.9204 - val_loss: 1.6144 - val_accuracy: 0.6375\n",
            "Epoch 5/10\n",
            "45/45 [==============================] - 12s 260ms/step - loss: 0.9247 - accuracy: 0.9441 - val_loss: 1.2932 - val_accuracy: 0.7625\n",
            "Epoch 6/10\n",
            "45/45 [==============================] - 11s 235ms/step - loss: 0.8356 - accuracy: 0.9469 - val_loss: 1.2047 - val_accuracy: 0.7500\n",
            "Epoch 7/10\n",
            "45/45 [==============================] - 11s 239ms/step - loss: 0.7525 - accuracy: 0.9483 - val_loss: 1.2391 - val_accuracy: 0.7625\n",
            "Epoch 8/10\n",
            "45/45 [==============================] - 11s 242ms/step - loss: 0.7670 - accuracy: 0.9455 - val_loss: 1.2645 - val_accuracy: 0.7125\n",
            "Epoch 9/10\n",
            "45/45 [==============================] - 10s 219ms/step - loss: 0.6939 - accuracy: 0.9511 - val_loss: 1.1095 - val_accuracy: 0.7250\n",
            "Epoch 10/10\n",
            "45/45 [==============================] - 9s 209ms/step - loss: 0.6281 - accuracy: 0.9497 - val_loss: 1.1140 - val_accuracy: 0.7375\n",
            "3/3 [==============================] - 1s 45ms/step - loss: 1.1140 - accuracy: 0.7375\n"
          ]
        },
        {
          "output_type": "stream",
          "name": "stderr",
          "text": [
            "WARNING:tensorflow:5 out of the last 13 calls to <function Model.make_predict_function.<locals>.predict_function at 0x7ff98db8d6c0> triggered tf.function retracing. Tracing is expensive and the excessive number of tracings could be due to (1) creating @tf.function repeatedly in a loop, (2) passing tensors with different shapes, (3) passing Python objects instead of tensors. For (1), please define your @tf.function outside of the loop. For (2), @tf.function has reduce_retracing=True option that can avoid unnecessary retracing. For (3), please refer to https://www.tensorflow.org/guide/function#controlling_retracing and https://www.tensorflow.org/api_docs/python/tf/function for  more details.\n"
          ]
        },
        {
          "output_type": "stream",
          "name": "stdout",
          "text": [
            "3/3 [==============================] - 1s 44ms/step\n",
            "Fold 5\n",
            "Model: \"sequential_5\"\n",
            "_________________________________________________________________\n",
            " Layer (type)                Output Shape              Param #   \n",
            "=================================================================\n",
            " text_vectorization_5 (TextV  (None, 2000)             0         \n",
            " ectorization)                                                   \n",
            "                                                                 \n",
            " embedding_5 (Embedding)     (None, 2000, 100)         5000000   \n",
            "                                                                 \n",
            " bidirectional_5 (Bidirectio  (None, 80)               45120     \n",
            " nal)                                                            \n",
            "                                                                 \n",
            " dropout_5 (Dropout)         (None, 80)                0         \n",
            "                                                                 \n",
            " dense_5 (Dense)             (None, 3)                 243       \n",
            "                                                                 \n",
            "=================================================================\n",
            "Total params: 5,045,363\n",
            "Trainable params: 5,045,363\n",
            "Non-trainable params: 0\n",
            "_________________________________________________________________\n",
            "None\n",
            "Epoch 1/10\n",
            "45/45 [==============================] - 16s 261ms/step - loss: 3.6830 - accuracy: 0.5391 - val_loss: 2.7984 - val_accuracy: 0.6625\n",
            "Epoch 2/10\n",
            "45/45 [==============================] - 11s 249ms/step - loss: 2.2550 - accuracy: 0.7039 - val_loss: 1.7791 - val_accuracy: 0.7375\n",
            "Epoch 3/10\n",
            "45/45 [==============================] - 10s 234ms/step - loss: 1.4252 - accuracy: 0.8184 - val_loss: 1.2790 - val_accuracy: 0.7500\n",
            "Epoch 4/10\n",
            "45/45 [==============================] - 11s 247ms/step - loss: 1.0454 - accuracy: 0.9022 - val_loss: 1.0978 - val_accuracy: 0.8250\n",
            "Epoch 5/10\n",
            "45/45 [==============================] - 11s 234ms/step - loss: 0.9006 - accuracy: 0.9302 - val_loss: 1.1027 - val_accuracy: 0.8000\n",
            "Epoch 6/10\n",
            "45/45 [==============================] - 10s 227ms/step - loss: 0.7576 - accuracy: 0.9651 - val_loss: 1.0691 - val_accuracy: 0.8000\n",
            "Epoch 7/10\n",
            "45/45 [==============================] - 10s 230ms/step - loss: 0.8163 - accuracy: 0.9581 - val_loss: 1.3183 - val_accuracy: 0.7250\n",
            "Epoch 8/10\n",
            "45/45 [==============================] - 10s 219ms/step - loss: 0.7410 - accuracy: 0.9623 - val_loss: 1.1371 - val_accuracy: 0.7750\n",
            "Epoch 9/10\n",
            "45/45 [==============================] - 9s 202ms/step - loss: 0.6401 - accuracy: 0.9749 - val_loss: 1.0898 - val_accuracy: 0.7500\n",
            "Epoch 10/10\n",
            "45/45 [==============================] - 10s 215ms/step - loss: 0.5840 - accuracy: 0.9735 - val_loss: 1.0369 - val_accuracy: 0.7750\n",
            "3/3 [==============================] - 1s 81ms/step - loss: 1.0369 - accuracy: 0.7750\n"
          ]
        },
        {
          "output_type": "stream",
          "name": "stderr",
          "text": [
            "WARNING:tensorflow:5 out of the last 13 calls to <function Model.make_predict_function.<locals>.predict_function at 0x7ff98ecdd480> triggered tf.function retracing. Tracing is expensive and the excessive number of tracings could be due to (1) creating @tf.function repeatedly in a loop, (2) passing tensors with different shapes, (3) passing Python objects instead of tensors. For (1), please define your @tf.function outside of the loop. For (2), @tf.function has reduce_retracing=True option that can avoid unnecessary retracing. For (3), please refer to https://www.tensorflow.org/guide/function#controlling_retracing and https://www.tensorflow.org/api_docs/python/tf/function for  more details.\n"
          ]
        },
        {
          "output_type": "stream",
          "name": "stdout",
          "text": [
            "3/3 [==============================] - 1s 53ms/step\n",
            "Fold 6\n",
            "Model: \"sequential_6\"\n",
            "_________________________________________________________________\n",
            " Layer (type)                Output Shape              Param #   \n",
            "=================================================================\n",
            " text_vectorization_6 (TextV  (None, 2000)             0         \n",
            " ectorization)                                                   \n",
            "                                                                 \n",
            " embedding_6 (Embedding)     (None, 2000, 100)         5000000   \n",
            "                                                                 \n",
            " bidirectional_6 (Bidirectio  (None, 80)               45120     \n",
            " nal)                                                            \n",
            "                                                                 \n",
            " dropout_6 (Dropout)         (None, 80)                0         \n",
            "                                                                 \n",
            " dense_6 (Dense)             (None, 3)                 243       \n",
            "                                                                 \n",
            "=================================================================\n",
            "Total params: 5,045,363\n",
            "Trainable params: 5,045,363\n",
            "Non-trainable params: 0\n",
            "_________________________________________________________________\n",
            "None\n",
            "Epoch 1/10\n",
            "45/45 [==============================] - 16s 277ms/step - loss: 3.7086 - accuracy: 0.4993 - val_loss: 3.0242 - val_accuracy: 0.5570\n",
            "Epoch 2/10\n",
            "45/45 [==============================] - 11s 255ms/step - loss: 2.3825 - accuracy: 0.6876 - val_loss: 1.9450 - val_accuracy: 0.6709\n",
            "Epoch 3/10\n",
            "45/45 [==============================] - 10s 233ms/step - loss: 1.5189 - accuracy: 0.8117 - val_loss: 1.3760 - val_accuracy: 0.7089\n",
            "Epoch 4/10\n",
            "45/45 [==============================] - 11s 235ms/step - loss: 1.0729 - accuracy: 0.9135 - val_loss: 1.3445 - val_accuracy: 0.7089\n",
            "Epoch 5/10\n",
            "45/45 [==============================] - 11s 247ms/step - loss: 0.9172 - accuracy: 0.9372 - val_loss: 1.4578 - val_accuracy: 0.7089\n",
            "Epoch 6/10\n",
            "45/45 [==============================] - 10s 213ms/step - loss: 0.8087 - accuracy: 0.9456 - val_loss: 1.2272 - val_accuracy: 0.7089\n",
            "Epoch 7/10\n",
            "45/45 [==============================] - 11s 247ms/step - loss: 0.7280 - accuracy: 0.9484 - val_loss: 1.1772 - val_accuracy: 0.6835\n",
            "Epoch 8/10\n",
            "45/45 [==============================] - 10s 223ms/step - loss: 0.6554 - accuracy: 0.9442 - val_loss: 1.1033 - val_accuracy: 0.6962\n",
            "Epoch 9/10\n",
            "45/45 [==============================] - 10s 221ms/step - loss: 0.5883 - accuracy: 0.9526 - val_loss: 1.1009 - val_accuracy: 0.6582\n",
            "Epoch 10/10\n",
            "45/45 [==============================] - 9s 196ms/step - loss: 0.5426 - accuracy: 0.9596 - val_loss: 1.0056 - val_accuracy: 0.7342\n",
            "3/3 [==============================] - 0s 46ms/step - loss: 1.0056 - accuracy: 0.7342\n",
            "3/3 [==============================] - 1s 45ms/step\n",
            "Fold 7\n",
            "Model: \"sequential_7\"\n",
            "_________________________________________________________________\n",
            " Layer (type)                Output Shape              Param #   \n",
            "=================================================================\n",
            " text_vectorization_7 (TextV  (None, 2000)             0         \n",
            " ectorization)                                                   \n",
            "                                                                 \n",
            " embedding_7 (Embedding)     (None, 2000, 100)         5000000   \n",
            "                                                                 \n",
            " bidirectional_7 (Bidirectio  (None, 80)               45120     \n",
            " nal)                                                            \n",
            "                                                                 \n",
            " dropout_7 (Dropout)         (None, 80)                0         \n",
            "                                                                 \n",
            " dense_7 (Dense)             (None, 3)                 243       \n",
            "                                                                 \n",
            "=================================================================\n",
            "Total params: 5,045,363\n",
            "Trainable params: 5,045,363\n",
            "Non-trainable params: 0\n",
            "_________________________________________________________________\n",
            "None\n",
            "Epoch 1/10\n",
            "45/45 [==============================] - 16s 271ms/step - loss: 3.6909 - accuracy: 0.4979 - val_loss: 2.8833 - val_accuracy: 0.5949\n",
            "Epoch 2/10\n",
            "45/45 [==============================] - 11s 247ms/step - loss: 2.3073 - accuracy: 0.6862 - val_loss: 1.7835 - val_accuracy: 0.7215\n",
            "Epoch 3/10\n",
            "45/45 [==============================] - 11s 240ms/step - loss: 1.4673 - accuracy: 0.7755 - val_loss: 1.2997 - val_accuracy: 0.7595\n",
            "Epoch 4/10\n",
            "45/45 [==============================] - 11s 236ms/step - loss: 1.1039 - accuracy: 0.8466 - val_loss: 1.3242 - val_accuracy: 0.6962\n",
            "Epoch 5/10\n",
            "45/45 [==============================] - 10s 233ms/step - loss: 0.9548 - accuracy: 0.9038 - val_loss: 1.0124 - val_accuracy: 0.8101\n",
            "Epoch 6/10\n",
            "45/45 [==============================] - 10s 228ms/step - loss: 0.7803 - accuracy: 0.9526 - val_loss: 1.3203 - val_accuracy: 0.6835\n",
            "Epoch 7/10\n",
            "45/45 [==============================] - 11s 239ms/step - loss: 0.7549 - accuracy: 0.9498 - val_loss: 1.0159 - val_accuracy: 0.8101\n",
            "Epoch 8/10\n",
            "45/45 [==============================] - 10s 220ms/step - loss: 0.6668 - accuracy: 0.9637 - val_loss: 0.9677 - val_accuracy: 0.8354\n",
            "Epoch 9/10\n",
            "45/45 [==============================] - 9s 206ms/step - loss: 0.6469 - accuracy: 0.9707 - val_loss: 1.1346 - val_accuracy: 0.7342\n",
            "Epoch 10/10\n",
            "45/45 [==============================] - 8s 180ms/step - loss: 0.6081 - accuracy: 0.9665 - val_loss: 1.0519 - val_accuracy: 0.7975\n",
            "3/3 [==============================] - 0s 47ms/step - loss: 1.0519 - accuracy: 0.7975\n",
            "3/3 [==============================] - 1s 44ms/step\n",
            "Fold 8\n",
            "Model: \"sequential_8\"\n",
            "_________________________________________________________________\n",
            " Layer (type)                Output Shape              Param #   \n",
            "=================================================================\n",
            " text_vectorization_8 (TextV  (None, 2000)             0         \n",
            " ectorization)                                                   \n",
            "                                                                 \n",
            " embedding_8 (Embedding)     (None, 2000, 100)         5000000   \n",
            "                                                                 \n",
            " bidirectional_8 (Bidirectio  (None, 80)               45120     \n",
            " nal)                                                            \n",
            "                                                                 \n",
            " dropout_8 (Dropout)         (None, 80)                0         \n",
            "                                                                 \n",
            " dense_8 (Dense)             (None, 3)                 243       \n",
            "                                                                 \n",
            "=================================================================\n",
            "Total params: 5,045,363\n",
            "Trainable params: 5,045,363\n",
            "Non-trainable params: 0\n",
            "_________________________________________________________________\n",
            "None\n",
            "Epoch 1/10\n",
            "45/45 [==============================] - 15s 267ms/step - loss: 3.7004 - accuracy: 0.4909 - val_loss: 2.9082 - val_accuracy: 0.5696\n",
            "Epoch 2/10\n",
            "45/45 [==============================] - 11s 245ms/step - loss: 2.2969 - accuracy: 0.7211 - val_loss: 2.0473 - val_accuracy: 0.5949\n",
            "Epoch 3/10\n",
            "45/45 [==============================] - 10s 221ms/step - loss: 1.4765 - accuracy: 0.7796 - val_loss: 1.3687 - val_accuracy: 0.6962\n",
            "Epoch 4/10\n",
            "45/45 [==============================] - 11s 237ms/step - loss: 1.1389 - accuracy: 0.8689 - val_loss: 1.3602 - val_accuracy: 0.6962\n",
            "Epoch 5/10\n",
            "45/45 [==============================] - 10s 225ms/step - loss: 0.9388 - accuracy: 0.9358 - val_loss: 1.2702 - val_accuracy: 0.7215\n",
            "Epoch 6/10\n",
            "45/45 [==============================] - 10s 225ms/step - loss: 0.8478 - accuracy: 0.9470 - val_loss: 1.2087 - val_accuracy: 0.7215\n",
            "Epoch 7/10\n",
            "45/45 [==============================] - 10s 218ms/step - loss: 0.7500 - accuracy: 0.9512 - val_loss: 1.1462 - val_accuracy: 0.7215\n",
            "Epoch 8/10\n",
            "45/45 [==============================] - 9s 208ms/step - loss: 0.6763 - accuracy: 0.9554 - val_loss: 1.1814 - val_accuracy: 0.6962\n",
            "Epoch 9/10\n",
            "45/45 [==============================] - 10s 218ms/step - loss: 0.6333 - accuracy: 0.9526 - val_loss: 1.0697 - val_accuracy: 0.6962\n",
            "Epoch 10/10\n",
            "45/45 [==============================] - 10s 226ms/step - loss: 0.5949 - accuracy: 0.9526 - val_loss: 1.0222 - val_accuracy: 0.7342\n",
            "3/3 [==============================] - 0s 48ms/step - loss: 1.0222 - accuracy: 0.7342\n",
            "3/3 [==============================] - 1s 45ms/step\n",
            "Fold 9\n",
            "Model: \"sequential_9\"\n",
            "_________________________________________________________________\n",
            " Layer (type)                Output Shape              Param #   \n",
            "=================================================================\n",
            " text_vectorization_9 (TextV  (None, 2000)             0         \n",
            " ectorization)                                                   \n",
            "                                                                 \n",
            " embedding_9 (Embedding)     (None, 2000, 100)         5000000   \n",
            "                                                                 \n",
            " bidirectional_9 (Bidirectio  (None, 80)               45120     \n",
            " nal)                                                            \n",
            "                                                                 \n",
            " dropout_9 (Dropout)         (None, 80)                0         \n",
            "                                                                 \n",
            " dense_9 (Dense)             (None, 3)                 243       \n",
            "                                                                 \n",
            "=================================================================\n",
            "Total params: 5,045,363\n",
            "Trainable params: 5,045,363\n",
            "Non-trainable params: 0\n",
            "_________________________________________________________________\n",
            "None\n",
            "Epoch 1/10\n",
            "45/45 [==============================] - 16s 255ms/step - loss: 3.7041 - accuracy: 0.5397 - val_loss: 2.8798 - val_accuracy: 0.6076\n",
            "Epoch 2/10\n",
            "45/45 [==============================] - 11s 235ms/step - loss: 2.2667 - accuracy: 0.7015 - val_loss: 1.8724 - val_accuracy: 0.6582\n",
            "Epoch 3/10\n",
            "45/45 [==============================] - 11s 234ms/step - loss: 1.4461 - accuracy: 0.8633 - val_loss: 1.3647 - val_accuracy: 0.6709\n",
            "Epoch 4/10\n",
            "45/45 [==============================] - 11s 236ms/step - loss: 1.0390 - accuracy: 0.9428 - val_loss: 1.3687 - val_accuracy: 0.7089\n",
            "Epoch 5/10\n",
            "45/45 [==============================] - 9s 212ms/step - loss: 0.9641 - accuracy: 0.9344 - val_loss: 1.2789 - val_accuracy: 0.7089\n",
            "Epoch 6/10\n",
            "45/45 [==============================] - 10s 220ms/step - loss: 0.8140 - accuracy: 0.9512 - val_loss: 1.2789 - val_accuracy: 0.6962\n",
            "Epoch 7/10\n",
            "45/45 [==============================] - 11s 235ms/step - loss: 0.7290 - accuracy: 0.9540 - val_loss: 1.1753 - val_accuracy: 0.6835\n",
            "Epoch 8/10\n",
            "45/45 [==============================] - 9s 196ms/step - loss: 0.6598 - accuracy: 0.9526 - val_loss: 1.1339 - val_accuracy: 0.7342\n",
            "Epoch 9/10\n",
            "45/45 [==============================] - 10s 229ms/step - loss: 0.8481 - accuracy: 0.8968 - val_loss: 1.2360 - val_accuracy: 0.6835\n",
            "Epoch 10/10\n",
            "45/45 [==============================] - 9s 207ms/step - loss: 0.6041 - accuracy: 0.9582 - val_loss: 1.2781 - val_accuracy: 0.6709\n",
            "3/3 [==============================] - 0s 81ms/step - loss: 1.2781 - accuracy: 0.6709\n",
            "3/3 [==============================] - 1s 49ms/step\n"
          ]
        }
      ]
    },
    {
      "cell_type": "code",
      "source": [
        "cv_results"
      ],
      "metadata": {
        "colab": {
          "base_uri": "https://localhost:8080/",
          "height": 363
        },
        "id": "mIyI4R2-Tn59",
        "outputId": "690a1a10-3a36-4d57-dffb-44b07de7be58"
      },
      "execution_count": null,
      "outputs": [
        {
          "output_type": "execute_result",
          "data": {
            "text/plain": [
              "     Recall Precision  F1 score  F2 score\n",
              "0  0.722682  0.722619  0.722491  0.722567\n",
              "1  0.639464  0.641975  0.638724  0.638676\n",
              "2  0.784794  0.786111  0.783895  0.784043\n",
              "3  0.692604  0.710201  0.681982  0.684609\n",
              "4   0.68461  0.687069  0.679831  0.681367\n",
              "5   0.74609  0.770833  0.741424  0.739623\n",
              "6  0.695887  0.698611  0.685886  0.688883\n",
              "7  0.770803  0.770186  0.761206  0.764668\n",
              "8  0.674002     0.675  0.607778  0.637201\n",
              "9  0.580032  0.552381  0.552162  0.565363"
            ],
            "text/html": [
              "\n",
              "  <div id=\"df-d61a37cd-de16-4498-91b6-af345c167769\">\n",
              "    <div class=\"colab-df-container\">\n",
              "      <div>\n",
              "<style scoped>\n",
              "    .dataframe tbody tr th:only-of-type {\n",
              "        vertical-align: middle;\n",
              "    }\n",
              "\n",
              "    .dataframe tbody tr th {\n",
              "        vertical-align: top;\n",
              "    }\n",
              "\n",
              "    .dataframe thead th {\n",
              "        text-align: right;\n",
              "    }\n",
              "</style>\n",
              "<table border=\"1\" class=\"dataframe\">\n",
              "  <thead>\n",
              "    <tr style=\"text-align: right;\">\n",
              "      <th></th>\n",
              "      <th>Recall</th>\n",
              "      <th>Precision</th>\n",
              "      <th>F1 score</th>\n",
              "      <th>F2 score</th>\n",
              "    </tr>\n",
              "  </thead>\n",
              "  <tbody>\n",
              "    <tr>\n",
              "      <th>0</th>\n",
              "      <td>0.722682</td>\n",
              "      <td>0.722619</td>\n",
              "      <td>0.722491</td>\n",
              "      <td>0.722567</td>\n",
              "    </tr>\n",
              "    <tr>\n",
              "      <th>1</th>\n",
              "      <td>0.639464</td>\n",
              "      <td>0.641975</td>\n",
              "      <td>0.638724</td>\n",
              "      <td>0.638676</td>\n",
              "    </tr>\n",
              "    <tr>\n",
              "      <th>2</th>\n",
              "      <td>0.784794</td>\n",
              "      <td>0.786111</td>\n",
              "      <td>0.783895</td>\n",
              "      <td>0.784043</td>\n",
              "    </tr>\n",
              "    <tr>\n",
              "      <th>3</th>\n",
              "      <td>0.692604</td>\n",
              "      <td>0.710201</td>\n",
              "      <td>0.681982</td>\n",
              "      <td>0.684609</td>\n",
              "    </tr>\n",
              "    <tr>\n",
              "      <th>4</th>\n",
              "      <td>0.68461</td>\n",
              "      <td>0.687069</td>\n",
              "      <td>0.679831</td>\n",
              "      <td>0.681367</td>\n",
              "    </tr>\n",
              "    <tr>\n",
              "      <th>5</th>\n",
              "      <td>0.74609</td>\n",
              "      <td>0.770833</td>\n",
              "      <td>0.741424</td>\n",
              "      <td>0.739623</td>\n",
              "    </tr>\n",
              "    <tr>\n",
              "      <th>6</th>\n",
              "      <td>0.695887</td>\n",
              "      <td>0.698611</td>\n",
              "      <td>0.685886</td>\n",
              "      <td>0.688883</td>\n",
              "    </tr>\n",
              "    <tr>\n",
              "      <th>7</th>\n",
              "      <td>0.770803</td>\n",
              "      <td>0.770186</td>\n",
              "      <td>0.761206</td>\n",
              "      <td>0.764668</td>\n",
              "    </tr>\n",
              "    <tr>\n",
              "      <th>8</th>\n",
              "      <td>0.674002</td>\n",
              "      <td>0.675</td>\n",
              "      <td>0.607778</td>\n",
              "      <td>0.637201</td>\n",
              "    </tr>\n",
              "    <tr>\n",
              "      <th>9</th>\n",
              "      <td>0.580032</td>\n",
              "      <td>0.552381</td>\n",
              "      <td>0.552162</td>\n",
              "      <td>0.565363</td>\n",
              "    </tr>\n",
              "  </tbody>\n",
              "</table>\n",
              "</div>\n",
              "      <button class=\"colab-df-convert\" onclick=\"convertToInteractive('df-d61a37cd-de16-4498-91b6-af345c167769')\"\n",
              "              title=\"Convert this dataframe to an interactive table.\"\n",
              "              style=\"display:none;\">\n",
              "        \n",
              "  <svg xmlns=\"http://www.w3.org/2000/svg\" height=\"24px\"viewBox=\"0 0 24 24\"\n",
              "       width=\"24px\">\n",
              "    <path d=\"M0 0h24v24H0V0z\" fill=\"none\"/>\n",
              "    <path d=\"M18.56 5.44l.94 2.06.94-2.06 2.06-.94-2.06-.94-.94-2.06-.94 2.06-2.06.94zm-11 1L8.5 8.5l.94-2.06 2.06-.94-2.06-.94L8.5 2.5l-.94 2.06-2.06.94zm10 10l.94 2.06.94-2.06 2.06-.94-2.06-.94-.94-2.06-.94 2.06-2.06.94z\"/><path d=\"M17.41 7.96l-1.37-1.37c-.4-.4-.92-.59-1.43-.59-.52 0-1.04.2-1.43.59L10.3 9.45l-7.72 7.72c-.78.78-.78 2.05 0 2.83L4 21.41c.39.39.9.59 1.41.59.51 0 1.02-.2 1.41-.59l7.78-7.78 2.81-2.81c.8-.78.8-2.07 0-2.86zM5.41 20L4 18.59l7.72-7.72 1.47 1.35L5.41 20z\"/>\n",
              "  </svg>\n",
              "      </button>\n",
              "      \n",
              "  <style>\n",
              "    .colab-df-container {\n",
              "      display:flex;\n",
              "      flex-wrap:wrap;\n",
              "      gap: 12px;\n",
              "    }\n",
              "\n",
              "    .colab-df-convert {\n",
              "      background-color: #E8F0FE;\n",
              "      border: none;\n",
              "      border-radius: 50%;\n",
              "      cursor: pointer;\n",
              "      display: none;\n",
              "      fill: #1967D2;\n",
              "      height: 32px;\n",
              "      padding: 0 0 0 0;\n",
              "      width: 32px;\n",
              "    }\n",
              "\n",
              "    .colab-df-convert:hover {\n",
              "      background-color: #E2EBFA;\n",
              "      box-shadow: 0px 1px 2px rgba(60, 64, 67, 0.3), 0px 1px 3px 1px rgba(60, 64, 67, 0.15);\n",
              "      fill: #174EA6;\n",
              "    }\n",
              "\n",
              "    [theme=dark] .colab-df-convert {\n",
              "      background-color: #3B4455;\n",
              "      fill: #D2E3FC;\n",
              "    }\n",
              "\n",
              "    [theme=dark] .colab-df-convert:hover {\n",
              "      background-color: #434B5C;\n",
              "      box-shadow: 0px 1px 3px 1px rgba(0, 0, 0, 0.15);\n",
              "      filter: drop-shadow(0px 1px 2px rgba(0, 0, 0, 0.3));\n",
              "      fill: #FFFFFF;\n",
              "    }\n",
              "  </style>\n",
              "\n",
              "      <script>\n",
              "        const buttonEl =\n",
              "          document.querySelector('#df-d61a37cd-de16-4498-91b6-af345c167769 button.colab-df-convert');\n",
              "        buttonEl.style.display =\n",
              "          google.colab.kernel.accessAllowed ? 'block' : 'none';\n",
              "\n",
              "        async function convertToInteractive(key) {\n",
              "          const element = document.querySelector('#df-d61a37cd-de16-4498-91b6-af345c167769');\n",
              "          const dataTable =\n",
              "            await google.colab.kernel.invokeFunction('convertToInteractive',\n",
              "                                                     [key], {});\n",
              "          if (!dataTable) return;\n",
              "\n",
              "          const docLinkHtml = 'Like what you see? Visit the ' +\n",
              "            '<a target=\"_blank\" href=https://colab.research.google.com/notebooks/data_table.ipynb>data table notebook</a>'\n",
              "            + ' to learn more about interactive tables.';\n",
              "          element.innerHTML = '';\n",
              "          dataTable['output_type'] = 'display_data';\n",
              "          await google.colab.output.renderOutput(dataTable, element);\n",
              "          const docLink = document.createElement('div');\n",
              "          docLink.innerHTML = docLinkHtml;\n",
              "          element.appendChild(docLink);\n",
              "        }\n",
              "      </script>\n",
              "    </div>\n",
              "  </div>\n",
              "  "
            ]
          },
          "metadata": {},
          "execution_count": 21
        }
      ]
    },
    {
      "cell_type": "code",
      "source": [
        "cv_results.mean()"
      ],
      "metadata": {
        "colab": {
          "base_uri": "https://localhost:8080/"
        },
        "id": "FZnibjQnToaJ",
        "outputId": "0392094c-888c-4c44-a968-223110edabff"
      },
      "execution_count": null,
      "outputs": [
        {
          "output_type": "execute_result",
          "data": {
            "text/plain": [
              "Recall       0.699097\n",
              "Precision    0.701499\n",
              "F1 score     0.685538\n",
              "F2 score     0.690700\n",
              "dtype: float64"
            ]
          },
          "metadata": {},
          "execution_count": 22
        }
      ]
    },
    {
      "cell_type": "code",
      "source": [
        "def train_blstm(train_texts, train_labels, test_texts, test_labels):\n",
        "\n",
        "  blstm_model = create_blstm_model(train_texts)\n",
        "  \n",
        "  history = blstm_model.fit(train_texts,\n",
        "                            train_labels,\n",
        "                            epochs=10,\n",
        "                            batch_size=16,\n",
        "                            validation_data=(test_texts, test_labels))\n",
        "  \n",
        "  blstm_model.evaluate(test_texts, test_labels)\n",
        "  y_pred = np.round(blstm_model.predict(test_texts))\n",
        "\n",
        "  y_pred = np.argmax(y_pred, axis=1)\n",
        "\n",
        "  f1_sc = f1_score(test_labels, y_pred, average='macro')\n",
        "  f2score = fbeta_score(test_labels, y_pred, beta=2, average='macro')\n",
        "\n",
        "  print(\"Recall = {}\".format(recall_score(test_labels, y_pred, average='macro')))\n",
        "  print(\"Precision = {}\".format(precision_score(test_labels, y_pred, average='macro')))\n",
        "  print(\"F1 score = {}\".format(f1_sc))\n",
        "  print(\"F2 score = {}\".format(f2score))\n",
        "  print(classification_report(test_labels, y_pred))\n",
        "  \n",
        "  cm = confusion_matrix(test_labels, y_pred)\n",
        "\n",
        "  disp = ConfusionMatrixDisplay(confusion_matrix=cm, display_labels=[0,1,2])\n",
        "\n",
        "  disp.plot(cmap=plt.cm.Blues)\n",
        "  plt.show()\n",
        "\n",
        "  return f1_sc"
      ],
      "metadata": {
        "id": "kokcAEzXJx3v"
      },
      "execution_count": null,
      "outputs": []
    },
    {
      "cell_type": "code",
      "execution_count": null,
      "metadata": {
        "id": "-jXE4CoE5Wb6"
      },
      "outputs": [],
      "source": [
        "X_train = train_data['text'].values"
      ]
    },
    {
      "cell_type": "code",
      "execution_count": null,
      "metadata": {
        "colab": {
          "base_uri": "https://localhost:8080/"
        },
        "id": "2SOG2Rqx5ZDE",
        "outputId": "56097013-0f3f-41cb-ec16-6c6d61e2bcc4"
      },
      "outputs": [
        {
          "output_type": "execute_result",
          "data": {
            "text/plain": [
              "(796,)"
            ]
          },
          "metadata": {},
          "execution_count": 25
        }
      ],
      "source": [
        "X_train.shape"
      ]
    },
    {
      "cell_type": "code",
      "execution_count": null,
      "metadata": {
        "id": "0cCYlQfg5a7e"
      },
      "outputs": [],
      "source": [
        "y_train = train_data['label'].values.reshape(-1, 1)"
      ]
    },
    {
      "cell_type": "code",
      "execution_count": null,
      "metadata": {
        "colab": {
          "base_uri": "https://localhost:8080/"
        },
        "id": "4WNBaiqF5c5R",
        "outputId": "79b80d1f-9340-42b5-aab7-49f695917c61"
      },
      "outputs": [
        {
          "output_type": "execute_result",
          "data": {
            "text/plain": [
              "(796, 1)"
            ]
          },
          "metadata": {},
          "execution_count": 27
        }
      ],
      "source": [
        "y_train.shape"
      ]
    },
    {
      "cell_type": "code",
      "execution_count": null,
      "metadata": {
        "id": "NFr0qAAb5eYa"
      },
      "outputs": [],
      "source": [
        "X_test = test_data['text'].values.reshape(-1, 1)"
      ]
    },
    {
      "cell_type": "code",
      "execution_count": null,
      "metadata": {
        "id": "HzvN4MRGS-Ec"
      },
      "outputs": [],
      "source": [
        "y_test = test_data['label'].values"
      ]
    },
    {
      "cell_type": "code",
      "source": [
        "train_blstm(X_train, y_train, X_test, y_test)"
      ],
      "metadata": {
        "id": "mgBbRvmxfjPx",
        "colab": {
          "base_uri": "https://localhost:8080/",
          "height": 1000
        },
        "outputId": "815485e5-8375-4040-c40d-f60bf04ea836"
      },
      "execution_count": null,
      "outputs": [
        {
          "output_type": "stream",
          "name": "stdout",
          "text": [
            "Model: \"sequential\"\n",
            "_________________________________________________________________\n",
            " Layer (type)                Output Shape              Param #   \n",
            "=================================================================\n",
            " text_vectorization (TextVec  (None, 2000)             0         \n",
            " torization)                                                     \n",
            "                                                                 \n",
            " embedding (Embedding)       (None, 2000, 100)         5000000   \n",
            "                                                                 \n",
            " bidirectional (Bidirectiona  (None, 80)               45120     \n",
            " l)                                                              \n",
            "                                                                 \n",
            " dropout (Dropout)           (None, 80)                0         \n",
            "                                                                 \n",
            " dense (Dense)               (None, 3)                 243       \n",
            "                                                                 \n",
            "=================================================================\n",
            "Total params: 5,045,363\n",
            "Trainable params: 5,045,363\n",
            "Non-trainable params: 0\n",
            "_________________________________________________________________\n",
            "None\n",
            "Epoch 1/10\n",
            "50/50 [==============================] - 24s 311ms/step - loss: 3.6230 - accuracy: 0.5465 - val_loss: 2.7301 - val_accuracy: 0.6500\n",
            "Epoch 2/10\n",
            "50/50 [==============================] - 15s 303ms/step - loss: 2.2157 - accuracy: 0.7224 - val_loss: 1.7081 - val_accuracy: 0.7600\n",
            "Epoch 3/10\n",
            "50/50 [==============================] - 14s 275ms/step - loss: 1.4227 - accuracy: 0.7525 - val_loss: 1.2133 - val_accuracy: 0.7250\n",
            "Epoch 4/10\n",
            "50/50 [==============================] - 14s 278ms/step - loss: 1.0732 - accuracy: 0.8656 - val_loss: 1.1674 - val_accuracy: 0.7600\n",
            "Epoch 5/10\n",
            "50/50 [==============================] - 13s 265ms/step - loss: 0.8598 - accuracy: 0.9472 - val_loss: 1.1074 - val_accuracy: 0.7850\n",
            "Epoch 6/10\n",
            "50/50 [==============================] - 14s 270ms/step - loss: 0.7552 - accuracy: 0.9510 - val_loss: 0.9883 - val_accuracy: 0.7950\n",
            "Epoch 7/10\n",
            "50/50 [==============================] - 13s 257ms/step - loss: 0.6611 - accuracy: 0.9598 - val_loss: 0.9637 - val_accuracy: 0.7850\n",
            "Epoch 8/10\n",
            "50/50 [==============================] - 12s 233ms/step - loss: 0.5913 - accuracy: 0.9585 - val_loss: 1.0659 - val_accuracy: 0.7650\n",
            "Epoch 9/10\n",
            "50/50 [==============================] - 12s 239ms/step - loss: 0.5340 - accuracy: 0.9686 - val_loss: 0.8631 - val_accuracy: 0.7750\n",
            "Epoch 10/10\n",
            "50/50 [==============================] - 12s 231ms/step - loss: 0.4796 - accuracy: 0.9598 - val_loss: 0.8143 - val_accuracy: 0.7750\n",
            "7/7 [==============================] - 0s 46ms/step - loss: 0.8143 - accuracy: 0.7750\n",
            "7/7 [==============================] - 1s 44ms/step\n",
            "Recall = 0.7377257245678298\n",
            "Precision = 0.7413472706155634\n",
            "F1 score = 0.7345628839405828\n",
            "F2 score = 0.7352748326818391\n",
            "              precision    recall  f1-score   support\n",
            "\n",
            "           0       0.61      0.48      0.54        52\n",
            "           1       1.00      0.98      0.99        91\n",
            "           2       0.61      0.75      0.68        57\n",
            "\n",
            "    accuracy                           0.79       200\n",
            "   macro avg       0.74      0.74      0.73       200\n",
            "weighted avg       0.79      0.79      0.78       200\n",
            "\n"
          ]
        },
        {
          "output_type": "display_data",
          "data": {
            "text/plain": [
              "<Figure size 640x480 with 2 Axes>"
            ],
            "image/png": "[encoded data removed]"
          },
          "metadata": {}
        },
        {
          "output_type": "execute_result",
          "data": {
            "text/plain": [
              "0.7345628839405828"
            ]
          },
          "metadata": {},
          "execution_count": 30
        }
      ]
    }
  ],
  "metadata": {
    "accelerator": "GPU",
    "colab": {
      "machine_shape": "hm",
      "provenance": [],
      "gpuType": "T4"
    },
    "gpuClass": "standard",
    "kernelspec": {
      "display_name": "Python 3",
      "name": "python3"
    },
    "language_info": {
      "name": "python"
    }
  },
  "nbformat": 4,
  "nbformat_minor": 0
}