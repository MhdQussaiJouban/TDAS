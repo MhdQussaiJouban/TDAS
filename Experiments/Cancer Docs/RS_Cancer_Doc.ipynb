{
  "cells": [
    {
      "cell_type": "code",
      "execution_count": null,
      "metadata": {
        "id": "_Q1SwXg76Uf3",
        "colab": {
          "base_uri": "https://localhost:8080/"
        },
        "outputId": "8ac20a93-bfdc-4b3c-f08c-2933ea615eb1"
      },
      "outputs": [
        {
          "output_type": "stream",
          "name": "stderr",
          "text": [
            "[nltk_data] Downloading package stopwords to /root/nltk_data...\n",
            "[nltk_data]   Unzipping corpora/stopwords.zip.\n",
            "[nltk_data] Downloading package punkt to /root/nltk_data...\n",
            "[nltk_data]   Unzipping tokenizers/punkt.zip.\n",
            "[nltk_data] Downloading package averaged_perceptron_tagger to\n",
            "[nltk_data]     /root/nltk_data...\n",
            "[nltk_data]   Unzipping taggers/averaged_perceptron_tagger.zip.\n"
          ]
        },
        {
          "output_type": "stream",
          "name": "stdout",
          "text": [
            "Mounted at /content/gdrive\n"
          ]
        }
      ],
      "source": [
        "from datetime import datetime\n",
        "import random \n",
        "import numpy as np\n",
        "import pandas as pd\n",
        "from sklearn.preprocessing import LabelEncoder\n",
        "from sklearn.model_selection import train_test_split\n",
        "from sklearn.ensemble import RandomForestClassifier, ExtraTreesClassifier\n",
        "from sklearn.linear_model import SGDClassifier, LogisticRegression\n",
        "from sklearn.naive_bayes import GaussianNB\n",
        "from sklearn.neural_network import MLPClassifier\n",
        "from sklearn.svm import SVC\n",
        "from sklearn.neighbors import KNeighborsClassifier\n",
        "from sklearn.model_selection import GridSearchCV\n",
        "from sklearn.ensemble import StackingClassifier\n",
        "from sklearn.metrics import confusion_matrix\n",
        "from sklearn.metrics import ConfusionMatrixDisplay\n",
        "from sklearn.metrics import accuracy_score, recall_score, precision_score, f1_score, fbeta_score, classification_report\n",
        "from sklearn.metrics import make_scorer \n",
        "import matplotlib.pyplot as plt\n",
        "import gensim.downloader as api\n",
        "\n",
        "import nltk\n",
        "from nltk.tokenize import word_tokenize\n",
        "from nltk import pos_tag\n",
        "nltk.download('stopwords')\n",
        "nltk.download('punkt')\n",
        "nltk.download('averaged_perceptron_tagger')\n",
        "\n",
        "from google.colab import drive\n",
        "drive.mount('/content/gdrive')\n",
        "dir_name = \"/content/gdrive/MyDrive/Thesis/\""
      ]
    },
    {
      "cell_type": "code",
      "execution_count": null,
      "metadata": {
        "id": "hsZEizu93N6d",
        "colab": {
          "base_uri": "https://localhost:8080/",
          "height": 424
        },
        "outputId": "abbe239b-01cb-48f6-dbe2-b89b1548e075"
      },
      "outputs": [
        {
          "output_type": "execute_result",
          "data": {
            "text/plain": [
              "      label                                               text\n",
              "0         2  Thyroid surgery in  children in a single insti...\n",
              "1         2  \" The adopted strategy was the same as that us...\n",
              "2         2  coronary arterybypass grafting thrombosis ï¬b...\n",
              "3         2   Solitary plasmacytoma SP of the skull is an u...\n",
              "4         2   This study aimed to investigate serum matrix ...\n",
              "...     ...                                                ...\n",
              "7565      0  we report the case of a 24yearold man who pres...\n",
              "7566      0  among synchronous colorectal cancers scrcs rep...\n",
              "7567      0  the heterogeneity of cancer cells is generally...\n",
              "7568      0  \"adipogenesis is the process through which mes...\n",
              "7569      0  the periparturient period is one of the most c...\n",
              "\n",
              "[7570 rows x 2 columns]"
            ],
            "text/html": [
              "\n",
              "  <div id=\"df-8db79096-3c81-46d3-bcc5-6e93132ef1bc\">\n",
              "    <div class=\"colab-df-container\">\n",
              "      <div>\n",
              "<style scoped>\n",
              "    .dataframe tbody tr th:only-of-type {\n",
              "        vertical-align: middle;\n",
              "    }\n",
              "\n",
              "    .dataframe tbody tr th {\n",
              "        vertical-align: top;\n",
              "    }\n",
              "\n",
              "    .dataframe thead th {\n",
              "        text-align: right;\n",
              "    }\n",
              "</style>\n",
              "<table border=\"1\" class=\"dataframe\">\n",
              "  <thead>\n",
              "    <tr style=\"text-align: right;\">\n",
              "      <th></th>\n",
              "      <th>label</th>\n",
              "      <th>text</th>\n",
              "    </tr>\n",
              "  </thead>\n",
              "  <tbody>\n",
              "    <tr>\n",
              "      <th>0</th>\n",
              "      <td>2</td>\n",
              "      <td>Thyroid surgery in  children in a single insti...</td>\n",
              "    </tr>\n",
              "    <tr>\n",
              "      <th>1</th>\n",
              "      <td>2</td>\n",
              "      <td>\" The adopted strategy was the same as that us...</td>\n",
              "    </tr>\n",
              "    <tr>\n",
              "      <th>2</th>\n",
              "      <td>2</td>\n",
              "      <td>coronary arterybypass grafting thrombosis ï¬b...</td>\n",
              "    </tr>\n",
              "    <tr>\n",
              "      <th>3</th>\n",
              "      <td>2</td>\n",
              "      <td>Solitary plasmacytoma SP of the skull is an u...</td>\n",
              "    </tr>\n",
              "    <tr>\n",
              "      <th>4</th>\n",
              "      <td>2</td>\n",
              "      <td>This study aimed to investigate serum matrix ...</td>\n",
              "    </tr>\n",
              "    <tr>\n",
              "      <th>...</th>\n",
              "      <td>...</td>\n",
              "      <td>...</td>\n",
              "    </tr>\n",
              "    <tr>\n",
              "      <th>7565</th>\n",
              "      <td>0</td>\n",
              "      <td>we report the case of a 24yearold man who pres...</td>\n",
              "    </tr>\n",
              "    <tr>\n",
              "      <th>7566</th>\n",
              "      <td>0</td>\n",
              "      <td>among synchronous colorectal cancers scrcs rep...</td>\n",
              "    </tr>\n",
              "    <tr>\n",
              "      <th>7567</th>\n",
              "      <td>0</td>\n",
              "      <td>the heterogeneity of cancer cells is generally...</td>\n",
              "    </tr>\n",
              "    <tr>\n",
              "      <th>7568</th>\n",
              "      <td>0</td>\n",
              "      <td>\"adipogenesis is the process through which mes...</td>\n",
              "    </tr>\n",
              "    <tr>\n",
              "      <th>7569</th>\n",
              "      <td>0</td>\n",
              "      <td>the periparturient period is one of the most c...</td>\n",
              "    </tr>\n",
              "  </tbody>\n",
              "</table>\n",
              "<p>7570 rows × 2 columns</p>\n",
              "</div>\n",
              "      <button class=\"colab-df-convert\" onclick=\"convertToInteractive('df-8db79096-3c81-46d3-bcc5-6e93132ef1bc')\"\n",
              "              title=\"Convert this dataframe to an interactive table.\"\n",
              "              style=\"display:none;\">\n",
              "        \n",
              "  <svg xmlns=\"http://www.w3.org/2000/svg\" height=\"24px\"viewBox=\"0 0 24 24\"\n",
              "       width=\"24px\">\n",
              "    <path d=\"M0 0h24v24H0V0z\" fill=\"none\"/>\n",
              "    <path d=\"M18.56 5.44l.94 2.06.94-2.06 2.06-.94-2.06-.94-.94-2.06-.94 2.06-2.06.94zm-11 1L8.5 8.5l.94-2.06 2.06-.94-2.06-.94L8.5 2.5l-.94 2.06-2.06.94zm10 10l.94 2.06.94-2.06 2.06-.94-2.06-.94-.94-2.06-.94 2.06-2.06.94z\"/><path d=\"M17.41 7.96l-1.37-1.37c-.4-.4-.92-.59-1.43-.59-.52 0-1.04.2-1.43.59L10.3 9.45l-7.72 7.72c-.78.78-.78 2.05 0 2.83L4 21.41c.39.39.9.59 1.41.59.51 0 1.02-.2 1.41-.59l7.78-7.78 2.81-2.81c.8-.78.8-2.07 0-2.86zM5.41 20L4 18.59l7.72-7.72 1.47 1.35L5.41 20z\"/>\n",
              "  </svg>\n",
              "      </button>\n",
              "      \n",
              "  <style>\n",
              "    .colab-df-container {\n",
              "      display:flex;\n",
              "      flex-wrap:wrap;\n",
              "      gap: 12px;\n",
              "    }\n",
              "\n",
              "    .colab-df-convert {\n",
              "      background-color: #E8F0FE;\n",
              "      border: none;\n",
              "      border-radius: 50%;\n",
              "      cursor: pointer;\n",
              "      display: none;\n",
              "      fill: #1967D2;\n",
              "      height: 32px;\n",
              "      padding: 0 0 0 0;\n",
              "      width: 32px;\n",
              "    }\n",
              "\n",
              "    .colab-df-convert:hover {\n",
              "      background-color: #E2EBFA;\n",
              "      box-shadow: 0px 1px 2px rgba(60, 64, 67, 0.3), 0px 1px 3px 1px rgba(60, 64, 67, 0.15);\n",
              "      fill: #174EA6;\n",
              "    }\n",
              "\n",
              "    [theme=dark] .colab-df-convert {\n",
              "      background-color: #3B4455;\n",
              "      fill: #D2E3FC;\n",
              "    }\n",
              "\n",
              "    [theme=dark] .colab-df-convert:hover {\n",
              "      background-color: #434B5C;\n",
              "      box-shadow: 0px 1px 3px 1px rgba(0, 0, 0, 0.15);\n",
              "      filter: drop-shadow(0px 1px 2px rgba(0, 0, 0, 0.3));\n",
              "      fill: #FFFFFF;\n",
              "    }\n",
              "  </style>\n",
              "\n",
              "      <script>\n",
              "        const buttonEl =\n",
              "          document.querySelector('#df-8db79096-3c81-46d3-bcc5-6e93132ef1bc button.colab-df-convert');\n",
              "        buttonEl.style.display =\n",
              "          google.colab.kernel.accessAllowed ? 'block' : 'none';\n",
              "\n",
              "        async function convertToInteractive(key) {\n",
              "          const element = document.querySelector('#df-8db79096-3c81-46d3-bcc5-6e93132ef1bc');\n",
              "          const dataTable =\n",
              "            await google.colab.kernel.invokeFunction('convertToInteractive',\n",
              "                                                     [key], {});\n",
              "          if (!dataTable) return;\n",
              "\n",
              "          const docLinkHtml = 'Like what you see? Visit the ' +\n",
              "            '<a target=\"_blank\" href=https://colab.research.google.com/notebooks/data_table.ipynb>data table notebook</a>'\n",
              "            + ' to learn more about interactive tables.';\n",
              "          element.innerHTML = '';\n",
              "          dataTable['output_type'] = 'display_data';\n",
              "          await google.colab.output.renderOutput(dataTable, element);\n",
              "          const docLink = document.createElement('div');\n",
              "          docLink.innerHTML = docLinkHtml;\n",
              "          element.appendChild(docLink);\n",
              "        }\n",
              "      </script>\n",
              "    </div>\n",
              "  </div>\n",
              "  "
            ]
          },
          "metadata": {},
          "execution_count": 2
        }
      ],
      "source": [
        "def get_raw_data(dir_name):\n",
        "    #  load data\n",
        "    data = pd.read_csv('{}cancer_doc_classification.csv'.format(dir_name), encoding = 'latin-1', usecols=['a', '0'])\n",
        "    data = data.rename(columns={'0': 'label', 'a': 'text'})\n",
        "    le = LabelEncoder()\n",
        "    data['label'] = le.fit_transform( data['label'])\n",
        "    return data\n",
        "\n",
        "raw_data = get_raw_data(dir_name + 'datasets/')\n",
        "raw_data"
      ]
    },
    {
      "cell_type": "code",
      "execution_count": null,
      "metadata": {
        "colab": {
          "base_uri": "https://localhost:8080/"
        },
        "id": "jvrPiHms7t3O",
        "outputId": "f05102f4-51a9-44eb-dbdb-1dcc986495b0"
      },
      "outputs": [
        {
          "output_type": "execute_result",
          "data": {
            "text/plain": [
              "False"
            ]
          },
          "metadata": {},
          "execution_count": 3
        }
      ],
      "source": [
        "raw_data['text'].is_unique"
      ]
    },
    {
      "cell_type": "code",
      "execution_count": null,
      "metadata": {
        "id": "QGX76s7s7vC1",
        "colab": {
          "base_uri": "https://localhost:8080/"
        },
        "outputId": "cc823f14-57e1-41a0-934b-8df21b8c8cae"
      },
      "outputs": [
        {
          "output_type": "execute_result",
          "data": {
            "text/plain": [
              "True"
            ]
          },
          "metadata": {},
          "execution_count": 4
        }
      ],
      "source": [
        "raw_data.drop_duplicates( inplace=True)\n",
        "\n",
        "raw_data['text'].is_unique"
      ]
    },
    {
      "cell_type": "code",
      "execution_count": null,
      "metadata": {
        "colab": {
          "base_uri": "https://localhost:8080/",
          "height": 424
        },
        "id": "kAvJMWIH8BfT",
        "outputId": "e33f1c88-d6d3-4014-bb5b-3f267c730124"
      },
      "outputs": [
        {
          "output_type": "execute_result",
          "data": {
            "text/plain": [
              "      label                                               text\n",
              "0         2  Thyroid surgery in  children in a single insti...\n",
              "1         2  \" The adopted strategy was the same as that us...\n",
              "2         2  coronary arterybypass grafting thrombosis ï¬b...\n",
              "3         2   Solitary plasmacytoma SP of the skull is an u...\n",
              "4         2   This study aimed to investigate serum matrix ...\n",
              "...     ...                                                ...\n",
              "6863      1  \"Missense mutation distribution in the exons a...\n",
              "6929      1  \"versus gemcitabine/carboplatin in advanced no...\n",
              "7040      2   Keloids are pathological scars that grow over...\n",
              "7485      0  the anization of cells into multiple membranou...\n",
              "7497      0  several immunotherapeutic strategies that harn...\n",
              "\n",
              "[996 rows x 2 columns]"
            ],
            "text/html": [
              "\n",
              "  <div id=\"df-8f633109-3678-4c07-9a5d-0b010c3546c2\">\n",
              "    <div class=\"colab-df-container\">\n",
              "      <div>\n",
              "<style scoped>\n",
              "    .dataframe tbody tr th:only-of-type {\n",
              "        vertical-align: middle;\n",
              "    }\n",
              "\n",
              "    .dataframe tbody tr th {\n",
              "        vertical-align: top;\n",
              "    }\n",
              "\n",
              "    .dataframe thead th {\n",
              "        text-align: right;\n",
              "    }\n",
              "</style>\n",
              "<table border=\"1\" class=\"dataframe\">\n",
              "  <thead>\n",
              "    <tr style=\"text-align: right;\">\n",
              "      <th></th>\n",
              "      <th>label</th>\n",
              "      <th>text</th>\n",
              "    </tr>\n",
              "  </thead>\n",
              "  <tbody>\n",
              "    <tr>\n",
              "      <th>0</th>\n",
              "      <td>2</td>\n",
              "      <td>Thyroid surgery in  children in a single insti...</td>\n",
              "    </tr>\n",
              "    <tr>\n",
              "      <th>1</th>\n",
              "      <td>2</td>\n",
              "      <td>\" The adopted strategy was the same as that us...</td>\n",
              "    </tr>\n",
              "    <tr>\n",
              "      <th>2</th>\n",
              "      <td>2</td>\n",
              "      <td>coronary arterybypass grafting thrombosis ï¬b...</td>\n",
              "    </tr>\n",
              "    <tr>\n",
              "      <th>3</th>\n",
              "      <td>2</td>\n",
              "      <td>Solitary plasmacytoma SP of the skull is an u...</td>\n",
              "    </tr>\n",
              "    <tr>\n",
              "      <th>4</th>\n",
              "      <td>2</td>\n",
              "      <td>This study aimed to investigate serum matrix ...</td>\n",
              "    </tr>\n",
              "    <tr>\n",
              "      <th>...</th>\n",
              "      <td>...</td>\n",
              "      <td>...</td>\n",
              "    </tr>\n",
              "    <tr>\n",
              "      <th>6863</th>\n",
              "      <td>1</td>\n",
              "      <td>\"Missense mutation distribution in the exons a...</td>\n",
              "    </tr>\n",
              "    <tr>\n",
              "      <th>6929</th>\n",
              "      <td>1</td>\n",
              "      <td>\"versus gemcitabine/carboplatin in advanced no...</td>\n",
              "    </tr>\n",
              "    <tr>\n",
              "      <th>7040</th>\n",
              "      <td>2</td>\n",
              "      <td>Keloids are pathological scars that grow over...</td>\n",
              "    </tr>\n",
              "    <tr>\n",
              "      <th>7485</th>\n",
              "      <td>0</td>\n",
              "      <td>the anization of cells into multiple membranou...</td>\n",
              "    </tr>\n",
              "    <tr>\n",
              "      <th>7497</th>\n",
              "      <td>0</td>\n",
              "      <td>several immunotherapeutic strategies that harn...</td>\n",
              "    </tr>\n",
              "  </tbody>\n",
              "</table>\n",
              "<p>996 rows × 2 columns</p>\n",
              "</div>\n",
              "      <button class=\"colab-df-convert\" onclick=\"convertToInteractive('df-8f633109-3678-4c07-9a5d-0b010c3546c2')\"\n",
              "              title=\"Convert this dataframe to an interactive table.\"\n",
              "              style=\"display:none;\">\n",
              "        \n",
              "  <svg xmlns=\"http://www.w3.org/2000/svg\" height=\"24px\"viewBox=\"0 0 24 24\"\n",
              "       width=\"24px\">\n",
              "    <path d=\"M0 0h24v24H0V0z\" fill=\"none\"/>\n",
              "    <path d=\"M18.56 5.44l.94 2.06.94-2.06 2.06-.94-2.06-.94-.94-2.06-.94 2.06-2.06.94zm-11 1L8.5 8.5l.94-2.06 2.06-.94-2.06-.94L8.5 2.5l-.94 2.06-2.06.94zm10 10l.94 2.06.94-2.06 2.06-.94-2.06-.94-.94-2.06-.94 2.06-2.06.94z\"/><path d=\"M17.41 7.96l-1.37-1.37c-.4-.4-.92-.59-1.43-.59-.52 0-1.04.2-1.43.59L10.3 9.45l-7.72 7.72c-.78.78-.78 2.05 0 2.83L4 21.41c.39.39.9.59 1.41.59.51 0 1.02-.2 1.41-.59l7.78-7.78 2.81-2.81c.8-.78.8-2.07 0-2.86zM5.41 20L4 18.59l7.72-7.72 1.47 1.35L5.41 20z\"/>\n",
              "  </svg>\n",
              "      </button>\n",
              "      \n",
              "  <style>\n",
              "    .colab-df-container {\n",
              "      display:flex;\n",
              "      flex-wrap:wrap;\n",
              "      gap: 12px;\n",
              "    }\n",
              "\n",
              "    .colab-df-convert {\n",
              "      background-color: #E8F0FE;\n",
              "      border: none;\n",
              "      border-radius: 50%;\n",
              "      cursor: pointer;\n",
              "      display: none;\n",
              "      fill: #1967D2;\n",
              "      height: 32px;\n",
              "      padding: 0 0 0 0;\n",
              "      width: 32px;\n",
              "    }\n",
              "\n",
              "    .colab-df-convert:hover {\n",
              "      background-color: #E2EBFA;\n",
              "      box-shadow: 0px 1px 2px rgba(60, 64, 67, 0.3), 0px 1px 3px 1px rgba(60, 64, 67, 0.15);\n",
              "      fill: #174EA6;\n",
              "    }\n",
              "\n",
              "    [theme=dark] .colab-df-convert {\n",
              "      background-color: #3B4455;\n",
              "      fill: #D2E3FC;\n",
              "    }\n",
              "\n",
              "    [theme=dark] .colab-df-convert:hover {\n",
              "      background-color: #434B5C;\n",
              "      box-shadow: 0px 1px 3px 1px rgba(0, 0, 0, 0.15);\n",
              "      filter: drop-shadow(0px 1px 2px rgba(0, 0, 0, 0.3));\n",
              "      fill: #FFFFFF;\n",
              "    }\n",
              "  </style>\n",
              "\n",
              "      <script>\n",
              "        const buttonEl =\n",
              "          document.querySelector('#df-8f633109-3678-4c07-9a5d-0b010c3546c2 button.colab-df-convert');\n",
              "        buttonEl.style.display =\n",
              "          google.colab.kernel.accessAllowed ? 'block' : 'none';\n",
              "\n",
              "        async function convertToInteractive(key) {\n",
              "          const element = document.querySelector('#df-8f633109-3678-4c07-9a5d-0b010c3546c2');\n",
              "          const dataTable =\n",
              "            await google.colab.kernel.invokeFunction('convertToInteractive',\n",
              "                                                     [key], {});\n",
              "          if (!dataTable) return;\n",
              "\n",
              "          const docLinkHtml = 'Like what you see? Visit the ' +\n",
              "            '<a target=\"_blank\" href=https://colab.research.google.com/notebooks/data_table.ipynb>data table notebook</a>'\n",
              "            + ' to learn more about interactive tables.';\n",
              "          element.innerHTML = '';\n",
              "          dataTable['output_type'] = 'display_data';\n",
              "          await google.colab.output.renderOutput(dataTable, element);\n",
              "          const docLink = document.createElement('div');\n",
              "          docLink.innerHTML = docLinkHtml;\n",
              "          element.appendChild(docLink);\n",
              "        }\n",
              "      </script>\n",
              "    </div>\n",
              "  </div>\n",
              "  "
            ]
          },
          "metadata": {},
          "execution_count": 5
        }
      ],
      "source": [
        "raw_data"
      ]
    },
    {
      "cell_type": "code",
      "execution_count": null,
      "metadata": {
        "id": "puuFMH0H8Li_",
        "colab": {
          "base_uri": "https://localhost:8080/",
          "height": 499
        },
        "outputId": "f0d073cb-03ff-4146-d589-c88a1ac1b180"
      },
      "outputs": [
        {
          "output_type": "display_data",
          "data": {
            "text/plain": [
              "<Figure size 600x600 with 1 Axes>"
            ],
            "image/png": "[encoded data removed]"
          },
          "metadata": {}
        }
      ],
      "source": [
        "def get_dataset_statistics(data):\n",
        "    dataset_statistics = {'Number of messages': [data['label'].value_counts()[0], data['label'].value_counts()[1], data['label'].value_counts()[2]]}\n",
        "    df = pd.DataFrame(dataset_statistics, index=['0', '1', '2'])\n",
        "    df.plot(kind='pie', y='Number of messages', figsize=(6, 6), fontsize=14,\n",
        "            autopct=lambda v: '{:.0f} ({:.1f}%)'.format(v / 100 * data['label'].count(), v))\n",
        "    \n",
        "get_dataset_statistics(raw_data)    "
      ]
    },
    {
      "cell_type": "code",
      "execution_count": null,
      "metadata": {
        "id": "9a7oMalo8eW7"
      },
      "outputs": [],
      "source": [
        "X_train, X_test, y_train, y_test = train_test_split(raw_data['text'].to_numpy(), raw_data['label'].to_numpy(), stratify=raw_data['label'].to_numpy(), test_size=0.2, random_state=24)"
      ]
    },
    {
      "cell_type": "code",
      "execution_count": null,
      "metadata": {
        "colab": {
          "base_uri": "https://localhost:8080/",
          "height": 499
        },
        "id": "4Qah2hem-rzC",
        "outputId": "30a92771-f017-41b0-c9e2-e055e66ea7ea"
      },
      "outputs": [
        {
          "output_type": "display_data",
          "data": {
            "text/plain": [
              "<Figure size 600x600 with 1 Axes>"
            ],
            "image/png": "[encoded data removed]"
          },
          "metadata": {}
        }
      ],
      "source": [
        "get_dataset_statistics(pd.DataFrame({'label': y_train}))"
      ]
    },
    {
      "cell_type": "code",
      "execution_count": null,
      "metadata": {
        "colab": {
          "base_uri": "https://localhost:8080/",
          "height": 499
        },
        "id": "tBCiPYyy-0YC",
        "outputId": "189bc1ad-89ae-4d93-f0ef-2bd16be6e0ac"
      },
      "outputs": [
        {
          "output_type": "display_data",
          "data": {
            "text/plain": [
              "<Figure size 600x600 with 1 Axes>"
            ],
            "image/png": "[encoded data removed]"
          },
          "metadata": {}
        }
      ],
      "source": [
        "get_dataset_statistics(pd.DataFrame({'label': y_test}))"
      ]
    },
    {
      "cell_type": "code",
      "execution_count": null,
      "metadata": {
        "id": "cVetnUhn-6K9",
        "colab": {
          "base_uri": "https://localhost:8080/",
          "height": 424
        },
        "outputId": "fc1fdb90-7733-43f9-8285-0373a6039ad4"
      },
      "outputs": [
        {
          "output_type": "execute_result",
          "data": {
            "text/plain": [
              "                                                  text  label\n",
              "0    in  a novel coronavirus sarscov2 was found to ...      0\n",
              "1    \"  the incidence of thyroid carcinoma is incre...      0\n",
              "2    Sequential Use of aYeastCEA Therapeutic Cancer...      2\n",
              "3    Paired box protein8 PAX8 immunohistochemical e...      2\n",
              "4     Is preoperative heart rate variability aprogn...      2\n",
              "..                                                 ...    ...\n",
              "791  \"widely usedcancerspecific questionnaire asses...      2\n",
              "792  \"Thus mathematical models that can estimate lo...      1\n",
              "793  \"Trophoblast cell surface antigen  TROP2 is ov...      2\n",
              "794  overexpression of epithelial cell adhesion mol...      0\n",
              "795  \"Statistical analysis We used Chi-square test ...      1\n",
              "\n",
              "[796 rows x 2 columns]"
            ],
            "text/html": [
              "\n",
              "  <div id=\"df-46dc803f-b578-413f-ae5a-9e21f8d50095\">\n",
              "    <div class=\"colab-df-container\">\n",
              "      <div>\n",
              "<style scoped>\n",
              "    .dataframe tbody tr th:only-of-type {\n",
              "        vertical-align: middle;\n",
              "    }\n",
              "\n",
              "    .dataframe tbody tr th {\n",
              "        vertical-align: top;\n",
              "    }\n",
              "\n",
              "    .dataframe thead th {\n",
              "        text-align: right;\n",
              "    }\n",
              "</style>\n",
              "<table border=\"1\" class=\"dataframe\">\n",
              "  <thead>\n",
              "    <tr style=\"text-align: right;\">\n",
              "      <th></th>\n",
              "      <th>text</th>\n",
              "      <th>label</th>\n",
              "    </tr>\n",
              "  </thead>\n",
              "  <tbody>\n",
              "    <tr>\n",
              "      <th>0</th>\n",
              "      <td>in  a novel coronavirus sarscov2 was found to ...</td>\n",
              "      <td>0</td>\n",
              "    </tr>\n",
              "    <tr>\n",
              "      <th>1</th>\n",
              "      <td>\"  the incidence of thyroid carcinoma is incre...</td>\n",
              "      <td>0</td>\n",
              "    </tr>\n",
              "    <tr>\n",
              "      <th>2</th>\n",
              "      <td>Sequential Use of aYeastCEA Therapeutic Cancer...</td>\n",
              "      <td>2</td>\n",
              "    </tr>\n",
              "    <tr>\n",
              "      <th>3</th>\n",
              "      <td>Paired box protein8 PAX8 immunohistochemical e...</td>\n",
              "      <td>2</td>\n",
              "    </tr>\n",
              "    <tr>\n",
              "      <th>4</th>\n",
              "      <td>Is preoperative heart rate variability aprogn...</td>\n",
              "      <td>2</td>\n",
              "    </tr>\n",
              "    <tr>\n",
              "      <th>...</th>\n",
              "      <td>...</td>\n",
              "      <td>...</td>\n",
              "    </tr>\n",
              "    <tr>\n",
              "      <th>791</th>\n",
              "      <td>\"widely usedcancerspecific questionnaire asses...</td>\n",
              "      <td>2</td>\n",
              "    </tr>\n",
              "    <tr>\n",
              "      <th>792</th>\n",
              "      <td>\"Thus mathematical models that can estimate lo...</td>\n",
              "      <td>1</td>\n",
              "    </tr>\n",
              "    <tr>\n",
              "      <th>793</th>\n",
              "      <td>\"Trophoblast cell surface antigen  TROP2 is ov...</td>\n",
              "      <td>2</td>\n",
              "    </tr>\n",
              "    <tr>\n",
              "      <th>794</th>\n",
              "      <td>overexpression of epithelial cell adhesion mol...</td>\n",
              "      <td>0</td>\n",
              "    </tr>\n",
              "    <tr>\n",
              "      <th>795</th>\n",
              "      <td>\"Statistical analysis We used Chi-square test ...</td>\n",
              "      <td>1</td>\n",
              "    </tr>\n",
              "  </tbody>\n",
              "</table>\n",
              "<p>796 rows × 2 columns</p>\n",
              "</div>\n",
              "      <button class=\"colab-df-convert\" onclick=\"convertToInteractive('df-46dc803f-b578-413f-ae5a-9e21f8d50095')\"\n",
              "              title=\"Convert this dataframe to an interactive table.\"\n",
              "              style=\"display:none;\">\n",
              "        \n",
              "  <svg xmlns=\"http://www.w3.org/2000/svg\" height=\"24px\"viewBox=\"0 0 24 24\"\n",
              "       width=\"24px\">\n",
              "    <path d=\"M0 0h24v24H0V0z\" fill=\"none\"/>\n",
              "    <path d=\"M18.56 5.44l.94 2.06.94-2.06 2.06-.94-2.06-.94-.94-2.06-.94 2.06-2.06.94zm-11 1L8.5 8.5l.94-2.06 2.06-.94-2.06-.94L8.5 2.5l-.94 2.06-2.06.94zm10 10l.94 2.06.94-2.06 2.06-.94-2.06-.94-.94-2.06-.94 2.06-2.06.94z\"/><path d=\"M17.41 7.96l-1.37-1.37c-.4-.4-.92-.59-1.43-.59-.52 0-1.04.2-1.43.59L10.3 9.45l-7.72 7.72c-.78.78-.78 2.05 0 2.83L4 21.41c.39.39.9.59 1.41.59.51 0 1.02-.2 1.41-.59l7.78-7.78 2.81-2.81c.8-.78.8-2.07 0-2.86zM5.41 20L4 18.59l7.72-7.72 1.47 1.35L5.41 20z\"/>\n",
              "  </svg>\n",
              "      </button>\n",
              "      \n",
              "  <style>\n",
              "    .colab-df-container {\n",
              "      display:flex;\n",
              "      flex-wrap:wrap;\n",
              "      gap: 12px;\n",
              "    }\n",
              "\n",
              "    .colab-df-convert {\n",
              "      background-color: #E8F0FE;\n",
              "      border: none;\n",
              "      border-radius: 50%;\n",
              "      cursor: pointer;\n",
              "      display: none;\n",
              "      fill: #1967D2;\n",
              "      height: 32px;\n",
              "      padding: 0 0 0 0;\n",
              "      width: 32px;\n",
              "    }\n",
              "\n",
              "    .colab-df-convert:hover {\n",
              "      background-color: #E2EBFA;\n",
              "      box-shadow: 0px 1px 2px rgba(60, 64, 67, 0.3), 0px 1px 3px 1px rgba(60, 64, 67, 0.15);\n",
              "      fill: #174EA6;\n",
              "    }\n",
              "\n",
              "    [theme=dark] .colab-df-convert {\n",
              "      background-color: #3B4455;\n",
              "      fill: #D2E3FC;\n",
              "    }\n",
              "\n",
              "    [theme=dark] .colab-df-convert:hover {\n",
              "      background-color: #434B5C;\n",
              "      box-shadow: 0px 1px 3px 1px rgba(0, 0, 0, 0.15);\n",
              "      filter: drop-shadow(0px 1px 2px rgba(0, 0, 0, 0.3));\n",
              "      fill: #FFFFFF;\n",
              "    }\n",
              "  </style>\n",
              "\n",
              "      <script>\n",
              "        const buttonEl =\n",
              "          document.querySelector('#df-46dc803f-b578-413f-ae5a-9e21f8d50095 button.colab-df-convert');\n",
              "        buttonEl.style.display =\n",
              "          google.colab.kernel.accessAllowed ? 'block' : 'none';\n",
              "\n",
              "        async function convertToInteractive(key) {\n",
              "          const element = document.querySelector('#df-46dc803f-b578-413f-ae5a-9e21f8d50095');\n",
              "          const dataTable =\n",
              "            await google.colab.kernel.invokeFunction('convertToInteractive',\n",
              "                                                     [key], {});\n",
              "          if (!dataTable) return;\n",
              "\n",
              "          const docLinkHtml = 'Like what you see? Visit the ' +\n",
              "            '<a target=\"_blank\" href=https://colab.research.google.com/notebooks/data_table.ipynb>data table notebook</a>'\n",
              "            + ' to learn more about interactive tables.';\n",
              "          element.innerHTML = '';\n",
              "          dataTable['output_type'] = 'display_data';\n",
              "          await google.colab.output.renderOutput(dataTable, element);\n",
              "          const docLink = document.createElement('div');\n",
              "          docLink.innerHTML = docLinkHtml;\n",
              "          element.appendChild(docLink);\n",
              "        }\n",
              "      </script>\n",
              "    </div>\n",
              "  </div>\n",
              "  "
            ]
          },
          "metadata": {},
          "execution_count": 9
        }
      ],
      "source": [
        "train_data = pd.DataFrame({'text': X_train, 'label': y_train})\n",
        "\n",
        "train_data"
      ]
    },
    {
      "cell_type": "code",
      "execution_count": null,
      "metadata": {
        "id": "ppXduhD3Okz8",
        "colab": {
          "base_uri": "https://localhost:8080/",
          "height": 424
        },
        "outputId": "3e35d85e-fda1-4735-991f-b6aa254722e6"
      },
      "outputs": [
        {
          "output_type": "execute_result",
          "data": {
            "text/plain": [
              "                                                  text  label\n",
              "0    \"A decrease of 50% or more from baseline urina...      1\n",
              "1    \"The remaining 24 (25.3%) were not differentia...      1\n",
              "2    \"Results Exceptional response to an IGF-1R inh...      1\n",
              "3    \"detection and quantification of cancer DNA mo...      1\n",
              "4    \"1.3±0.4 cm (range: 0.7-2.0 cm) for Group A an...      1\n",
              "..                                                 ...    ...\n",
              "195  \"  heat shock transcription factor1 hsf1 was o...      0\n",
              "196  \"fundamental  influences  of  sex  and  gender...      2\n",
              "197  Activation by NaturalPhytochemicals An Overvie...      2\n",
              "198  \"Effects of lowdose computed tomography LDCT s...      2\n",
              "199  \"The probands father (II-5) and sister (III-5...      1\n",
              "\n",
              "[200 rows x 2 columns]"
            ],
            "text/html": [
              "\n",
              "  <div id=\"df-858f26ba-f690-4031-a4a0-3fcc5865a65c\">\n",
              "    <div class=\"colab-df-container\">\n",
              "      <div>\n",
              "<style scoped>\n",
              "    .dataframe tbody tr th:only-of-type {\n",
              "        vertical-align: middle;\n",
              "    }\n",
              "\n",
              "    .dataframe tbody tr th {\n",
              "        vertical-align: top;\n",
              "    }\n",
              "\n",
              "    .dataframe thead th {\n",
              "        text-align: right;\n",
              "    }\n",
              "</style>\n",
              "<table border=\"1\" class=\"dataframe\">\n",
              "  <thead>\n",
              "    <tr style=\"text-align: right;\">\n",
              "      <th></th>\n",
              "      <th>text</th>\n",
              "      <th>label</th>\n",
              "    </tr>\n",
              "  </thead>\n",
              "  <tbody>\n",
              "    <tr>\n",
              "      <th>0</th>\n",
              "      <td>\"A decrease of 50% or more from baseline urina...</td>\n",
              "      <td>1</td>\n",
              "    </tr>\n",
              "    <tr>\n",
              "      <th>1</th>\n",
              "      <td>\"The remaining 24 (25.3%) were not differentia...</td>\n",
              "      <td>1</td>\n",
              "    </tr>\n",
              "    <tr>\n",
              "      <th>2</th>\n",
              "      <td>\"Results Exceptional response to an IGF-1R inh...</td>\n",
              "      <td>1</td>\n",
              "    </tr>\n",
              "    <tr>\n",
              "      <th>3</th>\n",
              "      <td>\"detection and quantification of cancer DNA mo...</td>\n",
              "      <td>1</td>\n",
              "    </tr>\n",
              "    <tr>\n",
              "      <th>4</th>\n",
              "      <td>\"1.3±0.4 cm (range: 0.7-2.0 cm) for Group A an...</td>\n",
              "      <td>1</td>\n",
              "    </tr>\n",
              "    <tr>\n",
              "      <th>...</th>\n",
              "      <td>...</td>\n",
              "      <td>...</td>\n",
              "    </tr>\n",
              "    <tr>\n",
              "      <th>195</th>\n",
              "      <td>\"  heat shock transcription factor1 hsf1 was o...</td>\n",
              "      <td>0</td>\n",
              "    </tr>\n",
              "    <tr>\n",
              "      <th>196</th>\n",
              "      <td>\"fundamental  influences  of  sex  and  gender...</td>\n",
              "      <td>2</td>\n",
              "    </tr>\n",
              "    <tr>\n",
              "      <th>197</th>\n",
              "      <td>Activation by NaturalPhytochemicals An Overvie...</td>\n",
              "      <td>2</td>\n",
              "    </tr>\n",
              "    <tr>\n",
              "      <th>198</th>\n",
              "      <td>\"Effects of lowdose computed tomography LDCT s...</td>\n",
              "      <td>2</td>\n",
              "    </tr>\n",
              "    <tr>\n",
              "      <th>199</th>\n",
              "      <td>\"The probands father (II-5) and sister (III-5...</td>\n",
              "      <td>1</td>\n",
              "    </tr>\n",
              "  </tbody>\n",
              "</table>\n",
              "<p>200 rows × 2 columns</p>\n",
              "</div>\n",
              "      <button class=\"colab-df-convert\" onclick=\"convertToInteractive('df-858f26ba-f690-4031-a4a0-3fcc5865a65c')\"\n",
              "              title=\"Convert this dataframe to an interactive table.\"\n",
              "              style=\"display:none;\">\n",
              "        \n",
              "  <svg xmlns=\"http://www.w3.org/2000/svg\" height=\"24px\"viewBox=\"0 0 24 24\"\n",
              "       width=\"24px\">\n",
              "    <path d=\"M0 0h24v24H0V0z\" fill=\"none\"/>\n",
              "    <path d=\"M18.56 5.44l.94 2.06.94-2.06 2.06-.94-2.06-.94-.94-2.06-.94 2.06-2.06.94zm-11 1L8.5 8.5l.94-2.06 2.06-.94-2.06-.94L8.5 2.5l-.94 2.06-2.06.94zm10 10l.94 2.06.94-2.06 2.06-.94-2.06-.94-.94-2.06-.94 2.06-2.06.94z\"/><path d=\"M17.41 7.96l-1.37-1.37c-.4-.4-.92-.59-1.43-.59-.52 0-1.04.2-1.43.59L10.3 9.45l-7.72 7.72c-.78.78-.78 2.05 0 2.83L4 21.41c.39.39.9.59 1.41.59.51 0 1.02-.2 1.41-.59l7.78-7.78 2.81-2.81c.8-.78.8-2.07 0-2.86zM5.41 20L4 18.59l7.72-7.72 1.47 1.35L5.41 20z\"/>\n",
              "  </svg>\n",
              "      </button>\n",
              "      \n",
              "  <style>\n",
              "    .colab-df-container {\n",
              "      display:flex;\n",
              "      flex-wrap:wrap;\n",
              "      gap: 12px;\n",
              "    }\n",
              "\n",
              "    .colab-df-convert {\n",
              "      background-color: #E8F0FE;\n",
              "      border: none;\n",
              "      border-radius: 50%;\n",
              "      cursor: pointer;\n",
              "      display: none;\n",
              "      fill: #1967D2;\n",
              "      height: 32px;\n",
              "      padding: 0 0 0 0;\n",
              "      width: 32px;\n",
              "    }\n",
              "\n",
              "    .colab-df-convert:hover {\n",
              "      background-color: #E2EBFA;\n",
              "      box-shadow: 0px 1px 2px rgba(60, 64, 67, 0.3), 0px 1px 3px 1px rgba(60, 64, 67, 0.15);\n",
              "      fill: #174EA6;\n",
              "    }\n",
              "\n",
              "    [theme=dark] .colab-df-convert {\n",
              "      background-color: #3B4455;\n",
              "      fill: #D2E3FC;\n",
              "    }\n",
              "\n",
              "    [theme=dark] .colab-df-convert:hover {\n",
              "      background-color: #434B5C;\n",
              "      box-shadow: 0px 1px 3px 1px rgba(0, 0, 0, 0.15);\n",
              "      filter: drop-shadow(0px 1px 2px rgba(0, 0, 0, 0.3));\n",
              "      fill: #FFFFFF;\n",
              "    }\n",
              "  </style>\n",
              "\n",
              "      <script>\n",
              "        const buttonEl =\n",
              "          document.querySelector('#df-858f26ba-f690-4031-a4a0-3fcc5865a65c button.colab-df-convert');\n",
              "        buttonEl.style.display =\n",
              "          google.colab.kernel.accessAllowed ? 'block' : 'none';\n",
              "\n",
              "        async function convertToInteractive(key) {\n",
              "          const element = document.querySelector('#df-858f26ba-f690-4031-a4a0-3fcc5865a65c');\n",
              "          const dataTable =\n",
              "            await google.colab.kernel.invokeFunction('convertToInteractive',\n",
              "                                                     [key], {});\n",
              "          if (!dataTable) return;\n",
              "\n",
              "          const docLinkHtml = 'Like what you see? Visit the ' +\n",
              "            '<a target=\"_blank\" href=https://colab.research.google.com/notebooks/data_table.ipynb>data table notebook</a>'\n",
              "            + ' to learn more about interactive tables.';\n",
              "          element.innerHTML = '';\n",
              "          dataTable['output_type'] = 'display_data';\n",
              "          await google.colab.output.renderOutput(dataTable, element);\n",
              "          const docLink = document.createElement('div');\n",
              "          docLink.innerHTML = docLinkHtml;\n",
              "          element.appendChild(docLink);\n",
              "        }\n",
              "      </script>\n",
              "    </div>\n",
              "  </div>\n",
              "  "
            ]
          },
          "metadata": {},
          "execution_count": 10
        }
      ],
      "source": [
        "test_data = pd.DataFrame({'text': X_test, 'label': y_test})\n",
        "\n",
        "test_data"
      ]
    },
    {
      "cell_type": "markdown",
      "metadata": {
        "id": "OiEsQgky_HtA"
      },
      "source": [
        "# Text Preprocessing "
      ]
    },
    {
      "cell_type": "code",
      "execution_count": null,
      "metadata": {
        "id": "gBlxYHn9_C_e"
      },
      "outputs": [],
      "source": [
        "import requests\n",
        "stopwords_list = requests.get(\"https://github.com/stopwords-iso/stopwords-en/blob/master/stopwords-en.txt\").content\n",
        "stopwords = set(stopwords_list.decode().splitlines())"
      ]
    },
    {
      "cell_type": "code",
      "execution_count": null,
      "metadata": {
        "id": "trlE3rdD_Lr7"
      },
      "outputs": [],
      "source": [
        "import string\n",
        "from nltk.corpus import stopwords\n",
        "from sklearn.feature_extraction.text import ENGLISH_STOP_WORDS\n",
        "sklearn_stopwords = ENGLISH_STOP_WORDS\n",
        "\n",
        "stop_words = set(stopwords.words('english'))\n",
        "stop_words.update(sklearn_stopwords)\n",
        "\n",
        "def text_preprocessing(raw_text):\n",
        "  text_words = raw_text.translate(str.maketrans('', '', string.punctuation))\n",
        "  msg_tokens = word_tokenize(text_words.lower())\n",
        "  filtered_text = [token for token in msg_tokens if not token in stop_words]\n",
        "  return \" \".join(filtered_text)"
      ]
    },
    {
      "cell_type": "code",
      "execution_count": null,
      "metadata": {
        "colab": {
          "base_uri": "https://localhost:8080/",
          "height": 424
        },
        "id": "bnTrzKDQALIB",
        "outputId": "e18dd437-4681-4858-8ad9-ad973dbd898b"
      },
      "outputs": [
        {
          "output_type": "execute_result",
          "data": {
            "text/plain": [
              "                                                  text  label\n",
              "0    novel coronavirus sarscov2 cause highly contag...      0\n",
              "1    incidence thyroid carcinoma increasing world s...      0\n",
              "2    sequential use ayeastcea therapeutic cancervac...      2\n",
              "3    paired box protein8 pax8 immunohistochemical e...      2\n",
              "4    preoperative heart rate variability aprognosti...      2\n",
              "..                                                 ...    ...\n",
              "791  widely usedcancerspecific questionnaire assess...      2\n",
              "792  mathematical models estimate longterm costeffe...      1\n",
              "793  trophoblast cell surface antigen trop2 overexp...      2\n",
              "794  overexpression epithelial cell adhesion molecu...      0\n",
              "795  statistical analysis used chisquare test exami...      1\n",
              "\n",
              "[796 rows x 2 columns]"
            ],
            "text/html": [
              "\n",
              "  <div id=\"df-617a204f-7865-4d20-8728-406eecd8375c\">\n",
              "    <div class=\"colab-df-container\">\n",
              "      <div>\n",
              "<style scoped>\n",
              "    .dataframe tbody tr th:only-of-type {\n",
              "        vertical-align: middle;\n",
              "    }\n",
              "\n",
              "    .dataframe tbody tr th {\n",
              "        vertical-align: top;\n",
              "    }\n",
              "\n",
              "    .dataframe thead th {\n",
              "        text-align: right;\n",
              "    }\n",
              "</style>\n",
              "<table border=\"1\" class=\"dataframe\">\n",
              "  <thead>\n",
              "    <tr style=\"text-align: right;\">\n",
              "      <th></th>\n",
              "      <th>text</th>\n",
              "      <th>label</th>\n",
              "    </tr>\n",
              "  </thead>\n",
              "  <tbody>\n",
              "    <tr>\n",
              "      <th>0</th>\n",
              "      <td>novel coronavirus sarscov2 cause highly contag...</td>\n",
              "      <td>0</td>\n",
              "    </tr>\n",
              "    <tr>\n",
              "      <th>1</th>\n",
              "      <td>incidence thyroid carcinoma increasing world s...</td>\n",
              "      <td>0</td>\n",
              "    </tr>\n",
              "    <tr>\n",
              "      <th>2</th>\n",
              "      <td>sequential use ayeastcea therapeutic cancervac...</td>\n",
              "      <td>2</td>\n",
              "    </tr>\n",
              "    <tr>\n",
              "      <th>3</th>\n",
              "      <td>paired box protein8 pax8 immunohistochemical e...</td>\n",
              "      <td>2</td>\n",
              "    </tr>\n",
              "    <tr>\n",
              "      <th>4</th>\n",
              "      <td>preoperative heart rate variability aprognosti...</td>\n",
              "      <td>2</td>\n",
              "    </tr>\n",
              "    <tr>\n",
              "      <th>...</th>\n",
              "      <td>...</td>\n",
              "      <td>...</td>\n",
              "    </tr>\n",
              "    <tr>\n",
              "      <th>791</th>\n",
              "      <td>widely usedcancerspecific questionnaire assess...</td>\n",
              "      <td>2</td>\n",
              "    </tr>\n",
              "    <tr>\n",
              "      <th>792</th>\n",
              "      <td>mathematical models estimate longterm costeffe...</td>\n",
              "      <td>1</td>\n",
              "    </tr>\n",
              "    <tr>\n",
              "      <th>793</th>\n",
              "      <td>trophoblast cell surface antigen trop2 overexp...</td>\n",
              "      <td>2</td>\n",
              "    </tr>\n",
              "    <tr>\n",
              "      <th>794</th>\n",
              "      <td>overexpression epithelial cell adhesion molecu...</td>\n",
              "      <td>0</td>\n",
              "    </tr>\n",
              "    <tr>\n",
              "      <th>795</th>\n",
              "      <td>statistical analysis used chisquare test exami...</td>\n",
              "      <td>1</td>\n",
              "    </tr>\n",
              "  </tbody>\n",
              "</table>\n",
              "<p>796 rows × 2 columns</p>\n",
              "</div>\n",
              "      <button class=\"colab-df-convert\" onclick=\"convertToInteractive('df-617a204f-7865-4d20-8728-406eecd8375c')\"\n",
              "              title=\"Convert this dataframe to an interactive table.\"\n",
              "              style=\"display:none;\">\n",
              "        \n",
              "  <svg xmlns=\"http://www.w3.org/2000/svg\" height=\"24px\"viewBox=\"0 0 24 24\"\n",
              "       width=\"24px\">\n",
              "    <path d=\"M0 0h24v24H0V0z\" fill=\"none\"/>\n",
              "    <path d=\"M18.56 5.44l.94 2.06.94-2.06 2.06-.94-2.06-.94-.94-2.06-.94 2.06-2.06.94zm-11 1L8.5 8.5l.94-2.06 2.06-.94-2.06-.94L8.5 2.5l-.94 2.06-2.06.94zm10 10l.94 2.06.94-2.06 2.06-.94-2.06-.94-.94-2.06-.94 2.06-2.06.94z\"/><path d=\"M17.41 7.96l-1.37-1.37c-.4-.4-.92-.59-1.43-.59-.52 0-1.04.2-1.43.59L10.3 9.45l-7.72 7.72c-.78.78-.78 2.05 0 2.83L4 21.41c.39.39.9.59 1.41.59.51 0 1.02-.2 1.41-.59l7.78-7.78 2.81-2.81c.8-.78.8-2.07 0-2.86zM5.41 20L4 18.59l7.72-7.72 1.47 1.35L5.41 20z\"/>\n",
              "  </svg>\n",
              "      </button>\n",
              "      \n",
              "  <style>\n",
              "    .colab-df-container {\n",
              "      display:flex;\n",
              "      flex-wrap:wrap;\n",
              "      gap: 12px;\n",
              "    }\n",
              "\n",
              "    .colab-df-convert {\n",
              "      background-color: #E8F0FE;\n",
              "      border: none;\n",
              "      border-radius: 50%;\n",
              "      cursor: pointer;\n",
              "      display: none;\n",
              "      fill: #1967D2;\n",
              "      height: 32px;\n",
              "      padding: 0 0 0 0;\n",
              "      width: 32px;\n",
              "    }\n",
              "\n",
              "    .colab-df-convert:hover {\n",
              "      background-color: #E2EBFA;\n",
              "      box-shadow: 0px 1px 2px rgba(60, 64, 67, 0.3), 0px 1px 3px 1px rgba(60, 64, 67, 0.15);\n",
              "      fill: #174EA6;\n",
              "    }\n",
              "\n",
              "    [theme=dark] .colab-df-convert {\n",
              "      background-color: #3B4455;\n",
              "      fill: #D2E3FC;\n",
              "    }\n",
              "\n",
              "    [theme=dark] .colab-df-convert:hover {\n",
              "      background-color: #434B5C;\n",
              "      box-shadow: 0px 1px 3px 1px rgba(0, 0, 0, 0.15);\n",
              "      filter: drop-shadow(0px 1px 2px rgba(0, 0, 0, 0.3));\n",
              "      fill: #FFFFFF;\n",
              "    }\n",
              "  </style>\n",
              "\n",
              "      <script>\n",
              "        const buttonEl =\n",
              "          document.querySelector('#df-617a204f-7865-4d20-8728-406eecd8375c button.colab-df-convert');\n",
              "        buttonEl.style.display =\n",
              "          google.colab.kernel.accessAllowed ? 'block' : 'none';\n",
              "\n",
              "        async function convertToInteractive(key) {\n",
              "          const element = document.querySelector('#df-617a204f-7865-4d20-8728-406eecd8375c');\n",
              "          const dataTable =\n",
              "            await google.colab.kernel.invokeFunction('convertToInteractive',\n",
              "                                                     [key], {});\n",
              "          if (!dataTable) return;\n",
              "\n",
              "          const docLinkHtml = 'Like what you see? Visit the ' +\n",
              "            '<a target=\"_blank\" href=https://colab.research.google.com/notebooks/data_table.ipynb>data table notebook</a>'\n",
              "            + ' to learn more about interactive tables.';\n",
              "          element.innerHTML = '';\n",
              "          dataTable['output_type'] = 'display_data';\n",
              "          await google.colab.output.renderOutput(dataTable, element);\n",
              "          const docLink = document.createElement('div');\n",
              "          docLink.innerHTML = docLinkHtml;\n",
              "          element.appendChild(docLink);\n",
              "        }\n",
              "      </script>\n",
              "    </div>\n",
              "  </div>\n",
              "  "
            ]
          },
          "metadata": {},
          "execution_count": 13
        }
      ],
      "source": [
        "train_data = train_data[['text', 'label']].copy()\n",
        "\n",
        "train_data['text'] = train_data['text'].apply(text_preprocessing)\n",
        "\n",
        "train_data.drop_duplicates(inplace=True)\n",
        "\n",
        "train_data"
      ]
    },
    {
      "cell_type": "code",
      "execution_count": null,
      "metadata": {
        "colab": {
          "base_uri": "https://localhost:8080/",
          "height": 424
        },
        "id": "21_qKNngOiqe",
        "outputId": "705020b1-16b1-4c49-e047-42955f8c3080"
      },
      "outputs": [
        {
          "output_type": "execute_result",
          "data": {
            "text/plain": [
              "                                                  text  label\n",
              "0    decrease 50 baseline urinary prostaglandin e2 ...      1\n",
              "1    remaining 24 253 differentiated nsclc nos medi...      1\n",
              "2    results exceptional response igf1r inhibitor 5...      1\n",
              "3    detection quantification cancer dna molecules ...      1\n",
              "4    13±04 cm range 0720 cm group 06±03 cm range 03...      1\n",
              "..                                                 ...    ...\n",
              "195  heat shock transcription factor1 hsf1 overexpr...      0\n",
              "196  fundamental influences sex gender modifiers ma...      2\n",
              "197  activation naturalphytochemicals overviewconce...      2\n",
              "198  effects lowdose computed tomography ldct scree...      2\n",
              "199  probands father ii5 sister iii5 unaffected pe...      1\n",
              "\n",
              "[200 rows x 2 columns]"
            ],
            "text/html": [
              "\n",
              "  <div id=\"df-d4a22c00-075f-4765-b9bb-3d4ba3a22360\">\n",
              "    <div class=\"colab-df-container\">\n",
              "      <div>\n",
              "<style scoped>\n",
              "    .dataframe tbody tr th:only-of-type {\n",
              "        vertical-align: middle;\n",
              "    }\n",
              "\n",
              "    .dataframe tbody tr th {\n",
              "        vertical-align: top;\n",
              "    }\n",
              "\n",
              "    .dataframe thead th {\n",
              "        text-align: right;\n",
              "    }\n",
              "</style>\n",
              "<table border=\"1\" class=\"dataframe\">\n",
              "  <thead>\n",
              "    <tr style=\"text-align: right;\">\n",
              "      <th></th>\n",
              "      <th>text</th>\n",
              "      <th>label</th>\n",
              "    </tr>\n",
              "  </thead>\n",
              "  <tbody>\n",
              "    <tr>\n",
              "      <th>0</th>\n",
              "      <td>decrease 50 baseline urinary prostaglandin e2 ...</td>\n",
              "      <td>1</td>\n",
              "    </tr>\n",
              "    <tr>\n",
              "      <th>1</th>\n",
              "      <td>remaining 24 253 differentiated nsclc nos medi...</td>\n",
              "      <td>1</td>\n",
              "    </tr>\n",
              "    <tr>\n",
              "      <th>2</th>\n",
              "      <td>results exceptional response igf1r inhibitor 5...</td>\n",
              "      <td>1</td>\n",
              "    </tr>\n",
              "    <tr>\n",
              "      <th>3</th>\n",
              "      <td>detection quantification cancer dna molecules ...</td>\n",
              "      <td>1</td>\n",
              "    </tr>\n",
              "    <tr>\n",
              "      <th>4</th>\n",
              "      <td>13±04 cm range 0720 cm group 06±03 cm range 03...</td>\n",
              "      <td>1</td>\n",
              "    </tr>\n",
              "    <tr>\n",
              "      <th>...</th>\n",
              "      <td>...</td>\n",
              "      <td>...</td>\n",
              "    </tr>\n",
              "    <tr>\n",
              "      <th>195</th>\n",
              "      <td>heat shock transcription factor1 hsf1 overexpr...</td>\n",
              "      <td>0</td>\n",
              "    </tr>\n",
              "    <tr>\n",
              "      <th>196</th>\n",
              "      <td>fundamental influences sex gender modifiers ma...</td>\n",
              "      <td>2</td>\n",
              "    </tr>\n",
              "    <tr>\n",
              "      <th>197</th>\n",
              "      <td>activation naturalphytochemicals overviewconce...</td>\n",
              "      <td>2</td>\n",
              "    </tr>\n",
              "    <tr>\n",
              "      <th>198</th>\n",
              "      <td>effects lowdose computed tomography ldct scree...</td>\n",
              "      <td>2</td>\n",
              "    </tr>\n",
              "    <tr>\n",
              "      <th>199</th>\n",
              "      <td>probands father ii5 sister iii5 unaffected pe...</td>\n",
              "      <td>1</td>\n",
              "    </tr>\n",
              "  </tbody>\n",
              "</table>\n",
              "<p>200 rows × 2 columns</p>\n",
              "</div>\n",
              "      <button class=\"colab-df-convert\" onclick=\"convertToInteractive('df-d4a22c00-075f-4765-b9bb-3d4ba3a22360')\"\n",
              "              title=\"Convert this dataframe to an interactive table.\"\n",
              "              style=\"display:none;\">\n",
              "        \n",
              "  <svg xmlns=\"http://www.w3.org/2000/svg\" height=\"24px\"viewBox=\"0 0 24 24\"\n",
              "       width=\"24px\">\n",
              "    <path d=\"M0 0h24v24H0V0z\" fill=\"none\"/>\n",
              "    <path d=\"M18.56 5.44l.94 2.06.94-2.06 2.06-.94-2.06-.94-.94-2.06-.94 2.06-2.06.94zm-11 1L8.5 8.5l.94-2.06 2.06-.94-2.06-.94L8.5 2.5l-.94 2.06-2.06.94zm10 10l.94 2.06.94-2.06 2.06-.94-2.06-.94-.94-2.06-.94 2.06-2.06.94z\"/><path d=\"M17.41 7.96l-1.37-1.37c-.4-.4-.92-.59-1.43-.59-.52 0-1.04.2-1.43.59L10.3 9.45l-7.72 7.72c-.78.78-.78 2.05 0 2.83L4 21.41c.39.39.9.59 1.41.59.51 0 1.02-.2 1.41-.59l7.78-7.78 2.81-2.81c.8-.78.8-2.07 0-2.86zM5.41 20L4 18.59l7.72-7.72 1.47 1.35L5.41 20z\"/>\n",
              "  </svg>\n",
              "      </button>\n",
              "      \n",
              "  <style>\n",
              "    .colab-df-container {\n",
              "      display:flex;\n",
              "      flex-wrap:wrap;\n",
              "      gap: 12px;\n",
              "    }\n",
              "\n",
              "    .colab-df-convert {\n",
              "      background-color: #E8F0FE;\n",
              "      border: none;\n",
              "      border-radius: 50%;\n",
              "      cursor: pointer;\n",
              "      display: none;\n",
              "      fill: #1967D2;\n",
              "      height: 32px;\n",
              "      padding: 0 0 0 0;\n",
              "      width: 32px;\n",
              "    }\n",
              "\n",
              "    .colab-df-convert:hover {\n",
              "      background-color: #E2EBFA;\n",
              "      box-shadow: 0px 1px 2px rgba(60, 64, 67, 0.3), 0px 1px 3px 1px rgba(60, 64, 67, 0.15);\n",
              "      fill: #174EA6;\n",
              "    }\n",
              "\n",
              "    [theme=dark] .colab-df-convert {\n",
              "      background-color: #3B4455;\n",
              "      fill: #D2E3FC;\n",
              "    }\n",
              "\n",
              "    [theme=dark] .colab-df-convert:hover {\n",
              "      background-color: #434B5C;\n",
              "      box-shadow: 0px 1px 3px 1px rgba(0, 0, 0, 0.15);\n",
              "      filter: drop-shadow(0px 1px 2px rgba(0, 0, 0, 0.3));\n",
              "      fill: #FFFFFF;\n",
              "    }\n",
              "  </style>\n",
              "\n",
              "      <script>\n",
              "        const buttonEl =\n",
              "          document.querySelector('#df-d4a22c00-075f-4765-b9bb-3d4ba3a22360 button.colab-df-convert');\n",
              "        buttonEl.style.display =\n",
              "          google.colab.kernel.accessAllowed ? 'block' : 'none';\n",
              "\n",
              "        async function convertToInteractive(key) {\n",
              "          const element = document.querySelector('#df-d4a22c00-075f-4765-b9bb-3d4ba3a22360');\n",
              "          const dataTable =\n",
              "            await google.colab.kernel.invokeFunction('convertToInteractive',\n",
              "                                                     [key], {});\n",
              "          if (!dataTable) return;\n",
              "\n",
              "          const docLinkHtml = 'Like what you see? Visit the ' +\n",
              "            '<a target=\"_blank\" href=https://colab.research.google.com/notebooks/data_table.ipynb>data table notebook</a>'\n",
              "            + ' to learn more about interactive tables.';\n",
              "          element.innerHTML = '';\n",
              "          dataTable['output_type'] = 'display_data';\n",
              "          await google.colab.output.renderOutput(dataTable, element);\n",
              "          const docLink = document.createElement('div');\n",
              "          docLink.innerHTML = docLinkHtml;\n",
              "          element.appendChild(docLink);\n",
              "        }\n",
              "      </script>\n",
              "    </div>\n",
              "  </div>\n",
              "  "
            ]
          },
          "metadata": {},
          "execution_count": 14
        }
      ],
      "source": [
        "test_data = test_data[['text', 'label']].copy()\n",
        "\n",
        "test_data['text'] = test_data['text'].apply(text_preprocessing)\n",
        "\n",
        "test_data.drop_duplicates(inplace=True)\n",
        "\n",
        "test_data"
      ]
    },
    {
      "cell_type": "markdown",
      "metadata": {
        "id": "m-8gEBwNA7PN"
      },
      "source": [
        "# Feature Extraction"
      ]
    },
    {
      "cell_type": "code",
      "execution_count": null,
      "metadata": {
        "colab": {
          "base_uri": "https://localhost:8080/"
        },
        "id": "qhU5I2TaBIUz",
        "outputId": "254dfb90-5ddb-48c6-e835-b04b188e9d46"
      },
      "outputs": [
        {
          "output_type": "stream",
          "name": "stdout",
          "text": [
            "[==================================================] 100.0% 1662.8/1662.8MB downloaded\n"
          ]
        }
      ],
      "source": [
        "word2vec_model = api.load(\"word2vec-google-news-300\")"
      ]
    },
    {
      "cell_type": "code",
      "execution_count": null,
      "metadata": {
        "id": "XOa6vzkoAhaN"
      },
      "outputs": [],
      "source": [
        "def get_text_vec(sent):\n",
        "  vector = np.mean(np.array([word2vec_model[token] for token in word_tokenize(sent) if token in word2vec_model.key_to_index]), axis=0)\n",
        "  if np.all(np.isnan(vector)) :\n",
        "    return np.zeros(300)\n",
        "  return vector"
      ]
    },
    {
      "cell_type": "code",
      "execution_count": null,
      "metadata": {
        "id": "M-b-fuZXEjnH"
      },
      "outputs": [],
      "source": [
        "X_test = np.stack(np.array([get_text_vec(text) for text in test_data['text'].values]))"
      ]
    },
    {
      "cell_type": "code",
      "execution_count": null,
      "metadata": {
        "colab": {
          "base_uri": "https://localhost:8080/"
        },
        "id": "lDfVSWFzEpwH",
        "outputId": "02a42495-6a58-4e4e-842f-ee3667b46e03"
      },
      "outputs": [
        {
          "output_type": "execute_result",
          "data": {
            "text/plain": [
              "(200, 300)"
            ]
          },
          "metadata": {},
          "execution_count": 19
        }
      ],
      "source": [
        "X_test.shape"
      ]
    },
    {
      "cell_type": "code",
      "execution_count": null,
      "metadata": {
        "id": "NCi6wK0kPACs"
      },
      "outputs": [],
      "source": [
        "y_test = test_data['label'].values"
      ]
    },
    {
      "cell_type": "code",
      "execution_count": null,
      "metadata": {
        "colab": {
          "base_uri": "https://localhost:8080/"
        },
        "id": "0I964n-QPBQE",
        "outputId": "187055ee-d81f-42a3-9c3f-6763f97f5b7b"
      },
      "outputs": [
        {
          "output_type": "execute_result",
          "data": {
            "text/plain": [
              "(200,)"
            ]
          },
          "metadata": {},
          "execution_count": 21
        }
      ],
      "source": [
        "y_test.shape"
      ]
    },
    {
      "cell_type": "markdown",
      "metadata": {
        "id": "TEqW7eb9BkwW"
      },
      "source": [
        "# Model selection, training and evaluation"
      ]
    },
    {
      "cell_type": "code",
      "source": [
        "def f_beta_score(y_true, y_pred):\n",
        "  return fbeta_score(y_true, y_pred, beta=2, average='macro')\n",
        "\n",
        "f2_score = make_scorer(f_beta_score, greater_is_better=True)"
      ],
      "metadata": {
        "id": "XnESfNs4s8bF"
      },
      "execution_count": null,
      "outputs": []
    },
    {
      "cell_type": "code",
      "source": [
        "from datetime import datetime\n",
        "\n",
        "def save_cross_validation(results, file_name):\n",
        "  results_to_save = pd.DataFrame(columns=['Accuracy', 'Recall', 'Precision', 'F1 Score', 'F2 Score'])\n",
        "  for i in range(0, 10):\n",
        "    results_to_save.loc[i] = [\n",
        "      results['split{}_test_Accuracy'.format(i)][0],\n",
        "      results['split{}_test_Recall'.format(i)][0],\n",
        "      results['split{}_test_Precision'.format(i)][0],\n",
        "      results['split{}_test_F1'.format(i)][0],\n",
        "      results['split{}_test_F2'.format(i)][0]\n",
        "    ]\n",
        "  results_to_save.to_csv('{}Results/{}_{}.csv'.format(dir_name+'experiments/Cancer Doc/', file_name, datetime.now().strftime(\"%m%d%H%M\")))"
      ],
      "metadata": {
        "id": "TUA9gCZos8Ql"
      },
      "execution_count": null,
      "outputs": []
    },
    {
      "cell_type": "code",
      "source": [
        "def train_model(classifier, param_grid, model_name, train_texts, train_labels, test_texts, test_labels, evaluation_metrics, to_print=True, to_save=False, file_name=None):\n",
        "    \"\"\"\n",
        "    train email classification model.\n",
        "    \"\"\"\n",
        "\n",
        "    # apply grid search to find best model hyper parameters\n",
        "    grid_search = GridSearchCV(classifier, param_grid, cv=10, scoring={'Accuracy': make_scorer(accuracy_score),\n",
        "                                                                       'F1': make_scorer(f1_score, average='macro'),\n",
        "                                                                       'F2': f2_score,\n",
        "                                                                       'Recall': make_scorer(recall_score, average='macro'),\n",
        "                                                                       'Precision': make_scorer(precision_score, average='macro')\n",
        "                                                                       }, refit='F1', n_jobs=-1)\n",
        "    grid_search.fit(train_texts, train_labels)\n",
        "    model = grid_search.best_estimator_\n",
        "\n",
        "    if to_save:\n",
        "      ConfusionMatrixDisplay(save_cross_validation(grid_search.cv_results_, file_name))\n",
        "      plt.show()\n",
        "\n",
        "    # train and test accuracy.\n",
        "    test_accuracy = model.score(test_texts, test_labels)\n",
        "    train_accuracy = model.score(train_texts, train_labels)\n",
        "\n",
        "    # compute F1 score for model evaluation.\n",
        "    y_pred = model.predict(test_texts)\n",
        "\n",
        "    recall = recall_score(test_labels, y_pred, average='macro')\n",
        "    precision = precision_score(test_labels, y_pred, average='macro')\n",
        "    f1score = f1_score(test_labels, y_pred, average='macro')\n",
        "    f2score = fbeta_score(y_test, y_pred, beta=2, average='macro')\n",
        "\n",
        "    if to_print:\n",
        "        print(\"train accuracy = \" + str(train_accuracy))\n",
        "        print(\"test accuracy = \" + str(test_accuracy))\n",
        "        print(\"Recall = {}\".format(recall))\n",
        "        print(\"Precision = {}\".format(precision))\n",
        "        print(\"F1 score = {}\".format(f1score))\n",
        "        print(\"F2 score = {}\".format(f2score))\n",
        "        print(classification_report(test_labels, y_pred))\n",
        "\n",
        "\n",
        "        # plot confusion matrix\n",
        "        cm = confusion_matrix(test_labels, y_pred)\n",
        "        disp = ConfusionMatrixDisplay(confusion_matrix=cm, display_labels=[0,1,2])\n",
        "\n",
        "        disp.plot(cmap=plt.cm.Blues)\n",
        "        plt.show()\n",
        "\n",
        "        # print best model hyper parameters.\n",
        "        print(grid_search.best_params_)\n",
        "\n",
        "    evaluation_metrics.loc[model_name, 'Recall'] = recall\n",
        "    evaluation_metrics.loc[model_name, 'Precision'] = precision\n",
        "    evaluation_metrics.loc[model_name, 'F1 score'] = f1score\n",
        "    evaluation_metrics.loc[model_name, 'F2 score'] = f2score\n",
        "\n",
        "    return f1score, f2score\n",
        "\n",
        "\n",
        "def train(model_id, train_texts, train_labels, test_texts, test_labels, evaluation_metrics, to_print=True, to_save=False, file_name=None):\n",
        "    \n",
        "    if model_id == 1:\n",
        "        # Random forest Classification model.\n",
        "        forest_clf = RandomForestClassifier(random_state=42, n_jobs=-1)\n",
        "        #forest_param_grid = [{'n_estimators': [25, 50, 75], 'max_features': [10, 13, 15,], 'min_samples_split': [20, 25], 'criterion': ['gini','entropy'], 'max_depth': [3, 4]}]\n",
        "        forest_param_grid = [{'n_estimators': [50, 75, 100, 150, 200], 'max_features': [8, 9, 10], 'min_samples_split': [25, 30], 'criterion': ['gini','entropy'], 'max_depth': [4, 5]}]\n",
        "\n",
        "        return train_model(forest_clf, forest_param_grid, 'RandomForest', train_texts, train_labels, test_texts, test_labels, evaluation_metrics, to_print, to_save, file_name)\n",
        "\n",
        "    if model_id == 2:\n",
        "        # Support Vector Machine Model.\n",
        "        svc_clf = SVC(random_state=42)\n",
        "        svc_param_grid = [{'kernel': ['rbf', 'poly'], 'degree': [2, 3 , 4, 5]}]\n",
        "\n",
        "        return train_model(svc_clf, svc_param_grid, 'SVM', train_texts, train_labels, test_texts, test_labels, evaluation_metrics, to_print, to_save, file_name)"
      ],
      "metadata": {
        "id": "yIPOoHx0s8Ll"
      },
      "execution_count": null,
      "outputs": []
    },
    {
      "cell_type": "markdown",
      "metadata": {
        "id": "2uZCYkLGehXH"
      },
      "source": [
        "#Text Aug."
      ]
    },
    {
      "cell_type": "code",
      "source": [
        "!pip install nlpaug"
      ],
      "metadata": {
        "colab": {
          "base_uri": "https://localhost:8080/"
        },
        "id": "QIrZc74DmYd4",
        "outputId": "91d486a7-ed68-4330-a747-b5b86a0f07f8"
      },
      "execution_count": null,
      "outputs": [
        {
          "output_type": "stream",
          "name": "stdout",
          "text": [
            "Looking in indexes: https://pypi.org/simple, https://us-python.pkg.dev/colab-wheels/public/simple/\n",
            "Collecting nlpaug\n",
            "  Downloading nlpaug-1.1.11-py3-none-any.whl (410 kB)\n",
            "\u001b[2K     \u001b[90m━━━━━━━━━━━━━━━━━━━━━━━━━━━━━━━━━━━━━━\u001b[0m \u001b[32m410.5/410.5 kB\u001b[0m \u001b[31m11.3 MB/s\u001b[0m eta \u001b[36m0:00:00\u001b[0m\n",
            "\u001b[?25hRequirement already satisfied: numpy>=1.16.2 in /usr/local/lib/python3.10/dist-packages (from nlpaug) (1.22.4)\n",
            "Requirement already satisfied: pandas>=1.2.0 in /usr/local/lib/python3.10/dist-packages (from nlpaug) (1.5.3)\n",
            "Requirement already satisfied: requests>=2.22.0 in /usr/local/lib/python3.10/dist-packages (from nlpaug) (2.27.1)\n",
            "Requirement already satisfied: gdown>=4.0.0 in /usr/local/lib/python3.10/dist-packages (from nlpaug) (4.6.6)\n",
            "Requirement already satisfied: filelock in /usr/local/lib/python3.10/dist-packages (from gdown>=4.0.0->nlpaug) (3.12.0)\n",
            "Requirement already satisfied: six in /usr/local/lib/python3.10/dist-packages (from gdown>=4.0.0->nlpaug) (1.16.0)\n",
            "Requirement already satisfied: tqdm in /usr/local/lib/python3.10/dist-packages (from gdown>=4.0.0->nlpaug) (4.65.0)\n",
            "Requirement already satisfied: beautifulsoup4 in /usr/local/lib/python3.10/dist-packages (from gdown>=4.0.0->nlpaug) (4.11.2)\n",
            "Requirement already satisfied: python-dateutil>=2.8.1 in /usr/local/lib/python3.10/dist-packages (from pandas>=1.2.0->nlpaug) (2.8.2)\n",
            "Requirement already satisfied: pytz>=2020.1 in /usr/local/lib/python3.10/dist-packages (from pandas>=1.2.0->nlpaug) (2022.7.1)\n",
            "Requirement already satisfied: urllib3<1.27,>=1.21.1 in /usr/local/lib/python3.10/dist-packages (from requests>=2.22.0->nlpaug) (1.26.15)\n",
            "Requirement already satisfied: certifi>=2017.4.17 in /usr/local/lib/python3.10/dist-packages (from requests>=2.22.0->nlpaug) (2022.12.7)\n",
            "Requirement already satisfied: charset-normalizer~=2.0.0 in /usr/local/lib/python3.10/dist-packages (from requests>=2.22.0->nlpaug) (2.0.12)\n",
            "Requirement already satisfied: idna<4,>=2.5 in /usr/local/lib/python3.10/dist-packages (from requests>=2.22.0->nlpaug) (3.4)\n",
            "Requirement already satisfied: soupsieve>1.2 in /usr/local/lib/python3.10/dist-packages (from beautifulsoup4->gdown>=4.0.0->nlpaug) (2.4.1)\n",
            "Requirement already satisfied: PySocks!=1.5.7,>=1.5.6 in /usr/local/lib/python3.10/dist-packages (from requests>=2.22.0->nlpaug) (1.7.1)\n",
            "Installing collected packages: nlpaug\n",
            "Successfully installed nlpaug-1.1.11\n"
          ]
        }
      ]
    },
    {
      "cell_type": "code",
      "source": [
        "import nlpaug.augmenter.word as naw\n",
        "augmenter = naw.RandomWordAug(action='swap', stopwords=stop_words)"
      ],
      "metadata": {
        "id": "LTweOA-6LZsd"
      },
      "execution_count": null,
      "outputs": []
    },
    {
      "cell_type": "code",
      "execution_count": null,
      "metadata": {
        "id": "0mef8qcafWUc"
      },
      "outputs": [],
      "source": [
        "def RS_augmentation(prepro_dataset, lable, sent_num=5):\n",
        "  texts = prepro_dataset.loc[prepro_dataset['label'] == lable]['text'].values\n",
        "  texts_num = len(texts)\n",
        "  new_texts = []\n",
        "  i = 0\n",
        "  \n",
        "  for text in texts:\n",
        "    if i % 20 == 0:\n",
        "      print(f\" {int(100*i/texts_num)} %\")\n",
        "    for j in range(sent_num):\n",
        "      new_texts.append(augmenter.augment(text)[0])\n",
        "    i += 1\n",
        "  augmentations = prepro_dataset[['text', 'label']].copy().append(pd.DataFrame({'label':[lable] * len(new_texts), 'text':new_texts}), ignore_index = True)\n",
        "  augmentations.drop_duplicates(inplace=True)\n",
        "  return augmentations.sample(frac=1)"
      ]
    },
    {
      "cell_type": "code",
      "execution_count": null,
      "metadata": {
        "colab": {
          "base_uri": "https://localhost:8080/"
        },
        "id": "TU54YZJxZ9K6",
        "outputId": "69e5c9b0-803d-4bfe-9be9-6bc5645f8d59"
      },
      "outputs": [
        {
          "output_type": "stream",
          "name": "stdout",
          "text": [
            " 0 %\n",
            " 9 %\n",
            " 19 %\n",
            " 28 %\n",
            " 38 %\n",
            " 47 %\n",
            " 57 %\n",
            " 66 %\n",
            " 76 %\n",
            " 86 %\n",
            " 95 %\n"
          ]
        },
        {
          "output_type": "stream",
          "name": "stderr",
          "text": [
            "<ipython-input-17-40a17fb07ed9>:13: FutureWarning: The frame.append method is deprecated and will be removed from pandas in a future version. Use pandas.concat instead.\n",
            "  augmentations = prepro_dataset[['text', 'label']].copy().append(pd.DataFrame({'label':[lable] * len(new_texts), 'text':new_texts}), ignore_index = True)\n"
          ]
        }
      ],
      "source": [
        "augmented_dataset = RS_augmentation(train_data, lable=0, sent_num=1)"
      ]
    },
    {
      "cell_type": "code",
      "execution_count": null,
      "metadata": {
        "colab": {
          "base_uri": "https://localhost:8080/"
        },
        "id": "XSK_W8Y-bCe3",
        "outputId": "48cbbeb1-9e3d-47b3-87a0-70421d11c74a"
      },
      "outputs": [
        {
          "output_type": "stream",
          "name": "stdout",
          "text": [
            " 0 %\n",
            " 8 %\n",
            " 17 %\n",
            " 26 %\n",
            " 35 %\n",
            " 44 %\n",
            " 53 %\n",
            " 61 %\n",
            " 70 %\n",
            " 79 %\n",
            " 88 %\n",
            " 97 %\n"
          ]
        },
        {
          "output_type": "stream",
          "name": "stderr",
          "text": [
            "<ipython-input-17-40a17fb07ed9>:13: FutureWarning: The frame.append method is deprecated and will be removed from pandas in a future version. Use pandas.concat instead.\n",
            "  augmentations = prepro_dataset[['text', 'label']].copy().append(pd.DataFrame({'label':[lable] * len(new_texts), 'text':new_texts}), ignore_index = True)\n"
          ]
        }
      ],
      "source": [
        "augmented_dataset = RS_augmentation(augmented_dataset, lable=2, sent_num=1)"
      ]
    },
    {
      "cell_type": "code",
      "execution_count": null,
      "metadata": {
        "colab": {
          "base_uri": "https://localhost:8080/",
          "height": 423
        },
        "id": "uzDMaShg0EWT",
        "outputId": "00f264fb-fffb-4b6b-9ef8-a0811fe26e76"
      },
      "outputs": [
        {
          "output_type": "execute_result",
          "data": {
            "text/plain": [
              "                                                   text  label\n",
              "54    covid19 impact provision colorectal cancer car...      0\n",
              "1052  aprospective blinded multicenter studydear edi...      2\n",
              "820   population sufficiently different unexpected r...      1\n",
              "888   concordant integrative analysis conducted data...      1\n",
              "151   widely recognized anticancer potential aspirin...      0\n",
              "...                                                 ...    ...\n",
              "1088  strength immune selection tumors varies withse...      2\n",
              "531   clinical manifestations sarscov2 infection inc...      0\n",
              "99    studies demonstrate rrm1 predictive marker res...      1\n",
              "575   cellular recognition microbial dna evolutionar...      0\n",
              "1087  laryngology covid19 coronavirus head neck canc...      2\n",
              "\n",
              "[1231 rows x 2 columns]"
            ],
            "text/html": [
              "\n",
              "  <div id=\"df-b2296f14-9b6c-4ce8-b355-0ab9a52078e1\">\n",
              "    <div class=\"colab-df-container\">\n",
              "      <div>\n",
              "<style scoped>\n",
              "    .dataframe tbody tr th:only-of-type {\n",
              "        vertical-align: middle;\n",
              "    }\n",
              "\n",
              "    .dataframe tbody tr th {\n",
              "        vertical-align: top;\n",
              "    }\n",
              "\n",
              "    .dataframe thead th {\n",
              "        text-align: right;\n",
              "    }\n",
              "</style>\n",
              "<table border=\"1\" class=\"dataframe\">\n",
              "  <thead>\n",
              "    <tr style=\"text-align: right;\">\n",
              "      <th></th>\n",
              "      <th>text</th>\n",
              "      <th>label</th>\n",
              "    </tr>\n",
              "  </thead>\n",
              "  <tbody>\n",
              "    <tr>\n",
              "      <th>54</th>\n",
              "      <td>covid19 impact provision colorectal cancer car...</td>\n",
              "      <td>0</td>\n",
              "    </tr>\n",
              "    <tr>\n",
              "      <th>1052</th>\n",
              "      <td>aprospective blinded multicenter studydear edi...</td>\n",
              "      <td>2</td>\n",
              "    </tr>\n",
              "    <tr>\n",
              "      <th>820</th>\n",
              "      <td>population sufficiently different unexpected r...</td>\n",
              "      <td>1</td>\n",
              "    </tr>\n",
              "    <tr>\n",
              "      <th>888</th>\n",
              "      <td>concordant integrative analysis conducted data...</td>\n",
              "      <td>1</td>\n",
              "    </tr>\n",
              "    <tr>\n",
              "      <th>151</th>\n",
              "      <td>widely recognized anticancer potential aspirin...</td>\n",
              "      <td>0</td>\n",
              "    </tr>\n",
              "    <tr>\n",
              "      <th>...</th>\n",
              "      <td>...</td>\n",
              "      <td>...</td>\n",
              "    </tr>\n",
              "    <tr>\n",
              "      <th>1088</th>\n",
              "      <td>strength immune selection tumors varies withse...</td>\n",
              "      <td>2</td>\n",
              "    </tr>\n",
              "    <tr>\n",
              "      <th>531</th>\n",
              "      <td>clinical manifestations sarscov2 infection inc...</td>\n",
              "      <td>0</td>\n",
              "    </tr>\n",
              "    <tr>\n",
              "      <th>99</th>\n",
              "      <td>studies demonstrate rrm1 predictive marker res...</td>\n",
              "      <td>1</td>\n",
              "    </tr>\n",
              "    <tr>\n",
              "      <th>575</th>\n",
              "      <td>cellular recognition microbial dna evolutionar...</td>\n",
              "      <td>0</td>\n",
              "    </tr>\n",
              "    <tr>\n",
              "      <th>1087</th>\n",
              "      <td>laryngology covid19 coronavirus head neck canc...</td>\n",
              "      <td>2</td>\n",
              "    </tr>\n",
              "  </tbody>\n",
              "</table>\n",
              "<p>1231 rows × 2 columns</p>\n",
              "</div>\n",
              "      <button class=\"colab-df-convert\" onclick=\"convertToInteractive('df-b2296f14-9b6c-4ce8-b355-0ab9a52078e1')\"\n",
              "              title=\"Convert this dataframe to an interactive table.\"\n",
              "              style=\"display:none;\">\n",
              "        \n",
              "  <svg xmlns=\"http://www.w3.org/2000/svg\" height=\"24px\"viewBox=\"0 0 24 24\"\n",
              "       width=\"24px\">\n",
              "    <path d=\"M0 0h24v24H0V0z\" fill=\"none\"/>\n",
              "    <path d=\"M18.56 5.44l.94 2.06.94-2.06 2.06-.94-2.06-.94-.94-2.06-.94 2.06-2.06.94zm-11 1L8.5 8.5l.94-2.06 2.06-.94-2.06-.94L8.5 2.5l-.94 2.06-2.06.94zm10 10l.94 2.06.94-2.06 2.06-.94-2.06-.94-.94-2.06-.94 2.06-2.06.94z\"/><path d=\"M17.41 7.96l-1.37-1.37c-.4-.4-.92-.59-1.43-.59-.52 0-1.04.2-1.43.59L10.3 9.45l-7.72 7.72c-.78.78-.78 2.05 0 2.83L4 21.41c.39.39.9.59 1.41.59.51 0 1.02-.2 1.41-.59l7.78-7.78 2.81-2.81c.8-.78.8-2.07 0-2.86zM5.41 20L4 18.59l7.72-7.72 1.47 1.35L5.41 20z\"/>\n",
              "  </svg>\n",
              "      </button>\n",
              "      \n",
              "  <style>\n",
              "    .colab-df-container {\n",
              "      display:flex;\n",
              "      flex-wrap:wrap;\n",
              "      gap: 12px;\n",
              "    }\n",
              "\n",
              "    .colab-df-convert {\n",
              "      background-color: #E8F0FE;\n",
              "      border: none;\n",
              "      border-radius: 50%;\n",
              "      cursor: pointer;\n",
              "      display: none;\n",
              "      fill: #1967D2;\n",
              "      height: 32px;\n",
              "      padding: 0 0 0 0;\n",
              "      width: 32px;\n",
              "    }\n",
              "\n",
              "    .colab-df-convert:hover {\n",
              "      background-color: #E2EBFA;\n",
              "      box-shadow: 0px 1px 2px rgba(60, 64, 67, 0.3), 0px 1px 3px 1px rgba(60, 64, 67, 0.15);\n",
              "      fill: #174EA6;\n",
              "    }\n",
              "\n",
              "    [theme=dark] .colab-df-convert {\n",
              "      background-color: #3B4455;\n",
              "      fill: #D2E3FC;\n",
              "    }\n",
              "\n",
              "    [theme=dark] .colab-df-convert:hover {\n",
              "      background-color: #434B5C;\n",
              "      box-shadow: 0px 1px 3px 1px rgba(0, 0, 0, 0.15);\n",
              "      filter: drop-shadow(0px 1px 2px rgba(0, 0, 0, 0.3));\n",
              "      fill: #FFFFFF;\n",
              "    }\n",
              "  </style>\n",
              "\n",
              "      <script>\n",
              "        const buttonEl =\n",
              "          document.querySelector('#df-b2296f14-9b6c-4ce8-b355-0ab9a52078e1 button.colab-df-convert');\n",
              "        buttonEl.style.display =\n",
              "          google.colab.kernel.accessAllowed ? 'block' : 'none';\n",
              "\n",
              "        async function convertToInteractive(key) {\n",
              "          const element = document.querySelector('#df-b2296f14-9b6c-4ce8-b355-0ab9a52078e1');\n",
              "          const dataTable =\n",
              "            await google.colab.kernel.invokeFunction('convertToInteractive',\n",
              "                                                     [key], {});\n",
              "          if (!dataTable) return;\n",
              "\n",
              "          const docLinkHtml = 'Like what you see? Visit the ' +\n",
              "            '<a target=\"_blank\" href=https://colab.research.google.com/notebooks/data_table.ipynb>data table notebook</a>'\n",
              "            + ' to learn more about interactive tables.';\n",
              "          element.innerHTML = '';\n",
              "          dataTable['output_type'] = 'display_data';\n",
              "          await google.colab.output.renderOutput(dataTable, element);\n",
              "          const docLink = document.createElement('div');\n",
              "          docLink.innerHTML = docLinkHtml;\n",
              "          element.appendChild(docLink);\n",
              "        }\n",
              "      </script>\n",
              "    </div>\n",
              "  </div>\n",
              "  "
            ]
          },
          "metadata": {},
          "execution_count": 30
        }
      ],
      "source": [
        "augmented_dataset"
      ]
    },
    {
      "cell_type": "code",
      "execution_count": null,
      "metadata": {
        "colab": {
          "base_uri": "https://localhost:8080/",
          "height": 499
        },
        "id": "hRH5FNpUca1L",
        "outputId": "edeca257-cc08-4c12-b226-f2c362265bb0"
      },
      "outputs": [
        {
          "output_type": "display_data",
          "data": {
            "text/plain": [
              "<Figure size 600x600 with 1 Axes>"
            ],
            "image/png": "[encoded data removed]"
          },
          "metadata": {}
        }
      ],
      "source": [
        "get_dataset_statistics(augmented_dataset)"
      ]
    },
    {
      "cell_type": "code",
      "execution_count": null,
      "metadata": {
        "id": "1vbxyQOtbSCr"
      },
      "outputs": [],
      "source": [
        "aug_X_train = np.stack(np.array([get_text_vec(sms_text) for sms_text in augmented_dataset['text'].values]))"
      ]
    },
    {
      "cell_type": "code",
      "execution_count": null,
      "metadata": {
        "colab": {
          "base_uri": "https://localhost:8080/"
        },
        "id": "mFAagANKbUFC",
        "outputId": "7a04d37e-9c5b-443c-a140-775b0db7f96e"
      },
      "outputs": [
        {
          "output_type": "execute_result",
          "data": {
            "text/plain": [
              "(1231, 300)"
            ]
          },
          "metadata": {},
          "execution_count": 33
        }
      ],
      "source": [
        "aug_X_train.shape"
      ]
    },
    {
      "cell_type": "code",
      "execution_count": null,
      "metadata": {
        "id": "Vq9ghif4bUcx"
      },
      "outputs": [],
      "source": [
        "aug_y_train = augmented_dataset['label'].values"
      ]
    },
    {
      "cell_type": "code",
      "execution_count": null,
      "metadata": {
        "colab": {
          "base_uri": "https://localhost:8080/"
        },
        "id": "4W7P0-q6bWUU",
        "outputId": "de2e86ae-b4ac-4457-9fe0-7207ece3f243"
      },
      "outputs": [
        {
          "output_type": "execute_result",
          "data": {
            "text/plain": [
              "(1231,)"
            ]
          },
          "metadata": {},
          "execution_count": 35
        }
      ],
      "source": [
        "aug_y_train.shape"
      ]
    },
    {
      "cell_type": "code",
      "execution_count": null,
      "metadata": {
        "id": "pQ-8E3FtbXok"
      },
      "outputs": [],
      "source": [
        "evaluation_metrics_aug = pd.DataFrame(columns = ['Recall', 'Precision', 'F1 score', 'F2 score'])"
      ]
    },
    {
      "cell_type": "markdown",
      "metadata": {
        "id": "y9XIrUB5FhnC"
      },
      "source": [
        "# Random Forest"
      ]
    },
    {
      "cell_type": "code",
      "source": [
        "train(1, aug_X_train, aug_y_train, X_test, y_test, evaluation_metrics_aug, to_save=True, file_name='RS_RF')"
      ],
      "metadata": {
        "colab": {
          "base_uri": "https://localhost:8080/",
          "height": 787
        },
        "id": "o_91or4gKFV3",
        "outputId": "3272004f-a46e-463a-d326-d1a7b0b1b6c7"
      },
      "execution_count": null,
      "outputs": [
        {
          "output_type": "stream",
          "name": "stdout",
          "text": [
            "train accuracy = 0.8115353371242892\n",
            "test accuracy = 0.645\n",
            "Recall = 0.5891491549386286\n",
            "Precision = 0.5897435897435898\n",
            "F1 score = 0.585293273817864\n",
            "F2 score = 0.5866810252775164\n",
            "              precision    recall  f1-score   support\n",
            "\n",
            "           0       0.44      0.33      0.37        52\n",
            "           1       0.87      0.88      0.87        91\n",
            "           2       0.46      0.56      0.51        57\n",
            "\n",
            "    accuracy                           0.65       200\n",
            "   macro avg       0.59      0.59      0.59       200\n",
            "weighted avg       0.64      0.65      0.64       200\n",
            "\n"
          ]
        },
        {
          "output_type": "display_data",
          "data": {
            "text/plain": [
              "<Figure size 640x480 with 2 Axes>"
            ],
            "image/png": "[encoded data removed]"
          },
          "metadata": {}
        },
        {
          "output_type": "stream",
          "name": "stdout",
          "text": [
            "{'criterion': 'entropy', 'max_depth': 4, 'max_features': 15, 'min_samples_split': 20, 'n_estimators': 50}\n"
          ]
        },
        {
          "output_type": "execute_result",
          "data": {
            "text/plain": [
              "(0.585293273817864, 0.5866810252775164)"
            ]
          },
          "metadata": {},
          "execution_count": 37
        }
      ]
    },
    {
      "cell_type": "markdown",
      "metadata": {
        "id": "XmwRxKxMe-Uf"
      },
      "source": [
        "#SVM"
      ]
    },
    {
      "cell_type": "code",
      "source": [
        "train(2, aug_X_train, aug_y_train, X_test, y_test, evaluation_metrics_aug, to_save=True, file_name='RS_SVM')"
      ],
      "metadata": {
        "colab": {
          "base_uri": "https://localhost:8080/",
          "height": 781
        },
        "id": "hwu_DCwhtvCf",
        "outputId": "b7763651-57ed-4b37-8cd8-956ce4b739f0"
      },
      "execution_count": null,
      "outputs": [
        {
          "output_type": "stream",
          "name": "stdout",
          "text": [
            "train accuracy = 0.8082859463850528\n",
            "test accuracy = 0.73\n",
            "Recall = 0.6760812287128077\n",
            "Precision = 0.6788320515570264\n",
            "F1 score = 0.6741755070481915\n",
            "F2 score = 0.6745106717929293\n",
            "              precision    recall  f1-score   support\n",
            "\n",
            "           0       0.51      0.42      0.46        52\n",
            "           1       0.99      0.96      0.97        91\n",
            "           2       0.54      0.65      0.59        57\n",
            "\n",
            "    accuracy                           0.73       200\n",
            "   macro avg       0.68      0.68      0.67       200\n",
            "weighted avg       0.74      0.73      0.73       200\n",
            "\n"
          ]
        },
        {
          "output_type": "display_data",
          "data": {
            "text/plain": [
              "<Figure size 640x480 with 2 Axes>"
            ],
            "image/png": "[encoded data removed]"
          },
          "metadata": {}
        },
        {
          "output_type": "stream",
          "name": "stdout",
          "text": [
            "{'degree': 4, 'kernel': 'poly'}\n"
          ]
        },
        {
          "output_type": "execute_result",
          "data": {
            "text/plain": [
              "(0.6741755070481915, 0.6745106717929293)"
            ]
          },
          "metadata": {},
          "execution_count": 65
        }
      ]
    },
    {
      "cell_type": "markdown",
      "source": [
        "#BiLSTM"
      ],
      "metadata": {
        "id": "jGZ44XimC0cG"
      }
    },
    {
      "cell_type": "code",
      "source": [
        "import random\n",
        "import tensorflow as tf \n",
        "from tensorflow import keras \n",
        "from tensorflow.keras import layers\n",
        "from sklearn.metrics import ConfusionMatrixDisplay\n",
        "from tensorflow.keras.layers import Dropout\n",
        "from tensorflow.keras import regularizers\n",
        "from sklearn.model_selection import StratifiedKFold"
      ],
      "metadata": {
        "id": "CX6xcxLlC1r-"
      },
      "execution_count": null,
      "outputs": []
    },
    {
      "cell_type": "code",
      "source": [
        "def create_blstm_model(train_texts):\n",
        "\n",
        "  vectorize_layer = layers.TextVectorization(max_tokens=50000, output_sequence_length=2000)\n",
        "\n",
        "  vectorize_layer.adapt(train_texts)\n",
        "\n",
        "  embedding_layer = layers.Embedding(input_dim=50000, output_dim=100, input_length=2000)\n",
        "\n",
        "  model = tf.keras.models.Sequential()\n",
        "  model.add(tf.keras.Input(shape=(1,), dtype=tf.string))\n",
        "  model.add(vectorize_layer)\n",
        "  model.add(embedding_layer)\n",
        "\n",
        "  model.add(layers.Bidirectional(layers.LSTM(40, bias_regularizer=regularizers.L2(1e-2), kernel_regularizer=regularizers.L1L2(l1=1e-3, l2=1e-3), activity_regularizer=regularizers.L2(1e-2))))\n",
        "  model.add(Dropout(0.2))\n",
        "  model.add(layers.Dense(3, activation='softmax'))\n",
        "\n",
        "\n",
        "  model.compile(optimizer=keras.optimizers.Adam(),\n",
        "                loss='sparse_categorical_crossentropy',\n",
        "                metrics=['accuracy'])  \n",
        "  print(model.summary())\n",
        "  \n",
        "  return model"
      ],
      "metadata": {
        "id": "IkdV5yTWC60G"
      },
      "execution_count": null,
      "outputs": []
    },
    {
      "cell_type": "markdown",
      "source": [
        "# Cross Validation"
      ],
      "metadata": {
        "id": "Db9VyOtcaepj"
      }
    },
    {
      "cell_type": "code",
      "source": [
        "def cv_blstm():\n",
        "\n",
        "  kf = StratifiedKFold(10, shuffle=True, random_state=42) \n",
        "  cv_metrics = pd.DataFrame(columns = ['Recall', 'Precision', 'F1 score', 'F2 score'])\n",
        "\n",
        "  fold = 0\n",
        "\n",
        "  X = augmented_dataset['text'].values\n",
        "  Y = augmented_dataset['label'].values\n",
        "\n",
        "  for train, val in kf.split(X, Y):  \n",
        "  \n",
        "    print(f\"Fold {fold}\")\n",
        "\n",
        "    train_texts = X[train]\n",
        "    train_labels = Y[train]\n",
        "    test_texts = X[val]\n",
        "    test_labels = Y[val]\n",
        "\n",
        "    blstm_model = create_blstm_model(train_texts)\n",
        "\n",
        "    history = blstm_model.fit(train_texts,\n",
        "                              train_labels,\n",
        "                              epochs=10,\n",
        "                              batch_size=16,\n",
        "                              validation_data=(test_texts, test_labels))\n",
        "\n",
        "    blstm_model.evaluate(test_texts, test_labels)\n",
        "    y_pred = np.round(blstm_model.predict(test_texts))\n",
        "    y_pred = np.argmax(y_pred, axis=1)\n",
        "\n",
        "    f1_sc = f1_score(test_labels, y_pred, average='macro')\n",
        "    f2score = fbeta_score(test_labels, y_pred, beta=2, average='macro')\n",
        "\n",
        "    cv_metrics.loc[fold, 'Recall'] = recall_score(test_labels, y_pred, average='macro')\n",
        "    cv_metrics.loc[fold, 'Precision'] = precision_score(test_labels, y_pred, average='macro')\n",
        "    cv_metrics.loc[fold, 'F1 score'] = f1_sc\n",
        "    cv_metrics.loc[fold, 'F2 score'] = f2score\n",
        "    \n",
        "    fold += 1\n",
        "\n",
        "  return cv_metrics"
      ],
      "metadata": {
        "id": "bRIOQfXtafA8"
      },
      "execution_count": null,
      "outputs": []
    },
    {
      "cell_type": "code",
      "source": [
        "cv_results = cv_blstm()"
      ],
      "metadata": {
        "id": "rhKRLkzzafY6",
        "colab": {
          "base_uri": "https://localhost:8080/"
        },
        "outputId": "c5cbd901-51b5-4ab6-ef52-62dd7adcef28"
      },
      "execution_count": null,
      "outputs": [
        {
          "output_type": "stream",
          "name": "stdout",
          "text": [
            "Fold 0\n",
            "Model: \"sequential\"\n",
            "_________________________________________________________________\n",
            " Layer (type)                Output Shape              Param #   \n",
            "=================================================================\n",
            " text_vectorization (TextVec  (None, 2000)             0         \n",
            " torization)                                                     \n",
            "                                                                 \n",
            " embedding (Embedding)       (None, 2000, 100)         5000000   \n",
            "                                                                 \n",
            " bidirectional (Bidirectiona  (None, 80)               45120     \n",
            " l)                                                              \n",
            "                                                                 \n",
            " dropout (Dropout)           (None, 80)                0         \n",
            "                                                                 \n",
            " dense (Dense)               (None, 3)                 243       \n",
            "                                                                 \n",
            "=================================================================\n",
            "Total params: 5,045,363\n",
            "Trainable params: 5,045,363\n",
            "Non-trainable params: 0\n",
            "_________________________________________________________________\n",
            "None\n",
            "Epoch 1/10\n",
            "70/70 [==============================] - 32s 322ms/step - loss: 3.3533 - accuracy: 0.5510 - val_loss: 2.3877 - val_accuracy: 0.7097\n",
            "Epoch 2/10\n",
            "70/70 [==============================] - 21s 305ms/step - loss: 1.7707 - accuracy: 0.7931 - val_loss: 1.3444 - val_accuracy: 0.8145\n",
            "Epoch 3/10\n",
            "70/70 [==============================] - 20s 288ms/step - loss: 1.1544 - accuracy: 0.8790 - val_loss: 1.2906 - val_accuracy: 0.7984\n",
            "Epoch 4/10\n",
            "70/70 [==============================] - 18s 262ms/step - loss: 0.9211 - accuracy: 0.9214 - val_loss: 0.9508 - val_accuracy: 0.8790\n",
            "Epoch 5/10\n",
            "70/70 [==============================] - 19s 273ms/step - loss: 0.8143 - accuracy: 0.9359 - val_loss: 0.9127 - val_accuracy: 0.8871\n",
            "Epoch 6/10\n",
            "70/70 [==============================] - 17s 237ms/step - loss: 0.6840 - accuracy: 0.9458 - val_loss: 0.8311 - val_accuracy: 0.8710\n",
            "Epoch 7/10\n",
            "70/70 [==============================] - 17s 249ms/step - loss: 0.5871 - accuracy: 0.9557 - val_loss: 0.6371 - val_accuracy: 0.9194\n",
            "Epoch 8/10\n",
            "70/70 [==============================] - 17s 236ms/step - loss: 0.5383 - accuracy: 0.9548 - val_loss: 0.6381 - val_accuracy: 0.9113\n",
            "Epoch 9/10\n",
            "70/70 [==============================] - 18s 253ms/step - loss: 0.4637 - accuracy: 0.9593 - val_loss: 0.5416 - val_accuracy: 0.9194\n",
            "Epoch 10/10\n",
            "70/70 [==============================] - 16s 232ms/step - loss: 0.4046 - accuracy: 0.9603 - val_loss: 0.4848 - val_accuracy: 0.9194\n",
            "4/4 [==============================] - 0s 76ms/step - loss: 0.4848 - accuracy: 0.9194\n",
            "4/4 [==============================] - 1s 53ms/step\n",
            "Fold 1\n",
            "Model: \"sequential_1\"\n",
            "_________________________________________________________________\n",
            " Layer (type)                Output Shape              Param #   \n",
            "=================================================================\n",
            " text_vectorization_1 (TextV  (None, 2000)             0         \n",
            " ectorization)                                                   \n",
            "                                                                 \n",
            " embedding_1 (Embedding)     (None, 2000, 100)         5000000   \n",
            "                                                                 \n",
            " bidirectional_1 (Bidirectio  (None, 80)               45120     \n",
            " nal)                                                            \n",
            "                                                                 \n",
            " dropout_1 (Dropout)         (None, 80)                0         \n",
            "                                                                 \n",
            " dense_1 (Dense)             (None, 3)                 243       \n",
            "                                                                 \n",
            "=================================================================\n",
            "Total params: 5,045,363\n",
            "Trainable params: 5,045,363\n",
            "Non-trainable params: 0\n",
            "_________________________________________________________________\n",
            "None\n",
            "Epoch 1/10\n",
            "70/70 [==============================] - 24s 288ms/step - loss: 3.3735 - accuracy: 0.5632 - val_loss: 2.3870 - val_accuracy: 0.6179\n",
            "Epoch 2/10\n",
            "70/70 [==============================] - 18s 261ms/step - loss: 1.7616 - accuracy: 0.7347 - val_loss: 1.4006 - val_accuracy: 0.7398\n",
            "Epoch 3/10\n",
            "70/70 [==============================] - 18s 257ms/step - loss: 1.0215 - accuracy: 0.9179 - val_loss: 1.1311 - val_accuracy: 0.8049\n",
            "Epoch 4/10\n",
            "70/70 [==============================] - 18s 257ms/step - loss: 0.8632 - accuracy: 0.9404 - val_loss: 1.0382 - val_accuracy: 0.8130\n",
            "Epoch 5/10\n",
            "70/70 [==============================] - 17s 239ms/step - loss: 0.7775 - accuracy: 0.9269 - val_loss: 0.9697 - val_accuracy: 0.8293\n",
            "Epoch 6/10\n",
            "70/70 [==============================] - 16s 232ms/step - loss: 0.6393 - accuracy: 0.9639 - val_loss: 0.9968 - val_accuracy: 0.7805\n",
            "Epoch 7/10\n",
            "70/70 [==============================] - 17s 246ms/step - loss: 0.5575 - accuracy: 0.9666 - val_loss: 0.8987 - val_accuracy: 0.8130\n",
            "Epoch 8/10\n",
            "70/70 [==============================] - 18s 254ms/step - loss: 0.4878 - accuracy: 0.9675 - val_loss: 0.8368 - val_accuracy: 0.7886\n",
            "Epoch 9/10\n",
            "70/70 [==============================] - 15s 222ms/step - loss: 0.4319 - accuracy: 0.9675 - val_loss: 0.7259 - val_accuracy: 0.8130\n",
            "Epoch 10/10\n",
            "70/70 [==============================] - 15s 213ms/step - loss: 0.3870 - accuracy: 0.9702 - val_loss: 0.7367 - val_accuracy: 0.8211\n",
            "4/4 [==============================] - 0s 76ms/step - loss: 0.7367 - accuracy: 0.8211\n",
            "4/4 [==============================] - 1s 53ms/step\n",
            "Fold 2\n",
            "Model: \"sequential_2\"\n",
            "_________________________________________________________________\n",
            " Layer (type)                Output Shape              Param #   \n",
            "=================================================================\n",
            " text_vectorization_2 (TextV  (None, 2000)             0         \n",
            " ectorization)                                                   \n",
            "                                                                 \n",
            " embedding_2 (Embedding)     (None, 2000, 100)         5000000   \n",
            "                                                                 \n",
            " bidirectional_2 (Bidirectio  (None, 80)               45120     \n",
            " nal)                                                            \n",
            "                                                                 \n",
            " dropout_2 (Dropout)         (None, 80)                0         \n",
            "                                                                 \n",
            " dense_2 (Dense)             (None, 3)                 243       \n",
            "                                                                 \n",
            "=================================================================\n",
            "Total params: 5,045,363\n",
            "Trainable params: 5,045,363\n",
            "Non-trainable params: 0\n",
            "_________________________________________________________________\n",
            "None\n",
            "Epoch 1/10\n",
            "70/70 [==============================] - 23s 282ms/step - loss: 3.3497 - accuracy: 0.5749 - val_loss: 2.3173 - val_accuracy: 0.5935\n",
            "Epoch 2/10\n",
            "70/70 [==============================] - 18s 250ms/step - loss: 1.7424 - accuracy: 0.6886 - val_loss: 1.3935 - val_accuracy: 0.6585\n",
            "Epoch 3/10\n",
            "70/70 [==============================] - 17s 249ms/step - loss: 1.1635 - accuracy: 0.8547 - val_loss: 1.2604 - val_accuracy: 0.8374\n",
            "Epoch 4/10\n",
            "70/70 [==============================] - 16s 230ms/step - loss: 0.9699 - accuracy: 0.9206 - val_loss: 1.0482 - val_accuracy: 0.8537\n",
            "Epoch 5/10\n",
            "70/70 [==============================] - 17s 240ms/step - loss: 0.9058 - accuracy: 0.9296 - val_loss: 0.9881 - val_accuracy: 0.8455\n",
            "Epoch 6/10\n",
            "70/70 [==============================] - 16s 223ms/step - loss: 0.7353 - accuracy: 0.9486 - val_loss: 0.9277 - val_accuracy: 0.8455\n",
            "Epoch 7/10\n",
            "70/70 [==============================] - 15s 216ms/step - loss: 0.6462 - accuracy: 0.9621 - val_loss: 0.8354 - val_accuracy: 0.8780\n",
            "Epoch 8/10\n",
            "70/70 [==============================] - 15s 207ms/step - loss: 0.5856 - accuracy: 0.9612 - val_loss: 0.7649 - val_accuracy: 0.8780\n",
            "Epoch 9/10\n",
            "70/70 [==============================] - 16s 224ms/step - loss: 0.5323 - accuracy: 0.9621 - val_loss: 0.7200 - val_accuracy: 0.8780\n",
            "Epoch 10/10\n",
            "70/70 [==============================] - 15s 218ms/step - loss: 0.4827 - accuracy: 0.9657 - val_loss: 0.6892 - val_accuracy: 0.8780\n",
            "4/4 [==============================] - 0s 51ms/step - loss: 0.6892 - accuracy: 0.8780\n",
            "4/4 [==============================] - 1s 51ms/step\n",
            "Fold 3\n",
            "Model: \"sequential_3\"\n",
            "_________________________________________________________________\n",
            " Layer (type)                Output Shape              Param #   \n",
            "=================================================================\n",
            " text_vectorization_3 (TextV  (None, 2000)             0         \n",
            " ectorization)                                                   \n",
            "                                                                 \n",
            " embedding_3 (Embedding)     (None, 2000, 100)         5000000   \n",
            "                                                                 \n",
            " bidirectional_3 (Bidirectio  (None, 80)               45120     \n",
            " nal)                                                            \n",
            "                                                                 \n",
            " dropout_3 (Dropout)         (None, 80)                0         \n",
            "                                                                 \n",
            " dense_3 (Dense)             (None, 3)                 243       \n",
            "                                                                 \n",
            "=================================================================\n",
            "Total params: 5,045,363\n",
            "Trainable params: 5,045,363\n",
            "Non-trainable params: 0\n",
            "_________________________________________________________________\n",
            "None\n",
            "Epoch 1/10\n",
            "70/70 [==============================] - 22s 268ms/step - loss: 3.3813 - accuracy: 0.5623 - val_loss: 2.3836 - val_accuracy: 0.5447\n",
            "Epoch 2/10\n",
            "70/70 [==============================] - 18s 260ms/step - loss: 1.8256 - accuracy: 0.6904 - val_loss: 1.3978 - val_accuracy: 0.7886\n",
            "Epoch 3/10\n",
            "70/70 [==============================] - 17s 245ms/step - loss: 1.1184 - accuracy: 0.9034 - val_loss: 1.0798 - val_accuracy: 0.8537\n",
            "Epoch 4/10\n",
            "70/70 [==============================] - 17s 240ms/step - loss: 0.8471 - accuracy: 0.9513 - val_loss: 0.9179 - val_accuracy: 0.8618\n",
            "Epoch 5/10\n",
            "70/70 [==============================] - 17s 241ms/step - loss: 0.7061 - accuracy: 0.9594 - val_loss: 0.9913 - val_accuracy: 0.8374\n",
            "Epoch 6/10\n",
            "70/70 [==============================] - 16s 232ms/step - loss: 0.6391 - accuracy: 0.9585 - val_loss: 0.8935 - val_accuracy: 0.8537\n",
            "Epoch 7/10\n",
            "70/70 [==============================] - 15s 212ms/step - loss: 0.5629 - accuracy: 0.9630 - val_loss: 0.7948 - val_accuracy: 0.8699\n",
            "Epoch 8/10\n",
            "70/70 [==============================] - 17s 241ms/step - loss: 0.5081 - accuracy: 0.9612 - val_loss: 0.7374 - val_accuracy: 0.8374\n",
            "Epoch 9/10\n",
            "70/70 [==============================] - 15s 209ms/step - loss: 0.4545 - accuracy: 0.9603 - val_loss: 0.7369 - val_accuracy: 0.8618\n",
            "Epoch 10/10\n",
            "70/70 [==============================] - 13s 192ms/step - loss: 0.3981 - accuracy: 0.9639 - val_loss: 0.5802 - val_accuracy: 0.8699\n",
            "4/4 [==============================] - 0s 74ms/step - loss: 0.5802 - accuracy: 0.8699\n",
            "4/4 [==============================] - 1s 52ms/step\n",
            "Fold 4\n",
            "Model: \"sequential_4\"\n",
            "_________________________________________________________________\n",
            " Layer (type)                Output Shape              Param #   \n",
            "=================================================================\n",
            " text_vectorization_4 (TextV  (None, 2000)             0         \n",
            " ectorization)                                                   \n",
            "                                                                 \n",
            " embedding_4 (Embedding)     (None, 2000, 100)         5000000   \n",
            "                                                                 \n",
            " bidirectional_4 (Bidirectio  (None, 80)               45120     \n",
            " nal)                                                            \n",
            "                                                                 \n",
            " dropout_4 (Dropout)         (None, 80)                0         \n",
            "                                                                 \n",
            " dense_4 (Dense)             (None, 3)                 243       \n",
            "                                                                 \n",
            "=================================================================\n",
            "Total params: 5,045,363\n",
            "Trainable params: 5,045,363\n",
            "Non-trainable params: 0\n",
            "_________________________________________________________________\n",
            "None\n",
            "Epoch 1/10\n",
            "70/70 [==============================] - 23s 269ms/step - loss: 3.3765 - accuracy: 0.5442 - val_loss: 2.3937 - val_accuracy: 0.6504\n",
            "Epoch 2/10\n",
            "70/70 [==============================] - 17s 241ms/step - loss: 1.7276 - accuracy: 0.8005 - val_loss: 1.2779 - val_accuracy: 0.8455\n",
            "Epoch 3/10\n",
            "70/70 [==============================] - 17s 240ms/step - loss: 0.9869 - accuracy: 0.9359 - val_loss: 1.0455 - val_accuracy: 0.8780\n",
            "Epoch 4/10\n",
            "70/70 [==============================] - 16s 225ms/step - loss: 0.8499 - accuracy: 0.9495 - val_loss: 0.8737 - val_accuracy: 0.8943\n",
            "Epoch 5/10\n",
            "70/70 [==============================] - 15s 210ms/step - loss: 0.7164 - accuracy: 0.9540 - val_loss: 0.8503 - val_accuracy: 0.9024\n",
            "Epoch 6/10\n",
            "70/70 [==============================] - 15s 220ms/step - loss: 0.6440 - accuracy: 0.9621 - val_loss: 0.6914 - val_accuracy: 0.9106\n",
            "Epoch 7/10\n",
            "70/70 [==============================] - 15s 216ms/step - loss: 0.5395 - accuracy: 0.9612 - val_loss: 0.6383 - val_accuracy: 0.9187\n",
            "Epoch 8/10\n",
            "70/70 [==============================] - 15s 210ms/step - loss: 0.5342 - accuracy: 0.9603 - val_loss: 0.6711 - val_accuracy: 0.9106\n",
            "Epoch 9/10\n",
            "70/70 [==============================] - 14s 205ms/step - loss: 0.4727 - accuracy: 0.9513 - val_loss: 0.5705 - val_accuracy: 0.9187\n",
            "Epoch 10/10\n",
            "70/70 [==============================] - 14s 204ms/step - loss: 0.4352 - accuracy: 0.9549 - val_loss: 0.7282 - val_accuracy: 0.8293\n",
            "4/4 [==============================] - 0s 48ms/step - loss: 0.7282 - accuracy: 0.8293\n",
            "4/4 [==============================] - 1s 46ms/step\n",
            "Fold 5\n",
            "Model: \"sequential_5\"\n",
            "_________________________________________________________________\n",
            " Layer (type)                Output Shape              Param #   \n",
            "=================================================================\n",
            " text_vectorization_5 (TextV  (None, 2000)             0         \n",
            " ectorization)                                                   \n",
            "                                                                 \n",
            " embedding_5 (Embedding)     (None, 2000, 100)         5000000   \n",
            "                                                                 \n",
            " bidirectional_5 (Bidirectio  (None, 80)               45120     \n",
            " nal)                                                            \n",
            "                                                                 \n",
            " dropout_5 (Dropout)         (None, 80)                0         \n",
            "                                                                 \n",
            " dense_5 (Dense)             (None, 3)                 243       \n",
            "                                                                 \n",
            "=================================================================\n",
            "Total params: 5,045,363\n",
            "Trainable params: 5,045,363\n",
            "Non-trainable params: 0\n",
            "_________________________________________________________________\n",
            "None\n",
            "Epoch 1/10\n",
            "70/70 [==============================] - 22s 264ms/step - loss: 3.3848 - accuracy: 0.5451 - val_loss: 2.4011 - val_accuracy: 0.5366\n",
            "Epoch 2/10\n",
            "70/70 [==============================] - 16s 233ms/step - loss: 1.8573 - accuracy: 0.7139 - val_loss: 1.4573 - val_accuracy: 0.7561\n",
            "Epoch 3/10\n",
            "70/70 [==============================] - 17s 246ms/step - loss: 1.1224 - accuracy: 0.9007 - val_loss: 1.1424 - val_accuracy: 0.8537\n",
            "Epoch 4/10\n",
            "70/70 [==============================] - 15s 220ms/step - loss: 0.8412 - accuracy: 0.9431 - val_loss: 0.8184 - val_accuracy: 0.9593\n",
            "Epoch 5/10\n",
            "70/70 [==============================] - 15s 217ms/step - loss: 0.6915 - accuracy: 0.9576 - val_loss: 0.7671 - val_accuracy: 0.9187\n",
            "Epoch 6/10\n",
            "70/70 [==============================] - 16s 223ms/step - loss: 0.5974 - accuracy: 0.9585 - val_loss: 0.6176 - val_accuracy: 0.9350\n",
            "Epoch 7/10\n",
            "70/70 [==============================] - 15s 214ms/step - loss: 0.5443 - accuracy: 0.9621 - val_loss: 0.6105 - val_accuracy: 0.9512\n",
            "Epoch 8/10\n",
            "70/70 [==============================] - 15s 213ms/step - loss: 0.5300 - accuracy: 0.9594 - val_loss: 0.6181 - val_accuracy: 0.9106\n",
            "Epoch 9/10\n",
            "70/70 [==============================] - 14s 207ms/step - loss: 0.4395 - accuracy: 0.9639 - val_loss: 0.5186 - val_accuracy: 0.9268\n",
            "Epoch 10/10\n",
            "70/70 [==============================] - 14s 202ms/step - loss: 0.3841 - accuracy: 0.9639 - val_loss: 0.4278 - val_accuracy: 0.9431\n",
            "4/4 [==============================] - 0s 51ms/step - loss: 0.4278 - accuracy: 0.9431\n",
            "4/4 [==============================] - 1s 47ms/step\n",
            "Fold 6\n",
            "Model: \"sequential_6\"\n",
            "_________________________________________________________________\n",
            " Layer (type)                Output Shape              Param #   \n",
            "=================================================================\n",
            " text_vectorization_6 (TextV  (None, 2000)             0         \n",
            " ectorization)                                                   \n",
            "                                                                 \n",
            " embedding_6 (Embedding)     (None, 2000, 100)         5000000   \n",
            "                                                                 \n",
            " bidirectional_6 (Bidirectio  (None, 80)               45120     \n",
            " nal)                                                            \n",
            "                                                                 \n",
            " dropout_6 (Dropout)         (None, 80)                0         \n",
            "                                                                 \n",
            " dense_6 (Dense)             (None, 3)                 243       \n",
            "                                                                 \n",
            "=================================================================\n",
            "Total params: 5,045,363\n",
            "Trainable params: 5,045,363\n",
            "Non-trainable params: 0\n",
            "_________________________________________________________________\n",
            "None\n",
            "Epoch 1/10\n",
            "70/70 [==============================] - 22s 266ms/step - loss: 3.3621 - accuracy: 0.5785 - val_loss: 2.4271 - val_accuracy: 0.5528\n",
            "Epoch 2/10\n",
            "70/70 [==============================] - 16s 234ms/step - loss: 1.7553 - accuracy: 0.7708 - val_loss: 1.3688 - val_accuracy: 0.7805\n",
            "Epoch 3/10\n",
            "70/70 [==============================] - 16s 229ms/step - loss: 1.0416 - accuracy: 0.9143 - val_loss: 1.0531 - val_accuracy: 0.8699\n",
            "Epoch 4/10\n",
            "70/70 [==============================] - 16s 230ms/step - loss: 0.8437 - accuracy: 0.9296 - val_loss: 0.9798 - val_accuracy: 0.8537\n",
            "Epoch 5/10\n",
            "70/70 [==============================] - 16s 224ms/step - loss: 0.7396 - accuracy: 0.9477 - val_loss: 0.8529 - val_accuracy: 0.8618\n",
            "Epoch 6/10\n",
            "70/70 [==============================] - 15s 217ms/step - loss: 0.6045 - accuracy: 0.9630 - val_loss: 0.6932 - val_accuracy: 0.9024\n",
            "Epoch 7/10\n",
            "70/70 [==============================] - 15s 213ms/step - loss: 0.5317 - accuracy: 0.9567 - val_loss: 0.5416 - val_accuracy: 0.9431\n",
            "Epoch 8/10\n",
            "70/70 [==============================] - 14s 203ms/step - loss: 0.4543 - accuracy: 0.9621 - val_loss: 0.4829 - val_accuracy: 0.9350\n",
            "Epoch 9/10\n",
            "70/70 [==============================] - 13s 193ms/step - loss: 0.3974 - accuracy: 0.9630 - val_loss: 0.5103 - val_accuracy: 0.9106\n",
            "Epoch 10/10\n",
            "70/70 [==============================] - 13s 181ms/step - loss: 0.3597 - accuracy: 0.9603 - val_loss: 0.5270 - val_accuracy: 0.9187\n",
            "4/4 [==============================] - 0s 50ms/step - loss: 0.5270 - accuracy: 0.9187\n",
            "4/4 [==============================] - 1s 46ms/step\n",
            "Fold 7\n",
            "Model: \"sequential_7\"\n",
            "_________________________________________________________________\n",
            " Layer (type)                Output Shape              Param #   \n",
            "=================================================================\n",
            " text_vectorization_7 (TextV  (None, 2000)             0         \n",
            " ectorization)                                                   \n",
            "                                                                 \n",
            " embedding_7 (Embedding)     (None, 2000, 100)         5000000   \n",
            "                                                                 \n",
            " bidirectional_7 (Bidirectio  (None, 80)               45120     \n",
            " nal)                                                            \n",
            "                                                                 \n",
            " dropout_7 (Dropout)         (None, 80)                0         \n",
            "                                                                 \n",
            " dense_7 (Dense)             (None, 3)                 243       \n",
            "                                                                 \n",
            "=================================================================\n",
            "Total params: 5,045,363\n",
            "Trainable params: 5,045,363\n",
            "Non-trainable params: 0\n",
            "_________________________________________________________________\n",
            "None\n",
            "Epoch 1/10\n",
            "70/70 [==============================] - 22s 259ms/step - loss: 3.3478 - accuracy: 0.5848 - val_loss: 2.4587 - val_accuracy: 0.5610\n",
            "Epoch 2/10\n",
            "70/70 [==============================] - 16s 234ms/step - loss: 1.7246 - accuracy: 0.7708 - val_loss: 1.3609 - val_accuracy: 0.7724\n",
            "Epoch 3/10\n",
            "70/70 [==============================] - 16s 224ms/step - loss: 0.9871 - accuracy: 0.9359 - val_loss: 0.9808 - val_accuracy: 0.8862\n",
            "Epoch 4/10\n",
            "70/70 [==============================] - 16s 231ms/step - loss: 0.7742 - accuracy: 0.9585 - val_loss: 0.8932 - val_accuracy: 0.8618\n",
            "Epoch 5/10\n",
            "70/70 [==============================] - 16s 223ms/step - loss: 0.6665 - accuracy: 0.9630 - val_loss: 0.7811 - val_accuracy: 0.8943\n",
            "Epoch 6/10\n",
            "70/70 [==============================] - 14s 197ms/step - loss: 0.5895 - accuracy: 0.9648 - val_loss: 0.7187 - val_accuracy: 0.8862\n",
            "Epoch 7/10\n",
            "70/70 [==============================] - 15s 214ms/step - loss: 0.5132 - accuracy: 0.9639 - val_loss: 0.7038 - val_accuracy: 0.8862\n",
            "Epoch 8/10\n",
            "70/70 [==============================] - 14s 195ms/step - loss: 0.4631 - accuracy: 0.9621 - val_loss: 0.5200 - val_accuracy: 0.9187\n",
            "Epoch 9/10\n",
            "70/70 [==============================] - 13s 183ms/step - loss: 0.4081 - accuracy: 0.9657 - val_loss: 0.4788 - val_accuracy: 0.9187\n",
            "Epoch 10/10\n",
            "70/70 [==============================] - 13s 189ms/step - loss: 0.3767 - accuracy: 0.9702 - val_loss: 0.4813 - val_accuracy: 0.9106\n",
            "4/4 [==============================] - 0s 81ms/step - loss: 0.4813 - accuracy: 0.9106\n",
            "4/4 [==============================] - 1s 54ms/step\n",
            "Fold 8\n",
            "Model: \"sequential_8\"\n",
            "_________________________________________________________________\n",
            " Layer (type)                Output Shape              Param #   \n",
            "=================================================================\n",
            " text_vectorization_8 (TextV  (None, 2000)             0         \n",
            " ectorization)                                                   \n",
            "                                                                 \n",
            " embedding_8 (Embedding)     (None, 2000, 100)         5000000   \n",
            "                                                                 \n",
            " bidirectional_8 (Bidirectio  (None, 80)               45120     \n",
            " nal)                                                            \n",
            "                                                                 \n",
            " dropout_8 (Dropout)         (None, 80)                0         \n",
            "                                                                 \n",
            " dense_8 (Dense)             (None, 3)                 243       \n",
            "                                                                 \n",
            "=================================================================\n",
            "Total params: 5,045,363\n",
            "Trainable params: 5,045,363\n",
            "Non-trainable params: 0\n",
            "_________________________________________________________________\n",
            "None\n",
            "Epoch 1/10\n",
            "70/70 [==============================] - 22s 259ms/step - loss: 3.3682 - accuracy: 0.5722 - val_loss: 2.2519 - val_accuracy: 0.7480\n",
            "Epoch 2/10\n",
            "70/70 [==============================] - 16s 236ms/step - loss: 1.7107 - accuracy: 0.8258 - val_loss: 1.3609 - val_accuracy: 0.8537\n",
            "Epoch 3/10\n",
            "70/70 [==============================] - 16s 232ms/step - loss: 1.1015 - accuracy: 0.9287 - val_loss: 1.0636 - val_accuracy: 0.8943\n",
            "Epoch 4/10\n",
            "70/70 [==============================] - 15s 207ms/step - loss: 0.9062 - accuracy: 0.9323 - val_loss: 0.9465 - val_accuracy: 0.9268\n",
            "Epoch 5/10\n",
            "70/70 [==============================] - 16s 228ms/step - loss: 0.7974 - accuracy: 0.9359 - val_loss: 0.8894 - val_accuracy: 0.9268\n",
            "Epoch 6/10\n",
            "70/70 [==============================] - 15s 211ms/step - loss: 0.7162 - accuracy: 0.9341 - val_loss: 0.8617 - val_accuracy: 0.9106\n",
            "Epoch 7/10\n",
            "70/70 [==============================] - 15s 220ms/step - loss: 0.6387 - accuracy: 0.9377 - val_loss: 0.7810 - val_accuracy: 0.9187\n",
            "Epoch 8/10\n",
            "70/70 [==============================] - 14s 197ms/step - loss: 0.5624 - accuracy: 0.9558 - val_loss: 0.7378 - val_accuracy: 0.9187\n",
            "Epoch 9/10\n",
            "70/70 [==============================] - 13s 190ms/step - loss: 0.5235 - accuracy: 0.9585 - val_loss: 1.0062 - val_accuracy: 0.7317\n",
            "Epoch 10/10\n",
            "70/70 [==============================] - 13s 189ms/step - loss: 0.5085 - accuracy: 0.9458 - val_loss: 0.6649 - val_accuracy: 0.9024\n",
            "4/4 [==============================] - 0s 49ms/step - loss: 0.6649 - accuracy: 0.9024\n",
            "4/4 [==============================] - 1s 46ms/step\n",
            "Fold 9\n",
            "Model: \"sequential_9\"\n",
            "_________________________________________________________________\n",
            " Layer (type)                Output Shape              Param #   \n",
            "=================================================================\n",
            " text_vectorization_9 (TextV  (None, 2000)             0         \n",
            " ectorization)                                                   \n",
            "                                                                 \n",
            " embedding_9 (Embedding)     (None, 2000, 100)         5000000   \n",
            "                                                                 \n",
            " bidirectional_9 (Bidirectio  (None, 80)               45120     \n",
            " nal)                                                            \n",
            "                                                                 \n",
            " dropout_9 (Dropout)         (None, 80)                0         \n",
            "                                                                 \n",
            " dense_9 (Dense)             (None, 3)                 243       \n",
            "                                                                 \n",
            "=================================================================\n",
            "Total params: 5,045,363\n",
            "Trainable params: 5,045,363\n",
            "Non-trainable params: 0\n",
            "_________________________________________________________________\n",
            "None\n",
            "Epoch 1/10\n",
            "70/70 [==============================] - 23s 263ms/step - loss: 3.3805 - accuracy: 0.5614 - val_loss: 2.3514 - val_accuracy: 0.5610\n",
            "Epoch 2/10\n",
            "70/70 [==============================] - 17s 245ms/step - loss: 1.7132 - accuracy: 0.8014 - val_loss: 1.3657 - val_accuracy: 0.7967\n",
            "Epoch 3/10\n",
            "70/70 [==============================] - 17s 237ms/step - loss: 1.0765 - accuracy: 0.9116 - val_loss: 1.0578 - val_accuracy: 0.8943\n",
            "Epoch 4/10\n",
            "70/70 [==============================] - 15s 217ms/step - loss: 0.8692 - accuracy: 0.9404 - val_loss: 0.9130 - val_accuracy: 0.8862\n",
            "Epoch 5/10\n",
            "70/70 [==============================] - 15s 211ms/step - loss: 0.7645 - accuracy: 0.9531 - val_loss: 0.7637 - val_accuracy: 0.9350\n",
            "Epoch 6/10\n",
            "70/70 [==============================] - 16s 221ms/step - loss: 0.6649 - accuracy: 0.9612 - val_loss: 0.7340 - val_accuracy: 0.9268\n",
            "Epoch 7/10\n",
            "70/70 [==============================] - 14s 197ms/step - loss: 0.5813 - accuracy: 0.9576 - val_loss: 0.6141 - val_accuracy: 0.9268\n",
            "Epoch 8/10\n",
            "70/70 [==============================] - 14s 196ms/step - loss: 0.5402 - accuracy: 0.9612 - val_loss: 0.5954 - val_accuracy: 0.9268\n",
            "Epoch 9/10\n",
            "70/70 [==============================] - 14s 193ms/step - loss: 0.4773 - accuracy: 0.9630 - val_loss: 0.5285 - val_accuracy: 0.9350\n",
            "Epoch 10/10\n",
            "70/70 [==============================] - 14s 193ms/step - loss: 0.4250 - accuracy: 0.9603 - val_loss: 0.4770 - val_accuracy: 0.9187\n",
            "4/4 [==============================] - 0s 84ms/step - loss: 0.4770 - accuracy: 0.9187\n",
            "4/4 [==============================] - 1s 56ms/step\n"
          ]
        }
      ]
    },
    {
      "cell_type": "code",
      "source": [
        "cv_results"
      ],
      "metadata": {
        "id": "St8Wi5pVafr_",
        "colab": {
          "base_uri": "https://localhost:8080/",
          "height": 363
        },
        "outputId": "97168cea-c3c5-4d1e-ede3-1aa8be400b8c"
      },
      "execution_count": null,
      "outputs": [
        {
          "output_type": "execute_result",
          "data": {
            "text/plain": [
              "     Recall Precision  F1 score  F2 score\n",
              "0  0.922073  0.925813    0.9237  0.922665\n",
              "1  0.824329  0.843696  0.829972  0.825596\n",
              "2   0.87758  0.893781  0.882019  0.878451\n",
              "3  0.878571  0.889072   0.88057  0.878595\n",
              "4  0.846561  0.855371  0.837471  0.839235\n",
              "5  0.934127  0.940741  0.936465  0.934835\n",
              "6  0.885185  0.916667  0.889558  0.884035\n",
              "7  0.915344  0.915871   0.91553    0.9154\n",
              "8  0.911376  0.918972  0.913921  0.912092\n",
              "9  0.912698  0.917845  0.914623  0.913311"
            ],
            "text/html": [
              "\n",
              "  <div id=\"df-84aaf283-1cca-4a20-9977-5b0fe8bb9e61\">\n",
              "    <div class=\"colab-df-container\">\n",
              "      <div>\n",
              "<style scoped>\n",
              "    .dataframe tbody tr th:only-of-type {\n",
              "        vertical-align: middle;\n",
              "    }\n",
              "\n",
              "    .dataframe tbody tr th {\n",
              "        vertical-align: top;\n",
              "    }\n",
              "\n",
              "    .dataframe thead th {\n",
              "        text-align: right;\n",
              "    }\n",
              "</style>\n",
              "<table border=\"1\" class=\"dataframe\">\n",
              "  <thead>\n",
              "    <tr style=\"text-align: right;\">\n",
              "      <th></th>\n",
              "      <th>Recall</th>\n",
              "      <th>Precision</th>\n",
              "      <th>F1 score</th>\n",
              "      <th>F2 score</th>\n",
              "    </tr>\n",
              "  </thead>\n",
              "  <tbody>\n",
              "    <tr>\n",
              "      <th>0</th>\n",
              "      <td>0.922073</td>\n",
              "      <td>0.925813</td>\n",
              "      <td>0.9237</td>\n",
              "      <td>0.922665</td>\n",
              "    </tr>\n",
              "    <tr>\n",
              "      <th>1</th>\n",
              "      <td>0.824329</td>\n",
              "      <td>0.843696</td>\n",
              "      <td>0.829972</td>\n",
              "      <td>0.825596</td>\n",
              "    </tr>\n",
              "    <tr>\n",
              "      <th>2</th>\n",
              "      <td>0.87758</td>\n",
              "      <td>0.893781</td>\n",
              "      <td>0.882019</td>\n",
              "      <td>0.878451</td>\n",
              "    </tr>\n",
              "    <tr>\n",
              "      <th>3</th>\n",
              "      <td>0.878571</td>\n",
              "      <td>0.889072</td>\n",
              "      <td>0.88057</td>\n",
              "      <td>0.878595</td>\n",
              "    </tr>\n",
              "    <tr>\n",
              "      <th>4</th>\n",
              "      <td>0.846561</td>\n",
              "      <td>0.855371</td>\n",
              "      <td>0.837471</td>\n",
              "      <td>0.839235</td>\n",
              "    </tr>\n",
              "    <tr>\n",
              "      <th>5</th>\n",
              "      <td>0.934127</td>\n",
              "      <td>0.940741</td>\n",
              "      <td>0.936465</td>\n",
              "      <td>0.934835</td>\n",
              "    </tr>\n",
              "    <tr>\n",
              "      <th>6</th>\n",
              "      <td>0.885185</td>\n",
              "      <td>0.916667</td>\n",
              "      <td>0.889558</td>\n",
              "      <td>0.884035</td>\n",
              "    </tr>\n",
              "    <tr>\n",
              "      <th>7</th>\n",
              "      <td>0.915344</td>\n",
              "      <td>0.915871</td>\n",
              "      <td>0.91553</td>\n",
              "      <td>0.9154</td>\n",
              "    </tr>\n",
              "    <tr>\n",
              "      <th>8</th>\n",
              "      <td>0.911376</td>\n",
              "      <td>0.918972</td>\n",
              "      <td>0.913921</td>\n",
              "      <td>0.912092</td>\n",
              "    </tr>\n",
              "    <tr>\n",
              "      <th>9</th>\n",
              "      <td>0.912698</td>\n",
              "      <td>0.917845</td>\n",
              "      <td>0.914623</td>\n",
              "      <td>0.913311</td>\n",
              "    </tr>\n",
              "  </tbody>\n",
              "</table>\n",
              "</div>\n",
              "      <button class=\"colab-df-convert\" onclick=\"convertToInteractive('df-84aaf283-1cca-4a20-9977-5b0fe8bb9e61')\"\n",
              "              title=\"Convert this dataframe to an interactive table.\"\n",
              "              style=\"display:none;\">\n",
              "        \n",
              "  <svg xmlns=\"http://www.w3.org/2000/svg\" height=\"24px\"viewBox=\"0 0 24 24\"\n",
              "       width=\"24px\">\n",
              "    <path d=\"M0 0h24v24H0V0z\" fill=\"none\"/>\n",
              "    <path d=\"M18.56 5.44l.94 2.06.94-2.06 2.06-.94-2.06-.94-.94-2.06-.94 2.06-2.06.94zm-11 1L8.5 8.5l.94-2.06 2.06-.94-2.06-.94L8.5 2.5l-.94 2.06-2.06.94zm10 10l.94 2.06.94-2.06 2.06-.94-2.06-.94-.94-2.06-.94 2.06-2.06.94z\"/><path d=\"M17.41 7.96l-1.37-1.37c-.4-.4-.92-.59-1.43-.59-.52 0-1.04.2-1.43.59L10.3 9.45l-7.72 7.72c-.78.78-.78 2.05 0 2.83L4 21.41c.39.39.9.59 1.41.59.51 0 1.02-.2 1.41-.59l7.78-7.78 2.81-2.81c.8-.78.8-2.07 0-2.86zM5.41 20L4 18.59l7.72-7.72 1.47 1.35L5.41 20z\"/>\n",
              "  </svg>\n",
              "      </button>\n",
              "      \n",
              "  <style>\n",
              "    .colab-df-container {\n",
              "      display:flex;\n",
              "      flex-wrap:wrap;\n",
              "      gap: 12px;\n",
              "    }\n",
              "\n",
              "    .colab-df-convert {\n",
              "      background-color: #E8F0FE;\n",
              "      border: none;\n",
              "      border-radius: 50%;\n",
              "      cursor: pointer;\n",
              "      display: none;\n",
              "      fill: #1967D2;\n",
              "      height: 32px;\n",
              "      padding: 0 0 0 0;\n",
              "      width: 32px;\n",
              "    }\n",
              "\n",
              "    .colab-df-convert:hover {\n",
              "      background-color: #E2EBFA;\n",
              "      box-shadow: 0px 1px 2px rgba(60, 64, 67, 0.3), 0px 1px 3px 1px rgba(60, 64, 67, 0.15);\n",
              "      fill: #174EA6;\n",
              "    }\n",
              "\n",
              "    [theme=dark] .colab-df-convert {\n",
              "      background-color: #3B4455;\n",
              "      fill: #D2E3FC;\n",
              "    }\n",
              "\n",
              "    [theme=dark] .colab-df-convert:hover {\n",
              "      background-color: #434B5C;\n",
              "      box-shadow: 0px 1px 3px 1px rgba(0, 0, 0, 0.15);\n",
              "      filter: drop-shadow(0px 1px 2px rgba(0, 0, 0, 0.3));\n",
              "      fill: #FFFFFF;\n",
              "    }\n",
              "  </style>\n",
              "\n",
              "      <script>\n",
              "        const buttonEl =\n",
              "          document.querySelector('#df-84aaf283-1cca-4a20-9977-5b0fe8bb9e61 button.colab-df-convert');\n",
              "        buttonEl.style.display =\n",
              "          google.colab.kernel.accessAllowed ? 'block' : 'none';\n",
              "\n",
              "        async function convertToInteractive(key) {\n",
              "          const element = document.querySelector('#df-84aaf283-1cca-4a20-9977-5b0fe8bb9e61');\n",
              "          const dataTable =\n",
              "            await google.colab.kernel.invokeFunction('convertToInteractive',\n",
              "                                                     [key], {});\n",
              "          if (!dataTable) return;\n",
              "\n",
              "          const docLinkHtml = 'Like what you see? Visit the ' +\n",
              "            '<a target=\"_blank\" href=https://colab.research.google.com/notebooks/data_table.ipynb>data table notebook</a>'\n",
              "            + ' to learn more about interactive tables.';\n",
              "          element.innerHTML = '';\n",
              "          dataTable['output_type'] = 'display_data';\n",
              "          await google.colab.output.renderOutput(dataTable, element);\n",
              "          const docLink = document.createElement('div');\n",
              "          docLink.innerHTML = docLinkHtml;\n",
              "          element.appendChild(docLink);\n",
              "        }\n",
              "      </script>\n",
              "    </div>\n",
              "  </div>\n",
              "  "
            ]
          },
          "metadata": {},
          "execution_count": 24
        }
      ]
    },
    {
      "cell_type": "code",
      "source": [
        "cv_results.mean()"
      ],
      "metadata": {
        "id": "NKHsRCmdagET",
        "colab": {
          "base_uri": "https://localhost:8080/"
        },
        "outputId": "5867c2c3-6fa6-448a-8f84-cce8ec8677b3"
      },
      "execution_count": null,
      "outputs": [
        {
          "output_type": "execute_result",
          "data": {
            "text/plain": [
              "Recall       0.890784\n",
              "Precision    0.901783\n",
              "F1 score     0.892383\n",
              "F2 score     0.890421\n",
              "dtype: float64"
            ]
          },
          "metadata": {},
          "execution_count": 25
        }
      ]
    },
    {
      "cell_type": "code",
      "source": [
        "def train_blstm(train_texts, train_labels, test_texts, test_labels):\n",
        "\n",
        "  blstm_model = create_blstm_model(train_texts)\n",
        "  \n",
        "  history = blstm_model.fit(train_texts,\n",
        "                            train_labels,\n",
        "                            epochs=10,\n",
        "                            batch_size=16,\n",
        "                            validation_data=(test_texts, test_labels))\n",
        "  \n",
        "  blstm_model.evaluate(test_texts, test_labels)\n",
        "  y_pred = np.round(blstm_model.predict(test_texts))\n",
        "\n",
        "  y_pred = np.argmax(y_pred, axis=1)\n",
        "\n",
        "  f1_sc = f1_score(test_labels, y_pred, average='macro')\n",
        "  f2score = fbeta_score(test_labels, y_pred, beta=2, average='macro')\n",
        "\n",
        "  print(\"Recall = {}\".format(recall_score(test_labels, y_pred, average='macro')))\n",
        "  print(\"Precision = {}\".format(precision_score(test_labels, y_pred, average='macro')))\n",
        "  print(\"F1 score = {}\".format(f1_sc))\n",
        "  print(\"F2 score = {}\".format(f2score))\n",
        "  print(classification_report(test_labels, y_pred))\n",
        "  \n",
        "  cm = confusion_matrix(test_labels, y_pred)\n",
        "\n",
        "  disp = ConfusionMatrixDisplay(confusion_matrix=cm, display_labels=[0,1,2])\n",
        "\n",
        "  disp.plot(cmap=plt.cm.Blues)\n",
        "  plt.show()\n",
        "\n",
        "  return f1_sc"
      ],
      "metadata": {
        "id": "SfFEKtmtC7on"
      },
      "execution_count": null,
      "outputs": []
    },
    {
      "cell_type": "code",
      "source": [
        "X_test = test_data['text'].values.reshape(-1, 1)"
      ],
      "metadata": {
        "id": "EJ3iOQ-VC_ZA"
      },
      "execution_count": null,
      "outputs": []
    },
    {
      "cell_type": "code",
      "source": [
        "y_test = test_data['label'].values"
      ],
      "metadata": {
        "id": "fLZGthf9DJgC"
      },
      "execution_count": null,
      "outputs": []
    },
    {
      "cell_type": "code",
      "source": [
        "aug_X_train = augmented_dataset['text'].values.reshape(-1, 1)"
      ],
      "metadata": {
        "id": "o-f4zldvDJYl"
      },
      "execution_count": null,
      "outputs": []
    },
    {
      "cell_type": "code",
      "source": [
        "aug_X_train.shape"
      ],
      "metadata": {
        "colab": {
          "base_uri": "https://localhost:8080/"
        },
        "id": "M_5rrhxVDJUE",
        "outputId": "1da1a9ec-e1a1-4838-f268-b3bda55d0907"
      },
      "execution_count": null,
      "outputs": [
        {
          "output_type": "execute_result",
          "data": {
            "text/plain": [
              "(1231, 1)"
            ]
          },
          "metadata": {},
          "execution_count": 73
        }
      ]
    },
    {
      "cell_type": "code",
      "source": [
        "aug_y_train = augmented_dataset['label'].values.reshape(-1, 1)"
      ],
      "metadata": {
        "id": "CI1O_f-BDP6c"
      },
      "execution_count": null,
      "outputs": []
    },
    {
      "cell_type": "code",
      "source": [
        "aug_y_train.shape"
      ],
      "metadata": {
        "colab": {
          "base_uri": "https://localhost:8080/"
        },
        "id": "ZEtSK2xTDPxW",
        "outputId": "5676beed-55c6-4b50-91c6-9b51a8901d7e"
      },
      "execution_count": null,
      "outputs": [
        {
          "output_type": "execute_result",
          "data": {
            "text/plain": [
              "(1231, 1)"
            ]
          },
          "metadata": {},
          "execution_count": 75
        }
      ]
    },
    {
      "cell_type": "code",
      "source": [
        "train_blstm(aug_X_train, aug_y_train, X_test, y_test)"
      ],
      "metadata": {
        "colab": {
          "base_uri": "https://localhost:8080/",
          "height": 1000
        },
        "id": "RKWd7slxHT_a",
        "outputId": "af440fb0-2d0a-46b0-e3fb-e7760922cb84"
      },
      "execution_count": null,
      "outputs": [
        {
          "output_type": "stream",
          "name": "stdout",
          "text": [
            "Model: \"sequential\"\n",
            "_________________________________________________________________\n",
            " Layer (type)                Output Shape              Param #   \n",
            "=================================================================\n",
            " text_vectorization (TextVec  (None, 2000)             0         \n",
            " torization)                                                     \n",
            "                                                                 \n",
            " embedding (Embedding)       (None, 2000, 100)         5000000   \n",
            "                                                                 \n",
            " bidirectional (Bidirectiona  (None, 80)               45120     \n",
            " l)                                                              \n",
            "                                                                 \n",
            " dropout (Dropout)           (None, 80)                0         \n",
            "                                                                 \n",
            " dense (Dense)               (None, 3)                 243       \n",
            "                                                                 \n",
            "=================================================================\n",
            "Total params: 5,045,363\n",
            "Trainable params: 5,045,363\n",
            "Non-trainable params: 0\n",
            "_________________________________________________________________\n",
            "None\n",
            "Epoch 1/10\n",
            "77/77 [==============================] - 110s 1s/step - loss: 3.2637 - accuracy: 0.5353 - val_loss: 2.1692 - val_accuracy: 0.6450\n",
            "Epoch 2/10\n",
            "77/77 [==============================] - 106s 1s/step - loss: 1.6731 - accuracy: 0.7319 - val_loss: 1.2656 - val_accuracy: 0.7900\n",
            "Epoch 3/10\n",
            "77/77 [==============================] - 106s 1s/step - loss: 0.9628 - accuracy: 0.9285 - val_loss: 1.0988 - val_accuracy: 0.7950\n",
            "Epoch 4/10\n",
            "77/77 [==============================] - 107s 1s/step - loss: 0.7648 - accuracy: 0.9553 - val_loss: 1.0660 - val_accuracy: 0.7750\n",
            "Epoch 5/10\n",
            "77/77 [==============================] - 105s 1s/step - loss: 0.6455 - accuracy: 0.9594 - val_loss: 1.0479 - val_accuracy: 0.8000\n",
            "Epoch 6/10\n",
            "77/77 [==============================] - 108s 1s/step - loss: 0.5579 - accuracy: 0.9569 - val_loss: 0.8767 - val_accuracy: 0.8100\n",
            "Epoch 7/10\n",
            "77/77 [==============================] - 106s 1s/step - loss: 0.5057 - accuracy: 0.9610 - val_loss: 0.8718 - val_accuracy: 0.8000\n",
            "Epoch 8/10\n",
            "77/77 [==============================] - 106s 1s/step - loss: 0.4347 - accuracy: 0.9618 - val_loss: 1.1648 - val_accuracy: 0.7000\n",
            "Epoch 9/10\n",
            "77/77 [==============================] - 106s 1s/step - loss: 0.4338 - accuracy: 0.9456 - val_loss: 0.7547 - val_accuracy: 0.7850\n",
            "Epoch 10/10\n",
            "77/77 [==============================] - 108s 1s/step - loss: 0.3355 - accuracy: 0.9594 - val_loss: 0.7295 - val_accuracy: 0.7850\n",
            "7/7 [==============================] - 2s 224ms/step - loss: 0.7295 - accuracy: 0.7850\n",
            "7/7 [==============================] - 2s 230ms/step\n",
            "Recall = 0.7276524644945698\n",
            "Precision = 0.7306878306878307\n",
            "F1 score = 0.7237600584577418\n",
            "F2 score = 0.724836824467921\n",
            "              precision    recall  f1-score   support\n",
            "\n",
            "           0       0.60      0.46      0.52        52\n",
            "           1       0.98      0.97      0.97        91\n",
            "           2       0.61      0.75      0.68        57\n",
            "\n",
            "    accuracy                           0.78       200\n",
            "   macro avg       0.73      0.73      0.72       200\n",
            "weighted avg       0.78      0.78      0.77       200\n",
            "\n"
          ]
        },
        {
          "output_type": "display_data",
          "data": {
            "text/plain": [
              "<Figure size 640x480 with 2 Axes>"
            ],
            "image/png": "[encoded data removed]"
          },
          "metadata": {}
        },
        {
          "output_type": "execute_result",
          "data": {
            "text/plain": [
              "0.7237600584577418"
            ]
          },
          "metadata": {},
          "execution_count": 76
        }
      ]
    }
  ],
  "metadata": {
    "colab": {
      "machine_shape": "hm",
      "provenance": [],
      "gpuType": "T4"
    },
    "gpuClass": "standard",
    "kernelspec": {
      "display_name": "Python 3",
      "name": "python3"
    },
    "language_info": {
      "name": "python"
    },
    "accelerator": "GPU"
  },
  "nbformat": 4,
  "nbformat_minor": 0
}