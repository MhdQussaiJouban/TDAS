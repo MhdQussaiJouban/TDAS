{
  "cells": [
    {
      "cell_type": "code",
      "execution_count": null,
      "metadata": {
        "id": "_Q1SwXg76Uf3",
        "colab": {
          "base_uri": "https://localhost:8080/"
        },
        "outputId": "d0802a35-30a7-41c5-f665-f0336498c54b"
      },
      "outputs": [
        {
          "output_type": "stream",
          "name": "stderr",
          "text": [
            "[nltk_data] Downloading package stopwords to /root/nltk_data...\n",
            "[nltk_data]   Unzipping corpora/stopwords.zip.\n",
            "[nltk_data] Downloading package punkt to /root/nltk_data...\n",
            "[nltk_data]   Unzipping tokenizers/punkt.zip.\n",
            "[nltk_data] Downloading package averaged_perceptron_tagger to\n",
            "[nltk_data]     /root/nltk_data...\n",
            "[nltk_data]   Unzipping taggers/averaged_perceptron_tagger.zip.\n"
          ]
        },
        {
          "output_type": "stream",
          "name": "stdout",
          "text": [
            "Mounted at /content/gdrive\n"
          ]
        }
      ],
      "source": [
        "from datetime import datetime\n",
        "import random \n",
        "import numpy as np\n",
        "import pandas as pd\n",
        "from sklearn.preprocessing import LabelEncoder\n",
        "from sklearn.model_selection import train_test_split\n",
        "from sklearn.ensemble import RandomForestClassifier, ExtraTreesClassifier\n",
        "from sklearn.linear_model import SGDClassifier, LogisticRegression\n",
        "from sklearn.naive_bayes import GaussianNB\n",
        "from sklearn.neural_network import MLPClassifier\n",
        "from sklearn.svm import SVC\n",
        "from sklearn.neighbors import KNeighborsClassifier\n",
        "from sklearn.model_selection import GridSearchCV\n",
        "from sklearn.ensemble import StackingClassifier\n",
        "from sklearn.metrics import confusion_matrix\n",
        "from sklearn.metrics import ConfusionMatrixDisplay\n",
        "from sklearn.metrics import accuracy_score, recall_score, precision_score, f1_score, fbeta_score, classification_report\n",
        "from sklearn.metrics import make_scorer \n",
        "import matplotlib.pyplot as plt\n",
        "import gensim.downloader as api\n",
        "import nltk\n",
        "from nltk.tokenize import word_tokenize\n",
        "from nltk import pos_tag\n",
        "nltk.download('stopwords')\n",
        "nltk.download('punkt')\n",
        "nltk.download('averaged_perceptron_tagger')\n",
        "from google.colab import drive\n",
        "drive.mount('/content/gdrive')\n",
        "dir_name = \"/content/gdrive/MyDrive/Thesis/\""
      ]
    },
    {
      "cell_type": "code",
      "execution_count": null,
      "metadata": {
        "id": "hsZEizu93N6d",
        "colab": {
          "base_uri": "https://localhost:8080/",
          "height": 424
        },
        "outputId": "7c3dc4d9-5271-4329-f564-83435d3d9f03"
      },
      "outputs": [
        {
          "output_type": "execute_result",
          "data": {
            "text/plain": [
              "      label                                               text\n",
              "0         2  Thyroid surgery in  children in a single insti...\n",
              "1         2  \" The adopted strategy was the same as that us...\n",
              "2         2  coronary arterybypass grafting thrombosis ï¬b...\n",
              "3         2   Solitary plasmacytoma SP of the skull is an u...\n",
              "4         2   This study aimed to investigate serum matrix ...\n",
              "...     ...                                                ...\n",
              "7565      0  we report the case of a 24yearold man who pres...\n",
              "7566      0  among synchronous colorectal cancers scrcs rep...\n",
              "7567      0  the heterogeneity of cancer cells is generally...\n",
              "7568      0  \"adipogenesis is the process through which mes...\n",
              "7569      0  the periparturient period is one of the most c...\n",
              "\n",
              "[7570 rows x 2 columns]"
            ],
            "text/html": [
              "\n",
              "  <div id=\"df-d1e1f91d-eb62-4b86-96df-68b785d03d90\">\n",
              "    <div class=\"colab-df-container\">\n",
              "      <div>\n",
              "<style scoped>\n",
              "    .dataframe tbody tr th:only-of-type {\n",
              "        vertical-align: middle;\n",
              "    }\n",
              "\n",
              "    .dataframe tbody tr th {\n",
              "        vertical-align: top;\n",
              "    }\n",
              "\n",
              "    .dataframe thead th {\n",
              "        text-align: right;\n",
              "    }\n",
              "</style>\n",
              "<table border=\"1\" class=\"dataframe\">\n",
              "  <thead>\n",
              "    <tr style=\"text-align: right;\">\n",
              "      <th></th>\n",
              "      <th>label</th>\n",
              "      <th>text</th>\n",
              "    </tr>\n",
              "  </thead>\n",
              "  <tbody>\n",
              "    <tr>\n",
              "      <th>0</th>\n",
              "      <td>2</td>\n",
              "      <td>Thyroid surgery in  children in a single insti...</td>\n",
              "    </tr>\n",
              "    <tr>\n",
              "      <th>1</th>\n",
              "      <td>2</td>\n",
              "      <td>\" The adopted strategy was the same as that us...</td>\n",
              "    </tr>\n",
              "    <tr>\n",
              "      <th>2</th>\n",
              "      <td>2</td>\n",
              "      <td>coronary arterybypass grafting thrombosis ï¬b...</td>\n",
              "    </tr>\n",
              "    <tr>\n",
              "      <th>3</th>\n",
              "      <td>2</td>\n",
              "      <td>Solitary plasmacytoma SP of the skull is an u...</td>\n",
              "    </tr>\n",
              "    <tr>\n",
              "      <th>4</th>\n",
              "      <td>2</td>\n",
              "      <td>This study aimed to investigate serum matrix ...</td>\n",
              "    </tr>\n",
              "    <tr>\n",
              "      <th>...</th>\n",
              "      <td>...</td>\n",
              "      <td>...</td>\n",
              "    </tr>\n",
              "    <tr>\n",
              "      <th>7565</th>\n",
              "      <td>0</td>\n",
              "      <td>we report the case of a 24yearold man who pres...</td>\n",
              "    </tr>\n",
              "    <tr>\n",
              "      <th>7566</th>\n",
              "      <td>0</td>\n",
              "      <td>among synchronous colorectal cancers scrcs rep...</td>\n",
              "    </tr>\n",
              "    <tr>\n",
              "      <th>7567</th>\n",
              "      <td>0</td>\n",
              "      <td>the heterogeneity of cancer cells is generally...</td>\n",
              "    </tr>\n",
              "    <tr>\n",
              "      <th>7568</th>\n",
              "      <td>0</td>\n",
              "      <td>\"adipogenesis is the process through which mes...</td>\n",
              "    </tr>\n",
              "    <tr>\n",
              "      <th>7569</th>\n",
              "      <td>0</td>\n",
              "      <td>the periparturient period is one of the most c...</td>\n",
              "    </tr>\n",
              "  </tbody>\n",
              "</table>\n",
              "<p>7570 rows × 2 columns</p>\n",
              "</div>\n",
              "      <button class=\"colab-df-convert\" onclick=\"convertToInteractive('df-d1e1f91d-eb62-4b86-96df-68b785d03d90')\"\n",
              "              title=\"Convert this dataframe to an interactive table.\"\n",
              "              style=\"display:none;\">\n",
              "        \n",
              "  <svg xmlns=\"http://www.w3.org/2000/svg\" height=\"24px\"viewBox=\"0 0 24 24\"\n",
              "       width=\"24px\">\n",
              "    <path d=\"M0 0h24v24H0V0z\" fill=\"none\"/>\n",
              "    <path d=\"M18.56 5.44l.94 2.06.94-2.06 2.06-.94-2.06-.94-.94-2.06-.94 2.06-2.06.94zm-11 1L8.5 8.5l.94-2.06 2.06-.94-2.06-.94L8.5 2.5l-.94 2.06-2.06.94zm10 10l.94 2.06.94-2.06 2.06-.94-2.06-.94-.94-2.06-.94 2.06-2.06.94z\"/><path d=\"M17.41 7.96l-1.37-1.37c-.4-.4-.92-.59-1.43-.59-.52 0-1.04.2-1.43.59L10.3 9.45l-7.72 7.72c-.78.78-.78 2.05 0 2.83L4 21.41c.39.39.9.59 1.41.59.51 0 1.02-.2 1.41-.59l7.78-7.78 2.81-2.81c.8-.78.8-2.07 0-2.86zM5.41 20L4 18.59l7.72-7.72 1.47 1.35L5.41 20z\"/>\n",
              "  </svg>\n",
              "      </button>\n",
              "      \n",
              "  <style>\n",
              "    .colab-df-container {\n",
              "      display:flex;\n",
              "      flex-wrap:wrap;\n",
              "      gap: 12px;\n",
              "    }\n",
              "\n",
              "    .colab-df-convert {\n",
              "      background-color: #E8F0FE;\n",
              "      border: none;\n",
              "      border-radius: 50%;\n",
              "      cursor: pointer;\n",
              "      display: none;\n",
              "      fill: #1967D2;\n",
              "      height: 32px;\n",
              "      padding: 0 0 0 0;\n",
              "      width: 32px;\n",
              "    }\n",
              "\n",
              "    .colab-df-convert:hover {\n",
              "      background-color: #E2EBFA;\n",
              "      box-shadow: 0px 1px 2px rgba(60, 64, 67, 0.3), 0px 1px 3px 1px rgba(60, 64, 67, 0.15);\n",
              "      fill: #174EA6;\n",
              "    }\n",
              "\n",
              "    [theme=dark] .colab-df-convert {\n",
              "      background-color: #3B4455;\n",
              "      fill: #D2E3FC;\n",
              "    }\n",
              "\n",
              "    [theme=dark] .colab-df-convert:hover {\n",
              "      background-color: #434B5C;\n",
              "      box-shadow: 0px 1px 3px 1px rgba(0, 0, 0, 0.15);\n",
              "      filter: drop-shadow(0px 1px 2px rgba(0, 0, 0, 0.3));\n",
              "      fill: #FFFFFF;\n",
              "    }\n",
              "  </style>\n",
              "\n",
              "      <script>\n",
              "        const buttonEl =\n",
              "          document.querySelector('#df-d1e1f91d-eb62-4b86-96df-68b785d03d90 button.colab-df-convert');\n",
              "        buttonEl.style.display =\n",
              "          google.colab.kernel.accessAllowed ? 'block' : 'none';\n",
              "\n",
              "        async function convertToInteractive(key) {\n",
              "          const element = document.querySelector('#df-d1e1f91d-eb62-4b86-96df-68b785d03d90');\n",
              "          const dataTable =\n",
              "            await google.colab.kernel.invokeFunction('convertToInteractive',\n",
              "                                                     [key], {});\n",
              "          if (!dataTable) return;\n",
              "\n",
              "          const docLinkHtml = 'Like what you see? Visit the ' +\n",
              "            '<a target=\"_blank\" href=https://colab.research.google.com/notebooks/data_table.ipynb>data table notebook</a>'\n",
              "            + ' to learn more about interactive tables.';\n",
              "          element.innerHTML = '';\n",
              "          dataTable['output_type'] = 'display_data';\n",
              "          await google.colab.output.renderOutput(dataTable, element);\n",
              "          const docLink = document.createElement('div');\n",
              "          docLink.innerHTML = docLinkHtml;\n",
              "          element.appendChild(docLink);\n",
              "        }\n",
              "      </script>\n",
              "    </div>\n",
              "  </div>\n",
              "  "
            ]
          },
          "metadata": {},
          "execution_count": 2
        }
      ],
      "source": [
        "def get_raw_data(dir_name):\n",
        "    #  load data\n",
        "    data = pd.read_csv('{}cancer_doc_classification.csv'.format(dir_name), encoding = 'latin-1', usecols=['a', '0'])\n",
        "    data = data.rename(columns={'0': 'label', 'a': 'text'})\n",
        "    le = LabelEncoder()\n",
        "    data['label'] = le.fit_transform( data['label'])\n",
        "    return data\n",
        "\n",
        "raw_data = get_raw_data(dir_name + 'datasets/')\n",
        "raw_data"
      ]
    },
    {
      "cell_type": "code",
      "execution_count": null,
      "metadata": {
        "id": "puuFMH0H8Li_",
        "colab": {
          "base_uri": "https://localhost:8080/",
          "height": 499
        },
        "outputId": "8911c280-c978-4c37-dc96-97595db95792"
      },
      "outputs": [
        {
          "output_type": "display_data",
          "data": {
            "text/plain": [
              "<Figure size 600x600 with 1 Axes>"
            ],
            "image/png": "[encoded data removed]"
          },
          "metadata": {}
        }
      ],
      "source": [
        "def get_dataset_statistics(data):\n",
        "    dataset_statistics = {'Number of messages': [data['label'].value_counts()[0], data['label'].value_counts()[1], data['label'].value_counts()[2]]}\n",
        "    df = pd.DataFrame(dataset_statistics, index=['0', '1', '2'])\n",
        "    df.plot(kind='pie', y='Number of messages', figsize=(6, 6), fontsize=14,\n",
        "            autopct=lambda v: '{:.0f} ({:.1f}%)'.format(v / 100 * data['label'].count(), v))\n",
        "    \n",
        "get_dataset_statistics(raw_data)"
      ]
    },
    {
      "cell_type": "code",
      "execution_count": null,
      "metadata": {
        "colab": {
          "base_uri": "https://localhost:8080/"
        },
        "id": "jvrPiHms7t3O",
        "outputId": "55cc6565-52f5-4d5d-b576-86f5e6fe184b"
      },
      "outputs": [
        {
          "output_type": "execute_result",
          "data": {
            "text/plain": [
              "False"
            ]
          },
          "metadata": {},
          "execution_count": 4
        }
      ],
      "source": [
        "raw_data['text'].is_unique"
      ]
    },
    {
      "cell_type": "code",
      "execution_count": null,
      "metadata": {
        "id": "QGX76s7s7vC1",
        "colab": {
          "base_uri": "https://localhost:8080/"
        },
        "outputId": "ea746d27-44e0-4788-9ea3-88cb79608fd7"
      },
      "outputs": [
        {
          "output_type": "execute_result",
          "data": {
            "text/plain": [
              "True"
            ]
          },
          "metadata": {},
          "execution_count": 5
        }
      ],
      "source": [
        "raw_data.drop_duplicates( inplace=True)\n",
        "raw_data['text'].is_unique"
      ]
    },
    {
      "cell_type": "code",
      "execution_count": null,
      "metadata": {
        "colab": {
          "base_uri": "https://localhost:8080/",
          "height": 424
        },
        "id": "kAvJMWIH8BfT",
        "outputId": "ab5e18ca-3358-4d23-cfd0-d0c97ab67a4e"
      },
      "outputs": [
        {
          "output_type": "execute_result",
          "data": {
            "text/plain": [
              "      label                                               text\n",
              "0         2  Thyroid surgery in  children in a single insti...\n",
              "1         2  \" The adopted strategy was the same as that us...\n",
              "2         2  coronary arterybypass grafting thrombosis ï¬b...\n",
              "3         2   Solitary plasmacytoma SP of the skull is an u...\n",
              "4         2   This study aimed to investigate serum matrix ...\n",
              "...     ...                                                ...\n",
              "6863      1  \"Missense mutation distribution in the exons a...\n",
              "6929      1  \"versus gemcitabine/carboplatin in advanced no...\n",
              "7040      2   Keloids are pathological scars that grow over...\n",
              "7485      0  the anization of cells into multiple membranou...\n",
              "7497      0  several immunotherapeutic strategies that harn...\n",
              "\n",
              "[996 rows x 2 columns]"
            ],
            "text/html": [
              "\n",
              "  <div id=\"df-7bce16b5-1a96-4fa8-8078-60cd17ae9ef8\">\n",
              "    <div class=\"colab-df-container\">\n",
              "      <div>\n",
              "<style scoped>\n",
              "    .dataframe tbody tr th:only-of-type {\n",
              "        vertical-align: middle;\n",
              "    }\n",
              "\n",
              "    .dataframe tbody tr th {\n",
              "        vertical-align: top;\n",
              "    }\n",
              "\n",
              "    .dataframe thead th {\n",
              "        text-align: right;\n",
              "    }\n",
              "</style>\n",
              "<table border=\"1\" class=\"dataframe\">\n",
              "  <thead>\n",
              "    <tr style=\"text-align: right;\">\n",
              "      <th></th>\n",
              "      <th>label</th>\n",
              "      <th>text</th>\n",
              "    </tr>\n",
              "  </thead>\n",
              "  <tbody>\n",
              "    <tr>\n",
              "      <th>0</th>\n",
              "      <td>2</td>\n",
              "      <td>Thyroid surgery in  children in a single insti...</td>\n",
              "    </tr>\n",
              "    <tr>\n",
              "      <th>1</th>\n",
              "      <td>2</td>\n",
              "      <td>\" The adopted strategy was the same as that us...</td>\n",
              "    </tr>\n",
              "    <tr>\n",
              "      <th>2</th>\n",
              "      <td>2</td>\n",
              "      <td>coronary arterybypass grafting thrombosis ï¬b...</td>\n",
              "    </tr>\n",
              "    <tr>\n",
              "      <th>3</th>\n",
              "      <td>2</td>\n",
              "      <td>Solitary plasmacytoma SP of the skull is an u...</td>\n",
              "    </tr>\n",
              "    <tr>\n",
              "      <th>4</th>\n",
              "      <td>2</td>\n",
              "      <td>This study aimed to investigate serum matrix ...</td>\n",
              "    </tr>\n",
              "    <tr>\n",
              "      <th>...</th>\n",
              "      <td>...</td>\n",
              "      <td>...</td>\n",
              "    </tr>\n",
              "    <tr>\n",
              "      <th>6863</th>\n",
              "      <td>1</td>\n",
              "      <td>\"Missense mutation distribution in the exons a...</td>\n",
              "    </tr>\n",
              "    <tr>\n",
              "      <th>6929</th>\n",
              "      <td>1</td>\n",
              "      <td>\"versus gemcitabine/carboplatin in advanced no...</td>\n",
              "    </tr>\n",
              "    <tr>\n",
              "      <th>7040</th>\n",
              "      <td>2</td>\n",
              "      <td>Keloids are pathological scars that grow over...</td>\n",
              "    </tr>\n",
              "    <tr>\n",
              "      <th>7485</th>\n",
              "      <td>0</td>\n",
              "      <td>the anization of cells into multiple membranou...</td>\n",
              "    </tr>\n",
              "    <tr>\n",
              "      <th>7497</th>\n",
              "      <td>0</td>\n",
              "      <td>several immunotherapeutic strategies that harn...</td>\n",
              "    </tr>\n",
              "  </tbody>\n",
              "</table>\n",
              "<p>996 rows × 2 columns</p>\n",
              "</div>\n",
              "      <button class=\"colab-df-convert\" onclick=\"convertToInteractive('df-7bce16b5-1a96-4fa8-8078-60cd17ae9ef8')\"\n",
              "              title=\"Convert this dataframe to an interactive table.\"\n",
              "              style=\"display:none;\">\n",
              "        \n",
              "  <svg xmlns=\"http://www.w3.org/2000/svg\" height=\"24px\"viewBox=\"0 0 24 24\"\n",
              "       width=\"24px\">\n",
              "    <path d=\"M0 0h24v24H0V0z\" fill=\"none\"/>\n",
              "    <path d=\"M18.56 5.44l.94 2.06.94-2.06 2.06-.94-2.06-.94-.94-2.06-.94 2.06-2.06.94zm-11 1L8.5 8.5l.94-2.06 2.06-.94-2.06-.94L8.5 2.5l-.94 2.06-2.06.94zm10 10l.94 2.06.94-2.06 2.06-.94-2.06-.94-.94-2.06-.94 2.06-2.06.94z\"/><path d=\"M17.41 7.96l-1.37-1.37c-.4-.4-.92-.59-1.43-.59-.52 0-1.04.2-1.43.59L10.3 9.45l-7.72 7.72c-.78.78-.78 2.05 0 2.83L4 21.41c.39.39.9.59 1.41.59.51 0 1.02-.2 1.41-.59l7.78-7.78 2.81-2.81c.8-.78.8-2.07 0-2.86zM5.41 20L4 18.59l7.72-7.72 1.47 1.35L5.41 20z\"/>\n",
              "  </svg>\n",
              "      </button>\n",
              "      \n",
              "  <style>\n",
              "    .colab-df-container {\n",
              "      display:flex;\n",
              "      flex-wrap:wrap;\n",
              "      gap: 12px;\n",
              "    }\n",
              "\n",
              "    .colab-df-convert {\n",
              "      background-color: #E8F0FE;\n",
              "      border: none;\n",
              "      border-radius: 50%;\n",
              "      cursor: pointer;\n",
              "      display: none;\n",
              "      fill: #1967D2;\n",
              "      height: 32px;\n",
              "      padding: 0 0 0 0;\n",
              "      width: 32px;\n",
              "    }\n",
              "\n",
              "    .colab-df-convert:hover {\n",
              "      background-color: #E2EBFA;\n",
              "      box-shadow: 0px 1px 2px rgba(60, 64, 67, 0.3), 0px 1px 3px 1px rgba(60, 64, 67, 0.15);\n",
              "      fill: #174EA6;\n",
              "    }\n",
              "\n",
              "    [theme=dark] .colab-df-convert {\n",
              "      background-color: #3B4455;\n",
              "      fill: #D2E3FC;\n",
              "    }\n",
              "\n",
              "    [theme=dark] .colab-df-convert:hover {\n",
              "      background-color: #434B5C;\n",
              "      box-shadow: 0px 1px 3px 1px rgba(0, 0, 0, 0.15);\n",
              "      filter: drop-shadow(0px 1px 2px rgba(0, 0, 0, 0.3));\n",
              "      fill: #FFFFFF;\n",
              "    }\n",
              "  </style>\n",
              "\n",
              "      <script>\n",
              "        const buttonEl =\n",
              "          document.querySelector('#df-7bce16b5-1a96-4fa8-8078-60cd17ae9ef8 button.colab-df-convert');\n",
              "        buttonEl.style.display =\n",
              "          google.colab.kernel.accessAllowed ? 'block' : 'none';\n",
              "\n",
              "        async function convertToInteractive(key) {\n",
              "          const element = document.querySelector('#df-7bce16b5-1a96-4fa8-8078-60cd17ae9ef8');\n",
              "          const dataTable =\n",
              "            await google.colab.kernel.invokeFunction('convertToInteractive',\n",
              "                                                     [key], {});\n",
              "          if (!dataTable) return;\n",
              "\n",
              "          const docLinkHtml = 'Like what you see? Visit the ' +\n",
              "            '<a target=\"_blank\" href=https://colab.research.google.com/notebooks/data_table.ipynb>data table notebook</a>'\n",
              "            + ' to learn more about interactive tables.';\n",
              "          element.innerHTML = '';\n",
              "          dataTable['output_type'] = 'display_data';\n",
              "          await google.colab.output.renderOutput(dataTable, element);\n",
              "          const docLink = document.createElement('div');\n",
              "          docLink.innerHTML = docLinkHtml;\n",
              "          element.appendChild(docLink);\n",
              "        }\n",
              "      </script>\n",
              "    </div>\n",
              "  </div>\n",
              "  "
            ]
          },
          "metadata": {},
          "execution_count": 6
        }
      ],
      "source": [
        "raw_data"
      ]
    },
    {
      "cell_type": "code",
      "execution_count": null,
      "metadata": {
        "colab": {
          "base_uri": "https://localhost:8080/",
          "height": 499
        },
        "id": "M29miyuS8dVA",
        "outputId": "32d37b1a-94de-467e-938d-b8720491d831"
      },
      "outputs": [
        {
          "output_type": "display_data",
          "data": {
            "text/plain": [
              "<Figure size 600x600 with 1 Axes>"
            ],
            "image/png": "[encoded data removed]"
          },
          "metadata": {}
        }
      ],
      "source": [
        "get_dataset_statistics(raw_data)"
      ]
    },
    {
      "cell_type": "code",
      "execution_count": null,
      "metadata": {
        "id": "9a7oMalo8eW7"
      },
      "outputs": [],
      "source": [
        "X_train, X_test, y_train, y_test = train_test_split(raw_data['text'].to_numpy(), raw_data['label'].to_numpy(), stratify=raw_data['label'].to_numpy(), test_size=0.2, random_state=24)"
      ]
    },
    {
      "cell_type": "code",
      "execution_count": null,
      "metadata": {
        "colab": {
          "base_uri": "https://localhost:8080/",
          "height": 499
        },
        "id": "4Qah2hem-rzC",
        "outputId": "d969c256-1d63-42ef-913b-750763a00c3e"
      },
      "outputs": [
        {
          "output_type": "display_data",
          "data": {
            "text/plain": [
              "<Figure size 600x600 with 1 Axes>"
            ],
            "image/png": "[encoded data removed]"
          },
          "metadata": {}
        }
      ],
      "source": [
        "get_dataset_statistics(pd.DataFrame({'label': y_train}))"
      ]
    },
    {
      "cell_type": "code",
      "execution_count": null,
      "metadata": {
        "colab": {
          "base_uri": "https://localhost:8080/",
          "height": 499
        },
        "id": "tBCiPYyy-0YC",
        "outputId": "b87bf24d-938b-4cf1-d8dd-0a5e78907cac"
      },
      "outputs": [
        {
          "output_type": "display_data",
          "data": {
            "text/plain": [
              "<Figure size 600x600 with 1 Axes>"
            ],
            "image/png": "[encoded data removed]"
          },
          "metadata": {}
        }
      ],
      "source": [
        "get_dataset_statistics(pd.DataFrame({'label': y_test}))"
      ]
    },
    {
      "cell_type": "code",
      "execution_count": null,
      "metadata": {
        "id": "cVetnUhn-6K9",
        "colab": {
          "base_uri": "https://localhost:8080/",
          "height": 424
        },
        "outputId": "d27e2cd1-014d-41e2-b41e-65c45e7a5387"
      },
      "outputs": [
        {
          "output_type": "execute_result",
          "data": {
            "text/plain": [
              "                                                  text  label\n",
              "0    in  a novel coronavirus sarscov2 was found to ...      0\n",
              "1    \"  the incidence of thyroid carcinoma is incre...      0\n",
              "2    Sequential Use of aYeastCEA Therapeutic Cancer...      2\n",
              "3    Paired box protein8 PAX8 immunohistochemical e...      2\n",
              "4     Is preoperative heart rate variability aprogn...      2\n",
              "..                                                 ...    ...\n",
              "791  \"widely usedcancerspecific questionnaire asses...      2\n",
              "792  \"Thus mathematical models that can estimate lo...      1\n",
              "793  \"Trophoblast cell surface antigen  TROP2 is ov...      2\n",
              "794  overexpression of epithelial cell adhesion mol...      0\n",
              "795  \"Statistical analysis We used Chi-square test ...      1\n",
              "\n",
              "[796 rows x 2 columns]"
            ],
            "text/html": [
              "\n",
              "  <div id=\"df-5ab3629e-42d1-42fb-9c9e-9d9cf66d55ad\">\n",
              "    <div class=\"colab-df-container\">\n",
              "      <div>\n",
              "<style scoped>\n",
              "    .dataframe tbody tr th:only-of-type {\n",
              "        vertical-align: middle;\n",
              "    }\n",
              "\n",
              "    .dataframe tbody tr th {\n",
              "        vertical-align: top;\n",
              "    }\n",
              "\n",
              "    .dataframe thead th {\n",
              "        text-align: right;\n",
              "    }\n",
              "</style>\n",
              "<table border=\"1\" class=\"dataframe\">\n",
              "  <thead>\n",
              "    <tr style=\"text-align: right;\">\n",
              "      <th></th>\n",
              "      <th>text</th>\n",
              "      <th>label</th>\n",
              "    </tr>\n",
              "  </thead>\n",
              "  <tbody>\n",
              "    <tr>\n",
              "      <th>0</th>\n",
              "      <td>in  a novel coronavirus sarscov2 was found to ...</td>\n",
              "      <td>0</td>\n",
              "    </tr>\n",
              "    <tr>\n",
              "      <th>1</th>\n",
              "      <td>\"  the incidence of thyroid carcinoma is incre...</td>\n",
              "      <td>0</td>\n",
              "    </tr>\n",
              "    <tr>\n",
              "      <th>2</th>\n",
              "      <td>Sequential Use of aYeastCEA Therapeutic Cancer...</td>\n",
              "      <td>2</td>\n",
              "    </tr>\n",
              "    <tr>\n",
              "      <th>3</th>\n",
              "      <td>Paired box protein8 PAX8 immunohistochemical e...</td>\n",
              "      <td>2</td>\n",
              "    </tr>\n",
              "    <tr>\n",
              "      <th>4</th>\n",
              "      <td>Is preoperative heart rate variability aprogn...</td>\n",
              "      <td>2</td>\n",
              "    </tr>\n",
              "    <tr>\n",
              "      <th>...</th>\n",
              "      <td>...</td>\n",
              "      <td>...</td>\n",
              "    </tr>\n",
              "    <tr>\n",
              "      <th>791</th>\n",
              "      <td>\"widely usedcancerspecific questionnaire asses...</td>\n",
              "      <td>2</td>\n",
              "    </tr>\n",
              "    <tr>\n",
              "      <th>792</th>\n",
              "      <td>\"Thus mathematical models that can estimate lo...</td>\n",
              "      <td>1</td>\n",
              "    </tr>\n",
              "    <tr>\n",
              "      <th>793</th>\n",
              "      <td>\"Trophoblast cell surface antigen  TROP2 is ov...</td>\n",
              "      <td>2</td>\n",
              "    </tr>\n",
              "    <tr>\n",
              "      <th>794</th>\n",
              "      <td>overexpression of epithelial cell adhesion mol...</td>\n",
              "      <td>0</td>\n",
              "    </tr>\n",
              "    <tr>\n",
              "      <th>795</th>\n",
              "      <td>\"Statistical analysis We used Chi-square test ...</td>\n",
              "      <td>1</td>\n",
              "    </tr>\n",
              "  </tbody>\n",
              "</table>\n",
              "<p>796 rows × 2 columns</p>\n",
              "</div>\n",
              "      <button class=\"colab-df-convert\" onclick=\"convertToInteractive('df-5ab3629e-42d1-42fb-9c9e-9d9cf66d55ad')\"\n",
              "              title=\"Convert this dataframe to an interactive table.\"\n",
              "              style=\"display:none;\">\n",
              "        \n",
              "  <svg xmlns=\"http://www.w3.org/2000/svg\" height=\"24px\"viewBox=\"0 0 24 24\"\n",
              "       width=\"24px\">\n",
              "    <path d=\"M0 0h24v24H0V0z\" fill=\"none\"/>\n",
              "    <path d=\"M18.56 5.44l.94 2.06.94-2.06 2.06-.94-2.06-.94-.94-2.06-.94 2.06-2.06.94zm-11 1L8.5 8.5l.94-2.06 2.06-.94-2.06-.94L8.5 2.5l-.94 2.06-2.06.94zm10 10l.94 2.06.94-2.06 2.06-.94-2.06-.94-.94-2.06-.94 2.06-2.06.94z\"/><path d=\"M17.41 7.96l-1.37-1.37c-.4-.4-.92-.59-1.43-.59-.52 0-1.04.2-1.43.59L10.3 9.45l-7.72 7.72c-.78.78-.78 2.05 0 2.83L4 21.41c.39.39.9.59 1.41.59.51 0 1.02-.2 1.41-.59l7.78-7.78 2.81-2.81c.8-.78.8-2.07 0-2.86zM5.41 20L4 18.59l7.72-7.72 1.47 1.35L5.41 20z\"/>\n",
              "  </svg>\n",
              "      </button>\n",
              "      \n",
              "  <style>\n",
              "    .colab-df-container {\n",
              "      display:flex;\n",
              "      flex-wrap:wrap;\n",
              "      gap: 12px;\n",
              "    }\n",
              "\n",
              "    .colab-df-convert {\n",
              "      background-color: #E8F0FE;\n",
              "      border: none;\n",
              "      border-radius: 50%;\n",
              "      cursor: pointer;\n",
              "      display: none;\n",
              "      fill: #1967D2;\n",
              "      height: 32px;\n",
              "      padding: 0 0 0 0;\n",
              "      width: 32px;\n",
              "    }\n",
              "\n",
              "    .colab-df-convert:hover {\n",
              "      background-color: #E2EBFA;\n",
              "      box-shadow: 0px 1px 2px rgba(60, 64, 67, 0.3), 0px 1px 3px 1px rgba(60, 64, 67, 0.15);\n",
              "      fill: #174EA6;\n",
              "    }\n",
              "\n",
              "    [theme=dark] .colab-df-convert {\n",
              "      background-color: #3B4455;\n",
              "      fill: #D2E3FC;\n",
              "    }\n",
              "\n",
              "    [theme=dark] .colab-df-convert:hover {\n",
              "      background-color: #434B5C;\n",
              "      box-shadow: 0px 1px 3px 1px rgba(0, 0, 0, 0.15);\n",
              "      filter: drop-shadow(0px 1px 2px rgba(0, 0, 0, 0.3));\n",
              "      fill: #FFFFFF;\n",
              "    }\n",
              "  </style>\n",
              "\n",
              "      <script>\n",
              "        const buttonEl =\n",
              "          document.querySelector('#df-5ab3629e-42d1-42fb-9c9e-9d9cf66d55ad button.colab-df-convert');\n",
              "        buttonEl.style.display =\n",
              "          google.colab.kernel.accessAllowed ? 'block' : 'none';\n",
              "\n",
              "        async function convertToInteractive(key) {\n",
              "          const element = document.querySelector('#df-5ab3629e-42d1-42fb-9c9e-9d9cf66d55ad');\n",
              "          const dataTable =\n",
              "            await google.colab.kernel.invokeFunction('convertToInteractive',\n",
              "                                                     [key], {});\n",
              "          if (!dataTable) return;\n",
              "\n",
              "          const docLinkHtml = 'Like what you see? Visit the ' +\n",
              "            '<a target=\"_blank\" href=https://colab.research.google.com/notebooks/data_table.ipynb>data table notebook</a>'\n",
              "            + ' to learn more about interactive tables.';\n",
              "          element.innerHTML = '';\n",
              "          dataTable['output_type'] = 'display_data';\n",
              "          await google.colab.output.renderOutput(dataTable, element);\n",
              "          const docLink = document.createElement('div');\n",
              "          docLink.innerHTML = docLinkHtml;\n",
              "          element.appendChild(docLink);\n",
              "        }\n",
              "      </script>\n",
              "    </div>\n",
              "  </div>\n",
              "  "
            ]
          },
          "metadata": {},
          "execution_count": 9
        }
      ],
      "source": [
        "train_data = pd.DataFrame({'text': X_train, 'label': y_train})\n",
        "train_data"
      ]
    },
    {
      "cell_type": "code",
      "execution_count": null,
      "metadata": {
        "id": "ppXduhD3Okz8",
        "colab": {
          "base_uri": "https://localhost:8080/",
          "height": 424
        },
        "outputId": "47ec1fb7-9863-43e2-c521-a93b139d55c9"
      },
      "outputs": [
        {
          "output_type": "execute_result",
          "data": {
            "text/plain": [
              "                                                  text  label\n",
              "0    \"A decrease of 50% or more from baseline urina...      1\n",
              "1    \"The remaining 24 (25.3%) were not differentia...      1\n",
              "2    \"Results Exceptional response to an IGF-1R inh...      1\n",
              "3    \"detection and quantification of cancer DNA mo...      1\n",
              "4    \"1.3±0.4 cm (range: 0.7-2.0 cm) for Group A an...      1\n",
              "..                                                 ...    ...\n",
              "195  \"  heat shock transcription factor1 hsf1 was o...      0\n",
              "196  \"fundamental  influences  of  sex  and  gender...      2\n",
              "197  Activation by NaturalPhytochemicals An Overvie...      2\n",
              "198  \"Effects of lowdose computed tomography LDCT s...      2\n",
              "199  \"The probands father (II-5) and sister (III-5...      1\n",
              "\n",
              "[200 rows x 2 columns]"
            ],
            "text/html": [
              "\n",
              "  <div id=\"df-94189a1c-fef6-48e0-8a30-1a38321ae36e\">\n",
              "    <div class=\"colab-df-container\">\n",
              "      <div>\n",
              "<style scoped>\n",
              "    .dataframe tbody tr th:only-of-type {\n",
              "        vertical-align: middle;\n",
              "    }\n",
              "\n",
              "    .dataframe tbody tr th {\n",
              "        vertical-align: top;\n",
              "    }\n",
              "\n",
              "    .dataframe thead th {\n",
              "        text-align: right;\n",
              "    }\n",
              "</style>\n",
              "<table border=\"1\" class=\"dataframe\">\n",
              "  <thead>\n",
              "    <tr style=\"text-align: right;\">\n",
              "      <th></th>\n",
              "      <th>text</th>\n",
              "      <th>label</th>\n",
              "    </tr>\n",
              "  </thead>\n",
              "  <tbody>\n",
              "    <tr>\n",
              "      <th>0</th>\n",
              "      <td>\"A decrease of 50% or more from baseline urina...</td>\n",
              "      <td>1</td>\n",
              "    </tr>\n",
              "    <tr>\n",
              "      <th>1</th>\n",
              "      <td>\"The remaining 24 (25.3%) were not differentia...</td>\n",
              "      <td>1</td>\n",
              "    </tr>\n",
              "    <tr>\n",
              "      <th>2</th>\n",
              "      <td>\"Results Exceptional response to an IGF-1R inh...</td>\n",
              "      <td>1</td>\n",
              "    </tr>\n",
              "    <tr>\n",
              "      <th>3</th>\n",
              "      <td>\"detection and quantification of cancer DNA mo...</td>\n",
              "      <td>1</td>\n",
              "    </tr>\n",
              "    <tr>\n",
              "      <th>4</th>\n",
              "      <td>\"1.3±0.4 cm (range: 0.7-2.0 cm) for Group A an...</td>\n",
              "      <td>1</td>\n",
              "    </tr>\n",
              "    <tr>\n",
              "      <th>...</th>\n",
              "      <td>...</td>\n",
              "      <td>...</td>\n",
              "    </tr>\n",
              "    <tr>\n",
              "      <th>195</th>\n",
              "      <td>\"  heat shock transcription factor1 hsf1 was o...</td>\n",
              "      <td>0</td>\n",
              "    </tr>\n",
              "    <tr>\n",
              "      <th>196</th>\n",
              "      <td>\"fundamental  influences  of  sex  and  gender...</td>\n",
              "      <td>2</td>\n",
              "    </tr>\n",
              "    <tr>\n",
              "      <th>197</th>\n",
              "      <td>Activation by NaturalPhytochemicals An Overvie...</td>\n",
              "      <td>2</td>\n",
              "    </tr>\n",
              "    <tr>\n",
              "      <th>198</th>\n",
              "      <td>\"Effects of lowdose computed tomography LDCT s...</td>\n",
              "      <td>2</td>\n",
              "    </tr>\n",
              "    <tr>\n",
              "      <th>199</th>\n",
              "      <td>\"The probands father (II-5) and sister (III-5...</td>\n",
              "      <td>1</td>\n",
              "    </tr>\n",
              "  </tbody>\n",
              "</table>\n",
              "<p>200 rows × 2 columns</p>\n",
              "</div>\n",
              "      <button class=\"colab-df-convert\" onclick=\"convertToInteractive('df-94189a1c-fef6-48e0-8a30-1a38321ae36e')\"\n",
              "              title=\"Convert this dataframe to an interactive table.\"\n",
              "              style=\"display:none;\">\n",
              "        \n",
              "  <svg xmlns=\"http://www.w3.org/2000/svg\" height=\"24px\"viewBox=\"0 0 24 24\"\n",
              "       width=\"24px\">\n",
              "    <path d=\"M0 0h24v24H0V0z\" fill=\"none\"/>\n",
              "    <path d=\"M18.56 5.44l.94 2.06.94-2.06 2.06-.94-2.06-.94-.94-2.06-.94 2.06-2.06.94zm-11 1L8.5 8.5l.94-2.06 2.06-.94-2.06-.94L8.5 2.5l-.94 2.06-2.06.94zm10 10l.94 2.06.94-2.06 2.06-.94-2.06-.94-.94-2.06-.94 2.06-2.06.94z\"/><path d=\"M17.41 7.96l-1.37-1.37c-.4-.4-.92-.59-1.43-.59-.52 0-1.04.2-1.43.59L10.3 9.45l-7.72 7.72c-.78.78-.78 2.05 0 2.83L4 21.41c.39.39.9.59 1.41.59.51 0 1.02-.2 1.41-.59l7.78-7.78 2.81-2.81c.8-.78.8-2.07 0-2.86zM5.41 20L4 18.59l7.72-7.72 1.47 1.35L5.41 20z\"/>\n",
              "  </svg>\n",
              "      </button>\n",
              "      \n",
              "  <style>\n",
              "    .colab-df-container {\n",
              "      display:flex;\n",
              "      flex-wrap:wrap;\n",
              "      gap: 12px;\n",
              "    }\n",
              "\n",
              "    .colab-df-convert {\n",
              "      background-color: #E8F0FE;\n",
              "      border: none;\n",
              "      border-radius: 50%;\n",
              "      cursor: pointer;\n",
              "      display: none;\n",
              "      fill: #1967D2;\n",
              "      height: 32px;\n",
              "      padding: 0 0 0 0;\n",
              "      width: 32px;\n",
              "    }\n",
              "\n",
              "    .colab-df-convert:hover {\n",
              "      background-color: #E2EBFA;\n",
              "      box-shadow: 0px 1px 2px rgba(60, 64, 67, 0.3), 0px 1px 3px 1px rgba(60, 64, 67, 0.15);\n",
              "      fill: #174EA6;\n",
              "    }\n",
              "\n",
              "    [theme=dark] .colab-df-convert {\n",
              "      background-color: #3B4455;\n",
              "      fill: #D2E3FC;\n",
              "    }\n",
              "\n",
              "    [theme=dark] .colab-df-convert:hover {\n",
              "      background-color: #434B5C;\n",
              "      box-shadow: 0px 1px 3px 1px rgba(0, 0, 0, 0.15);\n",
              "      filter: drop-shadow(0px 1px 2px rgba(0, 0, 0, 0.3));\n",
              "      fill: #FFFFFF;\n",
              "    }\n",
              "  </style>\n",
              "\n",
              "      <script>\n",
              "        const buttonEl =\n",
              "          document.querySelector('#df-94189a1c-fef6-48e0-8a30-1a38321ae36e button.colab-df-convert');\n",
              "        buttonEl.style.display =\n",
              "          google.colab.kernel.accessAllowed ? 'block' : 'none';\n",
              "\n",
              "        async function convertToInteractive(key) {\n",
              "          const element = document.querySelector('#df-94189a1c-fef6-48e0-8a30-1a38321ae36e');\n",
              "          const dataTable =\n",
              "            await google.colab.kernel.invokeFunction('convertToInteractive',\n",
              "                                                     [key], {});\n",
              "          if (!dataTable) return;\n",
              "\n",
              "          const docLinkHtml = 'Like what you see? Visit the ' +\n",
              "            '<a target=\"_blank\" href=https://colab.research.google.com/notebooks/data_table.ipynb>data table notebook</a>'\n",
              "            + ' to learn more about interactive tables.';\n",
              "          element.innerHTML = '';\n",
              "          dataTable['output_type'] = 'display_data';\n",
              "          await google.colab.output.renderOutput(dataTable, element);\n",
              "          const docLink = document.createElement('div');\n",
              "          docLink.innerHTML = docLinkHtml;\n",
              "          element.appendChild(docLink);\n",
              "        }\n",
              "      </script>\n",
              "    </div>\n",
              "  </div>\n",
              "  "
            ]
          },
          "metadata": {},
          "execution_count": 10
        }
      ],
      "source": [
        "test_data = pd.DataFrame({'text': X_test, 'label': y_test})\n",
        "test_data"
      ]
    },
    {
      "cell_type": "markdown",
      "metadata": {
        "id": "OiEsQgky_HtA"
      },
      "source": [
        "# Text Preprocessing "
      ]
    },
    {
      "cell_type": "code",
      "execution_count": null,
      "metadata": {
        "id": "gBlxYHn9_C_e"
      },
      "outputs": [],
      "source": [
        "import requests\n",
        "stopwords_list = requests.get(\"https://github.com/stopwords-iso/stopwords-en/blob/master/stopwords-en.txt\").content\n",
        "stopwords = set(stopwords_list.decode().splitlines())"
      ]
    },
    {
      "cell_type": "code",
      "execution_count": null,
      "metadata": {
        "id": "trlE3rdD_Lr7"
      },
      "outputs": [],
      "source": [
        "import string\n",
        "from nltk.corpus import stopwords\n",
        "from sklearn.feature_extraction.text import ENGLISH_STOP_WORDS\n",
        "sklearn_stopwords = ENGLISH_STOP_WORDS\n",
        "\n",
        "stop_words = set(stopwords.words('english'))\n",
        "stop_words.update(sklearn_stopwords)\n",
        "\n",
        "def text_preprocessing(raw_text):\n",
        "  text_words = raw_text.translate(str.maketrans('', '', string.punctuation))\n",
        "  msg_tokens = word_tokenize(text_words.lower())\n",
        "  filtered_text = [token for token in msg_tokens if not token in stop_words]\n",
        "  return \" \".join(filtered_text)"
      ]
    },
    {
      "cell_type": "code",
      "execution_count": null,
      "metadata": {
        "colab": {
          "base_uri": "https://localhost:8080/",
          "height": 424
        },
        "id": "bnTrzKDQALIB",
        "outputId": "a239fe65-dbc2-410b-ea24-c312c19e7be0"
      },
      "outputs": [
        {
          "output_type": "execute_result",
          "data": {
            "text/plain": [
              "                                                  text  label\n",
              "0    novel coronavirus sarscov2 cause highly contag...      0\n",
              "1    incidence thyroid carcinoma increasing world s...      0\n",
              "2    sequential use ayeastcea therapeutic cancervac...      2\n",
              "3    paired box protein8 pax8 immunohistochemical e...      2\n",
              "4    preoperative heart rate variability aprognosti...      2\n",
              "..                                                 ...    ...\n",
              "791  widely usedcancerspecific questionnaire assess...      2\n",
              "792  mathematical models estimate longterm costeffe...      1\n",
              "793  trophoblast cell surface antigen trop2 overexp...      2\n",
              "794  overexpression epithelial cell adhesion molecu...      0\n",
              "795  statistical analysis used chisquare test exami...      1\n",
              "\n",
              "[796 rows x 2 columns]"
            ],
            "text/html": [
              "\n",
              "  <div id=\"df-6f8065c2-def0-4657-b05c-f93a55fe0ebe\">\n",
              "    <div class=\"colab-df-container\">\n",
              "      <div>\n",
              "<style scoped>\n",
              "    .dataframe tbody tr th:only-of-type {\n",
              "        vertical-align: middle;\n",
              "    }\n",
              "\n",
              "    .dataframe tbody tr th {\n",
              "        vertical-align: top;\n",
              "    }\n",
              "\n",
              "    .dataframe thead th {\n",
              "        text-align: right;\n",
              "    }\n",
              "</style>\n",
              "<table border=\"1\" class=\"dataframe\">\n",
              "  <thead>\n",
              "    <tr style=\"text-align: right;\">\n",
              "      <th></th>\n",
              "      <th>text</th>\n",
              "      <th>label</th>\n",
              "    </tr>\n",
              "  </thead>\n",
              "  <tbody>\n",
              "    <tr>\n",
              "      <th>0</th>\n",
              "      <td>novel coronavirus sarscov2 cause highly contag...</td>\n",
              "      <td>0</td>\n",
              "    </tr>\n",
              "    <tr>\n",
              "      <th>1</th>\n",
              "      <td>incidence thyroid carcinoma increasing world s...</td>\n",
              "      <td>0</td>\n",
              "    </tr>\n",
              "    <tr>\n",
              "      <th>2</th>\n",
              "      <td>sequential use ayeastcea therapeutic cancervac...</td>\n",
              "      <td>2</td>\n",
              "    </tr>\n",
              "    <tr>\n",
              "      <th>3</th>\n",
              "      <td>paired box protein8 pax8 immunohistochemical e...</td>\n",
              "      <td>2</td>\n",
              "    </tr>\n",
              "    <tr>\n",
              "      <th>4</th>\n",
              "      <td>preoperative heart rate variability aprognosti...</td>\n",
              "      <td>2</td>\n",
              "    </tr>\n",
              "    <tr>\n",
              "      <th>...</th>\n",
              "      <td>...</td>\n",
              "      <td>...</td>\n",
              "    </tr>\n",
              "    <tr>\n",
              "      <th>791</th>\n",
              "      <td>widely usedcancerspecific questionnaire assess...</td>\n",
              "      <td>2</td>\n",
              "    </tr>\n",
              "    <tr>\n",
              "      <th>792</th>\n",
              "      <td>mathematical models estimate longterm costeffe...</td>\n",
              "      <td>1</td>\n",
              "    </tr>\n",
              "    <tr>\n",
              "      <th>793</th>\n",
              "      <td>trophoblast cell surface antigen trop2 overexp...</td>\n",
              "      <td>2</td>\n",
              "    </tr>\n",
              "    <tr>\n",
              "      <th>794</th>\n",
              "      <td>overexpression epithelial cell adhesion molecu...</td>\n",
              "      <td>0</td>\n",
              "    </tr>\n",
              "    <tr>\n",
              "      <th>795</th>\n",
              "      <td>statistical analysis used chisquare test exami...</td>\n",
              "      <td>1</td>\n",
              "    </tr>\n",
              "  </tbody>\n",
              "</table>\n",
              "<p>796 rows × 2 columns</p>\n",
              "</div>\n",
              "      <button class=\"colab-df-convert\" onclick=\"convertToInteractive('df-6f8065c2-def0-4657-b05c-f93a55fe0ebe')\"\n",
              "              title=\"Convert this dataframe to an interactive table.\"\n",
              "              style=\"display:none;\">\n",
              "        \n",
              "  <svg xmlns=\"http://www.w3.org/2000/svg\" height=\"24px\"viewBox=\"0 0 24 24\"\n",
              "       width=\"24px\">\n",
              "    <path d=\"M0 0h24v24H0V0z\" fill=\"none\"/>\n",
              "    <path d=\"M18.56 5.44l.94 2.06.94-2.06 2.06-.94-2.06-.94-.94-2.06-.94 2.06-2.06.94zm-11 1L8.5 8.5l.94-2.06 2.06-.94-2.06-.94L8.5 2.5l-.94 2.06-2.06.94zm10 10l.94 2.06.94-2.06 2.06-.94-2.06-.94-.94-2.06-.94 2.06-2.06.94z\"/><path d=\"M17.41 7.96l-1.37-1.37c-.4-.4-.92-.59-1.43-.59-.52 0-1.04.2-1.43.59L10.3 9.45l-7.72 7.72c-.78.78-.78 2.05 0 2.83L4 21.41c.39.39.9.59 1.41.59.51 0 1.02-.2 1.41-.59l7.78-7.78 2.81-2.81c.8-.78.8-2.07 0-2.86zM5.41 20L4 18.59l7.72-7.72 1.47 1.35L5.41 20z\"/>\n",
              "  </svg>\n",
              "      </button>\n",
              "      \n",
              "  <style>\n",
              "    .colab-df-container {\n",
              "      display:flex;\n",
              "      flex-wrap:wrap;\n",
              "      gap: 12px;\n",
              "    }\n",
              "\n",
              "    .colab-df-convert {\n",
              "      background-color: #E8F0FE;\n",
              "      border: none;\n",
              "      border-radius: 50%;\n",
              "      cursor: pointer;\n",
              "      display: none;\n",
              "      fill: #1967D2;\n",
              "      height: 32px;\n",
              "      padding: 0 0 0 0;\n",
              "      width: 32px;\n",
              "    }\n",
              "\n",
              "    .colab-df-convert:hover {\n",
              "      background-color: #E2EBFA;\n",
              "      box-shadow: 0px 1px 2px rgba(60, 64, 67, 0.3), 0px 1px 3px 1px rgba(60, 64, 67, 0.15);\n",
              "      fill: #174EA6;\n",
              "    }\n",
              "\n",
              "    [theme=dark] .colab-df-convert {\n",
              "      background-color: #3B4455;\n",
              "      fill: #D2E3FC;\n",
              "    }\n",
              "\n",
              "    [theme=dark] .colab-df-convert:hover {\n",
              "      background-color: #434B5C;\n",
              "      box-shadow: 0px 1px 3px 1px rgba(0, 0, 0, 0.15);\n",
              "      filter: drop-shadow(0px 1px 2px rgba(0, 0, 0, 0.3));\n",
              "      fill: #FFFFFF;\n",
              "    }\n",
              "  </style>\n",
              "\n",
              "      <script>\n",
              "        const buttonEl =\n",
              "          document.querySelector('#df-6f8065c2-def0-4657-b05c-f93a55fe0ebe button.colab-df-convert');\n",
              "        buttonEl.style.display =\n",
              "          google.colab.kernel.accessAllowed ? 'block' : 'none';\n",
              "\n",
              "        async function convertToInteractive(key) {\n",
              "          const element = document.querySelector('#df-6f8065c2-def0-4657-b05c-f93a55fe0ebe');\n",
              "          const dataTable =\n",
              "            await google.colab.kernel.invokeFunction('convertToInteractive',\n",
              "                                                     [key], {});\n",
              "          if (!dataTable) return;\n",
              "\n",
              "          const docLinkHtml = 'Like what you see? Visit the ' +\n",
              "            '<a target=\"_blank\" href=https://colab.research.google.com/notebooks/data_table.ipynb>data table notebook</a>'\n",
              "            + ' to learn more about interactive tables.';\n",
              "          element.innerHTML = '';\n",
              "          dataTable['output_type'] = 'display_data';\n",
              "          await google.colab.output.renderOutput(dataTable, element);\n",
              "          const docLink = document.createElement('div');\n",
              "          docLink.innerHTML = docLinkHtml;\n",
              "          element.appendChild(docLink);\n",
              "        }\n",
              "      </script>\n",
              "    </div>\n",
              "  </div>\n",
              "  "
            ]
          },
          "metadata": {},
          "execution_count": 13
        }
      ],
      "source": [
        "train_data = train_data[['text', 'label']].copy()\n",
        "\n",
        "train_data['text'] = train_data['text'].apply(text_preprocessing)\n",
        "\n",
        "train_data.drop_duplicates(inplace=True)\n",
        "\n",
        "train_data"
      ]
    },
    {
      "cell_type": "code",
      "execution_count": null,
      "metadata": {
        "colab": {
          "base_uri": "https://localhost:8080/",
          "height": 424
        },
        "id": "21_qKNngOiqe",
        "outputId": "fc3b56cf-10d7-43e1-dd38-6e4ea3b3522a"
      },
      "outputs": [
        {
          "output_type": "execute_result",
          "data": {
            "text/plain": [
              "                                                  text  label\n",
              "0    decrease 50 baseline urinary prostaglandin e2 ...      1\n",
              "1    remaining 24 253 differentiated nsclc nos medi...      1\n",
              "2    results exceptional response igf1r inhibitor 5...      1\n",
              "3    detection quantification cancer dna molecules ...      1\n",
              "4    13±04 cm range 0720 cm group 06±03 cm range 03...      1\n",
              "..                                                 ...    ...\n",
              "195  heat shock transcription factor1 hsf1 overexpr...      0\n",
              "196  fundamental influences sex gender modifiers ma...      2\n",
              "197  activation naturalphytochemicals overviewconce...      2\n",
              "198  effects lowdose computed tomography ldct scree...      2\n",
              "199  probands father ii5 sister iii5 unaffected pe...      1\n",
              "\n",
              "[200 rows x 2 columns]"
            ],
            "text/html": [
              "\n",
              "  <div id=\"df-95b2d458-a662-4cae-adde-a0aefe6ec555\">\n",
              "    <div class=\"colab-df-container\">\n",
              "      <div>\n",
              "<style scoped>\n",
              "    .dataframe tbody tr th:only-of-type {\n",
              "        vertical-align: middle;\n",
              "    }\n",
              "\n",
              "    .dataframe tbody tr th {\n",
              "        vertical-align: top;\n",
              "    }\n",
              "\n",
              "    .dataframe thead th {\n",
              "        text-align: right;\n",
              "    }\n",
              "</style>\n",
              "<table border=\"1\" class=\"dataframe\">\n",
              "  <thead>\n",
              "    <tr style=\"text-align: right;\">\n",
              "      <th></th>\n",
              "      <th>text</th>\n",
              "      <th>label</th>\n",
              "    </tr>\n",
              "  </thead>\n",
              "  <tbody>\n",
              "    <tr>\n",
              "      <th>0</th>\n",
              "      <td>decrease 50 baseline urinary prostaglandin e2 ...</td>\n",
              "      <td>1</td>\n",
              "    </tr>\n",
              "    <tr>\n",
              "      <th>1</th>\n",
              "      <td>remaining 24 253 differentiated nsclc nos medi...</td>\n",
              "      <td>1</td>\n",
              "    </tr>\n",
              "    <tr>\n",
              "      <th>2</th>\n",
              "      <td>results exceptional response igf1r inhibitor 5...</td>\n",
              "      <td>1</td>\n",
              "    </tr>\n",
              "    <tr>\n",
              "      <th>3</th>\n",
              "      <td>detection quantification cancer dna molecules ...</td>\n",
              "      <td>1</td>\n",
              "    </tr>\n",
              "    <tr>\n",
              "      <th>4</th>\n",
              "      <td>13±04 cm range 0720 cm group 06±03 cm range 03...</td>\n",
              "      <td>1</td>\n",
              "    </tr>\n",
              "    <tr>\n",
              "      <th>...</th>\n",
              "      <td>...</td>\n",
              "      <td>...</td>\n",
              "    </tr>\n",
              "    <tr>\n",
              "      <th>195</th>\n",
              "      <td>heat shock transcription factor1 hsf1 overexpr...</td>\n",
              "      <td>0</td>\n",
              "    </tr>\n",
              "    <tr>\n",
              "      <th>196</th>\n",
              "      <td>fundamental influences sex gender modifiers ma...</td>\n",
              "      <td>2</td>\n",
              "    </tr>\n",
              "    <tr>\n",
              "      <th>197</th>\n",
              "      <td>activation naturalphytochemicals overviewconce...</td>\n",
              "      <td>2</td>\n",
              "    </tr>\n",
              "    <tr>\n",
              "      <th>198</th>\n",
              "      <td>effects lowdose computed tomography ldct scree...</td>\n",
              "      <td>2</td>\n",
              "    </tr>\n",
              "    <tr>\n",
              "      <th>199</th>\n",
              "      <td>probands father ii5 sister iii5 unaffected pe...</td>\n",
              "      <td>1</td>\n",
              "    </tr>\n",
              "  </tbody>\n",
              "</table>\n",
              "<p>200 rows × 2 columns</p>\n",
              "</div>\n",
              "      <button class=\"colab-df-convert\" onclick=\"convertToInteractive('df-95b2d458-a662-4cae-adde-a0aefe6ec555')\"\n",
              "              title=\"Convert this dataframe to an interactive table.\"\n",
              "              style=\"display:none;\">\n",
              "        \n",
              "  <svg xmlns=\"http://www.w3.org/2000/svg\" height=\"24px\"viewBox=\"0 0 24 24\"\n",
              "       width=\"24px\">\n",
              "    <path d=\"M0 0h24v24H0V0z\" fill=\"none\"/>\n",
              "    <path d=\"M18.56 5.44l.94 2.06.94-2.06 2.06-.94-2.06-.94-.94-2.06-.94 2.06-2.06.94zm-11 1L8.5 8.5l.94-2.06 2.06-.94-2.06-.94L8.5 2.5l-.94 2.06-2.06.94zm10 10l.94 2.06.94-2.06 2.06-.94-2.06-.94-.94-2.06-.94 2.06-2.06.94z\"/><path d=\"M17.41 7.96l-1.37-1.37c-.4-.4-.92-.59-1.43-.59-.52 0-1.04.2-1.43.59L10.3 9.45l-7.72 7.72c-.78.78-.78 2.05 0 2.83L4 21.41c.39.39.9.59 1.41.59.51 0 1.02-.2 1.41-.59l7.78-7.78 2.81-2.81c.8-.78.8-2.07 0-2.86zM5.41 20L4 18.59l7.72-7.72 1.47 1.35L5.41 20z\"/>\n",
              "  </svg>\n",
              "      </button>\n",
              "      \n",
              "  <style>\n",
              "    .colab-df-container {\n",
              "      display:flex;\n",
              "      flex-wrap:wrap;\n",
              "      gap: 12px;\n",
              "    }\n",
              "\n",
              "    .colab-df-convert {\n",
              "      background-color: #E8F0FE;\n",
              "      border: none;\n",
              "      border-radius: 50%;\n",
              "      cursor: pointer;\n",
              "      display: none;\n",
              "      fill: #1967D2;\n",
              "      height: 32px;\n",
              "      padding: 0 0 0 0;\n",
              "      width: 32px;\n",
              "    }\n",
              "\n",
              "    .colab-df-convert:hover {\n",
              "      background-color: #E2EBFA;\n",
              "      box-shadow: 0px 1px 2px rgba(60, 64, 67, 0.3), 0px 1px 3px 1px rgba(60, 64, 67, 0.15);\n",
              "      fill: #174EA6;\n",
              "    }\n",
              "\n",
              "    [theme=dark] .colab-df-convert {\n",
              "      background-color: #3B4455;\n",
              "      fill: #D2E3FC;\n",
              "    }\n",
              "\n",
              "    [theme=dark] .colab-df-convert:hover {\n",
              "      background-color: #434B5C;\n",
              "      box-shadow: 0px 1px 3px 1px rgba(0, 0, 0, 0.15);\n",
              "      filter: drop-shadow(0px 1px 2px rgba(0, 0, 0, 0.3));\n",
              "      fill: #FFFFFF;\n",
              "    }\n",
              "  </style>\n",
              "\n",
              "      <script>\n",
              "        const buttonEl =\n",
              "          document.querySelector('#df-95b2d458-a662-4cae-adde-a0aefe6ec555 button.colab-df-convert');\n",
              "        buttonEl.style.display =\n",
              "          google.colab.kernel.accessAllowed ? 'block' : 'none';\n",
              "\n",
              "        async function convertToInteractive(key) {\n",
              "          const element = document.querySelector('#df-95b2d458-a662-4cae-adde-a0aefe6ec555');\n",
              "          const dataTable =\n",
              "            await google.colab.kernel.invokeFunction('convertToInteractive',\n",
              "                                                     [key], {});\n",
              "          if (!dataTable) return;\n",
              "\n",
              "          const docLinkHtml = 'Like what you see? Visit the ' +\n",
              "            '<a target=\"_blank\" href=https://colab.research.google.com/notebooks/data_table.ipynb>data table notebook</a>'\n",
              "            + ' to learn more about interactive tables.';\n",
              "          element.innerHTML = '';\n",
              "          dataTable['output_type'] = 'display_data';\n",
              "          await google.colab.output.renderOutput(dataTable, element);\n",
              "          const docLink = document.createElement('div');\n",
              "          docLink.innerHTML = docLinkHtml;\n",
              "          element.appendChild(docLink);\n",
              "        }\n",
              "      </script>\n",
              "    </div>\n",
              "  </div>\n",
              "  "
            ]
          },
          "metadata": {},
          "execution_count": 14
        }
      ],
      "source": [
        "test_data = test_data[['text', 'label']].copy()\n",
        "\n",
        "test_data['text'] = test_data['text'].apply(text_preprocessing)\n",
        "\n",
        "test_data.drop_duplicates(inplace=True)\n",
        "\n",
        "test_data"
      ]
    },
    {
      "cell_type": "markdown",
      "metadata": {
        "id": "m-8gEBwNA7PN"
      },
      "source": [
        "# Feature Extraction"
      ]
    },
    {
      "cell_type": "code",
      "execution_count": null,
      "metadata": {
        "colab": {
          "base_uri": "https://localhost:8080/"
        },
        "id": "qhU5I2TaBIUz",
        "outputId": "00f6501e-bea8-4e5d-baef-326e03953d7b"
      },
      "outputs": [
        {
          "output_type": "stream",
          "name": "stdout",
          "text": [
            "[==================================================] 100.0% 1662.8/1662.8MB downloaded\n"
          ]
        }
      ],
      "source": [
        "word2vec_model = api.load(\"word2vec-google-news-300\")"
      ]
    },
    {
      "cell_type": "code",
      "execution_count": null,
      "metadata": {
        "id": "XOa6vzkoAhaN"
      },
      "outputs": [],
      "source": [
        "def get_text_vec(sent):\n",
        "  vector = np.mean(np.array([word2vec_model[token] for token in word_tokenize(sent) if token in word2vec_model.key_to_index]), axis=0)\n",
        "  if np.all(np.isnan(vector)) :\n",
        "    return np.zeros(300)\n",
        "  return vector"
      ]
    },
    {
      "cell_type": "code",
      "execution_count": null,
      "metadata": {
        "id": "M-b-fuZXEjnH"
      },
      "outputs": [],
      "source": [
        "X_test = np.stack(np.array([get_text_vec(text) for text in test_data['text'].values]))"
      ]
    },
    {
      "cell_type": "code",
      "execution_count": null,
      "metadata": {
        "colab": {
          "base_uri": "https://localhost:8080/"
        },
        "id": "lDfVSWFzEpwH",
        "outputId": "08ab197b-98e0-4bcf-f331-12dde4768f1a"
      },
      "outputs": [
        {
          "output_type": "execute_result",
          "data": {
            "text/plain": [
              "(200, 300)"
            ]
          },
          "metadata": {},
          "execution_count": 20
        }
      ],
      "source": [
        "X_test.shape"
      ]
    },
    {
      "cell_type": "code",
      "execution_count": null,
      "metadata": {
        "id": "NCi6wK0kPACs"
      },
      "outputs": [],
      "source": [
        "y_test = test_data['label'].values"
      ]
    },
    {
      "cell_type": "code",
      "execution_count": null,
      "metadata": {
        "colab": {
          "base_uri": "https://localhost:8080/"
        },
        "id": "0I964n-QPBQE",
        "outputId": "ef7ee81c-a745-451b-846c-8dbd78a0ecd0"
      },
      "outputs": [
        {
          "output_type": "execute_result",
          "data": {
            "text/plain": [
              "(200,)"
            ]
          },
          "metadata": {},
          "execution_count": 22
        }
      ],
      "source": [
        "y_test.shape"
      ]
    },
    {
      "cell_type": "markdown",
      "metadata": {
        "id": "TEqW7eb9BkwW"
      },
      "source": [
        "# Model selection, training and evaluation"
      ]
    },
    {
      "cell_type": "code",
      "execution_count": null,
      "metadata": {
        "id": "OoEtJG3G4qMB"
      },
      "outputs": [],
      "source": [
        "def f_beta_score(y_true, y_pred):\n",
        "  return fbeta_score(y_true, y_pred, beta=2, average='macro')\n",
        "\n",
        "f2_score = make_scorer(f_beta_score, greater_is_better=True)"
      ]
    },
    {
      "cell_type": "code",
      "execution_count": null,
      "metadata": {
        "id": "JU8v73f74qAG"
      },
      "outputs": [],
      "source": [
        "from datetime import datetime\n",
        "\n",
        "def save_cross_validation(results, file_name):\n",
        "  results_to_save = pd.DataFrame(columns=['Accuracy', 'Recall', 'Precision', 'F1 Score', 'F2 Score'])\n",
        "  for i in range(0, 10):\n",
        "    results_to_save.loc[i] = [\n",
        "      results['split{}_test_Accuracy'.format(i)][0],\n",
        "      results['split{}_test_Recall'.format(i)][0],\n",
        "      results['split{}_test_Precision'.format(i)][0],\n",
        "      results['split{}_test_F1'.format(i)][0],\n",
        "      results['split{}_test_F2'.format(i)][0]\n",
        "    ]\n",
        "  results_to_save.to_csv('{}Results/{}_{}.csv'.format(dir_name+'experiments/Cancer Doc/', file_name, datetime.now().strftime(\"%m%d%H%M\")))"
      ]
    },
    {
      "cell_type": "code",
      "execution_count": null,
      "metadata": {
        "id": "CP817Ht44p0i"
      },
      "outputs": [],
      "source": [
        "def train_model(classifier, param_grid, model_name, train_texts, train_labels, test_texts, test_labels, evaluation_metrics, to_print=True, to_save=False, file_name=None):\n",
        "    \"\"\"\n",
        "    train email classification model.\n",
        "    \"\"\"\n",
        "\n",
        "    # apply grid search to find best model hyper parameters\n",
        "    grid_search = GridSearchCV(classifier, param_grid, cv=10, scoring={'Accuracy': make_scorer(accuracy_score),\n",
        "                                                                       'F1': make_scorer(f1_score, average='macro'),\n",
        "                                                                       'F2': f2_score,\n",
        "                                                                       'Recall': make_scorer(recall_score, average='macro'),\n",
        "                                                                       'Precision': make_scorer(precision_score, average='macro')\n",
        "                                                                       }, refit='F1', n_jobs=-1)\n",
        "    grid_search.fit(train_texts, train_labels)\n",
        "    model = grid_search.best_estimator_\n",
        "\n",
        "    if to_save:\n",
        "      ConfusionMatrixDisplay(save_cross_validation(grid_search.cv_results_, file_name))\n",
        "      plt.show()\n",
        "\n",
        "    # train and test accuracy.\n",
        "    test_accuracy = model.score(test_texts, test_labels)\n",
        "    train_accuracy = model.score(train_texts, train_labels)\n",
        "\n",
        "    # compute F1 score for model evaluation.\n",
        "    y_pred = model.predict(test_texts)\n",
        "\n",
        "    recall = recall_score(test_labels, y_pred, average='macro')\n",
        "    precision = precision_score(test_labels, y_pred, average='macro')\n",
        "    f1score = f1_score(test_labels, y_pred, average='macro')\n",
        "    f2score = fbeta_score(y_test, y_pred, beta=2, average='macro')\n",
        "\n",
        "    if to_print:\n",
        "        print(\"train accuracy = \" + str(train_accuracy))\n",
        "        print(\"test accuracy = \" + str(test_accuracy))\n",
        "        print(\"Recall = {}\".format(recall))\n",
        "        print(\"Precision = {}\".format(precision))\n",
        "        print(\"F1 score = {}\".format(f1score))\n",
        "        print(\"F2 score = {}\".format(f2score))\n",
        "        print(classification_report(test_labels, y_pred))\n",
        "\n",
        "\n",
        "        # plot confusion matrix\n",
        "        cm = confusion_matrix(test_labels, y_pred)\n",
        "        disp = ConfusionMatrixDisplay(confusion_matrix=cm, display_labels=[0,1,2])\n",
        "\n",
        "        disp.plot(cmap=plt.cm.Blues)\n",
        "        plt.show()\n",
        "\n",
        "        # print best model hyper parameters.\n",
        "        print(grid_search.best_params_)\n",
        "\n",
        "    evaluation_metrics.loc[model_name, 'Recall'] = recall\n",
        "    evaluation_metrics.loc[model_name, 'Precision'] = precision\n",
        "    evaluation_metrics.loc[model_name, 'F1 score'] = f1score\n",
        "    evaluation_metrics.loc[model_name, 'F2 score'] = f2score\n",
        "\n",
        "    return f1score, f2score\n",
        "\n",
        "\n",
        "def train(model_id, train_texts, train_labels, test_texts, test_labels, evaluation_metrics, to_print=True, to_save=False, file_name=None):\n",
        "    \n",
        "    if model_id == 1:\n",
        "        # Random forest Classification model.\n",
        "        forest_clf = RandomForestClassifier(random_state=42, n_jobs=-1)\n",
        "        forest_param_grid = [{'n_estimators': [50, 75, 100, 150, 200], 'max_features': [8, 9, 10], 'min_samples_split': [25, 30], 'criterion': ['gini','entropy'], 'max_depth': [4, 5]}]\n",
        "\n",
        "        return train_model(forest_clf, forest_param_grid, 'RandomForest', train_texts, train_labels, test_texts, test_labels, evaluation_metrics, to_print, to_save, file_name)\n",
        "\n",
        "    if model_id == 2:\n",
        "        # Support Vector Machine Model.\n",
        "        svc_clf = SVC(random_state=42)\n",
        "        svc_param_grid = [{'kernel': ['rbf', 'poly'], 'degree': [2, 3 , 4, 5]}]\n",
        "\n",
        "        return train_model(svc_clf, svc_param_grid, 'SVM', train_texts, train_labels, test_texts, test_labels, evaluation_metrics, to_print, to_save, file_name)"
      ]
    },
    {
      "cell_type": "markdown",
      "metadata": {
        "id": "2uZCYkLGehXH"
      },
      "source": [
        "#Text Aug."
      ]
    },
    {
      "cell_type": "code",
      "execution_count": null,
      "metadata": {
        "id": "SAUzrPSuSQge"
      },
      "outputs": [],
      "source": [
        "all_similar_words = {}"
      ]
    },
    {
      "cell_type": "code",
      "execution_count": null,
      "metadata": {
        "id": "aI3gzTmwF5Qv"
      },
      "outputs": [],
      "source": [
        "def get_similar_words(word, similarity_threshold = 0.6):\n",
        "  if word not in all_similar_words:\n",
        "    similar_words = []\n",
        "    for w, sim in word2vec_model.most_similar(positive=[word]):\n",
        "      if sim >= similarity_threshold:\n",
        "        similar_words.append(w)\n",
        "    all_similar_words[word] = list(set(similar_words))\n",
        "  return all_similar_words[word]"
      ]
    },
    {
      "cell_type": "code",
      "execution_count": null,
      "metadata": {
        "id": "fLnW4qyQV_Jf"
      },
      "outputs": [],
      "source": [
        "import numpy as np\n",
        "from numpy.linalg import norm\n",
        " \n",
        "def cos_sim(v1, v2):\n",
        "  return np.dot(v1, v2)/(norm(v1)*norm(v2))"
      ]
    },
    {
      "cell_type": "code",
      "execution_count": null,
      "metadata": {
        "id": "QqibZqPVQWrL"
      },
      "outputs": [],
      "source": [
        "def get_sentence_augmentations(sentence, word_sim_threshold=.6, sent_sim_threshold=.65):\n",
        "  sent_vec = get_text_vec(sentence)\n",
        "  sentence_tokens = word_tokenize(sentence.lower())\n",
        "  pos_tags = dict(pos_tag(sentence_tokens))\n",
        "  new_sentences = []\n",
        "  for word in sentence_tokens:\n",
        "    if word in word2vec_model.key_to_index and pos_tags[word] in ['NN', 'NNS', 'JJ', 'JJR', 'JJS', 'RB', 'RBR', 'RBS', 'VB', 'VBG', 'VBD', 'VBN', 'VBP', 'VBZ']:\n",
        "      similar_words = get_similar_words(word, word_sim_threshold)\n",
        "      if len(similar_words) > 0:\n",
        "        for similar_word in similar_words:\n",
        "          new_sentence = sentence.replace(word, similar_word)\n",
        "          new_sent_vec = get_text_vec(new_sentence)\n",
        "          if cos_sim(sent_vec, new_sent_vec) >= sent_sim_threshold:\n",
        "            new_sentences.append(new_sentence.lower())\n",
        "\n",
        "  return new_sentences"
      ]
    },
    {
      "cell_type": "code",
      "execution_count": null,
      "metadata": {
        "id": "RmMcwbgRZMwz"
      },
      "outputs": [],
      "source": [
        "def my_augmentation(prepro_dataset, lable, word_sim_threshold=.6, sent_sim_threshold=.65):\n",
        "  texts = prepro_dataset.loc[prepro_dataset['label'] == lable]['text'].values\n",
        "  texts_num = len(texts)\n",
        "  new_texts = []\n",
        "  i = 0\n",
        "  \n",
        "  for text in texts:\n",
        "    if i % 20 == 0:\n",
        "      print(f\" {int(100*i/texts_num)} %\")\n",
        "    new_texts.extend(get_sentence_augmentations(text, word_sim_threshold, sent_sim_threshold))\n",
        "    i += 1\n",
        "  augmentations = prepro_dataset[['text', 'label']].copy().append(pd.DataFrame({'label':[lable] * len(new_texts), 'text':new_texts}), ignore_index = True)\n",
        "  augmentations.drop_duplicates(inplace=True)\n",
        "  return augmentations.sample(frac=1)"
      ]
    },
    {
      "cell_type": "code",
      "execution_count": null,
      "metadata": {
        "colab": {
          "base_uri": "https://localhost:8080/"
        },
        "id": "TU54YZJxZ9K6",
        "outputId": "eea7c6e1-451e-42b7-9c25-469028f5a054"
      },
      "outputs": [
        {
          "output_type": "stream",
          "name": "stdout",
          "text": [
            " 0 %\n",
            " 9 %\n",
            " 19 %\n",
            " 28 %\n",
            " 38 %\n",
            " 47 %\n",
            " 57 %\n",
            " 66 %\n",
            " 76 %\n",
            " 86 %\n",
            " 95 %\n"
          ]
        },
        {
          "output_type": "stream",
          "name": "stderr",
          "text": [
            "<ipython-input-27-3324af94901a>:12: FutureWarning: The frame.append method is deprecated and will be removed from pandas in a future version. Use pandas.concat instead.\n",
            "  augmentations = prepro_dataset[['text', 'label']].copy().append(pd.DataFrame({'label':[lable] * len(new_texts), 'text':new_texts}), ignore_index = True)\n"
          ]
        }
      ],
      "source": [
        "augmented_dataset = my_augmentation(train_data, lable=0, word_sim_threshold=.95, sent_sim_threshold=.95)"
      ]
    },
    {
      "cell_type": "code",
      "execution_count": null,
      "metadata": {
        "colab": {
          "base_uri": "https://localhost:8080/"
        },
        "id": "XSK_W8Y-bCe3",
        "outputId": "39a67eca-98c1-4c6c-8b95-824542c687eb"
      },
      "outputs": [
        {
          "output_type": "stream",
          "name": "stdout",
          "text": [
            " 0 %\n",
            " 8 %\n",
            " 17 %\n",
            " 26 %\n",
            " 35 %\n",
            " 44 %\n",
            " 53 %\n",
            " 61 %\n",
            " 70 %\n",
            " 79 %\n",
            " 88 %\n",
            " 97 %\n"
          ]
        },
        {
          "output_type": "stream",
          "name": "stderr",
          "text": [
            "<ipython-input-27-3324af94901a>:12: FutureWarning: The frame.append method is deprecated and will be removed from pandas in a future version. Use pandas.concat instead.\n",
            "  augmentations = prepro_dataset[['text', 'label']].copy().append(pd.DataFrame({'label':[lable] * len(new_texts), 'text':new_texts}), ignore_index = True)\n"
          ]
        }
      ],
      "source": [
        "augmented_dataset = my_augmentation(augmented_dataset, lable=2, word_sim_threshold=.95, sent_sim_threshold=.95)"
      ]
    },
    {
      "cell_type": "code",
      "source": [
        "augmented_dataset"
      ],
      "metadata": {
        "colab": {
          "base_uri": "https://localhost:8080/",
          "height": 423
        },
        "id": "opBTwqdq4dZ7",
        "outputId": "30cb24a0-aebe-41aa-d4b3-e99c48ac5a6a"
      },
      "execution_count": null,
      "outputs": [
        {
          "output_type": "execute_result",
          "data": {
            "text/plain": [
              "      Unnamed: 0                                               text  label\n",
              "0            510  accordingly protease inhibitor e64d partially ...      1\n",
              "1           1237  american joint committee cancer ajcc cancer st...      2\n",
              "2           1162  pralatrexate folate analogue inhibitor dihydro...      2\n",
              "3            192  functionally validate point promoters nme2 tar...      1\n",
              "4           1119  proteasomes cell nucleus cytoplasm play major ...      2\n",
              "...          ...                                                ...    ...\n",
              "1238         325  case reportpublished august 103389fbioe2020009...      2\n",
              "1239        1215  drug resistance leads tumor relapse progressio...      2\n",
              "1240         725  objective cannabinoids able reduce tumor growt...      0\n",
              "1241         285  late novel coronavirus officially named severe...      0\n",
              "1242         647  concluded combination selective mek inhibitor ...      1\n",
              "\n",
              "[1243 rows x 3 columns]"
            ],
            "text/html": [
              "\n",
              "  <div id=\"df-894bec65-b109-4959-946f-ba4ec4181d64\">\n",
              "    <div class=\"colab-df-container\">\n",
              "      <div>\n",
              "<style scoped>\n",
              "    .dataframe tbody tr th:only-of-type {\n",
              "        vertical-align: middle;\n",
              "    }\n",
              "\n",
              "    .dataframe tbody tr th {\n",
              "        vertical-align: top;\n",
              "    }\n",
              "\n",
              "    .dataframe thead th {\n",
              "        text-align: right;\n",
              "    }\n",
              "</style>\n",
              "<table border=\"1\" class=\"dataframe\">\n",
              "  <thead>\n",
              "    <tr style=\"text-align: right;\">\n",
              "      <th></th>\n",
              "      <th>Unnamed: 0</th>\n",
              "      <th>text</th>\n",
              "      <th>label</th>\n",
              "    </tr>\n",
              "  </thead>\n",
              "  <tbody>\n",
              "    <tr>\n",
              "      <th>0</th>\n",
              "      <td>510</td>\n",
              "      <td>accordingly protease inhibitor e64d partially ...</td>\n",
              "      <td>1</td>\n",
              "    </tr>\n",
              "    <tr>\n",
              "      <th>1</th>\n",
              "      <td>1237</td>\n",
              "      <td>american joint committee cancer ajcc cancer st...</td>\n",
              "      <td>2</td>\n",
              "    </tr>\n",
              "    <tr>\n",
              "      <th>2</th>\n",
              "      <td>1162</td>\n",
              "      <td>pralatrexate folate analogue inhibitor dihydro...</td>\n",
              "      <td>2</td>\n",
              "    </tr>\n",
              "    <tr>\n",
              "      <th>3</th>\n",
              "      <td>192</td>\n",
              "      <td>functionally validate point promoters nme2 tar...</td>\n",
              "      <td>1</td>\n",
              "    </tr>\n",
              "    <tr>\n",
              "      <th>4</th>\n",
              "      <td>1119</td>\n",
              "      <td>proteasomes cell nucleus cytoplasm play major ...</td>\n",
              "      <td>2</td>\n",
              "    </tr>\n",
              "    <tr>\n",
              "      <th>...</th>\n",
              "      <td>...</td>\n",
              "      <td>...</td>\n",
              "      <td>...</td>\n",
              "    </tr>\n",
              "    <tr>\n",
              "      <th>1238</th>\n",
              "      <td>325</td>\n",
              "      <td>case reportpublished august 103389fbioe2020009...</td>\n",
              "      <td>2</td>\n",
              "    </tr>\n",
              "    <tr>\n",
              "      <th>1239</th>\n",
              "      <td>1215</td>\n",
              "      <td>drug resistance leads tumor relapse progressio...</td>\n",
              "      <td>2</td>\n",
              "    </tr>\n",
              "    <tr>\n",
              "      <th>1240</th>\n",
              "      <td>725</td>\n",
              "      <td>objective cannabinoids able reduce tumor growt...</td>\n",
              "      <td>0</td>\n",
              "    </tr>\n",
              "    <tr>\n",
              "      <th>1241</th>\n",
              "      <td>285</td>\n",
              "      <td>late novel coronavirus officially named severe...</td>\n",
              "      <td>0</td>\n",
              "    </tr>\n",
              "    <tr>\n",
              "      <th>1242</th>\n",
              "      <td>647</td>\n",
              "      <td>concluded combination selective mek inhibitor ...</td>\n",
              "      <td>1</td>\n",
              "    </tr>\n",
              "  </tbody>\n",
              "</table>\n",
              "<p>1243 rows × 3 columns</p>\n",
              "</div>\n",
              "      <button class=\"colab-df-convert\" onclick=\"convertToInteractive('df-894bec65-b109-4959-946f-ba4ec4181d64')\"\n",
              "              title=\"Convert this dataframe to an interactive table.\"\n",
              "              style=\"display:none;\">\n",
              "        \n",
              "  <svg xmlns=\"http://www.w3.org/2000/svg\" height=\"24px\"viewBox=\"0 0 24 24\"\n",
              "       width=\"24px\">\n",
              "    <path d=\"M0 0h24v24H0V0z\" fill=\"none\"/>\n",
              "    <path d=\"M18.56 5.44l.94 2.06.94-2.06 2.06-.94-2.06-.94-.94-2.06-.94 2.06-2.06.94zm-11 1L8.5 8.5l.94-2.06 2.06-.94-2.06-.94L8.5 2.5l-.94 2.06-2.06.94zm10 10l.94 2.06.94-2.06 2.06-.94-2.06-.94-.94-2.06-.94 2.06-2.06.94z\"/><path d=\"M17.41 7.96l-1.37-1.37c-.4-.4-.92-.59-1.43-.59-.52 0-1.04.2-1.43.59L10.3 9.45l-7.72 7.72c-.78.78-.78 2.05 0 2.83L4 21.41c.39.39.9.59 1.41.59.51 0 1.02-.2 1.41-.59l7.78-7.78 2.81-2.81c.8-.78.8-2.07 0-2.86zM5.41 20L4 18.59l7.72-7.72 1.47 1.35L5.41 20z\"/>\n",
              "  </svg>\n",
              "      </button>\n",
              "      \n",
              "  <style>\n",
              "    .colab-df-container {\n",
              "      display:flex;\n",
              "      flex-wrap:wrap;\n",
              "      gap: 12px;\n",
              "    }\n",
              "\n",
              "    .colab-df-convert {\n",
              "      background-color: #E8F0FE;\n",
              "      border: none;\n",
              "      border-radius: 50%;\n",
              "      cursor: pointer;\n",
              "      display: none;\n",
              "      fill: #1967D2;\n",
              "      height: 32px;\n",
              "      padding: 0 0 0 0;\n",
              "      width: 32px;\n",
              "    }\n",
              "\n",
              "    .colab-df-convert:hover {\n",
              "      background-color: #E2EBFA;\n",
              "      box-shadow: 0px 1px 2px rgba(60, 64, 67, 0.3), 0px 1px 3px 1px rgba(60, 64, 67, 0.15);\n",
              "      fill: #174EA6;\n",
              "    }\n",
              "\n",
              "    [theme=dark] .colab-df-convert {\n",
              "      background-color: #3B4455;\n",
              "      fill: #D2E3FC;\n",
              "    }\n",
              "\n",
              "    [theme=dark] .colab-df-convert:hover {\n",
              "      background-color: #434B5C;\n",
              "      box-shadow: 0px 1px 3px 1px rgba(0, 0, 0, 0.15);\n",
              "      filter: drop-shadow(0px 1px 2px rgba(0, 0, 0, 0.3));\n",
              "      fill: #FFFFFF;\n",
              "    }\n",
              "  </style>\n",
              "\n",
              "      <script>\n",
              "        const buttonEl =\n",
              "          document.querySelector('#df-894bec65-b109-4959-946f-ba4ec4181d64 button.colab-df-convert');\n",
              "        buttonEl.style.display =\n",
              "          google.colab.kernel.accessAllowed ? 'block' : 'none';\n",
              "\n",
              "        async function convertToInteractive(key) {\n",
              "          const element = document.querySelector('#df-894bec65-b109-4959-946f-ba4ec4181d64');\n",
              "          const dataTable =\n",
              "            await google.colab.kernel.invokeFunction('convertToInteractive',\n",
              "                                                     [key], {});\n",
              "          if (!dataTable) return;\n",
              "\n",
              "          const docLinkHtml = 'Like what you see? Visit the ' +\n",
              "            '<a target=\"_blank\" href=https://colab.research.google.com/notebooks/data_table.ipynb>data table notebook</a>'\n",
              "            + ' to learn more about interactive tables.';\n",
              "          element.innerHTML = '';\n",
              "          dataTable['output_type'] = 'display_data';\n",
              "          await google.colab.output.renderOutput(dataTable, element);\n",
              "          const docLink = document.createElement('div');\n",
              "          docLink.innerHTML = docLinkHtml;\n",
              "          element.appendChild(docLink);\n",
              "        }\n",
              "      </script>\n",
              "    </div>\n",
              "  </div>\n",
              "  "
            ]
          },
          "metadata": {},
          "execution_count": 18
        }
      ]
    },
    {
      "cell_type": "code",
      "source": [
        "augmented_dataset.to_csv('{}TDAS_95_95.csv'.format(dir_name+'experiments/Cancer Doc/'))"
      ],
      "metadata": {
        "id": "wGGSiNsB9qRz"
      },
      "execution_count": null,
      "outputs": []
    },
    {
      "cell_type": "code",
      "source": [
        "augmented_dataset = pd.read_csv('{}TDAS_95_95.csv'.format(dir_name+'experiments/Cancer Doc/'))"
      ],
      "metadata": {
        "id": "6NOIYle94X0o"
      },
      "execution_count": null,
      "outputs": []
    },
    {
      "cell_type": "code",
      "execution_count": null,
      "metadata": {
        "colab": {
          "base_uri": "https://localhost:8080/",
          "height": 499
        },
        "id": "hRH5FNpUca1L",
        "outputId": "fac20fc5-6e0b-478e-f82c-f2d0af56380b"
      },
      "outputs": [
        {
          "output_type": "display_data",
          "data": {
            "text/plain": [
              "<Figure size 600x600 with 1 Axes>"
            ],
            "image/png": "[encoded data removed]"
          },
          "metadata": {}
        }
      ],
      "source": [
        "get_dataset_statistics(augmented_dataset)"
      ]
    },
    {
      "cell_type": "code",
      "execution_count": null,
      "metadata": {
        "id": "1vbxyQOtbSCr"
      },
      "outputs": [],
      "source": [
        "aug_X_train = np.stack(np.array([get_text_vec(sms_text) for sms_text in augmented_dataset['text'].values]))"
      ]
    },
    {
      "cell_type": "code",
      "execution_count": null,
      "metadata": {
        "colab": {
          "base_uri": "https://localhost:8080/"
        },
        "id": "mFAagANKbUFC",
        "outputId": "8c518dc9-3d69-4fb6-d780-af98777c22fc"
      },
      "outputs": [
        {
          "output_type": "execute_result",
          "data": {
            "text/plain": [
              "(1243, 300)"
            ]
          },
          "metadata": {},
          "execution_count": 27
        }
      ],
      "source": [
        "aug_X_train.shape"
      ]
    },
    {
      "cell_type": "code",
      "execution_count": null,
      "metadata": {
        "id": "Vq9ghif4bUcx"
      },
      "outputs": [],
      "source": [
        "aug_y_train = augmented_dataset['label'].values"
      ]
    },
    {
      "cell_type": "code",
      "execution_count": null,
      "metadata": {
        "colab": {
          "base_uri": "https://localhost:8080/"
        },
        "id": "4W7P0-q6bWUU",
        "outputId": "fddac487-79e2-4efd-ba73-f4cb52e312ab"
      },
      "outputs": [
        {
          "output_type": "execute_result",
          "data": {
            "text/plain": [
              "(1243,)"
            ]
          },
          "metadata": {},
          "execution_count": 29
        }
      ],
      "source": [
        "aug_y_train.shape"
      ]
    },
    {
      "cell_type": "code",
      "execution_count": null,
      "metadata": {
        "id": "pQ-8E3FtbXok"
      },
      "outputs": [],
      "source": [
        "evaluation_metrics_aug = pd.DataFrame(columns = ['Recall', 'Precision', 'F1 score', 'F2 score'])"
      ]
    },
    {
      "cell_type": "markdown",
      "metadata": {
        "id": "y9XIrUB5FhnC"
      },
      "source": [
        "#Random Forest"
      ]
    },
    {
      "cell_type": "code",
      "source": [
        "train(1, aug_X_train, aug_y_train, X_test, y_test, evaluation_metrics_aug, to_save=True, file_name='TDAS_RF')"
      ],
      "metadata": {
        "colab": {
          "base_uri": "https://localhost:8080/",
          "height": 781
        },
        "id": "NVO5LcRZXGDa",
        "outputId": "3537681a-f709-4160-8a7d-1ebdcd5f6022"
      },
      "execution_count": null,
      "outputs": [
        {
          "output_type": "stream",
          "name": "stdout",
          "text": [
            "train accuracy = 0.9058728881737731\n",
            "test accuracy = 0.73\n",
            "Recall = 0.6893837156995053\n",
            "Precision = 0.6948207838856032\n",
            "F1 score = 0.6864708186447316\n",
            "F2 score = 0.686980668933327\n",
            "              precision    recall  f1-score   support\n",
            "\n",
            "           0       0.54      0.65      0.59        52\n",
            "           1       0.89      0.92      0.91        91\n",
            "           2       0.65      0.49      0.56        57\n",
            "\n",
            "    accuracy                           0.73       200\n",
            "   macro avg       0.69      0.69      0.69       200\n",
            "weighted avg       0.73      0.73      0.73       200\n",
            "\n"
          ]
        },
        {
          "output_type": "display_data",
          "data": {
            "text/plain": [
              "<Figure size 640x480 with 2 Axes>"
            ],
            "image/png": "[encoded data removed]"
          },
          "metadata": {}
        },
        {
          "output_type": "stream",
          "name": "stdout",
          "text": [
            "{'criterion': 'entropy', 'max_depth': 5, 'max_features': 9, 'min_samples_split': 25, 'n_estimators': 200}\n"
          ]
        },
        {
          "output_type": "execute_result",
          "data": {
            "text/plain": [
              "(0.6864708186447316, 0.686980668933327)"
            ]
          },
          "metadata": {},
          "execution_count": 49
        }
      ]
    },
    {
      "cell_type": "markdown",
      "metadata": {
        "id": "XmwRxKxMe-Uf"
      },
      "source": [
        "#SVM"
      ]
    },
    {
      "cell_type": "code",
      "execution_count": null,
      "metadata": {
        "colab": {
          "base_uri": "https://localhost:8080/",
          "height": 781
        },
        "id": "brFZA-QEPdjq",
        "outputId": "cb80b797-8a23-44d1-8da1-c7d46a1c2222"
      },
      "outputs": [
        {
          "output_type": "stream",
          "name": "stdout",
          "text": [
            "train accuracy = 0.8149637972646823\n",
            "test accuracy = 0.75\n",
            "Recall = 0.7134020949810423\n",
            "Precision = 0.7217997066834276\n",
            "F1 score = 0.7051940235585176\n",
            "F2 score = 0.7070028110040812\n",
            "              precision    recall  f1-score   support\n",
            "\n",
            "           0       0.53      0.75      0.62        52\n",
            "           1       0.99      0.93      0.96        91\n",
            "           2       0.65      0.46      0.54        57\n",
            "\n",
            "    accuracy                           0.75       200\n",
            "   macro avg       0.72      0.71      0.71       200\n",
            "weighted avg       0.77      0.75      0.75       200\n",
            "\n"
          ]
        },
        {
          "output_type": "display_data",
          "data": {
            "text/plain": [
              "<Figure size 640x480 with 2 Axes>"
            ],
            "image/png": "[encoded data removed]"
          },
          "metadata": {}
        },
        {
          "output_type": "stream",
          "name": "stdout",
          "text": [
            "{'degree': 2, 'kernel': 'rbf'}\n"
          ]
        },
        {
          "output_type": "execute_result",
          "data": {
            "text/plain": [
              "(0.7051940235585176, 0.7070028110040812)"
            ]
          },
          "metadata": {},
          "execution_count": 66
        }
      ],
      "source": [
        "train(2, aug_X_train, aug_y_train, X_test, y_test, evaluation_metrics_aug, to_save=True, file_name='TDAS_SVM')"
      ]
    },
    {
      "cell_type": "code",
      "execution_count": null,
      "metadata": {
        "id": "rUx4qBemUkfe"
      },
      "outputs": [],
      "source": [
        "evaluation_metrics_aug"
      ]
    },
    {
      "cell_type": "markdown",
      "metadata": {
        "id": "NBKdcusiewBl"
      },
      "source": [
        "#BiLSTM"
      ]
    },
    {
      "cell_type": "code",
      "execution_count": null,
      "metadata": {
        "id": "rx-x05DdewcE"
      },
      "outputs": [],
      "source": [
        "import random\n",
        "import tensorflow as tf \n",
        "from tensorflow import keras \n",
        "from tensorflow.keras import layers\n",
        "from sklearn.metrics import ConfusionMatrixDisplay\n",
        "from tensorflow.keras.layers import Dropout\n",
        "from tensorflow.keras import regularizers\n",
        "from sklearn.model_selection import StratifiedKFold"
      ]
    },
    {
      "cell_type": "code",
      "source": [
        "def create_blstm_model(train_texts):\n",
        "\n",
        "  vectorize_layer = layers.TextVectorization(max_tokens=50000, output_sequence_length=2000)\n",
        "\n",
        "  vectorize_layer.adapt(train_texts)\n",
        "\n",
        "  embedding_layer = layers.Embedding(input_dim=50000, output_dim=100, input_length=2000)\n",
        "\n",
        "  model = tf.keras.models.Sequential()\n",
        "  model.add(tf.keras.Input(shape=(1,), dtype=tf.string))\n",
        "  model.add(vectorize_layer)\n",
        "  model.add(embedding_layer)\n",
        "\n",
        "  model.add(layers.Bidirectional(layers.LSTM(40, bias_regularizer=regularizers.L2(1e-2), kernel_regularizer=regularizers.L1L2(l1=1e-3, l2=1e-3), activity_regularizer=regularizers.L2(1e-2))))\n",
        "  model.add(Dropout(0.2))\n",
        "  model.add(layers.Dense(3, activation='softmax'))\n",
        "\n",
        "\n",
        "  model.compile(optimizer=keras.optimizers.Adam(),\n",
        "                loss='sparse_categorical_crossentropy',\n",
        "                metrics=['accuracy'])  \n",
        "  print(model.summary())\n",
        "  \n",
        "  return model"
      ],
      "metadata": {
        "id": "XjD_IhugJyBh"
      },
      "execution_count": null,
      "outputs": []
    },
    {
      "cell_type": "markdown",
      "source": [
        "# Cross Validation"
      ],
      "metadata": {
        "id": "yoaBB8aXQj4b"
      }
    },
    {
      "cell_type": "code",
      "source": [
        "def cv_blstm():\n",
        "\n",
        "  kf = StratifiedKFold(10, shuffle=True, random_state=42) \n",
        "  cv_metrics = pd.DataFrame(columns = ['Recall', 'Precision', 'F1 score', 'F2 score'])\n",
        "\n",
        "  fold = 0\n",
        "\n",
        "  X = augmented_dataset['text'].values\n",
        "  Y = augmented_dataset['label'].values\n",
        "\n",
        "  for train, val in kf.split(X, Y):  \n",
        "  \n",
        "    print(f\"Fold {fold}\")\n",
        "\n",
        "    train_texts = X[train]\n",
        "    train_labels = Y[train]\n",
        "    test_texts = X[val]\n",
        "    test_labels = Y[val]\n",
        "\n",
        "    blstm_model = create_blstm_model(train_texts)\n",
        "\n",
        "    history = blstm_model.fit(train_texts,\n",
        "                              train_labels,\n",
        "                              epochs=10,\n",
        "                              batch_size=16,\n",
        "                              validation_data=(test_texts, test_labels))\n",
        "\n",
        "    blstm_model.evaluate(test_texts, test_labels)\n",
        "    y_pred = np.round(blstm_model.predict(test_texts))\n",
        "    y_pred = np.argmax(y_pred, axis=1)\n",
        "\n",
        "    f1_sc = f1_score(test_labels, y_pred, average='macro')\n",
        "    f2score = fbeta_score(test_labels, y_pred, beta=2, average='macro')\n",
        "\n",
        "    cv_metrics.loc[fold, 'Recall'] = recall_score(test_labels, y_pred, average='macro')\n",
        "    cv_metrics.loc[fold, 'Precision'] = precision_score(test_labels, y_pred, average='macro')\n",
        "    cv_metrics.loc[fold, 'F1 score'] = f1_sc\n",
        "    cv_metrics.loc[fold, 'F2 score'] = f2score\n",
        "    \n",
        "    fold += 1\n",
        "\n",
        "  return cv_metrics"
      ],
      "metadata": {
        "id": "UZd2AtFZQlU4"
      },
      "execution_count": null,
      "outputs": []
    },
    {
      "cell_type": "code",
      "source": [
        "cv_results = cv_blstm()"
      ],
      "metadata": {
        "colab": {
          "base_uri": "https://localhost:8080/"
        },
        "id": "oPlDuoDqQlLc",
        "outputId": "ce4ebe13-4c9e-4fac-c12b-ce82c5afb7ca"
      },
      "execution_count": null,
      "outputs": [
        {
          "output_type": "stream",
          "name": "stdout",
          "text": [
            "Fold 0\n",
            "Model: \"sequential_3\"\n",
            "_________________________________________________________________\n",
            " Layer (type)                Output Shape              Param #   \n",
            "=================================================================\n",
            " text_vectorization_3 (TextV  (None, 2000)             0         \n",
            " ectorization)                                                   \n",
            "                                                                 \n",
            " embedding_3 (Embedding)     (None, 2000, 100)         5000000   \n",
            "                                                                 \n",
            " bidirectional_3 (Bidirectio  (None, 80)               45120     \n",
            " nal)                                                            \n",
            "                                                                 \n",
            " dropout_3 (Dropout)         (None, 80)                0         \n",
            "                                                                 \n",
            " dense_3 (Dense)             (None, 3)                 243       \n",
            "                                                                 \n",
            "=================================================================\n",
            "Total params: 5,045,363\n",
            "Trainable params: 5,045,363\n",
            "Non-trainable params: 0\n",
            "_________________________________________________________________\n",
            "None\n",
            "Epoch 1/10\n",
            "70/70 [==============================] - 22s 269ms/step - loss: 3.3339 - accuracy: 0.5626 - val_loss: 2.3905 - val_accuracy: 0.6720\n",
            "Epoch 2/10\n",
            "70/70 [==============================] - 18s 259ms/step - loss: 1.6585 - accuracy: 0.8014 - val_loss: 1.3426 - val_accuracy: 0.7840\n",
            "Epoch 3/10\n",
            "70/70 [==============================] - 18s 261ms/step - loss: 1.0585 - accuracy: 0.9302 - val_loss: 1.0575 - val_accuracy: 0.8880\n",
            "Epoch 4/10\n",
            "70/70 [==============================] - 17s 240ms/step - loss: 0.8421 - accuracy: 0.9544 - val_loss: 0.9357 - val_accuracy: 0.9200\n",
            "Epoch 5/10\n",
            "70/70 [==============================] - 16s 228ms/step - loss: 0.7329 - accuracy: 0.9589 - val_loss: 0.7919 - val_accuracy: 0.8960\n",
            "Epoch 6/10\n",
            "70/70 [==============================] - 16s 227ms/step - loss: 0.6506 - accuracy: 0.9589 - val_loss: 0.7621 - val_accuracy: 0.9120\n",
            "Epoch 7/10\n",
            "70/70 [==============================] - 15s 221ms/step - loss: 0.5789 - accuracy: 0.9642 - val_loss: 0.6584 - val_accuracy: 0.9200\n",
            "Epoch 8/10\n",
            "70/70 [==============================] - 16s 225ms/step - loss: 0.5139 - accuracy: 0.9544 - val_loss: 0.5925 - val_accuracy: 0.9040\n",
            "Epoch 9/10\n",
            "70/70 [==============================] - 16s 233ms/step - loss: 0.4540 - accuracy: 0.9624 - val_loss: 0.5227 - val_accuracy: 0.9200\n",
            "Epoch 10/10\n",
            "70/70 [==============================] - 16s 222ms/step - loss: 0.4019 - accuracy: 0.9669 - val_loss: 0.4934 - val_accuracy: 0.9200\n",
            "4/4 [==============================] - 0s 82ms/step - loss: 0.4934 - accuracy: 0.9200\n",
            "4/4 [==============================] - 1s 45ms/step\n",
            "Fold 1\n",
            "Model: \"sequential_4\"\n",
            "_________________________________________________________________\n",
            " Layer (type)                Output Shape              Param #   \n",
            "=================================================================\n",
            " text_vectorization_4 (TextV  (None, 2000)             0         \n",
            " ectorization)                                                   \n",
            "                                                                 \n",
            " embedding_4 (Embedding)     (None, 2000, 100)         5000000   \n",
            "                                                                 \n",
            " bidirectional_4 (Bidirectio  (None, 80)               45120     \n",
            " nal)                                                            \n",
            "                                                                 \n",
            " dropout_4 (Dropout)         (None, 80)                0         \n",
            "                                                                 \n",
            " dense_4 (Dense)             (None, 3)                 243       \n",
            "                                                                 \n",
            "=================================================================\n",
            "Total params: 5,045,363\n",
            "Trainable params: 5,045,363\n",
            "Non-trainable params: 0\n",
            "_________________________________________________________________\n",
            "None\n",
            "Epoch 1/10\n",
            "70/70 [==============================] - 23s 274ms/step - loss: 3.3674 - accuracy: 0.5886 - val_loss: 2.4056 - val_accuracy: 0.6720\n",
            "Epoch 2/10\n",
            "70/70 [==============================] - 17s 242ms/step - loss: 1.7405 - accuracy: 0.8131 - val_loss: 1.4009 - val_accuracy: 0.7920\n",
            "Epoch 3/10\n",
            "70/70 [==============================] - 16s 236ms/step - loss: 1.0712 - accuracy: 0.9034 - val_loss: 1.1366 - val_accuracy: 0.8480\n",
            "Epoch 4/10\n",
            "70/70 [==============================] - 17s 235ms/step - loss: 0.9283 - accuracy: 0.9275 - val_loss: 1.2060 - val_accuracy: 0.8160\n",
            "Epoch 5/10\n",
            "70/70 [==============================] - 15s 217ms/step - loss: 0.8172 - accuracy: 0.9428 - val_loss: 1.1054 - val_accuracy: 0.7600\n",
            "Epoch 6/10\n",
            "70/70 [==============================] - 16s 233ms/step - loss: 0.7080 - accuracy: 0.9544 - val_loss: 1.1630 - val_accuracy: 0.7760\n",
            "Epoch 7/10\n",
            "70/70 [==============================] - 17s 237ms/step - loss: 0.6351 - accuracy: 0.9544 - val_loss: 1.0917 - val_accuracy: 0.7840\n",
            "Epoch 8/10\n",
            "70/70 [==============================] - 14s 197ms/step - loss: 0.5908 - accuracy: 0.9526 - val_loss: 1.1375 - val_accuracy: 0.7600\n",
            "Epoch 9/10\n",
            "70/70 [==============================] - 15s 209ms/step - loss: 0.5398 - accuracy: 0.9544 - val_loss: 1.0058 - val_accuracy: 0.7920\n",
            "Epoch 10/10\n",
            "70/70 [==============================] - 15s 216ms/step - loss: 0.4964 - accuracy: 0.9580 - val_loss: 0.9918 - val_accuracy: 0.8160\n",
            "4/4 [==============================] - 0s 50ms/step - loss: 0.9918 - accuracy: 0.8160\n",
            "4/4 [==============================] - 1s 46ms/step\n",
            "Fold 2\n",
            "Model: \"sequential_5\"\n",
            "_________________________________________________________________\n",
            " Layer (type)                Output Shape              Param #   \n",
            "=================================================================\n",
            " text_vectorization_5 (TextV  (None, 2000)             0         \n",
            " ectorization)                                                   \n",
            "                                                                 \n",
            " embedding_5 (Embedding)     (None, 2000, 100)         5000000   \n",
            "                                                                 \n",
            " bidirectional_5 (Bidirectio  (None, 80)               45120     \n",
            " nal)                                                            \n",
            "                                                                 \n",
            " dropout_5 (Dropout)         (None, 80)                0         \n",
            "                                                                 \n",
            " dense_5 (Dense)             (None, 3)                 243       \n",
            "                                                                 \n",
            "=================================================================\n",
            "Total params: 5,045,363\n",
            "Trainable params: 5,045,363\n",
            "Non-trainable params: 0\n",
            "_________________________________________________________________\n",
            "None\n",
            "Epoch 1/10\n",
            "70/70 [==============================] - 22s 265ms/step - loss: 3.3769 - accuracy: 0.5939 - val_loss: 2.3650 - val_accuracy: 0.6720\n",
            "Epoch 2/10\n",
            "70/70 [==============================] - 17s 240ms/step - loss: 1.6835 - accuracy: 0.8345 - val_loss: 1.2900 - val_accuracy: 0.8320\n",
            "Epoch 3/10\n",
            "70/70 [==============================] - 17s 239ms/step - loss: 1.0257 - accuracy: 0.9177 - val_loss: 1.0989 - val_accuracy: 0.8400\n",
            "Epoch 4/10\n",
            "70/70 [==============================] - 17s 238ms/step - loss: 0.8474 - accuracy: 0.9436 - val_loss: 0.9851 - val_accuracy: 0.8160\n",
            "Epoch 5/10\n",
            "70/70 [==============================] - 16s 231ms/step - loss: 0.7567 - accuracy: 0.9445 - val_loss: 0.8763 - val_accuracy: 0.8320\n",
            "Epoch 6/10\n",
            "70/70 [==============================] - 15s 213ms/step - loss: 0.6867 - accuracy: 0.9445 - val_loss: 0.8458 - val_accuracy: 0.8080\n",
            "Epoch 7/10\n",
            "70/70 [==============================] - 15s 217ms/step - loss: 0.5974 - accuracy: 0.9651 - val_loss: 0.8051 - val_accuracy: 0.8320\n",
            "Epoch 8/10\n",
            "70/70 [==============================] - 16s 222ms/step - loss: 0.5461 - accuracy: 0.9553 - val_loss: 0.7502 - val_accuracy: 0.8480\n",
            "Epoch 9/10\n",
            "70/70 [==============================] - 15s 207ms/step - loss: 0.4954 - accuracy: 0.9651 - val_loss: 0.7381 - val_accuracy: 0.8400\n",
            "Epoch 10/10\n",
            "70/70 [==============================] - 15s 209ms/step - loss: 0.4475 - accuracy: 0.9633 - val_loss: 0.7132 - val_accuracy: 0.8240\n",
            "4/4 [==============================] - 0s 85ms/step - loss: 0.7132 - accuracy: 0.8240\n",
            "4/4 [==============================] - 1s 49ms/step\n",
            "Fold 3\n",
            "Model: \"sequential_6\"\n",
            "_________________________________________________________________\n",
            " Layer (type)                Output Shape              Param #   \n",
            "=================================================================\n",
            " text_vectorization_6 (TextV  (None, 2000)             0         \n",
            " ectorization)                                                   \n",
            "                                                                 \n",
            " embedding_6 (Embedding)     (None, 2000, 100)         5000000   \n",
            "                                                                 \n",
            " bidirectional_6 (Bidirectio  (None, 80)               45120     \n",
            " nal)                                                            \n",
            "                                                                 \n",
            " dropout_6 (Dropout)         (None, 80)                0         \n",
            "                                                                 \n",
            " dense_6 (Dense)             (None, 3)                 243       \n",
            "                                                                 \n",
            "=================================================================\n",
            "Total params: 5,045,363\n",
            "Trainable params: 5,045,363\n",
            "Non-trainable params: 0\n",
            "_________________________________________________________________\n",
            "None\n",
            "Epoch 1/10\n",
            "70/70 [==============================] - 22s 266ms/step - loss: 3.3424 - accuracy: 0.6336 - val_loss: 2.3350 - val_accuracy: 0.7339\n",
            "Epoch 2/10\n",
            "70/70 [==============================] - 18s 251ms/step - loss: 1.6874 - accuracy: 0.8338 - val_loss: 1.3519 - val_accuracy: 0.8145\n",
            "Epoch 3/10\n",
            "70/70 [==============================] - 17s 242ms/step - loss: 1.0329 - accuracy: 0.9267 - val_loss: 1.1739 - val_accuracy: 0.8065\n",
            "Epoch 4/10\n",
            "70/70 [==============================] - 16s 234ms/step - loss: 0.8696 - accuracy: 0.9410 - val_loss: 1.0104 - val_accuracy: 0.8387\n",
            "Epoch 5/10\n",
            "70/70 [==============================] - 15s 219ms/step - loss: 0.7512 - accuracy: 0.9419 - val_loss: 0.9436 - val_accuracy: 0.8145\n",
            "Epoch 6/10\n",
            "70/70 [==============================] - 15s 213ms/step - loss: 0.6751 - accuracy: 0.9473 - val_loss: 0.8916 - val_accuracy: 0.8468\n",
            "Epoch 7/10\n",
            "70/70 [==============================] - 15s 215ms/step - loss: 0.5903 - accuracy: 0.9589 - val_loss: 0.8495 - val_accuracy: 0.8065\n",
            "Epoch 8/10\n",
            "70/70 [==============================] - 15s 210ms/step - loss: 0.5319 - accuracy: 0.9625 - val_loss: 0.7218 - val_accuracy: 0.8871\n",
            "Epoch 9/10\n",
            "70/70 [==============================] - 14s 202ms/step - loss: 0.4877 - accuracy: 0.9625 - val_loss: 0.7159 - val_accuracy: 0.8387\n",
            "Epoch 10/10\n",
            "70/70 [==============================] - 15s 215ms/step - loss: 0.4262 - accuracy: 0.9651 - val_loss: 0.7541 - val_accuracy: 0.8306\n",
            "4/4 [==============================] - 0s 76ms/step - loss: 0.7541 - accuracy: 0.8306\n",
            "4/4 [==============================] - 1s 52ms/step\n",
            "Fold 4\n",
            "Model: \"sequential_7\"\n",
            "_________________________________________________________________\n",
            " Layer (type)                Output Shape              Param #   \n",
            "=================================================================\n",
            " text_vectorization_7 (TextV  (None, 2000)             0         \n",
            " ectorization)                                                   \n",
            "                                                                 \n",
            " embedding_7 (Embedding)     (None, 2000, 100)         5000000   \n",
            "                                                                 \n",
            " bidirectional_7 (Bidirectio  (None, 80)               45120     \n",
            " nal)                                                            \n",
            "                                                                 \n",
            " dropout_7 (Dropout)         (None, 80)                0         \n",
            "                                                                 \n",
            " dense_7 (Dense)             (None, 3)                 243       \n",
            "                                                                 \n",
            "=================================================================\n",
            "Total params: 5,045,363\n",
            "Trainable params: 5,045,363\n",
            "Non-trainable params: 0\n",
            "_________________________________________________________________\n",
            "None\n",
            "Epoch 1/10\n",
            "70/70 [==============================] - 23s 265ms/step - loss: 3.3903 - accuracy: 0.5880 - val_loss: 2.4381 - val_accuracy: 0.6855\n",
            "Epoch 2/10\n",
            "70/70 [==============================] - 17s 240ms/step - loss: 1.8600 - accuracy: 0.7945 - val_loss: 1.4946 - val_accuracy: 0.7984\n",
            "Epoch 3/10\n",
            "70/70 [==============================] - 16s 227ms/step - loss: 1.1735 - accuracy: 0.8794 - val_loss: 1.2022 - val_accuracy: 0.8306\n",
            "Epoch 4/10\n",
            "70/70 [==============================] - 16s 229ms/step - loss: 0.9130 - accuracy: 0.9330 - val_loss: 1.1252 - val_accuracy: 0.8387\n",
            "Epoch 5/10\n",
            "70/70 [==============================] - 15s 218ms/step - loss: 0.7910 - accuracy: 0.9526 - val_loss: 1.0260 - val_accuracy: 0.8548\n",
            "Epoch 6/10\n",
            "70/70 [==============================] - 15s 210ms/step - loss: 0.6736 - accuracy: 0.9517 - val_loss: 0.9536 - val_accuracy: 0.8548\n",
            "Epoch 7/10\n",
            "70/70 [==============================] - 15s 210ms/step - loss: 0.5841 - accuracy: 0.9598 - val_loss: 0.8595 - val_accuracy: 0.8548\n",
            "Epoch 8/10\n",
            "70/70 [==============================] - 15s 219ms/step - loss: 0.5022 - accuracy: 0.9607 - val_loss: 0.7772 - val_accuracy: 0.8468\n",
            "Epoch 9/10\n",
            "70/70 [==============================] - 15s 219ms/step - loss: 0.4717 - accuracy: 0.9616 - val_loss: 0.7764 - val_accuracy: 0.8629\n",
            "Epoch 10/10\n",
            "70/70 [==============================] - 14s 194ms/step - loss: 0.4090 - accuracy: 0.9651 - val_loss: 0.7552 - val_accuracy: 0.8468\n",
            "4/4 [==============================] - 0s 51ms/step - loss: 0.7552 - accuracy: 0.8468\n",
            "4/4 [==============================] - 1s 46ms/step\n",
            "Fold 5\n",
            "Model: \"sequential_8\"\n",
            "_________________________________________________________________\n",
            " Layer (type)                Output Shape              Param #   \n",
            "=================================================================\n",
            " text_vectorization_8 (TextV  (None, 2000)             0         \n",
            " ectorization)                                                   \n",
            "                                                                 \n",
            " embedding_8 (Embedding)     (None, 2000, 100)         5000000   \n",
            "                                                                 \n",
            " bidirectional_8 (Bidirectio  (None, 80)               45120     \n",
            " nal)                                                            \n",
            "                                                                 \n",
            " dropout_8 (Dropout)         (None, 80)                0         \n",
            "                                                                 \n",
            " dense_8 (Dense)             (None, 3)                 243       \n",
            "                                                                 \n",
            "=================================================================\n",
            "Total params: 5,045,363\n",
            "Trainable params: 5,045,363\n",
            "Non-trainable params: 0\n",
            "_________________________________________________________________\n",
            "None\n",
            "Epoch 1/10\n",
            "70/70 [==============================] - 21s 250ms/step - loss: 3.3561 - accuracy: 0.6113 - val_loss: 2.2549 - val_accuracy: 0.7984\n",
            "Epoch 2/10\n",
            "70/70 [==============================] - 17s 248ms/step - loss: 1.7378 - accuracy: 0.8168 - val_loss: 1.3085 - val_accuracy: 0.8387\n",
            "Epoch 3/10\n",
            "70/70 [==============================] - 17s 235ms/step - loss: 1.0427 - accuracy: 0.9187 - val_loss: 1.0551 - val_accuracy: 0.8629\n",
            "Epoch 4/10\n",
            "70/70 [==============================] - 15s 216ms/step - loss: 0.8384 - accuracy: 0.9437 - val_loss: 0.8848 - val_accuracy: 0.8952\n",
            "Epoch 5/10\n",
            "70/70 [==============================] - 16s 222ms/step - loss: 0.7452 - accuracy: 0.9392 - val_loss: 0.8423 - val_accuracy: 0.8790\n",
            "Epoch 6/10\n",
            "70/70 [==============================] - 16s 227ms/step - loss: 0.6388 - accuracy: 0.9589 - val_loss: 0.7421 - val_accuracy: 0.8871\n",
            "Epoch 7/10\n",
            "70/70 [==============================] - 13s 192ms/step - loss: 0.5808 - accuracy: 0.9553 - val_loss: 0.7756 - val_accuracy: 0.8710\n",
            "Epoch 8/10\n",
            "70/70 [==============================] - 14s 197ms/step - loss: 0.5560 - accuracy: 0.9553 - val_loss: 0.7762 - val_accuracy: 0.8468\n",
            "Epoch 9/10\n",
            "70/70 [==============================] - 14s 206ms/step - loss: 0.4775 - accuracy: 0.9634 - val_loss: 0.6931 - val_accuracy: 0.8548\n",
            "Epoch 10/10\n",
            "70/70 [==============================] - 15s 214ms/step - loss: 0.4175 - accuracy: 0.9687 - val_loss: 0.6044 - val_accuracy: 0.8629\n",
            "4/4 [==============================] - 0s 48ms/step - loss: 0.6044 - accuracy: 0.8629\n",
            "4/4 [==============================] - 1s 45ms/step\n",
            "Fold 6\n",
            "Model: \"sequential_9\"\n",
            "_________________________________________________________________\n",
            " Layer (type)                Output Shape              Param #   \n",
            "=================================================================\n",
            " text_vectorization_9 (TextV  (None, 2000)             0         \n",
            " ectorization)                                                   \n",
            "                                                                 \n",
            " embedding_9 (Embedding)     (None, 2000, 100)         5000000   \n",
            "                                                                 \n",
            " bidirectional_9 (Bidirectio  (None, 80)               45120     \n",
            " nal)                                                            \n",
            "                                                                 \n",
            " dropout_9 (Dropout)         (None, 80)                0         \n",
            "                                                                 \n",
            " dense_9 (Dense)             (None, 3)                 243       \n",
            "                                                                 \n",
            "=================================================================\n",
            "Total params: 5,045,363\n",
            "Trainable params: 5,045,363\n",
            "Non-trainable params: 0\n",
            "_________________________________________________________________\n",
            "None\n",
            "Epoch 1/10\n",
            "70/70 [==============================] - 22s 256ms/step - loss: 3.3850 - accuracy: 0.5898 - val_loss: 2.3168 - val_accuracy: 0.7581\n",
            "Epoch 2/10\n",
            "70/70 [==============================] - 16s 233ms/step - loss: 1.7351 - accuracy: 0.8052 - val_loss: 1.2178 - val_accuracy: 0.8871\n",
            "Epoch 3/10\n",
            "70/70 [==============================] - 17s 238ms/step - loss: 1.2883 - accuracy: 0.8284 - val_loss: 1.2730 - val_accuracy: 0.8629\n",
            "Epoch 4/10\n",
            "70/70 [==============================] - 16s 232ms/step - loss: 1.0912 - accuracy: 0.9276 - val_loss: 1.0870 - val_accuracy: 0.8871\n",
            "Epoch 5/10\n",
            "70/70 [==============================] - 16s 224ms/step - loss: 0.9050 - accuracy: 0.9553 - val_loss: 0.9960 - val_accuracy: 0.8952\n",
            "Epoch 6/10\n",
            "70/70 [==============================] - 15s 212ms/step - loss: 0.8191 - accuracy: 0.9571 - val_loss: 0.9007 - val_accuracy: 0.9194\n",
            "Epoch 7/10\n",
            "70/70 [==============================] - 14s 205ms/step - loss: 0.7615 - accuracy: 0.9625 - val_loss: 0.8728 - val_accuracy: 0.9032\n",
            "Epoch 8/10\n",
            "70/70 [==============================] - 15s 214ms/step - loss: 0.7051 - accuracy: 0.9634 - val_loss: 0.7923 - val_accuracy: 0.9113\n",
            "Epoch 9/10\n",
            "70/70 [==============================] - 14s 198ms/step - loss: 0.6606 - accuracy: 0.9616 - val_loss: 0.7600 - val_accuracy: 0.9113\n",
            "Epoch 10/10\n",
            "70/70 [==============================] - 14s 192ms/step - loss: 0.6333 - accuracy: 0.9589 - val_loss: 0.7369 - val_accuracy: 0.9032\n",
            "4/4 [==============================] - 0s 48ms/step - loss: 0.7369 - accuracy: 0.9032\n",
            "4/4 [==============================] - 1s 45ms/step\n",
            "Fold 7\n",
            "Model: \"sequential_10\"\n",
            "_________________________________________________________________\n",
            " Layer (type)                Output Shape              Param #   \n",
            "=================================================================\n",
            " text_vectorization_10 (Text  (None, 2000)             0         \n",
            " Vectorization)                                                  \n",
            "                                                                 \n",
            " embedding_10 (Embedding)    (None, 2000, 100)         5000000   \n",
            "                                                                 \n",
            " bidirectional_10 (Bidirecti  (None, 80)               45120     \n",
            " onal)                                                           \n",
            "                                                                 \n",
            " dropout_10 (Dropout)        (None, 80)                0         \n",
            "                                                                 \n",
            " dense_10 (Dense)            (None, 3)                 243       \n",
            "                                                                 \n",
            "=================================================================\n",
            "Total params: 5,045,363\n",
            "Trainable params: 5,045,363\n",
            "Non-trainable params: 0\n",
            "_________________________________________________________________\n",
            "None\n",
            "Epoch 1/10\n",
            "70/70 [==============================] - 22s 258ms/step - loss: 3.3547 - accuracy: 0.6184 - val_loss: 2.4248 - val_accuracy: 0.5806\n",
            "Epoch 2/10\n",
            "70/70 [==============================] - 16s 227ms/step - loss: 1.6190 - accuracy: 0.8418 - val_loss: 1.4511 - val_accuracy: 0.7339\n",
            "Epoch 3/10\n",
            "70/70 [==============================] - 17s 239ms/step - loss: 1.0073 - accuracy: 0.9178 - val_loss: 1.2199 - val_accuracy: 0.7823\n",
            "Epoch 4/10\n",
            "70/70 [==============================] - 15s 215ms/step - loss: 0.8518 - accuracy: 0.9374 - val_loss: 1.1950 - val_accuracy: 0.8145\n",
            "Epoch 5/10\n",
            "70/70 [==============================] - 15s 221ms/step - loss: 0.7460 - accuracy: 0.9473 - val_loss: 1.0853 - val_accuracy: 0.7823\n",
            "Epoch 6/10\n",
            "70/70 [==============================] - 15s 212ms/step - loss: 0.6586 - accuracy: 0.9464 - val_loss: 1.0085 - val_accuracy: 0.7823\n",
            "Epoch 7/10\n",
            "70/70 [==============================] - 15s 213ms/step - loss: 0.5556 - accuracy: 0.9589 - val_loss: 0.8960 - val_accuracy: 0.8145\n",
            "Epoch 8/10\n",
            "70/70 [==============================] - 13s 188ms/step - loss: 0.5127 - accuracy: 0.9589 - val_loss: 0.8214 - val_accuracy: 0.8387\n",
            "Epoch 9/10\n",
            "70/70 [==============================] - 14s 198ms/step - loss: 0.4740 - accuracy: 0.9607 - val_loss: 0.8258 - val_accuracy: 0.7903\n",
            "Epoch 10/10\n",
            "70/70 [==============================] - 14s 196ms/step - loss: 0.4246 - accuracy: 0.9616 - val_loss: 0.8816 - val_accuracy: 0.7903\n",
            "4/4 [==============================] - 0s 51ms/step - loss: 0.8816 - accuracy: 0.7903\n",
            "4/4 [==============================] - 1s 47ms/step\n",
            "Fold 8\n",
            "Model: \"sequential_11\"\n",
            "_________________________________________________________________\n",
            " Layer (type)                Output Shape              Param #   \n",
            "=================================================================\n",
            " text_vectorization_11 (Text  (None, 2000)             0         \n",
            " Vectorization)                                                  \n",
            "                                                                 \n",
            " embedding_11 (Embedding)    (None, 2000, 100)         5000000   \n",
            "                                                                 \n",
            " bidirectional_11 (Bidirecti  (None, 80)               45120     \n",
            " onal)                                                           \n",
            "                                                                 \n",
            " dropout_11 (Dropout)        (None, 80)                0         \n",
            "                                                                 \n",
            " dense_11 (Dense)            (None, 3)                 243       \n",
            "                                                                 \n",
            "=================================================================\n",
            "Total params: 5,045,363\n",
            "Trainable params: 5,045,363\n",
            "Non-trainable params: 0\n",
            "_________________________________________________________________\n",
            "None\n",
            "Epoch 1/10\n",
            "70/70 [==============================] - 21s 254ms/step - loss: 3.3737 - accuracy: 0.5532 - val_loss: 2.3071 - val_accuracy: 0.7823\n",
            "Epoch 2/10\n",
            "70/70 [==============================] - 16s 227ms/step - loss: 1.7075 - accuracy: 0.7971 - val_loss: 1.2722 - val_accuracy: 0.8629\n",
            "Epoch 3/10\n",
            "70/70 [==============================] - 16s 226ms/step - loss: 1.0203 - accuracy: 0.9276 - val_loss: 1.1586 - val_accuracy: 0.8145\n",
            "Epoch 4/10\n",
            "70/70 [==============================] - 15s 213ms/step - loss: 0.8865 - accuracy: 0.9473 - val_loss: 0.9421 - val_accuracy: 0.8790\n",
            "Epoch 5/10\n",
            "70/70 [==============================] - 15s 215ms/step - loss: 0.7373 - accuracy: 0.9660 - val_loss: 0.8135 - val_accuracy: 0.8710\n",
            "Epoch 6/10\n",
            "70/70 [==============================] - 15s 217ms/step - loss: 0.6405 - accuracy: 0.9643 - val_loss: 0.8420 - val_accuracy: 0.8468\n",
            "Epoch 7/10\n",
            "70/70 [==============================] - 14s 206ms/step - loss: 0.5777 - accuracy: 0.9589 - val_loss: 0.7310 - val_accuracy: 0.8790\n",
            "Epoch 8/10\n",
            "70/70 [==============================] - 14s 202ms/step - loss: 0.5054 - accuracy: 0.9678 - val_loss: 0.8242 - val_accuracy: 0.8065\n",
            "Epoch 9/10\n",
            "70/70 [==============================] - 14s 204ms/step - loss: 0.4993 - accuracy: 0.9607 - val_loss: 0.6365 - val_accuracy: 0.8952\n",
            "Epoch 10/10\n",
            "70/70 [==============================] - 13s 188ms/step - loss: 0.4272 - accuracy: 0.9759 - val_loss: 0.5915 - val_accuracy: 0.9194\n",
            "4/4 [==============================] - 0s 50ms/step - loss: 0.5915 - accuracy: 0.9194\n",
            "4/4 [==============================] - 1s 48ms/step\n",
            "Fold 9\n",
            "Model: \"sequential_12\"\n",
            "_________________________________________________________________\n",
            " Layer (type)                Output Shape              Param #   \n",
            "=================================================================\n",
            " text_vectorization_12 (Text  (None, 2000)             0         \n",
            " Vectorization)                                                  \n",
            "                                                                 \n",
            " embedding_12 (Embedding)    (None, 2000, 100)         5000000   \n",
            "                                                                 \n",
            " bidirectional_12 (Bidirecti  (None, 80)               45120     \n",
            " onal)                                                           \n",
            "                                                                 \n",
            " dropout_12 (Dropout)        (None, 80)                0         \n",
            "                                                                 \n",
            " dense_12 (Dense)            (None, 3)                 243       \n",
            "                                                                 \n",
            "=================================================================\n",
            "Total params: 5,045,363\n",
            "Trainable params: 5,045,363\n",
            "Non-trainable params: 0\n",
            "_________________________________________________________________\n",
            "None\n",
            "Epoch 1/10\n",
            "70/70 [==============================] - 22s 259ms/step - loss: 3.3242 - accuracy: 0.5889 - val_loss: 2.2869 - val_accuracy: 0.7177\n",
            "Epoch 2/10\n",
            "70/70 [==============================] - 16s 231ms/step - loss: 1.7152 - accuracy: 0.8061 - val_loss: 1.3233 - val_accuracy: 0.8226\n",
            "Epoch 3/10\n",
            "70/70 [==============================] - 16s 232ms/step - loss: 1.0685 - accuracy: 0.9151 - val_loss: 1.2367 - val_accuracy: 0.7903\n",
            "Epoch 4/10\n",
            "70/70 [==============================] - 15s 215ms/step - loss: 0.9280 - accuracy: 0.9401 - val_loss: 1.0928 - val_accuracy: 0.8145\n",
            "Epoch 5/10\n",
            "70/70 [==============================] - 14s 202ms/step - loss: 0.8056 - accuracy: 0.9544 - val_loss: 1.0744 - val_accuracy: 0.7903\n",
            "Epoch 6/10\n",
            "70/70 [==============================] - 15s 208ms/step - loss: 0.7266 - accuracy: 0.9616 - val_loss: 1.0134 - val_accuracy: 0.8226\n",
            "Epoch 7/10\n",
            "70/70 [==============================] - 15s 212ms/step - loss: 0.6682 - accuracy: 0.9678 - val_loss: 0.9021 - val_accuracy: 0.8548\n",
            "Epoch 8/10\n",
            "70/70 [==============================] - 13s 193ms/step - loss: 0.6076 - accuracy: 0.9723 - val_loss: 0.8320 - val_accuracy: 0.8548\n",
            "Epoch 9/10\n",
            "70/70 [==============================] - 14s 204ms/step - loss: 0.5707 - accuracy: 0.9643 - val_loss: 0.8726 - val_accuracy: 0.8306\n",
            "Epoch 10/10\n",
            "70/70 [==============================] - 13s 179ms/step - loss: 0.5225 - accuracy: 0.9687 - val_loss: 0.7742 - val_accuracy: 0.8387\n",
            "4/4 [==============================] - 0s 86ms/step - loss: 0.7742 - accuracy: 0.8387\n",
            "4/4 [==============================] - 1s 56ms/step\n"
          ]
        }
      ]
    },
    {
      "cell_type": "code",
      "source": [
        "cv_results"
      ],
      "metadata": {
        "colab": {
          "base_uri": "https://localhost:8080/",
          "height": 363
        },
        "id": "yi5O33vEQlCx",
        "outputId": "6f8ab184-d997-4914-a6e6-53cfe80f6d9f"
      },
      "execution_count": null,
      "outputs": [
        {
          "output_type": "execute_result",
          "data": {
            "text/plain": [
              "     Recall Precision  F1 score  F2 score\n",
              "0  0.915762  0.920351  0.916136  0.915459\n",
              "1  0.831002  0.828126   0.82753  0.829147\n",
              "2  0.837228  0.843378  0.838271  0.837155\n",
              "3  0.814355   0.83453  0.821296  0.816386\n",
              "4  0.853488  0.857114  0.852772  0.852601\n",
              "5    0.8764  0.876285  0.873994  0.874892\n",
              "6  0.893066  0.899444  0.895355  0.893771\n",
              "7   0.78174    0.8125  0.791489  0.784476\n",
              "8  0.916451  0.916839   0.91657  0.916481\n",
              "9  0.863221  0.858905  0.860447  0.861966"
            ],
            "text/html": [
              "\n",
              "  <div id=\"df-4c15e5fc-68c0-4a91-961f-895aded83b61\">\n",
              "    <div class=\"colab-df-container\">\n",
              "      <div>\n",
              "<style scoped>\n",
              "    .dataframe tbody tr th:only-of-type {\n",
              "        vertical-align: middle;\n",
              "    }\n",
              "\n",
              "    .dataframe tbody tr th {\n",
              "        vertical-align: top;\n",
              "    }\n",
              "\n",
              "    .dataframe thead th {\n",
              "        text-align: right;\n",
              "    }\n",
              "</style>\n",
              "<table border=\"1\" class=\"dataframe\">\n",
              "  <thead>\n",
              "    <tr style=\"text-align: right;\">\n",
              "      <th></th>\n",
              "      <th>Recall</th>\n",
              "      <th>Precision</th>\n",
              "      <th>F1 score</th>\n",
              "      <th>F2 score</th>\n",
              "    </tr>\n",
              "  </thead>\n",
              "  <tbody>\n",
              "    <tr>\n",
              "      <th>0</th>\n",
              "      <td>0.915762</td>\n",
              "      <td>0.920351</td>\n",
              "      <td>0.916136</td>\n",
              "      <td>0.915459</td>\n",
              "    </tr>\n",
              "    <tr>\n",
              "      <th>1</th>\n",
              "      <td>0.831002</td>\n",
              "      <td>0.828126</td>\n",
              "      <td>0.82753</td>\n",
              "      <td>0.829147</td>\n",
              "    </tr>\n",
              "    <tr>\n",
              "      <th>2</th>\n",
              "      <td>0.837228</td>\n",
              "      <td>0.843378</td>\n",
              "      <td>0.838271</td>\n",
              "      <td>0.837155</td>\n",
              "    </tr>\n",
              "    <tr>\n",
              "      <th>3</th>\n",
              "      <td>0.814355</td>\n",
              "      <td>0.83453</td>\n",
              "      <td>0.821296</td>\n",
              "      <td>0.816386</td>\n",
              "    </tr>\n",
              "    <tr>\n",
              "      <th>4</th>\n",
              "      <td>0.853488</td>\n",
              "      <td>0.857114</td>\n",
              "      <td>0.852772</td>\n",
              "      <td>0.852601</td>\n",
              "    </tr>\n",
              "    <tr>\n",
              "      <th>5</th>\n",
              "      <td>0.8764</td>\n",
              "      <td>0.876285</td>\n",
              "      <td>0.873994</td>\n",
              "      <td>0.874892</td>\n",
              "    </tr>\n",
              "    <tr>\n",
              "      <th>6</th>\n",
              "      <td>0.893066</td>\n",
              "      <td>0.899444</td>\n",
              "      <td>0.895355</td>\n",
              "      <td>0.893771</td>\n",
              "    </tr>\n",
              "    <tr>\n",
              "      <th>7</th>\n",
              "      <td>0.78174</td>\n",
              "      <td>0.8125</td>\n",
              "      <td>0.791489</td>\n",
              "      <td>0.784476</td>\n",
              "    </tr>\n",
              "    <tr>\n",
              "      <th>8</th>\n",
              "      <td>0.916451</td>\n",
              "      <td>0.916839</td>\n",
              "      <td>0.91657</td>\n",
              "      <td>0.916481</td>\n",
              "    </tr>\n",
              "    <tr>\n",
              "      <th>9</th>\n",
              "      <td>0.863221</td>\n",
              "      <td>0.858905</td>\n",
              "      <td>0.860447</td>\n",
              "      <td>0.861966</td>\n",
              "    </tr>\n",
              "  </tbody>\n",
              "</table>\n",
              "</div>\n",
              "      <button class=\"colab-df-convert\" onclick=\"convertToInteractive('df-4c15e5fc-68c0-4a91-961f-895aded83b61')\"\n",
              "              title=\"Convert this dataframe to an interactive table.\"\n",
              "              style=\"display:none;\">\n",
              "        \n",
              "  <svg xmlns=\"http://www.w3.org/2000/svg\" height=\"24px\"viewBox=\"0 0 24 24\"\n",
              "       width=\"24px\">\n",
              "    <path d=\"M0 0h24v24H0V0z\" fill=\"none\"/>\n",
              "    <path d=\"M18.56 5.44l.94 2.06.94-2.06 2.06-.94-2.06-.94-.94-2.06-.94 2.06-2.06.94zm-11 1L8.5 8.5l.94-2.06 2.06-.94-2.06-.94L8.5 2.5l-.94 2.06-2.06.94zm10 10l.94 2.06.94-2.06 2.06-.94-2.06-.94-.94-2.06-.94 2.06-2.06.94z\"/><path d=\"M17.41 7.96l-1.37-1.37c-.4-.4-.92-.59-1.43-.59-.52 0-1.04.2-1.43.59L10.3 9.45l-7.72 7.72c-.78.78-.78 2.05 0 2.83L4 21.41c.39.39.9.59 1.41.59.51 0 1.02-.2 1.41-.59l7.78-7.78 2.81-2.81c.8-.78.8-2.07 0-2.86zM5.41 20L4 18.59l7.72-7.72 1.47 1.35L5.41 20z\"/>\n",
              "  </svg>\n",
              "      </button>\n",
              "      \n",
              "  <style>\n",
              "    .colab-df-container {\n",
              "      display:flex;\n",
              "      flex-wrap:wrap;\n",
              "      gap: 12px;\n",
              "    }\n",
              "\n",
              "    .colab-df-convert {\n",
              "      background-color: #E8F0FE;\n",
              "      border: none;\n",
              "      border-radius: 50%;\n",
              "      cursor: pointer;\n",
              "      display: none;\n",
              "      fill: #1967D2;\n",
              "      height: 32px;\n",
              "      padding: 0 0 0 0;\n",
              "      width: 32px;\n",
              "    }\n",
              "\n",
              "    .colab-df-convert:hover {\n",
              "      background-color: #E2EBFA;\n",
              "      box-shadow: 0px 1px 2px rgba(60, 64, 67, 0.3), 0px 1px 3px 1px rgba(60, 64, 67, 0.15);\n",
              "      fill: #174EA6;\n",
              "    }\n",
              "\n",
              "    [theme=dark] .colab-df-convert {\n",
              "      background-color: #3B4455;\n",
              "      fill: #D2E3FC;\n",
              "    }\n",
              "\n",
              "    [theme=dark] .colab-df-convert:hover {\n",
              "      background-color: #434B5C;\n",
              "      box-shadow: 0px 1px 3px 1px rgba(0, 0, 0, 0.15);\n",
              "      filter: drop-shadow(0px 1px 2px rgba(0, 0, 0, 0.3));\n",
              "      fill: #FFFFFF;\n",
              "    }\n",
              "  </style>\n",
              "\n",
              "      <script>\n",
              "        const buttonEl =\n",
              "          document.querySelector('#df-4c15e5fc-68c0-4a91-961f-895aded83b61 button.colab-df-convert');\n",
              "        buttonEl.style.display =\n",
              "          google.colab.kernel.accessAllowed ? 'block' : 'none';\n",
              "\n",
              "        async function convertToInteractive(key) {\n",
              "          const element = document.querySelector('#df-4c15e5fc-68c0-4a91-961f-895aded83b61');\n",
              "          const dataTable =\n",
              "            await google.colab.kernel.invokeFunction('convertToInteractive',\n",
              "                                                     [key], {});\n",
              "          if (!dataTable) return;\n",
              "\n",
              "          const docLinkHtml = 'Like what you see? Visit the ' +\n",
              "            '<a target=\"_blank\" href=https://colab.research.google.com/notebooks/data_table.ipynb>data table notebook</a>'\n",
              "            + ' to learn more about interactive tables.';\n",
              "          element.innerHTML = '';\n",
              "          dataTable['output_type'] = 'display_data';\n",
              "          await google.colab.output.renderOutput(dataTable, element);\n",
              "          const docLink = document.createElement('div');\n",
              "          docLink.innerHTML = docLinkHtml;\n",
              "          element.appendChild(docLink);\n",
              "        }\n",
              "      </script>\n",
              "    </div>\n",
              "  </div>\n",
              "  "
            ]
          },
          "metadata": {},
          "execution_count": 25
        }
      ]
    },
    {
      "cell_type": "code",
      "source": [
        "cv_results.mean()"
      ],
      "metadata": {
        "colab": {
          "base_uri": "https://localhost:8080/"
        },
        "id": "J1DTs_WLQk51",
        "outputId": "6564f663-f815-43b0-9d29-77212a728c53"
      },
      "execution_count": null,
      "outputs": [
        {
          "output_type": "execute_result",
          "data": {
            "text/plain": [
              "Recall       0.858271\n",
              "Precision    0.864747\n",
              "F1 score     0.859386\n",
              "F2 score     0.858233\n",
              "dtype: float64"
            ]
          },
          "metadata": {},
          "execution_count": 26
        }
      ]
    },
    {
      "cell_type": "code",
      "source": [
        "def train_blstm(train_texts, train_labels, test_texts, test_labels):\n",
        "\n",
        "  blstm_model = create_blstm_model(train_texts)\n",
        "  \n",
        "  history = blstm_model.fit(train_texts,\n",
        "                            train_labels,\n",
        "                            epochs=10,\n",
        "                            batch_size=16,\n",
        "                            validation_data=(test_texts, test_labels))\n",
        "  \n",
        "  blstm_model.evaluate(test_texts, test_labels)\n",
        "  y_pred = np.round(blstm_model.predict(test_texts))\n",
        "\n",
        "  y_pred = np.argmax(y_pred, axis=1)\n",
        "\n",
        "  f1_sc = f1_score(test_labels, y_pred, average='macro')\n",
        "  f2score = fbeta_score(test_labels, y_pred, beta=2, average='macro')\n",
        "\n",
        "  print(\"Recall = {}\".format(recall_score(test_labels, y_pred, average='macro')))\n",
        "  print(\"Precision = {}\".format(precision_score(test_labels, y_pred, average='macro')))\n",
        "  print(\"F1 score = {}\".format(f1_sc))\n",
        "  print(\"F2 score = {}\".format(f2score))\n",
        "  print(classification_report(test_labels, y_pred))\n",
        "  \n",
        "  cm = confusion_matrix(test_labels, y_pred)\n",
        "\n",
        "  disp = ConfusionMatrixDisplay(confusion_matrix=cm, display_labels=[0,1,2])\n",
        "\n",
        "  disp.plot(cmap=plt.cm.Blues)\n",
        "  plt.show()\n",
        "\n",
        "  return f1_sc"
      ],
      "metadata": {
        "id": "kokcAEzXJx3v"
      },
      "execution_count": null,
      "outputs": []
    },
    {
      "cell_type": "code",
      "execution_count": null,
      "metadata": {
        "id": "NFr0qAAb5eYa"
      },
      "outputs": [],
      "source": [
        "X_test = test_data['text'].values.reshape(-1, 1)"
      ]
    },
    {
      "cell_type": "code",
      "execution_count": null,
      "metadata": {
        "id": "HzvN4MRGS-Ec"
      },
      "outputs": [],
      "source": [
        "y_test = test_data['label'].values"
      ]
    },
    {
      "cell_type": "code",
      "execution_count": null,
      "metadata": {
        "id": "UjOK_ZQZCpjy"
      },
      "outputs": [],
      "source": [
        "aug_X_train = augmented_dataset['text'].values.reshape(-1, 1)"
      ]
    },
    {
      "cell_type": "code",
      "execution_count": null,
      "metadata": {
        "colab": {
          "base_uri": "https://localhost:8080/"
        },
        "id": "n5HR-tZ_WkR6",
        "outputId": "cc4d52aa-7e95-4882-d019-c277aba27f80"
      },
      "outputs": [
        {
          "output_type": "execute_result",
          "data": {
            "text/plain": [
              "(1243, 1)"
            ]
          },
          "metadata": {},
          "execution_count": 22
        }
      ],
      "source": [
        "aug_X_train.shape"
      ]
    },
    {
      "cell_type": "code",
      "execution_count": null,
      "metadata": {
        "id": "YspFRYpwWnJj"
      },
      "outputs": [],
      "source": [
        "aug_y_train = augmented_dataset['label'].values.reshape(-1, 1)"
      ]
    },
    {
      "cell_type": "code",
      "execution_count": null,
      "metadata": {
        "colab": {
          "base_uri": "https://localhost:8080/"
        },
        "id": "I56r5SCbWnf8",
        "outputId": "3550b62a-da6a-4e42-f2d2-976537669f05"
      },
      "outputs": [
        {
          "output_type": "execute_result",
          "data": {
            "text/plain": [
              "(1243, 1)"
            ]
          },
          "metadata": {},
          "execution_count": 24
        }
      ],
      "source": [
        "aug_y_train.shape"
      ]
    },
    {
      "cell_type": "code",
      "source": [
        "train_blstm(aug_X_train, aug_y_train, X_test, y_test)"
      ],
      "metadata": {
        "id": "G3FthmkXOZOP",
        "colab": {
          "base_uri": "https://localhost:8080/",
          "height": 1000
        },
        "outputId": "76e2c5ec-e545-40c8-a609-3a9a761cd4a1"
      },
      "execution_count": null,
      "outputs": [
        {
          "output_type": "stream",
          "name": "stdout",
          "text": [
            "Model: \"sequential_1\"\n",
            "_________________________________________________________________\n",
            " Layer (type)                Output Shape              Param #   \n",
            "=================================================================\n",
            " text_vectorization_1 (TextV  (None, 2000)             0         \n",
            " ectorization)                                                   \n",
            "                                                                 \n",
            " embedding_1 (Embedding)     (None, 2000, 100)         5000000   \n",
            "                                                                 \n",
            " bidirectional_1 (Bidirectio  (None, 80)               45120     \n",
            " nal)                                                            \n",
            "                                                                 \n",
            " dropout_1 (Dropout)         (None, 80)                0         \n",
            "                                                                 \n",
            " dense_1 (Dense)             (None, 3)                 243       \n",
            "                                                                 \n",
            "=================================================================\n",
            "Total params: 5,045,363\n",
            "Trainable params: 5,045,363\n",
            "Non-trainable params: 0\n",
            "_________________________________________________________________\n",
            "None\n",
            "Epoch 1/10\n",
            "78/78 [==============================] - 27s 297ms/step - loss: 3.2823 - accuracy: 0.6114 - val_loss: 2.1996 - val_accuracy: 0.6750\n",
            "Epoch 2/10\n",
            "78/78 [==============================] - 21s 268ms/step - loss: 1.6072 - accuracy: 0.7796 - val_loss: 1.4280 - val_accuracy: 0.7550\n",
            "Epoch 3/10\n",
            "78/78 [==============================] - 20s 253ms/step - loss: 0.9826 - accuracy: 0.9308 - val_loss: 1.1486 - val_accuracy: 0.7900\n",
            "Epoch 4/10\n",
            "78/78 [==============================] - 21s 263ms/step - loss: 0.7731 - accuracy: 0.9582 - val_loss: 1.2010 - val_accuracy: 0.7600\n",
            "Epoch 5/10\n",
            "78/78 [==============================] - 18s 235ms/step - loss: 0.6621 - accuracy: 0.9582 - val_loss: 1.0628 - val_accuracy: 0.7700\n",
            "Epoch 6/10\n",
            "78/78 [==============================] - 20s 253ms/step - loss: 0.5731 - accuracy: 0.9606 - val_loss: 0.9325 - val_accuracy: 0.7800\n",
            "Epoch 7/10\n",
            "78/78 [==============================] - 18s 231ms/step - loss: 0.5062 - accuracy: 0.9598 - val_loss: 0.8688 - val_accuracy: 0.7900\n",
            "Epoch 8/10\n",
            "78/78 [==============================] - 17s 220ms/step - loss: 0.4724 - accuracy: 0.9638 - val_loss: 1.2100 - val_accuracy: 0.6450\n",
            "Epoch 9/10\n",
            "78/78 [==============================] - 20s 255ms/step - loss: 0.4838 - accuracy: 0.9533 - val_loss: 0.8099 - val_accuracy: 0.8000\n",
            "Epoch 10/10\n",
            "78/78 [==============================] - 18s 227ms/step - loss: 0.3859 - accuracy: 0.9549 - val_loss: 0.7821 - val_accuracy: 0.8050\n",
            "7/7 [==============================] - 1s 69ms/step - loss: 0.7821 - accuracy: 0.8050\n",
            "7/7 [==============================] - 1s 50ms/step\n",
            "Recall = 0.7611175374333269\n",
            "Precision = 0.7694667270009736\n",
            "F1 score = 0.7561000300835176\n",
            "F2 score = 0.7570370633654547\n",
            "              precision    recall  f1-score   support\n",
            "\n",
            "           0       0.68      0.48      0.56        52\n",
            "           1       0.99      0.98      0.98        91\n",
            "           2       0.64      0.82      0.72        57\n",
            "\n",
            "    accuracy                           0.81       200\n",
            "   macro avg       0.77      0.76      0.76       200\n",
            "weighted avg       0.81      0.81      0.80       200\n",
            "\n"
          ]
        },
        {
          "output_type": "display_data",
          "data": {
            "text/plain": [
              "<Figure size 640x480 with 2 Axes>"
            ],
            "image/png": "[encoded data removed]"
          },
          "metadata": {}
        },
        {
          "output_type": "execute_result",
          "data": {
            "text/plain": [
              "0.7561000300835176"
            ]
          },
          "metadata": {},
          "execution_count": 35
        }
      ]
    },
    {
      "cell_type": "code",
      "source": [],
      "metadata": {
        "id": "usuwEAzOkBgB"
      },
      "execution_count": null,
      "outputs": []
    }
  ],
  "metadata": {
    "accelerator": "GPU",
    "colab": {
      "machine_shape": "hm",
      "provenance": [],
      "gpuType": "T4"
    },
    "gpuClass": "standard",
    "kernelspec": {
      "display_name": "Python 3",
      "name": "python3"
    },
    "language_info": {
      "name": "python"
    }
  },
  "nbformat": 4,
  "nbformat_minor": 0
}