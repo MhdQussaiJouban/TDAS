{
  "cells": [
    {
      "cell_type": "code",
      "execution_count": null,
      "metadata": {
        "id": "_Q1SwXg76Uf3",
        "colab": {
          "base_uri": "https://localhost:8080/"
        },
        "outputId": "29a4e47a-04bc-428a-c1b3-bfc3fb03b2cd"
      },
      "outputs": [
        {
          "output_type": "stream",
          "name": "stderr",
          "text": [
            "[nltk_data] Downloading package stopwords to /root/nltk_data...\n",
            "[nltk_data]   Unzipping corpora/stopwords.zip.\n",
            "[nltk_data] Downloading package punkt to /root/nltk_data...\n",
            "[nltk_data]   Unzipping tokenizers/punkt.zip.\n",
            "[nltk_data] Downloading package averaged_perceptron_tagger to\n",
            "[nltk_data]     /root/nltk_data...\n",
            "[nltk_data]   Unzipping taggers/averaged_perceptron_tagger.zip.\n",
            "[nltk_data] Downloading package wordnet to /root/nltk_data...\n"
          ]
        },
        {
          "output_type": "stream",
          "name": "stdout",
          "text": [
            "Mounted at /content/gdrive\n"
          ]
        }
      ],
      "source": [
        "from datetime import datetime\n",
        "import random \n",
        "import numpy as np\n",
        "import pandas as pd\n",
        "from sklearn.preprocessing import LabelEncoder\n",
        "from sklearn.model_selection import train_test_split\n",
        "from sklearn.ensemble import RandomForestClassifier, ExtraTreesClassifier\n",
        "from sklearn.linear_model import SGDClassifier, LogisticRegression\n",
        "from sklearn.naive_bayes import GaussianNB\n",
        "from sklearn.neural_network import MLPClassifier\n",
        "from sklearn.svm import SVC\n",
        "from sklearn.neighbors import KNeighborsClassifier\n",
        "from sklearn.model_selection import GridSearchCV\n",
        "from sklearn.ensemble import StackingClassifier\n",
        "from sklearn.metrics import confusion_matrix\n",
        "from sklearn.metrics import ConfusionMatrixDisplay\n",
        "from sklearn.metrics import accuracy_score, recall_score, precision_score, f1_score, fbeta_score, classification_report\n",
        "from sklearn.metrics import make_scorer \n",
        "import matplotlib.pyplot as plt\n",
        "import gensim.downloader as api\n",
        "\n",
        "import nltk\n",
        "from nltk.tokenize import word_tokenize\n",
        "from nltk import pos_tag\n",
        "nltk.download('stopwords')\n",
        "nltk.download('punkt')\n",
        "nltk.download('averaged_perceptron_tagger')\n",
        "nltk.download('wordnet')\n",
        "\n",
        "from google.colab import drive\n",
        "drive.mount('/content/gdrive')\n",
        "dir_name = \"/content/gdrive/MyDrive/Thesis/\""
      ]
    },
    {
      "cell_type": "code",
      "execution_count": null,
      "metadata": {
        "id": "hsZEizu93N6d",
        "colab": {
          "base_uri": "https://localhost:8080/",
          "height": 424
        },
        "outputId": "29c1f19f-ca91-40e3-e9da-0e9ba9aa1c86"
      },
      "outputs": [
        {
          "output_type": "execute_result",
          "data": {
            "text/plain": [
              "      label                                               text\n",
              "0         2  Thyroid surgery in  children in a single insti...\n",
              "1         2  \" The adopted strategy was the same as that us...\n",
              "2         2  coronary arterybypass grafting thrombosis ï¬b...\n",
              "3         2   Solitary plasmacytoma SP of the skull is an u...\n",
              "4         2   This study aimed to investigate serum matrix ...\n",
              "...     ...                                                ...\n",
              "7565      0  we report the case of a 24yearold man who pres...\n",
              "7566      0  among synchronous colorectal cancers scrcs rep...\n",
              "7567      0  the heterogeneity of cancer cells is generally...\n",
              "7568      0  \"adipogenesis is the process through which mes...\n",
              "7569      0  the periparturient period is one of the most c...\n",
              "\n",
              "[7570 rows x 2 columns]"
            ],
            "text/html": [
              "\n",
              "  <div id=\"df-18e3990a-d4ec-42d1-8a1a-15e75f08d273\">\n",
              "    <div class=\"colab-df-container\">\n",
              "      <div>\n",
              "<style scoped>\n",
              "    .dataframe tbody tr th:only-of-type {\n",
              "        vertical-align: middle;\n",
              "    }\n",
              "\n",
              "    .dataframe tbody tr th {\n",
              "        vertical-align: top;\n",
              "    }\n",
              "\n",
              "    .dataframe thead th {\n",
              "        text-align: right;\n",
              "    }\n",
              "</style>\n",
              "<table border=\"1\" class=\"dataframe\">\n",
              "  <thead>\n",
              "    <tr style=\"text-align: right;\">\n",
              "      <th></th>\n",
              "      <th>label</th>\n",
              "      <th>text</th>\n",
              "    </tr>\n",
              "  </thead>\n",
              "  <tbody>\n",
              "    <tr>\n",
              "      <th>0</th>\n",
              "      <td>2</td>\n",
              "      <td>Thyroid surgery in  children in a single insti...</td>\n",
              "    </tr>\n",
              "    <tr>\n",
              "      <th>1</th>\n",
              "      <td>2</td>\n",
              "      <td>\" The adopted strategy was the same as that us...</td>\n",
              "    </tr>\n",
              "    <tr>\n",
              "      <th>2</th>\n",
              "      <td>2</td>\n",
              "      <td>coronary arterybypass grafting thrombosis ï¬b...</td>\n",
              "    </tr>\n",
              "    <tr>\n",
              "      <th>3</th>\n",
              "      <td>2</td>\n",
              "      <td>Solitary plasmacytoma SP of the skull is an u...</td>\n",
              "    </tr>\n",
              "    <tr>\n",
              "      <th>4</th>\n",
              "      <td>2</td>\n",
              "      <td>This study aimed to investigate serum matrix ...</td>\n",
              "    </tr>\n",
              "    <tr>\n",
              "      <th>...</th>\n",
              "      <td>...</td>\n",
              "      <td>...</td>\n",
              "    </tr>\n",
              "    <tr>\n",
              "      <th>7565</th>\n",
              "      <td>0</td>\n",
              "      <td>we report the case of a 24yearold man who pres...</td>\n",
              "    </tr>\n",
              "    <tr>\n",
              "      <th>7566</th>\n",
              "      <td>0</td>\n",
              "      <td>among synchronous colorectal cancers scrcs rep...</td>\n",
              "    </tr>\n",
              "    <tr>\n",
              "      <th>7567</th>\n",
              "      <td>0</td>\n",
              "      <td>the heterogeneity of cancer cells is generally...</td>\n",
              "    </tr>\n",
              "    <tr>\n",
              "      <th>7568</th>\n",
              "      <td>0</td>\n",
              "      <td>\"adipogenesis is the process through which mes...</td>\n",
              "    </tr>\n",
              "    <tr>\n",
              "      <th>7569</th>\n",
              "      <td>0</td>\n",
              "      <td>the periparturient period is one of the most c...</td>\n",
              "    </tr>\n",
              "  </tbody>\n",
              "</table>\n",
              "<p>7570 rows × 2 columns</p>\n",
              "</div>\n",
              "      <button class=\"colab-df-convert\" onclick=\"convertToInteractive('df-18e3990a-d4ec-42d1-8a1a-15e75f08d273')\"\n",
              "              title=\"Convert this dataframe to an interactive table.\"\n",
              "              style=\"display:none;\">\n",
              "        \n",
              "  <svg xmlns=\"http://www.w3.org/2000/svg\" height=\"24px\"viewBox=\"0 0 24 24\"\n",
              "       width=\"24px\">\n",
              "    <path d=\"M0 0h24v24H0V0z\" fill=\"none\"/>\n",
              "    <path d=\"M18.56 5.44l.94 2.06.94-2.06 2.06-.94-2.06-.94-.94-2.06-.94 2.06-2.06.94zm-11 1L8.5 8.5l.94-2.06 2.06-.94-2.06-.94L8.5 2.5l-.94 2.06-2.06.94zm10 10l.94 2.06.94-2.06 2.06-.94-2.06-.94-.94-2.06-.94 2.06-2.06.94z\"/><path d=\"M17.41 7.96l-1.37-1.37c-.4-.4-.92-.59-1.43-.59-.52 0-1.04.2-1.43.59L10.3 9.45l-7.72 7.72c-.78.78-.78 2.05 0 2.83L4 21.41c.39.39.9.59 1.41.59.51 0 1.02-.2 1.41-.59l7.78-7.78 2.81-2.81c.8-.78.8-2.07 0-2.86zM5.41 20L4 18.59l7.72-7.72 1.47 1.35L5.41 20z\"/>\n",
              "  </svg>\n",
              "      </button>\n",
              "      \n",
              "  <style>\n",
              "    .colab-df-container {\n",
              "      display:flex;\n",
              "      flex-wrap:wrap;\n",
              "      gap: 12px;\n",
              "    }\n",
              "\n",
              "    .colab-df-convert {\n",
              "      background-color: #E8F0FE;\n",
              "      border: none;\n",
              "      border-radius: 50%;\n",
              "      cursor: pointer;\n",
              "      display: none;\n",
              "      fill: #1967D2;\n",
              "      height: 32px;\n",
              "      padding: 0 0 0 0;\n",
              "      width: 32px;\n",
              "    }\n",
              "\n",
              "    .colab-df-convert:hover {\n",
              "      background-color: #E2EBFA;\n",
              "      box-shadow: 0px 1px 2px rgba(60, 64, 67, 0.3), 0px 1px 3px 1px rgba(60, 64, 67, 0.15);\n",
              "      fill: #174EA6;\n",
              "    }\n",
              "\n",
              "    [theme=dark] .colab-df-convert {\n",
              "      background-color: #3B4455;\n",
              "      fill: #D2E3FC;\n",
              "    }\n",
              "\n",
              "    [theme=dark] .colab-df-convert:hover {\n",
              "      background-color: #434B5C;\n",
              "      box-shadow: 0px 1px 3px 1px rgba(0, 0, 0, 0.15);\n",
              "      filter: drop-shadow(0px 1px 2px rgba(0, 0, 0, 0.3));\n",
              "      fill: #FFFFFF;\n",
              "    }\n",
              "  </style>\n",
              "\n",
              "      <script>\n",
              "        const buttonEl =\n",
              "          document.querySelector('#df-18e3990a-d4ec-42d1-8a1a-15e75f08d273 button.colab-df-convert');\n",
              "        buttonEl.style.display =\n",
              "          google.colab.kernel.accessAllowed ? 'block' : 'none';\n",
              "\n",
              "        async function convertToInteractive(key) {\n",
              "          const element = document.querySelector('#df-18e3990a-d4ec-42d1-8a1a-15e75f08d273');\n",
              "          const dataTable =\n",
              "            await google.colab.kernel.invokeFunction('convertToInteractive',\n",
              "                                                     [key], {});\n",
              "          if (!dataTable) return;\n",
              "\n",
              "          const docLinkHtml = 'Like what you see? Visit the ' +\n",
              "            '<a target=\"_blank\" href=https://colab.research.google.com/notebooks/data_table.ipynb>data table notebook</a>'\n",
              "            + ' to learn more about interactive tables.';\n",
              "          element.innerHTML = '';\n",
              "          dataTable['output_type'] = 'display_data';\n",
              "          await google.colab.output.renderOutput(dataTable, element);\n",
              "          const docLink = document.createElement('div');\n",
              "          docLink.innerHTML = docLinkHtml;\n",
              "          element.appendChild(docLink);\n",
              "        }\n",
              "      </script>\n",
              "    </div>\n",
              "  </div>\n",
              "  "
            ]
          },
          "metadata": {},
          "execution_count": 2
        }
      ],
      "source": [
        "def get_raw_data(dir_name):\n",
        "    #  load data\n",
        "    data = pd.read_csv('{}cancer_doc_classification.csv'.format(dir_name), encoding = 'latin-1', usecols=['a', '0'])\n",
        "    data = data.rename(columns={'0': 'label', 'a': 'text'})\n",
        "    le = LabelEncoder()\n",
        "    data['label'] = le.fit_transform( data['label'])\n",
        "    return data\n",
        "\n",
        "raw_data = get_raw_data(dir_name + 'datasets/')\n",
        "raw_data"
      ]
    },
    {
      "cell_type": "code",
      "execution_count": null,
      "metadata": {
        "colab": {
          "base_uri": "https://localhost:8080/"
        },
        "id": "jvrPiHms7t3O",
        "outputId": "793e8a22-035e-4d8d-c5eb-a9ff1191c328"
      },
      "outputs": [
        {
          "output_type": "execute_result",
          "data": {
            "text/plain": [
              "False"
            ]
          },
          "metadata": {},
          "execution_count": 3
        }
      ],
      "source": [
        "raw_data['text'].is_unique"
      ]
    },
    {
      "cell_type": "code",
      "execution_count": null,
      "metadata": {
        "id": "QGX76s7s7vC1",
        "colab": {
          "base_uri": "https://localhost:8080/"
        },
        "outputId": "33bc7b08-11d0-4d4c-a125-a29f912dabb8"
      },
      "outputs": [
        {
          "output_type": "execute_result",
          "data": {
            "text/plain": [
              "True"
            ]
          },
          "metadata": {},
          "execution_count": 4
        }
      ],
      "source": [
        "raw_data.drop_duplicates( inplace=True)\n",
        "raw_data['text'].is_unique"
      ]
    },
    {
      "cell_type": "code",
      "execution_count": null,
      "metadata": {
        "colab": {
          "base_uri": "https://localhost:8080/",
          "height": 424
        },
        "id": "kAvJMWIH8BfT",
        "outputId": "f3e5c292-cf17-4eae-c038-ae8d758caccc"
      },
      "outputs": [
        {
          "output_type": "execute_result",
          "data": {
            "text/plain": [
              "      label                                               text\n",
              "0         2  Thyroid surgery in  children in a single insti...\n",
              "1         2  \" The adopted strategy was the same as that us...\n",
              "2         2  coronary arterybypass grafting thrombosis ï¬b...\n",
              "3         2   Solitary plasmacytoma SP of the skull is an u...\n",
              "4         2   This study aimed to investigate serum matrix ...\n",
              "...     ...                                                ...\n",
              "6863      1  \"Missense mutation distribution in the exons a...\n",
              "6929      1  \"versus gemcitabine/carboplatin in advanced no...\n",
              "7040      2   Keloids are pathological scars that grow over...\n",
              "7485      0  the anization of cells into multiple membranou...\n",
              "7497      0  several immunotherapeutic strategies that harn...\n",
              "\n",
              "[996 rows x 2 columns]"
            ],
            "text/html": [
              "\n",
              "  <div id=\"df-130494e6-830c-4d0c-844e-d4e4c2d76c37\">\n",
              "    <div class=\"colab-df-container\">\n",
              "      <div>\n",
              "<style scoped>\n",
              "    .dataframe tbody tr th:only-of-type {\n",
              "        vertical-align: middle;\n",
              "    }\n",
              "\n",
              "    .dataframe tbody tr th {\n",
              "        vertical-align: top;\n",
              "    }\n",
              "\n",
              "    .dataframe thead th {\n",
              "        text-align: right;\n",
              "    }\n",
              "</style>\n",
              "<table border=\"1\" class=\"dataframe\">\n",
              "  <thead>\n",
              "    <tr style=\"text-align: right;\">\n",
              "      <th></th>\n",
              "      <th>label</th>\n",
              "      <th>text</th>\n",
              "    </tr>\n",
              "  </thead>\n",
              "  <tbody>\n",
              "    <tr>\n",
              "      <th>0</th>\n",
              "      <td>2</td>\n",
              "      <td>Thyroid surgery in  children in a single insti...</td>\n",
              "    </tr>\n",
              "    <tr>\n",
              "      <th>1</th>\n",
              "      <td>2</td>\n",
              "      <td>\" The adopted strategy was the same as that us...</td>\n",
              "    </tr>\n",
              "    <tr>\n",
              "      <th>2</th>\n",
              "      <td>2</td>\n",
              "      <td>coronary arterybypass grafting thrombosis ï¬b...</td>\n",
              "    </tr>\n",
              "    <tr>\n",
              "      <th>3</th>\n",
              "      <td>2</td>\n",
              "      <td>Solitary plasmacytoma SP of the skull is an u...</td>\n",
              "    </tr>\n",
              "    <tr>\n",
              "      <th>4</th>\n",
              "      <td>2</td>\n",
              "      <td>This study aimed to investigate serum matrix ...</td>\n",
              "    </tr>\n",
              "    <tr>\n",
              "      <th>...</th>\n",
              "      <td>...</td>\n",
              "      <td>...</td>\n",
              "    </tr>\n",
              "    <tr>\n",
              "      <th>6863</th>\n",
              "      <td>1</td>\n",
              "      <td>\"Missense mutation distribution in the exons a...</td>\n",
              "    </tr>\n",
              "    <tr>\n",
              "      <th>6929</th>\n",
              "      <td>1</td>\n",
              "      <td>\"versus gemcitabine/carboplatin in advanced no...</td>\n",
              "    </tr>\n",
              "    <tr>\n",
              "      <th>7040</th>\n",
              "      <td>2</td>\n",
              "      <td>Keloids are pathological scars that grow over...</td>\n",
              "    </tr>\n",
              "    <tr>\n",
              "      <th>7485</th>\n",
              "      <td>0</td>\n",
              "      <td>the anization of cells into multiple membranou...</td>\n",
              "    </tr>\n",
              "    <tr>\n",
              "      <th>7497</th>\n",
              "      <td>0</td>\n",
              "      <td>several immunotherapeutic strategies that harn...</td>\n",
              "    </tr>\n",
              "  </tbody>\n",
              "</table>\n",
              "<p>996 rows × 2 columns</p>\n",
              "</div>\n",
              "      <button class=\"colab-df-convert\" onclick=\"convertToInteractive('df-130494e6-830c-4d0c-844e-d4e4c2d76c37')\"\n",
              "              title=\"Convert this dataframe to an interactive table.\"\n",
              "              style=\"display:none;\">\n",
              "        \n",
              "  <svg xmlns=\"http://www.w3.org/2000/svg\" height=\"24px\"viewBox=\"0 0 24 24\"\n",
              "       width=\"24px\">\n",
              "    <path d=\"M0 0h24v24H0V0z\" fill=\"none\"/>\n",
              "    <path d=\"M18.56 5.44l.94 2.06.94-2.06 2.06-.94-2.06-.94-.94-2.06-.94 2.06-2.06.94zm-11 1L8.5 8.5l.94-2.06 2.06-.94-2.06-.94L8.5 2.5l-.94 2.06-2.06.94zm10 10l.94 2.06.94-2.06 2.06-.94-2.06-.94-.94-2.06-.94 2.06-2.06.94z\"/><path d=\"M17.41 7.96l-1.37-1.37c-.4-.4-.92-.59-1.43-.59-.52 0-1.04.2-1.43.59L10.3 9.45l-7.72 7.72c-.78.78-.78 2.05 0 2.83L4 21.41c.39.39.9.59 1.41.59.51 0 1.02-.2 1.41-.59l7.78-7.78 2.81-2.81c.8-.78.8-2.07 0-2.86zM5.41 20L4 18.59l7.72-7.72 1.47 1.35L5.41 20z\"/>\n",
              "  </svg>\n",
              "      </button>\n",
              "      \n",
              "  <style>\n",
              "    .colab-df-container {\n",
              "      display:flex;\n",
              "      flex-wrap:wrap;\n",
              "      gap: 12px;\n",
              "    }\n",
              "\n",
              "    .colab-df-convert {\n",
              "      background-color: #E8F0FE;\n",
              "      border: none;\n",
              "      border-radius: 50%;\n",
              "      cursor: pointer;\n",
              "      display: none;\n",
              "      fill: #1967D2;\n",
              "      height: 32px;\n",
              "      padding: 0 0 0 0;\n",
              "      width: 32px;\n",
              "    }\n",
              "\n",
              "    .colab-df-convert:hover {\n",
              "      background-color: #E2EBFA;\n",
              "      box-shadow: 0px 1px 2px rgba(60, 64, 67, 0.3), 0px 1px 3px 1px rgba(60, 64, 67, 0.15);\n",
              "      fill: #174EA6;\n",
              "    }\n",
              "\n",
              "    [theme=dark] .colab-df-convert {\n",
              "      background-color: #3B4455;\n",
              "      fill: #D2E3FC;\n",
              "    }\n",
              "\n",
              "    [theme=dark] .colab-df-convert:hover {\n",
              "      background-color: #434B5C;\n",
              "      box-shadow: 0px 1px 3px 1px rgba(0, 0, 0, 0.15);\n",
              "      filter: drop-shadow(0px 1px 2px rgba(0, 0, 0, 0.3));\n",
              "      fill: #FFFFFF;\n",
              "    }\n",
              "  </style>\n",
              "\n",
              "      <script>\n",
              "        const buttonEl =\n",
              "          document.querySelector('#df-130494e6-830c-4d0c-844e-d4e4c2d76c37 button.colab-df-convert');\n",
              "        buttonEl.style.display =\n",
              "          google.colab.kernel.accessAllowed ? 'block' : 'none';\n",
              "\n",
              "        async function convertToInteractive(key) {\n",
              "          const element = document.querySelector('#df-130494e6-830c-4d0c-844e-d4e4c2d76c37');\n",
              "          const dataTable =\n",
              "            await google.colab.kernel.invokeFunction('convertToInteractive',\n",
              "                                                     [key], {});\n",
              "          if (!dataTable) return;\n",
              "\n",
              "          const docLinkHtml = 'Like what you see? Visit the ' +\n",
              "            '<a target=\"_blank\" href=https://colab.research.google.com/notebooks/data_table.ipynb>data table notebook</a>'\n",
              "            + ' to learn more about interactive tables.';\n",
              "          element.innerHTML = '';\n",
              "          dataTable['output_type'] = 'display_data';\n",
              "          await google.colab.output.renderOutput(dataTable, element);\n",
              "          const docLink = document.createElement('div');\n",
              "          docLink.innerHTML = docLinkHtml;\n",
              "          element.appendChild(docLink);\n",
              "        }\n",
              "      </script>\n",
              "    </div>\n",
              "  </div>\n",
              "  "
            ]
          },
          "metadata": {},
          "execution_count": 5
        }
      ],
      "source": [
        "raw_data"
      ]
    },
    {
      "cell_type": "code",
      "execution_count": null,
      "metadata": {
        "id": "puuFMH0H8Li_"
      },
      "outputs": [],
      "source": [
        "def get_dataset_statistics(data):\n",
        "    dataset_statistics = {'Number of messages': [data['label'].value_counts()[0], data['label'].value_counts()[1], data['label'].value_counts()[2]]}\n",
        "    df = pd.DataFrame(dataset_statistics, index=['0', '1', '2'])\n",
        "    df.plot(kind='pie', y='Number of messages', figsize=(6, 6), fontsize=14,\n",
        "            autopct=lambda v: '{:.0f} ({:.1f}%)'.format(v / 100 * data['label'].count(), v))"
      ]
    },
    {
      "cell_type": "code",
      "execution_count": null,
      "metadata": {
        "colab": {
          "base_uri": "https://localhost:8080/",
          "height": 499
        },
        "id": "M29miyuS8dVA",
        "outputId": "05824213-9116-4373-b258-07ee7a59af54"
      },
      "outputs": [
        {
          "output_type": "display_data",
          "data": {
            "text/plain": [
              "<Figure size 600x600 with 1 Axes>"
            ],
            "image/png": "[encoded data removed]"
          },
          "metadata": {}
        }
      ],
      "source": [
        "get_dataset_statistics(raw_data)"
      ]
    },
    {
      "cell_type": "code",
      "execution_count": null,
      "metadata": {
        "id": "9a7oMalo8eW7"
      },
      "outputs": [],
      "source": [
        "X_train, X_test, y_train, y_test = train_test_split(raw_data['text'].to_numpy(), raw_data['label'].to_numpy(), stratify=raw_data['label'].to_numpy(), test_size=0.2, random_state=24)"
      ]
    },
    {
      "cell_type": "code",
      "execution_count": null,
      "metadata": {
        "colab": {
          "base_uri": "https://localhost:8080/",
          "height": 499
        },
        "id": "4Qah2hem-rzC",
        "outputId": "da4911e4-2345-4f33-cd60-44cea072b42c"
      },
      "outputs": [
        {
          "output_type": "display_data",
          "data": {
            "text/plain": [
              "<Figure size 600x600 with 1 Axes>"
            ],
            "image/png": "[encoded data removed]"
          },
          "metadata": {}
        }
      ],
      "source": [
        "get_dataset_statistics(pd.DataFrame({'label': y_train}))"
      ]
    },
    {
      "cell_type": "code",
      "execution_count": null,
      "metadata": {
        "colab": {
          "base_uri": "https://localhost:8080/",
          "height": 499
        },
        "id": "tBCiPYyy-0YC",
        "outputId": "3fe25b67-012a-4347-b331-f1db506002c7"
      },
      "outputs": [
        {
          "output_type": "display_data",
          "data": {
            "text/plain": [
              "<Figure size 600x600 with 1 Axes>"
            ],
            "image/png": "[encoded data removed]"
          },
          "metadata": {}
        }
      ],
      "source": [
        "get_dataset_statistics(pd.DataFrame({'label': y_test}))"
      ]
    },
    {
      "cell_type": "code",
      "execution_count": null,
      "metadata": {
        "id": "cVetnUhn-6K9",
        "colab": {
          "base_uri": "https://localhost:8080/",
          "height": 424
        },
        "outputId": "5773a6b8-9ee0-4e6a-ebb3-55b77180328a"
      },
      "outputs": [
        {
          "output_type": "execute_result",
          "data": {
            "text/plain": [
              "                                                  text  label\n",
              "0    in  a novel coronavirus sarscov2 was found to ...      0\n",
              "1    \"  the incidence of thyroid carcinoma is incre...      0\n",
              "2    Sequential Use of aYeastCEA Therapeutic Cancer...      2\n",
              "3    Paired box protein8 PAX8 immunohistochemical e...      2\n",
              "4     Is preoperative heart rate variability aprogn...      2\n",
              "..                                                 ...    ...\n",
              "791  \"widely usedcancerspecific questionnaire asses...      2\n",
              "792  \"Thus mathematical models that can estimate lo...      1\n",
              "793  \"Trophoblast cell surface antigen  TROP2 is ov...      2\n",
              "794  overexpression of epithelial cell adhesion mol...      0\n",
              "795  \"Statistical analysis We used Chi-square test ...      1\n",
              "\n",
              "[796 rows x 2 columns]"
            ],
            "text/html": [
              "\n",
              "  <div id=\"df-1fd7031a-2adf-4bfa-8f4c-b39ef4dff382\">\n",
              "    <div class=\"colab-df-container\">\n",
              "      <div>\n",
              "<style scoped>\n",
              "    .dataframe tbody tr th:only-of-type {\n",
              "        vertical-align: middle;\n",
              "    }\n",
              "\n",
              "    .dataframe tbody tr th {\n",
              "        vertical-align: top;\n",
              "    }\n",
              "\n",
              "    .dataframe thead th {\n",
              "        text-align: right;\n",
              "    }\n",
              "</style>\n",
              "<table border=\"1\" class=\"dataframe\">\n",
              "  <thead>\n",
              "    <tr style=\"text-align: right;\">\n",
              "      <th></th>\n",
              "      <th>text</th>\n",
              "      <th>label</th>\n",
              "    </tr>\n",
              "  </thead>\n",
              "  <tbody>\n",
              "    <tr>\n",
              "      <th>0</th>\n",
              "      <td>in  a novel coronavirus sarscov2 was found to ...</td>\n",
              "      <td>0</td>\n",
              "    </tr>\n",
              "    <tr>\n",
              "      <th>1</th>\n",
              "      <td>\"  the incidence of thyroid carcinoma is incre...</td>\n",
              "      <td>0</td>\n",
              "    </tr>\n",
              "    <tr>\n",
              "      <th>2</th>\n",
              "      <td>Sequential Use of aYeastCEA Therapeutic Cancer...</td>\n",
              "      <td>2</td>\n",
              "    </tr>\n",
              "    <tr>\n",
              "      <th>3</th>\n",
              "      <td>Paired box protein8 PAX8 immunohistochemical e...</td>\n",
              "      <td>2</td>\n",
              "    </tr>\n",
              "    <tr>\n",
              "      <th>4</th>\n",
              "      <td>Is preoperative heart rate variability aprogn...</td>\n",
              "      <td>2</td>\n",
              "    </tr>\n",
              "    <tr>\n",
              "      <th>...</th>\n",
              "      <td>...</td>\n",
              "      <td>...</td>\n",
              "    </tr>\n",
              "    <tr>\n",
              "      <th>791</th>\n",
              "      <td>\"widely usedcancerspecific questionnaire asses...</td>\n",
              "      <td>2</td>\n",
              "    </tr>\n",
              "    <tr>\n",
              "      <th>792</th>\n",
              "      <td>\"Thus mathematical models that can estimate lo...</td>\n",
              "      <td>1</td>\n",
              "    </tr>\n",
              "    <tr>\n",
              "      <th>793</th>\n",
              "      <td>\"Trophoblast cell surface antigen  TROP2 is ov...</td>\n",
              "      <td>2</td>\n",
              "    </tr>\n",
              "    <tr>\n",
              "      <th>794</th>\n",
              "      <td>overexpression of epithelial cell adhesion mol...</td>\n",
              "      <td>0</td>\n",
              "    </tr>\n",
              "    <tr>\n",
              "      <th>795</th>\n",
              "      <td>\"Statistical analysis We used Chi-square test ...</td>\n",
              "      <td>1</td>\n",
              "    </tr>\n",
              "  </tbody>\n",
              "</table>\n",
              "<p>796 rows × 2 columns</p>\n",
              "</div>\n",
              "      <button class=\"colab-df-convert\" onclick=\"convertToInteractive('df-1fd7031a-2adf-4bfa-8f4c-b39ef4dff382')\"\n",
              "              title=\"Convert this dataframe to an interactive table.\"\n",
              "              style=\"display:none;\">\n",
              "        \n",
              "  <svg xmlns=\"http://www.w3.org/2000/svg\" height=\"24px\"viewBox=\"0 0 24 24\"\n",
              "       width=\"24px\">\n",
              "    <path d=\"M0 0h24v24H0V0z\" fill=\"none\"/>\n",
              "    <path d=\"M18.56 5.44l.94 2.06.94-2.06 2.06-.94-2.06-.94-.94-2.06-.94 2.06-2.06.94zm-11 1L8.5 8.5l.94-2.06 2.06-.94-2.06-.94L8.5 2.5l-.94 2.06-2.06.94zm10 10l.94 2.06.94-2.06 2.06-.94-2.06-.94-.94-2.06-.94 2.06-2.06.94z\"/><path d=\"M17.41 7.96l-1.37-1.37c-.4-.4-.92-.59-1.43-.59-.52 0-1.04.2-1.43.59L10.3 9.45l-7.72 7.72c-.78.78-.78 2.05 0 2.83L4 21.41c.39.39.9.59 1.41.59.51 0 1.02-.2 1.41-.59l7.78-7.78 2.81-2.81c.8-.78.8-2.07 0-2.86zM5.41 20L4 18.59l7.72-7.72 1.47 1.35L5.41 20z\"/>\n",
              "  </svg>\n",
              "      </button>\n",
              "      \n",
              "  <style>\n",
              "    .colab-df-container {\n",
              "      display:flex;\n",
              "      flex-wrap:wrap;\n",
              "      gap: 12px;\n",
              "    }\n",
              "\n",
              "    .colab-df-convert {\n",
              "      background-color: #E8F0FE;\n",
              "      border: none;\n",
              "      border-radius: 50%;\n",
              "      cursor: pointer;\n",
              "      display: none;\n",
              "      fill: #1967D2;\n",
              "      height: 32px;\n",
              "      padding: 0 0 0 0;\n",
              "      width: 32px;\n",
              "    }\n",
              "\n",
              "    .colab-df-convert:hover {\n",
              "      background-color: #E2EBFA;\n",
              "      box-shadow: 0px 1px 2px rgba(60, 64, 67, 0.3), 0px 1px 3px 1px rgba(60, 64, 67, 0.15);\n",
              "      fill: #174EA6;\n",
              "    }\n",
              "\n",
              "    [theme=dark] .colab-df-convert {\n",
              "      background-color: #3B4455;\n",
              "      fill: #D2E3FC;\n",
              "    }\n",
              "\n",
              "    [theme=dark] .colab-df-convert:hover {\n",
              "      background-color: #434B5C;\n",
              "      box-shadow: 0px 1px 3px 1px rgba(0, 0, 0, 0.15);\n",
              "      filter: drop-shadow(0px 1px 2px rgba(0, 0, 0, 0.3));\n",
              "      fill: #FFFFFF;\n",
              "    }\n",
              "  </style>\n",
              "\n",
              "      <script>\n",
              "        const buttonEl =\n",
              "          document.querySelector('#df-1fd7031a-2adf-4bfa-8f4c-b39ef4dff382 button.colab-df-convert');\n",
              "        buttonEl.style.display =\n",
              "          google.colab.kernel.accessAllowed ? 'block' : 'none';\n",
              "\n",
              "        async function convertToInteractive(key) {\n",
              "          const element = document.querySelector('#df-1fd7031a-2adf-4bfa-8f4c-b39ef4dff382');\n",
              "          const dataTable =\n",
              "            await google.colab.kernel.invokeFunction('convertToInteractive',\n",
              "                                                     [key], {});\n",
              "          if (!dataTable) return;\n",
              "\n",
              "          const docLinkHtml = 'Like what you see? Visit the ' +\n",
              "            '<a target=\"_blank\" href=https://colab.research.google.com/notebooks/data_table.ipynb>data table notebook</a>'\n",
              "            + ' to learn more about interactive tables.';\n",
              "          element.innerHTML = '';\n",
              "          dataTable['output_type'] = 'display_data';\n",
              "          await google.colab.output.renderOutput(dataTable, element);\n",
              "          const docLink = document.createElement('div');\n",
              "          docLink.innerHTML = docLinkHtml;\n",
              "          element.appendChild(docLink);\n",
              "        }\n",
              "      </script>\n",
              "    </div>\n",
              "  </div>\n",
              "  "
            ]
          },
          "metadata": {},
          "execution_count": 11
        }
      ],
      "source": [
        "train_data = pd.DataFrame({'text': X_train, 'label': y_train})\n",
        "\n",
        "train_data"
      ]
    },
    {
      "cell_type": "code",
      "execution_count": null,
      "metadata": {
        "id": "ppXduhD3Okz8",
        "colab": {
          "base_uri": "https://localhost:8080/",
          "height": 424
        },
        "outputId": "c35a6cfc-f573-4fec-df80-a88f39b00203"
      },
      "outputs": [
        {
          "output_type": "execute_result",
          "data": {
            "text/plain": [
              "                                                  text  label\n",
              "0    \"A decrease of 50% or more from baseline urina...      1\n",
              "1    \"The remaining 24 (25.3%) were not differentia...      1\n",
              "2    \"Results Exceptional response to an IGF-1R inh...      1\n",
              "3    \"detection and quantification of cancer DNA mo...      1\n",
              "4    \"1.3±0.4 cm (range: 0.7-2.0 cm) for Group A an...      1\n",
              "..                                                 ...    ...\n",
              "195  \"  heat shock transcription factor1 hsf1 was o...      0\n",
              "196  \"fundamental  influences  of  sex  and  gender...      2\n",
              "197  Activation by NaturalPhytochemicals An Overvie...      2\n",
              "198  \"Effects of lowdose computed tomography LDCT s...      2\n",
              "199  \"The probands father (II-5) and sister (III-5...      1\n",
              "\n",
              "[200 rows x 2 columns]"
            ],
            "text/html": [
              "\n",
              "  <div id=\"df-8af1bfd2-2d40-478f-99c2-9ce24be51dd0\">\n",
              "    <div class=\"colab-df-container\">\n",
              "      <div>\n",
              "<style scoped>\n",
              "    .dataframe tbody tr th:only-of-type {\n",
              "        vertical-align: middle;\n",
              "    }\n",
              "\n",
              "    .dataframe tbody tr th {\n",
              "        vertical-align: top;\n",
              "    }\n",
              "\n",
              "    .dataframe thead th {\n",
              "        text-align: right;\n",
              "    }\n",
              "</style>\n",
              "<table border=\"1\" class=\"dataframe\">\n",
              "  <thead>\n",
              "    <tr style=\"text-align: right;\">\n",
              "      <th></th>\n",
              "      <th>text</th>\n",
              "      <th>label</th>\n",
              "    </tr>\n",
              "  </thead>\n",
              "  <tbody>\n",
              "    <tr>\n",
              "      <th>0</th>\n",
              "      <td>\"A decrease of 50% or more from baseline urina...</td>\n",
              "      <td>1</td>\n",
              "    </tr>\n",
              "    <tr>\n",
              "      <th>1</th>\n",
              "      <td>\"The remaining 24 (25.3%) were not differentia...</td>\n",
              "      <td>1</td>\n",
              "    </tr>\n",
              "    <tr>\n",
              "      <th>2</th>\n",
              "      <td>\"Results Exceptional response to an IGF-1R inh...</td>\n",
              "      <td>1</td>\n",
              "    </tr>\n",
              "    <tr>\n",
              "      <th>3</th>\n",
              "      <td>\"detection and quantification of cancer DNA mo...</td>\n",
              "      <td>1</td>\n",
              "    </tr>\n",
              "    <tr>\n",
              "      <th>4</th>\n",
              "      <td>\"1.3±0.4 cm (range: 0.7-2.0 cm) for Group A an...</td>\n",
              "      <td>1</td>\n",
              "    </tr>\n",
              "    <tr>\n",
              "      <th>...</th>\n",
              "      <td>...</td>\n",
              "      <td>...</td>\n",
              "    </tr>\n",
              "    <tr>\n",
              "      <th>195</th>\n",
              "      <td>\"  heat shock transcription factor1 hsf1 was o...</td>\n",
              "      <td>0</td>\n",
              "    </tr>\n",
              "    <tr>\n",
              "      <th>196</th>\n",
              "      <td>\"fundamental  influences  of  sex  and  gender...</td>\n",
              "      <td>2</td>\n",
              "    </tr>\n",
              "    <tr>\n",
              "      <th>197</th>\n",
              "      <td>Activation by NaturalPhytochemicals An Overvie...</td>\n",
              "      <td>2</td>\n",
              "    </tr>\n",
              "    <tr>\n",
              "      <th>198</th>\n",
              "      <td>\"Effects of lowdose computed tomography LDCT s...</td>\n",
              "      <td>2</td>\n",
              "    </tr>\n",
              "    <tr>\n",
              "      <th>199</th>\n",
              "      <td>\"The probands father (II-5) and sister (III-5...</td>\n",
              "      <td>1</td>\n",
              "    </tr>\n",
              "  </tbody>\n",
              "</table>\n",
              "<p>200 rows × 2 columns</p>\n",
              "</div>\n",
              "      <button class=\"colab-df-convert\" onclick=\"convertToInteractive('df-8af1bfd2-2d40-478f-99c2-9ce24be51dd0')\"\n",
              "              title=\"Convert this dataframe to an interactive table.\"\n",
              "              style=\"display:none;\">\n",
              "        \n",
              "  <svg xmlns=\"http://www.w3.org/2000/svg\" height=\"24px\"viewBox=\"0 0 24 24\"\n",
              "       width=\"24px\">\n",
              "    <path d=\"M0 0h24v24H0V0z\" fill=\"none\"/>\n",
              "    <path d=\"M18.56 5.44l.94 2.06.94-2.06 2.06-.94-2.06-.94-.94-2.06-.94 2.06-2.06.94zm-11 1L8.5 8.5l.94-2.06 2.06-.94-2.06-.94L8.5 2.5l-.94 2.06-2.06.94zm10 10l.94 2.06.94-2.06 2.06-.94-2.06-.94-.94-2.06-.94 2.06-2.06.94z\"/><path d=\"M17.41 7.96l-1.37-1.37c-.4-.4-.92-.59-1.43-.59-.52 0-1.04.2-1.43.59L10.3 9.45l-7.72 7.72c-.78.78-.78 2.05 0 2.83L4 21.41c.39.39.9.59 1.41.59.51 0 1.02-.2 1.41-.59l7.78-7.78 2.81-2.81c.8-.78.8-2.07 0-2.86zM5.41 20L4 18.59l7.72-7.72 1.47 1.35L5.41 20z\"/>\n",
              "  </svg>\n",
              "      </button>\n",
              "      \n",
              "  <style>\n",
              "    .colab-df-container {\n",
              "      display:flex;\n",
              "      flex-wrap:wrap;\n",
              "      gap: 12px;\n",
              "    }\n",
              "\n",
              "    .colab-df-convert {\n",
              "      background-color: #E8F0FE;\n",
              "      border: none;\n",
              "      border-radius: 50%;\n",
              "      cursor: pointer;\n",
              "      display: none;\n",
              "      fill: #1967D2;\n",
              "      height: 32px;\n",
              "      padding: 0 0 0 0;\n",
              "      width: 32px;\n",
              "    }\n",
              "\n",
              "    .colab-df-convert:hover {\n",
              "      background-color: #E2EBFA;\n",
              "      box-shadow: 0px 1px 2px rgba(60, 64, 67, 0.3), 0px 1px 3px 1px rgba(60, 64, 67, 0.15);\n",
              "      fill: #174EA6;\n",
              "    }\n",
              "\n",
              "    [theme=dark] .colab-df-convert {\n",
              "      background-color: #3B4455;\n",
              "      fill: #D2E3FC;\n",
              "    }\n",
              "\n",
              "    [theme=dark] .colab-df-convert:hover {\n",
              "      background-color: #434B5C;\n",
              "      box-shadow: 0px 1px 3px 1px rgba(0, 0, 0, 0.15);\n",
              "      filter: drop-shadow(0px 1px 2px rgba(0, 0, 0, 0.3));\n",
              "      fill: #FFFFFF;\n",
              "    }\n",
              "  </style>\n",
              "\n",
              "      <script>\n",
              "        const buttonEl =\n",
              "          document.querySelector('#df-8af1bfd2-2d40-478f-99c2-9ce24be51dd0 button.colab-df-convert');\n",
              "        buttonEl.style.display =\n",
              "          google.colab.kernel.accessAllowed ? 'block' : 'none';\n",
              "\n",
              "        async function convertToInteractive(key) {\n",
              "          const element = document.querySelector('#df-8af1bfd2-2d40-478f-99c2-9ce24be51dd0');\n",
              "          const dataTable =\n",
              "            await google.colab.kernel.invokeFunction('convertToInteractive',\n",
              "                                                     [key], {});\n",
              "          if (!dataTable) return;\n",
              "\n",
              "          const docLinkHtml = 'Like what you see? Visit the ' +\n",
              "            '<a target=\"_blank\" href=https://colab.research.google.com/notebooks/data_table.ipynb>data table notebook</a>'\n",
              "            + ' to learn more about interactive tables.';\n",
              "          element.innerHTML = '';\n",
              "          dataTable['output_type'] = 'display_data';\n",
              "          await google.colab.output.renderOutput(dataTable, element);\n",
              "          const docLink = document.createElement('div');\n",
              "          docLink.innerHTML = docLinkHtml;\n",
              "          element.appendChild(docLink);\n",
              "        }\n",
              "      </script>\n",
              "    </div>\n",
              "  </div>\n",
              "  "
            ]
          },
          "metadata": {},
          "execution_count": 12
        }
      ],
      "source": [
        "test_data = pd.DataFrame({'text': X_test, 'label': y_test})\n",
        "\n",
        "test_data"
      ]
    },
    {
      "cell_type": "markdown",
      "metadata": {
        "id": "OiEsQgky_HtA"
      },
      "source": [
        "# Text Preprocessing "
      ]
    },
    {
      "cell_type": "code",
      "execution_count": null,
      "metadata": {
        "id": "gBlxYHn9_C_e"
      },
      "outputs": [],
      "source": [
        "import requests\n",
        "stopwords_list = requests.get(\"https://github.com/stopwords-iso/stopwords-en/blob/master/stopwords-en.txt\").content\n",
        "stopwords = set(stopwords_list.decode().splitlines())"
      ]
    },
    {
      "cell_type": "code",
      "execution_count": null,
      "metadata": {
        "id": "trlE3rdD_Lr7"
      },
      "outputs": [],
      "source": [
        "import string\n",
        "from nltk.corpus import stopwords\n",
        "from sklearn.feature_extraction.text import ENGLISH_STOP_WORDS\n",
        "sklearn_stopwords = ENGLISH_STOP_WORDS\n",
        "\n",
        "stop_words = set(stopwords.words('english'))\n",
        "stop_words.update(sklearn_stopwords)\n",
        "\n",
        "def text_preprocessing(raw_text):\n",
        "  text_words = raw_text.translate(str.maketrans('', '', string.punctuation))\n",
        "  msg_tokens = word_tokenize(text_words.lower())\n",
        "  filtered_text = [token for token in msg_tokens if not token in stop_words]\n",
        "  return \" \".join(filtered_text)"
      ]
    },
    {
      "cell_type": "code",
      "execution_count": null,
      "metadata": {
        "colab": {
          "base_uri": "https://localhost:8080/",
          "height": 424
        },
        "id": "bnTrzKDQALIB",
        "outputId": "1fb516f2-cbb1-4d35-8e25-c785f8bb5c57"
      },
      "outputs": [
        {
          "output_type": "execute_result",
          "data": {
            "text/plain": [
              "                                                  text  label\n",
              "0    novel coronavirus sarscov2 cause highly contag...      0\n",
              "1    incidence thyroid carcinoma increasing world s...      0\n",
              "2    sequential use ayeastcea therapeutic cancervac...      2\n",
              "3    paired box protein8 pax8 immunohistochemical e...      2\n",
              "4    preoperative heart rate variability aprognosti...      2\n",
              "..                                                 ...    ...\n",
              "791  widely usedcancerspecific questionnaire assess...      2\n",
              "792  mathematical models estimate longterm costeffe...      1\n",
              "793  trophoblast cell surface antigen trop2 overexp...      2\n",
              "794  overexpression epithelial cell adhesion molecu...      0\n",
              "795  statistical analysis used chisquare test exami...      1\n",
              "\n",
              "[796 rows x 2 columns]"
            ],
            "text/html": [
              "\n",
              "  <div id=\"df-22ec8d49-ba65-4c84-aa8c-db7e9e56cdc0\">\n",
              "    <div class=\"colab-df-container\">\n",
              "      <div>\n",
              "<style scoped>\n",
              "    .dataframe tbody tr th:only-of-type {\n",
              "        vertical-align: middle;\n",
              "    }\n",
              "\n",
              "    .dataframe tbody tr th {\n",
              "        vertical-align: top;\n",
              "    }\n",
              "\n",
              "    .dataframe thead th {\n",
              "        text-align: right;\n",
              "    }\n",
              "</style>\n",
              "<table border=\"1\" class=\"dataframe\">\n",
              "  <thead>\n",
              "    <tr style=\"text-align: right;\">\n",
              "      <th></th>\n",
              "      <th>text</th>\n",
              "      <th>label</th>\n",
              "    </tr>\n",
              "  </thead>\n",
              "  <tbody>\n",
              "    <tr>\n",
              "      <th>0</th>\n",
              "      <td>novel coronavirus sarscov2 cause highly contag...</td>\n",
              "      <td>0</td>\n",
              "    </tr>\n",
              "    <tr>\n",
              "      <th>1</th>\n",
              "      <td>incidence thyroid carcinoma increasing world s...</td>\n",
              "      <td>0</td>\n",
              "    </tr>\n",
              "    <tr>\n",
              "      <th>2</th>\n",
              "      <td>sequential use ayeastcea therapeutic cancervac...</td>\n",
              "      <td>2</td>\n",
              "    </tr>\n",
              "    <tr>\n",
              "      <th>3</th>\n",
              "      <td>paired box protein8 pax8 immunohistochemical e...</td>\n",
              "      <td>2</td>\n",
              "    </tr>\n",
              "    <tr>\n",
              "      <th>4</th>\n",
              "      <td>preoperative heart rate variability aprognosti...</td>\n",
              "      <td>2</td>\n",
              "    </tr>\n",
              "    <tr>\n",
              "      <th>...</th>\n",
              "      <td>...</td>\n",
              "      <td>...</td>\n",
              "    </tr>\n",
              "    <tr>\n",
              "      <th>791</th>\n",
              "      <td>widely usedcancerspecific questionnaire assess...</td>\n",
              "      <td>2</td>\n",
              "    </tr>\n",
              "    <tr>\n",
              "      <th>792</th>\n",
              "      <td>mathematical models estimate longterm costeffe...</td>\n",
              "      <td>1</td>\n",
              "    </tr>\n",
              "    <tr>\n",
              "      <th>793</th>\n",
              "      <td>trophoblast cell surface antigen trop2 overexp...</td>\n",
              "      <td>2</td>\n",
              "    </tr>\n",
              "    <tr>\n",
              "      <th>794</th>\n",
              "      <td>overexpression epithelial cell adhesion molecu...</td>\n",
              "      <td>0</td>\n",
              "    </tr>\n",
              "    <tr>\n",
              "      <th>795</th>\n",
              "      <td>statistical analysis used chisquare test exami...</td>\n",
              "      <td>1</td>\n",
              "    </tr>\n",
              "  </tbody>\n",
              "</table>\n",
              "<p>796 rows × 2 columns</p>\n",
              "</div>\n",
              "      <button class=\"colab-df-convert\" onclick=\"convertToInteractive('df-22ec8d49-ba65-4c84-aa8c-db7e9e56cdc0')\"\n",
              "              title=\"Convert this dataframe to an interactive table.\"\n",
              "              style=\"display:none;\">\n",
              "        \n",
              "  <svg xmlns=\"http://www.w3.org/2000/svg\" height=\"24px\"viewBox=\"0 0 24 24\"\n",
              "       width=\"24px\">\n",
              "    <path d=\"M0 0h24v24H0V0z\" fill=\"none\"/>\n",
              "    <path d=\"M18.56 5.44l.94 2.06.94-2.06 2.06-.94-2.06-.94-.94-2.06-.94 2.06-2.06.94zm-11 1L8.5 8.5l.94-2.06 2.06-.94-2.06-.94L8.5 2.5l-.94 2.06-2.06.94zm10 10l.94 2.06.94-2.06 2.06-.94-2.06-.94-.94-2.06-.94 2.06-2.06.94z\"/><path d=\"M17.41 7.96l-1.37-1.37c-.4-.4-.92-.59-1.43-.59-.52 0-1.04.2-1.43.59L10.3 9.45l-7.72 7.72c-.78.78-.78 2.05 0 2.83L4 21.41c.39.39.9.59 1.41.59.51 0 1.02-.2 1.41-.59l7.78-7.78 2.81-2.81c.8-.78.8-2.07 0-2.86zM5.41 20L4 18.59l7.72-7.72 1.47 1.35L5.41 20z\"/>\n",
              "  </svg>\n",
              "      </button>\n",
              "      \n",
              "  <style>\n",
              "    .colab-df-container {\n",
              "      display:flex;\n",
              "      flex-wrap:wrap;\n",
              "      gap: 12px;\n",
              "    }\n",
              "\n",
              "    .colab-df-convert {\n",
              "      background-color: #E8F0FE;\n",
              "      border: none;\n",
              "      border-radius: 50%;\n",
              "      cursor: pointer;\n",
              "      display: none;\n",
              "      fill: #1967D2;\n",
              "      height: 32px;\n",
              "      padding: 0 0 0 0;\n",
              "      width: 32px;\n",
              "    }\n",
              "\n",
              "    .colab-df-convert:hover {\n",
              "      background-color: #E2EBFA;\n",
              "      box-shadow: 0px 1px 2px rgba(60, 64, 67, 0.3), 0px 1px 3px 1px rgba(60, 64, 67, 0.15);\n",
              "      fill: #174EA6;\n",
              "    }\n",
              "\n",
              "    [theme=dark] .colab-df-convert {\n",
              "      background-color: #3B4455;\n",
              "      fill: #D2E3FC;\n",
              "    }\n",
              "\n",
              "    [theme=dark] .colab-df-convert:hover {\n",
              "      background-color: #434B5C;\n",
              "      box-shadow: 0px 1px 3px 1px rgba(0, 0, 0, 0.15);\n",
              "      filter: drop-shadow(0px 1px 2px rgba(0, 0, 0, 0.3));\n",
              "      fill: #FFFFFF;\n",
              "    }\n",
              "  </style>\n",
              "\n",
              "      <script>\n",
              "        const buttonEl =\n",
              "          document.querySelector('#df-22ec8d49-ba65-4c84-aa8c-db7e9e56cdc0 button.colab-df-convert');\n",
              "        buttonEl.style.display =\n",
              "          google.colab.kernel.accessAllowed ? 'block' : 'none';\n",
              "\n",
              "        async function convertToInteractive(key) {\n",
              "          const element = document.querySelector('#df-22ec8d49-ba65-4c84-aa8c-db7e9e56cdc0');\n",
              "          const dataTable =\n",
              "            await google.colab.kernel.invokeFunction('convertToInteractive',\n",
              "                                                     [key], {});\n",
              "          if (!dataTable) return;\n",
              "\n",
              "          const docLinkHtml = 'Like what you see? Visit the ' +\n",
              "            '<a target=\"_blank\" href=https://colab.research.google.com/notebooks/data_table.ipynb>data table notebook</a>'\n",
              "            + ' to learn more about interactive tables.';\n",
              "          element.innerHTML = '';\n",
              "          dataTable['output_type'] = 'display_data';\n",
              "          await google.colab.output.renderOutput(dataTable, element);\n",
              "          const docLink = document.createElement('div');\n",
              "          docLink.innerHTML = docLinkHtml;\n",
              "          element.appendChild(docLink);\n",
              "        }\n",
              "      </script>\n",
              "    </div>\n",
              "  </div>\n",
              "  "
            ]
          },
          "metadata": {},
          "execution_count": 15
        }
      ],
      "source": [
        "train_data = train_data[['text', 'label']].copy()\n",
        "\n",
        "train_data['text'] = train_data['text'].apply(text_preprocessing)\n",
        "\n",
        "train_data.drop_duplicates(inplace=True)\n",
        "\n",
        "train_data"
      ]
    },
    {
      "cell_type": "code",
      "execution_count": null,
      "metadata": {
        "colab": {
          "base_uri": "https://localhost:8080/",
          "height": 424
        },
        "id": "21_qKNngOiqe",
        "outputId": "74747fad-387f-4223-dd05-017b6afa8334"
      },
      "outputs": [
        {
          "output_type": "execute_result",
          "data": {
            "text/plain": [
              "                                                  text  label\n",
              "0    decrease 50 baseline urinary prostaglandin e2 ...      1\n",
              "1    remaining 24 253 differentiated nsclc nos medi...      1\n",
              "2    results exceptional response igf1r inhibitor 5...      1\n",
              "3    detection quantification cancer dna molecules ...      1\n",
              "4    13±04 cm range 0720 cm group 06±03 cm range 03...      1\n",
              "..                                                 ...    ...\n",
              "195  heat shock transcription factor1 hsf1 overexpr...      0\n",
              "196  fundamental influences sex gender modifiers ma...      2\n",
              "197  activation naturalphytochemicals overviewconce...      2\n",
              "198  effects lowdose computed tomography ldct scree...      2\n",
              "199  probands father ii5 sister iii5 unaffected pe...      1\n",
              "\n",
              "[200 rows x 2 columns]"
            ],
            "text/html": [
              "\n",
              "  <div id=\"df-e5e2f455-5c87-4218-b0e7-bb618959b621\">\n",
              "    <div class=\"colab-df-container\">\n",
              "      <div>\n",
              "<style scoped>\n",
              "    .dataframe tbody tr th:only-of-type {\n",
              "        vertical-align: middle;\n",
              "    }\n",
              "\n",
              "    .dataframe tbody tr th {\n",
              "        vertical-align: top;\n",
              "    }\n",
              "\n",
              "    .dataframe thead th {\n",
              "        text-align: right;\n",
              "    }\n",
              "</style>\n",
              "<table border=\"1\" class=\"dataframe\">\n",
              "  <thead>\n",
              "    <tr style=\"text-align: right;\">\n",
              "      <th></th>\n",
              "      <th>text</th>\n",
              "      <th>label</th>\n",
              "    </tr>\n",
              "  </thead>\n",
              "  <tbody>\n",
              "    <tr>\n",
              "      <th>0</th>\n",
              "      <td>decrease 50 baseline urinary prostaglandin e2 ...</td>\n",
              "      <td>1</td>\n",
              "    </tr>\n",
              "    <tr>\n",
              "      <th>1</th>\n",
              "      <td>remaining 24 253 differentiated nsclc nos medi...</td>\n",
              "      <td>1</td>\n",
              "    </tr>\n",
              "    <tr>\n",
              "      <th>2</th>\n",
              "      <td>results exceptional response igf1r inhibitor 5...</td>\n",
              "      <td>1</td>\n",
              "    </tr>\n",
              "    <tr>\n",
              "      <th>3</th>\n",
              "      <td>detection quantification cancer dna molecules ...</td>\n",
              "      <td>1</td>\n",
              "    </tr>\n",
              "    <tr>\n",
              "      <th>4</th>\n",
              "      <td>13±04 cm range 0720 cm group 06±03 cm range 03...</td>\n",
              "      <td>1</td>\n",
              "    </tr>\n",
              "    <tr>\n",
              "      <th>...</th>\n",
              "      <td>...</td>\n",
              "      <td>...</td>\n",
              "    </tr>\n",
              "    <tr>\n",
              "      <th>195</th>\n",
              "      <td>heat shock transcription factor1 hsf1 overexpr...</td>\n",
              "      <td>0</td>\n",
              "    </tr>\n",
              "    <tr>\n",
              "      <th>196</th>\n",
              "      <td>fundamental influences sex gender modifiers ma...</td>\n",
              "      <td>2</td>\n",
              "    </tr>\n",
              "    <tr>\n",
              "      <th>197</th>\n",
              "      <td>activation naturalphytochemicals overviewconce...</td>\n",
              "      <td>2</td>\n",
              "    </tr>\n",
              "    <tr>\n",
              "      <th>198</th>\n",
              "      <td>effects lowdose computed tomography ldct scree...</td>\n",
              "      <td>2</td>\n",
              "    </tr>\n",
              "    <tr>\n",
              "      <th>199</th>\n",
              "      <td>probands father ii5 sister iii5 unaffected pe...</td>\n",
              "      <td>1</td>\n",
              "    </tr>\n",
              "  </tbody>\n",
              "</table>\n",
              "<p>200 rows × 2 columns</p>\n",
              "</div>\n",
              "      <button class=\"colab-df-convert\" onclick=\"convertToInteractive('df-e5e2f455-5c87-4218-b0e7-bb618959b621')\"\n",
              "              title=\"Convert this dataframe to an interactive table.\"\n",
              "              style=\"display:none;\">\n",
              "        \n",
              "  <svg xmlns=\"http://www.w3.org/2000/svg\" height=\"24px\"viewBox=\"0 0 24 24\"\n",
              "       width=\"24px\">\n",
              "    <path d=\"M0 0h24v24H0V0z\" fill=\"none\"/>\n",
              "    <path d=\"M18.56 5.44l.94 2.06.94-2.06 2.06-.94-2.06-.94-.94-2.06-.94 2.06-2.06.94zm-11 1L8.5 8.5l.94-2.06 2.06-.94-2.06-.94L8.5 2.5l-.94 2.06-2.06.94zm10 10l.94 2.06.94-2.06 2.06-.94-2.06-.94-.94-2.06-.94 2.06-2.06.94z\"/><path d=\"M17.41 7.96l-1.37-1.37c-.4-.4-.92-.59-1.43-.59-.52 0-1.04.2-1.43.59L10.3 9.45l-7.72 7.72c-.78.78-.78 2.05 0 2.83L4 21.41c.39.39.9.59 1.41.59.51 0 1.02-.2 1.41-.59l7.78-7.78 2.81-2.81c.8-.78.8-2.07 0-2.86zM5.41 20L4 18.59l7.72-7.72 1.47 1.35L5.41 20z\"/>\n",
              "  </svg>\n",
              "      </button>\n",
              "      \n",
              "  <style>\n",
              "    .colab-df-container {\n",
              "      display:flex;\n",
              "      flex-wrap:wrap;\n",
              "      gap: 12px;\n",
              "    }\n",
              "\n",
              "    .colab-df-convert {\n",
              "      background-color: #E8F0FE;\n",
              "      border: none;\n",
              "      border-radius: 50%;\n",
              "      cursor: pointer;\n",
              "      display: none;\n",
              "      fill: #1967D2;\n",
              "      height: 32px;\n",
              "      padding: 0 0 0 0;\n",
              "      width: 32px;\n",
              "    }\n",
              "\n",
              "    .colab-df-convert:hover {\n",
              "      background-color: #E2EBFA;\n",
              "      box-shadow: 0px 1px 2px rgba(60, 64, 67, 0.3), 0px 1px 3px 1px rgba(60, 64, 67, 0.15);\n",
              "      fill: #174EA6;\n",
              "    }\n",
              "\n",
              "    [theme=dark] .colab-df-convert {\n",
              "      background-color: #3B4455;\n",
              "      fill: #D2E3FC;\n",
              "    }\n",
              "\n",
              "    [theme=dark] .colab-df-convert:hover {\n",
              "      background-color: #434B5C;\n",
              "      box-shadow: 0px 1px 3px 1px rgba(0, 0, 0, 0.15);\n",
              "      filter: drop-shadow(0px 1px 2px rgba(0, 0, 0, 0.3));\n",
              "      fill: #FFFFFF;\n",
              "    }\n",
              "  </style>\n",
              "\n",
              "      <script>\n",
              "        const buttonEl =\n",
              "          document.querySelector('#df-e5e2f455-5c87-4218-b0e7-bb618959b621 button.colab-df-convert');\n",
              "        buttonEl.style.display =\n",
              "          google.colab.kernel.accessAllowed ? 'block' : 'none';\n",
              "\n",
              "        async function convertToInteractive(key) {\n",
              "          const element = document.querySelector('#df-e5e2f455-5c87-4218-b0e7-bb618959b621');\n",
              "          const dataTable =\n",
              "            await google.colab.kernel.invokeFunction('convertToInteractive',\n",
              "                                                     [key], {});\n",
              "          if (!dataTable) return;\n",
              "\n",
              "          const docLinkHtml = 'Like what you see? Visit the ' +\n",
              "            '<a target=\"_blank\" href=https://colab.research.google.com/notebooks/data_table.ipynb>data table notebook</a>'\n",
              "            + ' to learn more about interactive tables.';\n",
              "          element.innerHTML = '';\n",
              "          dataTable['output_type'] = 'display_data';\n",
              "          await google.colab.output.renderOutput(dataTable, element);\n",
              "          const docLink = document.createElement('div');\n",
              "          docLink.innerHTML = docLinkHtml;\n",
              "          element.appendChild(docLink);\n",
              "        }\n",
              "      </script>\n",
              "    </div>\n",
              "  </div>\n",
              "  "
            ]
          },
          "metadata": {},
          "execution_count": 16
        }
      ],
      "source": [
        "test_data = test_data[['text', 'label']].copy()\n",
        "\n",
        "test_data['text'] = test_data['text'].apply(text_preprocessing)\n",
        "\n",
        "test_data.drop_duplicates(inplace=True)\n",
        "\n",
        "test_data"
      ]
    },
    {
      "cell_type": "markdown",
      "metadata": {
        "id": "m-8gEBwNA7PN"
      },
      "source": [
        "# Feature Extraction"
      ]
    },
    {
      "cell_type": "code",
      "execution_count": null,
      "metadata": {
        "colab": {
          "base_uri": "https://localhost:8080/"
        },
        "id": "qhU5I2TaBIUz",
        "outputId": "6b1e683c-6c66-4bb0-8b5f-5477527a1af7"
      },
      "outputs": [
        {
          "output_type": "stream",
          "name": "stdout",
          "text": [
            "[==================================================] 100.0% 1662.8/1662.8MB downloaded\n"
          ]
        }
      ],
      "source": [
        "word2vec_model = api.load(\"word2vec-google-news-300\")"
      ]
    },
    {
      "cell_type": "code",
      "execution_count": null,
      "metadata": {
        "id": "XOa6vzkoAhaN"
      },
      "outputs": [],
      "source": [
        "def get_text_vec(sent):\n",
        "  vector = np.mean(np.array([word2vec_model[token] for token in word_tokenize(sent) if token in word2vec_model.key_to_index]), axis=0)\n",
        "  if np.all(np.isnan(vector)) :\n",
        "    return np.zeros(300)\n",
        "  return vector"
      ]
    },
    {
      "cell_type": "code",
      "execution_count": null,
      "metadata": {
        "id": "H6qvnsikO88C"
      },
      "outputs": [],
      "source": [
        "X_test = np.stack(np.array([get_text_vec(text) for text in test_data['text'].values]))"
      ]
    },
    {
      "cell_type": "code",
      "execution_count": null,
      "metadata": {
        "id": "QvLhgrsqO-vC",
        "colab": {
          "base_uri": "https://localhost:8080/"
        },
        "outputId": "e4f72bab-af8a-48ce-9a86-b71d58c631ad"
      },
      "outputs": [
        {
          "output_type": "execute_result",
          "data": {
            "text/plain": [
              "(200, 300)"
            ]
          },
          "metadata": {},
          "execution_count": 20
        }
      ],
      "source": [
        "X_test.shape"
      ]
    },
    {
      "cell_type": "code",
      "execution_count": null,
      "metadata": {
        "id": "NCi6wK0kPACs"
      },
      "outputs": [],
      "source": [
        "y_test = test_data['label'].values"
      ]
    },
    {
      "cell_type": "code",
      "execution_count": null,
      "metadata": {
        "colab": {
          "base_uri": "https://localhost:8080/"
        },
        "id": "0I964n-QPBQE",
        "outputId": "dbcec898-2ae8-4055-a542-2dc2014d6f91"
      },
      "outputs": [
        {
          "output_type": "execute_result",
          "data": {
            "text/plain": [
              "(200,)"
            ]
          },
          "metadata": {},
          "execution_count": 22
        }
      ],
      "source": [
        "y_test.shape"
      ]
    },
    {
      "cell_type": "markdown",
      "metadata": {
        "id": "TEqW7eb9BkwW"
      },
      "source": [
        "# Model selection, training and evaluation"
      ]
    },
    {
      "cell_type": "code",
      "execution_count": null,
      "metadata": {
        "id": "q0zDvC6vlrXy"
      },
      "outputs": [],
      "source": [
        "def f_beta_score(y_true, y_pred):\n",
        "  return fbeta_score(y_true, y_pred, beta=2, average='macro')\n",
        "\n",
        "f2_score = make_scorer(f_beta_score, greater_is_better=True)"
      ]
    },
    {
      "cell_type": "code",
      "execution_count": null,
      "metadata": {
        "id": "ztqKkMvolrP8"
      },
      "outputs": [],
      "source": [
        "from datetime import datetime\n",
        "\n",
        "def save_cross_validation(results, file_name):\n",
        "  results_to_save = pd.DataFrame(columns=['Accuracy', 'Recall', 'Precision', 'F1 Score', 'F2 Score'])\n",
        "  for i in range(0, 10):\n",
        "    results_to_save.loc[i] = [\n",
        "      results['split{}_test_Accuracy'.format(i)][0],\n",
        "      results['split{}_test_Recall'.format(i)][0],\n",
        "      results['split{}_test_Precision'.format(i)][0],\n",
        "      results['split{}_test_F1'.format(i)][0],\n",
        "      results['split{}_test_F2'.format(i)][0]\n",
        "    ]\n",
        "  results_to_save.to_csv('{}Results/{}_{}.csv'.format(dir_name+'experiments/Cancer Doc/', file_name, datetime.now().strftime(\"%m%d%H%M\")))"
      ]
    },
    {
      "cell_type": "code",
      "execution_count": null,
      "metadata": {
        "id": "pdjCQatilrIT"
      },
      "outputs": [],
      "source": [
        "def train_model(classifier, param_grid, model_name, train_texts, train_labels, test_texts, test_labels, evaluation_metrics, to_print=True, to_save=False, file_name=None):\n",
        "    \"\"\"\n",
        "    train email classification model.\n",
        "    \"\"\"\n",
        "\n",
        "    # apply grid search to find best model hyper parameters\n",
        "    grid_search = GridSearchCV(classifier, param_grid, cv=10, scoring={'Accuracy': make_scorer(accuracy_score),\n",
        "                                                                       'F1': make_scorer(f1_score, average='macro'),\n",
        "                                                                       'F2': f2_score,\n",
        "                                                                       'Recall': make_scorer(recall_score, average='macro'),\n",
        "                                                                       'Precision': make_scorer(precision_score, average='macro')\n",
        "                                                                       }, refit='F1', n_jobs=-1)\n",
        "    grid_search.fit(train_texts, train_labels)\n",
        "    model = grid_search.best_estimator_\n",
        "\n",
        "    if to_save:\n",
        "      ConfusionMatrixDisplay(save_cross_validation(grid_search.cv_results_, file_name))\n",
        "      plt.show()\n",
        "\n",
        "    # train and test accuracy.\n",
        "    test_accuracy = model.score(test_texts, test_labels)\n",
        "    train_accuracy = model.score(train_texts, train_labels)\n",
        "\n",
        "    # compute F1 score for model evaluation.\n",
        "    y_pred = model.predict(test_texts)\n",
        "\n",
        "    recall = recall_score(test_labels, y_pred, average='macro')\n",
        "    precision = precision_score(test_labels, y_pred, average='macro')\n",
        "    f1score = f1_score(test_labels, y_pred, average='macro')\n",
        "    f2score = fbeta_score(y_test, y_pred, beta=2, average='macro')\n",
        "\n",
        "    if to_print:\n",
        "        print(\"train accuracy = \" + str(train_accuracy))\n",
        "        print(\"test accuracy = \" + str(test_accuracy))\n",
        "        print(\"Recall = {}\".format(recall))\n",
        "        print(\"Precision = {}\".format(precision))\n",
        "        print(\"F1 score = {}\".format(f1score))\n",
        "        print(\"F2 score = {}\".format(f2score))\n",
        "        print(classification_report(test_labels, y_pred))\n",
        "\n",
        "\n",
        "        # plot confusion matrix\n",
        "        cm = confusion_matrix(test_labels, y_pred)\n",
        "        disp = ConfusionMatrixDisplay(confusion_matrix=cm, display_labels=[0,1,2])\n",
        "\n",
        "        disp.plot(cmap=plt.cm.Blues)\n",
        "        plt.show()\n",
        "\n",
        "        # print best model hyper parameters.\n",
        "        print(grid_search.best_params_)\n",
        "\n",
        "    evaluation_metrics.loc[model_name, 'Recall'] = recall\n",
        "    evaluation_metrics.loc[model_name, 'Precision'] = precision\n",
        "    evaluation_metrics.loc[model_name, 'F1 score'] = f1score\n",
        "    evaluation_metrics.loc[model_name, 'F2 score'] = f2score\n",
        "\n",
        "    return f1score, f2score\n",
        "\n",
        "\n",
        "def train(model_id, train_texts, train_labels, test_texts, test_labels, evaluation_metrics, to_print=True, to_save=False, file_name=None):\n",
        "    \n",
        "    if model_id == 1:\n",
        "        # Random forest Classification model.\n",
        "        forest_clf = RandomForestClassifier(random_state=42, n_jobs=-1)\n",
        "        # forest_param_grid = [{'n_estimators': [25, 50, 75], 'max_features': [10, 15, 20, 25, 30], 'min_samples_split': [15, 20, 25], 'criterion': ['gini','entropy'], 'max_depth': [4,5]}]\n",
        "        forest_param_grid = [{'n_estimators': [50, 75, 100, 150, 200], 'max_features': [8, 9, 10], 'min_samples_split': [25, 30], 'criterion': ['gini','entropy'], 'max_depth': [4, 5]}]\n",
        "\n",
        "        return train_model(forest_clf, forest_param_grid, 'RandomForest', train_texts, train_labels, test_texts, test_labels, evaluation_metrics, to_print, to_save, file_name)\n",
        "\n",
        "    if model_id == 2:\n",
        "        # Support Vector Machine Model.\n",
        "        svc_clf = SVC(random_state=42)\n",
        "        svc_param_grid = [{'kernel': ['rbf', 'poly'], 'degree': [2, 3 ,4, 5]}]\n",
        "\n",
        "        return train_model(svc_clf, svc_param_grid, 'SVM', train_texts, train_labels, test_texts, test_labels, evaluation_metrics, to_print, to_save, file_name)"
      ]
    },
    {
      "cell_type": "markdown",
      "metadata": {
        "id": "2uZCYkLGehXH"
      },
      "source": [
        "#Text Aug."
      ]
    },
    {
      "cell_type": "code",
      "execution_count": null,
      "metadata": {
        "id": "I3Zr164TRYkv"
      },
      "outputs": [],
      "source": [
        "from nltk.corpus import wordnet\n",
        "\n",
        "def get_synonyms(word):\n",
        "  synonyms = []\n",
        "  for synonym in wordnet.synsets(word):\n",
        "    for lemma in [l.name().lower() for l in synonym.lemmas()]:\n",
        "      if len(lemma.split('_')) == 1 and lemma != word:\n",
        "        synonyms.append(lemma)\n",
        "\n",
        "  return list(set(synonyms))"
      ]
    },
    {
      "cell_type": "code",
      "execution_count": null,
      "metadata": {
        "id": "jhs6XZq9Rhcc"
      },
      "outputs": [],
      "source": [
        "import itertools\n",
        "\n",
        "def get_sentence_augmentations(sentence, similarity_threshold=.75):\n",
        "  sentence_tokens = word_tokenize(sentence.lower())\n",
        "  new_sentences = []\n",
        "  words = []\n",
        "  all_synonyms = []\n",
        "  for word in sentence_tokens:\n",
        "    if word in word2vec_model.key_to_index :\n",
        "      synonyms = get_synonyms(word)\n",
        "      if len(synonyms) > 0:\n",
        "        good_synonyms = []\n",
        "        for synonym in synonyms:\n",
        "          if synonym in word2vec_model.key_to_index :\n",
        "            if word2vec_model.similarity(word, synonym) >= similarity_threshold:\n",
        "              good_synonyms.append(synonym)\n",
        "        if len(good_synonyms) > 0:\n",
        "          words.append(word)\n",
        "          good_synonyms.append(word)\n",
        "          all_synonyms.append(good_synonyms)\n",
        "  for product in itertools.product(*all_synonyms):\n",
        "    new_sentence = sentence\n",
        "    for src, dest in zip(words, product):\n",
        "        new_sentence = new_sentence.replace(\"%s\" % src, dest)\n",
        "    new_sentences.append(new_sentence.lower())\n",
        "    # new_sentences.remove(sentence)\n",
        "  return new_sentences"
      ]
    },
    {
      "cell_type": "code",
      "execution_count": null,
      "metadata": {
        "id": "yRjg__4lRjKZ"
      },
      "outputs": [],
      "source": [
        "def my_augmentation(prepro_dataset, lable, similarity_threshold=.75):\n",
        "  texts = prepro_dataset.loc[prepro_dataset['label'] == lable]['text'].values\n",
        "  texts_num = len(texts)\n",
        "  new_texts = []\n",
        "  i = 0\n",
        "  \n",
        "  for text in texts:\n",
        "    new_texts.extend(get_sentence_augmentations(text, similarity_threshold))\n",
        "    if i % 20 == 0:\n",
        "      print(f\" {int(100*i/texts_num)} %\")\n",
        "    i += 1\n",
        "  augmentations = prepro_dataset[['text', 'label']].copy().append(pd.DataFrame({'label':[lable] * len(new_texts), 'text':new_texts}), ignore_index = True)\n",
        "  augmentations.drop_duplicates(inplace=True)\n",
        "  return augmentations.sample(frac=1)"
      ]
    },
    {
      "cell_type": "code",
      "execution_count": null,
      "metadata": {
        "colab": {
          "base_uri": "https://localhost:8080/"
        },
        "id": "TU54YZJxZ9K6",
        "outputId": "9369bf2b-e7a1-41cd-961b-34668ebe9723"
      },
      "outputs": [
        {
          "output_type": "stream",
          "name": "stdout",
          "text": [
            " 0 %\n",
            " 9 %\n",
            " 19 %\n",
            " 28 %\n",
            " 38 %\n",
            " 47 %\n",
            " 57 %\n",
            " 66 %\n",
            " 76 %\n",
            " 86 %\n",
            " 95 %\n"
          ]
        },
        {
          "output_type": "stream",
          "name": "stderr",
          "text": [
            "<ipython-input-21-98b0f6d823b3>:12: FutureWarning: The frame.append method is deprecated and will be removed from pandas in a future version. Use pandas.concat instead.\n",
            "  augmentations = prepro_dataset[['text', 'label']].copy().append(pd.DataFrame({'label':[lable] * len(new_texts), 'text':new_texts}), ignore_index = True)\n"
          ]
        }
      ],
      "source": [
        "augmented_dataset = my_augmentation(train_data, lable=0, similarity_threshold=.9)"
      ]
    },
    {
      "cell_type": "code",
      "execution_count": null,
      "metadata": {
        "colab": {
          "base_uri": "https://localhost:8080/"
        },
        "id": "XSK_W8Y-bCe3",
        "outputId": "62279116-2bdd-48ff-8a3d-e58cf84d83f9"
      },
      "outputs": [
        {
          "output_type": "stream",
          "name": "stdout",
          "text": [
            " 0 %\n",
            " 8 %\n",
            " 17 %\n",
            " 26 %\n",
            " 35 %\n",
            " 44 %\n",
            " 53 %\n",
            " 61 %\n",
            " 70 %\n",
            " 79 %\n",
            " 88 %\n",
            " 97 %\n"
          ]
        },
        {
          "output_type": "stream",
          "name": "stderr",
          "text": [
            "<ipython-input-21-98b0f6d823b3>:12: FutureWarning: The frame.append method is deprecated and will be removed from pandas in a future version. Use pandas.concat instead.\n",
            "  augmentations = prepro_dataset[['text', 'label']].copy().append(pd.DataFrame({'label':[lable] * len(new_texts), 'text':new_texts}), ignore_index = True)\n"
          ]
        }
      ],
      "source": [
        "augmented_dataset = my_augmentation(augmented_dataset, lable=2, similarity_threshold=.9)"
      ]
    },
    {
      "cell_type": "code",
      "execution_count": null,
      "metadata": {
        "colab": {
          "base_uri": "https://localhost:8080/",
          "height": 423
        },
        "id": "uzDMaShg0EWT",
        "outputId": "915c37f2-1e5b-476b-a8d9-5db741553656"
      },
      "outputs": [
        {
          "output_type": "execute_result",
          "data": {
            "text/plain": [
              "                                                   text  label\n",
              "267   cyskpeg1110mercoch32 peptide 30 mg 068 mol pro...      1\n",
              "3159  mukonal active member carbazole alkaloids isol...      2\n",
              "91    primary squamous cell carcinoma ofis anextreme...      2\n",
              "178   luteoloside exerts inhibitory effect prolifera...      1\n",
              "548   fraction needed photon plans translates beam t...      1\n",
              "...                                                 ...    ...\n",
              "311   posterior reversible encephalopathy syndrome p...      0\n",
              "431   99mtclabeled nanocolloid drugs development me...      2\n",
              "705   logrank test determined pfs os high klk11 grou...      1\n",
              "218   gatekeeper t790m mutation 34 monotherapy mutan...      1\n",
              "603   fish analysis performed 297 cases evaluate alk...      1\n",
              "\n",
              "[946 rows x 2 columns]"
            ],
            "text/html": [
              "\n",
              "  <div id=\"df-a7434b89-7a40-4381-b61e-8da4e08f1cbf\">\n",
              "    <div class=\"colab-df-container\">\n",
              "      <div>\n",
              "<style scoped>\n",
              "    .dataframe tbody tr th:only-of-type {\n",
              "        vertical-align: middle;\n",
              "    }\n",
              "\n",
              "    .dataframe tbody tr th {\n",
              "        vertical-align: top;\n",
              "    }\n",
              "\n",
              "    .dataframe thead th {\n",
              "        text-align: right;\n",
              "    }\n",
              "</style>\n",
              "<table border=\"1\" class=\"dataframe\">\n",
              "  <thead>\n",
              "    <tr style=\"text-align: right;\">\n",
              "      <th></th>\n",
              "      <th>text</th>\n",
              "      <th>label</th>\n",
              "    </tr>\n",
              "  </thead>\n",
              "  <tbody>\n",
              "    <tr>\n",
              "      <th>267</th>\n",
              "      <td>cyskpeg1110mercoch32 peptide 30 mg 068 mol pro...</td>\n",
              "      <td>1</td>\n",
              "    </tr>\n",
              "    <tr>\n",
              "      <th>3159</th>\n",
              "      <td>mukonal active member carbazole alkaloids isol...</td>\n",
              "      <td>2</td>\n",
              "    </tr>\n",
              "    <tr>\n",
              "      <th>91</th>\n",
              "      <td>primary squamous cell carcinoma ofis anextreme...</td>\n",
              "      <td>2</td>\n",
              "    </tr>\n",
              "    <tr>\n",
              "      <th>178</th>\n",
              "      <td>luteoloside exerts inhibitory effect prolifera...</td>\n",
              "      <td>1</td>\n",
              "    </tr>\n",
              "    <tr>\n",
              "      <th>548</th>\n",
              "      <td>fraction needed photon plans translates beam t...</td>\n",
              "      <td>1</td>\n",
              "    </tr>\n",
              "    <tr>\n",
              "      <th>...</th>\n",
              "      <td>...</td>\n",
              "      <td>...</td>\n",
              "    </tr>\n",
              "    <tr>\n",
              "      <th>311</th>\n",
              "      <td>posterior reversible encephalopathy syndrome p...</td>\n",
              "      <td>0</td>\n",
              "    </tr>\n",
              "    <tr>\n",
              "      <th>431</th>\n",
              "      <td>99mtclabeled nanocolloid drugs development me...</td>\n",
              "      <td>2</td>\n",
              "    </tr>\n",
              "    <tr>\n",
              "      <th>705</th>\n",
              "      <td>logrank test determined pfs os high klk11 grou...</td>\n",
              "      <td>1</td>\n",
              "    </tr>\n",
              "    <tr>\n",
              "      <th>218</th>\n",
              "      <td>gatekeeper t790m mutation 34 monotherapy mutan...</td>\n",
              "      <td>1</td>\n",
              "    </tr>\n",
              "    <tr>\n",
              "      <th>603</th>\n",
              "      <td>fish analysis performed 297 cases evaluate alk...</td>\n",
              "      <td>1</td>\n",
              "    </tr>\n",
              "  </tbody>\n",
              "</table>\n",
              "<p>946 rows × 2 columns</p>\n",
              "</div>\n",
              "      <button class=\"colab-df-convert\" onclick=\"convertToInteractive('df-a7434b89-7a40-4381-b61e-8da4e08f1cbf')\"\n",
              "              title=\"Convert this dataframe to an interactive table.\"\n",
              "              style=\"display:none;\">\n",
              "        \n",
              "  <svg xmlns=\"http://www.w3.org/2000/svg\" height=\"24px\"viewBox=\"0 0 24 24\"\n",
              "       width=\"24px\">\n",
              "    <path d=\"M0 0h24v24H0V0z\" fill=\"none\"/>\n",
              "    <path d=\"M18.56 5.44l.94 2.06.94-2.06 2.06-.94-2.06-.94-.94-2.06-.94 2.06-2.06.94zm-11 1L8.5 8.5l.94-2.06 2.06-.94-2.06-.94L8.5 2.5l-.94 2.06-2.06.94zm10 10l.94 2.06.94-2.06 2.06-.94-2.06-.94-.94-2.06-.94 2.06-2.06.94z\"/><path d=\"M17.41 7.96l-1.37-1.37c-.4-.4-.92-.59-1.43-.59-.52 0-1.04.2-1.43.59L10.3 9.45l-7.72 7.72c-.78.78-.78 2.05 0 2.83L4 21.41c.39.39.9.59 1.41.59.51 0 1.02-.2 1.41-.59l7.78-7.78 2.81-2.81c.8-.78.8-2.07 0-2.86zM5.41 20L4 18.59l7.72-7.72 1.47 1.35L5.41 20z\"/>\n",
              "  </svg>\n",
              "      </button>\n",
              "      \n",
              "  <style>\n",
              "    .colab-df-container {\n",
              "      display:flex;\n",
              "      flex-wrap:wrap;\n",
              "      gap: 12px;\n",
              "    }\n",
              "\n",
              "    .colab-df-convert {\n",
              "      background-color: #E8F0FE;\n",
              "      border: none;\n",
              "      border-radius: 50%;\n",
              "      cursor: pointer;\n",
              "      display: none;\n",
              "      fill: #1967D2;\n",
              "      height: 32px;\n",
              "      padding: 0 0 0 0;\n",
              "      width: 32px;\n",
              "    }\n",
              "\n",
              "    .colab-df-convert:hover {\n",
              "      background-color: #E2EBFA;\n",
              "      box-shadow: 0px 1px 2px rgba(60, 64, 67, 0.3), 0px 1px 3px 1px rgba(60, 64, 67, 0.15);\n",
              "      fill: #174EA6;\n",
              "    }\n",
              "\n",
              "    [theme=dark] .colab-df-convert {\n",
              "      background-color: #3B4455;\n",
              "      fill: #D2E3FC;\n",
              "    }\n",
              "\n",
              "    [theme=dark] .colab-df-convert:hover {\n",
              "      background-color: #434B5C;\n",
              "      box-shadow: 0px 1px 3px 1px rgba(0, 0, 0, 0.15);\n",
              "      filter: drop-shadow(0px 1px 2px rgba(0, 0, 0, 0.3));\n",
              "      fill: #FFFFFF;\n",
              "    }\n",
              "  </style>\n",
              "\n",
              "      <script>\n",
              "        const buttonEl =\n",
              "          document.querySelector('#df-a7434b89-7a40-4381-b61e-8da4e08f1cbf button.colab-df-convert');\n",
              "        buttonEl.style.display =\n",
              "          google.colab.kernel.accessAllowed ? 'block' : 'none';\n",
              "\n",
              "        async function convertToInteractive(key) {\n",
              "          const element = document.querySelector('#df-a7434b89-7a40-4381-b61e-8da4e08f1cbf');\n",
              "          const dataTable =\n",
              "            await google.colab.kernel.invokeFunction('convertToInteractive',\n",
              "                                                     [key], {});\n",
              "          if (!dataTable) return;\n",
              "\n",
              "          const docLinkHtml = 'Like what you see? Visit the ' +\n",
              "            '<a target=\"_blank\" href=https://colab.research.google.com/notebooks/data_table.ipynb>data table notebook</a>'\n",
              "            + ' to learn more about interactive tables.';\n",
              "          element.innerHTML = '';\n",
              "          dataTable['output_type'] = 'display_data';\n",
              "          await google.colab.output.renderOutput(dataTable, element);\n",
              "          const docLink = document.createElement('div');\n",
              "          docLink.innerHTML = docLinkHtml;\n",
              "          element.appendChild(docLink);\n",
              "        }\n",
              "      </script>\n",
              "    </div>\n",
              "  </div>\n",
              "  "
            ]
          },
          "metadata": {},
          "execution_count": 31
        }
      ],
      "source": [
        "augmented_dataset"
      ]
    },
    {
      "cell_type": "code",
      "execution_count": null,
      "metadata": {
        "colab": {
          "base_uri": "https://localhost:8080/",
          "height": 499
        },
        "id": "hRH5FNpUca1L",
        "outputId": "cb618b16-c5fc-4804-f976-71313f722bf0"
      },
      "outputs": [
        {
          "output_type": "display_data",
          "data": {
            "text/plain": [
              "<Figure size 600x600 with 1 Axes>"
            ],
            "image/png": "[encoded data removed]"
          },
          "metadata": {}
        }
      ],
      "source": [
        "get_dataset_statistics(augmented_dataset)"
      ]
    },
    {
      "cell_type": "code",
      "execution_count": null,
      "metadata": {
        "id": "1vbxyQOtbSCr"
      },
      "outputs": [],
      "source": [
        "aug_X_train = np.stack(np.array([get_text_vec(sms_text) for sms_text in augmented_dataset['text'].values]))"
      ]
    },
    {
      "cell_type": "code",
      "execution_count": null,
      "metadata": {
        "colab": {
          "base_uri": "https://localhost:8080/"
        },
        "id": "mFAagANKbUFC",
        "outputId": "8270cd91-c5dd-4c7c-bfea-2a5266065165"
      },
      "outputs": [
        {
          "output_type": "execute_result",
          "data": {
            "text/plain": [
              "(946, 300)"
            ]
          },
          "metadata": {},
          "execution_count": 34
        }
      ],
      "source": [
        "aug_X_train.shape"
      ]
    },
    {
      "cell_type": "code",
      "execution_count": null,
      "metadata": {
        "id": "Vq9ghif4bUcx"
      },
      "outputs": [],
      "source": [
        "aug_y_train = augmented_dataset['label'].values"
      ]
    },
    {
      "cell_type": "code",
      "execution_count": null,
      "metadata": {
        "colab": {
          "base_uri": "https://localhost:8080/"
        },
        "id": "4W7P0-q6bWUU",
        "outputId": "d9b77ca8-8faf-49ec-dfa9-3bbaa0988e55"
      },
      "outputs": [
        {
          "output_type": "execute_result",
          "data": {
            "text/plain": [
              "(946,)"
            ]
          },
          "metadata": {},
          "execution_count": 36
        }
      ],
      "source": [
        "aug_y_train.shape"
      ]
    },
    {
      "cell_type": "code",
      "execution_count": null,
      "metadata": {
        "id": "pQ-8E3FtbXok"
      },
      "outputs": [],
      "source": [
        "evaluation_metrics_aug = pd.DataFrame(columns = ['Recall', 'Precision', 'F1 score', 'F2 score'])"
      ]
    },
    {
      "cell_type": "markdown",
      "metadata": {
        "id": "y9XIrUB5FhnC"
      },
      "source": [
        "\n",
        "#Random Forest\n",
        "Similarity threshold .9"
      ]
    },
    {
      "cell_type": "code",
      "execution_count": null,
      "metadata": {
        "colab": {
          "base_uri": "https://localhost:8080/",
          "height": 781
        },
        "id": "PIws9o0Ol_J_",
        "outputId": "f2469e9b-7d3f-4219-f2be-65e58550fb96"
      },
      "outputs": [
        {
          "name": "stdout",
          "output_type": "stream",
          "text": [
            "train accuracy = 0.8942917547568711\n",
            "test accuracy = 0.725\n",
            "Recall = 0.6575573549257759\n",
            "Precision = 0.6802282270079912\n",
            "F1 score = 0.6443254601149339\n",
            "F2 score = 0.6486237475420432\n",
            "              precision    recall  f1-score   support\n",
            "\n",
            "           0       0.62      0.29      0.39        52\n",
            "           1       0.85      1.00      0.92        91\n",
            "           2       0.57      0.68      0.62        57\n",
            "\n",
            "    accuracy                           0.73       200\n",
            "   macro avg       0.68      0.66      0.64       200\n",
            "weighted avg       0.71      0.72      0.70       200\n",
            "\n"
          ]
        },
        {
          "data": {
            "image/png": "[encoded data removed]",
            "text/plain": [
              "<Figure size 640x480 with 2 Axes>"
            ]
          },
          "metadata": {},
          "output_type": "display_data"
        },
        {
          "name": "stdout",
          "output_type": "stream",
          "text": [
            "{'criterion': 'gini', 'max_depth': 5, 'max_features': 20, 'min_samples_split': 15, 'n_estimators': 50}\n"
          ]
        },
        {
          "data": {
            "text/plain": [
              "(0.6443254601149339, 0.6486237475420432)"
            ]
          },
          "execution_count": 56,
          "metadata": {},
          "output_type": "execute_result"
        }
      ],
      "source": [
        "train(1, aug_X_train, aug_y_train, X_test, y_test, evaluation_metrics_aug, to_save=True, file_name='TAMS_RF')"
      ]
    },
    {
      "cell_type": "markdown",
      "metadata": {
        "id": "XmwRxKxMe-Uf"
      },
      "source": [
        "# SVM\n",
        "Similarity threshold .9"
      ]
    },
    {
      "cell_type": "code",
      "execution_count": null,
      "metadata": {
        "colab": {
          "base_uri": "https://localhost:8080/",
          "height": 781
        },
        "id": "Fm1903eEmQ0u",
        "outputId": "fa9ee9d8-90d7-4529-b0dc-56162dc67b2b"
      },
      "outputs": [
        {
          "name": "stdout",
          "output_type": "stream",
          "text": [
            "train accuracy = 0.8181818181818182\n",
            "test accuracy = 0.735\n",
            "Recall = 0.6730608572713835\n",
            "Precision = 0.6889090699417633\n",
            "F1 score = 0.6545589133245324\n",
            "F2 score = 0.6610057592699636\n",
            "              precision    recall  f1-score   support\n",
            "\n",
            "           0       0.58      0.27      0.37        52\n",
            "           1       0.95      0.98      0.96        91\n",
            "           2       0.54      0.77      0.63        57\n",
            "\n",
            "    accuracy                           0.73       200\n",
            "   macro avg       0.69      0.67      0.65       200\n",
            "weighted avg       0.74      0.73      0.71       200\n",
            "\n"
          ]
        },
        {
          "data": {
            "image/png": "[encoded data removed]",
            "text/plain": [
              "<Figure size 640x480 with 2 Axes>"
            ]
          },
          "metadata": {},
          "output_type": "display_data"
        },
        {
          "name": "stdout",
          "output_type": "stream",
          "text": [
            "{'degree': 5, 'kernel': 'poly'}\n"
          ]
        },
        {
          "data": {
            "text/plain": [
              "(0.6545589133245324, 0.6610057592699636)"
            ]
          },
          "execution_count": 49,
          "metadata": {},
          "output_type": "execute_result"
        }
      ],
      "source": [
        "train(2, aug_X_train, aug_y_train, X_test, y_test, evaluation_metrics_aug, to_save=True, file_name='TAMS_SVM')"
      ]
    },
    {
      "cell_type": "code",
      "execution_count": null,
      "metadata": {
        "colab": {
          "base_uri": "https://localhost:8080/",
          "height": 112
        },
        "id": "DRkHXBz12YzX",
        "outputId": "737e4b3b-eea8-422a-b84d-ecd135f8e5e4"
      },
      "outputs": [
        {
          "data": {
            "text/html": [
              "\n",
              "  <div id=\"df-f84bceed-06ad-4fb9-9949-e1c00772d7b9\">\n",
              "    <div class=\"colab-df-container\">\n",
              "      <div>\n",
              "<style scoped>\n",
              "    .dataframe tbody tr th:only-of-type {\n",
              "        vertical-align: middle;\n",
              "    }\n",
              "\n",
              "    .dataframe tbody tr th {\n",
              "        vertical-align: top;\n",
              "    }\n",
              "\n",
              "    .dataframe thead th {\n",
              "        text-align: right;\n",
              "    }\n",
              "</style>\n",
              "<table border=\"1\" class=\"dataframe\">\n",
              "  <thead>\n",
              "    <tr style=\"text-align: right;\">\n",
              "      <th></th>\n",
              "      <th>Recall</th>\n",
              "      <th>Precision</th>\n",
              "      <th>F1 score</th>\n",
              "      <th>F2 score</th>\n",
              "    </tr>\n",
              "  </thead>\n",
              "  <tbody>\n",
              "    <tr>\n",
              "      <th>SVM</th>\n",
              "      <td>0.673061</td>\n",
              "      <td>0.688909</td>\n",
              "      <td>0.654559</td>\n",
              "      <td>0.661006</td>\n",
              "    </tr>\n",
              "    <tr>\n",
              "      <th>RandomForest</th>\n",
              "      <td>0.677206</td>\n",
              "      <td>0.688912</td>\n",
              "      <td>0.677601</td>\n",
              "      <td>0.676275</td>\n",
              "    </tr>\n",
              "  </tbody>\n",
              "</table>\n",
              "</div>\n",
              "      <button class=\"colab-df-convert\" onclick=\"convertToInteractive('df-f84bceed-06ad-4fb9-9949-e1c00772d7b9')\"\n",
              "              title=\"Convert this dataframe to an interactive table.\"\n",
              "              style=\"display:none;\">\n",
              "        \n",
              "  <svg xmlns=\"http://www.w3.org/2000/svg\" height=\"24px\"viewBox=\"0 0 24 24\"\n",
              "       width=\"24px\">\n",
              "    <path d=\"M0 0h24v24H0V0z\" fill=\"none\"/>\n",
              "    <path d=\"M18.56 5.44l.94 2.06.94-2.06 2.06-.94-2.06-.94-.94-2.06-.94 2.06-2.06.94zm-11 1L8.5 8.5l.94-2.06 2.06-.94-2.06-.94L8.5 2.5l-.94 2.06-2.06.94zm10 10l.94 2.06.94-2.06 2.06-.94-2.06-.94-.94-2.06-.94 2.06-2.06.94z\"/><path d=\"M17.41 7.96l-1.37-1.37c-.4-.4-.92-.59-1.43-.59-.52 0-1.04.2-1.43.59L10.3 9.45l-7.72 7.72c-.78.78-.78 2.05 0 2.83L4 21.41c.39.39.9.59 1.41.59.51 0 1.02-.2 1.41-.59l7.78-7.78 2.81-2.81c.8-.78.8-2.07 0-2.86zM5.41 20L4 18.59l7.72-7.72 1.47 1.35L5.41 20z\"/>\n",
              "  </svg>\n",
              "      </button>\n",
              "      \n",
              "  <style>\n",
              "    .colab-df-container {\n",
              "      display:flex;\n",
              "      flex-wrap:wrap;\n",
              "      gap: 12px;\n",
              "    }\n",
              "\n",
              "    .colab-df-convert {\n",
              "      background-color: #E8F0FE;\n",
              "      border: none;\n",
              "      border-radius: 50%;\n",
              "      cursor: pointer;\n",
              "      display: none;\n",
              "      fill: #1967D2;\n",
              "      height: 32px;\n",
              "      padding: 0 0 0 0;\n",
              "      width: 32px;\n",
              "    }\n",
              "\n",
              "    .colab-df-convert:hover {\n",
              "      background-color: #E2EBFA;\n",
              "      box-shadow: 0px 1px 2px rgba(60, 64, 67, 0.3), 0px 1px 3px 1px rgba(60, 64, 67, 0.15);\n",
              "      fill: #174EA6;\n",
              "    }\n",
              "\n",
              "    [theme=dark] .colab-df-convert {\n",
              "      background-color: #3B4455;\n",
              "      fill: #D2E3FC;\n",
              "    }\n",
              "\n",
              "    [theme=dark] .colab-df-convert:hover {\n",
              "      background-color: #434B5C;\n",
              "      box-shadow: 0px 1px 3px 1px rgba(0, 0, 0, 0.15);\n",
              "      filter: drop-shadow(0px 1px 2px rgba(0, 0, 0, 0.3));\n",
              "      fill: #FFFFFF;\n",
              "    }\n",
              "  </style>\n",
              "\n",
              "      <script>\n",
              "        const buttonEl =\n",
              "          document.querySelector('#df-f84bceed-06ad-4fb9-9949-e1c00772d7b9 button.colab-df-convert');\n",
              "        buttonEl.style.display =\n",
              "          google.colab.kernel.accessAllowed ? 'block' : 'none';\n",
              "\n",
              "        async function convertToInteractive(key) {\n",
              "          const element = document.querySelector('#df-f84bceed-06ad-4fb9-9949-e1c00772d7b9');\n",
              "          const dataTable =\n",
              "            await google.colab.kernel.invokeFunction('convertToInteractive',\n",
              "                                                     [key], {});\n",
              "          if (!dataTable) return;\n",
              "\n",
              "          const docLinkHtml = 'Like what you see? Visit the ' +\n",
              "            '<a target=\"_blank\" href=https://colab.research.google.com/notebooks/data_table.ipynb>data table notebook</a>'\n",
              "            + ' to learn more about interactive tables.';\n",
              "          element.innerHTML = '';\n",
              "          dataTable['output_type'] = 'display_data';\n",
              "          await google.colab.output.renderOutput(dataTable, element);\n",
              "          const docLink = document.createElement('div');\n",
              "          docLink.innerHTML = docLinkHtml;\n",
              "          element.appendChild(docLink);\n",
              "        }\n",
              "      </script>\n",
              "    </div>\n",
              "  </div>\n",
              "  "
            ],
            "text/plain": [
              "                Recall Precision  F1 score  F2 score\n",
              "SVM           0.673061  0.688909  0.654559  0.661006\n",
              "RandomForest  0.677206  0.688912  0.677601  0.676275"
            ]
          },
          "execution_count": 46,
          "metadata": {},
          "output_type": "execute_result"
        }
      ],
      "source": [
        "evaluation_metrics_aug"
      ]
    },
    {
      "cell_type": "markdown",
      "metadata": {
        "id": "Kt9GJ0gkHMDE"
      },
      "source": [
        "#BiLSTM\n",
        "Similarity threshold .9"
      ]
    },
    {
      "cell_type": "code",
      "execution_count": null,
      "metadata": {
        "id": "fRozAuJpHMZ-"
      },
      "outputs": [],
      "source": [
        "import random\n",
        "import tensorflow as tf \n",
        "from tensorflow import keras \n",
        "from tensorflow.keras import layers\n",
        "from sklearn.metrics import ConfusionMatrixDisplay\n",
        "from tensorflow.keras.layers import Dropout\n",
        "from tensorflow.keras import regularizers\n",
        "from sklearn.model_selection import StratifiedKFold"
      ]
    },
    {
      "cell_type": "code",
      "execution_count": null,
      "metadata": {
        "id": "URFydNy9Ij_7"
      },
      "outputs": [],
      "source": [
        "def create_blstm_model(train_texts):\n",
        "\n",
        "  vectorize_layer = layers.TextVectorization(max_tokens=50000, output_sequence_length=2000)\n",
        "\n",
        "  vectorize_layer.adapt(train_texts)\n",
        "\n",
        "  embedding_layer = layers.Embedding(input_dim=50000, output_dim=100, input_length=2000)\n",
        "\n",
        "  model = tf.keras.models.Sequential()\n",
        "  model.add(tf.keras.Input(shape=(1,), dtype=tf.string))\n",
        "  model.add(vectorize_layer)\n",
        "  model.add(embedding_layer)\n",
        "\n",
        "  model.add(layers.Bidirectional(layers.LSTM(40, bias_regularizer=regularizers.L2(1e-2), kernel_regularizer=regularizers.L1L2(l1=1e-3, l2=1e-3), activity_regularizer=regularizers.L2(1e-2))))\n",
        "  model.add(Dropout(0.2))\n",
        "  model.add(layers.Dense(3, activation='softmax'))\n",
        "\n",
        "\n",
        "  model.compile(optimizer=keras.optimizers.Adam(),\n",
        "                loss='sparse_categorical_crossentropy',\n",
        "                metrics=['accuracy'])  \n",
        "  print(model.summary())\n",
        "  \n",
        "  return model"
      ]
    },
    {
      "cell_type": "markdown",
      "source": [
        "# Cross Validation"
      ],
      "metadata": {
        "id": "gSwDuUgRc4W6"
      }
    },
    {
      "cell_type": "code",
      "source": [
        "def cv_blstm():\n",
        "\n",
        "  kf = StratifiedKFold(10, shuffle=True, random_state=42) \n",
        "  cv_metrics = pd.DataFrame(columns = ['Recall', 'Precision', 'F1 score', 'F2 score'])\n",
        "\n",
        "  fold = 0\n",
        "\n",
        "  X = augmented_dataset['text'].values\n",
        "  Y = augmented_dataset['label'].values\n",
        "\n",
        "  for train, val in kf.split(X, Y):  \n",
        "  \n",
        "    print(f\"Fold {fold}\")\n",
        "\n",
        "    train_texts = X[train]\n",
        "    train_labels = Y[train]\n",
        "    test_texts = X[val]\n",
        "    test_labels = Y[val]\n",
        "\n",
        "    blstm_model = create_blstm_model(train_texts)\n",
        "\n",
        "    history = blstm_model.fit(train_texts,\n",
        "                              train_labels,\n",
        "                              epochs=10,\n",
        "                              batch_size=16,\n",
        "                              validation_data=(test_texts, test_labels))\n",
        "\n",
        "    blstm_model.evaluate(test_texts, test_labels)\n",
        "    y_pred = np.round(blstm_model.predict(test_texts))\n",
        "    y_pred = np.argmax(y_pred, axis=1)\n",
        "\n",
        "    f1_sc = f1_score(test_labels, y_pred, average='macro')\n",
        "    f2score = fbeta_score(test_labels, y_pred, beta=2, average='macro')\n",
        "\n",
        "    cv_metrics.loc[fold, 'Recall'] = recall_score(test_labels, y_pred, average='macro')\n",
        "    cv_metrics.loc[fold, 'Precision'] = precision_score(test_labels, y_pred, average='macro')\n",
        "    cv_metrics.loc[fold, 'F1 score'] = f1_sc\n",
        "    cv_metrics.loc[fold, 'F2 score'] = f2score\n",
        "    \n",
        "    fold += 1\n",
        "\n",
        "  return cv_metrics"
      ],
      "metadata": {
        "id": "Wn7emVuIc4ww"
      },
      "execution_count": null,
      "outputs": []
    },
    {
      "cell_type": "code",
      "source": [
        "cv_results = cv_blstm()"
      ],
      "metadata": {
        "id": "vQbkZbDKc5pd",
        "colab": {
          "base_uri": "https://localhost:8080/"
        },
        "outputId": "8f9e14b2-820d-4612-fb5b-e2b7521ee469"
      },
      "execution_count": null,
      "outputs": [
        {
          "output_type": "stream",
          "name": "stdout",
          "text": [
            "Fold 0\n",
            "Model: \"sequential\"\n",
            "_________________________________________________________________\n",
            " Layer (type)                Output Shape              Param #   \n",
            "=================================================================\n",
            " text_vectorization (TextVec  (None, 2000)             0         \n",
            " torization)                                                     \n",
            "                                                                 \n",
            " embedding (Embedding)       (None, 2000, 100)         5000000   \n",
            "                                                                 \n",
            " bidirectional (Bidirectiona  (None, 80)               45120     \n",
            " l)                                                              \n",
            "                                                                 \n",
            " dropout (Dropout)           (None, 80)                0         \n",
            "                                                                 \n",
            " dense (Dense)               (None, 3)                 243       \n",
            "                                                                 \n",
            "=================================================================\n",
            "Total params: 5,045,363\n",
            "Trainable params: 5,045,363\n",
            "Non-trainable params: 0\n",
            "_________________________________________________________________\n",
            "None\n",
            "Epoch 1/10\n",
            "54/54 [==============================] - 26s 307ms/step - loss: 3.5745 - accuracy: 0.5875 - val_loss: 2.6582 - val_accuracy: 0.6421\n",
            "Epoch 2/10\n",
            "54/54 [==============================] - 16s 290ms/step - loss: 2.0051 - accuracy: 0.7779 - val_loss: 1.6006 - val_accuracy: 0.7579\n",
            "Epoch 3/10\n",
            "54/54 [==============================] - 15s 272ms/step - loss: 1.1896 - accuracy: 0.9048 - val_loss: 1.2232 - val_accuracy: 0.8105\n",
            "Epoch 4/10\n",
            "54/54 [==============================] - 16s 294ms/step - loss: 0.9478 - accuracy: 0.9189 - val_loss: 1.1657 - val_accuracy: 0.7579\n",
            "Epoch 5/10\n",
            "54/54 [==============================] - 15s 275ms/step - loss: 0.9218 - accuracy: 0.8872 - val_loss: 1.0917 - val_accuracy: 0.8000\n",
            "Epoch 6/10\n",
            "54/54 [==============================] - 14s 267ms/step - loss: 0.7587 - accuracy: 0.9471 - val_loss: 1.1867 - val_accuracy: 0.7474\n",
            "Epoch 7/10\n",
            "54/54 [==============================] - 14s 265ms/step - loss: 0.6680 - accuracy: 0.9671 - val_loss: 1.0454 - val_accuracy: 0.8105\n",
            "Epoch 8/10\n",
            "54/54 [==============================] - 13s 243ms/step - loss: 0.6066 - accuracy: 0.9671 - val_loss: 0.9350 - val_accuracy: 0.8211\n",
            "Epoch 9/10\n",
            "54/54 [==============================] - 15s 270ms/step - loss: 0.5559 - accuracy: 0.9730 - val_loss: 1.0231 - val_accuracy: 0.7789\n",
            "Epoch 10/10\n",
            "54/54 [==============================] - 14s 254ms/step - loss: 0.5250 - accuracy: 0.9706 - val_loss: 0.9657 - val_accuracy: 0.8000\n",
            "3/3 [==============================] - 0s 98ms/step - loss: 0.9657 - accuracy: 0.8000\n",
            "3/3 [==============================] - 1s 54ms/step\n",
            "Fold 1\n",
            "Model: \"sequential_1\"\n",
            "_________________________________________________________________\n",
            " Layer (type)                Output Shape              Param #   \n",
            "=================================================================\n",
            " text_vectorization_1 (TextV  (None, 2000)             0         \n",
            " ectorization)                                                   \n",
            "                                                                 \n",
            " embedding_1 (Embedding)     (None, 2000, 100)         5000000   \n",
            "                                                                 \n",
            " bidirectional_1 (Bidirectio  (None, 80)               45120     \n",
            " nal)                                                            \n",
            "                                                                 \n",
            " dropout_1 (Dropout)         (None, 80)                0         \n",
            "                                                                 \n",
            " dense_1 (Dense)             (None, 3)                 243       \n",
            "                                                                 \n",
            "=================================================================\n",
            "Total params: 5,045,363\n",
            "Trainable params: 5,045,363\n",
            "Non-trainable params: 0\n",
            "_________________________________________________________________\n",
            "None\n",
            "Epoch 1/10\n",
            "54/54 [==============================] - 20s 304ms/step - loss: 3.5927 - accuracy: 0.5417 - val_loss: 2.7575 - val_accuracy: 0.5684\n",
            "Epoch 2/10\n",
            "54/54 [==============================] - 15s 277ms/step - loss: 2.1280 - accuracy: 0.7109 - val_loss: 1.6486 - val_accuracy: 0.6947\n",
            "Epoch 3/10\n",
            "54/54 [==============================] - 14s 264ms/step - loss: 1.2500 - accuracy: 0.9001 - val_loss: 1.2886 - val_accuracy: 0.7684\n",
            "Epoch 4/10\n",
            "54/54 [==============================] - 15s 274ms/step - loss: 0.9055 - accuracy: 0.9459 - val_loss: 1.1595 - val_accuracy: 0.7895\n",
            "Epoch 5/10\n",
            "54/54 [==============================] - 13s 244ms/step - loss: 0.7620 - accuracy: 0.9612 - val_loss: 1.1344 - val_accuracy: 0.8105\n",
            "Epoch 6/10\n",
            "54/54 [==============================] - 12s 231ms/step - loss: 0.6964 - accuracy: 0.9647 - val_loss: 1.0464 - val_accuracy: 0.8105\n",
            "Epoch 7/10\n",
            "54/54 [==============================] - 13s 239ms/step - loss: 0.6062 - accuracy: 0.9659 - val_loss: 1.0620 - val_accuracy: 0.7789\n",
            "Epoch 8/10\n",
            "54/54 [==============================] - 14s 262ms/step - loss: 0.5548 - accuracy: 0.9659 - val_loss: 1.0036 - val_accuracy: 0.8000\n",
            "Epoch 9/10\n",
            "54/54 [==============================] - 13s 244ms/step - loss: 0.4822 - accuracy: 0.9730 - val_loss: 0.9322 - val_accuracy: 0.7789\n",
            "Epoch 10/10\n",
            "54/54 [==============================] - 13s 239ms/step - loss: 0.4467 - accuracy: 0.9718 - val_loss: 0.8900 - val_accuracy: 0.8211\n",
            "3/3 [==============================] - 0s 90ms/step - loss: 0.8900 - accuracy: 0.8211\n",
            "3/3 [==============================] - 1s 53ms/step\n",
            "Fold 2\n",
            "Model: \"sequential_2\"\n",
            "_________________________________________________________________\n",
            " Layer (type)                Output Shape              Param #   \n",
            "=================================================================\n",
            " text_vectorization_2 (TextV  (None, 2000)             0         \n",
            " ectorization)                                                   \n",
            "                                                                 \n",
            " embedding_2 (Embedding)     (None, 2000, 100)         5000000   \n",
            "                                                                 \n",
            " bidirectional_2 (Bidirectio  (None, 80)               45120     \n",
            " nal)                                                            \n",
            "                                                                 \n",
            " dropout_2 (Dropout)         (None, 80)                0         \n",
            "                                                                 \n",
            " dense_2 (Dense)             (None, 3)                 243       \n",
            "                                                                 \n",
            "=================================================================\n",
            "Total params: 5,045,363\n",
            "Trainable params: 5,045,363\n",
            "Non-trainable params: 0\n",
            "_________________________________________________________________\n",
            "None\n",
            "Epoch 1/10\n",
            "54/54 [==============================] - 19s 282ms/step - loss: 3.5715 - accuracy: 0.5276 - val_loss: 2.8048 - val_accuracy: 0.5474\n",
            "Epoch 2/10\n",
            "54/54 [==============================] - 14s 263ms/step - loss: 2.0106 - accuracy: 0.7086 - val_loss: 1.6524 - val_accuracy: 0.7053\n",
            "Epoch 3/10\n",
            "54/54 [==============================] - 13s 247ms/step - loss: 1.2527 - accuracy: 0.8578 - val_loss: 1.1796 - val_accuracy: 0.7474\n",
            "Epoch 4/10\n",
            "54/54 [==============================] - 14s 261ms/step - loss: 0.9549 - accuracy: 0.9271 - val_loss: 1.1547 - val_accuracy: 0.7474\n",
            "Epoch 5/10\n",
            "54/54 [==============================] - 13s 245ms/step - loss: 0.7816 - accuracy: 0.9483 - val_loss: 1.0058 - val_accuracy: 0.8211\n",
            "Epoch 6/10\n",
            "54/54 [==============================] - 11s 213ms/step - loss: 0.6751 - accuracy: 0.9647 - val_loss: 0.9962 - val_accuracy: 0.7684\n",
            "Epoch 7/10\n",
            "54/54 [==============================] - 13s 238ms/step - loss: 0.6179 - accuracy: 0.9589 - val_loss: 0.9610 - val_accuracy: 0.7368\n",
            "Epoch 8/10\n",
            "54/54 [==============================] - 14s 257ms/step - loss: 0.5795 - accuracy: 0.9647 - val_loss: 1.2459 - val_accuracy: 0.7579\n",
            "Epoch 9/10\n",
            "54/54 [==============================] - 14s 261ms/step - loss: 0.5341 - accuracy: 0.9636 - val_loss: 1.0282 - val_accuracy: 0.7368\n",
            "Epoch 10/10\n",
            "54/54 [==============================] - 13s 235ms/step - loss: 0.4655 - accuracy: 0.9706 - val_loss: 0.9336 - val_accuracy: 0.7474\n",
            "3/3 [==============================] - 0s 94ms/step - loss: 0.9336 - accuracy: 0.7474\n",
            "3/3 [==============================] - 1s 58ms/step\n",
            "Fold 3\n",
            "Model: \"sequential_3\"\n",
            "_________________________________________________________________\n",
            " Layer (type)                Output Shape              Param #   \n",
            "=================================================================\n",
            " text_vectorization_3 (TextV  (None, 2000)             0         \n",
            " ectorization)                                                   \n",
            "                                                                 \n",
            " embedding_3 (Embedding)     (None, 2000, 100)         5000000   \n",
            "                                                                 \n",
            " bidirectional_3 (Bidirectio  (None, 80)               45120     \n",
            " nal)                                                            \n",
            "                                                                 \n",
            " dropout_3 (Dropout)         (None, 80)                0         \n",
            "                                                                 \n",
            " dense_3 (Dense)             (None, 3)                 243       \n",
            "                                                                 \n",
            "=================================================================\n",
            "Total params: 5,045,363\n",
            "Trainable params: 5,045,363\n",
            "Non-trainable params: 0\n",
            "_________________________________________________________________\n",
            "None\n",
            "Epoch 1/10\n",
            "54/54 [==============================] - 19s 285ms/step - loss: 3.5984 - accuracy: 0.5899 - val_loss: 2.7409 - val_accuracy: 0.5789\n",
            "Epoch 2/10\n",
            "54/54 [==============================] - 14s 266ms/step - loss: 2.0546 - accuracy: 0.7227 - val_loss: 1.8686 - val_accuracy: 0.7053\n",
            "Epoch 3/10\n",
            "54/54 [==============================] - 14s 258ms/step - loss: 1.3890 - accuracy: 0.8049 - val_loss: 1.2783 - val_accuracy: 0.7368\n",
            "Epoch 4/10\n",
            "54/54 [==============================] - 14s 254ms/step - loss: 1.0498 - accuracy: 0.8989 - val_loss: 1.2085 - val_accuracy: 0.7684\n",
            "Epoch 5/10\n",
            "54/54 [==============================] - 13s 240ms/step - loss: 0.8767 - accuracy: 0.9377 - val_loss: 1.0759 - val_accuracy: 0.8105\n",
            "Epoch 6/10\n",
            "54/54 [==============================] - 12s 230ms/step - loss: 0.7855 - accuracy: 0.9412 - val_loss: 1.0170 - val_accuracy: 0.7895\n",
            "Epoch 7/10\n",
            "54/54 [==============================] - 12s 230ms/step - loss: 0.7075 - accuracy: 0.9459 - val_loss: 0.9893 - val_accuracy: 0.7789\n",
            "Epoch 8/10\n",
            "54/54 [==============================] - 12s 227ms/step - loss: 0.6326 - accuracy: 0.9424 - val_loss: 0.9243 - val_accuracy: 0.7895\n",
            "Epoch 9/10\n",
            "54/54 [==============================] - 13s 232ms/step - loss: 0.5634 - accuracy: 0.9565 - val_loss: 0.9124 - val_accuracy: 0.7895\n",
            "Epoch 10/10\n",
            "54/54 [==============================] - 11s 208ms/step - loss: 0.5719 - accuracy: 0.9448 - val_loss: 0.8857 - val_accuracy: 0.7579\n",
            "3/3 [==============================] - 0s 100ms/step - loss: 0.8857 - accuracy: 0.7579\n",
            "3/3 [==============================] - 1s 55ms/step\n",
            "Fold 4\n",
            "Model: \"sequential_4\"\n",
            "_________________________________________________________________\n",
            " Layer (type)                Output Shape              Param #   \n",
            "=================================================================\n",
            " text_vectorization_4 (TextV  (None, 2000)             0         \n",
            " ectorization)                                                   \n",
            "                                                                 \n",
            " embedding_4 (Embedding)     (None, 2000, 100)         5000000   \n",
            "                                                                 \n",
            " bidirectional_4 (Bidirectio  (None, 80)               45120     \n",
            " nal)                                                            \n",
            "                                                                 \n",
            " dropout_4 (Dropout)         (None, 80)                0         \n",
            "                                                                 \n",
            " dense_4 (Dense)             (None, 3)                 243       \n",
            "                                                                 \n",
            "=================================================================\n",
            "Total params: 5,045,363\n",
            "Trainable params: 5,045,363\n",
            "Non-trainable params: 0\n",
            "_________________________________________________________________\n",
            "None\n",
            "Epoch 1/10\n",
            "54/54 [==============================] - 19s 282ms/step - loss: 3.5861 - accuracy: 0.5288 - val_loss: 2.7072 - val_accuracy: 0.6316\n",
            "Epoch 2/10\n",
            "54/54 [==============================] - 14s 256ms/step - loss: 2.1323 - accuracy: 0.6992 - val_loss: 1.6425 - val_accuracy: 0.7158\n",
            "Epoch 3/10\n",
            "54/54 [==============================] - 14s 258ms/step - loss: 1.2197 - accuracy: 0.9025 - val_loss: 1.2275 - val_accuracy: 0.7474\n",
            "Epoch 4/10\n",
            "54/54 [==============================] - 14s 256ms/step - loss: 0.9137 - accuracy: 0.9436 - val_loss: 1.0759 - val_accuracy: 0.8105\n",
            "Epoch 5/10\n",
            "54/54 [==============================] - 13s 249ms/step - loss: 0.7810 - accuracy: 0.9612 - val_loss: 0.9775 - val_accuracy: 0.8421\n",
            "Epoch 6/10\n",
            "54/54 [==============================] - 13s 232ms/step - loss: 0.6714 - accuracy: 0.9683 - val_loss: 1.0318 - val_accuracy: 0.8211\n",
            "Epoch 7/10\n",
            "54/54 [==============================] - 12s 229ms/step - loss: 0.6193 - accuracy: 0.9671 - val_loss: 0.9220 - val_accuracy: 0.8526\n",
            "Epoch 8/10\n",
            "54/54 [==============================] - 12s 226ms/step - loss: 0.5598 - accuracy: 0.9730 - val_loss: 0.8212 - val_accuracy: 0.8316\n",
            "Epoch 9/10\n",
            "54/54 [==============================] - 11s 209ms/step - loss: 0.5068 - accuracy: 0.9659 - val_loss: 0.7960 - val_accuracy: 0.8421\n",
            "Epoch 10/10\n",
            "54/54 [==============================] - 12s 216ms/step - loss: 0.4668 - accuracy: 0.9718 - val_loss: 0.7736 - val_accuracy: 0.8211\n",
            "3/3 [==============================] - 0s 58ms/step - loss: 0.7736 - accuracy: 0.8211\n"
          ]
        },
        {
          "output_type": "stream",
          "name": "stderr",
          "text": [
            "WARNING:tensorflow:5 out of the last 13 calls to <function Model.make_predict_function.<locals>.predict_function at 0x7f570841a950> triggered tf.function retracing. Tracing is expensive and the excessive number of tracings could be due to (1) creating @tf.function repeatedly in a loop, (2) passing tensors with different shapes, (3) passing Python objects instead of tensors. For (1), please define your @tf.function outside of the loop. For (2), @tf.function has reduce_retracing=True option that can avoid unnecessary retracing. For (3), please refer to https://www.tensorflow.org/guide/function#controlling_retracing and https://www.tensorflow.org/api_docs/python/tf/function for  more details.\n"
          ]
        },
        {
          "output_type": "stream",
          "name": "stdout",
          "text": [
            "3/3 [==============================] - 1s 46ms/step\n",
            "Fold 5\n",
            "Model: \"sequential_5\"\n",
            "_________________________________________________________________\n",
            " Layer (type)                Output Shape              Param #   \n",
            "=================================================================\n",
            " text_vectorization_5 (TextV  (None, 2000)             0         \n",
            " ectorization)                                                   \n",
            "                                                                 \n",
            " embedding_5 (Embedding)     (None, 2000, 100)         5000000   \n",
            "                                                                 \n",
            " bidirectional_5 (Bidirectio  (None, 80)               45120     \n",
            " nal)                                                            \n",
            "                                                                 \n",
            " dropout_5 (Dropout)         (None, 80)                0         \n",
            "                                                                 \n",
            " dense_5 (Dense)             (None, 3)                 243       \n",
            "                                                                 \n",
            "=================================================================\n",
            "Total params: 5,045,363\n",
            "Trainable params: 5,045,363\n",
            "Non-trainable params: 0\n",
            "_________________________________________________________________\n",
            "None\n",
            "Epoch 1/10\n",
            "54/54 [==============================] - 18s 276ms/step - loss: 3.5880 - accuracy: 0.5417 - val_loss: 2.6180 - val_accuracy: 0.6526\n",
            "Epoch 2/10\n",
            "54/54 [==============================] - 14s 254ms/step - loss: 2.0644 - accuracy: 0.7873 - val_loss: 1.6319 - val_accuracy: 0.7684\n",
            "Epoch 3/10\n",
            "54/54 [==============================] - 13s 241ms/step - loss: 1.2789 - accuracy: 0.8731 - val_loss: 1.2408 - val_accuracy: 0.7895\n",
            "Epoch 4/10\n",
            "54/54 [==============================] - 13s 250ms/step - loss: 1.0151 - accuracy: 0.9307 - val_loss: 1.1429 - val_accuracy: 0.8316\n",
            "Epoch 5/10\n",
            "54/54 [==============================] - 14s 252ms/step - loss: 0.8617 - accuracy: 0.9401 - val_loss: 1.0378 - val_accuracy: 0.8421\n",
            "Epoch 6/10\n",
            "54/54 [==============================] - 11s 208ms/step - loss: 0.7706 - accuracy: 0.9365 - val_loss: 0.9961 - val_accuracy: 0.8316\n",
            "Epoch 7/10\n",
            "54/54 [==============================] - 13s 241ms/step - loss: 0.7333 - accuracy: 0.9424 - val_loss: 0.9350 - val_accuracy: 0.8526\n",
            "Epoch 8/10\n",
            "54/54 [==============================] - 12s 225ms/step - loss: 0.6460 - accuracy: 0.9412 - val_loss: 0.8785 - val_accuracy: 0.8211\n",
            "Epoch 9/10\n",
            "54/54 [==============================] - 12s 230ms/step - loss: 0.5786 - accuracy: 0.9506 - val_loss: 0.8470 - val_accuracy: 0.8105\n",
            "Epoch 10/10\n",
            "54/54 [==============================] - 11s 213ms/step - loss: 0.5467 - accuracy: 0.9565 - val_loss: 0.7865 - val_accuracy: 0.8737\n",
            "3/3 [==============================] - 0s 86ms/step - loss: 0.7865 - accuracy: 0.8737\n"
          ]
        },
        {
          "output_type": "stream",
          "name": "stderr",
          "text": [
            "WARNING:tensorflow:5 out of the last 13 calls to <function Model.make_predict_function.<locals>.predict_function at 0x7f56d01e0ee0> triggered tf.function retracing. Tracing is expensive and the excessive number of tracings could be due to (1) creating @tf.function repeatedly in a loop, (2) passing tensors with different shapes, (3) passing Python objects instead of tensors. For (1), please define your @tf.function outside of the loop. For (2), @tf.function has reduce_retracing=True option that can avoid unnecessary retracing. For (3), please refer to https://www.tensorflow.org/guide/function#controlling_retracing and https://www.tensorflow.org/api_docs/python/tf/function for  more details.\n"
          ]
        },
        {
          "output_type": "stream",
          "name": "stdout",
          "text": [
            "3/3 [==============================] - 2s 93ms/step\n",
            "Fold 6\n",
            "Model: \"sequential_6\"\n",
            "_________________________________________________________________\n",
            " Layer (type)                Output Shape              Param #   \n",
            "=================================================================\n",
            " text_vectorization_6 (TextV  (None, 2000)             0         \n",
            " ectorization)                                                   \n",
            "                                                                 \n",
            " embedding_6 (Embedding)     (None, 2000, 100)         5000000   \n",
            "                                                                 \n",
            " bidirectional_6 (Bidirectio  (None, 80)               45120     \n",
            " nal)                                                            \n",
            "                                                                 \n",
            " dropout_6 (Dropout)         (None, 80)                0         \n",
            "                                                                 \n",
            " dense_6 (Dense)             (None, 3)                 243       \n",
            "                                                                 \n",
            "=================================================================\n",
            "Total params: 5,045,363\n",
            "Trainable params: 5,045,363\n",
            "Non-trainable params: 0\n",
            "_________________________________________________________________\n",
            "None\n",
            "Epoch 1/10\n",
            "54/54 [==============================] - 18s 276ms/step - loss: 3.6124 - accuracy: 0.5775 - val_loss: 2.6427 - val_accuracy: 0.6489\n",
            "Epoch 2/10\n",
            "54/54 [==============================] - 13s 248ms/step - loss: 2.0082 - accuracy: 0.7136 - val_loss: 1.5251 - val_accuracy: 0.7447\n",
            "Epoch 3/10\n",
            "54/54 [==============================] - 13s 237ms/step - loss: 1.2297 - accuracy: 0.8850 - val_loss: 1.2333 - val_accuracy: 0.8191\n",
            "Epoch 4/10\n",
            "54/54 [==============================] - 13s 240ms/step - loss: 1.1778 - accuracy: 0.8838 - val_loss: 1.3880 - val_accuracy: 0.7766\n",
            "Epoch 5/10\n",
            "54/54 [==============================] - 12s 225ms/step - loss: 0.9326 - accuracy: 0.9531 - val_loss: 1.0503 - val_accuracy: 0.8298\n",
            "Epoch 6/10\n",
            "54/54 [==============================] - 12s 226ms/step - loss: 0.7834 - accuracy: 0.9660 - val_loss: 1.0176 - val_accuracy: 0.8191\n",
            "Epoch 7/10\n",
            "54/54 [==============================] - 12s 226ms/step - loss: 0.7037 - accuracy: 0.9707 - val_loss: 1.0094 - val_accuracy: 0.7979\n",
            "Epoch 8/10\n",
            "54/54 [==============================] - 12s 213ms/step - loss: 0.6449 - accuracy: 0.9718 - val_loss: 0.9663 - val_accuracy: 0.8298\n",
            "Epoch 9/10\n",
            "54/54 [==============================] - 13s 236ms/step - loss: 0.5918 - accuracy: 0.9730 - val_loss: 0.8960 - val_accuracy: 0.8298\n",
            "Epoch 10/10\n",
            "54/54 [==============================] - 11s 211ms/step - loss: 0.5443 - accuracy: 0.9718 - val_loss: 0.8611 - val_accuracy: 0.8404\n",
            "3/3 [==============================] - 0s 96ms/step - loss: 0.8611 - accuracy: 0.8404\n",
            "3/3 [==============================] - 1s 55ms/step\n",
            "Fold 7\n",
            "Model: \"sequential_7\"\n",
            "_________________________________________________________________\n",
            " Layer (type)                Output Shape              Param #   \n",
            "=================================================================\n",
            " text_vectorization_7 (TextV  (None, 2000)             0         \n",
            " ectorization)                                                   \n",
            "                                                                 \n",
            " embedding_7 (Embedding)     (None, 2000, 100)         5000000   \n",
            "                                                                 \n",
            " bidirectional_7 (Bidirectio  (None, 80)               45120     \n",
            " nal)                                                            \n",
            "                                                                 \n",
            " dropout_7 (Dropout)         (None, 80)                0         \n",
            "                                                                 \n",
            " dense_7 (Dense)             (None, 3)                 243       \n",
            "                                                                 \n",
            "=================================================================\n",
            "Total params: 5,045,363\n",
            "Trainable params: 5,045,363\n",
            "Non-trainable params: 0\n",
            "_________________________________________________________________\n",
            "None\n",
            "Epoch 1/10\n",
            "54/54 [==============================] - 18s 268ms/step - loss: 3.6013 - accuracy: 0.5340 - val_loss: 2.6743 - val_accuracy: 0.6170\n",
            "Epoch 2/10\n",
            "54/54 [==============================] - 13s 250ms/step - loss: 2.0948 - accuracy: 0.6937 - val_loss: 1.5889 - val_accuracy: 0.7872\n",
            "Epoch 3/10\n",
            "54/54 [==============================] - 13s 243ms/step - loss: 1.2771 - accuracy: 0.8838 - val_loss: 1.1883 - val_accuracy: 0.7660\n",
            "Epoch 4/10\n",
            "54/54 [==============================] - 12s 225ms/step - loss: 1.0232 - accuracy: 0.9167 - val_loss: 1.1322 - val_accuracy: 0.7872\n",
            "Epoch 5/10\n",
            "54/54 [==============================] - 13s 231ms/step - loss: 0.8553 - accuracy: 0.9589 - val_loss: 1.1362 - val_accuracy: 0.8085\n",
            "Epoch 6/10\n",
            "54/54 [==============================] - 12s 223ms/step - loss: 0.7395 - accuracy: 0.9671 - val_loss: 1.1440 - val_accuracy: 0.7872\n",
            "Epoch 7/10\n",
            "54/54 [==============================] - 12s 223ms/step - loss: 0.6508 - accuracy: 0.9754 - val_loss: 1.0773 - val_accuracy: 0.7447\n",
            "Epoch 8/10\n",
            "54/54 [==============================] - 11s 208ms/step - loss: 0.6098 - accuracy: 0.9777 - val_loss: 1.0199 - val_accuracy: 0.7447\n",
            "Epoch 9/10\n",
            "54/54 [==============================] - 11s 210ms/step - loss: 0.5349 - accuracy: 0.9765 - val_loss: 0.9669 - val_accuracy: 0.8191\n",
            "Epoch 10/10\n",
            "54/54 [==============================] - 12s 224ms/step - loss: 0.6471 - accuracy: 0.9401 - val_loss: 1.0593 - val_accuracy: 0.7979\n",
            "3/3 [==============================] - 0s 87ms/step - loss: 1.0593 - accuracy: 0.7979\n",
            "3/3 [==============================] - 1s 56ms/step\n",
            "Fold 8\n",
            "Model: \"sequential_8\"\n",
            "_________________________________________________________________\n",
            " Layer (type)                Output Shape              Param #   \n",
            "=================================================================\n",
            " text_vectorization_8 (TextV  (None, 2000)             0         \n",
            " ectorization)                                                   \n",
            "                                                                 \n",
            " embedding_8 (Embedding)     (None, 2000, 100)         5000000   \n",
            "                                                                 \n",
            " bidirectional_8 (Bidirectio  (None, 80)               45120     \n",
            " nal)                                                            \n",
            "                                                                 \n",
            " dropout_8 (Dropout)         (None, 80)                0         \n",
            "                                                                 \n",
            " dense_8 (Dense)             (None, 3)                 243       \n",
            "                                                                 \n",
            "=================================================================\n",
            "Total params: 5,045,363\n",
            "Trainable params: 5,045,363\n",
            "Non-trainable params: 0\n",
            "_________________________________________________________________\n",
            "None\n",
            "Epoch 1/10\n",
            "54/54 [==============================] - 18s 264ms/step - loss: 3.6265 - accuracy: 0.4930 - val_loss: 2.7522 - val_accuracy: 0.6064\n",
            "Epoch 2/10\n",
            "54/54 [==============================] - 13s 234ms/step - loss: 2.1134 - accuracy: 0.7148 - val_loss: 1.6272 - val_accuracy: 0.6915\n",
            "Epoch 3/10\n",
            "54/54 [==============================] - 13s 233ms/step - loss: 1.2737 - accuracy: 0.8615 - val_loss: 1.1765 - val_accuracy: 0.7872\n",
            "Epoch 4/10\n",
            "54/54 [==============================] - 13s 238ms/step - loss: 0.9632 - accuracy: 0.9225 - val_loss: 1.0366 - val_accuracy: 0.8511\n",
            "Epoch 5/10\n",
            "54/54 [==============================] - 13s 233ms/step - loss: 0.8175 - accuracy: 0.9319 - val_loss: 0.9899 - val_accuracy: 0.8298\n",
            "Epoch 6/10\n",
            "54/54 [==============================] - 13s 237ms/step - loss: 0.7325 - accuracy: 0.9425 - val_loss: 0.9995 - val_accuracy: 0.8191\n",
            "Epoch 7/10\n",
            "54/54 [==============================] - 11s 207ms/step - loss: 0.6456 - accuracy: 0.9448 - val_loss: 0.8326 - val_accuracy: 0.8404\n",
            "Epoch 8/10\n",
            "54/54 [==============================] - 13s 232ms/step - loss: 0.5992 - accuracy: 0.9437 - val_loss: 0.9217 - val_accuracy: 0.8617\n",
            "Epoch 9/10\n",
            "54/54 [==============================] - 11s 210ms/step - loss: 0.5699 - accuracy: 0.9401 - val_loss: 0.7739 - val_accuracy: 0.7660\n",
            "Epoch 10/10\n",
            "54/54 [==============================] - 11s 206ms/step - loss: 0.4976 - accuracy: 0.9460 - val_loss: 0.8017 - val_accuracy: 0.7872\n",
            "3/3 [==============================] - 0s 50ms/step - loss: 0.8017 - accuracy: 0.7872\n",
            "3/3 [==============================] - 1s 47ms/step\n",
            "Fold 9\n",
            "Model: \"sequential_9\"\n",
            "_________________________________________________________________\n",
            " Layer (type)                Output Shape              Param #   \n",
            "=================================================================\n",
            " text_vectorization_9 (TextV  (None, 2000)             0         \n",
            " ectorization)                                                   \n",
            "                                                                 \n",
            " embedding_9 (Embedding)     (None, 2000, 100)         5000000   \n",
            "                                                                 \n",
            " bidirectional_9 (Bidirectio  (None, 80)               45120     \n",
            " nal)                                                            \n",
            "                                                                 \n",
            " dropout_9 (Dropout)         (None, 80)                0         \n",
            "                                                                 \n",
            " dense_9 (Dense)             (None, 3)                 243       \n",
            "                                                                 \n",
            "=================================================================\n",
            "Total params: 5,045,363\n",
            "Trainable params: 5,045,363\n",
            "Non-trainable params: 0\n",
            "_________________________________________________________________\n",
            "None\n",
            "Epoch 1/10\n",
            "54/54 [==============================] - 19s 296ms/step - loss: 3.5950 - accuracy: 0.5493 - val_loss: 2.6215 - val_accuracy: 0.5957\n",
            "Epoch 2/10\n",
            "54/54 [==============================] - 13s 243ms/step - loss: 2.0219 - accuracy: 0.7465 - val_loss: 1.6550 - val_accuracy: 0.6809\n",
            "Epoch 3/10\n",
            "54/54 [==============================] - 13s 232ms/step - loss: 1.2910 - accuracy: 0.8732 - val_loss: 1.2603 - val_accuracy: 0.7660\n",
            "Epoch 4/10\n",
            "54/54 [==============================] - 13s 238ms/step - loss: 1.0896 - accuracy: 0.9178 - val_loss: 1.1246 - val_accuracy: 0.8085\n",
            "Epoch 5/10\n",
            "54/54 [==============================] - 13s 234ms/step - loss: 0.8408 - accuracy: 0.9566 - val_loss: 1.0508 - val_accuracy: 0.8191\n",
            "Epoch 6/10\n",
            "54/54 [==============================] - 12s 229ms/step - loss: 0.7727 - accuracy: 0.9636 - val_loss: 0.9665 - val_accuracy: 0.8191\n",
            "Epoch 7/10\n",
            "54/54 [==============================] - 12s 225ms/step - loss: 0.6771 - accuracy: 0.9707 - val_loss: 1.1359 - val_accuracy: 0.7447\n",
            "Epoch 8/10\n",
            "54/54 [==============================] - 10s 194ms/step - loss: 0.6800 - accuracy: 0.9660 - val_loss: 1.0170 - val_accuracy: 0.7766\n",
            "Epoch 9/10\n",
            "54/54 [==============================] - 11s 209ms/step - loss: 0.5860 - accuracy: 0.9707 - val_loss: 0.9345 - val_accuracy: 0.7340\n",
            "Epoch 10/10\n",
            "54/54 [==============================] - 10s 196ms/step - loss: 0.5221 - accuracy: 0.9742 - val_loss: 0.8840 - val_accuracy: 0.7979\n",
            "3/3 [==============================] - 0s 95ms/step - loss: 0.8840 - accuracy: 0.7979\n",
            "3/3 [==============================] - 1s 56ms/step\n"
          ]
        }
      ]
    },
    {
      "cell_type": "code",
      "source": [
        "cv_results"
      ],
      "metadata": {
        "id": "hmieZ72ec5em",
        "colab": {
          "base_uri": "https://localhost:8080/",
          "height": 363
        },
        "outputId": "d1b3d6f6-c762-48ad-d7e1-80b094a753d7"
      },
      "execution_count": null,
      "outputs": [
        {
          "output_type": "execute_result",
          "data": {
            "text/plain": [
              "     Recall Precision  F1 score  F2 score\n",
              "0  0.786664  0.787634  0.784323  0.785014\n",
              "1  0.792438  0.799452   0.79318  0.792073\n",
              "2  0.725589  0.738406  0.728039  0.725572\n",
              "3  0.742165  0.741111    0.7402  0.741027\n",
              "4  0.823686  0.840049   0.80936  0.812577\n",
              "5  0.843952  0.843155  0.843085  0.843489\n",
              "6  0.797009  0.809195  0.794834  0.793932\n",
              "7  0.782853  0.780075   0.77988  0.781302\n",
              "8  0.772436  0.786935  0.770847  0.769872\n",
              "9  0.806357  0.817037  0.801014  0.801397"
            ],
            "text/html": [
              "\n",
              "  <div id=\"df-13b4e011-8e72-46cf-aab5-94efc70cc441\">\n",
              "    <div class=\"colab-df-container\">\n",
              "      <div>\n",
              "<style scoped>\n",
              "    .dataframe tbody tr th:only-of-type {\n",
              "        vertical-align: middle;\n",
              "    }\n",
              "\n",
              "    .dataframe tbody tr th {\n",
              "        vertical-align: top;\n",
              "    }\n",
              "\n",
              "    .dataframe thead th {\n",
              "        text-align: right;\n",
              "    }\n",
              "</style>\n",
              "<table border=\"1\" class=\"dataframe\">\n",
              "  <thead>\n",
              "    <tr style=\"text-align: right;\">\n",
              "      <th></th>\n",
              "      <th>Recall</th>\n",
              "      <th>Precision</th>\n",
              "      <th>F1 score</th>\n",
              "      <th>F2 score</th>\n",
              "    </tr>\n",
              "  </thead>\n",
              "  <tbody>\n",
              "    <tr>\n",
              "      <th>0</th>\n",
              "      <td>0.786664</td>\n",
              "      <td>0.787634</td>\n",
              "      <td>0.784323</td>\n",
              "      <td>0.785014</td>\n",
              "    </tr>\n",
              "    <tr>\n",
              "      <th>1</th>\n",
              "      <td>0.792438</td>\n",
              "      <td>0.799452</td>\n",
              "      <td>0.79318</td>\n",
              "      <td>0.792073</td>\n",
              "    </tr>\n",
              "    <tr>\n",
              "      <th>2</th>\n",
              "      <td>0.725589</td>\n",
              "      <td>0.738406</td>\n",
              "      <td>0.728039</td>\n",
              "      <td>0.725572</td>\n",
              "    </tr>\n",
              "    <tr>\n",
              "      <th>3</th>\n",
              "      <td>0.742165</td>\n",
              "      <td>0.741111</td>\n",
              "      <td>0.7402</td>\n",
              "      <td>0.741027</td>\n",
              "    </tr>\n",
              "    <tr>\n",
              "      <th>4</th>\n",
              "      <td>0.823686</td>\n",
              "      <td>0.840049</td>\n",
              "      <td>0.80936</td>\n",
              "      <td>0.812577</td>\n",
              "    </tr>\n",
              "    <tr>\n",
              "      <th>5</th>\n",
              "      <td>0.843952</td>\n",
              "      <td>0.843155</td>\n",
              "      <td>0.843085</td>\n",
              "      <td>0.843489</td>\n",
              "    </tr>\n",
              "    <tr>\n",
              "      <th>6</th>\n",
              "      <td>0.797009</td>\n",
              "      <td>0.809195</td>\n",
              "      <td>0.794834</td>\n",
              "      <td>0.793932</td>\n",
              "    </tr>\n",
              "    <tr>\n",
              "      <th>7</th>\n",
              "      <td>0.782853</td>\n",
              "      <td>0.780075</td>\n",
              "      <td>0.77988</td>\n",
              "      <td>0.781302</td>\n",
              "    </tr>\n",
              "    <tr>\n",
              "      <th>8</th>\n",
              "      <td>0.772436</td>\n",
              "      <td>0.786935</td>\n",
              "      <td>0.770847</td>\n",
              "      <td>0.769872</td>\n",
              "    </tr>\n",
              "    <tr>\n",
              "      <th>9</th>\n",
              "      <td>0.806357</td>\n",
              "      <td>0.817037</td>\n",
              "      <td>0.801014</td>\n",
              "      <td>0.801397</td>\n",
              "    </tr>\n",
              "  </tbody>\n",
              "</table>\n",
              "</div>\n",
              "      <button class=\"colab-df-convert\" onclick=\"convertToInteractive('df-13b4e011-8e72-46cf-aab5-94efc70cc441')\"\n",
              "              title=\"Convert this dataframe to an interactive table.\"\n",
              "              style=\"display:none;\">\n",
              "        \n",
              "  <svg xmlns=\"http://www.w3.org/2000/svg\" height=\"24px\"viewBox=\"0 0 24 24\"\n",
              "       width=\"24px\">\n",
              "    <path d=\"M0 0h24v24H0V0z\" fill=\"none\"/>\n",
              "    <path d=\"M18.56 5.44l.94 2.06.94-2.06 2.06-.94-2.06-.94-.94-2.06-.94 2.06-2.06.94zm-11 1L8.5 8.5l.94-2.06 2.06-.94-2.06-.94L8.5 2.5l-.94 2.06-2.06.94zm10 10l.94 2.06.94-2.06 2.06-.94-2.06-.94-.94-2.06-.94 2.06-2.06.94z\"/><path d=\"M17.41 7.96l-1.37-1.37c-.4-.4-.92-.59-1.43-.59-.52 0-1.04.2-1.43.59L10.3 9.45l-7.72 7.72c-.78.78-.78 2.05 0 2.83L4 21.41c.39.39.9.59 1.41.59.51 0 1.02-.2 1.41-.59l7.78-7.78 2.81-2.81c.8-.78.8-2.07 0-2.86zM5.41 20L4 18.59l7.72-7.72 1.47 1.35L5.41 20z\"/>\n",
              "  </svg>\n",
              "      </button>\n",
              "      \n",
              "  <style>\n",
              "    .colab-df-container {\n",
              "      display:flex;\n",
              "      flex-wrap:wrap;\n",
              "      gap: 12px;\n",
              "    }\n",
              "\n",
              "    .colab-df-convert {\n",
              "      background-color: #E8F0FE;\n",
              "      border: none;\n",
              "      border-radius: 50%;\n",
              "      cursor: pointer;\n",
              "      display: none;\n",
              "      fill: #1967D2;\n",
              "      height: 32px;\n",
              "      padding: 0 0 0 0;\n",
              "      width: 32px;\n",
              "    }\n",
              "\n",
              "    .colab-df-convert:hover {\n",
              "      background-color: #E2EBFA;\n",
              "      box-shadow: 0px 1px 2px rgba(60, 64, 67, 0.3), 0px 1px 3px 1px rgba(60, 64, 67, 0.15);\n",
              "      fill: #174EA6;\n",
              "    }\n",
              "\n",
              "    [theme=dark] .colab-df-convert {\n",
              "      background-color: #3B4455;\n",
              "      fill: #D2E3FC;\n",
              "    }\n",
              "\n",
              "    [theme=dark] .colab-df-convert:hover {\n",
              "      background-color: #434B5C;\n",
              "      box-shadow: 0px 1px 3px 1px rgba(0, 0, 0, 0.15);\n",
              "      filter: drop-shadow(0px 1px 2px rgba(0, 0, 0, 0.3));\n",
              "      fill: #FFFFFF;\n",
              "    }\n",
              "  </style>\n",
              "\n",
              "      <script>\n",
              "        const buttonEl =\n",
              "          document.querySelector('#df-13b4e011-8e72-46cf-aab5-94efc70cc441 button.colab-df-convert');\n",
              "        buttonEl.style.display =\n",
              "          google.colab.kernel.accessAllowed ? 'block' : 'none';\n",
              "\n",
              "        async function convertToInteractive(key) {\n",
              "          const element = document.querySelector('#df-13b4e011-8e72-46cf-aab5-94efc70cc441');\n",
              "          const dataTable =\n",
              "            await google.colab.kernel.invokeFunction('convertToInteractive',\n",
              "                                                     [key], {});\n",
              "          if (!dataTable) return;\n",
              "\n",
              "          const docLinkHtml = 'Like what you see? Visit the ' +\n",
              "            '<a target=\"_blank\" href=https://colab.research.google.com/notebooks/data_table.ipynb>data table notebook</a>'\n",
              "            + ' to learn more about interactive tables.';\n",
              "          element.innerHTML = '';\n",
              "          dataTable['output_type'] = 'display_data';\n",
              "          await google.colab.output.renderOutput(dataTable, element);\n",
              "          const docLink = document.createElement('div');\n",
              "          docLink.innerHTML = docLinkHtml;\n",
              "          element.appendChild(docLink);\n",
              "        }\n",
              "      </script>\n",
              "    </div>\n",
              "  </div>\n",
              "  "
            ]
          },
          "metadata": {},
          "execution_count": 28
        }
      ]
    },
    {
      "cell_type": "code",
      "source": [
        "cv_results.mean()"
      ],
      "metadata": {
        "id": "3Ur7JMpzc5R_",
        "colab": {
          "base_uri": "https://localhost:8080/"
        },
        "outputId": "295c9731-beef-4595-fb29-a0305d7cd71a"
      },
      "execution_count": null,
      "outputs": [
        {
          "output_type": "execute_result",
          "data": {
            "text/plain": [
              "Recall       0.787315\n",
              "Precision    0.794305\n",
              "F1 score     0.784476\n",
              "F2 score     0.784625\n",
              "dtype: float64"
            ]
          },
          "metadata": {},
          "execution_count": 29
        }
      ]
    },
    {
      "cell_type": "code",
      "execution_count": null,
      "metadata": {
        "id": "vo9hZNUyInQy"
      },
      "outputs": [],
      "source": [
        "def train_blstm(train_texts, train_labels, test_texts, test_labels):\n",
        "\n",
        "  blstm_model = create_blstm_model(train_texts)\n",
        "  \n",
        "  history = blstm_model.fit(train_texts,\n",
        "                            train_labels,\n",
        "                            epochs=10,\n",
        "                            batch_size=16,\n",
        "                            validation_data=(test_texts, test_labels))\n",
        "  \n",
        "  blstm_model.evaluate(test_texts, test_labels)\n",
        "  y_pred = np.round(blstm_model.predict(test_texts))\n",
        "\n",
        "  y_pred = np.argmax(y_pred, axis=1)\n",
        "\n",
        "  f1_sc = f1_score(test_labels, y_pred, average='macro')\n",
        "  f2score = fbeta_score(test_labels, y_pred, beta=2, average='macro')\n",
        "\n",
        "  print(\"Recall = {}\".format(recall_score(test_labels, y_pred, average='macro')))\n",
        "  print(\"Precision = {}\".format(precision_score(test_labels, y_pred, average='macro')))\n",
        "  print(\"F1 score = {}\".format(f1_sc))\n",
        "  print(\"F2 score = {}\".format(f2score))\n",
        "  print(classification_report(test_labels, y_pred))\n",
        "  \n",
        "  cm = confusion_matrix(test_labels, y_pred)\n",
        "\n",
        "  disp = ConfusionMatrixDisplay(confusion_matrix=cm, display_labels=[0,1,2])\n",
        "\n",
        "  disp.plot(cmap=plt.cm.Blues)\n",
        "  plt.show()\n",
        "\n",
        "  return f1_sc"
      ]
    },
    {
      "cell_type": "code",
      "execution_count": null,
      "metadata": {
        "id": "8gSQ1XDaI4Ro"
      },
      "outputs": [],
      "source": [
        "X_test = test_data['text'].values.reshape(-1, 1)"
      ]
    },
    {
      "cell_type": "code",
      "execution_count": null,
      "metadata": {
        "id": "Vy9H9oqzI6Yn"
      },
      "outputs": [],
      "source": [
        "y_test = test_data['label'].values"
      ]
    },
    {
      "cell_type": "code",
      "execution_count": null,
      "metadata": {
        "id": "O3VDVahcI9zc"
      },
      "outputs": [],
      "source": [
        "aug_X_train = augmented_dataset['text'].values.reshape(-1, 1)"
      ]
    },
    {
      "cell_type": "code",
      "execution_count": null,
      "metadata": {
        "colab": {
          "base_uri": "https://localhost:8080/"
        },
        "id": "YuP6ynvXI-0k",
        "outputId": "ab2b4056-29fa-491c-ccfc-383226dea776"
      },
      "outputs": [
        {
          "output_type": "execute_result",
          "data": {
            "text/plain": [
              "(946, 1)"
            ]
          },
          "metadata": {},
          "execution_count": 34
        }
      ],
      "source": [
        "aug_X_train.shape"
      ]
    },
    {
      "cell_type": "code",
      "execution_count": null,
      "metadata": {
        "id": "bwkik-WNJDQI"
      },
      "outputs": [],
      "source": [
        "aug_y_train = augmented_dataset['label'].values.reshape(-1, 1)"
      ]
    },
    {
      "cell_type": "code",
      "execution_count": null,
      "metadata": {
        "colab": {
          "base_uri": "https://localhost:8080/"
        },
        "id": "GAB1rprcJE7c",
        "outputId": "7ea7f1ad-8068-477e-b51e-887dcc875308"
      },
      "outputs": [
        {
          "output_type": "execute_result",
          "data": {
            "text/plain": [
              "(946, 1)"
            ]
          },
          "metadata": {},
          "execution_count": 36
        }
      ],
      "source": [
        "aug_y_train.shape"
      ]
    },
    {
      "cell_type": "code",
      "source": [
        "train_blstm(aug_X_train, aug_y_train, X_test, y_test)"
      ],
      "metadata": {
        "colab": {
          "base_uri": "https://localhost:8080/",
          "height": 1000
        },
        "id": "Ylg0ialMEYiF",
        "outputId": "104b23c2-3a23-48bf-9a1e-a3e18f213203"
      },
      "execution_count": null,
      "outputs": [
        {
          "output_type": "stream",
          "name": "stdout",
          "text": [
            "Model: \"sequential\"\n",
            "_________________________________________________________________\n",
            " Layer (type)                Output Shape              Param #   \n",
            "=================================================================\n",
            " text_vectorization (TextVec  (None, 2000)             0         \n",
            " torization)                                                     \n",
            "                                                                 \n",
            " embedding (Embedding)       (None, 2000, 100)         5000000   \n",
            "                                                                 \n",
            " bidirectional (Bidirectiona  (None, 80)               45120     \n",
            " l)                                                              \n",
            "                                                                 \n",
            " dropout (Dropout)           (None, 80)                0         \n",
            "                                                                 \n",
            " dense (Dense)               (None, 3)                 243       \n",
            "                                                                 \n",
            "=================================================================\n",
            "Total params: 5,045,363\n",
            "Trainable params: 5,045,363\n",
            "Non-trainable params: 0\n",
            "_________________________________________________________________\n",
            "None\n",
            "Epoch 1/10\n",
            "60/60 [==============================] - 29s 325ms/step - loss: 3.4926 - accuracy: 0.5085 - val_loss: 2.4316 - val_accuracy: 0.6500\n",
            "Epoch 2/10\n",
            "60/60 [==============================] - 17s 288ms/step - loss: 1.8593 - accuracy: 0.7717 - val_loss: 1.3913 - val_accuracy: 0.7550\n",
            "Epoch 3/10\n",
            "60/60 [==============================] - 18s 296ms/step - loss: 1.1230 - accuracy: 0.9006 - val_loss: 1.1266 - val_accuracy: 0.7750\n",
            "Epoch 4/10\n",
            "60/60 [==============================] - 16s 271ms/step - loss: 0.8720 - accuracy: 0.9461 - val_loss: 1.1508 - val_accuracy: 0.7650\n",
            "Epoch 5/10\n",
            "60/60 [==============================] - 16s 270ms/step - loss: 0.7293 - accuracy: 0.9641 - val_loss: 1.0256 - val_accuracy: 0.7650\n",
            "Epoch 6/10\n",
            "60/60 [==============================] - 17s 277ms/step - loss: 0.6848 - accuracy: 0.9609 - val_loss: 0.9491 - val_accuracy: 0.7800\n",
            "Epoch 7/10\n",
            "60/60 [==============================] - 16s 261ms/step - loss: 0.6217 - accuracy: 0.9577 - val_loss: 1.0754 - val_accuracy: 0.7400\n",
            "Epoch 8/10\n",
            "60/60 [==============================] - 16s 270ms/step - loss: 0.5730 - accuracy: 0.9598 - val_loss: 0.8727 - val_accuracy: 0.7850\n",
            "Epoch 9/10\n",
            "60/60 [==============================] - 16s 270ms/step - loss: 0.4868 - accuracy: 0.9725 - val_loss: 0.9514 - val_accuracy: 0.7450\n",
            "Epoch 10/10\n",
            "60/60 [==============================] - 16s 268ms/step - loss: 0.4475 - accuracy: 0.9672 - val_loss: 0.7800 - val_accuracy: 0.7850\n",
            "7/7 [==============================] - 1s 66ms/step - loss: 0.7800 - accuracy: 0.7850\n",
            "7/7 [==============================] - 1s 44ms/step\n",
            "Recall = 0.7399749373433583\n",
            "Precision = 0.7402896642527979\n",
            "F1 score = 0.7395361665018042\n",
            "F2 score = 0.7396520278612294\n",
            "              precision    recall  f1-score   support\n",
            "\n",
            "           0       0.59      0.56      0.57        52\n",
            "           1       1.00      0.98      0.99        91\n",
            "           2       0.63      0.68      0.66        57\n",
            "\n",
            "    accuracy                           0.79       200\n",
            "   macro avg       0.74      0.74      0.74       200\n",
            "weighted avg       0.79      0.79      0.79       200\n",
            "\n"
          ]
        },
        {
          "output_type": "display_data",
          "data": {
            "text/plain": [
              "<Figure size 640x480 with 2 Axes>"
            ],
            "image/png": "[encoded data removed]"
          },
          "metadata": {}
        },
        {
          "output_type": "execute_result",
          "data": {
            "text/plain": [
              "0.7395361665018042"
            ]
          },
          "metadata": {},
          "execution_count": 37
        }
      ]
    }
  ],
  "metadata": {
    "accelerator": "GPU",
    "colab": {
      "machine_shape": "hm",
      "provenance": []
    },
    "gpuClass": "standard",
    "kernelspec": {
      "display_name": "Python 3",
      "name": "python3"
    },
    "language_info": {
      "name": "python"
    }
  },
  "nbformat": 4,
  "nbformat_minor": 0
}