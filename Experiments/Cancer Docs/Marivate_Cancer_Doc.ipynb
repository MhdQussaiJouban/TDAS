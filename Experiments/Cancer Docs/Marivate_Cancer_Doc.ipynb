{
  "cells": [
    {
      "cell_type": "code",
      "execution_count": null,
      "metadata": {
        "id": "_Q1SwXg76Uf3",
        "colab": {
          "base_uri": "https://localhost:8080/"
        },
        "outputId": "874dc81f-e742-4110-d03c-af9fa2029a8b"
      },
      "outputs": [
        {
          "output_type": "stream",
          "name": "stderr",
          "text": [
            "[nltk_data] Downloading package stopwords to /root/nltk_data...\n",
            "[nltk_data]   Unzipping corpora/stopwords.zip.\n",
            "[nltk_data] Downloading package punkt to /root/nltk_data...\n",
            "[nltk_data]   Unzipping tokenizers/punkt.zip.\n",
            "[nltk_data] Downloading package averaged_perceptron_tagger to\n",
            "[nltk_data]     /root/nltk_data...\n",
            "[nltk_data]   Unzipping taggers/averaged_perceptron_tagger.zip.\n"
          ]
        },
        {
          "output_type": "stream",
          "name": "stdout",
          "text": [
            "Mounted at /content/gdrive\n"
          ]
        }
      ],
      "source": [
        "from datetime import datetime\n",
        "import random \n",
        "import numpy as np\n",
        "import pandas as pd\n",
        "from sklearn.preprocessing import LabelEncoder\n",
        "from sklearn.model_selection import train_test_split\n",
        "from sklearn.ensemble import RandomForestClassifier, ExtraTreesClassifier\n",
        "from sklearn.linear_model import SGDClassifier, LogisticRegression\n",
        "from sklearn.naive_bayes import GaussianNB\n",
        "from sklearn.neural_network import MLPClassifier\n",
        "from sklearn.svm import SVC\n",
        "from sklearn.neighbors import KNeighborsClassifier\n",
        "from sklearn.model_selection import GridSearchCV\n",
        "from sklearn.ensemble import StackingClassifier\n",
        "from sklearn.metrics import confusion_matrix\n",
        "from sklearn.metrics import ConfusionMatrixDisplay\n",
        "from sklearn.metrics import accuracy_score, recall_score, precision_score, f1_score, fbeta_score, classification_report\n",
        "from sklearn.metrics import make_scorer \n",
        "import matplotlib.pyplot as plt\n",
        "import gensim.downloader as api\n",
        "\n",
        "import nltk\n",
        "from nltk.tokenize import word_tokenize\n",
        "from nltk import pos_tag\n",
        "nltk.download('stopwords')\n",
        "nltk.download('punkt')\n",
        "nltk.download('averaged_perceptron_tagger')\n",
        "\n",
        "from google.colab import drive\n",
        "drive.mount('/content/gdrive')\n",
        "dir_name = \"/content/gdrive/MyDrive/Thesis/\""
      ]
    },
    {
      "cell_type": "code",
      "execution_count": null,
      "metadata": {
        "id": "hsZEizu93N6d",
        "colab": {
          "base_uri": "https://localhost:8080/",
          "height": 424
        },
        "outputId": "0711caa2-9edd-4d39-84f9-365a2e7ade07"
      },
      "outputs": [
        {
          "output_type": "execute_result",
          "data": {
            "text/plain": [
              "      label                                               text\n",
              "0         2  Thyroid surgery in  children in a single insti...\n",
              "1         2  \" The adopted strategy was the same as that us...\n",
              "2         2  coronary arterybypass grafting thrombosis ï¬b...\n",
              "3         2   Solitary plasmacytoma SP of the skull is an u...\n",
              "4         2   This study aimed to investigate serum matrix ...\n",
              "...     ...                                                ...\n",
              "7565      0  we report the case of a 24yearold man who pres...\n",
              "7566      0  among synchronous colorectal cancers scrcs rep...\n",
              "7567      0  the heterogeneity of cancer cells is generally...\n",
              "7568      0  \"adipogenesis is the process through which mes...\n",
              "7569      0  the periparturient period is one of the most c...\n",
              "\n",
              "[7570 rows x 2 columns]"
            ],
            "text/html": [
              "\n",
              "  <div id=\"df-30888f8b-806c-4818-9d4d-21ffb46f1022\">\n",
              "    <div class=\"colab-df-container\">\n",
              "      <div>\n",
              "<style scoped>\n",
              "    .dataframe tbody tr th:only-of-type {\n",
              "        vertical-align: middle;\n",
              "    }\n",
              "\n",
              "    .dataframe tbody tr th {\n",
              "        vertical-align: top;\n",
              "    }\n",
              "\n",
              "    .dataframe thead th {\n",
              "        text-align: right;\n",
              "    }\n",
              "</style>\n",
              "<table border=\"1\" class=\"dataframe\">\n",
              "  <thead>\n",
              "    <tr style=\"text-align: right;\">\n",
              "      <th></th>\n",
              "      <th>label</th>\n",
              "      <th>text</th>\n",
              "    </tr>\n",
              "  </thead>\n",
              "  <tbody>\n",
              "    <tr>\n",
              "      <th>0</th>\n",
              "      <td>2</td>\n",
              "      <td>Thyroid surgery in  children in a single insti...</td>\n",
              "    </tr>\n",
              "    <tr>\n",
              "      <th>1</th>\n",
              "      <td>2</td>\n",
              "      <td>\" The adopted strategy was the same as that us...</td>\n",
              "    </tr>\n",
              "    <tr>\n",
              "      <th>2</th>\n",
              "      <td>2</td>\n",
              "      <td>coronary arterybypass grafting thrombosis ï¬b...</td>\n",
              "    </tr>\n",
              "    <tr>\n",
              "      <th>3</th>\n",
              "      <td>2</td>\n",
              "      <td>Solitary plasmacytoma SP of the skull is an u...</td>\n",
              "    </tr>\n",
              "    <tr>\n",
              "      <th>4</th>\n",
              "      <td>2</td>\n",
              "      <td>This study aimed to investigate serum matrix ...</td>\n",
              "    </tr>\n",
              "    <tr>\n",
              "      <th>...</th>\n",
              "      <td>...</td>\n",
              "      <td>...</td>\n",
              "    </tr>\n",
              "    <tr>\n",
              "      <th>7565</th>\n",
              "      <td>0</td>\n",
              "      <td>we report the case of a 24yearold man who pres...</td>\n",
              "    </tr>\n",
              "    <tr>\n",
              "      <th>7566</th>\n",
              "      <td>0</td>\n",
              "      <td>among synchronous colorectal cancers scrcs rep...</td>\n",
              "    </tr>\n",
              "    <tr>\n",
              "      <th>7567</th>\n",
              "      <td>0</td>\n",
              "      <td>the heterogeneity of cancer cells is generally...</td>\n",
              "    </tr>\n",
              "    <tr>\n",
              "      <th>7568</th>\n",
              "      <td>0</td>\n",
              "      <td>\"adipogenesis is the process through which mes...</td>\n",
              "    </tr>\n",
              "    <tr>\n",
              "      <th>7569</th>\n",
              "      <td>0</td>\n",
              "      <td>the periparturient period is one of the most c...</td>\n",
              "    </tr>\n",
              "  </tbody>\n",
              "</table>\n",
              "<p>7570 rows × 2 columns</p>\n",
              "</div>\n",
              "      <button class=\"colab-df-convert\" onclick=\"convertToInteractive('df-30888f8b-806c-4818-9d4d-21ffb46f1022')\"\n",
              "              title=\"Convert this dataframe to an interactive table.\"\n",
              "              style=\"display:none;\">\n",
              "        \n",
              "  <svg xmlns=\"http://www.w3.org/2000/svg\" height=\"24px\"viewBox=\"0 0 24 24\"\n",
              "       width=\"24px\">\n",
              "    <path d=\"M0 0h24v24H0V0z\" fill=\"none\"/>\n",
              "    <path d=\"M18.56 5.44l.94 2.06.94-2.06 2.06-.94-2.06-.94-.94-2.06-.94 2.06-2.06.94zm-11 1L8.5 8.5l.94-2.06 2.06-.94-2.06-.94L8.5 2.5l-.94 2.06-2.06.94zm10 10l.94 2.06.94-2.06 2.06-.94-2.06-.94-.94-2.06-.94 2.06-2.06.94z\"/><path d=\"M17.41 7.96l-1.37-1.37c-.4-.4-.92-.59-1.43-.59-.52 0-1.04.2-1.43.59L10.3 9.45l-7.72 7.72c-.78.78-.78 2.05 0 2.83L4 21.41c.39.39.9.59 1.41.59.51 0 1.02-.2 1.41-.59l7.78-7.78 2.81-2.81c.8-.78.8-2.07 0-2.86zM5.41 20L4 18.59l7.72-7.72 1.47 1.35L5.41 20z\"/>\n",
              "  </svg>\n",
              "      </button>\n",
              "      \n",
              "  <style>\n",
              "    .colab-df-container {\n",
              "      display:flex;\n",
              "      flex-wrap:wrap;\n",
              "      gap: 12px;\n",
              "    }\n",
              "\n",
              "    .colab-df-convert {\n",
              "      background-color: #E8F0FE;\n",
              "      border: none;\n",
              "      border-radius: 50%;\n",
              "      cursor: pointer;\n",
              "      display: none;\n",
              "      fill: #1967D2;\n",
              "      height: 32px;\n",
              "      padding: 0 0 0 0;\n",
              "      width: 32px;\n",
              "    }\n",
              "\n",
              "    .colab-df-convert:hover {\n",
              "      background-color: #E2EBFA;\n",
              "      box-shadow: 0px 1px 2px rgba(60, 64, 67, 0.3), 0px 1px 3px 1px rgba(60, 64, 67, 0.15);\n",
              "      fill: #174EA6;\n",
              "    }\n",
              "\n",
              "    [theme=dark] .colab-df-convert {\n",
              "      background-color: #3B4455;\n",
              "      fill: #D2E3FC;\n",
              "    }\n",
              "\n",
              "    [theme=dark] .colab-df-convert:hover {\n",
              "      background-color: #434B5C;\n",
              "      box-shadow: 0px 1px 3px 1px rgba(0, 0, 0, 0.15);\n",
              "      filter: drop-shadow(0px 1px 2px rgba(0, 0, 0, 0.3));\n",
              "      fill: #FFFFFF;\n",
              "    }\n",
              "  </style>\n",
              "\n",
              "      <script>\n",
              "        const buttonEl =\n",
              "          document.querySelector('#df-30888f8b-806c-4818-9d4d-21ffb46f1022 button.colab-df-convert');\n",
              "        buttonEl.style.display =\n",
              "          google.colab.kernel.accessAllowed ? 'block' : 'none';\n",
              "\n",
              "        async function convertToInteractive(key) {\n",
              "          const element = document.querySelector('#df-30888f8b-806c-4818-9d4d-21ffb46f1022');\n",
              "          const dataTable =\n",
              "            await google.colab.kernel.invokeFunction('convertToInteractive',\n",
              "                                                     [key], {});\n",
              "          if (!dataTable) return;\n",
              "\n",
              "          const docLinkHtml = 'Like what you see? Visit the ' +\n",
              "            '<a target=\"_blank\" href=https://colab.research.google.com/notebooks/data_table.ipynb>data table notebook</a>'\n",
              "            + ' to learn more about interactive tables.';\n",
              "          element.innerHTML = '';\n",
              "          dataTable['output_type'] = 'display_data';\n",
              "          await google.colab.output.renderOutput(dataTable, element);\n",
              "          const docLink = document.createElement('div');\n",
              "          docLink.innerHTML = docLinkHtml;\n",
              "          element.appendChild(docLink);\n",
              "        }\n",
              "      </script>\n",
              "    </div>\n",
              "  </div>\n",
              "  "
            ]
          },
          "metadata": {},
          "execution_count": 2
        }
      ],
      "source": [
        "def get_raw_data(dir_name):\n",
        "    #  load data\n",
        "    data = pd.read_csv('{}cancer_doc_classification.csv'.format(dir_name), encoding = 'latin-1', usecols=['a', '0'])\n",
        "    data = data.rename(columns={'0': 'label', 'a': 'text'})\n",
        "    le = LabelEncoder()\n",
        "    data['label'] = le.fit_transform( data['label'])\n",
        "    return data\n",
        "\n",
        "raw_data = get_raw_data(dir_name + 'datasets/')\n",
        "raw_data"
      ]
    },
    {
      "cell_type": "code",
      "execution_count": null,
      "metadata": {
        "colab": {
          "base_uri": "https://localhost:8080/"
        },
        "id": "jvrPiHms7t3O",
        "outputId": "70b09de9-41d6-413a-ab76-8665cc10642a"
      },
      "outputs": [
        {
          "output_type": "execute_result",
          "data": {
            "text/plain": [
              "False"
            ]
          },
          "metadata": {},
          "execution_count": 3
        }
      ],
      "source": [
        "raw_data['text'].is_unique"
      ]
    },
    {
      "cell_type": "code",
      "execution_count": null,
      "metadata": {
        "id": "QGX76s7s7vC1",
        "colab": {
          "base_uri": "https://localhost:8080/"
        },
        "outputId": "7877bd92-38ae-4479-9c0f-5dd9d1b9e4a9"
      },
      "outputs": [
        {
          "output_type": "execute_result",
          "data": {
            "text/plain": [
              "True"
            ]
          },
          "metadata": {},
          "execution_count": 4
        }
      ],
      "source": [
        "raw_data.drop_duplicates( inplace=True)\n",
        "\n",
        "raw_data['text'].is_unique"
      ]
    },
    {
      "cell_type": "code",
      "execution_count": null,
      "metadata": {
        "colab": {
          "base_uri": "https://localhost:8080/",
          "height": 424
        },
        "id": "kAvJMWIH8BfT",
        "outputId": "e5b3750c-6e40-459f-d7ba-78273167ad41"
      },
      "outputs": [
        {
          "output_type": "execute_result",
          "data": {
            "text/plain": [
              "      label                                               text\n",
              "0         2  Thyroid surgery in  children in a single insti...\n",
              "1         2  \" The adopted strategy was the same as that us...\n",
              "2         2  coronary arterybypass grafting thrombosis ï¬b...\n",
              "3         2   Solitary plasmacytoma SP of the skull is an u...\n",
              "4         2   This study aimed to investigate serum matrix ...\n",
              "...     ...                                                ...\n",
              "6863      1  \"Missense mutation distribution in the exons a...\n",
              "6929      1  \"versus gemcitabine/carboplatin in advanced no...\n",
              "7040      2   Keloids are pathological scars that grow over...\n",
              "7485      0  the anization of cells into multiple membranou...\n",
              "7497      0  several immunotherapeutic strategies that harn...\n",
              "\n",
              "[996 rows x 2 columns]"
            ],
            "text/html": [
              "\n",
              "  <div id=\"df-86c29347-8e25-446c-8ee7-1d84eddf9c8b\">\n",
              "    <div class=\"colab-df-container\">\n",
              "      <div>\n",
              "<style scoped>\n",
              "    .dataframe tbody tr th:only-of-type {\n",
              "        vertical-align: middle;\n",
              "    }\n",
              "\n",
              "    .dataframe tbody tr th {\n",
              "        vertical-align: top;\n",
              "    }\n",
              "\n",
              "    .dataframe thead th {\n",
              "        text-align: right;\n",
              "    }\n",
              "</style>\n",
              "<table border=\"1\" class=\"dataframe\">\n",
              "  <thead>\n",
              "    <tr style=\"text-align: right;\">\n",
              "      <th></th>\n",
              "      <th>label</th>\n",
              "      <th>text</th>\n",
              "    </tr>\n",
              "  </thead>\n",
              "  <tbody>\n",
              "    <tr>\n",
              "      <th>0</th>\n",
              "      <td>2</td>\n",
              "      <td>Thyroid surgery in  children in a single insti...</td>\n",
              "    </tr>\n",
              "    <tr>\n",
              "      <th>1</th>\n",
              "      <td>2</td>\n",
              "      <td>\" The adopted strategy was the same as that us...</td>\n",
              "    </tr>\n",
              "    <tr>\n",
              "      <th>2</th>\n",
              "      <td>2</td>\n",
              "      <td>coronary arterybypass grafting thrombosis ï¬b...</td>\n",
              "    </tr>\n",
              "    <tr>\n",
              "      <th>3</th>\n",
              "      <td>2</td>\n",
              "      <td>Solitary plasmacytoma SP of the skull is an u...</td>\n",
              "    </tr>\n",
              "    <tr>\n",
              "      <th>4</th>\n",
              "      <td>2</td>\n",
              "      <td>This study aimed to investigate serum matrix ...</td>\n",
              "    </tr>\n",
              "    <tr>\n",
              "      <th>...</th>\n",
              "      <td>...</td>\n",
              "      <td>...</td>\n",
              "    </tr>\n",
              "    <tr>\n",
              "      <th>6863</th>\n",
              "      <td>1</td>\n",
              "      <td>\"Missense mutation distribution in the exons a...</td>\n",
              "    </tr>\n",
              "    <tr>\n",
              "      <th>6929</th>\n",
              "      <td>1</td>\n",
              "      <td>\"versus gemcitabine/carboplatin in advanced no...</td>\n",
              "    </tr>\n",
              "    <tr>\n",
              "      <th>7040</th>\n",
              "      <td>2</td>\n",
              "      <td>Keloids are pathological scars that grow over...</td>\n",
              "    </tr>\n",
              "    <tr>\n",
              "      <th>7485</th>\n",
              "      <td>0</td>\n",
              "      <td>the anization of cells into multiple membranou...</td>\n",
              "    </tr>\n",
              "    <tr>\n",
              "      <th>7497</th>\n",
              "      <td>0</td>\n",
              "      <td>several immunotherapeutic strategies that harn...</td>\n",
              "    </tr>\n",
              "  </tbody>\n",
              "</table>\n",
              "<p>996 rows × 2 columns</p>\n",
              "</div>\n",
              "      <button class=\"colab-df-convert\" onclick=\"convertToInteractive('df-86c29347-8e25-446c-8ee7-1d84eddf9c8b')\"\n",
              "              title=\"Convert this dataframe to an interactive table.\"\n",
              "              style=\"display:none;\">\n",
              "        \n",
              "  <svg xmlns=\"http://www.w3.org/2000/svg\" height=\"24px\"viewBox=\"0 0 24 24\"\n",
              "       width=\"24px\">\n",
              "    <path d=\"M0 0h24v24H0V0z\" fill=\"none\"/>\n",
              "    <path d=\"M18.56 5.44l.94 2.06.94-2.06 2.06-.94-2.06-.94-.94-2.06-.94 2.06-2.06.94zm-11 1L8.5 8.5l.94-2.06 2.06-.94-2.06-.94L8.5 2.5l-.94 2.06-2.06.94zm10 10l.94 2.06.94-2.06 2.06-.94-2.06-.94-.94-2.06-.94 2.06-2.06.94z\"/><path d=\"M17.41 7.96l-1.37-1.37c-.4-.4-.92-.59-1.43-.59-.52 0-1.04.2-1.43.59L10.3 9.45l-7.72 7.72c-.78.78-.78 2.05 0 2.83L4 21.41c.39.39.9.59 1.41.59.51 0 1.02-.2 1.41-.59l7.78-7.78 2.81-2.81c.8-.78.8-2.07 0-2.86zM5.41 20L4 18.59l7.72-7.72 1.47 1.35L5.41 20z\"/>\n",
              "  </svg>\n",
              "      </button>\n",
              "      \n",
              "  <style>\n",
              "    .colab-df-container {\n",
              "      display:flex;\n",
              "      flex-wrap:wrap;\n",
              "      gap: 12px;\n",
              "    }\n",
              "\n",
              "    .colab-df-convert {\n",
              "      background-color: #E8F0FE;\n",
              "      border: none;\n",
              "      border-radius: 50%;\n",
              "      cursor: pointer;\n",
              "      display: none;\n",
              "      fill: #1967D2;\n",
              "      height: 32px;\n",
              "      padding: 0 0 0 0;\n",
              "      width: 32px;\n",
              "    }\n",
              "\n",
              "    .colab-df-convert:hover {\n",
              "      background-color: #E2EBFA;\n",
              "      box-shadow: 0px 1px 2px rgba(60, 64, 67, 0.3), 0px 1px 3px 1px rgba(60, 64, 67, 0.15);\n",
              "      fill: #174EA6;\n",
              "    }\n",
              "\n",
              "    [theme=dark] .colab-df-convert {\n",
              "      background-color: #3B4455;\n",
              "      fill: #D2E3FC;\n",
              "    }\n",
              "\n",
              "    [theme=dark] .colab-df-convert:hover {\n",
              "      background-color: #434B5C;\n",
              "      box-shadow: 0px 1px 3px 1px rgba(0, 0, 0, 0.15);\n",
              "      filter: drop-shadow(0px 1px 2px rgba(0, 0, 0, 0.3));\n",
              "      fill: #FFFFFF;\n",
              "    }\n",
              "  </style>\n",
              "\n",
              "      <script>\n",
              "        const buttonEl =\n",
              "          document.querySelector('#df-86c29347-8e25-446c-8ee7-1d84eddf9c8b button.colab-df-convert');\n",
              "        buttonEl.style.display =\n",
              "          google.colab.kernel.accessAllowed ? 'block' : 'none';\n",
              "\n",
              "        async function convertToInteractive(key) {\n",
              "          const element = document.querySelector('#df-86c29347-8e25-446c-8ee7-1d84eddf9c8b');\n",
              "          const dataTable =\n",
              "            await google.colab.kernel.invokeFunction('convertToInteractive',\n",
              "                                                     [key], {});\n",
              "          if (!dataTable) return;\n",
              "\n",
              "          const docLinkHtml = 'Like what you see? Visit the ' +\n",
              "            '<a target=\"_blank\" href=https://colab.research.google.com/notebooks/data_table.ipynb>data table notebook</a>'\n",
              "            + ' to learn more about interactive tables.';\n",
              "          element.innerHTML = '';\n",
              "          dataTable['output_type'] = 'display_data';\n",
              "          await google.colab.output.renderOutput(dataTable, element);\n",
              "          const docLink = document.createElement('div');\n",
              "          docLink.innerHTML = docLinkHtml;\n",
              "          element.appendChild(docLink);\n",
              "        }\n",
              "      </script>\n",
              "    </div>\n",
              "  </div>\n",
              "  "
            ]
          },
          "metadata": {},
          "execution_count": 5
        }
      ],
      "source": [
        "raw_data"
      ]
    },
    {
      "cell_type": "code",
      "execution_count": null,
      "metadata": {
        "id": "puuFMH0H8Li_",
        "colab": {
          "base_uri": "https://localhost:8080/",
          "height": 499
        },
        "outputId": "9c8fead1-8c85-404c-aa27-4baff49af326"
      },
      "outputs": [
        {
          "output_type": "display_data",
          "data": {
            "text/plain": [
              "<Figure size 600x600 with 1 Axes>"
            ],
            "image/png": "[encoded data removed]"
          },
          "metadata": {}
        }
      ],
      "source": [
        "def get_dataset_statistics(data):\n",
        "    dataset_statistics = {'Number of messages': [data['label'].value_counts()[0], data['label'].value_counts()[1], data['label'].value_counts()[2]]}\n",
        "    df = pd.DataFrame(dataset_statistics, index=['0', '1', '2'])\n",
        "    df.plot(kind='pie', y='Number of messages', figsize=(6, 6), fontsize=14,\n",
        "            autopct=lambda v: '{:.0f} ({:.1f}%)'.format(v / 100 * data['label'].count(), v))\n",
        "    \n",
        "get_dataset_statistics(raw_data)    "
      ]
    },
    {
      "cell_type": "code",
      "execution_count": null,
      "metadata": {
        "id": "9a7oMalo8eW7"
      },
      "outputs": [],
      "source": [
        "X_train, X_test, y_train, y_test = train_test_split(raw_data['text'].to_numpy(), raw_data['label'].to_numpy(), stratify=raw_data['label'].to_numpy(), test_size=0.2, random_state=24)"
      ]
    },
    {
      "cell_type": "code",
      "execution_count": null,
      "metadata": {
        "colab": {
          "base_uri": "https://localhost:8080/",
          "height": 499
        },
        "id": "4Qah2hem-rzC",
        "outputId": "1d727b7b-f72e-4c5b-9c18-920fa52092f0"
      },
      "outputs": [
        {
          "output_type": "display_data",
          "data": {
            "text/plain": [
              "<Figure size 600x600 with 1 Axes>"
            ],
            "image/png": "[encoded data removed]"
          },
          "metadata": {}
        }
      ],
      "source": [
        "get_dataset_statistics(pd.DataFrame({'label': y_train}))"
      ]
    },
    {
      "cell_type": "code",
      "execution_count": null,
      "metadata": {
        "colab": {
          "base_uri": "https://localhost:8080/",
          "height": 499
        },
        "id": "tBCiPYyy-0YC",
        "outputId": "b9331b9d-b9b9-403a-9af3-893b07cafa74"
      },
      "outputs": [
        {
          "output_type": "display_data",
          "data": {
            "text/plain": [
              "<Figure size 600x600 with 1 Axes>"
            ],
            "image/png": "[encoded data removed]"
          },
          "metadata": {}
        }
      ],
      "source": [
        "get_dataset_statistics(pd.DataFrame({'label': y_test}))"
      ]
    },
    {
      "cell_type": "code",
      "execution_count": null,
      "metadata": {
        "id": "cVetnUhn-6K9",
        "colab": {
          "base_uri": "https://localhost:8080/",
          "height": 424
        },
        "outputId": "9183f136-5169-440b-c111-8e71fa04af19"
      },
      "outputs": [
        {
          "output_type": "execute_result",
          "data": {
            "text/plain": [
              "                                                  text  label\n",
              "0    in  a novel coronavirus sarscov2 was found to ...      0\n",
              "1    \"  the incidence of thyroid carcinoma is incre...      0\n",
              "2    Sequential Use of aYeastCEA Therapeutic Cancer...      2\n",
              "3    Paired box protein8 PAX8 immunohistochemical e...      2\n",
              "4     Is preoperative heart rate variability aprogn...      2\n",
              "..                                                 ...    ...\n",
              "791  \"widely usedcancerspecific questionnaire asses...      2\n",
              "792  \"Thus mathematical models that can estimate lo...      1\n",
              "793  \"Trophoblast cell surface antigen  TROP2 is ov...      2\n",
              "794  overexpression of epithelial cell adhesion mol...      0\n",
              "795  \"Statistical analysis We used Chi-square test ...      1\n",
              "\n",
              "[796 rows x 2 columns]"
            ],
            "text/html": [
              "\n",
              "  <div id=\"df-d9e9882e-e2ba-4b75-b103-2c440fabe3c5\">\n",
              "    <div class=\"colab-df-container\">\n",
              "      <div>\n",
              "<style scoped>\n",
              "    .dataframe tbody tr th:only-of-type {\n",
              "        vertical-align: middle;\n",
              "    }\n",
              "\n",
              "    .dataframe tbody tr th {\n",
              "        vertical-align: top;\n",
              "    }\n",
              "\n",
              "    .dataframe thead th {\n",
              "        text-align: right;\n",
              "    }\n",
              "</style>\n",
              "<table border=\"1\" class=\"dataframe\">\n",
              "  <thead>\n",
              "    <tr style=\"text-align: right;\">\n",
              "      <th></th>\n",
              "      <th>text</th>\n",
              "      <th>label</th>\n",
              "    </tr>\n",
              "  </thead>\n",
              "  <tbody>\n",
              "    <tr>\n",
              "      <th>0</th>\n",
              "      <td>in  a novel coronavirus sarscov2 was found to ...</td>\n",
              "      <td>0</td>\n",
              "    </tr>\n",
              "    <tr>\n",
              "      <th>1</th>\n",
              "      <td>\"  the incidence of thyroid carcinoma is incre...</td>\n",
              "      <td>0</td>\n",
              "    </tr>\n",
              "    <tr>\n",
              "      <th>2</th>\n",
              "      <td>Sequential Use of aYeastCEA Therapeutic Cancer...</td>\n",
              "      <td>2</td>\n",
              "    </tr>\n",
              "    <tr>\n",
              "      <th>3</th>\n",
              "      <td>Paired box protein8 PAX8 immunohistochemical e...</td>\n",
              "      <td>2</td>\n",
              "    </tr>\n",
              "    <tr>\n",
              "      <th>4</th>\n",
              "      <td>Is preoperative heart rate variability aprogn...</td>\n",
              "      <td>2</td>\n",
              "    </tr>\n",
              "    <tr>\n",
              "      <th>...</th>\n",
              "      <td>...</td>\n",
              "      <td>...</td>\n",
              "    </tr>\n",
              "    <tr>\n",
              "      <th>791</th>\n",
              "      <td>\"widely usedcancerspecific questionnaire asses...</td>\n",
              "      <td>2</td>\n",
              "    </tr>\n",
              "    <tr>\n",
              "      <th>792</th>\n",
              "      <td>\"Thus mathematical models that can estimate lo...</td>\n",
              "      <td>1</td>\n",
              "    </tr>\n",
              "    <tr>\n",
              "      <th>793</th>\n",
              "      <td>\"Trophoblast cell surface antigen  TROP2 is ov...</td>\n",
              "      <td>2</td>\n",
              "    </tr>\n",
              "    <tr>\n",
              "      <th>794</th>\n",
              "      <td>overexpression of epithelial cell adhesion mol...</td>\n",
              "      <td>0</td>\n",
              "    </tr>\n",
              "    <tr>\n",
              "      <th>795</th>\n",
              "      <td>\"Statistical analysis We used Chi-square test ...</td>\n",
              "      <td>1</td>\n",
              "    </tr>\n",
              "  </tbody>\n",
              "</table>\n",
              "<p>796 rows × 2 columns</p>\n",
              "</div>\n",
              "      <button class=\"colab-df-convert\" onclick=\"convertToInteractive('df-d9e9882e-e2ba-4b75-b103-2c440fabe3c5')\"\n",
              "              title=\"Convert this dataframe to an interactive table.\"\n",
              "              style=\"display:none;\">\n",
              "        \n",
              "  <svg xmlns=\"http://www.w3.org/2000/svg\" height=\"24px\"viewBox=\"0 0 24 24\"\n",
              "       width=\"24px\">\n",
              "    <path d=\"M0 0h24v24H0V0z\" fill=\"none\"/>\n",
              "    <path d=\"M18.56 5.44l.94 2.06.94-2.06 2.06-.94-2.06-.94-.94-2.06-.94 2.06-2.06.94zm-11 1L8.5 8.5l.94-2.06 2.06-.94-2.06-.94L8.5 2.5l-.94 2.06-2.06.94zm10 10l.94 2.06.94-2.06 2.06-.94-2.06-.94-.94-2.06-.94 2.06-2.06.94z\"/><path d=\"M17.41 7.96l-1.37-1.37c-.4-.4-.92-.59-1.43-.59-.52 0-1.04.2-1.43.59L10.3 9.45l-7.72 7.72c-.78.78-.78 2.05 0 2.83L4 21.41c.39.39.9.59 1.41.59.51 0 1.02-.2 1.41-.59l7.78-7.78 2.81-2.81c.8-.78.8-2.07 0-2.86zM5.41 20L4 18.59l7.72-7.72 1.47 1.35L5.41 20z\"/>\n",
              "  </svg>\n",
              "      </button>\n",
              "      \n",
              "  <style>\n",
              "    .colab-df-container {\n",
              "      display:flex;\n",
              "      flex-wrap:wrap;\n",
              "      gap: 12px;\n",
              "    }\n",
              "\n",
              "    .colab-df-convert {\n",
              "      background-color: #E8F0FE;\n",
              "      border: none;\n",
              "      border-radius: 50%;\n",
              "      cursor: pointer;\n",
              "      display: none;\n",
              "      fill: #1967D2;\n",
              "      height: 32px;\n",
              "      padding: 0 0 0 0;\n",
              "      width: 32px;\n",
              "    }\n",
              "\n",
              "    .colab-df-convert:hover {\n",
              "      background-color: #E2EBFA;\n",
              "      box-shadow: 0px 1px 2px rgba(60, 64, 67, 0.3), 0px 1px 3px 1px rgba(60, 64, 67, 0.15);\n",
              "      fill: #174EA6;\n",
              "    }\n",
              "\n",
              "    [theme=dark] .colab-df-convert {\n",
              "      background-color: #3B4455;\n",
              "      fill: #D2E3FC;\n",
              "    }\n",
              "\n",
              "    [theme=dark] .colab-df-convert:hover {\n",
              "      background-color: #434B5C;\n",
              "      box-shadow: 0px 1px 3px 1px rgba(0, 0, 0, 0.15);\n",
              "      filter: drop-shadow(0px 1px 2px rgba(0, 0, 0, 0.3));\n",
              "      fill: #FFFFFF;\n",
              "    }\n",
              "  </style>\n",
              "\n",
              "      <script>\n",
              "        const buttonEl =\n",
              "          document.querySelector('#df-d9e9882e-e2ba-4b75-b103-2c440fabe3c5 button.colab-df-convert');\n",
              "        buttonEl.style.display =\n",
              "          google.colab.kernel.accessAllowed ? 'block' : 'none';\n",
              "\n",
              "        async function convertToInteractive(key) {\n",
              "          const element = document.querySelector('#df-d9e9882e-e2ba-4b75-b103-2c440fabe3c5');\n",
              "          const dataTable =\n",
              "            await google.colab.kernel.invokeFunction('convertToInteractive',\n",
              "                                                     [key], {});\n",
              "          if (!dataTable) return;\n",
              "\n",
              "          const docLinkHtml = 'Like what you see? Visit the ' +\n",
              "            '<a target=\"_blank\" href=https://colab.research.google.com/notebooks/data_table.ipynb>data table notebook</a>'\n",
              "            + ' to learn more about interactive tables.';\n",
              "          element.innerHTML = '';\n",
              "          dataTable['output_type'] = 'display_data';\n",
              "          await google.colab.output.renderOutput(dataTable, element);\n",
              "          const docLink = document.createElement('div');\n",
              "          docLink.innerHTML = docLinkHtml;\n",
              "          element.appendChild(docLink);\n",
              "        }\n",
              "      </script>\n",
              "    </div>\n",
              "  </div>\n",
              "  "
            ]
          },
          "metadata": {},
          "execution_count": 10
        }
      ],
      "source": [
        "train_data = pd.DataFrame({'text': X_train, 'label': y_train})\n",
        "\n",
        "train_data"
      ]
    },
    {
      "cell_type": "code",
      "execution_count": null,
      "metadata": {
        "id": "ppXduhD3Okz8",
        "colab": {
          "base_uri": "https://localhost:8080/",
          "height": 424
        },
        "outputId": "dcd8e2e6-ddf9-4a91-f0c8-2ec066d2429c"
      },
      "outputs": [
        {
          "output_type": "execute_result",
          "data": {
            "text/plain": [
              "                                                  text  label\n",
              "0    \"A decrease of 50% or more from baseline urina...      1\n",
              "1    \"The remaining 24 (25.3%) were not differentia...      1\n",
              "2    \"Results Exceptional response to an IGF-1R inh...      1\n",
              "3    \"detection and quantification of cancer DNA mo...      1\n",
              "4    \"1.3±0.4 cm (range: 0.7-2.0 cm) for Group A an...      1\n",
              "..                                                 ...    ...\n",
              "195  \"  heat shock transcription factor1 hsf1 was o...      0\n",
              "196  \"fundamental  influences  of  sex  and  gender...      2\n",
              "197  Activation by NaturalPhytochemicals An Overvie...      2\n",
              "198  \"Effects of lowdose computed tomography LDCT s...      2\n",
              "199  \"The probands father (II-5) and sister (III-5...      1\n",
              "\n",
              "[200 rows x 2 columns]"
            ],
            "text/html": [
              "\n",
              "  <div id=\"df-e54a08a4-5865-4193-b752-80787e3dee31\">\n",
              "    <div class=\"colab-df-container\">\n",
              "      <div>\n",
              "<style scoped>\n",
              "    .dataframe tbody tr th:only-of-type {\n",
              "        vertical-align: middle;\n",
              "    }\n",
              "\n",
              "    .dataframe tbody tr th {\n",
              "        vertical-align: top;\n",
              "    }\n",
              "\n",
              "    .dataframe thead th {\n",
              "        text-align: right;\n",
              "    }\n",
              "</style>\n",
              "<table border=\"1\" class=\"dataframe\">\n",
              "  <thead>\n",
              "    <tr style=\"text-align: right;\">\n",
              "      <th></th>\n",
              "      <th>text</th>\n",
              "      <th>label</th>\n",
              "    </tr>\n",
              "  </thead>\n",
              "  <tbody>\n",
              "    <tr>\n",
              "      <th>0</th>\n",
              "      <td>\"A decrease of 50% or more from baseline urina...</td>\n",
              "      <td>1</td>\n",
              "    </tr>\n",
              "    <tr>\n",
              "      <th>1</th>\n",
              "      <td>\"The remaining 24 (25.3%) were not differentia...</td>\n",
              "      <td>1</td>\n",
              "    </tr>\n",
              "    <tr>\n",
              "      <th>2</th>\n",
              "      <td>\"Results Exceptional response to an IGF-1R inh...</td>\n",
              "      <td>1</td>\n",
              "    </tr>\n",
              "    <tr>\n",
              "      <th>3</th>\n",
              "      <td>\"detection and quantification of cancer DNA mo...</td>\n",
              "      <td>1</td>\n",
              "    </tr>\n",
              "    <tr>\n",
              "      <th>4</th>\n",
              "      <td>\"1.3±0.4 cm (range: 0.7-2.0 cm) for Group A an...</td>\n",
              "      <td>1</td>\n",
              "    </tr>\n",
              "    <tr>\n",
              "      <th>...</th>\n",
              "      <td>...</td>\n",
              "      <td>...</td>\n",
              "    </tr>\n",
              "    <tr>\n",
              "      <th>195</th>\n",
              "      <td>\"  heat shock transcription factor1 hsf1 was o...</td>\n",
              "      <td>0</td>\n",
              "    </tr>\n",
              "    <tr>\n",
              "      <th>196</th>\n",
              "      <td>\"fundamental  influences  of  sex  and  gender...</td>\n",
              "      <td>2</td>\n",
              "    </tr>\n",
              "    <tr>\n",
              "      <th>197</th>\n",
              "      <td>Activation by NaturalPhytochemicals An Overvie...</td>\n",
              "      <td>2</td>\n",
              "    </tr>\n",
              "    <tr>\n",
              "      <th>198</th>\n",
              "      <td>\"Effects of lowdose computed tomography LDCT s...</td>\n",
              "      <td>2</td>\n",
              "    </tr>\n",
              "    <tr>\n",
              "      <th>199</th>\n",
              "      <td>\"The probands father (II-5) and sister (III-5...</td>\n",
              "      <td>1</td>\n",
              "    </tr>\n",
              "  </tbody>\n",
              "</table>\n",
              "<p>200 rows × 2 columns</p>\n",
              "</div>\n",
              "      <button class=\"colab-df-convert\" onclick=\"convertToInteractive('df-e54a08a4-5865-4193-b752-80787e3dee31')\"\n",
              "              title=\"Convert this dataframe to an interactive table.\"\n",
              "              style=\"display:none;\">\n",
              "        \n",
              "  <svg xmlns=\"http://www.w3.org/2000/svg\" height=\"24px\"viewBox=\"0 0 24 24\"\n",
              "       width=\"24px\">\n",
              "    <path d=\"M0 0h24v24H0V0z\" fill=\"none\"/>\n",
              "    <path d=\"M18.56 5.44l.94 2.06.94-2.06 2.06-.94-2.06-.94-.94-2.06-.94 2.06-2.06.94zm-11 1L8.5 8.5l.94-2.06 2.06-.94-2.06-.94L8.5 2.5l-.94 2.06-2.06.94zm10 10l.94 2.06.94-2.06 2.06-.94-2.06-.94-.94-2.06-.94 2.06-2.06.94z\"/><path d=\"M17.41 7.96l-1.37-1.37c-.4-.4-.92-.59-1.43-.59-.52 0-1.04.2-1.43.59L10.3 9.45l-7.72 7.72c-.78.78-.78 2.05 0 2.83L4 21.41c.39.39.9.59 1.41.59.51 0 1.02-.2 1.41-.59l7.78-7.78 2.81-2.81c.8-.78.8-2.07 0-2.86zM5.41 20L4 18.59l7.72-7.72 1.47 1.35L5.41 20z\"/>\n",
              "  </svg>\n",
              "      </button>\n",
              "      \n",
              "  <style>\n",
              "    .colab-df-container {\n",
              "      display:flex;\n",
              "      flex-wrap:wrap;\n",
              "      gap: 12px;\n",
              "    }\n",
              "\n",
              "    .colab-df-convert {\n",
              "      background-color: #E8F0FE;\n",
              "      border: none;\n",
              "      border-radius: 50%;\n",
              "      cursor: pointer;\n",
              "      display: none;\n",
              "      fill: #1967D2;\n",
              "      height: 32px;\n",
              "      padding: 0 0 0 0;\n",
              "      width: 32px;\n",
              "    }\n",
              "\n",
              "    .colab-df-convert:hover {\n",
              "      background-color: #E2EBFA;\n",
              "      box-shadow: 0px 1px 2px rgba(60, 64, 67, 0.3), 0px 1px 3px 1px rgba(60, 64, 67, 0.15);\n",
              "      fill: #174EA6;\n",
              "    }\n",
              "\n",
              "    [theme=dark] .colab-df-convert {\n",
              "      background-color: #3B4455;\n",
              "      fill: #D2E3FC;\n",
              "    }\n",
              "\n",
              "    [theme=dark] .colab-df-convert:hover {\n",
              "      background-color: #434B5C;\n",
              "      box-shadow: 0px 1px 3px 1px rgba(0, 0, 0, 0.15);\n",
              "      filter: drop-shadow(0px 1px 2px rgba(0, 0, 0, 0.3));\n",
              "      fill: #FFFFFF;\n",
              "    }\n",
              "  </style>\n",
              "\n",
              "      <script>\n",
              "        const buttonEl =\n",
              "          document.querySelector('#df-e54a08a4-5865-4193-b752-80787e3dee31 button.colab-df-convert');\n",
              "        buttonEl.style.display =\n",
              "          google.colab.kernel.accessAllowed ? 'block' : 'none';\n",
              "\n",
              "        async function convertToInteractive(key) {\n",
              "          const element = document.querySelector('#df-e54a08a4-5865-4193-b752-80787e3dee31');\n",
              "          const dataTable =\n",
              "            await google.colab.kernel.invokeFunction('convertToInteractive',\n",
              "                                                     [key], {});\n",
              "          if (!dataTable) return;\n",
              "\n",
              "          const docLinkHtml = 'Like what you see? Visit the ' +\n",
              "            '<a target=\"_blank\" href=https://colab.research.google.com/notebooks/data_table.ipynb>data table notebook</a>'\n",
              "            + ' to learn more about interactive tables.';\n",
              "          element.innerHTML = '';\n",
              "          dataTable['output_type'] = 'display_data';\n",
              "          await google.colab.output.renderOutput(dataTable, element);\n",
              "          const docLink = document.createElement('div');\n",
              "          docLink.innerHTML = docLinkHtml;\n",
              "          element.appendChild(docLink);\n",
              "        }\n",
              "      </script>\n",
              "    </div>\n",
              "  </div>\n",
              "  "
            ]
          },
          "metadata": {},
          "execution_count": 11
        }
      ],
      "source": [
        "test_data = pd.DataFrame({'text': X_test, 'label': y_test})\n",
        "\n",
        "test_data"
      ]
    },
    {
      "cell_type": "markdown",
      "metadata": {
        "id": "OiEsQgky_HtA"
      },
      "source": [
        "# Text Preprocessing "
      ]
    },
    {
      "cell_type": "code",
      "execution_count": null,
      "metadata": {
        "id": "gBlxYHn9_C_e"
      },
      "outputs": [],
      "source": [
        "import requests\n",
        "stopwords_list = requests.get(\"https://github.com/stopwords-iso/stopwords-en/blob/master/stopwords-en.txt\").content\n",
        "stopwords = set(stopwords_list.decode().splitlines())"
      ]
    },
    {
      "cell_type": "code",
      "execution_count": null,
      "metadata": {
        "id": "trlE3rdD_Lr7"
      },
      "outputs": [],
      "source": [
        "import string\n",
        "from nltk.corpus import stopwords\n",
        "from sklearn.feature_extraction.text import ENGLISH_STOP_WORDS\n",
        "sklearn_stopwords = ENGLISH_STOP_WORDS\n",
        "\n",
        "stop_words = set(stopwords.words('english'))\n",
        "stop_words.update(sklearn_stopwords)\n",
        "\n",
        "def text_preprocessing(raw_text):\n",
        "  text_words = raw_text.translate(str.maketrans('', '', string.punctuation))\n",
        "  msg_tokens = word_tokenize(text_words.lower())\n",
        "  filtered_text = [token for token in msg_tokens if not token in stop_words]\n",
        "  return \" \".join(filtered_text)"
      ]
    },
    {
      "cell_type": "code",
      "execution_count": null,
      "metadata": {
        "colab": {
          "base_uri": "https://localhost:8080/",
          "height": 424
        },
        "id": "bnTrzKDQALIB",
        "outputId": "86f0478b-e951-4867-dd8a-59bbbce3f200"
      },
      "outputs": [
        {
          "output_type": "execute_result",
          "data": {
            "text/plain": [
              "                                                  text  label\n",
              "0    novel coronavirus sarscov2 cause highly contag...      0\n",
              "1    incidence thyroid carcinoma increasing world s...      0\n",
              "2    sequential use ayeastcea therapeutic cancervac...      2\n",
              "3    paired box protein8 pax8 immunohistochemical e...      2\n",
              "4    preoperative heart rate variability aprognosti...      2\n",
              "..                                                 ...    ...\n",
              "791  widely usedcancerspecific questionnaire assess...      2\n",
              "792  mathematical models estimate longterm costeffe...      1\n",
              "793  trophoblast cell surface antigen trop2 overexp...      2\n",
              "794  overexpression epithelial cell adhesion molecu...      0\n",
              "795  statistical analysis used chisquare test exami...      1\n",
              "\n",
              "[796 rows x 2 columns]"
            ],
            "text/html": [
              "\n",
              "  <div id=\"df-1fa90e46-115e-4ca9-85ca-e3e2b024ebf8\">\n",
              "    <div class=\"colab-df-container\">\n",
              "      <div>\n",
              "<style scoped>\n",
              "    .dataframe tbody tr th:only-of-type {\n",
              "        vertical-align: middle;\n",
              "    }\n",
              "\n",
              "    .dataframe tbody tr th {\n",
              "        vertical-align: top;\n",
              "    }\n",
              "\n",
              "    .dataframe thead th {\n",
              "        text-align: right;\n",
              "    }\n",
              "</style>\n",
              "<table border=\"1\" class=\"dataframe\">\n",
              "  <thead>\n",
              "    <tr style=\"text-align: right;\">\n",
              "      <th></th>\n",
              "      <th>text</th>\n",
              "      <th>label</th>\n",
              "    </tr>\n",
              "  </thead>\n",
              "  <tbody>\n",
              "    <tr>\n",
              "      <th>0</th>\n",
              "      <td>novel coronavirus sarscov2 cause highly contag...</td>\n",
              "      <td>0</td>\n",
              "    </tr>\n",
              "    <tr>\n",
              "      <th>1</th>\n",
              "      <td>incidence thyroid carcinoma increasing world s...</td>\n",
              "      <td>0</td>\n",
              "    </tr>\n",
              "    <tr>\n",
              "      <th>2</th>\n",
              "      <td>sequential use ayeastcea therapeutic cancervac...</td>\n",
              "      <td>2</td>\n",
              "    </tr>\n",
              "    <tr>\n",
              "      <th>3</th>\n",
              "      <td>paired box protein8 pax8 immunohistochemical e...</td>\n",
              "      <td>2</td>\n",
              "    </tr>\n",
              "    <tr>\n",
              "      <th>4</th>\n",
              "      <td>preoperative heart rate variability aprognosti...</td>\n",
              "      <td>2</td>\n",
              "    </tr>\n",
              "    <tr>\n",
              "      <th>...</th>\n",
              "      <td>...</td>\n",
              "      <td>...</td>\n",
              "    </tr>\n",
              "    <tr>\n",
              "      <th>791</th>\n",
              "      <td>widely usedcancerspecific questionnaire assess...</td>\n",
              "      <td>2</td>\n",
              "    </tr>\n",
              "    <tr>\n",
              "      <th>792</th>\n",
              "      <td>mathematical models estimate longterm costeffe...</td>\n",
              "      <td>1</td>\n",
              "    </tr>\n",
              "    <tr>\n",
              "      <th>793</th>\n",
              "      <td>trophoblast cell surface antigen trop2 overexp...</td>\n",
              "      <td>2</td>\n",
              "    </tr>\n",
              "    <tr>\n",
              "      <th>794</th>\n",
              "      <td>overexpression epithelial cell adhesion molecu...</td>\n",
              "      <td>0</td>\n",
              "    </tr>\n",
              "    <tr>\n",
              "      <th>795</th>\n",
              "      <td>statistical analysis used chisquare test exami...</td>\n",
              "      <td>1</td>\n",
              "    </tr>\n",
              "  </tbody>\n",
              "</table>\n",
              "<p>796 rows × 2 columns</p>\n",
              "</div>\n",
              "      <button class=\"colab-df-convert\" onclick=\"convertToInteractive('df-1fa90e46-115e-4ca9-85ca-e3e2b024ebf8')\"\n",
              "              title=\"Convert this dataframe to an interactive table.\"\n",
              "              style=\"display:none;\">\n",
              "        \n",
              "  <svg xmlns=\"http://www.w3.org/2000/svg\" height=\"24px\"viewBox=\"0 0 24 24\"\n",
              "       width=\"24px\">\n",
              "    <path d=\"M0 0h24v24H0V0z\" fill=\"none\"/>\n",
              "    <path d=\"M18.56 5.44l.94 2.06.94-2.06 2.06-.94-2.06-.94-.94-2.06-.94 2.06-2.06.94zm-11 1L8.5 8.5l.94-2.06 2.06-.94-2.06-.94L8.5 2.5l-.94 2.06-2.06.94zm10 10l.94 2.06.94-2.06 2.06-.94-2.06-.94-.94-2.06-.94 2.06-2.06.94z\"/><path d=\"M17.41 7.96l-1.37-1.37c-.4-.4-.92-.59-1.43-.59-.52 0-1.04.2-1.43.59L10.3 9.45l-7.72 7.72c-.78.78-.78 2.05 0 2.83L4 21.41c.39.39.9.59 1.41.59.51 0 1.02-.2 1.41-.59l7.78-7.78 2.81-2.81c.8-.78.8-2.07 0-2.86zM5.41 20L4 18.59l7.72-7.72 1.47 1.35L5.41 20z\"/>\n",
              "  </svg>\n",
              "      </button>\n",
              "      \n",
              "  <style>\n",
              "    .colab-df-container {\n",
              "      display:flex;\n",
              "      flex-wrap:wrap;\n",
              "      gap: 12px;\n",
              "    }\n",
              "\n",
              "    .colab-df-convert {\n",
              "      background-color: #E8F0FE;\n",
              "      border: none;\n",
              "      border-radius: 50%;\n",
              "      cursor: pointer;\n",
              "      display: none;\n",
              "      fill: #1967D2;\n",
              "      height: 32px;\n",
              "      padding: 0 0 0 0;\n",
              "      width: 32px;\n",
              "    }\n",
              "\n",
              "    .colab-df-convert:hover {\n",
              "      background-color: #E2EBFA;\n",
              "      box-shadow: 0px 1px 2px rgba(60, 64, 67, 0.3), 0px 1px 3px 1px rgba(60, 64, 67, 0.15);\n",
              "      fill: #174EA6;\n",
              "    }\n",
              "\n",
              "    [theme=dark] .colab-df-convert {\n",
              "      background-color: #3B4455;\n",
              "      fill: #D2E3FC;\n",
              "    }\n",
              "\n",
              "    [theme=dark] .colab-df-convert:hover {\n",
              "      background-color: #434B5C;\n",
              "      box-shadow: 0px 1px 3px 1px rgba(0, 0, 0, 0.15);\n",
              "      filter: drop-shadow(0px 1px 2px rgba(0, 0, 0, 0.3));\n",
              "      fill: #FFFFFF;\n",
              "    }\n",
              "  </style>\n",
              "\n",
              "      <script>\n",
              "        const buttonEl =\n",
              "          document.querySelector('#df-1fa90e46-115e-4ca9-85ca-e3e2b024ebf8 button.colab-df-convert');\n",
              "        buttonEl.style.display =\n",
              "          google.colab.kernel.accessAllowed ? 'block' : 'none';\n",
              "\n",
              "        async function convertToInteractive(key) {\n",
              "          const element = document.querySelector('#df-1fa90e46-115e-4ca9-85ca-e3e2b024ebf8');\n",
              "          const dataTable =\n",
              "            await google.colab.kernel.invokeFunction('convertToInteractive',\n",
              "                                                     [key], {});\n",
              "          if (!dataTable) return;\n",
              "\n",
              "          const docLinkHtml = 'Like what you see? Visit the ' +\n",
              "            '<a target=\"_blank\" href=https://colab.research.google.com/notebooks/data_table.ipynb>data table notebook</a>'\n",
              "            + ' to learn more about interactive tables.';\n",
              "          element.innerHTML = '';\n",
              "          dataTable['output_type'] = 'display_data';\n",
              "          await google.colab.output.renderOutput(dataTable, element);\n",
              "          const docLink = document.createElement('div');\n",
              "          docLink.innerHTML = docLinkHtml;\n",
              "          element.appendChild(docLink);\n",
              "        }\n",
              "      </script>\n",
              "    </div>\n",
              "  </div>\n",
              "  "
            ]
          },
          "metadata": {},
          "execution_count": 14
        }
      ],
      "source": [
        "train_data = train_data[['text', 'label']].copy()\n",
        "\n",
        "train_data['text'] = train_data['text'].apply(text_preprocessing)\n",
        "\n",
        "train_data.drop_duplicates(inplace=True)\n",
        "\n",
        "train_data"
      ]
    },
    {
      "cell_type": "code",
      "execution_count": null,
      "metadata": {
        "colab": {
          "base_uri": "https://localhost:8080/",
          "height": 424
        },
        "id": "21_qKNngOiqe",
        "outputId": "49f69dc0-99d5-4471-c8fb-7ea23ea0925e"
      },
      "outputs": [
        {
          "output_type": "execute_result",
          "data": {
            "text/plain": [
              "                                                  text  label\n",
              "0    decrease 50 baseline urinary prostaglandin e2 ...      1\n",
              "1    remaining 24 253 differentiated nsclc nos medi...      1\n",
              "2    results exceptional response igf1r inhibitor 5...      1\n",
              "3    detection quantification cancer dna molecules ...      1\n",
              "4    13±04 cm range 0720 cm group 06±03 cm range 03...      1\n",
              "..                                                 ...    ...\n",
              "195  heat shock transcription factor1 hsf1 overexpr...      0\n",
              "196  fundamental influences sex gender modifiers ma...      2\n",
              "197  activation naturalphytochemicals overviewconce...      2\n",
              "198  effects lowdose computed tomography ldct scree...      2\n",
              "199  probands father ii5 sister iii5 unaffected pe...      1\n",
              "\n",
              "[200 rows x 2 columns]"
            ],
            "text/html": [
              "\n",
              "  <div id=\"df-56af333b-f8a5-4be9-bb92-b89908edf8c8\">\n",
              "    <div class=\"colab-df-container\">\n",
              "      <div>\n",
              "<style scoped>\n",
              "    .dataframe tbody tr th:only-of-type {\n",
              "        vertical-align: middle;\n",
              "    }\n",
              "\n",
              "    .dataframe tbody tr th {\n",
              "        vertical-align: top;\n",
              "    }\n",
              "\n",
              "    .dataframe thead th {\n",
              "        text-align: right;\n",
              "    }\n",
              "</style>\n",
              "<table border=\"1\" class=\"dataframe\">\n",
              "  <thead>\n",
              "    <tr style=\"text-align: right;\">\n",
              "      <th></th>\n",
              "      <th>text</th>\n",
              "      <th>label</th>\n",
              "    </tr>\n",
              "  </thead>\n",
              "  <tbody>\n",
              "    <tr>\n",
              "      <th>0</th>\n",
              "      <td>decrease 50 baseline urinary prostaglandin e2 ...</td>\n",
              "      <td>1</td>\n",
              "    </tr>\n",
              "    <tr>\n",
              "      <th>1</th>\n",
              "      <td>remaining 24 253 differentiated nsclc nos medi...</td>\n",
              "      <td>1</td>\n",
              "    </tr>\n",
              "    <tr>\n",
              "      <th>2</th>\n",
              "      <td>results exceptional response igf1r inhibitor 5...</td>\n",
              "      <td>1</td>\n",
              "    </tr>\n",
              "    <tr>\n",
              "      <th>3</th>\n",
              "      <td>detection quantification cancer dna molecules ...</td>\n",
              "      <td>1</td>\n",
              "    </tr>\n",
              "    <tr>\n",
              "      <th>4</th>\n",
              "      <td>13±04 cm range 0720 cm group 06±03 cm range 03...</td>\n",
              "      <td>1</td>\n",
              "    </tr>\n",
              "    <tr>\n",
              "      <th>...</th>\n",
              "      <td>...</td>\n",
              "      <td>...</td>\n",
              "    </tr>\n",
              "    <tr>\n",
              "      <th>195</th>\n",
              "      <td>heat shock transcription factor1 hsf1 overexpr...</td>\n",
              "      <td>0</td>\n",
              "    </tr>\n",
              "    <tr>\n",
              "      <th>196</th>\n",
              "      <td>fundamental influences sex gender modifiers ma...</td>\n",
              "      <td>2</td>\n",
              "    </tr>\n",
              "    <tr>\n",
              "      <th>197</th>\n",
              "      <td>activation naturalphytochemicals overviewconce...</td>\n",
              "      <td>2</td>\n",
              "    </tr>\n",
              "    <tr>\n",
              "      <th>198</th>\n",
              "      <td>effects lowdose computed tomography ldct scree...</td>\n",
              "      <td>2</td>\n",
              "    </tr>\n",
              "    <tr>\n",
              "      <th>199</th>\n",
              "      <td>probands father ii5 sister iii5 unaffected pe...</td>\n",
              "      <td>1</td>\n",
              "    </tr>\n",
              "  </tbody>\n",
              "</table>\n",
              "<p>200 rows × 2 columns</p>\n",
              "</div>\n",
              "      <button class=\"colab-df-convert\" onclick=\"convertToInteractive('df-56af333b-f8a5-4be9-bb92-b89908edf8c8')\"\n",
              "              title=\"Convert this dataframe to an interactive table.\"\n",
              "              style=\"display:none;\">\n",
              "        \n",
              "  <svg xmlns=\"http://www.w3.org/2000/svg\" height=\"24px\"viewBox=\"0 0 24 24\"\n",
              "       width=\"24px\">\n",
              "    <path d=\"M0 0h24v24H0V0z\" fill=\"none\"/>\n",
              "    <path d=\"M18.56 5.44l.94 2.06.94-2.06 2.06-.94-2.06-.94-.94-2.06-.94 2.06-2.06.94zm-11 1L8.5 8.5l.94-2.06 2.06-.94-2.06-.94L8.5 2.5l-.94 2.06-2.06.94zm10 10l.94 2.06.94-2.06 2.06-.94-2.06-.94-.94-2.06-.94 2.06-2.06.94z\"/><path d=\"M17.41 7.96l-1.37-1.37c-.4-.4-.92-.59-1.43-.59-.52 0-1.04.2-1.43.59L10.3 9.45l-7.72 7.72c-.78.78-.78 2.05 0 2.83L4 21.41c.39.39.9.59 1.41.59.51 0 1.02-.2 1.41-.59l7.78-7.78 2.81-2.81c.8-.78.8-2.07 0-2.86zM5.41 20L4 18.59l7.72-7.72 1.47 1.35L5.41 20z\"/>\n",
              "  </svg>\n",
              "      </button>\n",
              "      \n",
              "  <style>\n",
              "    .colab-df-container {\n",
              "      display:flex;\n",
              "      flex-wrap:wrap;\n",
              "      gap: 12px;\n",
              "    }\n",
              "\n",
              "    .colab-df-convert {\n",
              "      background-color: #E8F0FE;\n",
              "      border: none;\n",
              "      border-radius: 50%;\n",
              "      cursor: pointer;\n",
              "      display: none;\n",
              "      fill: #1967D2;\n",
              "      height: 32px;\n",
              "      padding: 0 0 0 0;\n",
              "      width: 32px;\n",
              "    }\n",
              "\n",
              "    .colab-df-convert:hover {\n",
              "      background-color: #E2EBFA;\n",
              "      box-shadow: 0px 1px 2px rgba(60, 64, 67, 0.3), 0px 1px 3px 1px rgba(60, 64, 67, 0.15);\n",
              "      fill: #174EA6;\n",
              "    }\n",
              "\n",
              "    [theme=dark] .colab-df-convert {\n",
              "      background-color: #3B4455;\n",
              "      fill: #D2E3FC;\n",
              "    }\n",
              "\n",
              "    [theme=dark] .colab-df-convert:hover {\n",
              "      background-color: #434B5C;\n",
              "      box-shadow: 0px 1px 3px 1px rgba(0, 0, 0, 0.15);\n",
              "      filter: drop-shadow(0px 1px 2px rgba(0, 0, 0, 0.3));\n",
              "      fill: #FFFFFF;\n",
              "    }\n",
              "  </style>\n",
              "\n",
              "      <script>\n",
              "        const buttonEl =\n",
              "          document.querySelector('#df-56af333b-f8a5-4be9-bb92-b89908edf8c8 button.colab-df-convert');\n",
              "        buttonEl.style.display =\n",
              "          google.colab.kernel.accessAllowed ? 'block' : 'none';\n",
              "\n",
              "        async function convertToInteractive(key) {\n",
              "          const element = document.querySelector('#df-56af333b-f8a5-4be9-bb92-b89908edf8c8');\n",
              "          const dataTable =\n",
              "            await google.colab.kernel.invokeFunction('convertToInteractive',\n",
              "                                                     [key], {});\n",
              "          if (!dataTable) return;\n",
              "\n",
              "          const docLinkHtml = 'Like what you see? Visit the ' +\n",
              "            '<a target=\"_blank\" href=https://colab.research.google.com/notebooks/data_table.ipynb>data table notebook</a>'\n",
              "            + ' to learn more about interactive tables.';\n",
              "          element.innerHTML = '';\n",
              "          dataTable['output_type'] = 'display_data';\n",
              "          await google.colab.output.renderOutput(dataTable, element);\n",
              "          const docLink = document.createElement('div');\n",
              "          docLink.innerHTML = docLinkHtml;\n",
              "          element.appendChild(docLink);\n",
              "        }\n",
              "      </script>\n",
              "    </div>\n",
              "  </div>\n",
              "  "
            ]
          },
          "metadata": {},
          "execution_count": 15
        }
      ],
      "source": [
        "test_data = test_data[['text', 'label']].copy()\n",
        "\n",
        "test_data['text'] = test_data['text'].apply(text_preprocessing)\n",
        "\n",
        "test_data.drop_duplicates(inplace=True)\n",
        "\n",
        "test_data"
      ]
    },
    {
      "cell_type": "markdown",
      "metadata": {
        "id": "m-8gEBwNA7PN"
      },
      "source": [
        "# Feature Extraction"
      ]
    },
    {
      "cell_type": "code",
      "execution_count": null,
      "metadata": {
        "colab": {
          "base_uri": "https://localhost:8080/"
        },
        "id": "qhU5I2TaBIUz",
        "outputId": "1b8c8887-3b30-432b-87e1-bc57cd5fcedb"
      },
      "outputs": [
        {
          "output_type": "stream",
          "name": "stdout",
          "text": [
            "[==================================================] 100.0% 1662.8/1662.8MB downloaded\n"
          ]
        }
      ],
      "source": [
        "word2vec_model = api.load(\"word2vec-google-news-300\")"
      ]
    },
    {
      "cell_type": "code",
      "execution_count": null,
      "metadata": {
        "id": "XOa6vzkoAhaN"
      },
      "outputs": [],
      "source": [
        "def get_text_vec(sent):\n",
        "  vector = np.mean(np.array([word2vec_model[token] for token in word_tokenize(sent) if token in word2vec_model.key_to_index]), axis=0)\n",
        "  if np.all(np.isnan(vector)) :\n",
        "    return np.zeros(300)\n",
        "  return vector"
      ]
    },
    {
      "cell_type": "code",
      "execution_count": null,
      "metadata": {
        "id": "M-b-fuZXEjnH"
      },
      "outputs": [],
      "source": [
        "X_test = np.stack(np.array([get_text_vec(text) for text in test_data['text'].values]))"
      ]
    },
    {
      "cell_type": "code",
      "execution_count": null,
      "metadata": {
        "colab": {
          "base_uri": "https://localhost:8080/"
        },
        "id": "lDfVSWFzEpwH",
        "outputId": "e9349f7d-7d6f-4f47-e13a-941fbb262946"
      },
      "outputs": [
        {
          "output_type": "execute_result",
          "data": {
            "text/plain": [
              "(200, 300)"
            ]
          },
          "metadata": {},
          "execution_count": 19
        }
      ],
      "source": [
        "X_test.shape"
      ]
    },
    {
      "cell_type": "code",
      "execution_count": null,
      "metadata": {
        "id": "NCi6wK0kPACs"
      },
      "outputs": [],
      "source": [
        "y_test = test_data['label'].values"
      ]
    },
    {
      "cell_type": "code",
      "execution_count": null,
      "metadata": {
        "colab": {
          "base_uri": "https://localhost:8080/"
        },
        "id": "0I964n-QPBQE",
        "outputId": "f60f5588-81d5-4b7f-fc8f-075f6cacfc53"
      },
      "outputs": [
        {
          "output_type": "execute_result",
          "data": {
            "text/plain": [
              "(200,)"
            ]
          },
          "metadata": {},
          "execution_count": 21
        }
      ],
      "source": [
        "y_test.shape"
      ]
    },
    {
      "cell_type": "markdown",
      "metadata": {
        "id": "TEqW7eb9BkwW"
      },
      "source": [
        "# Model selection, training and evaluation"
      ]
    },
    {
      "cell_type": "code",
      "source": [
        "def f_beta_score(y_true, y_pred):\n",
        "  return fbeta_score(y_true, y_pred, beta=2, average='macro')\n",
        "\n",
        "f2_score = make_scorer(f_beta_score, greater_is_better=True)"
      ],
      "metadata": {
        "id": "XnESfNs4s8bF"
      },
      "execution_count": null,
      "outputs": []
    },
    {
      "cell_type": "code",
      "source": [
        "from datetime import datetime\n",
        "\n",
        "def save_cross_validation(results, file_name):\n",
        "  results_to_save = pd.DataFrame(columns=['Accuracy', 'Recall', 'Precision', 'F1 Score', 'F2 Score'])\n",
        "  for i in range(0, 10):\n",
        "    results_to_save.loc[i] = [\n",
        "      results['split{}_test_Accuracy'.format(i)][0],\n",
        "      results['split{}_test_Recall'.format(i)][0],\n",
        "      results['split{}_test_Precision'.format(i)][0],\n",
        "      results['split{}_test_F1'.format(i)][0],\n",
        "      results['split{}_test_F2'.format(i)][0]\n",
        "    ]\n",
        "  results_to_save.to_csv('{}Results/{}_{}.csv'.format(dir_name+'experiments/Cancer Doc/', file_name, datetime.now().strftime(\"%m%d%H%M\")))"
      ],
      "metadata": {
        "id": "TUA9gCZos8Ql"
      },
      "execution_count": null,
      "outputs": []
    },
    {
      "cell_type": "code",
      "source": [
        "def train_model(classifier, param_grid, model_name, train_texts, train_labels, test_texts, test_labels, evaluation_metrics, to_print=True, to_save=False, file_name=None):\n",
        "    \"\"\"\n",
        "    train email classification model.\n",
        "    \"\"\"\n",
        "\n",
        "    # apply grid search to find best model hyper parameters\n",
        "    grid_search = GridSearchCV(classifier, param_grid, cv=10, scoring={'Accuracy': make_scorer(accuracy_score),\n",
        "                                                                       'F1': make_scorer(f1_score, average='macro'),\n",
        "                                                                       'F2': f2_score,\n",
        "                                                                       'Recall': make_scorer(recall_score, average='macro'),\n",
        "                                                                       'Precision': make_scorer(precision_score, average='macro')\n",
        "                                                                       }, refit='F1', n_jobs=-1)\n",
        "    grid_search.fit(train_texts, train_labels)\n",
        "    model = grid_search.best_estimator_\n",
        "\n",
        "    if to_save:\n",
        "      ConfusionMatrixDisplay(save_cross_validation(grid_search.cv_results_, file_name))\n",
        "      plt.show()\n",
        "\n",
        "    # train and test accuracy.\n",
        "    test_accuracy = model.score(test_texts, test_labels)\n",
        "    train_accuracy = model.score(train_texts, train_labels)\n",
        "\n",
        "    # compute F1 score for model evaluation.\n",
        "    y_pred = model.predict(test_texts)\n",
        "\n",
        "    recall = recall_score(test_labels, y_pred, average='macro')\n",
        "    precision = precision_score(test_labels, y_pred, average='macro')\n",
        "    f1score = f1_score(test_labels, y_pred, average='macro')\n",
        "    f2score = fbeta_score(y_test, y_pred, beta=2, average='macro')\n",
        "\n",
        "    if to_print:\n",
        "        print(\"train accuracy = \" + str(train_accuracy))\n",
        "        print(\"test accuracy = \" + str(test_accuracy))\n",
        "        print(\"Recall = {}\".format(recall))\n",
        "        print(\"Precision = {}\".format(precision))\n",
        "        print(\"F1 score = {}\".format(f1score))\n",
        "        print(\"F2 score = {}\".format(f2score))\n",
        "        print(classification_report(test_labels, y_pred))\n",
        "\n",
        "\n",
        "        # plot confusion matrix\n",
        "        cm = confusion_matrix(test_labels, y_pred)\n",
        "        disp = ConfusionMatrixDisplay(confusion_matrix=cm, display_labels=[0,1,2])\n",
        "\n",
        "        disp.plot(cmap=plt.cm.Blues)\n",
        "        plt.show()\n",
        "\n",
        "        # print best model hyper parameters.\n",
        "        print(grid_search.best_params_)\n",
        "\n",
        "    evaluation_metrics.loc[model_name, 'Recall'] = recall\n",
        "    evaluation_metrics.loc[model_name, 'Precision'] = precision\n",
        "    evaluation_metrics.loc[model_name, 'F1 score'] = f1score\n",
        "    evaluation_metrics.loc[model_name, 'F2 score'] = f2score\n",
        "\n",
        "    return f1score, f2score\n",
        "\n",
        "\n",
        "def train(model_id, train_texts, train_labels, test_texts, test_labels, evaluation_metrics, to_print=True, to_save=False, file_name=None):\n",
        "    \n",
        "    if model_id == 1:\n",
        "        # Random forest Classification model.\n",
        "        forest_clf = RandomForestClassifier(random_state=42, n_jobs=-1)\n",
        "        forest_param_grid = [{'n_estimators': [50, 75, 100, 150, 200], 'max_features': [8, 9, 10], 'min_samples_split': [25, 30], 'criterion': ['gini','entropy'], 'max_depth': [4, 5]}]\n",
        "\n",
        "        return train_model(forest_clf, forest_param_grid, 'RandomForest', train_texts, train_labels, test_texts, test_labels, evaluation_metrics, to_print, to_save, file_name)\n",
        "\n",
        "    if model_id == 2:\n",
        "        # Support Vector Machine Model.\n",
        "        svc_clf = SVC(random_state=42)\n",
        "        svc_param_grid = [{'kernel': ['rbf', 'poly'], 'degree': [2, 3 , 4, 5]}]\n",
        "\n",
        "        return train_model(svc_clf, svc_param_grid, 'SVM', train_texts, train_labels, test_texts, test_labels, evaluation_metrics, to_print, to_save, file_name)"
      ],
      "metadata": {
        "id": "yIPOoHx0s8Ll"
      },
      "execution_count": null,
      "outputs": []
    },
    {
      "cell_type": "markdown",
      "metadata": {
        "id": "2uZCYkLGehXH"
      },
      "source": [
        "#Text Aug."
      ]
    },
    {
      "cell_type": "code",
      "source": [
        "all_similar_words = {}\n",
        "\n",
        "def get_similar_words(word):\n",
        "  if word not in all_similar_words:\n",
        "    all_similar_words[word] = word2vec_model.most_similar(word)\n",
        "  return all_similar_words[word]"
      ],
      "metadata": {
        "id": "LTweOA-6LZsd"
      },
      "execution_count": null,
      "outputs": []
    },
    {
      "cell_type": "code",
      "execution_count": null,
      "metadata": {
        "id": "tagkQzA4fWm6"
      },
      "outputs": [],
      "source": [
        "import gensim\n",
        "import random \n",
        "\n",
        "class Word2vec:\n",
        "    \"\"\"\n",
        "    A set of functions used to augment data.\n",
        "    Typical usage: :: \n",
        "        >>> from textaugment import Word2vec\n",
        "        >>> t = Word2vec('path/to/gensim/model'or 'gensim model itself')\n",
        "        >>> t.augment('I love school')\n",
        "        i adore school\n",
        "    \"\"\"\n",
        "    \n",
        "    def __init__(self, **kwargs):\n",
        "        \"\"\"\n",
        "        A method to initialize a model on a given path.\n",
        "        :type random_state: int, float, str, bytes, bytearray\n",
        "        :param random_state: seed\n",
        "        :type model: str or gensim.models.word2vec.Word2Vec\n",
        "        :param model: The path to the model or the model itself.\n",
        "        :type runs: int, optional\n",
        "        :param runs: The number of times to augment a sentence. By default is 1.\n",
        "        :type v: bool or optional\n",
        "        :param v: Replace all the words if true. If false randomly replace words.\n",
        "                Used in a Paper (https://www.cs.cmu.edu/~diyiy/docs/emnlp_wang_2015.pdf)\n",
        "        :type p: float, optional\n",
        "        :param p: The probability of success of an individual trial. (0.1<p<1.0), default is 0.5\n",
        "        \"\"\"\n",
        "\n",
        "        # Set random state\n",
        "        if 'random_state' in kwargs:\n",
        "            self.random_state = kwargs['random_state']\n",
        "            if isinstance(self.random_state, int):\n",
        "                random.seed(self.random_state)\n",
        "                np.random.seed(self.random_state)\n",
        "            else:\n",
        "                raise TypeError(\"random_state must have type int\")\n",
        "\n",
        "        # Set verbose to false if does not exists\n",
        "        try:\n",
        "            if kwargs['v']: \n",
        "                self.v = True\n",
        "            else:\n",
        "                self.v = False\n",
        "        except KeyError:\n",
        "            self.v = False\n",
        "\n",
        "        try:\n",
        "            if \"p\" in kwargs:\n",
        "                if type(kwargs['p']) is not float:\n",
        "                    raise TypeError(\"p represent probability of success and must be a float from 0.1 to 0.9. E.g p=0.5\")\n",
        "                elif type(kwargs['p']) is float:\n",
        "                    self.p = kwargs['p']\n",
        "            else:\n",
        "                kwargs['p'] = 0.5  # Set default value\n",
        "        except KeyError:\n",
        "            raise\n",
        "\n",
        "        # Error handling of given parameters\n",
        "        try:\n",
        "            if \"runs\" not in kwargs:\n",
        "                kwargs[\"runs\"] = 1  # Default value for runs\n",
        "            elif type(kwargs[\"runs\"]) is not int:\n",
        "                raise TypeError(\"DataType for 'runs' must be an integer\")\n",
        "            if \"model\" not in kwargs:\n",
        "                raise ValueError(\"Set the value of model. e.g model='path/to/model' or model itself\")\n",
        "            if type(kwargs['model']) not in [str,\n",
        "                                             gensim.models.word2vec.Word2Vec,\n",
        "                                             gensim.models.keyedvectors.Word2VecKeyedVectors,\n",
        "                                            gensim.models.keyedvectors.FastTextKeyedVectors]:\n",
        "                raise TypeError(\"Model path must be a string. \"\n",
        "                                \"Or type of model must be a gensim.models.word2vec.Word2Vec or \"\n",
        "                                \"gensim.models.keyedvectors.Word2VecKeyedVectors or \"\n",
        "                                \"gensim.models.keyedvectors.FastTextKeyedVectors type. \"\n",
        "                                \"To load a model use gensim.models.Word2Vec.load('path')\")\n",
        "        except (ValueError, TypeError):\n",
        "            raise\n",
        "        else:\n",
        "            self.runs = kwargs[\"runs\"] \n",
        "            self.model = kwargs[\"model\"]\n",
        "            self.p = kwargs[\"p\"]\n",
        "            try:\n",
        "                if type(self.model) is str:\n",
        "                    self.model = gensim.models.Word2Vec.load(self.model)\n",
        "            except FileNotFoundError:\n",
        "                print(\"Error: Model not found. Verify the path.\\n\")\n",
        "                raise\n",
        "\n",
        "    def geometric(self, data):\n",
        "        \"\"\"\n",
        "        Used to generate Geometric distribution.\n",
        "        :type data: list\n",
        "        :param data: Input data\n",
        "        :rtype:   ndarray or scalar\n",
        "        :return:  Drawn samples from the parameterized Geometric distribution.\n",
        "        \"\"\"\n",
        "\n",
        "        data = np.array(data)\n",
        "        first_trial = np.random.geometric(p=self.p, size=data.shape[0]) == 1  # Capture success after first trial\n",
        "        return data[first_trial]\n",
        "\n",
        "    def augment(self, data):\n",
        "        \"\"\"\n",
        "        The method to replace words with similar words.\n",
        "        \n",
        "        :type data: str\n",
        "        :param data: Input data\n",
        "        :rtype:   str\n",
        "        :return:  The augmented data\n",
        "        \"\"\"\n",
        "        \n",
        "        # Avoid nulls and other unsupported types\n",
        "        if type(data) is not str: \n",
        "            raise TypeError(\"Only strings are supported\")\n",
        "        # Lower case and split\n",
        "        data_tokens = data.lower().split()\n",
        "\n",
        "        # Verbose = True then replace all the words.\n",
        "        if self.v:\n",
        "            for _ in range(self.runs):\n",
        "                for index in range(len(data_tokens)):  # Index from 0 to length of data_tokens\n",
        "                    try:\n",
        "                        similar_words = [syn for syn, t in self.model.most_similar(data_tokens[index])]\n",
        "                        r = random.randrange(len(similar_words))\n",
        "                        data_tokens[index] = similar_words[r].lower()  # Replace with random synonym from 10 synonyms\n",
        "                    except KeyError:\n",
        "                        pass  # For words not in the word2vec model\n",
        "        else:  # Randomly replace some words\n",
        "            for _ in range(self.runs):\n",
        "                data_tokens_idx = [[x, y] for (x, y) in enumerate(data_tokens)]  # Enumerate data\n",
        "                words = self.geometric(data=data_tokens_idx).tolist()  # List of words indexed\n",
        "                for w in words:\n",
        "                    try:\n",
        "                        similar_words_and_weights = [(syn, t) for syn, t in get_similar_words(w[1])]\n",
        "                        similar_words = [word for word, t in similar_words_and_weights]\n",
        "                        similar_words_weights = [t for word, t in similar_words_and_weights]\n",
        "                        word = random.choices(similar_words, similar_words_weights, k=1)\n",
        "                        data_tokens[int(w[0])] = word[0].lower()  # Replace with random synonym from 10 synonyms\n",
        "                    except KeyError:\n",
        "                        pass\n",
        "            return \" \".join(data_tokens)\n",
        "        return \" \".join(data_tokens)"
      ]
    },
    {
      "cell_type": "code",
      "execution_count": null,
      "metadata": {
        "id": "5cPqmEsKfWb5"
      },
      "outputs": [],
      "source": [
        "marivate_augmener = Word2vec(model=word2vec_model, runs=1, v=False, p=0.5)"
      ]
    },
    {
      "cell_type": "code",
      "execution_count": null,
      "metadata": {
        "id": "0mef8qcafWUc"
      },
      "outputs": [],
      "source": [
        "def marivate_augmentation(prepro_dataset, lable, sent_num=5):\n",
        "  texts = prepro_dataset.loc[prepro_dataset['label'] == lable]['text'].values\n",
        "  texts_num = len(texts)\n",
        "  new_texts = []\n",
        "  i = 0\n",
        "  \n",
        "  for text in texts:\n",
        "    if i % 20 == 0:\n",
        "      print(f\" {int(100*i/texts_num)} %\")\n",
        "    for j in range(sent_num):\n",
        "      new_texts.append(marivate_augmener.augment(text))\n",
        "    i += 1\n",
        "  augmentations = prepro_dataset[['text', 'label']].copy().append(pd.DataFrame({'label':[lable] * len(new_texts), 'text':new_texts}), ignore_index = True)\n",
        "  augmentations.drop_duplicates(inplace=True)\n",
        "  return augmentations.sample(frac=1)"
      ]
    },
    {
      "cell_type": "code",
      "execution_count": null,
      "metadata": {
        "colab": {
          "base_uri": "https://localhost:8080/"
        },
        "id": "TU54YZJxZ9K6",
        "outputId": "b35eb259-091a-4993-9f94-440ff6b7eb98"
      },
      "outputs": [
        {
          "output_type": "stream",
          "name": "stdout",
          "text": [
            " 0 %\n",
            " 9 %\n",
            " 19 %\n",
            " 28 %\n",
            " 38 %\n",
            " 47 %\n",
            " 57 %\n",
            " 66 %\n",
            " 76 %\n",
            " 86 %\n",
            " 95 %\n"
          ]
        },
        {
          "output_type": "stream",
          "name": "stderr",
          "text": [
            "<ipython-input-22-27a6d5a3b793>:13: FutureWarning: The frame.append method is deprecated and will be removed from pandas in a future version. Use pandas.concat instead.\n",
            "  augmentations = prepro_dataset[['text', 'label']].copy().append(pd.DataFrame({'label':[lable] * len(new_texts), 'text':new_texts}), ignore_index = True)\n"
          ]
        }
      ],
      "source": [
        "augmented_dataset = marivate_augmentation(train_data, lable=0, sent_num=1)"
      ]
    },
    {
      "cell_type": "code",
      "execution_count": null,
      "metadata": {
        "colab": {
          "base_uri": "https://localhost:8080/"
        },
        "id": "XSK_W8Y-bCe3",
        "outputId": "9954f668-a611-4cb3-8dbe-20612bca19ff"
      },
      "outputs": [
        {
          "output_type": "stream",
          "name": "stdout",
          "text": [
            " 0 %\n",
            " 8 %\n",
            " 17 %\n",
            " 26 %\n",
            " 35 %\n",
            " 44 %\n",
            " 53 %\n",
            " 61 %\n",
            " 70 %\n",
            " 79 %\n",
            " 88 %\n",
            " 97 %\n"
          ]
        },
        {
          "output_type": "stream",
          "name": "stderr",
          "text": [
            "<ipython-input-22-27a6d5a3b793>:13: FutureWarning: The frame.append method is deprecated and will be removed from pandas in a future version. Use pandas.concat instead.\n",
            "  augmentations = prepro_dataset[['text', 'label']].copy().append(pd.DataFrame({'label':[lable] * len(new_texts), 'text':new_texts}), ignore_index = True)\n"
          ]
        }
      ],
      "source": [
        "augmented_dataset = marivate_augmentation(augmented_dataset, lable=2, sent_num=1)"
      ]
    },
    {
      "cell_type": "code",
      "execution_count": null,
      "metadata": {
        "colab": {
          "base_uri": "https://localhost:8080/",
          "height": 423
        },
        "id": "uzDMaShg0EWT",
        "outputId": "0a2a5f68-b6fe-4696-ecaf-2b7031993ece"
      },
      "outputs": [
        {
          "output_type": "execute_result",
          "data": {
            "text/plain": [
              "                                                   text  label\n",
              "526   years.the workers_differently_corenthal synthe...      0\n",
              "828   decrease hsp70 rnai promoted cisplatindependen...      1\n",
              "994   common gynecological malignant tumors cervical...      0\n",
              "511   lung intrathoracic tumors pathology laboratory...      1\n",
              "1057  parturition negative detrimental_effect female...      2\n",
              "...                                                 ...    ...\n",
              "632   acute myeloid leukemia aml common type ofacute...      0\n",
              "88    massarray analysis 1 sequencingpyrosequencing ...      1\n",
              "112   ovarian cancer second common gynecologic cance...      0\n",
              "39    dysregulation ribosome production lead number ...      2\n",
              "523   thyroid development thyroid hormone th analogu...      2\n",
              "\n",
              "[1231 rows x 2 columns]"
            ],
            "text/html": [
              "\n",
              "  <div id=\"df-6340312a-7f3b-4826-a580-0f72d56be697\">\n",
              "    <div class=\"colab-df-container\">\n",
              "      <div>\n",
              "<style scoped>\n",
              "    .dataframe tbody tr th:only-of-type {\n",
              "        vertical-align: middle;\n",
              "    }\n",
              "\n",
              "    .dataframe tbody tr th {\n",
              "        vertical-align: top;\n",
              "    }\n",
              "\n",
              "    .dataframe thead th {\n",
              "        text-align: right;\n",
              "    }\n",
              "</style>\n",
              "<table border=\"1\" class=\"dataframe\">\n",
              "  <thead>\n",
              "    <tr style=\"text-align: right;\">\n",
              "      <th></th>\n",
              "      <th>text</th>\n",
              "      <th>label</th>\n",
              "    </tr>\n",
              "  </thead>\n",
              "  <tbody>\n",
              "    <tr>\n",
              "      <th>526</th>\n",
              "      <td>years.the workers_differently_corenthal synthe...</td>\n",
              "      <td>0</td>\n",
              "    </tr>\n",
              "    <tr>\n",
              "      <th>828</th>\n",
              "      <td>decrease hsp70 rnai promoted cisplatindependen...</td>\n",
              "      <td>1</td>\n",
              "    </tr>\n",
              "    <tr>\n",
              "      <th>994</th>\n",
              "      <td>common gynecological malignant tumors cervical...</td>\n",
              "      <td>0</td>\n",
              "    </tr>\n",
              "    <tr>\n",
              "      <th>511</th>\n",
              "      <td>lung intrathoracic tumors pathology laboratory...</td>\n",
              "      <td>1</td>\n",
              "    </tr>\n",
              "    <tr>\n",
              "      <th>1057</th>\n",
              "      <td>parturition negative detrimental_effect female...</td>\n",
              "      <td>2</td>\n",
              "    </tr>\n",
              "    <tr>\n",
              "      <th>...</th>\n",
              "      <td>...</td>\n",
              "      <td>...</td>\n",
              "    </tr>\n",
              "    <tr>\n",
              "      <th>632</th>\n",
              "      <td>acute myeloid leukemia aml common type ofacute...</td>\n",
              "      <td>0</td>\n",
              "    </tr>\n",
              "    <tr>\n",
              "      <th>88</th>\n",
              "      <td>massarray analysis 1 sequencingpyrosequencing ...</td>\n",
              "      <td>1</td>\n",
              "    </tr>\n",
              "    <tr>\n",
              "      <th>112</th>\n",
              "      <td>ovarian cancer second common gynecologic cance...</td>\n",
              "      <td>0</td>\n",
              "    </tr>\n",
              "    <tr>\n",
              "      <th>39</th>\n",
              "      <td>dysregulation ribosome production lead number ...</td>\n",
              "      <td>2</td>\n",
              "    </tr>\n",
              "    <tr>\n",
              "      <th>523</th>\n",
              "      <td>thyroid development thyroid hormone th analogu...</td>\n",
              "      <td>2</td>\n",
              "    </tr>\n",
              "  </tbody>\n",
              "</table>\n",
              "<p>1231 rows × 2 columns</p>\n",
              "</div>\n",
              "      <button class=\"colab-df-convert\" onclick=\"convertToInteractive('df-6340312a-7f3b-4826-a580-0f72d56be697')\"\n",
              "              title=\"Convert this dataframe to an interactive table.\"\n",
              "              style=\"display:none;\">\n",
              "        \n",
              "  <svg xmlns=\"http://www.w3.org/2000/svg\" height=\"24px\"viewBox=\"0 0 24 24\"\n",
              "       width=\"24px\">\n",
              "    <path d=\"M0 0h24v24H0V0z\" fill=\"none\"/>\n",
              "    <path d=\"M18.56 5.44l.94 2.06.94-2.06 2.06-.94-2.06-.94-.94-2.06-.94 2.06-2.06.94zm-11 1L8.5 8.5l.94-2.06 2.06-.94-2.06-.94L8.5 2.5l-.94 2.06-2.06.94zm10 10l.94 2.06.94-2.06 2.06-.94-2.06-.94-.94-2.06-.94 2.06-2.06.94z\"/><path d=\"M17.41 7.96l-1.37-1.37c-.4-.4-.92-.59-1.43-.59-.52 0-1.04.2-1.43.59L10.3 9.45l-7.72 7.72c-.78.78-.78 2.05 0 2.83L4 21.41c.39.39.9.59 1.41.59.51 0 1.02-.2 1.41-.59l7.78-7.78 2.81-2.81c.8-.78.8-2.07 0-2.86zM5.41 20L4 18.59l7.72-7.72 1.47 1.35L5.41 20z\"/>\n",
              "  </svg>\n",
              "      </button>\n",
              "      \n",
              "  <style>\n",
              "    .colab-df-container {\n",
              "      display:flex;\n",
              "      flex-wrap:wrap;\n",
              "      gap: 12px;\n",
              "    }\n",
              "\n",
              "    .colab-df-convert {\n",
              "      background-color: #E8F0FE;\n",
              "      border: none;\n",
              "      border-radius: 50%;\n",
              "      cursor: pointer;\n",
              "      display: none;\n",
              "      fill: #1967D2;\n",
              "      height: 32px;\n",
              "      padding: 0 0 0 0;\n",
              "      width: 32px;\n",
              "    }\n",
              "\n",
              "    .colab-df-convert:hover {\n",
              "      background-color: #E2EBFA;\n",
              "      box-shadow: 0px 1px 2px rgba(60, 64, 67, 0.3), 0px 1px 3px 1px rgba(60, 64, 67, 0.15);\n",
              "      fill: #174EA6;\n",
              "    }\n",
              "\n",
              "    [theme=dark] .colab-df-convert {\n",
              "      background-color: #3B4455;\n",
              "      fill: #D2E3FC;\n",
              "    }\n",
              "\n",
              "    [theme=dark] .colab-df-convert:hover {\n",
              "      background-color: #434B5C;\n",
              "      box-shadow: 0px 1px 3px 1px rgba(0, 0, 0, 0.15);\n",
              "      filter: drop-shadow(0px 1px 2px rgba(0, 0, 0, 0.3));\n",
              "      fill: #FFFFFF;\n",
              "    }\n",
              "  </style>\n",
              "\n",
              "      <script>\n",
              "        const buttonEl =\n",
              "          document.querySelector('#df-6340312a-7f3b-4826-a580-0f72d56be697 button.colab-df-convert');\n",
              "        buttonEl.style.display =\n",
              "          google.colab.kernel.accessAllowed ? 'block' : 'none';\n",
              "\n",
              "        async function convertToInteractive(key) {\n",
              "          const element = document.querySelector('#df-6340312a-7f3b-4826-a580-0f72d56be697');\n",
              "          const dataTable =\n",
              "            await google.colab.kernel.invokeFunction('convertToInteractive',\n",
              "                                                     [key], {});\n",
              "          if (!dataTable) return;\n",
              "\n",
              "          const docLinkHtml = 'Like what you see? Visit the ' +\n",
              "            '<a target=\"_blank\" href=https://colab.research.google.com/notebooks/data_table.ipynb>data table notebook</a>'\n",
              "            + ' to learn more about interactive tables.';\n",
              "          element.innerHTML = '';\n",
              "          dataTable['output_type'] = 'display_data';\n",
              "          await google.colab.output.renderOutput(dataTable, element);\n",
              "          const docLink = document.createElement('div');\n",
              "          docLink.innerHTML = docLinkHtml;\n",
              "          element.appendChild(docLink);\n",
              "        }\n",
              "      </script>\n",
              "    </div>\n",
              "  </div>\n",
              "  "
            ]
          },
          "metadata": {},
          "execution_count": 25
        }
      ],
      "source": [
        "augmented_dataset"
      ]
    },
    {
      "cell_type": "code",
      "source": [
        "augmented_dataset.to_csv('{}Marivate.csv'.format(dir_name+'experiments/Cancer Doc/'))"
      ],
      "metadata": {
        "id": "nHgRw52m_iWA"
      },
      "execution_count": null,
      "outputs": []
    },
    {
      "cell_type": "code",
      "source": [
        "augmented_dataset = pd.read_csv('{}Marivate.csv'.format(dir_name+'experiments/Cancer Doc/'))"
      ],
      "metadata": {
        "id": "2XFLEbE1HEet"
      },
      "execution_count": null,
      "outputs": []
    },
    {
      "cell_type": "code",
      "execution_count": null,
      "metadata": {
        "colab": {
          "base_uri": "https://localhost:8080/",
          "height": 499
        },
        "id": "hRH5FNpUca1L",
        "outputId": "cf8ea618-1433-429d-ece8-7a8d27cc3362"
      },
      "outputs": [
        {
          "output_type": "display_data",
          "data": {
            "text/plain": [
              "<Figure size 600x600 with 1 Axes>"
            ],
            "image/png": "[encoded data removed]"
          },
          "metadata": {}
        }
      ],
      "source": [
        "get_dataset_statistics(augmented_dataset)"
      ]
    },
    {
      "cell_type": "code",
      "execution_count": null,
      "metadata": {
        "id": "1vbxyQOtbSCr"
      },
      "outputs": [],
      "source": [
        "aug_X_train = np.stack(np.array([get_text_vec(sms_text) for sms_text in augmented_dataset['text'].values]))"
      ]
    },
    {
      "cell_type": "code",
      "execution_count": null,
      "metadata": {
        "colab": {
          "base_uri": "https://localhost:8080/"
        },
        "id": "mFAagANKbUFC",
        "outputId": "5e13a052-cedb-4fff-992e-19cb18772571"
      },
      "outputs": [
        {
          "output_type": "execute_result",
          "data": {
            "text/plain": [
              "(1231, 300)"
            ]
          },
          "metadata": {},
          "execution_count": 27
        }
      ],
      "source": [
        "aug_X_train.shape"
      ]
    },
    {
      "cell_type": "code",
      "execution_count": null,
      "metadata": {
        "id": "Vq9ghif4bUcx"
      },
      "outputs": [],
      "source": [
        "aug_y_train = augmented_dataset['label'].values"
      ]
    },
    {
      "cell_type": "code",
      "execution_count": null,
      "metadata": {
        "colab": {
          "base_uri": "https://localhost:8080/"
        },
        "id": "4W7P0-q6bWUU",
        "outputId": "a51dffbc-1f73-48bf-e29e-d7fcb8efb645"
      },
      "outputs": [
        {
          "output_type": "execute_result",
          "data": {
            "text/plain": [
              "(1231,)"
            ]
          },
          "metadata": {},
          "execution_count": 29
        }
      ],
      "source": [
        "aug_y_train.shape"
      ]
    },
    {
      "cell_type": "code",
      "execution_count": null,
      "metadata": {
        "id": "pQ-8E3FtbXok"
      },
      "outputs": [],
      "source": [
        "evaluation_metrics_aug = pd.DataFrame(columns = ['Recall', 'Precision', 'F1 score', 'F2 score'])"
      ]
    },
    {
      "cell_type": "markdown",
      "metadata": {
        "id": "y9XIrUB5FhnC"
      },
      "source": [
        "# Random Forest"
      ]
    },
    {
      "cell_type": "code",
      "source": [
        "train(1, aug_X_train, aug_y_train, X_test, y_test, evaluation_metrics_aug, to_save=True, file_name='Mari_RF')"
      ],
      "metadata": {
        "colab": {
          "base_uri": "https://localhost:8080/",
          "height": 781
        },
        "id": "85E4F3TcvJXo",
        "outputId": "86bfd08a-3167-4808-e72b-a08560c37366"
      },
      "execution_count": null,
      "outputs": [
        {
          "output_type": "stream",
          "name": "stdout",
          "text": [
            "train accuracy = 0.8375304630381804\n",
            "test accuracy = 0.705\n",
            "Recall = 0.64578111946533\n",
            "Precision = 0.6518810748999427\n",
            "F1 score = 0.6451523633315939\n",
            "F2 score = 0.6446478075897945\n",
            "              precision    recall  f1-score   support\n",
            "\n",
            "           0       0.55      0.46      0.50        52\n",
            "           1       0.83      0.97      0.89        91\n",
            "           2       0.58      0.51      0.54        57\n",
            "\n",
            "    accuracy                           0.70       200\n",
            "   macro avg       0.65      0.65      0.65       200\n",
            "weighted avg       0.68      0.70      0.69       200\n",
            "\n"
          ]
        },
        {
          "output_type": "display_data",
          "data": {
            "text/plain": [
              "<Figure size 640x480 with 2 Axes>"
            ],
            "image/png": "[encoded data removed]"
          },
          "metadata": {}
        },
        {
          "output_type": "stream",
          "name": "stdout",
          "text": [
            "{'criterion': 'entropy', 'max_depth': 5, 'max_features': 10, 'min_samples_split': 25, 'n_estimators': 100}\n"
          ]
        },
        {
          "output_type": "execute_result",
          "data": {
            "text/plain": [
              "(0.6451523633315939, 0.6446478075897945)"
            ]
          },
          "metadata": {},
          "execution_count": 32
        }
      ]
    },
    {
      "cell_type": "markdown",
      "metadata": {
        "id": "XmwRxKxMe-Uf"
      },
      "source": [
        "#SVM"
      ]
    },
    {
      "cell_type": "code",
      "source": [
        "train(2, aug_X_train, aug_y_train, X_test, y_test, evaluation_metrics_aug, to_save=True, file_name='Mari_SVM')"
      ],
      "metadata": {
        "colab": {
          "base_uri": "https://localhost:8080/",
          "height": 781
        },
        "id": "hwu_DCwhtvCf",
        "outputId": "29f8363a-9de3-4fa2-a3ec-88ab1c79a8c6"
      },
      "execution_count": null,
      "outputs": [
        {
          "output_type": "stream",
          "name": "stdout",
          "text": [
            "train accuracy = 0.7660438667749797\n",
            "test accuracy = 0.755\n",
            "Recall = 0.7032003084634665\n",
            "Precision = 0.7049167409474352\n",
            "F1 score = 0.7028047093047967\n",
            "F2 score = 0.7027623609536978\n",
            "              precision    recall  f1-score   support\n",
            "\n",
            "           0       0.58      0.50      0.54        52\n",
            "           1       0.95      0.98      0.96        91\n",
            "           2       0.59      0.63      0.61        57\n",
            "\n",
            "    accuracy                           0.76       200\n",
            "   macro avg       0.70      0.70      0.70       200\n",
            "weighted avg       0.75      0.76      0.75       200\n",
            "\n"
          ]
        },
        {
          "output_type": "display_data",
          "data": {
            "text/plain": [
              "<Figure size 640x480 with 2 Axes>"
            ],
            "image/png": "[encoded data removed]"
          },
          "metadata": {}
        },
        {
          "output_type": "stream",
          "name": "stdout",
          "text": [
            "{'degree': 2, 'kernel': 'rbf'}\n"
          ]
        },
        {
          "output_type": "execute_result",
          "data": {
            "text/plain": [
              "(0.7028047093047967, 0.7027623609536978)"
            ]
          },
          "metadata": {},
          "execution_count": 49
        }
      ]
    },
    {
      "cell_type": "code",
      "execution_count": null,
      "metadata": {
        "id": "DRkHXBz12YzX"
      },
      "outputs": [],
      "source": [
        "evaluation_metrics_aug"
      ]
    },
    {
      "cell_type": "markdown",
      "source": [
        "#BiLSTM"
      ],
      "metadata": {
        "id": "jGZ44XimC0cG"
      }
    },
    {
      "cell_type": "code",
      "source": [
        "import random\n",
        "import tensorflow as tf \n",
        "from tensorflow import keras \n",
        "from tensorflow.keras import layers\n",
        "from sklearn.metrics import ConfusionMatrixDisplay\n",
        "from tensorflow.keras.layers import Dropout\n",
        "from tensorflow.keras import regularizers\n",
        "from sklearn.model_selection import StratifiedKFold"
      ],
      "metadata": {
        "id": "CX6xcxLlC1r-"
      },
      "execution_count": null,
      "outputs": []
    },
    {
      "cell_type": "code",
      "source": [
        "def create_blstm_model(train_texts):\n",
        "\n",
        "  vectorize_layer = layers.TextVectorization(max_tokens=50000, output_sequence_length=2000)\n",
        "\n",
        "  vectorize_layer.adapt(train_texts)\n",
        "\n",
        "  embedding_layer = layers.Embedding(input_dim=50000, output_dim=100, input_length=2000)\n",
        "\n",
        "  model = tf.keras.models.Sequential()\n",
        "  model.add(tf.keras.Input(shape=(1,), dtype=tf.string))\n",
        "  model.add(vectorize_layer)\n",
        "  model.add(embedding_layer)\n",
        "\n",
        "  model.add(layers.Bidirectional(layers.LSTM(40, bias_regularizer=regularizers.L2(1e-2), kernel_regularizer=regularizers.L1L2(l1=1e-3, l2=1e-3), activity_regularizer=regularizers.L2(1e-2))))\n",
        "  model.add(Dropout(0.2))\n",
        "  model.add(layers.Dense(3, activation='softmax'))\n",
        "\n",
        "\n",
        "  model.compile(optimizer=keras.optimizers.Adam(),\n",
        "                loss='sparse_categorical_crossentropy',\n",
        "                metrics=['accuracy'])  \n",
        "  print(model.summary())\n",
        "  \n",
        "  return model"
      ],
      "metadata": {
        "id": "IkdV5yTWC60G"
      },
      "execution_count": null,
      "outputs": []
    },
    {
      "cell_type": "markdown",
      "source": [
        "# Cross Validation"
      ],
      "metadata": {
        "id": "KHLH_G6VavDX"
      }
    },
    {
      "cell_type": "code",
      "source": [
        "def cv_blstm():\n",
        "\n",
        "  kf = StratifiedKFold(10, shuffle=True, random_state=42) \n",
        "  cv_metrics = pd.DataFrame(columns = ['Recall', 'Precision', 'F1 score', 'F2 score'])\n",
        "\n",
        "  fold = 0\n",
        "\n",
        "  X = augmented_dataset['text'].values\n",
        "  Y = augmented_dataset['label'].values\n",
        "\n",
        "  for train, val in kf.split(X, Y):  \n",
        "  \n",
        "    print(f\"Fold {fold}\")\n",
        "\n",
        "    train_texts = X[train]\n",
        "    train_labels = Y[train]\n",
        "    test_texts = X[val]\n",
        "    test_labels = Y[val]\n",
        "\n",
        "    blstm_model = create_blstm_model(train_texts)\n",
        "\n",
        "    history = blstm_model.fit(train_texts,\n",
        "                              train_labels,\n",
        "                              epochs=10,\n",
        "                              batch_size=16,\n",
        "                              validation_data=(test_texts, test_labels))\n",
        "\n",
        "    blstm_model.evaluate(test_texts, test_labels)\n",
        "    y_pred = np.round(blstm_model.predict(test_texts))\n",
        "    y_pred = np.argmax(y_pred, axis=1)\n",
        "\n",
        "    f1_sc = f1_score(test_labels, y_pred, average='macro')\n",
        "    f2score = fbeta_score(test_labels, y_pred, beta=2, average='macro')\n",
        "\n",
        "    cv_metrics.loc[fold, 'Recall'] = recall_score(test_labels, y_pred, average='macro')\n",
        "    cv_metrics.loc[fold, 'Precision'] = precision_score(test_labels, y_pred, average='macro')\n",
        "    cv_metrics.loc[fold, 'F1 score'] = f1_sc\n",
        "    cv_metrics.loc[fold, 'F2 score'] = f2score\n",
        "    \n",
        "    fold += 1\n",
        "\n",
        "  return cv_metrics"
      ],
      "metadata": {
        "id": "Shd11BB_avVn"
      },
      "execution_count": null,
      "outputs": []
    },
    {
      "cell_type": "code",
      "source": [
        "cv_results = cv_blstm()"
      ],
      "metadata": {
        "id": "Jspd4eEyavmM",
        "colab": {
          "base_uri": "https://localhost:8080/"
        },
        "outputId": "dcafc533-095d-4794-8fca-0ae367bdb9c1"
      },
      "execution_count": null,
      "outputs": [
        {
          "output_type": "stream",
          "name": "stdout",
          "text": [
            "Fold 0\n",
            "Model: \"sequential\"\n",
            "_________________________________________________________________\n",
            " Layer (type)                Output Shape              Param #   \n",
            "=================================================================\n",
            " text_vectorization (TextVec  (None, 2000)             0         \n",
            " torization)                                                     \n",
            "                                                                 \n",
            " embedding (Embedding)       (None, 2000, 100)         5000000   \n",
            "                                                                 \n",
            " bidirectional (Bidirectiona  (None, 80)               45120     \n",
            " l)                                                              \n",
            "                                                                 \n",
            " dropout (Dropout)           (None, 80)                0         \n",
            "                                                                 \n",
            " dense (Dense)               (None, 3)                 243       \n",
            "                                                                 \n",
            "=================================================================\n",
            "Total params: 5,045,363\n",
            "Trainable params: 5,045,363\n",
            "Non-trainable params: 0\n",
            "_________________________________________________________________\n",
            "None\n",
            "Epoch 1/10\n",
            "70/70 [==============================] - 29s 294ms/step - loss: 3.3540 - accuracy: 0.5510 - val_loss: 2.3010 - val_accuracy: 0.7016\n",
            "Epoch 2/10\n",
            "70/70 [==============================] - 20s 280ms/step - loss: 1.7723 - accuracy: 0.6938 - val_loss: 1.4739 - val_accuracy: 0.6048\n",
            "Epoch 3/10\n",
            "70/70 [==============================] - 19s 277ms/step - loss: 1.2112 - accuracy: 0.8537 - val_loss: 1.1138 - val_accuracy: 0.8548\n",
            "Epoch 4/10\n",
            "70/70 [==============================] - 18s 259ms/step - loss: 0.9022 - accuracy: 0.9422 - val_loss: 0.9428 - val_accuracy: 0.9194\n",
            "Epoch 5/10\n",
            "70/70 [==============================] - 18s 261ms/step - loss: 0.7876 - accuracy: 0.9431 - val_loss: 0.8832 - val_accuracy: 0.9032\n",
            "Epoch 6/10\n",
            "70/70 [==============================] - 17s 243ms/step - loss: 0.6763 - accuracy: 0.9512 - val_loss: 0.8077 - val_accuracy: 0.8790\n",
            "Epoch 7/10\n",
            "70/70 [==============================] - 17s 249ms/step - loss: 0.6028 - accuracy: 0.9512 - val_loss: 0.7152 - val_accuracy: 0.8952\n",
            "Epoch 8/10\n",
            "70/70 [==============================] - 17s 244ms/step - loss: 0.5295 - accuracy: 0.9720 - val_loss: 0.6627 - val_accuracy: 0.8871\n",
            "Epoch 9/10\n",
            "70/70 [==============================] - 18s 255ms/step - loss: 0.4843 - accuracy: 0.9729 - val_loss: 0.6866 - val_accuracy: 0.8710\n",
            "Epoch 10/10\n",
            "70/70 [==============================] - 16s 229ms/step - loss: 0.4428 - accuracy: 0.9711 - val_loss: 0.5585 - val_accuracy: 0.9194\n",
            "4/4 [==============================] - 0s 51ms/step - loss: 0.5585 - accuracy: 0.9194\n",
            "4/4 [==============================] - 1s 47ms/step\n",
            "Fold 1\n",
            "Model: \"sequential_1\"\n",
            "_________________________________________________________________\n",
            " Layer (type)                Output Shape              Param #   \n",
            "=================================================================\n",
            " text_vectorization_1 (TextV  (None, 2000)             0         \n",
            " ectorization)                                                   \n",
            "                                                                 \n",
            " embedding_1 (Embedding)     (None, 2000, 100)         5000000   \n",
            "                                                                 \n",
            " bidirectional_1 (Bidirectio  (None, 80)               45120     \n",
            " nal)                                                            \n",
            "                                                                 \n",
            " dropout_1 (Dropout)         (None, 80)                0         \n",
            "                                                                 \n",
            " dense_1 (Dense)             (None, 3)                 243       \n",
            "                                                                 \n",
            "=================================================================\n",
            "Total params: 5,045,363\n",
            "Trainable params: 5,045,363\n",
            "Non-trainable params: 0\n",
            "_________________________________________________________________\n",
            "None\n",
            "Epoch 1/10\n",
            "70/70 [==============================] - 23s 286ms/step - loss: 3.3673 - accuracy: 0.5370 - val_loss: 2.2277 - val_accuracy: 0.6260\n",
            "Epoch 2/10\n",
            "70/70 [==============================] - 18s 258ms/step - loss: 1.8322 - accuracy: 0.6480 - val_loss: 1.5389 - val_accuracy: 0.6341\n",
            "Epoch 3/10\n",
            "70/70 [==============================] - 19s 275ms/step - loss: 1.2858 - accuracy: 0.7671 - val_loss: 1.2059 - val_accuracy: 0.7398\n",
            "Epoch 4/10\n",
            "70/70 [==============================] - 18s 256ms/step - loss: 0.9474 - accuracy: 0.9314 - val_loss: 0.9531 - val_accuracy: 0.9350\n",
            "Epoch 5/10\n",
            "70/70 [==============================] - 18s 259ms/step - loss: 0.7553 - accuracy: 0.9675 - val_loss: 0.8230 - val_accuracy: 0.9268\n",
            "Epoch 6/10\n",
            "70/70 [==============================] - 17s 244ms/step - loss: 0.6436 - accuracy: 0.9765 - val_loss: 0.7472 - val_accuracy: 0.9024\n",
            "Epoch 7/10\n",
            "70/70 [==============================] - 16s 235ms/step - loss: 0.5507 - accuracy: 0.9783 - val_loss: 0.6782 - val_accuracy: 0.8943\n",
            "Epoch 8/10\n",
            "70/70 [==============================] - 16s 234ms/step - loss: 0.4931 - accuracy: 0.9783 - val_loss: 0.6513 - val_accuracy: 0.9268\n",
            "Epoch 9/10\n",
            "70/70 [==============================] - 16s 232ms/step - loss: 0.4373 - accuracy: 0.9783 - val_loss: 0.5268 - val_accuracy: 0.9512\n",
            "Epoch 10/10\n",
            "70/70 [==============================] - 16s 228ms/step - loss: 0.3904 - accuracy: 0.9738 - val_loss: 0.5134 - val_accuracy: 0.9512\n",
            "4/4 [==============================] - 0s 76ms/step - loss: 0.5134 - accuracy: 0.9512\n",
            "4/4 [==============================] - 1s 53ms/step\n",
            "Fold 2\n",
            "Model: \"sequential_2\"\n",
            "_________________________________________________________________\n",
            " Layer (type)                Output Shape              Param #   \n",
            "=================================================================\n",
            " text_vectorization_2 (TextV  (None, 2000)             0         \n",
            " ectorization)                                                   \n",
            "                                                                 \n",
            " embedding_2 (Embedding)     (None, 2000, 100)         5000000   \n",
            "                                                                 \n",
            " bidirectional_2 (Bidirectio  (None, 80)               45120     \n",
            " nal)                                                            \n",
            "                                                                 \n",
            " dropout_2 (Dropout)         (None, 80)                0         \n",
            "                                                                 \n",
            " dense_2 (Dense)             (None, 3)                 243       \n",
            "                                                                 \n",
            "=================================================================\n",
            "Total params: 5,045,363\n",
            "Trainable params: 5,045,363\n",
            "Non-trainable params: 0\n",
            "_________________________________________________________________\n",
            "None\n",
            "Epoch 1/10\n",
            "70/70 [==============================] - 23s 280ms/step - loss: 3.3771 - accuracy: 0.5812 - val_loss: 2.3585 - val_accuracy: 0.6992\n",
            "Epoch 2/10\n",
            "70/70 [==============================] - 18s 261ms/step - loss: 1.7558 - accuracy: 0.7626 - val_loss: 1.3972 - val_accuracy: 0.7805\n",
            "Epoch 3/10\n",
            "70/70 [==============================] - 17s 249ms/step - loss: 1.0875 - accuracy: 0.9034 - val_loss: 1.2482 - val_accuracy: 0.7805\n",
            "Epoch 4/10\n",
            "70/70 [==============================] - 18s 264ms/step - loss: 0.7964 - accuracy: 0.9702 - val_loss: 0.9679 - val_accuracy: 0.8780\n",
            "Epoch 5/10\n",
            "70/70 [==============================] - 17s 246ms/step - loss: 0.6606 - accuracy: 0.9810 - val_loss: 0.8520 - val_accuracy: 0.8537\n",
            "Epoch 6/10\n",
            "70/70 [==============================] - 16s 227ms/step - loss: 0.6026 - accuracy: 0.9792 - val_loss: 0.9206 - val_accuracy: 0.8618\n",
            "Epoch 7/10\n",
            "70/70 [==============================] - 16s 229ms/step - loss: 0.5265 - accuracy: 0.9810 - val_loss: 0.9525 - val_accuracy: 0.8130\n",
            "Epoch 8/10\n",
            "70/70 [==============================] - 15s 221ms/step - loss: 0.4944 - accuracy: 0.9819 - val_loss: 0.7952 - val_accuracy: 0.8699\n",
            "Epoch 9/10\n",
            "70/70 [==============================] - 16s 228ms/step - loss: 0.4274 - accuracy: 0.9829 - val_loss: 0.6390 - val_accuracy: 0.9024\n",
            "Epoch 10/10\n",
            "70/70 [==============================] - 16s 229ms/step - loss: 0.4189 - accuracy: 0.9801 - val_loss: 0.6714 - val_accuracy: 0.8943\n",
            "4/4 [==============================] - 0s 76ms/step - loss: 0.6714 - accuracy: 0.8943\n",
            "4/4 [==============================] - 1s 50ms/step\n",
            "Fold 3\n",
            "Model: \"sequential_3\"\n",
            "_________________________________________________________________\n",
            " Layer (type)                Output Shape              Param #   \n",
            "=================================================================\n",
            " text_vectorization_3 (TextV  (None, 2000)             0         \n",
            " ectorization)                                                   \n",
            "                                                                 \n",
            " embedding_3 (Embedding)     (None, 2000, 100)         5000000   \n",
            "                                                                 \n",
            " bidirectional_3 (Bidirectio  (None, 80)               45120     \n",
            " nal)                                                            \n",
            "                                                                 \n",
            " dropout_3 (Dropout)         (None, 80)                0         \n",
            "                                                                 \n",
            " dense_3 (Dense)             (None, 3)                 243       \n",
            "                                                                 \n",
            "=================================================================\n",
            "Total params: 5,045,363\n",
            "Trainable params: 5,045,363\n",
            "Non-trainable params: 0\n",
            "_________________________________________________________________\n",
            "None\n",
            "Epoch 1/10\n",
            "70/70 [==============================] - 23s 276ms/step - loss: 3.3554 - accuracy: 0.5884 - val_loss: 2.4175 - val_accuracy: 0.6016\n",
            "Epoch 2/10\n",
            "70/70 [==============================] - 17s 249ms/step - loss: 1.6724 - accuracy: 0.8430 - val_loss: 1.4806 - val_accuracy: 0.7236\n",
            "Epoch 3/10\n",
            "70/70 [==============================] - 18s 254ms/step - loss: 1.0034 - accuracy: 0.9431 - val_loss: 1.3104 - val_accuracy: 0.7886\n",
            "Epoch 4/10\n",
            "70/70 [==============================] - 17s 242ms/step - loss: 0.8153 - accuracy: 0.9594 - val_loss: 1.2188 - val_accuracy: 0.7724\n",
            "Epoch 5/10\n",
            "70/70 [==============================] - 17s 239ms/step - loss: 0.7302 - accuracy: 0.9612 - val_loss: 1.1821 - val_accuracy: 0.7724\n",
            "Epoch 6/10\n",
            "70/70 [==============================] - 15s 215ms/step - loss: 0.6504 - accuracy: 0.9603 - val_loss: 1.1824 - val_accuracy: 0.7967\n",
            "Epoch 7/10\n",
            "70/70 [==============================] - 16s 223ms/step - loss: 0.7329 - accuracy: 0.9468 - val_loss: 1.1291 - val_accuracy: 0.7642\n",
            "Epoch 8/10\n",
            "70/70 [==============================] - 15s 222ms/step - loss: 0.5723 - accuracy: 0.9585 - val_loss: 0.9753 - val_accuracy: 0.7805\n",
            "Epoch 9/10\n",
            "70/70 [==============================] - 16s 228ms/step - loss: 0.4912 - accuracy: 0.9621 - val_loss: 0.9593 - val_accuracy: 0.7967\n",
            "Epoch 10/10\n",
            "70/70 [==============================] - 15s 218ms/step - loss: 0.4346 - accuracy: 0.9630 - val_loss: 0.8889 - val_accuracy: 0.8049\n",
            "4/4 [==============================] - 0s 83ms/step - loss: 0.8889 - accuracy: 0.8049\n",
            "4/4 [==============================] - 1s 55ms/step\n",
            "Fold 4\n",
            "Model: \"sequential_4\"\n",
            "_________________________________________________________________\n",
            " Layer (type)                Output Shape              Param #   \n",
            "=================================================================\n",
            " text_vectorization_4 (TextV  (None, 2000)             0         \n",
            " ectorization)                                                   \n",
            "                                                                 \n",
            " embedding_4 (Embedding)     (None, 2000, 100)         5000000   \n",
            "                                                                 \n",
            " bidirectional_4 (Bidirectio  (None, 80)               45120     \n",
            " nal)                                                            \n",
            "                                                                 \n",
            " dropout_4 (Dropout)         (None, 80)                0         \n",
            "                                                                 \n",
            " dense_4 (Dense)             (None, 3)                 243       \n",
            "                                                                 \n",
            "=================================================================\n",
            "Total params: 5,045,363\n",
            "Trainable params: 5,045,363\n",
            "Non-trainable params: 0\n",
            "_________________________________________________________________\n",
            "None\n",
            "Epoch 1/10\n",
            "70/70 [==============================] - 23s 267ms/step - loss: 3.3626 - accuracy: 0.5641 - val_loss: 2.4399 - val_accuracy: 0.5691\n",
            "Epoch 2/10\n",
            "70/70 [==============================] - 17s 243ms/step - loss: 1.7746 - accuracy: 0.6742 - val_loss: 1.3353 - val_accuracy: 0.7561\n",
            "Epoch 3/10\n",
            "70/70 [==============================] - 17s 237ms/step - loss: 1.0474 - accuracy: 0.9097 - val_loss: 1.1323 - val_accuracy: 0.8293\n",
            "Epoch 4/10\n",
            "70/70 [==============================] - 16s 225ms/step - loss: 0.7818 - accuracy: 0.9639 - val_loss: 0.9544 - val_accuracy: 0.8862\n",
            "Epoch 5/10\n",
            "70/70 [==============================] - 16s 235ms/step - loss: 0.6938 - accuracy: 0.9675 - val_loss: 1.0052 - val_accuracy: 0.8455\n",
            "Epoch 6/10\n",
            "70/70 [==============================] - 15s 220ms/step - loss: 0.6086 - accuracy: 0.9810 - val_loss: 0.8198 - val_accuracy: 0.8862\n",
            "Epoch 7/10\n",
            "70/70 [==============================] - 15s 207ms/step - loss: 0.5330 - accuracy: 0.9810 - val_loss: 0.8786 - val_accuracy: 0.8699\n",
            "Epoch 8/10\n",
            "70/70 [==============================] - 16s 225ms/step - loss: 0.4827 - accuracy: 0.9774 - val_loss: 0.8845 - val_accuracy: 0.8455\n",
            "Epoch 9/10\n",
            "70/70 [==============================] - 15s 211ms/step - loss: 0.4480 - accuracy: 0.9765 - val_loss: 0.6949 - val_accuracy: 0.8862\n",
            "Epoch 10/10\n",
            "70/70 [==============================] - 14s 199ms/step - loss: 0.3833 - accuracy: 0.9838 - val_loss: 0.6152 - val_accuracy: 0.9024\n",
            "4/4 [==============================] - 0s 79ms/step - loss: 0.6152 - accuracy: 0.9024\n",
            "4/4 [==============================] - 1s 51ms/step\n",
            "Fold 5\n",
            "Model: \"sequential_5\"\n",
            "_________________________________________________________________\n",
            " Layer (type)                Output Shape              Param #   \n",
            "=================================================================\n",
            " text_vectorization_5 (TextV  (None, 2000)             0         \n",
            " ectorization)                                                   \n",
            "                                                                 \n",
            " embedding_5 (Embedding)     (None, 2000, 100)         5000000   \n",
            "                                                                 \n",
            " bidirectional_5 (Bidirectio  (None, 80)               45120     \n",
            " nal)                                                            \n",
            "                                                                 \n",
            " dropout_5 (Dropout)         (None, 80)                0         \n",
            "                                                                 \n",
            " dense_5 (Dense)             (None, 3)                 243       \n",
            "                                                                 \n",
            "=================================================================\n",
            "Total params: 5,045,363\n",
            "Trainable params: 5,045,363\n",
            "Non-trainable params: 0\n",
            "_________________________________________________________________\n",
            "None\n",
            "Epoch 1/10\n",
            "70/70 [==============================] - 21s 258ms/step - loss: 3.3554 - accuracy: 0.5596 - val_loss: 2.3922 - val_accuracy: 0.5691\n",
            "Epoch 2/10\n",
            "70/70 [==============================] - 17s 240ms/step - loss: 1.7330 - accuracy: 0.7238 - val_loss: 1.3178 - val_accuracy: 0.7967\n",
            "Epoch 3/10\n",
            "70/70 [==============================] - 16s 234ms/step - loss: 1.0943 - accuracy: 0.8935 - val_loss: 1.2150 - val_accuracy: 0.7480\n",
            "Epoch 4/10\n",
            "70/70 [==============================] - 16s 235ms/step - loss: 0.8337 - accuracy: 0.9422 - val_loss: 0.9106 - val_accuracy: 0.8943\n",
            "Epoch 5/10\n",
            "70/70 [==============================] - 16s 224ms/step - loss: 0.6940 - accuracy: 0.9675 - val_loss: 0.8149 - val_accuracy: 0.9187\n",
            "Epoch 6/10\n",
            "70/70 [==============================] - 15s 214ms/step - loss: 0.5960 - accuracy: 0.9738 - val_loss: 1.0350 - val_accuracy: 0.7967\n",
            "Epoch 7/10\n",
            "70/70 [==============================] - 15s 217ms/step - loss: 0.5262 - accuracy: 0.9765 - val_loss: 0.7499 - val_accuracy: 0.8455\n",
            "Epoch 8/10\n",
            "70/70 [==============================] - 16s 227ms/step - loss: 0.4716 - accuracy: 0.9747 - val_loss: 0.6435 - val_accuracy: 0.9024\n",
            "Epoch 9/10\n",
            "70/70 [==============================] - 14s 203ms/step - loss: 0.4076 - accuracy: 0.9765 - val_loss: 0.5852 - val_accuracy: 0.8862\n",
            "Epoch 10/10\n",
            "70/70 [==============================] - 14s 197ms/step - loss: 0.3628 - accuracy: 0.9774 - val_loss: 0.6185 - val_accuracy: 0.8618\n",
            "4/4 [==============================] - 0s 85ms/step - loss: 0.6185 - accuracy: 0.8618\n",
            "4/4 [==============================] - 1s 50ms/step\n",
            "Fold 6\n",
            "Model: \"sequential_6\"\n",
            "_________________________________________________________________\n",
            " Layer (type)                Output Shape              Param #   \n",
            "=================================================================\n",
            " text_vectorization_6 (TextV  (None, 2000)             0         \n",
            " ectorization)                                                   \n",
            "                                                                 \n",
            " embedding_6 (Embedding)     (None, 2000, 100)         5000000   \n",
            "                                                                 \n",
            " bidirectional_6 (Bidirectio  (None, 80)               45120     \n",
            " nal)                                                            \n",
            "                                                                 \n",
            " dropout_6 (Dropout)         (None, 80)                0         \n",
            "                                                                 \n",
            " dense_6 (Dense)             (None, 3)                 243       \n",
            "                                                                 \n",
            "=================================================================\n",
            "Total params: 5,045,363\n",
            "Trainable params: 5,045,363\n",
            "Non-trainable params: 0\n",
            "_________________________________________________________________\n",
            "None\n",
            "Epoch 1/10\n",
            "70/70 [==============================] - 22s 257ms/step - loss: 3.3859 - accuracy: 0.5460 - val_loss: 2.3475 - val_accuracy: 0.6911\n",
            "Epoch 2/10\n",
            "70/70 [==============================] - 17s 240ms/step - loss: 1.7836 - accuracy: 0.7437 - val_loss: 1.3758 - val_accuracy: 0.7886\n",
            "Epoch 3/10\n",
            "70/70 [==============================] - 16s 233ms/step - loss: 1.0685 - accuracy: 0.9215 - val_loss: 1.1269 - val_accuracy: 0.8699\n",
            "Epoch 4/10\n",
            "70/70 [==============================] - 16s 229ms/step - loss: 0.8434 - accuracy: 0.9513 - val_loss: 1.0012 - val_accuracy: 0.8699\n",
            "Epoch 5/10\n",
            "70/70 [==============================] - 16s 222ms/step - loss: 0.7254 - accuracy: 0.9558 - val_loss: 1.0438 - val_accuracy: 0.7724\n",
            "Epoch 6/10\n",
            "70/70 [==============================] - 15s 216ms/step - loss: 0.6250 - accuracy: 0.9711 - val_loss: 0.8629 - val_accuracy: 0.8862\n",
            "Epoch 7/10\n",
            "70/70 [==============================] - 15s 220ms/step - loss: 0.5493 - accuracy: 0.9720 - val_loss: 0.8147 - val_accuracy: 0.8780\n",
            "Epoch 8/10\n",
            "70/70 [==============================] - 15s 212ms/step - loss: 0.5098 - accuracy: 0.9657 - val_loss: 0.7389 - val_accuracy: 0.8943\n",
            "Epoch 9/10\n",
            "70/70 [==============================] - 13s 192ms/step - loss: 0.4443 - accuracy: 0.9819 - val_loss: 0.7902 - val_accuracy: 0.8699\n",
            "Epoch 10/10\n",
            "70/70 [==============================] - 15s 215ms/step - loss: 0.4002 - accuracy: 0.9783 - val_loss: 0.6678 - val_accuracy: 0.8943\n",
            "4/4 [==============================] - 0s 80ms/step - loss: 0.6678 - accuracy: 0.8943\n",
            "4/4 [==============================] - 1s 49ms/step\n",
            "Fold 7\n",
            "Model: \"sequential_7\"\n",
            "_________________________________________________________________\n",
            " Layer (type)                Output Shape              Param #   \n",
            "=================================================================\n",
            " text_vectorization_7 (TextV  (None, 2000)             0         \n",
            " ectorization)                                                   \n",
            "                                                                 \n",
            " embedding_7 (Embedding)     (None, 2000, 100)         5000000   \n",
            "                                                                 \n",
            " bidirectional_7 (Bidirectio  (None, 80)               45120     \n",
            " nal)                                                            \n",
            "                                                                 \n",
            " dropout_7 (Dropout)         (None, 80)                0         \n",
            "                                                                 \n",
            " dense_7 (Dense)             (None, 3)                 243       \n",
            "                                                                 \n",
            "=================================================================\n",
            "Total params: 5,045,363\n",
            "Trainable params: 5,045,363\n",
            "Non-trainable params: 0\n",
            "_________________________________________________________________\n",
            "None\n",
            "Epoch 1/10\n",
            "70/70 [==============================] - 21s 253ms/step - loss: 3.3829 - accuracy: 0.5532 - val_loss: 2.3039 - val_accuracy: 0.6098\n",
            "Epoch 2/10\n",
            "70/70 [==============================] - 17s 238ms/step - loss: 1.7832 - accuracy: 0.6805 - val_loss: 1.4674 - val_accuracy: 0.6992\n",
            "Epoch 3/10\n",
            "70/70 [==============================] - 17s 248ms/step - loss: 1.2794 - accuracy: 0.7870 - val_loss: 1.6092 - val_accuracy: 0.5610\n",
            "Epoch 4/10\n",
            "70/70 [==============================] - 16s 225ms/step - loss: 1.0812 - accuracy: 0.9224 - val_loss: 1.2873 - val_accuracy: 0.7642\n",
            "Epoch 5/10\n",
            "70/70 [==============================] - 15s 207ms/step - loss: 0.8663 - accuracy: 0.9522 - val_loss: 1.1061 - val_accuracy: 0.8374\n",
            "Epoch 6/10\n",
            "70/70 [==============================] - 15s 219ms/step - loss: 0.7659 - accuracy: 0.9567 - val_loss: 1.0184 - val_accuracy: 0.8374\n",
            "Epoch 7/10\n",
            "70/70 [==============================] - 16s 226ms/step - loss: 0.6927 - accuracy: 0.9684 - val_loss: 0.9973 - val_accuracy: 0.8374\n",
            "Epoch 8/10\n",
            "70/70 [==============================] - 16s 224ms/step - loss: 0.6304 - accuracy: 0.9792 - val_loss: 0.9164 - val_accuracy: 0.8537\n",
            "Epoch 9/10\n",
            "70/70 [==============================] - 14s 197ms/step - loss: 0.5740 - accuracy: 0.9856 - val_loss: 0.9157 - val_accuracy: 0.8537\n",
            "Epoch 10/10\n",
            "70/70 [==============================] - 15s 212ms/step - loss: 0.5323 - accuracy: 0.9847 - val_loss: 0.8688 - val_accuracy: 0.8130\n",
            "4/4 [==============================] - 0s 77ms/step - loss: 0.8688 - accuracy: 0.8130\n",
            "4/4 [==============================] - 1s 50ms/step\n",
            "Fold 8\n",
            "Model: \"sequential_8\"\n",
            "_________________________________________________________________\n",
            " Layer (type)                Output Shape              Param #   \n",
            "=================================================================\n",
            " text_vectorization_8 (TextV  (None, 2000)             0         \n",
            " ectorization)                                                   \n",
            "                                                                 \n",
            " embedding_8 (Embedding)     (None, 2000, 100)         5000000   \n",
            "                                                                 \n",
            " bidirectional_8 (Bidirectio  (None, 80)               45120     \n",
            " nal)                                                            \n",
            "                                                                 \n",
            " dropout_8 (Dropout)         (None, 80)                0         \n",
            "                                                                 \n",
            " dense_8 (Dense)             (None, 3)                 243       \n",
            "                                                                 \n",
            "=================================================================\n",
            "Total params: 5,045,363\n",
            "Trainable params: 5,045,363\n",
            "Non-trainable params: 0\n",
            "_________________________________________________________________\n",
            "None\n",
            "Epoch 1/10\n",
            "70/70 [==============================] - 21s 257ms/step - loss: 3.3735 - accuracy: 0.5460 - val_loss: 2.4020 - val_accuracy: 0.5528\n",
            "Epoch 2/10\n",
            "70/70 [==============================] - 16s 226ms/step - loss: 1.7337 - accuracy: 0.7121 - val_loss: 1.2966 - val_accuracy: 0.6748\n",
            "Epoch 3/10\n",
            "70/70 [==============================] - 16s 235ms/step - loss: 1.0711 - accuracy: 0.8890 - val_loss: 1.6553 - val_accuracy: 0.6179\n",
            "Epoch 4/10\n",
            "70/70 [==============================] - 15s 219ms/step - loss: 1.3417 - accuracy: 0.7644 - val_loss: 1.3444 - val_accuracy: 0.7154\n",
            "Epoch 5/10\n",
            "70/70 [==============================] - 16s 228ms/step - loss: 1.0516 - accuracy: 0.8736 - val_loss: 1.0958 - val_accuracy: 0.8293\n",
            "Epoch 6/10\n",
            "70/70 [==============================] - 15s 212ms/step - loss: 0.8984 - accuracy: 0.8998 - val_loss: 1.0053 - val_accuracy: 0.8618\n",
            "Epoch 7/10\n",
            "70/70 [==============================] - 16s 222ms/step - loss: 0.9116 - accuracy: 0.8881 - val_loss: 1.0367 - val_accuracy: 0.8374\n",
            "Epoch 8/10\n",
            "70/70 [==============================] - 14s 202ms/step - loss: 1.2137 - accuracy: 0.8321 - val_loss: 1.2448 - val_accuracy: 0.8130\n",
            "Epoch 9/10\n",
            "70/70 [==============================] - 13s 187ms/step - loss: 0.9488 - accuracy: 0.9034 - val_loss: 1.0659 - val_accuracy: 0.8211\n",
            "Epoch 10/10\n",
            "70/70 [==============================] - 14s 198ms/step - loss: 0.8001 - accuracy: 0.9125 - val_loss: 1.0356 - val_accuracy: 0.8293\n",
            "4/4 [==============================] - 0s 77ms/step - loss: 1.0356 - accuracy: 0.8293\n",
            "4/4 [==============================] - 1s 49ms/step\n",
            "Fold 9\n",
            "Model: \"sequential_9\"\n",
            "_________________________________________________________________\n",
            " Layer (type)                Output Shape              Param #   \n",
            "=================================================================\n",
            " text_vectorization_9 (TextV  (None, 2000)             0         \n",
            " ectorization)                                                   \n",
            "                                                                 \n",
            " embedding_9 (Embedding)     (None, 2000, 100)         5000000   \n",
            "                                                                 \n",
            " bidirectional_9 (Bidirectio  (None, 80)               45120     \n",
            " nal)                                                            \n",
            "                                                                 \n",
            " dropout_9 (Dropout)         (None, 80)                0         \n",
            "                                                                 \n",
            " dense_9 (Dense)             (None, 3)                 243       \n",
            "                                                                 \n",
            "=================================================================\n",
            "Total params: 5,045,363\n",
            "Trainable params: 5,045,363\n",
            "Non-trainable params: 0\n",
            "_________________________________________________________________\n",
            "None\n",
            "Epoch 1/10\n",
            "70/70 [==============================] - 21s 249ms/step - loss: 3.3571 - accuracy: 0.5614 - val_loss: 2.3747 - val_accuracy: 0.5528\n",
            "Epoch 2/10\n",
            "70/70 [==============================] - 16s 234ms/step - loss: 1.7292 - accuracy: 0.7491 - val_loss: 1.2670 - val_accuracy: 0.8049\n",
            "Epoch 3/10\n",
            "70/70 [==============================] - 16s 223ms/step - loss: 1.0318 - accuracy: 0.9079 - val_loss: 1.0262 - val_accuracy: 0.8780\n",
            "Epoch 4/10\n",
            "70/70 [==============================] - 16s 231ms/step - loss: 0.8341 - accuracy: 0.9504 - val_loss: 0.9015 - val_accuracy: 0.8780\n",
            "Epoch 5/10\n",
            "70/70 [==============================] - 16s 227ms/step - loss: 0.6918 - accuracy: 0.9693 - val_loss: 0.8010 - val_accuracy: 0.8943\n",
            "Epoch 6/10\n",
            "70/70 [==============================] - 15s 211ms/step - loss: 0.5774 - accuracy: 0.9774 - val_loss: 0.7618 - val_accuracy: 0.8862\n",
            "Epoch 7/10\n",
            "70/70 [==============================] - 15s 209ms/step - loss: 0.5117 - accuracy: 0.9738 - val_loss: 0.6805 - val_accuracy: 0.9187\n",
            "Epoch 8/10\n",
            "70/70 [==============================] - 14s 200ms/step - loss: 0.5095 - accuracy: 0.9711 - val_loss: 0.7254 - val_accuracy: 0.9024\n",
            "Epoch 9/10\n",
            "70/70 [==============================] - 15s 209ms/step - loss: 0.4555 - accuracy: 0.9729 - val_loss: 0.6529 - val_accuracy: 0.8699\n",
            "Epoch 10/10\n",
            "70/70 [==============================] - 13s 192ms/step - loss: 0.3782 - accuracy: 0.9792 - val_loss: 0.5672 - val_accuracy: 0.9431\n",
            "4/4 [==============================] - 0s 50ms/step - loss: 0.5672 - accuracy: 0.9431\n",
            "4/4 [==============================] - 1s 55ms/step\n"
          ]
        }
      ]
    },
    {
      "cell_type": "code",
      "source": [
        "cv_results"
      ],
      "metadata": {
        "id": "DRvFesw7av2A",
        "colab": {
          "base_uri": "https://localhost:8080/",
          "height": 363
        },
        "outputId": "afd50fa4-2954-4023-eef9-b1186080da2b"
      },
      "execution_count": null,
      "outputs": [
        {
          "output_type": "execute_result",
          "data": {
            "text/plain": [
              "     Recall Precision  F1 score  F2 score\n",
              "0  0.922705  0.927018  0.923611  0.922773\n",
              "1  0.945238  0.947459  0.945758  0.945301\n",
              "2   0.88836  0.897265  0.891364  0.889206\n",
              "3  0.816931  0.832393  0.815533   0.81428\n",
              "4  0.908466   0.90821  0.908034   0.90822\n",
              "5  0.855291  0.876923  0.860314  0.855844\n",
              "6  0.881746  0.893333  0.883802  0.881627\n",
              "7  0.812698  0.844653  0.814922  0.810183\n",
              "8  0.816719  0.813521   0.81406  0.815405\n",
              "9  0.936481  0.937372  0.936845  0.936607"
            ],
            "text/html": [
              "\n",
              "  <div id=\"df-d155ee50-bb89-431b-b080-d0005d4161f9\">\n",
              "    <div class=\"colab-df-container\">\n",
              "      <div>\n",
              "<style scoped>\n",
              "    .dataframe tbody tr th:only-of-type {\n",
              "        vertical-align: middle;\n",
              "    }\n",
              "\n",
              "    .dataframe tbody tr th {\n",
              "        vertical-align: top;\n",
              "    }\n",
              "\n",
              "    .dataframe thead th {\n",
              "        text-align: right;\n",
              "    }\n",
              "</style>\n",
              "<table border=\"1\" class=\"dataframe\">\n",
              "  <thead>\n",
              "    <tr style=\"text-align: right;\">\n",
              "      <th></th>\n",
              "      <th>Recall</th>\n",
              "      <th>Precision</th>\n",
              "      <th>F1 score</th>\n",
              "      <th>F2 score</th>\n",
              "    </tr>\n",
              "  </thead>\n",
              "  <tbody>\n",
              "    <tr>\n",
              "      <th>0</th>\n",
              "      <td>0.922705</td>\n",
              "      <td>0.927018</td>\n",
              "      <td>0.923611</td>\n",
              "      <td>0.922773</td>\n",
              "    </tr>\n",
              "    <tr>\n",
              "      <th>1</th>\n",
              "      <td>0.945238</td>\n",
              "      <td>0.947459</td>\n",
              "      <td>0.945758</td>\n",
              "      <td>0.945301</td>\n",
              "    </tr>\n",
              "    <tr>\n",
              "      <th>2</th>\n",
              "      <td>0.88836</td>\n",
              "      <td>0.897265</td>\n",
              "      <td>0.891364</td>\n",
              "      <td>0.889206</td>\n",
              "    </tr>\n",
              "    <tr>\n",
              "      <th>3</th>\n",
              "      <td>0.816931</td>\n",
              "      <td>0.832393</td>\n",
              "      <td>0.815533</td>\n",
              "      <td>0.81428</td>\n",
              "    </tr>\n",
              "    <tr>\n",
              "      <th>4</th>\n",
              "      <td>0.908466</td>\n",
              "      <td>0.90821</td>\n",
              "      <td>0.908034</td>\n",
              "      <td>0.90822</td>\n",
              "    </tr>\n",
              "    <tr>\n",
              "      <th>5</th>\n",
              "      <td>0.855291</td>\n",
              "      <td>0.876923</td>\n",
              "      <td>0.860314</td>\n",
              "      <td>0.855844</td>\n",
              "    </tr>\n",
              "    <tr>\n",
              "      <th>6</th>\n",
              "      <td>0.881746</td>\n",
              "      <td>0.893333</td>\n",
              "      <td>0.883802</td>\n",
              "      <td>0.881627</td>\n",
              "    </tr>\n",
              "    <tr>\n",
              "      <th>7</th>\n",
              "      <td>0.812698</td>\n",
              "      <td>0.844653</td>\n",
              "      <td>0.814922</td>\n",
              "      <td>0.810183</td>\n",
              "    </tr>\n",
              "    <tr>\n",
              "      <th>8</th>\n",
              "      <td>0.816719</td>\n",
              "      <td>0.813521</td>\n",
              "      <td>0.81406</td>\n",
              "      <td>0.815405</td>\n",
              "    </tr>\n",
              "    <tr>\n",
              "      <th>9</th>\n",
              "      <td>0.936481</td>\n",
              "      <td>0.937372</td>\n",
              "      <td>0.936845</td>\n",
              "      <td>0.936607</td>\n",
              "    </tr>\n",
              "  </tbody>\n",
              "</table>\n",
              "</div>\n",
              "      <button class=\"colab-df-convert\" onclick=\"convertToInteractive('df-d155ee50-bb89-431b-b080-d0005d4161f9')\"\n",
              "              title=\"Convert this dataframe to an interactive table.\"\n",
              "              style=\"display:none;\">\n",
              "        \n",
              "  <svg xmlns=\"http://www.w3.org/2000/svg\" height=\"24px\"viewBox=\"0 0 24 24\"\n",
              "       width=\"24px\">\n",
              "    <path d=\"M0 0h24v24H0V0z\" fill=\"none\"/>\n",
              "    <path d=\"M18.56 5.44l.94 2.06.94-2.06 2.06-.94-2.06-.94-.94-2.06-.94 2.06-2.06.94zm-11 1L8.5 8.5l.94-2.06 2.06-.94-2.06-.94L8.5 2.5l-.94 2.06-2.06.94zm10 10l.94 2.06.94-2.06 2.06-.94-2.06-.94-.94-2.06-.94 2.06-2.06.94z\"/><path d=\"M17.41 7.96l-1.37-1.37c-.4-.4-.92-.59-1.43-.59-.52 0-1.04.2-1.43.59L10.3 9.45l-7.72 7.72c-.78.78-.78 2.05 0 2.83L4 21.41c.39.39.9.59 1.41.59.51 0 1.02-.2 1.41-.59l7.78-7.78 2.81-2.81c.8-.78.8-2.07 0-2.86zM5.41 20L4 18.59l7.72-7.72 1.47 1.35L5.41 20z\"/>\n",
              "  </svg>\n",
              "      </button>\n",
              "      \n",
              "  <style>\n",
              "    .colab-df-container {\n",
              "      display:flex;\n",
              "      flex-wrap:wrap;\n",
              "      gap: 12px;\n",
              "    }\n",
              "\n",
              "    .colab-df-convert {\n",
              "      background-color: #E8F0FE;\n",
              "      border: none;\n",
              "      border-radius: 50%;\n",
              "      cursor: pointer;\n",
              "      display: none;\n",
              "      fill: #1967D2;\n",
              "      height: 32px;\n",
              "      padding: 0 0 0 0;\n",
              "      width: 32px;\n",
              "    }\n",
              "\n",
              "    .colab-df-convert:hover {\n",
              "      background-color: #E2EBFA;\n",
              "      box-shadow: 0px 1px 2px rgba(60, 64, 67, 0.3), 0px 1px 3px 1px rgba(60, 64, 67, 0.15);\n",
              "      fill: #174EA6;\n",
              "    }\n",
              "\n",
              "    [theme=dark] .colab-df-convert {\n",
              "      background-color: #3B4455;\n",
              "      fill: #D2E3FC;\n",
              "    }\n",
              "\n",
              "    [theme=dark] .colab-df-convert:hover {\n",
              "      background-color: #434B5C;\n",
              "      box-shadow: 0px 1px 3px 1px rgba(0, 0, 0, 0.15);\n",
              "      filter: drop-shadow(0px 1px 2px rgba(0, 0, 0, 0.3));\n",
              "      fill: #FFFFFF;\n",
              "    }\n",
              "  </style>\n",
              "\n",
              "      <script>\n",
              "        const buttonEl =\n",
              "          document.querySelector('#df-d155ee50-bb89-431b-b080-d0005d4161f9 button.colab-df-convert');\n",
              "        buttonEl.style.display =\n",
              "          google.colab.kernel.accessAllowed ? 'block' : 'none';\n",
              "\n",
              "        async function convertToInteractive(key) {\n",
              "          const element = document.querySelector('#df-d155ee50-bb89-431b-b080-d0005d4161f9');\n",
              "          const dataTable =\n",
              "            await google.colab.kernel.invokeFunction('convertToInteractive',\n",
              "                                                     [key], {});\n",
              "          if (!dataTable) return;\n",
              "\n",
              "          const docLinkHtml = 'Like what you see? Visit the ' +\n",
              "            '<a target=\"_blank\" href=https://colab.research.google.com/notebooks/data_table.ipynb>data table notebook</a>'\n",
              "            + ' to learn more about interactive tables.';\n",
              "          element.innerHTML = '';\n",
              "          dataTable['output_type'] = 'display_data';\n",
              "          await google.colab.output.renderOutput(dataTable, element);\n",
              "          const docLink = document.createElement('div');\n",
              "          docLink.innerHTML = docLinkHtml;\n",
              "          element.appendChild(docLink);\n",
              "        }\n",
              "      </script>\n",
              "    </div>\n",
              "  </div>\n",
              "  "
            ]
          },
          "metadata": {},
          "execution_count": 22
        }
      ]
    },
    {
      "cell_type": "code",
      "source": [
        "cv_results.mean()"
      ],
      "metadata": {
        "id": "1yRPc2xSawFo",
        "colab": {
          "base_uri": "https://localhost:8080/"
        },
        "outputId": "d615fb59-9118-4bb4-8e84-9b301ad49d5c"
      },
      "execution_count": null,
      "outputs": [
        {
          "output_type": "execute_result",
          "data": {
            "text/plain": [
              "Recall       0.878464\n",
              "Precision    0.887815\n",
              "F1 score     0.879424\n",
              "F2 score     0.877945\n",
              "dtype: float64"
            ]
          },
          "metadata": {},
          "execution_count": 23
        }
      ]
    },
    {
      "cell_type": "code",
      "source": [
        "def train_blstm(train_texts, train_labels, test_texts, test_labels):\n",
        "\n",
        "  blstm_model = create_blstm_model(train_texts)\n",
        "  \n",
        "  history = blstm_model.fit(train_texts,\n",
        "                            train_labels,\n",
        "                            epochs=10,\n",
        "                            batch_size=16,\n",
        "                            validation_data=(test_texts, test_labels))\n",
        "  \n",
        "  blstm_model.evaluate(test_texts, test_labels)\n",
        "  y_pred = np.round(blstm_model.predict(test_texts))\n",
        "\n",
        "  y_pred = np.argmax(y_pred, axis=1)\n",
        "\n",
        "  f1_sc = f1_score(test_labels, y_pred, average='macro')\n",
        "  f2score = fbeta_score(test_labels, y_pred, beta=2, average='macro')\n",
        "\n",
        "  print(\"Recall = {}\".format(recall_score(test_labels, y_pred, average='macro')))\n",
        "  print(\"Precision = {}\".format(precision_score(test_labels, y_pred, average='macro')))\n",
        "  print(\"F1 score = {}\".format(f1_sc))\n",
        "  print(\"F2 score = {}\".format(f2score))\n",
        "  print(classification_report(test_labels, y_pred))\n",
        "  \n",
        "  cm = confusion_matrix(test_labels, y_pred)\n",
        "\n",
        "  disp = ConfusionMatrixDisplay(confusion_matrix=cm, display_labels=[0,1,2])\n",
        "\n",
        "  disp.plot(cmap=plt.cm.Blues)\n",
        "  plt.show()\n",
        "\n",
        "  return f1_sc"
      ],
      "metadata": {
        "id": "SfFEKtmtC7on"
      },
      "execution_count": null,
      "outputs": []
    },
    {
      "cell_type": "code",
      "source": [
        "X_test = test_data['text'].values.reshape(-1, 1)"
      ],
      "metadata": {
        "id": "EJ3iOQ-VC_ZA"
      },
      "execution_count": null,
      "outputs": []
    },
    {
      "cell_type": "code",
      "source": [
        "y_test = test_data['label'].values"
      ],
      "metadata": {
        "id": "fLZGthf9DJgC"
      },
      "execution_count": null,
      "outputs": []
    },
    {
      "cell_type": "code",
      "source": [
        "aug_X_train = augmented_dataset['text'].values.reshape(-1, 1)"
      ],
      "metadata": {
        "id": "o-f4zldvDJYl"
      },
      "execution_count": null,
      "outputs": []
    },
    {
      "cell_type": "code",
      "source": [
        "aug_X_train.shape"
      ],
      "metadata": {
        "colab": {
          "base_uri": "https://localhost:8080/"
        },
        "id": "M_5rrhxVDJUE",
        "outputId": "5258f674-d361-40eb-cfcd-3a6671c41386"
      },
      "execution_count": null,
      "outputs": [
        {
          "output_type": "execute_result",
          "data": {
            "text/plain": [
              "(1231, 1)"
            ]
          },
          "metadata": {},
          "execution_count": 34
        }
      ]
    },
    {
      "cell_type": "code",
      "source": [
        "aug_y_train = augmented_dataset['label'].values.reshape(-1, 1)"
      ],
      "metadata": {
        "id": "CI1O_f-BDP6c"
      },
      "execution_count": null,
      "outputs": []
    },
    {
      "cell_type": "code",
      "source": [
        "aug_y_train.shape"
      ],
      "metadata": {
        "colab": {
          "base_uri": "https://localhost:8080/"
        },
        "id": "ZEtSK2xTDPxW",
        "outputId": "638f5d44-0555-4c1a-c35c-8b8949baca71"
      },
      "execution_count": null,
      "outputs": [
        {
          "output_type": "execute_result",
          "data": {
            "text/plain": [
              "(1231, 1)"
            ]
          },
          "metadata": {},
          "execution_count": 36
        }
      ]
    },
    {
      "cell_type": "code",
      "source": [
        "train_blstm(aug_X_train, aug_y_train, X_test, y_test)"
      ],
      "metadata": {
        "colab": {
          "base_uri": "https://localhost:8080/",
          "height": 1000
        },
        "id": "RKWd7slxHT_a",
        "outputId": "e9ae106c-a6e2-4f9a-aed4-f79129c5fc6d"
      },
      "execution_count": null,
      "outputs": [
        {
          "output_type": "stream",
          "name": "stdout",
          "text": [
            "Model: \"sequential\"\n",
            "_________________________________________________________________\n",
            " Layer (type)                Output Shape              Param #   \n",
            "=================================================================\n",
            " text_vectorization (TextVec  (None, 2000)             0         \n",
            " torization)                                                     \n",
            "                                                                 \n",
            " embedding (Embedding)       (None, 2000, 100)         5000000   \n",
            "                                                                 \n",
            " bidirectional (Bidirectiona  (None, 80)               45120     \n",
            " l)                                                              \n",
            "                                                                 \n",
            " dropout (Dropout)           (None, 80)                0         \n",
            "                                                                 \n",
            " dense (Dense)               (None, 3)                 243       \n",
            "                                                                 \n",
            "=================================================================\n",
            "Total params: 5,045,363\n",
            "Trainable params: 5,045,363\n",
            "Non-trainable params: 0\n",
            "_________________________________________________________________\n",
            "None\n",
            "Epoch 1/10\n",
            "77/77 [==============================] - 34s 322ms/step - loss: 3.2400 - accuracy: 0.5418 - val_loss: 2.1598 - val_accuracy: 0.6150\n",
            "Epoch 2/10\n",
            "77/77 [==============================] - 23s 304ms/step - loss: 1.6278 - accuracy: 0.7352 - val_loss: 1.2933 - val_accuracy: 0.7900\n",
            "Epoch 3/10\n",
            "77/77 [==============================] - 23s 302ms/step - loss: 1.1085 - accuracy: 0.8879 - val_loss: 1.1579 - val_accuracy: 0.7850\n",
            "Epoch 4/10\n",
            "77/77 [==============================] - 23s 299ms/step - loss: 0.8598 - accuracy: 0.9496 - val_loss: 1.1221 - val_accuracy: 0.7750\n",
            "Epoch 5/10\n",
            "77/77 [==============================] - 22s 289ms/step - loss: 0.7061 - accuracy: 0.9716 - val_loss: 1.1729 - val_accuracy: 0.7200\n",
            "Epoch 6/10\n",
            "77/77 [==============================] - 21s 276ms/step - loss: 0.6432 - accuracy: 0.9691 - val_loss: 1.0307 - val_accuracy: 0.7900\n",
            "Epoch 7/10\n",
            "77/77 [==============================] - 21s 277ms/step - loss: 0.5485 - accuracy: 0.9764 - val_loss: 0.9667 - val_accuracy: 0.7750\n",
            "Epoch 8/10\n",
            "77/77 [==============================] - 21s 270ms/step - loss: 0.5429 - accuracy: 0.9626 - val_loss: 0.9380 - val_accuracy: 0.7700\n",
            "Epoch 9/10\n",
            "77/77 [==============================] - 19s 250ms/step - loss: 0.4631 - accuracy: 0.9708 - val_loss: 0.9970 - val_accuracy: 0.7700\n",
            "Epoch 10/10\n",
            "77/77 [==============================] - 20s 265ms/step - loss: 0.4240 - accuracy: 0.9764 - val_loss: 0.8130 - val_accuracy: 0.7850\n",
            "7/7 [==============================] - 0s 51ms/step - loss: 0.8130 - accuracy: 0.7850\n",
            "7/7 [==============================] - 1s 48ms/step\n",
            "Recall = 0.7428507165349272\n",
            "Precision = 0.74719426125188\n",
            "F1 score = 0.7377102001021404\n",
            "F2 score = 0.7390512895917906\n",
            "              precision    recall  f1-score   support\n",
            "\n",
            "           0       0.57      0.73      0.64        52\n",
            "           1       1.00      0.99      0.99        91\n",
            "           2       0.67      0.51      0.58        57\n",
            "\n",
            "    accuracy                           0.79       200\n",
            "   macro avg       0.75      0.74      0.74       200\n",
            "weighted avg       0.79      0.79      0.78       200\n",
            "\n"
          ]
        },
        {
          "output_type": "display_data",
          "data": {
            "text/plain": [
              "<Figure size 640x480 with 2 Axes>"
            ],
            "image/png": "[encoded data removed]"
          },
          "metadata": {}
        },
        {
          "output_type": "execute_result",
          "data": {
            "text/plain": [
              "0.7377102001021404"
            ]
          },
          "metadata": {},
          "execution_count": 27
        }
      ]
    }
  ],
  "metadata": {
    "colab": {
      "machine_shape": "hm",
      "provenance": []
    },
    "gpuClass": "standard",
    "kernelspec": {
      "display_name": "Python 3",
      "name": "python3"
    },
    "language_info": {
      "name": "python"
    },
    "accelerator": "GPU"
  },
  "nbformat": 4,
  "nbformat_minor": 0
}